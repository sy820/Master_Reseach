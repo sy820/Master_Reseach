{
 "cells": [
  {
   "cell_type": "code",
   "execution_count": 1,
   "metadata": {
    "execution": {
     "iopub.execute_input": "2021-09-25T01:39:16.614224Z",
     "iopub.status.busy": "2021-09-25T01:39:16.613637Z",
     "iopub.status.idle": "2021-09-25T01:39:23.084012Z",
     "shell.execute_reply": "2021-09-25T01:39:23.083279Z",
     "shell.execute_reply.started": "2021-09-25T01:39:16.614189Z"
    },
    "papermill": {
     "duration": 2.094537,
     "end_time": "2021-08-04T01:25:18.881487",
     "exception": false,
     "start_time": "2021-08-04T01:25:16.78695",
     "status": "completed"
    },
    "tags": []
   },
   "outputs": [
    {
     "name": "stderr",
     "output_type": "stream",
     "text": [
      "/home/yamanaka/.pyenv/versions/anaconda3-2023.03/lib/python3.10/site-packages/torchvision/io/image.py:13: UserWarning: Failed to load image Python extension: /home/yamanaka/.pyenv/versions/anaconda3-2023.03/lib/python3.10/site-packages/torchvision/image.so: undefined symbol: _ZN5torch3jit17parseSchemaOrNameERKSs\n",
      "  warn(f\"Failed to load image Python extension: {e}\")\n"
     ]
    }
   ],
   "source": [
    "# ====================================================\n",
    "# Library\n",
    "# ====================================================\n",
    "import os\n",
    "import gc\n",
    "import sys\n",
    "import math\n",
    "import time\n",
    "import random\n",
    "import shutil\n",
    "from pathlib import Path\n",
    "from contextlib import contextmanager\n",
    "from collections import defaultdict, Counter\n",
    "\n",
    "import scipy as sp\n",
    "import numpy as np\n",
    "import pandas as pd\n",
    "from matplotlib import pyplot as plt\n",
    "import seaborn as sns\n",
    "\n",
    "from sklearn import preprocessing\n",
    "from sklearn.metrics import mean_squared_error\n",
    "from sklearn.model_selection import train_test_split, KFold, StratifiedKFold\n",
    "\n",
    "from tqdm.auto import tqdm\n",
    "from functools import partial\n",
    "\n",
    "import cv2\n",
    "from PIL import Image\n",
    "\n",
    "import torch\n",
    "import torch.nn as nn\n",
    "import torch.nn.functional as F\n",
    "from torch.optim import Adam, SGD\n",
    "import torchvision.models as models\n",
    "from torch.nn.parameter import Parameter\n",
    "from torch.utils.data import DataLoader, Dataset\n",
    "from torch.optim.lr_scheduler import CosineAnnealingWarmRestarts, CosineAnnealingLR, ReduceLROnPlateau\n",
    "\n",
    "import albumentations as A\n",
    "from albumentations.pytorch import ToTensorV2\n",
    "from albumentations import ImageOnlyTransform\n",
    "\n",
    "from pytorch_grad_cam.utils.model_targets import ClassifierOutputTarget\n",
    "from pytorch_grad_cam.utils.image import show_cam_on_image\n",
    "from pytorch_grad_cam import GradCAM, ScoreCAM, GradCAMPlusPlus, AblationCAM, XGradCAM, EigenCAM\n",
    "\n",
    "sys.path.append('../input/pytorch-image-models/pytorch-image-models-master')\n",
    "import timm\n",
    "\n",
    "from torch.cuda.amp import autocast, GradScaler\n",
    "\n",
    "import warnings\n",
    "warnings.filterwarnings('ignore')\n",
    "\n",
    "device = torch.device('cuda:2' if torch.cuda.is_available() else 'cpu')"
   ]
  },
  {
   "cell_type": "code",
   "execution_count": 2,
   "metadata": {
    "execution": {
     "iopub.execute_input": "2021-09-25T01:39:16.60086Z",
     "iopub.status.busy": "2021-09-25T01:39:16.600379Z",
     "iopub.status.idle": "2021-09-25T01:39:16.612052Z",
     "shell.execute_reply": "2021-09-25T01:39:16.611405Z",
     "shell.execute_reply.started": "2021-09-25T01:39:16.600826Z"
    },
    "papermill": {
     "duration": 0.04513,
     "end_time": "2021-08-04T01:25:16.683443",
     "exception": false,
     "start_time": "2021-08-04T01:25:16.638313",
     "status": "completed"
    },
    "tags": []
   },
   "outputs": [],
   "source": [
    "# ====================================================\n",
    "# CFG\n",
    "# ====================================================\n",
    "class CFG:\n",
    "    apex=False\n",
    "    debug=False\n",
    "    print_freq=10\n",
    "    num_workers=0\n",
    "    size=224\n",
    "    model_name='vgg16'\n",
    "    scheduler='CosineAnnealingLR' # ['ReduceLROnPlateau', 'CosineAnnealingLR', 'CosineAnnealingWarmRestarts']\n",
    "    epochs=40\n",
    "    #factor=0.2 # ReduceLROnPlateau\n",
    "    #patience=4 # ReduceLROnPlateau\n",
    "    #eps=1e-6 # ReduceLROnPlateau\n",
    "    T_max=3 # CosineAnnealingLR\n",
    "    #T_0=3 # CosineAnnealingWarmRestarts\n",
    "    lr=1e-4\n",
    "    min_lr=1e-6\n",
    "    batch_size=32\n",
    "    weight_decay=1e-6\n",
    "    gradient_accumulation_steps=1\n",
    "    max_grad_norm=1000\n",
    "    # seed = [18, 24]\n",
    "    # seed= [19, 23, 34, 40, 56, 77, 88, 99, 12, 23, 34, 45, 56, 67, 78, 89]\n",
    "    seed= [42, 10, 20, 51, 111]\n",
    "    target_size=1\n",
    "    target_col='KIc'\n",
    "    n_fold=5\n",
    "    trn_fold=[i for i in range(n_fold)]\n",
    "    kfold=\"Kfold\" #or Kfold\n",
    "    train=True\n",
    "    grad_cam=False\n",
    "\n",
    "# ====================================================\n",
    "# Directory settings\n",
    "# ====================================================\n",
    "import os\n",
    "\n",
    "OUTPUT_DIR = './KIc/Model/vgg/'\n",
    "if not os.path.exists(OUTPUT_DIR):\n",
    "    os.makedirs(OUTPUT_DIR)"
   ]
  },
  {
   "cell_type": "code",
   "execution_count": 3,
   "metadata": {
    "execution": {
     "iopub.execute_input": "2021-09-25T01:39:30.703234Z",
     "iopub.status.busy": "2021-09-25T01:39:30.7011Z",
     "iopub.status.idle": "2021-09-25T01:39:30.720295Z",
     "shell.execute_reply": "2021-09-25T01:39:30.719608Z",
     "shell.execute_reply.started": "2021-09-25T01:39:30.703189Z"
    },
    "papermill": {
     "duration": 0.078664,
     "end_time": "2021-08-04T01:25:27.284121",
     "exception": false,
     "start_time": "2021-08-04T01:25:27.205457",
     "status": "completed"
    },
    "tags": []
   },
   "outputs": [],
   "source": [
    "# ====================================================\n",
    "# Utils\n",
    "# ====================================================\n",
    "def get_score(y_true, y_pred):\n",
    "    score = mean_squared_error(y_true, y_pred, squared=False) # RMSE\n",
    "    return score\n",
    "\n",
    "\n",
    "def init_logger(log_file=OUTPUT_DIR+'train.log'):\n",
    "    from logging import getLogger, INFO, FileHandler,  Formatter,  StreamHandler\n",
    "    logger = getLogger(__name__)\n",
    "    logger.setLevel(INFO)\n",
    "    handler1 = StreamHandler()\n",
    "    handler1.setFormatter(Formatter(\"%(message)s\"))\n",
    "    handler2 = FileHandler(filename=log_file)\n",
    "    handler2.setFormatter(Formatter(\"%(message)s\"))\n",
    "    logger.addHandler(handler1)\n",
    "    logger.addHandler(handler2)\n",
    "    return logger\n",
    "\n",
    "LOGGER = init_logger()\n",
    "\n",
    "\n",
    "def seed_torch(seed=42):\n",
    "    random.seed(seed)\n",
    "    os.environ['PYTHONHASHSEED'] = str(seed)\n",
    "    np.random.seed(seed)\n",
    "    torch.manual_seed(seed)\n",
    "    torch.cuda.manual_seed(seed)\n",
    "    torch.backends.cudnn.benchmark = False\n",
    "    torch.backends.cudnn.deterministic = True\n"
   ]
  },
  {
   "cell_type": "code",
   "execution_count": 4,
   "metadata": {
    "execution": {
     "iopub.execute_input": "2021-09-25T01:39:30.793168Z",
     "iopub.status.busy": "2021-09-25T01:39:30.79291Z",
     "iopub.status.idle": "2021-09-25T01:39:30.812349Z",
     "shell.execute_reply": "2021-09-25T01:39:30.81166Z",
     "shell.execute_reply.started": "2021-09-25T01:39:30.793134Z"
    },
    "papermill": {
     "duration": 0.045394,
     "end_time": "2021-08-04T01:25:27.976623",
     "exception": false,
     "start_time": "2021-08-04T01:25:27.931229",
     "status": "completed"
    },
    "tags": []
   },
   "outputs": [],
   "source": [
    "# ====================================================\n",
    "# Dataset\n",
    "# ====================================================\n",
    "class TrainDataset(Dataset):\n",
    "    def __init__(self, df, transform=None):\n",
    "        self.df = df\n",
    "        self.file_names = df['file_path'].values\n",
    "        self.labels = df[CFG.target_col].values\n",
    "        self.transform = transform\n",
    "        \n",
    "    def __len__(self):\n",
    "        return len(self.df)\n",
    "\n",
    "    def __getitem__(self, idx):\n",
    "        file_path = self.file_names[idx]\n",
    "        image = cv2.imread(file_path)\n",
    "        image = cv2.cvtColor(image, cv2.COLOR_BGR2RGB)\n",
    "        if self.transform:\n",
    "            image = self.transform(image=image)['image']\n",
    "        label = torch.tensor(self.labels[idx]).float()\n",
    "        return image, label"
   ]
  },
  {
   "cell_type": "code",
   "execution_count": 5,
   "metadata": {
    "execution": {
     "iopub.execute_input": "2021-09-25T01:39:30.817111Z",
     "iopub.status.busy": "2021-09-25T01:39:30.81621Z",
     "iopub.status.idle": "2021-09-25T01:39:30.826076Z",
     "shell.execute_reply": "2021-09-25T01:39:30.82545Z",
     "shell.execute_reply.started": "2021-09-25T01:39:30.817076Z"
    },
    "papermill": {
     "duration": 0.04224,
     "end_time": "2021-08-04T01:25:28.202021",
     "exception": false,
     "start_time": "2021-08-04T01:25:28.159781",
     "status": "completed"
    },
    "tags": []
   },
   "outputs": [],
   "source": [
    "# ====================================================\n",
    "# Transforms\n",
    "# ====================================================\n",
    "def get_transforms(*, data):\n",
    "    \n",
    "    if data == 'train':\n",
    "        return A.Compose([\n",
    "            # A.Resize(CFG.size, CFG.size),\n",
    "            A.RandomResizedCrop(CFG.size, CFG.size, scale=(0.85, 1.0)),\n",
    "            A.Normalize(\n",
    "                mean=[0.485, 0.456, 0.406],\n",
    "                std=[0.229, 0.224, 0.225],\n",
    "            ),\n",
    "            ToTensorV2(),\n",
    "        ])\n",
    "\n",
    "    elif data == 'valid':\n",
    "        return A.Compose([\n",
    "            A.Resize(CFG.size, CFG.size),\n",
    "            A.Normalize(\n",
    "                mean=[0.485, 0.456, 0.406],\n",
    "                std=[0.229, 0.224, 0.225],\n",
    "            ),\n",
    "            ToTensorV2(),\n",
    "        ])\n"
   ]
  },
  {
   "cell_type": "code",
   "execution_count": 6,
   "metadata": {
    "execution": {
     "iopub.execute_input": "2021-09-25T01:39:31.974121Z",
     "iopub.status.busy": "2021-09-25T01:39:31.973801Z",
     "iopub.status.idle": "2021-09-25T01:39:31.981565Z",
     "shell.execute_reply": "2021-09-25T01:39:31.980845Z",
     "shell.execute_reply.started": "2021-09-25T01:39:31.974083Z"
    },
    "papermill": {
     "duration": 0.072697,
     "end_time": "2021-08-04T01:25:29.305374",
     "exception": false,
     "start_time": "2021-08-04T01:25:29.232677",
     "status": "completed"
    },
    "tags": []
   },
   "outputs": [],
   "source": [
    "# ====================================================\n",
    "# MODEL\n",
    "# ====================================================\n",
    "class CustomModel(nn.Module):\n",
    "    def __init__(self, cfg, pretrained=True):\n",
    "        super().__init__()\n",
    "        self.cfg = cfg\n",
    "        self.model = timm.create_model(self.cfg.model_name, pretrained=pretrained)\n",
    "        self.n_features = self.model.head.in_features\n",
    "        self.model.head.fc = nn.Identity()\n",
    "        self.fc = nn.Linear(self.n_features, self.cfg.target_size)\n",
    "\n",
    "    def feature(self, image):\n",
    "        feature = self.model(image)\n",
    "        return feature\n",
    "        \n",
    "    def forward(self, image):\n",
    "        feature = self.feature(image)\n",
    "        output = self.fc(feature)\n",
    "        return output"
   ]
  },
  {
   "cell_type": "code",
   "execution_count": 7,
   "metadata": {
    "execution": {
     "iopub.execute_input": "2021-09-25T01:39:31.983208Z",
     "iopub.status.busy": "2021-09-25T01:39:31.982737Z",
     "iopub.status.idle": "2021-09-25T01:39:31.992378Z",
     "shell.execute_reply": "2021-09-25T01:39:31.991645Z",
     "shell.execute_reply.started": "2021-09-25T01:39:31.983173Z"
    }
   },
   "outputs": [],
   "source": [
    "# ====================================================\n",
    "# Loss\n",
    "# ====================================================\n",
    "class RMSELoss(nn.Module):\n",
    "    def __init__(self, eps=1e-6):\n",
    "        super().__init__()\n",
    "        self.mse = nn.MSELoss()\n",
    "        self.eps = eps\n",
    "\n",
    "    def forward(self, yhat, y):\n",
    "        loss = torch.sqrt(self.mse(yhat, y) + self.eps)\n",
    "        return loss"
   ]
  },
  {
   "cell_type": "code",
   "execution_count": 8,
   "metadata": {},
   "outputs": [],
   "source": [
    "# ====================================================\n",
    "# Helper functions\n",
    "# ====================================================\n",
    "class AverageMeter(object):\n",
    "    \"\"\"Computes and stores the average and current value\"\"\"\n",
    "    def __init__(self):\n",
    "        self.reset()\n",
    "\n",
    "    def reset(self):\n",
    "        self.val = 0\n",
    "        self.avg = 0\n",
    "        self.sum = 0\n",
    "        self.count = 0\n",
    "\n",
    "    def update(self, val, n=1):\n",
    "        self.val = val\n",
    "        self.sum += val * n\n",
    "        self.count += n\n",
    "        self.avg = self.sum / self.count\n",
    "\n",
    "\n",
    "def asMinutes(s):\n",
    "    m = math.floor(s / 60)\n",
    "    s -= m * 60\n",
    "    return '%dm %ds' % (m, s)\n",
    "\n",
    "\n",
    "def timeSince(since, percent):\n",
    "    now = time.time()\n",
    "    s = now - since\n",
    "    es = s / (percent)\n",
    "    rs = es - s\n",
    "    return '%s (remain %s)' % (asMinutes(s), asMinutes(rs))\n",
    "\n",
    "\n",
    "def train_fn(fold, train_loader, model, criterion, optimizer, epoch, scheduler, device):\n",
    "    model.train()\n",
    "    if CFG.apex:#使わないところは消す\n",
    "        scaler = GradScaler()\n",
    "    losses = AverageMeter()\n",
    "    start = end = time.time()\n",
    "    global_step = 0\n",
    "    for step, (images, labels) in enumerate(train_loader):\n",
    "        images = images.to(device)\n",
    "        labels = labels.to(device)\n",
    "        batch_size = labels.size(0)\n",
    "        if CFG.apex:\n",
    "            with autocast():\n",
    "                y_preds = model(images)\n",
    "                loss = criterion(y_preds.view(-1), labels)\n",
    "        else:\n",
    "            y_preds = model(images)\n",
    "            loss = criterion(y_preds.view(-1), labels)\n",
    "        # record loss\n",
    "        losses.update(loss.item(), batch_size)\n",
    "        if CFG.gradient_accumulation_steps > 1:\n",
    "            loss = loss / CFG.gradient_accumulation_steps\n",
    "        if CFG.apex:\n",
    "            scaler.scale(loss).backward()\n",
    "        else:\n",
    "            loss.backward()\n",
    "        grad_norm = torch.nn.utils.clip_grad_norm_(model.parameters(), CFG.max_grad_norm)\n",
    "        if (step + 1) % CFG.gradient_accumulation_steps == 0:\n",
    "            if CFG.apex:\n",
    "                scaler.step(optimizer)\n",
    "                scaler.update()\n",
    "            else:\n",
    "                optimizer.step()\n",
    "            optimizer.zero_grad()\n",
    "            global_step += 1\n",
    "        end = time.time()\n",
    "        if step % CFG.print_freq == 0 or step == (len(train_loader)-1):\n",
    "            print('Epoch: [{0}][{1}/{2}] '\n",
    "                  'Elapsed {remain:s} '\n",
    "                  'Loss: {loss.val:.4f}({loss.avg:.4f}) '\n",
    "                  'Grad: {grad_norm:.4f}  '\n",
    "                  'LR: {lr:.6f}  '\n",
    "                  .format(epoch+1, step, len(train_loader), \n",
    "                          remain=timeSince(start, float(step+1)/len(train_loader)),\n",
    "                          loss=losses,\n",
    "                          grad_norm=grad_norm,\n",
    "                          lr=scheduler.get_lr()[0]))\n",
    "\n",
    "    return losses.avg\n",
    "\n",
    "\n",
    "def valid_fn(valid_loader, model, criterion, device):\n",
    "    model.eval()\n",
    "    losses = AverageMeter()\n",
    "    preds = []\n",
    "    start = end = time.time()\n",
    "    for step, (images, labels) in enumerate(valid_loader):\n",
    "        images = images.to(device)\n",
    "        labels = labels.to(device)\n",
    "        batch_size = labels.size(0)\n",
    "        # compute loss\n",
    "        with torch.no_grad():\n",
    "            y_preds = model(images)\n",
    "        loss = criterion(y_preds.view(-1), labels)\n",
    "        losses.update(loss.item(), batch_size)\n",
    "        # record accuracy\n",
    "        preds.append(y_preds.to('cpu').numpy())\n",
    "        if CFG.gradient_accumulation_steps > 1:\n",
    "            loss = loss / CFG.gradient_accumulation_steps\n",
    "        end = time.time()\n",
    "        if step % CFG.print_freq == 0 or step == (len(valid_loader)-1):\n",
    "            print('EVAL: [{0}/{1}] '\n",
    "                  'Elapsed {remain:s} '\n",
    "                  'Loss: {loss.val:.4f}({loss.avg:.4f}) '\n",
    "                  .format(step, len(valid_loader),\n",
    "                          loss=losses,\n",
    "                          remain=timeSince(start, float(step+1)/len(valid_loader))))\n",
    "    predictions = np.concatenate(preds)\n",
    "    return losses.avg, predictions"
   ]
  },
  {
   "cell_type": "code",
   "execution_count": 9,
   "metadata": {},
   "outputs": [],
   "source": [
    "# ====================================================\n",
    "# Train loop\n",
    "# ====================================================\n",
    "def train_loop(folds, fold, seed):\n",
    "    \n",
    "    LOGGER.info(f\"========== fold: {fold} training ==========\")\n",
    "\n",
    "    # ====================================================\n",
    "    # loader\n",
    "    # ====================================================\n",
    "    trn_idx = folds[folds['fold'] != fold].index\n",
    "    val_idx = folds[folds['fold'] == fold].index\n",
    "\n",
    "    train_folds = folds.loc[trn_idx].reset_index(drop=True)\n",
    "    valid_folds = folds.loc[val_idx].reset_index(drop=True)\n",
    "    valid_labels = valid_folds[CFG.target_col].values\n",
    "\n",
    "    train_dataset = TrainDataset(train_folds, transform=get_transforms(data='train'))\n",
    "    valid_dataset = TrainDataset(valid_folds, transform=get_transforms(data='train'))\n",
    "\n",
    "    train_loader = DataLoader(train_dataset,\n",
    "                              batch_size=CFG.batch_size, \n",
    "                              shuffle=True, \n",
    "                              num_workers=CFG.num_workers, pin_memory=True, drop_last=True)\n",
    "    valid_loader = DataLoader(valid_dataset, \n",
    "                              batch_size=CFG.batch_size * 2, \n",
    "                              shuffle=False, \n",
    "                              num_workers=CFG.num_workers, pin_memory=True, drop_last=False)\n",
    "    \n",
    "    # ====================================================\n",
    "    # scheduler \n",
    "    # ====================================================\n",
    "    def get_scheduler(optimizer):\n",
    "        if CFG.scheduler=='ReduceLROnPlateau':\n",
    "            scheduler = ReduceLROnPlateau(optimizer, mode='min', factor=CFG.factor, patience=CFG.patience, verbose=True, eps=CFG.eps)\n",
    "        elif CFG.scheduler=='CosineAnnealingLR':\n",
    "            scheduler = CosineAnnealingLR(optimizer, T_max=CFG.T_max, eta_min=CFG.min_lr, last_epoch=-1)\n",
    "        elif CFG.scheduler=='CosineAnnealingWarmRestarts':\n",
    "            scheduler = CosineAnnealingWarmRestarts(optimizer, T_0=CFG.T_0, T_mult=1, eta_min=CFG.min_lr, last_epoch=-1)\n",
    "        return scheduler\n",
    "\n",
    "    # ====================================================\n",
    "    # model & optimizer\n",
    "    # ====================================================\n",
    "    model = CustomModel(CFG, pretrained=True)\n",
    "    model.to(device)\n",
    "\n",
    "    optimizer = Adam(model.parameters(), lr=CFG.lr, weight_decay=CFG.weight_decay, amsgrad=False)\n",
    "    scheduler = get_scheduler(optimizer)\n",
    "\n",
    "    # ====================================================\n",
    "    # loop\n",
    "    # ====================================================\n",
    "    criterion = RMSELoss()\n",
    "\n",
    "    best_score = np.inf\n",
    "    best_loss = np.inf\n",
    "    \n",
    "    for epoch in range(CFG.epochs):\n",
    "        \n",
    "        start_time = time.time()\n",
    "        \n",
    "        # train\n",
    "        avg_loss = train_fn(fold, train_loader, model, criterion, optimizer, epoch, scheduler, device)\n",
    "\n",
    "        # eval\n",
    "        avg_val_loss, preds = valid_fn(valid_loader, model, criterion, device)\n",
    "        \n",
    "        if isinstance(scheduler, ReduceLROnPlateau):\n",
    "            scheduler.step(avg_val_loss)\n",
    "        elif isinstance(scheduler, CosineAnnealingLR):\n",
    "            scheduler.step()\n",
    "        elif isinstance(scheduler, CosineAnnealingWarmRestarts):\n",
    "            scheduler.step()\n",
    "\n",
    "        # scoring\n",
    "        score = get_score(valid_labels, preds)\n",
    "\n",
    "        elapsed = time.time() - start_time\n",
    "\n",
    "        LOGGER.info(f'Epoch {epoch+1} - avg_train_loss: {avg_loss:.4f}  avg_val_loss: {avg_val_loss:.4f}  time: {elapsed:.0f}s')\n",
    "        LOGGER.info(f'Epoch {epoch+1} - Score: {score:.4f}')\n",
    "       \n",
    "        if score < best_score:\n",
    "            best_score = score\n",
    "            LOGGER.info(f'Epoch {epoch+1} - Save Best Score: {best_score:.4f} Model')\n",
    "            torch.save({'model': model.state_dict(), 'preds': preds}, OUTPUT_DIR+f'{CFG.model_name}_{CFG.kfold}_fold{fold}_seed{seed}_bootstrap.pth')\n",
    "    \n",
    "    valid_folds['preds'] = torch.load(OUTPUT_DIR+f'{CFG.model_name}_{CFG.kfold}_fold{fold}_seed{seed}_bootstrap.pth', \n",
    "                                      map_location=torch.device('cpu'))['preds']\n",
    "\n",
    "    return valid_folds"
   ]
  },
  {
   "cell_type": "code",
   "execution_count": 10,
   "metadata": {},
   "outputs": [],
   "source": [
    "# ====================================================\n",
    "# main\n",
    "# ====================================================\n",
    "def main():\n",
    "\n",
    "    \"\"\"\n",
    "    Prepare: 1.train \n",
    "    \"\"\"\n",
    "\n",
    "    def get_result(result_df):\n",
    "        preds = result_df['preds'].values\n",
    "        labels = result_df[CFG.target_col].values\n",
    "        score = get_score(labels, preds)\n",
    "        LOGGER.info(f'Score: {score:<.4f}')\n",
    "    \n",
    "    for seed in CFG.seed:\n",
    "        LOGGER.info(f\"========== seed{seed} ==========\")\n",
    "        seed_torch()\n",
    "\n",
    "        data = pd.read_csv('/home/yamanaka/Estimate_KIc_with_ViT/Mototake_Analysis/VGG+GP/inout_data.csv', header=None, names=['Id', 'KIc'])\n",
    "        data['file_path'] = ['/home/yamanaka/Estimate_KIc_with_ViT/Mototake_Analysis/VGG+GP/imagedata/' + str(i) + '.jpg' for i in data['Id']]\n",
    "\n",
    "        train = pd.DataFrame()\n",
    "        data_id = np.random.choice(data['Id'], size=len(data), replace=True)\n",
    "        for i in data_id:\n",
    "            train = pd.concat([train, data[data['Id']==i]])\n",
    "        train = train.reset_index()\n",
    "            \n",
    "        if CFG.debug:\n",
    "            CFG.epochs = 1\n",
    "            train = train.sample(n=100, random_state=seed).reset_index(drop=True)\n",
    "\n",
    "        if CFG.kfold == 'Kfold':\n",
    "            Fold = KFold(n_splits=CFG.n_fold, shuffle=True, random_state=seed)\n",
    "            for n, (train_index, val_index) in enumerate(Fold.split(train)):\n",
    "                train.loc[val_index, 'fold'] = int(n)\n",
    "            train['fold'] = train['fold'].astype(int)\n",
    "        elif CFG.kfold == \"StratifiedKfold\":\n",
    "            num_bins = int(np.floor(1 + np.log2(len(train))))\n",
    "            train[\"bins\"] = pd.cut(train[CFG.target_col], bins=num_bins, labels=False)\n",
    "            Fold = StratifiedKFold(n_splits=CFG.n_fold, shuffle=True, random_state=seed)\n",
    "            for n, (train_index, val_index) in enumerate(Fold.split(train, train[\"bins\"])):\n",
    "                train.loc[val_index, 'fold'] = int(n)\n",
    "            train['fold'] = train['fold'].astype(int)\n",
    "\n",
    "        # # train出力 vgg \n",
    "        oof_df = pd.DataFrame()\n",
    "        for fold in range(CFG.n_fold):\n",
    "            # train.to_csv vggも\n",
    "            _oof_df = train_loop(train, fold, seed)\n",
    "            oof_df = pd.concat([oof_df, _oof_df])\n",
    "            LOGGER.info(f\"========== fold: {fold} result ==========\")\n",
    "            get_result(_oof_df)\n",
    "\n",
    "        # CV result\n",
    "        LOGGER.info(f\"========== CV ==========\")\n",
    "        get_result(oof_df)\n",
    "\n",
    "        # save result\n",
    "        oof_df.to_csv(OUTPUT_DIR+f'{CFG.model_name}_{CFG.kfold}_seed{seed}_bootstrap_oof_df.csv', index=False)"
   ]
  },
  {
   "cell_type": "code",
   "execution_count": 11,
   "metadata": {
    "_cell_guid": "79c7e3d0-c299-4dcb-8224-4455121ee9b0",
    "_uuid": "d629ff2d2480ee46fbb7e2d37f6b5fab8052498a",
    "execution": {
     "iopub.execute_input": "2021-09-25T01:39:32.080653Z",
     "iopub.status.busy": "2021-09-25T01:39:32.080395Z",
     "iopub.status.idle": "2021-09-25T01:43:14.486097Z",
     "shell.execute_reply": "2021-09-25T01:43:14.484211Z",
     "shell.execute_reply.started": "2021-09-25T01:39:32.080626Z"
    },
    "papermill": {
     "duration": 25805.563027,
     "end_time": "2021-08-04T08:35:35.784865",
     "exception": false,
     "start_time": "2021-08-04T01:25:30.221838",
     "status": "completed"
    },
    "scrolled": false,
    "tags": []
   },
   "outputs": [
    {
     "name": "stderr",
     "output_type": "stream",
     "text": [
      "========== seed42 ==========\n",
      "========== fold: 0 training ==========\n"
     ]
    },
    {
     "name": "stdout",
     "output_type": "stream",
     "text": [
      "Epoch: [1][0/19] Elapsed 0m 1s (remain 0m 26s) Loss: 3.1279(3.1279) Grad: 25.2494  LR: 0.000100  \n",
      "Epoch: [1][10/19] Elapsed 0m 2s (remain 0m 2s) Loss: 0.4898(1.1408) Grad: 16.4406  LR: 0.000100  \n",
      "Epoch: [1][18/19] Elapsed 0m 4s (remain 0m 0s) Loss: 0.4128(0.8990) Grad: 5.8513  LR: 0.000100  \n",
      "EVAL: [0/3] Elapsed 0m 0s (remain 0m 0s) Loss: 0.6058(0.6058) \n"
     ]
    },
    {
     "name": "stderr",
     "output_type": "stream",
     "text": [
      "Epoch 1 - avg_train_loss: 0.8990  avg_val_loss: 0.5912  time: 5s\n",
      "Epoch 1 - Score: 0.5915\n",
      "Epoch 1 - Save Best Score: 0.5915 Model\n"
     ]
    },
    {
     "name": "stdout",
     "output_type": "stream",
     "text": [
      "EVAL: [2/3] Elapsed 0m 0s (remain 0m 0s) Loss: 0.6133(0.5912) \n",
      "Epoch: [2][0/19] Elapsed 0m 0s (remain 0m 2s) Loss: 0.5590(0.5590) Grad: 24.8614  LR: 0.000057  \n",
      "Epoch: [2][10/19] Elapsed 0m 1s (remain 0m 1s) Loss: 0.5666(0.4986) Grad: 23.4378  LR: 0.000057  \n",
      "Epoch: [2][18/19] Elapsed 0m 2s (remain 0m 0s) Loss: 0.4089(0.4734) Grad: 3.9394  LR: 0.000057  \n",
      "EVAL: [0/3] Elapsed 0m 0s (remain 0m 0s) Loss: 0.4856(0.4856) \n"
     ]
    },
    {
     "name": "stderr",
     "output_type": "stream",
     "text": [
      "Epoch 2 - avg_train_loss: 0.4734  avg_val_loss: 0.4637  time: 3s\n",
      "Epoch 2 - Score: 0.4642\n",
      "Epoch 2 - Save Best Score: 0.4642 Model\n"
     ]
    },
    {
     "name": "stdout",
     "output_type": "stream",
     "text": [
      "EVAL: [2/3] Elapsed 0m 0s (remain 0m 0s) Loss: 0.4713(0.4637) \n",
      "Epoch: [3][0/19] Elapsed 0m 0s (remain 0m 2s) Loss: 0.4219(0.4219) Grad: 19.6732  LR: 0.000009  \n",
      "Epoch: [3][10/19] Elapsed 0m 1s (remain 0m 1s) Loss: 0.2901(0.3687) Grad: 18.7318  LR: 0.000009  \n",
      "Epoch: [3][18/19] Elapsed 0m 2s (remain 0m 0s) Loss: 0.1949(0.3434) Grad: 13.0212  LR: 0.000009  \n",
      "EVAL: [0/3] Elapsed 0m 0s (remain 0m 0s) Loss: 0.3266(0.3266) \n"
     ]
    },
    {
     "name": "stderr",
     "output_type": "stream",
     "text": [
      "Epoch 3 - avg_train_loss: 0.3434  avg_val_loss: 0.3010  time: 3s\n",
      "Epoch 3 - Score: 0.3022\n",
      "Epoch 3 - Save Best Score: 0.3022 Model\n"
     ]
    },
    {
     "name": "stdout",
     "output_type": "stream",
     "text": [
      "EVAL: [2/3] Elapsed 0m 0s (remain 0m 0s) Loss: 0.2493(0.3010) \n",
      "Epoch: [4][0/19] Elapsed 0m 0s (remain 0m 2s) Loss: 0.2726(0.2726) Grad: 11.1282  LR: 0.000001  \n",
      "Epoch: [4][10/19] Elapsed 0m 1s (remain 0m 1s) Loss: 0.2233(0.2409) Grad: 5.0421  LR: 0.000001  \n",
      "Epoch: [4][18/19] Elapsed 0m 2s (remain 0m 0s) Loss: 0.2059(0.2363) Grad: 4.0300  LR: 0.000001  \n",
      "EVAL: [0/3] Elapsed 0m 0s (remain 0m 0s) Loss: 0.3368(0.3368) \n"
     ]
    },
    {
     "name": "stderr",
     "output_type": "stream",
     "text": [
      "Epoch 4 - avg_train_loss: 0.2363  avg_val_loss: 0.3103  time: 3s\n",
      "Epoch 4 - Score: 0.3119\n"
     ]
    },
    {
     "name": "stdout",
     "output_type": "stream",
     "text": [
      "EVAL: [2/3] Elapsed 0m 0s (remain 0m 0s) Loss: 0.2462(0.3103) \n",
      "Epoch: [5][0/19] Elapsed 0m 0s (remain 0m 2s) Loss: 0.3219(0.3219) Grad: 4.3186  LR: 0.000050  \n",
      "Epoch: [5][10/19] Elapsed 0m 1s (remain 0m 1s) Loss: 0.2519(0.2487) Grad: 4.9346  LR: 0.000050  \n",
      "Epoch: [5][18/19] Elapsed 0m 2s (remain 0m 0s) Loss: 0.2165(0.2385) Grad: 18.4755  LR: 0.000050  \n",
      "EVAL: [0/3] Elapsed 0m 0s (remain 0m 0s) Loss: 0.3038(0.3038) \n"
     ]
    },
    {
     "name": "stderr",
     "output_type": "stream",
     "text": [
      "Epoch 5 - avg_train_loss: 0.2385  avg_val_loss: 0.2853  time: 3s\n",
      "Epoch 5 - Score: 0.2858\n",
      "Epoch 5 - Save Best Score: 0.2858 Model\n"
     ]
    },
    {
     "name": "stdout",
     "output_type": "stream",
     "text": [
      "EVAL: [2/3] Elapsed 0m 0s (remain 0m 0s) Loss: 0.2566(0.2853) \n",
      "Epoch: [6][0/19] Elapsed 0m 0s (remain 0m 2s) Loss: 0.2218(0.2218) Grad: 18.1985  LR: 0.000224  \n",
      "Epoch: [6][10/19] Elapsed 0m 1s (remain 0m 1s) Loss: 0.3690(0.2669) Grad: 24.7757  LR: 0.000224  \n",
      "Epoch: [6][18/19] Elapsed 0m 2s (remain 0m 0s) Loss: 0.4680(0.2960) Grad: 27.0136  LR: 0.000224  \n",
      "EVAL: [0/3] Elapsed 0m 0s (remain 0m 0s) Loss: 0.4206(0.4206) \n"
     ]
    },
    {
     "name": "stderr",
     "output_type": "stream",
     "text": [
      "Epoch 6 - avg_train_loss: 0.2960  avg_val_loss: 0.3793  time: 3s\n",
      "Epoch 6 - Score: 0.3813\n"
     ]
    },
    {
     "name": "stdout",
     "output_type": "stream",
     "text": [
      "EVAL: [2/3] Elapsed 0m 0s (remain 0m 0s) Loss: 0.3143(0.3793) \n",
      "Epoch: [7][0/19] Elapsed 0m 0s (remain 0m 2s) Loss: 0.3300(0.3300) Grad: 26.2781  LR: 0.000133  \n",
      "Epoch: [7][10/19] Elapsed 0m 1s (remain 0m 1s) Loss: 0.3439(0.3278) Grad: 21.9175  LR: 0.000133  \n",
      "Epoch: [7][18/19] Elapsed 0m 2s (remain 0m 0s) Loss: 0.2967(0.2936) Grad: 22.6666  LR: 0.000133  \n",
      "EVAL: [0/3] Elapsed 0m 0s (remain 0m 0s) Loss: 0.3021(0.3021) \n"
     ]
    },
    {
     "name": "stderr",
     "output_type": "stream",
     "text": [
      "Epoch 7 - avg_train_loss: 0.2936  avg_val_loss: 0.2801  time: 4s\n",
      "Epoch 7 - Score: 0.2820\n",
      "Epoch 7 - Save Best Score: 0.2820 Model\n"
     ]
    },
    {
     "name": "stdout",
     "output_type": "stream",
     "text": [
      "EVAL: [2/3] Elapsed 0m 0s (remain 0m 0s) Loss: 0.2081(0.2801) \n",
      "Epoch: [8][0/19] Elapsed 0m 0s (remain 0m 2s) Loss: 0.1953(0.1953) Grad: 16.5480  LR: 0.000057  \n",
      "Epoch: [8][10/19] Elapsed 0m 1s (remain 0m 1s) Loss: 0.2042(0.2445) Grad: 10.7302  LR: 0.000057  \n",
      "Epoch: [8][18/19] Elapsed 0m 2s (remain 0m 0s) Loss: 0.2449(0.2279) Grad: 7.0404  LR: 0.000057  \n",
      "EVAL: [0/3] Elapsed 0m 0s (remain 0m 0s) Loss: 0.2994(0.2994) \n"
     ]
    },
    {
     "name": "stderr",
     "output_type": "stream",
     "text": [
      "Epoch 8 - avg_train_loss: 0.2279  avg_val_loss: 0.2671  time: 4s\n",
      "Epoch 8 - Score: 0.2691\n",
      "Epoch 8 - Save Best Score: 0.2691 Model\n"
     ]
    },
    {
     "name": "stdout",
     "output_type": "stream",
     "text": [
      "EVAL: [2/3] Elapsed 0m 0s (remain 0m 0s) Loss: 0.2067(0.2671) \n",
      "Epoch: [9][0/19] Elapsed 0m 0s (remain 0m 2s) Loss: 0.2249(0.2249) Grad: 19.6806  LR: 0.000009  \n",
      "Epoch: [9][10/19] Elapsed 0m 1s (remain 0m 1s) Loss: 0.1369(0.1670) Grad: 8.4021  LR: 0.000009  \n",
      "Epoch: [9][18/19] Elapsed 0m 2s (remain 0m 0s) Loss: 0.1840(0.1659) Grad: 23.9085  LR: 0.000009  \n",
      "EVAL: [0/3] Elapsed 0m 0s (remain 0m 0s) Loss: 0.3071(0.3071) \n"
     ]
    },
    {
     "name": "stderr",
     "output_type": "stream",
     "text": [
      "Epoch 9 - avg_train_loss: 0.1659  avg_val_loss: 0.2543  time: 4s\n",
      "Epoch 9 - Score: 0.2591\n",
      "Epoch 9 - Save Best Score: 0.2591 Model\n"
     ]
    },
    {
     "name": "stdout",
     "output_type": "stream",
     "text": [
      "EVAL: [2/3] Elapsed 0m 0s (remain 0m 0s) Loss: 0.1727(0.2543) \n",
      "Epoch: [10][0/19] Elapsed 0m 0s (remain 0m 2s) Loss: 0.1792(0.1792) Grad: 6.8998  LR: 0.000001  \n",
      "Epoch: [10][10/19] Elapsed 0m 1s (remain 0m 1s) Loss: 0.1090(0.1374) Grad: 4.1805  LR: 0.000001  \n",
      "Epoch: [10][18/19] Elapsed 0m 2s (remain 0m 0s) Loss: 0.1073(0.1325) Grad: 8.3372  LR: 0.000001  \n",
      "EVAL: [0/3] Elapsed 0m 0s (remain 0m 0s) Loss: 0.2726(0.2726) \n"
     ]
    },
    {
     "name": "stderr",
     "output_type": "stream",
     "text": [
      "Epoch 10 - avg_train_loss: 0.1325  avg_val_loss: 0.2363  time: 4s\n",
      "Epoch 10 - Score: 0.2401\n",
      "Epoch 10 - Save Best Score: 0.2401 Model\n"
     ]
    },
    {
     "name": "stdout",
     "output_type": "stream",
     "text": [
      "EVAL: [2/3] Elapsed 0m 0s (remain 0m 0s) Loss: 0.1496(0.2363) \n",
      "Epoch: [11][0/19] Elapsed 0m 0s (remain 0m 3s) Loss: 0.1026(0.1026) Grad: 6.1902  LR: 0.000050  \n",
      "Epoch: [11][10/19] Elapsed 0m 1s (remain 0m 1s) Loss: 0.1541(0.1403) Grad: 7.6582  LR: 0.000050  \n",
      "Epoch: [11][18/19] Elapsed 0m 2s (remain 0m 0s) Loss: 0.1235(0.1358) Grad: 11.4619  LR: 0.000050  \n",
      "EVAL: [0/3] Elapsed 0m 0s (remain 0m 0s) Loss: 0.2688(0.2688) \n"
     ]
    },
    {
     "name": "stderr",
     "output_type": "stream",
     "text": [
      "Epoch 11 - avg_train_loss: 0.1358  avg_val_loss: 0.2288  time: 4s\n",
      "Epoch 11 - Score: 0.2333\n",
      "Epoch 11 - Save Best Score: 0.2333 Model\n"
     ]
    },
    {
     "name": "stdout",
     "output_type": "stream",
     "text": [
      "EVAL: [2/3] Elapsed 0m 0s (remain 0m 0s) Loss: 0.1370(0.2288) \n",
      "Epoch: [12][0/19] Elapsed 0m 0s (remain 0m 2s) Loss: 0.0813(0.0813) Grad: 3.6599  LR: 0.000224  \n",
      "Epoch: [12][10/19] Elapsed 0m 1s (remain 0m 1s) Loss: 0.1682(0.1572) Grad: 18.8258  LR: 0.000224  \n",
      "Epoch: [12][18/19] Elapsed 0m 2s (remain 0m 0s) Loss: 0.1086(0.1582) Grad: 5.5225  LR: 0.000224  \n",
      "EVAL: [0/3] Elapsed 0m 0s (remain 0m 0s) Loss: 0.3176(0.3176) \n"
     ]
    },
    {
     "name": "stderr",
     "output_type": "stream",
     "text": [
      "Epoch 12 - avg_train_loss: 0.1582  avg_val_loss: 0.2731  time: 4s\n",
      "Epoch 12 - Score: 0.2763\n"
     ]
    },
    {
     "name": "stdout",
     "output_type": "stream",
     "text": [
      "EVAL: [2/3] Elapsed 0m 0s (remain 0m 0s) Loss: 0.2012(0.2731) \n",
      "Epoch: [13][0/19] Elapsed 0m 0s (remain 0m 2s) Loss: 0.1227(0.1227) Grad: 6.9350  LR: 0.000133  \n",
      "Epoch: [13][10/19] Elapsed 0m 1s (remain 0m 1s) Loss: 0.1397(0.1700) Grad: 6.7902  LR: 0.000133  \n",
      "Epoch: [13][18/19] Elapsed 0m 2s (remain 0m 0s) Loss: 0.1738(0.1999) Grad: 12.4106  LR: 0.000133  \n",
      "EVAL: [0/3] Elapsed 0m 0s (remain 0m 0s) Loss: 0.3399(0.3399) \n"
     ]
    },
    {
     "name": "stderr",
     "output_type": "stream",
     "text": [
      "Epoch 13 - avg_train_loss: 0.1999  avg_val_loss: 0.2774  time: 4s\n",
      "Epoch 13 - Score: 0.2834\n"
     ]
    },
    {
     "name": "stdout",
     "output_type": "stream",
     "text": [
      "EVAL: [2/3] Elapsed 0m 0s (remain 0m 0s) Loss: 0.1839(0.2774) \n",
      "Epoch: [14][0/19] Elapsed 0m 0s (remain 0m 2s) Loss: 0.1822(0.1822) Grad: 4.5716  LR: 0.000057  \n",
      "Epoch: [14][10/19] Elapsed 0m 1s (remain 0m 1s) Loss: 0.2067(0.2387) Grad: 14.6722  LR: 0.000057  \n",
      "Epoch: [14][18/19] Elapsed 0m 2s (remain 0m 0s) Loss: 0.2930(0.2502) Grad: 22.2829  LR: 0.000057  \n",
      "EVAL: [0/3] Elapsed 0m 0s (remain 0m 0s) Loss: 0.2654(0.2654) \n"
     ]
    },
    {
     "name": "stderr",
     "output_type": "stream",
     "text": [
      "Epoch 14 - avg_train_loss: 0.2502  avg_val_loss: 0.2503  time: 4s\n",
      "Epoch 14 - Score: 0.2531\n"
     ]
    },
    {
     "name": "stdout",
     "output_type": "stream",
     "text": [
      "EVAL: [2/3] Elapsed 0m 0s (remain 0m 0s) Loss: 0.1670(0.2503) \n",
      "Epoch: [15][0/19] Elapsed 0m 0s (remain 0m 2s) Loss: 0.1522(0.1522) Grad: 14.4694  LR: 0.000009  \n",
      "Epoch: [15][10/19] Elapsed 0m 1s (remain 0m 1s) Loss: 0.1464(0.1507) Grad: 5.5115  LR: 0.000009  \n",
      "Epoch: [15][18/19] Elapsed 0m 2s (remain 0m 0s) Loss: 0.1816(0.1534) Grad: 18.8417  LR: 0.000009  \n",
      "EVAL: [0/3] Elapsed 0m 0s (remain 0m 0s) Loss: 0.2702(0.2702) \n"
     ]
    },
    {
     "name": "stderr",
     "output_type": "stream",
     "text": [
      "Epoch 15 - avg_train_loss: 0.1534  avg_val_loss: 0.2412  time: 4s\n",
      "Epoch 15 - Score: 0.2443\n"
     ]
    },
    {
     "name": "stdout",
     "output_type": "stream",
     "text": [
      "EVAL: [2/3] Elapsed 0m 0s (remain 0m 0s) Loss: 0.1603(0.2412) \n",
      "Epoch: [16][0/19] Elapsed 0m 0s (remain 0m 2s) Loss: 0.1328(0.1328) Grad: 7.5555  LR: 0.000001  \n",
      "Epoch: [16][10/19] Elapsed 0m 1s (remain 0m 1s) Loss: 0.1228(0.1231) Grad: 8.1820  LR: 0.000001  \n",
      "Epoch: [16][18/19] Elapsed 0m 2s (remain 0m 0s) Loss: 0.0957(0.1198) Grad: 4.6659  LR: 0.000001  \n",
      "EVAL: [0/3] Elapsed 0m 0s (remain 0m 0s) Loss: 0.2677(0.2677) \n"
     ]
    },
    {
     "name": "stderr",
     "output_type": "stream",
     "text": [
      "Epoch 16 - avg_train_loss: 0.1198  avg_val_loss: 0.2296  time: 4s\n",
      "Epoch 16 - Score: 0.2347\n"
     ]
    },
    {
     "name": "stdout",
     "output_type": "stream",
     "text": [
      "EVAL: [2/3] Elapsed 0m 0s (remain 0m 0s) Loss: 0.1269(0.2296) \n",
      "Epoch: [17][0/19] Elapsed 0m 0s (remain 0m 2s) Loss: 0.1371(0.1371) Grad: 6.2305  LR: 0.000050  \n",
      "Epoch: [17][10/19] Elapsed 0m 1s (remain 0m 1s) Loss: 0.1063(0.1133) Grad: 4.0307  LR: 0.000050  \n",
      "Epoch: [17][18/19] Elapsed 0m 2s (remain 0m 0s) Loss: 0.1072(0.1100) Grad: 15.7884  LR: 0.000050  \n",
      "EVAL: [0/3] Elapsed 0m 0s (remain 0m 0s) Loss: 0.2587(0.2587) \n"
     ]
    },
    {
     "name": "stderr",
     "output_type": "stream",
     "text": [
      "Epoch 17 - avg_train_loss: 0.1100  avg_val_loss: 0.2186  time: 4s\n",
      "Epoch 17 - Score: 0.2237\n",
      "Epoch 17 - Save Best Score: 0.2237 Model\n"
     ]
    },
    {
     "name": "stdout",
     "output_type": "stream",
     "text": [
      "EVAL: [2/3] Elapsed 0m 0s (remain 0m 0s) Loss: 0.1225(0.2186) \n",
      "Epoch: [18][0/19] Elapsed 0m 0s (remain 0m 3s) Loss: 0.1058(0.1058) Grad: 3.4175  LR: 0.000224  \n",
      "Epoch: [18][10/19] Elapsed 0m 1s (remain 0m 1s) Loss: 0.1792(0.1436) Grad: 23.0804  LR: 0.000224  \n",
      "Epoch: [18][18/19] Elapsed 0m 2s (remain 0m 0s) Loss: 0.1845(0.1613) Grad: 10.4211  LR: 0.000224  \n",
      "EVAL: [0/3] Elapsed 0m 0s (remain 0m 0s) Loss: 0.3071(0.3071) \n"
     ]
    },
    {
     "name": "stderr",
     "output_type": "stream",
     "text": [
      "Epoch 18 - avg_train_loss: 0.1613  avg_val_loss: 0.2540  time: 4s\n",
      "Epoch 18 - Score: 0.2584\n"
     ]
    },
    {
     "name": "stdout",
     "output_type": "stream",
     "text": [
      "EVAL: [2/3] Elapsed 0m 0s (remain 0m 0s) Loss: 0.1835(0.2540) \n",
      "Epoch: [19][0/19] Elapsed 0m 0s (remain 0m 2s) Loss: 0.1539(0.1539) Grad: 21.0754  LR: 0.000133  \n",
      "Epoch: [19][10/19] Elapsed 0m 1s (remain 0m 1s) Loss: 0.1313(0.1474) Grad: 6.9849  LR: 0.000133  \n",
      "Epoch: [19][18/19] Elapsed 0m 2s (remain 0m 0s) Loss: 0.1738(0.1531) Grad: 16.4498  LR: 0.000133  \n",
      "EVAL: [0/3] Elapsed 0m 0s (remain 0m 0s) Loss: 0.3688(0.3688) \n"
     ]
    },
    {
     "name": "stderr",
     "output_type": "stream",
     "text": [
      "Epoch 19 - avg_train_loss: 0.1531  avg_val_loss: 0.3380  time: 4s\n",
      "Epoch 19 - Score: 0.3391\n"
     ]
    },
    {
     "name": "stdout",
     "output_type": "stream",
     "text": [
      "EVAL: [2/3] Elapsed 0m 0s (remain 0m 0s) Loss: 0.2992(0.3380) \n",
      "Epoch: [20][0/19] Elapsed 0m 0s (remain 0m 2s) Loss: 0.1939(0.1939) Grad: 26.3908  LR: 0.000057  \n",
      "Epoch: [20][10/19] Elapsed 0m 1s (remain 0m 1s) Loss: 0.1060(0.2027) Grad: 9.0159  LR: 0.000057  \n",
      "Epoch: [20][18/19] Elapsed 0m 2s (remain 0m 0s) Loss: 0.1648(0.1889) Grad: 6.3024  LR: 0.000057  \n",
      "EVAL: [0/3] Elapsed 0m 0s (remain 0m 0s) Loss: 0.2933(0.2933) \n"
     ]
    },
    {
     "name": "stderr",
     "output_type": "stream",
     "text": [
      "Epoch 20 - avg_train_loss: 0.1889  avg_val_loss: 0.2556  time: 4s\n",
      "Epoch 20 - Score: 0.2607\n"
     ]
    },
    {
     "name": "stdout",
     "output_type": "stream",
     "text": [
      "EVAL: [2/3] Elapsed 0m 0s (remain 0m 0s) Loss: 0.1460(0.2556) \n",
      "Epoch: [21][0/19] Elapsed 0m 0s (remain 0m 2s) Loss: 0.1720(0.1720) Grad: 9.7184  LR: 0.000009  \n",
      "Epoch: [21][10/19] Elapsed 0m 1s (remain 0m 1s) Loss: 0.1343(0.1315) Grad: 11.3321  LR: 0.000009  \n",
      "Epoch: [21][18/19] Elapsed 0m 2s (remain 0m 0s) Loss: 0.0816(0.1227) Grad: 3.1620  LR: 0.000009  \n",
      "EVAL: [0/3] Elapsed 0m 0s (remain 0m 0s) Loss: 0.2621(0.2621) \n"
     ]
    },
    {
     "name": "stderr",
     "output_type": "stream",
     "text": [
      "Epoch 21 - avg_train_loss: 0.1227  avg_val_loss: 0.2170  time: 4s\n",
      "Epoch 21 - Score: 0.2225\n",
      "Epoch 21 - Save Best Score: 0.2225 Model\n"
     ]
    },
    {
     "name": "stdout",
     "output_type": "stream",
     "text": [
      "EVAL: [2/3] Elapsed 0m 0s (remain 0m 0s) Loss: 0.1203(0.2170) \n",
      "Epoch: [22][0/19] Elapsed 0m 0s (remain 0m 2s) Loss: 0.0929(0.0929) Grad: 6.0623  LR: 0.000001  \n",
      "Epoch: [22][10/19] Elapsed 0m 1s (remain 0m 1s) Loss: 0.0785(0.0929) Grad: 12.0144  LR: 0.000001  \n",
      "Epoch: [22][18/19] Elapsed 0m 2s (remain 0m 0s) Loss: 0.0802(0.0920) Grad: 6.8078  LR: 0.000001  \n",
      "EVAL: [0/3] Elapsed 0m 0s (remain 0m 0s) Loss: 0.2704(0.2704) \n"
     ]
    },
    {
     "name": "stderr",
     "output_type": "stream",
     "text": [
      "Epoch 22 - avg_train_loss: 0.0920  avg_val_loss: 0.2293  time: 4s\n",
      "Epoch 22 - Score: 0.2364\n"
     ]
    },
    {
     "name": "stdout",
     "output_type": "stream",
     "text": [
      "EVAL: [2/3] Elapsed 0m 0s (remain 0m 0s) Loss: 0.1058(0.2293) \n",
      "Epoch: [23][0/19] Elapsed 0m 0s (remain 0m 2s) Loss: 0.1176(0.1176) Grad: 3.6203  LR: 0.000050  \n",
      "Epoch: [23][10/19] Elapsed 0m 1s (remain 0m 1s) Loss: 0.0832(0.0875) Grad: 6.0815  LR: 0.000050  \n",
      "Epoch: [23][18/19] Elapsed 0m 2s (remain 0m 0s) Loss: 0.0928(0.0874) Grad: 8.3244  LR: 0.000050  \n",
      "EVAL: [0/3] Elapsed 0m 0s (remain 0m 0s) Loss: 0.2610(0.2610) \n"
     ]
    },
    {
     "name": "stderr",
     "output_type": "stream",
     "text": [
      "Epoch 23 - avg_train_loss: 0.0874  avg_val_loss: 0.2206  time: 4s\n",
      "Epoch 23 - Score: 0.2266\n"
     ]
    },
    {
     "name": "stdout",
     "output_type": "stream",
     "text": [
      "EVAL: [2/3] Elapsed 0m 0s (remain 0m 0s) Loss: 0.1117(0.2206) \n",
      "Epoch: [24][0/19] Elapsed 0m 0s (remain 0m 2s) Loss: 0.0881(0.0881) Grad: 4.3364  LR: 0.000224  \n",
      "Epoch: [24][10/19] Elapsed 0m 1s (remain 0m 1s) Loss: 0.0995(0.0985) Grad: 6.4711  LR: 0.000224  \n",
      "Epoch: [24][18/19] Elapsed 0m 2s (remain 0m 0s) Loss: 0.1007(0.1003) Grad: 3.6054  LR: 0.000224  \n",
      "EVAL: [0/3] Elapsed 0m 0s (remain 0m 0s) Loss: 0.2635(0.2635) \n"
     ]
    },
    {
     "name": "stderr",
     "output_type": "stream",
     "text": [
      "Epoch 24 - avg_train_loss: 0.1003  avg_val_loss: 0.2210  time: 4s\n",
      "Epoch 24 - Score: 0.2280\n"
     ]
    },
    {
     "name": "stdout",
     "output_type": "stream",
     "text": [
      "EVAL: [2/3] Elapsed 0m 0s (remain 0m 0s) Loss: 0.1017(0.2210) \n",
      "Epoch: [25][0/19] Elapsed 0m 0s (remain 0m 2s) Loss: 0.1335(0.1335) Grad: 16.1890  LR: 0.000133  \n",
      "Epoch: [25][10/19] Elapsed 0m 1s (remain 0m 1s) Loss: 0.1430(0.1224) Grad: 9.9734  LR: 0.000133  \n",
      "Epoch: [25][18/19] Elapsed 0m 2s (remain 0m 0s) Loss: 0.2091(0.1535) Grad: 23.2370  LR: 0.000133  \n",
      "EVAL: [0/3] Elapsed 0m 0s (remain 0m 0s) Loss: 0.2640(0.2640) \n"
     ]
    },
    {
     "name": "stderr",
     "output_type": "stream",
     "text": [
      "Epoch 25 - avg_train_loss: 0.1535  avg_val_loss: 0.2241  time: 4s\n",
      "Epoch 25 - Score: 0.2283\n"
     ]
    },
    {
     "name": "stdout",
     "output_type": "stream",
     "text": [
      "EVAL: [2/3] Elapsed 0m 0s (remain 0m 0s) Loss: 0.1389(0.2241) \n",
      "Epoch: [26][0/19] Elapsed 0m 0s (remain 0m 2s) Loss: 0.1417(0.1417) Grad: 4.5495  LR: 0.000057  \n",
      "Epoch: [26][10/19] Elapsed 0m 1s (remain 0m 1s) Loss: 0.1505(0.1535) Grad: 17.1007  LR: 0.000057  \n",
      "Epoch: [26][18/19] Elapsed 0m 2s (remain 0m 0s) Loss: 0.1573(0.1464) Grad: 4.0149  LR: 0.000057  \n",
      "EVAL: [0/3] Elapsed 0m 0s (remain 0m 0s) Loss: 0.2734(0.2734) \n"
     ]
    },
    {
     "name": "stderr",
     "output_type": "stream",
     "text": [
      "Epoch 26 - avg_train_loss: 0.1464  avg_val_loss: 0.2295  time: 4s\n",
      "Epoch 26 - Score: 0.2342\n"
     ]
    },
    {
     "name": "stdout",
     "output_type": "stream",
     "text": [
      "EVAL: [2/3] Elapsed 0m 0s (remain 0m 0s) Loss: 0.1399(0.2295) \n",
      "Epoch: [27][0/19] Elapsed 0m 0s (remain 0m 2s) Loss: 0.1418(0.1418) Grad: 16.4376  LR: 0.000009  \n",
      "Epoch: [27][10/19] Elapsed 0m 1s (remain 0m 1s) Loss: 0.1101(0.1213) Grad: 2.9471  LR: 0.000009  \n",
      "Epoch: [27][18/19] Elapsed 0m 2s (remain 0m 0s) Loss: 0.0809(0.1097) Grad: 4.2827  LR: 0.000009  \n",
      "EVAL: [0/3] Elapsed 0m 0s (remain 0m 0s) Loss: 0.2769(0.2769) \n"
     ]
    },
    {
     "name": "stderr",
     "output_type": "stream",
     "text": [
      "Epoch 27 - avg_train_loss: 0.1097  avg_val_loss: 0.2211  time: 3s\n",
      "Epoch 27 - Score: 0.2280\n"
     ]
    },
    {
     "name": "stdout",
     "output_type": "stream",
     "text": [
      "EVAL: [2/3] Elapsed 0m 0s (remain 0m 0s) Loss: 0.1207(0.2211) \n",
      "Epoch: [28][0/19] Elapsed 0m 0s (remain 0m 2s) Loss: 0.0628(0.0628) Grad: 3.0016  LR: 0.000001  \n",
      "Epoch: [28][10/19] Elapsed 0m 1s (remain 0m 1s) Loss: 0.0894(0.0902) Grad: 5.0353  LR: 0.000001  \n",
      "Epoch: [28][18/19] Elapsed 0m 2s (remain 0m 0s) Loss: 0.1086(0.0885) Grad: 6.9152  LR: 0.000001  \n",
      "EVAL: [0/3] Elapsed 0m 0s (remain 0m 0s) Loss: 0.2587(0.2587) \n"
     ]
    },
    {
     "name": "stderr",
     "output_type": "stream",
     "text": [
      "Epoch 28 - avg_train_loss: 0.0885  avg_val_loss: 0.2066  time: 3s\n",
      "Epoch 28 - Score: 0.2137\n",
      "Epoch 28 - Save Best Score: 0.2137 Model\n"
     ]
    },
    {
     "name": "stdout",
     "output_type": "stream",
     "text": [
      "EVAL: [2/3] Elapsed 0m 0s (remain 0m 0s) Loss: 0.1035(0.2066) \n",
      "Epoch: [29][0/19] Elapsed 0m 0s (remain 0m 2s) Loss: 0.0799(0.0799) Grad: 5.1685  LR: 0.000050  \n",
      "Epoch: [29][10/19] Elapsed 0m 1s (remain 0m 1s) Loss: 0.1038(0.0885) Grad: 14.9663  LR: 0.000050  \n",
      "Epoch: [29][18/19] Elapsed 0m 2s (remain 0m 0s) Loss: 0.0892(0.0844) Grad: 6.9060  LR: 0.000050  \n",
      "EVAL: [0/3] Elapsed 0m 0s (remain 0m 0s) Loss: 0.2520(0.2520) \n"
     ]
    },
    {
     "name": "stderr",
     "output_type": "stream",
     "text": [
      "Epoch 29 - avg_train_loss: 0.0844  avg_val_loss: 0.2079  time: 4s\n",
      "Epoch 29 - Score: 0.2134\n",
      "Epoch 29 - Save Best Score: 0.2134 Model\n"
     ]
    },
    {
     "name": "stdout",
     "output_type": "stream",
     "text": [
      "EVAL: [2/3] Elapsed 0m 0s (remain 0m 0s) Loss: 0.1144(0.2079) \n",
      "Epoch: [30][0/19] Elapsed 0m 0s (remain 0m 2s) Loss: 0.0826(0.0826) Grad: 14.8166  LR: 0.000224  \n",
      "Epoch: [30][10/19] Elapsed 0m 1s (remain 0m 1s) Loss: 0.0796(0.1058) Grad: 2.7061  LR: 0.000224  \n",
      "Epoch: [30][18/19] Elapsed 0m 2s (remain 0m 0s) Loss: 0.1231(0.1040) Grad: 18.7726  LR: 0.000224  \n",
      "EVAL: [0/3] Elapsed 0m 0s (remain 0m 0s) Loss: 0.2802(0.2802) \n"
     ]
    },
    {
     "name": "stderr",
     "output_type": "stream",
     "text": [
      "Epoch 30 - avg_train_loss: 0.1040  avg_val_loss: 0.2227  time: 4s\n",
      "Epoch 30 - Score: 0.2298\n"
     ]
    },
    {
     "name": "stdout",
     "output_type": "stream",
     "text": [
      "EVAL: [2/3] Elapsed 0m 0s (remain 0m 0s) Loss: 0.1221(0.2227) \n",
      "Epoch: [31][0/19] Elapsed 0m 0s (remain 0m 2s) Loss: 0.1047(0.1047) Grad: 6.4815  LR: 0.000133  \n",
      "Epoch: [31][10/19] Elapsed 0m 1s (remain 0m 1s) Loss: 0.2077(0.1743) Grad: 25.2795  LR: 0.000133  \n",
      "Epoch: [31][18/19] Elapsed 0m 2s (remain 0m 0s) Loss: 0.1082(0.1689) Grad: 7.6705  LR: 0.000133  \n",
      "EVAL: [0/3] Elapsed 0m 0s (remain 0m 0s) Loss: 0.2647(0.2647) \n"
     ]
    },
    {
     "name": "stderr",
     "output_type": "stream",
     "text": [
      "Epoch 31 - avg_train_loss: 0.1689  avg_val_loss: 0.2125  time: 4s\n",
      "Epoch 31 - Score: 0.2185\n"
     ]
    },
    {
     "name": "stdout",
     "output_type": "stream",
     "text": [
      "EVAL: [2/3] Elapsed 0m 0s (remain 0m 0s) Loss: 0.1240(0.2125) \n",
      "Epoch: [32][0/19] Elapsed 0m 0s (remain 0m 2s) Loss: 0.1135(0.1135) Grad: 4.6700  LR: 0.000057  \n",
      "Epoch: [32][10/19] Elapsed 0m 1s (remain 0m 1s) Loss: 0.1029(0.1061) Grad: 12.0496  LR: 0.000057  \n",
      "Epoch: [32][18/19] Elapsed 0m 2s (remain 0m 0s) Loss: 0.0961(0.1084) Grad: 11.2395  LR: 0.000057  \n",
      "EVAL: [0/3] Elapsed 0m 0s (remain 0m 0s) Loss: 0.3174(0.3174) \n"
     ]
    },
    {
     "name": "stderr",
     "output_type": "stream",
     "text": [
      "Epoch 32 - avg_train_loss: 0.1084  avg_val_loss: 0.2720  time: 4s\n",
      "Epoch 32 - Score: 0.2754\n"
     ]
    },
    {
     "name": "stdout",
     "output_type": "stream",
     "text": [
      "EVAL: [2/3] Elapsed 0m 0s (remain 0m 0s) Loss: 0.1989(0.2720) \n",
      "Epoch: [33][0/19] Elapsed 0m 0s (remain 0m 2s) Loss: 0.1586(0.1586) Grad: 22.7321  LR: 0.000009  \n",
      "Epoch: [33][10/19] Elapsed 0m 1s (remain 0m 1s) Loss: 0.1035(0.1183) Grad: 17.3142  LR: 0.000009  \n",
      "Epoch: [33][18/19] Elapsed 0m 2s (remain 0m 0s) Loss: 0.0799(0.1083) Grad: 8.2829  LR: 0.000009  \n",
      "EVAL: [0/3] Elapsed 0m 0s (remain 0m 0s) Loss: 0.2577(0.2577) \n"
     ]
    },
    {
     "name": "stderr",
     "output_type": "stream",
     "text": [
      "Epoch 33 - avg_train_loss: 0.1083  avg_val_loss: 0.2134  time: 4s\n",
      "Epoch 33 - Score: 0.2189\n"
     ]
    },
    {
     "name": "stdout",
     "output_type": "stream",
     "text": [
      "EVAL: [2/3] Elapsed 0m 0s (remain 0m 0s) Loss: 0.1176(0.2134) \n",
      "Epoch: [34][0/19] Elapsed 0m 0s (remain 0m 2s) Loss: 0.0661(0.0661) Grad: 7.9385  LR: 0.000001  \n",
      "Epoch: [34][10/19] Elapsed 0m 1s (remain 0m 1s) Loss: 0.0680(0.0805) Grad: 3.7188  LR: 0.000001  \n",
      "Epoch: [34][18/19] Elapsed 0m 2s (remain 0m 0s) Loss: 0.0765(0.0788) Grad: 7.7665  LR: 0.000001  \n",
      "EVAL: [0/3] Elapsed 0m 0s (remain 0m 0s) Loss: 0.2604(0.2604) \n"
     ]
    },
    {
     "name": "stderr",
     "output_type": "stream",
     "text": [
      "Epoch 34 - avg_train_loss: 0.0788  avg_val_loss: 0.2047  time: 3s\n",
      "Epoch 34 - Score: 0.2128\n",
      "Epoch 34 - Save Best Score: 0.2128 Model\n"
     ]
    },
    {
     "name": "stdout",
     "output_type": "stream",
     "text": [
      "EVAL: [2/3] Elapsed 0m 0s (remain 0m 0s) Loss: 0.0945(0.2047) \n",
      "Epoch: [35][0/19] Elapsed 0m 0s (remain 0m 2s) Loss: 0.0891(0.0891) Grad: 2.6129  LR: 0.000050  \n",
      "Epoch: [35][10/19] Elapsed 0m 1s (remain 0m 1s) Loss: 0.0829(0.0834) Grad: 3.1269  LR: 0.000050  \n",
      "Epoch: [35][18/19] Elapsed 0m 2s (remain 0m 0s) Loss: 0.0554(0.0802) Grad: 7.2729  LR: 0.000050  \n",
      "EVAL: [0/3] Elapsed 0m 0s (remain 0m 0s) Loss: 0.2698(0.2698) \n"
     ]
    },
    {
     "name": "stderr",
     "output_type": "stream",
     "text": [
      "Epoch 35 - avg_train_loss: 0.0802  avg_val_loss: 0.2119  time: 4s\n",
      "Epoch 35 - Score: 0.2195\n"
     ]
    },
    {
     "name": "stdout",
     "output_type": "stream",
     "text": [
      "EVAL: [2/3] Elapsed 0m 0s (remain 0m 0s) Loss: 0.1088(0.2119) \n",
      "Epoch: [36][0/19] Elapsed 0m 0s (remain 0m 2s) Loss: 0.0836(0.0836) Grad: 14.3051  LR: 0.000224  \n",
      "Epoch: [36][10/19] Elapsed 0m 1s (remain 0m 1s) Loss: 0.1034(0.0964) Grad: 7.4919  LR: 0.000224  \n",
      "Epoch: [36][18/19] Elapsed 0m 2s (remain 0m 0s) Loss: 0.0900(0.0992) Grad: 19.8016  LR: 0.000224  \n",
      "EVAL: [0/3] Elapsed 0m 0s (remain 0m 0s) Loss: 0.2857(0.2857) \n"
     ]
    },
    {
     "name": "stderr",
     "output_type": "stream",
     "text": [
      "Epoch 36 - avg_train_loss: 0.0992  avg_val_loss: 0.2288  time: 4s\n",
      "Epoch 36 - Score: 0.2356\n"
     ]
    },
    {
     "name": "stdout",
     "output_type": "stream",
     "text": [
      "EVAL: [2/3] Elapsed 0m 0s (remain 0m 0s) Loss: 0.1284(0.2288) \n",
      "Epoch: [37][0/19] Elapsed 0m 0s (remain 0m 2s) Loss: 0.0947(0.0947) Grad: 6.3547  LR: 0.000133  \n",
      "Epoch: [37][10/19] Elapsed 0m 1s (remain 0m 1s) Loss: 0.1522(0.1286) Grad: 20.0814  LR: 0.000133  \n",
      "Epoch: [37][18/19] Elapsed 0m 2s (remain 0m 0s) Loss: 0.1240(0.1232) Grad: 13.6526  LR: 0.000133  \n",
      "EVAL: [0/3] Elapsed 0m 0s (remain 0m 0s) Loss: 0.2892(0.2892) \n"
     ]
    },
    {
     "name": "stderr",
     "output_type": "stream",
     "text": [
      "Epoch 37 - avg_train_loss: 0.1232  avg_val_loss: 0.2535  time: 4s\n",
      "Epoch 37 - Score: 0.2566\n"
     ]
    },
    {
     "name": "stdout",
     "output_type": "stream",
     "text": [
      "EVAL: [2/3] Elapsed 0m 0s (remain 0m 0s) Loss: 0.1755(0.2535) \n",
      "Epoch: [38][0/19] Elapsed 0m 0s (remain 0m 2s) Loss: 0.1818(0.1818) Grad: 19.8967  LR: 0.000057  \n",
      "Epoch: [38][10/19] Elapsed 0m 1s (remain 0m 1s) Loss: 0.0893(0.1167) Grad: 10.4986  LR: 0.000057  \n",
      "Epoch: [38][18/19] Elapsed 0m 2s (remain 0m 0s) Loss: 0.1419(0.1156) Grad: 17.4963  LR: 0.000057  \n",
      "EVAL: [0/3] Elapsed 0m 0s (remain 0m 0s) Loss: 0.2705(0.2705) \n"
     ]
    },
    {
     "name": "stderr",
     "output_type": "stream",
     "text": [
      "Epoch 38 - avg_train_loss: 0.1156  avg_val_loss: 0.2355  time: 4s\n",
      "Epoch 38 - Score: 0.2397\n"
     ]
    },
    {
     "name": "stdout",
     "output_type": "stream",
     "text": [
      "EVAL: [2/3] Elapsed 0m 0s (remain 0m 0s) Loss: 0.1411(0.2355) \n",
      "Epoch: [39][0/19] Elapsed 0m 0s (remain 0m 2s) Loss: 0.1069(0.1069) Grad: 16.0916  LR: 0.000009  \n",
      "Epoch: [39][10/19] Elapsed 0m 1s (remain 0m 1s) Loss: 0.0750(0.1000) Grad: 9.5615  LR: 0.000009  \n",
      "Epoch: [39][18/19] Elapsed 0m 2s (remain 0m 0s) Loss: 0.1123(0.1026) Grad: 14.3785  LR: 0.000009  \n",
      "EVAL: [0/3] Elapsed 0m 0s (remain 0m 0s) Loss: 0.2494(0.2494) \n"
     ]
    },
    {
     "name": "stderr",
     "output_type": "stream",
     "text": [
      "Epoch 39 - avg_train_loss: 0.1026  avg_val_loss: 0.2085  time: 4s\n",
      "Epoch 39 - Score: 0.2125\n",
      "Epoch 39 - Save Best Score: 0.2125 Model\n"
     ]
    },
    {
     "name": "stdout",
     "output_type": "stream",
     "text": [
      "EVAL: [2/3] Elapsed 0m 0s (remain 0m 0s) Loss: 0.1344(0.2085) \n",
      "Epoch: [40][0/19] Elapsed 0m 0s (remain 0m 2s) Loss: 0.0940(0.0940) Grad: 9.6239  LR: 0.000001  \n",
      "Epoch: [40][10/19] Elapsed 0m 1s (remain 0m 1s) Loss: 0.0761(0.0869) Grad: 6.7480  LR: 0.000001  \n",
      "Epoch: [40][18/19] Elapsed 0m 2s (remain 0m 0s) Loss: 0.0857(0.0848) Grad: 10.6039  LR: 0.000001  \n",
      "EVAL: [0/3] Elapsed 0m 0s (remain 0m 0s) Loss: 0.2591(0.2591) \n"
     ]
    },
    {
     "name": "stderr",
     "output_type": "stream",
     "text": [
      "Epoch 40 - avg_train_loss: 0.0848  avg_val_loss: 0.2038  time: 3s\n",
      "Epoch 40 - Score: 0.2110\n",
      "Epoch 40 - Save Best Score: 0.2110 Model\n"
     ]
    },
    {
     "name": "stdout",
     "output_type": "stream",
     "text": [
      "EVAL: [2/3] Elapsed 0m 0s (remain 0m 0s) Loss: 0.1061(0.2038) \n"
     ]
    },
    {
     "name": "stderr",
     "output_type": "stream",
     "text": [
      "========== fold: 0 result ==========\n",
      "Score: 0.2110\n",
      "========== fold: 1 training ==========\n"
     ]
    },
    {
     "name": "stdout",
     "output_type": "stream",
     "text": [
      "Epoch: [1][0/19] Elapsed 0m 0s (remain 0m 2s) Loss: 3.4928(3.4928) Grad: 24.7124  LR: 0.000100  \n",
      "Epoch: [1][10/19] Elapsed 0m 1s (remain 0m 1s) Loss: 1.0962(1.6958) Grad: 25.4102  LR: 0.000100  \n",
      "Epoch: [1][18/19] Elapsed 0m 2s (remain 0m 0s) Loss: 0.7986(1.3110) Grad: 22.1299  LR: 0.000100  \n",
      "EVAL: [0/3] Elapsed 0m 0s (remain 0m 0s) Loss: 0.5363(0.5363) \n"
     ]
    },
    {
     "name": "stderr",
     "output_type": "stream",
     "text": [
      "Epoch 1 - avg_train_loss: 1.3110  avg_val_loss: 0.4980  time: 3s\n",
      "Epoch 1 - Score: 0.4991\n",
      "Epoch 1 - Save Best Score: 0.4991 Model\n"
     ]
    },
    {
     "name": "stdout",
     "output_type": "stream",
     "text": [
      "EVAL: [2/3] Elapsed 0m 0s (remain 0m 0s) Loss: 0.4548(0.4980) \n",
      "Epoch: [2][0/19] Elapsed 0m 0s (remain 0m 2s) Loss: 0.5127(0.5127) Grad: 10.5453  LR: 0.000057  \n",
      "Epoch: [2][10/19] Elapsed 0m 1s (remain 0m 1s) Loss: 0.4687(0.5328) Grad: 23.3871  LR: 0.000057  \n",
      "Epoch: [2][18/19] Elapsed 0m 2s (remain 0m 0s) Loss: 0.3764(0.4881) Grad: 11.1587  LR: 0.000057  \n",
      "EVAL: [0/3] Elapsed 0m 0s (remain 0m 0s) Loss: 0.3986(0.3986) \n"
     ]
    },
    {
     "name": "stderr",
     "output_type": "stream",
     "text": [
      "Epoch 2 - avg_train_loss: 0.4881  avg_val_loss: 0.3543  time: 4s\n",
      "Epoch 2 - Score: 0.3564\n",
      "Epoch 2 - Save Best Score: 0.3564 Model\n"
     ]
    },
    {
     "name": "stdout",
     "output_type": "stream",
     "text": [
      "EVAL: [2/3] Elapsed 0m 0s (remain 0m 0s) Loss: 0.3418(0.3543) \n",
      "Epoch: [3][0/19] Elapsed 0m 0s (remain 0m 3s) Loss: 0.2763(0.2763) Grad: 3.5139  LR: 0.000009  \n",
      "Epoch: [3][10/19] Elapsed 0m 1s (remain 0m 1s) Loss: 0.3171(0.3211) Grad: 5.2500  LR: 0.000009  \n",
      "Epoch: [3][18/19] Elapsed 0m 3s (remain 0m 0s) Loss: 0.3041(0.3325) Grad: 3.5467  LR: 0.000009  \n",
      "EVAL: [0/3] Elapsed 0m 0s (remain 0m 0s) Loss: 0.3293(0.3293) \n"
     ]
    },
    {
     "name": "stderr",
     "output_type": "stream",
     "text": [
      "Epoch 3 - avg_train_loss: 0.3325  avg_val_loss: 0.3208  time: 4s\n",
      "Epoch 3 - Score: 0.3210\n",
      "Epoch 3 - Save Best Score: 0.3210 Model\n"
     ]
    },
    {
     "name": "stdout",
     "output_type": "stream",
     "text": [
      "EVAL: [2/3] Elapsed 0m 0s (remain 0m 0s) Loss: 0.3032(0.3208) \n",
      "Epoch: [4][0/19] Elapsed 0m 0s (remain 0m 2s) Loss: 0.3339(0.3339) Grad: 5.1137  LR: 0.000001  \n",
      "Epoch: [4][10/19] Elapsed 0m 1s (remain 0m 1s) Loss: 0.2741(0.2870) Grad: 4.0502  LR: 0.000001  \n",
      "Epoch: [4][18/19] Elapsed 0m 2s (remain 0m 0s) Loss: 0.2993(0.2893) Grad: 3.7191  LR: 0.000001  \n",
      "EVAL: [0/3] Elapsed 0m 0s (remain 0m 0s) Loss: 0.2969(0.2969) \n"
     ]
    },
    {
     "name": "stderr",
     "output_type": "stream",
     "text": [
      "Epoch 4 - avg_train_loss: 0.2893  avg_val_loss: 0.3024  time: 4s\n",
      "Epoch 4 - Score: 0.3026\n",
      "Epoch 4 - Save Best Score: 0.3026 Model\n"
     ]
    },
    {
     "name": "stdout",
     "output_type": "stream",
     "text": [
      "EVAL: [2/3] Elapsed 0m 0s (remain 0m 0s) Loss: 0.2821(0.3024) \n",
      "Epoch: [5][0/19] Elapsed 0m 0s (remain 0m 2s) Loss: 0.2244(0.2244) Grad: 3.6634  LR: 0.000050  \n",
      "Epoch: [5][10/19] Elapsed 0m 1s (remain 0m 1s) Loss: 0.3456(0.3007) Grad: 16.0844  LR: 0.000050  \n",
      "Epoch: [5][18/19] Elapsed 0m 2s (remain 0m 0s) Loss: 0.2266(0.2954) Grad: 3.5315  LR: 0.000050  \n",
      "EVAL: [0/3] Elapsed 0m 0s (remain 0m 0s) Loss: 0.3065(0.3065) \n"
     ]
    },
    {
     "name": "stderr",
     "output_type": "stream",
     "text": [
      "Epoch 5 - avg_train_loss: 0.2954  avg_val_loss: 0.3118  time: 3s\n",
      "Epoch 5 - Score: 0.3118\n"
     ]
    },
    {
     "name": "stdout",
     "output_type": "stream",
     "text": [
      "EVAL: [2/3] Elapsed 0m 0s (remain 0m 0s) Loss: 0.3243(0.3118) \n",
      "Epoch: [6][0/19] Elapsed 0m 0s (remain 0m 2s) Loss: 0.2473(0.2473) Grad: 16.3846  LR: 0.000224  \n",
      "Epoch: [6][10/19] Elapsed 0m 1s (remain 0m 1s) Loss: 0.2711(0.2608) Grad: 12.2538  LR: 0.000224  \n",
      "Epoch: [6][18/19] Elapsed 0m 2s (remain 0m 0s) Loss: 0.2198(0.2556) Grad: 10.2316  LR: 0.000224  \n",
      "EVAL: [0/3] Elapsed 0m 0s (remain 0m 0s) Loss: 0.2380(0.2380) \n"
     ]
    },
    {
     "name": "stderr",
     "output_type": "stream",
     "text": [
      "Epoch 6 - avg_train_loss: 0.2556  avg_val_loss: 0.2540  time: 4s\n",
      "Epoch 6 - Score: 0.2544\n",
      "Epoch 6 - Save Best Score: 0.2544 Model\n"
     ]
    },
    {
     "name": "stdout",
     "output_type": "stream",
     "text": [
      "EVAL: [2/3] Elapsed 0m 0s (remain 0m 0s) Loss: 0.2575(0.2540) \n",
      "Epoch: [7][0/19] Elapsed 0m 0s (remain 0m 2s) Loss: 0.1911(0.1911) Grad: 4.2931  LR: 0.000133  \n",
      "Epoch: [7][10/19] Elapsed 0m 1s (remain 0m 1s) Loss: 0.2640(0.2206) Grad: 13.3680  LR: 0.000133  \n",
      "Epoch: [7][18/19] Elapsed 0m 2s (remain 0m 0s) Loss: 0.3866(0.2414) Grad: 11.1249  LR: 0.000133  \n",
      "EVAL: [0/3] Elapsed 0m 0s (remain 0m 0s) Loss: 0.2767(0.2767) \n"
     ]
    },
    {
     "name": "stderr",
     "output_type": "stream",
     "text": [
      "Epoch 7 - avg_train_loss: 0.2414  avg_val_loss: 0.2678  time: 4s\n",
      "Epoch 7 - Score: 0.2682\n"
     ]
    },
    {
     "name": "stdout",
     "output_type": "stream",
     "text": [
      "EVAL: [2/3] Elapsed 0m 0s (remain 0m 0s) Loss: 0.2324(0.2678) \n",
      "Epoch: [8][0/19] Elapsed 0m 0s (remain 0m 2s) Loss: 0.1819(0.1819) Grad: 7.0347  LR: 0.000057  \n",
      "Epoch: [8][10/19] Elapsed 0m 1s (remain 0m 1s) Loss: 0.2105(0.2402) Grad: 14.4437  LR: 0.000057  \n",
      "Epoch: [8][18/19] Elapsed 0m 2s (remain 0m 0s) Loss: 0.1735(0.2227) Grad: 3.0939  LR: 0.000057  \n",
      "EVAL: [0/3] Elapsed 0m 0s (remain 0m 0s) Loss: 0.2259(0.2259) \n"
     ]
    },
    {
     "name": "stderr",
     "output_type": "stream",
     "text": [
      "Epoch 8 - avg_train_loss: 0.2227  avg_val_loss: 0.2666  time: 4s\n",
      "Epoch 8 - Score: 0.2690\n"
     ]
    },
    {
     "name": "stdout",
     "output_type": "stream",
     "text": [
      "EVAL: [2/3] Elapsed 0m 0s (remain 0m 0s) Loss: 0.3188(0.2666) \n",
      "Epoch: [9][0/19] Elapsed 0m 0s (remain 0m 2s) Loss: 0.1551(0.1551) Grad: 8.8459  LR: 0.000009  \n",
      "Epoch: [9][10/19] Elapsed 0m 1s (remain 0m 1s) Loss: 0.1266(0.1657) Grad: 6.6573  LR: 0.000009  \n",
      "Epoch: [9][18/19] Elapsed 0m 2s (remain 0m 0s) Loss: 0.1484(0.1727) Grad: 3.9883  LR: 0.000009  \n",
      "EVAL: [0/3] Elapsed 0m 0s (remain 0m 0s) Loss: 0.2221(0.2221) \n"
     ]
    },
    {
     "name": "stderr",
     "output_type": "stream",
     "text": [
      "Epoch 9 - avg_train_loss: 0.1727  avg_val_loss: 0.2502  time: 4s\n",
      "Epoch 9 - Score: 0.2513\n",
      "Epoch 9 - Save Best Score: 0.2513 Model\n"
     ]
    },
    {
     "name": "stdout",
     "output_type": "stream",
     "text": [
      "EVAL: [2/3] Elapsed 0m 0s (remain 0m 0s) Loss: 0.2655(0.2502) \n",
      "Epoch: [10][0/19] Elapsed 0m 0s (remain 0m 2s) Loss: 0.1497(0.1497) Grad: 15.2672  LR: 0.000001  \n",
      "Epoch: [10][10/19] Elapsed 0m 1s (remain 0m 1s) Loss: 0.1595(0.1592) Grad: 10.7470  LR: 0.000001  \n",
      "Epoch: [10][18/19] Elapsed 0m 2s (remain 0m 0s) Loss: 0.0998(0.1486) Grad: 4.1469  LR: 0.000001  \n",
      "EVAL: [0/3] Elapsed 0m 0s (remain 0m 0s) Loss: 0.1721(0.1721) \n"
     ]
    },
    {
     "name": "stderr",
     "output_type": "stream",
     "text": [
      "Epoch 10 - avg_train_loss: 0.1486  avg_val_loss: 0.2193  time: 3s\n",
      "Epoch 10 - Score: 0.2229\n",
      "Epoch 10 - Save Best Score: 0.2229 Model\n"
     ]
    },
    {
     "name": "stdout",
     "output_type": "stream",
     "text": [
      "EVAL: [2/3] Elapsed 0m 0s (remain 0m 0s) Loss: 0.2507(0.2193) \n",
      "Epoch: [11][0/19] Elapsed 0m 0s (remain 0m 2s) Loss: 0.1319(0.1319) Grad: 10.7809  LR: 0.000050  \n",
      "Epoch: [11][10/19] Elapsed 0m 1s (remain 0m 1s) Loss: 0.1424(0.1370) Grad: 12.3332  LR: 0.000050  \n",
      "Epoch: [11][18/19] Elapsed 0m 2s (remain 0m 0s) Loss: 0.1553(0.1450) Grad: 17.7052  LR: 0.000050  \n",
      "EVAL: [0/3] Elapsed 0m 0s (remain 0m 0s) Loss: 0.2008(0.2008) \n"
     ]
    },
    {
     "name": "stderr",
     "output_type": "stream",
     "text": [
      "Epoch 11 - avg_train_loss: 0.1450  avg_val_loss: 0.2408  time: 4s\n",
      "Epoch 11 - Score: 0.2432\n"
     ]
    },
    {
     "name": "stdout",
     "output_type": "stream",
     "text": [
      "EVAL: [2/3] Elapsed 0m 0s (remain 0m 0s) Loss: 0.2539(0.2408) \n",
      "Epoch: [12][0/19] Elapsed 0m 0s (remain 0m 2s) Loss: 0.1298(0.1298) Grad: 3.5674  LR: 0.000224  \n",
      "Epoch: [12][10/19] Elapsed 0m 1s (remain 0m 1s) Loss: 0.1190(0.1491) Grad: 4.4217  LR: 0.000224  \n",
      "Epoch: [12][18/19] Elapsed 0m 2s (remain 0m 0s) Loss: 0.1868(0.1593) Grad: 6.7988  LR: 0.000224  \n",
      "EVAL: [0/3] Elapsed 0m 0s (remain 0m 0s) Loss: 0.1676(0.1676) \n"
     ]
    },
    {
     "name": "stderr",
     "output_type": "stream",
     "text": [
      "Epoch 12 - avg_train_loss: 0.1593  avg_val_loss: 0.2253  time: 3s\n",
      "Epoch 12 - Score: 0.2305\n"
     ]
    },
    {
     "name": "stdout",
     "output_type": "stream",
     "text": [
      "EVAL: [2/3] Elapsed 0m 0s (remain 0m 0s) Loss: 0.2754(0.2253) \n",
      "Epoch: [13][0/19] Elapsed 0m 0s (remain 0m 3s) Loss: 0.1772(0.1772) Grad: 19.4183  LR: 0.000133  \n",
      "Epoch: [13][10/19] Elapsed 0m 1s (remain 0m 1s) Loss: 0.2149(0.2360) Grad: 19.1877  LR: 0.000133  \n",
      "Epoch: [13][18/19] Elapsed 0m 2s (remain 0m 0s) Loss: 0.1210(0.2302) Grad: 8.2380  LR: 0.000133  \n",
      "EVAL: [0/3] Elapsed 0m 0s (remain 0m 0s) Loss: 0.3055(0.3055) \n"
     ]
    },
    {
     "name": "stderr",
     "output_type": "stream",
     "text": [
      "Epoch 13 - avg_train_loss: 0.2302  avg_val_loss: 0.3056  time: 4s\n",
      "Epoch 13 - Score: 0.3058\n"
     ]
    },
    {
     "name": "stdout",
     "output_type": "stream",
     "text": [
      "EVAL: [2/3] Elapsed 0m 0s (remain 0m 0s) Loss: 0.3300(0.3056) \n",
      "Epoch: [14][0/19] Elapsed 0m 0s (remain 0m 2s) Loss: 0.2134(0.2134) Grad: 17.8501  LR: 0.000057  \n",
      "Epoch: [14][10/19] Elapsed 0m 1s (remain 0m 1s) Loss: 0.2521(0.2086) Grad: 15.7813  LR: 0.000057  \n",
      "Epoch: [14][18/19] Elapsed 0m 2s (remain 0m 0s) Loss: 0.1591(0.1982) Grad: 3.2932  LR: 0.000057  \n",
      "EVAL: [0/3] Elapsed 0m 0s (remain 0m 0s) Loss: 0.1696(0.1696) \n"
     ]
    },
    {
     "name": "stderr",
     "output_type": "stream",
     "text": [
      "Epoch 14 - avg_train_loss: 0.1982  avg_val_loss: 0.1953  time: 4s\n",
      "Epoch 14 - Score: 0.1965\n",
      "Epoch 14 - Save Best Score: 0.1965 Model\n"
     ]
    },
    {
     "name": "stdout",
     "output_type": "stream",
     "text": [
      "EVAL: [2/3] Elapsed 0m 0s (remain 0m 0s) Loss: 0.2138(0.1953) \n",
      "Epoch: [15][0/19] Elapsed 0m 0s (remain 0m 2s) Loss: 0.1125(0.1125) Grad: 8.7067  LR: 0.000009  \n",
      "Epoch: [15][10/19] Elapsed 0m 1s (remain 0m 1s) Loss: 0.1191(0.1202) Grad: 5.4557  LR: 0.000009  \n",
      "Epoch: [15][18/19] Elapsed 0m 2s (remain 0m 0s) Loss: 0.1462(0.1257) Grad: 7.7354  LR: 0.000009  \n",
      "EVAL: [0/3] Elapsed 0m 0s (remain 0m 0s) Loss: 0.1685(0.1685) \n"
     ]
    },
    {
     "name": "stderr",
     "output_type": "stream",
     "text": [
      "Epoch 15 - avg_train_loss: 0.1257  avg_val_loss: 0.2110  time: 4s\n",
      "Epoch 15 - Score: 0.2141\n"
     ]
    },
    {
     "name": "stdout",
     "output_type": "stream",
     "text": [
      "EVAL: [2/3] Elapsed 0m 0s (remain 0m 0s) Loss: 0.2517(0.2110) \n",
      "Epoch: [16][0/19] Elapsed 0m 0s (remain 0m 2s) Loss: 0.1001(0.1001) Grad: 3.0187  LR: 0.000001  \n",
      "Epoch: [16][10/19] Elapsed 0m 1s (remain 0m 1s) Loss: 0.1089(0.1061) Grad: 3.8282  LR: 0.000001  \n",
      "Epoch: [16][18/19] Elapsed 0m 2s (remain 0m 0s) Loss: 0.1040(0.1047) Grad: 5.9757  LR: 0.000001  \n",
      "EVAL: [0/3] Elapsed 0m 0s (remain 0m 0s) Loss: 0.1351(0.1351) \n"
     ]
    },
    {
     "name": "stderr",
     "output_type": "stream",
     "text": [
      "Epoch 16 - avg_train_loss: 0.1047  avg_val_loss: 0.1769  time: 4s\n",
      "Epoch 16 - Score: 0.1807\n",
      "Epoch 16 - Save Best Score: 0.1807 Model\n"
     ]
    },
    {
     "name": "stdout",
     "output_type": "stream",
     "text": [
      "EVAL: [2/3] Elapsed 0m 0s (remain 0m 0s) Loss: 0.1876(0.1769) \n",
      "Epoch: [17][0/19] Elapsed 0m 0s (remain 0m 2s) Loss: 0.1283(0.1283) Grad: 11.6885  LR: 0.000050  \n",
      "Epoch: [17][10/19] Elapsed 0m 1s (remain 0m 1s) Loss: 0.1079(0.1159) Grad: 9.1950  LR: 0.000050  \n",
      "Epoch: [17][18/19] Elapsed 0m 2s (remain 0m 0s) Loss: 0.1159(0.1139) Grad: 5.9536  LR: 0.000050  \n",
      "EVAL: [0/3] Elapsed 0m 0s (remain 0m 0s) Loss: 0.1536(0.1536) \n"
     ]
    },
    {
     "name": "stderr",
     "output_type": "stream",
     "text": [
      "Epoch 17 - avg_train_loss: 0.1139  avg_val_loss: 0.1931  time: 3s\n",
      "Epoch 17 - Score: 0.1961\n"
     ]
    },
    {
     "name": "stdout",
     "output_type": "stream",
     "text": [
      "EVAL: [2/3] Elapsed 0m 0s (remain 0m 0s) Loss: 0.2359(0.1931) \n",
      "Epoch: [18][0/19] Elapsed 0m 0s (remain 0m 2s) Loss: 0.0992(0.0992) Grad: 11.1532  LR: 0.000224  \n",
      "Epoch: [18][10/19] Elapsed 0m 1s (remain 0m 1s) Loss: 0.1115(0.1452) Grad: 9.8324  LR: 0.000224  \n",
      "Epoch: [18][18/19] Elapsed 0m 2s (remain 0m 0s) Loss: 0.1839(0.1442) Grad: 16.2677  LR: 0.000224  \n",
      "EVAL: [0/3] Elapsed 0m 0s (remain 0m 0s) Loss: 0.1686(0.1686) \n"
     ]
    },
    {
     "name": "stderr",
     "output_type": "stream",
     "text": [
      "Epoch 18 - avg_train_loss: 0.1442  avg_val_loss: 0.2063  time: 4s\n",
      "Epoch 18 - Score: 0.2091\n"
     ]
    },
    {
     "name": "stdout",
     "output_type": "stream",
     "text": [
      "EVAL: [2/3] Elapsed 0m 0s (remain 0m 0s) Loss: 0.2046(0.2063) \n",
      "Epoch: [19][0/19] Elapsed 0m 0s (remain 0m 2s) Loss: 0.1043(0.1043) Grad: 11.2552  LR: 0.000133  \n",
      "Epoch: [19][10/19] Elapsed 0m 1s (remain 0m 1s) Loss: 0.2355(0.1834) Grad: 22.0936  LR: 0.000133  \n",
      "Epoch: [19][18/19] Elapsed 0m 2s (remain 0m 0s) Loss: 0.1540(0.1696) Grad: 9.2453  LR: 0.000133  \n",
      "EVAL: [0/3] Elapsed 0m 0s (remain 0m 0s) Loss: 0.1881(0.1881) \n"
     ]
    },
    {
     "name": "stderr",
     "output_type": "stream",
     "text": [
      "Epoch 19 - avg_train_loss: 0.1696  avg_val_loss: 0.2194  time: 3s\n",
      "Epoch 19 - Score: 0.2213\n"
     ]
    },
    {
     "name": "stdout",
     "output_type": "stream",
     "text": [
      "EVAL: [2/3] Elapsed 0m 0s (remain 0m 0s) Loss: 0.2155(0.2194) \n",
      "Epoch: [20][0/19] Elapsed 0m 0s (remain 0m 2s) Loss: 0.1685(0.1685) Grad: 10.1873  LR: 0.000057  \n",
      "Epoch: [20][10/19] Elapsed 0m 1s (remain 0m 1s) Loss: 0.1559(0.1346) Grad: 3.8643  LR: 0.000057  \n",
      "Epoch: [20][18/19] Elapsed 0m 2s (remain 0m 0s) Loss: 0.1283(0.1273) Grad: 12.3445  LR: 0.000057  \n",
      "EVAL: [0/3] Elapsed 0m 0s (remain 0m 0s) Loss: 0.1611(0.1611) \n"
     ]
    },
    {
     "name": "stderr",
     "output_type": "stream",
     "text": [
      "Epoch 20 - avg_train_loss: 0.1273  avg_val_loss: 0.1953  time: 4s\n",
      "Epoch 20 - Score: 0.1975\n"
     ]
    },
    {
     "name": "stdout",
     "output_type": "stream",
     "text": [
      "EVAL: [2/3] Elapsed 0m 0s (remain 0m 0s) Loss: 0.2241(0.1953) \n",
      "Epoch: [21][0/19] Elapsed 0m 0s (remain 0m 2s) Loss: 0.1031(0.1031) Grad: 5.3324  LR: 0.000009  \n",
      "Epoch: [21][10/19] Elapsed 0m 1s (remain 0m 1s) Loss: 0.1020(0.1173) Grad: 13.1496  LR: 0.000009  \n",
      "Epoch: [21][18/19] Elapsed 0m 2s (remain 0m 0s) Loss: 0.1201(0.1131) Grad: 4.8720  LR: 0.000009  \n",
      "EVAL: [0/3] Elapsed 0m 0s (remain 0m 0s) Loss: 0.1367(0.1367) \n"
     ]
    },
    {
     "name": "stderr",
     "output_type": "stream",
     "text": [
      "Epoch 21 - avg_train_loss: 0.1131  avg_val_loss: 0.1820  time: 4s\n",
      "Epoch 21 - Score: 0.1860\n"
     ]
    },
    {
     "name": "stdout",
     "output_type": "stream",
     "text": [
      "EVAL: [2/3] Elapsed 0m 0s (remain 0m 0s) Loss: 0.2138(0.1820) \n",
      "Epoch: [22][0/19] Elapsed 0m 0s (remain 0m 2s) Loss: 0.0859(0.0859) Grad: 3.1262  LR: 0.000001  \n",
      "Epoch: [22][10/19] Elapsed 0m 1s (remain 0m 1s) Loss: 0.0627(0.0983) Grad: 8.0148  LR: 0.000001  \n",
      "Epoch: [22][18/19] Elapsed 0m 2s (remain 0m 0s) Loss: 0.0947(0.0959) Grad: 2.8353  LR: 0.000001  \n",
      "EVAL: [0/3] Elapsed 0m 0s (remain 0m 0s) Loss: 0.1484(0.1484) \n"
     ]
    },
    {
     "name": "stderr",
     "output_type": "stream",
     "text": [
      "Epoch 22 - avg_train_loss: 0.0959  avg_val_loss: 0.1881  time: 3s\n",
      "Epoch 22 - Score: 0.1910\n"
     ]
    },
    {
     "name": "stdout",
     "output_type": "stream",
     "text": [
      "EVAL: [2/3] Elapsed 0m 0s (remain 0m 0s) Loss: 0.2101(0.1881) \n",
      "Epoch: [23][0/19] Elapsed 0m 0s (remain 0m 2s) Loss: 0.1413(0.1413) Grad: 2.4724  LR: 0.000050  \n",
      "Epoch: [23][10/19] Elapsed 0m 1s (remain 0m 1s) Loss: 0.1284(0.1017) Grad: 5.6723  LR: 0.000050  \n",
      "Epoch: [23][18/19] Elapsed 0m 2s (remain 0m 0s) Loss: 0.0955(0.0996) Grad: 19.7042  LR: 0.000050  \n",
      "EVAL: [0/3] Elapsed 0m 0s (remain 0m 0s) Loss: 0.1361(0.1361) \n"
     ]
    },
    {
     "name": "stderr",
     "output_type": "stream",
     "text": [
      "Epoch 23 - avg_train_loss: 0.0996  avg_val_loss: 0.1840  time: 4s\n",
      "Epoch 23 - Score: 0.1884\n"
     ]
    },
    {
     "name": "stdout",
     "output_type": "stream",
     "text": [
      "EVAL: [2/3] Elapsed 0m 0s (remain 0m 0s) Loss: 0.2287(0.1840) \n",
      "Epoch: [24][0/19] Elapsed 0m 0s (remain 0m 2s) Loss: 0.0779(0.0779) Grad: 3.1370  LR: 0.000224  \n",
      "Epoch: [24][10/19] Elapsed 0m 1s (remain 0m 1s) Loss: 0.0920(0.1425) Grad: 8.5016  LR: 0.000224  \n",
      "Epoch: [24][18/19] Elapsed 0m 2s (remain 0m 0s) Loss: 0.2399(0.1428) Grad: 19.7294  LR: 0.000224  \n",
      "EVAL: [0/3] Elapsed 0m 0s (remain 0m 0s) Loss: 0.1716(0.1716) \n"
     ]
    },
    {
     "name": "stderr",
     "output_type": "stream",
     "text": [
      "Epoch 24 - avg_train_loss: 0.1428  avg_val_loss: 0.2134  time: 4s\n",
      "Epoch 24 - Score: 0.2165\n"
     ]
    },
    {
     "name": "stdout",
     "output_type": "stream",
     "text": [
      "EVAL: [2/3] Elapsed 0m 0s (remain 0m 0s) Loss: 0.2254(0.2134) \n",
      "Epoch: [25][0/19] Elapsed 0m 0s (remain 0m 2s) Loss: 0.1139(0.1139) Grad: 5.8649  LR: 0.000133  \n",
      "Epoch: [25][10/19] Elapsed 0m 1s (remain 0m 1s) Loss: 0.2263(0.1695) Grad: 22.6253  LR: 0.000133  \n",
      "Epoch: [25][18/19] Elapsed 0m 2s (remain 0m 0s) Loss: 0.1229(0.1504) Grad: 19.6983  LR: 0.000133  \n",
      "EVAL: [0/3] Elapsed 0m 0s (remain 0m 0s) Loss: 0.2225(0.2225) \n"
     ]
    },
    {
     "name": "stderr",
     "output_type": "stream",
     "text": [
      "Epoch 25 - avg_train_loss: 0.1504  avg_val_loss: 0.2535  time: 3s\n",
      "Epoch 25 - Score: 0.2551\n"
     ]
    },
    {
     "name": "stdout",
     "output_type": "stream",
     "text": [
      "EVAL: [2/3] Elapsed 0m 0s (remain 0m 0s) Loss: 0.2501(0.2535) \n",
      "Epoch: [26][0/19] Elapsed 0m 0s (remain 0m 2s) Loss: 0.1878(0.1878) Grad: 15.8108  LR: 0.000057  \n",
      "Epoch: [26][10/19] Elapsed 0m 1s (remain 0m 1s) Loss: 0.1189(0.1505) Grad: 8.1347  LR: 0.000057  \n",
      "Epoch: [26][18/19] Elapsed 0m 2s (remain 0m 0s) Loss: 0.1626(0.1445) Grad: 7.4631  LR: 0.000057  \n",
      "EVAL: [0/3] Elapsed 0m 0s (remain 0m 0s) Loss: 0.1347(0.1347) \n"
     ]
    },
    {
     "name": "stderr",
     "output_type": "stream",
     "text": [
      "Epoch 26 - avg_train_loss: 0.1445  avg_val_loss: 0.2042  time: 4s\n",
      "Epoch 26 - Score: 0.2126\n"
     ]
    },
    {
     "name": "stdout",
     "output_type": "stream",
     "text": [
      "EVAL: [2/3] Elapsed 0m 0s (remain 0m 0s) Loss: 0.2693(0.2042) \n",
      "Epoch: [27][0/19] Elapsed 0m 0s (remain 0m 2s) Loss: 0.1378(0.1378) Grad: 3.6145  LR: 0.000009  \n",
      "Epoch: [27][10/19] Elapsed 0m 1s (remain 0m 1s) Loss: 0.1257(0.1162) Grad: 3.9157  LR: 0.000009  \n",
      "Epoch: [27][18/19] Elapsed 0m 2s (remain 0m 0s) Loss: 0.1190(0.1099) Grad: 10.5291  LR: 0.000009  \n",
      "EVAL: [0/3] Elapsed 0m 0s (remain 0m 0s) Loss: 0.1526(0.1526) \n"
     ]
    },
    {
     "name": "stderr",
     "output_type": "stream",
     "text": [
      "Epoch 27 - avg_train_loss: 0.1099  avg_val_loss: 0.1910  time: 4s\n",
      "Epoch 27 - Score: 0.1938\n"
     ]
    },
    {
     "name": "stdout",
     "output_type": "stream",
     "text": [
      "EVAL: [2/3] Elapsed 0m 0s (remain 0m 0s) Loss: 0.2195(0.1910) \n",
      "Epoch: [28][0/19] Elapsed 0m 0s (remain 0m 2s) Loss: 0.0959(0.0959) Grad: 16.8670  LR: 0.000001  \n",
      "Epoch: [28][10/19] Elapsed 0m 1s (remain 0m 1s) Loss: 0.0855(0.0978) Grad: 3.9387  LR: 0.000001  \n",
      "Epoch: [28][18/19] Elapsed 0m 2s (remain 0m 0s) Loss: 0.0772(0.0929) Grad: 8.3181  LR: 0.000001  \n",
      "EVAL: [0/3] Elapsed 0m 0s (remain 0m 0s) Loss: 0.1499(0.1499) \n"
     ]
    },
    {
     "name": "stderr",
     "output_type": "stream",
     "text": [
      "Epoch 28 - avg_train_loss: 0.0929  avg_val_loss: 0.1902  time: 4s\n",
      "Epoch 28 - Score: 0.1932\n"
     ]
    },
    {
     "name": "stdout",
     "output_type": "stream",
     "text": [
      "EVAL: [2/3] Elapsed 0m 0s (remain 0m 0s) Loss: 0.2247(0.1902) \n",
      "Epoch: [29][0/19] Elapsed 0m 0s (remain 0m 2s) Loss: 0.0929(0.0929) Grad: 6.0732  LR: 0.000050  \n",
      "Epoch: [29][10/19] Elapsed 0m 1s (remain 0m 1s) Loss: 0.0750(0.0785) Grad: 8.9606  LR: 0.000050  \n",
      "Epoch: [29][18/19] Elapsed 0m 2s (remain 0m 0s) Loss: 0.1252(0.0871) Grad: 2.5464  LR: 0.000050  \n",
      "EVAL: [0/3] Elapsed 0m 0s (remain 0m 0s) Loss: 0.1361(0.1361) \n"
     ]
    },
    {
     "name": "stderr",
     "output_type": "stream",
     "text": [
      "Epoch 29 - avg_train_loss: 0.0871  avg_val_loss: 0.1881  time: 4s\n",
      "Epoch 29 - Score: 0.1935\n"
     ]
    },
    {
     "name": "stdout",
     "output_type": "stream",
     "text": [
      "EVAL: [2/3] Elapsed 0m 0s (remain 0m 0s) Loss: 0.2465(0.1881) \n",
      "Epoch: [30][0/19] Elapsed 0m 0s (remain 0m 2s) Loss: 0.0833(0.0833) Grad: 11.4660  LR: 0.000224  \n",
      "Epoch: [30][10/19] Elapsed 0m 1s (remain 0m 1s) Loss: 0.1233(0.0906) Grad: 7.6035  LR: 0.000224  \n",
      "Epoch: [30][18/19] Elapsed 0m 2s (remain 0m 0s) Loss: 0.0861(0.0953) Grad: 8.1881  LR: 0.000224  \n",
      "EVAL: [0/3] Elapsed 0m 0s (remain 0m 0s) Loss: 0.1567(0.1567) \n"
     ]
    },
    {
     "name": "stderr",
     "output_type": "stream",
     "text": [
      "Epoch 30 - avg_train_loss: 0.0953  avg_val_loss: 0.1886  time: 4s\n",
      "Epoch 30 - Score: 0.1905\n"
     ]
    },
    {
     "name": "stdout",
     "output_type": "stream",
     "text": [
      "EVAL: [2/3] Elapsed 0m 0s (remain 0m 0s) Loss: 0.2035(0.1886) \n",
      "Epoch: [31][0/19] Elapsed 0m 0s (remain 0m 2s) Loss: 0.0821(0.0821) Grad: 3.2541  LR: 0.000133  \n",
      "Epoch: [31][10/19] Elapsed 0m 1s (remain 0m 1s) Loss: 0.1254(0.1105) Grad: 11.8214  LR: 0.000133  \n",
      "Epoch: [31][18/19] Elapsed 0m 2s (remain 0m 0s) Loss: 0.2342(0.1328) Grad: 17.2729  LR: 0.000133  \n",
      "EVAL: [0/3] Elapsed 0m 0s (remain 0m 0s) Loss: 0.2695(0.2695) \n"
     ]
    },
    {
     "name": "stderr",
     "output_type": "stream",
     "text": [
      "Epoch 31 - avg_train_loss: 0.1328  avg_val_loss: 0.3034  time: 4s\n",
      "Epoch 31 - Score: 0.3047\n"
     ]
    },
    {
     "name": "stdout",
     "output_type": "stream",
     "text": [
      "EVAL: [2/3] Elapsed 0m 0s (remain 0m 0s) Loss: 0.3285(0.3034) \n",
      "Epoch: [32][0/19] Elapsed 0m 0s (remain 0m 2s) Loss: 0.2025(0.2025) Grad: 16.8775  LR: 0.000057  \n",
      "Epoch: [32][10/19] Elapsed 0m 1s (remain 0m 1s) Loss: 0.1199(0.1689) Grad: 6.1658  LR: 0.000057  \n",
      "Epoch: [32][18/19] Elapsed 0m 2s (remain 0m 0s) Loss: 0.1565(0.1605) Grad: 17.3040  LR: 0.000057  \n",
      "EVAL: [0/3] Elapsed 0m 0s (remain 0m 0s) Loss: 0.1573(0.1573) \n"
     ]
    },
    {
     "name": "stderr",
     "output_type": "stream",
     "text": [
      "Epoch 32 - avg_train_loss: 0.1605  avg_val_loss: 0.2063  time: 3s\n",
      "Epoch 32 - Score: 0.2105\n"
     ]
    },
    {
     "name": "stdout",
     "output_type": "stream",
     "text": [
      "EVAL: [2/3] Elapsed 0m 0s (remain 0m 0s) Loss: 0.2507(0.2063) \n",
      "Epoch: [33][0/19] Elapsed 0m 0s (remain 0m 2s) Loss: 0.1189(0.1189) Grad: 15.9070  LR: 0.000009  \n",
      "Epoch: [33][10/19] Elapsed 0m 1s (remain 0m 1s) Loss: 0.1003(0.1167) Grad: 5.6832  LR: 0.000009  \n",
      "Epoch: [33][18/19] Elapsed 0m 2s (remain 0m 0s) Loss: 0.0839(0.1105) Grad: 11.0612  LR: 0.000009  \n",
      "EVAL: [0/3] Elapsed 0m 0s (remain 0m 0s) Loss: 0.1418(0.1418) \n"
     ]
    },
    {
     "name": "stderr",
     "output_type": "stream",
     "text": [
      "Epoch 33 - avg_train_loss: 0.1105  avg_val_loss: 0.1894  time: 4s\n",
      "Epoch 33 - Score: 0.1937\n"
     ]
    },
    {
     "name": "stdout",
     "output_type": "stream",
     "text": [
      "EVAL: [2/3] Elapsed 0m 0s (remain 0m 0s) Loss: 0.2147(0.1894) \n",
      "Epoch: [34][0/19] Elapsed 0m 0s (remain 0m 3s) Loss: 0.0910(0.0910) Grad: 13.9291  LR: 0.000001  \n",
      "Epoch: [34][10/19] Elapsed 0m 1s (remain 0m 1s) Loss: 0.0667(0.0920) Grad: 4.5654  LR: 0.000001  \n",
      "Epoch: [34][18/19] Elapsed 0m 2s (remain 0m 0s) Loss: 0.0747(0.0875) Grad: 6.9013  LR: 0.000001  \n",
      "EVAL: [0/3] Elapsed 0m 0s (remain 0m 0s) Loss: 0.1424(0.1424) \n"
     ]
    },
    {
     "name": "stderr",
     "output_type": "stream",
     "text": [
      "Epoch 34 - avg_train_loss: 0.0875  avg_val_loss: 0.1816  time: 4s\n",
      "Epoch 34 - Score: 0.1852\n"
     ]
    },
    {
     "name": "stdout",
     "output_type": "stream",
     "text": [
      "EVAL: [2/3] Elapsed 0m 0s (remain 0m 0s) Loss: 0.1788(0.1816) \n",
      "Epoch: [35][0/19] Elapsed 0m 0s (remain 0m 2s) Loss: 0.0671(0.0671) Grad: 3.0955  LR: 0.000050  \n",
      "Epoch: [35][10/19] Elapsed 0m 1s (remain 0m 1s) Loss: 0.0860(0.0923) Grad: 8.6221  LR: 0.000050  \n",
      "Epoch: [35][18/19] Elapsed 0m 2s (remain 0m 0s) Loss: 0.0701(0.0901) Grad: 4.6840  LR: 0.000050  \n",
      "EVAL: [0/3] Elapsed 0m 0s (remain 0m 0s) Loss: 0.1323(0.1323) \n"
     ]
    },
    {
     "name": "stderr",
     "output_type": "stream",
     "text": [
      "Epoch 35 - avg_train_loss: 0.0901  avg_val_loss: 0.1783  time: 4s\n",
      "Epoch 35 - Score: 0.1827\n"
     ]
    },
    {
     "name": "stdout",
     "output_type": "stream",
     "text": [
      "EVAL: [2/3] Elapsed 0m 0s (remain 0m 0s) Loss: 0.1905(0.1783) \n",
      "Epoch: [36][0/19] Elapsed 0m 0s (remain 0m 2s) Loss: 0.1053(0.1053) Grad: 16.1296  LR: 0.000224  \n",
      "Epoch: [36][10/19] Elapsed 0m 1s (remain 0m 1s) Loss: 0.1230(0.0945) Grad: 2.5956  LR: 0.000224  \n",
      "Epoch: [36][18/19] Elapsed 0m 2s (remain 0m 0s) Loss: 0.1163(0.1021) Grad: 16.7705  LR: 0.000224  \n",
      "EVAL: [0/3] Elapsed 0m 0s (remain 0m 0s) Loss: 0.1488(0.1488) \n"
     ]
    },
    {
     "name": "stderr",
     "output_type": "stream",
     "text": [
      "Epoch 36 - avg_train_loss: 0.1021  avg_val_loss: 0.1843  time: 4s\n",
      "Epoch 36 - Score: 0.1869\n"
     ]
    },
    {
     "name": "stdout",
     "output_type": "stream",
     "text": [
      "EVAL: [2/3] Elapsed 0m 0s (remain 0m 0s) Loss: 0.1914(0.1843) \n",
      "Epoch: [37][0/19] Elapsed 0m 0s (remain 0m 2s) Loss: 0.1147(0.1147) Grad: 7.3510  LR: 0.000133  \n",
      "Epoch: [37][10/19] Elapsed 0m 1s (remain 0m 1s) Loss: 0.0949(0.1188) Grad: 6.5906  LR: 0.000133  \n",
      "Epoch: [37][18/19] Elapsed 0m 2s (remain 0m 0s) Loss: 0.1385(0.1233) Grad: 9.2866  LR: 0.000133  \n",
      "EVAL: [0/3] Elapsed 0m 0s (remain 0m 0s) Loss: 0.1415(0.1415) \n"
     ]
    },
    {
     "name": "stderr",
     "output_type": "stream",
     "text": [
      "Epoch 37 - avg_train_loss: 0.1233  avg_val_loss: 0.1854  time: 4s\n",
      "Epoch 37 - Score: 0.1891\n"
     ]
    },
    {
     "name": "stdout",
     "output_type": "stream",
     "text": [
      "EVAL: [2/3] Elapsed 0m 0s (remain 0m 0s) Loss: 0.2096(0.1854) \n",
      "Epoch: [38][0/19] Elapsed 0m 0s (remain 0m 2s) Loss: 0.0864(0.0864) Grad: 2.7425  LR: 0.000057  \n",
      "Epoch: [38][10/19] Elapsed 0m 1s (remain 0m 1s) Loss: 0.1225(0.1055) Grad: 13.3127  LR: 0.000057  \n",
      "Epoch: [38][18/19] Elapsed 0m 2s (remain 0m 0s) Loss: 0.1206(0.1098) Grad: 11.2104  LR: 0.000057  \n",
      "EVAL: [0/3] Elapsed 0m 0s (remain 0m 0s) Loss: 0.1574(0.1574) \n"
     ]
    },
    {
     "name": "stderr",
     "output_type": "stream",
     "text": [
      "Epoch 38 - avg_train_loss: 0.1098  avg_val_loss: 0.1939  time: 4s\n",
      "Epoch 38 - Score: 0.1966\n"
     ]
    },
    {
     "name": "stdout",
     "output_type": "stream",
     "text": [
      "EVAL: [2/3] Elapsed 0m 0s (remain 0m 0s) Loss: 0.1978(0.1939) \n",
      "Epoch: [39][0/19] Elapsed 0m 0s (remain 0m 2s) Loss: 0.1245(0.1245) Grad: 4.5094  LR: 0.000009  \n",
      "Epoch: [39][10/19] Elapsed 0m 1s (remain 0m 1s) Loss: 0.0940(0.0982) Grad: 10.2082  LR: 0.000009  \n",
      "Epoch: [39][18/19] Elapsed 0m 2s (remain 0m 0s) Loss: 0.1122(0.0954) Grad: 2.2674  LR: 0.000009  \n",
      "EVAL: [0/3] Elapsed 0m 0s (remain 0m 0s) Loss: 0.1485(0.1485) \n"
     ]
    },
    {
     "name": "stderr",
     "output_type": "stream",
     "text": [
      "Epoch 39 - avg_train_loss: 0.0954  avg_val_loss: 0.1810  time: 4s\n",
      "Epoch 39 - Score: 0.1833\n"
     ]
    },
    {
     "name": "stdout",
     "output_type": "stream",
     "text": [
      "EVAL: [2/3] Elapsed 0m 0s (remain 0m 0s) Loss: 0.1813(0.1810) \n",
      "Epoch: [40][0/19] Elapsed 0m 0s (remain 0m 2s) Loss: 0.0772(0.0772) Grad: 7.4731  LR: 0.000001  \n",
      "Epoch: [40][10/19] Elapsed 0m 1s (remain 0m 1s) Loss: 0.0714(0.0847) Grad: 4.8298  LR: 0.000001  \n",
      "Epoch: [40][18/19] Elapsed 0m 2s (remain 0m 0s) Loss: 0.0742(0.0805) Grad: 6.6180  LR: 0.000001  \n",
      "EVAL: [0/3] Elapsed 0m 0s (remain 0m 0s) Loss: 0.1425(0.1425) \n"
     ]
    },
    {
     "name": "stderr",
     "output_type": "stream",
     "text": [
      "Epoch 40 - avg_train_loss: 0.0805  avg_val_loss: 0.1715  time: 4s\n",
      "Epoch 40 - Score: 0.1736\n",
      "Epoch 40 - Save Best Score: 0.1736 Model\n"
     ]
    },
    {
     "name": "stdout",
     "output_type": "stream",
     "text": [
      "EVAL: [2/3] Elapsed 0m 0s (remain 0m 0s) Loss: 0.1681(0.1715) \n"
     ]
    },
    {
     "name": "stderr",
     "output_type": "stream",
     "text": [
      "========== fold: 1 result ==========\n",
      "Score: 0.1736\n",
      "========== fold: 2 training ==========\n"
     ]
    },
    {
     "name": "stdout",
     "output_type": "stream",
     "text": [
      "Epoch: [1][0/19] Elapsed 0m 0s (remain 0m 2s) Loss: 3.5354(3.5354) Grad: 26.7507  LR: 0.000100  \n",
      "Epoch: [1][10/19] Elapsed 0m 1s (remain 0m 1s) Loss: 0.7178(2.1809) Grad: 13.0159  LR: 0.000100  \n",
      "Epoch: [1][18/19] Elapsed 0m 2s (remain 0m 0s) Loss: 0.6014(1.5549) Grad: 13.5349  LR: 0.000100  \n",
      "EVAL: [0/3] Elapsed 0m 0s (remain 0m 0s) Loss: 0.6452(0.6452) \n"
     ]
    },
    {
     "name": "stderr",
     "output_type": "stream",
     "text": [
      "Epoch 1 - avg_train_loss: 1.5549  avg_val_loss: 0.6094  time: 3s\n",
      "Epoch 1 - Score: 0.6105\n",
      "Epoch 1 - Save Best Score: 0.6105 Model\n"
     ]
    },
    {
     "name": "stdout",
     "output_type": "stream",
     "text": [
      "EVAL: [2/3] Elapsed 0m 0s (remain 0m 0s) Loss: 0.6258(0.6094) \n",
      "Epoch: [2][0/19] Elapsed 0m 0s (remain 0m 2s) Loss: 0.4778(0.4778) Grad: 8.0658  LR: 0.000057  \n",
      "Epoch: [2][10/19] Elapsed 0m 1s (remain 0m 1s) Loss: 0.5059(0.4758) Grad: 4.6895  LR: 0.000057  \n",
      "Epoch: [2][18/19] Elapsed 0m 2s (remain 0m 0s) Loss: 0.3514(0.4447) Grad: 5.3565  LR: 0.000057  \n",
      "EVAL: [0/3] Elapsed 0m 0s (remain 0m 0s) Loss: 0.4440(0.4440) \n"
     ]
    },
    {
     "name": "stderr",
     "output_type": "stream",
     "text": [
      "Epoch 2 - avg_train_loss: 0.4447  avg_val_loss: 0.4056  time: 4s\n",
      "Epoch 2 - Score: 0.4069\n",
      "Epoch 2 - Save Best Score: 0.4069 Model\n"
     ]
    },
    {
     "name": "stdout",
     "output_type": "stream",
     "text": [
      "EVAL: [2/3] Elapsed 0m 0s (remain 0m 0s) Loss: 0.3754(0.4056) \n",
      "Epoch: [3][0/19] Elapsed 0m 0s (remain 0m 2s) Loss: 0.2650(0.2650) Grad: 3.6432  LR: 0.000009  \n",
      "Epoch: [3][10/19] Elapsed 0m 1s (remain 0m 1s) Loss: 0.2641(0.2911) Grad: 3.8580  LR: 0.000009  \n",
      "Epoch: [3][18/19] Elapsed 0m 2s (remain 0m 0s) Loss: 0.2435(0.2901) Grad: 10.0537  LR: 0.000009  \n",
      "EVAL: [0/3] Elapsed 0m 0s (remain 0m 0s) Loss: 0.4056(0.4056) \n"
     ]
    },
    {
     "name": "stderr",
     "output_type": "stream",
     "text": [
      "Epoch 3 - avg_train_loss: 0.2901  avg_val_loss: 0.3752  time: 3s\n",
      "Epoch 3 - Score: 0.3762\n",
      "Epoch 3 - Save Best Score: 0.3762 Model\n"
     ]
    },
    {
     "name": "stdout",
     "output_type": "stream",
     "text": [
      "EVAL: [2/3] Elapsed 0m 0s (remain 0m 0s) Loss: 0.3424(0.3752) \n",
      "Epoch: [4][0/19] Elapsed 0m 0s (remain 0m 2s) Loss: 0.2852(0.2852) Grad: 5.0937  LR: 0.000001  \n",
      "Epoch: [4][10/19] Elapsed 0m 1s (remain 0m 1s) Loss: 0.2990(0.2648) Grad: 6.9965  LR: 0.000001  \n",
      "Epoch: [4][18/19] Elapsed 0m 2s (remain 0m 0s) Loss: 0.3069(0.2548) Grad: 3.9834  LR: 0.000001  \n",
      "EVAL: [0/3] Elapsed 0m 0s (remain 0m 0s) Loss: 0.3962(0.3962) \n"
     ]
    },
    {
     "name": "stderr",
     "output_type": "stream",
     "text": [
      "Epoch 4 - avg_train_loss: 0.2548  avg_val_loss: 0.3576  time: 4s\n",
      "Epoch 4 - Score: 0.3591\n",
      "Epoch 4 - Save Best Score: 0.3591 Model\n"
     ]
    },
    {
     "name": "stdout",
     "output_type": "stream",
     "text": [
      "EVAL: [2/3] Elapsed 0m 0s (remain 0m 0s) Loss: 0.3380(0.3576) \n",
      "Epoch: [5][0/19] Elapsed 0m 0s (remain 0m 2s) Loss: 0.2843(0.2843) Grad: 5.7694  LR: 0.000050  \n",
      "Epoch: [5][10/19] Elapsed 0m 1s (remain 0m 1s) Loss: 0.3065(0.2607) Grad: 9.8275  LR: 0.000050  \n",
      "Epoch: [5][18/19] Elapsed 0m 2s (remain 0m 0s) Loss: 0.2177(0.2655) Grad: 5.8073  LR: 0.000050  \n",
      "EVAL: [0/3] Elapsed 0m 0s (remain 0m 0s) Loss: 0.3711(0.3711) \n"
     ]
    },
    {
     "name": "stderr",
     "output_type": "stream",
     "text": [
      "Epoch 5 - avg_train_loss: 0.2655  avg_val_loss: 0.3259  time: 4s\n",
      "Epoch 5 - Score: 0.3285\n",
      "Epoch 5 - Save Best Score: 0.3285 Model\n"
     ]
    },
    {
     "name": "stdout",
     "output_type": "stream",
     "text": [
      "EVAL: [2/3] Elapsed 0m 0s (remain 0m 0s) Loss: 0.2611(0.3259) \n",
      "Epoch: [6][0/19] Elapsed 0m 0s (remain 0m 2s) Loss: 0.3054(0.3054) Grad: 3.3318  LR: 0.000224  \n",
      "Epoch: [6][10/19] Elapsed 0m 1s (remain 0m 1s) Loss: 0.1855(0.2879) Grad: 14.9832  LR: 0.000224  \n",
      "Epoch: [6][18/19] Elapsed 0m 2s (remain 0m 0s) Loss: 0.2036(0.2695) Grad: 7.3424  LR: 0.000224  \n",
      "EVAL: [0/3] Elapsed 0m 0s (remain 0m 0s) Loss: 0.3479(0.3479) \n"
     ]
    },
    {
     "name": "stderr",
     "output_type": "stream",
     "text": [
      "Epoch 6 - avg_train_loss: 0.2695  avg_val_loss: 0.3338  time: 4s\n",
      "Epoch 6 - Score: 0.3340\n"
     ]
    },
    {
     "name": "stdout",
     "output_type": "stream",
     "text": [
      "EVAL: [2/3] Elapsed 0m 0s (remain 0m 0s) Loss: 0.3217(0.3338) \n",
      "Epoch: [7][0/19] Elapsed 0m 0s (remain 0m 2s) Loss: 0.2190(0.2190) Grad: 4.7579  LR: 0.000133  \n",
      "Epoch: [7][10/19] Elapsed 0m 1s (remain 0m 1s) Loss: 0.2603(0.2357) Grad: 4.0199  LR: 0.000133  \n",
      "Epoch: [7][18/19] Elapsed 0m 2s (remain 0m 0s) Loss: 0.3039(0.2511) Grad: 17.4841  LR: 0.000133  \n",
      "EVAL: [0/3] Elapsed 0m 0s (remain 0m 0s) Loss: 0.4232(0.4232) \n"
     ]
    },
    {
     "name": "stderr",
     "output_type": "stream",
     "text": [
      "Epoch 7 - avg_train_loss: 0.2511  avg_val_loss: 0.4032  time: 4s\n",
      "Epoch 7 - Score: 0.4036\n"
     ]
    },
    {
     "name": "stdout",
     "output_type": "stream",
     "text": [
      "EVAL: [2/3] Elapsed 0m 0s (remain 0m 0s) Loss: 0.4011(0.4032) \n",
      "Epoch: [8][0/19] Elapsed 0m 0s (remain 0m 2s) Loss: 0.2684(0.2684) Grad: 15.8762  LR: 0.000057  \n",
      "Epoch: [8][10/19] Elapsed 0m 1s (remain 0m 1s) Loss: 0.3196(0.2482) Grad: 14.5722  LR: 0.000057  \n",
      "Epoch: [8][18/19] Elapsed 0m 2s (remain 0m 0s) Loss: 0.2077(0.2427) Grad: 11.9622  LR: 0.000057  \n",
      "EVAL: [0/3] Elapsed 0m 0s (remain 0m 0s) Loss: 0.3456(0.3456) \n"
     ]
    },
    {
     "name": "stderr",
     "output_type": "stream",
     "text": [
      "Epoch 8 - avg_train_loss: 0.2427  avg_val_loss: 0.3356  time: 4s\n",
      "Epoch 8 - Score: 0.3359\n"
     ]
    },
    {
     "name": "stdout",
     "output_type": "stream",
     "text": [
      "EVAL: [2/3] Elapsed 0m 0s (remain 0m 0s) Loss: 0.3504(0.3356) \n",
      "Epoch: [9][0/19] Elapsed 0m 0s (remain 0m 2s) Loss: 0.1695(0.1695) Grad: 5.6579  LR: 0.000009  \n",
      "Epoch: [9][10/19] Elapsed 0m 1s (remain 0m 1s) Loss: 0.1443(0.1862) Grad: 3.4741  LR: 0.000009  \n",
      "Epoch: [9][18/19] Elapsed 0m 2s (remain 0m 0s) Loss: 0.1611(0.1799) Grad: 11.6519  LR: 0.000009  \n",
      "EVAL: [0/3] Elapsed 0m 0s (remain 0m 0s) Loss: 0.3207(0.3207) \n"
     ]
    },
    {
     "name": "stderr",
     "output_type": "stream",
     "text": [
      "Epoch 9 - avg_train_loss: 0.1799  avg_val_loss: 0.2986  time: 4s\n",
      "Epoch 9 - Score: 0.2996\n",
      "Epoch 9 - Save Best Score: 0.2996 Model\n"
     ]
    },
    {
     "name": "stdout",
     "output_type": "stream",
     "text": [
      "EVAL: [2/3] Elapsed 0m 0s (remain 0m 0s) Loss: 0.2488(0.2986) \n",
      "Epoch: [10][0/19] Elapsed 0m 0s (remain 0m 2s) Loss: 0.1565(0.1565) Grad: 3.5410  LR: 0.000001  \n",
      "Epoch: [10][10/19] Elapsed 0m 1s (remain 0m 1s) Loss: 0.1344(0.1381) Grad: 2.9629  LR: 0.000001  \n",
      "Epoch: [10][18/19] Elapsed 0m 2s (remain 0m 0s) Loss: 0.1160(0.1349) Grad: 5.9808  LR: 0.000001  \n",
      "EVAL: [0/3] Elapsed 0m 0s (remain 0m 0s) Loss: 0.3450(0.3450) \n"
     ]
    },
    {
     "name": "stderr",
     "output_type": "stream",
     "text": [
      "Epoch 10 - avg_train_loss: 0.1349  avg_val_loss: 0.3116  time: 3s\n",
      "Epoch 10 - Score: 0.3132\n"
     ]
    },
    {
     "name": "stdout",
     "output_type": "stream",
     "text": [
      "EVAL: [2/3] Elapsed 0m 0s (remain 0m 0s) Loss: 0.2578(0.3116) \n",
      "Epoch: [11][0/19] Elapsed 0m 0s (remain 0m 2s) Loss: 0.1061(0.1061) Grad: 3.4156  LR: 0.000050  \n",
      "Epoch: [11][10/19] Elapsed 0m 1s (remain 0m 1s) Loss: 0.1093(0.1365) Grad: 4.5269  LR: 0.000050  \n",
      "Epoch: [11][18/19] Elapsed 0m 2s (remain 0m 0s) Loss: 0.1108(0.1305) Grad: 5.2729  LR: 0.000050  \n",
      "EVAL: [0/3] Elapsed 0m 0s (remain 0m 0s) Loss: 0.3295(0.3295) \n"
     ]
    },
    {
     "name": "stderr",
     "output_type": "stream",
     "text": [
      "Epoch 11 - avg_train_loss: 0.1305  avg_val_loss: 0.3052  time: 4s\n",
      "Epoch 11 - Score: 0.3061\n"
     ]
    },
    {
     "name": "stdout",
     "output_type": "stream",
     "text": [
      "EVAL: [2/3] Elapsed 0m 0s (remain 0m 0s) Loss: 0.2627(0.3052) \n",
      "Epoch: [12][0/19] Elapsed 0m 0s (remain 0m 2s) Loss: 0.1446(0.1446) Grad: 8.5881  LR: 0.000224  \n",
      "Epoch: [12][10/19] Elapsed 0m 1s (remain 0m 1s) Loss: 0.1552(0.1411) Grad: 11.3529  LR: 0.000224  \n",
      "Epoch: [12][18/19] Elapsed 0m 2s (remain 0m 0s) Loss: 0.1871(0.1484) Grad: 17.1584  LR: 0.000224  \n",
      "EVAL: [0/3] Elapsed 0m 0s (remain 0m 0s) Loss: 0.3516(0.3516) \n"
     ]
    },
    {
     "name": "stderr",
     "output_type": "stream",
     "text": [
      "Epoch 12 - avg_train_loss: 0.1484  avg_val_loss: 0.3021  time: 3s\n",
      "Epoch 12 - Score: 0.3050\n"
     ]
    },
    {
     "name": "stdout",
     "output_type": "stream",
     "text": [
      "EVAL: [2/3] Elapsed 0m 0s (remain 0m 0s) Loss: 0.2642(0.3021) \n",
      "Epoch: [13][0/19] Elapsed 0m 0s (remain 0m 2s) Loss: 0.1814(0.1814) Grad: 4.7404  LR: 0.000133  \n",
      "Epoch: [13][10/19] Elapsed 0m 1s (remain 0m 1s) Loss: 0.1870(0.2169) Grad: 3.2675  LR: 0.000133  \n",
      "Epoch: [13][18/19] Elapsed 0m 2s (remain 0m 0s) Loss: 0.1652(0.2088) Grad: 11.8654  LR: 0.000133  \n",
      "EVAL: [0/3] Elapsed 0m 0s (remain 0m 0s) Loss: 0.3579(0.3579) \n"
     ]
    },
    {
     "name": "stderr",
     "output_type": "stream",
     "text": [
      "Epoch 13 - avg_train_loss: 0.2088  avg_val_loss: 0.3264  time: 3s\n",
      "Epoch 13 - Score: 0.3276\n"
     ]
    },
    {
     "name": "stdout",
     "output_type": "stream",
     "text": [
      "EVAL: [2/3] Elapsed 0m 0s (remain 0m 0s) Loss: 0.2848(0.3264) \n",
      "Epoch: [14][0/19] Elapsed 0m 0s (remain 0m 2s) Loss: 0.1590(0.1590) Grad: 9.4140  LR: 0.000057  \n",
      "Epoch: [14][10/19] Elapsed 0m 1s (remain 0m 1s) Loss: 0.1871(0.1721) Grad: 12.5875  LR: 0.000057  \n",
      "Epoch: [14][18/19] Elapsed 0m 2s (remain 0m 0s) Loss: 0.1684(0.1704) Grad: 9.7869  LR: 0.000057  \n",
      "EVAL: [0/3] Elapsed 0m 0s (remain 0m 0s) Loss: 0.3748(0.3748) \n"
     ]
    },
    {
     "name": "stderr",
     "output_type": "stream",
     "text": [
      "Epoch 14 - avg_train_loss: 0.1704  avg_val_loss: 0.3344  time: 4s\n",
      "Epoch 14 - Score: 0.3363\n"
     ]
    },
    {
     "name": "stdout",
     "output_type": "stream",
     "text": [
      "EVAL: [2/3] Elapsed 0m 0s (remain 0m 0s) Loss: 0.2897(0.3344) \n",
      "Epoch: [15][0/19] Elapsed 0m 0s (remain 0m 2s) Loss: 0.1921(0.1921) Grad: 8.4718  LR: 0.000009  \n",
      "Epoch: [15][10/19] Elapsed 0m 1s (remain 0m 1s) Loss: 0.1776(0.1434) Grad: 5.9419  LR: 0.000009  \n",
      "Epoch: [15][18/19] Elapsed 0m 2s (remain 0m 0s) Loss: 0.1334(0.1388) Grad: 4.1992  LR: 0.000009  \n",
      "EVAL: [0/3] Elapsed 0m 0s (remain 0m 0s) Loss: 0.3170(0.3170) \n"
     ]
    },
    {
     "name": "stderr",
     "output_type": "stream",
     "text": [
      "Epoch 15 - avg_train_loss: 0.1388  avg_val_loss: 0.3039  time: 4s\n",
      "Epoch 15 - Score: 0.3043\n"
     ]
    },
    {
     "name": "stdout",
     "output_type": "stream",
     "text": [
      "EVAL: [2/3] Elapsed 0m 0s (remain 0m 0s) Loss: 0.2728(0.3039) \n",
      "Epoch: [16][0/19] Elapsed 0m 0s (remain 0m 2s) Loss: 0.1052(0.1052) Grad: 8.8959  LR: 0.000001  \n",
      "Epoch: [16][10/19] Elapsed 0m 1s (remain 0m 1s) Loss: 0.0950(0.0995) Grad: 6.8651  LR: 0.000001  \n",
      "Epoch: [16][18/19] Elapsed 0m 2s (remain 0m 0s) Loss: 0.0795(0.1042) Grad: 2.5222  LR: 0.000001  \n",
      "EVAL: [0/3] Elapsed 0m 0s (remain 0m 0s) Loss: 0.3249(0.3249) \n"
     ]
    },
    {
     "name": "stderr",
     "output_type": "stream",
     "text": [
      "Epoch 16 - avg_train_loss: 0.1042  avg_val_loss: 0.3066  time: 4s\n",
      "Epoch 16 - Score: 0.3070\n"
     ]
    },
    {
     "name": "stdout",
     "output_type": "stream",
     "text": [
      "EVAL: [2/3] Elapsed 0m 0s (remain 0m 0s) Loss: 0.2878(0.3066) \n",
      "Epoch: [17][0/19] Elapsed 0m 0s (remain 0m 2s) Loss: 0.1302(0.1302) Grad: 5.8754  LR: 0.000050  \n",
      "Epoch: [17][10/19] Elapsed 0m 1s (remain 0m 1s) Loss: 0.0754(0.0993) Grad: 12.1446  LR: 0.000050  \n",
      "Epoch: [17][18/19] Elapsed 0m 2s (remain 0m 0s) Loss: 0.1647(0.1021) Grad: 8.0489  LR: 0.000050  \n",
      "EVAL: [0/3] Elapsed 0m 0s (remain 0m 0s) Loss: 0.3225(0.3225) \n"
     ]
    },
    {
     "name": "stderr",
     "output_type": "stream",
     "text": [
      "Epoch 17 - avg_train_loss: 0.1021  avg_val_loss: 0.3006  time: 4s\n",
      "Epoch 17 - Score: 0.3019\n"
     ]
    },
    {
     "name": "stdout",
     "output_type": "stream",
     "text": [
      "EVAL: [2/3] Elapsed 0m 0s (remain 0m 0s) Loss: 0.2404(0.3006) \n",
      "Epoch: [18][0/19] Elapsed 0m 0s (remain 0m 2s) Loss: 0.0880(0.0880) Grad: 3.5022  LR: 0.000224  \n",
      "Epoch: [18][10/19] Elapsed 0m 1s (remain 0m 1s) Loss: 0.1323(0.1285) Grad: 16.3352  LR: 0.000224  \n",
      "Epoch: [18][18/19] Elapsed 0m 2s (remain 0m 0s) Loss: 0.1733(0.1377) Grad: 17.5754  LR: 0.000224  \n",
      "EVAL: [0/3] Elapsed 0m 0s (remain 0m 0s) Loss: 0.3328(0.3328) \n"
     ]
    },
    {
     "name": "stderr",
     "output_type": "stream",
     "text": [
      "Epoch 18 - avg_train_loss: 0.1377  avg_val_loss: 0.3034  time: 4s\n",
      "Epoch 18 - Score: 0.3051\n"
     ]
    },
    {
     "name": "stdout",
     "output_type": "stream",
     "text": [
      "EVAL: [2/3] Elapsed 0m 0s (remain 0m 0s) Loss: 0.2385(0.3034) \n",
      "Epoch: [19][0/19] Elapsed 0m 0s (remain 0m 2s) Loss: 0.1239(0.1239) Grad: 15.6961  LR: 0.000133  \n",
      "Epoch: [19][10/19] Elapsed 0m 1s (remain 0m 1s) Loss: 0.4109(0.2673) Grad: 19.3348  LR: 0.000133  \n",
      "Epoch: [19][18/19] Elapsed 0m 2s (remain 0m 0s) Loss: 0.3031(0.2730) Grad: 21.8216  LR: 0.000133  \n",
      "EVAL: [0/3] Elapsed 0m 0s (remain 0m 0s) Loss: 0.4702(0.4702) \n"
     ]
    },
    {
     "name": "stderr",
     "output_type": "stream",
     "text": [
      "Epoch 19 - avg_train_loss: 0.2730  avg_val_loss: 0.4652  time: 4s\n",
      "Epoch 19 - Score: 0.4652\n"
     ]
    },
    {
     "name": "stdout",
     "output_type": "stream",
     "text": [
      "EVAL: [2/3] Elapsed 0m 0s (remain 0m 0s) Loss: 0.4703(0.4652) \n",
      "Epoch: [20][0/19] Elapsed 0m 0s (remain 0m 2s) Loss: 0.3618(0.3618) Grad: 21.3849  LR: 0.000057  \n",
      "Epoch: [20][10/19] Elapsed 0m 1s (remain 0m 1s) Loss: 0.1945(0.2451) Grad: 9.0144  LR: 0.000057  \n",
      "Epoch: [20][18/19] Elapsed 0m 2s (remain 0m 0s) Loss: 0.1406(0.2066) Grad: 12.6301  LR: 0.000057  \n",
      "EVAL: [0/3] Elapsed 0m 0s (remain 0m 0s) Loss: 0.3533(0.3533) \n"
     ]
    },
    {
     "name": "stderr",
     "output_type": "stream",
     "text": [
      "Epoch 20 - avg_train_loss: 0.2066  avg_val_loss: 0.3244  time: 3s\n",
      "Epoch 20 - Score: 0.3253\n"
     ]
    },
    {
     "name": "stdout",
     "output_type": "stream",
     "text": [
      "EVAL: [2/3] Elapsed 0m 0s (remain 0m 0s) Loss: 0.3047(0.3244) \n",
      "Epoch: [21][0/19] Elapsed 0m 0s (remain 0m 2s) Loss: 0.1704(0.1704) Grad: 14.5657  LR: 0.000009  \n",
      "Epoch: [21][10/19] Elapsed 0m 1s (remain 0m 1s) Loss: 0.1267(0.1416) Grad: 16.5060  LR: 0.000009  \n",
      "Epoch: [21][18/19] Elapsed 0m 2s (remain 0m 0s) Loss: 0.1221(0.1361) Grad: 13.8263  LR: 0.000009  \n",
      "EVAL: [0/3] Elapsed 0m 0s (remain 0m 0s) Loss: 0.3167(0.3167) \n"
     ]
    },
    {
     "name": "stderr",
     "output_type": "stream",
     "text": [
      "Epoch 21 - avg_train_loss: 0.1361  avg_val_loss: 0.2956  time: 4s\n",
      "Epoch 21 - Score: 0.2962\n",
      "Epoch 21 - Save Best Score: 0.2962 Model\n"
     ]
    },
    {
     "name": "stdout",
     "output_type": "stream",
     "text": [
      "EVAL: [2/3] Elapsed 0m 0s (remain 0m 0s) Loss: 0.2952(0.2956) \n",
      "Epoch: [22][0/19] Elapsed 0m 0s (remain 0m 2s) Loss: 0.0949(0.0949) Grad: 9.9573  LR: 0.000001  \n",
      "Epoch: [22][10/19] Elapsed 0m 1s (remain 0m 1s) Loss: 0.1074(0.1057) Grad: 4.4476  LR: 0.000001  \n",
      "Epoch: [22][18/19] Elapsed 0m 2s (remain 0m 0s) Loss: 0.0831(0.1058) Grad: 9.6065  LR: 0.000001  \n",
      "EVAL: [0/3] Elapsed 0m 0s (remain 0m 0s) Loss: 0.3214(0.3214) \n"
     ]
    },
    {
     "name": "stderr",
     "output_type": "stream",
     "text": [
      "Epoch 22 - avg_train_loss: 0.1058  avg_val_loss: 0.2902  time: 4s\n",
      "Epoch 22 - Score: 0.2917\n",
      "Epoch 22 - Save Best Score: 0.2917 Model\n"
     ]
    },
    {
     "name": "stdout",
     "output_type": "stream",
     "text": [
      "EVAL: [2/3] Elapsed 0m 0s (remain 0m 0s) Loss: 0.2937(0.2902) \n",
      "Epoch: [23][0/19] Elapsed 0m 0s (remain 0m 2s) Loss: 0.1040(0.1040) Grad: 4.9920  LR: 0.000050  \n",
      "Epoch: [23][10/19] Elapsed 0m 1s (remain 0m 1s) Loss: 0.1135(0.1035) Grad: 8.1330  LR: 0.000050  \n",
      "Epoch: [23][18/19] Elapsed 0m 2s (remain 0m 0s) Loss: 0.0855(0.1038) Grad: 8.1009  LR: 0.000050  \n",
      "EVAL: [0/3] Elapsed 0m 0s (remain 0m 0s) Loss: 0.3325(0.3325) \n"
     ]
    },
    {
     "name": "stderr",
     "output_type": "stream",
     "text": [
      "Epoch 23 - avg_train_loss: 0.1038  avg_val_loss: 0.3028  time: 4s\n",
      "Epoch 23 - Score: 0.3039\n"
     ]
    },
    {
     "name": "stdout",
     "output_type": "stream",
     "text": [
      "EVAL: [2/3] Elapsed 0m 0s (remain 0m 0s) Loss: 0.2824(0.3028) \n",
      "Epoch: [24][0/19] Elapsed 0m 0s (remain 0m 2s) Loss: 0.1103(0.1103) Grad: 9.7220  LR: 0.000224  \n",
      "Epoch: [24][10/19] Elapsed 0m 1s (remain 0m 1s) Loss: 0.1437(0.1303) Grad: 11.1483  LR: 0.000224  \n",
      "Epoch: [24][18/19] Elapsed 0m 2s (remain 0m 0s) Loss: 0.1411(0.1359) Grad: 12.8993  LR: 0.000224  \n",
      "EVAL: [0/3] Elapsed 0m 0s (remain 0m 0s) Loss: 0.3324(0.3324) \n"
     ]
    },
    {
     "name": "stderr",
     "output_type": "stream",
     "text": [
      "Epoch 24 - avg_train_loss: 0.1359  avg_val_loss: 0.3207  time: 4s\n",
      "Epoch 24 - Score: 0.3210\n"
     ]
    },
    {
     "name": "stdout",
     "output_type": "stream",
     "text": [
      "EVAL: [2/3] Elapsed 0m 0s (remain 0m 0s) Loss: 0.2951(0.3207) \n",
      "Epoch: [25][0/19] Elapsed 0m 0s (remain 0m 2s) Loss: 0.1582(0.1582) Grad: 13.4675  LR: 0.000133  \n",
      "Epoch: [25][10/19] Elapsed 0m 1s (remain 0m 1s) Loss: 0.1415(0.1578) Grad: 7.8502  LR: 0.000133  \n",
      "Epoch: [25][18/19] Elapsed 0m 2s (remain 0m 0s) Loss: 0.1145(0.1637) Grad: 12.0016  LR: 0.000133  \n",
      "EVAL: [0/3] Elapsed 0m 0s (remain 0m 0s) Loss: 0.3458(0.3458) \n"
     ]
    },
    {
     "name": "stderr",
     "output_type": "stream",
     "text": [
      "Epoch 25 - avg_train_loss: 0.1637  avg_val_loss: 0.3147  time: 4s\n",
      "Epoch 25 - Score: 0.3158\n"
     ]
    },
    {
     "name": "stdout",
     "output_type": "stream",
     "text": [
      "EVAL: [2/3] Elapsed 0m 0s (remain 0m 0s) Loss: 0.2900(0.3147) \n",
      "Epoch: [26][0/19] Elapsed 0m 0s (remain 0m 2s) Loss: 0.1992(0.1992) Grad: 17.5343  LR: 0.000057  \n",
      "Epoch: [26][10/19] Elapsed 0m 1s (remain 0m 1s) Loss: 0.1324(0.1381) Grad: 6.0615  LR: 0.000057  \n",
      "Epoch: [26][18/19] Elapsed 0m 2s (remain 0m 0s) Loss: 0.1321(0.1419) Grad: 6.6309  LR: 0.000057  \n",
      "EVAL: [0/3] Elapsed 0m 0s (remain 0m 0s) Loss: 0.3108(0.3108) \n"
     ]
    },
    {
     "name": "stderr",
     "output_type": "stream",
     "text": [
      "Epoch 26 - avg_train_loss: 0.1419  avg_val_loss: 0.3112  time: 4s\n",
      "Epoch 26 - Score: 0.3113\n"
     ]
    },
    {
     "name": "stdout",
     "output_type": "stream",
     "text": [
      "EVAL: [2/3] Elapsed 0m 0s (remain 0m 0s) Loss: 0.3248(0.3112) \n",
      "Epoch: [27][0/19] Elapsed 0m 0s (remain 0m 2s) Loss: 0.0992(0.0992) Grad: 7.6927  LR: 0.000009  \n",
      "Epoch: [27][10/19] Elapsed 0m 1s (remain 0m 1s) Loss: 0.1217(0.1082) Grad: 12.1290  LR: 0.000009  \n",
      "Epoch: [27][18/19] Elapsed 0m 2s (remain 0m 0s) Loss: 0.0941(0.1044) Grad: 11.4379  LR: 0.000009  \n",
      "EVAL: [0/3] Elapsed 0m 0s (remain 0m 0s) Loss: 0.3192(0.3192) \n"
     ]
    },
    {
     "name": "stderr",
     "output_type": "stream",
     "text": [
      "Epoch 27 - avg_train_loss: 0.1044  avg_val_loss: 0.2971  time: 4s\n",
      "Epoch 27 - Score: 0.2976\n"
     ]
    },
    {
     "name": "stdout",
     "output_type": "stream",
     "text": [
      "EVAL: [2/3] Elapsed 0m 0s (remain 0m 0s) Loss: 0.2844(0.2971) \n",
      "Epoch: [28][0/19] Elapsed 0m 0s (remain 0m 3s) Loss: 0.1473(0.1473) Grad: 4.3594  LR: 0.000001  \n",
      "Epoch: [28][10/19] Elapsed 0m 1s (remain 0m 1s) Loss: 0.0795(0.0874) Grad: 4.4904  LR: 0.000001  \n",
      "Epoch: [28][18/19] Elapsed 0m 2s (remain 0m 0s) Loss: 0.0753(0.0867) Grad: 4.4388  LR: 0.000001  \n",
      "EVAL: [0/3] Elapsed 0m 0s (remain 0m 0s) Loss: 0.3050(0.3050) \n"
     ]
    },
    {
     "name": "stderr",
     "output_type": "stream",
     "text": [
      "Epoch 28 - avg_train_loss: 0.0867  avg_val_loss: 0.2913  time: 4s\n",
      "Epoch 28 - Score: 0.2916\n",
      "Epoch 28 - Save Best Score: 0.2916 Model\n"
     ]
    },
    {
     "name": "stdout",
     "output_type": "stream",
     "text": [
      "EVAL: [2/3] Elapsed 0m 0s (remain 0m 0s) Loss: 0.2636(0.2913) \n",
      "Epoch: [29][0/19] Elapsed 0m 0s (remain 0m 2s) Loss: 0.1090(0.1090) Grad: 4.4801  LR: 0.000050  \n",
      "Epoch: [29][10/19] Elapsed 0m 1s (remain 0m 1s) Loss: 0.0667(0.0916) Grad: 9.1562  LR: 0.000050  \n",
      "Epoch: [29][18/19] Elapsed 0m 2s (remain 0m 0s) Loss: 0.1186(0.0897) Grad: 13.8550  LR: 0.000050  \n",
      "EVAL: [0/3] Elapsed 0m 0s (remain 0m 0s) Loss: 0.3354(0.3354) \n"
     ]
    },
    {
     "name": "stderr",
     "output_type": "stream",
     "text": [
      "Epoch 29 - avg_train_loss: 0.0897  avg_val_loss: 0.2983  time: 4s\n",
      "Epoch 29 - Score: 0.3001\n"
     ]
    },
    {
     "name": "stdout",
     "output_type": "stream",
     "text": [
      "EVAL: [2/3] Elapsed 0m 0s (remain 0m 0s) Loss: 0.2556(0.2983) \n",
      "Epoch: [30][0/19] Elapsed 0m 0s (remain 0m 3s) Loss: 0.0915(0.0915) Grad: 5.1906  LR: 0.000224  \n",
      "Epoch: [30][10/19] Elapsed 0m 1s (remain 0m 1s) Loss: 0.0791(0.0941) Grad: 6.6601  LR: 0.000224  \n",
      "Epoch: [30][18/19] Elapsed 0m 3s (remain 0m 0s) Loss: 0.1147(0.0971) Grad: 15.3075  LR: 0.000224  \n",
      "EVAL: [0/3] Elapsed 0m 0s (remain 0m 0s) Loss: 0.3392(0.3392) \n"
     ]
    },
    {
     "name": "stderr",
     "output_type": "stream",
     "text": [
      "Epoch 30 - avg_train_loss: 0.0971  avg_val_loss: 0.2987  time: 4s\n",
      "Epoch 30 - Score: 0.3009\n"
     ]
    },
    {
     "name": "stdout",
     "output_type": "stream",
     "text": [
      "EVAL: [2/3] Elapsed 0m 0s (remain 0m 0s) Loss: 0.2472(0.2987) \n",
      "Epoch: [31][0/19] Elapsed 0m 0s (remain 0m 2s) Loss: 0.0923(0.0923) Grad: 12.0012  LR: 0.000133  \n",
      "Epoch: [31][10/19] Elapsed 0m 1s (remain 0m 1s) Loss: 0.1537(0.1401) Grad: 13.2845  LR: 0.000133  \n",
      "Epoch: [31][18/19] Elapsed 0m 2s (remain 0m 0s) Loss: 0.1065(0.1493) Grad: 3.2923  LR: 0.000133  \n",
      "EVAL: [0/3] Elapsed 0m 0s (remain 0m 0s) Loss: 0.3659(0.3659) \n"
     ]
    },
    {
     "name": "stderr",
     "output_type": "stream",
     "text": [
      "Epoch 31 - avg_train_loss: 0.1493  avg_val_loss: 0.3547  time: 4s\n",
      "Epoch 31 - Score: 0.3549\n"
     ]
    },
    {
     "name": "stdout",
     "output_type": "stream",
     "text": [
      "EVAL: [2/3] Elapsed 0m 0s (remain 0m 0s) Loss: 0.3439(0.3547) \n",
      "Epoch: [32][0/19] Elapsed 0m 0s (remain 0m 2s) Loss: 0.1882(0.1882) Grad: 17.6184  LR: 0.000057  \n",
      "Epoch: [32][10/19] Elapsed 0m 1s (remain 0m 1s) Loss: 0.0981(0.1426) Grad: 4.5399  LR: 0.000057  \n",
      "Epoch: [32][18/19] Elapsed 0m 3s (remain 0m 0s) Loss: 0.1510(0.1415) Grad: 3.6212  LR: 0.000057  \n",
      "EVAL: [0/3] Elapsed 0m 0s (remain 0m 0s) Loss: 0.3173(0.3173) \n"
     ]
    },
    {
     "name": "stderr",
     "output_type": "stream",
     "text": [
      "Epoch 32 - avg_train_loss: 0.1415  avg_val_loss: 0.3006  time: 4s\n",
      "Epoch 32 - Score: 0.3010\n"
     ]
    },
    {
     "name": "stdout",
     "output_type": "stream",
     "text": [
      "EVAL: [2/3] Elapsed 0m 0s (remain 0m 0s) Loss: 0.2872(0.3006) \n",
      "Epoch: [33][0/19] Elapsed 0m 0s (remain 0m 2s) Loss: 0.1106(0.1106) Grad: 10.6102  LR: 0.000009  \n",
      "Epoch: [33][10/19] Elapsed 0m 1s (remain 0m 1s) Loss: 0.0798(0.0983) Grad: 6.6133  LR: 0.000009  \n",
      "Epoch: [33][18/19] Elapsed 0m 2s (remain 0m 0s) Loss: 0.0982(0.0965) Grad: 4.4677  LR: 0.000009  \n",
      "EVAL: [0/3] Elapsed 0m 0s (remain 0m 0s) Loss: 0.3018(0.3018) \n"
     ]
    },
    {
     "name": "stderr",
     "output_type": "stream",
     "text": [
      "Epoch 33 - avg_train_loss: 0.0965  avg_val_loss: 0.2794  time: 4s\n",
      "Epoch 33 - Score: 0.2800\n",
      "Epoch 33 - Save Best Score: 0.2800 Model\n"
     ]
    },
    {
     "name": "stdout",
     "output_type": "stream",
     "text": [
      "EVAL: [2/3] Elapsed 0m 0s (remain 0m 0s) Loss: 0.2644(0.2794) \n",
      "Epoch: [34][0/19] Elapsed 0m 0s (remain 0m 2s) Loss: 0.0853(0.0853) Grad: 6.1393  LR: 0.000001  \n",
      "Epoch: [34][10/19] Elapsed 0m 1s (remain 0m 1s) Loss: 0.0846(0.0795) Grad: 6.4894  LR: 0.000001  \n",
      "Epoch: [34][18/19] Elapsed 0m 2s (remain 0m 0s) Loss: 0.1010(0.0820) Grad: 4.5830  LR: 0.000001  \n",
      "EVAL: [0/3] Elapsed 0m 0s (remain 0m 0s) Loss: 0.2960(0.2960) \n"
     ]
    },
    {
     "name": "stderr",
     "output_type": "stream",
     "text": [
      "Epoch 34 - avg_train_loss: 0.0820  avg_val_loss: 0.2723  time: 4s\n",
      "Epoch 34 - Score: 0.2731\n",
      "Epoch 34 - Save Best Score: 0.2731 Model\n"
     ]
    },
    {
     "name": "stdout",
     "output_type": "stream",
     "text": [
      "EVAL: [2/3] Elapsed 0m 0s (remain 0m 0s) Loss: 0.2674(0.2723) \n",
      "Epoch: [35][0/19] Elapsed 0m 0s (remain 0m 2s) Loss: 0.0602(0.0602) Grad: 3.2119  LR: 0.000050  \n",
      "Epoch: [35][10/19] Elapsed 0m 1s (remain 0m 1s) Loss: 0.0794(0.0827) Grad: 3.6325  LR: 0.000050  \n",
      "Epoch: [35][18/19] Elapsed 0m 2s (remain 0m 0s) Loss: 0.0828(0.0814) Grad: 12.3180  LR: 0.000050  \n",
      "EVAL: [0/3] Elapsed 0m 0s (remain 0m 0s) Loss: 0.3090(0.3090) \n"
     ]
    },
    {
     "name": "stderr",
     "output_type": "stream",
     "text": [
      "Epoch 35 - avg_train_loss: 0.0814  avg_val_loss: 0.2876  time: 4s\n",
      "Epoch 35 - Score: 0.2883\n"
     ]
    },
    {
     "name": "stdout",
     "output_type": "stream",
     "text": [
      "EVAL: [2/3] Elapsed 0m 0s (remain 0m 0s) Loss: 0.2844(0.2876) \n",
      "Epoch: [36][0/19] Elapsed 0m 0s (remain 0m 2s) Loss: 0.0900(0.0900) Grad: 11.6785  LR: 0.000224  \n",
      "Epoch: [36][10/19] Elapsed 0m 1s (remain 0m 1s) Loss: 0.1101(0.0978) Grad: 10.7432  LR: 0.000224  \n",
      "Epoch: [36][18/19] Elapsed 0m 2s (remain 0m 0s) Loss: 0.0780(0.0997) Grad: 8.3308  LR: 0.000224  \n",
      "EVAL: [0/3] Elapsed 0m 0s (remain 0m 0s) Loss: 0.3097(0.3097) \n"
     ]
    },
    {
     "name": "stderr",
     "output_type": "stream",
     "text": [
      "Epoch 36 - avg_train_loss: 0.0997  avg_val_loss: 0.2860  time: 4s\n",
      "Epoch 36 - Score: 0.2867\n"
     ]
    },
    {
     "name": "stdout",
     "output_type": "stream",
     "text": [
      "EVAL: [2/3] Elapsed 0m 0s (remain 0m 0s) Loss: 0.2662(0.2860) \n",
      "Epoch: [37][0/19] Elapsed 0m 0s (remain 0m 2s) Loss: 0.0781(0.0781) Grad: 7.8858  LR: 0.000133  \n",
      "Epoch: [37][10/19] Elapsed 0m 1s (remain 0m 1s) Loss: 0.1483(0.1187) Grad: 12.6927  LR: 0.000133  \n",
      "Epoch: [37][18/19] Elapsed 0m 2s (remain 0m 0s) Loss: 0.1242(0.1216) Grad: 2.8896  LR: 0.000133  \n",
      "EVAL: [0/3] Elapsed 0m 0s (remain 0m 0s) Loss: 0.3540(0.3540) \n"
     ]
    },
    {
     "name": "stderr",
     "output_type": "stream",
     "text": [
      "Epoch 37 - avg_train_loss: 0.1216  avg_val_loss: 0.3235  time: 4s\n",
      "Epoch 37 - Score: 0.3250\n"
     ]
    },
    {
     "name": "stdout",
     "output_type": "stream",
     "text": [
      "EVAL: [2/3] Elapsed 0m 0s (remain 0m 0s) Loss: 0.2647(0.3235) \n",
      "Epoch: [38][0/19] Elapsed 0m 0s (remain 0m 2s) Loss: 0.1287(0.1287) Grad: 9.5349  LR: 0.000057  \n",
      "Epoch: [38][10/19] Elapsed 0m 1s (remain 0m 1s) Loss: 0.0971(0.0989) Grad: 6.9472  LR: 0.000057  \n",
      "Epoch: [38][18/19] Elapsed 0m 2s (remain 0m 0s) Loss: 0.1085(0.0979) Grad: 3.1283  LR: 0.000057  \n",
      "EVAL: [0/3] Elapsed 0m 0s (remain 0m 0s) Loss: 0.3240(0.3240) \n"
     ]
    },
    {
     "name": "stderr",
     "output_type": "stream",
     "text": [
      "Epoch 38 - avg_train_loss: 0.0979  avg_val_loss: 0.2908  time: 4s\n",
      "Epoch 38 - Score: 0.2923\n"
     ]
    },
    {
     "name": "stdout",
     "output_type": "stream",
     "text": [
      "EVAL: [2/3] Elapsed 0m 0s (remain 0m 0s) Loss: 0.2510(0.2908) \n",
      "Epoch: [39][0/19] Elapsed 0m 0s (remain 0m 2s) Loss: 0.1081(0.1081) Grad: 2.9350  LR: 0.000009  \n",
      "Epoch: [39][10/19] Elapsed 0m 1s (remain 0m 1s) Loss: 0.1157(0.0938) Grad: 4.2338  LR: 0.000009  \n",
      "Epoch: [39][18/19] Elapsed 0m 2s (remain 0m 0s) Loss: 0.1217(0.0923) Grad: 2.7083  LR: 0.000009  \n",
      "EVAL: [0/3] Elapsed 0m 0s (remain 0m 0s) Loss: 0.3193(0.3193) \n"
     ]
    },
    {
     "name": "stderr",
     "output_type": "stream",
     "text": [
      "Epoch 39 - avg_train_loss: 0.0923  avg_val_loss: 0.2956  time: 4s\n",
      "Epoch 39 - Score: 0.2963\n"
     ]
    },
    {
     "name": "stdout",
     "output_type": "stream",
     "text": [
      "EVAL: [2/3] Elapsed 0m 0s (remain 0m 0s) Loss: 0.2735(0.2956) \n",
      "Epoch: [40][0/19] Elapsed 0m 0s (remain 0m 2s) Loss: 0.0711(0.0711) Grad: 6.7488  LR: 0.000001  \n",
      "Epoch: [40][10/19] Elapsed 0m 1s (remain 0m 1s) Loss: 0.0730(0.0741) Grad: 2.6552  LR: 0.000001  \n",
      "Epoch: [40][18/19] Elapsed 0m 2s (remain 0m 0s) Loss: 0.0526(0.0759) Grad: 2.5378  LR: 0.000001  \n",
      "EVAL: [0/3] Elapsed 0m 0s (remain 0m 0s) Loss: 0.3188(0.3188) \n"
     ]
    },
    {
     "name": "stderr",
     "output_type": "stream",
     "text": [
      "Epoch 40 - avg_train_loss: 0.0759  avg_val_loss: 0.2934  time: 4s\n",
      "Epoch 40 - Score: 0.2942\n",
      "========== fold: 2 result ==========\n",
      "Score: 0.2731\n",
      "========== fold: 3 training ==========\n"
     ]
    },
    {
     "name": "stdout",
     "output_type": "stream",
     "text": [
      "EVAL: [2/3] Elapsed 0m 0s (remain 0m 0s) Loss: 0.2699(0.2934) \n",
      "Epoch: [1][0/19] Elapsed 0m 0s (remain 0m 2s) Loss: 3.2634(3.2634) Grad: 26.3847  LR: 0.000100  \n",
      "Epoch: [1][10/19] Elapsed 0m 1s (remain 0m 1s) Loss: 0.9156(1.5282) Grad: 20.1480  LR: 0.000100  \n",
      "Epoch: [1][18/19] Elapsed 0m 2s (remain 0m 0s) Loss: 0.6418(1.1386) Grad: 24.7851  LR: 0.000100  \n",
      "EVAL: [0/3] Elapsed 0m 0s (remain 0m 0s) Loss: 0.5368(0.5368) \n"
     ]
    },
    {
     "name": "stderr",
     "output_type": "stream",
     "text": [
      "Epoch 1 - avg_train_loss: 1.1386  avg_val_loss: 0.5082  time: 4s\n",
      "Epoch 1 - Score: 0.5088\n",
      "Epoch 1 - Save Best Score: 0.5088 Model\n"
     ]
    },
    {
     "name": "stdout",
     "output_type": "stream",
     "text": [
      "EVAL: [2/3] Elapsed 0m 0s (remain 0m 0s) Loss: 0.4809(0.5082) \n",
      "Epoch: [2][0/19] Elapsed 0m 0s (remain 0m 2s) Loss: 0.6463(0.6463) Grad: 20.2924  LR: 0.000057  \n",
      "Epoch: [2][10/19] Elapsed 0m 1s (remain 0m 1s) Loss: 0.4942(0.4533) Grad: 7.7729  LR: 0.000057  \n",
      "Epoch: [2][18/19] Elapsed 0m 2s (remain 0m 0s) Loss: 0.3158(0.4305) Grad: 5.6435  LR: 0.000057  \n",
      "EVAL: [0/3] Elapsed 0m 0s (remain 0m 0s) Loss: 0.3408(0.3408) \n"
     ]
    },
    {
     "name": "stderr",
     "output_type": "stream",
     "text": [
      "Epoch 2 - avg_train_loss: 0.4305  avg_val_loss: 0.3215  time: 4s\n",
      "Epoch 2 - Score: 0.3224\n",
      "Epoch 2 - Save Best Score: 0.3224 Model\n"
     ]
    },
    {
     "name": "stdout",
     "output_type": "stream",
     "text": [
      "EVAL: [2/3] Elapsed 0m 0s (remain 0m 0s) Loss: 0.2721(0.3215) \n",
      "Epoch: [3][0/19] Elapsed 0m 0s (remain 0m 2s) Loss: 0.2449(0.2449) Grad: 15.3856  LR: 0.000009  \n",
      "Epoch: [3][10/19] Elapsed 0m 1s (remain 0m 1s) Loss: 0.3200(0.2889) Grad: 8.5581  LR: 0.000009  \n",
      "Epoch: [3][18/19] Elapsed 0m 2s (remain 0m 0s) Loss: 0.2988(0.2912) Grad: 9.5874  LR: 0.000009  \n",
      "EVAL: [0/3] Elapsed 0m 0s (remain 0m 0s) Loss: 0.3279(0.3279) \n"
     ]
    },
    {
     "name": "stderr",
     "output_type": "stream",
     "text": [
      "Epoch 3 - avg_train_loss: 0.2912  avg_val_loss: 0.3273  time: 4s\n",
      "Epoch 3 - Score: 0.3280\n"
     ]
    },
    {
     "name": "stdout",
     "output_type": "stream",
     "text": [
      "EVAL: [2/3] Elapsed 0m 0s (remain 0m 0s) Loss: 0.2844(0.3273) \n",
      "Epoch: [4][0/19] Elapsed 0m 0s (remain 0m 2s) Loss: 0.3132(0.3132) Grad: 13.1453  LR: 0.000001  \n",
      "Epoch: [4][10/19] Elapsed 0m 1s (remain 0m 1s) Loss: 0.2390(0.2685) Grad: 9.4297  LR: 0.000001  \n",
      "Epoch: [4][18/19] Elapsed 0m 2s (remain 0m 0s) Loss: 0.2540(0.2502) Grad: 3.5218  LR: 0.000001  \n",
      "EVAL: [0/3] Elapsed 0m 0s (remain 0m 0s) Loss: 0.2613(0.2613) \n"
     ]
    },
    {
     "name": "stderr",
     "output_type": "stream",
     "text": [
      "Epoch 4 - avg_train_loss: 0.2502  avg_val_loss: 0.2719  time: 4s\n",
      "Epoch 4 - Score: 0.2722\n",
      "Epoch 4 - Save Best Score: 0.2722 Model\n"
     ]
    },
    {
     "name": "stdout",
     "output_type": "stream",
     "text": [
      "EVAL: [2/3] Elapsed 0m 0s (remain 0m 0s) Loss: 0.2607(0.2719) \n",
      "Epoch: [5][0/19] Elapsed 0m 0s (remain 0m 2s) Loss: 0.1432(0.1432) Grad: 3.8541  LR: 0.000050  \n",
      "Epoch: [5][10/19] Elapsed 0m 1s (remain 0m 1s) Loss: 0.2510(0.2660) Grad: 4.4552  LR: 0.000050  \n",
      "Epoch: [5][18/19] Elapsed 0m 2s (remain 0m 0s) Loss: 0.2439(0.2709) Grad: 13.3183  LR: 0.000050  \n",
      "EVAL: [0/3] Elapsed 0m 0s (remain 0m 0s) Loss: 0.2494(0.2494) \n"
     ]
    },
    {
     "name": "stderr",
     "output_type": "stream",
     "text": [
      "Epoch 5 - avg_train_loss: 0.2709  avg_val_loss: 0.2624  time: 4s\n",
      "Epoch 5 - Score: 0.2626\n",
      "Epoch 5 - Save Best Score: 0.2626 Model\n"
     ]
    },
    {
     "name": "stdout",
     "output_type": "stream",
     "text": [
      "EVAL: [2/3] Elapsed 0m 0s (remain 0m 0s) Loss: 0.2605(0.2624) \n",
      "Epoch: [6][0/19] Elapsed 0m 0s (remain 0m 2s) Loss: 0.2470(0.2470) Grad: 4.8219  LR: 0.000224  \n",
      "Epoch: [6][10/19] Elapsed 0m 1s (remain 0m 1s) Loss: 0.3017(0.4169) Grad: 23.3795  LR: 0.000224  \n",
      "Epoch: [6][18/19] Elapsed 0m 2s (remain 0m 0s) Loss: 0.2621(0.3708) Grad: 8.9740  LR: 0.000224  \n",
      "EVAL: [0/3] Elapsed 0m 0s (remain 0m 0s) Loss: 0.2832(0.2832) \n"
     ]
    },
    {
     "name": "stderr",
     "output_type": "stream",
     "text": [
      "Epoch 6 - avg_train_loss: 0.3708  avg_val_loss: 0.2869  time: 4s\n",
      "Epoch 6 - Score: 0.2876\n"
     ]
    },
    {
     "name": "stdout",
     "output_type": "stream",
     "text": [
      "EVAL: [2/3] Elapsed 0m 0s (remain 0m 0s) Loss: 0.2499(0.2869) \n",
      "Epoch: [7][0/19] Elapsed 0m 0s (remain 0m 2s) Loss: 0.2490(0.2490) Grad: 4.4252  LR: 0.000133  \n",
      "Epoch: [7][10/19] Elapsed 0m 1s (remain 0m 1s) Loss: 0.2714(0.2522) Grad: 3.8209  LR: 0.000133  \n",
      "Epoch: [7][18/19] Elapsed 0m 2s (remain 0m 0s) Loss: 0.3051(0.2537) Grad: 19.6442  LR: 0.000133  \n",
      "EVAL: [0/3] Elapsed 0m 0s (remain 0m 0s) Loss: 0.2729(0.2729) \n"
     ]
    },
    {
     "name": "stderr",
     "output_type": "stream",
     "text": [
      "Epoch 7 - avg_train_loss: 0.2537  avg_val_loss: 0.2487  time: 4s\n",
      "Epoch 7 - Score: 0.2502\n",
      "Epoch 7 - Save Best Score: 0.2502 Model\n"
     ]
    },
    {
     "name": "stdout",
     "output_type": "stream",
     "text": [
      "EVAL: [2/3] Elapsed 0m 0s (remain 0m 0s) Loss: 0.1929(0.2487) \n",
      "Epoch: [8][0/19] Elapsed 0m 0s (remain 0m 2s) Loss: 0.1702(0.1702) Grad: 7.3130  LR: 0.000057  \n",
      "Epoch: [8][10/19] Elapsed 0m 1s (remain 0m 1s) Loss: 0.2514(0.2329) Grad: 14.2110  LR: 0.000057  \n",
      "Epoch: [8][18/19] Elapsed 0m 2s (remain 0m 0s) Loss: 0.2203(0.2347) Grad: 19.8707  LR: 0.000057  \n",
      "EVAL: [0/3] Elapsed 0m 0s (remain 0m 0s) Loss: 0.2567(0.2567) \n"
     ]
    },
    {
     "name": "stderr",
     "output_type": "stream",
     "text": [
      "Epoch 8 - avg_train_loss: 0.2347  avg_val_loss: 0.2550  time: 4s\n",
      "Epoch 8 - Score: 0.2555\n"
     ]
    },
    {
     "name": "stdout",
     "output_type": "stream",
     "text": [
      "EVAL: [2/3] Elapsed 0m 0s (remain 0m 0s) Loss: 0.2201(0.2550) \n",
      "Epoch: [9][0/19] Elapsed 0m 0s (remain 0m 2s) Loss: 0.1873(0.1873) Grad: 11.2941  LR: 0.000009  \n",
      "Epoch: [9][10/19] Elapsed 0m 1s (remain 0m 1s) Loss: 0.1370(0.1826) Grad: 4.0994  LR: 0.000009  \n",
      "Epoch: [9][18/19] Elapsed 0m 2s (remain 0m 0s) Loss: 0.1257(0.1751) Grad: 10.3789  LR: 0.000009  \n",
      "EVAL: [0/3] Elapsed 0m 0s (remain 0m 0s) Loss: 0.2606(0.2606) \n"
     ]
    },
    {
     "name": "stderr",
     "output_type": "stream",
     "text": [
      "Epoch 9 - avg_train_loss: 0.1751  avg_val_loss: 0.2403  time: 4s\n",
      "Epoch 9 - Score: 0.2426\n",
      "Epoch 9 - Save Best Score: 0.2426 Model\n"
     ]
    },
    {
     "name": "stdout",
     "output_type": "stream",
     "text": [
      "EVAL: [2/3] Elapsed 0m 0s (remain 0m 0s) Loss: 0.1680(0.2403) \n",
      "Epoch: [10][0/19] Elapsed 0m 0s (remain 0m 2s) Loss: 0.1516(0.1516) Grad: 6.9495  LR: 0.000001  \n",
      "Epoch: [10][10/19] Elapsed 0m 1s (remain 0m 1s) Loss: 0.0969(0.1369) Grad: 11.4830  LR: 0.000001  \n",
      "Epoch: [10][18/19] Elapsed 0m 2s (remain 0m 0s) Loss: 0.1392(0.1293) Grad: 3.0145  LR: 0.000001  \n",
      "EVAL: [0/3] Elapsed 0m 0s (remain 0m 0s) Loss: 0.2464(0.2464) \n"
     ]
    },
    {
     "name": "stderr",
     "output_type": "stream",
     "text": [
      "Epoch 10 - avg_train_loss: 0.1293  avg_val_loss: 0.2329  time: 4s\n",
      "Epoch 10 - Score: 0.2354\n",
      "Epoch 10 - Save Best Score: 0.2354 Model\n"
     ]
    },
    {
     "name": "stdout",
     "output_type": "stream",
     "text": [
      "EVAL: [2/3] Elapsed 0m 0s (remain 0m 0s) Loss: 0.1582(0.2329) \n",
      "Epoch: [11][0/19] Elapsed 0m 0s (remain 0m 2s) Loss: 0.1175(0.1175) Grad: 3.1803  LR: 0.000050  \n",
      "Epoch: [11][10/19] Elapsed 0m 1s (remain 0m 1s) Loss: 0.1588(0.1269) Grad: 4.1612  LR: 0.000050  \n",
      "Epoch: [11][18/19] Elapsed 0m 2s (remain 0m 0s) Loss: 0.1517(0.1259) Grad: 7.8875  LR: 0.000050  \n",
      "EVAL: [0/3] Elapsed 0m 0s (remain 0m 0s) Loss: 0.2446(0.2446) \n"
     ]
    },
    {
     "name": "stderr",
     "output_type": "stream",
     "text": [
      "Epoch 11 - avg_train_loss: 0.1259  avg_val_loss: 0.2338  time: 4s\n",
      "Epoch 11 - Score: 0.2352\n",
      "Epoch 11 - Save Best Score: 0.2352 Model\n"
     ]
    },
    {
     "name": "stdout",
     "output_type": "stream",
     "text": [
      "EVAL: [2/3] Elapsed 0m 0s (remain 0m 0s) Loss: 0.1766(0.2338) \n",
      "Epoch: [12][0/19] Elapsed 0m 0s (remain 0m 2s) Loss: 0.0702(0.0702) Grad: 12.4566  LR: 0.000224  \n",
      "Epoch: [12][10/19] Elapsed 0m 1s (remain 0m 1s) Loss: 0.1226(0.1300) Grad: 9.6966  LR: 0.000224  \n",
      "Epoch: [12][18/19] Elapsed 0m 2s (remain 0m 0s) Loss: 0.1567(0.1470) Grad: 5.2488  LR: 0.000224  \n",
      "EVAL: [0/3] Elapsed 0m 0s (remain 0m 0s) Loss: 0.2657(0.2657) \n"
     ]
    },
    {
     "name": "stderr",
     "output_type": "stream",
     "text": [
      "Epoch 12 - avg_train_loss: 0.1470  avg_val_loss: 0.2386  time: 4s\n",
      "Epoch 12 - Score: 0.2408\n"
     ]
    },
    {
     "name": "stdout",
     "output_type": "stream",
     "text": [
      "EVAL: [2/3] Elapsed 0m 0s (remain 0m 0s) Loss: 0.1729(0.2386) \n",
      "Epoch: [13][0/19] Elapsed 0m 0s (remain 0m 2s) Loss: 0.1502(0.1502) Grad: 4.4374  LR: 0.000133  \n",
      "Epoch: [13][10/19] Elapsed 0m 1s (remain 0m 1s) Loss: 0.2128(0.1830) Grad: 14.6959  LR: 0.000133  \n",
      "Epoch: [13][18/19] Elapsed 0m 2s (remain 0m 0s) Loss: 0.2161(0.1831) Grad: 3.4266  LR: 0.000133  \n",
      "EVAL: [0/3] Elapsed 0m 0s (remain 0m 0s) Loss: 0.2488(0.2488) \n"
     ]
    },
    {
     "name": "stderr",
     "output_type": "stream",
     "text": [
      "Epoch 13 - avg_train_loss: 0.1831  avg_val_loss: 0.2574  time: 4s\n",
      "Epoch 13 - Score: 0.2585\n"
     ]
    },
    {
     "name": "stdout",
     "output_type": "stream",
     "text": [
      "EVAL: [2/3] Elapsed 0m 0s (remain 0m 0s) Loss: 0.2173(0.2574) \n",
      "Epoch: [14][0/19] Elapsed 0m 0s (remain 0m 2s) Loss: 0.1798(0.1798) Grad: 3.3145  LR: 0.000057  \n",
      "Epoch: [14][10/19] Elapsed 0m 1s (remain 0m 1s) Loss: 0.1577(0.1519) Grad: 5.1804  LR: 0.000057  \n",
      "Epoch: [14][18/19] Elapsed 0m 2s (remain 0m 0s) Loss: 0.1161(0.1510) Grad: 6.6440  LR: 0.000057  \n",
      "EVAL: [0/3] Elapsed 0m 0s (remain 0m 0s) Loss: 0.2521(0.2521) \n"
     ]
    },
    {
     "name": "stderr",
     "output_type": "stream",
     "text": [
      "Epoch 14 - avg_train_loss: 0.1510  avg_val_loss: 0.2206  time: 4s\n",
      "Epoch 14 - Score: 0.2222\n",
      "Epoch 14 - Save Best Score: 0.2222 Model\n"
     ]
    },
    {
     "name": "stdout",
     "output_type": "stream",
     "text": [
      "EVAL: [2/3] Elapsed 0m 0s (remain 0m 0s) Loss: 0.1941(0.2206) \n",
      "Epoch: [15][0/19] Elapsed 0m 0s (remain 0m 2s) Loss: 0.1583(0.1583) Grad: 16.2671  LR: 0.000009  \n",
      "Epoch: [15][10/19] Elapsed 0m 1s (remain 0m 1s) Loss: 0.1029(0.1329) Grad: 5.9017  LR: 0.000009  \n",
      "Epoch: [15][18/19] Elapsed 0m 2s (remain 0m 0s) Loss: 0.1420(0.1301) Grad: 9.4569  LR: 0.000009  \n",
      "EVAL: [0/3] Elapsed 0m 0s (remain 0m 0s) Loss: 0.2401(0.2401) \n"
     ]
    },
    {
     "name": "stderr",
     "output_type": "stream",
     "text": [
      "Epoch 15 - avg_train_loss: 0.1301  avg_val_loss: 0.2269  time: 3s\n",
      "Epoch 15 - Score: 0.2289\n"
     ]
    },
    {
     "name": "stdout",
     "output_type": "stream",
     "text": [
      "EVAL: [2/3] Elapsed 0m 0s (remain 0m 0s) Loss: 0.1602(0.2269) \n",
      "Epoch: [16][0/19] Elapsed 0m 0s (remain 0m 2s) Loss: 0.1233(0.1233) Grad: 4.0585  LR: 0.000001  \n",
      "Epoch: [16][10/19] Elapsed 0m 1s (remain 0m 1s) Loss: 0.1085(0.1151) Grad: 9.4782  LR: 0.000001  \n",
      "Epoch: [16][18/19] Elapsed 0m 2s (remain 0m 0s) Loss: 0.1150(0.1106) Grad: 3.6145  LR: 0.000001  \n",
      "EVAL: [0/3] Elapsed 0m 0s (remain 0m 0s) Loss: 0.2470(0.2470) \n"
     ]
    },
    {
     "name": "stderr",
     "output_type": "stream",
     "text": [
      "Epoch 16 - avg_train_loss: 0.1106  avg_val_loss: 0.2158  time: 4s\n",
      "Epoch 16 - Score: 0.2203\n",
      "Epoch 16 - Save Best Score: 0.2203 Model\n"
     ]
    },
    {
     "name": "stdout",
     "output_type": "stream",
     "text": [
      "EVAL: [2/3] Elapsed 0m 0s (remain 0m 0s) Loss: 0.1212(0.2158) \n",
      "Epoch: [17][0/19] Elapsed 0m 0s (remain 0m 2s) Loss: 0.1098(0.1098) Grad: 6.4521  LR: 0.000050  \n",
      "Epoch: [17][10/19] Elapsed 0m 1s (remain 0m 1s) Loss: 0.1008(0.1124) Grad: 4.5575  LR: 0.000050  \n",
      "Epoch: [17][18/19] Elapsed 0m 2s (remain 0m 0s) Loss: 0.1048(0.1111) Grad: 8.1228  LR: 0.000050  \n",
      "EVAL: [0/3] Elapsed 0m 0s (remain 0m 0s) Loss: 0.2440(0.2440) \n"
     ]
    },
    {
     "name": "stderr",
     "output_type": "stream",
     "text": [
      "Epoch 17 - avg_train_loss: 0.1111  avg_val_loss: 0.2243  time: 4s\n",
      "Epoch 17 - Score: 0.2274\n"
     ]
    },
    {
     "name": "stdout",
     "output_type": "stream",
     "text": [
      "EVAL: [2/3] Elapsed 0m 0s (remain 0m 0s) Loss: 0.1418(0.2243) \n",
      "Epoch: [18][0/19] Elapsed 0m 0s (remain 0m 2s) Loss: 0.1236(0.1236) Grad: 10.3397  LR: 0.000224  \n",
      "Epoch: [18][10/19] Elapsed 0m 1s (remain 0m 1s) Loss: 0.1219(0.1258) Grad: 11.5792  LR: 0.000224  \n",
      "Epoch: [18][18/19] Elapsed 0m 2s (remain 0m 0s) Loss: 0.0943(0.1267) Grad: 10.9469  LR: 0.000224  \n",
      "EVAL: [0/3] Elapsed 0m 0s (remain 0m 0s) Loss: 0.2539(0.2539) \n"
     ]
    },
    {
     "name": "stderr",
     "output_type": "stream",
     "text": [
      "Epoch 18 - avg_train_loss: 0.1267  avg_val_loss: 0.2266  time: 4s\n",
      "Epoch 18 - Score: 0.2279\n"
     ]
    },
    {
     "name": "stdout",
     "output_type": "stream",
     "text": [
      "EVAL: [2/3] Elapsed 0m 0s (remain 0m 0s) Loss: 0.1911(0.2266) \n",
      "Epoch: [19][0/19] Elapsed 0m 0s (remain 0m 2s) Loss: 0.1939(0.1939) Grad: 10.6648  LR: 0.000133  \n",
      "Epoch: [19][10/19] Elapsed 0m 1s (remain 0m 1s) Loss: 0.1665(0.1566) Grad: 9.7116  LR: 0.000133  \n",
      "Epoch: [19][18/19] Elapsed 0m 2s (remain 0m 0s) Loss: 0.1478(0.1499) Grad: 6.8093  LR: 0.000133  \n",
      "EVAL: [0/3] Elapsed 0m 0s (remain 0m 0s) Loss: 0.2443(0.2443) \n"
     ]
    },
    {
     "name": "stderr",
     "output_type": "stream",
     "text": [
      "Epoch 19 - avg_train_loss: 0.1499  avg_val_loss: 0.2421  time: 4s\n",
      "Epoch 19 - Score: 0.2444\n"
     ]
    },
    {
     "name": "stdout",
     "output_type": "stream",
     "text": [
      "EVAL: [2/3] Elapsed 0m 0s (remain 0m 0s) Loss: 0.1719(0.2421) \n",
      "Epoch: [20][0/19] Elapsed 0m 0s (remain 0m 2s) Loss: 0.1075(0.1075) Grad: 11.0921  LR: 0.000057  \n",
      "Epoch: [20][10/19] Elapsed 0m 1s (remain 0m 1s) Loss: 0.1411(0.1419) Grad: 14.8759  LR: 0.000057  \n",
      "Epoch: [20][18/19] Elapsed 0m 2s (remain 0m 0s) Loss: 0.1121(0.1448) Grad: 10.1145  LR: 0.000057  \n",
      "EVAL: [0/3] Elapsed 0m 0s (remain 0m 0s) Loss: 0.2169(0.2169) \n"
     ]
    },
    {
     "name": "stderr",
     "output_type": "stream",
     "text": [
      "Epoch 20 - avg_train_loss: 0.1448  avg_val_loss: 0.2087  time: 4s\n",
      "Epoch 20 - Score: 0.2093\n",
      "Epoch 20 - Save Best Score: 0.2093 Model\n"
     ]
    },
    {
     "name": "stdout",
     "output_type": "stream",
     "text": [
      "EVAL: [2/3] Elapsed 0m 0s (remain 0m 0s) Loss: 0.1724(0.2087) \n",
      "Epoch: [21][0/19] Elapsed 0m 0s (remain 0m 2s) Loss: 0.1216(0.1216) Grad: 3.5672  LR: 0.000009  \n",
      "Epoch: [21][10/19] Elapsed 0m 1s (remain 0m 1s) Loss: 0.1177(0.1211) Grad: 8.6334  LR: 0.000009  \n",
      "Epoch: [21][18/19] Elapsed 0m 2s (remain 0m 0s) Loss: 0.1000(0.1149) Grad: 7.9274  LR: 0.000009  \n",
      "EVAL: [0/3] Elapsed 0m 0s (remain 0m 0s) Loss: 0.2481(0.2481) \n"
     ]
    },
    {
     "name": "stderr",
     "output_type": "stream",
     "text": [
      "Epoch 21 - avg_train_loss: 0.1149  avg_val_loss: 0.2168  time: 4s\n",
      "Epoch 21 - Score: 0.2191\n"
     ]
    },
    {
     "name": "stdout",
     "output_type": "stream",
     "text": [
      "EVAL: [2/3] Elapsed 0m 0s (remain 0m 0s) Loss: 0.1582(0.2168) \n",
      "Epoch: [22][0/19] Elapsed 0m 0s (remain 0m 2s) Loss: 0.0870(0.0870) Grad: 3.1212  LR: 0.000001  \n",
      "Epoch: [22][10/19] Elapsed 0m 1s (remain 0m 1s) Loss: 0.0846(0.0928) Grad: 4.2988  LR: 0.000001  \n",
      "Epoch: [22][18/19] Elapsed 0m 2s (remain 0m 0s) Loss: 0.0805(0.0897) Grad: 3.5621  LR: 0.000001  \n",
      "EVAL: [0/3] Elapsed 0m 0s (remain 0m 0s) Loss: 0.2243(0.2243) \n"
     ]
    },
    {
     "name": "stderr",
     "output_type": "stream",
     "text": [
      "Epoch 22 - avg_train_loss: 0.0897  avg_val_loss: 0.2116  time: 4s\n",
      "Epoch 22 - Score: 0.2129\n"
     ]
    },
    {
     "name": "stdout",
     "output_type": "stream",
     "text": [
      "EVAL: [2/3] Elapsed 0m 0s (remain 0m 0s) Loss: 0.1599(0.2116) \n",
      "Epoch: [23][0/19] Elapsed 0m 0s (remain 0m 2s) Loss: 0.0883(0.0883) Grad: 3.0450  LR: 0.000050  \n",
      "Epoch: [23][10/19] Elapsed 0m 1s (remain 0m 1s) Loss: 0.0818(0.0882) Grad: 5.4501  LR: 0.000050  \n",
      "Epoch: [23][18/19] Elapsed 0m 2s (remain 0m 0s) Loss: 0.1067(0.0866) Grad: 3.4414  LR: 0.000050  \n",
      "EVAL: [0/3] Elapsed 0m 0s (remain 0m 0s) Loss: 0.2410(0.2410) \n"
     ]
    },
    {
     "name": "stderr",
     "output_type": "stream",
     "text": [
      "Epoch 23 - avg_train_loss: 0.0866  avg_val_loss: 0.2204  time: 4s\n",
      "Epoch 23 - Score: 0.2232\n"
     ]
    },
    {
     "name": "stdout",
     "output_type": "stream",
     "text": [
      "EVAL: [2/3] Elapsed 0m 0s (remain 0m 0s) Loss: 0.1428(0.2204) \n",
      "Epoch: [24][0/19] Elapsed 0m 0s (remain 0m 2s) Loss: 0.1101(0.1101) Grad: 9.3996  LR: 0.000224  \n",
      "Epoch: [24][10/19] Elapsed 0m 1s (remain 0m 1s) Loss: 0.2124(0.1261) Grad: 17.4027  LR: 0.000224  \n",
      "Epoch: [24][18/19] Elapsed 0m 2s (remain 0m 0s) Loss: 0.1297(0.1255) Grad: 11.1599  LR: 0.000224  \n",
      "EVAL: [0/3] Elapsed 0m 0s (remain 0m 0s) Loss: 0.2226(0.2226) \n"
     ]
    },
    {
     "name": "stderr",
     "output_type": "stream",
     "text": [
      "Epoch 24 - avg_train_loss: 0.1255  avg_val_loss: 0.2176  time: 4s\n",
      "Epoch 24 - Score: 0.2187\n"
     ]
    },
    {
     "name": "stdout",
     "output_type": "stream",
     "text": [
      "EVAL: [2/3] Elapsed 0m 0s (remain 0m 0s) Loss: 0.1693(0.2176) \n",
      "Epoch: [25][0/19] Elapsed 0m 0s (remain 0m 2s) Loss: 0.1454(0.1454) Grad: 16.9589  LR: 0.000133  \n",
      "Epoch: [25][10/19] Elapsed 0m 1s (remain 0m 1s) Loss: 0.1070(0.1582) Grad: 5.6670  LR: 0.000133  \n",
      "Epoch: [25][18/19] Elapsed 0m 2s (remain 0m 0s) Loss: 0.2530(0.1569) Grad: 17.5857  LR: 0.000133  \n",
      "EVAL: [0/3] Elapsed 0m 0s (remain 0m 0s) Loss: 0.2765(0.2765) \n"
     ]
    },
    {
     "name": "stderr",
     "output_type": "stream",
     "text": [
      "Epoch 25 - avg_train_loss: 0.1569  avg_val_loss: 0.2572  time: 3s\n",
      "Epoch 25 - Score: 0.2615\n"
     ]
    },
    {
     "name": "stdout",
     "output_type": "stream",
     "text": [
      "EVAL: [2/3] Elapsed 0m 0s (remain 0m 0s) Loss: 0.1528(0.2572) \n",
      "Epoch: [26][0/19] Elapsed 0m 0s (remain 0m 2s) Loss: 0.1390(0.1390) Grad: 17.6111  LR: 0.000057  \n",
      "Epoch: [26][10/19] Elapsed 0m 1s (remain 0m 1s) Loss: 0.1442(0.1319) Grad: 10.0960  LR: 0.000057  \n",
      "Epoch: [26][18/19] Elapsed 0m 2s (remain 0m 0s) Loss: 0.1130(0.1363) Grad: 7.8983  LR: 0.000057  \n",
      "EVAL: [0/3] Elapsed 0m 0s (remain 0m 0s) Loss: 0.2524(0.2524) \n"
     ]
    },
    {
     "name": "stderr",
     "output_type": "stream",
     "text": [
      "Epoch 26 - avg_train_loss: 0.1363  avg_val_loss: 0.2340  time: 3s\n",
      "Epoch 26 - Score: 0.2381\n"
     ]
    },
    {
     "name": "stdout",
     "output_type": "stream",
     "text": [
      "EVAL: [2/3] Elapsed 0m 0s (remain 0m 0s) Loss: 0.1361(0.2340) \n",
      "Epoch: [27][0/19] Elapsed 0m 0s (remain 0m 2s) Loss: 0.1132(0.1132) Grad: 2.8842  LR: 0.000009  \n",
      "Epoch: [27][10/19] Elapsed 0m 1s (remain 0m 1s) Loss: 0.1206(0.1087) Grad: 2.6749  LR: 0.000009  \n",
      "Epoch: [27][18/19] Elapsed 0m 2s (remain 0m 0s) Loss: 0.1020(0.1074) Grad: 7.5351  LR: 0.000009  \n",
      "EVAL: [0/3] Elapsed 0m 0s (remain 0m 0s) Loss: 0.2245(0.2245) \n"
     ]
    },
    {
     "name": "stderr",
     "output_type": "stream",
     "text": [
      "Epoch 27 - avg_train_loss: 0.1074  avg_val_loss: 0.2082  time: 3s\n",
      "Epoch 27 - Score: 0.2109\n"
     ]
    },
    {
     "name": "stdout",
     "output_type": "stream",
     "text": [
      "EVAL: [2/3] Elapsed 0m 0s (remain 0m 0s) Loss: 0.1338(0.2082) \n",
      "Epoch: [28][0/19] Elapsed 0m 0s (remain 0m 2s) Loss: 0.0673(0.0673) Grad: 5.2828  LR: 0.000001  \n",
      "Epoch: [28][10/19] Elapsed 0m 1s (remain 0m 1s) Loss: 0.0905(0.0944) Grad: 3.9021  LR: 0.000001  \n",
      "Epoch: [28][18/19] Elapsed 0m 2s (remain 0m 0s) Loss: 0.0608(0.0885) Grad: 7.7054  LR: 0.000001  \n",
      "EVAL: [0/3] Elapsed 0m 0s (remain 0m 0s) Loss: 0.2265(0.2265) \n"
     ]
    },
    {
     "name": "stderr",
     "output_type": "stream",
     "text": [
      "Epoch 28 - avg_train_loss: 0.0885  avg_val_loss: 0.2057  time: 4s\n",
      "Epoch 28 - Score: 0.2086\n",
      "Epoch 28 - Save Best Score: 0.2086 Model\n"
     ]
    },
    {
     "name": "stdout",
     "output_type": "stream",
     "text": [
      "EVAL: [2/3] Elapsed 0m 0s (remain 0m 0s) Loss: 0.1298(0.2057) \n",
      "Epoch: [29][0/19] Elapsed 0m 0s (remain 0m 2s) Loss: 0.0862(0.0862) Grad: 2.6499  LR: 0.000050  \n",
      "Epoch: [29][10/19] Elapsed 0m 1s (remain 0m 1s) Loss: 0.0780(0.0901) Grad: 7.0707  LR: 0.000050  \n",
      "Epoch: [29][18/19] Elapsed 0m 2s (remain 0m 0s) Loss: 0.0751(0.0907) Grad: 3.7535  LR: 0.000050  \n",
      "EVAL: [0/3] Elapsed 0m 0s (remain 0m 0s) Loss: 0.2307(0.2307) \n"
     ]
    },
    {
     "name": "stderr",
     "output_type": "stream",
     "text": [
      "Epoch 29 - avg_train_loss: 0.0907  avg_val_loss: 0.2179  time: 4s\n",
      "Epoch 29 - Score: 0.2204\n"
     ]
    },
    {
     "name": "stdout",
     "output_type": "stream",
     "text": [
      "EVAL: [2/3] Elapsed 0m 0s (remain 0m 0s) Loss: 0.1456(0.2179) \n",
      "Epoch: [30][0/19] Elapsed 0m 0s (remain 0m 2s) Loss: 0.0989(0.0989) Grad: 9.1442  LR: 0.000224  \n",
      "Epoch: [30][10/19] Elapsed 0m 1s (remain 0m 1s) Loss: 0.1205(0.1074) Grad: 16.7231  LR: 0.000224  \n",
      "Epoch: [30][18/19] Elapsed 0m 2s (remain 0m 0s) Loss: 0.1035(0.1156) Grad: 11.9164  LR: 0.000224  \n",
      "EVAL: [0/3] Elapsed 0m 0s (remain 0m 0s) Loss: 0.2623(0.2623) \n"
     ]
    },
    {
     "name": "stderr",
     "output_type": "stream",
     "text": [
      "Epoch 30 - avg_train_loss: 0.1156  avg_val_loss: 0.2299  time: 4s\n",
      "Epoch 30 - Score: 0.2336\n"
     ]
    },
    {
     "name": "stdout",
     "output_type": "stream",
     "text": [
      "EVAL: [2/3] Elapsed 0m 0s (remain 0m 0s) Loss: 0.1434(0.2299) \n",
      "Epoch: [31][0/19] Elapsed 0m 0s (remain 0m 2s) Loss: 0.1548(0.1548) Grad: 16.5068  LR: 0.000133  \n",
      "Epoch: [31][10/19] Elapsed 0m 1s (remain 0m 1s) Loss: 0.1466(0.1483) Grad: 2.9279  LR: 0.000133  \n",
      "Epoch: [31][18/19] Elapsed 0m 2s (remain 0m 0s) Loss: 0.1569(0.1848) Grad: 11.8081  LR: 0.000133  \n",
      "EVAL: [0/3] Elapsed 0m 0s (remain 0m 0s) Loss: 0.3995(0.3995) \n"
     ]
    },
    {
     "name": "stderr",
     "output_type": "stream",
     "text": [
      "Epoch 31 - avg_train_loss: 0.1848  avg_val_loss: 0.3906  time: 4s\n",
      "Epoch 31 - Score: 0.3915\n"
     ]
    },
    {
     "name": "stdout",
     "output_type": "stream",
     "text": [
      "EVAL: [2/3] Elapsed 0m 0s (remain 0m 0s) Loss: 0.3346(0.3906) \n",
      "Epoch: [32][0/19] Elapsed 0m 0s (remain 0m 2s) Loss: 0.3133(0.3133) Grad: 19.7087  LR: 0.000057  \n",
      "Epoch: [32][10/19] Elapsed 0m 1s (remain 0m 1s) Loss: 0.1471(0.1862) Grad: 15.7749  LR: 0.000057  \n",
      "Epoch: [32][18/19] Elapsed 0m 2s (remain 0m 0s) Loss: 0.1864(0.1795) Grad: 15.3697  LR: 0.000057  \n",
      "EVAL: [0/3] Elapsed 0m 0s (remain 0m 0s) Loss: 0.2363(0.2363) \n"
     ]
    },
    {
     "name": "stderr",
     "output_type": "stream",
     "text": [
      "Epoch 32 - avg_train_loss: 0.1795  avg_val_loss: 0.2265  time: 3s\n",
      "Epoch 32 - Score: 0.2275\n"
     ]
    },
    {
     "name": "stdout",
     "output_type": "stream",
     "text": [
      "EVAL: [2/3] Elapsed 0m 0s (remain 0m 0s) Loss: 0.1790(0.2265) \n",
      "Epoch: [33][0/19] Elapsed 0m 0s (remain 0m 2s) Loss: 0.1144(0.1144) Grad: 10.6977  LR: 0.000009  \n",
      "Epoch: [33][10/19] Elapsed 0m 1s (remain 0m 1s) Loss: 0.1506(0.1313) Grad: 10.4288  LR: 0.000009  \n",
      "Epoch: [33][18/19] Elapsed 0m 2s (remain 0m 0s) Loss: 0.0767(0.1189) Grad: 4.2264  LR: 0.000009  \n",
      "EVAL: [0/3] Elapsed 0m 0s (remain 0m 0s) Loss: 0.2244(0.2244) \n"
     ]
    },
    {
     "name": "stderr",
     "output_type": "stream",
     "text": [
      "Epoch 33 - avg_train_loss: 0.1189  avg_val_loss: 0.2041  time: 4s\n",
      "Epoch 33 - Score: 0.2072\n",
      "Epoch 33 - Save Best Score: 0.2072 Model\n"
     ]
    },
    {
     "name": "stdout",
     "output_type": "stream",
     "text": [
      "EVAL: [2/3] Elapsed 0m 0s (remain 0m 0s) Loss: 0.1241(0.2041) \n",
      "Epoch: [34][0/19] Elapsed 0m 0s (remain 0m 2s) Loss: 0.0802(0.0802) Grad: 2.4232  LR: 0.000001  \n",
      "Epoch: [34][10/19] Elapsed 0m 1s (remain 0m 1s) Loss: 0.0834(0.0853) Grad: 4.2588  LR: 0.000001  \n",
      "Epoch: [34][18/19] Elapsed 0m 2s (remain 0m 0s) Loss: 0.0714(0.0806) Grad: 2.6862  LR: 0.000001  \n",
      "EVAL: [0/3] Elapsed 0m 0s (remain 0m 0s) Loss: 0.2135(0.2135) \n"
     ]
    },
    {
     "name": "stderr",
     "output_type": "stream",
     "text": [
      "Epoch 34 - avg_train_loss: 0.0806  avg_val_loss: 0.2018  time: 4s\n",
      "Epoch 34 - Score: 0.2035\n",
      "Epoch 34 - Save Best Score: 0.2035 Model\n"
     ]
    },
    {
     "name": "stdout",
     "output_type": "stream",
     "text": [
      "EVAL: [2/3] Elapsed 0m 0s (remain 0m 0s) Loss: 0.1444(0.2018) \n",
      "Epoch: [35][0/19] Elapsed 0m 0s (remain 0m 2s) Loss: 0.0835(0.0835) Grad: 2.3589  LR: 0.000050  \n",
      "Epoch: [35][10/19] Elapsed 0m 1s (remain 0m 1s) Loss: 0.0903(0.0845) Grad: 3.3310  LR: 0.000050  \n",
      "Epoch: [35][18/19] Elapsed 0m 2s (remain 0m 0s) Loss: 0.0867(0.0807) Grad: 3.6876  LR: 0.000050  \n",
      "EVAL: [0/3] Elapsed 0m 0s (remain 0m 0s) Loss: 0.2274(0.2274) \n"
     ]
    },
    {
     "name": "stderr",
     "output_type": "stream",
     "text": [
      "Epoch 35 - avg_train_loss: 0.0807  avg_val_loss: 0.2092  time: 3s\n",
      "Epoch 35 - Score: 0.2113\n"
     ]
    },
    {
     "name": "stdout",
     "output_type": "stream",
     "text": [
      "EVAL: [2/3] Elapsed 0m 0s (remain 0m 0s) Loss: 0.1436(0.2092) \n",
      "Epoch: [36][0/19] Elapsed 0m 0s (remain 0m 2s) Loss: 0.0625(0.0625) Grad: 9.3393  LR: 0.000224  \n",
      "Epoch: [36][10/19] Elapsed 0m 1s (remain 0m 1s) Loss: 0.0572(0.0798) Grad: 4.9723  LR: 0.000224  \n",
      "Epoch: [36][18/19] Elapsed 0m 2s (remain 0m 0s) Loss: 0.1228(0.0909) Grad: 16.6820  LR: 0.000224  \n",
      "EVAL: [0/3] Elapsed 0m 0s (remain 0m 0s) Loss: 0.2354(0.2354) \n"
     ]
    },
    {
     "name": "stderr",
     "output_type": "stream",
     "text": [
      "Epoch 36 - avg_train_loss: 0.0909  avg_val_loss: 0.2155  time: 4s\n",
      "Epoch 36 - Score: 0.2182\n"
     ]
    },
    {
     "name": "stdout",
     "output_type": "stream",
     "text": [
      "EVAL: [2/3] Elapsed 0m 0s (remain 0m 0s) Loss: 0.1407(0.2155) \n",
      "Epoch: [37][0/19] Elapsed 0m 0s (remain 0m 2s) Loss: 0.0910(0.0910) Grad: 10.6575  LR: 0.000133  \n",
      "Epoch: [37][10/19] Elapsed 0m 1s (remain 0m 1s) Loss: 0.1092(0.1351) Grad: 10.6892  LR: 0.000133  \n",
      "Epoch: [37][18/19] Elapsed 0m 2s (remain 0m 0s) Loss: 0.1197(0.1365) Grad: 12.4198  LR: 0.000133  \n",
      "EVAL: [0/3] Elapsed 0m 0s (remain 0m 0s) Loss: 0.2482(0.2482) \n"
     ]
    },
    {
     "name": "stderr",
     "output_type": "stream",
     "text": [
      "Epoch 37 - avg_train_loss: 0.1365  avg_val_loss: 0.2102  time: 4s\n",
      "Epoch 37 - Score: 0.2138\n"
     ]
    },
    {
     "name": "stdout",
     "output_type": "stream",
     "text": [
      "EVAL: [2/3] Elapsed 0m 0s (remain 0m 0s) Loss: 0.1370(0.2102) \n",
      "Epoch: [38][0/19] Elapsed 0m 0s (remain 0m 2s) Loss: 0.1341(0.1341) Grad: 5.6450  LR: 0.000057  \n",
      "Epoch: [38][10/19] Elapsed 0m 1s (remain 0m 1s) Loss: 0.1494(0.1168) Grad: 2.8766  LR: 0.000057  \n",
      "Epoch: [38][18/19] Elapsed 0m 2s (remain 0m 0s) Loss: 0.1835(0.1227) Grad: 13.7368  LR: 0.000057  \n",
      "EVAL: [0/3] Elapsed 0m 0s (remain 0m 0s) Loss: 0.2312(0.2312) \n"
     ]
    },
    {
     "name": "stderr",
     "output_type": "stream",
     "text": [
      "Epoch 38 - avg_train_loss: 0.1227  avg_val_loss: 0.2089  time: 4s\n",
      "Epoch 38 - Score: 0.2098\n"
     ]
    },
    {
     "name": "stdout",
     "output_type": "stream",
     "text": [
      "EVAL: [2/3] Elapsed 0m 0s (remain 0m 0s) Loss: 0.1840(0.2089) \n",
      "Epoch: [39][0/19] Elapsed 0m 0s (remain 0m 2s) Loss: 0.1288(0.1288) Grad: 11.8724  LR: 0.000009  \n",
      "Epoch: [39][10/19] Elapsed 0m 1s (remain 0m 1s) Loss: 0.0847(0.1044) Grad: 6.2002  LR: 0.000009  \n",
      "Epoch: [39][18/19] Elapsed 0m 2s (remain 0m 0s) Loss: 0.1342(0.0987) Grad: 3.3147  LR: 0.000009  \n",
      "EVAL: [0/3] Elapsed 0m 0s (remain 0m 0s) Loss: 0.2139(0.2139) \n"
     ]
    },
    {
     "name": "stderr",
     "output_type": "stream",
     "text": [
      "Epoch 39 - avg_train_loss: 0.0987  avg_val_loss: 0.2038  time: 4s\n",
      "Epoch 39 - Score: 0.2059\n"
     ]
    },
    {
     "name": "stdout",
     "output_type": "stream",
     "text": [
      "EVAL: [2/3] Elapsed 0m 0s (remain 0m 0s) Loss: 0.1390(0.2038) \n",
      "Epoch: [40][0/19] Elapsed 0m 0s (remain 0m 2s) Loss: 0.0737(0.0737) Grad: 8.8053  LR: 0.000001  \n",
      "Epoch: [40][10/19] Elapsed 0m 1s (remain 0m 1s) Loss: 0.0826(0.0743) Grad: 1.8432  LR: 0.000001  \n",
      "Epoch: [40][18/19] Elapsed 0m 2s (remain 0m 0s) Loss: 0.0696(0.0771) Grad: 2.5388  LR: 0.000001  \n",
      "EVAL: [0/3] Elapsed 0m 0s (remain 0m 0s) Loss: 0.2063(0.2063) \n"
     ]
    },
    {
     "name": "stderr",
     "output_type": "stream",
     "text": [
      "Epoch 40 - avg_train_loss: 0.0771  avg_val_loss: 0.1983  time: 4s\n",
      "Epoch 40 - Score: 0.1993\n",
      "Epoch 40 - Save Best Score: 0.1993 Model\n"
     ]
    },
    {
     "name": "stdout",
     "output_type": "stream",
     "text": [
      "EVAL: [2/3] Elapsed 0m 0s (remain 0m 0s) Loss: 0.1539(0.1983) \n"
     ]
    },
    {
     "name": "stderr",
     "output_type": "stream",
     "text": [
      "========== fold: 3 result ==========\n",
      "Score: 0.1993\n",
      "========== fold: 4 training ==========\n"
     ]
    },
    {
     "name": "stdout",
     "output_type": "stream",
     "text": [
      "Epoch: [1][0/19] Elapsed 0m 0s (remain 0m 2s) Loss: 3.3741(3.3741) Grad: 25.6022  LR: 0.000100  \n",
      "Epoch: [1][10/19] Elapsed 0m 1s (remain 0m 1s) Loss: 0.5114(1.5628) Grad: 29.8175  LR: 0.000100  \n",
      "Epoch: [1][18/19] Elapsed 0m 2s (remain 0m 0s) Loss: 0.7146(1.2283) Grad: 30.6614  LR: 0.000100  \n",
      "EVAL: [0/3] Elapsed 0m 0s (remain 0m 0s) Loss: 0.7020(0.7020) \n"
     ]
    },
    {
     "name": "stderr",
     "output_type": "stream",
     "text": [
      "Epoch 1 - avg_train_loss: 1.2283  avg_val_loss: 0.6772  time: 3s\n",
      "Epoch 1 - Score: 0.6796\n",
      "Epoch 1 - Save Best Score: 0.6796 Model\n"
     ]
    },
    {
     "name": "stdout",
     "output_type": "stream",
     "text": [
      "EVAL: [2/3] Elapsed 0m 0s (remain 0m 0s) Loss: 0.7666(0.6772) \n",
      "Epoch: [2][0/19] Elapsed 0m 0s (remain 0m 2s) Loss: 0.6958(0.6958) Grad: 26.7637  LR: 0.000057  \n",
      "Epoch: [2][10/19] Elapsed 0m 1s (remain 0m 1s) Loss: 0.5220(0.4907) Grad: 9.1418  LR: 0.000057  \n",
      "Epoch: [2][18/19] Elapsed 0m 2s (remain 0m 0s) Loss: 0.4200(0.4435) Grad: 12.8197  LR: 0.000057  \n",
      "EVAL: [0/3] Elapsed 0m 0s (remain 0m 0s) Loss: 0.3171(0.3171) \n"
     ]
    },
    {
     "name": "stderr",
     "output_type": "stream",
     "text": [
      "Epoch 2 - avg_train_loss: 0.4435  avg_val_loss: 0.3395  time: 4s\n",
      "Epoch 2 - Score: 0.3418\n",
      "Epoch 2 - Save Best Score: 0.3418 Model\n"
     ]
    },
    {
     "name": "stdout",
     "output_type": "stream",
     "text": [
      "EVAL: [2/3] Elapsed 0m 0s (remain 0m 0s) Loss: 0.4271(0.3395) \n",
      "Epoch: [3][0/19] Elapsed 0m 0s (remain 0m 2s) Loss: 0.2734(0.2734) Grad: 10.2139  LR: 0.000009  \n",
      "Epoch: [3][10/19] Elapsed 0m 1s (remain 0m 1s) Loss: 0.3451(0.3038) Grad: 7.7926  LR: 0.000009  \n",
      "Epoch: [3][18/19] Elapsed 0m 2s (remain 0m 0s) Loss: 0.2421(0.3003) Grad: 5.9673  LR: 0.000009  \n",
      "EVAL: [0/3] Elapsed 0m 0s (remain 0m 0s) Loss: 0.2979(0.2979) \n"
     ]
    },
    {
     "name": "stderr",
     "output_type": "stream",
     "text": [
      "Epoch 3 - avg_train_loss: 0.3003  avg_val_loss: 0.3136  time: 4s\n",
      "Epoch 3 - Score: 0.3139\n",
      "Epoch 3 - Save Best Score: 0.3139 Model\n"
     ]
    },
    {
     "name": "stdout",
     "output_type": "stream",
     "text": [
      "EVAL: [2/3] Elapsed 0m 0s (remain 0m 0s) Loss: 0.3388(0.3136) \n",
      "Epoch: [4][0/19] Elapsed 0m 0s (remain 0m 2s) Loss: 0.2767(0.2767) Grad: 7.6150  LR: 0.000001  \n",
      "Epoch: [4][10/19] Elapsed 0m 1s (remain 0m 1s) Loss: 0.2947(0.2666) Grad: 9.2668  LR: 0.000001  \n",
      "Epoch: [4][18/19] Elapsed 0m 2s (remain 0m 0s) Loss: 0.2383(0.2506) Grad: 4.8438  LR: 0.000001  \n",
      "EVAL: [0/3] Elapsed 0m 0s (remain 0m 0s) Loss: 0.3127(0.3127) \n"
     ]
    },
    {
     "name": "stderr",
     "output_type": "stream",
     "text": [
      "Epoch 4 - avg_train_loss: 0.2506  avg_val_loss: 0.3005  time: 4s\n",
      "Epoch 4 - Score: 0.3010\n",
      "Epoch 4 - Save Best Score: 0.3010 Model\n"
     ]
    },
    {
     "name": "stdout",
     "output_type": "stream",
     "text": [
      "EVAL: [2/3] Elapsed 0m 0s (remain 0m 0s) Loss: 0.3220(0.3005) \n",
      "Epoch: [5][0/19] Elapsed 0m 0s (remain 0m 2s) Loss: 0.2272(0.2272) Grad: 3.5889  LR: 0.000050  \n",
      "Epoch: [5][10/19] Elapsed 0m 1s (remain 0m 1s) Loss: 0.2583(0.2743) Grad: 18.0465  LR: 0.000050  \n",
      "Epoch: [5][18/19] Elapsed 0m 2s (remain 0m 0s) Loss: 0.2997(0.2701) Grad: 9.4401  LR: 0.000050  \n",
      "EVAL: [0/3] Elapsed 0m 0s (remain 0m 0s) Loss: 0.2887(0.2887) \n"
     ]
    },
    {
     "name": "stderr",
     "output_type": "stream",
     "text": [
      "Epoch 5 - avg_train_loss: 0.2701  avg_val_loss: 0.3036  time: 3s\n",
      "Epoch 5 - Score: 0.3043\n"
     ]
    },
    {
     "name": "stdout",
     "output_type": "stream",
     "text": [
      "EVAL: [2/3] Elapsed 0m 0s (remain 0m 0s) Loss: 0.3480(0.3036) \n",
      "Epoch: [6][0/19] Elapsed 0m 0s (remain 0m 2s) Loss: 0.2348(0.2348) Grad: 21.3691  LR: 0.000224  \n",
      "Epoch: [6][10/19] Elapsed 0m 1s (remain 0m 1s) Loss: 0.2530(0.2887) Grad: 19.3294  LR: 0.000224  \n",
      "Epoch: [6][18/19] Elapsed 0m 2s (remain 0m 0s) Loss: 0.3330(0.2864) Grad: 17.6229  LR: 0.000224  \n",
      "EVAL: [0/3] Elapsed 0m 0s (remain 0m 0s) Loss: 0.2743(0.2743) \n"
     ]
    },
    {
     "name": "stderr",
     "output_type": "stream",
     "text": [
      "Epoch 6 - avg_train_loss: 0.2864  avg_val_loss: 0.2738  time: 4s\n",
      "Epoch 6 - Score: 0.2751\n",
      "Epoch 6 - Save Best Score: 0.2751 Model\n"
     ]
    },
    {
     "name": "stdout",
     "output_type": "stream",
     "text": [
      "EVAL: [2/3] Elapsed 0m 0s (remain 0m 0s) Loss: 0.2175(0.2738) \n",
      "Epoch: [7][0/19] Elapsed 0m 0s (remain 0m 2s) Loss: 0.2351(0.2351) Grad: 4.7235  LR: 0.000133  \n",
      "Epoch: [7][10/19] Elapsed 0m 1s (remain 0m 1s) Loss: 0.1843(0.2550) Grad: 4.9304  LR: 0.000133  \n",
      "Epoch: [7][18/19] Elapsed 0m 2s (remain 0m 0s) Loss: 0.2057(0.2462) Grad: 12.0064  LR: 0.000133  \n",
      "EVAL: [0/3] Elapsed 0m 0s (remain 0m 0s) Loss: 0.2769(0.2769) \n"
     ]
    },
    {
     "name": "stderr",
     "output_type": "stream",
     "text": [
      "Epoch 7 - avg_train_loss: 0.2462  avg_val_loss: 0.2788  time: 3s\n",
      "Epoch 7 - Score: 0.2789\n"
     ]
    },
    {
     "name": "stdout",
     "output_type": "stream",
     "text": [
      "EVAL: [2/3] Elapsed 0m 0s (remain 0m 0s) Loss: 0.2971(0.2788) \n",
      "Epoch: [8][0/19] Elapsed 0m 0s (remain 0m 2s) Loss: 0.2524(0.2524) Grad: 16.4420  LR: 0.000057  \n",
      "Epoch: [8][10/19] Elapsed 0m 1s (remain 0m 1s) Loss: 0.2037(0.2148) Grad: 4.2243  LR: 0.000057  \n",
      "Epoch: [8][18/19] Elapsed 0m 2s (remain 0m 0s) Loss: 0.1826(0.2149) Grad: 3.9666  LR: 0.000057  \n",
      "EVAL: [0/3] Elapsed 0m 0s (remain 0m 0s) Loss: 0.3396(0.3396) \n"
     ]
    },
    {
     "name": "stderr",
     "output_type": "stream",
     "text": [
      "Epoch 8 - avg_train_loss: 0.2149  avg_val_loss: 0.3369  time: 3s\n",
      "Epoch 8 - Score: 0.3370\n"
     ]
    },
    {
     "name": "stdout",
     "output_type": "stream",
     "text": [
      "EVAL: [2/3] Elapsed 0m 0s (remain 0m 0s) Loss: 0.3575(0.3369) \n",
      "Epoch: [9][0/19] Elapsed 0m 0s (remain 0m 2s) Loss: 0.3135(0.3135) Grad: 24.0073  LR: 0.000009  \n",
      "Epoch: [9][10/19] Elapsed 0m 1s (remain 0m 1s) Loss: 0.2022(0.1972) Grad: 18.4582  LR: 0.000009  \n",
      "Epoch: [9][18/19] Elapsed 0m 2s (remain 0m 0s) Loss: 0.1085(0.1866) Grad: 13.2033  LR: 0.000009  \n",
      "EVAL: [0/3] Elapsed 0m 0s (remain 0m 0s) Loss: 0.2108(0.2108) \n"
     ]
    },
    {
     "name": "stderr",
     "output_type": "stream",
     "text": [
      "Epoch 9 - avg_train_loss: 0.1866  avg_val_loss: 0.2319  time: 4s\n",
      "Epoch 9 - Score: 0.2331\n",
      "Epoch 9 - Save Best Score: 0.2331 Model\n"
     ]
    },
    {
     "name": "stdout",
     "output_type": "stream",
     "text": [
      "EVAL: [2/3] Elapsed 0m 0s (remain 0m 0s) Loss: 0.2169(0.2319) \n",
      "Epoch: [10][0/19] Elapsed 0m 0s (remain 0m 2s) Loss: 0.1734(0.1734) Grad: 15.9077  LR: 0.000001  \n",
      "Epoch: [10][10/19] Elapsed 0m 1s (remain 0m 1s) Loss: 0.1392(0.1391) Grad: 6.9492  LR: 0.000001  \n",
      "Epoch: [10][18/19] Elapsed 0m 2s (remain 0m 0s) Loss: 0.1480(0.1354) Grad: 9.3122  LR: 0.000001  \n",
      "EVAL: [0/3] Elapsed 0m 0s (remain 0m 0s) Loss: 0.2273(0.2273) \n"
     ]
    },
    {
     "name": "stderr",
     "output_type": "stream",
     "text": [
      "Epoch 10 - avg_train_loss: 0.1354  avg_val_loss: 0.2242  time: 4s\n",
      "Epoch 10 - Score: 0.2252\n",
      "Epoch 10 - Save Best Score: 0.2252 Model\n"
     ]
    },
    {
     "name": "stdout",
     "output_type": "stream",
     "text": [
      "EVAL: [2/3] Elapsed 0m 0s (remain 0m 0s) Loss: 0.1803(0.2242) \n",
      "Epoch: [11][0/19] Elapsed 0m 0s (remain 0m 2s) Loss: 0.0995(0.0995) Grad: 3.5954  LR: 0.000050  \n",
      "Epoch: [11][10/19] Elapsed 0m 1s (remain 0m 1s) Loss: 0.1223(0.1363) Grad: 4.8131  LR: 0.000050  \n",
      "Epoch: [11][18/19] Elapsed 0m 2s (remain 0m 0s) Loss: 0.1693(0.1414) Grad: 23.7753  LR: 0.000050  \n",
      "EVAL: [0/3] Elapsed 0m 0s (remain 0m 0s) Loss: 0.2173(0.2173) \n"
     ]
    },
    {
     "name": "stderr",
     "output_type": "stream",
     "text": [
      "Epoch 11 - avg_train_loss: 0.1414  avg_val_loss: 0.2364  time: 4s\n",
      "Epoch 11 - Score: 0.2380\n"
     ]
    },
    {
     "name": "stdout",
     "output_type": "stream",
     "text": [
      "EVAL: [2/3] Elapsed 0m 0s (remain 0m 0s) Loss: 0.2040(0.2364) \n",
      "Epoch: [12][0/19] Elapsed 0m 0s (remain 0m 2s) Loss: 0.1154(0.1154) Grad: 19.7897  LR: 0.000224  \n",
      "Epoch: [12][10/19] Elapsed 0m 1s (remain 0m 1s) Loss: 0.2325(0.2676) Grad: 22.1031  LR: 0.000224  \n",
      "Epoch: [12][18/19] Elapsed 0m 2s (remain 0m 0s) Loss: 0.1161(0.2562) Grad: 7.7921  LR: 0.000224  \n",
      "EVAL: [0/3] Elapsed 0m 0s (remain 0m 0s) Loss: 0.2705(0.2705) \n"
     ]
    },
    {
     "name": "stderr",
     "output_type": "stream",
     "text": [
      "Epoch 12 - avg_train_loss: 0.2562  avg_val_loss: 0.2652  time: 4s\n",
      "Epoch 12 - Score: 0.2654\n"
     ]
    },
    {
     "name": "stdout",
     "output_type": "stream",
     "text": [
      "EVAL: [2/3] Elapsed 0m 0s (remain 0m 0s) Loss: 0.2409(0.2652) \n",
      "Epoch: [13][0/19] Elapsed 0m 0s (remain 0m 2s) Loss: 0.1820(0.1820) Grad: 18.5935  LR: 0.000133  \n",
      "Epoch: [13][10/19] Elapsed 0m 1s (remain 0m 1s) Loss: 0.2039(0.2056) Grad: 18.8781  LR: 0.000133  \n",
      "Epoch: [13][18/19] Elapsed 0m 2s (remain 0m 0s) Loss: 0.1768(0.1985) Grad: 5.8039  LR: 0.000133  \n",
      "EVAL: [0/3] Elapsed 0m 0s (remain 0m 0s) Loss: 0.2261(0.2261) \n"
     ]
    },
    {
     "name": "stderr",
     "output_type": "stream",
     "text": [
      "Epoch 13 - avg_train_loss: 0.1985  avg_val_loss: 0.2172  time: 4s\n",
      "Epoch 13 - Score: 0.2173\n",
      "Epoch 13 - Save Best Score: 0.2173 Model\n"
     ]
    },
    {
     "name": "stdout",
     "output_type": "stream",
     "text": [
      "EVAL: [2/3] Elapsed 0m 0s (remain 0m 0s) Loss: 0.2178(0.2172) \n",
      "Epoch: [14][0/19] Elapsed 0m 0s (remain 0m 2s) Loss: 0.1900(0.1900) Grad: 7.0981  LR: 0.000057  \n",
      "Epoch: [14][10/19] Elapsed 0m 1s (remain 0m 1s) Loss: 0.1279(0.1790) Grad: 5.3789  LR: 0.000057  \n",
      "Epoch: [14][18/19] Elapsed 0m 2s (remain 0m 0s) Loss: 0.1546(0.1818) Grad: 11.1042  LR: 0.000057  \n",
      "EVAL: [0/3] Elapsed 0m 0s (remain 0m 0s) Loss: 0.2667(0.2667) \n"
     ]
    },
    {
     "name": "stderr",
     "output_type": "stream",
     "text": [
      "Epoch 14 - avg_train_loss: 0.1818  avg_val_loss: 0.2580  time: 4s\n",
      "Epoch 14 - Score: 0.2623\n"
     ]
    },
    {
     "name": "stdout",
     "output_type": "stream",
     "text": [
      "EVAL: [2/3] Elapsed 0m 0s (remain 0m 0s) Loss: 0.1556(0.2580) \n",
      "Epoch: [15][0/19] Elapsed 0m 0s (remain 0m 2s) Loss: 0.1587(0.1587) Grad: 13.0632  LR: 0.000009  \n",
      "Epoch: [15][10/19] Elapsed 0m 1s (remain 0m 1s) Loss: 0.0978(0.1524) Grad: 3.6498  LR: 0.000009  \n",
      "Epoch: [15][18/19] Elapsed 0m 2s (remain 0m 0s) Loss: 0.1121(0.1432) Grad: 11.7067  LR: 0.000009  \n",
      "EVAL: [0/3] Elapsed 0m 0s (remain 0m 0s) Loss: 0.2125(0.2125) \n"
     ]
    },
    {
     "name": "stderr",
     "output_type": "stream",
     "text": [
      "Epoch 15 - avg_train_loss: 0.1432  avg_val_loss: 0.2168  time: 4s\n",
      "Epoch 15 - Score: 0.2185\n"
     ]
    },
    {
     "name": "stdout",
     "output_type": "stream",
     "text": [
      "EVAL: [2/3] Elapsed 0m 0s (remain 0m 0s) Loss: 0.1634(0.2168) \n",
      "Epoch: [16][0/19] Elapsed 0m 0s (remain 0m 2s) Loss: 0.1227(0.1227) Grad: 4.1985  LR: 0.000001  \n",
      "Epoch: [16][10/19] Elapsed 0m 1s (remain 0m 1s) Loss: 0.1285(0.1099) Grad: 3.4027  LR: 0.000001  \n",
      "Epoch: [16][18/19] Elapsed 0m 2s (remain 0m 0s) Loss: 0.1328(0.1110) Grad: 12.3517  LR: 0.000001  \n",
      "EVAL: [0/3] Elapsed 0m 0s (remain 0m 0s) Loss: 0.2057(0.2057) \n"
     ]
    },
    {
     "name": "stderr",
     "output_type": "stream",
     "text": [
      "Epoch 16 - avg_train_loss: 0.1110  avg_val_loss: 0.2224  time: 4s\n",
      "Epoch 16 - Score: 0.2230\n"
     ]
    },
    {
     "name": "stdout",
     "output_type": "stream",
     "text": [
      "EVAL: [2/3] Elapsed 0m 0s (remain 0m 0s) Loss: 0.2193(0.2224) \n",
      "Epoch: [17][0/19] Elapsed 0m 0s (remain 0m 2s) Loss: 0.1061(0.1061) Grad: 3.5327  LR: 0.000050  \n",
      "Epoch: [17][10/19] Elapsed 0m 1s (remain 0m 1s) Loss: 0.0996(0.1226) Grad: 10.5295  LR: 0.000050  \n",
      "Epoch: [17][18/19] Elapsed 0m 2s (remain 0m 0s) Loss: 0.1274(0.1251) Grad: 14.3887  LR: 0.000050  \n",
      "EVAL: [0/3] Elapsed 0m 0s (remain 0m 0s) Loss: 0.2150(0.2150) \n"
     ]
    },
    {
     "name": "stderr",
     "output_type": "stream",
     "text": [
      "Epoch 17 - avg_train_loss: 0.1251  avg_val_loss: 0.2198  time: 3s\n",
      "Epoch 17 - Score: 0.2215\n"
     ]
    },
    {
     "name": "stdout",
     "output_type": "stream",
     "text": [
      "EVAL: [2/3] Elapsed 0m 0s (remain 0m 0s) Loss: 0.1667(0.2198) \n",
      "Epoch: [18][0/19] Elapsed 0m 0s (remain 0m 2s) Loss: 0.0925(0.0925) Grad: 3.1732  LR: 0.000224  \n",
      "Epoch: [18][10/19] Elapsed 0m 1s (remain 0m 1s) Loss: 0.0901(0.1254) Grad: 6.4605  LR: 0.000224  \n",
      "Epoch: [18][18/19] Elapsed 0m 2s (remain 0m 0s) Loss: 0.1009(0.1253) Grad: 7.9012  LR: 0.000224  \n",
      "EVAL: [0/3] Elapsed 0m 0s (remain 0m 0s) Loss: 0.2276(0.2276) \n"
     ]
    },
    {
     "name": "stderr",
     "output_type": "stream",
     "text": [
      "Epoch 18 - avg_train_loss: 0.1253  avg_val_loss: 0.2169  time: 4s\n",
      "Epoch 18 - Score: 0.2174\n"
     ]
    },
    {
     "name": "stdout",
     "output_type": "stream",
     "text": [
      "EVAL: [2/3] Elapsed 0m 0s (remain 0m 0s) Loss: 0.1842(0.2169) \n",
      "Epoch: [19][0/19] Elapsed 0m 0s (remain 0m 2s) Loss: 0.1544(0.1544) Grad: 17.8736  LR: 0.000133  \n",
      "Epoch: [19][10/19] Elapsed 0m 1s (remain 0m 1s) Loss: 0.1475(0.1832) Grad: 15.0525  LR: 0.000133  \n",
      "Epoch: [19][18/19] Elapsed 0m 2s (remain 0m 0s) Loss: 0.1378(0.1699) Grad: 3.9066  LR: 0.000133  \n",
      "EVAL: [0/3] Elapsed 0m 0s (remain 0m 0s) Loss: 0.2836(0.2836) \n"
     ]
    },
    {
     "name": "stderr",
     "output_type": "stream",
     "text": [
      "Epoch 19 - avg_train_loss: 0.1699  avg_val_loss: 0.2548  time: 4s\n",
      "Epoch 19 - Score: 0.2567\n"
     ]
    },
    {
     "name": "stdout",
     "output_type": "stream",
     "text": [
      "EVAL: [2/3] Elapsed 0m 0s (remain 0m 0s) Loss: 0.1922(0.2548) \n",
      "Epoch: [20][0/19] Elapsed 0m 0s (remain 0m 2s) Loss: 0.2215(0.2215) Grad: 18.2070  LR: 0.000057  \n",
      "Epoch: [20][10/19] Elapsed 0m 1s (remain 0m 1s) Loss: 0.1296(0.1669) Grad: 9.7455  LR: 0.000057  \n",
      "Epoch: [20][18/19] Elapsed 0m 2s (remain 0m 0s) Loss: 0.1023(0.1553) Grad: 6.2620  LR: 0.000057  \n",
      "EVAL: [0/3] Elapsed 0m 0s (remain 0m 0s) Loss: 0.2515(0.2515) \n"
     ]
    },
    {
     "name": "stderr",
     "output_type": "stream",
     "text": [
      "Epoch 20 - avg_train_loss: 0.1553  avg_val_loss: 0.2482  time: 4s\n",
      "Epoch 20 - Score: 0.2511\n"
     ]
    },
    {
     "name": "stdout",
     "output_type": "stream",
     "text": [
      "EVAL: [2/3] Elapsed 0m 0s (remain 0m 0s) Loss: 0.1688(0.2482) \n",
      "Epoch: [21][0/19] Elapsed 0m 0s (remain 0m 2s) Loss: 0.1525(0.1525) Grad: 15.5312  LR: 0.000009  \n",
      "Epoch: [21][10/19] Elapsed 0m 1s (remain 0m 1s) Loss: 0.1377(0.1438) Grad: 7.0083  LR: 0.000009  \n",
      "Epoch: [21][18/19] Elapsed 0m 2s (remain 0m 0s) Loss: 0.1325(0.1357) Grad: 6.9902  LR: 0.000009  \n",
      "EVAL: [0/3] Elapsed 0m 0s (remain 0m 0s) Loss: 0.2491(0.2491) \n"
     ]
    },
    {
     "name": "stderr",
     "output_type": "stream",
     "text": [
      "Epoch 21 - avg_train_loss: 0.1357  avg_val_loss: 0.2322  time: 4s\n",
      "Epoch 21 - Score: 0.2330\n"
     ]
    },
    {
     "name": "stdout",
     "output_type": "stream",
     "text": [
      "EVAL: [2/3] Elapsed 0m 0s (remain 0m 0s) Loss: 0.1927(0.2322) \n",
      "Epoch: [22][0/19] Elapsed 0m 0s (remain 0m 2s) Loss: 0.1014(0.1014) Grad: 13.8126  LR: 0.000001  \n",
      "Epoch: [22][10/19] Elapsed 0m 1s (remain 0m 1s) Loss: 0.1158(0.1038) Grad: 4.8434  LR: 0.000001  \n",
      "Epoch: [22][18/19] Elapsed 0m 2s (remain 0m 0s) Loss: 0.1113(0.1103) Grad: 5.3114  LR: 0.000001  \n",
      "EVAL: [0/3] Elapsed 0m 0s (remain 0m 0s) Loss: 0.2245(0.2245) \n"
     ]
    },
    {
     "name": "stderr",
     "output_type": "stream",
     "text": [
      "Epoch 22 - avg_train_loss: 0.1103  avg_val_loss: 0.2262  time: 4s\n",
      "Epoch 22 - Score: 0.2264\n"
     ]
    },
    {
     "name": "stdout",
     "output_type": "stream",
     "text": [
      "EVAL: [2/3] Elapsed 0m 0s (remain 0m 0s) Loss: 0.2105(0.2262) \n",
      "Epoch: [23][0/19] Elapsed 0m 0s (remain 0m 2s) Loss: 0.0987(0.0987) Grad: 5.3413  LR: 0.000050  \n",
      "Epoch: [23][10/19] Elapsed 0m 1s (remain 0m 1s) Loss: 0.0843(0.1047) Grad: 3.0825  LR: 0.000050  \n",
      "Epoch: [23][18/19] Elapsed 0m 2s (remain 0m 0s) Loss: 0.0856(0.0989) Grad: 5.7653  LR: 0.000050  \n",
      "EVAL: [0/3] Elapsed 0m 0s (remain 0m 0s) Loss: 0.2131(0.2131) \n"
     ]
    },
    {
     "name": "stderr",
     "output_type": "stream",
     "text": [
      "Epoch 23 - avg_train_loss: 0.0989  avg_val_loss: 0.2156  time: 4s\n",
      "Epoch 23 - Score: 0.2171\n",
      "Epoch 23 - Save Best Score: 0.2171 Model\n"
     ]
    },
    {
     "name": "stdout",
     "output_type": "stream",
     "text": [
      "EVAL: [2/3] Elapsed 0m 0s (remain 0m 0s) Loss: 0.1655(0.2156) \n",
      "Epoch: [24][0/19] Elapsed 0m 0s (remain 0m 2s) Loss: 0.0730(0.0730) Grad: 3.8690  LR: 0.000224  \n",
      "Epoch: [24][10/19] Elapsed 0m 1s (remain 0m 1s) Loss: 0.1690(0.1194) Grad: 20.4304  LR: 0.000224  \n",
      "Epoch: [24][18/19] Elapsed 0m 2s (remain 0m 0s) Loss: 0.0933(0.1304) Grad: 5.2170  LR: 0.000224  \n",
      "EVAL: [0/3] Elapsed 0m 0s (remain 0m 0s) Loss: 0.2260(0.2260) \n"
     ]
    },
    {
     "name": "stderr",
     "output_type": "stream",
     "text": [
      "Epoch 24 - avg_train_loss: 0.1304  avg_val_loss: 0.2235  time: 4s\n",
      "Epoch 24 - Score: 0.2244\n"
     ]
    },
    {
     "name": "stdout",
     "output_type": "stream",
     "text": [
      "EVAL: [2/3] Elapsed 0m 0s (remain 0m 0s) Loss: 0.1811(0.2235) \n",
      "Epoch: [25][0/19] Elapsed 0m 0s (remain 0m 2s) Loss: 0.1468(0.1468) Grad: 19.7248  LR: 0.000133  \n",
      "Epoch: [25][10/19] Elapsed 0m 1s (remain 0m 1s) Loss: 0.1802(0.1724) Grad: 17.9806  LR: 0.000133  \n",
      "Epoch: [25][18/19] Elapsed 0m 2s (remain 0m 0s) Loss: 0.1570(0.1859) Grad: 17.6665  LR: 0.000133  \n",
      "EVAL: [0/3] Elapsed 0m 0s (remain 0m 0s) Loss: 0.2265(0.2265) \n"
     ]
    },
    {
     "name": "stderr",
     "output_type": "stream",
     "text": [
      "Epoch 25 - avg_train_loss: 0.1859  avg_val_loss: 0.2249  time: 4s\n",
      "Epoch 25 - Score: 0.2272\n"
     ]
    },
    {
     "name": "stdout",
     "output_type": "stream",
     "text": [
      "EVAL: [2/3] Elapsed 0m 0s (remain 0m 0s) Loss: 0.1570(0.2249) \n",
      "Epoch: [26][0/19] Elapsed 0m 0s (remain 0m 2s) Loss: 0.1332(0.1332) Grad: 13.8667  LR: 0.000057  \n",
      "Epoch: [26][10/19] Elapsed 0m 1s (remain 0m 1s) Loss: 0.1979(0.1850) Grad: 20.5903  LR: 0.000057  \n",
      "Epoch: [26][18/19] Elapsed 0m 2s (remain 0m 0s) Loss: 0.1710(0.1768) Grad: 20.9876  LR: 0.000057  \n",
      "EVAL: [0/3] Elapsed 0m 0s (remain 0m 0s) Loss: 0.2540(0.2540) \n"
     ]
    },
    {
     "name": "stderr",
     "output_type": "stream",
     "text": [
      "Epoch 26 - avg_train_loss: 0.1768  avg_val_loss: 0.2630  time: 4s\n",
      "Epoch 26 - Score: 0.2653\n"
     ]
    },
    {
     "name": "stdout",
     "output_type": "stream",
     "text": [
      "EVAL: [2/3] Elapsed 0m 0s (remain 0m 0s) Loss: 0.1987(0.2630) \n",
      "Epoch: [27][0/19] Elapsed 0m 0s (remain 0m 2s) Loss: 0.2255(0.2255) Grad: 22.4163  LR: 0.000009  \n",
      "Epoch: [27][10/19] Elapsed 0m 1s (remain 0m 1s) Loss: 0.1681(0.1603) Grad: 19.1948  LR: 0.000009  \n",
      "Epoch: [27][18/19] Elapsed 0m 2s (remain 0m 0s) Loss: 0.1584(0.1488) Grad: 20.0724  LR: 0.000009  \n",
      "EVAL: [0/3] Elapsed 0m 0s (remain 0m 0s) Loss: 0.2350(0.2350) \n"
     ]
    },
    {
     "name": "stderr",
     "output_type": "stream",
     "text": [
      "Epoch 27 - avg_train_loss: 0.1488  avg_val_loss: 0.2462  time: 4s\n",
      "Epoch 27 - Score: 0.2478\n"
     ]
    },
    {
     "name": "stdout",
     "output_type": "stream",
     "text": [
      "EVAL: [2/3] Elapsed 0m 0s (remain 0m 0s) Loss: 0.2004(0.2462) \n",
      "Epoch: [28][0/19] Elapsed 0m 0s (remain 0m 2s) Loss: 0.1324(0.1324) Grad: 15.9091  LR: 0.000001  \n",
      "Epoch: [28][10/19] Elapsed 0m 1s (remain 0m 1s) Loss: 0.0875(0.1159) Grad: 4.2682  LR: 0.000001  \n",
      "Epoch: [28][18/19] Elapsed 0m 2s (remain 0m 0s) Loss: 0.0875(0.1078) Grad: 4.1484  LR: 0.000001  \n",
      "EVAL: [0/3] Elapsed 0m 0s (remain 0m 0s) Loss: 0.2001(0.2001) \n"
     ]
    },
    {
     "name": "stderr",
     "output_type": "stream",
     "text": [
      "Epoch 28 - avg_train_loss: 0.1078  avg_val_loss: 0.2072  time: 4s\n",
      "Epoch 28 - Score: 0.2107\n",
      "Epoch 28 - Save Best Score: 0.2107 Model\n"
     ]
    },
    {
     "name": "stdout",
     "output_type": "stream",
     "text": [
      "EVAL: [2/3] Elapsed 0m 0s (remain 0m 0s) Loss: 0.1353(0.2072) \n",
      "Epoch: [29][0/19] Elapsed 0m 0s (remain 0m 2s) Loss: 0.1002(0.1002) Grad: 5.8109  LR: 0.000050  \n",
      "Epoch: [29][10/19] Elapsed 0m 1s (remain 0m 1s) Loss: 0.0866(0.0960) Grad: 5.1360  LR: 0.000050  \n",
      "Epoch: [29][18/19] Elapsed 0m 2s (remain 0m 0s) Loss: 0.0942(0.0891) Grad: 16.9760  LR: 0.000050  \n",
      "EVAL: [0/3] Elapsed 0m 0s (remain 0m 0s) Loss: 0.2124(0.2124) \n"
     ]
    },
    {
     "name": "stderr",
     "output_type": "stream",
     "text": [
      "Epoch 29 - avg_train_loss: 0.0891  avg_val_loss: 0.2098  time: 4s\n",
      "Epoch 29 - Score: 0.2132\n"
     ]
    },
    {
     "name": "stdout",
     "output_type": "stream",
     "text": [
      "EVAL: [2/3] Elapsed 0m 0s (remain 0m 0s) Loss: 0.1310(0.2098) \n",
      "Epoch: [30][0/19] Elapsed 0m 0s (remain 0m 2s) Loss: 0.0768(0.0768) Grad: 5.7862  LR: 0.000224  \n",
      "Epoch: [30][10/19] Elapsed 0m 1s (remain 0m 1s) Loss: 0.0879(0.0816) Grad: 3.5735  LR: 0.000224  \n",
      "Epoch: [30][18/19] Elapsed 0m 2s (remain 0m 0s) Loss: 0.1453(0.0883) Grad: 13.3834  LR: 0.000224  \n",
      "EVAL: [0/3] Elapsed 0m 0s (remain 0m 0s) Loss: 0.2376(0.2376) \n"
     ]
    },
    {
     "name": "stderr",
     "output_type": "stream",
     "text": [
      "Epoch 30 - avg_train_loss: 0.0883  avg_val_loss: 0.2241  time: 3s\n",
      "Epoch 30 - Score: 0.2253\n"
     ]
    },
    {
     "name": "stdout",
     "output_type": "stream",
     "text": [
      "EVAL: [2/3] Elapsed 0m 0s (remain 0m 0s) Loss: 0.1736(0.2241) \n",
      "Epoch: [31][0/19] Elapsed 0m 0s (remain 0m 2s) Loss: 0.0829(0.0829) Grad: 5.4739  LR: 0.000133  \n",
      "Epoch: [31][10/19] Elapsed 0m 1s (remain 0m 1s) Loss: 0.1100(0.1342) Grad: 7.1059  LR: 0.000133  \n",
      "Epoch: [31][18/19] Elapsed 0m 2s (remain 0m 0s) Loss: 0.1636(0.1278) Grad: 6.6422  LR: 0.000133  \n",
      "EVAL: [0/3] Elapsed 0m 0s (remain 0m 0s) Loss: 0.2383(0.2383) \n"
     ]
    },
    {
     "name": "stderr",
     "output_type": "stream",
     "text": [
      "Epoch 31 - avg_train_loss: 0.1278  avg_val_loss: 0.2337  time: 4s\n",
      "Epoch 31 - Score: 0.2347\n"
     ]
    },
    {
     "name": "stdout",
     "output_type": "stream",
     "text": [
      "EVAL: [2/3] Elapsed 0m 0s (remain 0m 0s) Loss: 0.1861(0.2337) \n",
      "Epoch: [32][0/19] Elapsed 0m 0s (remain 0m 2s) Loss: 0.1226(0.1226) Grad: 16.4585  LR: 0.000057  \n",
      "Epoch: [32][10/19] Elapsed 0m 1s (remain 0m 1s) Loss: 0.1014(0.1313) Grad: 10.2850  LR: 0.000057  \n",
      "Epoch: [32][18/19] Elapsed 0m 2s (remain 0m 0s) Loss: 0.1149(0.1269) Grad: 3.9498  LR: 0.000057  \n",
      "EVAL: [0/3] Elapsed 0m 0s (remain 0m 0s) Loss: 0.2286(0.2286) \n"
     ]
    },
    {
     "name": "stderr",
     "output_type": "stream",
     "text": [
      "Epoch 32 - avg_train_loss: 0.1269  avg_val_loss: 0.2120  time: 4s\n",
      "Epoch 32 - Score: 0.2135\n"
     ]
    },
    {
     "name": "stdout",
     "output_type": "stream",
     "text": [
      "EVAL: [2/3] Elapsed 0m 0s (remain 0m 0s) Loss: 0.1569(0.2120) \n",
      "Epoch: [33][0/19] Elapsed 0m 0s (remain 0m 2s) Loss: 0.0996(0.0996) Grad: 11.8520  LR: 0.000009  \n",
      "Epoch: [33][10/19] Elapsed 0m 1s (remain 0m 1s) Loss: 0.0856(0.1001) Grad: 10.0686  LR: 0.000009  \n",
      "Epoch: [33][18/19] Elapsed 0m 2s (remain 0m 0s) Loss: 0.0805(0.0967) Grad: 11.1207  LR: 0.000009  \n",
      "EVAL: [0/3] Elapsed 0m 0s (remain 0m 0s) Loss: 0.2142(0.2142) \n"
     ]
    },
    {
     "name": "stderr",
     "output_type": "stream",
     "text": [
      "Epoch 33 - avg_train_loss: 0.0967  avg_val_loss: 0.2037  time: 4s\n",
      "Epoch 33 - Score: 0.2078\n",
      "Epoch 33 - Save Best Score: 0.2078 Model\n"
     ]
    },
    {
     "name": "stdout",
     "output_type": "stream",
     "text": [
      "EVAL: [2/3] Elapsed 0m 0s (remain 0m 0s) Loss: 0.1143(0.2037) \n",
      "Epoch: [34][0/19] Elapsed 0m 0s (remain 0m 2s) Loss: 0.0999(0.0999) Grad: 7.0876  LR: 0.000001  \n",
      "Epoch: [34][10/19] Elapsed 0m 1s (remain 0m 1s) Loss: 0.0940(0.0796) Grad: 3.2037  LR: 0.000001  \n",
      "Epoch: [34][18/19] Elapsed 0m 2s (remain 0m 0s) Loss: 0.0708(0.0818) Grad: 3.2937  LR: 0.000001  \n",
      "EVAL: [0/3] Elapsed 0m 0s (remain 0m 0s) Loss: 0.2032(0.2032) \n"
     ]
    },
    {
     "name": "stderr",
     "output_type": "stream",
     "text": [
      "Epoch 34 - avg_train_loss: 0.0818  avg_val_loss: 0.2036  time: 4s\n",
      "Epoch 34 - Score: 0.2059\n",
      "Epoch 34 - Save Best Score: 0.2059 Model\n"
     ]
    },
    {
     "name": "stdout",
     "output_type": "stream",
     "text": [
      "EVAL: [2/3] Elapsed 0m 0s (remain 0m 0s) Loss: 0.1417(0.2036) \n",
      "Epoch: [35][0/19] Elapsed 0m 0s (remain 0m 2s) Loss: 0.0791(0.0791) Grad: 4.4401  LR: 0.000050  \n",
      "Epoch: [35][10/19] Elapsed 0m 1s (remain 0m 1s) Loss: 0.0847(0.0818) Grad: 8.9060  LR: 0.000050  \n",
      "Epoch: [35][18/19] Elapsed 0m 2s (remain 0m 0s) Loss: 0.0743(0.0828) Grad: 9.3612  LR: 0.000050  \n",
      "EVAL: [0/3] Elapsed 0m 0s (remain 0m 0s) Loss: 0.1866(0.1866) \n"
     ]
    },
    {
     "name": "stderr",
     "output_type": "stream",
     "text": [
      "Epoch 35 - avg_train_loss: 0.0828  avg_val_loss: 0.2009  time: 4s\n",
      "Epoch 35 - Score: 0.2027\n",
      "Epoch 35 - Save Best Score: 0.2027 Model\n"
     ]
    },
    {
     "name": "stdout",
     "output_type": "stream",
     "text": [
      "EVAL: [2/3] Elapsed 0m 0s (remain 0m 0s) Loss: 0.1613(0.2009) \n",
      "Epoch: [36][0/19] Elapsed 0m 0s (remain 0m 2s) Loss: 0.1175(0.1175) Grad: 10.3461  LR: 0.000224  \n",
      "Epoch: [36][10/19] Elapsed 0m 1s (remain 0m 1s) Loss: 0.1128(0.1070) Grad: 9.9337  LR: 0.000224  \n",
      "Epoch: [36][18/19] Elapsed 0m 2s (remain 0m 0s) Loss: 0.1273(0.1099) Grad: 14.7288  LR: 0.000224  \n",
      "EVAL: [0/3] Elapsed 0m 0s (remain 0m 0s) Loss: 0.2362(0.2362) \n"
     ]
    },
    {
     "name": "stderr",
     "output_type": "stream",
     "text": [
      "Epoch 36 - avg_train_loss: 0.1099  avg_val_loss: 0.2377  time: 4s\n",
      "Epoch 36 - Score: 0.2390\n"
     ]
    },
    {
     "name": "stdout",
     "output_type": "stream",
     "text": [
      "EVAL: [2/3] Elapsed 0m 0s (remain 0m 0s) Loss: 0.1878(0.2377) \n",
      "Epoch: [37][0/19] Elapsed 0m 0s (remain 0m 2s) Loss: 0.1338(0.1338) Grad: 3.4621  LR: 0.000133  \n",
      "Epoch: [37][10/19] Elapsed 0m 1s (remain 0m 1s) Loss: 0.1056(0.1274) Grad: 16.8735  LR: 0.000133  \n",
      "Epoch: [37][18/19] Elapsed 0m 2s (remain 0m 0s) Loss: 0.1122(0.1249) Grad: 6.5433  LR: 0.000133  \n",
      "EVAL: [0/3] Elapsed 0m 0s (remain 0m 0s) Loss: 0.2309(0.2309) \n"
     ]
    },
    {
     "name": "stderr",
     "output_type": "stream",
     "text": [
      "Epoch 37 - avg_train_loss: 0.1249  avg_val_loss: 0.2233  time: 4s\n",
      "Epoch 37 - Score: 0.2264\n"
     ]
    },
    {
     "name": "stdout",
     "output_type": "stream",
     "text": [
      "EVAL: [2/3] Elapsed 0m 0s (remain 0m 0s) Loss: 0.1418(0.2233) \n",
      "Epoch: [38][0/19] Elapsed 0m 0s (remain 0m 2s) Loss: 0.1377(0.1377) Grad: 10.3819  LR: 0.000057  \n",
      "Epoch: [38][10/19] Elapsed 0m 1s (remain 0m 1s) Loss: 0.1761(0.1356) Grad: 2.6184  LR: 0.000057  \n",
      "Epoch: [38][18/19] Elapsed 0m 2s (remain 0m 0s) Loss: 0.1142(0.1269) Grad: 3.2396  LR: 0.000057  \n",
      "EVAL: [0/3] Elapsed 0m 0s (remain 0m 0s) Loss: 0.2532(0.2532) \n"
     ]
    },
    {
     "name": "stderr",
     "output_type": "stream",
     "text": [
      "Epoch 38 - avg_train_loss: 0.1269  avg_val_loss: 0.2491  time: 4s\n",
      "Epoch 38 - Score: 0.2493\n"
     ]
    },
    {
     "name": "stdout",
     "output_type": "stream",
     "text": [
      "EVAL: [2/3] Elapsed 0m 0s (remain 0m 0s) Loss: 0.2269(0.2491) \n",
      "Epoch: [39][0/19] Elapsed 0m 0s (remain 0m 2s) Loss: 0.1120(0.1120) Grad: 13.6299  LR: 0.000009  \n",
      "Epoch: [39][10/19] Elapsed 0m 1s (remain 0m 1s) Loss: 0.0704(0.1049) Grad: 6.4782  LR: 0.000009  \n",
      "Epoch: [39][18/19] Elapsed 0m 2s (remain 0m 0s) Loss: 0.0717(0.1011) Grad: 3.0010  LR: 0.000009  \n",
      "EVAL: [0/3] Elapsed 0m 0s (remain 0m 0s) Loss: 0.2162(0.2162) \n"
     ]
    },
    {
     "name": "stderr",
     "output_type": "stream",
     "text": [
      "Epoch 39 - avg_train_loss: 0.1011  avg_val_loss: 0.2176  time: 4s\n",
      "Epoch 39 - Score: 0.2186\n"
     ]
    },
    {
     "name": "stdout",
     "output_type": "stream",
     "text": [
      "EVAL: [2/3] Elapsed 0m 0s (remain 0m 0s) Loss: 0.1763(0.2176) \n",
      "Epoch: [40][0/19] Elapsed 0m 0s (remain 0m 2s) Loss: 0.0953(0.0953) Grad: 2.8914  LR: 0.000001  \n",
      "Epoch: [40][10/19] Elapsed 0m 1s (remain 0m 1s) Loss: 0.0782(0.0722) Grad: 11.2732  LR: 0.000001  \n",
      "Epoch: [40][18/19] Elapsed 0m 2s (remain 0m 0s) Loss: 0.0936(0.0730) Grad: 3.4475  LR: 0.000001  \n",
      "EVAL: [0/3] Elapsed 0m 0s (remain 0m 0s) Loss: 0.2235(0.2235) \n"
     ]
    },
    {
     "name": "stderr",
     "output_type": "stream",
     "text": [
      "Epoch 40 - avg_train_loss: 0.0730  avg_val_loss: 0.2175  time: 4s\n",
      "Epoch 40 - Score: 0.2189\n",
      "========== fold: 4 result ==========\n",
      "Score: 0.2027\n",
      "========== CV ==========\n",
      "Score: 0.2145\n",
      "========== seed10 ==========\n"
     ]
    },
    {
     "name": "stdout",
     "output_type": "stream",
     "text": [
      "EVAL: [2/3] Elapsed 0m 0s (remain 0m 0s) Loss: 0.1652(0.2175) \n"
     ]
    },
    {
     "name": "stderr",
     "output_type": "stream",
     "text": [
      "========== fold: 0 training ==========\n"
     ]
    },
    {
     "name": "stdout",
     "output_type": "stream",
     "text": [
      "Epoch: [1][0/19] Elapsed 0m 0s (remain 0m 2s) Loss: 2.9090(2.9090) Grad: 24.6974  LR: 0.000100  \n",
      "Epoch: [1][10/19] Elapsed 0m 1s (remain 0m 1s) Loss: 0.4550(1.2046) Grad: 5.6709  LR: 0.000100  \n",
      "Epoch: [1][18/19] Elapsed 0m 2s (remain 0m 0s) Loss: 0.5195(0.9100) Grad: 5.0135  LR: 0.000100  \n",
      "EVAL: [0/3] Elapsed 0m 0s (remain 0m 0s) Loss: 0.4593(0.4593) \n"
     ]
    },
    {
     "name": "stderr",
     "output_type": "stream",
     "text": [
      "Epoch 1 - avg_train_loss: 0.9100  avg_val_loss: 0.4416  time: 4s\n",
      "Epoch 1 - Score: 0.4430\n",
      "Epoch 1 - Save Best Score: 0.4430 Model\n"
     ]
    },
    {
     "name": "stdout",
     "output_type": "stream",
     "text": [
      "EVAL: [2/3] Elapsed 0m 0s (remain 0m 0s) Loss: 0.4951(0.4416) \n",
      "Epoch: [2][0/19] Elapsed 0m 0s (remain 0m 2s) Loss: 0.4475(0.4475) Grad: 10.6524  LR: 0.000057  \n",
      "Epoch: [2][10/19] Elapsed 0m 1s (remain 0m 1s) Loss: 0.3693(0.3481) Grad: 20.8031  LR: 0.000057  \n",
      "Epoch: [2][18/19] Elapsed 0m 2s (remain 0m 0s) Loss: 0.2340(0.3370) Grad: 14.4524  LR: 0.000057  \n",
      "EVAL: [0/3] Elapsed 0m 0s (remain 0m 0s) Loss: 0.3220(0.3220) \n"
     ]
    },
    {
     "name": "stderr",
     "output_type": "stream",
     "text": [
      "Epoch 2 - avg_train_loss: 0.3370  avg_val_loss: 0.3266  time: 3s\n",
      "Epoch 2 - Score: 0.3268\n",
      "Epoch 2 - Save Best Score: 0.3268 Model\n"
     ]
    },
    {
     "name": "stdout",
     "output_type": "stream",
     "text": [
      "EVAL: [2/3] Elapsed 0m 0s (remain 0m 0s) Loss: 0.3537(0.3266) \n",
      "Epoch: [3][0/19] Elapsed 0m 0s (remain 0m 2s) Loss: 0.2460(0.2460) Grad: 10.5960  LR: 0.000009  \n",
      "Epoch: [3][10/19] Elapsed 0m 1s (remain 0m 1s) Loss: 0.2716(0.2549) Grad: 11.9985  LR: 0.000009  \n",
      "Epoch: [3][18/19] Elapsed 0m 2s (remain 0m 0s) Loss: 0.2765(0.2564) Grad: 20.9656  LR: 0.000009  \n",
      "EVAL: [0/3] Elapsed 0m 0s (remain 0m 0s) Loss: 0.2349(0.2349) \n"
     ]
    },
    {
     "name": "stderr",
     "output_type": "stream",
     "text": [
      "Epoch 3 - avg_train_loss: 0.2564  avg_val_loss: 0.2447  time: 3s\n",
      "Epoch 3 - Score: 0.2457\n",
      "Epoch 3 - Save Best Score: 0.2457 Model\n"
     ]
    },
    {
     "name": "stdout",
     "output_type": "stream",
     "text": [
      "EVAL: [2/3] Elapsed 0m 0s (remain 0m 0s) Loss: 0.2105(0.2447) \n",
      "Epoch: [4][0/19] Elapsed 0m 0s (remain 0m 3s) Loss: 0.2442(0.2442) Grad: 5.1627  LR: 0.000001  \n",
      "Epoch: [4][10/19] Elapsed 0m 1s (remain 0m 1s) Loss: 0.1368(0.2034) Grad: 5.1354  LR: 0.000001  \n",
      "Epoch: [4][18/19] Elapsed 0m 2s (remain 0m 0s) Loss: 0.1617(0.1888) Grad: 8.7161  LR: 0.000001  \n",
      "EVAL: [0/3] Elapsed 0m 0s (remain 0m 0s) Loss: 0.2399(0.2399) \n"
     ]
    },
    {
     "name": "stderr",
     "output_type": "stream",
     "text": [
      "Epoch 4 - avg_train_loss: 0.1888  avg_val_loss: 0.2570  time: 4s\n",
      "Epoch 4 - Score: 0.2574\n"
     ]
    },
    {
     "name": "stdout",
     "output_type": "stream",
     "text": [
      "EVAL: [2/3] Elapsed 0m 0s (remain 0m 0s) Loss: 0.2601(0.2570) \n",
      "Epoch: [5][0/19] Elapsed 0m 0s (remain 0m 2s) Loss: 0.1633(0.1633) Grad: 4.1324  LR: 0.000050  \n",
      "Epoch: [5][10/19] Elapsed 0m 1s (remain 0m 1s) Loss: 0.2315(0.1876) Grad: 5.1325  LR: 0.000050  \n",
      "Epoch: [5][18/19] Elapsed 0m 2s (remain 0m 0s) Loss: 0.1900(0.1927) Grad: 4.0064  LR: 0.000050  \n",
      "EVAL: [0/3] Elapsed 0m 0s (remain 0m 0s) Loss: 0.3012(0.3012) \n"
     ]
    },
    {
     "name": "stderr",
     "output_type": "stream",
     "text": [
      "Epoch 5 - avg_train_loss: 0.1927  avg_val_loss: 0.2958  time: 3s\n",
      "Epoch 5 - Score: 0.2959\n"
     ]
    },
    {
     "name": "stdout",
     "output_type": "stream",
     "text": [
      "EVAL: [2/3] Elapsed 0m 0s (remain 0m 0s) Loss: 0.2864(0.2958) \n",
      "Epoch: [6][0/19] Elapsed 0m 0s (remain 0m 2s) Loss: 0.2358(0.2358) Grad: 27.9847  LR: 0.000224  \n",
      "Epoch: [6][10/19] Elapsed 0m 1s (remain 0m 1s) Loss: 0.4809(0.3542) Grad: 29.6164  LR: 0.000224  \n",
      "Epoch: [6][18/19] Elapsed 0m 2s (remain 0m 0s) Loss: 0.2384(0.3157) Grad: 19.1936  LR: 0.000224  \n",
      "EVAL: [0/3] Elapsed 0m 0s (remain 0m 0s) Loss: 0.2422(0.2422) \n"
     ]
    },
    {
     "name": "stderr",
     "output_type": "stream",
     "text": [
      "Epoch 6 - avg_train_loss: 0.3157  avg_val_loss: 0.2534  time: 4s\n",
      "Epoch 6 - Score: 0.2540\n"
     ]
    },
    {
     "name": "stdout",
     "output_type": "stream",
     "text": [
      "EVAL: [2/3] Elapsed 0m 0s (remain 0m 0s) Loss: 0.2303(0.2534) \n",
      "Epoch: [7][0/19] Elapsed 0m 0s (remain 0m 2s) Loss: 0.1846(0.1846) Grad: 14.7405  LR: 0.000133  \n",
      "Epoch: [7][10/19] Elapsed 0m 1s (remain 0m 1s) Loss: 0.4100(0.3835) Grad: 21.3414  LR: 0.000133  \n",
      "Epoch: [7][18/19] Elapsed 0m 2s (remain 0m 0s) Loss: 0.2696(0.3315) Grad: 7.9172  LR: 0.000133  \n",
      "EVAL: [0/3] Elapsed 0m 0s (remain 0m 0s) Loss: 0.3312(0.3312) \n"
     ]
    },
    {
     "name": "stderr",
     "output_type": "stream",
     "text": [
      "Epoch 7 - avg_train_loss: 0.3315  avg_val_loss: 0.3334  time: 4s\n",
      "Epoch 7 - Score: 0.3336\n"
     ]
    },
    {
     "name": "stdout",
     "output_type": "stream",
     "text": [
      "EVAL: [2/3] Elapsed 0m 0s (remain 0m 0s) Loss: 0.3134(0.3334) \n",
      "Epoch: [8][0/19] Elapsed 0m 0s (remain 0m 2s) Loss: 0.2362(0.2362) Grad: 18.5642  LR: 0.000057  \n",
      "Epoch: [8][10/19] Elapsed 0m 1s (remain 0m 1s) Loss: 0.2300(0.2514) Grad: 4.8143  LR: 0.000057  \n",
      "Epoch: [8][18/19] Elapsed 0m 2s (remain 0m 0s) Loss: 0.2320(0.2373) Grad: 10.3135  LR: 0.000057  \n",
      "EVAL: [0/3] Elapsed 0m 0s (remain 0m 0s) Loss: 0.2644(0.2644) \n"
     ]
    },
    {
     "name": "stderr",
     "output_type": "stream",
     "text": [
      "Epoch 8 - avg_train_loss: 0.2373  avg_val_loss: 0.2666  time: 4s\n",
      "Epoch 8 - Score: 0.2669\n"
     ]
    },
    {
     "name": "stdout",
     "output_type": "stream",
     "text": [
      "EVAL: [2/3] Elapsed 0m 0s (remain 0m 0s) Loss: 0.2946(0.2666) \n",
      "Epoch: [9][0/19] Elapsed 0m 0s (remain 0m 2s) Loss: 0.1603(0.1603) Grad: 12.5980  LR: 0.000009  \n",
      "Epoch: [9][10/19] Elapsed 0m 1s (remain 0m 1s) Loss: 0.1362(0.1754) Grad: 7.5190  LR: 0.000009  \n",
      "Epoch: [9][18/19] Elapsed 0m 2s (remain 0m 0s) Loss: 0.1582(0.1692) Grad: 3.7515  LR: 0.000009  \n",
      "EVAL: [0/3] Elapsed 0m 0s (remain 0m 0s) Loss: 0.2189(0.2189) \n"
     ]
    },
    {
     "name": "stderr",
     "output_type": "stream",
     "text": [
      "Epoch 9 - avg_train_loss: 0.1692  avg_val_loss: 0.2444  time: 4s\n",
      "Epoch 9 - Score: 0.2454\n",
      "Epoch 9 - Save Best Score: 0.2454 Model\n"
     ]
    },
    {
     "name": "stdout",
     "output_type": "stream",
     "text": [
      "EVAL: [2/3] Elapsed 0m 0s (remain 0m 0s) Loss: 0.2701(0.2444) \n",
      "Epoch: [10][0/19] Elapsed 0m 0s (remain 0m 2s) Loss: 0.1877(0.1877) Grad: 16.8966  LR: 0.000001  \n",
      "Epoch: [10][10/19] Elapsed 0m 1s (remain 0m 1s) Loss: 0.1306(0.1519) Grad: 4.4761  LR: 0.000001  \n",
      "Epoch: [10][18/19] Elapsed 0m 2s (remain 0m 0s) Loss: 0.1250(0.1438) Grad: 10.5736  LR: 0.000001  \n",
      "EVAL: [0/3] Elapsed 0m 0s (remain 0m 0s) Loss: 0.2285(0.2285) \n"
     ]
    },
    {
     "name": "stderr",
     "output_type": "stream",
     "text": [
      "Epoch 10 - avg_train_loss: 0.1438  avg_val_loss: 0.2392  time: 4s\n",
      "Epoch 10 - Score: 0.2394\n",
      "Epoch 10 - Save Best Score: 0.2394 Model\n"
     ]
    },
    {
     "name": "stdout",
     "output_type": "stream",
     "text": [
      "EVAL: [2/3] Elapsed 0m 0s (remain 0m 0s) Loss: 0.2551(0.2392) \n",
      "Epoch: [11][0/19] Elapsed 0m 0s (remain 0m 2s) Loss: 0.1480(0.1480) Grad: 6.2472  LR: 0.000050  \n",
      "Epoch: [11][10/19] Elapsed 0m 1s (remain 0m 1s) Loss: 0.1142(0.1400) Grad: 11.1927  LR: 0.000050  \n",
      "Epoch: [11][18/19] Elapsed 0m 2s (remain 0m 0s) Loss: 0.1403(0.1324) Grad: 3.5986  LR: 0.000050  \n",
      "EVAL: [0/3] Elapsed 0m 0s (remain 0m 0s) Loss: 0.2199(0.2199) \n"
     ]
    },
    {
     "name": "stderr",
     "output_type": "stream",
     "text": [
      "Epoch 11 - avg_train_loss: 0.1324  avg_val_loss: 0.2113  time: 4s\n",
      "Epoch 11 - Score: 0.2115\n",
      "Epoch 11 - Save Best Score: 0.2115 Model\n"
     ]
    },
    {
     "name": "stdout",
     "output_type": "stream",
     "text": [
      "EVAL: [2/3] Elapsed 0m 0s (remain 0m 0s) Loss: 0.2049(0.2113) \n",
      "Epoch: [12][0/19] Elapsed 0m 0s (remain 0m 2s) Loss: 0.1067(0.1067) Grad: 4.8868  LR: 0.000224  \n",
      "Epoch: [12][10/19] Elapsed 0m 1s (remain 0m 1s) Loss: 0.1550(0.1313) Grad: 9.3671  LR: 0.000224  \n",
      "Epoch: [12][18/19] Elapsed 0m 2s (remain 0m 0s) Loss: 0.1760(0.1346) Grad: 13.9192  LR: 0.000224  \n",
      "EVAL: [0/3] Elapsed 0m 0s (remain 0m 0s) Loss: 0.2422(0.2422) \n"
     ]
    },
    {
     "name": "stderr",
     "output_type": "stream",
     "text": [
      "Epoch 12 - avg_train_loss: 0.1346  avg_val_loss: 0.2598  time: 3s\n",
      "Epoch 12 - Score: 0.2602\n"
     ]
    },
    {
     "name": "stdout",
     "output_type": "stream",
     "text": [
      "EVAL: [2/3] Elapsed 0m 0s (remain 0m 0s) Loss: 0.2765(0.2598) \n",
      "Epoch: [13][0/19] Elapsed 0m 0s (remain 0m 2s) Loss: 0.1754(0.1754) Grad: 16.8925  LR: 0.000133  \n",
      "Epoch: [13][10/19] Elapsed 0m 1s (remain 0m 1s) Loss: 0.1389(0.1775) Grad: 15.7040  LR: 0.000133  \n",
      "Epoch: [13][18/19] Elapsed 0m 2s (remain 0m 0s) Loss: 0.1566(0.2002) Grad: 16.6239  LR: 0.000133  \n",
      "EVAL: [0/3] Elapsed 0m 0s (remain 0m 0s) Loss: 0.3442(0.3442) \n"
     ]
    },
    {
     "name": "stderr",
     "output_type": "stream",
     "text": [
      "Epoch 13 - avg_train_loss: 0.2002  avg_val_loss: 0.3497  time: 3s\n",
      "Epoch 13 - Score: 0.3500\n"
     ]
    },
    {
     "name": "stdout",
     "output_type": "stream",
     "text": [
      "EVAL: [2/3] Elapsed 0m 0s (remain 0m 0s) Loss: 0.3817(0.3497) \n",
      "Epoch: [14][0/19] Elapsed 0m 0s (remain 0m 2s) Loss: 0.2502(0.2502) Grad: 16.5966  LR: 0.000057  \n",
      "Epoch: [14][10/19] Elapsed 0m 1s (remain 0m 1s) Loss: 0.1810(0.2227) Grad: 17.6030  LR: 0.000057  \n",
      "Epoch: [14][18/19] Elapsed 0m 2s (remain 0m 0s) Loss: 0.1627(0.2181) Grad: 15.5143  LR: 0.000057  \n",
      "EVAL: [0/3] Elapsed 0m 0s (remain 0m 0s) Loss: 0.2355(0.2355) \n"
     ]
    },
    {
     "name": "stderr",
     "output_type": "stream",
     "text": [
      "Epoch 14 - avg_train_loss: 0.2181  avg_val_loss: 0.2640  time: 4s\n",
      "Epoch 14 - Score: 0.2652\n"
     ]
    },
    {
     "name": "stdout",
     "output_type": "stream",
     "text": [
      "EVAL: [2/3] Elapsed 0m 0s (remain 0m 0s) Loss: 0.2962(0.2640) \n",
      "Epoch: [15][0/19] Elapsed 0m 0s (remain 0m 2s) Loss: 0.1759(0.1759) Grad: 12.2965  LR: 0.000009  \n",
      "Epoch: [15][10/19] Elapsed 0m 1s (remain 0m 1s) Loss: 0.1281(0.1466) Grad: 7.3429  LR: 0.000009  \n",
      "Epoch: [15][18/19] Elapsed 0m 2s (remain 0m 0s) Loss: 0.0977(0.1352) Grad: 5.5256  LR: 0.000009  \n",
      "EVAL: [0/3] Elapsed 0m 0s (remain 0m 0s) Loss: 0.2324(0.2324) \n"
     ]
    },
    {
     "name": "stderr",
     "output_type": "stream",
     "text": [
      "Epoch 15 - avg_train_loss: 0.1352  avg_val_loss: 0.2253  time: 4s\n",
      "Epoch 15 - Score: 0.2254\n"
     ]
    },
    {
     "name": "stdout",
     "output_type": "stream",
     "text": [
      "EVAL: [2/3] Elapsed 0m 0s (remain 0m 0s) Loss: 0.2132(0.2253) \n",
      "Epoch: [16][0/19] Elapsed 0m 0s (remain 0m 2s) Loss: 0.1513(0.1513) Grad: 12.7230  LR: 0.000001  \n",
      "Epoch: [16][10/19] Elapsed 0m 1s (remain 0m 1s) Loss: 0.1006(0.1176) Grad: 8.7582  LR: 0.000001  \n",
      "Epoch: [16][18/19] Elapsed 0m 2s (remain 0m 0s) Loss: 0.0922(0.1114) Grad: 5.4297  LR: 0.000001  \n",
      "EVAL: [0/3] Elapsed 0m 0s (remain 0m 0s) Loss: 0.2036(0.2036) \n"
     ]
    },
    {
     "name": "stderr",
     "output_type": "stream",
     "text": [
      "Epoch 16 - avg_train_loss: 0.1114  avg_val_loss: 0.2127  time: 4s\n",
      "Epoch 16 - Score: 0.2129\n"
     ]
    },
    {
     "name": "stdout",
     "output_type": "stream",
     "text": [
      "EVAL: [2/3] Elapsed 0m 0s (remain 0m 0s) Loss: 0.2099(0.2127) \n",
      "Epoch: [17][0/19] Elapsed 0m 0s (remain 0m 2s) Loss: 0.1238(0.1238) Grad: 7.8915  LR: 0.000050  \n",
      "Epoch: [17][10/19] Elapsed 0m 1s (remain 0m 1s) Loss: 0.1274(0.1121) Grad: 3.3896  LR: 0.000050  \n",
      "Epoch: [17][18/19] Elapsed 0m 2s (remain 0m 0s) Loss: 0.1107(0.1112) Grad: 5.6861  LR: 0.000050  \n",
      "EVAL: [0/3] Elapsed 0m 0s (remain 0m 0s) Loss: 0.2084(0.2084) \n"
     ]
    },
    {
     "name": "stderr",
     "output_type": "stream",
     "text": [
      "Epoch 17 - avg_train_loss: 0.1112  avg_val_loss: 0.2056  time: 3s\n",
      "Epoch 17 - Score: 0.2059\n",
      "Epoch 17 - Save Best Score: 0.2059 Model\n"
     ]
    },
    {
     "name": "stdout",
     "output_type": "stream",
     "text": [
      "EVAL: [2/3] Elapsed 0m 0s (remain 0m 0s) Loss: 0.1818(0.2056) \n",
      "Epoch: [18][0/19] Elapsed 0m 0s (remain 0m 2s) Loss: 0.1182(0.1182) Grad: 5.0228  LR: 0.000224  \n",
      "Epoch: [18][10/19] Elapsed 0m 1s (remain 0m 1s) Loss: 0.1067(0.1339) Grad: 7.1494  LR: 0.000224  \n",
      "Epoch: [18][18/19] Elapsed 0m 2s (remain 0m 0s) Loss: 0.1987(0.1420) Grad: 22.9235  LR: 0.000224  \n",
      "EVAL: [0/3] Elapsed 0m 0s (remain 0m 0s) Loss: 0.2529(0.2529) \n"
     ]
    },
    {
     "name": "stderr",
     "output_type": "stream",
     "text": [
      "Epoch 18 - avg_train_loss: 0.1420  avg_val_loss: 0.2343  time: 4s\n",
      "Epoch 18 - Score: 0.2348\n"
     ]
    },
    {
     "name": "stdout",
     "output_type": "stream",
     "text": [
      "EVAL: [2/3] Elapsed 0m 0s (remain 0m 0s) Loss: 0.2186(0.2343) \n",
      "Epoch: [19][0/19] Elapsed 0m 0s (remain 0m 2s) Loss: 0.1300(0.1300) Grad: 16.6549  LR: 0.000133  \n",
      "Epoch: [19][10/19] Elapsed 0m 1s (remain 0m 1s) Loss: 0.1928(0.1802) Grad: 16.7198  LR: 0.000133  \n",
      "Epoch: [19][18/19] Elapsed 0m 2s (remain 0m 0s) Loss: 0.2240(0.1952) Grad: 20.8334  LR: 0.000133  \n",
      "EVAL: [0/3] Elapsed 0m 0s (remain 0m 0s) Loss: 0.2993(0.2993) \n"
     ]
    },
    {
     "name": "stderr",
     "output_type": "stream",
     "text": [
      "Epoch 19 - avg_train_loss: 0.1952  avg_val_loss: 0.3121  time: 4s\n",
      "Epoch 19 - Score: 0.3123\n"
     ]
    },
    {
     "name": "stdout",
     "output_type": "stream",
     "text": [
      "EVAL: [2/3] Elapsed 0m 0s (remain 0m 0s) Loss: 0.3356(0.3121) \n",
      "Epoch: [20][0/19] Elapsed 0m 0s (remain 0m 2s) Loss: 0.1946(0.1946) Grad: 19.7599  LR: 0.000057  \n",
      "Epoch: [20][10/19] Elapsed 0m 1s (remain 0m 1s) Loss: 0.1707(0.1993) Grad: 13.6570  LR: 0.000057  \n",
      "Epoch: [20][18/19] Elapsed 0m 2s (remain 0m 0s) Loss: 0.2817(0.1977) Grad: 25.7682  LR: 0.000057  \n",
      "EVAL: [0/3] Elapsed 0m 0s (remain 0m 0s) Loss: 0.2255(0.2255) \n"
     ]
    },
    {
     "name": "stderr",
     "output_type": "stream",
     "text": [
      "Epoch 20 - avg_train_loss: 0.1977  avg_val_loss: 0.2433  time: 4s\n",
      "Epoch 20 - Score: 0.2440\n"
     ]
    },
    {
     "name": "stdout",
     "output_type": "stream",
     "text": [
      "EVAL: [2/3] Elapsed 0m 0s (remain 0m 0s) Loss: 0.2344(0.2433) \n",
      "Epoch: [21][0/19] Elapsed 0m 0s (remain 0m 2s) Loss: 0.1906(0.1906) Grad: 15.2019  LR: 0.000009  \n",
      "Epoch: [21][10/19] Elapsed 0m 1s (remain 0m 1s) Loss: 0.1092(0.1405) Grad: 5.4776  LR: 0.000009  \n",
      "Epoch: [21][18/19] Elapsed 0m 2s (remain 0m 0s) Loss: 0.1058(0.1280) Grad: 12.4638  LR: 0.000009  \n",
      "EVAL: [0/3] Elapsed 0m 0s (remain 0m 0s) Loss: 0.2207(0.2207) \n"
     ]
    },
    {
     "name": "stderr",
     "output_type": "stream",
     "text": [
      "Epoch 21 - avg_train_loss: 0.1280  avg_val_loss: 0.2274  time: 4s\n",
      "Epoch 21 - Score: 0.2277\n"
     ]
    },
    {
     "name": "stdout",
     "output_type": "stream",
     "text": [
      "EVAL: [2/3] Elapsed 0m 0s (remain 0m 0s) Loss: 0.2105(0.2274) \n",
      "Epoch: [22][0/19] Elapsed 0m 0s (remain 0m 2s) Loss: 0.1317(0.1317) Grad: 19.6967  LR: 0.000001  \n",
      "Epoch: [22][10/19] Elapsed 0m 1s (remain 0m 1s) Loss: 0.1163(0.1197) Grad: 6.3906  LR: 0.000001  \n",
      "Epoch: [22][18/19] Elapsed 0m 2s (remain 0m 0s) Loss: 0.0966(0.1071) Grad: 10.3928  LR: 0.000001  \n",
      "EVAL: [0/3] Elapsed 0m 0s (remain 0m 0s) Loss: 0.2013(0.2013) \n"
     ]
    },
    {
     "name": "stderr",
     "output_type": "stream",
     "text": [
      "Epoch 22 - avg_train_loss: 0.1071  avg_val_loss: 0.2024  time: 4s\n",
      "Epoch 22 - Score: 0.2024\n",
      "Epoch 22 - Save Best Score: 0.2024 Model\n"
     ]
    },
    {
     "name": "stdout",
     "output_type": "stream",
     "text": [
      "EVAL: [2/3] Elapsed 0m 0s (remain 0m 0s) Loss: 0.2014(0.2024) \n",
      "Epoch: [23][0/19] Elapsed 0m 0s (remain 0m 2s) Loss: 0.0981(0.0981) Grad: 8.1236  LR: 0.000050  \n",
      "Epoch: [23][10/19] Elapsed 0m 1s (remain 0m 1s) Loss: 0.0809(0.0960) Grad: 4.9380  LR: 0.000050  \n",
      "Epoch: [23][18/19] Elapsed 0m 2s (remain 0m 0s) Loss: 0.0815(0.0930) Grad: 7.7511  LR: 0.000050  \n",
      "EVAL: [0/3] Elapsed 0m 0s (remain 0m 0s) Loss: 0.2120(0.2120) \n"
     ]
    },
    {
     "name": "stderr",
     "output_type": "stream",
     "text": [
      "Epoch 23 - avg_train_loss: 0.0930  avg_val_loss: 0.2212  time: 4s\n",
      "Epoch 23 - Score: 0.2215\n"
     ]
    },
    {
     "name": "stdout",
     "output_type": "stream",
     "text": [
      "EVAL: [2/3] Elapsed 0m 0s (remain 0m 0s) Loss: 0.2468(0.2212) \n",
      "Epoch: [24][0/19] Elapsed 0m 0s (remain 0m 2s) Loss: 0.0874(0.0874) Grad: 4.0742  LR: 0.000224  \n",
      "Epoch: [24][10/19] Elapsed 0m 1s (remain 0m 1s) Loss: 0.1199(0.1290) Grad: 4.5432  LR: 0.000224  \n",
      "Epoch: [24][18/19] Elapsed 0m 2s (remain 0m 0s) Loss: 0.2412(0.1360) Grad: 22.4567  LR: 0.000224  \n",
      "EVAL: [0/3] Elapsed 0m 0s (remain 0m 0s) Loss: 0.2486(0.2486) \n"
     ]
    },
    {
     "name": "stderr",
     "output_type": "stream",
     "text": [
      "Epoch 24 - avg_train_loss: 0.1360  avg_val_loss: 0.2327  time: 4s\n",
      "Epoch 24 - Score: 0.2336\n"
     ]
    },
    {
     "name": "stdout",
     "output_type": "stream",
     "text": [
      "EVAL: [2/3] Elapsed 0m 0s (remain 0m 0s) Loss: 0.1871(0.2327) \n",
      "Epoch: [25][0/19] Elapsed 0m 0s (remain 0m 2s) Loss: 0.1409(0.1409) Grad: 18.3857  LR: 0.000133  \n",
      "Epoch: [25][10/19] Elapsed 0m 1s (remain 0m 1s) Loss: 0.1335(0.1569) Grad: 15.5073  LR: 0.000133  \n",
      "Epoch: [25][18/19] Elapsed 0m 2s (remain 0m 0s) Loss: 0.1209(0.1520) Grad: 3.6171  LR: 0.000133  \n",
      "EVAL: [0/3] Elapsed 0m 0s (remain 0m 0s) Loss: 0.2324(0.2324) \n"
     ]
    },
    {
     "name": "stderr",
     "output_type": "stream",
     "text": [
      "Epoch 25 - avg_train_loss: 0.1520  avg_val_loss: 0.2614  time: 3s\n",
      "Epoch 25 - Score: 0.2627\n"
     ]
    },
    {
     "name": "stdout",
     "output_type": "stream",
     "text": [
      "EVAL: [2/3] Elapsed 0m 0s (remain 0m 0s) Loss: 0.2642(0.2614) \n",
      "Epoch: [26][0/19] Elapsed 0m 0s (remain 0m 2s) Loss: 0.2298(0.2298) Grad: 21.6220  LR: 0.000057  \n",
      "Epoch: [26][10/19] Elapsed 0m 1s (remain 0m 1s) Loss: 0.2000(0.1483) Grad: 17.3579  LR: 0.000057  \n",
      "Epoch: [26][18/19] Elapsed 0m 2s (remain 0m 0s) Loss: 0.1172(0.1372) Grad: 4.0393  LR: 0.000057  \n",
      "EVAL: [0/3] Elapsed 0m 0s (remain 0m 0s) Loss: 0.1941(0.1941) \n"
     ]
    },
    {
     "name": "stderr",
     "output_type": "stream",
     "text": [
      "Epoch 26 - avg_train_loss: 0.1372  avg_val_loss: 0.1951  time: 4s\n",
      "Epoch 26 - Score: 0.1951\n",
      "Epoch 26 - Save Best Score: 0.1951 Model\n"
     ]
    },
    {
     "name": "stdout",
     "output_type": "stream",
     "text": [
      "EVAL: [2/3] Elapsed 0m 0s (remain 0m 0s) Loss: 0.2027(0.1951) \n",
      "Epoch: [27][0/19] Elapsed 0m 0s (remain 0m 2s) Loss: 0.1057(0.1057) Grad: 8.6124  LR: 0.000009  \n",
      "Epoch: [27][10/19] Elapsed 0m 1s (remain 0m 1s) Loss: 0.1040(0.0914) Grad: 15.8304  LR: 0.000009  \n",
      "Epoch: [27][18/19] Elapsed 0m 2s (remain 0m 0s) Loss: 0.0697(0.0979) Grad: 9.1284  LR: 0.000009  \n",
      "EVAL: [0/3] Elapsed 0m 0s (remain 0m 0s) Loss: 0.1954(0.1954) \n"
     ]
    },
    {
     "name": "stderr",
     "output_type": "stream",
     "text": [
      "Epoch 27 - avg_train_loss: 0.0979  avg_val_loss: 0.1958  time: 4s\n",
      "Epoch 27 - Score: 0.1960\n"
     ]
    },
    {
     "name": "stdout",
     "output_type": "stream",
     "text": [
      "EVAL: [2/3] Elapsed 0m 0s (remain 0m 0s) Loss: 0.1771(0.1958) \n",
      "Epoch: [28][0/19] Elapsed 0m 0s (remain 0m 2s) Loss: 0.0647(0.0647) Grad: 6.5947  LR: 0.000001  \n",
      "Epoch: [28][10/19] Elapsed 0m 1s (remain 0m 1s) Loss: 0.0745(0.0780) Grad: 3.4485  LR: 0.000001  \n",
      "Epoch: [28][18/19] Elapsed 0m 2s (remain 0m 0s) Loss: 0.0751(0.0767) Grad: 7.5180  LR: 0.000001  \n",
      "EVAL: [0/3] Elapsed 0m 0s (remain 0m 0s) Loss: 0.1960(0.1960) \n"
     ]
    },
    {
     "name": "stderr",
     "output_type": "stream",
     "text": [
      "Epoch 28 - avg_train_loss: 0.0767  avg_val_loss: 0.2004  time: 4s\n",
      "Epoch 28 - Score: 0.2010\n"
     ]
    },
    {
     "name": "stdout",
     "output_type": "stream",
     "text": [
      "EVAL: [2/3] Elapsed 0m 0s (remain 0m 0s) Loss: 0.1719(0.2004) \n",
      "Epoch: [29][0/19] Elapsed 0m 0s (remain 0m 2s) Loss: 0.0785(0.0785) Grad: 3.3416  LR: 0.000050  \n",
      "Epoch: [29][10/19] Elapsed 0m 1s (remain 0m 1s) Loss: 0.0818(0.0881) Grad: 3.9406  LR: 0.000050  \n",
      "Epoch: [29][18/19] Elapsed 0m 2s (remain 0m 0s) Loss: 0.0715(0.0876) Grad: 3.0420  LR: 0.000050  \n",
      "EVAL: [0/3] Elapsed 0m 0s (remain 0m 0s) Loss: 0.2025(0.2025) \n"
     ]
    },
    {
     "name": "stderr",
     "output_type": "stream",
     "text": [
      "Epoch 29 - avg_train_loss: 0.0876  avg_val_loss: 0.2127  time: 4s\n",
      "Epoch 29 - Score: 0.2129\n"
     ]
    },
    {
     "name": "stdout",
     "output_type": "stream",
     "text": [
      "EVAL: [2/3] Elapsed 0m 0s (remain 0m 0s) Loss: 0.2140(0.2127) \n",
      "Epoch: [30][0/19] Elapsed 0m 0s (remain 0m 2s) Loss: 0.1066(0.1066) Grad: 19.6891  LR: 0.000224  \n",
      "Epoch: [30][10/19] Elapsed 0m 1s (remain 0m 1s) Loss: 0.1134(0.0968) Grad: 3.0285  LR: 0.000224  \n",
      "Epoch: [30][18/19] Elapsed 0m 2s (remain 0m 0s) Loss: 0.1420(0.1072) Grad: 16.6381  LR: 0.000224  \n",
      "EVAL: [0/3] Elapsed 0m 0s (remain 0m 0s) Loss: 0.1835(0.1835) \n"
     ]
    },
    {
     "name": "stderr",
     "output_type": "stream",
     "text": [
      "Epoch 30 - avg_train_loss: 0.1072  avg_val_loss: 0.1918  time: 3s\n",
      "Epoch 30 - Score: 0.1926\n",
      "Epoch 30 - Save Best Score: 0.1926 Model\n"
     ]
    },
    {
     "name": "stdout",
     "output_type": "stream",
     "text": [
      "EVAL: [2/3] Elapsed 0m 0s (remain 0m 0s) Loss: 0.1657(0.1918) \n",
      "Epoch: [31][0/19] Elapsed 0m 0s (remain 0m 2s) Loss: 0.0964(0.0964) Grad: 3.9705  LR: 0.000133  \n",
      "Epoch: [31][10/19] Elapsed 0m 1s (remain 0m 1s) Loss: 0.0886(0.1392) Grad: 4.3347  LR: 0.000133  \n",
      "Epoch: [31][18/19] Elapsed 0m 2s (remain 0m 0s) Loss: 0.1035(0.1343) Grad: 12.2749  LR: 0.000133  \n",
      "EVAL: [0/3] Elapsed 0m 0s (remain 0m 0s) Loss: 0.2800(0.2800) \n"
     ]
    },
    {
     "name": "stderr",
     "output_type": "stream",
     "text": [
      "Epoch 31 - avg_train_loss: 0.1343  avg_val_loss: 0.2640  time: 4s\n",
      "Epoch 31 - Score: 0.2643\n"
     ]
    },
    {
     "name": "stdout",
     "output_type": "stream",
     "text": [
      "EVAL: [2/3] Elapsed 0m 0s (remain 0m 0s) Loss: 0.2578(0.2640) \n",
      "Epoch: [32][0/19] Elapsed 0m 0s (remain 0m 2s) Loss: 0.1579(0.1579) Grad: 18.9180  LR: 0.000057  \n",
      "Epoch: [32][10/19] Elapsed 0m 1s (remain 0m 1s) Loss: 0.1305(0.1391) Grad: 8.5666  LR: 0.000057  \n",
      "Epoch: [32][18/19] Elapsed 0m 2s (remain 0m 0s) Loss: 0.0945(0.1283) Grad: 8.3884  LR: 0.000057  \n",
      "EVAL: [0/3] Elapsed 0m 0s (remain 0m 0s) Loss: 0.2143(0.2143) \n"
     ]
    },
    {
     "name": "stderr",
     "output_type": "stream",
     "text": [
      "Epoch 32 - avg_train_loss: 0.1283  avg_val_loss: 0.2076  time: 4s\n",
      "Epoch 32 - Score: 0.2077\n"
     ]
    },
    {
     "name": "stdout",
     "output_type": "stream",
     "text": [
      "EVAL: [2/3] Elapsed 0m 0s (remain 0m 0s) Loss: 0.2018(0.2076) \n",
      "Epoch: [33][0/19] Elapsed 0m 0s (remain 0m 2s) Loss: 0.1092(0.1092) Grad: 15.4091  LR: 0.000009  \n",
      "Epoch: [33][10/19] Elapsed 0m 1s (remain 0m 1s) Loss: 0.1065(0.1021) Grad: 12.6447  LR: 0.000009  \n",
      "Epoch: [33][18/19] Elapsed 0m 2s (remain 0m 0s) Loss: 0.1094(0.0987) Grad: 6.1986  LR: 0.000009  \n",
      "EVAL: [0/3] Elapsed 0m 0s (remain 0m 0s) Loss: 0.1863(0.1863) \n"
     ]
    },
    {
     "name": "stderr",
     "output_type": "stream",
     "text": [
      "Epoch 33 - avg_train_loss: 0.0987  avg_val_loss: 0.1941  time: 4s\n",
      "Epoch 33 - Score: 0.1942\n"
     ]
    },
    {
     "name": "stdout",
     "output_type": "stream",
     "text": [
      "EVAL: [2/3] Elapsed 0m 0s (remain 0m 0s) Loss: 0.1921(0.1941) \n",
      "Epoch: [34][0/19] Elapsed 0m 0s (remain 0m 2s) Loss: 0.0699(0.0699) Grad: 6.7765  LR: 0.000001  \n",
      "Epoch: [34][10/19] Elapsed 0m 1s (remain 0m 1s) Loss: 0.0666(0.0812) Grad: 3.1733  LR: 0.000001  \n",
      "Epoch: [34][18/19] Elapsed 0m 2s (remain 0m 0s) Loss: 0.0884(0.0797) Grad: 3.1922  LR: 0.000001  \n",
      "EVAL: [0/3] Elapsed 0m 0s (remain 0m 0s) Loss: 0.2001(0.2001) \n"
     ]
    },
    {
     "name": "stderr",
     "output_type": "stream",
     "text": [
      "Epoch 34 - avg_train_loss: 0.0797  avg_val_loss: 0.1991  time: 4s\n",
      "Epoch 34 - Score: 0.1991\n"
     ]
    },
    {
     "name": "stdout",
     "output_type": "stream",
     "text": [
      "EVAL: [2/3] Elapsed 0m 0s (remain 0m 0s) Loss: 0.1924(0.1991) \n",
      "Epoch: [35][0/19] Elapsed 0m 0s (remain 0m 2s) Loss: 0.0852(0.0852) Grad: 6.2097  LR: 0.000050  \n",
      "Epoch: [35][10/19] Elapsed 0m 1s (remain 0m 1s) Loss: 0.0627(0.0729) Grad: 2.6293  LR: 0.000050  \n",
      "Epoch: [35][18/19] Elapsed 0m 2s (remain 0m 0s) Loss: 0.0725(0.0766) Grad: 13.8394  LR: 0.000050  \n",
      "EVAL: [0/3] Elapsed 0m 0s (remain 0m 0s) Loss: 0.2119(0.2119) \n"
     ]
    },
    {
     "name": "stderr",
     "output_type": "stream",
     "text": [
      "Epoch 35 - avg_train_loss: 0.0766  avg_val_loss: 0.1992  time: 4s\n",
      "Epoch 35 - Score: 0.1995\n"
     ]
    },
    {
     "name": "stdout",
     "output_type": "stream",
     "text": [
      "EVAL: [2/3] Elapsed 0m 0s (remain 0m 0s) Loss: 0.1766(0.1992) \n",
      "Epoch: [36][0/19] Elapsed 0m 0s (remain 0m 2s) Loss: 0.0654(0.0654) Grad: 14.6230  LR: 0.000224  \n",
      "Epoch: [36][10/19] Elapsed 0m 1s (remain 0m 1s) Loss: 0.1067(0.1006) Grad: 13.9392  LR: 0.000224  \n",
      "Epoch: [36][18/19] Elapsed 0m 2s (remain 0m 0s) Loss: 0.1121(0.1011) Grad: 18.5963  LR: 0.000224  \n",
      "EVAL: [0/3] Elapsed 0m 0s (remain 0m 0s) Loss: 0.2038(0.2038) \n"
     ]
    },
    {
     "name": "stderr",
     "output_type": "stream",
     "text": [
      "Epoch 36 - avg_train_loss: 0.1011  avg_val_loss: 0.2050  time: 4s\n",
      "Epoch 36 - Score: 0.2056\n"
     ]
    },
    {
     "name": "stdout",
     "output_type": "stream",
     "text": [
      "EVAL: [2/3] Elapsed 0m 0s (remain 0m 0s) Loss: 0.1730(0.2050) \n",
      "Epoch: [37][0/19] Elapsed 0m 0s (remain 0m 2s) Loss: 0.0853(0.0853) Grad: 5.6292  LR: 0.000133  \n",
      "Epoch: [37][10/19] Elapsed 0m 1s (remain 0m 1s) Loss: 0.1279(0.1088) Grad: 7.4632  LR: 0.000133  \n",
      "Epoch: [37][18/19] Elapsed 0m 2s (remain 0m 0s) Loss: 0.1858(0.1236) Grad: 15.6554  LR: 0.000133  \n",
      "EVAL: [0/3] Elapsed 0m 0s (remain 0m 0s) Loss: 0.2779(0.2779) \n"
     ]
    },
    {
     "name": "stderr",
     "output_type": "stream",
     "text": [
      "Epoch 37 - avg_train_loss: 0.1236  avg_val_loss: 0.2487  time: 4s\n",
      "Epoch 37 - Score: 0.2501\n"
     ]
    },
    {
     "name": "stdout",
     "output_type": "stream",
     "text": [
      "EVAL: [2/3] Elapsed 0m 0s (remain 0m 0s) Loss: 0.2071(0.2487) \n",
      "Epoch: [38][0/19] Elapsed 0m 0s (remain 0m 2s) Loss: 0.1893(0.1893) Grad: 21.1434  LR: 0.000057  \n",
      "Epoch: [38][10/19] Elapsed 0m 1s (remain 0m 1s) Loss: 0.1207(0.1396) Grad: 15.8004  LR: 0.000057  \n",
      "Epoch: [38][18/19] Elapsed 0m 2s (remain 0m 0s) Loss: 0.0939(0.1384) Grad: 4.5889  LR: 0.000057  \n",
      "EVAL: [0/3] Elapsed 0m 0s (remain 0m 0s) Loss: 0.2261(0.2261) \n"
     ]
    },
    {
     "name": "stderr",
     "output_type": "stream",
     "text": [
      "Epoch 38 - avg_train_loss: 0.1384  avg_val_loss: 0.2276  time: 3s\n",
      "Epoch 38 - Score: 0.2276\n"
     ]
    },
    {
     "name": "stdout",
     "output_type": "stream",
     "text": [
      "EVAL: [2/3] Elapsed 0m 0s (remain 0m 0s) Loss: 0.2231(0.2276) \n",
      "Epoch: [39][0/19] Elapsed 0m 0s (remain 0m 2s) Loss: 0.1472(0.1472) Grad: 16.8992  LR: 0.000009  \n",
      "Epoch: [39][10/19] Elapsed 0m 1s (remain 0m 1s) Loss: 0.1086(0.1100) Grad: 12.5984  LR: 0.000009  \n",
      "Epoch: [39][18/19] Elapsed 0m 3s (remain 0m 0s) Loss: 0.0818(0.1048) Grad: 7.3109  LR: 0.000009  \n",
      "EVAL: [0/3] Elapsed 0m 0s (remain 0m 0s) Loss: 0.1879(0.1879) \n"
     ]
    },
    {
     "name": "stderr",
     "output_type": "stream",
     "text": [
      "Epoch 39 - avg_train_loss: 0.1048  avg_val_loss: 0.1879  time: 4s\n",
      "Epoch 39 - Score: 0.1882\n",
      "Epoch 39 - Save Best Score: 0.1882 Model\n"
     ]
    },
    {
     "name": "stdout",
     "output_type": "stream",
     "text": [
      "EVAL: [2/3] Elapsed 0m 0s (remain 0m 0s) Loss: 0.1652(0.1879) \n",
      "Epoch: [40][0/19] Elapsed 0m 0s (remain 0m 2s) Loss: 0.0656(0.0656) Grad: 3.9850  LR: 0.000001  \n",
      "Epoch: [40][10/19] Elapsed 0m 1s (remain 0m 1s) Loss: 0.0680(0.0729) Grad: 3.5259  LR: 0.000001  \n",
      "Epoch: [40][18/19] Elapsed 0m 2s (remain 0m 0s) Loss: 0.0637(0.0749) Grad: 3.7133  LR: 0.000001  \n",
      "EVAL: [0/3] Elapsed 0m 0s (remain 0m 0s) Loss: 0.1967(0.1967) \n"
     ]
    },
    {
     "name": "stderr",
     "output_type": "stream",
     "text": [
      "Epoch 40 - avg_train_loss: 0.0749  avg_val_loss: 0.1956  time: 4s\n",
      "Epoch 40 - Score: 0.1962\n",
      "========== fold: 0 result ==========\n",
      "Score: 0.1882\n",
      "========== fold: 1 training ==========\n"
     ]
    },
    {
     "name": "stdout",
     "output_type": "stream",
     "text": [
      "EVAL: [2/3] Elapsed 0m 0s (remain 0m 0s) Loss: 0.1630(0.1956) \n",
      "Epoch: [1][0/19] Elapsed 0m 0s (remain 0m 2s) Loss: 3.4884(3.4884) Grad: 24.3315  LR: 0.000100  \n",
      "Epoch: [1][10/19] Elapsed 0m 1s (remain 0m 1s) Loss: 0.7708(1.6864) Grad: 22.7702  LR: 0.000100  \n",
      "Epoch: [1][18/19] Elapsed 0m 2s (remain 0m 0s) Loss: 0.5467(1.2244) Grad: 15.6609  LR: 0.000100  \n",
      "EVAL: [0/3] Elapsed 0m 0s (remain 0m 0s) Loss: 0.4977(0.4977) \n"
     ]
    },
    {
     "name": "stderr",
     "output_type": "stream",
     "text": [
      "Epoch 1 - avg_train_loss: 1.2244  avg_val_loss: 0.4284  time: 4s\n",
      "Epoch 1 - Score: 0.4330\n",
      "Epoch 1 - Save Best Score: 0.4330 Model\n"
     ]
    },
    {
     "name": "stdout",
     "output_type": "stream",
     "text": [
      "EVAL: [2/3] Elapsed 0m 0s (remain 0m 0s) Loss: 0.4258(0.4284) \n",
      "Epoch: [2][0/19] Elapsed 0m 0s (remain 0m 2s) Loss: 0.3874(0.3874) Grad: 4.5850  LR: 0.000057  \n",
      "Epoch: [2][10/19] Elapsed 0m 1s (remain 0m 1s) Loss: 0.4706(0.4565) Grad: 18.4404  LR: 0.000057  \n",
      "Epoch: [2][18/19] Elapsed 0m 2s (remain 0m 0s) Loss: 0.3428(0.4389) Grad: 7.6044  LR: 0.000057  \n",
      "EVAL: [0/3] Elapsed 0m 0s (remain 0m 0s) Loss: 0.4131(0.4131) \n"
     ]
    },
    {
     "name": "stderr",
     "output_type": "stream",
     "text": [
      "Epoch 2 - avg_train_loss: 0.4389  avg_val_loss: 0.3516  time: 4s\n",
      "Epoch 2 - Score: 0.3555\n",
      "Epoch 2 - Save Best Score: 0.3555 Model\n"
     ]
    },
    {
     "name": "stdout",
     "output_type": "stream",
     "text": [
      "EVAL: [2/3] Elapsed 0m 0s (remain 0m 0s) Loss: 0.2980(0.3516) \n",
      "Epoch: [3][0/19] Elapsed 0m 0s (remain 0m 2s) Loss: 0.4265(0.4265) Grad: 4.0544  LR: 0.000009  \n",
      "Epoch: [3][10/19] Elapsed 0m 1s (remain 0m 1s) Loss: 0.3142(0.3088) Grad: 4.8402  LR: 0.000009  \n",
      "Epoch: [3][18/19] Elapsed 0m 2s (remain 0m 0s) Loss: 0.2922(0.3073) Grad: 3.2592  LR: 0.000009  \n",
      "EVAL: [0/3] Elapsed 0m 0s (remain 0m 0s) Loss: 0.3364(0.3364) \n"
     ]
    },
    {
     "name": "stderr",
     "output_type": "stream",
     "text": [
      "Epoch 3 - avg_train_loss: 0.3073  avg_val_loss: 0.3145  time: 4s\n",
      "Epoch 3 - Score: 0.3151\n",
      "Epoch 3 - Save Best Score: 0.3151 Model\n"
     ]
    },
    {
     "name": "stdout",
     "output_type": "stream",
     "text": [
      "EVAL: [2/3] Elapsed 0m 0s (remain 0m 0s) Loss: 0.3002(0.3145) \n",
      "Epoch: [4][0/19] Elapsed 0m 0s (remain 0m 2s) Loss: 0.3021(0.3021) Grad: 3.8213  LR: 0.000001  \n",
      "Epoch: [4][10/19] Elapsed 0m 1s (remain 0m 1s) Loss: 0.2831(0.2714) Grad: 3.7350  LR: 0.000001  \n",
      "Epoch: [4][18/19] Elapsed 0m 2s (remain 0m 0s) Loss: 0.2551(0.2627) Grad: 3.7932  LR: 0.000001  \n",
      "EVAL: [0/3] Elapsed 0m 0s (remain 0m 0s) Loss: 0.3613(0.3613) \n"
     ]
    },
    {
     "name": "stderr",
     "output_type": "stream",
     "text": [
      "Epoch 4 - avg_train_loss: 0.2627  avg_val_loss: 0.3055  time: 4s\n",
      "Epoch 4 - Score: 0.3091\n",
      "Epoch 4 - Save Best Score: 0.3091 Model\n"
     ]
    },
    {
     "name": "stdout",
     "output_type": "stream",
     "text": [
      "EVAL: [2/3] Elapsed 0m 0s (remain 0m 0s) Loss: 0.2566(0.3055) \n",
      "Epoch: [5][0/19] Elapsed 0m 0s (remain 0m 2s) Loss: 0.3314(0.3314) Grad: 5.2109  LR: 0.000050  \n",
      "Epoch: [5][10/19] Elapsed 0m 1s (remain 0m 1s) Loss: 0.2450(0.2678) Grad: 6.5464  LR: 0.000050  \n",
      "Epoch: [5][18/19] Elapsed 0m 2s (remain 0m 0s) Loss: 0.2913(0.2562) Grad: 6.7626  LR: 0.000050  \n",
      "EVAL: [0/3] Elapsed 0m 0s (remain 0m 0s) Loss: 0.3079(0.3079) \n"
     ]
    },
    {
     "name": "stderr",
     "output_type": "stream",
     "text": [
      "Epoch 5 - avg_train_loss: 0.2562  avg_val_loss: 0.2863  time: 4s\n",
      "Epoch 5 - Score: 0.2870\n",
      "Epoch 5 - Save Best Score: 0.2870 Model\n"
     ]
    },
    {
     "name": "stdout",
     "output_type": "stream",
     "text": [
      "EVAL: [2/3] Elapsed 0m 0s (remain 0m 0s) Loss: 0.2865(0.2863) \n",
      "Epoch: [6][0/19] Elapsed 0m 0s (remain 0m 2s) Loss: 0.2016(0.2016) Grad: 4.3217  LR: 0.000224  \n",
      "Epoch: [6][10/19] Elapsed 0m 1s (remain 0m 1s) Loss: 0.3352(0.2350) Grad: 13.2365  LR: 0.000224  \n",
      "Epoch: [6][18/19] Elapsed 0m 2s (remain 0m 0s) Loss: 0.2524(0.2608) Grad: 4.2170  LR: 0.000224  \n",
      "EVAL: [0/3] Elapsed 0m 0s (remain 0m 0s) Loss: 0.3663(0.3663) \n"
     ]
    },
    {
     "name": "stderr",
     "output_type": "stream",
     "text": [
      "Epoch 6 - avg_train_loss: 0.2608  avg_val_loss: 0.3486  time: 4s\n",
      "Epoch 6 - Score: 0.3492\n"
     ]
    },
    {
     "name": "stdout",
     "output_type": "stream",
     "text": [
      "EVAL: [2/3] Elapsed 0m 0s (remain 0m 0s) Loss: 0.3066(0.3486) \n",
      "Epoch: [7][0/19] Elapsed 0m 0s (remain 0m 2s) Loss: 0.4101(0.4101) Grad: 17.0772  LR: 0.000133  \n",
      "Epoch: [7][10/19] Elapsed 0m 1s (remain 0m 1s) Loss: 0.2436(0.2772) Grad: 10.4850  LR: 0.000133  \n",
      "Epoch: [7][18/19] Elapsed 0m 2s (remain 0m 0s) Loss: 0.2723(0.2505) Grad: 17.8440  LR: 0.000133  \n",
      "EVAL: [0/3] Elapsed 0m 0s (remain 0m 0s) Loss: 0.2998(0.2998) \n"
     ]
    },
    {
     "name": "stderr",
     "output_type": "stream",
     "text": [
      "Epoch 7 - avg_train_loss: 0.2505  avg_val_loss: 0.2800  time: 4s\n",
      "Epoch 7 - Score: 0.2828\n",
      "Epoch 7 - Save Best Score: 0.2828 Model\n"
     ]
    },
    {
     "name": "stdout",
     "output_type": "stream",
     "text": [
      "EVAL: [2/3] Elapsed 0m 0s (remain 0m 0s) Loss: 0.3404(0.2800) \n",
      "Epoch: [8][0/19] Elapsed 0m 0s (remain 0m 2s) Loss: 0.2161(0.2161) Grad: 10.8314  LR: 0.000057  \n",
      "Epoch: [8][10/19] Elapsed 0m 1s (remain 0m 1s) Loss: 0.1965(0.1984) Grad: 5.1215  LR: 0.000057  \n",
      "Epoch: [8][18/19] Elapsed 0m 2s (remain 0m 0s) Loss: 0.1871(0.2041) Grad: 5.8700  LR: 0.000057  \n",
      "EVAL: [0/3] Elapsed 0m 0s (remain 0m 0s) Loss: 0.2645(0.2645) \n"
     ]
    },
    {
     "name": "stderr",
     "output_type": "stream",
     "text": [
      "Epoch 8 - avg_train_loss: 0.2041  avg_val_loss: 0.2512  time: 4s\n",
      "Epoch 8 - Score: 0.2535\n",
      "Epoch 8 - Save Best Score: 0.2535 Model\n"
     ]
    },
    {
     "name": "stdout",
     "output_type": "stream",
     "text": [
      "EVAL: [2/3] Elapsed 0m 0s (remain 0m 0s) Loss: 0.3079(0.2512) \n",
      "Epoch: [9][0/19] Elapsed 0m 0s (remain 0m 2s) Loss: 0.2018(0.2018) Grad: 12.4316  LR: 0.000009  \n",
      "Epoch: [9][10/19] Elapsed 0m 1s (remain 0m 1s) Loss: 0.1699(0.1846) Grad: 7.6116  LR: 0.000009  \n",
      "Epoch: [9][18/19] Elapsed 0m 2s (remain 0m 0s) Loss: 0.1278(0.1678) Grad: 5.0933  LR: 0.000009  \n",
      "EVAL: [0/3] Elapsed 0m 0s (remain 0m 0s) Loss: 0.2521(0.2521) \n"
     ]
    },
    {
     "name": "stderr",
     "output_type": "stream",
     "text": [
      "Epoch 9 - avg_train_loss: 0.1678  avg_val_loss: 0.2309  time: 4s\n",
      "Epoch 9 - Score: 0.2323\n",
      "Epoch 9 - Save Best Score: 0.2323 Model\n"
     ]
    },
    {
     "name": "stdout",
     "output_type": "stream",
     "text": [
      "EVAL: [2/3] Elapsed 0m 0s (remain 0m 0s) Loss: 0.2528(0.2309) \n",
      "Epoch: [10][0/19] Elapsed 0m 0s (remain 0m 2s) Loss: 0.1401(0.1401) Grad: 10.5788  LR: 0.000001  \n",
      "Epoch: [10][10/19] Elapsed 0m 1s (remain 0m 1s) Loss: 0.1633(0.1433) Grad: 4.7570  LR: 0.000001  \n",
      "Epoch: [10][18/19] Elapsed 0m 2s (remain 0m 0s) Loss: 0.1613(0.1360) Grad: 6.0986  LR: 0.000001  \n",
      "EVAL: [0/3] Elapsed 0m 0s (remain 0m 0s) Loss: 0.2339(0.2339) \n"
     ]
    },
    {
     "name": "stderr",
     "output_type": "stream",
     "text": [
      "Epoch 10 - avg_train_loss: 0.1360  avg_val_loss: 0.2236  time: 4s\n",
      "Epoch 10 - Score: 0.2249\n",
      "Epoch 10 - Save Best Score: 0.2249 Model\n"
     ]
    },
    {
     "name": "stdout",
     "output_type": "stream",
     "text": [
      "EVAL: [2/3] Elapsed 0m 0s (remain 0m 0s) Loss: 0.2632(0.2236) \n",
      "Epoch: [11][0/19] Elapsed 0m 0s (remain 0m 2s) Loss: 0.1227(0.1227) Grad: 9.8547  LR: 0.000050  \n",
      "Epoch: [11][10/19] Elapsed 0m 1s (remain 0m 1s) Loss: 0.1152(0.1527) Grad: 3.7985  LR: 0.000050  \n",
      "Epoch: [11][18/19] Elapsed 0m 2s (remain 0m 0s) Loss: 0.1461(0.1446) Grad: 8.8970  LR: 0.000050  \n",
      "EVAL: [0/3] Elapsed 0m 0s (remain 0m 0s) Loss: 0.2267(0.2267) \n"
     ]
    },
    {
     "name": "stderr",
     "output_type": "stream",
     "text": [
      "Epoch 11 - avg_train_loss: 0.1446  avg_val_loss: 0.2447  time: 4s\n",
      "Epoch 11 - Score: 0.2467\n"
     ]
    },
    {
     "name": "stdout",
     "output_type": "stream",
     "text": [
      "EVAL: [2/3] Elapsed 0m 0s (remain 0m 0s) Loss: 0.3143(0.2447) \n",
      "Epoch: [12][0/19] Elapsed 0m 0s (remain 0m 2s) Loss: 0.1656(0.1656) Grad: 5.0103  LR: 0.000224  \n",
      "Epoch: [12][10/19] Elapsed 0m 1s (remain 0m 1s) Loss: 0.2321(0.1794) Grad: 20.8168  LR: 0.000224  \n",
      "Epoch: [12][18/19] Elapsed 0m 2s (remain 0m 0s) Loss: 0.2249(0.1797) Grad: 15.6278  LR: 0.000224  \n",
      "EVAL: [0/3] Elapsed 0m 0s (remain 0m 0s) Loss: 0.2440(0.2440) \n"
     ]
    },
    {
     "name": "stderr",
     "output_type": "stream",
     "text": [
      "Epoch 12 - avg_train_loss: 0.1797  avg_val_loss: 0.2507  time: 4s\n",
      "Epoch 12 - Score: 0.2513\n"
     ]
    },
    {
     "name": "stdout",
     "output_type": "stream",
     "text": [
      "EVAL: [2/3] Elapsed 0m 0s (remain 0m 0s) Loss: 0.2896(0.2507) \n",
      "Epoch: [13][0/19] Elapsed 0m 0s (remain 0m 2s) Loss: 0.1784(0.1784) Grad: 3.9076  LR: 0.000133  \n",
      "Epoch: [13][10/19] Elapsed 0m 1s (remain 0m 1s) Loss: 0.1445(0.1878) Grad: 9.0232  LR: 0.000133  \n",
      "Epoch: [13][18/19] Elapsed 0m 2s (remain 0m 0s) Loss: 0.2417(0.2086) Grad: 14.9578  LR: 0.000133  \n",
      "EVAL: [0/3] Elapsed 0m 0s (remain 0m 0s) Loss: 0.3023(0.3023) \n"
     ]
    },
    {
     "name": "stderr",
     "output_type": "stream",
     "text": [
      "Epoch 13 - avg_train_loss: 0.2086  avg_val_loss: 0.3242  time: 4s\n",
      "Epoch 13 - Score: 0.3262\n"
     ]
    },
    {
     "name": "stdout",
     "output_type": "stream",
     "text": [
      "EVAL: [2/3] Elapsed 0m 0s (remain 0m 0s) Loss: 0.4039(0.3242) \n",
      "Epoch: [14][0/19] Elapsed 0m 0s (remain 0m 2s) Loss: 0.2632(0.2632) Grad: 20.7511  LR: 0.000057  \n",
      "Epoch: [14][10/19] Elapsed 0m 1s (remain 0m 1s) Loss: 0.1302(0.1641) Grad: 2.9899  LR: 0.000057  \n",
      "Epoch: [14][18/19] Elapsed 0m 2s (remain 0m 0s) Loss: 0.1036(0.1520) Grad: 9.4311  LR: 0.000057  \n",
      "EVAL: [0/3] Elapsed 0m 0s (remain 0m 0s) Loss: 0.2464(0.2464) \n"
     ]
    },
    {
     "name": "stderr",
     "output_type": "stream",
     "text": [
      "Epoch 14 - avg_train_loss: 0.1520  avg_val_loss: 0.2364  time: 4s\n",
      "Epoch 14 - Score: 0.2369\n"
     ]
    },
    {
     "name": "stdout",
     "output_type": "stream",
     "text": [
      "EVAL: [2/3] Elapsed 0m 0s (remain 0m 0s) Loss: 0.2565(0.2364) \n",
      "Epoch: [15][0/19] Elapsed 0m 0s (remain 0m 2s) Loss: 0.1528(0.1528) Grad: 7.1013  LR: 0.000009  \n",
      "Epoch: [15][10/19] Elapsed 0m 1s (remain 0m 1s) Loss: 0.1506(0.1375) Grad: 12.6496  LR: 0.000009  \n",
      "Epoch: [15][18/19] Elapsed 0m 2s (remain 0m 0s) Loss: 0.1306(0.1345) Grad: 13.9150  LR: 0.000009  \n",
      "EVAL: [0/3] Elapsed 0m 0s (remain 0m 0s) Loss: 0.2389(0.2389) \n"
     ]
    },
    {
     "name": "stderr",
     "output_type": "stream",
     "text": [
      "Epoch 15 - avg_train_loss: 0.1345  avg_val_loss: 0.2271  time: 4s\n",
      "Epoch 15 - Score: 0.2286\n"
     ]
    },
    {
     "name": "stdout",
     "output_type": "stream",
     "text": [
      "EVAL: [2/3] Elapsed 0m 0s (remain 0m 0s) Loss: 0.2691(0.2271) \n",
      "Epoch: [16][0/19] Elapsed 0m 0s (remain 0m 2s) Loss: 0.1159(0.1159) Grad: 3.7120  LR: 0.000001  \n",
      "Epoch: [16][10/19] Elapsed 0m 1s (remain 0m 1s) Loss: 0.1015(0.1049) Grad: 6.0623  LR: 0.000001  \n",
      "Epoch: [16][18/19] Elapsed 0m 2s (remain 0m 0s) Loss: 0.1248(0.1060) Grad: 4.8804  LR: 0.000001  \n",
      "EVAL: [0/3] Elapsed 0m 0s (remain 0m 0s) Loss: 0.2201(0.2201) \n"
     ]
    },
    {
     "name": "stderr",
     "output_type": "stream",
     "text": [
      "Epoch 16 - avg_train_loss: 0.1060  avg_val_loss: 0.2191  time: 4s\n",
      "Epoch 16 - Score: 0.2220\n",
      "Epoch 16 - Save Best Score: 0.2220 Model\n"
     ]
    },
    {
     "name": "stdout",
     "output_type": "stream",
     "text": [
      "EVAL: [2/3] Elapsed 0m 0s (remain 0m 0s) Loss: 0.2921(0.2191) \n",
      "Epoch: [17][0/19] Elapsed 0m 0s (remain 0m 2s) Loss: 0.1046(0.1046) Grad: 3.1991  LR: 0.000050  \n",
      "Epoch: [17][10/19] Elapsed 0m 1s (remain 0m 1s) Loss: 0.1285(0.0944) Grad: 9.6344  LR: 0.000050  \n",
      "Epoch: [17][18/19] Elapsed 0m 2s (remain 0m 0s) Loss: 0.1198(0.1034) Grad: 8.4477  LR: 0.000050  \n",
      "EVAL: [0/3] Elapsed 0m 0s (remain 0m 0s) Loss: 0.2532(0.2532) \n"
     ]
    },
    {
     "name": "stderr",
     "output_type": "stream",
     "text": [
      "Epoch 17 - avg_train_loss: 0.1034  avg_val_loss: 0.2383  time: 4s\n",
      "Epoch 17 - Score: 0.2399\n"
     ]
    },
    {
     "name": "stdout",
     "output_type": "stream",
     "text": [
      "EVAL: [2/3] Elapsed 0m 0s (remain 0m 0s) Loss: 0.2786(0.2383) \n",
      "Epoch: [18][0/19] Elapsed 0m 0s (remain 0m 2s) Loss: 0.1475(0.1475) Grad: 13.9494  LR: 0.000224  \n",
      "Epoch: [18][10/19] Elapsed 0m 1s (remain 0m 1s) Loss: 0.1962(0.1706) Grad: 17.8475  LR: 0.000224  \n",
      "Epoch: [18][18/19] Elapsed 0m 2s (remain 0m 0s) Loss: 0.1428(0.1586) Grad: 13.7805  LR: 0.000224  \n",
      "EVAL: [0/3] Elapsed 0m 0s (remain 0m 0s) Loss: 0.2499(0.2499) \n"
     ]
    },
    {
     "name": "stderr",
     "output_type": "stream",
     "text": [
      "Epoch 18 - avg_train_loss: 0.1586  avg_val_loss: 0.2362  time: 4s\n",
      "Epoch 18 - Score: 0.2387\n"
     ]
    },
    {
     "name": "stdout",
     "output_type": "stream",
     "text": [
      "EVAL: [2/3] Elapsed 0m 0s (remain 0m 0s) Loss: 0.2931(0.2362) \n",
      "Epoch: [19][0/19] Elapsed 0m 0s (remain 0m 2s) Loss: 0.1250(0.1250) Grad: 6.7512  LR: 0.000133  \n",
      "Epoch: [19][10/19] Elapsed 0m 1s (remain 0m 1s) Loss: 0.1642(0.1420) Grad: 14.1001  LR: 0.000133  \n",
      "Epoch: [19][18/19] Elapsed 0m 2s (remain 0m 0s) Loss: 0.1502(0.1562) Grad: 4.4690  LR: 0.000133  \n",
      "EVAL: [0/3] Elapsed 0m 0s (remain 0m 0s) Loss: 0.2796(0.2796) \n"
     ]
    },
    {
     "name": "stderr",
     "output_type": "stream",
     "text": [
      "Epoch 19 - avg_train_loss: 0.1562  avg_val_loss: 0.2472  time: 4s\n",
      "Epoch 19 - Score: 0.2505\n"
     ]
    },
    {
     "name": "stdout",
     "output_type": "stream",
     "text": [
      "EVAL: [2/3] Elapsed 0m 0s (remain 0m 0s) Loss: 0.2865(0.2472) \n",
      "Epoch: [20][0/19] Elapsed 0m 0s (remain 0m 2s) Loss: 0.1905(0.1905) Grad: 8.5354  LR: 0.000057  \n",
      "Epoch: [20][10/19] Elapsed 0m 1s (remain 0m 1s) Loss: 0.1089(0.1456) Grad: 7.8387  LR: 0.000057  \n",
      "Epoch: [20][18/19] Elapsed 0m 2s (remain 0m 0s) Loss: 0.1396(0.1425) Grad: 6.9756  LR: 0.000057  \n",
      "EVAL: [0/3] Elapsed 0m 0s (remain 0m 0s) Loss: 0.2438(0.2438) \n"
     ]
    },
    {
     "name": "stderr",
     "output_type": "stream",
     "text": [
      "Epoch 20 - avg_train_loss: 0.1425  avg_val_loss: 0.2298  time: 4s\n",
      "Epoch 20 - Score: 0.2321\n"
     ]
    },
    {
     "name": "stdout",
     "output_type": "stream",
     "text": [
      "EVAL: [2/3] Elapsed 0m 0s (remain 0m 0s) Loss: 0.2820(0.2298) \n",
      "Epoch: [21][0/19] Elapsed 0m 0s (remain 0m 2s) Loss: 0.1471(0.1471) Grad: 5.3923  LR: 0.000009  \n",
      "Epoch: [21][10/19] Elapsed 0m 1s (remain 0m 1s) Loss: 0.1870(0.1236) Grad: 18.4834  LR: 0.000009  \n",
      "Epoch: [21][18/19] Elapsed 0m 2s (remain 0m 0s) Loss: 0.1642(0.1215) Grad: 16.3131  LR: 0.000009  \n",
      "EVAL: [0/3] Elapsed 0m 0s (remain 0m 0s) Loss: 0.2127(0.2127) \n"
     ]
    },
    {
     "name": "stderr",
     "output_type": "stream",
     "text": [
      "Epoch 21 - avg_train_loss: 0.1215  avg_val_loss: 0.2214  time: 4s\n",
      "Epoch 21 - Score: 0.2253\n"
     ]
    },
    {
     "name": "stdout",
     "output_type": "stream",
     "text": [
      "EVAL: [2/3] Elapsed 0m 0s (remain 0m 0s) Loss: 0.3119(0.2214) \n",
      "Epoch: [22][0/19] Elapsed 0m 0s (remain 0m 2s) Loss: 0.1400(0.1400) Grad: 9.5013  LR: 0.000001  \n",
      "Epoch: [22][10/19] Elapsed 0m 1s (remain 0m 1s) Loss: 0.0814(0.0957) Grad: 9.9024  LR: 0.000001  \n",
      "Epoch: [22][18/19] Elapsed 0m 2s (remain 0m 0s) Loss: 0.0963(0.0947) Grad: 5.2745  LR: 0.000001  \n",
      "EVAL: [0/3] Elapsed 0m 0s (remain 0m 0s) Loss: 0.2240(0.2240) \n"
     ]
    },
    {
     "name": "stderr",
     "output_type": "stream",
     "text": [
      "Epoch 22 - avg_train_loss: 0.0947  avg_val_loss: 0.2224  time: 4s\n",
      "Epoch 22 - Score: 0.2278\n"
     ]
    },
    {
     "name": "stdout",
     "output_type": "stream",
     "text": [
      "EVAL: [2/3] Elapsed 0m 0s (remain 0m 0s) Loss: 0.3226(0.2224) \n",
      "Epoch: [23][0/19] Elapsed 0m 0s (remain 0m 2s) Loss: 0.0882(0.0882) Grad: 6.7131  LR: 0.000050  \n",
      "Epoch: [23][10/19] Elapsed 0m 1s (remain 0m 1s) Loss: 0.1146(0.0897) Grad: 8.1954  LR: 0.000050  \n",
      "Epoch: [23][18/19] Elapsed 0m 2s (remain 0m 0s) Loss: 0.1111(0.0931) Grad: 11.3150  LR: 0.000050  \n",
      "EVAL: [0/3] Elapsed 0m 0s (remain 0m 0s) Loss: 0.2059(0.2059) \n"
     ]
    },
    {
     "name": "stderr",
     "output_type": "stream",
     "text": [
      "Epoch 23 - avg_train_loss: 0.0931  avg_val_loss: 0.2199  time: 4s\n",
      "Epoch 23 - Score: 0.2231\n"
     ]
    },
    {
     "name": "stdout",
     "output_type": "stream",
     "text": [
      "EVAL: [2/3] Elapsed 0m 0s (remain 0m 0s) Loss: 0.3029(0.2199) \n",
      "Epoch: [24][0/19] Elapsed 0m 0s (remain 0m 2s) Loss: 0.0957(0.0957) Grad: 7.2176  LR: 0.000224  \n",
      "Epoch: [24][10/19] Elapsed 0m 1s (remain 0m 1s) Loss: 0.0952(0.1104) Grad: 4.7469  LR: 0.000224  \n",
      "Epoch: [24][18/19] Elapsed 0m 2s (remain 0m 0s) Loss: 0.1048(0.1126) Grad: 3.4170  LR: 0.000224  \n",
      "EVAL: [0/3] Elapsed 0m 0s (remain 0m 0s) Loss: 0.2140(0.2140) \n"
     ]
    },
    {
     "name": "stderr",
     "output_type": "stream",
     "text": [
      "Epoch 24 - avg_train_loss: 0.1126  avg_val_loss: 0.2165  time: 4s\n",
      "Epoch 24 - Score: 0.2178\n",
      "Epoch 24 - Save Best Score: 0.2178 Model\n"
     ]
    },
    {
     "name": "stdout",
     "output_type": "stream",
     "text": [
      "EVAL: [2/3] Elapsed 0m 0s (remain 0m 0s) Loss: 0.2663(0.2165) \n",
      "Epoch: [25][0/19] Elapsed 0m 0s (remain 0m 2s) Loss: 0.0862(0.0862) Grad: 7.5099  LR: 0.000133  \n",
      "Epoch: [25][10/19] Elapsed 0m 1s (remain 0m 1s) Loss: 0.2916(0.1689) Grad: 19.5156  LR: 0.000133  \n",
      "Epoch: [25][18/19] Elapsed 0m 2s (remain 0m 0s) Loss: 0.2246(0.1827) Grad: 21.3008  LR: 0.000133  \n",
      "EVAL: [0/3] Elapsed 0m 0s (remain 0m 0s) Loss: 0.3109(0.3109) \n"
     ]
    },
    {
     "name": "stderr",
     "output_type": "stream",
     "text": [
      "Epoch 25 - avg_train_loss: 0.1827  avg_val_loss: 0.3082  time: 4s\n",
      "Epoch 25 - Score: 0.3083\n"
     ]
    },
    {
     "name": "stdout",
     "output_type": "stream",
     "text": [
      "EVAL: [2/3] Elapsed 0m 0s (remain 0m 0s) Loss: 0.3230(0.3082) \n",
      "Epoch: [26][0/19] Elapsed 0m 0s (remain 0m 2s) Loss: 0.2199(0.2199) Grad: 18.3190  LR: 0.000057  \n",
      "Epoch: [26][10/19] Elapsed 0m 1s (remain 0m 1s) Loss: 0.1563(0.1614) Grad: 6.5507  LR: 0.000057  \n",
      "Epoch: [26][18/19] Elapsed 0m 2s (remain 0m 0s) Loss: 0.1648(0.1554) Grad: 10.4053  LR: 0.000057  \n",
      "EVAL: [0/3] Elapsed 0m 0s (remain 0m 0s) Loss: 0.2757(0.2757) \n"
     ]
    },
    {
     "name": "stderr",
     "output_type": "stream",
     "text": [
      "Epoch 26 - avg_train_loss: 0.1554  avg_val_loss: 0.2533  time: 4s\n",
      "Epoch 26 - Score: 0.2547\n"
     ]
    },
    {
     "name": "stdout",
     "output_type": "stream",
     "text": [
      "EVAL: [2/3] Elapsed 0m 0s (remain 0m 0s) Loss: 0.2774(0.2533) \n",
      "Epoch: [27][0/19] Elapsed 0m 0s (remain 0m 2s) Loss: 0.1696(0.1696) Grad: 17.4235  LR: 0.000009  \n",
      "Epoch: [27][10/19] Elapsed 0m 1s (remain 0m 1s) Loss: 0.0776(0.1225) Grad: 7.3061  LR: 0.000009  \n",
      "Epoch: [27][18/19] Elapsed 0m 2s (remain 0m 0s) Loss: 0.0956(0.1132) Grad: 11.4394  LR: 0.000009  \n",
      "EVAL: [0/3] Elapsed 0m 0s (remain 0m 0s) Loss: 0.2159(0.2159) \n"
     ]
    },
    {
     "name": "stderr",
     "output_type": "stream",
     "text": [
      "Epoch 27 - avg_train_loss: 0.1132  avg_val_loss: 0.2159  time: 4s\n",
      "Epoch 27 - Score: 0.2169\n",
      "Epoch 27 - Save Best Score: 0.2169 Model\n"
     ]
    },
    {
     "name": "stdout",
     "output_type": "stream",
     "text": [
      "EVAL: [2/3] Elapsed 0m 0s (remain 0m 0s) Loss: 0.2605(0.2159) \n",
      "Epoch: [28][0/19] Elapsed 0m 0s (remain 0m 2s) Loss: 0.0937(0.0937) Grad: 2.7401  LR: 0.000001  \n",
      "Epoch: [28][10/19] Elapsed 0m 1s (remain 0m 1s) Loss: 0.0642(0.1017) Grad: 4.3996  LR: 0.000001  \n",
      "Epoch: [28][18/19] Elapsed 0m 2s (remain 0m 0s) Loss: 0.0807(0.0907) Grad: 4.0050  LR: 0.000001  \n",
      "EVAL: [0/3] Elapsed 0m 0s (remain 0m 0s) Loss: 0.2131(0.2131) \n"
     ]
    },
    {
     "name": "stderr",
     "output_type": "stream",
     "text": [
      "Epoch 28 - avg_train_loss: 0.0907  avg_val_loss: 0.2136  time: 4s\n",
      "Epoch 28 - Score: 0.2158\n",
      "Epoch 28 - Save Best Score: 0.2158 Model\n"
     ]
    },
    {
     "name": "stdout",
     "output_type": "stream",
     "text": [
      "EVAL: [2/3] Elapsed 0m 0s (remain 0m 0s) Loss: 0.2771(0.2136) \n",
      "Epoch: [29][0/19] Elapsed 0m 0s (remain 0m 2s) Loss: 0.0769(0.0769) Grad: 3.5407  LR: 0.000050  \n",
      "Epoch: [29][10/19] Elapsed 0m 1s (remain 0m 1s) Loss: 0.0829(0.0960) Grad: 12.1665  LR: 0.000050  \n",
      "Epoch: [29][18/19] Elapsed 0m 2s (remain 0m 0s) Loss: 0.0629(0.0932) Grad: 4.8743  LR: 0.000050  \n",
      "EVAL: [0/3] Elapsed 0m 0s (remain 0m 0s) Loss: 0.2088(0.2088) \n"
     ]
    },
    {
     "name": "stderr",
     "output_type": "stream",
     "text": [
      "Epoch 29 - avg_train_loss: 0.0932  avg_val_loss: 0.2082  time: 4s\n",
      "Epoch 29 - Score: 0.2106\n",
      "Epoch 29 - Save Best Score: 0.2106 Model\n"
     ]
    },
    {
     "name": "stdout",
     "output_type": "stream",
     "text": [
      "EVAL: [2/3] Elapsed 0m 0s (remain 0m 0s) Loss: 0.2723(0.2082) \n",
      "Epoch: [30][0/19] Elapsed 0m 0s (remain 0m 2s) Loss: 0.0874(0.0874) Grad: 3.9573  LR: 0.000224  \n",
      "Epoch: [30][10/19] Elapsed 0m 1s (remain 0m 1s) Loss: 0.1511(0.1119) Grad: 8.3324  LR: 0.000224  \n",
      "Epoch: [30][18/19] Elapsed 0m 2s (remain 0m 0s) Loss: 0.1119(0.1228) Grad: 14.0368  LR: 0.000224  \n",
      "EVAL: [0/3] Elapsed 0m 0s (remain 0m 0s) Loss: 0.2486(0.2486) \n"
     ]
    },
    {
     "name": "stderr",
     "output_type": "stream",
     "text": [
      "Epoch 30 - avg_train_loss: 0.1228  avg_val_loss: 0.2309  time: 4s\n",
      "Epoch 30 - Score: 0.2343\n"
     ]
    },
    {
     "name": "stdout",
     "output_type": "stream",
     "text": [
      "EVAL: [2/3] Elapsed 0m 0s (remain 0m 0s) Loss: 0.2942(0.2309) \n",
      "Epoch: [31][0/19] Elapsed 0m 0s (remain 0m 2s) Loss: 0.1473(0.1473) Grad: 15.6184  LR: 0.000133  \n",
      "Epoch: [31][10/19] Elapsed 0m 1s (remain 0m 1s) Loss: 0.2396(0.1845) Grad: 19.4276  LR: 0.000133  \n",
      "Epoch: [31][18/19] Elapsed 0m 2s (remain 0m 0s) Loss: 0.1098(0.1710) Grad: 4.4222  LR: 0.000133  \n",
      "EVAL: [0/3] Elapsed 0m 0s (remain 0m 0s) Loss: 0.3036(0.3036) \n"
     ]
    },
    {
     "name": "stderr",
     "output_type": "stream",
     "text": [
      "Epoch 31 - avg_train_loss: 0.1710  avg_val_loss: 0.2801  time: 4s\n",
      "Epoch 31 - Score: 0.2808\n"
     ]
    },
    {
     "name": "stdout",
     "output_type": "stream",
     "text": [
      "EVAL: [2/3] Elapsed 0m 0s (remain 0m 0s) Loss: 0.2572(0.2801) \n",
      "Epoch: [32][0/19] Elapsed 0m 0s (remain 0m 2s) Loss: 0.2068(0.2068) Grad: 20.8471  LR: 0.000057  \n",
      "Epoch: [32][10/19] Elapsed 0m 1s (remain 0m 1s) Loss: 0.0967(0.1548) Grad: 5.2529  LR: 0.000057  \n",
      "Epoch: [32][18/19] Elapsed 0m 2s (remain 0m 0s) Loss: 0.2200(0.1682) Grad: 18.4932  LR: 0.000057  \n",
      "EVAL: [0/3] Elapsed 0m 0s (remain 0m 0s) Loss: 0.2702(0.2702) \n"
     ]
    },
    {
     "name": "stderr",
     "output_type": "stream",
     "text": [
      "Epoch 32 - avg_train_loss: 0.1682  avg_val_loss: 0.2462  time: 4s\n",
      "Epoch 32 - Score: 0.2486\n"
     ]
    },
    {
     "name": "stdout",
     "output_type": "stream",
     "text": [
      "EVAL: [2/3] Elapsed 0m 0s (remain 0m 0s) Loss: 0.2865(0.2462) \n",
      "Epoch: [33][0/19] Elapsed 0m 0s (remain 0m 2s) Loss: 0.1237(0.1237) Grad: 13.5362  LR: 0.000009  \n",
      "Epoch: [33][10/19] Elapsed 0m 1s (remain 0m 1s) Loss: 0.1073(0.1119) Grad: 11.1331  LR: 0.000009  \n",
      "Epoch: [33][18/19] Elapsed 0m 2s (remain 0m 0s) Loss: 0.1247(0.1097) Grad: 3.8279  LR: 0.000009  \n",
      "EVAL: [0/3] Elapsed 0m 0s (remain 0m 0s) Loss: 0.2146(0.2146) \n"
     ]
    },
    {
     "name": "stderr",
     "output_type": "stream",
     "text": [
      "Epoch 33 - avg_train_loss: 0.1097  avg_val_loss: 0.2125  time: 4s\n",
      "Epoch 33 - Score: 0.2155\n"
     ]
    },
    {
     "name": "stdout",
     "output_type": "stream",
     "text": [
      "EVAL: [2/3] Elapsed 0m 0s (remain 0m 0s) Loss: 0.2848(0.2125) \n",
      "Epoch: [34][0/19] Elapsed 0m 0s (remain 0m 2s) Loss: 0.0721(0.0721) Grad: 6.3508  LR: 0.000001  \n",
      "Epoch: [34][10/19] Elapsed 0m 1s (remain 0m 1s) Loss: 0.0914(0.0784) Grad: 6.8379  LR: 0.000001  \n",
      "Epoch: [34][18/19] Elapsed 0m 2s (remain 0m 0s) Loss: 0.0748(0.0808) Grad: 5.5975  LR: 0.000001  \n",
      "EVAL: [0/3] Elapsed 0m 0s (remain 0m 0s) Loss: 0.2051(0.2051) \n"
     ]
    },
    {
     "name": "stderr",
     "output_type": "stream",
     "text": [
      "Epoch 34 - avg_train_loss: 0.0808  avg_val_loss: 0.2052  time: 4s\n",
      "Epoch 34 - Score: 0.2088\n",
      "Epoch 34 - Save Best Score: 0.2088 Model\n"
     ]
    },
    {
     "name": "stdout",
     "output_type": "stream",
     "text": [
      "EVAL: [2/3] Elapsed 0m 0s (remain 0m 0s) Loss: 0.2847(0.2052) \n",
      "Epoch: [35][0/19] Elapsed 0m 0s (remain 0m 2s) Loss: 0.0822(0.0822) Grad: 3.3406  LR: 0.000050  \n",
      "Epoch: [35][10/19] Elapsed 0m 1s (remain 0m 1s) Loss: 0.0881(0.0858) Grad: 13.4573  LR: 0.000050  \n",
      "Epoch: [35][18/19] Elapsed 0m 2s (remain 0m 0s) Loss: 0.0915(0.0870) Grad: 11.7281  LR: 0.000050  \n",
      "EVAL: [0/3] Elapsed 0m 0s (remain 0m 0s) Loss: 0.2196(0.2196) \n"
     ]
    },
    {
     "name": "stderr",
     "output_type": "stream",
     "text": [
      "Epoch 35 - avg_train_loss: 0.0870  avg_val_loss: 0.2102  time: 4s\n",
      "Epoch 35 - Score: 0.2140\n"
     ]
    },
    {
     "name": "stdout",
     "output_type": "stream",
     "text": [
      "EVAL: [2/3] Elapsed 0m 0s (remain 0m 0s) Loss: 0.2848(0.2102) \n",
      "Epoch: [36][0/19] Elapsed 0m 0s (remain 0m 2s) Loss: 0.0758(0.0758) Grad: 5.0444  LR: 0.000224  \n",
      "Epoch: [36][10/19] Elapsed 0m 1s (remain 0m 1s) Loss: 0.0844(0.0981) Grad: 6.2729  LR: 0.000224  \n",
      "Epoch: [36][18/19] Elapsed 0m 2s (remain 0m 0s) Loss: 0.1013(0.0990) Grad: 6.6717  LR: 0.000224  \n",
      "EVAL: [0/3] Elapsed 0m 0s (remain 0m 0s) Loss: 0.2402(0.2402) \n"
     ]
    },
    {
     "name": "stderr",
     "output_type": "stream",
     "text": [
      "Epoch 36 - avg_train_loss: 0.0990  avg_val_loss: 0.2271  time: 4s\n",
      "Epoch 36 - Score: 0.2296\n"
     ]
    },
    {
     "name": "stdout",
     "output_type": "stream",
     "text": [
      "EVAL: [2/3] Elapsed 0m 0s (remain 0m 0s) Loss: 0.2833(0.2271) \n",
      "Epoch: [37][0/19] Elapsed 0m 0s (remain 0m 2s) Loss: 0.1237(0.1237) Grad: 12.0695  LR: 0.000133  \n",
      "Epoch: [37][10/19] Elapsed 0m 1s (remain 0m 1s) Loss: 0.0827(0.1318) Grad: 9.1564  LR: 0.000133  \n",
      "Epoch: [37][18/19] Elapsed 0m 2s (remain 0m 0s) Loss: 0.0946(0.1331) Grad: 3.2885  LR: 0.000133  \n",
      "EVAL: [0/3] Elapsed 0m 0s (remain 0m 0s) Loss: 0.2156(0.2156) \n"
     ]
    },
    {
     "name": "stderr",
     "output_type": "stream",
     "text": [
      "Epoch 37 - avg_train_loss: 0.1331  avg_val_loss: 0.2185  time: 4s\n",
      "Epoch 37 - Score: 0.2214\n"
     ]
    },
    {
     "name": "stdout",
     "output_type": "stream",
     "text": [
      "EVAL: [2/3] Elapsed 0m 0s (remain 0m 0s) Loss: 0.2933(0.2185) \n",
      "Epoch: [38][0/19] Elapsed 0m 0s (remain 0m 2s) Loss: 0.1085(0.1085) Grad: 10.2139  LR: 0.000057  \n",
      "Epoch: [38][10/19] Elapsed 0m 1s (remain 0m 1s) Loss: 0.1103(0.1131) Grad: 13.5328  LR: 0.000057  \n",
      "Epoch: [38][18/19] Elapsed 0m 2s (remain 0m 0s) Loss: 0.1302(0.1166) Grad: 12.1885  LR: 0.000057  \n",
      "EVAL: [0/3] Elapsed 0m 0s (remain 0m 0s) Loss: 0.2130(0.2130) \n"
     ]
    },
    {
     "name": "stderr",
     "output_type": "stream",
     "text": [
      "Epoch 38 - avg_train_loss: 0.1166  avg_val_loss: 0.2239  time: 4s\n",
      "Epoch 38 - Score: 0.2258\n"
     ]
    },
    {
     "name": "stdout",
     "output_type": "stream",
     "text": [
      "EVAL: [2/3] Elapsed 0m 0s (remain 0m 0s) Loss: 0.2881(0.2239) \n",
      "Epoch: [39][0/19] Elapsed 0m 0s (remain 0m 2s) Loss: 0.1092(0.1092) Grad: 4.6303  LR: 0.000009  \n",
      "Epoch: [39][10/19] Elapsed 0m 1s (remain 0m 1s) Loss: 0.0850(0.0899) Grad: 9.0792  LR: 0.000009  \n",
      "Epoch: [39][18/19] Elapsed 0m 2s (remain 0m 0s) Loss: 0.0911(0.0899) Grad: 7.4491  LR: 0.000009  \n",
      "EVAL: [0/3] Elapsed 0m 0s (remain 0m 0s) Loss: 0.2024(0.2024) \n"
     ]
    },
    {
     "name": "stderr",
     "output_type": "stream",
     "text": [
      "Epoch 39 - avg_train_loss: 0.0899  avg_val_loss: 0.2037  time: 4s\n",
      "Epoch 39 - Score: 0.2071\n",
      "Epoch 39 - Save Best Score: 0.2071 Model\n"
     ]
    },
    {
     "name": "stdout",
     "output_type": "stream",
     "text": [
      "EVAL: [2/3] Elapsed 0m 0s (remain 0m 0s) Loss: 0.2819(0.2037) \n",
      "Epoch: [40][0/19] Elapsed 0m 0s (remain 0m 2s) Loss: 0.0625(0.0625) Grad: 4.6040  LR: 0.000001  \n",
      "Epoch: [40][10/19] Elapsed 0m 1s (remain 0m 1s) Loss: 0.0858(0.0764) Grad: 2.8999  LR: 0.000001  \n",
      "Epoch: [40][18/19] Elapsed 0m 2s (remain 0m 0s) Loss: 0.0778(0.0756) Grad: 5.1425  LR: 0.000001  \n",
      "EVAL: [0/3] Elapsed 0m 0s (remain 0m 0s) Loss: 0.2035(0.2035) \n"
     ]
    },
    {
     "name": "stderr",
     "output_type": "stream",
     "text": [
      "Epoch 40 - avg_train_loss: 0.0756  avg_val_loss: 0.2003  time: 4s\n",
      "Epoch 40 - Score: 0.2040\n",
      "Epoch 40 - Save Best Score: 0.2040 Model\n"
     ]
    },
    {
     "name": "stdout",
     "output_type": "stream",
     "text": [
      "EVAL: [2/3] Elapsed 0m 0s (remain 0m 0s) Loss: 0.2770(0.2003) \n"
     ]
    },
    {
     "name": "stderr",
     "output_type": "stream",
     "text": [
      "========== fold: 1 result ==========\n",
      "Score: 0.2040\n",
      "========== fold: 2 training ==========\n"
     ]
    },
    {
     "name": "stdout",
     "output_type": "stream",
     "text": [
      "Epoch: [1][0/19] Elapsed 0m 0s (remain 0m 2s) Loss: 3.4616(3.4616) Grad: 28.1765  LR: 0.000100  \n",
      "Epoch: [1][10/19] Elapsed 0m 1s (remain 0m 1s) Loss: 0.7572(1.3565) Grad: 28.7008  LR: 0.000100  \n",
      "Epoch: [1][18/19] Elapsed 0m 2s (remain 0m 0s) Loss: 0.8393(1.0852) Grad: 32.7590  LR: 0.000100  \n",
      "EVAL: [0/3] Elapsed 0m 0s (remain 0m 0s) Loss: 0.6957(0.6957) \n"
     ]
    },
    {
     "name": "stderr",
     "output_type": "stream",
     "text": [
      "Epoch 1 - avg_train_loss: 1.0852  avg_val_loss: 0.7354  time: 4s\n",
      "Epoch 1 - Score: 0.7368\n",
      "Epoch 1 - Save Best Score: 0.7368 Model\n"
     ]
    },
    {
     "name": "stdout",
     "output_type": "stream",
     "text": [
      "EVAL: [2/3] Elapsed 0m 0s (remain 0m 0s) Loss: 0.7021(0.7354) \n",
      "Epoch: [2][0/19] Elapsed 0m 0s (remain 0m 2s) Loss: 0.7900(0.7900) Grad: 34.9926  LR: 0.000057  \n",
      "Epoch: [2][10/19] Elapsed 0m 1s (remain 0m 1s) Loss: 0.4070(0.5467) Grad: 6.1062  LR: 0.000057  \n",
      "Epoch: [2][18/19] Elapsed 0m 2s (remain 0m 0s) Loss: 0.5507(0.5013) Grad: 21.2121  LR: 0.000057  \n",
      "EVAL: [0/3] Elapsed 0m 0s (remain 0m 0s) Loss: 0.5267(0.5267) \n"
     ]
    },
    {
     "name": "stderr",
     "output_type": "stream",
     "text": [
      "Epoch 2 - avg_train_loss: 0.5013  avg_val_loss: 0.5121  time: 4s\n",
      "Epoch 2 - Score: 0.5123\n",
      "Epoch 2 - Save Best Score: 0.5123 Model\n"
     ]
    },
    {
     "name": "stdout",
     "output_type": "stream",
     "text": [
      "EVAL: [2/3] Elapsed 0m 0s (remain 0m 0s) Loss: 0.5075(0.5121) \n",
      "Epoch: [3][0/19] Elapsed 0m 0s (remain 0m 2s) Loss: 0.4702(0.4702) Grad: 22.2836  LR: 0.000009  \n",
      "Epoch: [3][10/19] Elapsed 0m 1s (remain 0m 1s) Loss: 0.3497(0.3668) Grad: 18.4705  LR: 0.000009  \n",
      "Epoch: [3][18/19] Elapsed 0m 2s (remain 0m 0s) Loss: 0.3702(0.3665) Grad: 13.7036  LR: 0.000009  \n",
      "EVAL: [0/3] Elapsed 0m 0s (remain 0m 0s) Loss: 0.3346(0.3346) \n"
     ]
    },
    {
     "name": "stderr",
     "output_type": "stream",
     "text": [
      "Epoch 3 - avg_train_loss: 0.3665  avg_val_loss: 0.3738  time: 4s\n",
      "Epoch 3 - Score: 0.3759\n",
      "Epoch 3 - Save Best Score: 0.3759 Model\n"
     ]
    },
    {
     "name": "stdout",
     "output_type": "stream",
     "text": [
      "EVAL: [2/3] Elapsed 0m 0s (remain 0m 0s) Loss: 0.3580(0.3738) \n",
      "Epoch: [4][0/19] Elapsed 0m 0s (remain 0m 2s) Loss: 0.2684(0.2684) Grad: 10.6750  LR: 0.000001  \n",
      "Epoch: [4][10/19] Elapsed 0m 1s (remain 0m 1s) Loss: 0.2719(0.3239) Grad: 8.4461  LR: 0.000001  \n",
      "Epoch: [4][18/19] Elapsed 0m 2s (remain 0m 0s) Loss: 0.2253(0.3059) Grad: 8.6391  LR: 0.000001  \n",
      "EVAL: [0/3] Elapsed 0m 0s (remain 0m 0s) Loss: 0.3537(0.3537) \n"
     ]
    },
    {
     "name": "stderr",
     "output_type": "stream",
     "text": [
      "Epoch 4 - avg_train_loss: 0.3059  avg_val_loss: 0.3483  time: 4s\n",
      "Epoch 4 - Score: 0.3484\n",
      "Epoch 4 - Save Best Score: 0.3484 Model\n"
     ]
    },
    {
     "name": "stdout",
     "output_type": "stream",
     "text": [
      "EVAL: [2/3] Elapsed 0m 0s (remain 0m 0s) Loss: 0.3283(0.3483) \n",
      "Epoch: [5][0/19] Elapsed 0m 0s (remain 0m 2s) Loss: 0.2734(0.2734) Grad: 4.9702  LR: 0.000050  \n",
      "Epoch: [5][10/19] Elapsed 0m 1s (remain 0m 1s) Loss: 0.3505(0.3065) Grad: 3.2167  LR: 0.000050  \n",
      "Epoch: [5][18/19] Elapsed 0m 2s (remain 0m 0s) Loss: 0.2672(0.2999) Grad: 10.3329  LR: 0.000050  \n",
      "EVAL: [0/3] Elapsed 0m 0s (remain 0m 0s) Loss: 0.2754(0.2754) \n"
     ]
    },
    {
     "name": "stderr",
     "output_type": "stream",
     "text": [
      "Epoch 5 - avg_train_loss: 0.2999  avg_val_loss: 0.3031  time: 4s\n",
      "Epoch 5 - Score: 0.3040\n",
      "Epoch 5 - Save Best Score: 0.3040 Model\n"
     ]
    },
    {
     "name": "stdout",
     "output_type": "stream",
     "text": [
      "EVAL: [2/3] Elapsed 0m 0s (remain 0m 0s) Loss: 0.3132(0.3031) \n",
      "Epoch: [6][0/19] Elapsed 0m 0s (remain 0m 2s) Loss: 0.2373(0.2373) Grad: 6.9798  LR: 0.000224  \n",
      "Epoch: [6][10/19] Elapsed 0m 1s (remain 0m 1s) Loss: 0.2816(0.2674) Grad: 6.8725  LR: 0.000224  \n",
      "Epoch: [6][18/19] Elapsed 0m 2s (remain 0m 0s) Loss: 0.3187(0.3012) Grad: 9.2207  LR: 0.000224  \n",
      "EVAL: [0/3] Elapsed 0m 0s (remain 0m 0s) Loss: 0.3348(0.3348) \n"
     ]
    },
    {
     "name": "stderr",
     "output_type": "stream",
     "text": [
      "Epoch 6 - avg_train_loss: 0.3012  avg_val_loss: 0.3373  time: 4s\n",
      "Epoch 6 - Score: 0.3378\n"
     ]
    },
    {
     "name": "stdout",
     "output_type": "stream",
     "text": [
      "EVAL: [2/3] Elapsed 0m 0s (remain 0m 0s) Loss: 0.3022(0.3373) \n",
      "Epoch: [7][0/19] Elapsed 0m 0s (remain 0m 2s) Loss: 0.2264(0.2264) Grad: 20.8004  LR: 0.000133  \n",
      "Epoch: [7][10/19] Elapsed 0m 1s (remain 0m 1s) Loss: 0.2552(0.2433) Grad: 22.0243  LR: 0.000133  \n",
      "Epoch: [7][18/19] Elapsed 0m 2s (remain 0m 0s) Loss: 0.3448(0.2894) Grad: 25.0461  LR: 0.000133  \n",
      "EVAL: [0/3] Elapsed 0m 0s (remain 0m 0s) Loss: 0.2799(0.2799) \n"
     ]
    },
    {
     "name": "stderr",
     "output_type": "stream",
     "text": [
      "Epoch 7 - avg_train_loss: 0.2894  avg_val_loss: 0.2879  time: 4s\n",
      "Epoch 7 - Score: 0.2880\n",
      "Epoch 7 - Save Best Score: 0.2880 Model\n"
     ]
    },
    {
     "name": "stdout",
     "output_type": "stream",
     "text": [
      "EVAL: [2/3] Elapsed 0m 0s (remain 0m 0s) Loss: 0.3006(0.2879) \n",
      "Epoch: [8][0/19] Elapsed 0m 0s (remain 0m 2s) Loss: 0.1920(0.1920) Grad: 3.4567  LR: 0.000057  \n",
      "Epoch: [8][10/19] Elapsed 0m 1s (remain 0m 1s) Loss: 0.2081(0.2339) Grad: 19.1600  LR: 0.000057  \n",
      "Epoch: [8][18/19] Elapsed 0m 2s (remain 0m 0s) Loss: 0.2277(0.2237) Grad: 19.3792  LR: 0.000057  \n",
      "EVAL: [0/3] Elapsed 0m 0s (remain 0m 0s) Loss: 0.2734(0.2734) \n"
     ]
    },
    {
     "name": "stderr",
     "output_type": "stream",
     "text": [
      "Epoch 8 - avg_train_loss: 0.2237  avg_val_loss: 0.2807  time: 4s\n",
      "Epoch 8 - Score: 0.2809\n",
      "Epoch 8 - Save Best Score: 0.2809 Model\n"
     ]
    },
    {
     "name": "stdout",
     "output_type": "stream",
     "text": [
      "EVAL: [2/3] Elapsed 0m 0s (remain 0m 0s) Loss: 0.2708(0.2807) \n",
      "Epoch: [9][0/19] Elapsed 0m 0s (remain 0m 2s) Loss: 0.1878(0.1878) Grad: 21.6931  LR: 0.000009  \n",
      "Epoch: [9][10/19] Elapsed 0m 1s (remain 0m 1s) Loss: 0.1287(0.1770) Grad: 5.7019  LR: 0.000009  \n",
      "Epoch: [9][18/19] Elapsed 0m 2s (remain 0m 0s) Loss: 0.1721(0.1686) Grad: 7.9337  LR: 0.000009  \n",
      "EVAL: [0/3] Elapsed 0m 0s (remain 0m 0s) Loss: 0.2139(0.2139) \n"
     ]
    },
    {
     "name": "stderr",
     "output_type": "stream",
     "text": [
      "Epoch 9 - avg_train_loss: 0.1686  avg_val_loss: 0.2266  time: 4s\n",
      "Epoch 9 - Score: 0.2269\n",
      "Epoch 9 - Save Best Score: 0.2269 Model\n"
     ]
    },
    {
     "name": "stdout",
     "output_type": "stream",
     "text": [
      "EVAL: [2/3] Elapsed 0m 0s (remain 0m 0s) Loss: 0.2455(0.2266) \n",
      "Epoch: [10][0/19] Elapsed 0m 0s (remain 0m 2s) Loss: 0.1135(0.1135) Grad: 12.1440  LR: 0.000001  \n",
      "Epoch: [10][10/19] Elapsed 0m 1s (remain 0m 1s) Loss: 0.1216(0.1393) Grad: 3.5286  LR: 0.000001  \n",
      "Epoch: [10][18/19] Elapsed 0m 2s (remain 0m 0s) Loss: 0.1176(0.1387) Grad: 18.6619  LR: 0.000001  \n",
      "EVAL: [0/3] Elapsed 0m 0s (remain 0m 0s) Loss: 0.2216(0.2216) \n"
     ]
    },
    {
     "name": "stderr",
     "output_type": "stream",
     "text": [
      "Epoch 10 - avg_train_loss: 0.1387  avg_val_loss: 0.2259  time: 4s\n",
      "Epoch 10 - Score: 0.2259\n",
      "Epoch 10 - Save Best Score: 0.2259 Model\n"
     ]
    },
    {
     "name": "stdout",
     "output_type": "stream",
     "text": [
      "EVAL: [2/3] Elapsed 0m 0s (remain 0m 0s) Loss: 0.2249(0.2259) \n",
      "Epoch: [11][0/19] Elapsed 0m 0s (remain 0m 2s) Loss: 0.1130(0.1130) Grad: 3.6895  LR: 0.000050  \n",
      "Epoch: [11][10/19] Elapsed 0m 1s (remain 0m 1s) Loss: 0.1522(0.1470) Grad: 17.5021  LR: 0.000050  \n",
      "Epoch: [11][18/19] Elapsed 0m 2s (remain 0m 0s) Loss: 0.1178(0.1487) Grad: 14.8268  LR: 0.000050  \n",
      "EVAL: [0/3] Elapsed 0m 0s (remain 0m 0s) Loss: 0.2009(0.2009) \n"
     ]
    },
    {
     "name": "stderr",
     "output_type": "stream",
     "text": [
      "Epoch 11 - avg_train_loss: 0.1487  avg_val_loss: 0.2271  time: 4s\n",
      "Epoch 11 - Score: 0.2287\n"
     ]
    },
    {
     "name": "stdout",
     "output_type": "stream",
     "text": [
      "EVAL: [2/3] Elapsed 0m 0s (remain 0m 0s) Loss: 0.2752(0.2271) \n",
      "Epoch: [12][0/19] Elapsed 0m 0s (remain 0m 2s) Loss: 0.1277(0.1277) Grad: 11.3989  LR: 0.000224  \n",
      "Epoch: [12][10/19] Elapsed 0m 1s (remain 0m 1s) Loss: 0.1742(0.1568) Grad: 11.3790  LR: 0.000224  \n",
      "Epoch: [12][18/19] Elapsed 0m 2s (remain 0m 0s) Loss: 0.1252(0.1535) Grad: 5.2921  LR: 0.000224  \n",
      "EVAL: [0/3] Elapsed 0m 0s (remain 0m 0s) Loss: 0.2616(0.2616) \n"
     ]
    },
    {
     "name": "stderr",
     "output_type": "stream",
     "text": [
      "Epoch 12 - avg_train_loss: 0.1535  avg_val_loss: 0.2540  time: 4s\n",
      "Epoch 12 - Score: 0.2541\n"
     ]
    },
    {
     "name": "stdout",
     "output_type": "stream",
     "text": [
      "EVAL: [2/3] Elapsed 0m 0s (remain 0m 0s) Loss: 0.2432(0.2540) \n",
      "Epoch: [13][0/19] Elapsed 0m 0s (remain 0m 2s) Loss: 0.1628(0.1628) Grad: 16.1617  LR: 0.000133  \n",
      "Epoch: [13][10/19] Elapsed 0m 1s (remain 0m 1s) Loss: 0.1515(0.1794) Grad: 3.3476  LR: 0.000133  \n",
      "Epoch: [13][18/19] Elapsed 0m 2s (remain 0m 0s) Loss: 0.2092(0.1799) Grad: 4.5292  LR: 0.000133  \n",
      "EVAL: [0/3] Elapsed 0m 0s (remain 0m 0s) Loss: 0.2639(0.2639) \n"
     ]
    },
    {
     "name": "stderr",
     "output_type": "stream",
     "text": [
      "Epoch 13 - avg_train_loss: 0.1799  avg_val_loss: 0.2689  time: 4s\n",
      "Epoch 13 - Score: 0.2693\n"
     ]
    },
    {
     "name": "stdout",
     "output_type": "stream",
     "text": [
      "EVAL: [2/3] Elapsed 0m 0s (remain 0m 0s) Loss: 0.3015(0.2689) \n",
      "Epoch: [14][0/19] Elapsed 0m 0s (remain 0m 2s) Loss: 0.1732(0.1732) Grad: 10.7661  LR: 0.000057  \n",
      "Epoch: [14][10/19] Elapsed 0m 1s (remain 0m 1s) Loss: 0.1421(0.1892) Grad: 6.8080  LR: 0.000057  \n",
      "Epoch: [14][18/19] Elapsed 0m 2s (remain 0m 0s) Loss: 0.1746(0.1838) Grad: 15.3266  LR: 0.000057  \n",
      "EVAL: [0/3] Elapsed 0m 0s (remain 0m 0s) Loss: 0.2243(0.2243) \n"
     ]
    },
    {
     "name": "stderr",
     "output_type": "stream",
     "text": [
      "Epoch 14 - avg_train_loss: 0.1838  avg_val_loss: 0.2177  time: 4s\n",
      "Epoch 14 - Score: 0.2178\n",
      "Epoch 14 - Save Best Score: 0.2178 Model\n"
     ]
    },
    {
     "name": "stdout",
     "output_type": "stream",
     "text": [
      "EVAL: [2/3] Elapsed 0m 0s (remain 0m 0s) Loss: 0.2259(0.2177) \n",
      "Epoch: [15][0/19] Elapsed 0m 0s (remain 0m 2s) Loss: 0.1405(0.1405) Grad: 4.4306  LR: 0.000009  \n",
      "Epoch: [15][10/19] Elapsed 0m 1s (remain 0m 1s) Loss: 0.1266(0.1361) Grad: 3.2580  LR: 0.000009  \n",
      "Epoch: [15][18/19] Elapsed 0m 2s (remain 0m 0s) Loss: 0.1582(0.1351) Grad: 7.5216  LR: 0.000009  \n",
      "EVAL: [0/3] Elapsed 0m 0s (remain 0m 0s) Loss: 0.2411(0.2411) \n"
     ]
    },
    {
     "name": "stderr",
     "output_type": "stream",
     "text": [
      "Epoch 15 - avg_train_loss: 0.1351  avg_val_loss: 0.2375  time: 4s\n",
      "Epoch 15 - Score: 0.2378\n"
     ]
    },
    {
     "name": "stdout",
     "output_type": "stream",
     "text": [
      "EVAL: [2/3] Elapsed 0m 0s (remain 0m 0s) Loss: 0.2145(0.2375) \n",
      "Epoch: [16][0/19] Elapsed 0m 0s (remain 0m 2s) Loss: 0.1514(0.1514) Grad: 19.4802  LR: 0.000001  \n",
      "Epoch: [16][10/19] Elapsed 0m 1s (remain 0m 1s) Loss: 0.0948(0.1338) Grad: 21.3345  LR: 0.000001  \n",
      "Epoch: [16][18/19] Elapsed 0m 2s (remain 0m 0s) Loss: 0.1342(0.1243) Grad: 15.2183  LR: 0.000001  \n",
      "EVAL: [0/3] Elapsed 0m 0s (remain 0m 0s) Loss: 0.2109(0.2109) \n"
     ]
    },
    {
     "name": "stderr",
     "output_type": "stream",
     "text": [
      "Epoch 16 - avg_train_loss: 0.1243  avg_val_loss: 0.2186  time: 4s\n",
      "Epoch 16 - Score: 0.2187\n"
     ]
    },
    {
     "name": "stdout",
     "output_type": "stream",
     "text": [
      "EVAL: [2/3] Elapsed 0m 0s (remain 0m 0s) Loss: 0.2205(0.2186) \n",
      "Epoch: [17][0/19] Elapsed 0m 0s (remain 0m 2s) Loss: 0.1258(0.1258) Grad: 13.3596  LR: 0.000050  \n",
      "Epoch: [17][10/19] Elapsed 0m 1s (remain 0m 1s) Loss: 0.1036(0.1176) Grad: 16.9287  LR: 0.000050  \n",
      "Epoch: [17][18/19] Elapsed 0m 2s (remain 0m 0s) Loss: 0.1119(0.1127) Grad: 12.1909  LR: 0.000050  \n",
      "EVAL: [0/3] Elapsed 0m 0s (remain 0m 0s) Loss: 0.1913(0.1913) \n"
     ]
    },
    {
     "name": "stderr",
     "output_type": "stream",
     "text": [
      "Epoch 17 - avg_train_loss: 0.1127  avg_val_loss: 0.1990  time: 4s\n",
      "Epoch 17 - Score: 0.1996\n",
      "Epoch 17 - Save Best Score: 0.1996 Model\n"
     ]
    },
    {
     "name": "stdout",
     "output_type": "stream",
     "text": [
      "EVAL: [2/3] Elapsed 0m 0s (remain 0m 0s) Loss: 0.2337(0.1990) \n",
      "Epoch: [18][0/19] Elapsed 0m 0s (remain 0m 2s) Loss: 0.1428(0.1428) Grad: 9.2917  LR: 0.000224  \n",
      "Epoch: [18][10/19] Elapsed 0m 1s (remain 0m 1s) Loss: 0.1469(0.1320) Grad: 14.7064  LR: 0.000224  \n",
      "Epoch: [18][18/19] Elapsed 0m 2s (remain 0m 0s) Loss: 0.1214(0.1416) Grad: 4.9991  LR: 0.000224  \n",
      "EVAL: [0/3] Elapsed 0m 0s (remain 0m 0s) Loss: 0.2148(0.2148) \n"
     ]
    },
    {
     "name": "stderr",
     "output_type": "stream",
     "text": [
      "Epoch 18 - avg_train_loss: 0.1416  avg_val_loss: 0.2125  time: 4s\n",
      "Epoch 18 - Score: 0.2126\n"
     ]
    },
    {
     "name": "stdout",
     "output_type": "stream",
     "text": [
      "EVAL: [2/3] Elapsed 0m 0s (remain 0m 0s) Loss: 0.2246(0.2125) \n",
      "Epoch: [19][0/19] Elapsed 0m 0s (remain 0m 2s) Loss: 0.1455(0.1455) Grad: 12.9600  LR: 0.000133  \n",
      "Epoch: [19][10/19] Elapsed 0m 1s (remain 0m 1s) Loss: 0.1779(0.1479) Grad: 22.8817  LR: 0.000133  \n",
      "Epoch: [19][18/19] Elapsed 0m 2s (remain 0m 0s) Loss: 0.2714(0.1705) Grad: 21.7997  LR: 0.000133  \n",
      "EVAL: [0/3] Elapsed 0m 0s (remain 0m 0s) Loss: 0.2719(0.2719) \n"
     ]
    },
    {
     "name": "stderr",
     "output_type": "stream",
     "text": [
      "Epoch 19 - avg_train_loss: 0.1705  avg_val_loss: 0.2684  time: 4s\n",
      "Epoch 19 - Score: 0.2685\n"
     ]
    },
    {
     "name": "stdout",
     "output_type": "stream",
     "text": [
      "EVAL: [2/3] Elapsed 0m 0s (remain 0m 0s) Loss: 0.2697(0.2684) \n",
      "Epoch: [20][0/19] Elapsed 0m 0s (remain 0m 2s) Loss: 0.1866(0.1866) Grad: 16.9066  LR: 0.000057  \n",
      "Epoch: [20][10/19] Elapsed 0m 1s (remain 0m 1s) Loss: 0.2178(0.1995) Grad: 18.4830  LR: 0.000057  \n",
      "Epoch: [20][18/19] Elapsed 0m 2s (remain 0m 0s) Loss: 0.1309(0.1783) Grad: 4.2713  LR: 0.000057  \n",
      "EVAL: [0/3] Elapsed 0m 0s (remain 0m 0s) Loss: 0.2154(0.2154) \n"
     ]
    },
    {
     "name": "stderr",
     "output_type": "stream",
     "text": [
      "Epoch 20 - avg_train_loss: 0.1783  avg_val_loss: 0.2270  time: 4s\n",
      "Epoch 20 - Score: 0.2283\n"
     ]
    },
    {
     "name": "stdout",
     "output_type": "stream",
     "text": [
      "EVAL: [2/3] Elapsed 0m 0s (remain 0m 0s) Loss: 0.2814(0.2270) \n",
      "Epoch: [21][0/19] Elapsed 0m 0s (remain 0m 2s) Loss: 0.1487(0.1487) Grad: 13.1995  LR: 0.000009  \n",
      "Epoch: [21][10/19] Elapsed 0m 1s (remain 0m 1s) Loss: 0.1027(0.1367) Grad: 14.2409  LR: 0.000009  \n",
      "Epoch: [21][18/19] Elapsed 0m 2s (remain 0m 0s) Loss: 0.0906(0.1267) Grad: 8.1301  LR: 0.000009  \n",
      "EVAL: [0/3] Elapsed 0m 0s (remain 0m 0s) Loss: 0.1996(0.1996) \n"
     ]
    },
    {
     "name": "stderr",
     "output_type": "stream",
     "text": [
      "Epoch 21 - avg_train_loss: 0.1267  avg_val_loss: 0.2013  time: 4s\n",
      "Epoch 21 - Score: 0.2018\n"
     ]
    },
    {
     "name": "stdout",
     "output_type": "stream",
     "text": [
      "EVAL: [2/3] Elapsed 0m 0s (remain 0m 0s) Loss: 0.2307(0.2013) \n",
      "Epoch: [22][0/19] Elapsed 0m 0s (remain 0m 2s) Loss: 0.0926(0.0926) Grad: 8.4395  LR: 0.000001  \n",
      "Epoch: [22][10/19] Elapsed 0m 1s (remain 0m 1s) Loss: 0.1022(0.1078) Grad: 3.4054  LR: 0.000001  \n",
      "Epoch: [22][18/19] Elapsed 0m 2s (remain 0m 0s) Loss: 0.1141(0.0990) Grad: 2.9221  LR: 0.000001  \n",
      "EVAL: [0/3] Elapsed 0m 0s (remain 0m 0s) Loss: 0.1926(0.1926) \n"
     ]
    },
    {
     "name": "stderr",
     "output_type": "stream",
     "text": [
      "Epoch 22 - avg_train_loss: 0.0990  avg_val_loss: 0.1952  time: 4s\n",
      "Epoch 22 - Score: 0.1965\n",
      "Epoch 22 - Save Best Score: 0.1965 Model\n"
     ]
    },
    {
     "name": "stdout",
     "output_type": "stream",
     "text": [
      "EVAL: [2/3] Elapsed 0m 0s (remain 0m 0s) Loss: 0.2441(0.1952) \n",
      "Epoch: [23][0/19] Elapsed 0m 0s (remain 0m 2s) Loss: 0.0952(0.0952) Grad: 2.5659  LR: 0.000050  \n",
      "Epoch: [23][10/19] Elapsed 0m 1s (remain 0m 1s) Loss: 0.0645(0.0985) Grad: 3.2289  LR: 0.000050  \n",
      "Epoch: [23][18/19] Elapsed 0m 2s (remain 0m 0s) Loss: 0.0682(0.0976) Grad: 9.3891  LR: 0.000050  \n",
      "EVAL: [0/3] Elapsed 0m 0s (remain 0m 0s) Loss: 0.1849(0.1849) \n"
     ]
    },
    {
     "name": "stderr",
     "output_type": "stream",
     "text": [
      "Epoch 23 - avg_train_loss: 0.0976  avg_val_loss: 0.1873  time: 4s\n",
      "Epoch 23 - Score: 0.1881\n",
      "Epoch 23 - Save Best Score: 0.1881 Model\n"
     ]
    },
    {
     "name": "stdout",
     "output_type": "stream",
     "text": [
      "EVAL: [2/3] Elapsed 0m 0s (remain 0m 0s) Loss: 0.2245(0.1873) \n",
      "Epoch: [24][0/19] Elapsed 0m 0s (remain 0m 2s) Loss: 0.0867(0.0867) Grad: 9.9908  LR: 0.000224  \n",
      "Epoch: [24][10/19] Elapsed 0m 1s (remain 0m 1s) Loss: 0.2945(0.1997) Grad: 24.5624  LR: 0.000224  \n",
      "Epoch: [24][18/19] Elapsed 0m 2s (remain 0m 0s) Loss: 0.1048(0.1782) Grad: 3.3420  LR: 0.000224  \n",
      "EVAL: [0/3] Elapsed 0m 0s (remain 0m 0s) Loss: 0.1967(0.1967) \n"
     ]
    },
    {
     "name": "stderr",
     "output_type": "stream",
     "text": [
      "Epoch 24 - avg_train_loss: 0.1782  avg_val_loss: 0.2056  time: 4s\n",
      "Epoch 24 - Score: 0.2071\n"
     ]
    },
    {
     "name": "stdout",
     "output_type": "stream",
     "text": [
      "EVAL: [2/3] Elapsed 0m 0s (remain 0m 0s) Loss: 0.2594(0.2056) \n",
      "Epoch: [25][0/19] Elapsed 0m 0s (remain 0m 2s) Loss: 0.1356(0.1356) Grad: 11.2052  LR: 0.000133  \n",
      "Epoch: [25][10/19] Elapsed 0m 1s (remain 0m 1s) Loss: 0.2431(0.1873) Grad: 21.1941  LR: 0.000133  \n",
      "Epoch: [25][18/19] Elapsed 0m 2s (remain 0m 0s) Loss: 0.2160(0.1915) Grad: 21.3566  LR: 0.000133  \n",
      "EVAL: [0/3] Elapsed 0m 0s (remain 0m 0s) Loss: 0.2413(0.2413) \n"
     ]
    },
    {
     "name": "stderr",
     "output_type": "stream",
     "text": [
      "Epoch 25 - avg_train_loss: 0.1915  avg_val_loss: 0.2289  time: 4s\n",
      "Epoch 25 - Score: 0.2295\n"
     ]
    },
    {
     "name": "stdout",
     "output_type": "stream",
     "text": [
      "EVAL: [2/3] Elapsed 0m 0s (remain 0m 0s) Loss: 0.2446(0.2289) \n",
      "Epoch: [26][0/19] Elapsed 0m 0s (remain 0m 2s) Loss: 0.2012(0.2012) Grad: 16.9508  LR: 0.000057  \n",
      "Epoch: [26][10/19] Elapsed 0m 1s (remain 0m 1s) Loss: 0.1261(0.1604) Grad: 3.0614  LR: 0.000057  \n",
      "Epoch: [26][18/19] Elapsed 0m 2s (remain 0m 0s) Loss: 0.1359(0.1538) Grad: 10.3924  LR: 0.000057  \n",
      "EVAL: [0/3] Elapsed 0m 0s (remain 0m 0s) Loss: 0.2116(0.2116) \n"
     ]
    },
    {
     "name": "stderr",
     "output_type": "stream",
     "text": [
      "Epoch 26 - avg_train_loss: 0.1538  avg_val_loss: 0.2098  time: 4s\n",
      "Epoch 26 - Score: 0.2102\n"
     ]
    },
    {
     "name": "stdout",
     "output_type": "stream",
     "text": [
      "EVAL: [2/3] Elapsed 0m 0s (remain 0m 0s) Loss: 0.1807(0.2098) \n",
      "Epoch: [27][0/19] Elapsed 0m 0s (remain 0m 2s) Loss: 0.1077(0.1077) Grad: 18.6102  LR: 0.000009  \n",
      "Epoch: [27][10/19] Elapsed 0m 1s (remain 0m 1s) Loss: 0.1199(0.1128) Grad: 6.7942  LR: 0.000009  \n",
      "Epoch: [27][18/19] Elapsed 0m 2s (remain 0m 0s) Loss: 0.0795(0.1104) Grad: 2.7669  LR: 0.000009  \n",
      "EVAL: [0/3] Elapsed 0m 0s (remain 0m 0s) Loss: 0.1987(0.1987) \n"
     ]
    },
    {
     "name": "stderr",
     "output_type": "stream",
     "text": [
      "Epoch 27 - avg_train_loss: 0.1104  avg_val_loss: 0.1882  time: 4s\n",
      "Epoch 27 - Score: 0.1884\n"
     ]
    },
    {
     "name": "stdout",
     "output_type": "stream",
     "text": [
      "EVAL: [2/3] Elapsed 0m 0s (remain 0m 0s) Loss: 0.1802(0.1882) \n",
      "Epoch: [28][0/19] Elapsed 0m 0s (remain 0m 2s) Loss: 0.0965(0.0965) Grad: 13.6453  LR: 0.000001  \n",
      "Epoch: [28][10/19] Elapsed 0m 1s (remain 0m 1s) Loss: 0.1168(0.0954) Grad: 3.7536  LR: 0.000001  \n",
      "Epoch: [28][18/19] Elapsed 0m 3s (remain 0m 0s) Loss: 0.1216(0.0936) Grad: 8.2585  LR: 0.000001  \n",
      "EVAL: [0/3] Elapsed 0m 0s (remain 0m 0s) Loss: 0.1933(0.1933) \n"
     ]
    },
    {
     "name": "stderr",
     "output_type": "stream",
     "text": [
      "Epoch 28 - avg_train_loss: 0.0936  avg_val_loss: 0.1904  time: 4s\n",
      "Epoch 28 - Score: 0.1905\n"
     ]
    },
    {
     "name": "stdout",
     "output_type": "stream",
     "text": [
      "EVAL: [2/3] Elapsed 0m 0s (remain 0m 0s) Loss: 0.1951(0.1904) \n",
      "Epoch: [29][0/19] Elapsed 0m 0s (remain 0m 2s) Loss: 0.1325(0.1325) Grad: 3.5041  LR: 0.000050  \n",
      "Epoch: [29][10/19] Elapsed 0m 1s (remain 0m 1s) Loss: 0.0761(0.0901) Grad: 7.9526  LR: 0.000050  \n",
      "Epoch: [29][18/19] Elapsed 0m 2s (remain 0m 0s) Loss: 0.0666(0.0877) Grad: 2.7609  LR: 0.000050  \n",
      "EVAL: [0/3] Elapsed 0m 0s (remain 0m 0s) Loss: 0.2032(0.2032) \n"
     ]
    },
    {
     "name": "stderr",
     "output_type": "stream",
     "text": [
      "Epoch 29 - avg_train_loss: 0.0877  avg_val_loss: 0.1895  time: 4s\n",
      "Epoch 29 - Score: 0.1899\n"
     ]
    },
    {
     "name": "stdout",
     "output_type": "stream",
     "text": [
      "EVAL: [2/3] Elapsed 0m 0s (remain 0m 0s) Loss: 0.1851(0.1895) \n",
      "Epoch: [30][0/19] Elapsed 0m 0s (remain 0m 2s) Loss: 0.0838(0.0838) Grad: 8.6898  LR: 0.000224  \n",
      "Epoch: [30][10/19] Elapsed 0m 1s (remain 0m 1s) Loss: 0.0961(0.0921) Grad: 6.0362  LR: 0.000224  \n",
      "Epoch: [30][18/19] Elapsed 0m 2s (remain 0m 0s) Loss: 0.1688(0.1051) Grad: 17.5011  LR: 0.000224  \n",
      "EVAL: [0/3] Elapsed 0m 0s (remain 0m 0s) Loss: 0.2472(0.2472) \n"
     ]
    },
    {
     "name": "stderr",
     "output_type": "stream",
     "text": [
      "Epoch 30 - avg_train_loss: 0.1051  avg_val_loss: 0.2434  time: 4s\n",
      "Epoch 30 - Score: 0.2435\n"
     ]
    },
    {
     "name": "stdout",
     "output_type": "stream",
     "text": [
      "EVAL: [2/3] Elapsed 0m 0s (remain 0m 0s) Loss: 0.2260(0.2434) \n",
      "Epoch: [31][0/19] Elapsed 0m 0s (remain 0m 2s) Loss: 0.1553(0.1553) Grad: 18.3965  LR: 0.000133  \n",
      "Epoch: [31][10/19] Elapsed 0m 1s (remain 0m 1s) Loss: 0.0935(0.1272) Grad: 2.7958  LR: 0.000133  \n",
      "Epoch: [31][18/19] Elapsed 0m 2s (remain 0m 0s) Loss: 0.1592(0.1311) Grad: 21.2835  LR: 0.000133  \n",
      "EVAL: [0/3] Elapsed 0m 0s (remain 0m 0s) Loss: 0.2964(0.2964) \n"
     ]
    },
    {
     "name": "stderr",
     "output_type": "stream",
     "text": [
      "Epoch 31 - avg_train_loss: 0.1311  avg_val_loss: 0.2825  time: 4s\n",
      "Epoch 31 - Score: 0.2827\n"
     ]
    },
    {
     "name": "stdout",
     "output_type": "stream",
     "text": [
      "EVAL: [2/3] Elapsed 0m 0s (remain 0m 0s) Loss: 0.2721(0.2825) \n",
      "Epoch: [32][0/19] Elapsed 0m 0s (remain 0m 2s) Loss: 0.1956(0.1956) Grad: 18.0618  LR: 0.000057  \n",
      "Epoch: [32][10/19] Elapsed 0m 1s (remain 0m 1s) Loss: 0.1318(0.1503) Grad: 6.9783  LR: 0.000057  \n",
      "Epoch: [32][18/19] Elapsed 0m 2s (remain 0m 0s) Loss: 0.1438(0.1469) Grad: 6.3035  LR: 0.000057  \n",
      "EVAL: [0/3] Elapsed 0m 0s (remain 0m 0s) Loss: 0.2685(0.2685) \n"
     ]
    },
    {
     "name": "stderr",
     "output_type": "stream",
     "text": [
      "Epoch 32 - avg_train_loss: 0.1469  avg_val_loss: 0.2426  time: 4s\n",
      "Epoch 32 - Score: 0.2436\n"
     ]
    },
    {
     "name": "stdout",
     "output_type": "stream",
     "text": [
      "EVAL: [2/3] Elapsed 0m 0s (remain 0m 0s) Loss: 0.2179(0.2426) \n",
      "Epoch: [33][0/19] Elapsed 0m 0s (remain 0m 2s) Loss: 0.1429(0.1429) Grad: 18.8223  LR: 0.000009  \n",
      "Epoch: [33][10/19] Elapsed 0m 1s (remain 0m 1s) Loss: 0.1396(0.1120) Grad: 13.8427  LR: 0.000009  \n",
      "Epoch: [33][18/19] Elapsed 0m 2s (remain 0m 0s) Loss: 0.1165(0.1057) Grad: 2.7135  LR: 0.000009  \n",
      "EVAL: [0/3] Elapsed 0m 0s (remain 0m 0s) Loss: 0.1907(0.1907) \n"
     ]
    },
    {
     "name": "stderr",
     "output_type": "stream",
     "text": [
      "Epoch 33 - avg_train_loss: 0.1057  avg_val_loss: 0.1902  time: 4s\n",
      "Epoch 33 - Score: 0.1905\n"
     ]
    },
    {
     "name": "stdout",
     "output_type": "stream",
     "text": [
      "EVAL: [2/3] Elapsed 0m 0s (remain 0m 0s) Loss: 0.2107(0.1902) \n",
      "Epoch: [34][0/19] Elapsed 0m 0s (remain 0m 2s) Loss: 0.0923(0.0923) Grad: 5.2537  LR: 0.000001  \n",
      "Epoch: [34][10/19] Elapsed 0m 1s (remain 0m 1s) Loss: 0.0762(0.0920) Grad: 3.2206  LR: 0.000001  \n",
      "Epoch: [34][18/19] Elapsed 0m 2s (remain 0m 0s) Loss: 0.0803(0.0866) Grad: 11.8707  LR: 0.000001  \n",
      "EVAL: [0/3] Elapsed 0m 0s (remain 0m 0s) Loss: 0.1889(0.1889) \n"
     ]
    },
    {
     "name": "stderr",
     "output_type": "stream",
     "text": [
      "Epoch 34 - avg_train_loss: 0.0866  avg_val_loss: 0.1835  time: 4s\n",
      "Epoch 34 - Score: 0.1836\n",
      "Epoch 34 - Save Best Score: 0.1836 Model\n"
     ]
    },
    {
     "name": "stdout",
     "output_type": "stream",
     "text": [
      "EVAL: [2/3] Elapsed 0m 0s (remain 0m 0s) Loss: 0.1898(0.1835) \n",
      "Epoch: [35][0/19] Elapsed 0m 0s (remain 0m 2s) Loss: 0.1281(0.1281) Grad: 2.7748  LR: 0.000050  \n",
      "Epoch: [35][10/19] Elapsed 0m 1s (remain 0m 1s) Loss: 0.0963(0.0838) Grad: 9.3421  LR: 0.000050  \n",
      "Epoch: [35][18/19] Elapsed 0m 2s (remain 0m 0s) Loss: 0.1241(0.0856) Grad: 11.5846  LR: 0.000050  \n",
      "EVAL: [0/3] Elapsed 0m 0s (remain 0m 0s) Loss: 0.1947(0.1947) \n"
     ]
    },
    {
     "name": "stderr",
     "output_type": "stream",
     "text": [
      "Epoch 35 - avg_train_loss: 0.0856  avg_val_loss: 0.1902  time: 4s\n",
      "Epoch 35 - Score: 0.1903\n"
     ]
    },
    {
     "name": "stdout",
     "output_type": "stream",
     "text": [
      "EVAL: [2/3] Elapsed 0m 0s (remain 0m 0s) Loss: 0.1980(0.1902) \n",
      "Epoch: [36][0/19] Elapsed 0m 0s (remain 0m 2s) Loss: 0.0886(0.0886) Grad: 4.5831  LR: 0.000224  \n",
      "Epoch: [36][10/19] Elapsed 0m 1s (remain 0m 1s) Loss: 0.0689(0.0925) Grad: 9.0547  LR: 0.000224  \n",
      "Epoch: [36][18/19] Elapsed 0m 2s (remain 0m 0s) Loss: 0.1461(0.1146) Grad: 9.1851  LR: 0.000224  \n",
      "EVAL: [0/3] Elapsed 0m 0s (remain 0m 0s) Loss: 0.2480(0.2480) \n"
     ]
    },
    {
     "name": "stderr",
     "output_type": "stream",
     "text": [
      "Epoch 36 - avg_train_loss: 0.1146  avg_val_loss: 0.2417  time: 4s\n",
      "Epoch 36 - Score: 0.2421\n"
     ]
    },
    {
     "name": "stdout",
     "output_type": "stream",
     "text": [
      "EVAL: [2/3] Elapsed 0m 0s (remain 0m 0s) Loss: 0.2631(0.2417) \n",
      "Epoch: [37][0/19] Elapsed 0m 0s (remain 0m 2s) Loss: 0.1918(0.1918) Grad: 21.7225  LR: 0.000133  \n",
      "Epoch: [37][10/19] Elapsed 0m 1s (remain 0m 1s) Loss: 0.2409(0.1910) Grad: 21.2671  LR: 0.000133  \n",
      "Epoch: [37][18/19] Elapsed 0m 2s (remain 0m 0s) Loss: 0.1520(0.1763) Grad: 19.1236  LR: 0.000133  \n",
      "EVAL: [0/3] Elapsed 0m 0s (remain 0m 0s) Loss: 0.2052(0.2052) \n"
     ]
    },
    {
     "name": "stderr",
     "output_type": "stream",
     "text": [
      "Epoch 37 - avg_train_loss: 0.1763  avg_val_loss: 0.2127  time: 4s\n",
      "Epoch 37 - Score: 0.2131\n"
     ]
    },
    {
     "name": "stdout",
     "output_type": "stream",
     "text": [
      "EVAL: [2/3] Elapsed 0m 0s (remain 0m 0s) Loss: 0.2405(0.2127) \n",
      "Epoch: [38][0/19] Elapsed 0m 0s (remain 0m 2s) Loss: 0.1117(0.1117) Grad: 10.9074  LR: 0.000057  \n",
      "Epoch: [38][10/19] Elapsed 0m 1s (remain 0m 1s) Loss: 0.1068(0.1144) Grad: 9.9319  LR: 0.000057  \n",
      "Epoch: [38][18/19] Elapsed 0m 2s (remain 0m 0s) Loss: 0.1690(0.1181) Grad: 8.7150  LR: 0.000057  \n",
      "EVAL: [0/3] Elapsed 0m 0s (remain 0m 0s) Loss: 0.1979(0.1979) \n"
     ]
    },
    {
     "name": "stderr",
     "output_type": "stream",
     "text": [
      "Epoch 38 - avg_train_loss: 0.1181  avg_val_loss: 0.2013  time: 4s\n",
      "Epoch 38 - Score: 0.2013\n"
     ]
    },
    {
     "name": "stdout",
     "output_type": "stream",
     "text": [
      "EVAL: [2/3] Elapsed 0m 0s (remain 0m 0s) Loss: 0.2014(0.2013) \n",
      "Epoch: [39][0/19] Elapsed 0m 0s (remain 0m 2s) Loss: 0.1616(0.1616) Grad: 6.5827  LR: 0.000009  \n",
      "Epoch: [39][10/19] Elapsed 0m 1s (remain 0m 1s) Loss: 0.0841(0.0985) Grad: 11.0295  LR: 0.000009  \n",
      "Epoch: [39][18/19] Elapsed 0m 2s (remain 0m 0s) Loss: 0.0617(0.0912) Grad: 11.1896  LR: 0.000009  \n",
      "EVAL: [0/3] Elapsed 0m 0s (remain 0m 0s) Loss: 0.1985(0.1985) \n"
     ]
    },
    {
     "name": "stderr",
     "output_type": "stream",
     "text": [
      "Epoch 39 - avg_train_loss: 0.0912  avg_val_loss: 0.1869  time: 4s\n",
      "Epoch 39 - Score: 0.1872\n"
     ]
    },
    {
     "name": "stdout",
     "output_type": "stream",
     "text": [
      "EVAL: [2/3] Elapsed 0m 0s (remain 0m 0s) Loss: 0.1888(0.1869) \n",
      "Epoch: [40][0/19] Elapsed 0m 0s (remain 0m 2s) Loss: 0.0630(0.0630) Grad: 12.1435  LR: 0.000001  \n",
      "Epoch: [40][10/19] Elapsed 0m 1s (remain 0m 1s) Loss: 0.0777(0.0763) Grad: 5.2656  LR: 0.000001  \n",
      "Epoch: [40][18/19] Elapsed 0m 2s (remain 0m 0s) Loss: 0.0477(0.0767) Grad: 6.2647  LR: 0.000001  \n",
      "EVAL: [0/3] Elapsed 0m 0s (remain 0m 0s) Loss: 0.1797(0.1797) \n"
     ]
    },
    {
     "name": "stderr",
     "output_type": "stream",
     "text": [
      "Epoch 40 - avg_train_loss: 0.0767  avg_val_loss: 0.1857  time: 4s\n",
      "Epoch 40 - Score: 0.1858\n",
      "========== fold: 2 result ==========\n",
      "Score: 0.1836\n",
      "========== fold: 3 training ==========\n"
     ]
    },
    {
     "name": "stdout",
     "output_type": "stream",
     "text": [
      "EVAL: [2/3] Elapsed 0m 0s (remain 0m 0s) Loss: 0.1946(0.1857) \n",
      "Epoch: [1][0/19] Elapsed 0m 0s (remain 0m 2s) Loss: 3.5275(3.5275) Grad: 25.9410  LR: 0.000100  \n",
      "Epoch: [1][10/19] Elapsed 0m 1s (remain 0m 1s) Loss: 0.5609(1.7507) Grad: 11.2017  LR: 0.000100  \n",
      "Epoch: [1][18/19] Elapsed 0m 2s (remain 0m 0s) Loss: 0.4797(1.3239) Grad: 13.0404  LR: 0.000100  \n",
      "EVAL: [0/3] Elapsed 0m 0s (remain 0m 0s) Loss: 0.6161(0.6161) \n"
     ]
    },
    {
     "name": "stderr",
     "output_type": "stream",
     "text": [
      "Epoch 1 - avg_train_loss: 1.3239  avg_val_loss: 0.6173  time: 4s\n",
      "Epoch 1 - Score: 0.6176\n",
      "Epoch 1 - Save Best Score: 0.6176 Model\n"
     ]
    },
    {
     "name": "stdout",
     "output_type": "stream",
     "text": [
      "EVAL: [2/3] Elapsed 0m 0s (remain 0m 0s) Loss: 0.6549(0.6173) \n",
      "Epoch: [2][0/19] Elapsed 0m 0s (remain 0m 2s) Loss: 0.5735(0.5735) Grad: 20.1976  LR: 0.000057  \n",
      "Epoch: [2][10/19] Elapsed 0m 1s (remain 0m 1s) Loss: 0.3846(0.4529) Grad: 15.8498  LR: 0.000057  \n",
      "Epoch: [2][18/19] Elapsed 0m 2s (remain 0m 0s) Loss: 0.4166(0.4377) Grad: 5.6614  LR: 0.000057  \n",
      "EVAL: [0/3] Elapsed 0m 0s (remain 0m 0s) Loss: 0.4634(0.4634) \n"
     ]
    },
    {
     "name": "stderr",
     "output_type": "stream",
     "text": [
      "Epoch 2 - avg_train_loss: 0.4377  avg_val_loss: 0.4688  time: 4s\n",
      "Epoch 2 - Score: 0.4690\n",
      "Epoch 2 - Save Best Score: 0.4690 Model\n"
     ]
    },
    {
     "name": "stdout",
     "output_type": "stream",
     "text": [
      "EVAL: [2/3] Elapsed 0m 0s (remain 0m 0s) Loss: 0.4405(0.4688) \n",
      "Epoch: [3][0/19] Elapsed 0m 0s (remain 0m 2s) Loss: 0.3507(0.3507) Grad: 16.3009  LR: 0.000009  \n",
      "Epoch: [3][10/19] Elapsed 0m 1s (remain 0m 1s) Loss: 0.3090(0.3498) Grad: 8.3808  LR: 0.000009  \n",
      "Epoch: [3][18/19] Elapsed 0m 2s (remain 0m 0s) Loss: 0.3772(0.3306) Grad: 9.5616  LR: 0.000009  \n",
      "EVAL: [0/3] Elapsed 0m 0s (remain 0m 0s) Loss: 0.3401(0.3401) \n"
     ]
    },
    {
     "name": "stderr",
     "output_type": "stream",
     "text": [
      "Epoch 3 - avg_train_loss: 0.3306  avg_val_loss: 0.3538  time: 4s\n",
      "Epoch 3 - Score: 0.3553\n",
      "Epoch 3 - Save Best Score: 0.3553 Model\n"
     ]
    },
    {
     "name": "stdout",
     "output_type": "stream",
     "text": [
      "EVAL: [2/3] Elapsed 0m 0s (remain 0m 0s) Loss: 0.3007(0.3538) \n",
      "Epoch: [4][0/19] Elapsed 0m 0s (remain 0m 2s) Loss: 0.2642(0.2642) Grad: 5.4015  LR: 0.000001  \n",
      "Epoch: [4][10/19] Elapsed 0m 1s (remain 0m 1s) Loss: 0.2746(0.2788) Grad: 4.6089  LR: 0.000001  \n",
      "Epoch: [4][18/19] Elapsed 0m 2s (remain 0m 0s) Loss: 0.2796(0.2825) Grad: 10.7200  LR: 0.000001  \n",
      "EVAL: [0/3] Elapsed 0m 0s (remain 0m 0s) Loss: 0.3565(0.3565) \n"
     ]
    },
    {
     "name": "stderr",
     "output_type": "stream",
     "text": [
      "Epoch 4 - avg_train_loss: 0.2825  avg_val_loss: 0.3739  time: 4s\n",
      "Epoch 4 - Score: 0.3749\n"
     ]
    },
    {
     "name": "stdout",
     "output_type": "stream",
     "text": [
      "EVAL: [2/3] Elapsed 0m 0s (remain 0m 0s) Loss: 0.3412(0.3739) \n",
      "Epoch: [5][0/19] Elapsed 0m 0s (remain 0m 2s) Loss: 0.3021(0.3021) Grad: 7.0647  LR: 0.000050  \n",
      "Epoch: [5][10/19] Elapsed 0m 1s (remain 0m 1s) Loss: 0.2352(0.2864) Grad: 7.0951  LR: 0.000050  \n",
      "Epoch: [5][18/19] Elapsed 0m 2s (remain 0m 0s) Loss: 0.2221(0.2757) Grad: 6.4186  LR: 0.000050  \n",
      "EVAL: [0/3] Elapsed 0m 0s (remain 0m 0s) Loss: 0.3091(0.3091) \n"
     ]
    },
    {
     "name": "stderr",
     "output_type": "stream",
     "text": [
      "Epoch 5 - avg_train_loss: 0.2757  avg_val_loss: 0.3347  time: 4s\n",
      "Epoch 5 - Score: 0.3381\n",
      "Epoch 5 - Save Best Score: 0.3381 Model\n"
     ]
    },
    {
     "name": "stdout",
     "output_type": "stream",
     "text": [
      "EVAL: [2/3] Elapsed 0m 0s (remain 0m 0s) Loss: 0.2638(0.3347) \n",
      "Epoch: [6][0/19] Elapsed 0m 0s (remain 0m 2s) Loss: 0.2201(0.2201) Grad: 9.8508  LR: 0.000224  \n",
      "Epoch: [6][10/19] Elapsed 0m 1s (remain 0m 1s) Loss: 0.3603(0.2748) Grad: 23.5433  LR: 0.000224  \n",
      "Epoch: [6][18/19] Elapsed 0m 2s (remain 0m 0s) Loss: 0.2322(0.2906) Grad: 10.2190  LR: 0.000224  \n",
      "EVAL: [0/3] Elapsed 0m 0s (remain 0m 0s) Loss: 0.3320(0.3320) \n"
     ]
    },
    {
     "name": "stderr",
     "output_type": "stream",
     "text": [
      "Epoch 6 - avg_train_loss: 0.2906  avg_val_loss: 0.3425  time: 4s\n",
      "Epoch 6 - Score: 0.3474\n"
     ]
    },
    {
     "name": "stdout",
     "output_type": "stream",
     "text": [
      "EVAL: [2/3] Elapsed 0m 0s (remain 0m 0s) Loss: 0.2329(0.3425) \n",
      "Epoch: [7][0/19] Elapsed 0m 0s (remain 0m 2s) Loss: 0.2296(0.2296) Grad: 16.5324  LR: 0.000133  \n",
      "Epoch: [7][10/19] Elapsed 0m 1s (remain 0m 1s) Loss: 0.1740(0.2312) Grad: 11.2578  LR: 0.000133  \n",
      "Epoch: [7][18/19] Elapsed 0m 2s (remain 0m 0s) Loss: 0.2740(0.2343) Grad: 10.3960  LR: 0.000133  \n",
      "EVAL: [0/3] Elapsed 0m 0s (remain 0m 0s) Loss: 0.3062(0.3062) \n"
     ]
    },
    {
     "name": "stderr",
     "output_type": "stream",
     "text": [
      "Epoch 7 - avg_train_loss: 0.2343  avg_val_loss: 0.3355  time: 4s\n",
      "Epoch 7 - Score: 0.3377\n",
      "Epoch 7 - Save Best Score: 0.3377 Model\n"
     ]
    },
    {
     "name": "stdout",
     "output_type": "stream",
     "text": [
      "EVAL: [2/3] Elapsed 0m 0s (remain 0m 0s) Loss: 0.2968(0.3355) \n",
      "Epoch: [8][0/19] Elapsed 0m 0s (remain 0m 2s) Loss: 0.3058(0.3058) Grad: 21.0509  LR: 0.000057  \n",
      "Epoch: [8][10/19] Elapsed 0m 1s (remain 0m 1s) Loss: 0.1922(0.2324) Grad: 4.3305  LR: 0.000057  \n",
      "Epoch: [8][18/19] Elapsed 0m 2s (remain 0m 0s) Loss: 0.1823(0.2278) Grad: 3.8550  LR: 0.000057  \n",
      "EVAL: [0/3] Elapsed 0m 0s (remain 0m 0s) Loss: 0.2361(0.2361) \n"
     ]
    },
    {
     "name": "stderr",
     "output_type": "stream",
     "text": [
      "Epoch 8 - avg_train_loss: 0.2278  avg_val_loss: 0.2675  time: 4s\n",
      "Epoch 8 - Score: 0.2731\n",
      "Epoch 8 - Save Best Score: 0.2731 Model\n"
     ]
    },
    {
     "name": "stdout",
     "output_type": "stream",
     "text": [
      "EVAL: [2/3] Elapsed 0m 0s (remain 0m 0s) Loss: 0.1902(0.2675) \n",
      "Epoch: [9][0/19] Elapsed 0m 0s (remain 0m 2s) Loss: 0.1533(0.1533) Grad: 15.3491  LR: 0.000009  \n",
      "Epoch: [9][10/19] Elapsed 0m 1s (remain 0m 1s) Loss: 0.1596(0.1719) Grad: 12.5146  LR: 0.000009  \n",
      "Epoch: [9][18/19] Elapsed 0m 2s (remain 0m 0s) Loss: 0.1197(0.1628) Grad: 9.8295  LR: 0.000009  \n",
      "EVAL: [0/3] Elapsed 0m 0s (remain 0m 0s) Loss: 0.2054(0.2054) \n"
     ]
    },
    {
     "name": "stderr",
     "output_type": "stream",
     "text": [
      "Epoch 9 - avg_train_loss: 0.1628  avg_val_loss: 0.2447  time: 4s\n",
      "Epoch 9 - Score: 0.2482\n",
      "Epoch 9 - Save Best Score: 0.2482 Model\n"
     ]
    },
    {
     "name": "stdout",
     "output_type": "stream",
     "text": [
      "EVAL: [2/3] Elapsed 0m 0s (remain 0m 0s) Loss: 0.2213(0.2447) \n",
      "Epoch: [10][0/19] Elapsed 0m 0s (remain 0m 2s) Loss: 0.1515(0.1515) Grad: 3.2678  LR: 0.000001  \n",
      "Epoch: [10][10/19] Elapsed 0m 1s (remain 0m 1s) Loss: 0.1292(0.1351) Grad: 5.9107  LR: 0.000001  \n",
      "Epoch: [10][18/19] Elapsed 0m 2s (remain 0m 0s) Loss: 0.1249(0.1394) Grad: 5.9792  LR: 0.000001  \n",
      "EVAL: [0/3] Elapsed 0m 0s (remain 0m 0s) Loss: 0.2203(0.2203) \n"
     ]
    },
    {
     "name": "stderr",
     "output_type": "stream",
     "text": [
      "Epoch 10 - avg_train_loss: 0.1394  avg_val_loss: 0.2491  time: 4s\n",
      "Epoch 10 - Score: 0.2517\n"
     ]
    },
    {
     "name": "stdout",
     "output_type": "stream",
     "text": [
      "EVAL: [2/3] Elapsed 0m 0s (remain 0m 0s) Loss: 0.2136(0.2491) \n",
      "Epoch: [11][0/19] Elapsed 0m 0s (remain 0m 2s) Loss: 0.1155(0.1155) Grad: 5.4239  LR: 0.000050  \n",
      "Epoch: [11][10/19] Elapsed 0m 1s (remain 0m 1s) Loss: 0.1683(0.1412) Grad: 4.4424  LR: 0.000050  \n",
      "Epoch: [11][18/19] Elapsed 0m 2s (remain 0m 0s) Loss: 0.1247(0.1348) Grad: 10.7278  LR: 0.000050  \n",
      "EVAL: [0/3] Elapsed 0m 0s (remain 0m 0s) Loss: 0.2031(0.2031) \n"
     ]
    },
    {
     "name": "stderr",
     "output_type": "stream",
     "text": [
      "Epoch 11 - avg_train_loss: 0.1348  avg_val_loss: 0.2532  time: 4s\n",
      "Epoch 11 - Score: 0.2590\n"
     ]
    },
    {
     "name": "stdout",
     "output_type": "stream",
     "text": [
      "EVAL: [2/3] Elapsed 0m 0s (remain 0m 0s) Loss: 0.2181(0.2532) \n",
      "Epoch: [12][0/19] Elapsed 0m 0s (remain 0m 2s) Loss: 0.1482(0.1482) Grad: 12.8873  LR: 0.000224  \n",
      "Epoch: [12][10/19] Elapsed 0m 1s (remain 0m 1s) Loss: 0.1461(0.1371) Grad: 3.8022  LR: 0.000224  \n",
      "Epoch: [12][18/19] Elapsed 0m 2s (remain 0m 0s) Loss: 0.2376(0.1516) Grad: 23.7562  LR: 0.000224  \n",
      "EVAL: [0/3] Elapsed 0m 0s (remain 0m 0s) Loss: 0.2203(0.2203) \n"
     ]
    },
    {
     "name": "stderr",
     "output_type": "stream",
     "text": [
      "Epoch 12 - avg_train_loss: 0.1516  avg_val_loss: 0.2428  time: 4s\n",
      "Epoch 12 - Score: 0.2457\n",
      "Epoch 12 - Save Best Score: 0.2457 Model\n"
     ]
    },
    {
     "name": "stdout",
     "output_type": "stream",
     "text": [
      "EVAL: [2/3] Elapsed 0m 0s (remain 0m 0s) Loss: 0.1914(0.2428) \n",
      "Epoch: [13][0/19] Elapsed 0m 0s (remain 0m 2s) Loss: 0.1580(0.1580) Grad: 12.8381  LR: 0.000133  \n",
      "Epoch: [13][10/19] Elapsed 0m 1s (remain 0m 1s) Loss: 0.2357(0.2401) Grad: 10.0125  LR: 0.000133  \n",
      "Epoch: [13][18/19] Elapsed 0m 2s (remain 0m 0s) Loss: 0.2211(0.2144) Grad: 11.0946  LR: 0.000133  \n",
      "EVAL: [0/3] Elapsed 0m 0s (remain 0m 0s) Loss: 0.2643(0.2643) \n"
     ]
    },
    {
     "name": "stderr",
     "output_type": "stream",
     "text": [
      "Epoch 13 - avg_train_loss: 0.2144  avg_val_loss: 0.2834  time: 4s\n",
      "Epoch 13 - Score: 0.2859\n"
     ]
    },
    {
     "name": "stdout",
     "output_type": "stream",
     "text": [
      "EVAL: [2/3] Elapsed 0m 0s (remain 0m 0s) Loss: 0.2271(0.2834) \n",
      "Epoch: [14][0/19] Elapsed 0m 0s (remain 0m 2s) Loss: 0.1785(0.1785) Grad: 14.2002  LR: 0.000057  \n",
      "Epoch: [14][10/19] Elapsed 0m 1s (remain 0m 1s) Loss: 0.2269(0.1953) Grad: 21.2812  LR: 0.000057  \n",
      "Epoch: [14][18/19] Elapsed 0m 2s (remain 0m 0s) Loss: 0.2705(0.2128) Grad: 17.8054  LR: 0.000057  \n",
      "EVAL: [0/3] Elapsed 0m 0s (remain 0m 0s) Loss: 0.1996(0.1996) \n"
     ]
    },
    {
     "name": "stderr",
     "output_type": "stream",
     "text": [
      "Epoch 14 - avg_train_loss: 0.2128  avg_val_loss: 0.2431  time: 4s\n",
      "Epoch 14 - Score: 0.2469\n"
     ]
    },
    {
     "name": "stdout",
     "output_type": "stream",
     "text": [
      "EVAL: [2/3] Elapsed 0m 0s (remain 0m 0s) Loss: 0.2251(0.2431) \n",
      "Epoch: [15][0/19] Elapsed 0m 0s (remain 0m 2s) Loss: 0.1260(0.1260) Grad: 6.5692  LR: 0.000009  \n",
      "Epoch: [15][10/19] Elapsed 0m 1s (remain 0m 1s) Loss: 0.1173(0.1521) Grad: 3.0137  LR: 0.000009  \n",
      "Epoch: [15][18/19] Elapsed 0m 2s (remain 0m 0s) Loss: 0.1120(0.1502) Grad: 7.1328  LR: 0.000009  \n",
      "EVAL: [0/3] Elapsed 0m 0s (remain 0m 0s) Loss: 0.1954(0.1954) \n"
     ]
    },
    {
     "name": "stderr",
     "output_type": "stream",
     "text": [
      "Epoch 15 - avg_train_loss: 0.1502  avg_val_loss: 0.2353  time: 4s\n",
      "Epoch 15 - Score: 0.2392\n",
      "Epoch 15 - Save Best Score: 0.2392 Model\n"
     ]
    },
    {
     "name": "stdout",
     "output_type": "stream",
     "text": [
      "EVAL: [2/3] Elapsed 0m 0s (remain 0m 0s) Loss: 0.2088(0.2353) \n",
      "Epoch: [16][0/19] Elapsed 0m 0s (remain 0m 2s) Loss: 0.1224(0.1224) Grad: 7.5909  LR: 0.000001  \n",
      "Epoch: [16][10/19] Elapsed 0m 1s (remain 0m 1s) Loss: 0.0899(0.1155) Grad: 3.8509  LR: 0.000001  \n",
      "Epoch: [16][18/19] Elapsed 0m 2s (remain 0m 0s) Loss: 0.1254(0.1148) Grad: 4.5835  LR: 0.000001  \n",
      "EVAL: [0/3] Elapsed 0m 0s (remain 0m 0s) Loss: 0.1765(0.1765) \n"
     ]
    },
    {
     "name": "stderr",
     "output_type": "stream",
     "text": [
      "Epoch 16 - avg_train_loss: 0.1148  avg_val_loss: 0.2277  time: 3s\n",
      "Epoch 16 - Score: 0.2353\n",
      "Epoch 16 - Save Best Score: 0.2353 Model\n"
     ]
    },
    {
     "name": "stdout",
     "output_type": "stream",
     "text": [
      "EVAL: [2/3] Elapsed 0m 0s (remain 0m 0s) Loss: 0.1797(0.2277) \n",
      "Epoch: [17][0/19] Elapsed 0m 0s (remain 0m 2s) Loss: 0.0964(0.0964) Grad: 4.9036  LR: 0.000050  \n",
      "Epoch: [17][10/19] Elapsed 0m 1s (remain 0m 1s) Loss: 0.0915(0.1070) Grad: 4.1964  LR: 0.000050  \n",
      "Epoch: [17][18/19] Elapsed 0m 2s (remain 0m 0s) Loss: 0.1031(0.1079) Grad: 9.2413  LR: 0.000050  \n",
      "EVAL: [0/3] Elapsed 0m 0s (remain 0m 0s) Loss: 0.1799(0.1799) \n"
     ]
    },
    {
     "name": "stderr",
     "output_type": "stream",
     "text": [
      "Epoch 17 - avg_train_loss: 0.1079  avg_val_loss: 0.2389  time: 4s\n",
      "Epoch 17 - Score: 0.2459\n"
     ]
    },
    {
     "name": "stdout",
     "output_type": "stream",
     "text": [
      "EVAL: [2/3] Elapsed 0m 0s (remain 0m 0s) Loss: 0.2188(0.2389) \n",
      "Epoch: [18][0/19] Elapsed 0m 0s (remain 0m 2s) Loss: 0.0777(0.0777) Grad: 3.2733  LR: 0.000224  \n",
      "Epoch: [18][10/19] Elapsed 0m 1s (remain 0m 1s) Loss: 0.1295(0.1181) Grad: 7.1429  LR: 0.000224  \n",
      "Epoch: [18][18/19] Elapsed 0m 2s (remain 0m 0s) Loss: 0.1606(0.1337) Grad: 13.1748  LR: 0.000224  \n",
      "EVAL: [0/3] Elapsed 0m 0s (remain 0m 0s) Loss: 0.2089(0.2089) \n"
     ]
    },
    {
     "name": "stderr",
     "output_type": "stream",
     "text": [
      "Epoch 18 - avg_train_loss: 0.1337  avg_val_loss: 0.2538  time: 4s\n",
      "Epoch 18 - Score: 0.2573\n"
     ]
    },
    {
     "name": "stdout",
     "output_type": "stream",
     "text": [
      "EVAL: [2/3] Elapsed 0m 0s (remain 0m 0s) Loss: 0.2471(0.2538) \n",
      "Epoch: [19][0/19] Elapsed 0m 0s (remain 0m 2s) Loss: 0.1128(0.1128) Grad: 11.2812  LR: 0.000133  \n",
      "Epoch: [19][10/19] Elapsed 0m 1s (remain 0m 1s) Loss: 0.2278(0.1615) Grad: 17.7912  LR: 0.000133  \n",
      "Epoch: [19][18/19] Elapsed 0m 2s (remain 0m 0s) Loss: 0.1696(0.1706) Grad: 16.7446  LR: 0.000133  \n",
      "EVAL: [0/3] Elapsed 0m 0s (remain 0m 0s) Loss: 0.2483(0.2483) \n"
     ]
    },
    {
     "name": "stderr",
     "output_type": "stream",
     "text": [
      "Epoch 19 - avg_train_loss: 0.1706  avg_val_loss: 0.2915  time: 4s\n",
      "Epoch 19 - Score: 0.2941\n"
     ]
    },
    {
     "name": "stdout",
     "output_type": "stream",
     "text": [
      "EVAL: [2/3] Elapsed 0m 0s (remain 0m 0s) Loss: 0.2970(0.2915) \n",
      "Epoch: [20][0/19] Elapsed 0m 0s (remain 0m 2s) Loss: 0.2138(0.2138) Grad: 13.8235  LR: 0.000057  \n",
      "Epoch: [20][10/19] Elapsed 0m 1s (remain 0m 1s) Loss: 0.1348(0.1820) Grad: 7.9949  LR: 0.000057  \n",
      "Epoch: [20][18/19] Elapsed 0m 2s (remain 0m 0s) Loss: 0.0851(0.1806) Grad: 3.6840  LR: 0.000057  \n",
      "EVAL: [0/3] Elapsed 0m 0s (remain 0m 0s) Loss: 0.1972(0.1972) \n"
     ]
    },
    {
     "name": "stderr",
     "output_type": "stream",
     "text": [
      "Epoch 20 - avg_train_loss: 0.1806  avg_val_loss: 0.2460  time: 4s\n",
      "Epoch 20 - Score: 0.2541\n"
     ]
    },
    {
     "name": "stdout",
     "output_type": "stream",
     "text": [
      "EVAL: [2/3] Elapsed 0m 0s (remain 0m 0s) Loss: 0.1800(0.2460) \n",
      "Epoch: [21][0/19] Elapsed 0m 0s (remain 0m 2s) Loss: 0.1290(0.1290) Grad: 13.3972  LR: 0.000009  \n",
      "Epoch: [21][10/19] Elapsed 0m 1s (remain 0m 1s) Loss: 0.1032(0.1209) Grad: 3.7925  LR: 0.000009  \n",
      "Epoch: [21][18/19] Elapsed 0m 2s (remain 0m 0s) Loss: 0.1278(0.1221) Grad: 13.1977  LR: 0.000009  \n",
      "EVAL: [0/3] Elapsed 0m 0s (remain 0m 0s) Loss: 0.1820(0.1820) \n"
     ]
    },
    {
     "name": "stderr",
     "output_type": "stream",
     "text": [
      "Epoch 21 - avg_train_loss: 0.1221  avg_val_loss: 0.2301  time: 4s\n",
      "Epoch 21 - Score: 0.2350\n",
      "Epoch 21 - Save Best Score: 0.2350 Model\n"
     ]
    },
    {
     "name": "stdout",
     "output_type": "stream",
     "text": [
      "EVAL: [2/3] Elapsed 0m 0s (remain 0m 0s) Loss: 0.2122(0.2301) \n",
      "Epoch: [22][0/19] Elapsed 0m 0s (remain 0m 2s) Loss: 0.1114(0.1114) Grad: 14.4691  LR: 0.000001  \n",
      "Epoch: [22][10/19] Elapsed 0m 1s (remain 0m 1s) Loss: 0.0679(0.0889) Grad: 4.2796  LR: 0.000001  \n",
      "Epoch: [22][18/19] Elapsed 0m 2s (remain 0m 0s) Loss: 0.1011(0.0935) Grad: 6.6548  LR: 0.000001  \n",
      "EVAL: [0/3] Elapsed 0m 0s (remain 0m 0s) Loss: 0.1754(0.1754) \n"
     ]
    },
    {
     "name": "stderr",
     "output_type": "stream",
     "text": [
      "Epoch 22 - avg_train_loss: 0.0935  avg_val_loss: 0.2172  time: 4s\n",
      "Epoch 22 - Score: 0.2221\n",
      "Epoch 22 - Save Best Score: 0.2221 Model\n"
     ]
    },
    {
     "name": "stdout",
     "output_type": "stream",
     "text": [
      "EVAL: [2/3] Elapsed 0m 0s (remain 0m 0s) Loss: 0.1856(0.2172) \n",
      "Epoch: [23][0/19] Elapsed 0m 0s (remain 0m 2s) Loss: 0.0881(0.0881) Grad: 3.1705  LR: 0.000050  \n",
      "Epoch: [23][10/19] Elapsed 0m 1s (remain 0m 1s) Loss: 0.1195(0.1102) Grad: 17.2918  LR: 0.000050  \n",
      "Epoch: [23][18/19] Elapsed 0m 2s (remain 0m 0s) Loss: 0.1256(0.1184) Grad: 16.6312  LR: 0.000050  \n",
      "EVAL: [0/3] Elapsed 0m 0s (remain 0m 0s) Loss: 0.1693(0.1693) \n"
     ]
    },
    {
     "name": "stderr",
     "output_type": "stream",
     "text": [
      "Epoch 23 - avg_train_loss: 0.1184  avg_val_loss: 0.2168  time: 4s\n",
      "Epoch 23 - Score: 0.2232\n"
     ]
    },
    {
     "name": "stdout",
     "output_type": "stream",
     "text": [
      "EVAL: [2/3] Elapsed 0m 0s (remain 0m 0s) Loss: 0.1788(0.2168) \n",
      "Epoch: [24][0/19] Elapsed 0m 0s (remain 0m 2s) Loss: 0.0757(0.0757) Grad: 7.1032  LR: 0.000224  \n",
      "Epoch: [24][10/19] Elapsed 0m 1s (remain 0m 1s) Loss: 0.0777(0.1304) Grad: 10.7390  LR: 0.000224  \n",
      "Epoch: [24][18/19] Elapsed 0m 2s (remain 0m 0s) Loss: 0.1626(0.1310) Grad: 17.2278  LR: 0.000224  \n",
      "EVAL: [0/3] Elapsed 0m 0s (remain 0m 0s) Loss: 0.2071(0.2071) \n"
     ]
    },
    {
     "name": "stderr",
     "output_type": "stream",
     "text": [
      "Epoch 24 - avg_train_loss: 0.1310  avg_val_loss: 0.2401  time: 4s\n",
      "Epoch 24 - Score: 0.2429\n"
     ]
    },
    {
     "name": "stdout",
     "output_type": "stream",
     "text": [
      "EVAL: [2/3] Elapsed 0m 0s (remain 0m 0s) Loss: 0.2128(0.2401) \n",
      "Epoch: [25][0/19] Elapsed 0m 0s (remain 0m 2s) Loss: 0.1249(0.1249) Grad: 12.6529  LR: 0.000133  \n",
      "Epoch: [25][10/19] Elapsed 0m 1s (remain 0m 1s) Loss: 0.1580(0.1447) Grad: 11.0334  LR: 0.000133  \n",
      "Epoch: [25][18/19] Elapsed 0m 2s (remain 0m 0s) Loss: 0.1298(0.1437) Grad: 14.3007  LR: 0.000133  \n",
      "EVAL: [0/3] Elapsed 0m 0s (remain 0m 0s) Loss: 0.1752(0.1752) \n"
     ]
    },
    {
     "name": "stderr",
     "output_type": "stream",
     "text": [
      "Epoch 25 - avg_train_loss: 0.1437  avg_val_loss: 0.2457  time: 4s\n",
      "Epoch 25 - Score: 0.2531\n"
     ]
    },
    {
     "name": "stdout",
     "output_type": "stream",
     "text": [
      "EVAL: [2/3] Elapsed 0m 0s (remain 0m 0s) Loss: 0.2694(0.2457) \n",
      "Epoch: [26][0/19] Elapsed 0m 0s (remain 0m 2s) Loss: 0.1283(0.1283) Grad: 6.7849  LR: 0.000057  \n",
      "Epoch: [26][10/19] Elapsed 0m 1s (remain 0m 1s) Loss: 0.1415(0.1474) Grad: 7.3297  LR: 0.000057  \n",
      "Epoch: [26][18/19] Elapsed 0m 2s (remain 0m 0s) Loss: 0.1390(0.1438) Grad: 9.1199  LR: 0.000057  \n",
      "EVAL: [0/3] Elapsed 0m 0s (remain 0m 0s) Loss: 0.2131(0.2131) \n"
     ]
    },
    {
     "name": "stderr",
     "output_type": "stream",
     "text": [
      "Epoch 26 - avg_train_loss: 0.1438  avg_val_loss: 0.2491  time: 4s\n",
      "Epoch 26 - Score: 0.2510\n"
     ]
    },
    {
     "name": "stdout",
     "output_type": "stream",
     "text": [
      "EVAL: [2/3] Elapsed 0m 0s (remain 0m 0s) Loss: 0.2584(0.2491) \n",
      "Epoch: [27][0/19] Elapsed 0m 0s (remain 0m 2s) Loss: 0.1821(0.1821) Grad: 17.7266  LR: 0.000009  \n",
      "Epoch: [27][10/19] Elapsed 0m 1s (remain 0m 1s) Loss: 0.0721(0.1230) Grad: 4.0444  LR: 0.000009  \n",
      "Epoch: [27][18/19] Elapsed 0m 2s (remain 0m 0s) Loss: 0.0836(0.1154) Grad: 8.4588  LR: 0.000009  \n",
      "EVAL: [0/3] Elapsed 0m 0s (remain 0m 0s) Loss: 0.1865(0.1865) \n"
     ]
    },
    {
     "name": "stderr",
     "output_type": "stream",
     "text": [
      "Epoch 27 - avg_train_loss: 0.1154  avg_val_loss: 0.2351  time: 4s\n",
      "Epoch 27 - Score: 0.2391\n"
     ]
    },
    {
     "name": "stdout",
     "output_type": "stream",
     "text": [
      "EVAL: [2/3] Elapsed 0m 0s (remain 0m 0s) Loss: 0.2406(0.2351) \n",
      "Epoch: [28][0/19] Elapsed 0m 0s (remain 0m 2s) Loss: 0.0920(0.0920) Grad: 8.6709  LR: 0.000001  \n",
      "Epoch: [28][10/19] Elapsed 0m 1s (remain 0m 1s) Loss: 0.1032(0.0916) Grad: 4.7124  LR: 0.000001  \n",
      "Epoch: [28][18/19] Elapsed 0m 2s (remain 0m 0s) Loss: 0.0639(0.0841) Grad: 2.4919  LR: 0.000001  \n",
      "EVAL: [0/3] Elapsed 0m 0s (remain 0m 0s) Loss: 0.1764(0.1764) \n"
     ]
    },
    {
     "name": "stderr",
     "output_type": "stream",
     "text": [
      "Epoch 28 - avg_train_loss: 0.0841  avg_val_loss: 0.2232  time: 4s\n",
      "Epoch 28 - Score: 0.2273\n"
     ]
    },
    {
     "name": "stdout",
     "output_type": "stream",
     "text": [
      "EVAL: [2/3] Elapsed 0m 0s (remain 0m 0s) Loss: 0.2235(0.2232) \n",
      "Epoch: [29][0/19] Elapsed 0m 0s (remain 0m 2s) Loss: 0.0988(0.0988) Grad: 4.1614  LR: 0.000050  \n",
      "Epoch: [29][10/19] Elapsed 0m 1s (remain 0m 1s) Loss: 0.0969(0.0762) Grad: 5.9374  LR: 0.000050  \n",
      "Epoch: [29][18/19] Elapsed 0m 2s (remain 0m 0s) Loss: 0.0967(0.0802) Grad: 7.5341  LR: 0.000050  \n",
      "EVAL: [0/3] Elapsed 0m 0s (remain 0m 0s) Loss: 0.1655(0.1655) \n"
     ]
    },
    {
     "name": "stderr",
     "output_type": "stream",
     "text": [
      "Epoch 29 - avg_train_loss: 0.0802  avg_val_loss: 0.2202  time: 4s\n",
      "Epoch 29 - Score: 0.2250\n"
     ]
    },
    {
     "name": "stdout",
     "output_type": "stream",
     "text": [
      "EVAL: [2/3] Elapsed 0m 0s (remain 0m 0s) Loss: 0.2498(0.2202) \n",
      "Epoch: [30][0/19] Elapsed 0m 0s (remain 0m 2s) Loss: 0.0701(0.0701) Grad: 4.1605  LR: 0.000224  \n",
      "Epoch: [30][10/19] Elapsed 0m 1s (remain 0m 1s) Loss: 0.3285(0.1759) Grad: 17.5663  LR: 0.000224  \n",
      "Epoch: [30][18/19] Elapsed 0m 2s (remain 0m 0s) Loss: 0.1217(0.1766) Grad: 3.7018  LR: 0.000224  \n",
      "EVAL: [0/3] Elapsed 0m 0s (remain 0m 0s) Loss: 0.2293(0.2293) \n"
     ]
    },
    {
     "name": "stderr",
     "output_type": "stream",
     "text": [
      "Epoch 30 - avg_train_loss: 0.1766  avg_val_loss: 0.2809  time: 4s\n",
      "Epoch 30 - Score: 0.2843\n"
     ]
    },
    {
     "name": "stdout",
     "output_type": "stream",
     "text": [
      "EVAL: [2/3] Elapsed 0m 0s (remain 0m 0s) Loss: 0.3025(0.2809) \n",
      "Epoch: [31][0/19] Elapsed 0m 0s (remain 0m 2s) Loss: 0.1632(0.1632) Grad: 20.2707  LR: 0.000133  \n",
      "Epoch: [31][10/19] Elapsed 0m 1s (remain 0m 1s) Loss: 0.1462(0.1564) Grad: 15.6202  LR: 0.000133  \n",
      "Epoch: [31][18/19] Elapsed 0m 2s (remain 0m 0s) Loss: 0.1386(0.1505) Grad: 7.1119  LR: 0.000133  \n",
      "EVAL: [0/3] Elapsed 0m 0s (remain 0m 0s) Loss: 0.2362(0.2362) \n"
     ]
    },
    {
     "name": "stderr",
     "output_type": "stream",
     "text": [
      "Epoch 31 - avg_train_loss: 0.1505  avg_val_loss: 0.2772  time: 4s\n",
      "Epoch 31 - Score: 0.2800\n"
     ]
    },
    {
     "name": "stdout",
     "output_type": "stream",
     "text": [
      "EVAL: [2/3] Elapsed 0m 0s (remain 0m 0s) Loss: 0.2662(0.2772) \n",
      "Epoch: [32][0/19] Elapsed 0m 0s (remain 0m 2s) Loss: 0.2065(0.2065) Grad: 16.8313  LR: 0.000057  \n",
      "Epoch: [32][10/19] Elapsed 0m 1s (remain 0m 1s) Loss: 0.1270(0.1565) Grad: 13.9268  LR: 0.000057  \n",
      "Epoch: [32][18/19] Elapsed 0m 2s (remain 0m 0s) Loss: 0.1116(0.1533) Grad: 10.6470  LR: 0.000057  \n",
      "EVAL: [0/3] Elapsed 0m 0s (remain 0m 0s) Loss: 0.2210(0.2210) \n"
     ]
    },
    {
     "name": "stderr",
     "output_type": "stream",
     "text": [
      "Epoch 32 - avg_train_loss: 0.1533  avg_val_loss: 0.2430  time: 4s\n",
      "Epoch 32 - Score: 0.2472\n"
     ]
    },
    {
     "name": "stdout",
     "output_type": "stream",
     "text": [
      "EVAL: [2/3] Elapsed 0m 0s (remain 0m 0s) Loss: 0.1733(0.2430) \n",
      "Epoch: [33][0/19] Elapsed 0m 0s (remain 0m 2s) Loss: 0.1408(0.1408) Grad: 13.3444  LR: 0.000009  \n",
      "Epoch: [33][10/19] Elapsed 0m 1s (remain 0m 1s) Loss: 0.1128(0.1054) Grad: 6.7465  LR: 0.000009  \n",
      "Epoch: [33][18/19] Elapsed 0m 2s (remain 0m 0s) Loss: 0.0952(0.1054) Grad: 11.0420  LR: 0.000009  \n",
      "EVAL: [0/3] Elapsed 0m 0s (remain 0m 0s) Loss: 0.1708(0.1708) \n"
     ]
    },
    {
     "name": "stderr",
     "output_type": "stream",
     "text": [
      "Epoch 33 - avg_train_loss: 0.1054  avg_val_loss: 0.2220  time: 4s\n",
      "Epoch 33 - Score: 0.2288\n"
     ]
    },
    {
     "name": "stdout",
     "output_type": "stream",
     "text": [
      "EVAL: [2/3] Elapsed 0m 0s (remain 0m 0s) Loss: 0.1876(0.2220) \n",
      "Epoch: [34][0/19] Elapsed 0m 0s (remain 0m 2s) Loss: 0.0861(0.0861) Grad: 15.5066  LR: 0.000001  \n",
      "Epoch: [34][10/19] Elapsed 0m 1s (remain 0m 1s) Loss: 0.0778(0.0846) Grad: 2.6201  LR: 0.000001  \n",
      "Epoch: [34][18/19] Elapsed 0m 2s (remain 0m 0s) Loss: 0.0911(0.0810) Grad: 3.0300  LR: 0.000001  \n",
      "EVAL: [0/3] Elapsed 0m 0s (remain 0m 0s) Loss: 0.1731(0.1731) \n"
     ]
    },
    {
     "name": "stderr",
     "output_type": "stream",
     "text": [
      "Epoch 34 - avg_train_loss: 0.0810  avg_val_loss: 0.2272  time: 4s\n",
      "Epoch 34 - Score: 0.2338\n"
     ]
    },
    {
     "name": "stdout",
     "output_type": "stream",
     "text": [
      "EVAL: [2/3] Elapsed 0m 0s (remain 0m 0s) Loss: 0.2010(0.2272) \n",
      "Epoch: [35][0/19] Elapsed 0m 0s (remain 0m 2s) Loss: 0.0818(0.0818) Grad: 2.4760  LR: 0.000050  \n",
      "Epoch: [35][10/19] Elapsed 0m 1s (remain 0m 1s) Loss: 0.0735(0.0813) Grad: 2.3641  LR: 0.000050  \n",
      "Epoch: [35][18/19] Elapsed 0m 2s (remain 0m 0s) Loss: 0.0469(0.0840) Grad: 10.5590  LR: 0.000050  \n",
      "EVAL: [0/3] Elapsed 0m 0s (remain 0m 0s) Loss: 0.1580(0.1580) \n"
     ]
    },
    {
     "name": "stderr",
     "output_type": "stream",
     "text": [
      "Epoch 35 - avg_train_loss: 0.0840  avg_val_loss: 0.2168  time: 4s\n",
      "Epoch 35 - Score: 0.2230\n"
     ]
    },
    {
     "name": "stdout",
     "output_type": "stream",
     "text": [
      "EVAL: [2/3] Elapsed 0m 0s (remain 0m 0s) Loss: 0.2263(0.2168) \n",
      "Epoch: [36][0/19] Elapsed 0m 0s (remain 0m 2s) Loss: 0.0727(0.0727) Grad: 16.1500  LR: 0.000224  \n",
      "Epoch: [36][10/19] Elapsed 0m 1s (remain 0m 1s) Loss: 0.1707(0.1010) Grad: 14.2211  LR: 0.000224  \n",
      "Epoch: [36][18/19] Elapsed 0m 2s (remain 0m 0s) Loss: 0.1943(0.1135) Grad: 14.0749  LR: 0.000224  \n",
      "EVAL: [0/3] Elapsed 0m 0s (remain 0m 0s) Loss: 0.1696(0.1696) \n"
     ]
    },
    {
     "name": "stderr",
     "output_type": "stream",
     "text": [
      "Epoch 36 - avg_train_loss: 0.1135  avg_val_loss: 0.2156  time: 4s\n",
      "Epoch 36 - Score: 0.2198\n",
      "Epoch 36 - Save Best Score: 0.2198 Model\n"
     ]
    },
    {
     "name": "stdout",
     "output_type": "stream",
     "text": [
      "EVAL: [2/3] Elapsed 0m 0s (remain 0m 0s) Loss: 0.2100(0.2156) \n",
      "Epoch: [37][0/19] Elapsed 0m 0s (remain 0m 2s) Loss: 0.1162(0.1162) Grad: 12.9021  LR: 0.000133  \n",
      "Epoch: [37][10/19] Elapsed 0m 1s (remain 0m 1s) Loss: 0.1970(0.1747) Grad: 17.5464  LR: 0.000133  \n",
      "Epoch: [37][18/19] Elapsed 0m 2s (remain 0m 0s) Loss: 0.2620(0.1708) Grad: 20.6848  LR: 0.000133  \n",
      "EVAL: [0/3] Elapsed 0m 0s (remain 0m 0s) Loss: 0.2488(0.2488) \n"
     ]
    },
    {
     "name": "stderr",
     "output_type": "stream",
     "text": [
      "Epoch 37 - avg_train_loss: 0.1708  avg_val_loss: 0.2749  time: 3s\n",
      "Epoch 37 - Score: 0.2776\n"
     ]
    },
    {
     "name": "stdout",
     "output_type": "stream",
     "text": [
      "EVAL: [2/3] Elapsed 0m 0s (remain 0m 0s) Loss: 0.2297(0.2749) \n",
      "Epoch: [38][0/19] Elapsed 0m 0s (remain 0m 2s) Loss: 0.2173(0.2173) Grad: 18.7925  LR: 0.000057  \n",
      "Epoch: [38][10/19] Elapsed 0m 1s (remain 0m 1s) Loss: 0.1836(0.1903) Grad: 10.3497  LR: 0.000057  \n",
      "Epoch: [38][18/19] Elapsed 0m 2s (remain 0m 0s) Loss: 0.1560(0.1644) Grad: 14.9974  LR: 0.000057  \n",
      "EVAL: [0/3] Elapsed 0m 0s (remain 0m 0s) Loss: 0.1787(0.1787) \n"
     ]
    },
    {
     "name": "stderr",
     "output_type": "stream",
     "text": [
      "Epoch 38 - avg_train_loss: 0.1644  avg_val_loss: 0.2366  time: 4s\n",
      "Epoch 38 - Score: 0.2425\n"
     ]
    },
    {
     "name": "stdout",
     "output_type": "stream",
     "text": [
      "EVAL: [2/3] Elapsed 0m 0s (remain 0m 0s) Loss: 0.2358(0.2366) \n",
      "Epoch: [39][0/19] Elapsed 0m 0s (remain 0m 2s) Loss: 0.0976(0.0976) Grad: 4.0298  LR: 0.000009  \n",
      "Epoch: [39][10/19] Elapsed 0m 1s (remain 0m 1s) Loss: 0.1324(0.1035) Grad: 2.7469  LR: 0.000009  \n",
      "Epoch: [39][18/19] Elapsed 0m 2s (remain 0m 0s) Loss: 0.0879(0.1011) Grad: 2.7870  LR: 0.000009  \n",
      "EVAL: [0/3] Elapsed 0m 0s (remain 0m 0s) Loss: 0.1609(0.1609) \n"
     ]
    },
    {
     "name": "stderr",
     "output_type": "stream",
     "text": [
      "Epoch 39 - avg_train_loss: 0.1011  avg_val_loss: 0.2208  time: 4s\n",
      "Epoch 39 - Score: 0.2276\n"
     ]
    },
    {
     "name": "stdout",
     "output_type": "stream",
     "text": [
      "EVAL: [2/3] Elapsed 0m 0s (remain 0m 0s) Loss: 0.2169(0.2208) \n",
      "Epoch: [40][0/19] Elapsed 0m 0s (remain 0m 2s) Loss: 0.0741(0.0741) Grad: 9.2782  LR: 0.000001  \n",
      "Epoch: [40][10/19] Elapsed 0m 1s (remain 0m 1s) Loss: 0.0788(0.0820) Grad: 3.0852  LR: 0.000001  \n",
      "Epoch: [40][18/19] Elapsed 0m 2s (remain 0m 0s) Loss: 0.0741(0.0806) Grad: 2.7175  LR: 0.000001  \n",
      "EVAL: [0/3] Elapsed 0m 0s (remain 0m 0s) Loss: 0.1656(0.1656) \n"
     ]
    },
    {
     "name": "stderr",
     "output_type": "stream",
     "text": [
      "Epoch 40 - avg_train_loss: 0.0806  avg_val_loss: 0.2289  time: 4s\n",
      "Epoch 40 - Score: 0.2372\n",
      "========== fold: 3 result ==========\n",
      "Score: 0.2198\n",
      "========== fold: 4 training ==========\n"
     ]
    },
    {
     "name": "stdout",
     "output_type": "stream",
     "text": [
      "EVAL: [2/3] Elapsed 0m 0s (remain 0m 0s) Loss: 0.2076(0.2289) \n",
      "Epoch: [1][0/19] Elapsed 0m 0s (remain 0m 2s) Loss: 3.5695(3.5695) Grad: 25.6058  LR: 0.000100  \n",
      "Epoch: [1][10/19] Elapsed 0m 1s (remain 0m 1s) Loss: 0.6368(1.5163) Grad: 8.9405  LR: 0.000100  \n",
      "Epoch: [1][18/19] Elapsed 0m 2s (remain 0m 0s) Loss: 0.5111(1.0817) Grad: 6.0355  LR: 0.000100  \n",
      "EVAL: [0/3] Elapsed 0m 0s (remain 0m 0s) Loss: 0.4304(0.4304) \n"
     ]
    },
    {
     "name": "stderr",
     "output_type": "stream",
     "text": [
      "Epoch 1 - avg_train_loss: 1.0817  avg_val_loss: 0.4354  time: 3s\n",
      "Epoch 1 - Score: 0.4361\n",
      "Epoch 1 - Save Best Score: 0.4361 Model\n"
     ]
    },
    {
     "name": "stdout",
     "output_type": "stream",
     "text": [
      "EVAL: [2/3] Elapsed 0m 0s (remain 0m 0s) Loss: 0.3856(0.4354) \n",
      "Epoch: [2][0/19] Elapsed 0m 0s (remain 0m 2s) Loss: 0.3219(0.3219) Grad: 5.1639  LR: 0.000057  \n",
      "Epoch: [2][10/19] Elapsed 0m 1s (remain 0m 1s) Loss: 0.3145(0.3385) Grad: 4.3774  LR: 0.000057  \n",
      "Epoch: [2][18/19] Elapsed 0m 2s (remain 0m 0s) Loss: 0.2861(0.3348) Grad: 9.4515  LR: 0.000057  \n",
      "EVAL: [0/3] Elapsed 0m 0s (remain 0m 0s) Loss: 0.3731(0.3731) \n"
     ]
    },
    {
     "name": "stderr",
     "output_type": "stream",
     "text": [
      "Epoch 2 - avg_train_loss: 0.3348  avg_val_loss: 0.3180  time: 4s\n",
      "Epoch 2 - Score: 0.3214\n",
      "Epoch 2 - Save Best Score: 0.3214 Model\n"
     ]
    },
    {
     "name": "stdout",
     "output_type": "stream",
     "text": [
      "EVAL: [2/3] Elapsed 0m 0s (remain 0m 0s) Loss: 0.2756(0.3180) \n",
      "Epoch: [3][0/19] Elapsed 0m 0s (remain 0m 2s) Loss: 0.3022(0.3022) Grad: 13.7176  LR: 0.000009  \n",
      "Epoch: [3][10/19] Elapsed 0m 1s (remain 0m 1s) Loss: 0.2982(0.2624) Grad: 4.2020  LR: 0.000009  \n",
      "Epoch: [3][18/19] Elapsed 0m 2s (remain 0m 0s) Loss: 0.2943(0.2627) Grad: 4.8365  LR: 0.000009  \n",
      "EVAL: [0/3] Elapsed 0m 0s (remain 0m 0s) Loss: 0.3688(0.3688) \n"
     ]
    },
    {
     "name": "stderr",
     "output_type": "stream",
     "text": [
      "Epoch 3 - avg_train_loss: 0.2627  avg_val_loss: 0.2970  time: 4s\n",
      "Epoch 3 - Score: 0.3042\n",
      "Epoch 3 - Save Best Score: 0.3042 Model\n"
     ]
    },
    {
     "name": "stdout",
     "output_type": "stream",
     "text": [
      "EVAL: [2/3] Elapsed 0m 0s (remain 0m 0s) Loss: 0.1918(0.2970) \n",
      "Epoch: [4][0/19] Elapsed 0m 0s (remain 0m 2s) Loss: 0.2248(0.2248) Grad: 4.5948  LR: 0.000001  \n",
      "Epoch: [4][10/19] Elapsed 0m 1s (remain 0m 1s) Loss: 0.1958(0.2204) Grad: 5.4435  LR: 0.000001  \n",
      "Epoch: [4][18/19] Elapsed 0m 2s (remain 0m 0s) Loss: 0.2041(0.2137) Grad: 4.7923  LR: 0.000001  \n",
      "EVAL: [0/3] Elapsed 0m 0s (remain 0m 0s) Loss: 0.3507(0.3507) \n"
     ]
    },
    {
     "name": "stderr",
     "output_type": "stream",
     "text": [
      "Epoch 4 - avg_train_loss: 0.2137  avg_val_loss: 0.2895  time: 4s\n",
      "Epoch 4 - Score: 0.2943\n",
      "Epoch 4 - Save Best Score: 0.2943 Model\n"
     ]
    },
    {
     "name": "stdout",
     "output_type": "stream",
     "text": [
      "EVAL: [2/3] Elapsed 0m 0s (remain 0m 0s) Loss: 0.2218(0.2895) \n",
      "Epoch: [5][0/19] Elapsed 0m 0s (remain 0m 2s) Loss: 0.2046(0.2046) Grad: 5.2002  LR: 0.000050  \n",
      "Epoch: [5][10/19] Elapsed 0m 1s (remain 0m 1s) Loss: 0.1930(0.2081) Grad: 10.9346  LR: 0.000050  \n",
      "Epoch: [5][18/19] Elapsed 0m 2s (remain 0m 0s) Loss: 0.1976(0.2108) Grad: 16.4788  LR: 0.000050  \n",
      "EVAL: [0/3] Elapsed 0m 0s (remain 0m 0s) Loss: 0.3595(0.3595) \n"
     ]
    },
    {
     "name": "stderr",
     "output_type": "stream",
     "text": [
      "Epoch 5 - avg_train_loss: 0.2108  avg_val_loss: 0.2990  time: 3s\n",
      "Epoch 5 - Score: 0.3034\n"
     ]
    },
    {
     "name": "stdout",
     "output_type": "stream",
     "text": [
      "EVAL: [2/3] Elapsed 0m 0s (remain 0m 0s) Loss: 0.2479(0.2990) \n",
      "Epoch: [6][0/19] Elapsed 0m 0s (remain 0m 2s) Loss: 0.1361(0.1361) Grad: 7.4696  LR: 0.000224  \n",
      "Epoch: [6][10/19] Elapsed 0m 1s (remain 0m 1s) Loss: 0.2611(0.2389) Grad: 21.0959  LR: 0.000224  \n",
      "Epoch: [6][18/19] Elapsed 0m 2s (remain 0m 0s) Loss: 0.4502(0.2538) Grad: 25.9426  LR: 0.000224  \n",
      "EVAL: [0/3] Elapsed 0m 0s (remain 0m 0s) Loss: 0.3716(0.3716) \n"
     ]
    },
    {
     "name": "stderr",
     "output_type": "stream",
     "text": [
      "Epoch 6 - avg_train_loss: 0.2538  avg_val_loss: 0.3118  time: 4s\n",
      "Epoch 6 - Score: 0.3159\n"
     ]
    },
    {
     "name": "stdout",
     "output_type": "stream",
     "text": [
      "EVAL: [2/3] Elapsed 0m 0s (remain 0m 0s) Loss: 0.2583(0.3118) \n",
      "Epoch: [7][0/19] Elapsed 0m 0s (remain 0m 2s) Loss: 0.1964(0.1964) Grad: 12.8334  LR: 0.000133  \n",
      "Epoch: [7][10/19] Elapsed 0m 1s (remain 0m 1s) Loss: 0.2536(0.2751) Grad: 13.0887  LR: 0.000133  \n",
      "Epoch: [7][18/19] Elapsed 0m 2s (remain 0m 0s) Loss: 0.2876(0.2783) Grad: 22.5965  LR: 0.000133  \n",
      "EVAL: [0/3] Elapsed 0m 0s (remain 0m 0s) Loss: 0.3453(0.3453) \n"
     ]
    },
    {
     "name": "stderr",
     "output_type": "stream",
     "text": [
      "Epoch 7 - avg_train_loss: 0.2783  avg_val_loss: 0.2978  time: 4s\n",
      "Epoch 7 - Score: 0.3007\n"
     ]
    },
    {
     "name": "stdout",
     "output_type": "stream",
     "text": [
      "EVAL: [2/3] Elapsed 0m 0s (remain 0m 0s) Loss: 0.2377(0.2978) \n",
      "Epoch: [8][0/19] Elapsed 0m 0s (remain 0m 2s) Loss: 0.2401(0.2401) Grad: 11.7704  LR: 0.000057  \n",
      "Epoch: [8][10/19] Elapsed 0m 1s (remain 0m 1s) Loss: 0.1712(0.2314) Grad: 4.6485  LR: 0.000057  \n",
      "Epoch: [8][18/19] Elapsed 0m 2s (remain 0m 0s) Loss: 0.1639(0.2237) Grad: 15.1827  LR: 0.000057  \n",
      "EVAL: [0/3] Elapsed 0m 0s (remain 0m 0s) Loss: 0.3206(0.3206) \n"
     ]
    },
    {
     "name": "stderr",
     "output_type": "stream",
     "text": [
      "Epoch 8 - avg_train_loss: 0.2237  avg_val_loss: 0.2737  time: 4s\n",
      "Epoch 8 - Score: 0.2766\n",
      "Epoch 8 - Save Best Score: 0.2766 Model\n"
     ]
    },
    {
     "name": "stdout",
     "output_type": "stream",
     "text": [
      "EVAL: [2/3] Elapsed 0m 0s (remain 0m 0s) Loss: 0.2241(0.2737) \n",
      "Epoch: [9][0/19] Elapsed 0m 0s (remain 0m 2s) Loss: 0.1748(0.1748) Grad: 13.2302  LR: 0.000009  \n",
      "Epoch: [9][10/19] Elapsed 0m 1s (remain 0m 1s) Loss: 0.1679(0.1601) Grad: 14.5436  LR: 0.000009  \n",
      "Epoch: [9][18/19] Elapsed 0m 2s (remain 0m 0s) Loss: 0.1433(0.1580) Grad: 6.3037  LR: 0.000009  \n",
      "EVAL: [0/3] Elapsed 0m 0s (remain 0m 0s) Loss: 0.3225(0.3225) \n"
     ]
    },
    {
     "name": "stderr",
     "output_type": "stream",
     "text": [
      "Epoch 9 - avg_train_loss: 0.1580  avg_val_loss: 0.2567  time: 4s\n",
      "Epoch 9 - Score: 0.2637\n",
      "Epoch 9 - Save Best Score: 0.2637 Model\n"
     ]
    },
    {
     "name": "stdout",
     "output_type": "stream",
     "text": [
      "EVAL: [2/3] Elapsed 0m 0s (remain 0m 0s) Loss: 0.1605(0.2567) \n",
      "Epoch: [10][0/19] Elapsed 0m 0s (remain 0m 2s) Loss: 0.1506(0.1506) Grad: 10.0462  LR: 0.000001  \n",
      "Epoch: [10][10/19] Elapsed 0m 1s (remain 0m 1s) Loss: 0.1492(0.1463) Grad: 5.6258  LR: 0.000001  \n",
      "Epoch: [10][18/19] Elapsed 0m 2s (remain 0m 0s) Loss: 0.1506(0.1386) Grad: 6.2428  LR: 0.000001  \n",
      "EVAL: [0/3] Elapsed 0m 0s (remain 0m 0s) Loss: 0.2781(0.2781) \n"
     ]
    },
    {
     "name": "stderr",
     "output_type": "stream",
     "text": [
      "Epoch 10 - avg_train_loss: 0.1386  avg_val_loss: 0.2281  time: 3s\n",
      "Epoch 10 - Score: 0.2329\n",
      "Epoch 10 - Save Best Score: 0.2329 Model\n"
     ]
    },
    {
     "name": "stdout",
     "output_type": "stream",
     "text": [
      "EVAL: [2/3] Elapsed 0m 0s (remain 0m 0s) Loss: 0.1487(0.2281) \n",
      "Epoch: [11][0/19] Elapsed 0m 0s (remain 0m 2s) Loss: 0.1530(0.1530) Grad: 7.1224  LR: 0.000050  \n",
      "Epoch: [11][10/19] Elapsed 0m 1s (remain 0m 1s) Loss: 0.1053(0.1304) Grad: 13.6749  LR: 0.000050  \n",
      "Epoch: [11][18/19] Elapsed 0m 2s (remain 0m 0s) Loss: 0.1368(0.1321) Grad: 21.4198  LR: 0.000050  \n",
      "EVAL: [0/3] Elapsed 0m 0s (remain 0m 0s) Loss: 0.3228(0.3228) \n"
     ]
    },
    {
     "name": "stderr",
     "output_type": "stream",
     "text": [
      "Epoch 11 - avg_train_loss: 0.1321  avg_val_loss: 0.2494  time: 3s\n",
      "Epoch 11 - Score: 0.2572\n"
     ]
    },
    {
     "name": "stdout",
     "output_type": "stream",
     "text": [
      "EVAL: [2/3] Elapsed 0m 0s (remain 0m 0s) Loss: 0.1738(0.2494) \n",
      "Epoch: [12][0/19] Elapsed 0m 0s (remain 0m 2s) Loss: 0.1070(0.1070) Grad: 5.4163  LR: 0.000224  \n",
      "Epoch: [12][10/19] Elapsed 0m 1s (remain 0m 1s) Loss: 0.1623(0.2245) Grad: 9.8915  LR: 0.000224  \n",
      "Epoch: [12][18/19] Elapsed 0m 2s (remain 0m 0s) Loss: 0.1424(0.2173) Grad: 7.3006  LR: 0.000224  \n",
      "EVAL: [0/3] Elapsed 0m 0s (remain 0m 0s) Loss: 0.3471(0.3471) \n"
     ]
    },
    {
     "name": "stderr",
     "output_type": "stream",
     "text": [
      "Epoch 12 - avg_train_loss: 0.2173  avg_val_loss: 0.2911  time: 3s\n",
      "Epoch 12 - Score: 0.2951\n"
     ]
    },
    {
     "name": "stdout",
     "output_type": "stream",
     "text": [
      "EVAL: [2/3] Elapsed 0m 0s (remain 0m 0s) Loss: 0.2326(0.2911) \n",
      "Epoch: [13][0/19] Elapsed 0m 0s (remain 0m 2s) Loss: 0.2307(0.2307) Grad: 23.1008  LR: 0.000133  \n",
      "Epoch: [13][10/19] Elapsed 0m 1s (remain 0m 1s) Loss: 0.2376(0.1950) Grad: 10.3851  LR: 0.000133  \n",
      "Epoch: [13][18/19] Elapsed 0m 2s (remain 0m 0s) Loss: 0.2105(0.2013) Grad: 10.2467  LR: 0.000133  \n",
      "EVAL: [0/3] Elapsed 0m 0s (remain 0m 0s) Loss: 0.3675(0.3675) \n"
     ]
    },
    {
     "name": "stderr",
     "output_type": "stream",
     "text": [
      "Epoch 13 - avg_train_loss: 0.2013  avg_val_loss: 0.2985  time: 4s\n",
      "Epoch 13 - Score: 0.3056\n"
     ]
    },
    {
     "name": "stdout",
     "output_type": "stream",
     "text": [
      "EVAL: [2/3] Elapsed 0m 0s (remain 0m 0s) Loss: 0.1881(0.2985) \n",
      "Epoch: [14][0/19] Elapsed 0m 0s (remain 0m 2s) Loss: 0.2234(0.2234) Grad: 11.0997  LR: 0.000057  \n",
      "Epoch: [14][10/19] Elapsed 0m 1s (remain 0m 1s) Loss: 0.1674(0.2024) Grad: 3.7373  LR: 0.000057  \n",
      "Epoch: [14][18/19] Elapsed 0m 2s (remain 0m 0s) Loss: 0.1634(0.1933) Grad: 12.3980  LR: 0.000057  \n",
      "EVAL: [0/3] Elapsed 0m 0s (remain 0m 0s) Loss: 0.3122(0.3122) \n"
     ]
    },
    {
     "name": "stderr",
     "output_type": "stream",
     "text": [
      "Epoch 14 - avg_train_loss: 0.1933  avg_val_loss: 0.2623  time: 4s\n",
      "Epoch 14 - Score: 0.2669\n"
     ]
    },
    {
     "name": "stdout",
     "output_type": "stream",
     "text": [
      "EVAL: [2/3] Elapsed 0m 0s (remain 0m 0s) Loss: 0.1729(0.2623) \n",
      "Epoch: [15][0/19] Elapsed 0m 0s (remain 0m 2s) Loss: 0.1380(0.1380) Grad: 9.5112  LR: 0.000009  \n",
      "Epoch: [15][10/19] Elapsed 0m 1s (remain 0m 1s) Loss: 0.1245(0.1427) Grad: 3.7811  LR: 0.000009  \n",
      "Epoch: [15][18/19] Elapsed 0m 2s (remain 0m 0s) Loss: 0.1565(0.1434) Grad: 5.4024  LR: 0.000009  \n",
      "EVAL: [0/3] Elapsed 0m 0s (remain 0m 0s) Loss: 0.2878(0.2878) \n"
     ]
    },
    {
     "name": "stderr",
     "output_type": "stream",
     "text": [
      "Epoch 15 - avg_train_loss: 0.1434  avg_val_loss: 0.2408  time: 4s\n",
      "Epoch 15 - Score: 0.2446\n"
     ]
    },
    {
     "name": "stdout",
     "output_type": "stream",
     "text": [
      "EVAL: [2/3] Elapsed 0m 0s (remain 0m 0s) Loss: 0.1739(0.2408) \n",
      "Epoch: [16][0/19] Elapsed 0m 0s (remain 0m 2s) Loss: 0.1298(0.1298) Grad: 2.8266  LR: 0.000001  \n",
      "Epoch: [16][10/19] Elapsed 0m 1s (remain 0m 1s) Loss: 0.0899(0.1047) Grad: 4.7585  LR: 0.000001  \n",
      "Epoch: [16][18/19] Elapsed 0m 2s (remain 0m 0s) Loss: 0.0981(0.1072) Grad: 5.9057  LR: 0.000001  \n",
      "EVAL: [0/3] Elapsed 0m 0s (remain 0m 0s) Loss: 0.2914(0.2914) \n"
     ]
    },
    {
     "name": "stderr",
     "output_type": "stream",
     "text": [
      "Epoch 16 - avg_train_loss: 0.1072  avg_val_loss: 0.2369  time: 3s\n",
      "Epoch 16 - Score: 0.2427\n"
     ]
    },
    {
     "name": "stdout",
     "output_type": "stream",
     "text": [
      "EVAL: [2/3] Elapsed 0m 0s (remain 0m 0s) Loss: 0.1447(0.2369) \n",
      "Epoch: [17][0/19] Elapsed 0m 0s (remain 0m 2s) Loss: 0.1432(0.1432) Grad: 7.9311  LR: 0.000050  \n",
      "Epoch: [17][10/19] Elapsed 0m 1s (remain 0m 1s) Loss: 0.1098(0.1167) Grad: 13.3205  LR: 0.000050  \n",
      "Epoch: [17][18/19] Elapsed 0m 2s (remain 0m 0s) Loss: 0.1126(0.1126) Grad: 8.1703  LR: 0.000050  \n",
      "EVAL: [0/3] Elapsed 0m 0s (remain 0m 0s) Loss: 0.3055(0.3055) \n"
     ]
    },
    {
     "name": "stderr",
     "output_type": "stream",
     "text": [
      "Epoch 17 - avg_train_loss: 0.1126  avg_val_loss: 0.2375  time: 4s\n",
      "Epoch 17 - Score: 0.2465\n"
     ]
    },
    {
     "name": "stdout",
     "output_type": "stream",
     "text": [
      "EVAL: [2/3] Elapsed 0m 0s (remain 0m 0s) Loss: 0.1215(0.2375) \n",
      "Epoch: [18][0/19] Elapsed 0m 0s (remain 0m 2s) Loss: 0.0977(0.0977) Grad: 14.8757  LR: 0.000224  \n",
      "Epoch: [18][10/19] Elapsed 0m 1s (remain 0m 1s) Loss: 0.2083(0.1590) Grad: 22.6221  LR: 0.000224  \n",
      "Epoch: [18][18/19] Elapsed 0m 2s (remain 0m 0s) Loss: 0.1093(0.1624) Grad: 8.1420  LR: 0.000224  \n",
      "EVAL: [0/3] Elapsed 0m 0s (remain 0m 0s) Loss: 0.3603(0.3603) \n"
     ]
    },
    {
     "name": "stderr",
     "output_type": "stream",
     "text": [
      "Epoch 18 - avg_train_loss: 0.1624  avg_val_loss: 0.3093  time: 4s\n",
      "Epoch 18 - Score: 0.3123\n"
     ]
    },
    {
     "name": "stdout",
     "output_type": "stream",
     "text": [
      "EVAL: [2/3] Elapsed 0m 0s (remain 0m 0s) Loss: 0.2627(0.3093) \n",
      "Epoch: [19][0/19] Elapsed 0m 0s (remain 0m 2s) Loss: 0.2177(0.2177) Grad: 22.2175  LR: 0.000133  \n",
      "Epoch: [19][10/19] Elapsed 0m 1s (remain 0m 1s) Loss: 0.4312(0.2345) Grad: 24.3100  LR: 0.000133  \n",
      "Epoch: [19][18/19] Elapsed 0m 2s (remain 0m 0s) Loss: 0.4125(0.2694) Grad: 26.1573  LR: 0.000133  \n",
      "EVAL: [0/3] Elapsed 0m 0s (remain 0m 0s) Loss: 0.5502(0.5502) \n"
     ]
    },
    {
     "name": "stderr",
     "output_type": "stream",
     "text": [
      "Epoch 19 - avg_train_loss: 0.2694  avg_val_loss: 0.5136  time: 3s\n",
      "Epoch 19 - Score: 0.5160\n"
     ]
    },
    {
     "name": "stdout",
     "output_type": "stream",
     "text": [
      "EVAL: [2/3] Elapsed 0m 0s (remain 0m 0s) Loss: 0.4092(0.5136) \n",
      "Epoch: [20][0/19] Elapsed 0m 0s (remain 0m 2s) Loss: 0.4463(0.4463) Grad: 28.3613  LR: 0.000057  \n",
      "Epoch: [20][10/19] Elapsed 0m 1s (remain 0m 1s) Loss: 0.1901(0.2742) Grad: 6.0250  LR: 0.000057  \n",
      "Epoch: [20][18/19] Elapsed 0m 2s (remain 0m 0s) Loss: 0.1251(0.2197) Grad: 11.4974  LR: 0.000057  \n",
      "EVAL: [0/3] Elapsed 0m 0s (remain 0m 0s) Loss: 0.3158(0.3158) \n"
     ]
    },
    {
     "name": "stderr",
     "output_type": "stream",
     "text": [
      "Epoch 20 - avg_train_loss: 0.2197  avg_val_loss: 0.2495  time: 4s\n",
      "Epoch 20 - Score: 0.2557\n"
     ]
    },
    {
     "name": "stdout",
     "output_type": "stream",
     "text": [
      "EVAL: [2/3] Elapsed 0m 0s (remain 0m 0s) Loss: 0.1907(0.2495) \n",
      "Epoch: [21][0/19] Elapsed 0m 0s (remain 0m 2s) Loss: 0.1607(0.1607) Grad: 16.3416  LR: 0.000009  \n",
      "Epoch: [21][10/19] Elapsed 0m 1s (remain 0m 1s) Loss: 0.1015(0.1414) Grad: 6.4050  LR: 0.000009  \n",
      "Epoch: [21][18/19] Elapsed 0m 2s (remain 0m 0s) Loss: 0.1178(0.1333) Grad: 2.7417  LR: 0.000009  \n",
      "EVAL: [0/3] Elapsed 0m 0s (remain 0m 0s) Loss: 0.3039(0.3039) \n"
     ]
    },
    {
     "name": "stderr",
     "output_type": "stream",
     "text": [
      "Epoch 21 - avg_train_loss: 0.1333  avg_val_loss: 0.2346  time: 4s\n",
      "Epoch 21 - Score: 0.2427\n"
     ]
    },
    {
     "name": "stdout",
     "output_type": "stream",
     "text": [
      "EVAL: [2/3] Elapsed 0m 0s (remain 0m 0s) Loss: 0.1411(0.2346) \n",
      "Epoch: [22][0/19] Elapsed 0m 0s (remain 0m 2s) Loss: 0.0808(0.0808) Grad: 6.0451  LR: 0.000001  \n",
      "Epoch: [22][10/19] Elapsed 0m 1s (remain 0m 1s) Loss: 0.1252(0.1103) Grad: 6.9989  LR: 0.000001  \n",
      "Epoch: [22][18/19] Elapsed 0m 2s (remain 0m 0s) Loss: 0.0958(0.1054) Grad: 3.0391  LR: 0.000001  \n",
      "EVAL: [0/3] Elapsed 0m 0s (remain 0m 0s) Loss: 0.3088(0.3088) \n"
     ]
    },
    {
     "name": "stderr",
     "output_type": "stream",
     "text": [
      "Epoch 22 - avg_train_loss: 0.1054  avg_val_loss: 0.2344  time: 4s\n",
      "Epoch 22 - Score: 0.2437\n"
     ]
    },
    {
     "name": "stdout",
     "output_type": "stream",
     "text": [
      "EVAL: [2/3] Elapsed 0m 0s (remain 0m 0s) Loss: 0.1347(0.2344) \n",
      "Epoch: [23][0/19] Elapsed 0m 0s (remain 0m 2s) Loss: 0.0979(0.0979) Grad: 5.3666  LR: 0.000050  \n",
      "Epoch: [23][10/19] Elapsed 0m 1s (remain 0m 1s) Loss: 0.0756(0.0976) Grad: 14.4485  LR: 0.000050  \n",
      "Epoch: [23][18/19] Elapsed 0m 2s (remain 0m 0s) Loss: 0.0710(0.0972) Grad: 8.3647  LR: 0.000050  \n",
      "EVAL: [0/3] Elapsed 0m 0s (remain 0m 0s) Loss: 0.3058(0.3058) \n"
     ]
    },
    {
     "name": "stderr",
     "output_type": "stream",
     "text": [
      "Epoch 23 - avg_train_loss: 0.0972  avg_val_loss: 0.2360  time: 3s\n",
      "Epoch 23 - Score: 0.2442\n"
     ]
    },
    {
     "name": "stdout",
     "output_type": "stream",
     "text": [
      "EVAL: [2/3] Elapsed 0m 0s (remain 0m 0s) Loss: 0.1421(0.2360) \n",
      "Epoch: [24][0/19] Elapsed 0m 0s (remain 0m 2s) Loss: 0.0869(0.0869) Grad: 9.9945  LR: 0.000224  \n",
      "Epoch: [24][10/19] Elapsed 0m 1s (remain 0m 1s) Loss: 0.0893(0.0988) Grad: 6.3030  LR: 0.000224  \n",
      "Epoch: [24][18/19] Elapsed 0m 2s (remain 0m 0s) Loss: 0.1385(0.1072) Grad: 12.8495  LR: 0.000224  \n",
      "EVAL: [0/3] Elapsed 0m 0s (remain 0m 0s) Loss: 0.3131(0.3131) \n"
     ]
    },
    {
     "name": "stderr",
     "output_type": "stream",
     "text": [
      "Epoch 24 - avg_train_loss: 0.1072  avg_val_loss: 0.2399  time: 3s\n",
      "Epoch 24 - Score: 0.2487\n"
     ]
    },
    {
     "name": "stdout",
     "output_type": "stream",
     "text": [
      "EVAL: [2/3] Elapsed 0m 0s (remain 0m 0s) Loss: 0.1430(0.2399) \n",
      "Epoch: [25][0/19] Elapsed 0m 0s (remain 0m 2s) Loss: 0.0969(0.0969) Grad: 8.2829  LR: 0.000133  \n",
      "Epoch: [25][10/19] Elapsed 0m 1s (remain 0m 1s) Loss: 0.1093(0.1248) Grad: 11.8823  LR: 0.000133  \n",
      "Epoch: [25][18/19] Elapsed 0m 2s (remain 0m 0s) Loss: 0.1699(0.1345) Grad: 20.0572  LR: 0.000133  \n",
      "EVAL: [0/3] Elapsed 0m 0s (remain 0m 0s) Loss: 0.3083(0.3083) \n"
     ]
    },
    {
     "name": "stderr",
     "output_type": "stream",
     "text": [
      "Epoch 25 - avg_train_loss: 0.1345  avg_val_loss: 0.2346  time: 4s\n",
      "Epoch 25 - Score: 0.2431\n"
     ]
    },
    {
     "name": "stdout",
     "output_type": "stream",
     "text": [
      "EVAL: [2/3] Elapsed 0m 0s (remain 0m 0s) Loss: 0.1554(0.2346) \n",
      "Epoch: [26][0/19] Elapsed 0m 0s (remain 0m 2s) Loss: 0.1241(0.1241) Grad: 3.3533  LR: 0.000057  \n",
      "Epoch: [26][10/19] Elapsed 0m 1s (remain 0m 1s) Loss: 0.1221(0.1291) Grad: 6.2302  LR: 0.000057  \n",
      "Epoch: [26][18/19] Elapsed 0m 2s (remain 0m 0s) Loss: 0.1401(0.1275) Grad: 4.7517  LR: 0.000057  \n",
      "EVAL: [0/3] Elapsed 0m 0s (remain 0m 0s) Loss: 0.2910(0.2910) \n"
     ]
    },
    {
     "name": "stderr",
     "output_type": "stream",
     "text": [
      "Epoch 26 - avg_train_loss: 0.1275  avg_val_loss: 0.2300  time: 4s\n",
      "Epoch 26 - Score: 0.2361\n"
     ]
    },
    {
     "name": "stdout",
     "output_type": "stream",
     "text": [
      "EVAL: [2/3] Elapsed 0m 0s (remain 0m 0s) Loss: 0.1580(0.2300) \n",
      "Epoch: [27][0/19] Elapsed 0m 0s (remain 0m 2s) Loss: 0.0969(0.0969) Grad: 9.0371  LR: 0.000009  \n",
      "Epoch: [27][10/19] Elapsed 0m 1s (remain 0m 1s) Loss: 0.0915(0.0947) Grad: 10.4818  LR: 0.000009  \n",
      "Epoch: [27][18/19] Elapsed 0m 2s (remain 0m 0s) Loss: 0.0807(0.0939) Grad: 5.6832  LR: 0.000009  \n",
      "EVAL: [0/3] Elapsed 0m 0s (remain 0m 0s) Loss: 0.3013(0.3013) \n"
     ]
    },
    {
     "name": "stderr",
     "output_type": "stream",
     "text": [
      "Epoch 27 - avg_train_loss: 0.0939  avg_val_loss: 0.2375  time: 4s\n",
      "Epoch 27 - Score: 0.2445\n"
     ]
    },
    {
     "name": "stdout",
     "output_type": "stream",
     "text": [
      "EVAL: [2/3] Elapsed 0m 0s (remain 0m 0s) Loss: 0.1477(0.2375) \n",
      "Epoch: [28][0/19] Elapsed 0m 0s (remain 0m 2s) Loss: 0.1056(0.1056) Grad: 9.2948  LR: 0.000001  \n",
      "Epoch: [28][10/19] Elapsed 0m 1s (remain 0m 1s) Loss: 0.0884(0.0879) Grad: 3.4953  LR: 0.000001  \n",
      "Epoch: [28][18/19] Elapsed 0m 2s (remain 0m 0s) Loss: 0.0836(0.0885) Grad: 13.1446  LR: 0.000001  \n",
      "EVAL: [0/3] Elapsed 0m 0s (remain 0m 0s) Loss: 0.2963(0.2963) \n"
     ]
    },
    {
     "name": "stderr",
     "output_type": "stream",
     "text": [
      "Epoch 28 - avg_train_loss: 0.0885  avg_val_loss: 0.2353  time: 4s\n",
      "Epoch 28 - Score: 0.2415\n"
     ]
    },
    {
     "name": "stdout",
     "output_type": "stream",
     "text": [
      "EVAL: [2/3] Elapsed 0m 0s (remain 0m 0s) Loss: 0.1561(0.2353) \n",
      "Epoch: [29][0/19] Elapsed 0m 0s (remain 0m 2s) Loss: 0.0718(0.0718) Grad: 10.2796  LR: 0.000050  \n",
      "Epoch: [29][10/19] Elapsed 0m 1s (remain 0m 1s) Loss: 0.1527(0.1484) Grad: 23.1129  LR: 0.000050  \n",
      "Epoch: [29][18/19] Elapsed 0m 2s (remain 0m 0s) Loss: 0.0745(0.1407) Grad: 2.6698  LR: 0.000050  \n",
      "EVAL: [0/3] Elapsed 0m 0s (remain 0m 0s) Loss: 0.3220(0.3220) \n"
     ]
    },
    {
     "name": "stderr",
     "output_type": "stream",
     "text": [
      "Epoch 29 - avg_train_loss: 0.1407  avg_val_loss: 0.2578  time: 3s\n",
      "Epoch 29 - Score: 0.2639\n"
     ]
    },
    {
     "name": "stdout",
     "output_type": "stream",
     "text": [
      "EVAL: [2/3] Elapsed 0m 0s (remain 0m 0s) Loss: 0.1816(0.2578) \n",
      "Epoch: [30][0/19] Elapsed 0m 0s (remain 0m 2s) Loss: 0.1277(0.1277) Grad: 22.4969  LR: 0.000224  \n",
      "Epoch: [30][10/19] Elapsed 0m 1s (remain 0m 1s) Loss: 0.1324(0.1419) Grad: 14.8933  LR: 0.000224  \n",
      "Epoch: [30][18/19] Elapsed 0m 2s (remain 0m 0s) Loss: 0.1161(0.1445) Grad: 6.2377  LR: 0.000224  \n",
      "EVAL: [0/3] Elapsed 0m 0s (remain 0m 0s) Loss: 0.3508(0.3508) \n"
     ]
    },
    {
     "name": "stderr",
     "output_type": "stream",
     "text": [
      "Epoch 30 - avg_train_loss: 0.1445  avg_val_loss: 0.3045  time: 4s\n",
      "Epoch 30 - Score: 0.3075\n"
     ]
    },
    {
     "name": "stdout",
     "output_type": "stream",
     "text": [
      "EVAL: [2/3] Elapsed 0m 0s (remain 0m 0s) Loss: 0.2356(0.3045) \n",
      "Epoch: [31][0/19] Elapsed 0m 0s (remain 0m 2s) Loss: 0.2116(0.2116) Grad: 22.8170  LR: 0.000133  \n",
      "Epoch: [31][10/19] Elapsed 0m 1s (remain 0m 1s) Loss: 0.1696(0.1768) Grad: 10.5402  LR: 0.000133  \n",
      "Epoch: [31][18/19] Elapsed 0m 2s (remain 0m 0s) Loss: 0.1935(0.1668) Grad: 13.8034  LR: 0.000133  \n",
      "EVAL: [0/3] Elapsed 0m 0s (remain 0m 0s) Loss: 0.3402(0.3402) \n"
     ]
    },
    {
     "name": "stderr",
     "output_type": "stream",
     "text": [
      "Epoch 31 - avg_train_loss: 0.1668  avg_val_loss: 0.2826  time: 4s\n",
      "Epoch 31 - Score: 0.2869\n"
     ]
    },
    {
     "name": "stdout",
     "output_type": "stream",
     "text": [
      "EVAL: [2/3] Elapsed 0m 0s (remain 0m 0s) Loss: 0.2238(0.2826) \n",
      "Epoch: [32][0/19] Elapsed 0m 0s (remain 0m 2s) Loss: 0.1399(0.1399) Grad: 15.6242  LR: 0.000057  \n",
      "Epoch: [32][10/19] Elapsed 0m 1s (remain 0m 1s) Loss: 0.1366(0.1466) Grad: 9.6583  LR: 0.000057  \n",
      "Epoch: [32][18/19] Elapsed 0m 2s (remain 0m 0s) Loss: 0.1544(0.1416) Grad: 6.8121  LR: 0.000057  \n",
      "EVAL: [0/3] Elapsed 0m 0s (remain 0m 0s) Loss: 0.3233(0.3233) \n"
     ]
    },
    {
     "name": "stderr",
     "output_type": "stream",
     "text": [
      "Epoch 32 - avg_train_loss: 0.1416  avg_val_loss: 0.2912  time: 3s\n",
      "Epoch 32 - Score: 0.2926\n"
     ]
    },
    {
     "name": "stdout",
     "output_type": "stream",
     "text": [
      "EVAL: [2/3] Elapsed 0m 0s (remain 0m 0s) Loss: 0.2482(0.2912) \n",
      "Epoch: [33][0/19] Elapsed 0m 0s (remain 0m 2s) Loss: 0.1764(0.1764) Grad: 18.4668  LR: 0.000009  \n",
      "Epoch: [33][10/19] Elapsed 0m 1s (remain 0m 1s) Loss: 0.0850(0.1241) Grad: 7.2251  LR: 0.000009  \n",
      "Epoch: [33][18/19] Elapsed 0m 2s (remain 0m 0s) Loss: 0.1257(0.1137) Grad: 4.1377  LR: 0.000009  \n",
      "EVAL: [0/3] Elapsed 0m 0s (remain 0m 0s) Loss: 0.2924(0.2924) \n"
     ]
    },
    {
     "name": "stderr",
     "output_type": "stream",
     "text": [
      "Epoch 33 - avg_train_loss: 0.1137  avg_val_loss: 0.2447  time: 4s\n",
      "Epoch 33 - Score: 0.2481\n"
     ]
    },
    {
     "name": "stdout",
     "output_type": "stream",
     "text": [
      "EVAL: [2/3] Elapsed 0m 0s (remain 0m 0s) Loss: 0.1999(0.2447) \n",
      "Epoch: [34][0/19] Elapsed 0m 0s (remain 0m 2s) Loss: 0.1168(0.1168) Grad: 10.6678  LR: 0.000001  \n",
      "Epoch: [34][10/19] Elapsed 0m 1s (remain 0m 1s) Loss: 0.0815(0.0943) Grad: 2.9488  LR: 0.000001  \n",
      "Epoch: [34][18/19] Elapsed 0m 2s (remain 0m 0s) Loss: 0.0733(0.0865) Grad: 3.2280  LR: 0.000001  \n",
      "EVAL: [0/3] Elapsed 0m 0s (remain 0m 0s) Loss: 0.2959(0.2959) \n"
     ]
    },
    {
     "name": "stderr",
     "output_type": "stream",
     "text": [
      "Epoch 34 - avg_train_loss: 0.0865  avg_val_loss: 0.2383  time: 4s\n",
      "Epoch 34 - Score: 0.2436\n"
     ]
    },
    {
     "name": "stdout",
     "output_type": "stream",
     "text": [
      "EVAL: [2/3] Elapsed 0m 0s (remain 0m 0s) Loss: 0.1676(0.2383) \n",
      "Epoch: [35][0/19] Elapsed 0m 0s (remain 0m 2s) Loss: 0.0717(0.0717) Grad: 8.2475  LR: 0.000050  \n",
      "Epoch: [35][10/19] Elapsed 0m 1s (remain 0m 1s) Loss: 0.0905(0.0798) Grad: 15.3601  LR: 0.000050  \n",
      "Epoch: [35][18/19] Elapsed 0m 2s (remain 0m 0s) Loss: 0.0834(0.0823) Grad: 3.8568  LR: 0.000050  \n",
      "EVAL: [0/3] Elapsed 0m 0s (remain 0m 0s) Loss: 0.2943(0.2943) \n"
     ]
    },
    {
     "name": "stderr",
     "output_type": "stream",
     "text": [
      "Epoch 35 - avg_train_loss: 0.0823  avg_val_loss: 0.2349  time: 3s\n",
      "Epoch 35 - Score: 0.2403\n"
     ]
    },
    {
     "name": "stdout",
     "output_type": "stream",
     "text": [
      "EVAL: [2/3] Elapsed 0m 0s (remain 0m 0s) Loss: 0.1774(0.2349) \n",
      "Epoch: [36][0/19] Elapsed 0m 0s (remain 0m 2s) Loss: 0.0631(0.0631) Grad: 5.4255  LR: 0.000224  \n",
      "Epoch: [36][10/19] Elapsed 0m 1s (remain 0m 1s) Loss: 0.0716(0.0868) Grad: 13.0135  LR: 0.000224  \n",
      "Epoch: [36][18/19] Elapsed 0m 2s (remain 0m 0s) Loss: 0.0799(0.0914) Grad: 9.6173  LR: 0.000224  \n",
      "EVAL: [0/3] Elapsed 0m 0s (remain 0m 0s) Loss: 0.3111(0.3111) \n"
     ]
    },
    {
     "name": "stderr",
     "output_type": "stream",
     "text": [
      "Epoch 36 - avg_train_loss: 0.0914  avg_val_loss: 0.2323  time: 4s\n",
      "Epoch 36 - Score: 0.2417\n"
     ]
    },
    {
     "name": "stdout",
     "output_type": "stream",
     "text": [
      "EVAL: [2/3] Elapsed 0m 0s (remain 0m 0s) Loss: 0.1646(0.2323) \n",
      "Epoch: [37][0/19] Elapsed 0m 0s (remain 0m 2s) Loss: 0.1043(0.1043) Grad: 20.9061  LR: 0.000133  \n",
      "Epoch: [37][10/19] Elapsed 0m 1s (remain 0m 1s) Loss: 0.2317(0.1397) Grad: 18.3390  LR: 0.000133  \n",
      "Epoch: [37][18/19] Elapsed 0m 2s (remain 0m 0s) Loss: 0.1748(0.1401) Grad: 20.2543  LR: 0.000133  \n",
      "EVAL: [0/3] Elapsed 0m 0s (remain 0m 0s) Loss: 0.3444(0.3444) \n"
     ]
    },
    {
     "name": "stderr",
     "output_type": "stream",
     "text": [
      "Epoch 37 - avg_train_loss: 0.1401  avg_val_loss: 0.2913  time: 3s\n",
      "Epoch 37 - Score: 0.2949\n"
     ]
    },
    {
     "name": "stdout",
     "output_type": "stream",
     "text": [
      "EVAL: [2/3] Elapsed 0m 0s (remain 0m 0s) Loss: 0.2343(0.2913) \n",
      "Epoch: [38][0/19] Elapsed 0m 0s (remain 0m 2s) Loss: 0.1332(0.1332) Grad: 17.7534  LR: 0.000057  \n",
      "Epoch: [38][10/19] Elapsed 0m 1s (remain 0m 1s) Loss: 0.0750(0.1252) Grad: 14.4652  LR: 0.000057  \n",
      "Epoch: [38][18/19] Elapsed 0m 2s (remain 0m 0s) Loss: 0.0830(0.1184) Grad: 2.7452  LR: 0.000057  \n",
      "EVAL: [0/3] Elapsed 0m 0s (remain 0m 0s) Loss: 0.2986(0.2986) \n"
     ]
    },
    {
     "name": "stderr",
     "output_type": "stream",
     "text": [
      "Epoch 38 - avg_train_loss: 0.1184  avg_val_loss: 0.2332  time: 4s\n",
      "Epoch 38 - Score: 0.2397\n"
     ]
    },
    {
     "name": "stdout",
     "output_type": "stream",
     "text": [
      "EVAL: [2/3] Elapsed 0m 0s (remain 0m 0s) Loss: 0.1751(0.2332) \n",
      "Epoch: [39][0/19] Elapsed 0m 0s (remain 0m 2s) Loss: 0.0689(0.0689) Grad: 2.0933  LR: 0.000009  \n",
      "Epoch: [39][10/19] Elapsed 0m 1s (remain 0m 1s) Loss: 0.1130(0.0885) Grad: 2.5278  LR: 0.000009  \n",
      "Epoch: [39][18/19] Elapsed 0m 2s (remain 0m 0s) Loss: 0.0700(0.0837) Grad: 3.5434  LR: 0.000009  \n",
      "EVAL: [0/3] Elapsed 0m 0s (remain 0m 0s) Loss: 0.2866(0.2866) \n"
     ]
    },
    {
     "name": "stderr",
     "output_type": "stream",
     "text": [
      "Epoch 39 - avg_train_loss: 0.0837  avg_val_loss: 0.2230  time: 3s\n",
      "Epoch 39 - Score: 0.2294\n",
      "Epoch 39 - Save Best Score: 0.2294 Model\n"
     ]
    },
    {
     "name": "stdout",
     "output_type": "stream",
     "text": [
      "EVAL: [2/3] Elapsed 0m 0s (remain 0m 0s) Loss: 0.1646(0.2230) \n",
      "Epoch: [40][0/19] Elapsed 0m 0s (remain 0m 2s) Loss: 0.0695(0.0695) Grad: 3.5583  LR: 0.000001  \n",
      "Epoch: [40][10/19] Elapsed 0m 1s (remain 0m 1s) Loss: 0.0509(0.0704) Grad: 6.5646  LR: 0.000001  \n",
      "Epoch: [40][18/19] Elapsed 0m 2s (remain 0m 0s) Loss: 0.0559(0.0687) Grad: 4.7611  LR: 0.000001  \n",
      "EVAL: [0/3] Elapsed 0m 0s (remain 0m 0s) Loss: 0.3029(0.3029) \n"
     ]
    },
    {
     "name": "stderr",
     "output_type": "stream",
     "text": [
      "Epoch 40 - avg_train_loss: 0.0687  avg_val_loss: 0.2301  time: 4s\n",
      "Epoch 40 - Score: 0.2385\n",
      "========== fold: 4 result ==========\n",
      "Score: 0.2294\n",
      "========== CV ==========\n",
      "Score: 0.2058\n",
      "========== seed20 ==========\n"
     ]
    },
    {
     "name": "stdout",
     "output_type": "stream",
     "text": [
      "EVAL: [2/3] Elapsed 0m 0s (remain 0m 0s) Loss: 0.1494(0.2301) \n"
     ]
    },
    {
     "name": "stderr",
     "output_type": "stream",
     "text": [
      "========== fold: 0 training ==========\n"
     ]
    },
    {
     "name": "stdout",
     "output_type": "stream",
     "text": [
      "Epoch: [1][0/19] Elapsed 0m 0s (remain 0m 2s) Loss: 3.1335(3.1335) Grad: 25.5460  LR: 0.000100  \n",
      "Epoch: [1][10/19] Elapsed 0m 1s (remain 0m 1s) Loss: 0.7928(1.6074) Grad: 25.3466  LR: 0.000100  \n",
      "Epoch: [1][18/19] Elapsed 0m 2s (remain 0m 0s) Loss: 0.5487(1.1957) Grad: 16.6404  LR: 0.000100  \n",
      "EVAL: [0/3] Elapsed 0m 0s (remain 0m 0s) Loss: 0.4708(0.4708) \n"
     ]
    },
    {
     "name": "stderr",
     "output_type": "stream",
     "text": [
      "Epoch 1 - avg_train_loss: 1.1957  avg_val_loss: 0.4708  time: 4s\n",
      "Epoch 1 - Score: 0.4715\n",
      "Epoch 1 - Save Best Score: 0.4715 Model\n"
     ]
    },
    {
     "name": "stdout",
     "output_type": "stream",
     "text": [
      "EVAL: [2/3] Elapsed 0m 0s (remain 0m 0s) Loss: 0.4153(0.4708) \n",
      "Epoch: [2][0/19] Elapsed 0m 0s (remain 0m 2s) Loss: 0.5138(0.5138) Grad: 6.8244  LR: 0.000057  \n",
      "Epoch: [2][10/19] Elapsed 0m 1s (remain 0m 1s) Loss: 0.3434(0.4075) Grad: 11.7617  LR: 0.000057  \n",
      "Epoch: [2][18/19] Elapsed 0m 2s (remain 0m 0s) Loss: 0.4103(0.3972) Grad: 7.1779  LR: 0.000057  \n",
      "EVAL: [0/3] Elapsed 0m 0s (remain 0m 0s) Loss: 0.2838(0.2838) \n"
     ]
    },
    {
     "name": "stderr",
     "output_type": "stream",
     "text": [
      "Epoch 2 - avg_train_loss: 0.3972  avg_val_loss: 0.3159  time: 4s\n",
      "Epoch 2 - Score: 0.3171\n",
      "Epoch 2 - Save Best Score: 0.3171 Model\n"
     ]
    },
    {
     "name": "stdout",
     "output_type": "stream",
     "text": [
      "EVAL: [2/3] Elapsed 0m 0s (remain 0m 0s) Loss: 0.3406(0.3159) \n",
      "Epoch: [3][0/19] Elapsed 0m 0s (remain 0m 2s) Loss: 0.2993(0.2993) Grad: 5.5059  LR: 0.000009  \n",
      "Epoch: [3][10/19] Elapsed 0m 1s (remain 0m 1s) Loss: 0.2374(0.2730) Grad: 9.9414  LR: 0.000009  \n",
      "Epoch: [3][18/19] Elapsed 0m 2s (remain 0m 0s) Loss: 0.2682(0.2652) Grad: 4.2944  LR: 0.000009  \n",
      "EVAL: [0/3] Elapsed 0m 0s (remain 0m 0s) Loss: 0.2560(0.2560) \n"
     ]
    },
    {
     "name": "stderr",
     "output_type": "stream",
     "text": [
      "Epoch 3 - avg_train_loss: 0.2652  avg_val_loss: 0.2749  time: 3s\n",
      "Epoch 3 - Score: 0.2761\n",
      "Epoch 3 - Save Best Score: 0.2761 Model\n"
     ]
    },
    {
     "name": "stdout",
     "output_type": "stream",
     "text": [
      "EVAL: [2/3] Elapsed 0m 0s (remain 0m 0s) Loss: 0.2461(0.2749) \n",
      "Epoch: [4][0/19] Elapsed 0m 0s (remain 0m 2s) Loss: 0.2793(0.2793) Grad: 5.1116  LR: 0.000001  \n",
      "Epoch: [4][10/19] Elapsed 0m 1s (remain 0m 1s) Loss: 0.1673(0.2410) Grad: 4.6438  LR: 0.000001  \n",
      "Epoch: [4][18/19] Elapsed 0m 2s (remain 0m 0s) Loss: 0.1901(0.2327) Grad: 4.2864  LR: 0.000001  \n",
      "EVAL: [0/3] Elapsed 0m 0s (remain 0m 0s) Loss: 0.2482(0.2482) \n"
     ]
    },
    {
     "name": "stderr",
     "output_type": "stream",
     "text": [
      "Epoch 4 - avg_train_loss: 0.2327  avg_val_loss: 0.2779  time: 4s\n",
      "Epoch 4 - Score: 0.2791\n"
     ]
    },
    {
     "name": "stdout",
     "output_type": "stream",
     "text": [
      "EVAL: [2/3] Elapsed 0m 0s (remain 0m 0s) Loss: 0.2974(0.2779) \n",
      "Epoch: [5][0/19] Elapsed 0m 0s (remain 0m 2s) Loss: 0.2216(0.2216) Grad: 5.2590  LR: 0.000050  \n",
      "Epoch: [5][10/19] Elapsed 0m 1s (remain 0m 1s) Loss: 0.1798(0.2290) Grad: 9.0175  LR: 0.000050  \n",
      "Epoch: [5][18/19] Elapsed 0m 2s (remain 0m 0s) Loss: 0.2430(0.2213) Grad: 12.6159  LR: 0.000050  \n",
      "EVAL: [0/3] Elapsed 0m 0s (remain 0m 0s) Loss: 0.2589(0.2589) \n"
     ]
    },
    {
     "name": "stderr",
     "output_type": "stream",
     "text": [
      "Epoch 5 - avg_train_loss: 0.2213  avg_val_loss: 0.2740  time: 3s\n",
      "Epoch 5 - Score: 0.2743\n",
      "Epoch 5 - Save Best Score: 0.2743 Model\n"
     ]
    },
    {
     "name": "stdout",
     "output_type": "stream",
     "text": [
      "EVAL: [2/3] Elapsed 0m 0s (remain 0m 0s) Loss: 0.2854(0.2740) \n",
      "Epoch: [6][0/19] Elapsed 0m 0s (remain 0m 2s) Loss: 0.2403(0.2403) Grad: 19.5515  LR: 0.000224  \n",
      "Epoch: [6][10/19] Elapsed 0m 1s (remain 0m 1s) Loss: 0.2209(0.2403) Grad: 15.6651  LR: 0.000224  \n",
      "Epoch: [6][18/19] Elapsed 0m 2s (remain 0m 0s) Loss: 0.1650(0.2335) Grad: 12.9121  LR: 0.000224  \n",
      "EVAL: [0/3] Elapsed 0m 0s (remain 0m 0s) Loss: 0.3307(0.3307) \n"
     ]
    },
    {
     "name": "stderr",
     "output_type": "stream",
     "text": [
      "Epoch 6 - avg_train_loss: 0.2335  avg_val_loss: 0.3435  time: 4s\n",
      "Epoch 6 - Score: 0.3442\n"
     ]
    },
    {
     "name": "stdout",
     "output_type": "stream",
     "text": [
      "EVAL: [2/3] Elapsed 0m 0s (remain 0m 0s) Loss: 0.3127(0.3435) \n",
      "Epoch: [7][0/19] Elapsed 0m 0s (remain 0m 2s) Loss: 0.3005(0.3005) Grad: 19.4634  LR: 0.000133  \n",
      "Epoch: [7][10/19] Elapsed 0m 1s (remain 0m 1s) Loss: 0.2038(0.2773) Grad: 13.2199  LR: 0.000133  \n",
      "Epoch: [7][18/19] Elapsed 0m 2s (remain 0m 0s) Loss: 0.1947(0.2633) Grad: 4.3017  LR: 0.000133  \n",
      "EVAL: [0/3] Elapsed 0m 0s (remain 0m 0s) Loss: 0.2230(0.2230) \n"
     ]
    },
    {
     "name": "stderr",
     "output_type": "stream",
     "text": [
      "Epoch 7 - avg_train_loss: 0.2633  avg_val_loss: 0.2525  time: 3s\n",
      "Epoch 7 - Score: 0.2571\n",
      "Epoch 7 - Save Best Score: 0.2571 Model\n"
     ]
    },
    {
     "name": "stdout",
     "output_type": "stream",
     "text": [
      "EVAL: [2/3] Elapsed 0m 0s (remain 0m 0s) Loss: 0.3592(0.2525) \n",
      "Epoch: [8][0/19] Elapsed 0m 0s (remain 0m 2s) Loss: 0.1958(0.1958) Grad: 12.6535  LR: 0.000057  \n",
      "Epoch: [8][10/19] Elapsed 0m 1s (remain 0m 1s) Loss: 0.1788(0.1893) Grad: 10.9032  LR: 0.000057  \n",
      "Epoch: [8][18/19] Elapsed 0m 2s (remain 0m 0s) Loss: 0.2254(0.1943) Grad: 9.0770  LR: 0.000057  \n",
      "EVAL: [0/3] Elapsed 0m 0s (remain 0m 0s) Loss: 0.2736(0.2736) \n"
     ]
    },
    {
     "name": "stderr",
     "output_type": "stream",
     "text": [
      "Epoch 8 - avg_train_loss: 0.1943  avg_val_loss: 0.2812  time: 3s\n",
      "Epoch 8 - Score: 0.2817\n"
     ]
    },
    {
     "name": "stdout",
     "output_type": "stream",
     "text": [
      "EVAL: [2/3] Elapsed 0m 0s (remain 0m 0s) Loss: 0.2545(0.2812) \n",
      "Epoch: [9][0/19] Elapsed 0m 0s (remain 0m 2s) Loss: 0.2175(0.2175) Grad: 17.7881  LR: 0.000009  \n",
      "Epoch: [9][10/19] Elapsed 0m 1s (remain 0m 1s) Loss: 0.1270(0.1770) Grad: 10.8672  LR: 0.000009  \n",
      "Epoch: [9][18/19] Elapsed 0m 2s (remain 0m 0s) Loss: 0.1216(0.1602) Grad: 6.0135  LR: 0.000009  \n",
      "EVAL: [0/3] Elapsed 0m 0s (remain 0m 0s) Loss: 0.1896(0.1896) \n"
     ]
    },
    {
     "name": "stderr",
     "output_type": "stream",
     "text": [
      "Epoch 9 - avg_train_loss: 0.1602  avg_val_loss: 0.2170  time: 3s\n",
      "Epoch 9 - Score: 0.2183\n",
      "Epoch 9 - Save Best Score: 0.2183 Model\n"
     ]
    },
    {
     "name": "stdout",
     "output_type": "stream",
     "text": [
      "EVAL: [2/3] Elapsed 0m 0s (remain 0m 0s) Loss: 0.2248(0.2170) \n",
      "Epoch: [10][0/19] Elapsed 0m 0s (remain 0m 2s) Loss: 0.1154(0.1154) Grad: 4.9536  LR: 0.000001  \n",
      "Epoch: [10][10/19] Elapsed 0m 1s (remain 0m 1s) Loss: 0.1119(0.1370) Grad: 3.5566  LR: 0.000001  \n",
      "Epoch: [10][18/19] Elapsed 0m 2s (remain 0m 0s) Loss: 0.1210(0.1322) Grad: 3.3890  LR: 0.000001  \n",
      "EVAL: [0/3] Elapsed 0m 0s (remain 0m 0s) Loss: 0.1814(0.1814) \n"
     ]
    },
    {
     "name": "stderr",
     "output_type": "stream",
     "text": [
      "Epoch 10 - avg_train_loss: 0.1322  avg_val_loss: 0.2265  time: 4s\n",
      "Epoch 10 - Score: 0.2318\n"
     ]
    },
    {
     "name": "stdout",
     "output_type": "stream",
     "text": [
      "EVAL: [2/3] Elapsed 0m 0s (remain 0m 0s) Loss: 0.1943(0.2265) \n",
      "Epoch: [11][0/19] Elapsed 0m 0s (remain 0m 2s) Loss: 0.0994(0.0994) Grad: 4.6402  LR: 0.000050  \n",
      "Epoch: [11][10/19] Elapsed 0m 1s (remain 0m 1s) Loss: 0.1384(0.1416) Grad: 15.2613  LR: 0.000050  \n",
      "Epoch: [11][18/19] Elapsed 0m 2s (remain 0m 0s) Loss: 0.1334(0.1433) Grad: 18.6209  LR: 0.000050  \n",
      "EVAL: [0/3] Elapsed 0m 0s (remain 0m 0s) Loss: 0.1800(0.1800) \n"
     ]
    },
    {
     "name": "stderr",
     "output_type": "stream",
     "text": [
      "Epoch 11 - avg_train_loss: 0.1433  avg_val_loss: 0.2123  time: 4s\n",
      "Epoch 11 - Score: 0.2144\n",
      "Epoch 11 - Save Best Score: 0.2144 Model\n"
     ]
    },
    {
     "name": "stdout",
     "output_type": "stream",
     "text": [
      "EVAL: [2/3] Elapsed 0m 0s (remain 0m 0s) Loss: 0.2611(0.2123) \n",
      "Epoch: [12][0/19] Elapsed 0m 0s (remain 0m 2s) Loss: 0.1084(0.1084) Grad: 7.9091  LR: 0.000224  \n",
      "Epoch: [12][10/19] Elapsed 0m 1s (remain 0m 1s) Loss: 0.1470(0.1627) Grad: 15.4831  LR: 0.000224  \n",
      "Epoch: [12][18/19] Elapsed 0m 2s (remain 0m 0s) Loss: 0.1225(0.1689) Grad: 4.1929  LR: 0.000224  \n",
      "EVAL: [0/3] Elapsed 0m 0s (remain 0m 0s) Loss: 0.2390(0.2390) \n"
     ]
    },
    {
     "name": "stderr",
     "output_type": "stream",
     "text": [
      "Epoch 12 - avg_train_loss: 0.1689  avg_val_loss: 0.2631  time: 3s\n",
      "Epoch 12 - Score: 0.2639\n"
     ]
    },
    {
     "name": "stdout",
     "output_type": "stream",
     "text": [
      "EVAL: [2/3] Elapsed 0m 0s (remain 0m 0s) Loss: 0.2847(0.2631) \n",
      "Epoch: [13][0/19] Elapsed 0m 0s (remain 0m 2s) Loss: 0.2015(0.2015) Grad: 16.7033  LR: 0.000133  \n",
      "Epoch: [13][10/19] Elapsed 0m 1s (remain 0m 1s) Loss: 0.1615(0.1836) Grad: 4.5888  LR: 0.000133  \n",
      "Epoch: [13][18/19] Elapsed 0m 2s (remain 0m 0s) Loss: 0.1893(0.1770) Grad: 7.2121  LR: 0.000133  \n",
      "EVAL: [0/3] Elapsed 0m 0s (remain 0m 0s) Loss: 0.1639(0.1639) \n"
     ]
    },
    {
     "name": "stderr",
     "output_type": "stream",
     "text": [
      "Epoch 13 - avg_train_loss: 0.1770  avg_val_loss: 0.2144  time: 4s\n",
      "Epoch 13 - Score: 0.2187\n"
     ]
    },
    {
     "name": "stdout",
     "output_type": "stream",
     "text": [
      "EVAL: [2/3] Elapsed 0m 0s (remain 0m 0s) Loss: 0.2592(0.2144) \n",
      "Epoch: [14][0/19] Elapsed 0m 0s (remain 0m 2s) Loss: 0.1815(0.1815) Grad: 13.1760  LR: 0.000057  \n",
      "Epoch: [14][10/19] Elapsed 0m 1s (remain 0m 1s) Loss: 0.2434(0.1829) Grad: 22.0508  LR: 0.000057  \n",
      "Epoch: [14][18/19] Elapsed 0m 2s (remain 0m 0s) Loss: 0.1699(0.1858) Grad: 20.5852  LR: 0.000057  \n",
      "EVAL: [0/3] Elapsed 0m 0s (remain 0m 0s) Loss: 0.2092(0.2092) \n"
     ]
    },
    {
     "name": "stderr",
     "output_type": "stream",
     "text": [
      "Epoch 14 - avg_train_loss: 0.1858  avg_val_loss: 0.2271  time: 4s\n",
      "Epoch 14 - Score: 0.2279\n"
     ]
    },
    {
     "name": "stdout",
     "output_type": "stream",
     "text": [
      "EVAL: [2/3] Elapsed 0m 0s (remain 0m 0s) Loss: 0.2160(0.2271) \n",
      "Epoch: [15][0/19] Elapsed 0m 0s (remain 0m 2s) Loss: 0.1832(0.1832) Grad: 17.5003  LR: 0.000009  \n",
      "Epoch: [15][10/19] Elapsed 0m 1s (remain 0m 1s) Loss: 0.1211(0.1417) Grad: 14.7623  LR: 0.000009  \n",
      "Epoch: [15][18/19] Elapsed 0m 2s (remain 0m 0s) Loss: 0.0955(0.1354) Grad: 3.3460  LR: 0.000009  \n",
      "EVAL: [0/3] Elapsed 0m 0s (remain 0m 0s) Loss: 0.1756(0.1756) \n"
     ]
    },
    {
     "name": "stderr",
     "output_type": "stream",
     "text": [
      "Epoch 15 - avg_train_loss: 0.1354  avg_val_loss: 0.2081  time: 3s\n",
      "Epoch 15 - Score: 0.2099\n",
      "Epoch 15 - Save Best Score: 0.2099 Model\n"
     ]
    },
    {
     "name": "stdout",
     "output_type": "stream",
     "text": [
      "EVAL: [2/3] Elapsed 0m 0s (remain 0m 0s) Loss: 0.2344(0.2081) \n",
      "Epoch: [16][0/19] Elapsed 0m 0s (remain 0m 2s) Loss: 0.1557(0.1557) Grad: 16.9412  LR: 0.000001  \n",
      "Epoch: [16][10/19] Elapsed 0m 1s (remain 0m 1s) Loss: 0.1371(0.1252) Grad: 4.3304  LR: 0.000001  \n",
      "Epoch: [16][18/19] Elapsed 0m 2s (remain 0m 0s) Loss: 0.1150(0.1164) Grad: 11.5379  LR: 0.000001  \n",
      "EVAL: [0/3] Elapsed 0m 0s (remain 0m 0s) Loss: 0.1791(0.1791) \n"
     ]
    },
    {
     "name": "stderr",
     "output_type": "stream",
     "text": [
      "Epoch 16 - avg_train_loss: 0.1164  avg_val_loss: 0.2078  time: 3s\n",
      "Epoch 16 - Score: 0.2093\n",
      "Epoch 16 - Save Best Score: 0.2093 Model\n"
     ]
    },
    {
     "name": "stdout",
     "output_type": "stream",
     "text": [
      "EVAL: [2/3] Elapsed 0m 0s (remain 0m 0s) Loss: 0.2452(0.2078) \n",
      "Epoch: [17][0/19] Elapsed 0m 0s (remain 0m 2s) Loss: 0.1170(0.1170) Grad: 9.3986  LR: 0.000050  \n",
      "Epoch: [17][10/19] Elapsed 0m 1s (remain 0m 1s) Loss: 0.1008(0.1123) Grad: 6.4757  LR: 0.000050  \n",
      "Epoch: [17][18/19] Elapsed 0m 2s (remain 0m 0s) Loss: 0.1217(0.1041) Grad: 16.9638  LR: 0.000050  \n",
      "EVAL: [0/3] Elapsed 0m 0s (remain 0m 0s) Loss: 0.1842(0.1842) \n"
     ]
    },
    {
     "name": "stderr",
     "output_type": "stream",
     "text": [
      "Epoch 17 - avg_train_loss: 0.1041  avg_val_loss: 0.2192  time: 4s\n",
      "Epoch 17 - Score: 0.2212\n"
     ]
    },
    {
     "name": "stdout",
     "output_type": "stream",
     "text": [
      "EVAL: [2/3] Elapsed 0m 0s (remain 0m 0s) Loss: 0.2522(0.2192) \n",
      "Epoch: [18][0/19] Elapsed 0m 0s (remain 0m 2s) Loss: 0.1185(0.1185) Grad: 19.5567  LR: 0.000224  \n",
      "Epoch: [18][10/19] Elapsed 0m 1s (remain 0m 1s) Loss: 0.1425(0.1416) Grad: 20.2889  LR: 0.000224  \n",
      "Epoch: [18][18/19] Elapsed 0m 2s (remain 0m 0s) Loss: 0.1434(0.1403) Grad: 13.1635  LR: 0.000224  \n",
      "EVAL: [0/3] Elapsed 0m 0s (remain 0m 0s) Loss: 0.1866(0.1866) \n"
     ]
    },
    {
     "name": "stderr",
     "output_type": "stream",
     "text": [
      "Epoch 18 - avg_train_loss: 0.1403  avg_val_loss: 0.2211  time: 3s\n",
      "Epoch 18 - Score: 0.2230\n"
     ]
    },
    {
     "name": "stdout",
     "output_type": "stream",
     "text": [
      "EVAL: [2/3] Elapsed 0m 0s (remain 0m 0s) Loss: 0.2503(0.2211) \n",
      "Epoch: [19][0/19] Elapsed 0m 0s (remain 0m 3s) Loss: 0.1232(0.1232) Grad: 9.1043  LR: 0.000133  \n",
      "Epoch: [19][10/19] Elapsed 0m 1s (remain 0m 1s) Loss: 0.2247(0.1645) Grad: 21.2262  LR: 0.000133  \n",
      "Epoch: [19][18/19] Elapsed 0m 2s (remain 0m 0s) Loss: 0.1869(0.1817) Grad: 9.2675  LR: 0.000133  \n",
      "EVAL: [0/3] Elapsed 0m 0s (remain 0m 0s) Loss: 0.2112(0.2112) \n"
     ]
    },
    {
     "name": "stderr",
     "output_type": "stream",
     "text": [
      "Epoch 19 - avg_train_loss: 0.1817  avg_val_loss: 0.2288  time: 4s\n",
      "Epoch 19 - Score: 0.2293\n"
     ]
    },
    {
     "name": "stdout",
     "output_type": "stream",
     "text": [
      "EVAL: [2/3] Elapsed 0m 0s (remain 0m 0s) Loss: 0.2495(0.2288) \n",
      "Epoch: [20][0/19] Elapsed 0m 0s (remain 0m 2s) Loss: 0.1261(0.1261) Grad: 3.6316  LR: 0.000057  \n",
      "Epoch: [20][10/19] Elapsed 0m 1s (remain 0m 1s) Loss: 0.1176(0.1564) Grad: 8.7417  LR: 0.000057  \n",
      "Epoch: [20][18/19] Elapsed 0m 2s (remain 0m 0s) Loss: 0.1557(0.1543) Grad: 3.9499  LR: 0.000057  \n",
      "EVAL: [0/3] Elapsed 0m 0s (remain 0m 0s) Loss: 0.1801(0.1801) \n"
     ]
    },
    {
     "name": "stderr",
     "output_type": "stream",
     "text": [
      "Epoch 20 - avg_train_loss: 0.1543  avg_val_loss: 0.2017  time: 4s\n",
      "Epoch 20 - Score: 0.2026\n",
      "Epoch 20 - Save Best Score: 0.2026 Model\n"
     ]
    },
    {
     "name": "stdout",
     "output_type": "stream",
     "text": [
      "EVAL: [2/3] Elapsed 0m 0s (remain 0m 0s) Loss: 0.2217(0.2017) \n",
      "Epoch: [21][0/19] Elapsed 0m 0s (remain 0m 2s) Loss: 0.1099(0.1099) Grad: 4.1698  LR: 0.000009  \n",
      "Epoch: [21][10/19] Elapsed 0m 1s (remain 0m 1s) Loss: 0.0981(0.1055) Grad: 6.0004  LR: 0.000009  \n",
      "Epoch: [21][18/19] Elapsed 0m 2s (remain 0m 0s) Loss: 0.0939(0.1080) Grad: 3.7205  LR: 0.000009  \n",
      "EVAL: [0/3] Elapsed 0m 0s (remain 0m 0s) Loss: 0.1889(0.1889) \n"
     ]
    },
    {
     "name": "stderr",
     "output_type": "stream",
     "text": [
      "Epoch 21 - avg_train_loss: 0.1080  avg_val_loss: 0.1950  time: 3s\n",
      "Epoch 21 - Score: 0.1952\n",
      "Epoch 21 - Save Best Score: 0.1952 Model\n"
     ]
    },
    {
     "name": "stdout",
     "output_type": "stream",
     "text": [
      "EVAL: [2/3] Elapsed 0m 0s (remain 0m 0s) Loss: 0.2152(0.1950) \n",
      "Epoch: [22][0/19] Elapsed 0m 0s (remain 0m 2s) Loss: 0.0836(0.0836) Grad: 4.5528  LR: 0.000001  \n",
      "Epoch: [22][10/19] Elapsed 0m 1s (remain 0m 1s) Loss: 0.1028(0.0972) Grad: 3.2010  LR: 0.000001  \n",
      "Epoch: [22][18/19] Elapsed 0m 2s (remain 0m 0s) Loss: 0.0788(0.0932) Grad: 6.8649  LR: 0.000001  \n",
      "EVAL: [0/3] Elapsed 0m 0s (remain 0m 0s) Loss: 0.1783(0.1783) \n"
     ]
    },
    {
     "name": "stderr",
     "output_type": "stream",
     "text": [
      "Epoch 22 - avg_train_loss: 0.0932  avg_val_loss: 0.1926  time: 3s\n",
      "Epoch 22 - Score: 0.1929\n",
      "Epoch 22 - Save Best Score: 0.1929 Model\n"
     ]
    },
    {
     "name": "stdout",
     "output_type": "stream",
     "text": [
      "EVAL: [2/3] Elapsed 0m 0s (remain 0m 0s) Loss: 0.2053(0.1926) \n",
      "Epoch: [23][0/19] Elapsed 0m 0s (remain 0m 2s) Loss: 0.0699(0.0699) Grad: 4.9716  LR: 0.000050  \n",
      "Epoch: [23][10/19] Elapsed 0m 1s (remain 0m 1s) Loss: 0.0704(0.0959) Grad: 4.4885  LR: 0.000050  \n",
      "Epoch: [23][18/19] Elapsed 0m 2s (remain 0m 0s) Loss: 0.0909(0.0948) Grad: 13.1328  LR: 0.000050  \n",
      "EVAL: [0/3] Elapsed 0m 0s (remain 0m 0s) Loss: 0.1697(0.1697) \n"
     ]
    },
    {
     "name": "stderr",
     "output_type": "stream",
     "text": [
      "Epoch 23 - avg_train_loss: 0.0948  avg_val_loss: 0.1936  time: 3s\n",
      "Epoch 23 - Score: 0.1947\n"
     ]
    },
    {
     "name": "stdout",
     "output_type": "stream",
     "text": [
      "EVAL: [2/3] Elapsed 0m 0s (remain 0m 0s) Loss: 0.2140(0.1936) \n",
      "Epoch: [24][0/19] Elapsed 0m 0s (remain 0m 2s) Loss: 0.0808(0.0808) Grad: 18.0923  LR: 0.000224  \n",
      "Epoch: [24][10/19] Elapsed 0m 1s (remain 0m 1s) Loss: 0.0822(0.1024) Grad: 2.6128  LR: 0.000224  \n",
      "Epoch: [24][18/19] Elapsed 0m 2s (remain 0m 0s) Loss: 0.1618(0.1154) Grad: 22.4201  LR: 0.000224  \n",
      "EVAL: [0/3] Elapsed 0m 0s (remain 0m 0s) Loss: 0.1930(0.1930) \n"
     ]
    },
    {
     "name": "stderr",
     "output_type": "stream",
     "text": [
      "Epoch 24 - avg_train_loss: 0.1154  avg_val_loss: 0.2276  time: 3s\n",
      "Epoch 24 - Score: 0.2297\n"
     ]
    },
    {
     "name": "stdout",
     "output_type": "stream",
     "text": [
      "EVAL: [2/3] Elapsed 0m 0s (remain 0m 0s) Loss: 0.2748(0.2276) \n",
      "Epoch: [25][0/19] Elapsed 0m 0s (remain 0m 2s) Loss: 0.1308(0.1308) Grad: 14.4688  LR: 0.000133  \n",
      "Epoch: [25][10/19] Elapsed 0m 1s (remain 0m 1s) Loss: 0.0994(0.1432) Grad: 5.7680  LR: 0.000133  \n",
      "Epoch: [25][18/19] Elapsed 0m 2s (remain 0m 0s) Loss: 0.1349(0.1389) Grad: 3.3850  LR: 0.000133  \n",
      "EVAL: [0/3] Elapsed 0m 0s (remain 0m 0s) Loss: 0.2035(0.2035) \n"
     ]
    },
    {
     "name": "stderr",
     "output_type": "stream",
     "text": [
      "Epoch 25 - avg_train_loss: 0.1389  avg_val_loss: 0.2175  time: 3s\n",
      "Epoch 25 - Score: 0.2179\n"
     ]
    },
    {
     "name": "stdout",
     "output_type": "stream",
     "text": [
      "EVAL: [2/3] Elapsed 0m 0s (remain 0m 0s) Loss: 0.2126(0.2175) \n",
      "Epoch: [26][0/19] Elapsed 0m 0s (remain 0m 2s) Loss: 0.1023(0.1023) Grad: 4.1706  LR: 0.000057  \n",
      "Epoch: [26][10/19] Elapsed 0m 1s (remain 0m 1s) Loss: 0.1343(0.1298) Grad: 3.6082  LR: 0.000057  \n",
      "Epoch: [26][18/19] Elapsed 0m 2s (remain 0m 0s) Loss: 0.1220(0.1265) Grad: 4.0541  LR: 0.000057  \n",
      "EVAL: [0/3] Elapsed 0m 0s (remain 0m 0s) Loss: 0.1719(0.1719) \n"
     ]
    },
    {
     "name": "stderr",
     "output_type": "stream",
     "text": [
      "Epoch 26 - avg_train_loss: 0.1265  avg_val_loss: 0.2068  time: 3s\n",
      "Epoch 26 - Score: 0.2092\n"
     ]
    },
    {
     "name": "stdout",
     "output_type": "stream",
     "text": [
      "EVAL: [2/3] Elapsed 0m 0s (remain 0m 0s) Loss: 0.2577(0.2068) \n",
      "Epoch: [27][0/19] Elapsed 0m 0s (remain 0m 2s) Loss: 0.1022(0.1022) Grad: 6.9126  LR: 0.000009  \n",
      "Epoch: [27][10/19] Elapsed 0m 1s (remain 0m 1s) Loss: 0.0879(0.0956) Grad: 6.7530  LR: 0.000009  \n",
      "Epoch: [27][18/19] Elapsed 0m 2s (remain 0m 0s) Loss: 0.0930(0.0945) Grad: 11.3619  LR: 0.000009  \n",
      "EVAL: [0/3] Elapsed 0m 0s (remain 0m 0s) Loss: 0.1708(0.1708) \n"
     ]
    },
    {
     "name": "stderr",
     "output_type": "stream",
     "text": [
      "Epoch 27 - avg_train_loss: 0.0945  avg_val_loss: 0.1992  time: 4s\n",
      "Epoch 27 - Score: 0.2007\n"
     ]
    },
    {
     "name": "stdout",
     "output_type": "stream",
     "text": [
      "EVAL: [2/3] Elapsed 0m 0s (remain 0m 0s) Loss: 0.2333(0.1992) \n",
      "Epoch: [28][0/19] Elapsed 0m 0s (remain 0m 2s) Loss: 0.0734(0.0734) Grad: 10.0126  LR: 0.000001  \n",
      "Epoch: [28][10/19] Elapsed 0m 1s (remain 0m 1s) Loss: 0.0724(0.0803) Grad: 4.5207  LR: 0.000001  \n",
      "Epoch: [28][18/19] Elapsed 0m 2s (remain 0m 0s) Loss: 0.0776(0.0820) Grad: 11.2301  LR: 0.000001  \n",
      "EVAL: [0/3] Elapsed 0m 0s (remain 0m 0s) Loss: 0.1637(0.1637) \n"
     ]
    },
    {
     "name": "stderr",
     "output_type": "stream",
     "text": [
      "Epoch 28 - avg_train_loss: 0.0820  avg_val_loss: 0.1920  time: 3s\n",
      "Epoch 28 - Score: 0.1936\n"
     ]
    },
    {
     "name": "stdout",
     "output_type": "stream",
     "text": [
      "EVAL: [2/3] Elapsed 0m 0s (remain 0m 0s) Loss: 0.1973(0.1920) \n",
      "Epoch: [29][0/19] Elapsed 0m 0s (remain 0m 2s) Loss: 0.0671(0.0671) Grad: 3.4862  LR: 0.000050  \n",
      "Epoch: [29][10/19] Elapsed 0m 1s (remain 0m 1s) Loss: 0.0978(0.0961) Grad: 12.3199  LR: 0.000050  \n",
      "Epoch: [29][18/19] Elapsed 0m 2s (remain 0m 0s) Loss: 0.0806(0.0991) Grad: 3.0748  LR: 0.000050  \n",
      "EVAL: [0/3] Elapsed 0m 0s (remain 0m 0s) Loss: 0.1715(0.1715) \n"
     ]
    },
    {
     "name": "stderr",
     "output_type": "stream",
     "text": [
      "Epoch 29 - avg_train_loss: 0.0991  avg_val_loss: 0.1954  time: 3s\n",
      "Epoch 29 - Score: 0.1969\n"
     ]
    },
    {
     "name": "stdout",
     "output_type": "stream",
     "text": [
      "EVAL: [2/3] Elapsed 0m 0s (remain 0m 0s) Loss: 0.2408(0.1954) \n",
      "Epoch: [30][0/19] Elapsed 0m 0s (remain 0m 2s) Loss: 0.0868(0.0868) Grad: 17.1653  LR: 0.000224  \n",
      "Epoch: [30][10/19] Elapsed 0m 1s (remain 0m 1s) Loss: 0.1526(0.1090) Grad: 14.8804  LR: 0.000224  \n",
      "Epoch: [30][18/19] Elapsed 0m 2s (remain 0m 0s) Loss: 0.1190(0.1102) Grad: 18.9029  LR: 0.000224  \n",
      "EVAL: [0/3] Elapsed 0m 0s (remain 0m 0s) Loss: 0.1923(0.1923) \n"
     ]
    },
    {
     "name": "stderr",
     "output_type": "stream",
     "text": [
      "Epoch 30 - avg_train_loss: 0.1102  avg_val_loss: 0.2139  time: 3s\n",
      "Epoch 30 - Score: 0.2156\n"
     ]
    },
    {
     "name": "stdout",
     "output_type": "stream",
     "text": [
      "EVAL: [2/3] Elapsed 0m 0s (remain 0m 0s) Loss: 0.1900(0.2139) \n",
      "Epoch: [31][0/19] Elapsed 0m 0s (remain 0m 2s) Loss: 0.1080(0.1080) Grad: 12.3855  LR: 0.000133  \n",
      "Epoch: [31][10/19] Elapsed 0m 1s (remain 0m 1s) Loss: 0.1658(0.1295) Grad: 19.9261  LR: 0.000133  \n",
      "Epoch: [31][18/19] Elapsed 0m 2s (remain 0m 0s) Loss: 0.0955(0.1426) Grad: 9.4934  LR: 0.000133  \n",
      "EVAL: [0/3] Elapsed 0m 0s (remain 0m 0s) Loss: 0.2125(0.2125) \n"
     ]
    },
    {
     "name": "stderr",
     "output_type": "stream",
     "text": [
      "Epoch 31 - avg_train_loss: 0.1426  avg_val_loss: 0.2309  time: 4s\n",
      "Epoch 31 - Score: 0.2314\n"
     ]
    },
    {
     "name": "stdout",
     "output_type": "stream",
     "text": [
      "EVAL: [2/3] Elapsed 0m 0s (remain 0m 0s) Loss: 0.2363(0.2309) \n",
      "Epoch: [32][0/19] Elapsed 0m 0s (remain 0m 2s) Loss: 0.2097(0.2097) Grad: 22.0488  LR: 0.000057  \n",
      "Epoch: [32][10/19] Elapsed 0m 1s (remain 0m 1s) Loss: 0.1286(0.1396) Grad: 15.8478  LR: 0.000057  \n",
      "Epoch: [32][18/19] Elapsed 0m 2s (remain 0m 0s) Loss: 0.1219(0.1422) Grad: 4.4867  LR: 0.000057  \n",
      "EVAL: [0/3] Elapsed 0m 0s (remain 0m 0s) Loss: 0.1732(0.1732) \n"
     ]
    },
    {
     "name": "stderr",
     "output_type": "stream",
     "text": [
      "Epoch 32 - avg_train_loss: 0.1422  avg_val_loss: 0.1926  time: 3s\n",
      "Epoch 32 - Score: 0.1933\n"
     ]
    },
    {
     "name": "stdout",
     "output_type": "stream",
     "text": [
      "EVAL: [2/3] Elapsed 0m 0s (remain 0m 0s) Loss: 0.2018(0.1926) \n",
      "Epoch: [33][0/19] Elapsed 0m 0s (remain 0m 2s) Loss: 0.0963(0.0963) Grad: 8.9380  LR: 0.000009  \n",
      "Epoch: [33][10/19] Elapsed 0m 1s (remain 0m 1s) Loss: 0.0837(0.1004) Grad: 8.1669  LR: 0.000009  \n",
      "Epoch: [33][18/19] Elapsed 0m 2s (remain 0m 0s) Loss: 0.0937(0.1020) Grad: 8.4152  LR: 0.000009  \n",
      "EVAL: [0/3] Elapsed 0m 0s (remain 0m 0s) Loss: 0.1836(0.1836) \n"
     ]
    },
    {
     "name": "stderr",
     "output_type": "stream",
     "text": [
      "Epoch 33 - avg_train_loss: 0.1020  avg_val_loss: 0.2005  time: 3s\n",
      "Epoch 33 - Score: 0.2010\n"
     ]
    },
    {
     "name": "stdout",
     "output_type": "stream",
     "text": [
      "EVAL: [2/3] Elapsed 0m 0s (remain 0m 0s) Loss: 0.2161(0.2005) \n",
      "Epoch: [34][0/19] Elapsed 0m 0s (remain 0m 2s) Loss: 0.0913(0.0913) Grad: 16.0366  LR: 0.000001  \n",
      "Epoch: [34][10/19] Elapsed 0m 1s (remain 0m 1s) Loss: 0.0709(0.0821) Grad: 10.2685  LR: 0.000001  \n",
      "Epoch: [34][18/19] Elapsed 0m 2s (remain 0m 0s) Loss: 0.0816(0.0825) Grad: 6.8786  LR: 0.000001  \n",
      "EVAL: [0/3] Elapsed 0m 0s (remain 0m 0s) Loss: 0.1704(0.1704) \n"
     ]
    },
    {
     "name": "stderr",
     "output_type": "stream",
     "text": [
      "Epoch 34 - avg_train_loss: 0.0825  avg_val_loss: 0.1947  time: 3s\n",
      "Epoch 34 - Score: 0.1958\n"
     ]
    },
    {
     "name": "stdout",
     "output_type": "stream",
     "text": [
      "EVAL: [2/3] Elapsed 0m 0s (remain 0m 0s) Loss: 0.2200(0.1947) \n",
      "Epoch: [35][0/19] Elapsed 0m 0s (remain 0m 2s) Loss: 0.0780(0.0780) Grad: 6.7757  LR: 0.000050  \n",
      "Epoch: [35][10/19] Elapsed 0m 1s (remain 0m 1s) Loss: 0.0676(0.0818) Grad: 2.4031  LR: 0.000050  \n",
      "Epoch: [35][18/19] Elapsed 0m 2s (remain 0m 0s) Loss: 0.1199(0.0822) Grad: 5.1626  LR: 0.000050  \n",
      "EVAL: [0/3] Elapsed 0m 0s (remain 0m 0s) Loss: 0.1558(0.1558) \n"
     ]
    },
    {
     "name": "stderr",
     "output_type": "stream",
     "text": [
      "Epoch 35 - avg_train_loss: 0.0822  avg_val_loss: 0.1861  time: 4s\n",
      "Epoch 35 - Score: 0.1880\n",
      "Epoch 35 - Save Best Score: 0.1880 Model\n"
     ]
    },
    {
     "name": "stdout",
     "output_type": "stream",
     "text": [
      "EVAL: [2/3] Elapsed 0m 0s (remain 0m 0s) Loss: 0.1922(0.1861) \n",
      "Epoch: [36][0/19] Elapsed 0m 0s (remain 0m 2s) Loss: 0.0781(0.0781) Grad: 3.6036  LR: 0.000224  \n",
      "Epoch: [36][10/19] Elapsed 0m 1s (remain 0m 1s) Loss: 0.1382(0.0861) Grad: 7.5720  LR: 0.000224  \n",
      "Epoch: [36][18/19] Elapsed 0m 2s (remain 0m 0s) Loss: 0.1248(0.0905) Grad: 17.3718  LR: 0.000224  \n",
      "EVAL: [0/3] Elapsed 0m 0s (remain 0m 0s) Loss: 0.1787(0.1787) \n"
     ]
    },
    {
     "name": "stderr",
     "output_type": "stream",
     "text": [
      "Epoch 36 - avg_train_loss: 0.0905  avg_val_loss: 0.2016  time: 4s\n",
      "Epoch 36 - Score: 0.2025\n"
     ]
    },
    {
     "name": "stdout",
     "output_type": "stream",
     "text": [
      "EVAL: [2/3] Elapsed 0m 0s (remain 0m 0s) Loss: 0.2126(0.2016) \n",
      "Epoch: [37][0/19] Elapsed 0m 0s (remain 0m 2s) Loss: 0.1094(0.1094) Grad: 6.1146  LR: 0.000133  \n",
      "Epoch: [37][10/19] Elapsed 0m 1s (remain 0m 1s) Loss: 0.1156(0.1170) Grad: 17.1391  LR: 0.000133  \n",
      "Epoch: [37][18/19] Elapsed 0m 2s (remain 0m 0s) Loss: 0.1454(0.1394) Grad: 18.3210  LR: 0.000133  \n",
      "EVAL: [0/3] Elapsed 0m 0s (remain 0m 0s) Loss: 0.1691(0.1691) \n"
     ]
    },
    {
     "name": "stderr",
     "output_type": "stream",
     "text": [
      "Epoch 37 - avg_train_loss: 0.1394  avg_val_loss: 0.2093  time: 4s\n",
      "Epoch 37 - Score: 0.2121\n"
     ]
    },
    {
     "name": "stdout",
     "output_type": "stream",
     "text": [
      "EVAL: [2/3] Elapsed 0m 0s (remain 0m 0s) Loss: 0.2454(0.2093) \n",
      "Epoch: [38][0/19] Elapsed 0m 0s (remain 0m 2s) Loss: 0.1543(0.1543) Grad: 10.0002  LR: 0.000057  \n",
      "Epoch: [38][10/19] Elapsed 0m 1s (remain 0m 1s) Loss: 0.1056(0.1241) Grad: 7.8936  LR: 0.000057  \n",
      "Epoch: [38][18/19] Elapsed 0m 2s (remain 0m 0s) Loss: 0.1893(0.1330) Grad: 19.6428  LR: 0.000057  \n",
      "EVAL: [0/3] Elapsed 0m 0s (remain 0m 0s) Loss: 0.1800(0.1800) \n"
     ]
    },
    {
     "name": "stderr",
     "output_type": "stream",
     "text": [
      "Epoch 38 - avg_train_loss: 0.1330  avg_val_loss: 0.2084  time: 4s\n",
      "Epoch 38 - Score: 0.2099\n"
     ]
    },
    {
     "name": "stdout",
     "output_type": "stream",
     "text": [
      "EVAL: [2/3] Elapsed 0m 0s (remain 0m 0s) Loss: 0.2168(0.2084) \n",
      "Epoch: [39][0/19] Elapsed 0m 0s (remain 0m 2s) Loss: 0.1628(0.1628) Grad: 11.0012  LR: 0.000009  \n",
      "Epoch: [39][10/19] Elapsed 0m 1s (remain 0m 1s) Loss: 0.1067(0.1167) Grad: 15.6708  LR: 0.000009  \n",
      "Epoch: [39][18/19] Elapsed 0m 2s (remain 0m 0s) Loss: 0.0723(0.1109) Grad: 4.6400  LR: 0.000009  \n",
      "EVAL: [0/3] Elapsed 0m 0s (remain 0m 0s) Loss: 0.1791(0.1791) \n"
     ]
    },
    {
     "name": "stderr",
     "output_type": "stream",
     "text": [
      "Epoch 39 - avg_train_loss: 0.1109  avg_val_loss: 0.2011  time: 4s\n",
      "Epoch 39 - Score: 0.2020\n"
     ]
    },
    {
     "name": "stdout",
     "output_type": "stream",
     "text": [
      "EVAL: [2/3] Elapsed 0m 0s (remain 0m 0s) Loss: 0.2154(0.2011) \n",
      "Epoch: [40][0/19] Elapsed 0m 0s (remain 0m 2s) Loss: 0.0941(0.0941) Grad: 17.5613  LR: 0.000001  \n",
      "Epoch: [40][10/19] Elapsed 0m 1s (remain 0m 1s) Loss: 0.0589(0.0856) Grad: 2.7508  LR: 0.000001  \n",
      "Epoch: [40][18/19] Elapsed 0m 2s (remain 0m 0s) Loss: 0.0842(0.0833) Grad: 9.5024  LR: 0.000001  \n",
      "EVAL: [0/3] Elapsed 0m 0s (remain 0m 0s) Loss: 0.1480(0.1480) \n"
     ]
    },
    {
     "name": "stderr",
     "output_type": "stream",
     "text": [
      "Epoch 40 - avg_train_loss: 0.0833  avg_val_loss: 0.1863  time: 3s\n",
      "Epoch 40 - Score: 0.1893\n",
      "========== fold: 0 result ==========\n",
      "Score: 0.1880\n",
      "========== fold: 1 training ==========\n"
     ]
    },
    {
     "name": "stdout",
     "output_type": "stream",
     "text": [
      "EVAL: [2/3] Elapsed 0m 0s (remain 0m 0s) Loss: 0.2349(0.1863) \n",
      "Epoch: [1][0/19] Elapsed 0m 0s (remain 0m 2s) Loss: 3.6203(3.6203) Grad: 26.1224  LR: 0.000100  \n",
      "Epoch: [1][10/19] Elapsed 0m 1s (remain 0m 1s) Loss: 0.5477(1.4869) Grad: 18.0093  LR: 0.000100  \n",
      "Epoch: [1][18/19] Elapsed 0m 2s (remain 0m 0s) Loss: 0.5222(1.0970) Grad: 9.0410  LR: 0.000100  \n",
      "EVAL: [0/3] Elapsed 0m 0s (remain 0m 0s) Loss: 0.5155(0.5155) \n"
     ]
    },
    {
     "name": "stderr",
     "output_type": "stream",
     "text": [
      "Epoch 1 - avg_train_loss: 1.0970  avg_val_loss: 0.4980  time: 3s\n",
      "Epoch 1 - Score: 0.5006\n",
      "Epoch 1 - Save Best Score: 0.5006 Model\n"
     ]
    },
    {
     "name": "stdout",
     "output_type": "stream",
     "text": [
      "EVAL: [2/3] Elapsed 0m 0s (remain 0m 0s) Loss: 0.5862(0.4980) \n",
      "Epoch: [2][0/19] Elapsed 0m 0s (remain 0m 2s) Loss: 0.4691(0.4691) Grad: 17.7248  LR: 0.000057  \n",
      "Epoch: [2][10/19] Elapsed 0m 1s (remain 0m 1s) Loss: 0.4428(0.4123) Grad: 17.7453  LR: 0.000057  \n",
      "Epoch: [2][18/19] Elapsed 0m 2s (remain 0m 0s) Loss: 0.3183(0.3994) Grad: 12.2054  LR: 0.000057  \n",
      "EVAL: [0/3] Elapsed 0m 0s (remain 0m 0s) Loss: 0.3298(0.3298) \n"
     ]
    },
    {
     "name": "stderr",
     "output_type": "stream",
     "text": [
      "Epoch 2 - avg_train_loss: 0.3994  avg_val_loss: 0.3149  time: 4s\n",
      "Epoch 2 - Score: 0.3159\n",
      "Epoch 2 - Save Best Score: 0.3159 Model\n"
     ]
    },
    {
     "name": "stdout",
     "output_type": "stream",
     "text": [
      "EVAL: [2/3] Elapsed 0m 0s (remain 0m 0s) Loss: 0.3484(0.3149) \n",
      "Epoch: [3][0/19] Elapsed 0m 0s (remain 0m 2s) Loss: 0.2729(0.2729) Grad: 5.4852  LR: 0.000009  \n",
      "Epoch: [3][10/19] Elapsed 0m 1s (remain 0m 1s) Loss: 0.2315(0.2802) Grad: 11.1082  LR: 0.000009  \n",
      "Epoch: [3][18/19] Elapsed 0m 2s (remain 0m 0s) Loss: 0.2493(0.2831) Grad: 10.1899  LR: 0.000009  \n",
      "EVAL: [0/3] Elapsed 0m 0s (remain 0m 0s) Loss: 0.2382(0.2382) \n"
     ]
    },
    {
     "name": "stderr",
     "output_type": "stream",
     "text": [
      "Epoch 3 - avg_train_loss: 0.2831  avg_val_loss: 0.2657  time: 4s\n",
      "Epoch 3 - Score: 0.2676\n",
      "Epoch 3 - Save Best Score: 0.2676 Model\n"
     ]
    },
    {
     "name": "stdout",
     "output_type": "stream",
     "text": [
      "EVAL: [2/3] Elapsed 0m 0s (remain 0m 0s) Loss: 0.3298(0.2657) \n",
      "Epoch: [4][0/19] Elapsed 0m 0s (remain 0m 2s) Loss: 0.2108(0.2108) Grad: 7.4997  LR: 0.000001  \n",
      "Epoch: [4][10/19] Elapsed 0m 1s (remain 0m 1s) Loss: 0.2741(0.2350) Grad: 10.4592  LR: 0.000001  \n",
      "Epoch: [4][18/19] Elapsed 0m 2s (remain 0m 0s) Loss: 0.2179(0.2371) Grad: 10.1928  LR: 0.000001  \n",
      "EVAL: [0/3] Elapsed 0m 0s (remain 0m 0s) Loss: 0.2609(0.2609) \n"
     ]
    },
    {
     "name": "stderr",
     "output_type": "stream",
     "text": [
      "Epoch 4 - avg_train_loss: 0.2371  avg_val_loss: 0.2750  time: 4s\n",
      "Epoch 4 - Score: 0.2757\n"
     ]
    },
    {
     "name": "stdout",
     "output_type": "stream",
     "text": [
      "EVAL: [2/3] Elapsed 0m 0s (remain 0m 0s) Loss: 0.3145(0.2750) \n",
      "Epoch: [5][0/19] Elapsed 0m 0s (remain 0m 2s) Loss: 0.2338(0.2338) Grad: 3.8219  LR: 0.000050  \n",
      "Epoch: [5][10/19] Elapsed 0m 1s (remain 0m 1s) Loss: 0.2945(0.2395) Grad: 13.3253  LR: 0.000050  \n",
      "Epoch: [5][18/19] Elapsed 0m 2s (remain 0m 0s) Loss: 0.2639(0.2377) Grad: 9.1544  LR: 0.000050  \n",
      "EVAL: [0/3] Elapsed 0m 0s (remain 0m 0s) Loss: 0.2493(0.2493) \n"
     ]
    },
    {
     "name": "stderr",
     "output_type": "stream",
     "text": [
      "Epoch 5 - avg_train_loss: 0.2377  avg_val_loss: 0.2532  time: 3s\n",
      "Epoch 5 - Score: 0.2535\n",
      "Epoch 5 - Save Best Score: 0.2535 Model\n"
     ]
    },
    {
     "name": "stdout",
     "output_type": "stream",
     "text": [
      "EVAL: [2/3] Elapsed 0m 0s (remain 0m 0s) Loss: 0.2769(0.2532) \n",
      "Epoch: [6][0/19] Elapsed 0m 0s (remain 0m 2s) Loss: 0.1809(0.1809) Grad: 3.6727  LR: 0.000224  \n",
      "Epoch: [6][10/19] Elapsed 0m 1s (remain 0m 1s) Loss: 0.2434(0.2843) Grad: 15.6600  LR: 0.000224  \n",
      "Epoch: [6][18/19] Elapsed 0m 2s (remain 0m 0s) Loss: 0.2164(0.2616) Grad: 3.6994  LR: 0.000224  \n",
      "EVAL: [0/3] Elapsed 0m 0s (remain 0m 0s) Loss: 0.2700(0.2700) \n"
     ]
    },
    {
     "name": "stderr",
     "output_type": "stream",
     "text": [
      "Epoch 6 - avg_train_loss: 0.2616  avg_val_loss: 0.2468  time: 4s\n",
      "Epoch 6 - Score: 0.2476\n",
      "Epoch 6 - Save Best Score: 0.2476 Model\n"
     ]
    },
    {
     "name": "stdout",
     "output_type": "stream",
     "text": [
      "EVAL: [2/3] Elapsed 0m 0s (remain 0m 0s) Loss: 0.2354(0.2468) \n",
      "Epoch: [7][0/19] Elapsed 0m 0s (remain 0m 2s) Loss: 0.1668(0.1668) Grad: 4.9838  LR: 0.000133  \n",
      "Epoch: [7][10/19] Elapsed 0m 1s (remain 0m 1s) Loss: 0.1830(0.2286) Grad: 10.8133  LR: 0.000133  \n",
      "Epoch: [7][18/19] Elapsed 0m 2s (remain 0m 0s) Loss: 0.2640(0.2491) Grad: 18.3844  LR: 0.000133  \n",
      "EVAL: [0/3] Elapsed 0m 0s (remain 0m 0s) Loss: 0.2709(0.2709) \n"
     ]
    },
    {
     "name": "stderr",
     "output_type": "stream",
     "text": [
      "Epoch 7 - avg_train_loss: 0.2491  avg_val_loss: 0.2711  time: 3s\n",
      "Epoch 7 - Score: 0.2711\n"
     ]
    },
    {
     "name": "stdout",
     "output_type": "stream",
     "text": [
      "EVAL: [2/3] Elapsed 0m 0s (remain 0m 0s) Loss: 0.2720(0.2711) \n",
      "Epoch: [8][0/19] Elapsed 0m 0s (remain 0m 2s) Loss: 0.2212(0.2212) Grad: 6.6615  LR: 0.000057  \n",
      "Epoch: [8][10/19] Elapsed 0m 1s (remain 0m 1s) Loss: 0.2749(0.2187) Grad: 15.6536  LR: 0.000057  \n",
      "Epoch: [8][18/19] Elapsed 0m 2s (remain 0m 0s) Loss: 0.1744(0.2174) Grad: 8.7187  LR: 0.000057  \n",
      "EVAL: [0/3] Elapsed 0m 0s (remain 0m 0s) Loss: 0.2329(0.2329) \n"
     ]
    },
    {
     "name": "stderr",
     "output_type": "stream",
     "text": [
      "Epoch 8 - avg_train_loss: 0.2174  avg_val_loss: 0.2302  time: 4s\n",
      "Epoch 8 - Score: 0.2303\n",
      "Epoch 8 - Save Best Score: 0.2303 Model\n"
     ]
    },
    {
     "name": "stdout",
     "output_type": "stream",
     "text": [
      "EVAL: [2/3] Elapsed 0m 0s (remain 0m 0s) Loss: 0.2180(0.2302) \n",
      "Epoch: [9][0/19] Elapsed 0m 0s (remain 0m 2s) Loss: 0.1697(0.1697) Grad: 5.0352  LR: 0.000009  \n",
      "Epoch: [9][10/19] Elapsed 0m 1s (remain 0m 1s) Loss: 0.1223(0.1663) Grad: 4.2795  LR: 0.000009  \n",
      "Epoch: [9][18/19] Elapsed 0m 2s (remain 0m 0s) Loss: 0.0862(0.1512) Grad: 6.6715  LR: 0.000009  \n",
      "EVAL: [0/3] Elapsed 0m 0s (remain 0m 0s) Loss: 0.2148(0.2148) \n"
     ]
    },
    {
     "name": "stderr",
     "output_type": "stream",
     "text": [
      "Epoch 9 - avg_train_loss: 0.1512  avg_val_loss: 0.2132  time: 3s\n",
      "Epoch 9 - Score: 0.2136\n",
      "Epoch 9 - Save Best Score: 0.2136 Model\n"
     ]
    },
    {
     "name": "stdout",
     "output_type": "stream",
     "text": [
      "EVAL: [2/3] Elapsed 0m 0s (remain 0m 0s) Loss: 0.2379(0.2132) \n",
      "Epoch: [10][0/19] Elapsed 0m 0s (remain 0m 2s) Loss: 0.1123(0.1123) Grad: 3.7446  LR: 0.000001  \n",
      "Epoch: [10][10/19] Elapsed 0m 1s (remain 0m 1s) Loss: 0.1303(0.1321) Grad: 3.5978  LR: 0.000001  \n",
      "Epoch: [10][18/19] Elapsed 0m 2s (remain 0m 0s) Loss: 0.1427(0.1274) Grad: 8.4273  LR: 0.000001  \n",
      "EVAL: [0/3] Elapsed 0m 0s (remain 0m 0s) Loss: 0.2053(0.2053) \n"
     ]
    },
    {
     "name": "stderr",
     "output_type": "stream",
     "text": [
      "Epoch 10 - avg_train_loss: 0.1274  avg_val_loss: 0.1923  time: 3s\n",
      "Epoch 10 - Score: 0.1928\n",
      "Epoch 10 - Save Best Score: 0.1928 Model\n"
     ]
    },
    {
     "name": "stdout",
     "output_type": "stream",
     "text": [
      "EVAL: [2/3] Elapsed 0m 0s (remain 0m 0s) Loss: 0.1976(0.1923) \n",
      "Epoch: [11][0/19] Elapsed 0m 0s (remain 0m 2s) Loss: 0.1098(0.1098) Grad: 10.3701  LR: 0.000050  \n",
      "Epoch: [11][10/19] Elapsed 0m 1s (remain 0m 1s) Loss: 0.1545(0.1356) Grad: 11.5448  LR: 0.000050  \n",
      "Epoch: [11][18/19] Elapsed 0m 2s (remain 0m 0s) Loss: 0.1379(0.1362) Grad: 15.5308  LR: 0.000050  \n",
      "EVAL: [0/3] Elapsed 0m 0s (remain 0m 0s) Loss: 0.2201(0.2201) \n"
     ]
    },
    {
     "name": "stderr",
     "output_type": "stream",
     "text": [
      "Epoch 11 - avg_train_loss: 0.1362  avg_val_loss: 0.2185  time: 4s\n",
      "Epoch 11 - Score: 0.2186\n"
     ]
    },
    {
     "name": "stdout",
     "output_type": "stream",
     "text": [
      "EVAL: [2/3] Elapsed 0m 0s (remain 0m 0s) Loss: 0.2292(0.2185) \n",
      "Epoch: [12][0/19] Elapsed 0m 0s (remain 0m 2s) Loss: 0.1587(0.1587) Grad: 8.8607  LR: 0.000224  \n",
      "Epoch: [12][10/19] Elapsed 0m 1s (remain 0m 1s) Loss: 0.1357(0.1408) Grad: 13.0220  LR: 0.000224  \n",
      "Epoch: [12][18/19] Elapsed 0m 2s (remain 0m 0s) Loss: 0.1847(0.1457) Grad: 18.4975  LR: 0.000224  \n",
      "EVAL: [0/3] Elapsed 0m 0s (remain 0m 0s) Loss: 0.2312(0.2312) \n"
     ]
    },
    {
     "name": "stderr",
     "output_type": "stream",
     "text": [
      "Epoch 12 - avg_train_loss: 0.1457  avg_val_loss: 0.2194  time: 4s\n",
      "Epoch 12 - Score: 0.2197\n"
     ]
    },
    {
     "name": "stdout",
     "output_type": "stream",
     "text": [
      "EVAL: [2/3] Elapsed 0m 0s (remain 0m 0s) Loss: 0.2235(0.2194) \n",
      "Epoch: [13][0/19] Elapsed 0m 0s (remain 0m 2s) Loss: 0.1406(0.1406) Grad: 5.5341  LR: 0.000133  \n",
      "Epoch: [13][10/19] Elapsed 0m 1s (remain 0m 1s) Loss: 0.1937(0.1773) Grad: 11.8256  LR: 0.000133  \n",
      "Epoch: [13][18/19] Elapsed 0m 2s (remain 0m 0s) Loss: 0.1833(0.2157) Grad: 4.6542  LR: 0.000133  \n",
      "EVAL: [0/3] Elapsed 0m 0s (remain 0m 0s) Loss: 0.3429(0.3429) \n"
     ]
    },
    {
     "name": "stderr",
     "output_type": "stream",
     "text": [
      "Epoch 13 - avg_train_loss: 0.2157  avg_val_loss: 0.3287  time: 4s\n",
      "Epoch 13 - Score: 0.3289\n"
     ]
    },
    {
     "name": "stdout",
     "output_type": "stream",
     "text": [
      "EVAL: [2/3] Elapsed 0m 0s (remain 0m 0s) Loss: 0.3197(0.3287) \n",
      "Epoch: [14][0/19] Elapsed 0m 0s (remain 0m 2s) Loss: 0.2923(0.2923) Grad: 24.5734  LR: 0.000057  \n",
      "Epoch: [14][10/19] Elapsed 0m 1s (remain 0m 1s) Loss: 0.2390(0.2123) Grad: 23.6064  LR: 0.000057  \n",
      "Epoch: [14][18/19] Elapsed 0m 2s (remain 0m 0s) Loss: 0.3078(0.2249) Grad: 21.6838  LR: 0.000057  \n",
      "EVAL: [0/3] Elapsed 0m 0s (remain 0m 0s) Loss: 0.2170(0.2170) \n"
     ]
    },
    {
     "name": "stderr",
     "output_type": "stream",
     "text": [
      "Epoch 14 - avg_train_loss: 0.2249  avg_val_loss: 0.2191  time: 4s\n",
      "Epoch 14 - Score: 0.2191\n"
     ]
    },
    {
     "name": "stdout",
     "output_type": "stream",
     "text": [
      "EVAL: [2/3] Elapsed 0m 0s (remain 0m 0s) Loss: 0.2186(0.2191) \n",
      "Epoch: [15][0/19] Elapsed 0m 0s (remain 0m 2s) Loss: 0.1227(0.1227) Grad: 4.2121  LR: 0.000009  \n",
      "Epoch: [15][10/19] Elapsed 0m 1s (remain 0m 1s) Loss: 0.1299(0.1379) Grad: 11.5525  LR: 0.000009  \n",
      "Epoch: [15][18/19] Elapsed 0m 2s (remain 0m 0s) Loss: 0.1282(0.1357) Grad: 9.7978  LR: 0.000009  \n",
      "EVAL: [0/3] Elapsed 0m 0s (remain 0m 0s) Loss: 0.2185(0.2185) \n"
     ]
    },
    {
     "name": "stderr",
     "output_type": "stream",
     "text": [
      "Epoch 15 - avg_train_loss: 0.1357  avg_val_loss: 0.2071  time: 4s\n",
      "Epoch 15 - Score: 0.2073\n"
     ]
    },
    {
     "name": "stdout",
     "output_type": "stream",
     "text": [
      "EVAL: [2/3] Elapsed 0m 0s (remain 0m 0s) Loss: 0.1926(0.2071) \n",
      "Epoch: [16][0/19] Elapsed 0m 0s (remain 0m 2s) Loss: 0.1241(0.1241) Grad: 3.5934  LR: 0.000001  \n",
      "Epoch: [16][10/19] Elapsed 0m 1s (remain 0m 1s) Loss: 0.1198(0.1169) Grad: 7.3701  LR: 0.000001  \n",
      "Epoch: [16][18/19] Elapsed 0m 2s (remain 0m 0s) Loss: 0.1251(0.1142) Grad: 2.9824  LR: 0.000001  \n",
      "EVAL: [0/3] Elapsed 0m 0s (remain 0m 0s) Loss: 0.2062(0.2062) \n"
     ]
    },
    {
     "name": "stderr",
     "output_type": "stream",
     "text": [
      "Epoch 16 - avg_train_loss: 0.1142  avg_val_loss: 0.2021  time: 4s\n",
      "Epoch 16 - Score: 0.2021\n"
     ]
    },
    {
     "name": "stdout",
     "output_type": "stream",
     "text": [
      "EVAL: [2/3] Elapsed 0m 0s (remain 0m 0s) Loss: 0.2058(0.2021) \n",
      "Epoch: [17][0/19] Elapsed 0m 0s (remain 0m 2s) Loss: 0.0891(0.0891) Grad: 4.2339  LR: 0.000050  \n",
      "Epoch: [17][10/19] Elapsed 0m 1s (remain 0m 1s) Loss: 0.1301(0.1125) Grad: 2.9357  LR: 0.000050  \n",
      "Epoch: [17][18/19] Elapsed 0m 2s (remain 0m 0s) Loss: 0.1651(0.1145) Grad: 12.8794  LR: 0.000050  \n",
      "EVAL: [0/3] Elapsed 0m 0s (remain 0m 0s) Loss: 0.1994(0.1994) \n"
     ]
    },
    {
     "name": "stderr",
     "output_type": "stream",
     "text": [
      "Epoch 17 - avg_train_loss: 0.1145  avg_val_loss: 0.1975  time: 3s\n",
      "Epoch 17 - Score: 0.1980\n"
     ]
    },
    {
     "name": "stdout",
     "output_type": "stream",
     "text": [
      "EVAL: [2/3] Elapsed 0m 0s (remain 0m 0s) Loss: 0.2257(0.1975) \n",
      "Epoch: [18][0/19] Elapsed 0m 0s (remain 0m 2s) Loss: 0.0802(0.0802) Grad: 7.9640  LR: 0.000224  \n",
      "Epoch: [18][10/19] Elapsed 0m 1s (remain 0m 1s) Loss: 0.0932(0.1165) Grad: 3.5172  LR: 0.000224  \n",
      "Epoch: [18][18/19] Elapsed 0m 2s (remain 0m 0s) Loss: 0.1571(0.1325) Grad: 18.0283  LR: 0.000224  \n",
      "EVAL: [0/3] Elapsed 0m 0s (remain 0m 0s) Loss: 0.2059(0.2059) \n"
     ]
    },
    {
     "name": "stderr",
     "output_type": "stream",
     "text": [
      "Epoch 18 - avg_train_loss: 0.1325  avg_val_loss: 0.2117  time: 4s\n",
      "Epoch 18 - Score: 0.2118\n"
     ]
    },
    {
     "name": "stdout",
     "output_type": "stream",
     "text": [
      "EVAL: [2/3] Elapsed 0m 0s (remain 0m 0s) Loss: 0.2121(0.2117) \n",
      "Epoch: [19][0/19] Elapsed 0m 0s (remain 0m 2s) Loss: 0.1175(0.1175) Grad: 4.8233  LR: 0.000133  \n",
      "Epoch: [19][10/19] Elapsed 0m 1s (remain 0m 1s) Loss: 0.1229(0.1573) Grad: 12.7947  LR: 0.000133  \n",
      "Epoch: [19][18/19] Elapsed 0m 2s (remain 0m 0s) Loss: 0.1490(0.1549) Grad: 4.4446  LR: 0.000133  \n",
      "EVAL: [0/3] Elapsed 0m 0s (remain 0m 0s) Loss: 0.2319(0.2319) \n"
     ]
    },
    {
     "name": "stderr",
     "output_type": "stream",
     "text": [
      "Epoch 19 - avg_train_loss: 0.1549  avg_val_loss: 0.2299  time: 4s\n",
      "Epoch 19 - Score: 0.2299\n"
     ]
    },
    {
     "name": "stdout",
     "output_type": "stream",
     "text": [
      "EVAL: [2/3] Elapsed 0m 0s (remain 0m 0s) Loss: 0.2355(0.2299) \n",
      "Epoch: [20][0/19] Elapsed 0m 0s (remain 0m 2s) Loss: 0.1275(0.1275) Grad: 8.0551  LR: 0.000057  \n",
      "Epoch: [20][10/19] Elapsed 0m 1s (remain 0m 1s) Loss: 0.1102(0.1294) Grad: 12.6498  LR: 0.000057  \n",
      "Epoch: [20][18/19] Elapsed 0m 2s (remain 0m 0s) Loss: 0.2485(0.1526) Grad: 20.2984  LR: 0.000057  \n",
      "EVAL: [0/3] Elapsed 0m 0s (remain 0m 0s) Loss: 0.2105(0.2105) \n"
     ]
    },
    {
     "name": "stderr",
     "output_type": "stream",
     "text": [
      "Epoch 20 - avg_train_loss: 0.1526  avg_val_loss: 0.2149  time: 4s\n",
      "Epoch 20 - Score: 0.2152\n"
     ]
    },
    {
     "name": "stdout",
     "output_type": "stream",
     "text": [
      "EVAL: [2/3] Elapsed 0m 0s (remain 0m 0s) Loss: 0.2388(0.2149) \n",
      "Epoch: [21][0/19] Elapsed 0m 0s (remain 0m 2s) Loss: 0.1101(0.1101) Grad: 7.5287  LR: 0.000009  \n",
      "Epoch: [21][10/19] Elapsed 0m 1s (remain 0m 1s) Loss: 0.1139(0.1324) Grad: 14.4365  LR: 0.000009  \n",
      "Epoch: [21][18/19] Elapsed 0m 2s (remain 0m 0s) Loss: 0.1248(0.1267) Grad: 9.1040  LR: 0.000009  \n",
      "EVAL: [0/3] Elapsed 0m 0s (remain 0m 0s) Loss: 0.1777(0.1777) \n"
     ]
    },
    {
     "name": "stderr",
     "output_type": "stream",
     "text": [
      "Epoch 21 - avg_train_loss: 0.1267  avg_val_loss: 0.1980  time: 4s\n",
      "Epoch 21 - Score: 0.1991\n"
     ]
    },
    {
     "name": "stdout",
     "output_type": "stream",
     "text": [
      "EVAL: [2/3] Elapsed 0m 0s (remain 0m 0s) Loss: 0.2377(0.1980) \n",
      "Epoch: [22][0/19] Elapsed 0m 0s (remain 0m 2s) Loss: 0.1259(0.1259) Grad: 11.1893  LR: 0.000001  \n",
      "Epoch: [22][10/19] Elapsed 0m 1s (remain 0m 1s) Loss: 0.0908(0.1086) Grad: 9.9710  LR: 0.000001  \n",
      "Epoch: [22][18/19] Elapsed 0m 2s (remain 0m 0s) Loss: 0.0908(0.1033) Grad: 5.0273  LR: 0.000001  \n",
      "EVAL: [0/3] Elapsed 0m 0s (remain 0m 0s) Loss: 0.1976(0.1976) \n"
     ]
    },
    {
     "name": "stderr",
     "output_type": "stream",
     "text": [
      "Epoch 22 - avg_train_loss: 0.1033  avg_val_loss: 0.1973  time: 4s\n",
      "Epoch 22 - Score: 0.1976\n"
     ]
    },
    {
     "name": "stdout",
     "output_type": "stream",
     "text": [
      "EVAL: [2/3] Elapsed 0m 0s (remain 0m 0s) Loss: 0.2223(0.1973) \n",
      "Epoch: [23][0/19] Elapsed 0m 0s (remain 0m 2s) Loss: 0.0839(0.0839) Grad: 4.6008  LR: 0.000050  \n",
      "Epoch: [23][10/19] Elapsed 0m 1s (remain 0m 1s) Loss: 0.1345(0.1279) Grad: 20.1106  LR: 0.000050  \n",
      "Epoch: [23][18/19] Elapsed 0m 2s (remain 0m 0s) Loss: 0.1348(0.1221) Grad: 19.6697  LR: 0.000050  \n",
      "EVAL: [0/3] Elapsed 0m 0s (remain 0m 0s) Loss: 0.1857(0.1857) \n"
     ]
    },
    {
     "name": "stderr",
     "output_type": "stream",
     "text": [
      "Epoch 23 - avg_train_loss: 0.1221  avg_val_loss: 0.1942  time: 4s\n",
      "Epoch 23 - Score: 0.1943\n"
     ]
    },
    {
     "name": "stdout",
     "output_type": "stream",
     "text": [
      "EVAL: [2/3] Elapsed 0m 0s (remain 0m 0s) Loss: 0.1990(0.1942) \n",
      "Epoch: [24][0/19] Elapsed 0m 0s (remain 0m 2s) Loss: 0.0930(0.0930) Grad: 9.7116  LR: 0.000224  \n",
      "Epoch: [24][10/19] Elapsed 0m 1s (remain 0m 1s) Loss: 0.1614(0.1563) Grad: 9.1431  LR: 0.000224  \n",
      "Epoch: [24][18/19] Elapsed 0m 2s (remain 0m 0s) Loss: 0.1284(0.1375) Grad: 8.1799  LR: 0.000224  \n",
      "EVAL: [0/3] Elapsed 0m 0s (remain 0m 0s) Loss: 0.2096(0.2096) \n"
     ]
    },
    {
     "name": "stderr",
     "output_type": "stream",
     "text": [
      "Epoch 24 - avg_train_loss: 0.1375  avg_val_loss: 0.2068  time: 4s\n",
      "Epoch 24 - Score: 0.2074\n"
     ]
    },
    {
     "name": "stdout",
     "output_type": "stream",
     "text": [
      "EVAL: [2/3] Elapsed 0m 0s (remain 0m 0s) Loss: 0.2366(0.2068) \n",
      "Epoch: [25][0/19] Elapsed 0m 0s (remain 0m 2s) Loss: 0.1378(0.1378) Grad: 5.6805  LR: 0.000133  \n",
      "Epoch: [25][10/19] Elapsed 0m 1s (remain 0m 1s) Loss: 0.1707(0.1366) Grad: 10.3260  LR: 0.000133  \n",
      "Epoch: [25][18/19] Elapsed 0m 2s (remain 0m 0s) Loss: 0.1910(0.1566) Grad: 16.9575  LR: 0.000133  \n",
      "EVAL: [0/3] Elapsed 0m 0s (remain 0m 0s) Loss: 0.2796(0.2796) \n"
     ]
    },
    {
     "name": "stderr",
     "output_type": "stream",
     "text": [
      "Epoch 25 - avg_train_loss: 0.1566  avg_val_loss: 0.2786  time: 4s\n",
      "Epoch 25 - Score: 0.2788\n"
     ]
    },
    {
     "name": "stdout",
     "output_type": "stream",
     "text": [
      "EVAL: [2/3] Elapsed 0m 0s (remain 0m 0s) Loss: 0.2552(0.2786) \n",
      "Epoch: [26][0/19] Elapsed 0m 0s (remain 0m 2s) Loss: 0.1856(0.1856) Grad: 13.0023  LR: 0.000057  \n",
      "Epoch: [26][10/19] Elapsed 0m 1s (remain 0m 1s) Loss: 0.2235(0.1606) Grad: 21.2218  LR: 0.000057  \n",
      "Epoch: [26][18/19] Elapsed 0m 2s (remain 0m 0s) Loss: 0.1055(0.1590) Grad: 4.9218  LR: 0.000057  \n",
      "EVAL: [0/3] Elapsed 0m 0s (remain 0m 0s) Loss: 0.2136(0.2136) \n"
     ]
    },
    {
     "name": "stderr",
     "output_type": "stream",
     "text": [
      "Epoch 26 - avg_train_loss: 0.1590  avg_val_loss: 0.2247  time: 3s\n",
      "Epoch 26 - Score: 0.2256\n"
     ]
    },
    {
     "name": "stdout",
     "output_type": "stream",
     "text": [
      "EVAL: [2/3] Elapsed 0m 0s (remain 0m 0s) Loss: 0.2700(0.2247) \n",
      "Epoch: [27][0/19] Elapsed 0m 0s (remain 0m 2s) Loss: 0.1244(0.1244) Grad: 17.1627  LR: 0.000009  \n",
      "Epoch: [27][10/19] Elapsed 0m 1s (remain 0m 1s) Loss: 0.1169(0.1293) Grad: 9.9428  LR: 0.000009  \n",
      "Epoch: [27][18/19] Elapsed 0m 2s (remain 0m 0s) Loss: 0.0626(0.1215) Grad: 8.9470  LR: 0.000009  \n",
      "EVAL: [0/3] Elapsed 0m 0s (remain 0m 0s) Loss: 0.1966(0.1966) \n"
     ]
    },
    {
     "name": "stderr",
     "output_type": "stream",
     "text": [
      "Epoch 27 - avg_train_loss: 0.1215  avg_val_loss: 0.1889  time: 3s\n",
      "Epoch 27 - Score: 0.1892\n",
      "Epoch 27 - Save Best Score: 0.1892 Model\n"
     ]
    },
    {
     "name": "stdout",
     "output_type": "stream",
     "text": [
      "EVAL: [2/3] Elapsed 0m 0s (remain 0m 0s) Loss: 0.2013(0.1889) \n",
      "Epoch: [28][0/19] Elapsed 0m 0s (remain 0m 2s) Loss: 0.0857(0.0857) Grad: 10.0763  LR: 0.000001  \n",
      "Epoch: [28][10/19] Elapsed 0m 1s (remain 0m 1s) Loss: 0.0867(0.0958) Grad: 2.8098  LR: 0.000001  \n",
      "Epoch: [28][18/19] Elapsed 0m 2s (remain 0m 0s) Loss: 0.0882(0.0894) Grad: 10.0058  LR: 0.000001  \n",
      "EVAL: [0/3] Elapsed 0m 0s (remain 0m 0s) Loss: 0.1858(0.1858) \n"
     ]
    },
    {
     "name": "stderr",
     "output_type": "stream",
     "text": [
      "Epoch 28 - avg_train_loss: 0.0894  avg_val_loss: 0.1924  time: 4s\n",
      "Epoch 28 - Score: 0.1925\n"
     ]
    },
    {
     "name": "stdout",
     "output_type": "stream",
     "text": [
      "EVAL: [2/3] Elapsed 0m 0s (remain 0m 0s) Loss: 0.2068(0.1924) \n",
      "Epoch: [29][0/19] Elapsed 0m 0s (remain 0m 2s) Loss: 0.0892(0.0892) Grad: 4.1853  LR: 0.000050  \n",
      "Epoch: [29][10/19] Elapsed 0m 1s (remain 0m 1s) Loss: 0.0722(0.0883) Grad: 12.4367  LR: 0.000050  \n",
      "Epoch: [29][18/19] Elapsed 0m 2s (remain 0m 0s) Loss: 0.0901(0.0885) Grad: 14.8540  LR: 0.000050  \n",
      "EVAL: [0/3] Elapsed 0m 0s (remain 0m 0s) Loss: 0.1909(0.1909) \n"
     ]
    },
    {
     "name": "stderr",
     "output_type": "stream",
     "text": [
      "Epoch 29 - avg_train_loss: 0.0885  avg_val_loss: 0.1942  time: 3s\n",
      "Epoch 29 - Score: 0.1945\n"
     ]
    },
    {
     "name": "stdout",
     "output_type": "stream",
     "text": [
      "EVAL: [2/3] Elapsed 0m 0s (remain 0m 0s) Loss: 0.2196(0.1942) \n",
      "Epoch: [30][0/19] Elapsed 0m 0s (remain 0m 2s) Loss: 0.0581(0.0581) Grad: 9.6813  LR: 0.000224  \n",
      "Epoch: [30][10/19] Elapsed 0m 1s (remain 0m 1s) Loss: 0.1217(0.1448) Grad: 11.5840  LR: 0.000224  \n",
      "Epoch: [30][18/19] Elapsed 0m 2s (remain 0m 0s) Loss: 0.1323(0.1534) Grad: 18.1838  LR: 0.000224  \n",
      "EVAL: [0/3] Elapsed 0m 0s (remain 0m 0s) Loss: 0.2353(0.2353) \n"
     ]
    },
    {
     "name": "stderr",
     "output_type": "stream",
     "text": [
      "Epoch 30 - avg_train_loss: 0.1534  avg_val_loss: 0.2558  time: 3s\n",
      "Epoch 30 - Score: 0.2564\n"
     ]
    },
    {
     "name": "stdout",
     "output_type": "stream",
     "text": [
      "EVAL: [2/3] Elapsed 0m 0s (remain 0m 0s) Loss: 0.2748(0.2558) \n",
      "Epoch: [31][0/19] Elapsed 0m 0s (remain 0m 2s) Loss: 0.2314(0.2314) Grad: 15.8076  LR: 0.000133  \n",
      "Epoch: [31][10/19] Elapsed 0m 1s (remain 0m 1s) Loss: 0.2975(0.2623) Grad: 23.2481  LR: 0.000133  \n",
      "Epoch: [31][18/19] Elapsed 0m 2s (remain 0m 0s) Loss: 0.2160(0.2649) Grad: 16.8813  LR: 0.000133  \n",
      "EVAL: [0/3] Elapsed 0m 0s (remain 0m 0s) Loss: 0.2067(0.2067) \n"
     ]
    },
    {
     "name": "stderr",
     "output_type": "stream",
     "text": [
      "Epoch 31 - avg_train_loss: 0.2649  avg_val_loss: 0.2237  time: 4s\n",
      "Epoch 31 - Score: 0.2251\n"
     ]
    },
    {
     "name": "stdout",
     "output_type": "stream",
     "text": [
      "EVAL: [2/3] Elapsed 0m 0s (remain 0m 0s) Loss: 0.2775(0.2237) \n",
      "Epoch: [32][0/19] Elapsed 0m 0s (remain 0m 2s) Loss: 0.2399(0.2399) Grad: 12.3203  LR: 0.000057  \n",
      "Epoch: [32][10/19] Elapsed 0m 1s (remain 0m 1s) Loss: 0.1121(0.1556) Grad: 3.4823  LR: 0.000057  \n",
      "Epoch: [32][18/19] Elapsed 0m 2s (remain 0m 0s) Loss: 0.1255(0.1445) Grad: 16.0423  LR: 0.000057  \n",
      "EVAL: [0/3] Elapsed 0m 0s (remain 0m 0s) Loss: 0.2050(0.2050) \n"
     ]
    },
    {
     "name": "stderr",
     "output_type": "stream",
     "text": [
      "Epoch 32 - avg_train_loss: 0.1445  avg_val_loss: 0.2207  time: 3s\n",
      "Epoch 32 - Score: 0.2212\n"
     ]
    },
    {
     "name": "stdout",
     "output_type": "stream",
     "text": [
      "EVAL: [2/3] Elapsed 0m 0s (remain 0m 0s) Loss: 0.2448(0.2207) \n",
      "Epoch: [33][0/19] Elapsed 0m 0s (remain 0m 2s) Loss: 0.1314(0.1314) Grad: 11.7841  LR: 0.000009  \n",
      "Epoch: [33][10/19] Elapsed 0m 1s (remain 0m 1s) Loss: 0.0961(0.1010) Grad: 7.4894  LR: 0.000009  \n",
      "Epoch: [33][18/19] Elapsed 0m 2s (remain 0m 0s) Loss: 0.1058(0.0971) Grad: 2.4096  LR: 0.000009  \n",
      "EVAL: [0/3] Elapsed 0m 0s (remain 0m 0s) Loss: 0.1845(0.1845) \n"
     ]
    },
    {
     "name": "stderr",
     "output_type": "stream",
     "text": [
      "Epoch 33 - avg_train_loss: 0.0971  avg_val_loss: 0.1909  time: 4s\n",
      "Epoch 33 - Score: 0.1917\n"
     ]
    },
    {
     "name": "stdout",
     "output_type": "stream",
     "text": [
      "EVAL: [2/3] Elapsed 0m 0s (remain 0m 0s) Loss: 0.2304(0.1909) \n",
      "Epoch: [34][0/19] Elapsed 0m 0s (remain 0m 2s) Loss: 0.0816(0.0816) Grad: 6.4332  LR: 0.000001  \n",
      "Epoch: [34][10/19] Elapsed 0m 1s (remain 0m 1s) Loss: 0.0900(0.0776) Grad: 4.6613  LR: 0.000001  \n",
      "Epoch: [34][18/19] Elapsed 0m 2s (remain 0m 0s) Loss: 0.0980(0.0802) Grad: 2.1231  LR: 0.000001  \n",
      "EVAL: [0/3] Elapsed 0m 0s (remain 0m 0s) Loss: 0.1828(0.1828) \n"
     ]
    },
    {
     "name": "stderr",
     "output_type": "stream",
     "text": [
      "Epoch 34 - avg_train_loss: 0.0802  avg_val_loss: 0.1908  time: 4s\n",
      "Epoch 34 - Score: 0.1912\n"
     ]
    },
    {
     "name": "stdout",
     "output_type": "stream",
     "text": [
      "EVAL: [2/3] Elapsed 0m 0s (remain 0m 0s) Loss: 0.2198(0.1908) \n",
      "Epoch: [35][0/19] Elapsed 0m 0s (remain 0m 2s) Loss: 0.1058(0.1058) Grad: 5.0478  LR: 0.000050  \n",
      "Epoch: [35][10/19] Elapsed 0m 1s (remain 0m 1s) Loss: 0.0660(0.0842) Grad: 7.8843  LR: 0.000050  \n",
      "Epoch: [35][18/19] Elapsed 0m 2s (remain 0m 0s) Loss: 0.0925(0.0855) Grad: 15.4866  LR: 0.000050  \n",
      "EVAL: [0/3] Elapsed 0m 0s (remain 0m 0s) Loss: 0.1891(0.1891) \n"
     ]
    },
    {
     "name": "stderr",
     "output_type": "stream",
     "text": [
      "Epoch 35 - avg_train_loss: 0.0855  avg_val_loss: 0.1986  time: 3s\n",
      "Epoch 35 - Score: 0.1989\n"
     ]
    },
    {
     "name": "stdout",
     "output_type": "stream",
     "text": [
      "EVAL: [2/3] Elapsed 0m 0s (remain 0m 0s) Loss: 0.2194(0.1986) \n",
      "Epoch: [36][0/19] Elapsed 0m 0s (remain 0m 2s) Loss: 0.0727(0.0727) Grad: 10.2029  LR: 0.000224  \n",
      "Epoch: [36][10/19] Elapsed 0m 1s (remain 0m 1s) Loss: 0.1046(0.0971) Grad: 16.5164  LR: 0.000224  \n",
      "Epoch: [36][18/19] Elapsed 0m 2s (remain 0m 0s) Loss: 0.1063(0.0964) Grad: 14.1734  LR: 0.000224  \n",
      "EVAL: [0/3] Elapsed 0m 0s (remain 0m 0s) Loss: 0.1862(0.1862) \n"
     ]
    },
    {
     "name": "stderr",
     "output_type": "stream",
     "text": [
      "Epoch 36 - avg_train_loss: 0.0964  avg_val_loss: 0.1992  time: 3s\n",
      "Epoch 36 - Score: 0.1998\n"
     ]
    },
    {
     "name": "stdout",
     "output_type": "stream",
     "text": [
      "EVAL: [2/3] Elapsed 0m 0s (remain 0m 0s) Loss: 0.2293(0.1992) \n",
      "Epoch: [37][0/19] Elapsed 0m 0s (remain 0m 2s) Loss: 0.0804(0.0804) Grad: 4.7994  LR: 0.000133  \n",
      "Epoch: [37][10/19] Elapsed 0m 1s (remain 0m 1s) Loss: 0.1029(0.0981) Grad: 7.1687  LR: 0.000133  \n",
      "Epoch: [37][18/19] Elapsed 0m 2s (remain 0m 0s) Loss: 0.1812(0.1224) Grad: 15.2806  LR: 0.000133  \n",
      "EVAL: [0/3] Elapsed 0m 0s (remain 0m 0s) Loss: 0.2017(0.2017) \n"
     ]
    },
    {
     "name": "stderr",
     "output_type": "stream",
     "text": [
      "Epoch 37 - avg_train_loss: 0.1224  avg_val_loss: 0.2086  time: 4s\n",
      "Epoch 37 - Score: 0.2096\n"
     ]
    },
    {
     "name": "stdout",
     "output_type": "stream",
     "text": [
      "EVAL: [2/3] Elapsed 0m 0s (remain 0m 0s) Loss: 0.2524(0.2086) \n",
      "Epoch: [38][0/19] Elapsed 0m 0s (remain 0m 2s) Loss: 0.1221(0.1221) Grad: 2.4711  LR: 0.000057  \n",
      "Epoch: [38][10/19] Elapsed 0m 1s (remain 0m 1s) Loss: 0.1002(0.1258) Grad: 13.8748  LR: 0.000057  \n",
      "Epoch: [38][18/19] Elapsed 0m 2s (remain 0m 0s) Loss: 0.1081(0.1205) Grad: 7.8563  LR: 0.000057  \n",
      "EVAL: [0/3] Elapsed 0m 0s (remain 0m 0s) Loss: 0.2236(0.2236) \n"
     ]
    },
    {
     "name": "stderr",
     "output_type": "stream",
     "text": [
      "Epoch 38 - avg_train_loss: 0.1205  avg_val_loss: 0.2256  time: 4s\n",
      "Epoch 38 - Score: 0.2257\n"
     ]
    },
    {
     "name": "stdout",
     "output_type": "stream",
     "text": [
      "EVAL: [2/3] Elapsed 0m 0s (remain 0m 0s) Loss: 0.2458(0.2256) \n",
      "Epoch: [39][0/19] Elapsed 0m 0s (remain 0m 2s) Loss: 0.1666(0.1666) Grad: 14.0253  LR: 0.000009  \n",
      "Epoch: [39][10/19] Elapsed 0m 1s (remain 0m 1s) Loss: 0.0891(0.1030) Grad: 8.9683  LR: 0.000009  \n",
      "Epoch: [39][18/19] Elapsed 0m 2s (remain 0m 0s) Loss: 0.0731(0.0942) Grad: 7.2543  LR: 0.000009  \n",
      "EVAL: [0/3] Elapsed 0m 0s (remain 0m 0s) Loss: 0.1727(0.1727) \n"
     ]
    },
    {
     "name": "stderr",
     "output_type": "stream",
     "text": [
      "Epoch 39 - avg_train_loss: 0.0942  avg_val_loss: 0.1858  time: 4s\n",
      "Epoch 39 - Score: 0.1863\n",
      "Epoch 39 - Save Best Score: 0.1863 Model\n"
     ]
    },
    {
     "name": "stdout",
     "output_type": "stream",
     "text": [
      "EVAL: [2/3] Elapsed 0m 0s (remain 0m 0s) Loss: 0.2132(0.1858) \n",
      "Epoch: [40][0/19] Elapsed 0m 0s (remain 0m 2s) Loss: 0.0513(0.0513) Grad: 3.6585  LR: 0.000001  \n",
      "Epoch: [40][10/19] Elapsed 0m 1s (remain 0m 1s) Loss: 0.0613(0.0728) Grad: 1.9861  LR: 0.000001  \n",
      "Epoch: [40][18/19] Elapsed 0m 2s (remain 0m 0s) Loss: 0.0700(0.0715) Grad: 2.7503  LR: 0.000001  \n",
      "EVAL: [0/3] Elapsed 0m 0s (remain 0m 0s) Loss: 0.1870(0.1870) \n"
     ]
    },
    {
     "name": "stderr",
     "output_type": "stream",
     "text": [
      "Epoch 40 - avg_train_loss: 0.0715  avg_val_loss: 0.1928  time: 3s\n",
      "Epoch 40 - Score: 0.1934\n",
      "========== fold: 1 result ==========\n",
      "Score: 0.1863\n",
      "========== fold: 2 training ==========\n"
     ]
    },
    {
     "name": "stdout",
     "output_type": "stream",
     "text": [
      "EVAL: [2/3] Elapsed 0m 0s (remain 0m 0s) Loss: 0.2249(0.1928) \n",
      "Epoch: [1][0/19] Elapsed 0m 0s (remain 0m 2s) Loss: 3.5273(3.5273) Grad: 26.7177  LR: 0.000100  \n",
      "Epoch: [1][10/19] Elapsed 0m 1s (remain 0m 1s) Loss: 0.8905(1.6762) Grad: 23.1527  LR: 0.000100  \n",
      "Epoch: [1][18/19] Elapsed 0m 2s (remain 0m 0s) Loss: 0.7009(1.2346) Grad: 28.1513  LR: 0.000100  \n",
      "EVAL: [0/3] Elapsed 0m 0s (remain 0m 0s) Loss: 0.5774(0.5774) \n"
     ]
    },
    {
     "name": "stderr",
     "output_type": "stream",
     "text": [
      "Epoch 1 - avg_train_loss: 1.2346  avg_val_loss: 0.4843  time: 4s\n",
      "Epoch 1 - Score: 0.4907\n",
      "Epoch 1 - Save Best Score: 0.4907 Model\n"
     ]
    },
    {
     "name": "stdout",
     "output_type": "stream",
     "text": [
      "EVAL: [2/3] Elapsed 0m 0s (remain 0m 0s) Loss: 0.4335(0.4843) \n",
      "Epoch: [2][0/19] Elapsed 0m 0s (remain 0m 2s) Loss: 0.4410(0.4410) Grad: 5.6935  LR: 0.000057  \n",
      "Epoch: [2][10/19] Elapsed 0m 1s (remain 0m 1s) Loss: 0.4223(0.4076) Grad: 3.8833  LR: 0.000057  \n",
      "Epoch: [2][18/19] Elapsed 0m 2s (remain 0m 0s) Loss: 0.3452(0.3913) Grad: 9.5420  LR: 0.000057  \n",
      "EVAL: [0/3] Elapsed 0m 0s (remain 0m 0s) Loss: 0.4323(0.4323) \n"
     ]
    },
    {
     "name": "stderr",
     "output_type": "stream",
     "text": [
      "Epoch 2 - avg_train_loss: 0.3913  avg_val_loss: 0.3630  time: 3s\n",
      "Epoch 2 - Score: 0.3677\n",
      "Epoch 2 - Save Best Score: 0.3677 Model\n"
     ]
    },
    {
     "name": "stdout",
     "output_type": "stream",
     "text": [
      "EVAL: [2/3] Elapsed 0m 0s (remain 0m 0s) Loss: 0.3281(0.3630) \n",
      "Epoch: [3][0/19] Elapsed 0m 0s (remain 0m 2s) Loss: 0.2652(0.2652) Grad: 6.2524  LR: 0.000009  \n",
      "Epoch: [3][10/19] Elapsed 0m 1s (remain 0m 1s) Loss: 0.2481(0.2739) Grad: 5.8293  LR: 0.000009  \n",
      "Epoch: [3][18/19] Elapsed 0m 2s (remain 0m 0s) Loss: 0.2439(0.2764) Grad: 15.1933  LR: 0.000009  \n",
      "EVAL: [0/3] Elapsed 0m 0s (remain 0m 0s) Loss: 0.3846(0.3846) \n"
     ]
    },
    {
     "name": "stderr",
     "output_type": "stream",
     "text": [
      "Epoch 3 - avg_train_loss: 0.2764  avg_val_loss: 0.3230  time: 4s\n",
      "Epoch 3 - Score: 0.3280\n",
      "Epoch 3 - Save Best Score: 0.3280 Model\n"
     ]
    },
    {
     "name": "stdout",
     "output_type": "stream",
     "text": [
      "EVAL: [2/3] Elapsed 0m 0s (remain 0m 0s) Loss: 0.2304(0.3230) \n",
      "Epoch: [4][0/19] Elapsed 0m 0s (remain 0m 2s) Loss: 0.2838(0.2838) Grad: 5.0835  LR: 0.000001  \n",
      "Epoch: [4][10/19] Elapsed 0m 1s (remain 0m 1s) Loss: 0.2595(0.2524) Grad: 4.4117  LR: 0.000001  \n",
      "Epoch: [4][18/19] Elapsed 0m 2s (remain 0m 0s) Loss: 0.2112(0.2446) Grad: 4.1686  LR: 0.000001  \n",
      "EVAL: [0/3] Elapsed 0m 0s (remain 0m 0s) Loss: 0.3859(0.3859) \n"
     ]
    },
    {
     "name": "stderr",
     "output_type": "stream",
     "text": [
      "Epoch 4 - avg_train_loss: 0.2446  avg_val_loss: 0.3267  time: 4s\n",
      "Epoch 4 - Score: 0.3307\n"
     ]
    },
    {
     "name": "stdout",
     "output_type": "stream",
     "text": [
      "EVAL: [2/3] Elapsed 0m 0s (remain 0m 0s) Loss: 0.2602(0.3267) \n",
      "Epoch: [5][0/19] Elapsed 0m 0s (remain 0m 2s) Loss: 0.2086(0.2086) Grad: 4.3021  LR: 0.000050  \n",
      "Epoch: [5][10/19] Elapsed 0m 1s (remain 0m 1s) Loss: 0.2430(0.2588) Grad: 13.9904  LR: 0.000050  \n",
      "Epoch: [5][18/19] Elapsed 0m 2s (remain 0m 0s) Loss: 0.1908(0.2415) Grad: 5.5841  LR: 0.000050  \n",
      "EVAL: [0/3] Elapsed 0m 0s (remain 0m 0s) Loss: 0.3636(0.3636) \n"
     ]
    },
    {
     "name": "stderr",
     "output_type": "stream",
     "text": [
      "Epoch 5 - avg_train_loss: 0.2415  avg_val_loss: 0.3223  time: 4s\n",
      "Epoch 5 - Score: 0.3245\n",
      "Epoch 5 - Save Best Score: 0.3245 Model\n"
     ]
    },
    {
     "name": "stdout",
     "output_type": "stream",
     "text": [
      "EVAL: [2/3] Elapsed 0m 0s (remain 0m 0s) Loss: 0.2677(0.3223) \n",
      "Epoch: [6][0/19] Elapsed 0m 0s (remain 0m 2s) Loss: 0.2174(0.2174) Grad: 16.6557  LR: 0.000224  \n",
      "Epoch: [6][10/19] Elapsed 0m 1s (remain 0m 1s) Loss: 0.3176(0.3098) Grad: 20.4446  LR: 0.000224  \n",
      "Epoch: [6][18/19] Elapsed 0m 2s (remain 0m 0s) Loss: 0.2966(0.2854) Grad: 22.2161  LR: 0.000224  \n",
      "EVAL: [0/3] Elapsed 0m 0s (remain 0m 0s) Loss: 0.3600(0.3600) \n"
     ]
    },
    {
     "name": "stderr",
     "output_type": "stream",
     "text": [
      "Epoch 6 - avg_train_loss: 0.2854  avg_val_loss: 0.3218  time: 4s\n",
      "Epoch 6 - Score: 0.3251\n"
     ]
    },
    {
     "name": "stdout",
     "output_type": "stream",
     "text": [
      "EVAL: [2/3] Elapsed 0m 0s (remain 0m 0s) Loss: 0.2264(0.3218) \n",
      "Epoch: [7][0/19] Elapsed 0m 0s (remain 0m 2s) Loss: 0.1840(0.1840) Grad: 8.9327  LR: 0.000133  \n",
      "Epoch: [7][10/19] Elapsed 0m 1s (remain 0m 1s) Loss: 0.1929(0.2958) Grad: 14.6759  LR: 0.000133  \n",
      "Epoch: [7][18/19] Elapsed 0m 2s (remain 0m 0s) Loss: 0.1954(0.2676) Grad: 16.7330  LR: 0.000133  \n",
      "EVAL: [0/3] Elapsed 0m 0s (remain 0m 0s) Loss: 0.3658(0.3658) \n"
     ]
    },
    {
     "name": "stderr",
     "output_type": "stream",
     "text": [
      "Epoch 7 - avg_train_loss: 0.2676  avg_val_loss: 0.3387  time: 3s\n",
      "Epoch 7 - Score: 0.3402\n"
     ]
    },
    {
     "name": "stdout",
     "output_type": "stream",
     "text": [
      "EVAL: [2/3] Elapsed 0m 0s (remain 0m 0s) Loss: 0.2719(0.3387) \n",
      "Epoch: [8][0/19] Elapsed 0m 0s (remain 0m 2s) Loss: 0.1938(0.1938) Grad: 4.3638  LR: 0.000057  \n",
      "Epoch: [8][10/19] Elapsed 0m 1s (remain 0m 1s) Loss: 0.2487(0.2331) Grad: 14.8276  LR: 0.000057  \n",
      "Epoch: [8][18/19] Elapsed 0m 2s (remain 0m 0s) Loss: 0.1824(0.2395) Grad: 5.7714  LR: 0.000057  \n",
      "EVAL: [0/3] Elapsed 0m 0s (remain 0m 0s) Loss: 0.3461(0.3461) \n"
     ]
    },
    {
     "name": "stderr",
     "output_type": "stream",
     "text": [
      "Epoch 8 - avg_train_loss: 0.2395  avg_val_loss: 0.3084  time: 4s\n",
      "Epoch 8 - Score: 0.3104\n",
      "Epoch 8 - Save Best Score: 0.3104 Model\n"
     ]
    },
    {
     "name": "stdout",
     "output_type": "stream",
     "text": [
      "EVAL: [2/3] Elapsed 0m 0s (remain 0m 0s) Loss: 0.2493(0.3084) \n",
      "Epoch: [9][0/19] Elapsed 0m 0s (remain 0m 2s) Loss: 0.1317(0.1317) Grad: 13.8670  LR: 0.000009  \n",
      "Epoch: [9][10/19] Elapsed 0m 1s (remain 0m 1s) Loss: 0.1743(0.1619) Grad: 3.7652  LR: 0.000009  \n",
      "Epoch: [9][18/19] Elapsed 0m 2s (remain 0m 0s) Loss: 0.1569(0.1623) Grad: 4.2223  LR: 0.000009  \n",
      "EVAL: [0/3] Elapsed 0m 0s (remain 0m 0s) Loss: 0.3046(0.3046) \n"
     ]
    },
    {
     "name": "stderr",
     "output_type": "stream",
     "text": [
      "Epoch 9 - avg_train_loss: 0.1623  avg_val_loss: 0.2760  time: 4s\n",
      "Epoch 9 - Score: 0.2775\n",
      "Epoch 9 - Save Best Score: 0.2775 Model\n"
     ]
    },
    {
     "name": "stdout",
     "output_type": "stream",
     "text": [
      "EVAL: [2/3] Elapsed 0m 0s (remain 0m 0s) Loss: 0.2250(0.2760) \n",
      "Epoch: [10][0/19] Elapsed 0m 0s (remain 0m 2s) Loss: 0.1301(0.1301) Grad: 6.1038  LR: 0.000001  \n",
      "Epoch: [10][10/19] Elapsed 0m 1s (remain 0m 1s) Loss: 0.1381(0.1426) Grad: 7.9798  LR: 0.000001  \n",
      "Epoch: [10][18/19] Elapsed 0m 2s (remain 0m 0s) Loss: 0.1120(0.1410) Grad: 7.6949  LR: 0.000001  \n",
      "EVAL: [0/3] Elapsed 0m 0s (remain 0m 0s) Loss: 0.3008(0.3008) \n"
     ]
    },
    {
     "name": "stderr",
     "output_type": "stream",
     "text": [
      "Epoch 10 - avg_train_loss: 0.1410  avg_val_loss: 0.2567  time: 3s\n",
      "Epoch 10 - Score: 0.2604\n",
      "Epoch 10 - Save Best Score: 0.2604 Model\n"
     ]
    },
    {
     "name": "stdout",
     "output_type": "stream",
     "text": [
      "EVAL: [2/3] Elapsed 0m 0s (remain 0m 0s) Loss: 0.1785(0.2567) \n",
      "Epoch: [11][0/19] Elapsed 0m 0s (remain 0m 2s) Loss: 0.1526(0.1526) Grad: 4.2526  LR: 0.000050  \n",
      "Epoch: [11][10/19] Elapsed 0m 1s (remain 0m 1s) Loss: 0.1237(0.1420) Grad: 13.0016  LR: 0.000050  \n",
      "Epoch: [11][18/19] Elapsed 0m 2s (remain 0m 0s) Loss: 0.1008(0.1383) Grad: 7.7249  LR: 0.000050  \n",
      "EVAL: [0/3] Elapsed 0m 0s (remain 0m 0s) Loss: 0.2829(0.2829) \n"
     ]
    },
    {
     "name": "stderr",
     "output_type": "stream",
     "text": [
      "Epoch 11 - avg_train_loss: 0.1383  avg_val_loss: 0.2685  time: 4s\n",
      "Epoch 11 - Score: 0.2702\n"
     ]
    },
    {
     "name": "stdout",
     "output_type": "stream",
     "text": [
      "EVAL: [2/3] Elapsed 0m 0s (remain 0m 0s) Loss: 0.2010(0.2685) \n",
      "Epoch: [12][0/19] Elapsed 0m 0s (remain 0m 2s) Loss: 0.1107(0.1107) Grad: 6.2169  LR: 0.000224  \n",
      "Epoch: [12][10/19] Elapsed 0m 1s (remain 0m 1s) Loss: 0.2051(0.1884) Grad: 22.2860  LR: 0.000224  \n",
      "Epoch: [12][18/19] Elapsed 0m 2s (remain 0m 0s) Loss: 0.1702(0.1925) Grad: 6.2109  LR: 0.000224  \n",
      "EVAL: [0/3] Elapsed 0m 0s (remain 0m 0s) Loss: 0.3047(0.3047) \n"
     ]
    },
    {
     "name": "stderr",
     "output_type": "stream",
     "text": [
      "Epoch 12 - avg_train_loss: 0.1925  avg_val_loss: 0.2769  time: 4s\n",
      "Epoch 12 - Score: 0.2780\n"
     ]
    },
    {
     "name": "stdout",
     "output_type": "stream",
     "text": [
      "EVAL: [2/3] Elapsed 0m 0s (remain 0m 0s) Loss: 0.2424(0.2769) \n",
      "Epoch: [13][0/19] Elapsed 0m 0s (remain 0m 2s) Loss: 0.2364(0.2364) Grad: 18.6916  LR: 0.000133  \n",
      "Epoch: [13][10/19] Elapsed 0m 1s (remain 0m 1s) Loss: 0.2911(0.2174) Grad: 21.6243  LR: 0.000133  \n",
      "Epoch: [13][18/19] Elapsed 0m 2s (remain 0m 0s) Loss: 0.2603(0.2290) Grad: 19.2528  LR: 0.000133  \n",
      "EVAL: [0/3] Elapsed 0m 0s (remain 0m 0s) Loss: 0.3195(0.3195) \n"
     ]
    },
    {
     "name": "stderr",
     "output_type": "stream",
     "text": [
      "Epoch 13 - avg_train_loss: 0.2290  avg_val_loss: 0.3064  time: 4s\n",
      "Epoch 13 - Score: 0.3089\n"
     ]
    },
    {
     "name": "stdout",
     "output_type": "stream",
     "text": [
      "EVAL: [2/3] Elapsed 0m 0s (remain 0m 0s) Loss: 0.2193(0.3064) \n",
      "Epoch: [14][0/19] Elapsed 0m 0s (remain 0m 2s) Loss: 0.1980(0.1980) Grad: 19.2304  LR: 0.000057  \n",
      "Epoch: [14][10/19] Elapsed 0m 1s (remain 0m 1s) Loss: 0.1374(0.1792) Grad: 6.2622  LR: 0.000057  \n",
      "Epoch: [14][18/19] Elapsed 0m 2s (remain 0m 0s) Loss: 0.1881(0.1699) Grad: 11.8830  LR: 0.000057  \n",
      "EVAL: [0/3] Elapsed 0m 0s (remain 0m 0s) Loss: 0.3105(0.3105) \n"
     ]
    },
    {
     "name": "stderr",
     "output_type": "stream",
     "text": [
      "Epoch 14 - avg_train_loss: 0.1699  avg_val_loss: 0.2634  time: 4s\n",
      "Epoch 14 - Score: 0.2674\n"
     ]
    },
    {
     "name": "stdout",
     "output_type": "stream",
     "text": [
      "EVAL: [2/3] Elapsed 0m 0s (remain 0m 0s) Loss: 0.1814(0.2634) \n",
      "Epoch: [15][0/19] Elapsed 0m 0s (remain 0m 2s) Loss: 0.1275(0.1275) Grad: 5.4269  LR: 0.000009  \n",
      "Epoch: [15][10/19] Elapsed 0m 1s (remain 0m 1s) Loss: 0.1232(0.1294) Grad: 9.7288  LR: 0.000009  \n",
      "Epoch: [15][18/19] Elapsed 0m 2s (remain 0m 0s) Loss: 0.0986(0.1248) Grad: 5.8942  LR: 0.000009  \n",
      "EVAL: [0/3] Elapsed 0m 0s (remain 0m 0s) Loss: 0.2961(0.2961) \n"
     ]
    },
    {
     "name": "stderr",
     "output_type": "stream",
     "text": [
      "Epoch 15 - avg_train_loss: 0.1248  avg_val_loss: 0.2663  time: 3s\n",
      "Epoch 15 - Score: 0.2683\n"
     ]
    },
    {
     "name": "stdout",
     "output_type": "stream",
     "text": [
      "EVAL: [2/3] Elapsed 0m 0s (remain 0m 0s) Loss: 0.2014(0.2663) \n",
      "Epoch: [16][0/19] Elapsed 0m 0s (remain 0m 2s) Loss: 0.1073(0.1073) Grad: 9.3537  LR: 0.000001  \n",
      "Epoch: [16][10/19] Elapsed 0m 1s (remain 0m 1s) Loss: 0.1197(0.1209) Grad: 8.5252  LR: 0.000001  \n",
      "Epoch: [16][18/19] Elapsed 0m 2s (remain 0m 0s) Loss: 0.1304(0.1163) Grad: 4.3673  LR: 0.000001  \n",
      "EVAL: [0/3] Elapsed 0m 0s (remain 0m 0s) Loss: 0.2852(0.2852) \n"
     ]
    },
    {
     "name": "stderr",
     "output_type": "stream",
     "text": [
      "Epoch 16 - avg_train_loss: 0.1163  avg_val_loss: 0.2561  time: 3s\n",
      "Epoch 16 - Score: 0.2580\n",
      "Epoch 16 - Save Best Score: 0.2580 Model\n"
     ]
    },
    {
     "name": "stdout",
     "output_type": "stream",
     "text": [
      "EVAL: [2/3] Elapsed 0m 0s (remain 0m 0s) Loss: 0.1963(0.2561) \n",
      "Epoch: [17][0/19] Elapsed 0m 0s (remain 0m 2s) Loss: 0.1223(0.1223) Grad: 5.1864  LR: 0.000050  \n",
      "Epoch: [17][10/19] Elapsed 0m 1s (remain 0m 1s) Loss: 0.1094(0.1119) Grad: 13.1513  LR: 0.000050  \n",
      "Epoch: [17][18/19] Elapsed 0m 2s (remain 0m 0s) Loss: 0.1057(0.1112) Grad: 2.8156  LR: 0.000050  \n",
      "EVAL: [0/3] Elapsed 0m 0s (remain 0m 0s) Loss: 0.2808(0.2808) \n"
     ]
    },
    {
     "name": "stderr",
     "output_type": "stream",
     "text": [
      "Epoch 17 - avg_train_loss: 0.1112  avg_val_loss: 0.2557  time: 3s\n",
      "Epoch 17 - Score: 0.2587\n"
     ]
    },
    {
     "name": "stdout",
     "output_type": "stream",
     "text": [
      "EVAL: [2/3] Elapsed 0m 0s (remain 0m 0s) Loss: 0.1692(0.2557) \n",
      "Epoch: [18][0/19] Elapsed 0m 0s (remain 0m 2s) Loss: 0.1177(0.1177) Grad: 14.0188  LR: 0.000224  \n",
      "Epoch: [18][10/19] Elapsed 0m 1s (remain 0m 1s) Loss: 0.1471(0.1276) Grad: 3.0928  LR: 0.000224  \n",
      "Epoch: [18][18/19] Elapsed 0m 2s (remain 0m 0s) Loss: 0.1238(0.1238) Grad: 6.6661  LR: 0.000224  \n",
      "EVAL: [0/3] Elapsed 0m 0s (remain 0m 0s) Loss: 0.2942(0.2942) \n"
     ]
    },
    {
     "name": "stderr",
     "output_type": "stream",
     "text": [
      "Epoch 18 - avg_train_loss: 0.1238  avg_val_loss: 0.2542  time: 3s\n",
      "Epoch 18 - Score: 0.2575\n",
      "Epoch 18 - Save Best Score: 0.2575 Model\n"
     ]
    },
    {
     "name": "stdout",
     "output_type": "stream",
     "text": [
      "EVAL: [2/3] Elapsed 0m 0s (remain 0m 0s) Loss: 0.1779(0.2542) \n",
      "Epoch: [19][0/19] Elapsed 0m 0s (remain 0m 2s) Loss: 0.1212(0.1212) Grad: 6.3811  LR: 0.000133  \n",
      "Epoch: [19][10/19] Elapsed 0m 1s (remain 0m 1s) Loss: 0.1308(0.1430) Grad: 11.0621  LR: 0.000133  \n",
      "Epoch: [19][18/19] Elapsed 0m 2s (remain 0m 0s) Loss: 0.1378(0.1828) Grad: 13.8874  LR: 0.000133  \n",
      "EVAL: [0/3] Elapsed 0m 0s (remain 0m 0s) Loss: 0.4406(0.4406) \n"
     ]
    },
    {
     "name": "stderr",
     "output_type": "stream",
     "text": [
      "Epoch 19 - avg_train_loss: 0.1828  avg_val_loss: 0.4341  time: 4s\n",
      "Epoch 19 - Score: 0.4342\n"
     ]
    },
    {
     "name": "stdout",
     "output_type": "stream",
     "text": [
      "EVAL: [2/3] Elapsed 0m 0s (remain 0m 0s) Loss: 0.4437(0.4341) \n",
      "Epoch: [20][0/19] Elapsed 0m 0s (remain 0m 2s) Loss: 0.4173(0.4173) Grad: 25.9831  LR: 0.000057  \n",
      "Epoch: [20][10/19] Elapsed 0m 1s (remain 0m 1s) Loss: 0.1891(0.2567) Grad: 12.9624  LR: 0.000057  \n",
      "Epoch: [20][18/19] Elapsed 0m 2s (remain 0m 0s) Loss: 0.1997(0.2240) Grad: 9.3252  LR: 0.000057  \n",
      "EVAL: [0/3] Elapsed 0m 0s (remain 0m 0s) Loss: 0.3162(0.3162) \n"
     ]
    },
    {
     "name": "stderr",
     "output_type": "stream",
     "text": [
      "Epoch 20 - avg_train_loss: 0.2240  avg_val_loss: 0.2729  time: 4s\n",
      "Epoch 20 - Score: 0.2760\n"
     ]
    },
    {
     "name": "stdout",
     "output_type": "stream",
     "text": [
      "EVAL: [2/3] Elapsed 0m 0s (remain 0m 0s) Loss: 0.2023(0.2729) \n",
      "Epoch: [21][0/19] Elapsed 0m 0s (remain 0m 2s) Loss: 0.1584(0.1584) Grad: 14.8423  LR: 0.000009  \n",
      "Epoch: [21][10/19] Elapsed 0m 1s (remain 0m 1s) Loss: 0.1208(0.1328) Grad: 13.4312  LR: 0.000009  \n",
      "Epoch: [21][18/19] Elapsed 0m 2s (remain 0m 0s) Loss: 0.1296(0.1324) Grad: 13.0528  LR: 0.000009  \n",
      "EVAL: [0/3] Elapsed 0m 0s (remain 0m 0s) Loss: 0.2585(0.2585) \n"
     ]
    },
    {
     "name": "stderr",
     "output_type": "stream",
     "text": [
      "Epoch 21 - avg_train_loss: 0.1324  avg_val_loss: 0.2446  time: 4s\n",
      "Epoch 21 - Score: 0.2466\n",
      "Epoch 21 - Save Best Score: 0.2466 Model\n"
     ]
    },
    {
     "name": "stdout",
     "output_type": "stream",
     "text": [
      "EVAL: [2/3] Elapsed 0m 0s (remain 0m 0s) Loss: 0.1762(0.2446) \n",
      "Epoch: [22][0/19] Elapsed 0m 0s (remain 0m 2s) Loss: 0.1301(0.1301) Grad: 5.8407  LR: 0.000001  \n",
      "Epoch: [22][10/19] Elapsed 0m 1s (remain 0m 1s) Loss: 0.0807(0.1078) Grad: 13.3319  LR: 0.000001  \n",
      "Epoch: [22][18/19] Elapsed 0m 2s (remain 0m 0s) Loss: 0.0750(0.1020) Grad: 3.7170  LR: 0.000001  \n",
      "EVAL: [0/3] Elapsed 0m 0s (remain 0m 0s) Loss: 0.2880(0.2880) \n"
     ]
    },
    {
     "name": "stderr",
     "output_type": "stream",
     "text": [
      "Epoch 22 - avg_train_loss: 0.1020  avg_val_loss: 0.2508  time: 4s\n",
      "Epoch 22 - Score: 0.2532\n"
     ]
    },
    {
     "name": "stdout",
     "output_type": "stream",
     "text": [
      "EVAL: [2/3] Elapsed 0m 0s (remain 0m 0s) Loss: 0.1930(0.2508) \n",
      "Epoch: [23][0/19] Elapsed 0m 0s (remain 0m 2s) Loss: 0.0840(0.0840) Grad: 4.0936  LR: 0.000050  \n",
      "Epoch: [23][10/19] Elapsed 0m 1s (remain 0m 1s) Loss: 0.0962(0.1061) Grad: 9.8895  LR: 0.000050  \n",
      "Epoch: [23][18/19] Elapsed 0m 2s (remain 0m 0s) Loss: 0.1315(0.1064) Grad: 3.7769  LR: 0.000050  \n",
      "EVAL: [0/3] Elapsed 0m 0s (remain 0m 0s) Loss: 0.2825(0.2825) \n"
     ]
    },
    {
     "name": "stderr",
     "output_type": "stream",
     "text": [
      "Epoch 23 - avg_train_loss: 0.1064  avg_val_loss: 0.2520  time: 3s\n",
      "Epoch 23 - Score: 0.2553\n"
     ]
    },
    {
     "name": "stdout",
     "output_type": "stream",
     "text": [
      "EVAL: [2/3] Elapsed 0m 0s (remain 0m 0s) Loss: 0.1653(0.2520) \n",
      "Epoch: [24][0/19] Elapsed 0m 0s (remain 0m 2s) Loss: 0.0942(0.0942) Grad: 5.3054  LR: 0.000224  \n",
      "Epoch: [24][10/19] Elapsed 0m 1s (remain 0m 1s) Loss: 0.0949(0.1110) Grad: 7.3138  LR: 0.000224  \n",
      "Epoch: [24][18/19] Elapsed 0m 2s (remain 0m 0s) Loss: 0.0820(0.1188) Grad: 14.6603  LR: 0.000224  \n",
      "EVAL: [0/3] Elapsed 0m 0s (remain 0m 0s) Loss: 0.2962(0.2962) \n"
     ]
    },
    {
     "name": "stderr",
     "output_type": "stream",
     "text": [
      "Epoch 24 - avg_train_loss: 0.1188  avg_val_loss: 0.2739  time: 3s\n",
      "Epoch 24 - Score: 0.2756\n"
     ]
    },
    {
     "name": "stdout",
     "output_type": "stream",
     "text": [
      "EVAL: [2/3] Elapsed 0m 0s (remain 0m 0s) Loss: 0.2094(0.2739) \n",
      "Epoch: [25][0/19] Elapsed 0m 0s (remain 0m 2s) Loss: 0.1148(0.1148) Grad: 14.7745  LR: 0.000133  \n",
      "Epoch: [25][10/19] Elapsed 0m 1s (remain 0m 1s) Loss: 0.1429(0.1684) Grad: 9.4055  LR: 0.000133  \n",
      "Epoch: [25][18/19] Elapsed 0m 2s (remain 0m 0s) Loss: 0.1031(0.1710) Grad: 3.5732  LR: 0.000133  \n",
      "EVAL: [0/3] Elapsed 0m 0s (remain 0m 0s) Loss: 0.2822(0.2822) \n"
     ]
    },
    {
     "name": "stderr",
     "output_type": "stream",
     "text": [
      "Epoch 25 - avg_train_loss: 0.1710  avg_val_loss: 0.2496  time: 3s\n",
      "Epoch 25 - Score: 0.2517\n"
     ]
    },
    {
     "name": "stdout",
     "output_type": "stream",
     "text": [
      "EVAL: [2/3] Elapsed 0m 0s (remain 0m 0s) Loss: 0.1928(0.2496) \n",
      "Epoch: [26][0/19] Elapsed 0m 0s (remain 0m 2s) Loss: 0.1480(0.1480) Grad: 3.9542  LR: 0.000057  \n",
      "Epoch: [26][10/19] Elapsed 0m 1s (remain 0m 1s) Loss: 0.2177(0.1517) Grad: 17.4455  LR: 0.000057  \n",
      "Epoch: [26][18/19] Elapsed 0m 2s (remain 0m 0s) Loss: 0.1088(0.1442) Grad: 4.1177  LR: 0.000057  \n",
      "EVAL: [0/3] Elapsed 0m 0s (remain 0m 0s) Loss: 0.2888(0.2888) \n"
     ]
    },
    {
     "name": "stderr",
     "output_type": "stream",
     "text": [
      "Epoch 26 - avg_train_loss: 0.1442  avg_val_loss: 0.2556  time: 3s\n",
      "Epoch 26 - Score: 0.2582\n"
     ]
    },
    {
     "name": "stdout",
     "output_type": "stream",
     "text": [
      "EVAL: [2/3] Elapsed 0m 0s (remain 0m 0s) Loss: 0.1832(0.2556) \n",
      "Epoch: [27][0/19] Elapsed 0m 0s (remain 0m 2s) Loss: 0.1008(0.1008) Grad: 4.4094  LR: 0.000009  \n",
      "Epoch: [27][10/19] Elapsed 0m 1s (remain 0m 1s) Loss: 0.0882(0.1216) Grad: 6.4428  LR: 0.000009  \n",
      "Epoch: [27][18/19] Elapsed 0m 2s (remain 0m 0s) Loss: 0.0889(0.1141) Grad: 6.4928  LR: 0.000009  \n",
      "EVAL: [0/3] Elapsed 0m 0s (remain 0m 0s) Loss: 0.2652(0.2652) \n"
     ]
    },
    {
     "name": "stderr",
     "output_type": "stream",
     "text": [
      "Epoch 27 - avg_train_loss: 0.1141  avg_val_loss: 0.2317  time: 3s\n",
      "Epoch 27 - Score: 0.2337\n",
      "Epoch 27 - Save Best Score: 0.2337 Model\n"
     ]
    },
    {
     "name": "stdout",
     "output_type": "stream",
     "text": [
      "EVAL: [2/3] Elapsed 0m 0s (remain 0m 0s) Loss: 0.1815(0.2317) \n",
      "Epoch: [28][0/19] Elapsed 0m 0s (remain 0m 2s) Loss: 0.1077(0.1077) Grad: 6.1225  LR: 0.000001  \n",
      "Epoch: [28][10/19] Elapsed 0m 1s (remain 0m 1s) Loss: 0.0786(0.0886) Grad: 5.8615  LR: 0.000001  \n",
      "Epoch: [28][18/19] Elapsed 0m 2s (remain 0m 0s) Loss: 0.0734(0.0896) Grad: 3.8590  LR: 0.000001  \n",
      "EVAL: [0/3] Elapsed 0m 0s (remain 0m 0s) Loss: 0.2713(0.2713) \n"
     ]
    },
    {
     "name": "stderr",
     "output_type": "stream",
     "text": [
      "Epoch 28 - avg_train_loss: 0.0896  avg_val_loss: 0.2326  time: 3s\n",
      "Epoch 28 - Score: 0.2354\n"
     ]
    },
    {
     "name": "stdout",
     "output_type": "stream",
     "text": [
      "EVAL: [2/3] Elapsed 0m 0s (remain 0m 0s) Loss: 0.1729(0.2326) \n",
      "Epoch: [29][0/19] Elapsed 0m 0s (remain 0m 2s) Loss: 0.0798(0.0798) Grad: 10.0202  LR: 0.000050  \n",
      "Epoch: [29][10/19] Elapsed 0m 1s (remain 0m 1s) Loss: 0.0920(0.0970) Grad: 13.5149  LR: 0.000050  \n",
      "Epoch: [29][18/19] Elapsed 0m 2s (remain 0m 0s) Loss: 0.1416(0.0961) Grad: 18.5993  LR: 0.000050  \n",
      "EVAL: [0/3] Elapsed 0m 0s (remain 0m 0s) Loss: 0.2786(0.2786) \n"
     ]
    },
    {
     "name": "stderr",
     "output_type": "stream",
     "text": [
      "Epoch 29 - avg_train_loss: 0.0961  avg_val_loss: 0.2366  time: 4s\n",
      "Epoch 29 - Score: 0.2408\n"
     ]
    },
    {
     "name": "stdout",
     "output_type": "stream",
     "text": [
      "EVAL: [2/3] Elapsed 0m 0s (remain 0m 0s) Loss: 0.1503(0.2366) \n",
      "Epoch: [30][0/19] Elapsed 0m 0s (remain 0m 2s) Loss: 0.0768(0.0768) Grad: 8.3237  LR: 0.000224  \n",
      "Epoch: [30][10/19] Elapsed 0m 1s (remain 0m 1s) Loss: 0.1790(0.1538) Grad: 9.4217  LR: 0.000224  \n",
      "Epoch: [30][18/19] Elapsed 0m 2s (remain 0m 0s) Loss: 0.0986(0.1420) Grad: 3.0424  LR: 0.000224  \n",
      "EVAL: [0/3] Elapsed 0m 0s (remain 0m 0s) Loss: 0.3061(0.3061) \n"
     ]
    },
    {
     "name": "stderr",
     "output_type": "stream",
     "text": [
      "Epoch 30 - avg_train_loss: 0.1420  avg_val_loss: 0.2610  time: 4s\n",
      "Epoch 30 - Score: 0.2648\n"
     ]
    },
    {
     "name": "stdout",
     "output_type": "stream",
     "text": [
      "EVAL: [2/3] Elapsed 0m 0s (remain 0m 0s) Loss: 0.1804(0.2610) \n",
      "Epoch: [31][0/19] Elapsed 0m 0s (remain 0m 2s) Loss: 0.1583(0.1583) Grad: 17.7299  LR: 0.000133  \n",
      "Epoch: [31][10/19] Elapsed 0m 1s (remain 0m 1s) Loss: 0.0957(0.1552) Grad: 2.7728  LR: 0.000133  \n",
      "Epoch: [31][18/19] Elapsed 0m 2s (remain 0m 0s) Loss: 0.2705(0.1600) Grad: 19.4773  LR: 0.000133  \n",
      "EVAL: [0/3] Elapsed 0m 0s (remain 0m 0s) Loss: 0.2913(0.2913) \n"
     ]
    },
    {
     "name": "stderr",
     "output_type": "stream",
     "text": [
      "Epoch 31 - avg_train_loss: 0.1600  avg_val_loss: 0.2590  time: 4s\n",
      "Epoch 31 - Score: 0.2605\n"
     ]
    },
    {
     "name": "stdout",
     "output_type": "stream",
     "text": [
      "EVAL: [2/3] Elapsed 0m 0s (remain 0m 0s) Loss: 0.2178(0.2590) \n",
      "Epoch: [32][0/19] Elapsed 0m 0s (remain 0m 2s) Loss: 0.1903(0.1903) Grad: 15.9100  LR: 0.000057  \n",
      "Epoch: [32][10/19] Elapsed 0m 1s (remain 0m 1s) Loss: 0.1414(0.1438) Grad: 14.6935  LR: 0.000057  \n",
      "Epoch: [32][18/19] Elapsed 0m 2s (remain 0m 0s) Loss: 0.1433(0.1406) Grad: 4.3599  LR: 0.000057  \n",
      "EVAL: [0/3] Elapsed 0m 0s (remain 0m 0s) Loss: 0.2777(0.2777) \n"
     ]
    },
    {
     "name": "stderr",
     "output_type": "stream",
     "text": [
      "Epoch 32 - avg_train_loss: 0.1406  avg_val_loss: 0.2317  time: 4s\n",
      "Epoch 32 - Score: 0.2364\n"
     ]
    },
    {
     "name": "stdout",
     "output_type": "stream",
     "text": [
      "EVAL: [2/3] Elapsed 0m 0s (remain 0m 0s) Loss: 0.1447(0.2317) \n",
      "Epoch: [33][0/19] Elapsed 0m 0s (remain 0m 2s) Loss: 0.0786(0.0786) Grad: 13.5349  LR: 0.000009  \n",
      "Epoch: [33][10/19] Elapsed 0m 1s (remain 0m 1s) Loss: 0.0877(0.0992) Grad: 7.4764  LR: 0.000009  \n",
      "Epoch: [33][18/19] Elapsed 0m 2s (remain 0m 0s) Loss: 0.1228(0.0985) Grad: 5.6217  LR: 0.000009  \n",
      "EVAL: [0/3] Elapsed 0m 0s (remain 0m 0s) Loss: 0.2686(0.2686) \n"
     ]
    },
    {
     "name": "stderr",
     "output_type": "stream",
     "text": [
      "Epoch 33 - avg_train_loss: 0.0985  avg_val_loss: 0.2347  time: 4s\n",
      "Epoch 33 - Score: 0.2385\n"
     ]
    },
    {
     "name": "stdout",
     "output_type": "stream",
     "text": [
      "EVAL: [2/3] Elapsed 0m 0s (remain 0m 0s) Loss: 0.1462(0.2347) \n",
      "Epoch: [34][0/19] Elapsed 0m 0s (remain 0m 2s) Loss: 0.0775(0.0775) Grad: 9.0360  LR: 0.000001  \n",
      "Epoch: [34][10/19] Elapsed 0m 1s (remain 0m 1s) Loss: 0.1110(0.0920) Grad: 5.3998  LR: 0.000001  \n",
      "Epoch: [34][18/19] Elapsed 0m 2s (remain 0m 0s) Loss: 0.1071(0.0907) Grad: 6.5021  LR: 0.000001  \n",
      "EVAL: [0/3] Elapsed 0m 0s (remain 0m 0s) Loss: 0.2633(0.2633) \n"
     ]
    },
    {
     "name": "stderr",
     "output_type": "stream",
     "text": [
      "Epoch 34 - avg_train_loss: 0.0907  avg_val_loss: 0.2252  time: 3s\n",
      "Epoch 34 - Score: 0.2308\n",
      "Epoch 34 - Save Best Score: 0.2308 Model\n"
     ]
    },
    {
     "name": "stdout",
     "output_type": "stream",
     "text": [
      "EVAL: [2/3] Elapsed 0m 0s (remain 0m 0s) Loss: 0.1179(0.2252) \n",
      "Epoch: [35][0/19] Elapsed 0m 0s (remain 0m 2s) Loss: 0.0907(0.0907) Grad: 5.2900  LR: 0.000050  \n",
      "Epoch: [35][10/19] Elapsed 0m 1s (remain 0m 1s) Loss: 0.0665(0.0877) Grad: 6.7271  LR: 0.000050  \n",
      "Epoch: [35][18/19] Elapsed 0m 2s (remain 0m 0s) Loss: 0.0990(0.0901) Grad: 14.5023  LR: 0.000050  \n",
      "EVAL: [0/3] Elapsed 0m 0s (remain 0m 0s) Loss: 0.2714(0.2714) \n"
     ]
    },
    {
     "name": "stderr",
     "output_type": "stream",
     "text": [
      "Epoch 35 - avg_train_loss: 0.0901  avg_val_loss: 0.2247  time: 3s\n",
      "Epoch 35 - Score: 0.2292\n",
      "Epoch 35 - Save Best Score: 0.2292 Model\n"
     ]
    },
    {
     "name": "stdout",
     "output_type": "stream",
     "text": [
      "EVAL: [2/3] Elapsed 0m 0s (remain 0m 0s) Loss: 0.1443(0.2247) \n",
      "Epoch: [36][0/19] Elapsed 0m 0s (remain 0m 2s) Loss: 0.1020(0.1020) Grad: 4.8341  LR: 0.000224  \n",
      "Epoch: [36][10/19] Elapsed 0m 1s (remain 0m 1s) Loss: 0.1294(0.1313) Grad: 20.6254  LR: 0.000224  \n",
      "Epoch: [36][18/19] Elapsed 0m 2s (remain 0m 0s) Loss: 0.0827(0.1254) Grad: 5.2832  LR: 0.000224  \n",
      "EVAL: [0/3] Elapsed 0m 0s (remain 0m 0s) Loss: 0.3039(0.3039) \n"
     ]
    },
    {
     "name": "stderr",
     "output_type": "stream",
     "text": [
      "Epoch 36 - avg_train_loss: 0.1254  avg_val_loss: 0.2561  time: 3s\n",
      "Epoch 36 - Score: 0.2593\n"
     ]
    },
    {
     "name": "stdout",
     "output_type": "stream",
     "text": [
      "EVAL: [2/3] Elapsed 0m 0s (remain 0m 0s) Loss: 0.2126(0.2561) \n",
      "Epoch: [37][0/19] Elapsed 0m 0s (remain 0m 2s) Loss: 0.1188(0.1188) Grad: 16.2768  LR: 0.000133  \n",
      "Epoch: [37][10/19] Elapsed 0m 1s (remain 0m 1s) Loss: 0.1219(0.1490) Grad: 2.9186  LR: 0.000133  \n",
      "Epoch: [37][18/19] Elapsed 0m 2s (remain 0m 0s) Loss: 0.1938(0.1445) Grad: 20.5468  LR: 0.000133  \n",
      "EVAL: [0/3] Elapsed 0m 0s (remain 0m 0s) Loss: 0.3028(0.3028) \n"
     ]
    },
    {
     "name": "stderr",
     "output_type": "stream",
     "text": [
      "Epoch 37 - avg_train_loss: 0.1445  avg_val_loss: 0.2405  time: 3s\n",
      "Epoch 37 - Score: 0.2466\n"
     ]
    },
    {
     "name": "stdout",
     "output_type": "stream",
     "text": [
      "EVAL: [2/3] Elapsed 0m 0s (remain 0m 0s) Loss: 0.1646(0.2405) \n",
      "Epoch: [38][0/19] Elapsed 0m 0s (remain 0m 2s) Loss: 0.1035(0.1035) Grad: 6.8655  LR: 0.000057  \n",
      "Epoch: [38][10/19] Elapsed 0m 1s (remain 0m 1s) Loss: 0.0885(0.1087) Grad: 11.2728  LR: 0.000057  \n",
      "Epoch: [38][18/19] Elapsed 0m 2s (remain 0m 0s) Loss: 0.1240(0.1097) Grad: 3.3495  LR: 0.000057  \n",
      "EVAL: [0/3] Elapsed 0m 0s (remain 0m 0s) Loss: 0.2940(0.2940) \n"
     ]
    },
    {
     "name": "stderr",
     "output_type": "stream",
     "text": [
      "Epoch 38 - avg_train_loss: 0.1097  avg_val_loss: 0.2509  time: 3s\n",
      "Epoch 38 - Score: 0.2541\n"
     ]
    },
    {
     "name": "stdout",
     "output_type": "stream",
     "text": [
      "EVAL: [2/3] Elapsed 0m 0s (remain 0m 0s) Loss: 0.1841(0.2509) \n",
      "Epoch: [39][0/19] Elapsed 0m 0s (remain 0m 2s) Loss: 0.1032(0.1032) Grad: 3.7344  LR: 0.000009  \n",
      "Epoch: [39][10/19] Elapsed 0m 1s (remain 0m 1s) Loss: 0.0874(0.0987) Grad: 3.8291  LR: 0.000009  \n",
      "Epoch: [39][18/19] Elapsed 0m 2s (remain 0m 0s) Loss: 0.0821(0.0945) Grad: 2.4697  LR: 0.000009  \n",
      "EVAL: [0/3] Elapsed 0m 0s (remain 0m 0s) Loss: 0.2760(0.2760) \n"
     ]
    },
    {
     "name": "stderr",
     "output_type": "stream",
     "text": [
      "Epoch 39 - avg_train_loss: 0.0945  avg_val_loss: 0.2349  time: 3s\n",
      "Epoch 39 - Score: 0.2380\n"
     ]
    },
    {
     "name": "stdout",
     "output_type": "stream",
     "text": [
      "EVAL: [2/3] Elapsed 0m 0s (remain 0m 0s) Loss: 0.1707(0.2349) \n",
      "Epoch: [40][0/19] Elapsed 0m 0s (remain 0m 2s) Loss: 0.0454(0.0454) Grad: 2.0445  LR: 0.000001  \n",
      "Epoch: [40][10/19] Elapsed 0m 1s (remain 0m 1s) Loss: 0.0840(0.0716) Grad: 3.7649  LR: 0.000001  \n",
      "Epoch: [40][18/19] Elapsed 0m 2s (remain 0m 0s) Loss: 0.0694(0.0753) Grad: 3.2093  LR: 0.000001  \n",
      "EVAL: [0/3] Elapsed 0m 0s (remain 0m 0s) Loss: 0.2939(0.2939) \n"
     ]
    },
    {
     "name": "stderr",
     "output_type": "stream",
     "text": [
      "Epoch 40 - avg_train_loss: 0.0753  avg_val_loss: 0.2430  time: 3s\n",
      "Epoch 40 - Score: 0.2479\n",
      "========== fold: 2 result ==========\n",
      "Score: 0.2292\n",
      "========== fold: 3 training ==========\n"
     ]
    },
    {
     "name": "stdout",
     "output_type": "stream",
     "text": [
      "EVAL: [2/3] Elapsed 0m 0s (remain 0m 0s) Loss: 0.1572(0.2430) \n",
      "Epoch: [1][0/19] Elapsed 0m 0s (remain 0m 2s) Loss: 3.6335(3.6335) Grad: 26.2017  LR: 0.000100  \n",
      "Epoch: [1][10/19] Elapsed 0m 1s (remain 0m 1s) Loss: 0.6217(1.3192) Grad: 16.0325  LR: 0.000100  \n",
      "Epoch: [1][18/19] Elapsed 0m 2s (remain 0m 0s) Loss: 0.5658(0.9862) Grad: 27.2912  LR: 0.000100  \n",
      "EVAL: [0/3] Elapsed 0m 0s (remain 0m 0s) Loss: 0.4341(0.4341) \n"
     ]
    },
    {
     "name": "stderr",
     "output_type": "stream",
     "text": [
      "Epoch 1 - avg_train_loss: 0.9862  avg_val_loss: 0.4351  time: 3s\n",
      "Epoch 1 - Score: 0.4353\n",
      "Epoch 1 - Save Best Score: 0.4353 Model\n"
     ]
    },
    {
     "name": "stdout",
     "output_type": "stream",
     "text": [
      "EVAL: [2/3] Elapsed 0m 0s (remain 0m 0s) Loss: 0.4621(0.4351) \n",
      "Epoch: [2][0/19] Elapsed 0m 0s (remain 0m 2s) Loss: 0.3498(0.3498) Grad: 11.0446  LR: 0.000057  \n",
      "Epoch: [2][10/19] Elapsed 0m 1s (remain 0m 1s) Loss: 0.4166(0.3585) Grad: 10.8549  LR: 0.000057  \n",
      "Epoch: [2][18/19] Elapsed 0m 2s (remain 0m 0s) Loss: 0.1756(0.3469) Grad: 11.2124  LR: 0.000057  \n",
      "EVAL: [0/3] Elapsed 0m 0s (remain 0m 0s) Loss: 0.3768(0.3768) \n"
     ]
    },
    {
     "name": "stderr",
     "output_type": "stream",
     "text": [
      "Epoch 2 - avg_train_loss: 0.3469  avg_val_loss: 0.3914  time: 4s\n",
      "Epoch 2 - Score: 0.3920\n",
      "Epoch 2 - Save Best Score: 0.3920 Model\n"
     ]
    },
    {
     "name": "stdout",
     "output_type": "stream",
     "text": [
      "EVAL: [2/3] Elapsed 0m 0s (remain 0m 0s) Loss: 0.3649(0.3914) \n",
      "Epoch: [3][0/19] Elapsed 0m 0s (remain 0m 2s) Loss: 0.4282(0.4282) Grad: 18.2719  LR: 0.000009  \n",
      "Epoch: [3][10/19] Elapsed 0m 1s (remain 0m 1s) Loss: 0.2760(0.3231) Grad: 16.6744  LR: 0.000009  \n",
      "Epoch: [3][18/19] Elapsed 0m 2s (remain 0m 0s) Loss: 0.3099(0.3092) Grad: 18.6008  LR: 0.000009  \n",
      "EVAL: [0/3] Elapsed 0m 0s (remain 0m 0s) Loss: 0.2934(0.2934) \n"
     ]
    },
    {
     "name": "stderr",
     "output_type": "stream",
     "text": [
      "Epoch 3 - avg_train_loss: 0.3092  avg_val_loss: 0.2984  time: 3s\n",
      "Epoch 3 - Score: 0.2985\n",
      "Epoch 3 - Save Best Score: 0.2985 Model\n"
     ]
    },
    {
     "name": "stdout",
     "output_type": "stream",
     "text": [
      "EVAL: [2/3] Elapsed 0m 0s (remain 0m 0s) Loss: 0.3172(0.2984) \n",
      "Epoch: [4][0/19] Elapsed 0m 0s (remain 0m 2s) Loss: 0.2575(0.2575) Grad: 11.3952  LR: 0.000001  \n",
      "Epoch: [4][10/19] Elapsed 0m 1s (remain 0m 1s) Loss: 0.2544(0.2210) Grad: 5.4481  LR: 0.000001  \n",
      "Epoch: [4][18/19] Elapsed 0m 2s (remain 0m 0s) Loss: 0.2463(0.2207) Grad: 3.4415  LR: 0.000001  \n",
      "EVAL: [0/3] Elapsed 0m 0s (remain 0m 0s) Loss: 0.2900(0.2900) \n"
     ]
    },
    {
     "name": "stderr",
     "output_type": "stream",
     "text": [
      "Epoch 4 - avg_train_loss: 0.2207  avg_val_loss: 0.2758  time: 3s\n",
      "Epoch 4 - Score: 0.2761\n",
      "Epoch 4 - Save Best Score: 0.2761 Model\n"
     ]
    },
    {
     "name": "stdout",
     "output_type": "stream",
     "text": [
      "EVAL: [2/3] Elapsed 0m 0s (remain 0m 0s) Loss: 0.2757(0.2758) \n",
      "Epoch: [5][0/19] Elapsed 0m 0s (remain 0m 2s) Loss: 0.1786(0.1786) Grad: 8.2554  LR: 0.000050  \n",
      "Epoch: [5][10/19] Elapsed 0m 1s (remain 0m 1s) Loss: 0.2099(0.2083) Grad: 4.5378  LR: 0.000050  \n",
      "Epoch: [5][18/19] Elapsed 0m 2s (remain 0m 0s) Loss: 0.1850(0.2071) Grad: 15.3798  LR: 0.000050  \n",
      "EVAL: [0/3] Elapsed 0m 0s (remain 0m 0s) Loss: 0.2929(0.2929) \n"
     ]
    },
    {
     "name": "stderr",
     "output_type": "stream",
     "text": [
      "Epoch 5 - avg_train_loss: 0.2071  avg_val_loss: 0.2755  time: 3s\n",
      "Epoch 5 - Score: 0.2759\n",
      "Epoch 5 - Save Best Score: 0.2759 Model\n"
     ]
    },
    {
     "name": "stdout",
     "output_type": "stream",
     "text": [
      "EVAL: [2/3] Elapsed 0m 0s (remain 0m 0s) Loss: 0.2515(0.2755) \n",
      "Epoch: [6][0/19] Elapsed 0m 0s (remain 0m 2s) Loss: 0.2411(0.2411) Grad: 5.6340  LR: 0.000224  \n",
      "Epoch: [6][10/19] Elapsed 0m 1s (remain 0m 1s) Loss: 0.2531(0.2230) Grad: 23.3304  LR: 0.000224  \n",
      "Epoch: [6][18/19] Elapsed 0m 2s (remain 0m 0s) Loss: 0.2563(0.2320) Grad: 13.4147  LR: 0.000224  \n",
      "EVAL: [0/3] Elapsed 0m 0s (remain 0m 0s) Loss: 0.2674(0.2674) \n"
     ]
    },
    {
     "name": "stderr",
     "output_type": "stream",
     "text": [
      "Epoch 6 - avg_train_loss: 0.2320  avg_val_loss: 0.2658  time: 3s\n",
      "Epoch 6 - Score: 0.2664\n",
      "Epoch 6 - Save Best Score: 0.2664 Model\n"
     ]
    },
    {
     "name": "stdout",
     "output_type": "stream",
     "text": [
      "EVAL: [2/3] Elapsed 0m 0s (remain 0m 0s) Loss: 0.2299(0.2658) \n",
      "Epoch: [7][0/19] Elapsed 0m 0s (remain 0m 2s) Loss: 0.1981(0.1981) Grad: 9.4135  LR: 0.000133  \n",
      "Epoch: [7][10/19] Elapsed 0m 1s (remain 0m 1s) Loss: 0.2039(0.3010) Grad: 6.1824  LR: 0.000133  \n",
      "Epoch: [7][18/19] Elapsed 0m 2s (remain 0m 0s) Loss: 0.1648(0.2941) Grad: 7.0478  LR: 0.000133  \n",
      "EVAL: [0/3] Elapsed 0m 0s (remain 0m 0s) Loss: 0.3211(0.3211) \n"
     ]
    },
    {
     "name": "stderr",
     "output_type": "stream",
     "text": [
      "Epoch 7 - avg_train_loss: 0.2941  avg_val_loss: 0.3179  time: 3s\n",
      "Epoch 7 - Score: 0.3184\n"
     ]
    },
    {
     "name": "stdout",
     "output_type": "stream",
     "text": [
      "EVAL: [2/3] Elapsed 0m 0s (remain 0m 0s) Loss: 0.2816(0.3179) \n",
      "Epoch: [8][0/19] Elapsed 0m 0s (remain 0m 2s) Loss: 0.2757(0.2757) Grad: 17.2524  LR: 0.000057  \n",
      "Epoch: [8][10/19] Elapsed 0m 1s (remain 0m 1s) Loss: 0.1734(0.2238) Grad: 11.5467  LR: 0.000057  \n",
      "Epoch: [8][18/19] Elapsed 0m 2s (remain 0m 0s) Loss: 0.1997(0.2095) Grad: 6.4872  LR: 0.000057  \n",
      "EVAL: [0/3] Elapsed 0m 0s (remain 0m 0s) Loss: 0.3088(0.3088) \n"
     ]
    },
    {
     "name": "stderr",
     "output_type": "stream",
     "text": [
      "Epoch 8 - avg_train_loss: 0.2095  avg_val_loss: 0.2824  time: 3s\n",
      "Epoch 8 - Score: 0.2844\n"
     ]
    },
    {
     "name": "stdout",
     "output_type": "stream",
     "text": [
      "EVAL: [2/3] Elapsed 0m 0s (remain 0m 0s) Loss: 0.3155(0.2824) \n",
      "Epoch: [9][0/19] Elapsed 0m 0s (remain 0m 2s) Loss: 0.1647(0.1647) Grad: 6.1388  LR: 0.000009  \n",
      "Epoch: [9][10/19] Elapsed 0m 1s (remain 0m 1s) Loss: 0.1580(0.1685) Grad: 6.3010  LR: 0.000009  \n",
      "Epoch: [9][18/19] Elapsed 0m 2s (remain 0m 0s) Loss: 0.1512(0.1619) Grad: 5.6940  LR: 0.000009  \n",
      "EVAL: [0/3] Elapsed 0m 0s (remain 0m 0s) Loss: 0.2660(0.2660) \n"
     ]
    },
    {
     "name": "stderr",
     "output_type": "stream",
     "text": [
      "Epoch 9 - avg_train_loss: 0.1619  avg_val_loss: 0.2403  time: 4s\n",
      "Epoch 9 - Score: 0.2418\n",
      "Epoch 9 - Save Best Score: 0.2418 Model\n"
     ]
    },
    {
     "name": "stdout",
     "output_type": "stream",
     "text": [
      "EVAL: [2/3] Elapsed 0m 0s (remain 0m 0s) Loss: 0.2558(0.2403) \n",
      "Epoch: [10][0/19] Elapsed 0m 0s (remain 0m 2s) Loss: 0.1236(0.1236) Grad: 9.2514  LR: 0.000001  \n",
      "Epoch: [10][10/19] Elapsed 0m 1s (remain 0m 1s) Loss: 0.1326(0.1266) Grad: 3.7992  LR: 0.000001  \n",
      "Epoch: [10][18/19] Elapsed 0m 2s (remain 0m 0s) Loss: 0.1399(0.1272) Grad: 7.2724  LR: 0.000001  \n",
      "EVAL: [0/3] Elapsed 0m 0s (remain 0m 0s) Loss: 0.2754(0.2754) \n"
     ]
    },
    {
     "name": "stderr",
     "output_type": "stream",
     "text": [
      "Epoch 10 - avg_train_loss: 0.1272  avg_val_loss: 0.2499  time: 3s\n",
      "Epoch 10 - Score: 0.2511\n"
     ]
    },
    {
     "name": "stdout",
     "output_type": "stream",
     "text": [
      "EVAL: [2/3] Elapsed 0m 0s (remain 0m 0s) Loss: 0.2525(0.2499) \n",
      "Epoch: [11][0/19] Elapsed 0m 0s (remain 0m 2s) Loss: 0.1280(0.1280) Grad: 9.2335  LR: 0.000050  \n",
      "Epoch: [11][10/19] Elapsed 0m 1s (remain 0m 1s) Loss: 0.1643(0.1368) Grad: 15.1358  LR: 0.000050  \n",
      "Epoch: [11][18/19] Elapsed 0m 2s (remain 0m 0s) Loss: 0.1400(0.1395) Grad: 10.6108  LR: 0.000050  \n",
      "EVAL: [0/3] Elapsed 0m 0s (remain 0m 0s) Loss: 0.2536(0.2536) \n"
     ]
    },
    {
     "name": "stderr",
     "output_type": "stream",
     "text": [
      "Epoch 11 - avg_train_loss: 0.1395  avg_val_loss: 0.2374  time: 4s\n",
      "Epoch 11 - Score: 0.2394\n",
      "Epoch 11 - Save Best Score: 0.2394 Model\n"
     ]
    },
    {
     "name": "stdout",
     "output_type": "stream",
     "text": [
      "EVAL: [2/3] Elapsed 0m 0s (remain 0m 0s) Loss: 0.2823(0.2374) \n",
      "Epoch: [12][0/19] Elapsed 0m 0s (remain 0m 2s) Loss: 0.1165(0.1165) Grad: 5.2146  LR: 0.000224  \n",
      "Epoch: [12][10/19] Elapsed 0m 1s (remain 0m 1s) Loss: 0.1774(0.1624) Grad: 15.0408  LR: 0.000224  \n",
      "Epoch: [12][18/19] Elapsed 0m 2s (remain 0m 0s) Loss: 0.1608(0.1674) Grad: 7.3471  LR: 0.000224  \n",
      "EVAL: [0/3] Elapsed 0m 0s (remain 0m 0s) Loss: 0.3206(0.3206) \n"
     ]
    },
    {
     "name": "stderr",
     "output_type": "stream",
     "text": [
      "Epoch 12 - avg_train_loss: 0.1674  avg_val_loss: 0.2881  time: 4s\n",
      "Epoch 12 - Score: 0.2905\n"
     ]
    },
    {
     "name": "stdout",
     "output_type": "stream",
     "text": [
      "EVAL: [2/3] Elapsed 0m 0s (remain 0m 0s) Loss: 0.3177(0.2881) \n",
      "Epoch: [13][0/19] Elapsed 0m 0s (remain 0m 2s) Loss: 0.2233(0.2233) Grad: 21.4225  LR: 0.000133  \n",
      "Epoch: [13][10/19] Elapsed 0m 1s (remain 0m 1s) Loss: 0.1550(0.1844) Grad: 5.6248  LR: 0.000133  \n",
      "Epoch: [13][18/19] Elapsed 0m 2s (remain 0m 0s) Loss: 0.2074(0.1903) Grad: 14.6734  LR: 0.000133  \n",
      "EVAL: [0/3] Elapsed 0m 0s (remain 0m 0s) Loss: 0.3409(0.3409) \n"
     ]
    },
    {
     "name": "stderr",
     "output_type": "stream",
     "text": [
      "Epoch 13 - avg_train_loss: 0.1903  avg_val_loss: 0.3037  time: 3s\n",
      "Epoch 13 - Score: 0.3071\n"
     ]
    },
    {
     "name": "stdout",
     "output_type": "stream",
     "text": [
      "EVAL: [2/3] Elapsed 0m 0s (remain 0m 0s) Loss: 0.3455(0.3037) \n",
      "Epoch: [14][0/19] Elapsed 0m 0s (remain 0m 2s) Loss: 0.1905(0.1905) Grad: 15.7784  LR: 0.000057  \n",
      "Epoch: [14][10/19] Elapsed 0m 1s (remain 0m 1s) Loss: 0.1826(0.1885) Grad: 3.5488  LR: 0.000057  \n",
      "Epoch: [14][18/19] Elapsed 0m 2s (remain 0m 0s) Loss: 0.2402(0.1964) Grad: 7.1072  LR: 0.000057  \n",
      "EVAL: [0/3] Elapsed 0m 0s (remain 0m 0s) Loss: 0.3209(0.3209) \n"
     ]
    },
    {
     "name": "stderr",
     "output_type": "stream",
     "text": [
      "Epoch 14 - avg_train_loss: 0.1964  avg_val_loss: 0.3141  time: 4s\n",
      "Epoch 14 - Score: 0.3143\n"
     ]
    },
    {
     "name": "stdout",
     "output_type": "stream",
     "text": [
      "EVAL: [2/3] Elapsed 0m 0s (remain 0m 0s) Loss: 0.2896(0.3141) \n",
      "Epoch: [15][0/19] Elapsed 0m 0s (remain 0m 2s) Loss: 0.2436(0.2436) Grad: 21.0258  LR: 0.000009  \n",
      "Epoch: [15][10/19] Elapsed 0m 1s (remain 0m 1s) Loss: 0.1792(0.1762) Grad: 18.8464  LR: 0.000009  \n",
      "Epoch: [15][18/19] Elapsed 0m 2s (remain 0m 0s) Loss: 0.1582(0.1691) Grad: 20.2852  LR: 0.000009  \n",
      "EVAL: [0/3] Elapsed 0m 0s (remain 0m 0s) Loss: 0.2898(0.2898) \n"
     ]
    },
    {
     "name": "stderr",
     "output_type": "stream",
     "text": [
      "Epoch 15 - avg_train_loss: 0.1691  avg_val_loss: 0.2617  time: 3s\n",
      "Epoch 15 - Score: 0.2630\n"
     ]
    },
    {
     "name": "stdout",
     "output_type": "stream",
     "text": [
      "EVAL: [2/3] Elapsed 0m 0s (remain 0m 0s) Loss: 0.2643(0.2617) \n",
      "Epoch: [16][0/19] Elapsed 0m 0s (remain 0m 2s) Loss: 0.1526(0.1526) Grad: 19.1218  LR: 0.000001  \n",
      "Epoch: [16][10/19] Elapsed 0m 1s (remain 0m 1s) Loss: 0.0856(0.1490) Grad: 3.3292  LR: 0.000001  \n",
      "Epoch: [16][18/19] Elapsed 0m 2s (remain 0m 0s) Loss: 0.1568(0.1347) Grad: 14.6274  LR: 0.000001  \n",
      "EVAL: [0/3] Elapsed 0m 0s (remain 0m 0s) Loss: 0.2726(0.2726) \n"
     ]
    },
    {
     "name": "stderr",
     "output_type": "stream",
     "text": [
      "Epoch 16 - avg_train_loss: 0.1347  avg_val_loss: 0.2398  time: 3s\n",
      "Epoch 16 - Score: 0.2428\n"
     ]
    },
    {
     "name": "stdout",
     "output_type": "stream",
     "text": [
      "EVAL: [2/3] Elapsed 0m 0s (remain 0m 0s) Loss: 0.2694(0.2398) \n",
      "Epoch: [17][0/19] Elapsed 0m 0s (remain 0m 2s) Loss: 0.0788(0.0788) Grad: 9.5976  LR: 0.000050  \n",
      "Epoch: [17][10/19] Elapsed 0m 1s (remain 0m 1s) Loss: 0.1274(0.1074) Grad: 4.1763  LR: 0.000050  \n",
      "Epoch: [17][18/19] Elapsed 0m 2s (remain 0m 0s) Loss: 0.1085(0.1131) Grad: 13.1666  LR: 0.000050  \n",
      "EVAL: [0/3] Elapsed 0m 0s (remain 0m 0s) Loss: 0.2467(0.2467) \n"
     ]
    },
    {
     "name": "stderr",
     "output_type": "stream",
     "text": [
      "Epoch 17 - avg_train_loss: 0.1131  avg_val_loss: 0.2187  time: 4s\n",
      "Epoch 17 - Score: 0.2202\n",
      "Epoch 17 - Save Best Score: 0.2202 Model\n"
     ]
    },
    {
     "name": "stdout",
     "output_type": "stream",
     "text": [
      "EVAL: [2/3] Elapsed 0m 0s (remain 0m 0s) Loss: 0.2191(0.2187) \n",
      "Epoch: [18][0/19] Elapsed 0m 0s (remain 0m 2s) Loss: 0.0873(0.0873) Grad: 3.2379  LR: 0.000224  \n",
      "Epoch: [18][10/19] Elapsed 0m 1s (remain 0m 1s) Loss: 0.1507(0.1516) Grad: 15.7753  LR: 0.000224  \n",
      "Epoch: [18][18/19] Elapsed 0m 2s (remain 0m 0s) Loss: 0.1117(0.1453) Grad: 13.9519  LR: 0.000224  \n",
      "EVAL: [0/3] Elapsed 0m 0s (remain 0m 0s) Loss: 0.2984(0.2984) \n"
     ]
    },
    {
     "name": "stderr",
     "output_type": "stream",
     "text": [
      "Epoch 18 - avg_train_loss: 0.1453  avg_val_loss: 0.2689  time: 4s\n",
      "Epoch 18 - Score: 0.2742\n"
     ]
    },
    {
     "name": "stdout",
     "output_type": "stream",
     "text": [
      "EVAL: [2/3] Elapsed 0m 0s (remain 0m 0s) Loss: 0.3461(0.2689) \n",
      "Epoch: [19][0/19] Elapsed 0m 0s (remain 0m 2s) Loss: 0.1655(0.1655) Grad: 5.4473  LR: 0.000133  \n",
      "Epoch: [19][10/19] Elapsed 0m 1s (remain 0m 1s) Loss: 0.1428(0.1827) Grad: 17.4760  LR: 0.000133  \n",
      "Epoch: [19][18/19] Elapsed 0m 2s (remain 0m 0s) Loss: 0.1598(0.1705) Grad: 7.3088  LR: 0.000133  \n",
      "EVAL: [0/3] Elapsed 0m 0s (remain 0m 0s) Loss: 0.2850(0.2850) \n"
     ]
    },
    {
     "name": "stderr",
     "output_type": "stream",
     "text": [
      "Epoch 19 - avg_train_loss: 0.1705  avg_val_loss: 0.2584  time: 4s\n",
      "Epoch 19 - Score: 0.2594\n"
     ]
    },
    {
     "name": "stdout",
     "output_type": "stream",
     "text": [
      "EVAL: [2/3] Elapsed 0m 0s (remain 0m 0s) Loss: 0.2355(0.2584) \n",
      "Epoch: [20][0/19] Elapsed 0m 0s (remain 0m 2s) Loss: 0.1245(0.1245) Grad: 9.2584  LR: 0.000057  \n",
      "Epoch: [20][10/19] Elapsed 0m 1s (remain 0m 1s) Loss: 0.1653(0.1533) Grad: 4.3404  LR: 0.000057  \n",
      "Epoch: [20][18/19] Elapsed 0m 2s (remain 0m 0s) Loss: 0.1427(0.1620) Grad: 5.3218  LR: 0.000057  \n",
      "EVAL: [0/3] Elapsed 0m 0s (remain 0m 0s) Loss: 0.3160(0.3160) \n"
     ]
    },
    {
     "name": "stderr",
     "output_type": "stream",
     "text": [
      "Epoch 20 - avg_train_loss: 0.1620  avg_val_loss: 0.2855  time: 4s\n",
      "Epoch 20 - Score: 0.2867\n"
     ]
    },
    {
     "name": "stdout",
     "output_type": "stream",
     "text": [
      "EVAL: [2/3] Elapsed 0m 0s (remain 0m 0s) Loss: 0.2486(0.2855) \n",
      "Epoch: [21][0/19] Elapsed 0m 0s (remain 0m 2s) Loss: 0.2283(0.2283) Grad: 17.7147  LR: 0.000009  \n",
      "Epoch: [21][10/19] Elapsed 0m 1s (remain 0m 1s) Loss: 0.1952(0.1643) Grad: 16.6498  LR: 0.000009  \n",
      "Epoch: [21][18/19] Elapsed 0m 2s (remain 0m 0s) Loss: 0.1444(0.1501) Grad: 13.5469  LR: 0.000009  \n",
      "EVAL: [0/3] Elapsed 0m 0s (remain 0m 0s) Loss: 0.2673(0.2673) \n"
     ]
    },
    {
     "name": "stderr",
     "output_type": "stream",
     "text": [
      "Epoch 21 - avg_train_loss: 0.1501  avg_val_loss: 0.2436  time: 4s\n",
      "Epoch 21 - Score: 0.2445\n"
     ]
    },
    {
     "name": "stdout",
     "output_type": "stream",
     "text": [
      "EVAL: [2/3] Elapsed 0m 0s (remain 0m 0s) Loss: 0.2148(0.2436) \n",
      "Epoch: [22][0/19] Elapsed 0m 0s (remain 0m 2s) Loss: 0.1113(0.1113) Grad: 16.2559  LR: 0.000001  \n",
      "Epoch: [22][10/19] Elapsed 0m 1s (remain 0m 1s) Loss: 0.0995(0.1176) Grad: 10.9242  LR: 0.000001  \n",
      "Epoch: [22][18/19] Elapsed 0m 2s (remain 0m 0s) Loss: 0.0868(0.1092) Grad: 6.9360  LR: 0.000001  \n",
      "EVAL: [0/3] Elapsed 0m 0s (remain 0m 0s) Loss: 0.2604(0.2604) \n"
     ]
    },
    {
     "name": "stderr",
     "output_type": "stream",
     "text": [
      "Epoch 22 - avg_train_loss: 0.1092  avg_val_loss: 0.2316  time: 3s\n",
      "Epoch 22 - Score: 0.2331\n"
     ]
    },
    {
     "name": "stdout",
     "output_type": "stream",
     "text": [
      "EVAL: [2/3] Elapsed 0m 0s (remain 0m 0s) Loss: 0.2333(0.2316) \n",
      "Epoch: [23][0/19] Elapsed 0m 0s (remain 0m 2s) Loss: 0.1435(0.1435) Grad: 3.9576  LR: 0.000050  \n",
      "Epoch: [23][10/19] Elapsed 0m 1s (remain 0m 1s) Loss: 0.0978(0.1190) Grad: 9.1897  LR: 0.000050  \n",
      "Epoch: [23][18/19] Elapsed 0m 2s (remain 0m 0s) Loss: 0.0752(0.1054) Grad: 5.3862  LR: 0.000050  \n",
      "EVAL: [0/3] Elapsed 0m 0s (remain 0m 0s) Loss: 0.2489(0.2489) \n"
     ]
    },
    {
     "name": "stderr",
     "output_type": "stream",
     "text": [
      "Epoch 23 - avg_train_loss: 0.1054  avg_val_loss: 0.2215  time: 3s\n",
      "Epoch 23 - Score: 0.2233\n"
     ]
    },
    {
     "name": "stdout",
     "output_type": "stream",
     "text": [
      "EVAL: [2/3] Elapsed 0m 0s (remain 0m 0s) Loss: 0.2340(0.2215) \n",
      "Epoch: [24][0/19] Elapsed 0m 0s (remain 0m 2s) Loss: 0.1079(0.1079) Grad: 5.2107  LR: 0.000224  \n",
      "Epoch: [24][10/19] Elapsed 0m 1s (remain 0m 1s) Loss: 0.1344(0.1302) Grad: 16.2804  LR: 0.000224  \n",
      "Epoch: [24][18/19] Elapsed 0m 2s (remain 0m 0s) Loss: 0.1415(0.1322) Grad: 13.8458  LR: 0.000224  \n",
      "EVAL: [0/3] Elapsed 0m 0s (remain 0m 0s) Loss: 0.2763(0.2763) \n"
     ]
    },
    {
     "name": "stderr",
     "output_type": "stream",
     "text": [
      "Epoch 24 - avg_train_loss: 0.1322  avg_val_loss: 0.2331  time: 3s\n",
      "Epoch 24 - Score: 0.2362\n"
     ]
    },
    {
     "name": "stdout",
     "output_type": "stream",
     "text": [
      "EVAL: [2/3] Elapsed 0m 0s (remain 0m 0s) Loss: 0.2267(0.2331) \n",
      "Epoch: [25][0/19] Elapsed 0m 0s (remain 0m 2s) Loss: 0.1220(0.1220) Grad: 9.2022  LR: 0.000133  \n",
      "Epoch: [25][10/19] Elapsed 0m 1s (remain 0m 1s) Loss: 0.1707(0.1437) Grad: 17.2854  LR: 0.000133  \n",
      "Epoch: [25][18/19] Elapsed 0m 2s (remain 0m 0s) Loss: 0.1693(0.1538) Grad: 15.9761  LR: 0.000133  \n",
      "EVAL: [0/3] Elapsed 0m 0s (remain 0m 0s) Loss: 0.3059(0.3059) \n"
     ]
    },
    {
     "name": "stderr",
     "output_type": "stream",
     "text": [
      "Epoch 25 - avg_train_loss: 0.1538  avg_val_loss: 0.2771  time: 3s\n",
      "Epoch 25 - Score: 0.2806\n"
     ]
    },
    {
     "name": "stdout",
     "output_type": "stream",
     "text": [
      "EVAL: [2/3] Elapsed 0m 0s (remain 0m 0s) Loss: 0.3331(0.2771) \n",
      "Epoch: [26][0/19] Elapsed 0m 0s (remain 0m 2s) Loss: 0.1625(0.1625) Grad: 12.7710  LR: 0.000057  \n",
      "Epoch: [26][10/19] Elapsed 0m 1s (remain 0m 1s) Loss: 0.1365(0.1435) Grad: 16.8140  LR: 0.000057  \n",
      "Epoch: [26][18/19] Elapsed 0m 2s (remain 0m 0s) Loss: 0.1995(0.1428) Grad: 16.8144  LR: 0.000057  \n",
      "EVAL: [0/3] Elapsed 0m 0s (remain 0m 0s) Loss: 0.2572(0.2572) \n"
     ]
    },
    {
     "name": "stderr",
     "output_type": "stream",
     "text": [
      "Epoch 26 - avg_train_loss: 0.1428  avg_val_loss: 0.2304  time: 4s\n",
      "Epoch 26 - Score: 0.2315\n"
     ]
    },
    {
     "name": "stdout",
     "output_type": "stream",
     "text": [
      "EVAL: [2/3] Elapsed 0m 0s (remain 0m 0s) Loss: 0.2036(0.2304) \n",
      "Epoch: [27][0/19] Elapsed 0m 0s (remain 0m 2s) Loss: 0.1447(0.1447) Grad: 14.2051  LR: 0.000009  \n",
      "Epoch: [27][10/19] Elapsed 0m 1s (remain 0m 1s) Loss: 0.1346(0.1289) Grad: 4.1081  LR: 0.000009  \n",
      "Epoch: [27][18/19] Elapsed 0m 2s (remain 0m 0s) Loss: 0.0820(0.1256) Grad: 5.0298  LR: 0.000009  \n",
      "EVAL: [0/3] Elapsed 0m 0s (remain 0m 0s) Loss: 0.2629(0.2629) \n"
     ]
    },
    {
     "name": "stderr",
     "output_type": "stream",
     "text": [
      "Epoch 27 - avg_train_loss: 0.1256  avg_val_loss: 0.2412  time: 4s\n",
      "Epoch 27 - Score: 0.2430\n"
     ]
    },
    {
     "name": "stdout",
     "output_type": "stream",
     "text": [
      "EVAL: [2/3] Elapsed 0m 0s (remain 0m 0s) Loss: 0.2745(0.2412) \n",
      "Epoch: [28][0/19] Elapsed 0m 0s (remain 0m 2s) Loss: 0.0684(0.0684) Grad: 6.6577  LR: 0.000001  \n",
      "Epoch: [28][10/19] Elapsed 0m 1s (remain 0m 1s) Loss: 0.0930(0.0862) Grad: 3.5691  LR: 0.000001  \n",
      "Epoch: [28][18/19] Elapsed 0m 2s (remain 0m 0s) Loss: 0.1099(0.0877) Grad: 4.3920  LR: 0.000001  \n",
      "EVAL: [0/3] Elapsed 0m 0s (remain 0m 0s) Loss: 0.2613(0.2613) \n"
     ]
    },
    {
     "name": "stderr",
     "output_type": "stream",
     "text": [
      "Epoch 28 - avg_train_loss: 0.0877  avg_val_loss: 0.2400  time: 4s\n",
      "Epoch 28 - Score: 0.2417\n"
     ]
    },
    {
     "name": "stdout",
     "output_type": "stream",
     "text": [
      "EVAL: [2/3] Elapsed 0m 0s (remain 0m 0s) Loss: 0.2704(0.2400) \n",
      "Epoch: [29][0/19] Elapsed 0m 0s (remain 0m 2s) Loss: 0.0795(0.0795) Grad: 2.3342  LR: 0.000050  \n",
      "Epoch: [29][10/19] Elapsed 0m 1s (remain 0m 1s) Loss: 0.0558(0.0823) Grad: 3.7078  LR: 0.000050  \n",
      "Epoch: [29][18/19] Elapsed 0m 2s (remain 0m 0s) Loss: 0.1403(0.0840) Grad: 3.7609  LR: 0.000050  \n",
      "EVAL: [0/3] Elapsed 0m 0s (remain 0m 0s) Loss: 0.2601(0.2601) \n"
     ]
    },
    {
     "name": "stderr",
     "output_type": "stream",
     "text": [
      "Epoch 29 - avg_train_loss: 0.0840  avg_val_loss: 0.2377  time: 3s\n",
      "Epoch 29 - Score: 0.2389\n"
     ]
    },
    {
     "name": "stdout",
     "output_type": "stream",
     "text": [
      "EVAL: [2/3] Elapsed 0m 0s (remain 0m 0s) Loss: 0.2507(0.2377) \n",
      "Epoch: [30][0/19] Elapsed 0m 0s (remain 0m 2s) Loss: 0.0786(0.0786) Grad: 12.5156  LR: 0.000224  \n",
      "Epoch: [30][10/19] Elapsed 0m 1s (remain 0m 1s) Loss: 0.1313(0.0875) Grad: 7.3478  LR: 0.000224  \n",
      "Epoch: [30][18/19] Elapsed 0m 2s (remain 0m 0s) Loss: 0.1224(0.0982) Grad: 18.5433  LR: 0.000224  \n",
      "EVAL: [0/3] Elapsed 0m 0s (remain 0m 0s) Loss: 0.2712(0.2712) \n"
     ]
    },
    {
     "name": "stderr",
     "output_type": "stream",
     "text": [
      "Epoch 30 - avg_train_loss: 0.0982  avg_val_loss: 0.2388  time: 3s\n",
      "Epoch 30 - Score: 0.2414\n"
     ]
    },
    {
     "name": "stdout",
     "output_type": "stream",
     "text": [
      "EVAL: [2/3] Elapsed 0m 0s (remain 0m 0s) Loss: 0.2626(0.2388) \n",
      "Epoch: [31][0/19] Elapsed 0m 0s (remain 0m 2s) Loss: 0.0944(0.0944) Grad: 4.0248  LR: 0.000133  \n",
      "Epoch: [31][10/19] Elapsed 0m 1s (remain 0m 1s) Loss: 0.1412(0.1455) Grad: 17.6673  LR: 0.000133  \n",
      "Epoch: [31][18/19] Elapsed 0m 2s (remain 0m 0s) Loss: 0.1303(0.1368) Grad: 12.8361  LR: 0.000133  \n",
      "EVAL: [0/3] Elapsed 0m 0s (remain 0m 0s) Loss: 0.2712(0.2712) \n"
     ]
    },
    {
     "name": "stderr",
     "output_type": "stream",
     "text": [
      "Epoch 31 - avg_train_loss: 0.1368  avg_val_loss: 0.2488  time: 3s\n",
      "Epoch 31 - Score: 0.2499\n"
     ]
    },
    {
     "name": "stdout",
     "output_type": "stream",
     "text": [
      "EVAL: [2/3] Elapsed 0m 0s (remain 0m 0s) Loss: 0.2608(0.2488) \n",
      "Epoch: [32][0/19] Elapsed 0m 0s (remain 0m 2s) Loss: 0.1377(0.1377) Grad: 13.4803  LR: 0.000057  \n",
      "Epoch: [32][10/19] Elapsed 0m 1s (remain 0m 1s) Loss: 0.1951(0.1353) Grad: 12.5416  LR: 0.000057  \n",
      "Epoch: [32][18/19] Elapsed 0m 2s (remain 0m 0s) Loss: 0.1770(0.1353) Grad: 21.4190  LR: 0.000057  \n",
      "EVAL: [0/3] Elapsed 0m 0s (remain 0m 0s) Loss: 0.2665(0.2665) \n"
     ]
    },
    {
     "name": "stderr",
     "output_type": "stream",
     "text": [
      "Epoch 32 - avg_train_loss: 0.1353  avg_val_loss: 0.2415  time: 3s\n",
      "Epoch 32 - Score: 0.2424\n"
     ]
    },
    {
     "name": "stdout",
     "output_type": "stream",
     "text": [
      "EVAL: [2/3] Elapsed 0m 0s (remain 0m 0s) Loss: 0.2206(0.2415) \n",
      "Epoch: [33][0/19] Elapsed 0m 0s (remain 0m 2s) Loss: 0.1292(0.1292) Grad: 12.1927  LR: 0.000009  \n",
      "Epoch: [33][10/19] Elapsed 0m 1s (remain 0m 1s) Loss: 0.0858(0.1032) Grad: 6.0585  LR: 0.000009  \n",
      "Epoch: [33][18/19] Elapsed 0m 2s (remain 0m 0s) Loss: 0.1205(0.0963) Grad: 3.4359  LR: 0.000009  \n",
      "EVAL: [0/3] Elapsed 0m 0s (remain 0m 0s) Loss: 0.2731(0.2731) \n"
     ]
    },
    {
     "name": "stderr",
     "output_type": "stream",
     "text": [
      "Epoch 33 - avg_train_loss: 0.0963  avg_val_loss: 0.2401  time: 4s\n",
      "Epoch 33 - Score: 0.2447\n"
     ]
    },
    {
     "name": "stdout",
     "output_type": "stream",
     "text": [
      "EVAL: [2/3] Elapsed 0m 0s (remain 0m 0s) Loss: 0.2941(0.2401) \n",
      "Epoch: [34][0/19] Elapsed 0m 0s (remain 0m 2s) Loss: 0.0863(0.0863) Grad: 14.7062  LR: 0.000001  \n",
      "Epoch: [34][10/19] Elapsed 0m 1s (remain 0m 1s) Loss: 0.0672(0.0855) Grad: 2.3137  LR: 0.000001  \n",
      "Epoch: [34][18/19] Elapsed 0m 2s (remain 0m 0s) Loss: 0.0988(0.0807) Grad: 4.7408  LR: 0.000001  \n",
      "EVAL: [0/3] Elapsed 0m 0s (remain 0m 0s) Loss: 0.2675(0.2675) \n"
     ]
    },
    {
     "name": "stderr",
     "output_type": "stream",
     "text": [
      "Epoch 34 - avg_train_loss: 0.0807  avg_val_loss: 0.2328  time: 4s\n",
      "Epoch 34 - Score: 0.2354\n"
     ]
    },
    {
     "name": "stdout",
     "output_type": "stream",
     "text": [
      "EVAL: [2/3] Elapsed 0m 0s (remain 0m 0s) Loss: 0.2477(0.2328) \n",
      "Epoch: [35][0/19] Elapsed 0m 0s (remain 0m 2s) Loss: 0.0649(0.0649) Grad: 7.0808  LR: 0.000050  \n",
      "Epoch: [35][10/19] Elapsed 0m 1s (remain 0m 1s) Loss: 0.0704(0.0701) Grad: 12.9363  LR: 0.000050  \n",
      "Epoch: [35][18/19] Elapsed 0m 2s (remain 0m 0s) Loss: 0.0766(0.0803) Grad: 15.9214  LR: 0.000050  \n",
      "EVAL: [0/3] Elapsed 0m 0s (remain 0m 0s) Loss: 0.2645(0.2645) \n"
     ]
    },
    {
     "name": "stderr",
     "output_type": "stream",
     "text": [
      "Epoch 35 - avg_train_loss: 0.0803  avg_val_loss: 0.2359  time: 4s\n",
      "Epoch 35 - Score: 0.2378\n"
     ]
    },
    {
     "name": "stdout",
     "output_type": "stream",
     "text": [
      "EVAL: [2/3] Elapsed 0m 0s (remain 0m 0s) Loss: 0.2506(0.2359) \n",
      "Epoch: [36][0/19] Elapsed 0m 0s (remain 0m 2s) Loss: 0.0710(0.0710) Grad: 5.6589  LR: 0.000224  \n",
      "Epoch: [36][10/19] Elapsed 0m 1s (remain 0m 1s) Loss: 0.1045(0.1077) Grad: 6.4430  LR: 0.000224  \n",
      "Epoch: [36][18/19] Elapsed 0m 2s (remain 0m 0s) Loss: 0.1175(0.1078) Grad: 9.7846  LR: 0.000224  \n",
      "EVAL: [0/3] Elapsed 0m 0s (remain 0m 0s) Loss: 0.3000(0.3000) \n"
     ]
    },
    {
     "name": "stderr",
     "output_type": "stream",
     "text": [
      "Epoch 36 - avg_train_loss: 0.1078  avg_val_loss: 0.2559  time: 4s\n",
      "Epoch 36 - Score: 0.2608\n"
     ]
    },
    {
     "name": "stdout",
     "output_type": "stream",
     "text": [
      "EVAL: [2/3] Elapsed 0m 0s (remain 0m 0s) Loss: 0.2940(0.2559) \n",
      "Epoch: [37][0/19] Elapsed 0m 0s (remain 0m 2s) Loss: 0.0855(0.0855) Grad: 4.9719  LR: 0.000133  \n",
      "Epoch: [37][10/19] Elapsed 0m 1s (remain 0m 1s) Loss: 0.1865(0.1456) Grad: 18.8258  LR: 0.000133  \n",
      "Epoch: [37][18/19] Elapsed 0m 2s (remain 0m 0s) Loss: 0.1368(0.1497) Grad: 18.3193  LR: 0.000133  \n",
      "EVAL: [0/3] Elapsed 0m 0s (remain 0m 0s) Loss: 0.2601(0.2601) \n"
     ]
    },
    {
     "name": "stderr",
     "output_type": "stream",
     "text": [
      "Epoch 37 - avg_train_loss: 0.1497  avg_val_loss: 0.2408  time: 4s\n",
      "Epoch 37 - Score: 0.2425\n"
     ]
    },
    {
     "name": "stdout",
     "output_type": "stream",
     "text": [
      "EVAL: [2/3] Elapsed 0m 0s (remain 0m 0s) Loss: 0.2758(0.2408) \n",
      "Epoch: [38][0/19] Elapsed 0m 0s (remain 0m 2s) Loss: 0.1023(0.1023) Grad: 3.0377  LR: 0.000057  \n",
      "Epoch: [38][10/19] Elapsed 0m 1s (remain 0m 1s) Loss: 0.1232(0.1212) Grad: 12.0198  LR: 0.000057  \n",
      "Epoch: [38][18/19] Elapsed 0m 2s (remain 0m 0s) Loss: 0.1349(0.1182) Grad: 6.6032  LR: 0.000057  \n",
      "EVAL: [0/3] Elapsed 0m 0s (remain 0m 0s) Loss: 0.2858(0.2858) \n"
     ]
    },
    {
     "name": "stderr",
     "output_type": "stream",
     "text": [
      "Epoch 38 - avg_train_loss: 0.1182  avg_val_loss: 0.2589  time: 4s\n",
      "Epoch 38 - Score: 0.2631\n"
     ]
    },
    {
     "name": "stdout",
     "output_type": "stream",
     "text": [
      "EVAL: [2/3] Elapsed 0m 0s (remain 0m 0s) Loss: 0.3243(0.2589) \n",
      "Epoch: [39][0/19] Elapsed 0m 0s (remain 0m 2s) Loss: 0.1108(0.1108) Grad: 11.1946  LR: 0.000009  \n",
      "Epoch: [39][10/19] Elapsed 0m 1s (remain 0m 1s) Loss: 0.0753(0.0907) Grad: 3.0053  LR: 0.000009  \n",
      "Epoch: [39][18/19] Elapsed 0m 2s (remain 0m 0s) Loss: 0.0779(0.0906) Grad: 8.4781  LR: 0.000009  \n",
      "EVAL: [0/3] Elapsed 0m 0s (remain 0m 0s) Loss: 0.2683(0.2683) \n"
     ]
    },
    {
     "name": "stderr",
     "output_type": "stream",
     "text": [
      "Epoch 39 - avg_train_loss: 0.0906  avg_val_loss: 0.2385  time: 4s\n",
      "Epoch 39 - Score: 0.2418\n"
     ]
    },
    {
     "name": "stdout",
     "output_type": "stream",
     "text": [
      "EVAL: [2/3] Elapsed 0m 0s (remain 0m 0s) Loss: 0.2805(0.2385) \n",
      "Epoch: [40][0/19] Elapsed 0m 0s (remain 0m 2s) Loss: 0.0563(0.0563) Grad: 7.5603  LR: 0.000001  \n",
      "Epoch: [40][10/19] Elapsed 0m 1s (remain 0m 1s) Loss: 0.0645(0.0726) Grad: 3.5564  LR: 0.000001  \n",
      "Epoch: [40][18/19] Elapsed 0m 2s (remain 0m 0s) Loss: 0.0617(0.0728) Grad: 3.4639  LR: 0.000001  \n",
      "EVAL: [0/3] Elapsed 0m 0s (remain 0m 0s) Loss: 0.2603(0.2603) \n"
     ]
    },
    {
     "name": "stderr",
     "output_type": "stream",
     "text": [
      "Epoch 40 - avg_train_loss: 0.0728  avg_val_loss: 0.2361  time: 4s\n",
      "Epoch 40 - Score: 0.2389\n",
      "========== fold: 3 result ==========\n",
      "Score: 0.2202\n",
      "========== fold: 4 training ==========\n"
     ]
    },
    {
     "name": "stdout",
     "output_type": "stream",
     "text": [
      "EVAL: [2/3] Elapsed 0m 0s (remain 0m 0s) Loss: 0.2812(0.2361) \n",
      "Epoch: [1][0/19] Elapsed 0m 0s (remain 0m 2s) Loss: 3.6076(3.6076) Grad: 25.9035  LR: 0.000100  \n",
      "Epoch: [1][10/19] Elapsed 0m 1s (remain 0m 1s) Loss: 0.7463(1.6208) Grad: 24.1004  LR: 0.000100  \n",
      "Epoch: [1][18/19] Elapsed 0m 2s (remain 0m 0s) Loss: 0.5463(1.1985) Grad: 18.1780  LR: 0.000100  \n",
      "EVAL: [0/3] Elapsed 0m 0s (remain 0m 0s) Loss: 0.5548(0.5548) \n"
     ]
    },
    {
     "name": "stderr",
     "output_type": "stream",
     "text": [
      "Epoch 1 - avg_train_loss: 1.1985  avg_val_loss: 0.5301  time: 4s\n",
      "Epoch 1 - Score: 0.5310\n",
      "Epoch 1 - Save Best Score: 0.5310 Model\n"
     ]
    },
    {
     "name": "stdout",
     "output_type": "stream",
     "text": [
      "EVAL: [2/3] Elapsed 0m 0s (remain 0m 0s) Loss: 0.5575(0.5301) \n",
      "Epoch: [2][0/19] Elapsed 0m 0s (remain 0m 2s) Loss: 0.4606(0.4606) Grad: 17.1640  LR: 0.000057  \n",
      "Epoch: [2][10/19] Elapsed 0m 1s (remain 0m 1s) Loss: 0.4110(0.4118) Grad: 15.1105  LR: 0.000057  \n",
      "Epoch: [2][18/19] Elapsed 0m 2s (remain 0m 0s) Loss: 0.4275(0.4269) Grad: 9.1532  LR: 0.000057  \n",
      "EVAL: [0/3] Elapsed 0m 0s (remain 0m 0s) Loss: 0.4122(0.4122) \n"
     ]
    },
    {
     "name": "stderr",
     "output_type": "stream",
     "text": [
      "Epoch 2 - avg_train_loss: 0.4269  avg_val_loss: 0.3951  time: 4s\n",
      "Epoch 2 - Score: 0.3954\n",
      "Epoch 2 - Save Best Score: 0.3954 Model\n"
     ]
    },
    {
     "name": "stdout",
     "output_type": "stream",
     "text": [
      "EVAL: [2/3] Elapsed 0m 0s (remain 0m 0s) Loss: 0.3885(0.3951) \n",
      "Epoch: [3][0/19] Elapsed 0m 0s (remain 0m 2s) Loss: 0.2700(0.2700) Grad: 4.5933  LR: 0.000009  \n",
      "Epoch: [3][10/19] Elapsed 0m 1s (remain 0m 1s) Loss: 0.3500(0.3075) Grad: 5.5250  LR: 0.000009  \n",
      "Epoch: [3][18/19] Elapsed 0m 2s (remain 0m 0s) Loss: 0.2701(0.2968) Grad: 4.0144  LR: 0.000009  \n",
      "EVAL: [0/3] Elapsed 0m 0s (remain 0m 0s) Loss: 0.3593(0.3593) \n"
     ]
    },
    {
     "name": "stderr",
     "output_type": "stream",
     "text": [
      "Epoch 3 - avg_train_loss: 0.2968  avg_val_loss: 0.3222  time: 4s\n",
      "Epoch 3 - Score: 0.3237\n",
      "Epoch 3 - Save Best Score: 0.3237 Model\n"
     ]
    },
    {
     "name": "stdout",
     "output_type": "stream",
     "text": [
      "EVAL: [2/3] Elapsed 0m 0s (remain 0m 0s) Loss: 0.2835(0.3222) \n",
      "Epoch: [4][0/19] Elapsed 0m 0s (remain 0m 2s) Loss: 0.2383(0.2383) Grad: 7.9443  LR: 0.000001  \n",
      "Epoch: [4][10/19] Elapsed 0m 1s (remain 0m 1s) Loss: 0.2584(0.2404) Grad: 12.1883  LR: 0.000001  \n",
      "Epoch: [4][18/19] Elapsed 0m 2s (remain 0m 0s) Loss: 0.2092(0.2407) Grad: 4.0301  LR: 0.000001  \n",
      "EVAL: [0/3] Elapsed 0m 0s (remain 0m 0s) Loss: 0.3478(0.3478) \n"
     ]
    },
    {
     "name": "stderr",
     "output_type": "stream",
     "text": [
      "Epoch 4 - avg_train_loss: 0.2407  avg_val_loss: 0.3260  time: 4s\n",
      "Epoch 4 - Score: 0.3269\n"
     ]
    },
    {
     "name": "stdout",
     "output_type": "stream",
     "text": [
      "EVAL: [2/3] Elapsed 0m 0s (remain 0m 0s) Loss: 0.2774(0.3260) \n",
      "Epoch: [5][0/19] Elapsed 0m 0s (remain 0m 2s) Loss: 0.2066(0.2066) Grad: 6.2010  LR: 0.000050  \n",
      "Epoch: [5][10/19] Elapsed 0m 1s (remain 0m 1s) Loss: 0.1747(0.2144) Grad: 4.6236  LR: 0.000050  \n",
      "Epoch: [5][18/19] Elapsed 0m 2s (remain 0m 0s) Loss: 0.2732(0.2212) Grad: 7.0829  LR: 0.000050  \n",
      "EVAL: [0/3] Elapsed 0m 0s (remain 0m 0s) Loss: 0.3234(0.3234) \n"
     ]
    },
    {
     "name": "stderr",
     "output_type": "stream",
     "text": [
      "Epoch 5 - avg_train_loss: 0.2212  avg_val_loss: 0.3019  time: 4s\n",
      "Epoch 5 - Score: 0.3031\n",
      "Epoch 5 - Save Best Score: 0.3031 Model\n"
     ]
    },
    {
     "name": "stdout",
     "output_type": "stream",
     "text": [
      "EVAL: [2/3] Elapsed 0m 0s (remain 0m 0s) Loss: 0.2448(0.3019) \n",
      "Epoch: [6][0/19] Elapsed 0m 0s (remain 0m 2s) Loss: 0.2035(0.2035) Grad: 3.8975  LR: 0.000224  \n",
      "Epoch: [6][10/19] Elapsed 0m 1s (remain 0m 1s) Loss: 0.1409(0.2102) Grad: 10.9829  LR: 0.000224  \n",
      "Epoch: [6][18/19] Elapsed 0m 2s (remain 0m 0s) Loss: 0.2941(0.2246) Grad: 21.0315  LR: 0.000224  \n",
      "EVAL: [0/3] Elapsed 0m 0s (remain 0m 0s) Loss: 0.2713(0.2713) \n"
     ]
    },
    {
     "name": "stderr",
     "output_type": "stream",
     "text": [
      "Epoch 6 - avg_train_loss: 0.2246  avg_val_loss: 0.2654  time: 4s\n",
      "Epoch 6 - Score: 0.2658\n",
      "Epoch 6 - Save Best Score: 0.2658 Model\n"
     ]
    },
    {
     "name": "stdout",
     "output_type": "stream",
     "text": [
      "EVAL: [2/3] Elapsed 0m 0s (remain 0m 0s) Loss: 0.2314(0.2654) \n",
      "Epoch: [7][0/19] Elapsed 0m 0s (remain 0m 2s) Loss: 0.2216(0.2216) Grad: 7.4044  LR: 0.000133  \n",
      "Epoch: [7][10/19] Elapsed 0m 1s (remain 0m 1s) Loss: 0.4032(0.3073) Grad: 24.0200  LR: 0.000133  \n",
      "Epoch: [7][18/19] Elapsed 0m 3s (remain 0m 0s) Loss: 0.4564(0.3248) Grad: 22.5841  LR: 0.000133  \n",
      "EVAL: [0/3] Elapsed 0m 0s (remain 0m 0s) Loss: 0.3814(0.3814) \n"
     ]
    },
    {
     "name": "stderr",
     "output_type": "stream",
     "text": [
      "Epoch 7 - avg_train_loss: 0.3248  avg_val_loss: 0.3730  time: 4s\n",
      "Epoch 7 - Score: 0.3732\n"
     ]
    },
    {
     "name": "stdout",
     "output_type": "stream",
     "text": [
      "EVAL: [2/3] Elapsed 0m 0s (remain 0m 0s) Loss: 0.3794(0.3730) \n",
      "Epoch: [8][0/19] Elapsed 0m 0s (remain 0m 2s) Loss: 0.3457(0.3457) Grad: 21.5524  LR: 0.000057  \n",
      "Epoch: [8][10/19] Elapsed 0m 1s (remain 0m 1s) Loss: 0.2467(0.2481) Grad: 18.8660  LR: 0.000057  \n",
      "Epoch: [8][18/19] Elapsed 0m 2s (remain 0m 0s) Loss: 0.2281(0.2388) Grad: 18.0260  LR: 0.000057  \n",
      "EVAL: [0/3] Elapsed 0m 0s (remain 0m 0s) Loss: 0.2906(0.2906) \n"
     ]
    },
    {
     "name": "stderr",
     "output_type": "stream",
     "text": [
      "Epoch 8 - avg_train_loss: 0.2388  avg_val_loss: 0.2791  time: 4s\n",
      "Epoch 8 - Score: 0.2796\n"
     ]
    },
    {
     "name": "stdout",
     "output_type": "stream",
     "text": [
      "EVAL: [2/3] Elapsed 0m 0s (remain 0m 0s) Loss: 0.2432(0.2791) \n",
      "Epoch: [9][0/19] Elapsed 0m 0s (remain 0m 2s) Loss: 0.2034(0.2034) Grad: 15.3390  LR: 0.000009  \n",
      "Epoch: [9][10/19] Elapsed 0m 1s (remain 0m 1s) Loss: 0.1544(0.1878) Grad: 5.7262  LR: 0.000009  \n",
      "Epoch: [9][18/19] Elapsed 0m 2s (remain 0m 0s) Loss: 0.1443(0.1837) Grad: 15.2177  LR: 0.000009  \n",
      "EVAL: [0/3] Elapsed 0m 0s (remain 0m 0s) Loss: 0.2645(0.2645) \n"
     ]
    },
    {
     "name": "stderr",
     "output_type": "stream",
     "text": [
      "Epoch 9 - avg_train_loss: 0.1837  avg_val_loss: 0.2599  time: 4s\n",
      "Epoch 9 - Score: 0.2607\n",
      "Epoch 9 - Save Best Score: 0.2607 Model\n"
     ]
    },
    {
     "name": "stdout",
     "output_type": "stream",
     "text": [
      "EVAL: [2/3] Elapsed 0m 0s (remain 0m 0s) Loss: 0.2136(0.2599) \n",
      "Epoch: [10][0/19] Elapsed 0m 0s (remain 0m 2s) Loss: 0.1452(0.1452) Grad: 20.1396  LR: 0.000001  \n",
      "Epoch: [10][10/19] Elapsed 0m 1s (remain 0m 1s) Loss: 0.1349(0.1476) Grad: 4.0190  LR: 0.000001  \n",
      "Epoch: [10][18/19] Elapsed 0m 2s (remain 0m 0s) Loss: 0.1536(0.1462) Grad: 3.4229  LR: 0.000001  \n",
      "EVAL: [0/3] Elapsed 0m 0s (remain 0m 0s) Loss: 0.2637(0.2637) \n"
     ]
    },
    {
     "name": "stderr",
     "output_type": "stream",
     "text": [
      "Epoch 10 - avg_train_loss: 0.1462  avg_val_loss: 0.2463  time: 4s\n",
      "Epoch 10 - Score: 0.2467\n",
      "Epoch 10 - Save Best Score: 0.2467 Model\n"
     ]
    },
    {
     "name": "stdout",
     "output_type": "stream",
     "text": [
      "EVAL: [2/3] Elapsed 0m 0s (remain 0m 0s) Loss: 0.2333(0.2463) \n",
      "Epoch: [11][0/19] Elapsed 0m 0s (remain 0m 2s) Loss: 0.1726(0.1726) Grad: 2.9504  LR: 0.000050  \n",
      "Epoch: [11][10/19] Elapsed 0m 1s (remain 0m 1s) Loss: 0.1248(0.1468) Grad: 11.1262  LR: 0.000050  \n",
      "Epoch: [11][18/19] Elapsed 0m 2s (remain 0m 0s) Loss: 0.1169(0.1396) Grad: 8.8999  LR: 0.000050  \n",
      "EVAL: [0/3] Elapsed 0m 0s (remain 0m 0s) Loss: 0.2610(0.2610) \n"
     ]
    },
    {
     "name": "stderr",
     "output_type": "stream",
     "text": [
      "Epoch 11 - avg_train_loss: 0.1396  avg_val_loss: 0.2392  time: 4s\n",
      "Epoch 11 - Score: 0.2409\n",
      "Epoch 11 - Save Best Score: 0.2409 Model\n"
     ]
    },
    {
     "name": "stdout",
     "output_type": "stream",
     "text": [
      "EVAL: [2/3] Elapsed 0m 0s (remain 0m 0s) Loss: 0.1804(0.2392) \n",
      "Epoch: [12][0/19] Elapsed 0m 0s (remain 0m 2s) Loss: 0.0742(0.0742) Grad: 4.0647  LR: 0.000224  \n",
      "Epoch: [12][10/19] Elapsed 0m 1s (remain 0m 1s) Loss: 0.1579(0.1245) Grad: 11.2403  LR: 0.000224  \n",
      "Epoch: [12][18/19] Elapsed 0m 2s (remain 0m 0s) Loss: 0.1266(0.1546) Grad: 4.0987  LR: 0.000224  \n",
      "EVAL: [0/3] Elapsed 0m 0s (remain 0m 0s) Loss: 0.3214(0.3214) \n"
     ]
    },
    {
     "name": "stderr",
     "output_type": "stream",
     "text": [
      "Epoch 12 - avg_train_loss: 0.1546  avg_val_loss: 0.3100  time: 4s\n",
      "Epoch 12 - Score: 0.3108\n"
     ]
    },
    {
     "name": "stdout",
     "output_type": "stream",
     "text": [
      "EVAL: [2/3] Elapsed 0m 0s (remain 0m 0s) Loss: 0.2621(0.3100) \n",
      "Epoch: [13][0/19] Elapsed 0m 0s (remain 0m 2s) Loss: 0.2539(0.2539) Grad: 22.3944  LR: 0.000133  \n",
      "Epoch: [13][10/19] Elapsed 0m 1s (remain 0m 1s) Loss: 0.2361(0.1900) Grad: 7.7678  LR: 0.000133  \n",
      "Epoch: [13][18/19] Elapsed 0m 2s (remain 0m 0s) Loss: 0.2274(0.2116) Grad: 16.5226  LR: 0.000133  \n",
      "EVAL: [0/3] Elapsed 0m 0s (remain 0m 0s) Loss: 0.2959(0.2959) \n"
     ]
    },
    {
     "name": "stderr",
     "output_type": "stream",
     "text": [
      "Epoch 13 - avg_train_loss: 0.2116  avg_val_loss: 0.2786  time: 4s\n",
      "Epoch 13 - Score: 0.2801\n"
     ]
    },
    {
     "name": "stdout",
     "output_type": "stream",
     "text": [
      "EVAL: [2/3] Elapsed 0m 0s (remain 0m 0s) Loss: 0.2156(0.2786) \n",
      "Epoch: [14][0/19] Elapsed 0m 0s (remain 0m 2s) Loss: 0.1768(0.1768) Grad: 17.5418  LR: 0.000057  \n",
      "Epoch: [14][10/19] Elapsed 0m 1s (remain 0m 1s) Loss: 0.1661(0.1855) Grad: 17.6212  LR: 0.000057  \n",
      "Epoch: [14][18/19] Elapsed 0m 2s (remain 0m 0s) Loss: 0.1613(0.1677) Grad: 10.8754  LR: 0.000057  \n",
      "EVAL: [0/3] Elapsed 0m 0s (remain 0m 0s) Loss: 0.2519(0.2519) \n"
     ]
    },
    {
     "name": "stderr",
     "output_type": "stream",
     "text": [
      "Epoch 14 - avg_train_loss: 0.1677  avg_val_loss: 0.2466  time: 4s\n",
      "Epoch 14 - Score: 0.2467\n"
     ]
    },
    {
     "name": "stdout",
     "output_type": "stream",
     "text": [
      "EVAL: [2/3] Elapsed 0m 0s (remain 0m 0s) Loss: 0.2372(0.2466) \n",
      "Epoch: [15][0/19] Elapsed 0m 0s (remain 0m 2s) Loss: 0.1294(0.1294) Grad: 7.1978  LR: 0.000009  \n",
      "Epoch: [15][10/19] Elapsed 0m 1s (remain 0m 1s) Loss: 0.1153(0.1222) Grad: 12.1147  LR: 0.000009  \n",
      "Epoch: [15][18/19] Elapsed 0m 2s (remain 0m 0s) Loss: 0.1060(0.1226) Grad: 12.1057  LR: 0.000009  \n",
      "EVAL: [0/3] Elapsed 0m 0s (remain 0m 0s) Loss: 0.2344(0.2344) \n"
     ]
    },
    {
     "name": "stderr",
     "output_type": "stream",
     "text": [
      "Epoch 15 - avg_train_loss: 0.1226  avg_val_loss: 0.2353  time: 4s\n",
      "Epoch 15 - Score: 0.2365\n",
      "Epoch 15 - Save Best Score: 0.2365 Model\n"
     ]
    },
    {
     "name": "stdout",
     "output_type": "stream",
     "text": [
      "EVAL: [2/3] Elapsed 0m 0s (remain 0m 0s) Loss: 0.1873(0.2353) \n",
      "Epoch: [16][0/19] Elapsed 0m 0s (remain 0m 2s) Loss: 0.1117(0.1117) Grad: 4.0962  LR: 0.000001  \n",
      "Epoch: [16][10/19] Elapsed 0m 1s (remain 0m 1s) Loss: 0.1261(0.1101) Grad: 4.6429  LR: 0.000001  \n",
      "Epoch: [16][18/19] Elapsed 0m 2s (remain 0m 0s) Loss: 0.1117(0.1039) Grad: 5.1391  LR: 0.000001  \n",
      "EVAL: [0/3] Elapsed 0m 0s (remain 0m 0s) Loss: 0.2383(0.2383) \n"
     ]
    },
    {
     "name": "stderr",
     "output_type": "stream",
     "text": [
      "Epoch 16 - avg_train_loss: 0.1039  avg_val_loss: 0.2305  time: 4s\n",
      "Epoch 16 - Score: 0.2311\n",
      "Epoch 16 - Save Best Score: 0.2311 Model\n"
     ]
    },
    {
     "name": "stdout",
     "output_type": "stream",
     "text": [
      "EVAL: [2/3] Elapsed 0m 0s (remain 0m 0s) Loss: 0.1938(0.2305) \n",
      "Epoch: [17][0/19] Elapsed 0m 0s (remain 0m 2s) Loss: 0.0976(0.0976) Grad: 4.6158  LR: 0.000050  \n",
      "Epoch: [17][10/19] Elapsed 0m 1s (remain 0m 1s) Loss: 0.1615(0.1139) Grad: 20.5641  LR: 0.000050  \n",
      "Epoch: [17][18/19] Elapsed 0m 2s (remain 0m 0s) Loss: 0.0743(0.1157) Grad: 13.9255  LR: 0.000050  \n",
      "EVAL: [0/3] Elapsed 0m 0s (remain 0m 0s) Loss: 0.2561(0.2561) \n"
     ]
    },
    {
     "name": "stderr",
     "output_type": "stream",
     "text": [
      "Epoch 17 - avg_train_loss: 0.1157  avg_val_loss: 0.2456  time: 3s\n",
      "Epoch 17 - Score: 0.2469\n"
     ]
    },
    {
     "name": "stdout",
     "output_type": "stream",
     "text": [
      "EVAL: [2/3] Elapsed 0m 0s (remain 0m 0s) Loss: 0.1891(0.2456) \n",
      "Epoch: [18][0/19] Elapsed 0m 0s (remain 0m 2s) Loss: 0.1160(0.1160) Grad: 7.5577  LR: 0.000224  \n",
      "Epoch: [18][10/19] Elapsed 0m 1s (remain 0m 1s) Loss: 0.3184(0.2218) Grad: 22.3614  LR: 0.000224  \n",
      "Epoch: [18][18/19] Elapsed 0m 2s (remain 0m 0s) Loss: 0.1540(0.2300) Grad: 7.2490  LR: 0.000224  \n",
      "EVAL: [0/3] Elapsed 0m 0s (remain 0m 0s) Loss: 0.3061(0.3061) \n"
     ]
    },
    {
     "name": "stderr",
     "output_type": "stream",
     "text": [
      "Epoch 18 - avg_train_loss: 0.2300  avg_val_loss: 0.2938  time: 3s\n",
      "Epoch 18 - Score: 0.2942\n"
     ]
    },
    {
     "name": "stdout",
     "output_type": "stream",
     "text": [
      "EVAL: [2/3] Elapsed 0m 0s (remain 0m 0s) Loss: 0.2663(0.2938) \n",
      "Epoch: [19][0/19] Elapsed 0m 0s (remain 0m 2s) Loss: 0.2333(0.2333) Grad: 20.9697  LR: 0.000133  \n",
      "Epoch: [19][10/19] Elapsed 0m 1s (remain 0m 1s) Loss: 0.1582(0.1723) Grad: 6.6253  LR: 0.000133  \n",
      "Epoch: [19][18/19] Elapsed 0m 2s (remain 0m 0s) Loss: 0.2533(0.1900) Grad: 22.5101  LR: 0.000133  \n",
      "EVAL: [0/3] Elapsed 0m 0s (remain 0m 0s) Loss: 0.2912(0.2912) \n"
     ]
    },
    {
     "name": "stderr",
     "output_type": "stream",
     "text": [
      "Epoch 19 - avg_train_loss: 0.1900  avg_val_loss: 0.2853  time: 3s\n",
      "Epoch 19 - Score: 0.2866\n"
     ]
    },
    {
     "name": "stdout",
     "output_type": "stream",
     "text": [
      "EVAL: [2/3] Elapsed 0m 0s (remain 0m 0s) Loss: 0.2272(0.2853) \n",
      "Epoch: [20][0/19] Elapsed 0m 0s (remain 0m 2s) Loss: 0.2191(0.2191) Grad: 15.9179  LR: 0.000057  \n",
      "Epoch: [20][10/19] Elapsed 0m 1s (remain 0m 1s) Loss: 0.1844(0.2029) Grad: 20.7121  LR: 0.000057  \n",
      "Epoch: [20][18/19] Elapsed 0m 2s (remain 0m 0s) Loss: 0.1110(0.1971) Grad: 4.2615  LR: 0.000057  \n",
      "EVAL: [0/3] Elapsed 0m 0s (remain 0m 0s) Loss: 0.2956(0.2956) \n"
     ]
    },
    {
     "name": "stderr",
     "output_type": "stream",
     "text": [
      "Epoch 20 - avg_train_loss: 0.1971  avg_val_loss: 0.2779  time: 4s\n",
      "Epoch 20 - Score: 0.2785\n"
     ]
    },
    {
     "name": "stdout",
     "output_type": "stream",
     "text": [
      "EVAL: [2/3] Elapsed 0m 0s (remain 0m 0s) Loss: 0.2428(0.2779) \n",
      "Epoch: [21][0/19] Elapsed 0m 0s (remain 0m 2s) Loss: 0.1873(0.1873) Grad: 14.4700  LR: 0.000009  \n",
      "Epoch: [21][10/19] Elapsed 0m 1s (remain 0m 1s) Loss: 0.1221(0.1469) Grad: 9.5630  LR: 0.000009  \n",
      "Epoch: [21][18/19] Elapsed 0m 2s (remain 0m 0s) Loss: 0.1254(0.1382) Grad: 7.7108  LR: 0.000009  \n",
      "EVAL: [0/3] Elapsed 0m 0s (remain 0m 0s) Loss: 0.2575(0.2575) \n"
     ]
    },
    {
     "name": "stderr",
     "output_type": "stream",
     "text": [
      "Epoch 21 - avg_train_loss: 0.1382  avg_val_loss: 0.2460  time: 4s\n",
      "Epoch 21 - Score: 0.2467\n"
     ]
    },
    {
     "name": "stdout",
     "output_type": "stream",
     "text": [
      "EVAL: [2/3] Elapsed 0m 0s (remain 0m 0s) Loss: 0.2029(0.2460) \n",
      "Epoch: [22][0/19] Elapsed 0m 0s (remain 0m 2s) Loss: 0.1449(0.1449) Grad: 8.3177  LR: 0.000001  \n",
      "Epoch: [22][10/19] Elapsed 0m 1s (remain 0m 1s) Loss: 0.0827(0.1158) Grad: 2.8925  LR: 0.000001  \n",
      "Epoch: [22][18/19] Elapsed 0m 2s (remain 0m 0s) Loss: 0.0837(0.1106) Grad: 8.1327  LR: 0.000001  \n",
      "EVAL: [0/3] Elapsed 0m 0s (remain 0m 0s) Loss: 0.2472(0.2472) \n"
     ]
    },
    {
     "name": "stderr",
     "output_type": "stream",
     "text": [
      "Epoch 22 - avg_train_loss: 0.1106  avg_val_loss: 0.2394  time: 3s\n",
      "Epoch 22 - Score: 0.2406\n"
     ]
    },
    {
     "name": "stdout",
     "output_type": "stream",
     "text": [
      "EVAL: [2/3] Elapsed 0m 0s (remain 0m 0s) Loss: 0.1864(0.2394) \n",
      "Epoch: [23][0/19] Elapsed 0m 0s (remain 0m 2s) Loss: 0.0813(0.0813) Grad: 10.6193  LR: 0.000050  \n",
      "Epoch: [23][10/19] Elapsed 0m 1s (remain 0m 1s) Loss: 0.1223(0.0971) Grad: 8.5083  LR: 0.000050  \n",
      "Epoch: [23][18/19] Elapsed 0m 2s (remain 0m 0s) Loss: 0.0687(0.0940) Grad: 2.4361  LR: 0.000050  \n",
      "EVAL: [0/3] Elapsed 0m 0s (remain 0m 0s) Loss: 0.2428(0.2428) \n"
     ]
    },
    {
     "name": "stderr",
     "output_type": "stream",
     "text": [
      "Epoch 23 - avg_train_loss: 0.0940  avg_val_loss: 0.2412  time: 3s\n",
      "Epoch 23 - Score: 0.2426\n"
     ]
    },
    {
     "name": "stdout",
     "output_type": "stream",
     "text": [
      "EVAL: [2/3] Elapsed 0m 0s (remain 0m 0s) Loss: 0.1869(0.2412) \n",
      "Epoch: [24][0/19] Elapsed 0m 0s (remain 0m 2s) Loss: 0.0705(0.0705) Grad: 5.8535  LR: 0.000224  \n",
      "Epoch: [24][10/19] Elapsed 0m 1s (remain 0m 1s) Loss: 0.1933(0.1249) Grad: 20.3159  LR: 0.000224  \n",
      "Epoch: [24][18/19] Elapsed 0m 2s (remain 0m 0s) Loss: 0.1414(0.1363) Grad: 20.0881  LR: 0.000224  \n",
      "EVAL: [0/3] Elapsed 0m 0s (remain 0m 0s) Loss: 0.2477(0.2477) \n"
     ]
    },
    {
     "name": "stderr",
     "output_type": "stream",
     "text": [
      "Epoch 24 - avg_train_loss: 0.1363  avg_val_loss: 0.2395  time: 3s\n",
      "Epoch 24 - Score: 0.2397\n"
     ]
    },
    {
     "name": "stdout",
     "output_type": "stream",
     "text": [
      "EVAL: [2/3] Elapsed 0m 0s (remain 0m 0s) Loss: 0.2235(0.2395) \n",
      "Epoch: [25][0/19] Elapsed 0m 0s (remain 0m 2s) Loss: 0.1544(0.1544) Grad: 9.0914  LR: 0.000133  \n",
      "Epoch: [25][10/19] Elapsed 0m 1s (remain 0m 1s) Loss: 0.1899(0.1456) Grad: 19.2059  LR: 0.000133  \n",
      "Epoch: [25][18/19] Elapsed 0m 2s (remain 0m 0s) Loss: 0.1059(0.1418) Grad: 10.0575  LR: 0.000133  \n",
      "EVAL: [0/3] Elapsed 0m 0s (remain 0m 0s) Loss: 0.2613(0.2613) \n"
     ]
    },
    {
     "name": "stderr",
     "output_type": "stream",
     "text": [
      "Epoch 25 - avg_train_loss: 0.1418  avg_val_loss: 0.2426  time: 3s\n",
      "Epoch 25 - Score: 0.2433\n"
     ]
    },
    {
     "name": "stdout",
     "output_type": "stream",
     "text": [
      "EVAL: [2/3] Elapsed 0m 0s (remain 0m 0s) Loss: 0.2100(0.2426) \n",
      "Epoch: [26][0/19] Elapsed 0m 0s (remain 0m 2s) Loss: 0.1368(0.1368) Grad: 15.5987  LR: 0.000057  \n",
      "Epoch: [26][10/19] Elapsed 0m 1s (remain 0m 1s) Loss: 0.1293(0.1480) Grad: 15.9133  LR: 0.000057  \n",
      "Epoch: [26][18/19] Elapsed 0m 2s (remain 0m 0s) Loss: 0.0948(0.1364) Grad: 3.1494  LR: 0.000057  \n",
      "EVAL: [0/3] Elapsed 0m 0s (remain 0m 0s) Loss: 0.2409(0.2409) \n"
     ]
    },
    {
     "name": "stderr",
     "output_type": "stream",
     "text": [
      "Epoch 26 - avg_train_loss: 0.1364  avg_val_loss: 0.2346  time: 4s\n",
      "Epoch 26 - Score: 0.2356\n"
     ]
    },
    {
     "name": "stdout",
     "output_type": "stream",
     "text": [
      "EVAL: [2/3] Elapsed 0m 0s (remain 0m 0s) Loss: 0.1868(0.2346) \n",
      "Epoch: [27][0/19] Elapsed 0m 0s (remain 0m 2s) Loss: 0.1020(0.1020) Grad: 5.5736  LR: 0.000009  \n",
      "Epoch: [27][10/19] Elapsed 0m 1s (remain 0m 1s) Loss: 0.1350(0.0968) Grad: 12.6034  LR: 0.000009  \n",
      "Epoch: [27][18/19] Elapsed 0m 2s (remain 0m 0s) Loss: 0.0975(0.1000) Grad: 10.9073  LR: 0.000009  \n",
      "EVAL: [0/3] Elapsed 0m 0s (remain 0m 0s) Loss: 0.2290(0.2290) \n"
     ]
    },
    {
     "name": "stderr",
     "output_type": "stream",
     "text": [
      "Epoch 27 - avg_train_loss: 0.1000  avg_val_loss: 0.2381  time: 3s\n",
      "Epoch 27 - Score: 0.2412\n"
     ]
    },
    {
     "name": "stdout",
     "output_type": "stream",
     "text": [
      "EVAL: [2/3] Elapsed 0m 0s (remain 0m 0s) Loss: 0.1675(0.2381) \n",
      "Epoch: [28][0/19] Elapsed 0m 0s (remain 0m 2s) Loss: 0.0620(0.0620) Grad: 4.3016  LR: 0.000001  \n",
      "Epoch: [28][10/19] Elapsed 0m 1s (remain 0m 1s) Loss: 0.0948(0.0841) Grad: 3.7991  LR: 0.000001  \n",
      "Epoch: [28][18/19] Elapsed 0m 2s (remain 0m 0s) Loss: 0.0864(0.0846) Grad: 3.3348  LR: 0.000001  \n",
      "EVAL: [0/3] Elapsed 0m 0s (remain 0m 0s) Loss: 0.2312(0.2312) \n"
     ]
    },
    {
     "name": "stderr",
     "output_type": "stream",
     "text": [
      "Epoch 28 - avg_train_loss: 0.0846  avg_val_loss: 0.2302  time: 4s\n",
      "Epoch 28 - Score: 0.2317\n"
     ]
    },
    {
     "name": "stdout",
     "output_type": "stream",
     "text": [
      "EVAL: [2/3] Elapsed 0m 0s (remain 0m 0s) Loss: 0.1761(0.2302) \n",
      "Epoch: [29][0/19] Elapsed 0m 0s (remain 0m 2s) Loss: 0.0916(0.0916) Grad: 4.4082  LR: 0.000050  \n",
      "Epoch: [29][10/19] Elapsed 0m 1s (remain 0m 1s) Loss: 0.0744(0.0882) Grad: 9.3840  LR: 0.000050  \n",
      "Epoch: [29][18/19] Elapsed 0m 2s (remain 0m 0s) Loss: 0.0951(0.0834) Grad: 3.6234  LR: 0.000050  \n",
      "EVAL: [0/3] Elapsed 0m 0s (remain 0m 0s) Loss: 0.2515(0.2515) \n"
     ]
    },
    {
     "name": "stderr",
     "output_type": "stream",
     "text": [
      "Epoch 29 - avg_train_loss: 0.0834  avg_val_loss: 0.2418  time: 4s\n",
      "Epoch 29 - Score: 0.2436\n"
     ]
    },
    {
     "name": "stdout",
     "output_type": "stream",
     "text": [
      "EVAL: [2/3] Elapsed 0m 0s (remain 0m 0s) Loss: 0.1761(0.2418) \n",
      "Epoch: [30][0/19] Elapsed 0m 0s (remain 0m 2s) Loss: 0.0694(0.0694) Grad: 15.1108  LR: 0.000224  \n",
      "Epoch: [30][10/19] Elapsed 0m 1s (remain 0m 1s) Loss: 0.1042(0.1129) Grad: 9.8025  LR: 0.000224  \n",
      "Epoch: [30][18/19] Elapsed 0m 2s (remain 0m 0s) Loss: 0.1948(0.1290) Grad: 18.8469  LR: 0.000224  \n",
      "EVAL: [0/3] Elapsed 0m 0s (remain 0m 0s) Loss: 0.2949(0.2949) \n"
     ]
    },
    {
     "name": "stderr",
     "output_type": "stream",
     "text": [
      "Epoch 30 - avg_train_loss: 0.1290  avg_val_loss: 0.2834  time: 4s\n",
      "Epoch 30 - Score: 0.2841\n"
     ]
    },
    {
     "name": "stdout",
     "output_type": "stream",
     "text": [
      "EVAL: [2/3] Elapsed 0m 0s (remain 0m 0s) Loss: 0.2407(0.2834) \n",
      "Epoch: [31][0/19] Elapsed 0m 0s (remain 0m 2s) Loss: 0.2020(0.2020) Grad: 20.7005  LR: 0.000133  \n",
      "Epoch: [31][10/19] Elapsed 0m 1s (remain 0m 1s) Loss: 0.1491(0.1863) Grad: 7.8409  LR: 0.000133  \n",
      "Epoch: [31][18/19] Elapsed 0m 2s (remain 0m 0s) Loss: 0.1287(0.1622) Grad: 2.9183  LR: 0.000133  \n",
      "EVAL: [0/3] Elapsed 0m 0s (remain 0m 0s) Loss: 0.2517(0.2517) \n"
     ]
    },
    {
     "name": "stderr",
     "output_type": "stream",
     "text": [
      "Epoch 31 - avg_train_loss: 0.1622  avg_val_loss: 0.2631  time: 4s\n",
      "Epoch 31 - Score: 0.2633\n"
     ]
    },
    {
     "name": "stdout",
     "output_type": "stream",
     "text": [
      "EVAL: [2/3] Elapsed 0m 0s (remain 0m 0s) Loss: 0.2592(0.2631) \n",
      "Epoch: [32][0/19] Elapsed 0m 0s (remain 0m 2s) Loss: 0.1272(0.1272) Grad: 6.7350  LR: 0.000057  \n",
      "Epoch: [32][10/19] Elapsed 0m 1s (remain 0m 1s) Loss: 0.1415(0.1425) Grad: 15.8529  LR: 0.000057  \n",
      "Epoch: [32][18/19] Elapsed 0m 2s (remain 0m 0s) Loss: 0.0942(0.1303) Grad: 2.9634  LR: 0.000057  \n",
      "EVAL: [0/3] Elapsed 0m 0s (remain 0m 0s) Loss: 0.2544(0.2544) \n"
     ]
    },
    {
     "name": "stderr",
     "output_type": "stream",
     "text": [
      "Epoch 32 - avg_train_loss: 0.1303  avg_val_loss: 0.2430  time: 3s\n",
      "Epoch 32 - Score: 0.2435\n"
     ]
    },
    {
     "name": "stdout",
     "output_type": "stream",
     "text": [
      "EVAL: [2/3] Elapsed 0m 0s (remain 0m 0s) Loss: 0.2087(0.2430) \n",
      "Epoch: [33][0/19] Elapsed 0m 0s (remain 0m 2s) Loss: 0.1146(0.1146) Grad: 14.6435  LR: 0.000009  \n",
      "Epoch: [33][10/19] Elapsed 0m 1s (remain 0m 1s) Loss: 0.1105(0.1081) Grad: 6.9184  LR: 0.000009  \n",
      "Epoch: [33][18/19] Elapsed 0m 2s (remain 0m 0s) Loss: 0.0850(0.0984) Grad: 3.2635  LR: 0.000009  \n",
      "EVAL: [0/3] Elapsed 0m 0s (remain 0m 0s) Loss: 0.2259(0.2259) \n"
     ]
    },
    {
     "name": "stderr",
     "output_type": "stream",
     "text": [
      "Epoch 33 - avg_train_loss: 0.0984  avg_val_loss: 0.2292  time: 3s\n",
      "Epoch 33 - Score: 0.2295\n",
      "Epoch 33 - Save Best Score: 0.2295 Model\n"
     ]
    },
    {
     "name": "stdout",
     "output_type": "stream",
     "text": [
      "EVAL: [2/3] Elapsed 0m 0s (remain 0m 0s) Loss: 0.2085(0.2292) \n",
      "Epoch: [34][0/19] Elapsed 0m 0s (remain 0m 2s) Loss: 0.0807(0.0807) Grad: 3.2271  LR: 0.000001  \n",
      "Epoch: [34][10/19] Elapsed 0m 1s (remain 0m 1s) Loss: 0.0599(0.0819) Grad: 5.0729  LR: 0.000001  \n",
      "Epoch: [34][18/19] Elapsed 0m 2s (remain 0m 0s) Loss: 0.0928(0.0808) Grad: 6.7433  LR: 0.000001  \n",
      "EVAL: [0/3] Elapsed 0m 0s (remain 0m 0s) Loss: 0.2324(0.2324) \n"
     ]
    },
    {
     "name": "stderr",
     "output_type": "stream",
     "text": [
      "Epoch 34 - avg_train_loss: 0.0808  avg_val_loss: 0.2226  time: 3s\n",
      "Epoch 34 - Score: 0.2239\n",
      "Epoch 34 - Save Best Score: 0.2239 Model\n"
     ]
    },
    {
     "name": "stdout",
     "output_type": "stream",
     "text": [
      "EVAL: [2/3] Elapsed 0m 0s (remain 0m 0s) Loss: 0.1676(0.2226) \n",
      "Epoch: [35][0/19] Elapsed 0m 0s (remain 0m 2s) Loss: 0.0679(0.0679) Grad: 2.7243  LR: 0.000050  \n",
      "Epoch: [35][10/19] Elapsed 0m 1s (remain 0m 1s) Loss: 0.1021(0.0849) Grad: 12.3392  LR: 0.000050  \n",
      "Epoch: [35][18/19] Elapsed 0m 2s (remain 0m 0s) Loss: 0.0768(0.0875) Grad: 2.3607  LR: 0.000050  \n",
      "EVAL: [0/3] Elapsed 0m 0s (remain 0m 0s) Loss: 0.2289(0.2289) \n"
     ]
    },
    {
     "name": "stderr",
     "output_type": "stream",
     "text": [
      "Epoch 35 - avg_train_loss: 0.0875  avg_val_loss: 0.2283  time: 4s\n",
      "Epoch 35 - Score: 0.2291\n"
     ]
    },
    {
     "name": "stdout",
     "output_type": "stream",
     "text": [
      "EVAL: [2/3] Elapsed 0m 0s (remain 0m 0s) Loss: 0.1879(0.2283) \n",
      "Epoch: [36][0/19] Elapsed 0m 0s (remain 0m 2s) Loss: 0.0679(0.0679) Grad: 3.4978  LR: 0.000224  \n",
      "Epoch: [36][10/19] Elapsed 0m 1s (remain 0m 1s) Loss: 0.0751(0.1009) Grad: 3.3815  LR: 0.000224  \n",
      "Epoch: [36][18/19] Elapsed 0m 2s (remain 0m 0s) Loss: 0.1262(0.1072) Grad: 19.1143  LR: 0.000224  \n",
      "EVAL: [0/3] Elapsed 0m 0s (remain 0m 0s) Loss: 0.2400(0.2400) \n"
     ]
    },
    {
     "name": "stderr",
     "output_type": "stream",
     "text": [
      "Epoch 36 - avg_train_loss: 0.1072  avg_val_loss: 0.2274  time: 4s\n",
      "Epoch 36 - Score: 0.2278\n"
     ]
    },
    {
     "name": "stdout",
     "output_type": "stream",
     "text": [
      "EVAL: [2/3] Elapsed 0m 0s (remain 0m 0s) Loss: 0.2012(0.2274) \n",
      "Epoch: [37][0/19] Elapsed 0m 0s (remain 0m 2s) Loss: 0.1279(0.1279) Grad: 8.8857  LR: 0.000133  \n",
      "Epoch: [37][10/19] Elapsed 0m 1s (remain 0m 1s) Loss: 0.0982(0.1640) Grad: 3.1349  LR: 0.000133  \n",
      "Epoch: [37][18/19] Elapsed 0m 2s (remain 0m 0s) Loss: 0.3668(0.2067) Grad: 21.0563  LR: 0.000133  \n",
      "EVAL: [0/3] Elapsed 0m 0s (remain 0m 0s) Loss: 0.3229(0.3229) \n"
     ]
    },
    {
     "name": "stderr",
     "output_type": "stream",
     "text": [
      "Epoch 37 - avg_train_loss: 0.2067  avg_val_loss: 0.2935  time: 3s\n",
      "Epoch 37 - Score: 0.2947\n"
     ]
    },
    {
     "name": "stdout",
     "output_type": "stream",
     "text": [
      "EVAL: [2/3] Elapsed 0m 0s (remain 0m 0s) Loss: 0.2586(0.2935) \n",
      "Epoch: [38][0/19] Elapsed 0m 0s (remain 0m 2s) Loss: 0.2310(0.2310) Grad: 19.3246  LR: 0.000057  \n",
      "Epoch: [38][10/19] Elapsed 0m 1s (remain 0m 1s) Loss: 0.1404(0.1663) Grad: 10.4765  LR: 0.000057  \n",
      "Epoch: [38][18/19] Elapsed 0m 2s (remain 0m 0s) Loss: 0.1285(0.1544) Grad: 4.9598  LR: 0.000057  \n",
      "EVAL: [0/3] Elapsed 0m 0s (remain 0m 0s) Loss: 0.2556(0.2556) \n"
     ]
    },
    {
     "name": "stderr",
     "output_type": "stream",
     "text": [
      "Epoch 38 - avg_train_loss: 0.1544  avg_val_loss: 0.2418  time: 4s\n",
      "Epoch 38 - Score: 0.2442\n"
     ]
    },
    {
     "name": "stdout",
     "output_type": "stream",
     "text": [
      "EVAL: [2/3] Elapsed 0m 0s (remain 0m 0s) Loss: 0.1653(0.2418) \n",
      "Epoch: [39][0/19] Elapsed 0m 0s (remain 0m 2s) Loss: 0.1329(0.1329) Grad: 13.7653  LR: 0.000009  \n",
      "Epoch: [39][10/19] Elapsed 0m 1s (remain 0m 1s) Loss: 0.0910(0.1018) Grad: 7.2161  LR: 0.000009  \n",
      "Epoch: [39][18/19] Elapsed 0m 2s (remain 0m 0s) Loss: 0.0736(0.0963) Grad: 4.4562  LR: 0.000009  \n",
      "EVAL: [0/3] Elapsed 0m 0s (remain 0m 0s) Loss: 0.2343(0.2343) \n"
     ]
    },
    {
     "name": "stderr",
     "output_type": "stream",
     "text": [
      "Epoch 39 - avg_train_loss: 0.0963  avg_val_loss: 0.2278  time: 4s\n",
      "Epoch 39 - Score: 0.2284\n"
     ]
    },
    {
     "name": "stdout",
     "output_type": "stream",
     "text": [
      "EVAL: [2/3] Elapsed 0m 0s (remain 0m 0s) Loss: 0.1899(0.2278) \n",
      "Epoch: [40][0/19] Elapsed 0m 0s (remain 0m 2s) Loss: 0.0651(0.0651) Grad: 7.3225  LR: 0.000001  \n",
      "Epoch: [40][10/19] Elapsed 0m 1s (remain 0m 1s) Loss: 0.0764(0.0836) Grad: 5.2819  LR: 0.000001  \n",
      "Epoch: [40][18/19] Elapsed 0m 2s (remain 0m 0s) Loss: 0.0736(0.0796) Grad: 6.2098  LR: 0.000001  \n",
      "EVAL: [0/3] Elapsed 0m 0s (remain 0m 0s) Loss: 0.2237(0.2237) \n"
     ]
    },
    {
     "name": "stderr",
     "output_type": "stream",
     "text": [
      "Epoch 40 - avg_train_loss: 0.0796  avg_val_loss: 0.2254  time: 4s\n",
      "Epoch 40 - Score: 0.2255\n",
      "========== fold: 4 result ==========\n",
      "Score: 0.2239\n",
      "========== CV ==========\n",
      "Score: 0.2103\n",
      "========== seed51 ==========\n"
     ]
    },
    {
     "name": "stdout",
     "output_type": "stream",
     "text": [
      "EVAL: [2/3] Elapsed 0m 0s (remain 0m 0s) Loss: 0.2125(0.2254) \n"
     ]
    },
    {
     "name": "stderr",
     "output_type": "stream",
     "text": [
      "========== fold: 0 training ==========\n"
     ]
    },
    {
     "name": "stdout",
     "output_type": "stream",
     "text": [
      "Epoch: [1][0/19] Elapsed 0m 0s (remain 0m 2s) Loss: 3.0514(3.0514) Grad: 25.6881  LR: 0.000100  \n",
      "Epoch: [1][10/19] Elapsed 0m 1s (remain 0m 1s) Loss: 0.4462(1.1860) Grad: 10.1661  LR: 0.000100  \n",
      "Epoch: [1][18/19] Elapsed 0m 2s (remain 0m 0s) Loss: 0.4472(0.8958) Grad: 19.9854  LR: 0.000100  \n",
      "EVAL: [0/3] Elapsed 0m 0s (remain 0m 0s) Loss: 0.4656(0.4656) \n"
     ]
    },
    {
     "name": "stderr",
     "output_type": "stream",
     "text": [
      "Epoch 1 - avg_train_loss: 0.8958  avg_val_loss: 0.4287  time: 4s\n",
      "Epoch 1 - Score: 0.4300\n",
      "Epoch 1 - Save Best Score: 0.4300 Model\n"
     ]
    },
    {
     "name": "stdout",
     "output_type": "stream",
     "text": [
      "EVAL: [2/3] Elapsed 0m 0s (remain 0m 0s) Loss: 0.3758(0.4287) \n",
      "Epoch: [2][0/19] Elapsed 0m 0s (remain 0m 2s) Loss: 0.4009(0.4009) Grad: 18.3291  LR: 0.000057  \n",
      "Epoch: [2][10/19] Elapsed 0m 1s (remain 0m 1s) Loss: 0.3424(0.3974) Grad: 10.1154  LR: 0.000057  \n",
      "Epoch: [2][18/19] Elapsed 0m 2s (remain 0m 0s) Loss: 0.3203(0.3916) Grad: 5.9167  LR: 0.000057  \n",
      "EVAL: [0/3] Elapsed 0m 0s (remain 0m 0s) Loss: 0.4028(0.4028) \n"
     ]
    },
    {
     "name": "stderr",
     "output_type": "stream",
     "text": [
      "Epoch 2 - avg_train_loss: 0.3916  avg_val_loss: 0.3930  time: 3s\n",
      "Epoch 2 - Score: 0.3933\n",
      "Epoch 2 - Save Best Score: 0.3933 Model\n"
     ]
    },
    {
     "name": "stdout",
     "output_type": "stream",
     "text": [
      "EVAL: [2/3] Elapsed 0m 0s (remain 0m 0s) Loss: 0.4150(0.3930) \n",
      "Epoch: [3][0/19] Elapsed 0m 0s (remain 0m 1s) Loss: 0.3619(0.3619) Grad: 22.3910  LR: 0.000009  \n",
      "Epoch: [3][10/19] Elapsed 0m 1s (remain 0m 1s) Loss: 0.2553(0.2784) Grad: 8.1719  LR: 0.000009  \n",
      "Epoch: [3][18/19] Elapsed 0m 2s (remain 0m 0s) Loss: 0.3235(0.2642) Grad: 18.7569  LR: 0.000009  \n",
      "EVAL: [0/3] Elapsed 0m 0s (remain 0m 0s) Loss: 0.3023(0.3023) \n"
     ]
    },
    {
     "name": "stderr",
     "output_type": "stream",
     "text": [
      "Epoch 3 - avg_train_loss: 0.2642  avg_val_loss: 0.2971  time: 4s\n",
      "Epoch 3 - Score: 0.2979\n",
      "Epoch 3 - Save Best Score: 0.2979 Model\n"
     ]
    },
    {
     "name": "stdout",
     "output_type": "stream",
     "text": [
      "EVAL: [2/3] Elapsed 0m 0s (remain 0m 0s) Loss: 0.3350(0.2971) \n",
      "Epoch: [4][0/19] Elapsed 0m 0s (remain 0m 2s) Loss: 0.2780(0.2780) Grad: 19.7947  LR: 0.000001  \n",
      "Epoch: [4][10/19] Elapsed 0m 1s (remain 0m 1s) Loss: 0.2339(0.2329) Grad: 3.6141  LR: 0.000001  \n",
      "Epoch: [4][18/19] Elapsed 0m 2s (remain 0m 0s) Loss: 0.2503(0.2293) Grad: 5.1896  LR: 0.000001  \n",
      "EVAL: [0/3] Elapsed 0m 0s (remain 0m 0s) Loss: 0.2849(0.2849) \n"
     ]
    },
    {
     "name": "stderr",
     "output_type": "stream",
     "text": [
      "Epoch 4 - avg_train_loss: 0.2293  avg_val_loss: 0.2795  time: 3s\n",
      "Epoch 4 - Score: 0.2796\n",
      "Epoch 4 - Save Best Score: 0.2796 Model\n"
     ]
    },
    {
     "name": "stdout",
     "output_type": "stream",
     "text": [
      "EVAL: [2/3] Elapsed 0m 0s (remain 0m 0s) Loss: 0.2905(0.2795) \n",
      "Epoch: [5][0/19] Elapsed 0m 0s (remain 0m 2s) Loss: 0.2342(0.2342) Grad: 6.8989  LR: 0.000050  \n",
      "Epoch: [5][10/19] Elapsed 0m 1s (remain 0m 1s) Loss: 0.2491(0.1975) Grad: 11.4219  LR: 0.000050  \n",
      "Epoch: [5][18/19] Elapsed 0m 2s (remain 0m 0s) Loss: 0.2548(0.2095) Grad: 17.5176  LR: 0.000050  \n",
      "EVAL: [0/3] Elapsed 0m 0s (remain 0m 0s) Loss: 0.2625(0.2625) \n"
     ]
    },
    {
     "name": "stderr",
     "output_type": "stream",
     "text": [
      "Epoch 5 - avg_train_loss: 0.2095  avg_val_loss: 0.2795  time: 4s\n",
      "Epoch 5 - Score: 0.2801\n"
     ]
    },
    {
     "name": "stdout",
     "output_type": "stream",
     "text": [
      "EVAL: [2/3] Elapsed 0m 0s (remain 0m 0s) Loss: 0.3173(0.2795) \n",
      "Epoch: [6][0/19] Elapsed 0m 0s (remain 0m 2s) Loss: 0.2504(0.2504) Grad: 14.2105  LR: 0.000224  \n",
      "Epoch: [6][10/19] Elapsed 0m 1s (remain 0m 1s) Loss: 0.3057(0.2553) Grad: 20.9013  LR: 0.000224  \n",
      "Epoch: [6][18/19] Elapsed 0m 2s (remain 0m 0s) Loss: 0.3555(0.2791) Grad: 30.2396  LR: 0.000224  \n",
      "EVAL: [0/3] Elapsed 0m 0s (remain 0m 0s) Loss: 0.3824(0.3824) \n"
     ]
    },
    {
     "name": "stderr",
     "output_type": "stream",
     "text": [
      "Epoch 6 - avg_train_loss: 0.2791  avg_val_loss: 0.3767  time: 4s\n",
      "Epoch 6 - Score: 0.3771\n"
     ]
    },
    {
     "name": "stdout",
     "output_type": "stream",
     "text": [
      "EVAL: [2/3] Elapsed 0m 0s (remain 0m 0s) Loss: 0.3430(0.3767) \n",
      "Epoch: [7][0/19] Elapsed 0m 0s (remain 0m 2s) Loss: 0.3248(0.3248) Grad: 26.7321  LR: 0.000133  \n",
      "Epoch: [7][10/19] Elapsed 0m 1s (remain 0m 1s) Loss: 0.4185(0.3360) Grad: 24.2084  LR: 0.000133  \n",
      "Epoch: [7][18/19] Elapsed 0m 2s (remain 0m 0s) Loss: 0.3580(0.3337) Grad: 18.9225  LR: 0.000133  \n",
      "EVAL: [0/3] Elapsed 0m 0s (remain 0m 0s) Loss: 0.2995(0.2995) \n"
     ]
    },
    {
     "name": "stderr",
     "output_type": "stream",
     "text": [
      "Epoch 7 - avg_train_loss: 0.3337  avg_val_loss: 0.2809  time: 4s\n",
      "Epoch 7 - Score: 0.2817\n"
     ]
    },
    {
     "name": "stdout",
     "output_type": "stream",
     "text": [
      "EVAL: [2/3] Elapsed 0m 0s (remain 0m 0s) Loss: 0.2969(0.2809) \n",
      "Epoch: [8][0/19] Elapsed 0m 0s (remain 0m 2s) Loss: 0.2144(0.2144) Grad: 4.8299  LR: 0.000057  \n",
      "Epoch: [8][10/19] Elapsed 0m 1s (remain 0m 1s) Loss: 0.2562(0.2413) Grad: 9.6963  LR: 0.000057  \n",
      "Epoch: [8][18/19] Elapsed 0m 2s (remain 0m 0s) Loss: 0.3185(0.2527) Grad: 19.6131  LR: 0.000057  \n",
      "EVAL: [0/3] Elapsed 0m 0s (remain 0m 0s) Loss: 0.3445(0.3445) \n"
     ]
    },
    {
     "name": "stderr",
     "output_type": "stream",
     "text": [
      "Epoch 8 - avg_train_loss: 0.2527  avg_val_loss: 0.3149  time: 4s\n",
      "Epoch 8 - Score: 0.3169\n"
     ]
    },
    {
     "name": "stdout",
     "output_type": "stream",
     "text": [
      "EVAL: [2/3] Elapsed 0m 0s (remain 0m 0s) Loss: 0.3460(0.3149) \n",
      "Epoch: [9][0/19] Elapsed 0m 0s (remain 0m 2s) Loss: 0.2467(0.2467) Grad: 21.6336  LR: 0.000009  \n",
      "Epoch: [9][10/19] Elapsed 0m 1s (remain 0m 1s) Loss: 0.2043(0.2118) Grad: 21.6436  LR: 0.000009  \n",
      "Epoch: [9][18/19] Elapsed 0m 2s (remain 0m 0s) Loss: 0.1568(0.1992) Grad: 10.2239  LR: 0.000009  \n",
      "EVAL: [0/3] Elapsed 0m 0s (remain 0m 0s) Loss: 0.2263(0.2263) \n"
     ]
    },
    {
     "name": "stderr",
     "output_type": "stream",
     "text": [
      "Epoch 9 - avg_train_loss: 0.1992  avg_val_loss: 0.2254  time: 4s\n",
      "Epoch 9 - Score: 0.2256\n",
      "Epoch 9 - Save Best Score: 0.2256 Model\n"
     ]
    },
    {
     "name": "stdout",
     "output_type": "stream",
     "text": [
      "EVAL: [2/3] Elapsed 0m 0s (remain 0m 0s) Loss: 0.2465(0.2254) \n",
      "Epoch: [10][0/19] Elapsed 0m 0s (remain 0m 2s) Loss: 0.1844(0.1844) Grad: 4.9398  LR: 0.000001  \n",
      "Epoch: [10][10/19] Elapsed 0m 1s (remain 0m 1s) Loss: 0.1455(0.1586) Grad: 5.9175  LR: 0.000001  \n",
      "Epoch: [10][18/19] Elapsed 0m 2s (remain 0m 0s) Loss: 0.1707(0.1526) Grad: 4.0318  LR: 0.000001  \n",
      "EVAL: [0/3] Elapsed 0m 0s (remain 0m 0s) Loss: 0.2450(0.2450) \n"
     ]
    },
    {
     "name": "stderr",
     "output_type": "stream",
     "text": [
      "Epoch 10 - avg_train_loss: 0.1526  avg_val_loss: 0.2249  time: 4s\n",
      "Epoch 10 - Score: 0.2257\n"
     ]
    },
    {
     "name": "stdout",
     "output_type": "stream",
     "text": [
      "EVAL: [2/3] Elapsed 0m 0s (remain 0m 0s) Loss: 0.2245(0.2249) \n",
      "Epoch: [11][0/19] Elapsed 0m 0s (remain 0m 2s) Loss: 0.1199(0.1199) Grad: 4.3635  LR: 0.000050  \n",
      "Epoch: [11][10/19] Elapsed 0m 1s (remain 0m 1s) Loss: 0.1477(0.1524) Grad: 8.8885  LR: 0.000050  \n",
      "Epoch: [11][18/19] Elapsed 0m 2s (remain 0m 0s) Loss: 0.1399(0.1466) Grad: 15.2033  LR: 0.000050  \n",
      "EVAL: [0/3] Elapsed 0m 0s (remain 0m 0s) Loss: 0.2380(0.2380) \n"
     ]
    },
    {
     "name": "stderr",
     "output_type": "stream",
     "text": [
      "Epoch 11 - avg_train_loss: 0.1466  avg_val_loss: 0.2177  time: 4s\n",
      "Epoch 11 - Score: 0.2186\n",
      "Epoch 11 - Save Best Score: 0.2186 Model\n"
     ]
    },
    {
     "name": "stdout",
     "output_type": "stream",
     "text": [
      "EVAL: [2/3] Elapsed 0m 0s (remain 0m 0s) Loss: 0.2238(0.2177) \n",
      "Epoch: [12][0/19] Elapsed 0m 0s (remain 0m 2s) Loss: 0.1654(0.1654) Grad: 7.1803  LR: 0.000224  \n",
      "Epoch: [12][10/19] Elapsed 0m 1s (remain 0m 1s) Loss: 0.1889(0.2042) Grad: 16.8983  LR: 0.000224  \n",
      "Epoch: [12][18/19] Elapsed 0m 2s (remain 0m 0s) Loss: 0.1706(0.1982) Grad: 18.7624  LR: 0.000224  \n",
      "EVAL: [0/3] Elapsed 0m 0s (remain 0m 0s) Loss: 0.2126(0.2126) \n"
     ]
    },
    {
     "name": "stderr",
     "output_type": "stream",
     "text": [
      "Epoch 12 - avg_train_loss: 0.1982  avg_val_loss: 0.2082  time: 3s\n",
      "Epoch 12 - Score: 0.2087\n",
      "Epoch 12 - Save Best Score: 0.2087 Model\n"
     ]
    },
    {
     "name": "stdout",
     "output_type": "stream",
     "text": [
      "EVAL: [2/3] Elapsed 0m 0s (remain 0m 0s) Loss: 0.2333(0.2082) \n",
      "Epoch: [13][0/19] Elapsed 0m 0s (remain 0m 2s) Loss: 0.1242(0.1242) Grad: 3.6364  LR: 0.000133  \n",
      "Epoch: [13][10/19] Elapsed 0m 1s (remain 0m 1s) Loss: 0.2226(0.1884) Grad: 20.2690  LR: 0.000133  \n",
      "Epoch: [13][18/19] Elapsed 0m 2s (remain 0m 0s) Loss: 0.2776(0.1969) Grad: 14.5014  LR: 0.000133  \n",
      "EVAL: [0/3] Elapsed 0m 0s (remain 0m 0s) Loss: 0.2699(0.2699) \n"
     ]
    },
    {
     "name": "stderr",
     "output_type": "stream",
     "text": [
      "Epoch 13 - avg_train_loss: 0.1969  avg_val_loss: 0.2554  time: 4s\n",
      "Epoch 13 - Score: 0.2559\n"
     ]
    },
    {
     "name": "stdout",
     "output_type": "stream",
     "text": [
      "EVAL: [2/3] Elapsed 0m 0s (remain 0m 0s) Loss: 0.2663(0.2554) \n",
      "Epoch: [14][0/19] Elapsed 0m 0s (remain 0m 2s) Loss: 0.1719(0.1719) Grad: 4.0715  LR: 0.000057  \n",
      "Epoch: [14][10/19] Elapsed 0m 1s (remain 0m 1s) Loss: 0.2356(0.1926) Grad: 15.1676  LR: 0.000057  \n",
      "Epoch: [14][18/19] Elapsed 0m 2s (remain 0m 0s) Loss: 0.2355(0.1836) Grad: 22.0333  LR: 0.000057  \n",
      "EVAL: [0/3] Elapsed 0m 0s (remain 0m 0s) Loss: 0.2362(0.2362) \n"
     ]
    },
    {
     "name": "stderr",
     "output_type": "stream",
     "text": [
      "Epoch 14 - avg_train_loss: 0.1836  avg_val_loss: 0.2294  time: 4s\n",
      "Epoch 14 - Score: 0.2312\n"
     ]
    },
    {
     "name": "stdout",
     "output_type": "stream",
     "text": [
      "EVAL: [2/3] Elapsed 0m 0s (remain 0m 0s) Loss: 0.2820(0.2294) \n",
      "Epoch: [15][0/19] Elapsed 0m 0s (remain 0m 2s) Loss: 0.1380(0.1380) Grad: 10.6891  LR: 0.000009  \n",
      "Epoch: [15][10/19] Elapsed 0m 1s (remain 0m 1s) Loss: 0.1379(0.1375) Grad: 3.1975  LR: 0.000009  \n",
      "Epoch: [15][18/19] Elapsed 0m 2s (remain 0m 0s) Loss: 0.1235(0.1305) Grad: 4.6135  LR: 0.000009  \n",
      "EVAL: [0/3] Elapsed 0m 0s (remain 0m 0s) Loss: 0.2202(0.2202) \n"
     ]
    },
    {
     "name": "stderr",
     "output_type": "stream",
     "text": [
      "Epoch 15 - avg_train_loss: 0.1305  avg_val_loss: 0.2180  time: 3s\n",
      "Epoch 15 - Score: 0.2202\n"
     ]
    },
    {
     "name": "stdout",
     "output_type": "stream",
     "text": [
      "EVAL: [2/3] Elapsed 0m 0s (remain 0m 0s) Loss: 0.2804(0.2180) \n",
      "Epoch: [16][0/19] Elapsed 0m 0s (remain 0m 2s) Loss: 0.0936(0.0936) Grad: 5.6818  LR: 0.000001  \n",
      "Epoch: [16][10/19] Elapsed 0m 1s (remain 0m 1s) Loss: 0.1083(0.1080) Grad: 9.4487  LR: 0.000001  \n",
      "Epoch: [16][18/19] Elapsed 0m 2s (remain 0m 0s) Loss: 0.0971(0.1060) Grad: 3.9778  LR: 0.000001  \n",
      "EVAL: [0/3] Elapsed 0m 0s (remain 0m 0s) Loss: 0.2202(0.2202) \n"
     ]
    },
    {
     "name": "stderr",
     "output_type": "stream",
     "text": [
      "Epoch 16 - avg_train_loss: 0.1060  avg_val_loss: 0.2061  time: 3s\n",
      "Epoch 16 - Score: 0.2088\n"
     ]
    },
    {
     "name": "stdout",
     "output_type": "stream",
     "text": [
      "EVAL: [2/3] Elapsed 0m 0s (remain 0m 0s) Loss: 0.2598(0.2061) \n",
      "Epoch: [17][0/19] Elapsed 0m 0s (remain 0m 2s) Loss: 0.0888(0.0888) Grad: 10.6600  LR: 0.000050  \n",
      "Epoch: [17][10/19] Elapsed 0m 1s (remain 0m 1s) Loss: 0.1142(0.1100) Grad: 2.9081  LR: 0.000050  \n",
      "Epoch: [17][18/19] Elapsed 0m 2s (remain 0m 0s) Loss: 0.1041(0.1100) Grad: 10.1532  LR: 0.000050  \n",
      "EVAL: [0/3] Elapsed 0m 0s (remain 0m 0s) Loss: 0.2148(0.2148) \n"
     ]
    },
    {
     "name": "stderr",
     "output_type": "stream",
     "text": [
      "Epoch 17 - avg_train_loss: 0.1100  avg_val_loss: 0.2008  time: 3s\n",
      "Epoch 17 - Score: 0.2040\n",
      "Epoch 17 - Save Best Score: 0.2040 Model\n"
     ]
    },
    {
     "name": "stdout",
     "output_type": "stream",
     "text": [
      "EVAL: [2/3] Elapsed 0m 0s (remain 0m 0s) Loss: 0.2599(0.2008) \n",
      "Epoch: [18][0/19] Elapsed 0m 0s (remain 0m 2s) Loss: 0.1077(0.1077) Grad: 5.3944  LR: 0.000224  \n",
      "Epoch: [18][10/19] Elapsed 0m 1s (remain 0m 1s) Loss: 0.1325(0.1311) Grad: 20.1997  LR: 0.000224  \n",
      "Epoch: [18][18/19] Elapsed 0m 2s (remain 0m 0s) Loss: 0.1119(0.1330) Grad: 8.3073  LR: 0.000224  \n",
      "EVAL: [0/3] Elapsed 0m 0s (remain 0m 0s) Loss: 0.1989(0.1989) \n"
     ]
    },
    {
     "name": "stderr",
     "output_type": "stream",
     "text": [
      "Epoch 18 - avg_train_loss: 0.1330  avg_val_loss: 0.2265  time: 3s\n",
      "Epoch 18 - Score: 0.2290\n"
     ]
    },
    {
     "name": "stdout",
     "output_type": "stream",
     "text": [
      "EVAL: [2/3] Elapsed 0m 0s (remain 0m 0s) Loss: 0.2971(0.2265) \n",
      "Epoch: [19][0/19] Elapsed 0m 0s (remain 0m 2s) Loss: 0.1305(0.1305) Grad: 3.4554  LR: 0.000133  \n",
      "Epoch: [19][10/19] Elapsed 0m 1s (remain 0m 1s) Loss: 0.1745(0.1564) Grad: 3.6359  LR: 0.000133  \n",
      "Epoch: [19][18/19] Elapsed 0m 2s (remain 0m 0s) Loss: 0.3277(0.1830) Grad: 25.8106  LR: 0.000133  \n",
      "EVAL: [0/3] Elapsed 0m 0s (remain 0m 0s) Loss: 0.3011(0.3011) \n"
     ]
    },
    {
     "name": "stderr",
     "output_type": "stream",
     "text": [
      "Epoch 19 - avg_train_loss: 0.1830  avg_val_loss: 0.2816  time: 3s\n",
      "Epoch 19 - Score: 0.2825\n"
     ]
    },
    {
     "name": "stdout",
     "output_type": "stream",
     "text": [
      "EVAL: [2/3] Elapsed 0m 0s (remain 0m 0s) Loss: 0.2990(0.2816) \n",
      "Epoch: [20][0/19] Elapsed 0m 0s (remain 0m 2s) Loss: 0.2191(0.2191) Grad: 19.3059  LR: 0.000057  \n",
      "Epoch: [20][10/19] Elapsed 0m 1s (remain 0m 1s) Loss: 0.1903(0.2230) Grad: 15.5215  LR: 0.000057  \n",
      "Epoch: [20][18/19] Elapsed 0m 2s (remain 0m 0s) Loss: 0.1144(0.2078) Grad: 2.6232  LR: 0.000057  \n",
      "EVAL: [0/3] Elapsed 0m 0s (remain 0m 0s) Loss: 0.2448(0.2448) \n"
     ]
    },
    {
     "name": "stderr",
     "output_type": "stream",
     "text": [
      "Epoch 20 - avg_train_loss: 0.2078  avg_val_loss: 0.2471  time: 4s\n",
      "Epoch 20 - Score: 0.2474\n"
     ]
    },
    {
     "name": "stdout",
     "output_type": "stream",
     "text": [
      "EVAL: [2/3] Elapsed 0m 0s (remain 0m 0s) Loss: 0.2738(0.2471) \n",
      "Epoch: [21][0/19] Elapsed 0m 0s (remain 0m 2s) Loss: 0.1734(0.1734) Grad: 18.1549  LR: 0.000009  \n",
      "Epoch: [21][10/19] Elapsed 0m 1s (remain 0m 1s) Loss: 0.1211(0.1544) Grad: 19.6624  LR: 0.000009  \n",
      "Epoch: [21][18/19] Elapsed 0m 2s (remain 0m 0s) Loss: 0.1190(0.1432) Grad: 10.8132  LR: 0.000009  \n",
      "EVAL: [0/3] Elapsed 0m 0s (remain 0m 0s) Loss: 0.2116(0.2116) \n"
     ]
    },
    {
     "name": "stderr",
     "output_type": "stream",
     "text": [
      "Epoch 21 - avg_train_loss: 0.1432  avg_val_loss: 0.2091  time: 3s\n",
      "Epoch 21 - Score: 0.2098\n"
     ]
    },
    {
     "name": "stdout",
     "output_type": "stream",
     "text": [
      "EVAL: [2/3] Elapsed 0m 0s (remain 0m 0s) Loss: 0.2427(0.2091) \n",
      "Epoch: [22][0/19] Elapsed 0m 0s (remain 0m 2s) Loss: 0.0981(0.0981) Grad: 8.0488  LR: 0.000001  \n",
      "Epoch: [22][10/19] Elapsed 0m 1s (remain 0m 1s) Loss: 0.1044(0.0996) Grad: 3.0854  LR: 0.000001  \n",
      "Epoch: [22][18/19] Elapsed 0m 2s (remain 0m 0s) Loss: 0.0962(0.1023) Grad: 2.8549  LR: 0.000001  \n",
      "EVAL: [0/3] Elapsed 0m 0s (remain 0m 0s) Loss: 0.2047(0.2047) \n"
     ]
    },
    {
     "name": "stderr",
     "output_type": "stream",
     "text": [
      "Epoch 22 - avg_train_loss: 0.1023  avg_val_loss: 0.1966  time: 4s\n",
      "Epoch 22 - Score: 0.1983\n",
      "Epoch 22 - Save Best Score: 0.1983 Model\n"
     ]
    },
    {
     "name": "stdout",
     "output_type": "stream",
     "text": [
      "EVAL: [2/3] Elapsed 0m 0s (remain 0m 0s) Loss: 0.2424(0.1966) \n",
      "Epoch: [23][0/19] Elapsed 0m 0s (remain 0m 2s) Loss: 0.1134(0.1134) Grad: 4.8218  LR: 0.000050  \n",
      "Epoch: [23][10/19] Elapsed 0m 1s (remain 0m 1s) Loss: 0.1375(0.1060) Grad: 3.2032  LR: 0.000050  \n",
      "Epoch: [23][18/19] Elapsed 0m 2s (remain 0m 0s) Loss: 0.0820(0.1014) Grad: 4.4565  LR: 0.000050  \n",
      "EVAL: [0/3] Elapsed 0m 0s (remain 0m 0s) Loss: 0.1949(0.1949) \n"
     ]
    },
    {
     "name": "stderr",
     "output_type": "stream",
     "text": [
      "Epoch 23 - avg_train_loss: 0.1014  avg_val_loss: 0.1920  time: 4s\n",
      "Epoch 23 - Score: 0.1946\n",
      "Epoch 23 - Save Best Score: 0.1946 Model\n"
     ]
    },
    {
     "name": "stdout",
     "output_type": "stream",
     "text": [
      "EVAL: [2/3] Elapsed 0m 0s (remain 0m 0s) Loss: 0.2542(0.1920) \n",
      "Epoch: [24][0/19] Elapsed 0m 0s (remain 0m 2s) Loss: 0.1090(0.1090) Grad: 3.3925  LR: 0.000224  \n",
      "Epoch: [24][10/19] Elapsed 0m 1s (remain 0m 1s) Loss: 0.1748(0.1247) Grad: 17.7502  LR: 0.000224  \n",
      "Epoch: [24][18/19] Elapsed 0m 2s (remain 0m 0s) Loss: 0.1776(0.1275) Grad: 5.0621  LR: 0.000224  \n",
      "EVAL: [0/3] Elapsed 0m 0s (remain 0m 0s) Loss: 0.2245(0.2245) \n"
     ]
    },
    {
     "name": "stderr",
     "output_type": "stream",
     "text": [
      "Epoch 24 - avg_train_loss: 0.1275  avg_val_loss: 0.2317  time: 4s\n",
      "Epoch 24 - Score: 0.2322\n"
     ]
    },
    {
     "name": "stdout",
     "output_type": "stream",
     "text": [
      "EVAL: [2/3] Elapsed 0m 0s (remain 0m 0s) Loss: 0.2670(0.2317) \n",
      "Epoch: [25][0/19] Elapsed 0m 0s (remain 0m 2s) Loss: 0.1495(0.1495) Grad: 14.4082  LR: 0.000133  \n",
      "Epoch: [25][10/19] Elapsed 0m 1s (remain 0m 1s) Loss: 0.1916(0.1453) Grad: 13.6451  LR: 0.000133  \n",
      "Epoch: [25][18/19] Elapsed 0m 2s (remain 0m 0s) Loss: 0.1621(0.1462) Grad: 14.1855  LR: 0.000133  \n",
      "EVAL: [0/3] Elapsed 0m 0s (remain 0m 0s) Loss: 0.2402(0.2402) \n"
     ]
    },
    {
     "name": "stderr",
     "output_type": "stream",
     "text": [
      "Epoch 25 - avg_train_loss: 0.1462  avg_val_loss: 0.2237  time: 4s\n",
      "Epoch 25 - Score: 0.2248\n"
     ]
    },
    {
     "name": "stdout",
     "output_type": "stream",
     "text": [
      "EVAL: [2/3] Elapsed 0m 0s (remain 0m 0s) Loss: 0.2475(0.2237) \n",
      "Epoch: [26][0/19] Elapsed 0m 0s (remain 0m 2s) Loss: 0.0931(0.0931) Grad: 5.8464  LR: 0.000057  \n",
      "Epoch: [26][10/19] Elapsed 0m 1s (remain 0m 1s) Loss: 0.1279(0.1356) Grad: 18.7034  LR: 0.000057  \n",
      "Epoch: [26][18/19] Elapsed 0m 2s (remain 0m 0s) Loss: 0.1597(0.1289) Grad: 16.8057  LR: 0.000057  \n",
      "EVAL: [0/3] Elapsed 0m 0s (remain 0m 0s) Loss: 0.2230(0.2230) \n"
     ]
    },
    {
     "name": "stderr",
     "output_type": "stream",
     "text": [
      "Epoch 26 - avg_train_loss: 0.1289  avg_val_loss: 0.2191  time: 3s\n",
      "Epoch 26 - Score: 0.2200\n"
     ]
    },
    {
     "name": "stdout",
     "output_type": "stream",
     "text": [
      "EVAL: [2/3] Elapsed 0m 0s (remain 0m 0s) Loss: 0.2559(0.2191) \n",
      "Epoch: [27][0/19] Elapsed 0m 0s (remain 0m 2s) Loss: 0.1456(0.1456) Grad: 7.2041  LR: 0.000009  \n",
      "Epoch: [27][10/19] Elapsed 0m 1s (remain 0m 1s) Loss: 0.1811(0.1299) Grad: 11.0916  LR: 0.000009  \n",
      "Epoch: [27][18/19] Elapsed 0m 2s (remain 0m 0s) Loss: 0.1011(0.1168) Grad: 5.8201  LR: 0.000009  \n",
      "EVAL: [0/3] Elapsed 0m 0s (remain 0m 0s) Loss: 0.2154(0.2154) \n"
     ]
    },
    {
     "name": "stderr",
     "output_type": "stream",
     "text": [
      "Epoch 27 - avg_train_loss: 0.1168  avg_val_loss: 0.2042  time: 3s\n",
      "Epoch 27 - Score: 0.2053\n"
     ]
    },
    {
     "name": "stdout",
     "output_type": "stream",
     "text": [
      "EVAL: [2/3] Elapsed 0m 0s (remain 0m 0s) Loss: 0.2357(0.2042) \n",
      "Epoch: [28][0/19] Elapsed 0m 0s (remain 0m 2s) Loss: 0.0718(0.0718) Grad: 8.2678  LR: 0.000001  \n",
      "Epoch: [28][10/19] Elapsed 0m 1s (remain 0m 1s) Loss: 0.1339(0.0928) Grad: 3.2665  LR: 0.000001  \n",
      "Epoch: [28][18/19] Elapsed 0m 2s (remain 0m 0s) Loss: 0.0873(0.0890) Grad: 6.6637  LR: 0.000001  \n",
      "EVAL: [0/3] Elapsed 0m 0s (remain 0m 0s) Loss: 0.2069(0.2069) \n"
     ]
    },
    {
     "name": "stderr",
     "output_type": "stream",
     "text": [
      "Epoch 28 - avg_train_loss: 0.0890  avg_val_loss: 0.1976  time: 4s\n",
      "Epoch 28 - Score: 0.1986\n"
     ]
    },
    {
     "name": "stdout",
     "output_type": "stream",
     "text": [
      "EVAL: [2/3] Elapsed 0m 0s (remain 0m 0s) Loss: 0.2275(0.1976) \n",
      "Epoch: [29][0/19] Elapsed 0m 0s (remain 0m 2s) Loss: 0.0809(0.0809) Grad: 5.8709  LR: 0.000050  \n",
      "Epoch: [29][10/19] Elapsed 0m 1s (remain 0m 1s) Loss: 0.0655(0.0980) Grad: 6.8649  LR: 0.000050  \n",
      "Epoch: [29][18/19] Elapsed 0m 2s (remain 0m 0s) Loss: 0.0792(0.0927) Grad: 6.8881  LR: 0.000050  \n",
      "EVAL: [0/3] Elapsed 0m 0s (remain 0m 0s) Loss: 0.2137(0.2137) \n"
     ]
    },
    {
     "name": "stderr",
     "output_type": "stream",
     "text": [
      "Epoch 29 - avg_train_loss: 0.0927  avg_val_loss: 0.2087  time: 3s\n",
      "Epoch 29 - Score: 0.2098\n"
     ]
    },
    {
     "name": "stdout",
     "output_type": "stream",
     "text": [
      "EVAL: [2/3] Elapsed 0m 0s (remain 0m 0s) Loss: 0.2491(0.2087) \n",
      "Epoch: [30][0/19] Elapsed 0m 0s (remain 0m 2s) Loss: 0.0659(0.0659) Grad: 5.8399  LR: 0.000224  \n",
      "Epoch: [30][10/19] Elapsed 0m 1s (remain 0m 1s) Loss: 0.1013(0.1033) Grad: 3.0566  LR: 0.000224  \n",
      "Epoch: [30][18/19] Elapsed 0m 2s (remain 0m 0s) Loss: 0.1682(0.1126) Grad: 21.5498  LR: 0.000224  \n",
      "EVAL: [0/3] Elapsed 0m 0s (remain 0m 0s) Loss: 0.2262(0.2262) \n"
     ]
    },
    {
     "name": "stderr",
     "output_type": "stream",
     "text": [
      "Epoch 30 - avg_train_loss: 0.1126  avg_val_loss: 0.2093  time: 3s\n",
      "Epoch 30 - Score: 0.2110\n"
     ]
    },
    {
     "name": "stdout",
     "output_type": "stream",
     "text": [
      "EVAL: [2/3] Elapsed 0m 0s (remain 0m 0s) Loss: 0.2430(0.2093) \n",
      "Epoch: [31][0/19] Elapsed 0m 0s (remain 0m 2s) Loss: 0.1186(0.1186) Grad: 5.0968  LR: 0.000133  \n",
      "Epoch: [31][10/19] Elapsed 0m 1s (remain 0m 1s) Loss: 0.1167(0.1238) Grad: 15.0481  LR: 0.000133  \n",
      "Epoch: [31][18/19] Elapsed 0m 2s (remain 0m 0s) Loss: 0.1568(0.1293) Grad: 17.0821  LR: 0.000133  \n",
      "EVAL: [0/3] Elapsed 0m 0s (remain 0m 0s) Loss: 0.2225(0.2225) \n"
     ]
    },
    {
     "name": "stderr",
     "output_type": "stream",
     "text": [
      "Epoch 31 - avg_train_loss: 0.1293  avg_val_loss: 0.2174  time: 4s\n",
      "Epoch 31 - Score: 0.2212\n"
     ]
    },
    {
     "name": "stdout",
     "output_type": "stream",
     "text": [
      "EVAL: [2/3] Elapsed 0m 0s (remain 0m 0s) Loss: 0.2971(0.2174) \n",
      "Epoch: [32][0/19] Elapsed 0m 0s (remain 0m 2s) Loss: 0.1058(0.1058) Grad: 4.4153  LR: 0.000057  \n",
      "Epoch: [32][10/19] Elapsed 0m 1s (remain 0m 1s) Loss: 0.1398(0.1269) Grad: 17.8289  LR: 0.000057  \n",
      "Epoch: [32][18/19] Elapsed 0m 2s (remain 0m 0s) Loss: 0.1948(0.1292) Grad: 15.3188  LR: 0.000057  \n",
      "EVAL: [0/3] Elapsed 0m 0s (remain 0m 0s) Loss: 0.2422(0.2422) \n"
     ]
    },
    {
     "name": "stderr",
     "output_type": "stream",
     "text": [
      "Epoch 32 - avg_train_loss: 0.1292  avg_val_loss: 0.2348  time: 4s\n",
      "Epoch 32 - Score: 0.2359\n"
     ]
    },
    {
     "name": "stdout",
     "output_type": "stream",
     "text": [
      "EVAL: [2/3] Elapsed 0m 0s (remain 0m 0s) Loss: 0.2729(0.2348) \n",
      "Epoch: [33][0/19] Elapsed 0m 0s (remain 0m 2s) Loss: 0.1247(0.1247) Grad: 17.4235  LR: 0.000009  \n",
      "Epoch: [33][10/19] Elapsed 0m 1s (remain 0m 1s) Loss: 0.1186(0.1207) Grad: 13.0232  LR: 0.000009  \n",
      "Epoch: [33][18/19] Elapsed 0m 2s (remain 0m 0s) Loss: 0.1479(0.1119) Grad: 5.4156  LR: 0.000009  \n",
      "EVAL: [0/3] Elapsed 0m 0s (remain 0m 0s) Loss: 0.2147(0.2147) \n"
     ]
    },
    {
     "name": "stderr",
     "output_type": "stream",
     "text": [
      "Epoch 33 - avg_train_loss: 0.1119  avg_val_loss: 0.2092  time: 3s\n",
      "Epoch 33 - Score: 0.2104\n"
     ]
    },
    {
     "name": "stdout",
     "output_type": "stream",
     "text": [
      "EVAL: [2/3] Elapsed 0m 0s (remain 0m 0s) Loss: 0.2503(0.2092) \n",
      "Epoch: [34][0/19] Elapsed 0m 0s (remain 0m 2s) Loss: 0.0805(0.0805) Grad: 5.4348  LR: 0.000001  \n",
      "Epoch: [34][10/19] Elapsed 0m 1s (remain 0m 1s) Loss: 0.0831(0.0964) Grad: 4.3683  LR: 0.000001  \n",
      "Epoch: [34][18/19] Elapsed 0m 2s (remain 0m 0s) Loss: 0.0927(0.0931) Grad: 4.1678  LR: 0.000001  \n",
      "EVAL: [0/3] Elapsed 0m 0s (remain 0m 0s) Loss: 0.2149(0.2149) \n"
     ]
    },
    {
     "name": "stderr",
     "output_type": "stream",
     "text": [
      "Epoch 34 - avg_train_loss: 0.0931  avg_val_loss: 0.1995  time: 4s\n",
      "Epoch 34 - Score: 0.2004\n"
     ]
    },
    {
     "name": "stdout",
     "output_type": "stream",
     "text": [
      "EVAL: [2/3] Elapsed 0m 0s (remain 0m 0s) Loss: 0.2166(0.1995) \n",
      "Epoch: [35][0/19] Elapsed 0m 0s (remain 0m 2s) Loss: 0.0772(0.0772) Grad: 9.6265  LR: 0.000050  \n",
      "Epoch: [35][10/19] Elapsed 0m 1s (remain 0m 1s) Loss: 0.1562(0.1166) Grad: 15.4703  LR: 0.000050  \n",
      "Epoch: [35][18/19] Elapsed 0m 2s (remain 0m 0s) Loss: 0.1226(0.1156) Grad: 18.0111  LR: 0.000050  \n",
      "EVAL: [0/3] Elapsed 0m 0s (remain 0m 0s) Loss: 0.2166(0.2166) \n"
     ]
    },
    {
     "name": "stderr",
     "output_type": "stream",
     "text": [
      "Epoch 35 - avg_train_loss: 0.1156  avg_val_loss: 0.2019  time: 3s\n",
      "Epoch 35 - Score: 0.2031\n"
     ]
    },
    {
     "name": "stdout",
     "output_type": "stream",
     "text": [
      "EVAL: [2/3] Elapsed 0m 0s (remain 0m 0s) Loss: 0.2273(0.2019) \n",
      "Epoch: [36][0/19] Elapsed 0m 0s (remain 0m 2s) Loss: 0.0825(0.0825) Grad: 13.9761  LR: 0.000224  \n",
      "Epoch: [36][10/19] Elapsed 0m 1s (remain 0m 1s) Loss: 0.1171(0.1336) Grad: 15.5386  LR: 0.000224  \n",
      "Epoch: [36][18/19] Elapsed 0m 2s (remain 0m 0s) Loss: 0.1240(0.1244) Grad: 10.8429  LR: 0.000224  \n",
      "EVAL: [0/3] Elapsed 0m 0s (remain 0m 0s) Loss: 0.2039(0.2039) \n"
     ]
    },
    {
     "name": "stderr",
     "output_type": "stream",
     "text": [
      "Epoch 36 - avg_train_loss: 0.1244  avg_val_loss: 0.2023  time: 3s\n",
      "Epoch 36 - Score: 0.2053\n"
     ]
    },
    {
     "name": "stdout",
     "output_type": "stream",
     "text": [
      "EVAL: [2/3] Elapsed 0m 0s (remain 0m 0s) Loss: 0.2724(0.2023) \n",
      "Epoch: [37][0/19] Elapsed 0m 0s (remain 0m 2s) Loss: 0.1773(0.1773) Grad: 4.1113  LR: 0.000133  \n",
      "Epoch: [37][10/19] Elapsed 0m 1s (remain 0m 1s) Loss: 0.1952(0.1504) Grad: 21.4044  LR: 0.000133  \n",
      "Epoch: [37][18/19] Elapsed 0m 2s (remain 0m 0s) Loss: 0.1245(0.1507) Grad: 3.2982  LR: 0.000133  \n",
      "EVAL: [0/3] Elapsed 0m 0s (remain 0m 0s) Loss: 0.2414(0.2414) \n"
     ]
    },
    {
     "name": "stderr",
     "output_type": "stream",
     "text": [
      "Epoch 37 - avg_train_loss: 0.1507  avg_val_loss: 0.2209  time: 4s\n",
      "Epoch 37 - Score: 0.2229\n"
     ]
    },
    {
     "name": "stdout",
     "output_type": "stream",
     "text": [
      "EVAL: [2/3] Elapsed 0m 0s (remain 0m 0s) Loss: 0.2555(0.2209) \n",
      "Epoch: [38][0/19] Elapsed 0m 0s (remain 0m 2s) Loss: 0.1579(0.1579) Grad: 3.1386  LR: 0.000057  \n",
      "Epoch: [38][10/19] Elapsed 0m 1s (remain 0m 1s) Loss: 0.0850(0.1243) Grad: 4.6906  LR: 0.000057  \n",
      "Epoch: [38][18/19] Elapsed 0m 2s (remain 0m 0s) Loss: 0.0814(0.1188) Grad: 3.6397  LR: 0.000057  \n",
      "EVAL: [0/3] Elapsed 0m 0s (remain 0m 0s) Loss: 0.2054(0.2054) \n"
     ]
    },
    {
     "name": "stderr",
     "output_type": "stream",
     "text": [
      "Epoch 38 - avg_train_loss: 0.1188  avg_val_loss: 0.1901  time: 4s\n",
      "Epoch 38 - Score: 0.1909\n",
      "Epoch 38 - Save Best Score: 0.1909 Model\n"
     ]
    },
    {
     "name": "stdout",
     "output_type": "stream",
     "text": [
      "EVAL: [2/3] Elapsed 0m 0s (remain 0m 0s) Loss: 0.2052(0.1901) \n",
      "Epoch: [39][0/19] Elapsed 0m 0s (remain 0m 2s) Loss: 0.0810(0.0810) Grad: 4.5541  LR: 0.000009  \n",
      "Epoch: [39][10/19] Elapsed 0m 1s (remain 0m 1s) Loss: 0.0742(0.0861) Grad: 5.6979  LR: 0.000009  \n",
      "Epoch: [39][18/19] Elapsed 0m 2s (remain 0m 0s) Loss: 0.1319(0.0902) Grad: 2.2899  LR: 0.000009  \n",
      "EVAL: [0/3] Elapsed 0m 0s (remain 0m 0s) Loss: 0.1838(0.1838) \n"
     ]
    },
    {
     "name": "stderr",
     "output_type": "stream",
     "text": [
      "Epoch 39 - avg_train_loss: 0.0902  avg_val_loss: 0.1867  time: 4s\n",
      "Epoch 39 - Score: 0.1873\n",
      "Epoch 39 - Save Best Score: 0.1873 Model\n"
     ]
    },
    {
     "name": "stdout",
     "output_type": "stream",
     "text": [
      "EVAL: [2/3] Elapsed 0m 0s (remain 0m 0s) Loss: 0.2204(0.1867) \n",
      "Epoch: [40][0/19] Elapsed 0m 0s (remain 0m 2s) Loss: 0.0841(0.0841) Grad: 12.9142  LR: 0.000001  \n",
      "Epoch: [40][10/19] Elapsed 0m 1s (remain 0m 1s) Loss: 0.0625(0.0740) Grad: 5.4119  LR: 0.000001  \n",
      "Epoch: [40][18/19] Elapsed 0m 2s (remain 0m 0s) Loss: 0.0686(0.0788) Grad: 6.3917  LR: 0.000001  \n",
      "EVAL: [0/3] Elapsed 0m 0s (remain 0m 0s) Loss: 0.1906(0.1906) \n"
     ]
    },
    {
     "name": "stderr",
     "output_type": "stream",
     "text": [
      "Epoch 40 - avg_train_loss: 0.0788  avg_val_loss: 0.1918  time: 3s\n",
      "Epoch 40 - Score: 0.1921\n",
      "========== fold: 0 result ==========\n",
      "Score: 0.1873\n",
      "========== fold: 1 training ==========\n"
     ]
    },
    {
     "name": "stdout",
     "output_type": "stream",
     "text": [
      "EVAL: [2/3] Elapsed 0m 0s (remain 0m 0s) Loss: 0.2140(0.1918) \n",
      "Epoch: [1][0/19] Elapsed 0m 0s (remain 0m 2s) Loss: 3.6261(3.6261) Grad: 26.6981  LR: 0.000100  \n",
      "Epoch: [1][10/19] Elapsed 0m 1s (remain 0m 1s) Loss: 0.4360(1.3325) Grad: 11.2846  LR: 0.000100  \n",
      "Epoch: [1][18/19] Elapsed 0m 2s (remain 0m 0s) Loss: 0.4868(1.0125) Grad: 14.4447  LR: 0.000100  \n",
      "EVAL: [0/3] Elapsed 0m 0s (remain 0m 0s) Loss: 0.5407(0.5407) \n"
     ]
    },
    {
     "name": "stderr",
     "output_type": "stream",
     "text": [
      "Epoch 1 - avg_train_loss: 1.0125  avg_val_loss: 0.5341  time: 4s\n",
      "Epoch 1 - Score: 0.5341\n",
      "Epoch 1 - Save Best Score: 0.5341 Model\n"
     ]
    },
    {
     "name": "stdout",
     "output_type": "stream",
     "text": [
      "EVAL: [2/3] Elapsed 0m 0s (remain 0m 0s) Loss: 0.5406(0.5341) \n",
      "Epoch: [2][0/19] Elapsed 0m 0s (remain 0m 2s) Loss: 0.5346(0.5346) Grad: 19.5221  LR: 0.000057  \n",
      "Epoch: [2][10/19] Elapsed 0m 1s (remain 0m 1s) Loss: 0.2588(0.3974) Grad: 8.5333  LR: 0.000057  \n",
      "Epoch: [2][18/19] Elapsed 0m 2s (remain 0m 0s) Loss: 0.4386(0.3930) Grad: 13.8452  LR: 0.000057  \n",
      "EVAL: [0/3] Elapsed 0m 0s (remain 0m 0s) Loss: 0.4018(0.4018) \n"
     ]
    },
    {
     "name": "stderr",
     "output_type": "stream",
     "text": [
      "Epoch 2 - avg_train_loss: 0.3930  avg_val_loss: 0.3903  time: 3s\n",
      "Epoch 2 - Score: 0.3905\n",
      "Epoch 2 - Save Best Score: 0.3905 Model\n"
     ]
    },
    {
     "name": "stdout",
     "output_type": "stream",
     "text": [
      "EVAL: [2/3] Elapsed 0m 0s (remain 0m 0s) Loss: 0.3945(0.3903) \n",
      "Epoch: [3][0/19] Elapsed 0m 0s (remain 0m 2s) Loss: 0.3061(0.3061) Grad: 9.9141  LR: 0.000009  \n",
      "Epoch: [3][10/19] Elapsed 0m 1s (remain 0m 1s) Loss: 0.2263(0.2809) Grad: 14.4332  LR: 0.000009  \n",
      "Epoch: [3][18/19] Elapsed 0m 2s (remain 0m 0s) Loss: 0.2421(0.2699) Grad: 11.1068  LR: 0.000009  \n",
      "EVAL: [0/3] Elapsed 0m 0s (remain 0m 0s) Loss: 0.3413(0.3413) \n"
     ]
    },
    {
     "name": "stderr",
     "output_type": "stream",
     "text": [
      "Epoch 3 - avg_train_loss: 0.2699  avg_val_loss: 0.3198  time: 4s\n",
      "Epoch 3 - Score: 0.3207\n",
      "Epoch 3 - Save Best Score: 0.3207 Model\n"
     ]
    },
    {
     "name": "stdout",
     "output_type": "stream",
     "text": [
      "EVAL: [2/3] Elapsed 0m 0s (remain 0m 0s) Loss: 0.2710(0.3198) \n",
      "Epoch: [4][0/19] Elapsed 0m 0s (remain 0m 2s) Loss: 0.2263(0.2263) Grad: 8.0761  LR: 0.000001  \n",
      "Epoch: [4][10/19] Elapsed 0m 1s (remain 0m 1s) Loss: 0.1992(0.2431) Grad: 5.3613  LR: 0.000001  \n",
      "Epoch: [4][18/19] Elapsed 0m 2s (remain 0m 0s) Loss: 0.2222(0.2354) Grad: 4.3372  LR: 0.000001  \n",
      "EVAL: [0/3] Elapsed 0m 0s (remain 0m 0s) Loss: 0.3488(0.3488) \n"
     ]
    },
    {
     "name": "stderr",
     "output_type": "stream",
     "text": [
      "Epoch 4 - avg_train_loss: 0.2354  avg_val_loss: 0.3150  time: 3s\n",
      "Epoch 4 - Score: 0.3170\n",
      "Epoch 4 - Save Best Score: 0.3170 Model\n"
     ]
    },
    {
     "name": "stdout",
     "output_type": "stream",
     "text": [
      "EVAL: [2/3] Elapsed 0m 0s (remain 0m 0s) Loss: 0.2477(0.3150) \n",
      "Epoch: [5][0/19] Elapsed 0m 0s (remain 0m 2s) Loss: 0.1684(0.1684) Grad: 5.7144  LR: 0.000050  \n",
      "Epoch: [5][10/19] Elapsed 0m 1s (remain 0m 1s) Loss: 0.2384(0.2362) Grad: 6.9806  LR: 0.000050  \n",
      "Epoch: [5][18/19] Elapsed 0m 2s (remain 0m 0s) Loss: 0.2612(0.2386) Grad: 12.7192  LR: 0.000050  \n",
      "EVAL: [0/3] Elapsed 0m 0s (remain 0m 0s) Loss: 0.3603(0.3603) \n"
     ]
    },
    {
     "name": "stderr",
     "output_type": "stream",
     "text": [
      "Epoch 5 - avg_train_loss: 0.2386  avg_val_loss: 0.3124  time: 3s\n",
      "Epoch 5 - Score: 0.3153\n",
      "Epoch 5 - Save Best Score: 0.3153 Model\n"
     ]
    },
    {
     "name": "stdout",
     "output_type": "stream",
     "text": [
      "EVAL: [2/3] Elapsed 0m 0s (remain 0m 0s) Loss: 0.2493(0.3124) \n",
      "Epoch: [6][0/19] Elapsed 0m 0s (remain 0m 2s) Loss: 0.2644(0.2644) Grad: 16.5444  LR: 0.000224  \n",
      "Epoch: [6][10/19] Elapsed 0m 1s (remain 0m 1s) Loss: 0.3181(0.2588) Grad: 17.9256  LR: 0.000224  \n",
      "Epoch: [6][18/19] Elapsed 0m 2s (remain 0m 0s) Loss: 0.2735(0.2619) Grad: 4.6671  LR: 0.000224  \n",
      "EVAL: [0/3] Elapsed 0m 0s (remain 0m 0s) Loss: 0.3481(0.3481) \n"
     ]
    },
    {
     "name": "stderr",
     "output_type": "stream",
     "text": [
      "Epoch 6 - avg_train_loss: 0.2619  avg_val_loss: 0.3516  time: 3s\n",
      "Epoch 6 - Score: 0.3517\n"
     ]
    },
    {
     "name": "stdout",
     "output_type": "stream",
     "text": [
      "EVAL: [2/3] Elapsed 0m 0s (remain 0m 0s) Loss: 0.3326(0.3516) \n",
      "Epoch: [7][0/19] Elapsed 0m 0s (remain 0m 2s) Loss: 0.2905(0.2905) Grad: 12.8824  LR: 0.000133  \n",
      "Epoch: [7][10/19] Elapsed 0m 1s (remain 0m 1s) Loss: 0.2551(0.2630) Grad: 20.9950  LR: 0.000133  \n",
      "Epoch: [7][18/19] Elapsed 0m 2s (remain 0m 0s) Loss: 0.5863(0.3350) Grad: 19.7868  LR: 0.000133  \n",
      "EVAL: [0/3] Elapsed 0m 0s (remain 0m 0s) Loss: 0.4561(0.4561) \n"
     ]
    },
    {
     "name": "stderr",
     "output_type": "stream",
     "text": [
      "Epoch 7 - avg_train_loss: 0.3350  avg_val_loss: 0.4202  time: 4s\n",
      "Epoch 7 - Score: 0.4215\n"
     ]
    },
    {
     "name": "stdout",
     "output_type": "stream",
     "text": [
      "EVAL: [2/3] Elapsed 0m 0s (remain 0m 0s) Loss: 0.4197(0.4202) \n",
      "Epoch: [8][0/19] Elapsed 0m 0s (remain 0m 2s) Loss: 0.3872(0.3872) Grad: 16.4355  LR: 0.000057  \n",
      "Epoch: [8][10/19] Elapsed 0m 1s (remain 0m 1s) Loss: 0.2564(0.2874) Grad: 4.2600  LR: 0.000057  \n",
      "Epoch: [8][18/19] Elapsed 0m 2s (remain 0m 0s) Loss: 0.1868(0.2473) Grad: 6.5984  LR: 0.000057  \n",
      "EVAL: [0/3] Elapsed 0m 0s (remain 0m 0s) Loss: 0.3009(0.3009) \n"
     ]
    },
    {
     "name": "stderr",
     "output_type": "stream",
     "text": [
      "Epoch 8 - avg_train_loss: 0.2473  avg_val_loss: 0.2592  time: 4s\n",
      "Epoch 8 - Score: 0.2623\n",
      "Epoch 8 - Save Best Score: 0.2623 Model\n"
     ]
    },
    {
     "name": "stdout",
     "output_type": "stream",
     "text": [
      "EVAL: [2/3] Elapsed 0m 0s (remain 0m 0s) Loss: 0.1896(0.2592) \n",
      "Epoch: [9][0/19] Elapsed 0m 0s (remain 0m 2s) Loss: 0.1592(0.1592) Grad: 4.0795  LR: 0.000009  \n",
      "Epoch: [9][10/19] Elapsed 0m 1s (remain 0m 1s) Loss: 0.1721(0.1660) Grad: 8.3936  LR: 0.000009  \n",
      "Epoch: [9][18/19] Elapsed 0m 2s (remain 0m 0s) Loss: 0.1472(0.1624) Grad: 11.5369  LR: 0.000009  \n",
      "EVAL: [0/3] Elapsed 0m 0s (remain 0m 0s) Loss: 0.3199(0.3199) \n"
     ]
    },
    {
     "name": "stderr",
     "output_type": "stream",
     "text": [
      "Epoch 9 - avg_train_loss: 0.1624  avg_val_loss: 0.2666  time: 4s\n",
      "Epoch 9 - Score: 0.2704\n"
     ]
    },
    {
     "name": "stdout",
     "output_type": "stream",
     "text": [
      "EVAL: [2/3] Elapsed 0m 0s (remain 0m 0s) Loss: 0.2181(0.2666) \n",
      "Epoch: [10][0/19] Elapsed 0m 0s (remain 0m 2s) Loss: 0.1241(0.1241) Grad: 12.7851  LR: 0.000001  \n",
      "Epoch: [10][10/19] Elapsed 0m 1s (remain 0m 1s) Loss: 0.1419(0.1440) Grad: 7.1869  LR: 0.000001  \n",
      "Epoch: [10][18/19] Elapsed 0m 2s (remain 0m 0s) Loss: 0.1492(0.1437) Grad: 5.7292  LR: 0.000001  \n",
      "EVAL: [0/3] Elapsed 0m 0s (remain 0m 0s) Loss: 0.3098(0.3098) \n"
     ]
    },
    {
     "name": "stderr",
     "output_type": "stream",
     "text": [
      "Epoch 10 - avg_train_loss: 0.1437  avg_val_loss: 0.2541  time: 4s\n",
      "Epoch 10 - Score: 0.2591\n",
      "Epoch 10 - Save Best Score: 0.2591 Model\n"
     ]
    },
    {
     "name": "stdout",
     "output_type": "stream",
     "text": [
      "EVAL: [2/3] Elapsed 0m 0s (remain 0m 0s) Loss: 0.1748(0.2541) \n",
      "Epoch: [11][0/19] Elapsed 0m 0s (remain 0m 2s) Loss: 0.1300(0.1300) Grad: 6.7352  LR: 0.000050  \n",
      "Epoch: [11][10/19] Elapsed 0m 1s (remain 0m 1s) Loss: 0.1334(0.1367) Grad: 5.8782  LR: 0.000050  \n",
      "Epoch: [11][18/19] Elapsed 0m 2s (remain 0m 0s) Loss: 0.1435(0.1415) Grad: 4.6690  LR: 0.000050  \n",
      "EVAL: [0/3] Elapsed 0m 0s (remain 0m 0s) Loss: 0.3167(0.3167) \n"
     ]
    },
    {
     "name": "stderr",
     "output_type": "stream",
     "text": [
      "Epoch 11 - avg_train_loss: 0.1415  avg_val_loss: 0.2597  time: 4s\n",
      "Epoch 11 - Score: 0.2648\n"
     ]
    },
    {
     "name": "stdout",
     "output_type": "stream",
     "text": [
      "EVAL: [2/3] Elapsed 0m 0s (remain 0m 0s) Loss: 0.1776(0.2597) \n",
      "Epoch: [12][0/19] Elapsed 0m 0s (remain 0m 2s) Loss: 0.1051(0.1051) Grad: 4.7897  LR: 0.000224  \n",
      "Epoch: [12][10/19] Elapsed 0m 1s (remain 0m 1s) Loss: 0.1547(0.1500) Grad: 10.3380  LR: 0.000224  \n",
      "Epoch: [12][18/19] Elapsed 0m 2s (remain 0m 0s) Loss: 0.2180(0.1503) Grad: 18.6885  LR: 0.000224  \n",
      "EVAL: [0/3] Elapsed 0m 0s (remain 0m 0s) Loss: 0.3233(0.3233) \n"
     ]
    },
    {
     "name": "stderr",
     "output_type": "stream",
     "text": [
      "Epoch 12 - avg_train_loss: 0.1503  avg_val_loss: 0.2692  time: 4s\n",
      "Epoch 12 - Score: 0.2744\n"
     ]
    },
    {
     "name": "stdout",
     "output_type": "stream",
     "text": [
      "EVAL: [2/3] Elapsed 0m 0s (remain 0m 0s) Loss: 0.1754(0.2692) \n",
      "Epoch: [13][0/19] Elapsed 0m 0s (remain 0m 2s) Loss: 0.1579(0.1579) Grad: 11.0180  LR: 0.000133  \n",
      "Epoch: [13][10/19] Elapsed 0m 1s (remain 0m 1s) Loss: 0.2368(0.1827) Grad: 16.9703  LR: 0.000133  \n",
      "Epoch: [13][18/19] Elapsed 0m 2s (remain 0m 0s) Loss: 0.1969(0.1832) Grad: 18.3341  LR: 0.000133  \n",
      "EVAL: [0/3] Elapsed 0m 0s (remain 0m 0s) Loss: 0.3111(0.3111) \n"
     ]
    },
    {
     "name": "stderr",
     "output_type": "stream",
     "text": [
      "Epoch 13 - avg_train_loss: 0.1832  avg_val_loss: 0.2743  time: 4s\n",
      "Epoch 13 - Score: 0.2763\n"
     ]
    },
    {
     "name": "stdout",
     "output_type": "stream",
     "text": [
      "EVAL: [2/3] Elapsed 0m 0s (remain 0m 0s) Loss: 0.2235(0.2743) \n",
      "Epoch: [14][0/19] Elapsed 0m 0s (remain 0m 2s) Loss: 0.1273(0.1273) Grad: 3.6442  LR: 0.000057  \n",
      "Epoch: [14][10/19] Elapsed 0m 1s (remain 0m 1s) Loss: 0.1638(0.1622) Grad: 16.5401  LR: 0.000057  \n",
      "Epoch: [14][18/19] Elapsed 0m 2s (remain 0m 0s) Loss: 0.1567(0.1626) Grad: 5.1756  LR: 0.000057  \n",
      "EVAL: [0/3] Elapsed 0m 0s (remain 0m 0s) Loss: 0.3317(0.3317) \n"
     ]
    },
    {
     "name": "stderr",
     "output_type": "stream",
     "text": [
      "Epoch 14 - avg_train_loss: 0.1626  avg_val_loss: 0.2772  time: 4s\n",
      "Epoch 14 - Score: 0.2814\n"
     ]
    },
    {
     "name": "stdout",
     "output_type": "stream",
     "text": [
      "EVAL: [2/3] Elapsed 0m 0s (remain 0m 0s) Loss: 0.2089(0.2772) \n",
      "Epoch: [15][0/19] Elapsed 0m 0s (remain 0m 2s) Loss: 0.1404(0.1404) Grad: 10.4534  LR: 0.000009  \n",
      "Epoch: [15][10/19] Elapsed 0m 1s (remain 0m 1s) Loss: 0.1489(0.1354) Grad: 3.1149  LR: 0.000009  \n",
      "Epoch: [15][18/19] Elapsed 0m 2s (remain 0m 0s) Loss: 0.1218(0.1293) Grad: 4.7642  LR: 0.000009  \n",
      "EVAL: [0/3] Elapsed 0m 0s (remain 0m 0s) Loss: 0.2935(0.2935) \n"
     ]
    },
    {
     "name": "stderr",
     "output_type": "stream",
     "text": [
      "Epoch 15 - avg_train_loss: 0.1293  avg_val_loss: 0.2542  time: 4s\n",
      "Epoch 15 - Score: 0.2566\n",
      "Epoch 15 - Save Best Score: 0.2566 Model\n"
     ]
    },
    {
     "name": "stdout",
     "output_type": "stream",
     "text": [
      "EVAL: [2/3] Elapsed 0m 0s (remain 0m 0s) Loss: 0.2042(0.2542) \n",
      "Epoch: [16][0/19] Elapsed 0m 0s (remain 0m 2s) Loss: 0.1194(0.1194) Grad: 13.2831  LR: 0.000001  \n",
      "Epoch: [16][10/19] Elapsed 0m 1s (remain 0m 1s) Loss: 0.1215(0.1098) Grad: 4.5357  LR: 0.000001  \n",
      "Epoch: [16][18/19] Elapsed 0m 2s (remain 0m 0s) Loss: 0.0946(0.1047) Grad: 2.7393  LR: 0.000001  \n",
      "EVAL: [0/3] Elapsed 0m 0s (remain 0m 0s) Loss: 0.3132(0.3132) \n"
     ]
    },
    {
     "name": "stderr",
     "output_type": "stream",
     "text": [
      "Epoch 16 - avg_train_loss: 0.1047  avg_val_loss: 0.2540  time: 4s\n",
      "Epoch 16 - Score: 0.2596\n"
     ]
    },
    {
     "name": "stdout",
     "output_type": "stream",
     "text": [
      "EVAL: [2/3] Elapsed 0m 0s (remain 0m 0s) Loss: 0.1706(0.2540) \n",
      "Epoch: [17][0/19] Elapsed 0m 0s (remain 0m 2s) Loss: 0.0890(0.0890) Grad: 6.1027  LR: 0.000050  \n",
      "Epoch: [17][10/19] Elapsed 0m 1s (remain 0m 1s) Loss: 0.0949(0.1001) Grad: 11.5962  LR: 0.000050  \n",
      "Epoch: [17][18/19] Elapsed 0m 2s (remain 0m 0s) Loss: 0.1043(0.1094) Grad: 5.0508  LR: 0.000050  \n",
      "EVAL: [0/3] Elapsed 0m 0s (remain 0m 0s) Loss: 0.3146(0.3146) \n"
     ]
    },
    {
     "name": "stderr",
     "output_type": "stream",
     "text": [
      "Epoch 17 - avg_train_loss: 0.1094  avg_val_loss: 0.2649  time: 4s\n",
      "Epoch 17 - Score: 0.2684\n"
     ]
    },
    {
     "name": "stdout",
     "output_type": "stream",
     "text": [
      "EVAL: [2/3] Elapsed 0m 0s (remain 0m 0s) Loss: 0.2074(0.2649) \n",
      "Epoch: [18][0/19] Elapsed 0m 0s (remain 0m 2s) Loss: 0.1006(0.1006) Grad: 14.8308  LR: 0.000224  \n",
      "Epoch: [18][10/19] Elapsed 0m 1s (remain 0m 1s) Loss: 0.1146(0.1333) Grad: 9.4259  LR: 0.000224  \n",
      "Epoch: [18][18/19] Elapsed 0m 2s (remain 0m 0s) Loss: 0.1011(0.1297) Grad: 2.8270  LR: 0.000224  \n",
      "EVAL: [0/3] Elapsed 0m 0s (remain 0m 0s) Loss: 0.3140(0.3140) \n"
     ]
    },
    {
     "name": "stderr",
     "output_type": "stream",
     "text": [
      "Epoch 18 - avg_train_loss: 0.1297  avg_val_loss: 0.2542  time: 4s\n",
      "Epoch 18 - Score: 0.2594\n"
     ]
    },
    {
     "name": "stdout",
     "output_type": "stream",
     "text": [
      "EVAL: [2/3] Elapsed 0m 0s (remain 0m 0s) Loss: 0.1887(0.2542) \n",
      "Epoch: [19][0/19] Elapsed 0m 0s (remain 0m 2s) Loss: 0.1118(0.1118) Grad: 11.2022  LR: 0.000133  \n",
      "Epoch: [19][10/19] Elapsed 0m 1s (remain 0m 1s) Loss: 0.2159(0.1677) Grad: 17.9820  LR: 0.000133  \n",
      "Epoch: [19][18/19] Elapsed 0m 2s (remain 0m 0s) Loss: 0.1401(0.1783) Grad: 5.3250  LR: 0.000133  \n",
      "EVAL: [0/3] Elapsed 0m 0s (remain 0m 0s) Loss: 0.4165(0.4165) \n"
     ]
    },
    {
     "name": "stderr",
     "output_type": "stream",
     "text": [
      "Epoch 19 - avg_train_loss: 0.1783  avg_val_loss: 0.3559  time: 4s\n",
      "Epoch 19 - Score: 0.3600\n"
     ]
    },
    {
     "name": "stdout",
     "output_type": "stream",
     "text": [
      "EVAL: [2/3] Elapsed 0m 0s (remain 0m 0s) Loss: 0.2746(0.3559) \n",
      "Epoch: [20][0/19] Elapsed 0m 0s (remain 0m 2s) Loss: 0.2555(0.2555) Grad: 19.5997  LR: 0.000057  \n",
      "Epoch: [20][10/19] Elapsed 0m 1s (remain 0m 1s) Loss: 0.2056(0.1804) Grad: 14.0450  LR: 0.000057  \n",
      "Epoch: [20][18/19] Elapsed 0m 2s (remain 0m 0s) Loss: 0.1132(0.1679) Grad: 10.2773  LR: 0.000057  \n",
      "EVAL: [0/3] Elapsed 0m 0s (remain 0m 0s) Loss: 0.3562(0.3562) \n"
     ]
    },
    {
     "name": "stderr",
     "output_type": "stream",
     "text": [
      "Epoch 20 - avg_train_loss: 0.1679  avg_val_loss: 0.3059  time: 4s\n",
      "Epoch 20 - Score: 0.3088\n"
     ]
    },
    {
     "name": "stdout",
     "output_type": "stream",
     "text": [
      "EVAL: [2/3] Elapsed 0m 0s (remain 0m 0s) Loss: 0.2616(0.3059) \n",
      "Epoch: [21][0/19] Elapsed 0m 0s (remain 0m 2s) Loss: 0.1961(0.1961) Grad: 18.2236  LR: 0.000009  \n",
      "Epoch: [21][10/19] Elapsed 0m 1s (remain 0m 1s) Loss: 0.1425(0.1552) Grad: 16.2901  LR: 0.000009  \n",
      "Epoch: [21][18/19] Elapsed 0m 2s (remain 0m 0s) Loss: 0.0926(0.1390) Grad: 13.5126  LR: 0.000009  \n",
      "EVAL: [0/3] Elapsed 0m 0s (remain 0m 0s) Loss: 0.2892(0.2892) \n"
     ]
    },
    {
     "name": "stderr",
     "output_type": "stream",
     "text": [
      "Epoch 21 - avg_train_loss: 0.1390  avg_val_loss: 0.2355  time: 4s\n",
      "Epoch 21 - Score: 0.2399\n",
      "Epoch 21 - Save Best Score: 0.2399 Model\n"
     ]
    },
    {
     "name": "stdout",
     "output_type": "stream",
     "text": [
      "EVAL: [2/3] Elapsed 0m 0s (remain 0m 0s) Loss: 0.1795(0.2355) \n",
      "Epoch: [22][0/19] Elapsed 0m 0s (remain 0m 2s) Loss: 0.1052(0.1052) Grad: 3.7686  LR: 0.000001  \n",
      "Epoch: [22][10/19] Elapsed 0m 1s (remain 0m 1s) Loss: 0.0763(0.0997) Grad: 2.7472  LR: 0.000001  \n",
      "Epoch: [22][18/19] Elapsed 0m 2s (remain 0m 0s) Loss: 0.0586(0.0947) Grad: 2.4889  LR: 0.000001  \n",
      "EVAL: [0/3] Elapsed 0m 0s (remain 0m 0s) Loss: 0.3026(0.3026) \n"
     ]
    },
    {
     "name": "stderr",
     "output_type": "stream",
     "text": [
      "Epoch 22 - avg_train_loss: 0.0947  avg_val_loss: 0.2406  time: 4s\n",
      "Epoch 22 - Score: 0.2464\n"
     ]
    },
    {
     "name": "stdout",
     "output_type": "stream",
     "text": [
      "EVAL: [2/3] Elapsed 0m 0s (remain 0m 0s) Loss: 0.1811(0.2406) \n",
      "Epoch: [23][0/19] Elapsed 0m 0s (remain 0m 2s) Loss: 0.1186(0.1186) Grad: 2.9626  LR: 0.000050  \n",
      "Epoch: [23][10/19] Elapsed 0m 1s (remain 0m 1s) Loss: 0.0632(0.0894) Grad: 9.9759  LR: 0.000050  \n",
      "Epoch: [23][18/19] Elapsed 0m 2s (remain 0m 0s) Loss: 0.0933(0.0892) Grad: 3.4814  LR: 0.000050  \n",
      "EVAL: [0/3] Elapsed 0m 0s (remain 0m 0s) Loss: 0.3156(0.3156) \n"
     ]
    },
    {
     "name": "stderr",
     "output_type": "stream",
     "text": [
      "Epoch 23 - avg_train_loss: 0.0892  avg_val_loss: 0.2433  time: 4s\n",
      "Epoch 23 - Score: 0.2509\n"
     ]
    },
    {
     "name": "stdout",
     "output_type": "stream",
     "text": [
      "EVAL: [2/3] Elapsed 0m 0s (remain 0m 0s) Loss: 0.1773(0.2433) \n",
      "Epoch: [24][0/19] Elapsed 0m 0s (remain 0m 2s) Loss: 0.0643(0.0643) Grad: 2.6738  LR: 0.000224  \n",
      "Epoch: [24][10/19] Elapsed 0m 1s (remain 0m 1s) Loss: 0.0959(0.0952) Grad: 17.9362  LR: 0.000224  \n",
      "Epoch: [24][18/19] Elapsed 0m 2s (remain 0m 0s) Loss: 0.1153(0.1021) Grad: 11.2246  LR: 0.000224  \n",
      "EVAL: [0/3] Elapsed 0m 0s (remain 0m 0s) Loss: 0.3044(0.3044) \n"
     ]
    },
    {
     "name": "stderr",
     "output_type": "stream",
     "text": [
      "Epoch 24 - avg_train_loss: 0.1021  avg_val_loss: 0.2393  time: 4s\n",
      "Epoch 24 - Score: 0.2456\n"
     ]
    },
    {
     "name": "stdout",
     "output_type": "stream",
     "text": [
      "EVAL: [2/3] Elapsed 0m 0s (remain 0m 0s) Loss: 0.1787(0.2393) \n",
      "Epoch: [25][0/19] Elapsed 0m 0s (remain 0m 2s) Loss: 0.0993(0.0993) Grad: 14.2444  LR: 0.000133  \n",
      "Epoch: [25][10/19] Elapsed 0m 1s (remain 0m 1s) Loss: 0.1005(0.1496) Grad: 4.1754  LR: 0.000133  \n",
      "Epoch: [25][18/19] Elapsed 0m 2s (remain 0m 0s) Loss: 0.1895(0.1611) Grad: 16.4217  LR: 0.000133  \n",
      "EVAL: [0/3] Elapsed 0m 0s (remain 0m 0s) Loss: 0.3186(0.3186) \n"
     ]
    },
    {
     "name": "stderr",
     "output_type": "stream",
     "text": [
      "Epoch 25 - avg_train_loss: 0.1611  avg_val_loss: 0.2785  time: 4s\n",
      "Epoch 25 - Score: 0.2822\n"
     ]
    },
    {
     "name": "stdout",
     "output_type": "stream",
     "text": [
      "EVAL: [2/3] Elapsed 0m 0s (remain 0m 0s) Loss: 0.1867(0.2785) \n",
      "Epoch: [26][0/19] Elapsed 0m 0s (remain 0m 2s) Loss: 0.1346(0.1346) Grad: 4.0434  LR: 0.000057  \n",
      "Epoch: [26][10/19] Elapsed 0m 1s (remain 0m 1s) Loss: 0.1187(0.1242) Grad: 11.7084  LR: 0.000057  \n",
      "Epoch: [26][18/19] Elapsed 0m 2s (remain 0m 0s) Loss: 0.1153(0.1270) Grad: 10.8584  LR: 0.000057  \n",
      "EVAL: [0/3] Elapsed 0m 0s (remain 0m 0s) Loss: 0.3015(0.3015) \n"
     ]
    },
    {
     "name": "stderr",
     "output_type": "stream",
     "text": [
      "Epoch 26 - avg_train_loss: 0.1270  avg_val_loss: 0.2734  time: 4s\n",
      "Epoch 26 - Score: 0.2745\n"
     ]
    },
    {
     "name": "stdout",
     "output_type": "stream",
     "text": [
      "EVAL: [2/3] Elapsed 0m 0s (remain 0m 0s) Loss: 0.2436(0.2734) \n",
      "Epoch: [27][0/19] Elapsed 0m 0s (remain 0m 2s) Loss: 0.1711(0.1711) Grad: 18.1117  LR: 0.000009  \n",
      "Epoch: [27][10/19] Elapsed 0m 1s (remain 0m 1s) Loss: 0.0921(0.1291) Grad: 14.2976  LR: 0.000009  \n",
      "Epoch: [27][18/19] Elapsed 0m 2s (remain 0m 0s) Loss: 0.1181(0.1174) Grad: 3.1366  LR: 0.000009  \n",
      "EVAL: [0/3] Elapsed 0m 0s (remain 0m 0s) Loss: 0.3076(0.3076) \n"
     ]
    },
    {
     "name": "stderr",
     "output_type": "stream",
     "text": [
      "Epoch 27 - avg_train_loss: 0.1174  avg_val_loss: 0.2450  time: 4s\n",
      "Epoch 27 - Score: 0.2507\n"
     ]
    },
    {
     "name": "stdout",
     "output_type": "stream",
     "text": [
      "EVAL: [2/3] Elapsed 0m 0s (remain 0m 0s) Loss: 0.1869(0.2450) \n",
      "Epoch: [28][0/19] Elapsed 0m 0s (remain 0m 2s) Loss: 0.0809(0.0809) Grad: 13.9427  LR: 0.000001  \n",
      "Epoch: [28][10/19] Elapsed 0m 1s (remain 0m 1s) Loss: 0.0784(0.0846) Grad: 2.6465  LR: 0.000001  \n",
      "Epoch: [28][18/19] Elapsed 0m 2s (remain 0m 0s) Loss: 0.0768(0.0817) Grad: 8.6729  LR: 0.000001  \n",
      "EVAL: [0/3] Elapsed 0m 0s (remain 0m 0s) Loss: 0.3036(0.3036) \n"
     ]
    },
    {
     "name": "stderr",
     "output_type": "stream",
     "text": [
      "Epoch 28 - avg_train_loss: 0.0817  avg_val_loss: 0.2394  time: 4s\n",
      "Epoch 28 - Score: 0.2456\n"
     ]
    },
    {
     "name": "stdout",
     "output_type": "stream",
     "text": [
      "EVAL: [2/3] Elapsed 0m 0s (remain 0m 0s) Loss: 0.1737(0.2394) \n",
      "Epoch: [29][0/19] Elapsed 0m 0s (remain 0m 2s) Loss: 0.0843(0.0843) Grad: 10.9634  LR: 0.000050  \n",
      "Epoch: [29][10/19] Elapsed 0m 1s (remain 0m 1s) Loss: 0.0779(0.0999) Grad: 6.3805  LR: 0.000050  \n",
      "Epoch: [29][18/19] Elapsed 0m 2s (remain 0m 0s) Loss: 0.0740(0.0957) Grad: 14.0236  LR: 0.000050  \n",
      "EVAL: [0/3] Elapsed 0m 0s (remain 0m 0s) Loss: 0.2887(0.2887) \n"
     ]
    },
    {
     "name": "stderr",
     "output_type": "stream",
     "text": [
      "Epoch 29 - avg_train_loss: 0.0957  avg_val_loss: 0.2386  time: 4s\n",
      "Epoch 29 - Score: 0.2429\n"
     ]
    },
    {
     "name": "stdout",
     "output_type": "stream",
     "text": [
      "EVAL: [2/3] Elapsed 0m 0s (remain 0m 0s) Loss: 0.1680(0.2386) \n",
      "Epoch: [30][0/19] Elapsed 0m 0s (remain 0m 2s) Loss: 0.0945(0.0945) Grad: 10.2837  LR: 0.000224  \n",
      "Epoch: [30][10/19] Elapsed 0m 1s (remain 0m 1s) Loss: 0.0826(0.0949) Grad: 9.7949  LR: 0.000224  \n",
      "Epoch: [30][18/19] Elapsed 0m 2s (remain 0m 0s) Loss: 0.1867(0.0991) Grad: 15.8733  LR: 0.000224  \n",
      "EVAL: [0/3] Elapsed 0m 0s (remain 0m 0s) Loss: 0.2841(0.2841) \n"
     ]
    },
    {
     "name": "stderr",
     "output_type": "stream",
     "text": [
      "Epoch 30 - avg_train_loss: 0.0991  avg_val_loss: 0.2447  time: 4s\n",
      "Epoch 30 - Score: 0.2470\n"
     ]
    },
    {
     "name": "stdout",
     "output_type": "stream",
     "text": [
      "EVAL: [2/3] Elapsed 0m 0s (remain 0m 0s) Loss: 0.2112(0.2447) \n",
      "Epoch: [31][0/19] Elapsed 0m 0s (remain 0m 2s) Loss: 0.1065(0.1065) Grad: 13.5198  LR: 0.000133  \n",
      "Epoch: [31][10/19] Elapsed 0m 1s (remain 0m 1s) Loss: 0.1036(0.1844) Grad: 7.5345  LR: 0.000133  \n",
      "Epoch: [31][18/19] Elapsed 0m 2s (remain 0m 0s) Loss: 0.1219(0.1657) Grad: 15.3002  LR: 0.000133  \n",
      "EVAL: [0/3] Elapsed 0m 0s (remain 0m 0s) Loss: 0.3223(0.3223) \n"
     ]
    },
    {
     "name": "stderr",
     "output_type": "stream",
     "text": [
      "Epoch 31 - avg_train_loss: 0.1657  avg_val_loss: 0.2810  time: 4s\n",
      "Epoch 31 - Score: 0.2836\n"
     ]
    },
    {
     "name": "stdout",
     "output_type": "stream",
     "text": [
      "EVAL: [2/3] Elapsed 0m 0s (remain 0m 0s) Loss: 0.2206(0.2810) \n",
      "Epoch: [32][0/19] Elapsed 0m 0s (remain 0m 2s) Loss: 0.1525(0.1525) Grad: 17.2768  LR: 0.000057  \n",
      "Epoch: [32][10/19] Elapsed 0m 1s (remain 0m 1s) Loss: 0.1464(0.1623) Grad: 3.0523  LR: 0.000057  \n",
      "Epoch: [32][18/19] Elapsed 0m 2s (remain 0m 0s) Loss: 0.1390(0.1711) Grad: 17.2413  LR: 0.000057  \n",
      "EVAL: [0/3] Elapsed 0m 0s (remain 0m 0s) Loss: 0.3227(0.3227) \n"
     ]
    },
    {
     "name": "stderr",
     "output_type": "stream",
     "text": [
      "Epoch 32 - avg_train_loss: 0.1711  avg_val_loss: 0.2577  time: 4s\n",
      "Epoch 32 - Score: 0.2637\n"
     ]
    },
    {
     "name": "stdout",
     "output_type": "stream",
     "text": [
      "EVAL: [2/3] Elapsed 0m 0s (remain 0m 0s) Loss: 0.1849(0.2577) \n",
      "Epoch: [33][0/19] Elapsed 0m 0s (remain 0m 2s) Loss: 0.1240(0.1240) Grad: 14.7114  LR: 0.000009  \n",
      "Epoch: [33][10/19] Elapsed 0m 1s (remain 0m 1s) Loss: 0.0876(0.1152) Grad: 8.3416  LR: 0.000009  \n",
      "Epoch: [33][18/19] Elapsed 0m 2s (remain 0m 0s) Loss: 0.1010(0.1063) Grad: 14.2208  LR: 0.000009  \n",
      "EVAL: [0/3] Elapsed 0m 0s (remain 0m 0s) Loss: 0.3308(0.3308) \n"
     ]
    },
    {
     "name": "stderr",
     "output_type": "stream",
     "text": [
      "Epoch 33 - avg_train_loss: 0.1063  avg_val_loss: 0.2462  time: 4s\n",
      "Epoch 33 - Score: 0.2566\n"
     ]
    },
    {
     "name": "stdout",
     "output_type": "stream",
     "text": [
      "EVAL: [2/3] Elapsed 0m 0s (remain 0m 0s) Loss: 0.1600(0.2462) \n",
      "Epoch: [34][0/19] Elapsed 0m 0s (remain 0m 2s) Loss: 0.1254(0.1254) Grad: 13.2602  LR: 0.000001  \n",
      "Epoch: [34][10/19] Elapsed 0m 1s (remain 0m 1s) Loss: 0.0816(0.0886) Grad: 3.1243  LR: 0.000001  \n",
      "Epoch: [34][18/19] Elapsed 0m 2s (remain 0m 0s) Loss: 0.0909(0.0886) Grad: 3.9303  LR: 0.000001  \n",
      "EVAL: [0/3] Elapsed 0m 0s (remain 0m 0s) Loss: 0.3126(0.3126) \n"
     ]
    },
    {
     "name": "stderr",
     "output_type": "stream",
     "text": [
      "Epoch 34 - avg_train_loss: 0.0886  avg_val_loss: 0.2374  time: 4s\n",
      "Epoch 34 - Score: 0.2462\n"
     ]
    },
    {
     "name": "stdout",
     "output_type": "stream",
     "text": [
      "EVAL: [2/3] Elapsed 0m 0s (remain 0m 0s) Loss: 0.1517(0.2374) \n",
      "Epoch: [35][0/19] Elapsed 0m 0s (remain 0m 2s) Loss: 0.0745(0.0745) Grad: 4.2983  LR: 0.000050  \n",
      "Epoch: [35][10/19] Elapsed 0m 1s (remain 0m 1s) Loss: 0.0797(0.0853) Grad: 2.7878  LR: 0.000050  \n",
      "Epoch: [35][18/19] Elapsed 0m 2s (remain 0m 0s) Loss: 0.0854(0.0870) Grad: 2.8514  LR: 0.000050  \n",
      "EVAL: [0/3] Elapsed 0m 0s (remain 0m 0s) Loss: 0.3184(0.3184) \n"
     ]
    },
    {
     "name": "stderr",
     "output_type": "stream",
     "text": [
      "Epoch 35 - avg_train_loss: 0.0870  avg_val_loss: 0.2473  time: 4s\n",
      "Epoch 35 - Score: 0.2554\n"
     ]
    },
    {
     "name": "stdout",
     "output_type": "stream",
     "text": [
      "EVAL: [2/3] Elapsed 0m 0s (remain 0m 0s) Loss: 0.1512(0.2473) \n",
      "Epoch: [36][0/19] Elapsed 0m 0s (remain 0m 2s) Loss: 0.0865(0.0865) Grad: 10.8174  LR: 0.000224  \n",
      "Epoch: [36][10/19] Elapsed 0m 1s (remain 0m 1s) Loss: 0.1113(0.1025) Grad: 3.7528  LR: 0.000224  \n",
      "Epoch: [36][18/19] Elapsed 0m 2s (remain 0m 0s) Loss: 0.1245(0.1030) Grad: 17.2635  LR: 0.000224  \n",
      "EVAL: [0/3] Elapsed 0m 0s (remain 0m 0s) Loss: 0.3136(0.3136) \n"
     ]
    },
    {
     "name": "stderr",
     "output_type": "stream",
     "text": [
      "Epoch 36 - avg_train_loss: 0.1030  avg_val_loss: 0.2535  time: 4s\n",
      "Epoch 36 - Score: 0.2586\n"
     ]
    },
    {
     "name": "stdout",
     "output_type": "stream",
     "text": [
      "EVAL: [2/3] Elapsed 0m 0s (remain 0m 0s) Loss: 0.1956(0.2535) \n",
      "Epoch: [37][0/19] Elapsed 0m 0s (remain 0m 2s) Loss: 0.1046(0.1046) Grad: 13.7870  LR: 0.000133  \n",
      "Epoch: [37][10/19] Elapsed 0m 1s (remain 0m 1s) Loss: 0.0985(0.1016) Grad: 3.1970  LR: 0.000133  \n",
      "Epoch: [37][18/19] Elapsed 0m 2s (remain 0m 0s) Loss: 0.1462(0.1051) Grad: 16.4439  LR: 0.000133  \n",
      "EVAL: [0/3] Elapsed 0m 0s (remain 0m 0s) Loss: 0.3228(0.3228) \n"
     ]
    },
    {
     "name": "stderr",
     "output_type": "stream",
     "text": [
      "Epoch 37 - avg_train_loss: 0.1051  avg_val_loss: 0.2581  time: 4s\n",
      "Epoch 37 - Score: 0.2642\n"
     ]
    },
    {
     "name": "stdout",
     "output_type": "stream",
     "text": [
      "EVAL: [2/3] Elapsed 0m 0s (remain 0m 0s) Loss: 0.1799(0.2581) \n",
      "Epoch: [38][0/19] Elapsed 0m 0s (remain 0m 2s) Loss: 0.0804(0.0804) Grad: 2.9539  LR: 0.000057  \n",
      "Epoch: [38][10/19] Elapsed 0m 1s (remain 0m 1s) Loss: 0.1265(0.1209) Grad: 15.9664  LR: 0.000057  \n",
      "Epoch: [38][18/19] Elapsed 0m 2s (remain 0m 0s) Loss: 0.1250(0.1320) Grad: 13.6054  LR: 0.000057  \n",
      "EVAL: [0/3] Elapsed 0m 0s (remain 0m 0s) Loss: 0.3225(0.3225) \n"
     ]
    },
    {
     "name": "stderr",
     "output_type": "stream",
     "text": [
      "Epoch 38 - avg_train_loss: 0.1320  avg_val_loss: 0.2909  time: 4s\n",
      "Epoch 38 - Score: 0.2922\n"
     ]
    },
    {
     "name": "stdout",
     "output_type": "stream",
     "text": [
      "EVAL: [2/3] Elapsed 0m 0s (remain 0m 0s) Loss: 0.2518(0.2909) \n",
      "Epoch: [39][0/19] Elapsed 0m 0s (remain 0m 2s) Loss: 0.2240(0.2240) Grad: 22.2141  LR: 0.000009  \n",
      "Epoch: [39][10/19] Elapsed 0m 1s (remain 0m 1s) Loss: 0.1065(0.1491) Grad: 15.3506  LR: 0.000009  \n",
      "Epoch: [39][18/19] Elapsed 0m 2s (remain 0m 0s) Loss: 0.0684(0.1289) Grad: 3.5599  LR: 0.000009  \n",
      "EVAL: [0/3] Elapsed 0m 0s (remain 0m 0s) Loss: 0.3026(0.3026) \n"
     ]
    },
    {
     "name": "stderr",
     "output_type": "stream",
     "text": [
      "Epoch 39 - avg_train_loss: 0.1289  avg_val_loss: 0.2449  time: 4s\n",
      "Epoch 39 - Score: 0.2504\n"
     ]
    },
    {
     "name": "stdout",
     "output_type": "stream",
     "text": [
      "EVAL: [2/3] Elapsed 0m 0s (remain 0m 0s) Loss: 0.1637(0.2449) \n",
      "Epoch: [40][0/19] Elapsed 0m 0s (remain 0m 2s) Loss: 0.0764(0.0764) Grad: 7.3330  LR: 0.000001  \n",
      "Epoch: [40][10/19] Elapsed 0m 1s (remain 0m 1s) Loss: 0.0595(0.0761) Grad: 4.7783  LR: 0.000001  \n",
      "Epoch: [40][18/19] Elapsed 0m 2s (remain 0m 0s) Loss: 0.0743(0.0754) Grad: 6.0393  LR: 0.000001  \n",
      "EVAL: [0/3] Elapsed 0m 0s (remain 0m 0s) Loss: 0.3034(0.3034) \n"
     ]
    },
    {
     "name": "stderr",
     "output_type": "stream",
     "text": [
      "Epoch 40 - avg_train_loss: 0.0754  avg_val_loss: 0.2458  time: 4s\n",
      "Epoch 40 - Score: 0.2510\n",
      "========== fold: 1 result ==========\n",
      "Score: 0.2399\n",
      "========== fold: 2 training ==========\n"
     ]
    },
    {
     "name": "stdout",
     "output_type": "stream",
     "text": [
      "EVAL: [2/3] Elapsed 0m 0s (remain 0m 0s) Loss: 0.1739(0.2458) \n",
      "Epoch: [1][0/19] Elapsed 0m 0s (remain 0m 2s) Loss: 3.5416(3.5416) Grad: 27.1985  LR: 0.000100  \n",
      "Epoch: [1][10/19] Elapsed 0m 1s (remain 0m 1s) Loss: 0.5897(1.0881) Grad: 26.9556  LR: 0.000100  \n",
      "Epoch: [1][18/19] Elapsed 0m 2s (remain 0m 0s) Loss: 0.4450(0.8370) Grad: 10.0541  LR: 0.000100  \n",
      "EVAL: [0/3] Elapsed 0m 0s (remain 0m 0s) Loss: 0.4598(0.4598) \n"
     ]
    },
    {
     "name": "stderr",
     "output_type": "stream",
     "text": [
      "Epoch 1 - avg_train_loss: 0.8370  avg_val_loss: 0.4423  time: 3s\n",
      "Epoch 1 - Score: 0.4436\n",
      "Epoch 1 - Save Best Score: 0.4436 Model\n"
     ]
    },
    {
     "name": "stdout",
     "output_type": "stream",
     "text": [
      "EVAL: [2/3] Elapsed 0m 0s (remain 0m 0s) Loss: 0.3680(0.4423) \n",
      "Epoch: [2][0/19] Elapsed 0m 0s (remain 0m 2s) Loss: 0.3622(0.3622) Grad: 22.4002  LR: 0.000057  \n",
      "Epoch: [2][10/19] Elapsed 0m 1s (remain 0m 1s) Loss: 0.3432(0.3702) Grad: 5.7449  LR: 0.000057  \n",
      "Epoch: [2][18/19] Elapsed 0m 2s (remain 0m 0s) Loss: 0.3623(0.3587) Grad: 24.2501  LR: 0.000057  \n",
      "EVAL: [0/3] Elapsed 0m 0s (remain 0m 0s) Loss: 0.3743(0.3743) \n"
     ]
    },
    {
     "name": "stderr",
     "output_type": "stream",
     "text": [
      "Epoch 2 - avg_train_loss: 0.3587  avg_val_loss: 0.3430  time: 4s\n",
      "Epoch 2 - Score: 0.3474\n",
      "Epoch 2 - Save Best Score: 0.3474 Model\n"
     ]
    },
    {
     "name": "stdout",
     "output_type": "stream",
     "text": [
      "EVAL: [2/3] Elapsed 0m 0s (remain 0m 0s) Loss: 0.2207(0.3430) \n",
      "Epoch: [3][0/19] Elapsed 0m 0s (remain 0m 2s) Loss: 0.2167(0.2167) Grad: 5.5331  LR: 0.000009  \n",
      "Epoch: [3][10/19] Elapsed 0m 1s (remain 0m 1s) Loss: 0.2206(0.2480) Grad: 9.9110  LR: 0.000009  \n",
      "Epoch: [3][18/19] Elapsed 0m 2s (remain 0m 0s) Loss: 0.2349(0.2447) Grad: 14.7552  LR: 0.000009  \n",
      "EVAL: [0/3] Elapsed 0m 0s (remain 0m 0s) Loss: 0.3350(0.3350) \n"
     ]
    },
    {
     "name": "stderr",
     "output_type": "stream",
     "text": [
      "Epoch 3 - avg_train_loss: 0.2447  avg_val_loss: 0.2986  time: 4s\n",
      "Epoch 3 - Score: 0.3020\n",
      "Epoch 3 - Save Best Score: 0.3020 Model\n"
     ]
    },
    {
     "name": "stdout",
     "output_type": "stream",
     "text": [
      "EVAL: [2/3] Elapsed 0m 0s (remain 0m 0s) Loss: 0.2051(0.2986) \n",
      "Epoch: [4][0/19] Elapsed 0m 0s (remain 0m 2s) Loss: 0.2571(0.2571) Grad: 10.8370  LR: 0.000001  \n",
      "Epoch: [4][10/19] Elapsed 0m 1s (remain 0m 1s) Loss: 0.2009(0.2125) Grad: 4.7295  LR: 0.000001  \n",
      "Epoch: [4][18/19] Elapsed 0m 2s (remain 0m 0s) Loss: 0.1809(0.2013) Grad: 6.5238  LR: 0.000001  \n",
      "EVAL: [0/3] Elapsed 0m 0s (remain 0m 0s) Loss: 0.2953(0.2953) \n"
     ]
    },
    {
     "name": "stderr",
     "output_type": "stream",
     "text": [
      "Epoch 4 - avg_train_loss: 0.2013  avg_val_loss: 0.2952  time: 4s\n",
      "Epoch 4 - Score: 0.2981\n",
      "Epoch 4 - Save Best Score: 0.2981 Model\n"
     ]
    },
    {
     "name": "stdout",
     "output_type": "stream",
     "text": [
      "EVAL: [2/3] Elapsed 0m 0s (remain 0m 0s) Loss: 0.2096(0.2952) \n",
      "Epoch: [5][0/19] Elapsed 0m 0s (remain 0m 2s) Loss: 0.2250(0.2250) Grad: 4.2219  LR: 0.000050  \n",
      "Epoch: [5][10/19] Elapsed 0m 1s (remain 0m 1s) Loss: 0.1863(0.2033) Grad: 3.7114  LR: 0.000050  \n",
      "Epoch: [5][18/19] Elapsed 0m 2s (remain 0m 0s) Loss: 0.2440(0.2061) Grad: 11.4141  LR: 0.000050  \n",
      "EVAL: [0/3] Elapsed 0m 0s (remain 0m 0s) Loss: 0.3068(0.3068) \n"
     ]
    },
    {
     "name": "stderr",
     "output_type": "stream",
     "text": [
      "Epoch 5 - avg_train_loss: 0.2061  avg_val_loss: 0.2988  time: 3s\n",
      "Epoch 5 - Score: 0.3004\n"
     ]
    },
    {
     "name": "stdout",
     "output_type": "stream",
     "text": [
      "EVAL: [2/3] Elapsed 0m 0s (remain 0m 0s) Loss: 0.2304(0.2988) \n",
      "Epoch: [6][0/19] Elapsed 0m 0s (remain 0m 2s) Loss: 0.1622(0.1622) Grad: 13.6969  LR: 0.000224  \n",
      "Epoch: [6][10/19] Elapsed 0m 1s (remain 0m 1s) Loss: 0.1871(0.2168) Grad: 5.1926  LR: 0.000224  \n",
      "Epoch: [6][18/19] Elapsed 0m 2s (remain 0m 0s) Loss: 0.2863(0.2141) Grad: 22.6374  LR: 0.000224  \n",
      "EVAL: [0/3] Elapsed 0m 0s (remain 0m 0s) Loss: 0.4728(0.4728) \n"
     ]
    },
    {
     "name": "stderr",
     "output_type": "stream",
     "text": [
      "Epoch 6 - avg_train_loss: 0.2141  avg_val_loss: 0.4762  time: 4s\n",
      "Epoch 6 - Score: 0.4769\n"
     ]
    },
    {
     "name": "stdout",
     "output_type": "stream",
     "text": [
      "EVAL: [2/3] Elapsed 0m 0s (remain 0m 0s) Loss: 0.4255(0.4762) \n",
      "Epoch: [7][0/19] Elapsed 0m 0s (remain 0m 2s) Loss: 0.4477(0.4477) Grad: 32.3976  LR: 0.000133  \n",
      "Epoch: [7][10/19] Elapsed 0m 1s (remain 0m 1s) Loss: 0.4689(0.4644) Grad: 29.4542  LR: 0.000133  \n",
      "Epoch: [7][18/19] Elapsed 0m 2s (remain 0m 0s) Loss: 0.3576(0.4277) Grad: 18.8696  LR: 0.000133  \n",
      "EVAL: [0/3] Elapsed 0m 0s (remain 0m 0s) Loss: 0.5544(0.5544) \n"
     ]
    },
    {
     "name": "stderr",
     "output_type": "stream",
     "text": [
      "Epoch 7 - avg_train_loss: 0.4277  avg_val_loss: 0.5588  time: 4s\n",
      "Epoch 7 - Score: 0.5589\n"
     ]
    },
    {
     "name": "stdout",
     "output_type": "stream",
     "text": [
      "EVAL: [2/3] Elapsed 0m 0s (remain 0m 0s) Loss: 0.5419(0.5588) \n",
      "Epoch: [8][0/19] Elapsed 0m 0s (remain 0m 2s) Loss: 0.5333(0.5333) Grad: 23.4642  LR: 0.000057  \n",
      "Epoch: [8][10/19] Elapsed 0m 1s (remain 0m 1s) Loss: 0.3373(0.3373) Grad: 23.8418  LR: 0.000057  \n",
      "Epoch: [8][18/19] Elapsed 0m 2s (remain 0m 0s) Loss: 0.2006(0.3066) Grad: 7.9299  LR: 0.000057  \n",
      "EVAL: [0/3] Elapsed 0m 0s (remain 0m 0s) Loss: 0.3301(0.3301) \n"
     ]
    },
    {
     "name": "stderr",
     "output_type": "stream",
     "text": [
      "Epoch 8 - avg_train_loss: 0.3066  avg_val_loss: 0.3149  time: 4s\n",
      "Epoch 8 - Score: 0.3156\n"
     ]
    },
    {
     "name": "stdout",
     "output_type": "stream",
     "text": [
      "EVAL: [2/3] Elapsed 0m 0s (remain 0m 0s) Loss: 0.2664(0.3149) \n",
      "Epoch: [9][0/19] Elapsed 0m 0s (remain 0m 2s) Loss: 0.1839(0.1839) Grad: 13.9038  LR: 0.000009  \n",
      "Epoch: [9][10/19] Elapsed 0m 1s (remain 0m 1s) Loss: 0.1937(0.1897) Grad: 11.6187  LR: 0.000009  \n",
      "Epoch: [9][18/19] Elapsed 0m 2s (remain 0m 0s) Loss: 0.2015(0.1869) Grad: 17.5882  LR: 0.000009  \n",
      "EVAL: [0/3] Elapsed 0m 0s (remain 0m 0s) Loss: 0.3092(0.3092) \n"
     ]
    },
    {
     "name": "stderr",
     "output_type": "stream",
     "text": [
      "Epoch 9 - avg_train_loss: 0.1869  avg_val_loss: 0.2839  time: 3s\n",
      "Epoch 9 - Score: 0.2863\n",
      "Epoch 9 - Save Best Score: 0.2863 Model\n"
     ]
    },
    {
     "name": "stdout",
     "output_type": "stream",
     "text": [
      "EVAL: [2/3] Elapsed 0m 0s (remain 0m 0s) Loss: 0.2036(0.2839) \n",
      "Epoch: [10][0/19] Elapsed 0m 0s (remain 0m 2s) Loss: 0.1502(0.1502) Grad: 10.7876  LR: 0.000001  \n",
      "Epoch: [10][10/19] Elapsed 0m 1s (remain 0m 1s) Loss: 0.1412(0.1367) Grad: 3.3833  LR: 0.000001  \n",
      "Epoch: [10][18/19] Elapsed 0m 2s (remain 0m 0s) Loss: 0.1408(0.1403) Grad: 3.5660  LR: 0.000001  \n",
      "EVAL: [0/3] Elapsed 0m 0s (remain 0m 0s) Loss: 0.2970(0.2970) \n"
     ]
    },
    {
     "name": "stderr",
     "output_type": "stream",
     "text": [
      "Epoch 10 - avg_train_loss: 0.1403  avg_val_loss: 0.2706  time: 4s\n",
      "Epoch 10 - Score: 0.2742\n",
      "Epoch 10 - Save Best Score: 0.2742 Model\n"
     ]
    },
    {
     "name": "stdout",
     "output_type": "stream",
     "text": [
      "EVAL: [2/3] Elapsed 0m 0s (remain 0m 0s) Loss: 0.1732(0.2706) \n",
      "Epoch: [11][0/19] Elapsed 0m 0s (remain 0m 2s) Loss: 0.1130(0.1130) Grad: 7.6307  LR: 0.000050  \n",
      "Epoch: [11][10/19] Elapsed 0m 1s (remain 0m 1s) Loss: 0.1351(0.1350) Grad: 2.9988  LR: 0.000050  \n",
      "Epoch: [11][18/19] Elapsed 0m 2s (remain 0m 0s) Loss: 0.1255(0.1298) Grad: 7.9384  LR: 0.000050  \n",
      "EVAL: [0/3] Elapsed 0m 0s (remain 0m 0s) Loss: 0.2773(0.2773) \n"
     ]
    },
    {
     "name": "stderr",
     "output_type": "stream",
     "text": [
      "Epoch 11 - avg_train_loss: 0.1298  avg_val_loss: 0.2551  time: 4s\n",
      "Epoch 11 - Score: 0.2577\n",
      "Epoch 11 - Save Best Score: 0.2577 Model\n"
     ]
    },
    {
     "name": "stdout",
     "output_type": "stream",
     "text": [
      "EVAL: [2/3] Elapsed 0m 0s (remain 0m 0s) Loss: 0.1746(0.2551) \n",
      "Epoch: [12][0/19] Elapsed 0m 0s (remain 0m 2s) Loss: 0.0968(0.0968) Grad: 6.9409  LR: 0.000224  \n",
      "Epoch: [12][10/19] Elapsed 0m 1s (remain 0m 1s) Loss: 0.1480(0.1756) Grad: 11.3487  LR: 0.000224  \n",
      "Epoch: [12][18/19] Elapsed 0m 2s (remain 0m 0s) Loss: 0.1658(0.1728) Grad: 17.3410  LR: 0.000224  \n",
      "EVAL: [0/3] Elapsed 0m 0s (remain 0m 0s) Loss: 0.2765(0.2765) \n"
     ]
    },
    {
     "name": "stderr",
     "output_type": "stream",
     "text": [
      "Epoch 12 - avg_train_loss: 0.1728  avg_val_loss: 0.2679  time: 4s\n",
      "Epoch 12 - Score: 0.2691\n"
     ]
    },
    {
     "name": "stdout",
     "output_type": "stream",
     "text": [
      "EVAL: [2/3] Elapsed 0m 0s (remain 0m 0s) Loss: 0.2131(0.2679) \n",
      "Epoch: [13][0/19] Elapsed 0m 0s (remain 0m 2s) Loss: 0.1577(0.1577) Grad: 2.8633  LR: 0.000133  \n",
      "Epoch: [13][10/19] Elapsed 0m 1s (remain 0m 1s) Loss: 0.2124(0.1746) Grad: 20.3451  LR: 0.000133  \n",
      "Epoch: [13][18/19] Elapsed 0m 2s (remain 0m 0s) Loss: 0.3160(0.2053) Grad: 21.4800  LR: 0.000133  \n",
      "EVAL: [0/3] Elapsed 0m 0s (remain 0m 0s) Loss: 0.2819(0.2819) \n"
     ]
    },
    {
     "name": "stderr",
     "output_type": "stream",
     "text": [
      "Epoch 13 - avg_train_loss: 0.2053  avg_val_loss: 0.2896  time: 4s\n",
      "Epoch 13 - Score: 0.2907\n"
     ]
    },
    {
     "name": "stdout",
     "output_type": "stream",
     "text": [
      "EVAL: [2/3] Elapsed 0m 0s (remain 0m 0s) Loss: 0.2451(0.2896) \n",
      "Epoch: [14][0/19] Elapsed 0m 0s (remain 0m 2s) Loss: 0.1937(0.1937) Grad: 5.7802  LR: 0.000057  \n",
      "Epoch: [14][10/19] Elapsed 0m 1s (remain 0m 1s) Loss: 0.1508(0.2008) Grad: 17.2719  LR: 0.000057  \n",
      "Epoch: [14][18/19] Elapsed 0m 2s (remain 0m 0s) Loss: 0.1721(0.1918) Grad: 12.9551  LR: 0.000057  \n",
      "EVAL: [0/3] Elapsed 0m 0s (remain 0m 0s) Loss: 0.3449(0.3449) \n"
     ]
    },
    {
     "name": "stderr",
     "output_type": "stream",
     "text": [
      "Epoch 14 - avg_train_loss: 0.1918  avg_val_loss: 0.3411  time: 4s\n",
      "Epoch 14 - Score: 0.3436\n"
     ]
    },
    {
     "name": "stdout",
     "output_type": "stream",
     "text": [
      "EVAL: [2/3] Elapsed 0m 0s (remain 0m 0s) Loss: 0.2535(0.3411) \n",
      "Epoch: [15][0/19] Elapsed 0m 0s (remain 0m 2s) Loss: 0.2240(0.2240) Grad: 19.0868  LR: 0.000009  \n",
      "Epoch: [15][10/19] Elapsed 0m 1s (remain 0m 1s) Loss: 0.1220(0.1653) Grad: 15.3603  LR: 0.000009  \n",
      "Epoch: [15][18/19] Elapsed 0m 2s (remain 0m 0s) Loss: 0.1014(0.1467) Grad: 3.7807  LR: 0.000009  \n",
      "EVAL: [0/3] Elapsed 0m 0s (remain 0m 0s) Loss: 0.2743(0.2743) \n"
     ]
    },
    {
     "name": "stderr",
     "output_type": "stream",
     "text": [
      "Epoch 15 - avg_train_loss: 0.1467  avg_val_loss: 0.2515  time: 4s\n",
      "Epoch 15 - Score: 0.2559\n",
      "Epoch 15 - Save Best Score: 0.2559 Model\n"
     ]
    },
    {
     "name": "stdout",
     "output_type": "stream",
     "text": [
      "EVAL: [2/3] Elapsed 0m 0s (remain 0m 0s) Loss: 0.1461(0.2515) \n",
      "Epoch: [16][0/19] Elapsed 0m 0s (remain 0m 2s) Loss: 0.0925(0.0925) Grad: 7.0536  LR: 0.000001  \n",
      "Epoch: [16][10/19] Elapsed 0m 1s (remain 0m 1s) Loss: 0.1443(0.1102) Grad: 10.8591  LR: 0.000001  \n",
      "Epoch: [16][18/19] Elapsed 0m 2s (remain 0m 0s) Loss: 0.0937(0.1086) Grad: 4.5752  LR: 0.000001  \n",
      "EVAL: [0/3] Elapsed 0m 0s (remain 0m 0s) Loss: 0.2922(0.2922) \n"
     ]
    },
    {
     "name": "stderr",
     "output_type": "stream",
     "text": [
      "Epoch 16 - avg_train_loss: 0.1086  avg_val_loss: 0.2648  time: 4s\n",
      "Epoch 16 - Score: 0.2693\n"
     ]
    },
    {
     "name": "stdout",
     "output_type": "stream",
     "text": [
      "EVAL: [2/3] Elapsed 0m 0s (remain 0m 0s) Loss: 0.1557(0.2648) \n",
      "Epoch: [17][0/19] Elapsed 0m 0s (remain 0m 2s) Loss: 0.1186(0.1186) Grad: 10.6610  LR: 0.000050  \n",
      "Epoch: [17][10/19] Elapsed 0m 1s (remain 0m 1s) Loss: 0.1557(0.1149) Grad: 10.0646  LR: 0.000050  \n",
      "Epoch: [17][18/19] Elapsed 0m 2s (remain 0m 0s) Loss: 0.0974(0.1066) Grad: 3.3320  LR: 0.000050  \n",
      "EVAL: [0/3] Elapsed 0m 0s (remain 0m 0s) Loss: 0.2679(0.2679) \n"
     ]
    },
    {
     "name": "stderr",
     "output_type": "stream",
     "text": [
      "Epoch 17 - avg_train_loss: 0.1066  avg_val_loss: 0.2524  time: 4s\n",
      "Epoch 17 - Score: 0.2545\n",
      "Epoch 17 - Save Best Score: 0.2545 Model\n"
     ]
    },
    {
     "name": "stdout",
     "output_type": "stream",
     "text": [
      "EVAL: [2/3] Elapsed 0m 0s (remain 0m 0s) Loss: 0.1799(0.2524) \n",
      "Epoch: [18][0/19] Elapsed 0m 0s (remain 0m 2s) Loss: 0.0930(0.0930) Grad: 9.5222  LR: 0.000224  \n",
      "Epoch: [18][10/19] Elapsed 0m 1s (remain 0m 1s) Loss: 0.1293(0.1166) Grad: 14.5535  LR: 0.000224  \n",
      "Epoch: [18][18/19] Elapsed 0m 2s (remain 0m 0s) Loss: 0.1682(0.1255) Grad: 22.5901  LR: 0.000224  \n",
      "EVAL: [0/3] Elapsed 0m 0s (remain 0m 0s) Loss: 0.2660(0.2660) \n"
     ]
    },
    {
     "name": "stderr",
     "output_type": "stream",
     "text": [
      "Epoch 18 - avg_train_loss: 0.1255  avg_val_loss: 0.2549  time: 3s\n",
      "Epoch 18 - Score: 0.2584\n"
     ]
    },
    {
     "name": "stdout",
     "output_type": "stream",
     "text": [
      "EVAL: [2/3] Elapsed 0m 0s (remain 0m 0s) Loss: 0.1618(0.2549) \n",
      "Epoch: [19][0/19] Elapsed 0m 0s (remain 0m 2s) Loss: 0.1398(0.1398) Grad: 11.0775  LR: 0.000133  \n",
      "Epoch: [19][10/19] Elapsed 0m 1s (remain 0m 1s) Loss: 0.1002(0.1417) Grad: 4.4970  LR: 0.000133  \n",
      "Epoch: [19][18/19] Elapsed 0m 2s (remain 0m 0s) Loss: 0.1674(0.1631) Grad: 15.2119  LR: 0.000133  \n",
      "EVAL: [0/3] Elapsed 0m 0s (remain 0m 0s) Loss: 0.3389(0.3389) \n"
     ]
    },
    {
     "name": "stderr",
     "output_type": "stream",
     "text": [
      "Epoch 19 - avg_train_loss: 0.1631  avg_val_loss: 0.3286  time: 4s\n",
      "Epoch 19 - Score: 0.3304\n"
     ]
    },
    {
     "name": "stdout",
     "output_type": "stream",
     "text": [
      "EVAL: [2/3] Elapsed 0m 0s (remain 0m 0s) Loss: 0.2544(0.3286) \n",
      "Epoch: [20][0/19] Elapsed 0m 0s (remain 0m 2s) Loss: 0.1754(0.1754) Grad: 20.5280  LR: 0.000057  \n",
      "Epoch: [20][10/19] Elapsed 0m 1s (remain 0m 1s) Loss: 0.1431(0.1637) Grad: 4.6889  LR: 0.000057  \n",
      "Epoch: [20][18/19] Elapsed 0m 2s (remain 0m 0s) Loss: 0.1277(0.1496) Grad: 11.4956  LR: 0.000057  \n",
      "EVAL: [0/3] Elapsed 0m 0s (remain 0m 0s) Loss: 0.3595(0.3595) \n"
     ]
    },
    {
     "name": "stderr",
     "output_type": "stream",
     "text": [
      "Epoch 20 - avg_train_loss: 0.1496  avg_val_loss: 0.3357  time: 3s\n",
      "Epoch 20 - Score: 0.3371\n"
     ]
    },
    {
     "name": "stdout",
     "output_type": "stream",
     "text": [
      "EVAL: [2/3] Elapsed 0m 0s (remain 0m 0s) Loss: 0.2726(0.3357) \n",
      "Epoch: [21][0/19] Elapsed 0m 0s (remain 0m 2s) Loss: 0.2084(0.2084) Grad: 21.0387  LR: 0.000009  \n",
      "Epoch: [21][10/19] Elapsed 0m 1s (remain 0m 1s) Loss: 0.1180(0.1393) Grad: 10.8797  LR: 0.000009  \n",
      "Epoch: [21][18/19] Elapsed 0m 2s (remain 0m 0s) Loss: 0.0834(0.1255) Grad: 4.6566  LR: 0.000009  \n",
      "EVAL: [0/3] Elapsed 0m 0s (remain 0m 0s) Loss: 0.2868(0.2868) \n"
     ]
    },
    {
     "name": "stderr",
     "output_type": "stream",
     "text": [
      "Epoch 21 - avg_train_loss: 0.1255  avg_val_loss: 0.2567  time: 3s\n",
      "Epoch 21 - Score: 0.2602\n"
     ]
    },
    {
     "name": "stdout",
     "output_type": "stream",
     "text": [
      "EVAL: [2/3] Elapsed 0m 0s (remain 0m 0s) Loss: 0.1649(0.2567) \n",
      "Epoch: [22][0/19] Elapsed 0m 0s (remain 0m 2s) Loss: 0.0721(0.0721) Grad: 8.8945  LR: 0.000001  \n",
      "Epoch: [22][10/19] Elapsed 0m 1s (remain 0m 1s) Loss: 0.0945(0.1028) Grad: 3.5677  LR: 0.000001  \n",
      "Epoch: [22][18/19] Elapsed 0m 2s (remain 0m 0s) Loss: 0.0877(0.0961) Grad: 8.2353  LR: 0.000001  \n",
      "EVAL: [0/3] Elapsed 0m 0s (remain 0m 0s) Loss: 0.2789(0.2789) \n"
     ]
    },
    {
     "name": "stderr",
     "output_type": "stream",
     "text": [
      "Epoch 22 - avg_train_loss: 0.0961  avg_val_loss: 0.2482  time: 3s\n",
      "Epoch 22 - Score: 0.2512\n",
      "Epoch 22 - Save Best Score: 0.2512 Model\n"
     ]
    },
    {
     "name": "stdout",
     "output_type": "stream",
     "text": [
      "EVAL: [2/3] Elapsed 0m 0s (remain 0m 0s) Loss: 0.1660(0.2482) \n",
      "Epoch: [23][0/19] Elapsed 0m 0s (remain 0m 2s) Loss: 0.1090(0.1090) Grad: 2.5347  LR: 0.000050  \n",
      "Epoch: [23][10/19] Elapsed 0m 1s (remain 0m 1s) Loss: 0.0810(0.0821) Grad: 6.9404  LR: 0.000050  \n",
      "Epoch: [23][18/19] Elapsed 0m 2s (remain 0m 0s) Loss: 0.1124(0.0846) Grad: 16.4074  LR: 0.000050  \n",
      "EVAL: [0/3] Elapsed 0m 0s (remain 0m 0s) Loss: 0.2702(0.2702) \n"
     ]
    },
    {
     "name": "stderr",
     "output_type": "stream",
     "text": [
      "Epoch 23 - avg_train_loss: 0.0846  avg_val_loss: 0.2478  time: 4s\n",
      "Epoch 23 - Score: 0.2526\n"
     ]
    },
    {
     "name": "stdout",
     "output_type": "stream",
     "text": [
      "EVAL: [2/3] Elapsed 0m 0s (remain 0m 0s) Loss: 0.1384(0.2478) \n",
      "Epoch: [24][0/19] Elapsed 0m 0s (remain 0m 2s) Loss: 0.0774(0.0774) Grad: 6.7957  LR: 0.000224  \n",
      "Epoch: [24][10/19] Elapsed 0m 1s (remain 0m 1s) Loss: 0.1266(0.1174) Grad: 15.0718  LR: 0.000224  \n",
      "Epoch: [24][18/19] Elapsed 0m 2s (remain 0m 0s) Loss: 0.2135(0.1374) Grad: 23.0168  LR: 0.000224  \n",
      "EVAL: [0/3] Elapsed 0m 0s (remain 0m 0s) Loss: 0.3352(0.3352) \n"
     ]
    },
    {
     "name": "stderr",
     "output_type": "stream",
     "text": [
      "Epoch 24 - avg_train_loss: 0.1374  avg_val_loss: 0.3184  time: 4s\n",
      "Epoch 24 - Score: 0.3196\n"
     ]
    },
    {
     "name": "stdout",
     "output_type": "stream",
     "text": [
      "EVAL: [2/3] Elapsed 0m 0s (remain 0m 0s) Loss: 0.2598(0.3184) \n",
      "Epoch: [25][0/19] Elapsed 0m 0s (remain 0m 2s) Loss: 0.2375(0.2375) Grad: 25.7630  LR: 0.000133  \n",
      "Epoch: [25][10/19] Elapsed 0m 1s (remain 0m 1s) Loss: 0.1302(0.1613) Grad: 14.7405  LR: 0.000133  \n",
      "Epoch: [25][18/19] Elapsed 0m 2s (remain 0m 0s) Loss: 0.1410(0.1530) Grad: 18.2017  LR: 0.000133  \n",
      "EVAL: [0/3] Elapsed 0m 0s (remain 0m 0s) Loss: 0.2917(0.2917) \n"
     ]
    },
    {
     "name": "stderr",
     "output_type": "stream",
     "text": [
      "Epoch 25 - avg_train_loss: 0.1530  avg_val_loss: 0.2686  time: 3s\n",
      "Epoch 25 - Score: 0.2723\n"
     ]
    },
    {
     "name": "stdout",
     "output_type": "stream",
     "text": [
      "EVAL: [2/3] Elapsed 0m 0s (remain 0m 0s) Loss: 0.1694(0.2686) \n",
      "Epoch: [26][0/19] Elapsed 0m 0s (remain 0m 2s) Loss: 0.1007(0.1007) Grad: 7.4285  LR: 0.000057  \n",
      "Epoch: [26][10/19] Elapsed 0m 1s (remain 0m 1s) Loss: 0.1105(0.1301) Grad: 13.2604  LR: 0.000057  \n",
      "Epoch: [26][18/19] Elapsed 0m 2s (remain 0m 0s) Loss: 0.1686(0.1345) Grad: 18.0166  LR: 0.000057  \n",
      "EVAL: [0/3] Elapsed 0m 0s (remain 0m 0s) Loss: 0.3142(0.3142) \n"
     ]
    },
    {
     "name": "stderr",
     "output_type": "stream",
     "text": [
      "Epoch 26 - avg_train_loss: 0.1345  avg_val_loss: 0.2966  time: 4s\n",
      "Epoch 26 - Score: 0.2974\n"
     ]
    },
    {
     "name": "stdout",
     "output_type": "stream",
     "text": [
      "EVAL: [2/3] Elapsed 0m 0s (remain 0m 0s) Loss: 0.2510(0.2966) \n",
      "Epoch: [27][0/19] Elapsed 0m 0s (remain 0m 2s) Loss: 0.1874(0.1874) Grad: 19.9746  LR: 0.000009  \n",
      "Epoch: [27][10/19] Elapsed 0m 1s (remain 0m 1s) Loss: 0.1018(0.1287) Grad: 10.2773  LR: 0.000009  \n",
      "Epoch: [27][18/19] Elapsed 0m 2s (remain 0m 0s) Loss: 0.1056(0.1196) Grad: 18.0612  LR: 0.000009  \n",
      "EVAL: [0/3] Elapsed 0m 0s (remain 0m 0s) Loss: 0.2834(0.2834) \n"
     ]
    },
    {
     "name": "stderr",
     "output_type": "stream",
     "text": [
      "Epoch 27 - avg_train_loss: 0.1196  avg_val_loss: 0.2575  time: 4s\n",
      "Epoch 27 - Score: 0.2616\n"
     ]
    },
    {
     "name": "stdout",
     "output_type": "stream",
     "text": [
      "EVAL: [2/3] Elapsed 0m 0s (remain 0m 0s) Loss: 0.1548(0.2575) \n",
      "Epoch: [28][0/19] Elapsed 0m 0s (remain 0m 2s) Loss: 0.0778(0.0778) Grad: 4.9518  LR: 0.000001  \n",
      "Epoch: [28][10/19] Elapsed 0m 1s (remain 0m 1s) Loss: 0.0848(0.0827) Grad: 4.9232  LR: 0.000001  \n",
      "Epoch: [28][18/19] Elapsed 0m 2s (remain 0m 0s) Loss: 0.0871(0.0890) Grad: 6.1647  LR: 0.000001  \n",
      "EVAL: [0/3] Elapsed 0m 0s (remain 0m 0s) Loss: 0.2610(0.2610) \n"
     ]
    },
    {
     "name": "stderr",
     "output_type": "stream",
     "text": [
      "Epoch 28 - avg_train_loss: 0.0890  avg_val_loss: 0.2393  time: 4s\n",
      "Epoch 28 - Score: 0.2432\n",
      "Epoch 28 - Save Best Score: 0.2432 Model\n"
     ]
    },
    {
     "name": "stdout",
     "output_type": "stream",
     "text": [
      "EVAL: [2/3] Elapsed 0m 0s (remain 0m 0s) Loss: 0.1431(0.2393) \n",
      "Epoch: [29][0/19] Elapsed 0m 0s (remain 0m 2s) Loss: 0.0907(0.0907) Grad: 5.2206  LR: 0.000050  \n",
      "Epoch: [29][10/19] Elapsed 0m 1s (remain 0m 1s) Loss: 0.0814(0.0850) Grad: 19.6222  LR: 0.000050  \n",
      "Epoch: [29][18/19] Elapsed 0m 2s (remain 0m 0s) Loss: 0.0744(0.0833) Grad: 2.5260  LR: 0.000050  \n",
      "EVAL: [0/3] Elapsed 0m 0s (remain 0m 0s) Loss: 0.2551(0.2551) \n"
     ]
    },
    {
     "name": "stderr",
     "output_type": "stream",
     "text": [
      "Epoch 29 - avg_train_loss: 0.0833  avg_val_loss: 0.2399  time: 4s\n",
      "Epoch 29 - Score: 0.2427\n",
      "Epoch 29 - Save Best Score: 0.2427 Model\n"
     ]
    },
    {
     "name": "stdout",
     "output_type": "stream",
     "text": [
      "EVAL: [2/3] Elapsed 0m 0s (remain 0m 0s) Loss: 0.1575(0.2399) \n",
      "Epoch: [30][0/19] Elapsed 0m 0s (remain 0m 2s) Loss: 0.0699(0.0699) Grad: 7.8759  LR: 0.000224  \n",
      "Epoch: [30][10/19] Elapsed 0m 1s (remain 0m 1s) Loss: 0.1756(0.0937) Grad: 15.8139  LR: 0.000224  \n",
      "Epoch: [30][18/19] Elapsed 0m 2s (remain 0m 0s) Loss: 0.0956(0.0961) Grad: 6.6232  LR: 0.000224  \n",
      "EVAL: [0/3] Elapsed 0m 0s (remain 0m 0s) Loss: 0.2904(0.2904) \n"
     ]
    },
    {
     "name": "stderr",
     "output_type": "stream",
     "text": [
      "Epoch 30 - avg_train_loss: 0.0961  avg_val_loss: 0.2738  time: 3s\n",
      "Epoch 30 - Score: 0.2761\n"
     ]
    },
    {
     "name": "stdout",
     "output_type": "stream",
     "text": [
      "EVAL: [2/3] Elapsed 0m 0s (remain 0m 0s) Loss: 0.1939(0.2738) \n",
      "Epoch: [31][0/19] Elapsed 0m 0s (remain 0m 2s) Loss: 0.1583(0.1583) Grad: 22.0203  LR: 0.000133  \n",
      "Epoch: [31][10/19] Elapsed 0m 1s (remain 0m 1s) Loss: 0.1706(0.1625) Grad: 18.8179  LR: 0.000133  \n",
      "Epoch: [31][18/19] Elapsed 0m 2s (remain 0m 0s) Loss: 0.1599(0.1722) Grad: 16.3811  LR: 0.000133  \n",
      "EVAL: [0/3] Elapsed 0m 0s (remain 0m 0s) Loss: 0.3605(0.3605) \n"
     ]
    },
    {
     "name": "stderr",
     "output_type": "stream",
     "text": [
      "Epoch 31 - avg_train_loss: 0.1722  avg_val_loss: 0.3402  time: 4s\n",
      "Epoch 31 - Score: 0.3420\n"
     ]
    },
    {
     "name": "stdout",
     "output_type": "stream",
     "text": [
      "EVAL: [2/3] Elapsed 0m 0s (remain 0m 0s) Loss: 0.2641(0.3402) \n",
      "Epoch: [32][0/19] Elapsed 0m 0s (remain 0m 2s) Loss: 0.2473(0.2473) Grad: 17.6606  LR: 0.000057  \n",
      "Epoch: [32][10/19] Elapsed 0m 1s (remain 0m 1s) Loss: 0.1764(0.1465) Grad: 18.3030  LR: 0.000057  \n",
      "Epoch: [32][18/19] Elapsed 0m 2s (remain 0m 0s) Loss: 0.1373(0.1389) Grad: 12.0164  LR: 0.000057  \n",
      "EVAL: [0/3] Elapsed 0m 0s (remain 0m 0s) Loss: 0.2836(0.2836) \n"
     ]
    },
    {
     "name": "stderr",
     "output_type": "stream",
     "text": [
      "Epoch 32 - avg_train_loss: 0.1389  avg_val_loss: 0.2572  time: 3s\n",
      "Epoch 32 - Score: 0.2627\n"
     ]
    },
    {
     "name": "stdout",
     "output_type": "stream",
     "text": [
      "EVAL: [2/3] Elapsed 0m 0s (remain 0m 0s) Loss: 0.1385(0.2572) \n",
      "Epoch: [33][0/19] Elapsed 0m 0s (remain 0m 2s) Loss: 0.0967(0.0967) Grad: 3.4419  LR: 0.000009  \n",
      "Epoch: [33][10/19] Elapsed 0m 1s (remain 0m 1s) Loss: 0.0938(0.0887) Grad: 10.1404  LR: 0.000009  \n",
      "Epoch: [33][18/19] Elapsed 0m 2s (remain 0m 0s) Loss: 0.0710(0.0930) Grad: 6.1734  LR: 0.000009  \n",
      "EVAL: [0/3] Elapsed 0m 0s (remain 0m 0s) Loss: 0.2686(0.2686) \n"
     ]
    },
    {
     "name": "stderr",
     "output_type": "stream",
     "text": [
      "Epoch 33 - avg_train_loss: 0.0930  avg_val_loss: 0.2461  time: 4s\n",
      "Epoch 33 - Score: 0.2497\n"
     ]
    },
    {
     "name": "stdout",
     "output_type": "stream",
     "text": [
      "EVAL: [2/3] Elapsed 0m 0s (remain 0m 0s) Loss: 0.1524(0.2461) \n",
      "Epoch: [34][0/19] Elapsed 0m 0s (remain 0m 2s) Loss: 0.0833(0.0833) Grad: 14.1627  LR: 0.000001  \n",
      "Epoch: [34][10/19] Elapsed 0m 1s (remain 0m 1s) Loss: 0.0767(0.0804) Grad: 4.5250  LR: 0.000001  \n",
      "Epoch: [34][18/19] Elapsed 0m 2s (remain 0m 0s) Loss: 0.0819(0.0810) Grad: 7.3848  LR: 0.000001  \n",
      "EVAL: [0/3] Elapsed 0m 0s (remain 0m 0s) Loss: 0.2622(0.2622) \n"
     ]
    },
    {
     "name": "stderr",
     "output_type": "stream",
     "text": [
      "Epoch 34 - avg_train_loss: 0.0810  avg_val_loss: 0.2490  time: 4s\n",
      "Epoch 34 - Score: 0.2527\n"
     ]
    },
    {
     "name": "stdout",
     "output_type": "stream",
     "text": [
      "EVAL: [2/3] Elapsed 0m 0s (remain 0m 0s) Loss: 0.1543(0.2490) \n",
      "Epoch: [35][0/19] Elapsed 0m 0s (remain 0m 2s) Loss: 0.0710(0.0710) Grad: 2.3297  LR: 0.000050  \n",
      "Epoch: [35][10/19] Elapsed 0m 1s (remain 0m 1s) Loss: 0.0662(0.0812) Grad: 3.6766  LR: 0.000050  \n",
      "Epoch: [35][18/19] Elapsed 0m 2s (remain 0m 0s) Loss: 0.0891(0.0780) Grad: 14.2810  LR: 0.000050  \n",
      "EVAL: [0/3] Elapsed 0m 0s (remain 0m 0s) Loss: 0.2652(0.2652) \n"
     ]
    },
    {
     "name": "stderr",
     "output_type": "stream",
     "text": [
      "Epoch 35 - avg_train_loss: 0.0780  avg_val_loss: 0.2457  time: 4s\n",
      "Epoch 35 - Score: 0.2496\n"
     ]
    },
    {
     "name": "stdout",
     "output_type": "stream",
     "text": [
      "EVAL: [2/3] Elapsed 0m 0s (remain 0m 0s) Loss: 0.1492(0.2457) \n",
      "Epoch: [36][0/19] Elapsed 0m 0s (remain 0m 2s) Loss: 0.0618(0.0618) Grad: 6.9448  LR: 0.000224  \n",
      "Epoch: [36][10/19] Elapsed 0m 1s (remain 0m 1s) Loss: 0.1098(0.0913) Grad: 13.1509  LR: 0.000224  \n",
      "Epoch: [36][18/19] Elapsed 0m 2s (remain 0m 0s) Loss: 0.0831(0.0946) Grad: 5.9544  LR: 0.000224  \n",
      "EVAL: [0/3] Elapsed 0m 0s (remain 0m 0s) Loss: 0.2945(0.2945) \n"
     ]
    },
    {
     "name": "stderr",
     "output_type": "stream",
     "text": [
      "Epoch 36 - avg_train_loss: 0.0946  avg_val_loss: 0.2631  time: 4s\n",
      "Epoch 36 - Score: 0.2677\n"
     ]
    },
    {
     "name": "stdout",
     "output_type": "stream",
     "text": [
      "EVAL: [2/3] Elapsed 0m 0s (remain 0m 0s) Loss: 0.1548(0.2631) \n",
      "Epoch: [37][0/19] Elapsed 0m 0s (remain 0m 2s) Loss: 0.1035(0.1035) Grad: 18.3410  LR: 0.000133  \n",
      "Epoch: [37][10/19] Elapsed 0m 1s (remain 0m 1s) Loss: 0.1056(0.1322) Grad: 4.9962  LR: 0.000133  \n",
      "Epoch: [37][18/19] Elapsed 0m 2s (remain 0m 0s) Loss: 0.1328(0.1320) Grad: 11.8932  LR: 0.000133  \n",
      "EVAL: [0/3] Elapsed 0m 0s (remain 0m 0s) Loss: 0.3035(0.3035) \n"
     ]
    },
    {
     "name": "stderr",
     "output_type": "stream",
     "text": [
      "Epoch 37 - avg_train_loss: 0.1320  avg_val_loss: 0.2842  time: 4s\n",
      "Epoch 37 - Score: 0.2868\n"
     ]
    },
    {
     "name": "stdout",
     "output_type": "stream",
     "text": [
      "EVAL: [2/3] Elapsed 0m 0s (remain 0m 0s) Loss: 0.1994(0.2842) \n",
      "Epoch: [38][0/19] Elapsed 0m 0s (remain 0m 2s) Loss: 0.2000(0.2000) Grad: 22.0995  LR: 0.000057  \n",
      "Epoch: [38][10/19] Elapsed 0m 1s (remain 0m 1s) Loss: 0.0947(0.1278) Grad: 2.5013  LR: 0.000057  \n",
      "Epoch: [38][18/19] Elapsed 0m 2s (remain 0m 0s) Loss: 0.1806(0.1375) Grad: 19.7477  LR: 0.000057  \n",
      "EVAL: [0/3] Elapsed 0m 0s (remain 0m 0s) Loss: 0.3387(0.3387) \n"
     ]
    },
    {
     "name": "stderr",
     "output_type": "stream",
     "text": [
      "Epoch 38 - avg_train_loss: 0.1375  avg_val_loss: 0.2966  time: 4s\n",
      "Epoch 38 - Score: 0.2993\n"
     ]
    },
    {
     "name": "stdout",
     "output_type": "stream",
     "text": [
      "EVAL: [2/3] Elapsed 0m 0s (remain 0m 0s) Loss: 0.2273(0.2966) \n",
      "Epoch: [39][0/19] Elapsed 0m 0s (remain 0m 2s) Loss: 0.1744(0.1744) Grad: 19.1978  LR: 0.000009  \n",
      "Epoch: [39][10/19] Elapsed 0m 1s (remain 0m 1s) Loss: 0.1047(0.1191) Grad: 14.4000  LR: 0.000009  \n",
      "Epoch: [39][18/19] Elapsed 0m 2s (remain 0m 0s) Loss: 0.0847(0.1079) Grad: 16.0199  LR: 0.000009  \n",
      "EVAL: [0/3] Elapsed 0m 0s (remain 0m 0s) Loss: 0.2645(0.2645) \n"
     ]
    },
    {
     "name": "stderr",
     "output_type": "stream",
     "text": [
      "Epoch 39 - avg_train_loss: 0.1079  avg_val_loss: 0.2401  time: 3s\n",
      "Epoch 39 - Score: 0.2431\n"
     ]
    },
    {
     "name": "stdout",
     "output_type": "stream",
     "text": [
      "EVAL: [2/3] Elapsed 0m 0s (remain 0m 0s) Loss: 0.1571(0.2401) \n",
      "Epoch: [40][0/19] Elapsed 0m 0s (remain 0m 2s) Loss: 0.0832(0.0832) Grad: 3.1123  LR: 0.000001  \n",
      "Epoch: [40][10/19] Elapsed 0m 1s (remain 0m 1s) Loss: 0.0569(0.0836) Grad: 4.4731  LR: 0.000001  \n",
      "Epoch: [40][18/19] Elapsed 0m 2s (remain 0m 0s) Loss: 0.0647(0.0791) Grad: 6.4721  LR: 0.000001  \n",
      "EVAL: [0/3] Elapsed 0m 0s (remain 0m 0s) Loss: 0.2743(0.2743) \n"
     ]
    },
    {
     "name": "stderr",
     "output_type": "stream",
     "text": [
      "Epoch 40 - avg_train_loss: 0.0791  avg_val_loss: 0.2529  time: 4s\n",
      "Epoch 40 - Score: 0.2562\n",
      "========== fold: 2 result ==========\n",
      "Score: 0.2427\n",
      "========== fold: 3 training ==========\n"
     ]
    },
    {
     "name": "stdout",
     "output_type": "stream",
     "text": [
      "EVAL: [2/3] Elapsed 0m 0s (remain 0m 0s) Loss: 0.1621(0.2529) \n",
      "Epoch: [1][0/19] Elapsed 0m 0s (remain 0m 2s) Loss: 3.4811(3.4811) Grad: 24.8800  LR: 0.000100  \n",
      "Epoch: [1][10/19] Elapsed 0m 1s (remain 0m 1s) Loss: 1.0348(1.6781) Grad: 22.6348  LR: 0.000100  \n",
      "Epoch: [1][18/19] Elapsed 0m 2s (remain 0m 0s) Loss: 0.6307(1.2701) Grad: 23.1721  LR: 0.000100  \n",
      "EVAL: [0/3] Elapsed 0m 0s (remain 0m 0s) Loss: 0.3901(0.3901) \n"
     ]
    },
    {
     "name": "stderr",
     "output_type": "stream",
     "text": [
      "Epoch 1 - avg_train_loss: 1.2701  avg_val_loss: 0.3974  time: 3s\n",
      "Epoch 1 - Score: 0.3975\n",
      "Epoch 1 - Save Best Score: 0.3975 Model\n"
     ]
    },
    {
     "name": "stdout",
     "output_type": "stream",
     "text": [
      "EVAL: [2/3] Elapsed 0m 0s (remain 0m 0s) Loss: 0.4216(0.3974) \n",
      "Epoch: [2][0/19] Elapsed 0m 0s (remain 0m 2s) Loss: 0.4673(0.4673) Grad: 3.9854  LR: 0.000057  \n",
      "Epoch: [2][10/19] Elapsed 0m 1s (remain 0m 1s) Loss: 0.4487(0.4720) Grad: 13.4044  LR: 0.000057  \n",
      "Epoch: [2][18/19] Elapsed 0m 2s (remain 0m 0s) Loss: 0.3947(0.4405) Grad: 14.6337  LR: 0.000057  \n",
      "EVAL: [0/3] Elapsed 0m 0s (remain 0m 0s) Loss: 0.3449(0.3449) \n"
     ]
    },
    {
     "name": "stderr",
     "output_type": "stream",
     "text": [
      "Epoch 2 - avg_train_loss: 0.4405  avg_val_loss: 0.3508  time: 4s\n",
      "Epoch 2 - Score: 0.3509\n",
      "Epoch 2 - Save Best Score: 0.3509 Model\n"
     ]
    },
    {
     "name": "stdout",
     "output_type": "stream",
     "text": [
      "EVAL: [2/3] Elapsed 0m 0s (remain 0m 0s) Loss: 0.3537(0.3508) \n",
      "Epoch: [3][0/19] Elapsed 0m 0s (remain 0m 2s) Loss: 0.3126(0.3126) Grad: 9.2696  LR: 0.000009  \n",
      "Epoch: [3][10/19] Elapsed 0m 1s (remain 0m 1s) Loss: 0.3275(0.3252) Grad: 5.6199  LR: 0.000009  \n",
      "Epoch: [3][18/19] Elapsed 0m 2s (remain 0m 0s) Loss: 0.2871(0.3235) Grad: 10.0254  LR: 0.000009  \n",
      "EVAL: [0/3] Elapsed 0m 0s (remain 0m 0s) Loss: 0.3241(0.3241) \n"
     ]
    },
    {
     "name": "stderr",
     "output_type": "stream",
     "text": [
      "Epoch 3 - avg_train_loss: 0.3235  avg_val_loss: 0.3127  time: 3s\n",
      "Epoch 3 - Score: 0.3130\n",
      "Epoch 3 - Save Best Score: 0.3130 Model\n"
     ]
    },
    {
     "name": "stdout",
     "output_type": "stream",
     "text": [
      "EVAL: [2/3] Elapsed 0m 0s (remain 0m 0s) Loss: 0.3248(0.3127) \n",
      "Epoch: [4][0/19] Elapsed 0m 0s (remain 0m 2s) Loss: 0.3340(0.3340) Grad: 10.7733  LR: 0.000001  \n",
      "Epoch: [4][10/19] Elapsed 0m 1s (remain 0m 1s) Loss: 0.2992(0.2943) Grad: 3.7312  LR: 0.000001  \n",
      "Epoch: [4][18/19] Elapsed 0m 2s (remain 0m 0s) Loss: 0.3089(0.2967) Grad: 10.1550  LR: 0.000001  \n",
      "EVAL: [0/3] Elapsed 0m 0s (remain 0m 0s) Loss: 0.2876(0.2876) \n"
     ]
    },
    {
     "name": "stderr",
     "output_type": "stream",
     "text": [
      "Epoch 4 - avg_train_loss: 0.2967  avg_val_loss: 0.2928  time: 4s\n",
      "Epoch 4 - Score: 0.2937\n",
      "Epoch 4 - Save Best Score: 0.2937 Model\n"
     ]
    },
    {
     "name": "stdout",
     "output_type": "stream",
     "text": [
      "EVAL: [2/3] Elapsed 0m 0s (remain 0m 0s) Loss: 0.3433(0.2928) \n",
      "Epoch: [5][0/19] Elapsed 0m 0s (remain 0m 2s) Loss: 0.2724(0.2724) Grad: 4.7275  LR: 0.000050  \n",
      "Epoch: [5][10/19] Elapsed 0m 1s (remain 0m 1s) Loss: 0.2357(0.3179) Grad: 6.3082  LR: 0.000050  \n",
      "Epoch: [5][18/19] Elapsed 0m 2s (remain 0m 0s) Loss: 0.2896(0.3112) Grad: 9.4054  LR: 0.000050  \n",
      "EVAL: [0/3] Elapsed 0m 0s (remain 0m 0s) Loss: 0.3434(0.3434) \n"
     ]
    },
    {
     "name": "stderr",
     "output_type": "stream",
     "text": [
      "Epoch 5 - avg_train_loss: 0.3112  avg_val_loss: 0.3287  time: 4s\n",
      "Epoch 5 - Score: 0.3289\n"
     ]
    },
    {
     "name": "stdout",
     "output_type": "stream",
     "text": [
      "EVAL: [2/3] Elapsed 0m 0s (remain 0m 0s) Loss: 0.3202(0.3287) \n",
      "Epoch: [6][0/19] Elapsed 0m 0s (remain 0m 2s) Loss: 0.3826(0.3826) Grad: 19.5300  LR: 0.000224  \n",
      "Epoch: [6][10/19] Elapsed 0m 1s (remain 0m 1s) Loss: 0.2514(0.2792) Grad: 9.2114  LR: 0.000224  \n",
      "Epoch: [6][18/19] Elapsed 0m 2s (remain 0m 0s) Loss: 0.3099(0.2949) Grad: 17.0173  LR: 0.000224  \n",
      "EVAL: [0/3] Elapsed 0m 0s (remain 0m 0s) Loss: 0.3076(0.3076) \n"
     ]
    },
    {
     "name": "stderr",
     "output_type": "stream",
     "text": [
      "Epoch 6 - avg_train_loss: 0.2949  avg_val_loss: 0.3082  time: 3s\n",
      "Epoch 6 - Score: 0.3085\n"
     ]
    },
    {
     "name": "stdout",
     "output_type": "stream",
     "text": [
      "EVAL: [2/3] Elapsed 0m 0s (remain 0m 0s) Loss: 0.2833(0.3082) \n",
      "Epoch: [7][0/19] Elapsed 0m 0s (remain 0m 2s) Loss: 0.3310(0.3310) Grad: 24.0578  LR: 0.000133  \n",
      "Epoch: [7][10/19] Elapsed 0m 1s (remain 0m 1s) Loss: 0.2780(0.2737) Grad: 17.9596  LR: 0.000133  \n",
      "Epoch: [7][18/19] Elapsed 0m 2s (remain 0m 0s) Loss: 0.3889(0.3082) Grad: 25.0717  LR: 0.000133  \n",
      "EVAL: [0/3] Elapsed 0m 0s (remain 0m 0s) Loss: 0.3365(0.3365) \n"
     ]
    },
    {
     "name": "stderr",
     "output_type": "stream",
     "text": [
      "Epoch 7 - avg_train_loss: 0.3082  avg_val_loss: 0.3481  time: 4s\n",
      "Epoch 7 - Score: 0.3488\n"
     ]
    },
    {
     "name": "stdout",
     "output_type": "stream",
     "text": [
      "EVAL: [2/3] Elapsed 0m 0s (remain 0m 0s) Loss: 0.3995(0.3481) \n",
      "Epoch: [8][0/19] Elapsed 0m 0s (remain 0m 2s) Loss: 0.3209(0.3209) Grad: 22.5626  LR: 0.000057  \n",
      "Epoch: [8][10/19] Elapsed 0m 1s (remain 0m 1s) Loss: 0.1715(0.2800) Grad: 7.1921  LR: 0.000057  \n",
      "Epoch: [8][18/19] Elapsed 0m 2s (remain 0m 0s) Loss: 0.2078(0.2670) Grad: 4.3779  LR: 0.000057  \n",
      "EVAL: [0/3] Elapsed 0m 0s (remain 0m 0s) Loss: 0.3599(0.3599) \n"
     ]
    },
    {
     "name": "stderr",
     "output_type": "stream",
     "text": [
      "Epoch 8 - avg_train_loss: 0.2670  avg_val_loss: 0.3241  time: 4s\n",
      "Epoch 8 - Score: 0.3255\n"
     ]
    },
    {
     "name": "stdout",
     "output_type": "stream",
     "text": [
      "EVAL: [2/3] Elapsed 0m 0s (remain 0m 0s) Loss: 0.3095(0.3241) \n",
      "Epoch: [9][0/19] Elapsed 0m 0s (remain 0m 2s) Loss: 0.2445(0.2445) Grad: 24.1381  LR: 0.000009  \n",
      "Epoch: [9][10/19] Elapsed 0m 1s (remain 0m 1s) Loss: 0.2041(0.2228) Grad: 22.5760  LR: 0.000009  \n",
      "Epoch: [9][18/19] Elapsed 0m 2s (remain 0m 0s) Loss: 0.2187(0.2156) Grad: 14.5513  LR: 0.000009  \n",
      "EVAL: [0/3] Elapsed 0m 0s (remain 0m 0s) Loss: 0.2778(0.2778) \n"
     ]
    },
    {
     "name": "stderr",
     "output_type": "stream",
     "text": [
      "Epoch 9 - avg_train_loss: 0.2156  avg_val_loss: 0.2398  time: 4s\n",
      "Epoch 9 - Score: 0.2422\n",
      "Epoch 9 - Save Best Score: 0.2422 Model\n"
     ]
    },
    {
     "name": "stdout",
     "output_type": "stream",
     "text": [
      "EVAL: [2/3] Elapsed 0m 0s (remain 0m 0s) Loss: 0.1893(0.2398) \n",
      "Epoch: [10][0/19] Elapsed 0m 0s (remain 0m 2s) Loss: 0.2135(0.2135) Grad: 21.4138  LR: 0.000001  \n",
      "Epoch: [10][10/19] Elapsed 0m 1s (remain 0m 1s) Loss: 0.1428(0.1807) Grad: 4.9135  LR: 0.000001  \n",
      "Epoch: [10][18/19] Elapsed 0m 2s (remain 0m 0s) Loss: 0.1741(0.1759) Grad: 6.4947  LR: 0.000001  \n",
      "EVAL: [0/3] Elapsed 0m 0s (remain 0m 0s) Loss: 0.2738(0.2738) \n"
     ]
    },
    {
     "name": "stderr",
     "output_type": "stream",
     "text": [
      "Epoch 10 - avg_train_loss: 0.1759  avg_val_loss: 0.2514  time: 4s\n",
      "Epoch 10 - Score: 0.2522\n"
     ]
    },
    {
     "name": "stdout",
     "output_type": "stream",
     "text": [
      "EVAL: [2/3] Elapsed 0m 0s (remain 0m 0s) Loss: 0.2447(0.2514) \n",
      "Epoch: [11][0/19] Elapsed 0m 0s (remain 0m 2s) Loss: 0.1367(0.1367) Grad: 8.0979  LR: 0.000050  \n",
      "Epoch: [11][10/19] Elapsed 0m 1s (remain 0m 1s) Loss: 0.1575(0.1518) Grad: 11.1542  LR: 0.000050  \n",
      "Epoch: [11][18/19] Elapsed 0m 2s (remain 0m 0s) Loss: 0.1639(0.1540) Grad: 16.3154  LR: 0.000050  \n",
      "EVAL: [0/3] Elapsed 0m 0s (remain 0m 0s) Loss: 0.2425(0.2425) \n"
     ]
    },
    {
     "name": "stderr",
     "output_type": "stream",
     "text": [
      "Epoch 11 - avg_train_loss: 0.1540  avg_val_loss: 0.2283  time: 4s\n",
      "Epoch 11 - Score: 0.2291\n",
      "Epoch 11 - Save Best Score: 0.2291 Model\n"
     ]
    },
    {
     "name": "stdout",
     "output_type": "stream",
     "text": [
      "EVAL: [2/3] Elapsed 0m 0s (remain 0m 0s) Loss: 0.2483(0.2283) \n",
      "Epoch: [12][0/19] Elapsed 0m 0s (remain 0m 2s) Loss: 0.1491(0.1491) Grad: 8.1293  LR: 0.000224  \n",
      "Epoch: [12][10/19] Elapsed 0m 1s (remain 0m 1s) Loss: 0.1630(0.2031) Grad: 7.2413  LR: 0.000224  \n",
      "Epoch: [12][18/19] Elapsed 0m 2s (remain 0m 0s) Loss: 0.1663(0.1953) Grad: 4.8986  LR: 0.000224  \n",
      "EVAL: [0/3] Elapsed 0m 0s (remain 0m 0s) Loss: 0.3014(0.3014) \n"
     ]
    },
    {
     "name": "stderr",
     "output_type": "stream",
     "text": [
      "Epoch 12 - avg_train_loss: 0.1953  avg_val_loss: 0.2588  time: 4s\n",
      "Epoch 12 - Score: 0.2615\n"
     ]
    },
    {
     "name": "stdout",
     "output_type": "stream",
     "text": [
      "EVAL: [2/3] Elapsed 0m 0s (remain 0m 0s) Loss: 0.2081(0.2588) \n",
      "Epoch: [13][0/19] Elapsed 0m 0s (remain 0m 2s) Loss: 0.2807(0.2807) Grad: 22.8996  LR: 0.000133  \n",
      "Epoch: [13][10/19] Elapsed 0m 1s (remain 0m 1s) Loss: 0.1822(0.2224) Grad: 4.6198  LR: 0.000133  \n",
      "Epoch: [13][18/19] Elapsed 0m 2s (remain 0m 0s) Loss: 0.1945(0.2184) Grad: 9.4326  LR: 0.000133  \n",
      "EVAL: [0/3] Elapsed 0m 0s (remain 0m 0s) Loss: 0.2783(0.2783) \n"
     ]
    },
    {
     "name": "stderr",
     "output_type": "stream",
     "text": [
      "Epoch 13 - avg_train_loss: 0.2184  avg_val_loss: 0.2698  time: 4s\n",
      "Epoch 13 - Score: 0.2704\n"
     ]
    },
    {
     "name": "stdout",
     "output_type": "stream",
     "text": [
      "EVAL: [2/3] Elapsed 0m 0s (remain 0m 0s) Loss: 0.2962(0.2698) \n",
      "Epoch: [14][0/19] Elapsed 0m 0s (remain 0m 2s) Loss: 0.1821(0.1821) Grad: 19.6815  LR: 0.000057  \n",
      "Epoch: [14][10/19] Elapsed 0m 1s (remain 0m 1s) Loss: 0.2965(0.2001) Grad: 18.1123  LR: 0.000057  \n",
      "Epoch: [14][18/19] Elapsed 0m 2s (remain 0m 0s) Loss: 0.1512(0.1993) Grad: 13.2768  LR: 0.000057  \n",
      "EVAL: [0/3] Elapsed 0m 0s (remain 0m 0s) Loss: 0.3166(0.3166) \n"
     ]
    },
    {
     "name": "stderr",
     "output_type": "stream",
     "text": [
      "Epoch 14 - avg_train_loss: 0.1993  avg_val_loss: 0.2775  time: 4s\n",
      "Epoch 14 - Score: 0.2800\n"
     ]
    },
    {
     "name": "stdout",
     "output_type": "stream",
     "text": [
      "EVAL: [2/3] Elapsed 0m 0s (remain 0m 0s) Loss: 0.2160(0.2775) \n",
      "Epoch: [15][0/19] Elapsed 0m 0s (remain 0m 2s) Loss: 0.2541(0.2541) Grad: 23.1245  LR: 0.000009  \n",
      "Epoch: [15][10/19] Elapsed 0m 1s (remain 0m 1s) Loss: 0.2479(0.2106) Grad: 20.2721  LR: 0.000009  \n",
      "Epoch: [15][18/19] Elapsed 0m 2s (remain 0m 0s) Loss: 0.1843(0.1835) Grad: 20.3562  LR: 0.000009  \n",
      "EVAL: [0/3] Elapsed 0m 0s (remain 0m 0s) Loss: 0.2507(0.2507) \n"
     ]
    },
    {
     "name": "stderr",
     "output_type": "stream",
     "text": [
      "Epoch 15 - avg_train_loss: 0.1835  avg_val_loss: 0.2075  time: 4s\n",
      "Epoch 15 - Score: 0.2106\n",
      "Epoch 15 - Save Best Score: 0.2106 Model\n"
     ]
    },
    {
     "name": "stdout",
     "output_type": "stream",
     "text": [
      "EVAL: [2/3] Elapsed 0m 0s (remain 0m 0s) Loss: 0.1725(0.2075) \n",
      "Epoch: [16][0/19] Elapsed 0m 0s (remain 0m 2s) Loss: 0.1300(0.1300) Grad: 9.4591  LR: 0.000001  \n",
      "Epoch: [16][10/19] Elapsed 0m 1s (remain 0m 1s) Loss: 0.1361(0.1374) Grad: 4.0215  LR: 0.000001  \n",
      "Epoch: [16][18/19] Elapsed 0m 2s (remain 0m 0s) Loss: 0.1051(0.1306) Grad: 4.0374  LR: 0.000001  \n",
      "EVAL: [0/3] Elapsed 0m 0s (remain 0m 0s) Loss: 0.2252(0.2252) \n"
     ]
    },
    {
     "name": "stderr",
     "output_type": "stream",
     "text": [
      "Epoch 16 - avg_train_loss: 0.1306  avg_val_loss: 0.2021  time: 4s\n",
      "Epoch 16 - Score: 0.2036\n",
      "Epoch 16 - Save Best Score: 0.2036 Model\n"
     ]
    },
    {
     "name": "stdout",
     "output_type": "stream",
     "text": [
      "EVAL: [2/3] Elapsed 0m 0s (remain 0m 0s) Loss: 0.1526(0.2021) \n",
      "Epoch: [17][0/19] Elapsed 0m 0s (remain 0m 2s) Loss: 0.1134(0.1134) Grad: 4.7784  LR: 0.000050  \n",
      "Epoch: [17][10/19] Elapsed 0m 1s (remain 0m 1s) Loss: 0.1383(0.1248) Grad: 15.3814  LR: 0.000050  \n",
      "Epoch: [17][18/19] Elapsed 0m 2s (remain 0m 0s) Loss: 0.1015(0.1183) Grad: 4.3760  LR: 0.000050  \n",
      "EVAL: [0/3] Elapsed 0m 0s (remain 0m 0s) Loss: 0.2245(0.2245) \n"
     ]
    },
    {
     "name": "stderr",
     "output_type": "stream",
     "text": [
      "Epoch 17 - avg_train_loss: 0.1183  avg_val_loss: 0.1937  time: 4s\n",
      "Epoch 17 - Score: 0.1954\n",
      "Epoch 17 - Save Best Score: 0.1954 Model\n"
     ]
    },
    {
     "name": "stdout",
     "output_type": "stream",
     "text": [
      "EVAL: [2/3] Elapsed 0m 0s (remain 0m 0s) Loss: 0.1672(0.1937) \n",
      "Epoch: [18][0/19] Elapsed 0m 0s (remain 0m 2s) Loss: 0.0968(0.0968) Grad: 11.1191  LR: 0.000224  \n",
      "Epoch: [18][10/19] Elapsed 0m 1s (remain 0m 1s) Loss: 0.1226(0.1309) Grad: 6.7893  LR: 0.000224  \n",
      "Epoch: [18][18/19] Elapsed 0m 2s (remain 0m 0s) Loss: 0.1230(0.1358) Grad: 12.1130  LR: 0.000224  \n",
      "EVAL: [0/3] Elapsed 0m 0s (remain 0m 0s) Loss: 0.2189(0.2189) \n"
     ]
    },
    {
     "name": "stderr",
     "output_type": "stream",
     "text": [
      "Epoch 18 - avg_train_loss: 0.1358  avg_val_loss: 0.2107  time: 4s\n",
      "Epoch 18 - Score: 0.2108\n"
     ]
    },
    {
     "name": "stdout",
     "output_type": "stream",
     "text": [
      "EVAL: [2/3] Elapsed 0m 0s (remain 0m 0s) Loss: 0.1991(0.2107) \n",
      "Epoch: [19][0/19] Elapsed 0m 0s (remain 0m 2s) Loss: 0.1966(0.1966) Grad: 7.8364  LR: 0.000133  \n",
      "Epoch: [19][10/19] Elapsed 0m 1s (remain 0m 1s) Loss: 0.1610(0.1706) Grad: 10.5919  LR: 0.000133  \n",
      "Epoch: [19][18/19] Elapsed 0m 2s (remain 0m 0s) Loss: 0.1470(0.1776) Grad: 15.5890  LR: 0.000133  \n",
      "EVAL: [0/3] Elapsed 0m 0s (remain 0m 0s) Loss: 0.2781(0.2781) \n"
     ]
    },
    {
     "name": "stderr",
     "output_type": "stream",
     "text": [
      "Epoch 19 - avg_train_loss: 0.1776  avg_val_loss: 0.2425  time: 4s\n",
      "Epoch 19 - Score: 0.2456\n"
     ]
    },
    {
     "name": "stdout",
     "output_type": "stream",
     "text": [
      "EVAL: [2/3] Elapsed 0m 0s (remain 0m 0s) Loss: 0.2679(0.2425) \n",
      "Epoch: [20][0/19] Elapsed 0m 0s (remain 0m 2s) Loss: 0.2615(0.2615) Grad: 22.8062  LR: 0.000057  \n",
      "Epoch: [20][10/19] Elapsed 0m 1s (remain 0m 1s) Loss: 0.1629(0.1792) Grad: 14.4973  LR: 0.000057  \n",
      "Epoch: [20][18/19] Elapsed 0m 2s (remain 0m 0s) Loss: 0.1727(0.1677) Grad: 18.5391  LR: 0.000057  \n",
      "EVAL: [0/3] Elapsed 0m 0s (remain 0m 0s) Loss: 0.1996(0.1996) \n"
     ]
    },
    {
     "name": "stderr",
     "output_type": "stream",
     "text": [
      "Epoch 20 - avg_train_loss: 0.1677  avg_val_loss: 0.1723  time: 4s\n",
      "Epoch 20 - Score: 0.1739\n",
      "Epoch 20 - Save Best Score: 0.1739 Model\n"
     ]
    },
    {
     "name": "stdout",
     "output_type": "stream",
     "text": [
      "EVAL: [2/3] Elapsed 0m 0s (remain 0m 0s) Loss: 0.1514(0.1723) \n",
      "Epoch: [21][0/19] Elapsed 0m 0s (remain 0m 2s) Loss: 0.1277(0.1277) Grad: 3.1321  LR: 0.000009  \n",
      "Epoch: [21][10/19] Elapsed 0m 1s (remain 0m 1s) Loss: 0.0855(0.1230) Grad: 4.1767  LR: 0.000009  \n",
      "Epoch: [21][18/19] Elapsed 0m 2s (remain 0m 0s) Loss: 0.1268(0.1180) Grad: 10.3160  LR: 0.000009  \n",
      "EVAL: [0/3] Elapsed 0m 0s (remain 0m 0s) Loss: 0.2057(0.2057) \n"
     ]
    },
    {
     "name": "stderr",
     "output_type": "stream",
     "text": [
      "Epoch 21 - avg_train_loss: 0.1180  avg_val_loss: 0.1882  time: 4s\n",
      "Epoch 21 - Score: 0.1888\n"
     ]
    },
    {
     "name": "stdout",
     "output_type": "stream",
     "text": [
      "EVAL: [2/3] Elapsed 0m 0s (remain 0m 0s) Loss: 0.1648(0.1882) \n",
      "Epoch: [22][0/19] Elapsed 0m 0s (remain 0m 2s) Loss: 0.1502(0.1502) Grad: 18.9847  LR: 0.000001  \n",
      "Epoch: [22][10/19] Elapsed 0m 1s (remain 0m 1s) Loss: 0.0808(0.1196) Grad: 3.4355  LR: 0.000001  \n",
      "Epoch: [22][18/19] Elapsed 0m 2s (remain 0m 0s) Loss: 0.0943(0.1108) Grad: 3.0688  LR: 0.000001  \n",
      "EVAL: [0/3] Elapsed 0m 0s (remain 0m 0s) Loss: 0.2057(0.2057) \n"
     ]
    },
    {
     "name": "stderr",
     "output_type": "stream",
     "text": [
      "Epoch 22 - avg_train_loss: 0.1108  avg_val_loss: 0.1696  time: 4s\n",
      "Epoch 22 - Score: 0.1723\n",
      "Epoch 22 - Save Best Score: 0.1723 Model\n"
     ]
    },
    {
     "name": "stdout",
     "output_type": "stream",
     "text": [
      "EVAL: [2/3] Elapsed 0m 0s (remain 0m 0s) Loss: 0.1417(0.1696) \n",
      "Epoch: [23][0/19] Elapsed 0m 0s (remain 0m 2s) Loss: 0.0955(0.0955) Grad: 6.2081  LR: 0.000050  \n",
      "Epoch: [23][10/19] Elapsed 0m 1s (remain 0m 1s) Loss: 0.2226(0.1371) Grad: 18.6428  LR: 0.000050  \n",
      "Epoch: [23][18/19] Elapsed 0m 2s (remain 0m 0s) Loss: 0.0969(0.1346) Grad: 8.7232  LR: 0.000050  \n",
      "EVAL: [0/3] Elapsed 0m 0s (remain 0m 0s) Loss: 0.2277(0.2277) \n"
     ]
    },
    {
     "name": "stderr",
     "output_type": "stream",
     "text": [
      "Epoch 23 - avg_train_loss: 0.1346  avg_val_loss: 0.1897  time: 3s\n",
      "Epoch 23 - Score: 0.1924\n"
     ]
    },
    {
     "name": "stdout",
     "output_type": "stream",
     "text": [
      "EVAL: [2/3] Elapsed 0m 0s (remain 0m 0s) Loss: 0.1549(0.1897) \n",
      "Epoch: [24][0/19] Elapsed 0m 0s (remain 0m 2s) Loss: 0.0825(0.0825) Grad: 6.8196  LR: 0.000224  \n",
      "Epoch: [24][10/19] Elapsed 0m 1s (remain 0m 1s) Loss: 0.1537(0.1257) Grad: 14.7783  LR: 0.000224  \n",
      "Epoch: [24][18/19] Elapsed 0m 2s (remain 0m 0s) Loss: 0.1342(0.1314) Grad: 6.0057  LR: 0.000224  \n",
      "EVAL: [0/3] Elapsed 0m 0s (remain 0m 0s) Loss: 0.2376(0.2376) \n"
     ]
    },
    {
     "name": "stderr",
     "output_type": "stream",
     "text": [
      "Epoch 24 - avg_train_loss: 0.1314  avg_val_loss: 0.2225  time: 4s\n",
      "Epoch 24 - Score: 0.2230\n"
     ]
    },
    {
     "name": "stdout",
     "output_type": "stream",
     "text": [
      "EVAL: [2/3] Elapsed 0m 0s (remain 0m 0s) Loss: 0.1963(0.2225) \n",
      "Epoch: [25][0/19] Elapsed 0m 0s (remain 0m 2s) Loss: 0.1717(0.1717) Grad: 16.0872  LR: 0.000133  \n",
      "Epoch: [25][10/19] Elapsed 0m 1s (remain 0m 1s) Loss: 0.2252(0.1885) Grad: 15.6571  LR: 0.000133  \n",
      "Epoch: [25][18/19] Elapsed 0m 2s (remain 0m 0s) Loss: 0.2240(0.1853) Grad: 23.3302  LR: 0.000133  \n",
      "EVAL: [0/3] Elapsed 0m 0s (remain 0m 0s) Loss: 0.2668(0.2668) \n"
     ]
    },
    {
     "name": "stderr",
     "output_type": "stream",
     "text": [
      "Epoch 25 - avg_train_loss: 0.1853  avg_val_loss: 0.2414  time: 4s\n",
      "Epoch 25 - Score: 0.2426\n"
     ]
    },
    {
     "name": "stdout",
     "output_type": "stream",
     "text": [
      "EVAL: [2/3] Elapsed 0m 0s (remain 0m 0s) Loss: 0.2477(0.2414) \n",
      "Epoch: [26][0/19] Elapsed 0m 0s (remain 0m 2s) Loss: 0.1783(0.1783) Grad: 20.3498  LR: 0.000057  \n",
      "Epoch: [26][10/19] Elapsed 0m 1s (remain 0m 1s) Loss: 0.1618(0.1711) Grad: 3.7554  LR: 0.000057  \n",
      "Epoch: [26][18/19] Elapsed 0m 2s (remain 0m 0s) Loss: 0.1537(0.1576) Grad: 9.6354  LR: 0.000057  \n",
      "EVAL: [0/3] Elapsed 0m 0s (remain 0m 0s) Loss: 0.2249(0.2249) \n"
     ]
    },
    {
     "name": "stderr",
     "output_type": "stream",
     "text": [
      "Epoch 26 - avg_train_loss: 0.1576  avg_val_loss: 0.2002  time: 4s\n",
      "Epoch 26 - Score: 0.2014\n"
     ]
    },
    {
     "name": "stdout",
     "output_type": "stream",
     "text": [
      "EVAL: [2/3] Elapsed 0m 0s (remain 0m 0s) Loss: 0.1689(0.2002) \n",
      "Epoch: [27][0/19] Elapsed 0m 0s (remain 0m 2s) Loss: 0.1171(0.1171) Grad: 12.5824  LR: 0.000009  \n",
      "Epoch: [27][10/19] Elapsed 0m 1s (remain 0m 1s) Loss: 0.1052(0.1087) Grad: 9.1389  LR: 0.000009  \n",
      "Epoch: [27][18/19] Elapsed 0m 2s (remain 0m 0s) Loss: 0.0950(0.1044) Grad: 8.3948  LR: 0.000009  \n",
      "EVAL: [0/3] Elapsed 0m 0s (remain 0m 0s) Loss: 0.2109(0.2109) \n"
     ]
    },
    {
     "name": "stderr",
     "output_type": "stream",
     "text": [
      "Epoch 27 - avg_train_loss: 0.1044  avg_val_loss: 0.1777  time: 4s\n",
      "Epoch 27 - Score: 0.1806\n"
     ]
    },
    {
     "name": "stdout",
     "output_type": "stream",
     "text": [
      "EVAL: [2/3] Elapsed 0m 0s (remain 0m 0s) Loss: 0.1202(0.1777) \n",
      "Epoch: [28][0/19] Elapsed 0m 0s (remain 0m 2s) Loss: 0.0934(0.0934) Grad: 9.5808  LR: 0.000001  \n",
      "Epoch: [28][10/19] Elapsed 0m 1s (remain 0m 1s) Loss: 0.1076(0.1012) Grad: 5.6507  LR: 0.000001  \n",
      "Epoch: [28][18/19] Elapsed 0m 2s (remain 0m 0s) Loss: 0.0926(0.0940) Grad: 6.6750  LR: 0.000001  \n",
      "EVAL: [0/3] Elapsed 0m 0s (remain 0m 0s) Loss: 0.2148(0.2148) \n"
     ]
    },
    {
     "name": "stderr",
     "output_type": "stream",
     "text": [
      "Epoch 28 - avg_train_loss: 0.0940  avg_val_loss: 0.1796  time: 4s\n",
      "Epoch 28 - Score: 0.1823\n"
     ]
    },
    {
     "name": "stdout",
     "output_type": "stream",
     "text": [
      "EVAL: [2/3] Elapsed 0m 0s (remain 0m 0s) Loss: 0.1355(0.1796) \n",
      "Epoch: [29][0/19] Elapsed 0m 0s (remain 0m 2s) Loss: 0.0984(0.0984) Grad: 3.9951  LR: 0.000050  \n",
      "Epoch: [29][10/19] Elapsed 0m 1s (remain 0m 1s) Loss: 0.0972(0.0945) Grad: 10.0298  LR: 0.000050  \n",
      "Epoch: [29][18/19] Elapsed 0m 2s (remain 0m 0s) Loss: 0.0720(0.0902) Grad: 3.8683  LR: 0.000050  \n",
      "EVAL: [0/3] Elapsed 0m 0s (remain 0m 0s) Loss: 0.2016(0.2016) \n"
     ]
    },
    {
     "name": "stderr",
     "output_type": "stream",
     "text": [
      "Epoch 29 - avg_train_loss: 0.0902  avg_val_loss: 0.1673  time: 4s\n",
      "Epoch 29 - Score: 0.1699\n",
      "Epoch 29 - Save Best Score: 0.1699 Model\n"
     ]
    },
    {
     "name": "stdout",
     "output_type": "stream",
     "text": [
      "EVAL: [2/3] Elapsed 0m 0s (remain 0m 0s) Loss: 0.1283(0.1673) \n",
      "Epoch: [30][0/19] Elapsed 0m 0s (remain 0m 2s) Loss: 0.0613(0.0613) Grad: 4.6949  LR: 0.000224  \n",
      "Epoch: [30][10/19] Elapsed 0m 1s (remain 0m 1s) Loss: 0.0970(0.0947) Grad: 15.0195  LR: 0.000224  \n",
      "Epoch: [30][18/19] Elapsed 0m 2s (remain 0m 0s) Loss: 0.0832(0.0989) Grad: 7.0658  LR: 0.000224  \n",
      "EVAL: [0/3] Elapsed 0m 0s (remain 0m 0s) Loss: 0.2349(0.2349) \n"
     ]
    },
    {
     "name": "stderr",
     "output_type": "stream",
     "text": [
      "Epoch 30 - avg_train_loss: 0.0989  avg_val_loss: 0.1839  time: 4s\n",
      "Epoch 30 - Score: 0.1890\n"
     ]
    },
    {
     "name": "stdout",
     "output_type": "stream",
     "text": [
      "EVAL: [2/3] Elapsed 0m 0s (remain 0m 0s) Loss: 0.1330(0.1839) \n",
      "Epoch: [31][0/19] Elapsed 0m 0s (remain 0m 2s) Loss: 0.1448(0.1448) Grad: 20.6086  LR: 0.000133  \n",
      "Epoch: [31][10/19] Elapsed 0m 1s (remain 0m 1s) Loss: 0.1171(0.1255) Grad: 18.5748  LR: 0.000133  \n",
      "Epoch: [31][18/19] Elapsed 0m 2s (remain 0m 0s) Loss: 0.1303(0.1264) Grad: 4.2584  LR: 0.000133  \n",
      "EVAL: [0/3] Elapsed 0m 0s (remain 0m 0s) Loss: 0.1988(0.1988) \n"
     ]
    },
    {
     "name": "stderr",
     "output_type": "stream",
     "text": [
      "Epoch 31 - avg_train_loss: 0.1264  avg_val_loss: 0.1977  time: 4s\n",
      "Epoch 31 - Score: 0.1979\n"
     ]
    },
    {
     "name": "stdout",
     "output_type": "stream",
     "text": [
      "EVAL: [2/3] Elapsed 0m 0s (remain 0m 0s) Loss: 0.2155(0.1977) \n",
      "Epoch: [32][0/19] Elapsed 0m 0s (remain 0m 2s) Loss: 0.1034(0.1034) Grad: 16.0874  LR: 0.000057  \n",
      "Epoch: [32][10/19] Elapsed 0m 1s (remain 0m 1s) Loss: 0.1300(0.1252) Grad: 19.4845  LR: 0.000057  \n",
      "Epoch: [32][18/19] Elapsed 0m 2s (remain 0m 0s) Loss: 0.0659(0.1285) Grad: 3.7469  LR: 0.000057  \n",
      "EVAL: [0/3] Elapsed 0m 0s (remain 0m 0s) Loss: 0.2256(0.2256) \n"
     ]
    },
    {
     "name": "stderr",
     "output_type": "stream",
     "text": [
      "Epoch 32 - avg_train_loss: 0.1285  avg_val_loss: 0.1893  time: 4s\n",
      "Epoch 32 - Score: 0.1919\n"
     ]
    },
    {
     "name": "stdout",
     "output_type": "stream",
     "text": [
      "EVAL: [2/3] Elapsed 0m 0s (remain 0m 0s) Loss: 0.1461(0.1893) \n",
      "Epoch: [33][0/19] Elapsed 0m 0s (remain 0m 2s) Loss: 0.1231(0.1231) Grad: 12.9738  LR: 0.000009  \n",
      "Epoch: [33][10/19] Elapsed 0m 1s (remain 0m 1s) Loss: 0.0901(0.1046) Grad: 9.7628  LR: 0.000009  \n",
      "Epoch: [33][18/19] Elapsed 0m 2s (remain 0m 0s) Loss: 0.0739(0.0989) Grad: 3.0193  LR: 0.000009  \n",
      "EVAL: [0/3] Elapsed 0m 0s (remain 0m 0s) Loss: 0.2071(0.2071) \n"
     ]
    },
    {
     "name": "stderr",
     "output_type": "stream",
     "text": [
      "Epoch 33 - avg_train_loss: 0.0989  avg_val_loss: 0.1667  time: 4s\n",
      "Epoch 33 - Score: 0.1701\n"
     ]
    },
    {
     "name": "stdout",
     "output_type": "stream",
     "text": [
      "EVAL: [2/3] Elapsed 0m 0s (remain 0m 0s) Loss: 0.1363(0.1667) \n",
      "Epoch: [34][0/19] Elapsed 0m 0s (remain 0m 2s) Loss: 0.0764(0.0764) Grad: 5.8975  LR: 0.000001  \n",
      "Epoch: [34][10/19] Elapsed 0m 1s (remain 0m 1s) Loss: 0.0733(0.0855) Grad: 6.0308  LR: 0.000001  \n",
      "Epoch: [34][18/19] Elapsed 0m 2s (remain 0m 0s) Loss: 0.0801(0.0799) Grad: 3.4872  LR: 0.000001  \n",
      "EVAL: [0/3] Elapsed 0m 0s (remain 0m 0s) Loss: 0.2020(0.2020) \n"
     ]
    },
    {
     "name": "stderr",
     "output_type": "stream",
     "text": [
      "Epoch 34 - avg_train_loss: 0.0799  avg_val_loss: 0.1600  time: 4s\n",
      "Epoch 34 - Score: 0.1643\n",
      "Epoch 34 - Save Best Score: 0.1643 Model\n"
     ]
    },
    {
     "name": "stdout",
     "output_type": "stream",
     "text": [
      "EVAL: [2/3] Elapsed 0m 0s (remain 0m 0s) Loss: 0.1062(0.1600) \n",
      "Epoch: [35][0/19] Elapsed 0m 0s (remain 0m 2s) Loss: 0.0733(0.0733) Grad: 3.2975  LR: 0.000050  \n",
      "Epoch: [35][10/19] Elapsed 0m 1s (remain 0m 1s) Loss: 0.0879(0.0793) Grad: 2.8627  LR: 0.000050  \n",
      "Epoch: [35][18/19] Elapsed 0m 2s (remain 0m 0s) Loss: 0.1019(0.0818) Grad: 6.5003  LR: 0.000050  \n",
      "EVAL: [0/3] Elapsed 0m 0s (remain 0m 0s) Loss: 0.1832(0.1832) \n"
     ]
    },
    {
     "name": "stderr",
     "output_type": "stream",
     "text": [
      "Epoch 35 - avg_train_loss: 0.0818  avg_val_loss: 0.1594  time: 4s\n",
      "Epoch 35 - Score: 0.1607\n",
      "Epoch 35 - Save Best Score: 0.1607 Model\n"
     ]
    },
    {
     "name": "stdout",
     "output_type": "stream",
     "text": [
      "EVAL: [2/3] Elapsed 0m 0s (remain 0m 0s) Loss: 0.1471(0.1594) \n",
      "Epoch: [36][0/19] Elapsed 0m 0s (remain 0m 2s) Loss: 0.0749(0.0749) Grad: 12.2396  LR: 0.000224  \n",
      "Epoch: [36][10/19] Elapsed 0m 1s (remain 0m 1s) Loss: 0.0841(0.1058) Grad: 5.7148  LR: 0.000224  \n",
      "Epoch: [36][18/19] Elapsed 0m 2s (remain 0m 0s) Loss: 0.1184(0.1084) Grad: 16.3970  LR: 0.000224  \n",
      "EVAL: [0/3] Elapsed 0m 0s (remain 0m 0s) Loss: 0.2144(0.2144) \n"
     ]
    },
    {
     "name": "stderr",
     "output_type": "stream",
     "text": [
      "Epoch 36 - avg_train_loss: 0.1084  avg_val_loss: 0.1728  time: 4s\n",
      "Epoch 36 - Score: 0.1763\n"
     ]
    },
    {
     "name": "stdout",
     "output_type": "stream",
     "text": [
      "EVAL: [2/3] Elapsed 0m 0s (remain 0m 0s) Loss: 0.1411(0.1728) \n",
      "Epoch: [37][0/19] Elapsed 0m 0s (remain 0m 2s) Loss: 0.1090(0.1090) Grad: 13.5419  LR: 0.000133  \n",
      "Epoch: [37][10/19] Elapsed 0m 1s (remain 0m 1s) Loss: 0.1201(0.1612) Grad: 16.2906  LR: 0.000133  \n",
      "Epoch: [37][18/19] Elapsed 0m 2s (remain 0m 0s) Loss: 0.0936(0.1402) Grad: 2.7834  LR: 0.000133  \n",
      "EVAL: [0/3] Elapsed 0m 0s (remain 0m 0s) Loss: 0.2022(0.2022) \n"
     ]
    },
    {
     "name": "stderr",
     "output_type": "stream",
     "text": [
      "Epoch 37 - avg_train_loss: 0.1402  avg_val_loss: 0.1734  time: 4s\n",
      "Epoch 37 - Score: 0.1753\n"
     ]
    },
    {
     "name": "stdout",
     "output_type": "stream",
     "text": [
      "EVAL: [2/3] Elapsed 0m 0s (remain 0m 0s) Loss: 0.1676(0.1734) \n",
      "Epoch: [38][0/19] Elapsed 0m 0s (remain 0m 2s) Loss: 0.1167(0.1167) Grad: 4.0498  LR: 0.000057  \n",
      "Epoch: [38][10/19] Elapsed 0m 1s (remain 0m 1s) Loss: 0.0889(0.1107) Grad: 6.7910  LR: 0.000057  \n",
      "Epoch: [38][18/19] Elapsed 0m 2s (remain 0m 0s) Loss: 0.1562(0.1187) Grad: 18.4978  LR: 0.000057  \n",
      "EVAL: [0/3] Elapsed 0m 0s (remain 0m 0s) Loss: 0.2400(0.2400) \n"
     ]
    },
    {
     "name": "stderr",
     "output_type": "stream",
     "text": [
      "Epoch 38 - avg_train_loss: 0.1187  avg_val_loss: 0.1819  time: 4s\n",
      "Epoch 38 - Score: 0.1884\n"
     ]
    },
    {
     "name": "stdout",
     "output_type": "stream",
     "text": [
      "EVAL: [2/3] Elapsed 0m 0s (remain 0m 0s) Loss: 0.1410(0.1819) \n",
      "Epoch: [39][0/19] Elapsed 0m 0s (remain 0m 2s) Loss: 0.1145(0.1145) Grad: 10.6122  LR: 0.000009  \n",
      "Epoch: [39][10/19] Elapsed 0m 1s (remain 0m 1s) Loss: 0.1310(0.1008) Grad: 11.3335  LR: 0.000009  \n",
      "Epoch: [39][18/19] Elapsed 0m 2s (remain 0m 0s) Loss: 0.1411(0.1035) Grad: 16.9980  LR: 0.000009  \n",
      "EVAL: [0/3] Elapsed 0m 0s (remain 0m 0s) Loss: 0.2122(0.2122) \n"
     ]
    },
    {
     "name": "stderr",
     "output_type": "stream",
     "text": [
      "Epoch 39 - avg_train_loss: 0.1035  avg_val_loss: 0.1742  time: 4s\n",
      "Epoch 39 - Score: 0.1771\n"
     ]
    },
    {
     "name": "stdout",
     "output_type": "stream",
     "text": [
      "EVAL: [2/3] Elapsed 0m 0s (remain 0m 0s) Loss: 0.1447(0.1742) \n",
      "Epoch: [40][0/19] Elapsed 0m 0s (remain 0m 2s) Loss: 0.0864(0.0864) Grad: 10.7466  LR: 0.000001  \n",
      "Epoch: [40][10/19] Elapsed 0m 1s (remain 0m 1s) Loss: 0.0487(0.0823) Grad: 5.6229  LR: 0.000001  \n",
      "Epoch: [40][18/19] Elapsed 0m 2s (remain 0m 0s) Loss: 0.0733(0.0836) Grad: 5.6899  LR: 0.000001  \n",
      "EVAL: [0/3] Elapsed 0m 0s (remain 0m 0s) Loss: 0.2113(0.2113) \n"
     ]
    },
    {
     "name": "stderr",
     "output_type": "stream",
     "text": [
      "Epoch 40 - avg_train_loss: 0.0836  avg_val_loss: 0.1660  time: 4s\n",
      "Epoch 40 - Score: 0.1704\n",
      "========== fold: 3 result ==========\n",
      "Score: 0.1607\n",
      "========== fold: 4 training ==========\n"
     ]
    },
    {
     "name": "stdout",
     "output_type": "stream",
     "text": [
      "EVAL: [2/3] Elapsed 0m 0s (remain 0m 0s) Loss: 0.1337(0.1660) \n",
      "Epoch: [1][0/19] Elapsed 0m 0s (remain 0m 2s) Loss: 3.6793(3.6793) Grad: 26.2027  LR: 0.000100  \n",
      "Epoch: [1][10/19] Elapsed 0m 1s (remain 0m 1s) Loss: 1.1043(1.7670) Grad: 32.3155  LR: 0.000100  \n",
      "Epoch: [1][18/19] Elapsed 0m 2s (remain 0m 0s) Loss: 0.7250(1.3200) Grad: 45.1032  LR: 0.000100  \n",
      "EVAL: [0/3] Elapsed 0m 0s (remain 0m 0s) Loss: 0.5616(0.5616) \n"
     ]
    },
    {
     "name": "stderr",
     "output_type": "stream",
     "text": [
      "Epoch 1 - avg_train_loss: 1.3200  avg_val_loss: 0.4840  time: 3s\n",
      "Epoch 1 - Score: 0.4894\n",
      "Epoch 1 - Save Best Score: 0.4894 Model\n"
     ]
    },
    {
     "name": "stdout",
     "output_type": "stream",
     "text": [
      "EVAL: [2/3] Elapsed 0m 0s (remain 0m 0s) Loss: 0.3649(0.4840) \n",
      "Epoch: [2][0/19] Elapsed 0m 0s (remain 0m 2s) Loss: 0.4024(0.4024) Grad: 6.7799  LR: 0.000057  \n",
      "Epoch: [2][10/19] Elapsed 0m 1s (remain 0m 1s) Loss: 0.4775(0.4831) Grad: 4.7060  LR: 0.000057  \n",
      "Epoch: [2][18/19] Elapsed 0m 2s (remain 0m 0s) Loss: 0.3891(0.4453) Grad: 18.4149  LR: 0.000057  \n",
      "EVAL: [0/3] Elapsed 0m 0s (remain 0m 0s) Loss: 0.4250(0.4250) \n"
     ]
    },
    {
     "name": "stderr",
     "output_type": "stream",
     "text": [
      "Epoch 2 - avg_train_loss: 0.4453  avg_val_loss: 0.3688  time: 3s\n",
      "Epoch 2 - Score: 0.3750\n",
      "Epoch 2 - Save Best Score: 0.3750 Model\n"
     ]
    },
    {
     "name": "stdout",
     "output_type": "stream",
     "text": [
      "EVAL: [2/3] Elapsed 0m 0s (remain 0m 0s) Loss: 0.2292(0.3688) \n",
      "Epoch: [3][0/19] Elapsed 0m 0s (remain 0m 2s) Loss: 0.3526(0.3526) Grad: 12.2168  LR: 0.000009  \n",
      "Epoch: [3][10/19] Elapsed 0m 1s (remain 0m 1s) Loss: 0.3890(0.3275) Grad: 3.8739  LR: 0.000009  \n",
      "Epoch: [3][18/19] Elapsed 0m 2s (remain 0m 0s) Loss: 0.3393(0.3066) Grad: 4.9465  LR: 0.000009  \n",
      "EVAL: [0/3] Elapsed 0m 0s (remain 0m 0s) Loss: 0.4290(0.4290) \n"
     ]
    },
    {
     "name": "stderr",
     "output_type": "stream",
     "text": [
      "Epoch 3 - avg_train_loss: 0.3066  avg_val_loss: 0.3491  time: 4s\n",
      "Epoch 3 - Score: 0.3573\n",
      "Epoch 3 - Save Best Score: 0.3573 Model\n"
     ]
    },
    {
     "name": "stdout",
     "output_type": "stream",
     "text": [
      "EVAL: [2/3] Elapsed 0m 0s (remain 0m 0s) Loss: 0.2196(0.3491) \n",
      "Epoch: [4][0/19] Elapsed 0m 0s (remain 0m 2s) Loss: 0.2429(0.2429) Grad: 4.6036  LR: 0.000001  \n",
      "Epoch: [4][10/19] Elapsed 0m 1s (remain 0m 1s) Loss: 0.3332(0.2681) Grad: 5.9452  LR: 0.000001  \n",
      "Epoch: [4][18/19] Elapsed 0m 2s (remain 0m 0s) Loss: 0.2338(0.2691) Grad: 11.6447  LR: 0.000001  \n",
      "EVAL: [0/3] Elapsed 0m 0s (remain 0m 0s) Loss: 0.4059(0.4059) \n"
     ]
    },
    {
     "name": "stderr",
     "output_type": "stream",
     "text": [
      "Epoch 4 - avg_train_loss: 0.2691  avg_val_loss: 0.3354  time: 4s\n",
      "Epoch 4 - Score: 0.3431\n",
      "Epoch 4 - Save Best Score: 0.3431 Model\n"
     ]
    },
    {
     "name": "stdout",
     "output_type": "stream",
     "text": [
      "EVAL: [2/3] Elapsed 0m 0s (remain 0m 0s) Loss: 0.2007(0.3354) \n",
      "Epoch: [5][0/19] Elapsed 0m 0s (remain 0m 2s) Loss: 0.2177(0.2177) Grad: 10.9387  LR: 0.000050  \n",
      "Epoch: [5][10/19] Elapsed 0m 1s (remain 0m 1s) Loss: 0.2905(0.2714) Grad: 15.2669  LR: 0.000050  \n",
      "Epoch: [5][18/19] Elapsed 0m 2s (remain 0m 0s) Loss: 0.2491(0.2652) Grad: 9.5365  LR: 0.000050  \n",
      "EVAL: [0/3] Elapsed 0m 0s (remain 0m 0s) Loss: 0.3982(0.3982) \n"
     ]
    },
    {
     "name": "stderr",
     "output_type": "stream",
     "text": [
      "Epoch 5 - avg_train_loss: 0.2652  avg_val_loss: 0.3178  time: 4s\n",
      "Epoch 5 - Score: 0.3265\n",
      "Epoch 5 - Save Best Score: 0.3265 Model\n"
     ]
    },
    {
     "name": "stdout",
     "output_type": "stream",
     "text": [
      "EVAL: [2/3] Elapsed 0m 0s (remain 0m 0s) Loss: 0.1950(0.3178) \n",
      "Epoch: [6][0/19] Elapsed 0m 0s (remain 0m 2s) Loss: 0.2904(0.2904) Grad: 17.7072  LR: 0.000224  \n",
      "Epoch: [6][10/19] Elapsed 0m 1s (remain 0m 1s) Loss: 0.2795(0.2677) Grad: 7.8007  LR: 0.000224  \n",
      "Epoch: [6][18/19] Elapsed 0m 2s (remain 0m 0s) Loss: 0.3077(0.2765) Grad: 14.2263  LR: 0.000224  \n",
      "EVAL: [0/3] Elapsed 0m 0s (remain 0m 0s) Loss: 0.4041(0.4041) \n"
     ]
    },
    {
     "name": "stderr",
     "output_type": "stream",
     "text": [
      "Epoch 6 - avg_train_loss: 0.2765  avg_val_loss: 0.3252  time: 4s\n",
      "Epoch 6 - Score: 0.3337\n"
     ]
    },
    {
     "name": "stdout",
     "output_type": "stream",
     "text": [
      "EVAL: [2/3] Elapsed 0m 0s (remain 0m 0s) Loss: 0.1988(0.3252) \n",
      "Epoch: [7][0/19] Elapsed 0m 0s (remain 0m 2s) Loss: 0.2403(0.2403) Grad: 11.2759  LR: 0.000133  \n",
      "Epoch: [7][10/19] Elapsed 0m 1s (remain 0m 1s) Loss: 0.1434(0.2573) Grad: 15.1288  LR: 0.000133  \n",
      "Epoch: [7][18/19] Elapsed 0m 2s (remain 0m 0s) Loss: 0.2003(0.2432) Grad: 7.5871  LR: 0.000133  \n",
      "EVAL: [0/3] Elapsed 0m 0s (remain 0m 0s) Loss: 0.3666(0.3666) \n"
     ]
    },
    {
     "name": "stderr",
     "output_type": "stream",
     "text": [
      "Epoch 7 - avg_train_loss: 0.2432  avg_val_loss: 0.3129  time: 4s\n",
      "Epoch 7 - Score: 0.3178\n",
      "Epoch 7 - Save Best Score: 0.3178 Model\n"
     ]
    },
    {
     "name": "stdout",
     "output_type": "stream",
     "text": [
      "EVAL: [2/3] Elapsed 0m 0s (remain 0m 0s) Loss: 0.2095(0.3129) \n",
      "Epoch: [8][0/19] Elapsed 0m 0s (remain 0m 2s) Loss: 0.1981(0.1981) Grad: 4.3290  LR: 0.000057  \n",
      "Epoch: [8][10/19] Elapsed 0m 1s (remain 0m 1s) Loss: 0.2140(0.1979) Grad: 21.4838  LR: 0.000057  \n",
      "Epoch: [8][18/19] Elapsed 0m 2s (remain 0m 0s) Loss: 0.2314(0.2043) Grad: 23.0923  LR: 0.000057  \n",
      "EVAL: [0/3] Elapsed 0m 0s (remain 0m 0s) Loss: 0.3708(0.3708) \n"
     ]
    },
    {
     "name": "stderr",
     "output_type": "stream",
     "text": [
      "Epoch 8 - avg_train_loss: 0.2043  avg_val_loss: 0.3288  time: 4s\n",
      "Epoch 8 - Score: 0.3321\n"
     ]
    },
    {
     "name": "stdout",
     "output_type": "stream",
     "text": [
      "EVAL: [2/3] Elapsed 0m 0s (remain 0m 0s) Loss: 0.2379(0.3288) \n",
      "Epoch: [9][0/19] Elapsed 0m 0s (remain 0m 2s) Loss: 0.1832(0.1832) Grad: 15.3100  LR: 0.000009  \n",
      "Epoch: [9][10/19] Elapsed 0m 1s (remain 0m 1s) Loss: 0.1239(0.1745) Grad: 10.3947  LR: 0.000009  \n",
      "Epoch: [9][18/19] Elapsed 0m 2s (remain 0m 0s) Loss: 0.1487(0.1676) Grad: 4.5814  LR: 0.000009  \n",
      "EVAL: [0/3] Elapsed 0m 0s (remain 0m 0s) Loss: 0.3573(0.3573) \n"
     ]
    },
    {
     "name": "stderr",
     "output_type": "stream",
     "text": [
      "Epoch 9 - avg_train_loss: 0.1676  avg_val_loss: 0.2868  time: 4s\n",
      "Epoch 9 - Score: 0.2955\n",
      "Epoch 9 - Save Best Score: 0.2955 Model\n"
     ]
    },
    {
     "name": "stdout",
     "output_type": "stream",
     "text": [
      "EVAL: [2/3] Elapsed 0m 0s (remain 0m 0s) Loss: 0.1558(0.2868) \n",
      "Epoch: [10][0/19] Elapsed 0m 0s (remain 0m 2s) Loss: 0.1481(0.1481) Grad: 7.1327  LR: 0.000001  \n",
      "Epoch: [10][10/19] Elapsed 0m 1s (remain 0m 1s) Loss: 0.1498(0.1368) Grad: 8.0536  LR: 0.000001  \n",
      "Epoch: [10][18/19] Elapsed 0m 2s (remain 0m 0s) Loss: 0.1259(0.1384) Grad: 4.4505  LR: 0.000001  \n",
      "EVAL: [0/3] Elapsed 0m 0s (remain 0m 0s) Loss: 0.3577(0.3577) \n"
     ]
    },
    {
     "name": "stderr",
     "output_type": "stream",
     "text": [
      "Epoch 10 - avg_train_loss: 0.1384  avg_val_loss: 0.2819  time: 4s\n",
      "Epoch 10 - Score: 0.2908\n",
      "Epoch 10 - Save Best Score: 0.2908 Model\n"
     ]
    },
    {
     "name": "stdout",
     "output_type": "stream",
     "text": [
      "EVAL: [2/3] Elapsed 0m 0s (remain 0m 0s) Loss: 0.1620(0.2819) \n",
      "Epoch: [11][0/19] Elapsed 0m 0s (remain 0m 2s) Loss: 0.1563(0.1563) Grad: 13.9038  LR: 0.000050  \n",
      "Epoch: [11][10/19] Elapsed 0m 1s (remain 0m 1s) Loss: 0.1337(0.1484) Grad: 19.1027  LR: 0.000050  \n",
      "Epoch: [11][18/19] Elapsed 0m 2s (remain 0m 0s) Loss: 0.1239(0.1501) Grad: 13.4806  LR: 0.000050  \n",
      "EVAL: [0/3] Elapsed 0m 0s (remain 0m 0s) Loss: 0.3523(0.3523) \n"
     ]
    },
    {
     "name": "stderr",
     "output_type": "stream",
     "text": [
      "Epoch 11 - avg_train_loss: 0.1501  avg_val_loss: 0.2821  time: 4s\n",
      "Epoch 11 - Score: 0.2924\n"
     ]
    },
    {
     "name": "stdout",
     "output_type": "stream",
     "text": [
      "EVAL: [2/3] Elapsed 0m 0s (remain 0m 0s) Loss: 0.1316(0.2821) \n",
      "Epoch: [12][0/19] Elapsed 0m 0s (remain 0m 2s) Loss: 0.1281(0.1281) Grad: 23.6162  LR: 0.000224  \n",
      "Epoch: [12][10/19] Elapsed 0m 1s (remain 0m 1s) Loss: 0.2478(0.3088) Grad: 28.5151  LR: 0.000224  \n",
      "Epoch: [12][18/19] Elapsed 0m 3s (remain 0m 0s) Loss: 0.2503(0.2715) Grad: 23.3358  LR: 0.000224  \n",
      "EVAL: [0/3] Elapsed 0m 0s (remain 0m 0s) Loss: 0.4510(0.4510) \n"
     ]
    },
    {
     "name": "stderr",
     "output_type": "stream",
     "text": [
      "Epoch 12 - avg_train_loss: 0.2715  avg_val_loss: 0.3794  time: 4s\n",
      "Epoch 12 - Score: 0.3861\n"
     ]
    },
    {
     "name": "stdout",
     "output_type": "stream",
     "text": [
      "EVAL: [2/3] Elapsed 0m 0s (remain 0m 0s) Loss: 0.2503(0.3794) \n",
      "Epoch: [13][0/19] Elapsed 0m 0s (remain 0m 2s) Loss: 0.2502(0.2502) Grad: 28.6473  LR: 0.000133  \n",
      "Epoch: [13][10/19] Elapsed 0m 1s (remain 0m 1s) Loss: 0.2901(0.2091) Grad: 27.2997  LR: 0.000133  \n",
      "Epoch: [13][18/19] Elapsed 0m 2s (remain 0m 0s) Loss: 0.2517(0.2289) Grad: 27.1098  LR: 0.000133  \n",
      "EVAL: [0/3] Elapsed 0m 0s (remain 0m 0s) Loss: 0.3797(0.3797) \n"
     ]
    },
    {
     "name": "stderr",
     "output_type": "stream",
     "text": [
      "Epoch 13 - avg_train_loss: 0.2289  avg_val_loss: 0.3242  time: 4s\n",
      "Epoch 13 - Score: 0.3280\n"
     ]
    },
    {
     "name": "stdout",
     "output_type": "stream",
     "text": [
      "EVAL: [2/3] Elapsed 0m 0s (remain 0m 0s) Loss: 0.2479(0.3242) \n",
      "Epoch: [14][0/19] Elapsed 0m 0s (remain 0m 2s) Loss: 0.1742(0.1742) Grad: 16.5560  LR: 0.000057  \n",
      "Epoch: [14][10/19] Elapsed 0m 1s (remain 0m 1s) Loss: 0.2012(0.1852) Grad: 27.8669  LR: 0.000057  \n",
      "Epoch: [14][18/19] Elapsed 0m 2s (remain 0m 0s) Loss: 0.2437(0.2109) Grad: 28.6605  LR: 0.000057  \n",
      "EVAL: [0/3] Elapsed 0m 0s (remain 0m 0s) Loss: 0.4230(0.4230) \n"
     ]
    },
    {
     "name": "stderr",
     "output_type": "stream",
     "text": [
      "Epoch 14 - avg_train_loss: 0.2109  avg_val_loss: 0.3450  time: 4s\n",
      "Epoch 14 - Score: 0.3519\n"
     ]
    },
    {
     "name": "stdout",
     "output_type": "stream",
     "text": [
      "EVAL: [2/3] Elapsed 0m 0s (remain 0m 0s) Loss: 0.2457(0.3450) \n",
      "Epoch: [15][0/19] Elapsed 0m 0s (remain 0m 2s) Loss: 0.1805(0.1805) Grad: 28.6393  LR: 0.000009  \n",
      "Epoch: [15][10/19] Elapsed 0m 1s (remain 0m 1s) Loss: 0.1093(0.1567) Grad: 7.0235  LR: 0.000009  \n",
      "Epoch: [15][18/19] Elapsed 0m 2s (remain 0m 0s) Loss: 0.0961(0.1522) Grad: 3.9332  LR: 0.000009  \n",
      "EVAL: [0/3] Elapsed 0m 0s (remain 0m 0s) Loss: 0.3703(0.3703) \n"
     ]
    },
    {
     "name": "stderr",
     "output_type": "stream",
     "text": [
      "Epoch 15 - avg_train_loss: 0.1522  avg_val_loss: 0.3072  time: 4s\n",
      "Epoch 15 - Score: 0.3143\n"
     ]
    },
    {
     "name": "stdout",
     "output_type": "stream",
     "text": [
      "EVAL: [2/3] Elapsed 0m 0s (remain 0m 0s) Loss: 0.1811(0.3072) \n",
      "Epoch: [16][0/19] Elapsed 0m 0s (remain 0m 2s) Loss: 0.1754(0.1754) Grad: 19.2111  LR: 0.000001  \n",
      "Epoch: [16][10/19] Elapsed 0m 1s (remain 0m 1s) Loss: 0.1018(0.1306) Grad: 9.5929  LR: 0.000001  \n",
      "Epoch: [16][18/19] Elapsed 0m 2s (remain 0m 0s) Loss: 0.1400(0.1235) Grad: 8.6874  LR: 0.000001  \n",
      "EVAL: [0/3] Elapsed 0m 0s (remain 0m 0s) Loss: 0.3821(0.3821) \n"
     ]
    },
    {
     "name": "stderr",
     "output_type": "stream",
     "text": [
      "Epoch 16 - avg_train_loss: 0.1235  avg_val_loss: 0.3013  time: 4s\n",
      "Epoch 16 - Score: 0.3108\n"
     ]
    },
    {
     "name": "stdout",
     "output_type": "stream",
     "text": [
      "EVAL: [2/3] Elapsed 0m 0s (remain 0m 0s) Loss: 0.1737(0.3013) \n",
      "Epoch: [17][0/19] Elapsed 0m 0s (remain 0m 2s) Loss: 0.1279(0.1279) Grad: 12.1110  LR: 0.000050  \n",
      "Epoch: [17][10/19] Elapsed 0m 1s (remain 0m 1s) Loss: 0.1684(0.1183) Grad: 14.0674  LR: 0.000050  \n",
      "Epoch: [17][18/19] Elapsed 0m 2s (remain 0m 0s) Loss: 0.0790(0.1121) Grad: 3.5677  LR: 0.000050  \n",
      "EVAL: [0/3] Elapsed 0m 0s (remain 0m 0s) Loss: 0.3790(0.3790) \n"
     ]
    },
    {
     "name": "stderr",
     "output_type": "stream",
     "text": [
      "Epoch 17 - avg_train_loss: 0.1121  avg_val_loss: 0.2973  time: 4s\n",
      "Epoch 17 - Score: 0.3068\n"
     ]
    },
    {
     "name": "stdout",
     "output_type": "stream",
     "text": [
      "EVAL: [2/3] Elapsed 0m 0s (remain 0m 0s) Loss: 0.1750(0.2973) \n",
      "Epoch: [18][0/19] Elapsed 0m 0s (remain 0m 2s) Loss: 0.1030(0.1030) Grad: 13.0283  LR: 0.000224  \n",
      "Epoch: [18][10/19] Elapsed 0m 1s (remain 0m 1s) Loss: 0.1229(0.1308) Grad: 23.0120  LR: 0.000224  \n",
      "Epoch: [18][18/19] Elapsed 0m 2s (remain 0m 0s) Loss: 0.1485(0.1305) Grad: 7.5824  LR: 0.000224  \n",
      "EVAL: [0/3] Elapsed 0m 0s (remain 0m 0s) Loss: 0.3635(0.3635) \n"
     ]
    },
    {
     "name": "stderr",
     "output_type": "stream",
     "text": [
      "Epoch 18 - avg_train_loss: 0.1305  avg_val_loss: 0.2940  time: 4s\n",
      "Epoch 18 - Score: 0.3034\n"
     ]
    },
    {
     "name": "stdout",
     "output_type": "stream",
     "text": [
      "EVAL: [2/3] Elapsed 0m 0s (remain 0m 0s) Loss: 0.1484(0.2940) \n",
      "Epoch: [19][0/19] Elapsed 0m 0s (remain 0m 2s) Loss: 0.1404(0.1404) Grad: 5.3616  LR: 0.000133  \n",
      "Epoch: [19][10/19] Elapsed 0m 1s (remain 0m 1s) Loss: 0.2691(0.1942) Grad: 31.6050  LR: 0.000133  \n",
      "Epoch: [19][18/19] Elapsed 0m 2s (remain 0m 0s) Loss: 0.3167(0.2073) Grad: 30.0555  LR: 0.000133  \n",
      "EVAL: [0/3] Elapsed 0m 0s (remain 0m 0s) Loss: 0.4580(0.4580) \n"
     ]
    },
    {
     "name": "stderr",
     "output_type": "stream",
     "text": [
      "Epoch 19 - avg_train_loss: 0.2073  avg_val_loss: 0.3946  time: 4s\n",
      "Epoch 19 - Score: 0.3992\n"
     ]
    },
    {
     "name": "stdout",
     "output_type": "stream",
     "text": [
      "EVAL: [2/3] Elapsed 0m 0s (remain 0m 0s) Loss: 0.2924(0.3946) \n",
      "Epoch: [20][0/19] Elapsed 0m 0s (remain 0m 2s) Loss: 0.2925(0.2925) Grad: 28.5488  LR: 0.000057  \n",
      "Epoch: [20][10/19] Elapsed 0m 1s (remain 0m 1s) Loss: 0.1194(0.2391) Grad: 9.6390  LR: 0.000057  \n",
      "Epoch: [20][18/19] Elapsed 0m 2s (remain 0m 0s) Loss: 0.1671(0.2123) Grad: 3.4092  LR: 0.000057  \n",
      "EVAL: [0/3] Elapsed 0m 0s (remain 0m 0s) Loss: 0.3955(0.3955) \n"
     ]
    },
    {
     "name": "stderr",
     "output_type": "stream",
     "text": [
      "Epoch 20 - avg_train_loss: 0.2123  avg_val_loss: 0.3231  time: 4s\n",
      "Epoch 20 - Score: 0.3303\n"
     ]
    },
    {
     "name": "stdout",
     "output_type": "stream",
     "text": [
      "EVAL: [2/3] Elapsed 0m 0s (remain 0m 0s) Loss: 0.2078(0.3231) \n",
      "Epoch: [21][0/19] Elapsed 0m 0s (remain 0m 2s) Loss: 0.1697(0.1697) Grad: 15.4289  LR: 0.000009  \n",
      "Epoch: [21][10/19] Elapsed 0m 1s (remain 0m 1s) Loss: 0.1250(0.1393) Grad: 4.1339  LR: 0.000009  \n",
      "Epoch: [21][18/19] Elapsed 0m 2s (remain 0m 0s) Loss: 0.1347(0.1245) Grad: 16.3647  LR: 0.000009  \n",
      "EVAL: [0/3] Elapsed 0m 0s (remain 0m 0s) Loss: 0.3872(0.3872) \n"
     ]
    },
    {
     "name": "stderr",
     "output_type": "stream",
     "text": [
      "Epoch 21 - avg_train_loss: 0.1245  avg_val_loss: 0.3034  time: 4s\n",
      "Epoch 21 - Score: 0.3122\n"
     ]
    },
    {
     "name": "stdout",
     "output_type": "stream",
     "text": [
      "EVAL: [2/3] Elapsed 0m 0s (remain 0m 0s) Loss: 0.2013(0.3034) \n",
      "Epoch: [22][0/19] Elapsed 0m 0s (remain 0m 2s) Loss: 0.1049(0.1049) Grad: 4.5499  LR: 0.000001  \n",
      "Epoch: [22][10/19] Elapsed 0m 1s (remain 0m 1s) Loss: 0.0943(0.1023) Grad: 3.4200  LR: 0.000001  \n",
      "Epoch: [22][18/19] Elapsed 0m 2s (remain 0m 0s) Loss: 0.1060(0.1029) Grad: 6.6378  LR: 0.000001  \n",
      "EVAL: [0/3] Elapsed 0m 0s (remain 0m 0s) Loss: 0.3645(0.3645) \n"
     ]
    },
    {
     "name": "stderr",
     "output_type": "stream",
     "text": [
      "Epoch 22 - avg_train_loss: 0.1029  avg_val_loss: 0.2883  time: 4s\n",
      "Epoch 22 - Score: 0.2985\n"
     ]
    },
    {
     "name": "stdout",
     "output_type": "stream",
     "text": [
      "EVAL: [2/3] Elapsed 0m 0s (remain 0m 0s) Loss: 0.1465(0.2883) \n",
      "Epoch: [23][0/19] Elapsed 0m 0s (remain 0m 2s) Loss: 0.1122(0.1122) Grad: 3.5804  LR: 0.000050  \n",
      "Epoch: [23][10/19] Elapsed 0m 1s (remain 0m 1s) Loss: 0.0873(0.1098) Grad: 8.3395  LR: 0.000050  \n",
      "Epoch: [23][18/19] Elapsed 0m 2s (remain 0m 0s) Loss: 0.1047(0.1094) Grad: 13.0452  LR: 0.000050  \n",
      "EVAL: [0/3] Elapsed 0m 0s (remain 0m 0s) Loss: 0.3861(0.3861) \n"
     ]
    },
    {
     "name": "stderr",
     "output_type": "stream",
     "text": [
      "Epoch 23 - avg_train_loss: 0.1094  avg_val_loss: 0.2969  time: 4s\n",
      "Epoch 23 - Score: 0.3071\n"
     ]
    },
    {
     "name": "stdout",
     "output_type": "stream",
     "text": [
      "EVAL: [2/3] Elapsed 0m 0s (remain 0m 0s) Loss: 0.1875(0.2969) \n",
      "Epoch: [24][0/19] Elapsed 0m 0s (remain 0m 2s) Loss: 0.1081(0.1081) Grad: 12.4590  LR: 0.000224  \n",
      "Epoch: [24][10/19] Elapsed 0m 1s (remain 0m 1s) Loss: 0.1035(0.1269) Grad: 3.5906  LR: 0.000224  \n",
      "Epoch: [24][18/19] Elapsed 0m 2s (remain 0m 0s) Loss: 0.1764(0.1395) Grad: 27.6785  LR: 0.000224  \n",
      "EVAL: [0/3] Elapsed 0m 0s (remain 0m 0s) Loss: 0.3437(0.3437) \n"
     ]
    },
    {
     "name": "stderr",
     "output_type": "stream",
     "text": [
      "Epoch 24 - avg_train_loss: 0.1395  avg_val_loss: 0.2849  time: 4s\n",
      "Epoch 24 - Score: 0.2899\n",
      "Epoch 24 - Save Best Score: 0.2899 Model\n"
     ]
    },
    {
     "name": "stdout",
     "output_type": "stream",
     "text": [
      "EVAL: [2/3] Elapsed 0m 0s (remain 0m 0s) Loss: 0.2010(0.2849) \n",
      "Epoch: [25][0/19] Elapsed 0m 0s (remain 0m 2s) Loss: 0.1345(0.1345) Grad: 13.5090  LR: 0.000133  \n",
      "Epoch: [25][10/19] Elapsed 0m 1s (remain 0m 1s) Loss: 0.1434(0.1861) Grad: 17.4742  LR: 0.000133  \n",
      "Epoch: [25][18/19] Elapsed 0m 2s (remain 0m 0s) Loss: 0.0949(0.1681) Grad: 17.8984  LR: 0.000133  \n",
      "EVAL: [0/3] Elapsed 0m 0s (remain 0m 0s) Loss: 0.4164(0.4164) \n"
     ]
    },
    {
     "name": "stderr",
     "output_type": "stream",
     "text": [
      "Epoch 25 - avg_train_loss: 0.1681  avg_val_loss: 0.3543  time: 4s\n",
      "Epoch 25 - Score: 0.3587\n"
     ]
    },
    {
     "name": "stdout",
     "output_type": "stream",
     "text": [
      "EVAL: [2/3] Elapsed 0m 0s (remain 0m 0s) Loss: 0.2703(0.3543) \n",
      "Epoch: [26][0/19] Elapsed 0m 0s (remain 0m 2s) Loss: 0.2304(0.2304) Grad: 29.2917  LR: 0.000057  \n",
      "Epoch: [26][10/19] Elapsed 0m 1s (remain 0m 1s) Loss: 0.1552(0.1714) Grad: 21.5920  LR: 0.000057  \n",
      "Epoch: [26][18/19] Elapsed 0m 2s (remain 0m 0s) Loss: 0.1054(0.1467) Grad: 14.8648  LR: 0.000057  \n",
      "EVAL: [0/3] Elapsed 0m 0s (remain 0m 0s) Loss: 0.3652(0.3652) \n"
     ]
    },
    {
     "name": "stderr",
     "output_type": "stream",
     "text": [
      "Epoch 26 - avg_train_loss: 0.1467  avg_val_loss: 0.2905  time: 4s\n",
      "Epoch 26 - Score: 0.2990\n"
     ]
    },
    {
     "name": "stdout",
     "output_type": "stream",
     "text": [
      "EVAL: [2/3] Elapsed 0m 0s (remain 0m 0s) Loss: 0.1703(0.2905) \n",
      "Epoch: [27][0/19] Elapsed 0m 0s (remain 0m 2s) Loss: 0.1432(0.1432) Grad: 23.0160  LR: 0.000009  \n",
      "Epoch: [27][10/19] Elapsed 0m 1s (remain 0m 1s) Loss: 0.0931(0.1092) Grad: 12.7419  LR: 0.000009  \n",
      "Epoch: [27][18/19] Elapsed 0m 2s (remain 0m 0s) Loss: 0.1053(0.1121) Grad: 10.7019  LR: 0.000009  \n",
      "EVAL: [0/3] Elapsed 0m 0s (remain 0m 0s) Loss: 0.3571(0.3571) \n"
     ]
    },
    {
     "name": "stderr",
     "output_type": "stream",
     "text": [
      "Epoch 27 - avg_train_loss: 0.1121  avg_val_loss: 0.2868  time: 4s\n",
      "Epoch 27 - Score: 0.2940\n"
     ]
    },
    {
     "name": "stdout",
     "output_type": "stream",
     "text": [
      "EVAL: [2/3] Elapsed 0m 0s (remain 0m 0s) Loss: 0.1843(0.2868) \n",
      "Epoch: [28][0/19] Elapsed 0m 0s (remain 0m 2s) Loss: 0.0981(0.0981) Grad: 18.2337  LR: 0.000001  \n",
      "Epoch: [28][10/19] Elapsed 0m 1s (remain 0m 1s) Loss: 0.1071(0.0948) Grad: 11.7317  LR: 0.000001  \n",
      "Epoch: [28][18/19] Elapsed 0m 2s (remain 0m 0s) Loss: 0.0740(0.0895) Grad: 7.7682  LR: 0.000001  \n",
      "EVAL: [0/3] Elapsed 0m 0s (remain 0m 0s) Loss: 0.3577(0.3577) \n"
     ]
    },
    {
     "name": "stderr",
     "output_type": "stream",
     "text": [
      "Epoch 28 - avg_train_loss: 0.0895  avg_val_loss: 0.2859  time: 4s\n",
      "Epoch 28 - Score: 0.2945\n"
     ]
    },
    {
     "name": "stdout",
     "output_type": "stream",
     "text": [
      "EVAL: [2/3] Elapsed 0m 0s (remain 0m 0s) Loss: 0.1601(0.2859) \n",
      "Epoch: [29][0/19] Elapsed 0m 0s (remain 0m 2s) Loss: 0.0720(0.0720) Grad: 3.5658  LR: 0.000050  \n",
      "Epoch: [29][10/19] Elapsed 0m 1s (remain 0m 1s) Loss: 0.0858(0.0983) Grad: 9.1276  LR: 0.000050  \n",
      "Epoch: [29][18/19] Elapsed 0m 2s (remain 0m 0s) Loss: 0.0840(0.0923) Grad: 2.8691  LR: 0.000050  \n",
      "EVAL: [0/3] Elapsed 0m 0s (remain 0m 0s) Loss: 0.3549(0.3549) \n"
     ]
    },
    {
     "name": "stderr",
     "output_type": "stream",
     "text": [
      "Epoch 29 - avg_train_loss: 0.0923  avg_val_loss: 0.2726  time: 4s\n",
      "Epoch 29 - Score: 0.2828\n",
      "Epoch 29 - Save Best Score: 0.2828 Model\n"
     ]
    },
    {
     "name": "stdout",
     "output_type": "stream",
     "text": [
      "EVAL: [2/3] Elapsed 0m 0s (remain 0m 0s) Loss: 0.1539(0.2726) \n",
      "Epoch: [30][0/19] Elapsed 0m 0s (remain 0m 2s) Loss: 0.0718(0.0718) Grad: 8.1197  LR: 0.000224  \n",
      "Epoch: [30][10/19] Elapsed 0m 1s (remain 0m 1s) Loss: 0.1314(0.1125) Grad: 19.3915  LR: 0.000224  \n",
      "Epoch: [30][18/19] Elapsed 0m 2s (remain 0m 0s) Loss: 0.1812(0.1309) Grad: 25.5260  LR: 0.000224  \n",
      "EVAL: [0/3] Elapsed 0m 0s (remain 0m 0s) Loss: 0.3922(0.3922) \n"
     ]
    },
    {
     "name": "stderr",
     "output_type": "stream",
     "text": [
      "Epoch 30 - avg_train_loss: 0.1309  avg_val_loss: 0.3134  time: 4s\n",
      "Epoch 30 - Score: 0.3225\n"
     ]
    },
    {
     "name": "stdout",
     "output_type": "stream",
     "text": [
      "EVAL: [2/3] Elapsed 0m 0s (remain 0m 0s) Loss: 0.1811(0.3134) \n",
      "Epoch: [31][0/19] Elapsed 0m 0s (remain 0m 2s) Loss: 0.1704(0.1704) Grad: 26.1395  LR: 0.000133  \n",
      "Epoch: [31][10/19] Elapsed 0m 1s (remain 0m 1s) Loss: 0.2058(0.1445) Grad: 31.8516  LR: 0.000133  \n",
      "Epoch: [31][18/19] Elapsed 0m 2s (remain 0m 0s) Loss: 0.1159(0.1390) Grad: 12.6654  LR: 0.000133  \n",
      "EVAL: [0/3] Elapsed 0m 0s (remain 0m 0s) Loss: 0.3449(0.3449) \n"
     ]
    },
    {
     "name": "stderr",
     "output_type": "stream",
     "text": [
      "Epoch 31 - avg_train_loss: 0.1390  avg_val_loss: 0.2963  time: 4s\n",
      "Epoch 31 - Score: 0.3004\n"
     ]
    },
    {
     "name": "stdout",
     "output_type": "stream",
     "text": [
      "EVAL: [2/3] Elapsed 0m 0s (remain 0m 0s) Loss: 0.2037(0.2963) \n",
      "Epoch: [32][0/19] Elapsed 0m 0s (remain 0m 2s) Loss: 0.1304(0.1304) Grad: 14.8438  LR: 0.000057  \n",
      "Epoch: [32][10/19] Elapsed 0m 1s (remain 0m 1s) Loss: 0.1632(0.1268) Grad: 16.8299  LR: 0.000057  \n",
      "Epoch: [32][18/19] Elapsed 0m 3s (remain 0m 0s) Loss: 0.1674(0.1453) Grad: 24.8245  LR: 0.000057  \n",
      "EVAL: [0/3] Elapsed 0m 0s (remain 0m 0s) Loss: 0.3703(0.3703) \n"
     ]
    },
    {
     "name": "stderr",
     "output_type": "stream",
     "text": [
      "Epoch 32 - avg_train_loss: 0.1453  avg_val_loss: 0.2961  time: 4s\n",
      "Epoch 32 - Score: 0.3045\n"
     ]
    },
    {
     "name": "stdout",
     "output_type": "stream",
     "text": [
      "EVAL: [2/3] Elapsed 0m 0s (remain 0m 0s) Loss: 0.1752(0.2961) \n",
      "Epoch: [33][0/19] Elapsed 0m 0s (remain 0m 2s) Loss: 0.1210(0.1210) Grad: 12.2998  LR: 0.000009  \n",
      "Epoch: [33][10/19] Elapsed 0m 1s (remain 0m 1s) Loss: 0.0872(0.1035) Grad: 12.0441  LR: 0.000009  \n",
      "Epoch: [33][18/19] Elapsed 0m 2s (remain 0m 0s) Loss: 0.1077(0.0994) Grad: 3.2728  LR: 0.000009  \n",
      "EVAL: [0/3] Elapsed 0m 0s (remain 0m 0s) Loss: 0.3633(0.3633) \n"
     ]
    },
    {
     "name": "stderr",
     "output_type": "stream",
     "text": [
      "Epoch 33 - avg_train_loss: 0.0994  avg_val_loss: 0.2817  time: 4s\n",
      "Epoch 33 - Score: 0.2913\n"
     ]
    },
    {
     "name": "stdout",
     "output_type": "stream",
     "text": [
      "EVAL: [2/3] Elapsed 0m 0s (remain 0m 0s) Loss: 0.1676(0.2817) \n",
      "Epoch: [34][0/19] Elapsed 0m 0s (remain 0m 2s) Loss: 0.0805(0.0805) Grad: 2.7521  LR: 0.000001  \n",
      "Epoch: [34][10/19] Elapsed 0m 1s (remain 0m 1s) Loss: 0.0695(0.0767) Grad: 2.3549  LR: 0.000001  \n",
      "Epoch: [34][18/19] Elapsed 0m 2s (remain 0m 0s) Loss: 0.1160(0.0791) Grad: 3.4841  LR: 0.000001  \n",
      "EVAL: [0/3] Elapsed 0m 0s (remain 0m 0s) Loss: 0.3598(0.3598) \n"
     ]
    },
    {
     "name": "stderr",
     "output_type": "stream",
     "text": [
      "Epoch 34 - avg_train_loss: 0.0791  avg_val_loss: 0.2762  time: 4s\n",
      "Epoch 34 - Score: 0.2876\n"
     ]
    },
    {
     "name": "stdout",
     "output_type": "stream",
     "text": [
      "EVAL: [2/3] Elapsed 0m 0s (remain 0m 0s) Loss: 0.1394(0.2762) \n",
      "Epoch: [35][0/19] Elapsed 0m 0s (remain 0m 2s) Loss: 0.0653(0.0653) Grad: 5.2107  LR: 0.000050  \n",
      "Epoch: [35][10/19] Elapsed 0m 1s (remain 0m 1s) Loss: 0.1033(0.0819) Grad: 7.1737  LR: 0.000050  \n",
      "Epoch: [35][18/19] Elapsed 0m 2s (remain 0m 0s) Loss: 0.0947(0.0839) Grad: 26.9320  LR: 0.000050  \n",
      "EVAL: [0/3] Elapsed 0m 0s (remain 0m 0s) Loss: 0.3641(0.3641) \n"
     ]
    },
    {
     "name": "stderr",
     "output_type": "stream",
     "text": [
      "Epoch 35 - avg_train_loss: 0.0839  avg_val_loss: 0.2850  time: 4s\n",
      "Epoch 35 - Score: 0.2949\n"
     ]
    },
    {
     "name": "stdout",
     "output_type": "stream",
     "text": [
      "EVAL: [2/3] Elapsed 0m 0s (remain 0m 0s) Loss: 0.1557(0.2850) \n",
      "Epoch: [36][0/19] Elapsed 0m 0s (remain 0m 2s) Loss: 0.1093(0.1093) Grad: 7.5236  LR: 0.000224  \n",
      "Epoch: [36][10/19] Elapsed 0m 1s (remain 0m 1s) Loss: 0.1128(0.1015) Grad: 10.6388  LR: 0.000224  \n",
      "Epoch: [36][18/19] Elapsed 0m 2s (remain 0m 0s) Loss: 0.1528(0.0988) Grad: 18.1330  LR: 0.000224  \n",
      "EVAL: [0/3] Elapsed 0m 0s (remain 0m 0s) Loss: 0.3583(0.3583) \n"
     ]
    },
    {
     "name": "stderr",
     "output_type": "stream",
     "text": [
      "Epoch 36 - avg_train_loss: 0.0988  avg_val_loss: 0.2789  time: 4s\n",
      "Epoch 36 - Score: 0.2888\n"
     ]
    },
    {
     "name": "stdout",
     "output_type": "stream",
     "text": [
      "EVAL: [2/3] Elapsed 0m 0s (remain 0m 0s) Loss: 0.1523(0.2789) \n",
      "Epoch: [37][0/19] Elapsed 0m 0s (remain 0m 2s) Loss: 0.0765(0.0765) Grad: 2.3754  LR: 0.000133  \n",
      "Epoch: [37][10/19] Elapsed 0m 1s (remain 0m 1s) Loss: 0.1063(0.1292) Grad: 14.5304  LR: 0.000133  \n",
      "Epoch: [37][18/19] Elapsed 0m 2s (remain 0m 0s) Loss: 0.1613(0.1498) Grad: 27.3434  LR: 0.000133  \n",
      "EVAL: [0/3] Elapsed 0m 0s (remain 0m 0s) Loss: 0.3662(0.3662) \n"
     ]
    },
    {
     "name": "stderr",
     "output_type": "stream",
     "text": [
      "Epoch 37 - avg_train_loss: 0.1498  avg_val_loss: 0.2914  time: 4s\n",
      "Epoch 37 - Score: 0.2990\n"
     ]
    },
    {
     "name": "stdout",
     "output_type": "stream",
     "text": [
      "EVAL: [2/3] Elapsed 0m 0s (remain 0m 0s) Loss: 0.1916(0.2914) \n",
      "Epoch: [38][0/19] Elapsed 0m 0s (remain 0m 2s) Loss: 0.1181(0.1181) Grad: 18.2932  LR: 0.000057  \n",
      "Epoch: [38][10/19] Elapsed 0m 1s (remain 0m 1s) Loss: 0.1239(0.1160) Grad: 17.7242  LR: 0.000057  \n",
      "Epoch: [38][18/19] Elapsed 0m 2s (remain 0m 0s) Loss: 0.1123(0.1146) Grad: 14.3152  LR: 0.000057  \n",
      "EVAL: [0/3] Elapsed 0m 0s (remain 0m 0s) Loss: 0.3672(0.3672) \n"
     ]
    },
    {
     "name": "stderr",
     "output_type": "stream",
     "text": [
      "Epoch 38 - avg_train_loss: 0.1146  avg_val_loss: 0.2934  time: 4s\n",
      "Epoch 38 - Score: 0.3012\n"
     ]
    },
    {
     "name": "stdout",
     "output_type": "stream",
     "text": [
      "EVAL: [2/3] Elapsed 0m 0s (remain 0m 0s) Loss: 0.1843(0.2934) \n",
      "Epoch: [39][0/19] Elapsed 0m 0s (remain 0m 2s) Loss: 0.0973(0.0973) Grad: 9.7859  LR: 0.000009  \n",
      "Epoch: [39][10/19] Elapsed 0m 1s (remain 0m 1s) Loss: 0.0816(0.0958) Grad: 19.9026  LR: 0.000009  \n",
      "Epoch: [39][18/19] Elapsed 0m 2s (remain 0m 0s) Loss: 0.0688(0.0891) Grad: 11.1368  LR: 0.000009  \n",
      "EVAL: [0/3] Elapsed 0m 0s (remain 0m 0s) Loss: 0.3547(0.3547) \n"
     ]
    },
    {
     "name": "stderr",
     "output_type": "stream",
     "text": [
      "Epoch 39 - avg_train_loss: 0.0891  avg_val_loss: 0.2788  time: 4s\n",
      "Epoch 39 - Score: 0.2878\n"
     ]
    },
    {
     "name": "stdout",
     "output_type": "stream",
     "text": [
      "EVAL: [2/3] Elapsed 0m 0s (remain 0m 0s) Loss: 0.1602(0.2788) \n",
      "Epoch: [40][0/19] Elapsed 0m 0s (remain 0m 2s) Loss: 0.0958(0.0958) Grad: 7.4016  LR: 0.000001  \n",
      "Epoch: [40][10/19] Elapsed 0m 1s (remain 0m 1s) Loss: 0.0417(0.0672) Grad: 10.1779  LR: 0.000001  \n",
      "Epoch: [40][18/19] Elapsed 0m 2s (remain 0m 0s) Loss: 0.0978(0.0710) Grad: 3.2156  LR: 0.000001  \n",
      "EVAL: [0/3] Elapsed 0m 0s (remain 0m 0s) Loss: 0.3499(0.3499) \n"
     ]
    },
    {
     "name": "stderr",
     "output_type": "stream",
     "text": [
      "Epoch 40 - avg_train_loss: 0.0710  avg_val_loss: 0.2700  time: 4s\n",
      "Epoch 40 - Score: 0.2791\n",
      "Epoch 40 - Save Best Score: 0.2791 Model\n"
     ]
    },
    {
     "name": "stdout",
     "output_type": "stream",
     "text": [
      "EVAL: [2/3] Elapsed 0m 0s (remain 0m 0s) Loss: 0.1689(0.2700) \n"
     ]
    },
    {
     "name": "stderr",
     "output_type": "stream",
     "text": [
      "========== fold: 4 result ==========\n",
      "Score: 0.2791\n",
      "========== CV ==========\n",
      "Score: 0.2260\n",
      "========== seed111 ==========\n",
      "========== fold: 0 training ==========\n"
     ]
    },
    {
     "name": "stdout",
     "output_type": "stream",
     "text": [
      "Epoch: [1][0/19] Elapsed 0m 0s (remain 0m 2s) Loss: 3.0586(3.0586) Grad: 25.7592  LR: 0.000100  \n",
      "Epoch: [1][10/19] Elapsed 0m 1s (remain 0m 1s) Loss: 0.7475(1.2250) Grad: 25.4780  LR: 0.000100  \n",
      "Epoch: [1][18/19] Elapsed 0m 2s (remain 0m 0s) Loss: 0.5699(0.9291) Grad: 27.7814  LR: 0.000100  \n",
      "EVAL: [0/3] Elapsed 0m 0s (remain 0m 0s) Loss: 0.5233(0.5233) \n"
     ]
    },
    {
     "name": "stderr",
     "output_type": "stream",
     "text": [
      "Epoch 1 - avg_train_loss: 0.9291  avg_val_loss: 0.5503  time: 3s\n",
      "Epoch 1 - Score: 0.5512\n",
      "Epoch 1 - Save Best Score: 0.5512 Model\n"
     ]
    },
    {
     "name": "stdout",
     "output_type": "stream",
     "text": [
      "EVAL: [2/3] Elapsed 0m 0s (remain 0m 0s) Loss: 0.6180(0.5503) \n",
      "Epoch: [2][0/19] Elapsed 0m 0s (remain 0m 2s) Loss: 0.6065(0.6065) Grad: 28.6541  LR: 0.000057  \n",
      "Epoch: [2][10/19] Elapsed 0m 1s (remain 0m 1s) Loss: 0.3399(0.4043) Grad: 16.9568  LR: 0.000057  \n",
      "Epoch: [2][18/19] Elapsed 0m 2s (remain 0m 0s) Loss: 0.4931(0.4029) Grad: 17.4509  LR: 0.000057  \n",
      "EVAL: [0/3] Elapsed 0m 0s (remain 0m 0s) Loss: 0.3893(0.3893) \n"
     ]
    },
    {
     "name": "stderr",
     "output_type": "stream",
     "text": [
      "Epoch 2 - avg_train_loss: 0.4029  avg_val_loss: 0.4141  time: 3s\n",
      "Epoch 2 - Score: 0.4155\n",
      "Epoch 2 - Save Best Score: 0.4155 Model\n"
     ]
    },
    {
     "name": "stdout",
     "output_type": "stream",
     "text": [
      "EVAL: [2/3] Elapsed 0m 0s (remain 0m 0s) Loss: 0.3772(0.4141) \n",
      "Epoch: [3][0/19] Elapsed 0m 0s (remain 0m 2s) Loss: 0.3300(0.3300) Grad: 11.1638  LR: 0.000009  \n",
      "Epoch: [3][10/19] Elapsed 0m 1s (remain 0m 1s) Loss: 0.2739(0.3218) Grad: 14.3910  LR: 0.000009  \n",
      "Epoch: [3][18/19] Elapsed 0m 2s (remain 0m 0s) Loss: 0.2033(0.2952) Grad: 22.3631  LR: 0.000009  \n",
      "EVAL: [0/3] Elapsed 0m 0s (remain 0m 0s) Loss: 0.3090(0.3090) \n"
     ]
    },
    {
     "name": "stderr",
     "output_type": "stream",
     "text": [
      "Epoch 3 - avg_train_loss: 0.2952  avg_val_loss: 0.3176  time: 4s\n",
      "Epoch 3 - Score: 0.3203\n",
      "Epoch 3 - Save Best Score: 0.3203 Model\n"
     ]
    },
    {
     "name": "stdout",
     "output_type": "stream",
     "text": [
      "EVAL: [2/3] Elapsed 0m 0s (remain 0m 0s) Loss: 0.2397(0.3176) \n",
      "Epoch: [4][0/19] Elapsed 0m 0s (remain 0m 2s) Loss: 0.2452(0.2452) Grad: 14.0607  LR: 0.000001  \n",
      "Epoch: [4][10/19] Elapsed 0m 1s (remain 0m 1s) Loss: 0.3007(0.2552) Grad: 4.9316  LR: 0.000001  \n",
      "Epoch: [4][18/19] Elapsed 0m 3s (remain 0m 0s) Loss: 0.1848(0.2389) Grad: 14.7995  LR: 0.000001  \n",
      "EVAL: [0/3] Elapsed 0m 0s (remain 0m 0s) Loss: 0.2997(0.2997) \n"
     ]
    },
    {
     "name": "stderr",
     "output_type": "stream",
     "text": [
      "Epoch 4 - avg_train_loss: 0.2389  avg_val_loss: 0.3120  time: 4s\n",
      "Epoch 4 - Score: 0.3138\n",
      "Epoch 4 - Save Best Score: 0.3138 Model\n"
     ]
    },
    {
     "name": "stdout",
     "output_type": "stream",
     "text": [
      "EVAL: [2/3] Elapsed 0m 0s (remain 0m 0s) Loss: 0.2544(0.3120) \n",
      "Epoch: [5][0/19] Elapsed 0m 0s (remain 0m 2s) Loss: 0.1970(0.1970) Grad: 10.1007  LR: 0.000050  \n",
      "Epoch: [5][10/19] Elapsed 0m 1s (remain 0m 1s) Loss: 0.2778(0.2463) Grad: 14.5376  LR: 0.000050  \n",
      "Epoch: [5][18/19] Elapsed 0m 2s (remain 0m 0s) Loss: 0.1897(0.2326) Grad: 4.0352  LR: 0.000050  \n",
      "EVAL: [0/3] Elapsed 0m 0s (remain 0m 0s) Loss: 0.3134(0.3134) \n"
     ]
    },
    {
     "name": "stderr",
     "output_type": "stream",
     "text": [
      "Epoch 5 - avg_train_loss: 0.2326  avg_val_loss: 0.3180  time: 4s\n",
      "Epoch 5 - Score: 0.3194\n"
     ]
    },
    {
     "name": "stdout",
     "output_type": "stream",
     "text": [
      "EVAL: [2/3] Elapsed 0m 0s (remain 0m 0s) Loss: 0.2595(0.3180) \n",
      "Epoch: [6][0/19] Elapsed 0m 0s (remain 0m 2s) Loss: 0.3054(0.3054) Grad: 16.5269  LR: 0.000224  \n",
      "Epoch: [6][10/19] Elapsed 0m 1s (remain 0m 1s) Loss: 0.2226(0.2257) Grad: 5.9545  LR: 0.000224  \n",
      "Epoch: [6][18/19] Elapsed 0m 2s (remain 0m 0s) Loss: 0.2275(0.2404) Grad: 18.4791  LR: 0.000224  \n",
      "EVAL: [0/3] Elapsed 0m 0s (remain 0m 0s) Loss: 0.3860(0.3860) \n"
     ]
    },
    {
     "name": "stderr",
     "output_type": "stream",
     "text": [
      "Epoch 6 - avg_train_loss: 0.2404  avg_val_loss: 0.4121  time: 4s\n",
      "Epoch 6 - Score: 0.4129\n"
     ]
    },
    {
     "name": "stdout",
     "output_type": "stream",
     "text": [
      "EVAL: [2/3] Elapsed 0m 0s (remain 0m 0s) Loss: 0.4578(0.4121) \n",
      "Epoch: [7][0/19] Elapsed 0m 0s (remain 0m 2s) Loss: 0.3699(0.3699) Grad: 28.1161  LR: 0.000133  \n",
      "Epoch: [7][10/19] Elapsed 0m 1s (remain 0m 1s) Loss: 0.3445(0.3170) Grad: 7.7970  LR: 0.000133  \n",
      "Epoch: [7][18/19] Elapsed 0m 2s (remain 0m 0s) Loss: 0.2790(0.3233) Grad: 24.8121  LR: 0.000133  \n",
      "EVAL: [0/3] Elapsed 0m 0s (remain 0m 0s) Loss: 0.3507(0.3507) \n"
     ]
    },
    {
     "name": "stderr",
     "output_type": "stream",
     "text": [
      "Epoch 7 - avg_train_loss: 0.3233  avg_val_loss: 0.3513  time: 3s\n",
      "Epoch 7 - Score: 0.3515\n"
     ]
    },
    {
     "name": "stdout",
     "output_type": "stream",
     "text": [
      "EVAL: [2/3] Elapsed 0m 0s (remain 0m 0s) Loss: 0.3785(0.3513) \n",
      "Epoch: [8][0/19] Elapsed 0m 0s (remain 0m 2s) Loss: 0.3302(0.3302) Grad: 17.7993  LR: 0.000057  \n",
      "Epoch: [8][10/19] Elapsed 0m 1s (remain 0m 1s) Loss: 0.2563(0.2604) Grad: 11.3564  LR: 0.000057  \n",
      "Epoch: [8][18/19] Elapsed 0m 2s (remain 0m 0s) Loss: 0.1770(0.2330) Grad: 14.1902  LR: 0.000057  \n",
      "EVAL: [0/3] Elapsed 0m 0s (remain 0m 0s) Loss: 0.2568(0.2568) \n"
     ]
    },
    {
     "name": "stderr",
     "output_type": "stream",
     "text": [
      "Epoch 8 - avg_train_loss: 0.2330  avg_val_loss: 0.2919  time: 3s\n",
      "Epoch 8 - Score: 0.2937\n",
      "Epoch 8 - Save Best Score: 0.2937 Model\n"
     ]
    },
    {
     "name": "stdout",
     "output_type": "stream",
     "text": [
      "EVAL: [2/3] Elapsed 0m 0s (remain 0m 0s) Loss: 0.2870(0.2919) \n",
      "Epoch: [9][0/19] Elapsed 0m 0s (remain 0m 2s) Loss: 0.1806(0.1806) Grad: 7.5253  LR: 0.000009  \n",
      "Epoch: [9][10/19] Elapsed 0m 1s (remain 0m 1s) Loss: 0.1712(0.1883) Grad: 4.9344  LR: 0.000009  \n",
      "Epoch: [9][18/19] Elapsed 0m 2s (remain 0m 0s) Loss: 0.1608(0.1806) Grad: 20.7777  LR: 0.000009  \n",
      "EVAL: [0/3] Elapsed 0m 0s (remain 0m 0s) Loss: 0.2963(0.2963) \n"
     ]
    },
    {
     "name": "stderr",
     "output_type": "stream",
     "text": [
      "Epoch 9 - avg_train_loss: 0.1806  avg_val_loss: 0.2624  time: 4s\n",
      "Epoch 9 - Score: 0.2646\n",
      "Epoch 9 - Save Best Score: 0.2646 Model\n"
     ]
    },
    {
     "name": "stdout",
     "output_type": "stream",
     "text": [
      "EVAL: [2/3] Elapsed 0m 0s (remain 0m 0s) Loss: 0.1987(0.2624) \n",
      "Epoch: [10][0/19] Elapsed 0m 0s (remain 0m 2s) Loss: 0.0923(0.0923) Grad: 11.4520  LR: 0.000001  \n",
      "Epoch: [10][10/19] Elapsed 0m 1s (remain 0m 1s) Loss: 0.1190(0.1396) Grad: 4.0028  LR: 0.000001  \n",
      "Epoch: [10][18/19] Elapsed 0m 2s (remain 0m 0s) Loss: 0.1172(0.1356) Grad: 5.6778  LR: 0.000001  \n",
      "EVAL: [0/3] Elapsed 0m 0s (remain 0m 0s) Loss: 0.2680(0.2680) \n"
     ]
    },
    {
     "name": "stderr",
     "output_type": "stream",
     "text": [
      "Epoch 10 - avg_train_loss: 0.1356  avg_val_loss: 0.2450  time: 4s\n",
      "Epoch 10 - Score: 0.2459\n",
      "Epoch 10 - Save Best Score: 0.2459 Model\n"
     ]
    },
    {
     "name": "stdout",
     "output_type": "stream",
     "text": [
      "EVAL: [2/3] Elapsed 0m 0s (remain 0m 0s) Loss: 0.2123(0.2450) \n",
      "Epoch: [11][0/19] Elapsed 0m 0s (remain 0m 2s) Loss: 0.1340(0.1340) Grad: 5.0177  LR: 0.000050  \n",
      "Epoch: [11][10/19] Elapsed 0m 1s (remain 0m 1s) Loss: 0.1474(0.1376) Grad: 4.6816  LR: 0.000050  \n",
      "Epoch: [11][18/19] Elapsed 0m 2s (remain 0m 0s) Loss: 0.1427(0.1309) Grad: 14.4833  LR: 0.000050  \n",
      "EVAL: [0/3] Elapsed 0m 0s (remain 0m 0s) Loss: 0.2469(0.2469) \n"
     ]
    },
    {
     "name": "stderr",
     "output_type": "stream",
     "text": [
      "Epoch 11 - avg_train_loss: 0.1309  avg_val_loss: 0.2415  time: 4s\n",
      "Epoch 11 - Score: 0.2417\n",
      "Epoch 11 - Save Best Score: 0.2417 Model\n"
     ]
    },
    {
     "name": "stdout",
     "output_type": "stream",
     "text": [
      "EVAL: [2/3] Elapsed 0m 0s (remain 0m 0s) Loss: 0.2165(0.2415) \n",
      "Epoch: [12][0/19] Elapsed 0m 0s (remain 0m 2s) Loss: 0.1820(0.1820) Grad: 12.7110  LR: 0.000224  \n",
      "Epoch: [12][10/19] Elapsed 0m 1s (remain 0m 1s) Loss: 0.1722(0.1862) Grad: 8.7229  LR: 0.000224  \n",
      "Epoch: [12][18/19] Elapsed 0m 2s (remain 0m 0s) Loss: 0.1716(0.1742) Grad: 5.2860  LR: 0.000224  \n",
      "EVAL: [0/3] Elapsed 0m 0s (remain 0m 0s) Loss: 0.3218(0.3218) \n"
     ]
    },
    {
     "name": "stderr",
     "output_type": "stream",
     "text": [
      "Epoch 12 - avg_train_loss: 0.1742  avg_val_loss: 0.3017  time: 4s\n",
      "Epoch 12 - Score: 0.3030\n"
     ]
    },
    {
     "name": "stdout",
     "output_type": "stream",
     "text": [
      "EVAL: [2/3] Elapsed 0m 0s (remain 0m 0s) Loss: 0.2431(0.3017) \n",
      "Epoch: [13][0/19] Elapsed 0m 0s (remain 0m 2s) Loss: 0.1437(0.1437) Grad: 16.0695  LR: 0.000133  \n",
      "Epoch: [13][10/19] Elapsed 0m 1s (remain 0m 1s) Loss: 0.2374(0.2131) Grad: 13.4196  LR: 0.000133  \n",
      "Epoch: [13][18/19] Elapsed 0m 2s (remain 0m 0s) Loss: 0.1381(0.2071) Grad: 7.8304  LR: 0.000133  \n",
      "EVAL: [0/3] Elapsed 0m 0s (remain 0m 0s) Loss: 0.2946(0.2946) \n"
     ]
    },
    {
     "name": "stderr",
     "output_type": "stream",
     "text": [
      "Epoch 13 - avg_train_loss: 0.2071  avg_val_loss: 0.2746  time: 4s\n",
      "Epoch 13 - Score: 0.2752\n"
     ]
    },
    {
     "name": "stdout",
     "output_type": "stream",
     "text": [
      "EVAL: [2/3] Elapsed 0m 0s (remain 0m 0s) Loss: 0.2726(0.2746) \n",
      "Epoch: [14][0/19] Elapsed 0m 0s (remain 0m 2s) Loss: 0.1566(0.1566) Grad: 11.5700  LR: 0.000057  \n",
      "Epoch: [14][10/19] Elapsed 0m 1s (remain 0m 1s) Loss: 0.1166(0.1595) Grad: 6.0239  LR: 0.000057  \n",
      "Epoch: [14][18/19] Elapsed 0m 2s (remain 0m 0s) Loss: 0.2187(0.1588) Grad: 20.8363  LR: 0.000057  \n",
      "EVAL: [0/3] Elapsed 0m 0s (remain 0m 0s) Loss: 0.2718(0.2718) \n"
     ]
    },
    {
     "name": "stderr",
     "output_type": "stream",
     "text": [
      "Epoch 14 - avg_train_loss: 0.1588  avg_val_loss: 0.2604  time: 4s\n",
      "Epoch 14 - Score: 0.2611\n"
     ]
    },
    {
     "name": "stdout",
     "output_type": "stream",
     "text": [
      "EVAL: [2/3] Elapsed 0m 0s (remain 0m 0s) Loss: 0.2186(0.2604) \n",
      "Epoch: [15][0/19] Elapsed 0m 0s (remain 0m 2s) Loss: 0.1524(0.1524) Grad: 11.7351  LR: 0.000009  \n",
      "Epoch: [15][10/19] Elapsed 0m 1s (remain 0m 1s) Loss: 0.1273(0.1515) Grad: 4.4772  LR: 0.000009  \n",
      "Epoch: [15][18/19] Elapsed 0m 2s (remain 0m 0s) Loss: 0.1435(0.1475) Grad: 5.8602  LR: 0.000009  \n",
      "EVAL: [0/3] Elapsed 0m 0s (remain 0m 0s) Loss: 0.2763(0.2763) \n"
     ]
    },
    {
     "name": "stderr",
     "output_type": "stream",
     "text": [
      "Epoch 15 - avg_train_loss: 0.1475  avg_val_loss: 0.2569  time: 4s\n",
      "Epoch 15 - Score: 0.2574\n"
     ]
    },
    {
     "name": "stdout",
     "output_type": "stream",
     "text": [
      "EVAL: [2/3] Elapsed 0m 0s (remain 0m 0s) Loss: 0.2421(0.2569) \n",
      "Epoch: [16][0/19] Elapsed 0m 0s (remain 0m 2s) Loss: 0.1265(0.1265) Grad: 4.3696  LR: 0.000001  \n",
      "Epoch: [16][10/19] Elapsed 0m 1s (remain 0m 1s) Loss: 0.1018(0.1161) Grad: 7.5173  LR: 0.000001  \n",
      "Epoch: [16][18/19] Elapsed 0m 2s (remain 0m 0s) Loss: 0.1000(0.1143) Grad: 14.3110  LR: 0.000001  \n",
      "EVAL: [0/3] Elapsed 0m 0s (remain 0m 0s) Loss: 0.2718(0.2718) \n"
     ]
    },
    {
     "name": "stderr",
     "output_type": "stream",
     "text": [
      "Epoch 16 - avg_train_loss: 0.1143  avg_val_loss: 0.2563  time: 4s\n",
      "Epoch 16 - Score: 0.2566\n"
     ]
    },
    {
     "name": "stdout",
     "output_type": "stream",
     "text": [
      "EVAL: [2/3] Elapsed 0m 0s (remain 0m 0s) Loss: 0.2444(0.2563) \n",
      "Epoch: [17][0/19] Elapsed 0m 0s (remain 0m 2s) Loss: 0.1114(0.1114) Grad: 3.9946  LR: 0.000050  \n",
      "Epoch: [17][10/19] Elapsed 0m 1s (remain 0m 1s) Loss: 0.1097(0.1263) Grad: 3.6413  LR: 0.000050  \n",
      "Epoch: [17][18/19] Elapsed 0m 2s (remain 0m 0s) Loss: 0.1029(0.1186) Grad: 10.9367  LR: 0.000050  \n",
      "EVAL: [0/3] Elapsed 0m 0s (remain 0m 0s) Loss: 0.2535(0.2535) \n"
     ]
    },
    {
     "name": "stderr",
     "output_type": "stream",
     "text": [
      "Epoch 17 - avg_train_loss: 0.1186  avg_val_loss: 0.2475  time: 4s\n",
      "Epoch 17 - Score: 0.2476\n"
     ]
    },
    {
     "name": "stdout",
     "output_type": "stream",
     "text": [
      "EVAL: [2/3] Elapsed 0m 0s (remain 0m 0s) Loss: 0.2489(0.2475) \n",
      "Epoch: [18][0/19] Elapsed 0m 0s (remain 0m 2s) Loss: 0.0962(0.0962) Grad: 15.1406  LR: 0.000224  \n",
      "Epoch: [18][10/19] Elapsed 0m 1s (remain 0m 1s) Loss: 0.1280(0.1315) Grad: 17.1311  LR: 0.000224  \n",
      "Epoch: [18][18/19] Elapsed 0m 2s (remain 0m 0s) Loss: 0.1560(0.1352) Grad: 16.1396  LR: 0.000224  \n",
      "EVAL: [0/3] Elapsed 0m 0s (remain 0m 0s) Loss: 0.2972(0.2972) \n"
     ]
    },
    {
     "name": "stderr",
     "output_type": "stream",
     "text": [
      "Epoch 18 - avg_train_loss: 0.1352  avg_val_loss: 0.2702  time: 3s\n",
      "Epoch 18 - Score: 0.2711\n"
     ]
    },
    {
     "name": "stdout",
     "output_type": "stream",
     "text": [
      "EVAL: [2/3] Elapsed 0m 0s (remain 0m 0s) Loss: 0.2431(0.2702) \n",
      "Epoch: [19][0/19] Elapsed 0m 0s (remain 0m 2s) Loss: 0.1292(0.1292) Grad: 10.6914  LR: 0.000133  \n",
      "Epoch: [19][10/19] Elapsed 0m 1s (remain 0m 1s) Loss: 0.1672(0.1623) Grad: 13.3286  LR: 0.000133  \n",
      "Epoch: [19][18/19] Elapsed 0m 2s (remain 0m 0s) Loss: 0.2175(0.1836) Grad: 19.3502  LR: 0.000133  \n",
      "EVAL: [0/3] Elapsed 0m 0s (remain 0m 0s) Loss: 0.2637(0.2637) \n"
     ]
    },
    {
     "name": "stderr",
     "output_type": "stream",
     "text": [
      "Epoch 19 - avg_train_loss: 0.1836  avg_val_loss: 0.2645  time: 3s\n",
      "Epoch 19 - Score: 0.2655\n"
     ]
    },
    {
     "name": "stdout",
     "output_type": "stream",
     "text": [
      "EVAL: [2/3] Elapsed 0m 0s (remain 0m 0s) Loss: 0.2193(0.2645) \n",
      "Epoch: [20][0/19] Elapsed 0m 0s (remain 0m 2s) Loss: 0.2613(0.2613) Grad: 16.3227  LR: 0.000057  \n",
      "Epoch: [20][10/19] Elapsed 0m 1s (remain 0m 1s) Loss: 0.1846(0.1518) Grad: 14.3598  LR: 0.000057  \n",
      "Epoch: [20][18/19] Elapsed 0m 2s (remain 0m 0s) Loss: 0.1813(0.1590) Grad: 7.7501  LR: 0.000057  \n",
      "EVAL: [0/3] Elapsed 0m 0s (remain 0m 0s) Loss: 0.2705(0.2705) \n"
     ]
    },
    {
     "name": "stderr",
     "output_type": "stream",
     "text": [
      "Epoch 20 - avg_train_loss: 0.1590  avg_val_loss: 0.2626  time: 3s\n",
      "Epoch 20 - Score: 0.2635\n"
     ]
    },
    {
     "name": "stdout",
     "output_type": "stream",
     "text": [
      "EVAL: [2/3] Elapsed 0m 0s (remain 0m 0s) Loss: 0.2136(0.2626) \n",
      "Epoch: [21][0/19] Elapsed 0m 0s (remain 0m 2s) Loss: 0.1425(0.1425) Grad: 12.7198  LR: 0.000009  \n",
      "Epoch: [21][10/19] Elapsed 0m 1s (remain 0m 1s) Loss: 0.1302(0.1302) Grad: 12.3592  LR: 0.000009  \n",
      "Epoch: [21][18/19] Elapsed 0m 2s (remain 0m 0s) Loss: 0.0742(0.1263) Grad: 2.8680  LR: 0.000009  \n",
      "EVAL: [0/3] Elapsed 0m 0s (remain 0m 0s) Loss: 0.2496(0.2496) \n"
     ]
    },
    {
     "name": "stderr",
     "output_type": "stream",
     "text": [
      "Epoch 21 - avg_train_loss: 0.1263  avg_val_loss: 0.2461  time: 3s\n",
      "Epoch 21 - Score: 0.2461\n"
     ]
    },
    {
     "name": "stdout",
     "output_type": "stream",
     "text": [
      "EVAL: [2/3] Elapsed 0m 0s (remain 0m 0s) Loss: 0.2502(0.2461) \n",
      "Epoch: [22][0/19] Elapsed 0m 0s (remain 0m 2s) Loss: 0.1540(0.1540) Grad: 10.6758  LR: 0.000001  \n",
      "Epoch: [22][10/19] Elapsed 0m 1s (remain 0m 1s) Loss: 0.0775(0.1079) Grad: 5.4136  LR: 0.000001  \n",
      "Epoch: [22][18/19] Elapsed 0m 2s (remain 0m 0s) Loss: 0.0727(0.0966) Grad: 4.1167  LR: 0.000001  \n",
      "EVAL: [0/3] Elapsed 0m 0s (remain 0m 0s) Loss: 0.2536(0.2536) \n"
     ]
    },
    {
     "name": "stderr",
     "output_type": "stream",
     "text": [
      "Epoch 22 - avg_train_loss: 0.0966  avg_val_loss: 0.2372  time: 3s\n",
      "Epoch 22 - Score: 0.2379\n",
      "Epoch 22 - Save Best Score: 0.2379 Model\n"
     ]
    },
    {
     "name": "stdout",
     "output_type": "stream",
     "text": [
      "EVAL: [2/3] Elapsed 0m 0s (remain 0m 0s) Loss: 0.2008(0.2372) \n",
      "Epoch: [23][0/19] Elapsed 0m 0s (remain 0m 2s) Loss: 0.1098(0.1098) Grad: 6.2827  LR: 0.000050  \n",
      "Epoch: [23][10/19] Elapsed 0m 1s (remain 0m 1s) Loss: 0.0809(0.1094) Grad: 4.0461  LR: 0.000050  \n",
      "Epoch: [23][18/19] Elapsed 0m 2s (remain 0m 0s) Loss: 0.1208(0.1020) Grad: 7.5150  LR: 0.000050  \n",
      "EVAL: [0/3] Elapsed 0m 0s (remain 0m 0s) Loss: 0.2485(0.2485) \n"
     ]
    },
    {
     "name": "stderr",
     "output_type": "stream",
     "text": [
      "Epoch 23 - avg_train_loss: 0.1020  avg_val_loss: 0.2376  time: 4s\n",
      "Epoch 23 - Score: 0.2382\n"
     ]
    },
    {
     "name": "stdout",
     "output_type": "stream",
     "text": [
      "EVAL: [2/3] Elapsed 0m 0s (remain 0m 0s) Loss: 0.2037(0.2376) \n",
      "Epoch: [24][0/19] Elapsed 0m 0s (remain 0m 2s) Loss: 0.0899(0.0899) Grad: 17.4055  LR: 0.000224  \n",
      "Epoch: [24][10/19] Elapsed 0m 1s (remain 0m 1s) Loss: 0.1160(0.0967) Grad: 10.9656  LR: 0.000224  \n",
      "Epoch: [24][18/19] Elapsed 0m 2s (remain 0m 0s) Loss: 0.1472(0.1135) Grad: 14.0122  LR: 0.000224  \n",
      "EVAL: [0/3] Elapsed 0m 0s (remain 0m 0s) Loss: 0.3015(0.3015) \n"
     ]
    },
    {
     "name": "stderr",
     "output_type": "stream",
     "text": [
      "Epoch 24 - avg_train_loss: 0.1135  avg_val_loss: 0.3134  time: 3s\n",
      "Epoch 24 - Score: 0.3137\n"
     ]
    },
    {
     "name": "stdout",
     "output_type": "stream",
     "text": [
      "EVAL: [2/3] Elapsed 0m 0s (remain 0m 0s) Loss: 0.3028(0.3134) \n",
      "Epoch: [25][0/19] Elapsed 0m 0s (remain 0m 2s) Loss: 0.1711(0.1711) Grad: 18.6482  LR: 0.000133  \n",
      "Epoch: [25][10/19] Elapsed 0m 1s (remain 0m 1s) Loss: 0.1485(0.1288) Grad: 10.7576  LR: 0.000133  \n",
      "Epoch: [25][18/19] Elapsed 0m 2s (remain 0m 0s) Loss: 0.1321(0.1329) Grad: 13.1700  LR: 0.000133  \n",
      "EVAL: [0/3] Elapsed 0m 0s (remain 0m 0s) Loss: 0.2503(0.2503) \n"
     ]
    },
    {
     "name": "stderr",
     "output_type": "stream",
     "text": [
      "Epoch 25 - avg_train_loss: 0.1329  avg_val_loss: 0.2636  time: 4s\n",
      "Epoch 25 - Score: 0.2646\n"
     ]
    },
    {
     "name": "stdout",
     "output_type": "stream",
     "text": [
      "EVAL: [2/3] Elapsed 0m 0s (remain 0m 0s) Loss: 0.2307(0.2636) \n",
      "Epoch: [26][0/19] Elapsed 0m 0s (remain 0m 2s) Loss: 0.0912(0.0912) Grad: 3.8571  LR: 0.000057  \n",
      "Epoch: [26][10/19] Elapsed 0m 1s (remain 0m 1s) Loss: 0.1048(0.1327) Grad: 10.7974  LR: 0.000057  \n",
      "Epoch: [26][18/19] Elapsed 0m 2s (remain 0m 0s) Loss: 0.1390(0.1519) Grad: 12.1552  LR: 0.000057  \n",
      "EVAL: [0/3] Elapsed 0m 0s (remain 0m 0s) Loss: 0.2848(0.2848) \n"
     ]
    },
    {
     "name": "stderr",
     "output_type": "stream",
     "text": [
      "Epoch 26 - avg_train_loss: 0.1519  avg_val_loss: 0.2875  time: 4s\n",
      "Epoch 26 - Score: 0.2882\n"
     ]
    },
    {
     "name": "stdout",
     "output_type": "stream",
     "text": [
      "EVAL: [2/3] Elapsed 0m 0s (remain 0m 0s) Loss: 0.2490(0.2875) \n",
      "Epoch: [27][0/19] Elapsed 0m 0s (remain 0m 2s) Loss: 0.1471(0.1471) Grad: 11.4792  LR: 0.000009  \n",
      "Epoch: [27][10/19] Elapsed 0m 1s (remain 0m 1s) Loss: 0.1003(0.1209) Grad: 7.4720  LR: 0.000009  \n",
      "Epoch: [27][18/19] Elapsed 0m 2s (remain 0m 0s) Loss: 0.0998(0.1136) Grad: 3.0024  LR: 0.000009  \n",
      "EVAL: [0/3] Elapsed 0m 0s (remain 0m 0s) Loss: 0.2591(0.2591) \n"
     ]
    },
    {
     "name": "stderr",
     "output_type": "stream",
     "text": [
      "Epoch 27 - avg_train_loss: 0.1136  avg_val_loss: 0.2419  time: 4s\n",
      "Epoch 27 - Score: 0.2426\n"
     ]
    },
    {
     "name": "stdout",
     "output_type": "stream",
     "text": [
      "EVAL: [2/3] Elapsed 0m 0s (remain 0m 0s) Loss: 0.2087(0.2419) \n",
      "Epoch: [28][0/19] Elapsed 0m 0s (remain 0m 2s) Loss: 0.0940(0.0940) Grad: 3.4008  LR: 0.000001  \n",
      "Epoch: [28][10/19] Elapsed 0m 1s (remain 0m 1s) Loss: 0.0794(0.0979) Grad: 6.1214  LR: 0.000001  \n",
      "Epoch: [28][18/19] Elapsed 0m 2s (remain 0m 0s) Loss: 0.1363(0.0971) Grad: 2.6954  LR: 0.000001  \n",
      "EVAL: [0/3] Elapsed 0m 0s (remain 0m 0s) Loss: 0.2635(0.2635) \n"
     ]
    },
    {
     "name": "stderr",
     "output_type": "stream",
     "text": [
      "Epoch 28 - avg_train_loss: 0.0971  avg_val_loss: 0.2447  time: 3s\n",
      "Epoch 28 - Score: 0.2454\n"
     ]
    },
    {
     "name": "stdout",
     "output_type": "stream",
     "text": [
      "EVAL: [2/3] Elapsed 0m 0s (remain 0m 0s) Loss: 0.2129(0.2447) \n",
      "Epoch: [29][0/19] Elapsed 0m 0s (remain 0m 2s) Loss: 0.1101(0.1101) Grad: 3.1511  LR: 0.000050  \n",
      "Epoch: [29][10/19] Elapsed 0m 1s (remain 0m 1s) Loss: 0.0773(0.0808) Grad: 4.9918  LR: 0.000050  \n",
      "Epoch: [29][18/19] Elapsed 0m 2s (remain 0m 0s) Loss: 0.0865(0.0859) Grad: 10.3035  LR: 0.000050  \n",
      "EVAL: [0/3] Elapsed 0m 0s (remain 0m 0s) Loss: 0.2436(0.2436) \n"
     ]
    },
    {
     "name": "stderr",
     "output_type": "stream",
     "text": [
      "Epoch 29 - avg_train_loss: 0.0859  avg_val_loss: 0.2472  time: 3s\n",
      "Epoch 29 - Score: 0.2483\n"
     ]
    },
    {
     "name": "stdout",
     "output_type": "stream",
     "text": [
      "EVAL: [2/3] Elapsed 0m 0s (remain 0m 0s) Loss: 0.2024(0.2472) \n",
      "Epoch: [30][0/19] Elapsed 0m 0s (remain 0m 2s) Loss: 0.0783(0.0783) Grad: 8.5183  LR: 0.000224  \n",
      "Epoch: [30][10/19] Elapsed 0m 1s (remain 0m 1s) Loss: 0.1012(0.0987) Grad: 5.7770  LR: 0.000224  \n",
      "Epoch: [30][18/19] Elapsed 0m 2s (remain 0m 0s) Loss: 0.0857(0.1044) Grad: 12.8617  LR: 0.000224  \n",
      "EVAL: [0/3] Elapsed 0m 0s (remain 0m 0s) Loss: 0.2631(0.2631) \n"
     ]
    },
    {
     "name": "stderr",
     "output_type": "stream",
     "text": [
      "Epoch 30 - avg_train_loss: 0.1044  avg_val_loss: 0.2457  time: 4s\n",
      "Epoch 30 - Score: 0.2469\n"
     ]
    },
    {
     "name": "stdout",
     "output_type": "stream",
     "text": [
      "EVAL: [2/3] Elapsed 0m 0s (remain 0m 0s) Loss: 0.1922(0.2457) \n",
      "Epoch: [31][0/19] Elapsed 0m 0s (remain 0m 2s) Loss: 0.1188(0.1188) Grad: 9.8523  LR: 0.000133  \n",
      "Epoch: [31][10/19] Elapsed 0m 1s (remain 0m 1s) Loss: 0.0960(0.1114) Grad: 7.6363  LR: 0.000133  \n",
      "Epoch: [31][18/19] Elapsed 0m 2s (remain 0m 0s) Loss: 0.0758(0.1147) Grad: 7.2760  LR: 0.000133  \n",
      "EVAL: [0/3] Elapsed 0m 0s (remain 0m 0s) Loss: 0.2669(0.2669) \n"
     ]
    },
    {
     "name": "stderr",
     "output_type": "stream",
     "text": [
      "Epoch 31 - avg_train_loss: 0.1147  avg_val_loss: 0.2587  time: 3s\n",
      "Epoch 31 - Score: 0.2593\n"
     ]
    },
    {
     "name": "stdout",
     "output_type": "stream",
     "text": [
      "EVAL: [2/3] Elapsed 0m 0s (remain 0m 0s) Loss: 0.2174(0.2587) \n",
      "Epoch: [32][0/19] Elapsed 0m 0s (remain 0m 2s) Loss: 0.1326(0.1326) Grad: 12.1999  LR: 0.000057  \n",
      "Epoch: [32][10/19] Elapsed 0m 1s (remain 0m 1s) Loss: 0.1142(0.1386) Grad: 5.6478  LR: 0.000057  \n",
      "Epoch: [32][18/19] Elapsed 0m 2s (remain 0m 0s) Loss: 0.1073(0.1284) Grad: 12.3031  LR: 0.000057  \n",
      "EVAL: [0/3] Elapsed 0m 0s (remain 0m 0s) Loss: 0.2761(0.2761) \n"
     ]
    },
    {
     "name": "stderr",
     "output_type": "stream",
     "text": [
      "Epoch 32 - avg_train_loss: 0.1284  avg_val_loss: 0.2873  time: 3s\n",
      "Epoch 32 - Score: 0.2877\n"
     ]
    },
    {
     "name": "stdout",
     "output_type": "stream",
     "text": [
      "EVAL: [2/3] Elapsed 0m 0s (remain 0m 0s) Loss: 0.3215(0.2873) \n",
      "Epoch: [33][0/19] Elapsed 0m 0s (remain 0m 2s) Loss: 0.1763(0.1763) Grad: 22.7069  LR: 0.000009  \n",
      "Epoch: [33][10/19] Elapsed 0m 1s (remain 0m 1s) Loss: 0.0969(0.1195) Grad: 5.2057  LR: 0.000009  \n",
      "Epoch: [33][18/19] Elapsed 0m 2s (remain 0m 0s) Loss: 0.1396(0.1108) Grad: 4.4167  LR: 0.000009  \n",
      "EVAL: [0/3] Elapsed 0m 0s (remain 0m 0s) Loss: 0.2422(0.2422) \n"
     ]
    },
    {
     "name": "stderr",
     "output_type": "stream",
     "text": [
      "Epoch 33 - avg_train_loss: 0.1108  avg_val_loss: 0.2384  time: 4s\n",
      "Epoch 33 - Score: 0.2388\n"
     ]
    },
    {
     "name": "stdout",
     "output_type": "stream",
     "text": [
      "EVAL: [2/3] Elapsed 0m 0s (remain 0m 0s) Loss: 0.2080(0.2384) \n",
      "Epoch: [34][0/19] Elapsed 0m 0s (remain 0m 3s) Loss: 0.0877(0.0877) Grad: 12.3661  LR: 0.000001  \n",
      "Epoch: [34][10/19] Elapsed 0m 1s (remain 0m 1s) Loss: 0.0697(0.0878) Grad: 3.7568  LR: 0.000001  \n",
      "Epoch: [34][18/19] Elapsed 0m 2s (remain 0m 0s) Loss: 0.0665(0.0823) Grad: 8.6858  LR: 0.000001  \n",
      "EVAL: [0/3] Elapsed 0m 0s (remain 0m 0s) Loss: 0.2407(0.2407) \n"
     ]
    },
    {
     "name": "stderr",
     "output_type": "stream",
     "text": [
      "Epoch 34 - avg_train_loss: 0.0823  avg_val_loss: 0.2422  time: 4s\n",
      "Epoch 34 - Score: 0.2432\n"
     ]
    },
    {
     "name": "stdout",
     "output_type": "stream",
     "text": [
      "EVAL: [2/3] Elapsed 0m 0s (remain 0m 0s) Loss: 0.1977(0.2422) \n",
      "Epoch: [35][0/19] Elapsed 0m 0s (remain 0m 2s) Loss: 0.0869(0.0869) Grad: 9.5173  LR: 0.000050  \n",
      "Epoch: [35][10/19] Elapsed 0m 1s (remain 0m 1s) Loss: 0.1426(0.1011) Grad: 18.9061  LR: 0.000050  \n",
      "Epoch: [35][18/19] Elapsed 0m 2s (remain 0m 0s) Loss: 0.0929(0.0970) Grad: 15.9280  LR: 0.000050  \n",
      "EVAL: [0/3] Elapsed 0m 0s (remain 0m 0s) Loss: 0.2431(0.2431) \n"
     ]
    },
    {
     "name": "stderr",
     "output_type": "stream",
     "text": [
      "Epoch 35 - avg_train_loss: 0.0970  avg_val_loss: 0.2310  time: 3s\n",
      "Epoch 35 - Score: 0.2315\n",
      "Epoch 35 - Save Best Score: 0.2315 Model\n"
     ]
    },
    {
     "name": "stdout",
     "output_type": "stream",
     "text": [
      "EVAL: [2/3] Elapsed 0m 0s (remain 0m 0s) Loss: 0.1963(0.2310) \n",
      "Epoch: [36][0/19] Elapsed 0m 0s (remain 0m 2s) Loss: 0.0580(0.0580) Grad: 5.0031  LR: 0.000224  \n",
      "Epoch: [36][10/19] Elapsed 0m 1s (remain 0m 1s) Loss: 0.2541(0.1724) Grad: 26.1436  LR: 0.000224  \n",
      "Epoch: [36][18/19] Elapsed 0m 2s (remain 0m 0s) Loss: 0.2623(0.1848) Grad: 22.9245  LR: 0.000224  \n",
      "EVAL: [0/3] Elapsed 0m 0s (remain 0m 0s) Loss: 0.4158(0.4158) \n"
     ]
    },
    {
     "name": "stderr",
     "output_type": "stream",
     "text": [
      "Epoch 36 - avg_train_loss: 0.1848  avg_val_loss: 0.3891  time: 4s\n",
      "Epoch 36 - Score: 0.3900\n"
     ]
    },
    {
     "name": "stdout",
     "output_type": "stream",
     "text": [
      "EVAL: [2/3] Elapsed 0m 0s (remain 0m 0s) Loss: 0.3417(0.3891) \n",
      "Epoch: [37][0/19] Elapsed 0m 0s (remain 0m 2s) Loss: 0.3240(0.3240) Grad: 21.9201  LR: 0.000133  \n",
      "Epoch: [37][10/19] Elapsed 0m 1s (remain 0m 1s) Loss: 0.1639(0.2318) Grad: 13.7343  LR: 0.000133  \n",
      "Epoch: [37][18/19] Elapsed 0m 2s (remain 0m 0s) Loss: 0.1059(0.2219) Grad: 7.1030  LR: 0.000133  \n",
      "EVAL: [0/3] Elapsed 0m 0s (remain 0m 0s) Loss: 0.3036(0.3036) \n"
     ]
    },
    {
     "name": "stderr",
     "output_type": "stream",
     "text": [
      "Epoch 37 - avg_train_loss: 0.2219  avg_val_loss: 0.3082  time: 3s\n",
      "Epoch 37 - Score: 0.3083\n"
     ]
    },
    {
     "name": "stdout",
     "output_type": "stream",
     "text": [
      "EVAL: [2/3] Elapsed 0m 0s (remain 0m 0s) Loss: 0.3011(0.3082) \n",
      "Epoch: [38][0/19] Elapsed 0m 0s (remain 0m 2s) Loss: 0.2005(0.2005) Grad: 21.7319  LR: 0.000057  \n",
      "Epoch: [38][10/19] Elapsed 0m 1s (remain 0m 1s) Loss: 0.1805(0.1318) Grad: 15.6658  LR: 0.000057  \n",
      "Epoch: [38][18/19] Elapsed 0m 2s (remain 0m 0s) Loss: 0.0768(0.1251) Grad: 6.9560  LR: 0.000057  \n",
      "EVAL: [0/3] Elapsed 0m 0s (remain 0m 0s) Loss: 0.2450(0.2450) \n"
     ]
    },
    {
     "name": "stderr",
     "output_type": "stream",
     "text": [
      "Epoch 38 - avg_train_loss: 0.1251  avg_val_loss: 0.2381  time: 3s\n",
      "Epoch 38 - Score: 0.2384\n"
     ]
    },
    {
     "name": "stdout",
     "output_type": "stream",
     "text": [
      "EVAL: [2/3] Elapsed 0m 0s (remain 0m 0s) Loss: 0.2098(0.2381) \n",
      "Epoch: [39][0/19] Elapsed 0m 0s (remain 0m 2s) Loss: 0.0801(0.0801) Grad: 5.0925  LR: 0.000009  \n",
      "Epoch: [39][10/19] Elapsed 0m 1s (remain 0m 1s) Loss: 0.0908(0.0942) Grad: 3.1288  LR: 0.000009  \n",
      "Epoch: [39][18/19] Elapsed 0m 2s (remain 0m 0s) Loss: 0.1500(0.0967) Grad: 5.4490  LR: 0.000009  \n",
      "EVAL: [0/3] Elapsed 0m 0s (remain 0m 0s) Loss: 0.2635(0.2635) \n"
     ]
    },
    {
     "name": "stderr",
     "output_type": "stream",
     "text": [
      "Epoch 39 - avg_train_loss: 0.0967  avg_val_loss: 0.2431  time: 3s\n",
      "Epoch 39 - Score: 0.2439\n"
     ]
    },
    {
     "name": "stdout",
     "output_type": "stream",
     "text": [
      "EVAL: [2/3] Elapsed 0m 0s (remain 0m 0s) Loss: 0.2112(0.2431) \n",
      "Epoch: [40][0/19] Elapsed 0m 0s (remain 0m 2s) Loss: 0.0758(0.0758) Grad: 3.3378  LR: 0.000001  \n",
      "Epoch: [40][10/19] Elapsed 0m 1s (remain 0m 1s) Loss: 0.0586(0.0757) Grad: 3.7008  LR: 0.000001  \n",
      "Epoch: [40][18/19] Elapsed 0m 2s (remain 0m 0s) Loss: 0.0810(0.0779) Grad: 3.9064  LR: 0.000001  \n",
      "EVAL: [0/3] Elapsed 0m 0s (remain 0m 0s) Loss: 0.2666(0.2666) \n"
     ]
    },
    {
     "name": "stderr",
     "output_type": "stream",
     "text": [
      "Epoch 40 - avg_train_loss: 0.0779  avg_val_loss: 0.2539  time: 3s\n",
      "Epoch 40 - Score: 0.2544\n",
      "========== fold: 0 result ==========\n",
      "Score: 0.2315\n",
      "========== fold: 1 training ==========\n"
     ]
    },
    {
     "name": "stdout",
     "output_type": "stream",
     "text": [
      "EVAL: [2/3] Elapsed 0m 0s (remain 0m 0s) Loss: 0.2170(0.2539) \n",
      "Epoch: [1][0/19] Elapsed 0m 0s (remain 0m 2s) Loss: 3.6034(3.6034) Grad: 25.9700  LR: 0.000100  \n",
      "Epoch: [1][10/19] Elapsed 0m 1s (remain 0m 1s) Loss: 1.0634(1.7345) Grad: 24.6469  LR: 0.000100  \n",
      "Epoch: [1][18/19] Elapsed 0m 2s (remain 0m 0s) Loss: 0.9065(1.3651) Grad: 20.3865  LR: 0.000100  \n",
      "EVAL: [0/3] Elapsed 0m 0s (remain 0m 0s) Loss: 0.5033(0.5033) \n"
     ]
    },
    {
     "name": "stderr",
     "output_type": "stream",
     "text": [
      "Epoch 1 - avg_train_loss: 1.3651  avg_val_loss: 0.5034  time: 4s\n",
      "Epoch 1 - Score: 0.5089\n",
      "Epoch 1 - Save Best Score: 0.5089 Model\n"
     ]
    },
    {
     "name": "stdout",
     "output_type": "stream",
     "text": [
      "EVAL: [2/3] Elapsed 0m 0s (remain 0m 0s) Loss: 0.3495(0.5034) \n",
      "Epoch: [2][0/19] Elapsed 0m 0s (remain 0m 2s) Loss: 0.4367(0.4367) Grad: 8.3230  LR: 0.000057  \n",
      "Epoch: [2][10/19] Elapsed 0m 1s (remain 0m 1s) Loss: 0.3364(0.5019) Grad: 23.3876  LR: 0.000057  \n",
      "Epoch: [2][18/19] Elapsed 0m 2s (remain 0m 0s) Loss: 0.4214(0.4924) Grad: 3.1147  LR: 0.000057  \n",
      "EVAL: [0/3] Elapsed 0m 0s (remain 0m 0s) Loss: 0.3656(0.3656) \n"
     ]
    },
    {
     "name": "stderr",
     "output_type": "stream",
     "text": [
      "Epoch 2 - avg_train_loss: 0.4924  avg_val_loss: 0.3841  time: 3s\n",
      "Epoch 2 - Score: 0.3874\n",
      "Epoch 2 - Save Best Score: 0.3874 Model\n"
     ]
    },
    {
     "name": "stdout",
     "output_type": "stream",
     "text": [
      "EVAL: [2/3] Elapsed 0m 0s (remain 0m 0s) Loss: 0.2984(0.3841) \n",
      "Epoch: [3][0/19] Elapsed 0m 0s (remain 0m 2s) Loss: 0.3829(0.3829) Grad: 6.3259  LR: 0.000009  \n",
      "Epoch: [3][10/19] Elapsed 0m 1s (remain 0m 1s) Loss: 0.3986(0.3784) Grad: 5.8931  LR: 0.000009  \n",
      "Epoch: [3][18/19] Elapsed 0m 2s (remain 0m 0s) Loss: 0.2964(0.3533) Grad: 5.0341  LR: 0.000009  \n",
      "EVAL: [0/3] Elapsed 0m 0s (remain 0m 0s) Loss: 0.3371(0.3371) \n"
     ]
    },
    {
     "name": "stderr",
     "output_type": "stream",
     "text": [
      "Epoch 3 - avg_train_loss: 0.3533  avg_val_loss: 0.3367  time: 3s\n",
      "Epoch 3 - Score: 0.3415\n",
      "Epoch 3 - Save Best Score: 0.3415 Model\n"
     ]
    },
    {
     "name": "stdout",
     "output_type": "stream",
     "text": [
      "EVAL: [2/3] Elapsed 0m 0s (remain 0m 0s) Loss: 0.2187(0.3367) \n",
      "Epoch: [4][0/19] Elapsed 0m 0s (remain 0m 2s) Loss: 0.3099(0.3099) Grad: 9.1123  LR: 0.000001  \n",
      "Epoch: [4][10/19] Elapsed 0m 1s (remain 0m 1s) Loss: 0.3153(0.3041) Grad: 4.0248  LR: 0.000001  \n",
      "Epoch: [4][18/19] Elapsed 0m 2s (remain 0m 0s) Loss: 0.2890(0.3092) Grad: 4.4172  LR: 0.000001  \n",
      "EVAL: [0/3] Elapsed 0m 0s (remain 0m 0s) Loss: 0.3527(0.3527) \n"
     ]
    },
    {
     "name": "stderr",
     "output_type": "stream",
     "text": [
      "Epoch 4 - avg_train_loss: 0.3092  avg_val_loss: 0.3383  time: 3s\n",
      "Epoch 4 - Score: 0.3428\n"
     ]
    },
    {
     "name": "stdout",
     "output_type": "stream",
     "text": [
      "EVAL: [2/3] Elapsed 0m 0s (remain 0m 0s) Loss: 0.2168(0.3383) \n",
      "Epoch: [5][0/19] Elapsed 0m 0s (remain 0m 2s) Loss: 0.2521(0.2521) Grad: 2.9626  LR: 0.000050  \n",
      "Epoch: [5][10/19] Elapsed 0m 1s (remain 0m 1s) Loss: 0.3481(0.2938) Grad: 9.6589  LR: 0.000050  \n",
      "Epoch: [5][18/19] Elapsed 0m 2s (remain 0m 0s) Loss: 0.3047(0.2990) Grad: 4.6326  LR: 0.000050  \n",
      "EVAL: [0/3] Elapsed 0m 0s (remain 0m 0s) Loss: 0.3017(0.3017) \n"
     ]
    },
    {
     "name": "stderr",
     "output_type": "stream",
     "text": [
      "Epoch 5 - avg_train_loss: 0.2990  avg_val_loss: 0.2976  time: 3s\n",
      "Epoch 5 - Score: 0.2999\n",
      "Epoch 5 - Save Best Score: 0.2999 Model\n"
     ]
    },
    {
     "name": "stdout",
     "output_type": "stream",
     "text": [
      "EVAL: [2/3] Elapsed 0m 0s (remain 0m 0s) Loss: 0.2185(0.2976) \n",
      "Epoch: [6][0/19] Elapsed 0m 0s (remain 0m 2s) Loss: 0.2150(0.2150) Grad: 12.3738  LR: 0.000224  \n",
      "Epoch: [6][10/19] Elapsed 0m 1s (remain 0m 1s) Loss: 0.3683(0.3508) Grad: 17.1080  LR: 0.000224  \n",
      "Epoch: [6][18/19] Elapsed 0m 2s (remain 0m 0s) Loss: 0.2688(0.3444) Grad: 12.2126  LR: 0.000224  \n",
      "EVAL: [0/3] Elapsed 0m 0s (remain 0m 0s) Loss: 0.3486(0.3486) \n"
     ]
    },
    {
     "name": "stderr",
     "output_type": "stream",
     "text": [
      "Epoch 6 - avg_train_loss: 0.3444  avg_val_loss: 0.3395  time: 4s\n",
      "Epoch 6 - Score: 0.3403\n"
     ]
    },
    {
     "name": "stdout",
     "output_type": "stream",
     "text": [
      "EVAL: [2/3] Elapsed 0m 0s (remain 0m 0s) Loss: 0.2889(0.3395) \n",
      "Epoch: [7][0/19] Elapsed 0m 0s (remain 0m 2s) Loss: 0.2698(0.2698) Grad: 17.3826  LR: 0.000133  \n",
      "Epoch: [7][10/19] Elapsed 0m 1s (remain 0m 1s) Loss: 0.1895(0.2874) Grad: 8.7232  LR: 0.000133  \n",
      "Epoch: [7][18/19] Elapsed 0m 2s (remain 0m 0s) Loss: 0.2610(0.2749) Grad: 10.2013  LR: 0.000133  \n",
      "EVAL: [0/3] Elapsed 0m 0s (remain 0m 0s) Loss: 0.2848(0.2848) \n"
     ]
    },
    {
     "name": "stderr",
     "output_type": "stream",
     "text": [
      "Epoch 7 - avg_train_loss: 0.2749  avg_val_loss: 0.2617  time: 4s\n",
      "Epoch 7 - Score: 0.2628\n",
      "Epoch 7 - Save Best Score: 0.2628 Model\n"
     ]
    },
    {
     "name": "stdout",
     "output_type": "stream",
     "text": [
      "EVAL: [2/3] Elapsed 0m 0s (remain 0m 0s) Loss: 0.2741(0.2617) \n",
      "Epoch: [8][0/19] Elapsed 0m 0s (remain 0m 2s) Loss: 0.2250(0.2250) Grad: 5.1637  LR: 0.000057  \n",
      "Epoch: [8][10/19] Elapsed 0m 1s (remain 0m 1s) Loss: 0.2276(0.2172) Grad: 5.7806  LR: 0.000057  \n",
      "Epoch: [8][18/19] Elapsed 0m 2s (remain 0m 0s) Loss: 0.1681(0.2034) Grad: 3.4310  LR: 0.000057  \n",
      "EVAL: [0/3] Elapsed 0m 0s (remain 0m 0s) Loss: 0.2291(0.2291) \n"
     ]
    },
    {
     "name": "stderr",
     "output_type": "stream",
     "text": [
      "Epoch 8 - avg_train_loss: 0.2034  avg_val_loss: 0.2532  time: 3s\n",
      "Epoch 8 - Score: 0.2574\n",
      "Epoch 8 - Save Best Score: 0.2574 Model\n"
     ]
    },
    {
     "name": "stdout",
     "output_type": "stream",
     "text": [
      "EVAL: [2/3] Elapsed 0m 0s (remain 0m 0s) Loss: 0.1848(0.2532) \n",
      "Epoch: [9][0/19] Elapsed 0m 0s (remain 0m 2s) Loss: 0.1650(0.1650) Grad: 3.2501  LR: 0.000009  \n",
      "Epoch: [9][10/19] Elapsed 0m 1s (remain 0m 1s) Loss: 0.1557(0.1836) Grad: 6.5728  LR: 0.000009  \n",
      "Epoch: [9][18/19] Elapsed 0m 2s (remain 0m 0s) Loss: 0.1711(0.1783) Grad: 4.5767  LR: 0.000009  \n",
      "EVAL: [0/3] Elapsed 0m 0s (remain 0m 0s) Loss: 0.2241(0.2241) \n"
     ]
    },
    {
     "name": "stderr",
     "output_type": "stream",
     "text": [
      "Epoch 9 - avg_train_loss: 0.1783  avg_val_loss: 0.2229  time: 3s\n",
      "Epoch 9 - Score: 0.2236\n",
      "Epoch 9 - Save Best Score: 0.2236 Model\n"
     ]
    },
    {
     "name": "stdout",
     "output_type": "stream",
     "text": [
      "EVAL: [2/3] Elapsed 0m 0s (remain 0m 0s) Loss: 0.1849(0.2229) \n",
      "Epoch: [10][0/19] Elapsed 0m 0s (remain 0m 2s) Loss: 0.1234(0.1234) Grad: 3.3320  LR: 0.000001  \n",
      "Epoch: [10][10/19] Elapsed 0m 1s (remain 0m 1s) Loss: 0.1319(0.1313) Grad: 3.4545  LR: 0.000001  \n",
      "Epoch: [10][18/19] Elapsed 0m 2s (remain 0m 0s) Loss: 0.1589(0.1308) Grad: 6.5249  LR: 0.000001  \n",
      "EVAL: [0/3] Elapsed 0m 0s (remain 0m 0s) Loss: 0.2442(0.2442) \n"
     ]
    },
    {
     "name": "stderr",
     "output_type": "stream",
     "text": [
      "Epoch 10 - avg_train_loss: 0.1308  avg_val_loss: 0.2195  time: 3s\n",
      "Epoch 10 - Score: 0.2218\n",
      "Epoch 10 - Save Best Score: 0.2218 Model\n"
     ]
    },
    {
     "name": "stdout",
     "output_type": "stream",
     "text": [
      "EVAL: [2/3] Elapsed 0m 0s (remain 0m 0s) Loss: 0.1524(0.2195) \n",
      "Epoch: [11][0/19] Elapsed 0m 0s (remain 0m 2s) Loss: 0.1415(0.1415) Grad: 3.6080  LR: 0.000050  \n",
      "Epoch: [11][10/19] Elapsed 0m 1s (remain 0m 1s) Loss: 0.1184(0.1231) Grad: 5.4385  LR: 0.000050  \n",
      "Epoch: [11][18/19] Elapsed 0m 2s (remain 0m 0s) Loss: 0.1610(0.1437) Grad: 11.9957  LR: 0.000050  \n",
      "EVAL: [0/3] Elapsed 0m 0s (remain 0m 0s) Loss: 0.2437(0.2437) \n"
     ]
    },
    {
     "name": "stderr",
     "output_type": "stream",
     "text": [
      "Epoch 11 - avg_train_loss: 0.1437  avg_val_loss: 0.2229  time: 3s\n",
      "Epoch 11 - Score: 0.2236\n"
     ]
    },
    {
     "name": "stdout",
     "output_type": "stream",
     "text": [
      "EVAL: [2/3] Elapsed 0m 0s (remain 0m 0s) Loss: 0.2196(0.2229) \n",
      "Epoch: [12][0/19] Elapsed 0m 0s (remain 0m 2s) Loss: 0.1826(0.1826) Grad: 14.0956  LR: 0.000224  \n",
      "Epoch: [12][10/19] Elapsed 0m 1s (remain 0m 1s) Loss: 0.1695(0.1815) Grad: 15.3193  LR: 0.000224  \n",
      "Epoch: [12][18/19] Elapsed 0m 2s (remain 0m 0s) Loss: 0.1905(0.1736) Grad: 8.3640  LR: 0.000224  \n",
      "EVAL: [0/3] Elapsed 0m 0s (remain 0m 0s) Loss: 0.2654(0.2654) \n"
     ]
    },
    {
     "name": "stderr",
     "output_type": "stream",
     "text": [
      "Epoch 12 - avg_train_loss: 0.1736  avg_val_loss: 0.2249  time: 3s\n",
      "Epoch 12 - Score: 0.2283\n"
     ]
    },
    {
     "name": "stdout",
     "output_type": "stream",
     "text": [
      "EVAL: [2/3] Elapsed 0m 0s (remain 0m 0s) Loss: 0.1563(0.2249) \n",
      "Epoch: [13][0/19] Elapsed 0m 0s (remain 0m 2s) Loss: 0.1884(0.1884) Grad: 10.9521  LR: 0.000133  \n",
      "Epoch: [13][10/19] Elapsed 0m 1s (remain 0m 1s) Loss: 0.1933(0.1932) Grad: 6.3855  LR: 0.000133  \n",
      "Epoch: [13][18/19] Elapsed 0m 2s (remain 0m 0s) Loss: 0.2504(0.2070) Grad: 16.8275  LR: 0.000133  \n",
      "EVAL: [0/3] Elapsed 0m 0s (remain 0m 0s) Loss: 0.3059(0.3059) \n"
     ]
    },
    {
     "name": "stderr",
     "output_type": "stream",
     "text": [
      "Epoch 13 - avg_train_loss: 0.2070  avg_val_loss: 0.2785  time: 4s\n",
      "Epoch 13 - Score: 0.2803\n"
     ]
    },
    {
     "name": "stdout",
     "output_type": "stream",
     "text": [
      "EVAL: [2/3] Elapsed 0m 0s (remain 0m 0s) Loss: 0.2129(0.2785) \n",
      "Epoch: [14][0/19] Elapsed 0m 0s (remain 0m 2s) Loss: 0.2112(0.2112) Grad: 12.4889  LR: 0.000057  \n",
      "Epoch: [14][10/19] Elapsed 0m 1s (remain 0m 1s) Loss: 0.2248(0.1913) Grad: 19.3998  LR: 0.000057  \n",
      "Epoch: [14][18/19] Elapsed 0m 2s (remain 0m 0s) Loss: 0.1798(0.1852) Grad: 3.8096  LR: 0.000057  \n",
      "EVAL: [0/3] Elapsed 0m 0s (remain 0m 0s) Loss: 0.2693(0.2693) \n"
     ]
    },
    {
     "name": "stderr",
     "output_type": "stream",
     "text": [
      "Epoch 14 - avg_train_loss: 0.1852  avg_val_loss: 0.2314  time: 3s\n",
      "Epoch 14 - Score: 0.2339\n"
     ]
    },
    {
     "name": "stdout",
     "output_type": "stream",
     "text": [
      "EVAL: [2/3] Elapsed 0m 0s (remain 0m 0s) Loss: 0.1771(0.2314) \n",
      "Epoch: [15][0/19] Elapsed 0m 0s (remain 0m 2s) Loss: 0.1532(0.1532) Grad: 8.0543  LR: 0.000009  \n",
      "Epoch: [15][10/19] Elapsed 0m 1s (remain 0m 1s) Loss: 0.1177(0.1365) Grad: 7.4713  LR: 0.000009  \n",
      "Epoch: [15][18/19] Elapsed 0m 2s (remain 0m 0s) Loss: 0.1350(0.1395) Grad: 9.2413  LR: 0.000009  \n",
      "EVAL: [0/3] Elapsed 0m 0s (remain 0m 0s) Loss: 0.2235(0.2235) \n"
     ]
    },
    {
     "name": "stderr",
     "output_type": "stream",
     "text": [
      "Epoch 15 - avg_train_loss: 0.1395  avg_val_loss: 0.2012  time: 4s\n",
      "Epoch 15 - Score: 0.2023\n",
      "Epoch 15 - Save Best Score: 0.2023 Model\n"
     ]
    },
    {
     "name": "stdout",
     "output_type": "stream",
     "text": [
      "EVAL: [2/3] Elapsed 0m 0s (remain 0m 0s) Loss: 0.1677(0.2012) \n",
      "Epoch: [16][0/19] Elapsed 0m 0s (remain 0m 2s) Loss: 0.1191(0.1191) Grad: 13.5780  LR: 0.000001  \n",
      "Epoch: [16][10/19] Elapsed 0m 1s (remain 0m 1s) Loss: 0.1099(0.1142) Grad: 4.4846  LR: 0.000001  \n",
      "Epoch: [16][18/19] Elapsed 0m 2s (remain 0m 0s) Loss: 0.0878(0.1124) Grad: 3.5412  LR: 0.000001  \n",
      "EVAL: [0/3] Elapsed 0m 0s (remain 0m 0s) Loss: 0.2345(0.2345) \n"
     ]
    },
    {
     "name": "stderr",
     "output_type": "stream",
     "text": [
      "Epoch 16 - avg_train_loss: 0.1124  avg_val_loss: 0.2037  time: 3s\n",
      "Epoch 16 - Score: 0.2061\n"
     ]
    },
    {
     "name": "stdout",
     "output_type": "stream",
     "text": [
      "EVAL: [2/3] Elapsed 0m 0s (remain 0m 0s) Loss: 0.1458(0.2037) \n",
      "Epoch: [17][0/19] Elapsed 0m 0s (remain 0m 2s) Loss: 0.1191(0.1191) Grad: 3.3571  LR: 0.000050  \n",
      "Epoch: [17][10/19] Elapsed 0m 1s (remain 0m 1s) Loss: 0.1308(0.1147) Grad: 3.0511  LR: 0.000050  \n",
      "Epoch: [17][18/19] Elapsed 0m 2s (remain 0m 0s) Loss: 0.0980(0.1121) Grad: 7.7192  LR: 0.000050  \n",
      "EVAL: [0/3] Elapsed 0m 0s (remain 0m 0s) Loss: 0.2351(0.2351) \n"
     ]
    },
    {
     "name": "stderr",
     "output_type": "stream",
     "text": [
      "Epoch 17 - avg_train_loss: 0.1121  avg_val_loss: 0.1997  time: 3s\n",
      "Epoch 17 - Score: 0.2030\n"
     ]
    },
    {
     "name": "stdout",
     "output_type": "stream",
     "text": [
      "EVAL: [2/3] Elapsed 0m 0s (remain 0m 0s) Loss: 0.1322(0.1997) \n",
      "Epoch: [18][0/19] Elapsed 0m 0s (remain 0m 2s) Loss: 0.0996(0.0996) Grad: 3.1579  LR: 0.000224  \n",
      "Epoch: [18][10/19] Elapsed 0m 1s (remain 0m 1s) Loss: 0.1076(0.1397) Grad: 7.4775  LR: 0.000224  \n",
      "Epoch: [18][18/19] Elapsed 0m 2s (remain 0m 0s) Loss: 0.1801(0.1483) Grad: 14.4397  LR: 0.000224  \n",
      "EVAL: [0/3] Elapsed 0m 0s (remain 0m 0s) Loss: 0.2485(0.2485) \n"
     ]
    },
    {
     "name": "stderr",
     "output_type": "stream",
     "text": [
      "Epoch 18 - avg_train_loss: 0.1483  avg_val_loss: 0.2175  time: 3s\n",
      "Epoch 18 - Score: 0.2205\n"
     ]
    },
    {
     "name": "stdout",
     "output_type": "stream",
     "text": [
      "EVAL: [2/3] Elapsed 0m 0s (remain 0m 0s) Loss: 0.1443(0.2175) \n",
      "Epoch: [19][0/19] Elapsed 0m 0s (remain 0m 2s) Loss: 0.1471(0.1471) Grad: 8.5906  LR: 0.000133  \n",
      "Epoch: [19][10/19] Elapsed 0m 1s (remain 0m 1s) Loss: 0.1879(0.1445) Grad: 4.0971  LR: 0.000133  \n",
      "Epoch: [19][18/19] Elapsed 0m 2s (remain 0m 0s) Loss: 0.1445(0.1693) Grad: 5.9282  LR: 0.000133  \n",
      "EVAL: [0/3] Elapsed 0m 0s (remain 0m 0s) Loss: 0.3986(0.3986) \n"
     ]
    },
    {
     "name": "stderr",
     "output_type": "stream",
     "text": [
      "Epoch 19 - avg_train_loss: 0.1693  avg_val_loss: 0.3641  time: 3s\n",
      "Epoch 19 - Score: 0.3655\n"
     ]
    },
    {
     "name": "stdout",
     "output_type": "stream",
     "text": [
      "EVAL: [2/3] Elapsed 0m 0s (remain 0m 0s) Loss: 0.3117(0.3641) \n",
      "Epoch: [20][0/19] Elapsed 0m 0s (remain 0m 2s) Loss: 0.2841(0.2841) Grad: 22.8337  LR: 0.000057  \n",
      "Epoch: [20][10/19] Elapsed 0m 1s (remain 0m 1s) Loss: 0.1627(0.1974) Grad: 18.1891  LR: 0.000057  \n",
      "Epoch: [20][18/19] Elapsed 0m 2s (remain 0m 0s) Loss: 0.2115(0.1937) Grad: 14.1101  LR: 0.000057  \n",
      "EVAL: [0/3] Elapsed 0m 0s (remain 0m 0s) Loss: 0.2586(0.2586) \n"
     ]
    },
    {
     "name": "stderr",
     "output_type": "stream",
     "text": [
      "Epoch 20 - avg_train_loss: 0.1937  avg_val_loss: 0.2258  time: 3s\n",
      "Epoch 20 - Score: 0.2279\n"
     ]
    },
    {
     "name": "stdout",
     "output_type": "stream",
     "text": [
      "EVAL: [2/3] Elapsed 0m 0s (remain 0m 0s) Loss: 0.1718(0.2258) \n",
      "Epoch: [21][0/19] Elapsed 0m 0s (remain 0m 2s) Loss: 0.1847(0.1847) Grad: 15.6771  LR: 0.000009  \n",
      "Epoch: [21][10/19] Elapsed 0m 1s (remain 0m 1s) Loss: 0.1271(0.1619) Grad: 9.1987  LR: 0.000009  \n",
      "Epoch: [21][18/19] Elapsed 0m 2s (remain 0m 0s) Loss: 0.1539(0.1522) Grad: 14.4214  LR: 0.000009  \n",
      "EVAL: [0/3] Elapsed 0m 0s (remain 0m 0s) Loss: 0.2390(0.2390) \n"
     ]
    },
    {
     "name": "stderr",
     "output_type": "stream",
     "text": [
      "Epoch 21 - avg_train_loss: 0.1522  avg_val_loss: 0.2087  time: 3s\n",
      "Epoch 21 - Score: 0.2119\n"
     ]
    },
    {
     "name": "stdout",
     "output_type": "stream",
     "text": [
      "EVAL: [2/3] Elapsed 0m 0s (remain 0m 0s) Loss: 0.1324(0.2087) \n",
      "Epoch: [22][0/19] Elapsed 0m 0s (remain 0m 2s) Loss: 0.0921(0.0921) Grad: 5.5413  LR: 0.000001  \n",
      "Epoch: [22][10/19] Elapsed 0m 1s (remain 0m 1s) Loss: 0.0811(0.1100) Grad: 2.7906  LR: 0.000001  \n",
      "Epoch: [22][18/19] Elapsed 0m 2s (remain 0m 0s) Loss: 0.0962(0.1041) Grad: 11.8638  LR: 0.000001  \n",
      "EVAL: [0/3] Elapsed 0m 0s (remain 0m 0s) Loss: 0.2205(0.2205) \n"
     ]
    },
    {
     "name": "stderr",
     "output_type": "stream",
     "text": [
      "Epoch 22 - avg_train_loss: 0.1041  avg_val_loss: 0.2067  time: 3s\n",
      "Epoch 22 - Score: 0.2094\n"
     ]
    },
    {
     "name": "stdout",
     "output_type": "stream",
     "text": [
      "EVAL: [2/3] Elapsed 0m 0s (remain 0m 0s) Loss: 0.1331(0.2067) \n",
      "Epoch: [23][0/19] Elapsed 0m 0s (remain 0m 2s) Loss: 0.0957(0.0957) Grad: 4.1476  LR: 0.000050  \n",
      "Epoch: [23][10/19] Elapsed 0m 1s (remain 0m 1s) Loss: 0.1176(0.1040) Grad: 3.9951  LR: 0.000050  \n",
      "Epoch: [23][18/19] Elapsed 0m 2s (remain 0m 0s) Loss: 0.0915(0.0996) Grad: 10.8225  LR: 0.000050  \n",
      "EVAL: [0/3] Elapsed 0m 0s (remain 0m 0s) Loss: 0.2182(0.2182) \n"
     ]
    },
    {
     "name": "stderr",
     "output_type": "stream",
     "text": [
      "Epoch 23 - avg_train_loss: 0.0996  avg_val_loss: 0.2049  time: 4s\n",
      "Epoch 23 - Score: 0.2069\n"
     ]
    },
    {
     "name": "stdout",
     "output_type": "stream",
     "text": [
      "EVAL: [2/3] Elapsed 0m 0s (remain 0m 0s) Loss: 0.1415(0.2049) \n",
      "Epoch: [24][0/19] Elapsed 0m 0s (remain 0m 2s) Loss: 0.0970(0.0970) Grad: 17.6262  LR: 0.000224  \n",
      "Epoch: [24][10/19] Elapsed 0m 1s (remain 0m 1s) Loss: 0.1016(0.0998) Grad: 5.4081  LR: 0.000224  \n",
      "Epoch: [24][18/19] Elapsed 0m 2s (remain 0m 0s) Loss: 0.1289(0.1109) Grad: 12.5351  LR: 0.000224  \n",
      "EVAL: [0/3] Elapsed 0m 0s (remain 0m 0s) Loss: 0.2762(0.2762) \n"
     ]
    },
    {
     "name": "stderr",
     "output_type": "stream",
     "text": [
      "Epoch 24 - avg_train_loss: 0.1109  avg_val_loss: 0.2580  time: 3s\n",
      "Epoch 24 - Score: 0.2613\n"
     ]
    },
    {
     "name": "stdout",
     "output_type": "stream",
     "text": [
      "EVAL: [2/3] Elapsed 0m 0s (remain 0m 0s) Loss: 0.1655(0.2580) \n",
      "Epoch: [25][0/19] Elapsed 0m 0s (remain 0m 2s) Loss: 0.1697(0.1697) Grad: 12.6833  LR: 0.000133  \n",
      "Epoch: [25][10/19] Elapsed 0m 1s (remain 0m 1s) Loss: 0.1419(0.1641) Grad: 16.9335  LR: 0.000133  \n",
      "Epoch: [25][18/19] Elapsed 0m 2s (remain 0m 0s) Loss: 0.1095(0.1665) Grad: 4.3134  LR: 0.000133  \n",
      "EVAL: [0/3] Elapsed 0m 0s (remain 0m 0s) Loss: 0.2550(0.2550) \n"
     ]
    },
    {
     "name": "stderr",
     "output_type": "stream",
     "text": [
      "Epoch 25 - avg_train_loss: 0.1665  avg_val_loss: 0.2398  time: 3s\n",
      "Epoch 25 - Score: 0.2404\n"
     ]
    },
    {
     "name": "stdout",
     "output_type": "stream",
     "text": [
      "EVAL: [2/3] Elapsed 0m 0s (remain 0m 0s) Loss: 0.2031(0.2398) \n",
      "Epoch: [26][0/19] Elapsed 0m 0s (remain 0m 2s) Loss: 0.1901(0.1901) Grad: 13.8275  LR: 0.000057  \n",
      "Epoch: [26][10/19] Elapsed 0m 1s (remain 0m 1s) Loss: 0.1952(0.1677) Grad: 14.2806  LR: 0.000057  \n",
      "Epoch: [26][18/19] Elapsed 0m 2s (remain 0m 0s) Loss: 0.1611(0.1542) Grad: 9.5500  LR: 0.000057  \n",
      "EVAL: [0/3] Elapsed 0m 0s (remain 0m 0s) Loss: 0.2226(0.2226) \n"
     ]
    },
    {
     "name": "stderr",
     "output_type": "stream",
     "text": [
      "Epoch 26 - avg_train_loss: 0.1542  avg_val_loss: 0.2018  time: 4s\n",
      "Epoch 26 - Score: 0.2039\n"
     ]
    },
    {
     "name": "stdout",
     "output_type": "stream",
     "text": [
      "EVAL: [2/3] Elapsed 0m 0s (remain 0m 0s) Loss: 0.1393(0.2018) \n",
      "Epoch: [27][0/19] Elapsed 0m 0s (remain 0m 2s) Loss: 0.1178(0.1178) Grad: 5.9021  LR: 0.000009  \n",
      "Epoch: [27][10/19] Elapsed 0m 1s (remain 0m 1s) Loss: 0.1258(0.1068) Grad: 14.1841  LR: 0.000009  \n",
      "Epoch: [27][18/19] Elapsed 0m 2s (remain 0m 0s) Loss: 0.1020(0.1104) Grad: 12.1108  LR: 0.000009  \n",
      "EVAL: [0/3] Elapsed 0m 0s (remain 0m 0s) Loss: 0.2263(0.2263) \n"
     ]
    },
    {
     "name": "stderr",
     "output_type": "stream",
     "text": [
      "Epoch 27 - avg_train_loss: 0.1104  avg_val_loss: 0.1978  time: 4s\n",
      "Epoch 27 - Score: 0.2005\n",
      "Epoch 27 - Save Best Score: 0.2005 Model\n"
     ]
    },
    {
     "name": "stdout",
     "output_type": "stream",
     "text": [
      "EVAL: [2/3] Elapsed 0m 0s (remain 0m 0s) Loss: 0.1321(0.1978) \n",
      "Epoch: [28][0/19] Elapsed 0m 0s (remain 0m 2s) Loss: 0.0833(0.0833) Grad: 2.7620  LR: 0.000001  \n",
      "Epoch: [28][10/19] Elapsed 0m 1s (remain 0m 1s) Loss: 0.0862(0.0885) Grad: 3.7054  LR: 0.000001  \n",
      "Epoch: [28][18/19] Elapsed 0m 2s (remain 0m 0s) Loss: 0.0859(0.0846) Grad: 4.3625  LR: 0.000001  \n",
      "EVAL: [0/3] Elapsed 0m 0s (remain 0m 0s) Loss: 0.2238(0.2238) \n"
     ]
    },
    {
     "name": "stderr",
     "output_type": "stream",
     "text": [
      "Epoch 28 - avg_train_loss: 0.0846  avg_val_loss: 0.1929  time: 4s\n",
      "Epoch 28 - Score: 0.1966\n",
      "Epoch 28 - Save Best Score: 0.1966 Model\n"
     ]
    },
    {
     "name": "stdout",
     "output_type": "stream",
     "text": [
      "EVAL: [2/3] Elapsed 0m 0s (remain 0m 0s) Loss: 0.1132(0.1929) \n",
      "Epoch: [29][0/19] Elapsed 0m 0s (remain 0m 2s) Loss: 0.0747(0.0747) Grad: 10.7837  LR: 0.000050  \n",
      "Epoch: [29][10/19] Elapsed 0m 1s (remain 0m 1s) Loss: 0.0729(0.0892) Grad: 4.8413  LR: 0.000050  \n",
      "Epoch: [29][18/19] Elapsed 0m 2s (remain 0m 0s) Loss: 0.0805(0.0861) Grad: 9.9942  LR: 0.000050  \n",
      "EVAL: [0/3] Elapsed 0m 0s (remain 0m 0s) Loss: 0.2193(0.2193) \n"
     ]
    },
    {
     "name": "stderr",
     "output_type": "stream",
     "text": [
      "Epoch 29 - avg_train_loss: 0.0861  avg_val_loss: 0.1942  time: 4s\n",
      "Epoch 29 - Score: 0.1963\n",
      "Epoch 29 - Save Best Score: 0.1963 Model\n"
     ]
    },
    {
     "name": "stdout",
     "output_type": "stream",
     "text": [
      "EVAL: [2/3] Elapsed 0m 0s (remain 0m 0s) Loss: 0.1368(0.1942) \n",
      "Epoch: [30][0/19] Elapsed 0m 0s (remain 0m 2s) Loss: 0.0646(0.0646) Grad: 3.0806  LR: 0.000224  \n",
      "Epoch: [30][10/19] Elapsed 0m 1s (remain 0m 1s) Loss: 0.1103(0.0922) Grad: 8.2141  LR: 0.000224  \n",
      "Epoch: [30][18/19] Elapsed 0m 2s (remain 0m 0s) Loss: 0.1500(0.1033) Grad: 18.2169  LR: 0.000224  \n",
      "EVAL: [0/3] Elapsed 0m 0s (remain 0m 0s) Loss: 0.2411(0.2411) \n"
     ]
    },
    {
     "name": "stderr",
     "output_type": "stream",
     "text": [
      "Epoch 30 - avg_train_loss: 0.1033  avg_val_loss: 0.2009  time: 3s\n",
      "Epoch 30 - Score: 0.2037\n"
     ]
    },
    {
     "name": "stdout",
     "output_type": "stream",
     "text": [
      "EVAL: [2/3] Elapsed 0m 0s (remain 0m 0s) Loss: 0.1786(0.2009) \n",
      "Epoch: [31][0/19] Elapsed 0m 0s (remain 0m 2s) Loss: 0.1420(0.1420) Grad: 17.1524  LR: 0.000133  \n",
      "Epoch: [31][10/19] Elapsed 0m 1s (remain 0m 1s) Loss: 0.1537(0.1438) Grad: 12.3491  LR: 0.000133  \n",
      "Epoch: [31][18/19] Elapsed 0m 2s (remain 0m 0s) Loss: 0.1079(0.1336) Grad: 4.0994  LR: 0.000133  \n",
      "EVAL: [0/3] Elapsed 0m 0s (remain 0m 0s) Loss: 0.2359(0.2359) \n"
     ]
    },
    {
     "name": "stderr",
     "output_type": "stream",
     "text": [
      "Epoch 31 - avg_train_loss: 0.1336  avg_val_loss: 0.2086  time: 3s\n",
      "Epoch 31 - Score: 0.2122\n"
     ]
    },
    {
     "name": "stdout",
     "output_type": "stream",
     "text": [
      "EVAL: [2/3] Elapsed 0m 0s (remain 0m 0s) Loss: 0.1243(0.2086) \n",
      "Epoch: [32][0/19] Elapsed 0m 0s (remain 0m 2s) Loss: 0.0867(0.0867) Grad: 4.3518  LR: 0.000057  \n",
      "Epoch: [32][10/19] Elapsed 0m 1s (remain 0m 1s) Loss: 0.0997(0.1068) Grad: 9.0207  LR: 0.000057  \n",
      "Epoch: [32][18/19] Elapsed 0m 2s (remain 0m 0s) Loss: 0.1445(0.1198) Grad: 13.2357  LR: 0.000057  \n",
      "EVAL: [0/3] Elapsed 0m 0s (remain 0m 0s) Loss: 0.2313(0.2313) \n"
     ]
    },
    {
     "name": "stderr",
     "output_type": "stream",
     "text": [
      "Epoch 32 - avg_train_loss: 0.1198  avg_val_loss: 0.2015  time: 3s\n",
      "Epoch 32 - Score: 0.2038\n"
     ]
    },
    {
     "name": "stdout",
     "output_type": "stream",
     "text": [
      "EVAL: [2/3] Elapsed 0m 0s (remain 0m 0s) Loss: 0.1454(0.2015) \n",
      "Epoch: [33][0/19] Elapsed 0m 0s (remain 0m 2s) Loss: 0.0891(0.0891) Grad: 8.6998  LR: 0.000009  \n",
      "Epoch: [33][10/19] Elapsed 0m 1s (remain 0m 1s) Loss: 0.0753(0.0932) Grad: 6.7756  LR: 0.000009  \n",
      "Epoch: [33][18/19] Elapsed 0m 2s (remain 0m 0s) Loss: 0.0937(0.0935) Grad: 17.0905  LR: 0.000009  \n",
      "EVAL: [0/3] Elapsed 0m 0s (remain 0m 0s) Loss: 0.2566(0.2566) \n"
     ]
    },
    {
     "name": "stderr",
     "output_type": "stream",
     "text": [
      "Epoch 33 - avg_train_loss: 0.0935  avg_val_loss: 0.2116  time: 3s\n",
      "Epoch 33 - Score: 0.2173\n"
     ]
    },
    {
     "name": "stdout",
     "output_type": "stream",
     "text": [
      "EVAL: [2/3] Elapsed 0m 0s (remain 0m 0s) Loss: 0.1143(0.2116) \n",
      "Epoch: [34][0/19] Elapsed 0m 0s (remain 0m 2s) Loss: 0.0899(0.0899) Grad: 17.2539  LR: 0.000001  \n",
      "Epoch: [34][10/19] Elapsed 0m 1s (remain 0m 1s) Loss: 0.0707(0.0813) Grad: 6.5374  LR: 0.000001  \n",
      "Epoch: [34][18/19] Elapsed 0m 2s (remain 0m 0s) Loss: 0.0714(0.0804) Grad: 9.7470  LR: 0.000001  \n",
      "EVAL: [0/3] Elapsed 0m 0s (remain 0m 0s) Loss: 0.2257(0.2257) \n"
     ]
    },
    {
     "name": "stderr",
     "output_type": "stream",
     "text": [
      "Epoch 34 - avg_train_loss: 0.0804  avg_val_loss: 0.1858  time: 4s\n",
      "Epoch 34 - Score: 0.1899\n",
      "Epoch 34 - Save Best Score: 0.1899 Model\n"
     ]
    },
    {
     "name": "stdout",
     "output_type": "stream",
     "text": [
      "EVAL: [2/3] Elapsed 0m 0s (remain 0m 0s) Loss: 0.1146(0.1858) \n",
      "Epoch: [35][0/19] Elapsed 0m 0s (remain 0m 2s) Loss: 0.0659(0.0659) Grad: 6.2635  LR: 0.000050  \n",
      "Epoch: [35][10/19] Elapsed 0m 1s (remain 0m 1s) Loss: 0.1027(0.0865) Grad: 18.2125  LR: 0.000050  \n",
      "Epoch: [35][18/19] Elapsed 0m 2s (remain 0m 0s) Loss: 0.0890(0.0881) Grad: 7.6835  LR: 0.000050  \n",
      "EVAL: [0/3] Elapsed 0m 0s (remain 0m 0s) Loss: 0.2443(0.2443) \n"
     ]
    },
    {
     "name": "stderr",
     "output_type": "stream",
     "text": [
      "Epoch 35 - avg_train_loss: 0.0881  avg_val_loss: 0.1964  time: 4s\n",
      "Epoch 35 - Score: 0.2025\n"
     ]
    },
    {
     "name": "stdout",
     "output_type": "stream",
     "text": [
      "EVAL: [2/3] Elapsed 0m 0s (remain 0m 0s) Loss: 0.1040(0.1964) \n",
      "Epoch: [36][0/19] Elapsed 0m 0s (remain 0m 2s) Loss: 0.0807(0.0807) Grad: 7.6428  LR: 0.000224  \n",
      "Epoch: [36][10/19] Elapsed 0m 1s (remain 0m 1s) Loss: 0.1348(0.1105) Grad: 17.9991  LR: 0.000224  \n",
      "Epoch: [36][18/19] Elapsed 0m 2s (remain 0m 0s) Loss: 0.0817(0.1075) Grad: 9.9237  LR: 0.000224  \n",
      "EVAL: [0/3] Elapsed 0m 0s (remain 0m 0s) Loss: 0.2169(0.2169) \n"
     ]
    },
    {
     "name": "stderr",
     "output_type": "stream",
     "text": [
      "Epoch 36 - avg_train_loss: 0.1075  avg_val_loss: 0.1973  time: 4s\n",
      "Epoch 36 - Score: 0.1999\n"
     ]
    },
    {
     "name": "stdout",
     "output_type": "stream",
     "text": [
      "EVAL: [2/3] Elapsed 0m 0s (remain 0m 0s) Loss: 0.1268(0.1973) \n",
      "Epoch: [37][0/19] Elapsed 0m 0s (remain 0m 2s) Loss: 0.1218(0.1218) Grad: 16.0969  LR: 0.000133  \n",
      "Epoch: [37][10/19] Elapsed 0m 1s (remain 0m 1s) Loss: 0.1527(0.1081) Grad: 9.1051  LR: 0.000133  \n",
      "Epoch: [37][18/19] Elapsed 0m 2s (remain 0m 0s) Loss: 0.1552(0.1171) Grad: 18.5510  LR: 0.000133  \n",
      "EVAL: [0/3] Elapsed 0m 0s (remain 0m 0s) Loss: 0.2612(0.2612) \n"
     ]
    },
    {
     "name": "stderr",
     "output_type": "stream",
     "text": [
      "Epoch 37 - avg_train_loss: 0.1171  avg_val_loss: 0.2195  time: 4s\n",
      "Epoch 37 - Score: 0.2238\n"
     ]
    },
    {
     "name": "stdout",
     "output_type": "stream",
     "text": [
      "EVAL: [2/3] Elapsed 0m 0s (remain 0m 0s) Loss: 0.1363(0.2195) \n",
      "Epoch: [38][0/19] Elapsed 0m 0s (remain 0m 2s) Loss: 0.1235(0.1235) Grad: 10.8075  LR: 0.000057  \n",
      "Epoch: [38][10/19] Elapsed 0m 1s (remain 0m 1s) Loss: 0.0702(0.1244) Grad: 5.8252  LR: 0.000057  \n",
      "Epoch: [38][18/19] Elapsed 0m 2s (remain 0m 0s) Loss: 0.1875(0.1383) Grad: 18.8483  LR: 0.000057  \n",
      "EVAL: [0/3] Elapsed 0m 0s (remain 0m 0s) Loss: 0.2595(0.2595) \n"
     ]
    },
    {
     "name": "stderr",
     "output_type": "stream",
     "text": [
      "Epoch 38 - avg_train_loss: 0.1383  avg_val_loss: 0.2172  time: 4s\n",
      "Epoch 38 - Score: 0.2206\n"
     ]
    },
    {
     "name": "stdout",
     "output_type": "stream",
     "text": [
      "EVAL: [2/3] Elapsed 0m 0s (remain 0m 0s) Loss: 0.1564(0.2172) \n",
      "Epoch: [39][0/19] Elapsed 0m 0s (remain 0m 2s) Loss: 0.1694(0.1694) Grad: 9.5331  LR: 0.000009  \n",
      "Epoch: [39][10/19] Elapsed 0m 1s (remain 0m 1s) Loss: 0.1094(0.1094) Grad: 13.3952  LR: 0.000009  \n",
      "Epoch: [39][18/19] Elapsed 0m 2s (remain 0m 0s) Loss: 0.0987(0.1059) Grad: 13.9670  LR: 0.000009  \n",
      "EVAL: [0/3] Elapsed 0m 0s (remain 0m 0s) Loss: 0.2419(0.2419) \n"
     ]
    },
    {
     "name": "stderr",
     "output_type": "stream",
     "text": [
      "Epoch 39 - avg_train_loss: 0.1059  avg_val_loss: 0.1853  time: 4s\n",
      "Epoch 39 - Score: 0.1926\n"
     ]
    },
    {
     "name": "stdout",
     "output_type": "stream",
     "text": [
      "EVAL: [2/3] Elapsed 0m 0s (remain 0m 0s) Loss: 0.1005(0.1853) \n",
      "Epoch: [40][0/19] Elapsed 0m 0s (remain 0m 2s) Loss: 0.0857(0.0857) Grad: 2.2730  LR: 0.000001  \n",
      "Epoch: [40][10/19] Elapsed 0m 1s (remain 0m 1s) Loss: 0.0987(0.0780) Grad: 4.6211  LR: 0.000001  \n",
      "Epoch: [40][18/19] Elapsed 0m 2s (remain 0m 0s) Loss: 0.0913(0.0799) Grad: 2.3040  LR: 0.000001  \n",
      "EVAL: [0/3] Elapsed 0m 0s (remain 0m 0s) Loss: 0.2519(0.2519) \n"
     ]
    },
    {
     "name": "stderr",
     "output_type": "stream",
     "text": [
      "Epoch 40 - avg_train_loss: 0.0799  avg_val_loss: 0.1993  time: 4s\n",
      "Epoch 40 - Score: 0.2062\n",
      "========== fold: 1 result ==========\n",
      "Score: 0.1899\n",
      "========== fold: 2 training ==========\n"
     ]
    },
    {
     "name": "stdout",
     "output_type": "stream",
     "text": [
      "EVAL: [2/3] Elapsed 0m 0s (remain 0m 0s) Loss: 0.1027(0.1993) \n",
      "Epoch: [1][0/19] Elapsed 0m 0s (remain 0m 2s) Loss: 3.5282(3.5282) Grad: 27.8242  LR: 0.000100  \n",
      "Epoch: [1][10/19] Elapsed 0m 1s (remain 0m 1s) Loss: 0.6440(1.3169) Grad: 30.1087  LR: 0.000100  \n",
      "Epoch: [1][18/19] Elapsed 0m 2s (remain 0m 0s) Loss: 0.7194(1.0026) Grad: 25.7707  LR: 0.000100  \n",
      "EVAL: [0/3] Elapsed 0m 0s (remain 0m 0s) Loss: 0.4922(0.4922) \n"
     ]
    },
    {
     "name": "stderr",
     "output_type": "stream",
     "text": [
      "Epoch 1 - avg_train_loss: 1.0026  avg_val_loss: 0.4547  time: 3s\n",
      "Epoch 1 - Score: 0.4558\n",
      "Epoch 1 - Save Best Score: 0.4558 Model\n"
     ]
    },
    {
     "name": "stdout",
     "output_type": "stream",
     "text": [
      "EVAL: [2/3] Elapsed 0m 0s (remain 0m 0s) Loss: 0.4378(0.4547) \n",
      "Epoch: [2][0/19] Elapsed 0m 0s (remain 0m 2s) Loss: 0.4124(0.4124) Grad: 18.6484  LR: 0.000057  \n",
      "Epoch: [2][10/19] Elapsed 0m 1s (remain 0m 1s) Loss: 0.5742(0.4603) Grad: 20.9274  LR: 0.000057  \n",
      "Epoch: [2][18/19] Elapsed 0m 2s (remain 0m 0s) Loss: 0.4431(0.4556) Grad: 19.2202  LR: 0.000057  \n",
      "EVAL: [0/3] Elapsed 0m 0s (remain 0m 0s) Loss: 0.5241(0.5241) \n"
     ]
    },
    {
     "name": "stderr",
     "output_type": "stream",
     "text": [
      "Epoch 2 - avg_train_loss: 0.4556  avg_val_loss: 0.4969  time: 3s\n",
      "Epoch 2 - Score: 0.4980\n"
     ]
    },
    {
     "name": "stdout",
     "output_type": "stream",
     "text": [
      "EVAL: [2/3] Elapsed 0m 0s (remain 0m 0s) Loss: 0.5235(0.4969) \n",
      "Epoch: [3][0/19] Elapsed 0m 0s (remain 0m 2s) Loss: 0.4871(0.4871) Grad: 30.2280  LR: 0.000009  \n",
      "Epoch: [3][10/19] Elapsed 0m 1s (remain 0m 1s) Loss: 0.3522(0.3355) Grad: 20.2262  LR: 0.000009  \n",
      "Epoch: [3][18/19] Elapsed 0m 2s (remain 0m 0s) Loss: 0.2909(0.3171) Grad: 11.1957  LR: 0.000009  \n",
      "EVAL: [0/3] Elapsed 0m 0s (remain 0m 0s) Loss: 0.3401(0.3401) \n"
     ]
    },
    {
     "name": "stderr",
     "output_type": "stream",
     "text": [
      "Epoch 3 - avg_train_loss: 0.3171  avg_val_loss: 0.3179  time: 3s\n",
      "Epoch 3 - Score: 0.3199\n",
      "Epoch 3 - Save Best Score: 0.3199 Model\n"
     ]
    },
    {
     "name": "stdout",
     "output_type": "stream",
     "text": [
      "EVAL: [2/3] Elapsed 0m 0s (remain 0m 0s) Loss: 0.3637(0.3179) \n",
      "Epoch: [4][0/19] Elapsed 0m 0s (remain 0m 2s) Loss: 0.3160(0.3160) Grad: 13.0207  LR: 0.000001  \n",
      "Epoch: [4][10/19] Elapsed 0m 1s (remain 0m 1s) Loss: 0.2873(0.2873) Grad: 11.8624  LR: 0.000001  \n",
      "Epoch: [4][18/19] Elapsed 0m 2s (remain 0m 0s) Loss: 0.2725(0.2644) Grad: 9.3339  LR: 0.000001  \n",
      "EVAL: [0/3] Elapsed 0m 0s (remain 0m 0s) Loss: 0.2953(0.2953) \n"
     ]
    },
    {
     "name": "stderr",
     "output_type": "stream",
     "text": [
      "Epoch 4 - avg_train_loss: 0.2644  avg_val_loss: 0.2997  time: 4s\n",
      "Epoch 4 - Score: 0.3006\n",
      "Epoch 4 - Save Best Score: 0.3006 Model\n"
     ]
    },
    {
     "name": "stdout",
     "output_type": "stream",
     "text": [
      "EVAL: [2/3] Elapsed 0m 0s (remain 0m 0s) Loss: 0.3500(0.2997) \n",
      "Epoch: [5][0/19] Elapsed 0m 0s (remain 0m 2s) Loss: 0.2744(0.2744) Grad: 10.7383  LR: 0.000050  \n",
      "Epoch: [5][10/19] Elapsed 0m 1s (remain 0m 1s) Loss: 0.2503(0.2467) Grad: 8.6845  LR: 0.000050  \n",
      "Epoch: [5][18/19] Elapsed 0m 2s (remain 0m 0s) Loss: 0.2669(0.2482) Grad: 14.1048  LR: 0.000050  \n",
      "EVAL: [0/3] Elapsed 0m 0s (remain 0m 0s) Loss: 0.2799(0.2799) \n"
     ]
    },
    {
     "name": "stderr",
     "output_type": "stream",
     "text": [
      "Epoch 5 - avg_train_loss: 0.2482  avg_val_loss: 0.2758  time: 4s\n",
      "Epoch 5 - Score: 0.2769\n",
      "Epoch 5 - Save Best Score: 0.2769 Model\n"
     ]
    },
    {
     "name": "stdout",
     "output_type": "stream",
     "text": [
      "EVAL: [2/3] Elapsed 0m 0s (remain 0m 0s) Loss: 0.3226(0.2758) \n",
      "Epoch: [6][0/19] Elapsed 0m 0s (remain 0m 2s) Loss: 0.1760(0.1760) Grad: 8.4763  LR: 0.000224  \n",
      "Epoch: [6][10/19] Elapsed 0m 1s (remain 0m 1s) Loss: 0.3052(0.2123) Grad: 15.3127  LR: 0.000224  \n",
      "Epoch: [6][18/19] Elapsed 0m 2s (remain 0m 0s) Loss: 0.2898(0.2419) Grad: 22.6901  LR: 0.000224  \n",
      "EVAL: [0/3] Elapsed 0m 0s (remain 0m 0s) Loss: 0.3975(0.3975) \n"
     ]
    },
    {
     "name": "stderr",
     "output_type": "stream",
     "text": [
      "Epoch 6 - avg_train_loss: 0.2419  avg_val_loss: 0.3857  time: 4s\n",
      "Epoch 6 - Score: 0.3864\n"
     ]
    },
    {
     "name": "stdout",
     "output_type": "stream",
     "text": [
      "EVAL: [2/3] Elapsed 0m 0s (remain 0m 0s) Loss: 0.4222(0.3857) \n",
      "Epoch: [7][0/19] Elapsed 0m 0s (remain 0m 2s) Loss: 0.3306(0.3306) Grad: 25.3839  LR: 0.000133  \n",
      "Epoch: [7][10/19] Elapsed 0m 1s (remain 0m 1s) Loss: 0.2539(0.2539) Grad: 17.4128  LR: 0.000133  \n",
      "Epoch: [7][18/19] Elapsed 0m 2s (remain 0m 0s) Loss: 0.2903(0.2725) Grad: 23.7878  LR: 0.000133  \n",
      "EVAL: [0/3] Elapsed 0m 0s (remain 0m 0s) Loss: 0.5022(0.5022) \n"
     ]
    },
    {
     "name": "stderr",
     "output_type": "stream",
     "text": [
      "Epoch 7 - avg_train_loss: 0.2725  avg_val_loss: 0.4446  time: 3s\n",
      "Epoch 7 - Score: 0.4476\n"
     ]
    },
    {
     "name": "stdout",
     "output_type": "stream",
     "text": [
      "EVAL: [2/3] Elapsed 0m 0s (remain 0m 0s) Loss: 0.4383(0.4446) \n",
      "Epoch: [8][0/19] Elapsed 0m 0s (remain 0m 2s) Loss: 0.4010(0.4010) Grad: 24.5583  LR: 0.000057  \n",
      "Epoch: [8][10/19] Elapsed 0m 1s (remain 0m 1s) Loss: 0.3449(0.3490) Grad: 26.3438  LR: 0.000057  \n",
      "Epoch: [8][18/19] Elapsed 0m 2s (remain 0m 0s) Loss: 0.2098(0.3231) Grad: 14.1207  LR: 0.000057  \n",
      "EVAL: [0/3] Elapsed 0m 0s (remain 0m 0s) Loss: 0.3150(0.3150) \n"
     ]
    },
    {
     "name": "stderr",
     "output_type": "stream",
     "text": [
      "Epoch 8 - avg_train_loss: 0.3231  avg_val_loss: 0.3132  time: 4s\n",
      "Epoch 8 - Score: 0.3140\n"
     ]
    },
    {
     "name": "stdout",
     "output_type": "stream",
     "text": [
      "EVAL: [2/3] Elapsed 0m 0s (remain 0m 0s) Loss: 0.3563(0.3132) \n",
      "Epoch: [9][0/19] Elapsed 0m 0s (remain 0m 2s) Loss: 0.2161(0.2161) Grad: 14.6064  LR: 0.000009  \n",
      "Epoch: [9][10/19] Elapsed 0m 1s (remain 0m 1s) Loss: 0.2055(0.1820) Grad: 12.5136  LR: 0.000009  \n",
      "Epoch: [9][18/19] Elapsed 0m 2s (remain 0m 0s) Loss: 0.1533(0.1766) Grad: 4.8090  LR: 0.000009  \n",
      "EVAL: [0/3] Elapsed 0m 0s (remain 0m 0s) Loss: 0.2371(0.2371) \n"
     ]
    },
    {
     "name": "stderr",
     "output_type": "stream",
     "text": [
      "Epoch 9 - avg_train_loss: 0.1766  avg_val_loss: 0.2407  time: 3s\n",
      "Epoch 9 - Score: 0.2435\n",
      "Epoch 9 - Save Best Score: 0.2435 Model\n"
     ]
    },
    {
     "name": "stdout",
     "output_type": "stream",
     "text": [
      "EVAL: [2/3] Elapsed 0m 0s (remain 0m 0s) Loss: 0.3187(0.2407) \n",
      "Epoch: [10][0/19] Elapsed 0m 0s (remain 0m 2s) Loss: 0.1505(0.1505) Grad: 4.3538  LR: 0.000001  \n",
      "Epoch: [10][10/19] Elapsed 0m 1s (remain 0m 1s) Loss: 0.1552(0.1613) Grad: 3.8977  LR: 0.000001  \n",
      "Epoch: [10][18/19] Elapsed 0m 2s (remain 0m 0s) Loss: 0.1022(0.1506) Grad: 5.8983  LR: 0.000001  \n",
      "EVAL: [0/3] Elapsed 0m 0s (remain 0m 0s) Loss: 0.2471(0.2471) \n"
     ]
    },
    {
     "name": "stderr",
     "output_type": "stream",
     "text": [
      "Epoch 10 - avg_train_loss: 0.1506  avg_val_loss: 0.2450  time: 4s\n",
      "Epoch 10 - Score: 0.2472\n"
     ]
    },
    {
     "name": "stdout",
     "output_type": "stream",
     "text": [
      "EVAL: [2/3] Elapsed 0m 0s (remain 0m 0s) Loss: 0.3099(0.2450) \n",
      "Epoch: [11][0/19] Elapsed 0m 0s (remain 0m 2s) Loss: 0.1226(0.1226) Grad: 4.6176  LR: 0.000050  \n",
      "Epoch: [11][10/19] Elapsed 0m 1s (remain 0m 1s) Loss: 0.1142(0.1428) Grad: 8.3351  LR: 0.000050  \n",
      "Epoch: [11][18/19] Elapsed 0m 2s (remain 0m 0s) Loss: 0.1516(0.1379) Grad: 6.9064  LR: 0.000050  \n",
      "EVAL: [0/3] Elapsed 0m 0s (remain 0m 0s) Loss: 0.2081(0.2081) \n"
     ]
    },
    {
     "name": "stderr",
     "output_type": "stream",
     "text": [
      "Epoch 11 - avg_train_loss: 0.1379  avg_val_loss: 0.2241  time: 4s\n",
      "Epoch 11 - Score: 0.2260\n",
      "Epoch 11 - Save Best Score: 0.2260 Model\n"
     ]
    },
    {
     "name": "stdout",
     "output_type": "stream",
     "text": [
      "EVAL: [2/3] Elapsed 0m 0s (remain 0m 0s) Loss: 0.2890(0.2241) \n",
      "Epoch: [12][0/19] Elapsed 0m 0s (remain 0m 2s) Loss: 0.1385(0.1385) Grad: 3.7016  LR: 0.000224  \n",
      "Epoch: [12][10/19] Elapsed 0m 1s (remain 0m 1s) Loss: 0.1238(0.1578) Grad: 8.2103  LR: 0.000224  \n",
      "Epoch: [12][18/19] Elapsed 0m 2s (remain 0m 0s) Loss: 0.1533(0.1573) Grad: 4.5023  LR: 0.000224  \n",
      "EVAL: [0/3] Elapsed 0m 0s (remain 0m 0s) Loss: 0.2452(0.2452) \n"
     ]
    },
    {
     "name": "stderr",
     "output_type": "stream",
     "text": [
      "Epoch 12 - avg_train_loss: 0.1573  avg_val_loss: 0.2572  time: 4s\n",
      "Epoch 12 - Score: 0.2584\n"
     ]
    },
    {
     "name": "stdout",
     "output_type": "stream",
     "text": [
      "EVAL: [2/3] Elapsed 0m 0s (remain 0m 0s) Loss: 0.3128(0.2572) \n",
      "Epoch: [13][0/19] Elapsed 0m 0s (remain 0m 2s) Loss: 0.1565(0.1565) Grad: 13.5349  LR: 0.000133  \n",
      "Epoch: [13][10/19] Elapsed 0m 1s (remain 0m 1s) Loss: 0.1845(0.2115) Grad: 19.2970  LR: 0.000133  \n",
      "Epoch: [13][18/19] Elapsed 0m 2s (remain 0m 0s) Loss: 0.1675(0.2004) Grad: 3.8979  LR: 0.000133  \n",
      "EVAL: [0/3] Elapsed 0m 0s (remain 0m 0s) Loss: 0.2322(0.2322) \n"
     ]
    },
    {
     "name": "stderr",
     "output_type": "stream",
     "text": [
      "Epoch 13 - avg_train_loss: 0.2004  avg_val_loss: 0.2779  time: 4s\n",
      "Epoch 13 - Score: 0.2807\n"
     ]
    },
    {
     "name": "stdout",
     "output_type": "stream",
     "text": [
      "EVAL: [2/3] Elapsed 0m 0s (remain 0m 0s) Loss: 0.2958(0.2779) \n",
      "Epoch: [14][0/19] Elapsed 0m 0s (remain 0m 2s) Loss: 0.2057(0.2057) Grad: 13.7687  LR: 0.000057  \n",
      "Epoch: [14][10/19] Elapsed 0m 1s (remain 0m 1s) Loss: 0.2470(0.2134) Grad: 18.6620  LR: 0.000057  \n",
      "Epoch: [14][18/19] Elapsed 0m 2s (remain 0m 0s) Loss: 0.2588(0.2133) Grad: 21.7361  LR: 0.000057  \n",
      "EVAL: [0/3] Elapsed 0m 0s (remain 0m 0s) Loss: 0.2761(0.2761) \n"
     ]
    },
    {
     "name": "stderr",
     "output_type": "stream",
     "text": [
      "Epoch 14 - avg_train_loss: 0.2133  avg_val_loss: 0.2840  time: 4s\n",
      "Epoch 14 - Score: 0.2845\n"
     ]
    },
    {
     "name": "stdout",
     "output_type": "stream",
     "text": [
      "EVAL: [2/3] Elapsed 0m 0s (remain 0m 0s) Loss: 0.3177(0.2840) \n",
      "Epoch: [15][0/19] Elapsed 0m 0s (remain 0m 2s) Loss: 0.2353(0.2353) Grad: 18.5001  LR: 0.000009  \n",
      "Epoch: [15][10/19] Elapsed 0m 1s (remain 0m 1s) Loss: 0.1161(0.1635) Grad: 8.5157  LR: 0.000009  \n",
      "Epoch: [15][18/19] Elapsed 0m 2s (remain 0m 0s) Loss: 0.1601(0.1607) Grad: 3.8289  LR: 0.000009  \n",
      "EVAL: [0/3] Elapsed 0m 0s (remain 0m 0s) Loss: 0.1913(0.1913) \n"
     ]
    },
    {
     "name": "stderr",
     "output_type": "stream",
     "text": [
      "Epoch 15 - avg_train_loss: 0.1607  avg_val_loss: 0.2218  time: 4s\n",
      "Epoch 15 - Score: 0.2241\n",
      "Epoch 15 - Save Best Score: 0.2241 Model\n"
     ]
    },
    {
     "name": "stdout",
     "output_type": "stream",
     "text": [
      "EVAL: [2/3] Elapsed 0m 0s (remain 0m 0s) Loss: 0.2819(0.2218) \n",
      "Epoch: [16][0/19] Elapsed 0m 0s (remain 0m 2s) Loss: 0.1344(0.1344) Grad: 7.8314  LR: 0.000001  \n",
      "Epoch: [16][10/19] Elapsed 0m 1s (remain 0m 1s) Loss: 0.1018(0.1228) Grad: 8.5026  LR: 0.000001  \n",
      "Epoch: [16][18/19] Elapsed 0m 2s (remain 0m 0s) Loss: 0.1390(0.1230) Grad: 10.0504  LR: 0.000001  \n",
      "EVAL: [0/3] Elapsed 0m 0s (remain 0m 0s) Loss: 0.2106(0.2106) \n"
     ]
    },
    {
     "name": "stderr",
     "output_type": "stream",
     "text": [
      "Epoch 16 - avg_train_loss: 0.1230  avg_val_loss: 0.2237  time: 4s\n",
      "Epoch 16 - Score: 0.2250\n"
     ]
    },
    {
     "name": "stdout",
     "output_type": "stream",
     "text": [
      "EVAL: [2/3] Elapsed 0m 0s (remain 0m 0s) Loss: 0.2779(0.2237) \n",
      "Epoch: [17][0/19] Elapsed 0m 0s (remain 0m 2s) Loss: 0.1114(0.1114) Grad: 5.2028  LR: 0.000050  \n",
      "Epoch: [17][10/19] Elapsed 0m 1s (remain 0m 1s) Loss: 0.0912(0.1098) Grad: 6.3486  LR: 0.000050  \n",
      "Epoch: [17][18/19] Elapsed 0m 2s (remain 0m 0s) Loss: 0.1016(0.1045) Grad: 3.7031  LR: 0.000050  \n",
      "EVAL: [0/3] Elapsed 0m 0s (remain 0m 0s) Loss: 0.1737(0.1737) \n"
     ]
    },
    {
     "name": "stderr",
     "output_type": "stream",
     "text": [
      "Epoch 17 - avg_train_loss: 0.1045  avg_val_loss: 0.2019  time: 4s\n",
      "Epoch 17 - Score: 0.2046\n",
      "Epoch 17 - Save Best Score: 0.2046 Model\n"
     ]
    },
    {
     "name": "stdout",
     "output_type": "stream",
     "text": [
      "EVAL: [2/3] Elapsed 0m 0s (remain 0m 0s) Loss: 0.2701(0.2019) \n",
      "Epoch: [18][0/19] Elapsed 0m 0s (remain 0m 2s) Loss: 0.1381(0.1381) Grad: 14.0507  LR: 0.000224  \n",
      "Epoch: [18][10/19] Elapsed 0m 1s (remain 0m 1s) Loss: 0.1725(0.1409) Grad: 21.3347  LR: 0.000224  \n",
      "Epoch: [18][18/19] Elapsed 0m 2s (remain 0m 0s) Loss: 0.1410(0.1510) Grad: 17.1216  LR: 0.000224  \n",
      "EVAL: [0/3] Elapsed 0m 0s (remain 0m 0s) Loss: 0.2123(0.2123) \n"
     ]
    },
    {
     "name": "stderr",
     "output_type": "stream",
     "text": [
      "Epoch 18 - avg_train_loss: 0.1510  avg_val_loss: 0.2370  time: 4s\n",
      "Epoch 18 - Score: 0.2400\n"
     ]
    },
    {
     "name": "stdout",
     "output_type": "stream",
     "text": [
      "EVAL: [2/3] Elapsed 0m 0s (remain 0m 0s) Loss: 0.3194(0.2370) \n",
      "Epoch: [19][0/19] Elapsed 0m 0s (remain 0m 3s) Loss: 0.1140(0.1140) Grad: 16.2707  LR: 0.000133  \n",
      "Epoch: [19][10/19] Elapsed 0m 1s (remain 0m 1s) Loss: 0.1279(0.1695) Grad: 12.3451  LR: 0.000133  \n",
      "Epoch: [19][18/19] Elapsed 0m 2s (remain 0m 0s) Loss: 0.2640(0.2102) Grad: 16.4597  LR: 0.000133  \n",
      "EVAL: [0/3] Elapsed 0m 0s (remain 0m 0s) Loss: 0.3975(0.3975) \n"
     ]
    },
    {
     "name": "stderr",
     "output_type": "stream",
     "text": [
      "Epoch 19 - avg_train_loss: 0.2102  avg_val_loss: 0.3974  time: 4s\n",
      "Epoch 19 - Score: 0.3975\n"
     ]
    },
    {
     "name": "stdout",
     "output_type": "stream",
     "text": [
      "EVAL: [2/3] Elapsed 0m 0s (remain 0m 0s) Loss: 0.4106(0.3974) \n",
      "Epoch: [20][0/19] Elapsed 0m 0s (remain 0m 2s) Loss: 0.3783(0.3783) Grad: 22.7776  LR: 0.000057  \n",
      "Epoch: [20][10/19] Elapsed 0m 1s (remain 0m 1s) Loss: 0.1140(0.2021) Grad: 3.7894  LR: 0.000057  \n",
      "Epoch: [20][18/19] Elapsed 0m 2s (remain 0m 0s) Loss: 0.1615(0.1764) Grad: 14.1127  LR: 0.000057  \n",
      "EVAL: [0/3] Elapsed 0m 0s (remain 0m 0s) Loss: 0.2652(0.2652) \n"
     ]
    },
    {
     "name": "stderr",
     "output_type": "stream",
     "text": [
      "Epoch 20 - avg_train_loss: 0.1764  avg_val_loss: 0.2583  time: 4s\n",
      "Epoch 20 - Score: 0.2589\n"
     ]
    },
    {
     "name": "stdout",
     "output_type": "stream",
     "text": [
      "EVAL: [2/3] Elapsed 0m 0s (remain 0m 0s) Loss: 0.2878(0.2583) \n",
      "Epoch: [21][0/19] Elapsed 0m 0s (remain 0m 2s) Loss: 0.1756(0.1756) Grad: 11.8918  LR: 0.000009  \n",
      "Epoch: [21][10/19] Elapsed 0m 1s (remain 0m 1s) Loss: 0.1142(0.1566) Grad: 10.0757  LR: 0.000009  \n",
      "Epoch: [21][18/19] Elapsed 0m 2s (remain 0m 0s) Loss: 0.1169(0.1439) Grad: 5.4262  LR: 0.000009  \n",
      "EVAL: [0/3] Elapsed 0m 0s (remain 0m 0s) Loss: 0.2267(0.2267) \n"
     ]
    },
    {
     "name": "stderr",
     "output_type": "stream",
     "text": [
      "Epoch 21 - avg_train_loss: 0.1439  avg_val_loss: 0.2287  time: 3s\n",
      "Epoch 21 - Score: 0.2310\n"
     ]
    },
    {
     "name": "stdout",
     "output_type": "stream",
     "text": [
      "EVAL: [2/3] Elapsed 0m 0s (remain 0m 0s) Loss: 0.2972(0.2287) \n",
      "Epoch: [22][0/19] Elapsed 0m 0s (remain 0m 2s) Loss: 0.1214(0.1214) Grad: 8.1707  LR: 0.000001  \n",
      "Epoch: [22][10/19] Elapsed 0m 1s (remain 0m 1s) Loss: 0.1084(0.1090) Grad: 10.5838  LR: 0.000001  \n",
      "Epoch: [22][18/19] Elapsed 0m 2s (remain 0m 0s) Loss: 0.1054(0.1104) Grad: 5.8485  LR: 0.000001  \n",
      "EVAL: [0/3] Elapsed 0m 0s (remain 0m 0s) Loss: 0.1909(0.1909) \n"
     ]
    },
    {
     "name": "stderr",
     "output_type": "stream",
     "text": [
      "Epoch 22 - avg_train_loss: 0.1104  avg_val_loss: 0.2142  time: 3s\n",
      "Epoch 22 - Score: 0.2168\n"
     ]
    },
    {
     "name": "stdout",
     "output_type": "stream",
     "text": [
      "EVAL: [2/3] Elapsed 0m 0s (remain 0m 0s) Loss: 0.2864(0.2142) \n",
      "Epoch: [23][0/19] Elapsed 0m 0s (remain 0m 2s) Loss: 0.1130(0.1130) Grad: 4.1049  LR: 0.000050  \n",
      "Epoch: [23][10/19] Elapsed 0m 1s (remain 0m 1s) Loss: 0.0737(0.1024) Grad: 3.2497  LR: 0.000050  \n",
      "Epoch: [23][18/19] Elapsed 0m 2s (remain 0m 0s) Loss: 0.0790(0.0993) Grad: 7.3495  LR: 0.000050  \n",
      "EVAL: [0/3] Elapsed 0m 0s (remain 0m 0s) Loss: 0.1780(0.1780) \n"
     ]
    },
    {
     "name": "stderr",
     "output_type": "stream",
     "text": [
      "Epoch 23 - avg_train_loss: 0.0993  avg_val_loss: 0.1968  time: 4s\n",
      "Epoch 23 - Score: 0.1994\n",
      "Epoch 23 - Save Best Score: 0.1994 Model\n"
     ]
    },
    {
     "name": "stdout",
     "output_type": "stream",
     "text": [
      "EVAL: [2/3] Elapsed 0m 0s (remain 0m 0s) Loss: 0.2677(0.1968) \n",
      "Epoch: [24][0/19] Elapsed 0m 0s (remain 0m 2s) Loss: 0.1121(0.1121) Grad: 3.4822  LR: 0.000224  \n",
      "Epoch: [24][10/19] Elapsed 0m 1s (remain 0m 1s) Loss: 0.1504(0.1154) Grad: 20.4997  LR: 0.000224  \n",
      "Epoch: [24][18/19] Elapsed 0m 2s (remain 0m 0s) Loss: 0.1066(0.1264) Grad: 16.4905  LR: 0.000224  \n",
      "EVAL: [0/3] Elapsed 0m 0s (remain 0m 0s) Loss: 0.2347(0.2347) \n"
     ]
    },
    {
     "name": "stderr",
     "output_type": "stream",
     "text": [
      "Epoch 24 - avg_train_loss: 0.1264  avg_val_loss: 0.2597  time: 3s\n",
      "Epoch 24 - Score: 0.2616\n"
     ]
    },
    {
     "name": "stdout",
     "output_type": "stream",
     "text": [
      "EVAL: [2/3] Elapsed 0m 0s (remain 0m 0s) Loss: 0.3245(0.2597) \n",
      "Epoch: [25][0/19] Elapsed 0m 0s (remain 0m 2s) Loss: 0.1770(0.1770) Grad: 22.8162  LR: 0.000133  \n",
      "Epoch: [25][10/19] Elapsed 0m 1s (remain 0m 1s) Loss: 0.1380(0.1529) Grad: 4.4533  LR: 0.000133  \n",
      "Epoch: [25][18/19] Elapsed 0m 2s (remain 0m 0s) Loss: 0.1734(0.1532) Grad: 13.7283  LR: 0.000133  \n",
      "EVAL: [0/3] Elapsed 0m 0s (remain 0m 0s) Loss: 0.2189(0.2189) \n"
     ]
    },
    {
     "name": "stderr",
     "output_type": "stream",
     "text": [
      "Epoch 25 - avg_train_loss: 0.1532  avg_val_loss: 0.2292  time: 4s\n",
      "Epoch 25 - Score: 0.2307\n"
     ]
    },
    {
     "name": "stdout",
     "output_type": "stream",
     "text": [
      "EVAL: [2/3] Elapsed 0m 0s (remain 0m 0s) Loss: 0.2874(0.2292) \n",
      "Epoch: [26][0/19] Elapsed 0m 0s (remain 0m 2s) Loss: 0.1637(0.1637) Grad: 13.3927  LR: 0.000057  \n",
      "Epoch: [26][10/19] Elapsed 0m 1s (remain 0m 1s) Loss: 0.2008(0.1684) Grad: 15.6207  LR: 0.000057  \n",
      "Epoch: [26][18/19] Elapsed 0m 2s (remain 0m 0s) Loss: 0.1185(0.1594) Grad: 4.6643  LR: 0.000057  \n",
      "EVAL: [0/3] Elapsed 0m 0s (remain 0m 0s) Loss: 0.2061(0.2061) \n"
     ]
    },
    {
     "name": "stderr",
     "output_type": "stream",
     "text": [
      "Epoch 26 - avg_train_loss: 0.1594  avg_val_loss: 0.2229  time: 3s\n",
      "Epoch 26 - Score: 0.2278\n"
     ]
    },
    {
     "name": "stdout",
     "output_type": "stream",
     "text": [
      "EVAL: [2/3] Elapsed 0m 0s (remain 0m 0s) Loss: 0.3269(0.2229) \n",
      "Epoch: [27][0/19] Elapsed 0m 0s (remain 0m 2s) Loss: 0.1050(0.1050) Grad: 8.3310  LR: 0.000009  \n",
      "Epoch: [27][10/19] Elapsed 0m 1s (remain 0m 1s) Loss: 0.1208(0.1221) Grad: 2.8606  LR: 0.000009  \n",
      "Epoch: [27][18/19] Elapsed 0m 2s (remain 0m 0s) Loss: 0.1091(0.1183) Grad: 3.5078  LR: 0.000009  \n",
      "EVAL: [0/3] Elapsed 0m 0s (remain 0m 0s) Loss: 0.2037(0.2037) \n"
     ]
    },
    {
     "name": "stderr",
     "output_type": "stream",
     "text": [
      "Epoch 27 - avg_train_loss: 0.1183  avg_val_loss: 0.2111  time: 4s\n",
      "Epoch 27 - Score: 0.2142\n"
     ]
    },
    {
     "name": "stdout",
     "output_type": "stream",
     "text": [
      "EVAL: [2/3] Elapsed 0m 0s (remain 0m 0s) Loss: 0.2892(0.2111) \n",
      "Epoch: [28][0/19] Elapsed 0m 0s (remain 0m 2s) Loss: 0.0893(0.0893) Grad: 3.5142  LR: 0.000001  \n",
      "Epoch: [28][10/19] Elapsed 0m 1s (remain 0m 1s) Loss: 0.0815(0.0917) Grad: 5.0742  LR: 0.000001  \n",
      "Epoch: [28][18/19] Elapsed 0m 2s (remain 0m 0s) Loss: 0.0782(0.0915) Grad: 5.9462  LR: 0.000001  \n",
      "EVAL: [0/3] Elapsed 0m 0s (remain 0m 0s) Loss: 0.2022(0.2022) \n"
     ]
    },
    {
     "name": "stderr",
     "output_type": "stream",
     "text": [
      "Epoch 28 - avg_train_loss: 0.0915  avg_val_loss: 0.2066  time: 3s\n",
      "Epoch 28 - Score: 0.2103\n"
     ]
    },
    {
     "name": "stdout",
     "output_type": "stream",
     "text": [
      "EVAL: [2/3] Elapsed 0m 0s (remain 0m 0s) Loss: 0.2901(0.2066) \n",
      "Epoch: [29][0/19] Elapsed 0m 0s (remain 0m 2s) Loss: 0.0734(0.0734) Grad: 6.4709  LR: 0.000050  \n",
      "Epoch: [29][10/19] Elapsed 0m 1s (remain 0m 1s) Loss: 0.0832(0.1051) Grad: 16.5042  LR: 0.000050  \n",
      "Epoch: [29][18/19] Elapsed 0m 2s (remain 0m 0s) Loss: 0.1084(0.1006) Grad: 13.4974  LR: 0.000050  \n",
      "EVAL: [0/3] Elapsed 0m 0s (remain 0m 0s) Loss: 0.1800(0.1800) \n"
     ]
    },
    {
     "name": "stderr",
     "output_type": "stream",
     "text": [
      "Epoch 29 - avg_train_loss: 0.1006  avg_val_loss: 0.2052  time: 3s\n",
      "Epoch 29 - Score: 0.2084\n"
     ]
    },
    {
     "name": "stdout",
     "output_type": "stream",
     "text": [
      "EVAL: [2/3] Elapsed 0m 0s (remain 0m 0s) Loss: 0.2836(0.2052) \n",
      "Epoch: [30][0/19] Elapsed 0m 0s (remain 0m 2s) Loss: 0.0542(0.0542) Grad: 3.2297  LR: 0.000224  \n",
      "Epoch: [30][10/19] Elapsed 0m 1s (remain 0m 1s) Loss: 0.1472(0.1117) Grad: 21.9082  LR: 0.000224  \n",
      "Epoch: [30][18/19] Elapsed 0m 2s (remain 0m 0s) Loss: 0.2448(0.1392) Grad: 25.3346  LR: 0.000224  \n",
      "EVAL: [0/3] Elapsed 0m 0s (remain 0m 0s) Loss: 0.2070(0.2070) \n"
     ]
    },
    {
     "name": "stderr",
     "output_type": "stream",
     "text": [
      "Epoch 30 - avg_train_loss: 0.1392  avg_val_loss: 0.2273  time: 3s\n",
      "Epoch 30 - Score: 0.2300\n"
     ]
    },
    {
     "name": "stdout",
     "output_type": "stream",
     "text": [
      "EVAL: [2/3] Elapsed 0m 0s (remain 0m 0s) Loss: 0.3059(0.2273) \n",
      "Epoch: [31][0/19] Elapsed 0m 0s (remain 0m 2s) Loss: 0.1342(0.1342) Grad: 14.0274  LR: 0.000133  \n",
      "Epoch: [31][10/19] Elapsed 0m 1s (remain 0m 1s) Loss: 0.1931(0.1701) Grad: 15.9681  LR: 0.000133  \n",
      "Epoch: [31][18/19] Elapsed 0m 2s (remain 0m 0s) Loss: 0.1426(0.1645) Grad: 12.7809  LR: 0.000133  \n",
      "EVAL: [0/3] Elapsed 0m 0s (remain 0m 0s) Loss: 0.2603(0.2603) \n"
     ]
    },
    {
     "name": "stderr",
     "output_type": "stream",
     "text": [
      "Epoch 31 - avg_train_loss: 0.1645  avg_val_loss: 0.2745  time: 4s\n",
      "Epoch 31 - Score: 0.2756\n"
     ]
    },
    {
     "name": "stdout",
     "output_type": "stream",
     "text": [
      "EVAL: [2/3] Elapsed 0m 0s (remain 0m 0s) Loss: 0.3290(0.2745) \n",
      "Epoch: [32][0/19] Elapsed 0m 0s (remain 0m 2s) Loss: 0.1459(0.1459) Grad: 16.3517  LR: 0.000057  \n",
      "Epoch: [32][10/19] Elapsed 0m 1s (remain 0m 1s) Loss: 0.1190(0.1280) Grad: 10.0450  LR: 0.000057  \n",
      "Epoch: [32][18/19] Elapsed 0m 2s (remain 0m 0s) Loss: 0.1246(0.1416) Grad: 14.6737  LR: 0.000057  \n",
      "EVAL: [0/3] Elapsed 0m 0s (remain 0m 0s) Loss: 0.2141(0.2141) \n"
     ]
    },
    {
     "name": "stderr",
     "output_type": "stream",
     "text": [
      "Epoch 32 - avg_train_loss: 0.1416  avg_val_loss: 0.2327  time: 3s\n",
      "Epoch 32 - Score: 0.2342\n"
     ]
    },
    {
     "name": "stdout",
     "output_type": "stream",
     "text": [
      "EVAL: [2/3] Elapsed 0m 0s (remain 0m 0s) Loss: 0.2907(0.2327) \n",
      "Epoch: [33][0/19] Elapsed 0m 0s (remain 0m 2s) Loss: 0.1377(0.1377) Grad: 16.2743  LR: 0.000009  \n",
      "Epoch: [33][10/19] Elapsed 0m 1s (remain 0m 1s) Loss: 0.1013(0.1026) Grad: 4.6541  LR: 0.000009  \n",
      "Epoch: [33][18/19] Elapsed 0m 3s (remain 0m 0s) Loss: 0.1051(0.0991) Grad: 2.7591  LR: 0.000009  \n",
      "EVAL: [0/3] Elapsed 0m 0s (remain 0m 0s) Loss: 0.2093(0.2093) \n"
     ]
    },
    {
     "name": "stderr",
     "output_type": "stream",
     "text": [
      "Epoch 33 - avg_train_loss: 0.0991  avg_val_loss: 0.2137  time: 4s\n",
      "Epoch 33 - Score: 0.2153\n"
     ]
    },
    {
     "name": "stdout",
     "output_type": "stream",
     "text": [
      "EVAL: [2/3] Elapsed 0m 0s (remain 0m 0s) Loss: 0.2701(0.2137) \n",
      "Epoch: [34][0/19] Elapsed 0m 0s (remain 0m 2s) Loss: 0.0880(0.0880) Grad: 2.3787  LR: 0.000001  \n",
      "Epoch: [34][10/19] Elapsed 0m 1s (remain 0m 1s) Loss: 0.0910(0.0910) Grad: 5.1057  LR: 0.000001  \n",
      "Epoch: [34][18/19] Elapsed 0m 2s (remain 0m 0s) Loss: 0.0949(0.0895) Grad: 10.0929  LR: 0.000001  \n",
      "EVAL: [0/3] Elapsed 0m 0s (remain 0m 0s) Loss: 0.1941(0.1941) \n"
     ]
    },
    {
     "name": "stderr",
     "output_type": "stream",
     "text": [
      "Epoch 34 - avg_train_loss: 0.0895  avg_val_loss: 0.2048  time: 4s\n",
      "Epoch 34 - Score: 0.2070\n"
     ]
    },
    {
     "name": "stdout",
     "output_type": "stream",
     "text": [
      "EVAL: [2/3] Elapsed 0m 0s (remain 0m 0s) Loss: 0.2715(0.2048) \n",
      "Epoch: [35][0/19] Elapsed 0m 0s (remain 0m 2s) Loss: 0.0560(0.0560) Grad: 4.7599  LR: 0.000050  \n",
      "Epoch: [35][10/19] Elapsed 0m 1s (remain 0m 1s) Loss: 0.0870(0.0896) Grad: 3.9827  LR: 0.000050  \n",
      "Epoch: [35][18/19] Elapsed 0m 2s (remain 0m 0s) Loss: 0.0875(0.0930) Grad: 6.5488  LR: 0.000050  \n",
      "EVAL: [0/3] Elapsed 0m 0s (remain 0m 0s) Loss: 0.1901(0.1901) \n"
     ]
    },
    {
     "name": "stderr",
     "output_type": "stream",
     "text": [
      "Epoch 35 - avg_train_loss: 0.0930  avg_val_loss: 0.2180  time: 4s\n",
      "Epoch 35 - Score: 0.2236\n"
     ]
    },
    {
     "name": "stdout",
     "output_type": "stream",
     "text": [
      "EVAL: [2/3] Elapsed 0m 0s (remain 0m 0s) Loss: 0.3274(0.2180) \n",
      "Epoch: [36][0/19] Elapsed 0m 0s (remain 0m 2s) Loss: 0.0910(0.0910) Grad: 12.1126  LR: 0.000224  \n",
      "Epoch: [36][10/19] Elapsed 0m 1s (remain 0m 1s) Loss: 0.1296(0.1174) Grad: 11.3645  LR: 0.000224  \n",
      "Epoch: [36][18/19] Elapsed 0m 2s (remain 0m 0s) Loss: 0.1672(0.1241) Grad: 21.0111  LR: 0.000224  \n",
      "EVAL: [0/3] Elapsed 0m 0s (remain 0m 0s) Loss: 0.2497(0.2497) \n"
     ]
    },
    {
     "name": "stderr",
     "output_type": "stream",
     "text": [
      "Epoch 36 - avg_train_loss: 0.1241  avg_val_loss: 0.2534  time: 4s\n",
      "Epoch 36 - Score: 0.2553\n"
     ]
    },
    {
     "name": "stdout",
     "output_type": "stream",
     "text": [
      "EVAL: [2/3] Elapsed 0m 0s (remain 0m 0s) Loss: 0.3190(0.2534) \n",
      "Epoch: [37][0/19] Elapsed 0m 0s (remain 0m 2s) Loss: 0.1528(0.1528) Grad: 20.0878  LR: 0.000133  \n",
      "Epoch: [37][10/19] Elapsed 0m 1s (remain 0m 1s) Loss: 0.1792(0.1437) Grad: 21.1090  LR: 0.000133  \n",
      "Epoch: [37][18/19] Elapsed 0m 2s (remain 0m 0s) Loss: 0.1577(0.1417) Grad: 8.3082  LR: 0.000133  \n",
      "EVAL: [0/3] Elapsed 0m 0s (remain 0m 0s) Loss: 0.2523(0.2523) \n"
     ]
    },
    {
     "name": "stderr",
     "output_type": "stream",
     "text": [
      "Epoch 37 - avg_train_loss: 0.1417  avg_val_loss: 0.2432  time: 4s\n",
      "Epoch 37 - Score: 0.2443\n"
     ]
    },
    {
     "name": "stdout",
     "output_type": "stream",
     "text": [
      "EVAL: [2/3] Elapsed 0m 0s (remain 0m 0s) Loss: 0.2821(0.2432) \n",
      "Epoch: [38][0/19] Elapsed 0m 0s (remain 0m 2s) Loss: 0.1611(0.1611) Grad: 14.3932  LR: 0.000057  \n",
      "Epoch: [38][10/19] Elapsed 0m 1s (remain 0m 1s) Loss: 0.0871(0.1185) Grad: 4.0433  LR: 0.000057  \n",
      "Epoch: [38][18/19] Elapsed 0m 2s (remain 0m 0s) Loss: 0.1000(0.1145) Grad: 14.6248  LR: 0.000057  \n",
      "EVAL: [0/3] Elapsed 0m 0s (remain 0m 0s) Loss: 0.1964(0.1964) \n"
     ]
    },
    {
     "name": "stderr",
     "output_type": "stream",
     "text": [
      "Epoch 38 - avg_train_loss: 0.1145  avg_val_loss: 0.2050  time: 3s\n",
      "Epoch 38 - Score: 0.2088\n"
     ]
    },
    {
     "name": "stdout",
     "output_type": "stream",
     "text": [
      "EVAL: [2/3] Elapsed 0m 0s (remain 0m 0s) Loss: 0.2906(0.2050) \n",
      "Epoch: [39][0/19] Elapsed 0m 0s (remain 0m 2s) Loss: 0.0911(0.0911) Grad: 10.4468  LR: 0.000009  \n",
      "Epoch: [39][10/19] Elapsed 0m 1s (remain 0m 1s) Loss: 0.1076(0.0971) Grad: 5.1365  LR: 0.000009  \n",
      "Epoch: [39][18/19] Elapsed 0m 2s (remain 0m 0s) Loss: 0.0570(0.1005) Grad: 10.2610  LR: 0.000009  \n",
      "EVAL: [0/3] Elapsed 0m 0s (remain 0m 0s) Loss: 0.2113(0.2113) \n"
     ]
    },
    {
     "name": "stderr",
     "output_type": "stream",
     "text": [
      "Epoch 39 - avg_train_loss: 0.1005  avg_val_loss: 0.2189  time: 4s\n",
      "Epoch 39 - Score: 0.2214\n"
     ]
    },
    {
     "name": "stdout",
     "output_type": "stream",
     "text": [
      "EVAL: [2/3] Elapsed 0m 0s (remain 0m 0s) Loss: 0.2912(0.2189) \n",
      "Epoch: [40][0/19] Elapsed 0m 0s (remain 0m 2s) Loss: 0.0969(0.0969) Grad: 17.7350  LR: 0.000001  \n",
      "Epoch: [40][10/19] Elapsed 0m 1s (remain 0m 1s) Loss: 0.0948(0.0917) Grad: 3.9132  LR: 0.000001  \n",
      "Epoch: [40][18/19] Elapsed 0m 2s (remain 0m 0s) Loss: 0.0779(0.0889) Grad: 6.5880  LR: 0.000001  \n",
      "EVAL: [0/3] Elapsed 0m 0s (remain 0m 0s) Loss: 0.1633(0.1633) \n"
     ]
    },
    {
     "name": "stderr",
     "output_type": "stream",
     "text": [
      "Epoch 40 - avg_train_loss: 0.0889  avg_val_loss: 0.1901  time: 4s\n",
      "Epoch 40 - Score: 0.1949\n",
      "Epoch 40 - Save Best Score: 0.1949 Model\n"
     ]
    },
    {
     "name": "stdout",
     "output_type": "stream",
     "text": [
      "EVAL: [2/3] Elapsed 0m 0s (remain 0m 0s) Loss: 0.2839(0.1901) \n"
     ]
    },
    {
     "name": "stderr",
     "output_type": "stream",
     "text": [
      "========== fold: 2 result ==========\n",
      "Score: 0.1949\n",
      "========== fold: 3 training ==========\n"
     ]
    },
    {
     "name": "stdout",
     "output_type": "stream",
     "text": [
      "Epoch: [1][0/19] Elapsed 0m 0s (remain 0m 2s) Loss: 3.4563(3.4563) Grad: 24.9945  LR: 0.000100  \n",
      "Epoch: [1][10/19] Elapsed 0m 1s (remain 0m 1s) Loss: 1.0093(1.7291) Grad: 21.9670  LR: 0.000100  \n",
      "Epoch: [1][18/19] Elapsed 0m 2s (remain 0m 0s) Loss: 0.5407(1.3375) Grad: 12.9658  LR: 0.000100  \n",
      "EVAL: [0/3] Elapsed 0m 0s (remain 0m 0s) Loss: 0.6727(0.6727) \n"
     ]
    },
    {
     "name": "stderr",
     "output_type": "stream",
     "text": [
      "Epoch 1 - avg_train_loss: 1.3375  avg_val_loss: 0.6672  time: 4s\n",
      "Epoch 1 - Score: 0.6679\n",
      "Epoch 1 - Save Best Score: 0.6679 Model\n"
     ]
    },
    {
     "name": "stdout",
     "output_type": "stream",
     "text": [
      "EVAL: [2/3] Elapsed 0m 0s (remain 0m 0s) Loss: 0.6004(0.6672) \n",
      "Epoch: [2][0/19] Elapsed 0m 0s (remain 0m 2s) Loss: 0.7540(0.7540) Grad: 21.7274  LR: 0.000057  \n",
      "Epoch: [2][10/19] Elapsed 0m 1s (remain 0m 1s) Loss: 0.5084(0.5960) Grad: 3.9929  LR: 0.000057  \n",
      "Epoch: [2][18/19] Elapsed 0m 2s (remain 0m 0s) Loss: 0.2790(0.5191) Grad: 3.2476  LR: 0.000057  \n",
      "EVAL: [0/3] Elapsed 0m 0s (remain 0m 0s) Loss: 0.5941(0.5941) \n"
     ]
    },
    {
     "name": "stderr",
     "output_type": "stream",
     "text": [
      "Epoch 2 - avg_train_loss: 0.5191  avg_val_loss: 0.4939  time: 3s\n",
      "Epoch 2 - Score: 0.5011\n",
      "Epoch 2 - Save Best Score: 0.5011 Model\n"
     ]
    },
    {
     "name": "stdout",
     "output_type": "stream",
     "text": [
      "EVAL: [2/3] Elapsed 0m 0s (remain 0m 0s) Loss: 0.4091(0.4939) \n",
      "Epoch: [3][0/19] Elapsed 0m 0s (remain 0m 2s) Loss: 0.5039(0.5039) Grad: 14.4806  LR: 0.000009  \n",
      "Epoch: [3][10/19] Elapsed 0m 1s (remain 0m 1s) Loss: 0.4287(0.3756) Grad: 13.0167  LR: 0.000009  \n",
      "Epoch: [3][18/19] Elapsed 0m 2s (remain 0m 0s) Loss: 0.3810(0.3512) Grad: 11.2416  LR: 0.000009  \n",
      "EVAL: [0/3] Elapsed 0m 0s (remain 0m 0s) Loss: 0.4199(0.4199) \n"
     ]
    },
    {
     "name": "stderr",
     "output_type": "stream",
     "text": [
      "Epoch 3 - avg_train_loss: 0.3512  avg_val_loss: 0.3605  time: 4s\n",
      "Epoch 3 - Score: 0.3640\n",
      "Epoch 3 - Save Best Score: 0.3640 Model\n"
     ]
    },
    {
     "name": "stdout",
     "output_type": "stream",
     "text": [
      "EVAL: [2/3] Elapsed 0m 0s (remain 0m 0s) Loss: 0.3041(0.3605) \n",
      "Epoch: [4][0/19] Elapsed 0m 0s (remain 0m 2s) Loss: 0.2890(0.2890) Grad: 9.1647  LR: 0.000001  \n",
      "Epoch: [4][10/19] Elapsed 0m 1s (remain 0m 1s) Loss: 0.3313(0.2954) Grad: 8.6444  LR: 0.000001  \n",
      "Epoch: [4][18/19] Elapsed 0m 2s (remain 0m 0s) Loss: 0.2755(0.2968) Grad: 3.3702  LR: 0.000001  \n",
      "EVAL: [0/3] Elapsed 0m 0s (remain 0m 0s) Loss: 0.4291(0.4291) \n"
     ]
    },
    {
     "name": "stderr",
     "output_type": "stream",
     "text": [
      "Epoch 4 - avg_train_loss: 0.2968  avg_val_loss: 0.3612  time: 4s\n",
      "Epoch 4 - Score: 0.3657\n"
     ]
    },
    {
     "name": "stdout",
     "output_type": "stream",
     "text": [
      "EVAL: [2/3] Elapsed 0m 0s (remain 0m 0s) Loss: 0.3087(0.3612) \n",
      "Epoch: [5][0/19] Elapsed 0m 0s (remain 0m 2s) Loss: 0.2429(0.2429) Grad: 3.7554  LR: 0.000050  \n",
      "Epoch: [5][10/19] Elapsed 0m 1s (remain 0m 1s) Loss: 0.2115(0.3198) Grad: 3.5984  LR: 0.000050  \n",
      "Epoch: [5][18/19] Elapsed 0m 2s (remain 0m 0s) Loss: 0.2789(0.2841) Grad: 9.3871  LR: 0.000050  \n",
      "EVAL: [0/3] Elapsed 0m 0s (remain 0m 0s) Loss: 0.3845(0.3845) \n"
     ]
    },
    {
     "name": "stderr",
     "output_type": "stream",
     "text": [
      "Epoch 5 - avg_train_loss: 0.2841  avg_val_loss: 0.3322  time: 4s\n",
      "Epoch 5 - Score: 0.3354\n",
      "Epoch 5 - Save Best Score: 0.3354 Model\n"
     ]
    },
    {
     "name": "stdout",
     "output_type": "stream",
     "text": [
      "EVAL: [2/3] Elapsed 0m 0s (remain 0m 0s) Loss: 0.2682(0.3322) \n",
      "Epoch: [6][0/19] Elapsed 0m 0s (remain 0m 2s) Loss: 0.2708(0.2708) Grad: 10.8757  LR: 0.000224  \n",
      "Epoch: [6][10/19] Elapsed 0m 1s (remain 0m 1s) Loss: 0.1719(0.2380) Grad: 3.9727  LR: 0.000224  \n",
      "Epoch: [6][18/19] Elapsed 0m 2s (remain 0m 0s) Loss: 0.1896(0.2384) Grad: 6.2723  LR: 0.000224  \n",
      "EVAL: [0/3] Elapsed 0m 0s (remain 0m 0s) Loss: 0.3345(0.3345) \n"
     ]
    },
    {
     "name": "stderr",
     "output_type": "stream",
     "text": [
      "Epoch 6 - avg_train_loss: 0.2384  avg_val_loss: 0.3428  time: 4s\n",
      "Epoch 6 - Score: 0.3432\n"
     ]
    },
    {
     "name": "stdout",
     "output_type": "stream",
     "text": [
      "EVAL: [2/3] Elapsed 0m 0s (remain 0m 0s) Loss: 0.3185(0.3428) \n",
      "Epoch: [7][0/19] Elapsed 0m 0s (remain 0m 2s) Loss: 0.3389(0.3389) Grad: 19.4940  LR: 0.000133  \n",
      "Epoch: [7][10/19] Elapsed 0m 1s (remain 0m 1s) Loss: 0.2484(0.2231) Grad: 5.4913  LR: 0.000133  \n",
      "Epoch: [7][18/19] Elapsed 0m 2s (remain 0m 0s) Loss: 0.2664(0.2424) Grad: 14.0492  LR: 0.000133  \n",
      "EVAL: [0/3] Elapsed 0m 0s (remain 0m 0s) Loss: 0.4765(0.4765) \n"
     ]
    },
    {
     "name": "stderr",
     "output_type": "stream",
     "text": [
      "Epoch 7 - avg_train_loss: 0.2424  avg_val_loss: 0.4325  time: 4s\n",
      "Epoch 7 - Score: 0.4341\n"
     ]
    },
    {
     "name": "stdout",
     "output_type": "stream",
     "text": [
      "EVAL: [2/3] Elapsed 0m 0s (remain 0m 0s) Loss: 0.3887(0.4325) \n",
      "Epoch: [8][0/19] Elapsed 0m 0s (remain 0m 2s) Loss: 0.4497(0.4497) Grad: 23.1291  LR: 0.000057  \n",
      "Epoch: [8][10/19] Elapsed 0m 1s (remain 0m 1s) Loss: 0.1861(0.2637) Grad: 13.4478  LR: 0.000057  \n",
      "Epoch: [8][18/19] Elapsed 0m 2s (remain 0m 0s) Loss: 0.2428(0.2444) Grad: 13.0348  LR: 0.000057  \n",
      "EVAL: [0/3] Elapsed 0m 0s (remain 0m 0s) Loss: 0.2991(0.2991) \n"
     ]
    },
    {
     "name": "stderr",
     "output_type": "stream",
     "text": [
      "Epoch 8 - avg_train_loss: 0.2444  avg_val_loss: 0.2843  time: 4s\n",
      "Epoch 8 - Score: 0.2847\n",
      "Epoch 8 - Save Best Score: 0.2847 Model\n"
     ]
    },
    {
     "name": "stdout",
     "output_type": "stream",
     "text": [
      "EVAL: [2/3] Elapsed 0m 0s (remain 0m 0s) Loss: 0.2624(0.2843) \n",
      "Epoch: [9][0/19] Elapsed 0m 0s (remain 0m 2s) Loss: 0.1330(0.1330) Grad: 3.5992  LR: 0.000009  \n",
      "Epoch: [9][10/19] Elapsed 0m 1s (remain 0m 1s) Loss: 0.1640(0.1561) Grad: 5.2003  LR: 0.000009  \n",
      "Epoch: [9][18/19] Elapsed 0m 2s (remain 0m 0s) Loss: 0.1899(0.1641) Grad: 13.6771  LR: 0.000009  \n",
      "EVAL: [0/3] Elapsed 0m 0s (remain 0m 0s) Loss: 0.3123(0.3123) \n"
     ]
    },
    {
     "name": "stderr",
     "output_type": "stream",
     "text": [
      "Epoch 9 - avg_train_loss: 0.1641  avg_val_loss: 0.2847  time: 3s\n",
      "Epoch 9 - Score: 0.2859\n"
     ]
    },
    {
     "name": "stdout",
     "output_type": "stream",
     "text": [
      "EVAL: [2/3] Elapsed 0m 0s (remain 0m 0s) Loss: 0.2411(0.2847) \n",
      "Epoch: [10][0/19] Elapsed 0m 0s (remain 0m 2s) Loss: 0.1435(0.1435) Grad: 3.1504  LR: 0.000001  \n",
      "Epoch: [10][10/19] Elapsed 0m 1s (remain 0m 1s) Loss: 0.1242(0.1320) Grad: 4.8011  LR: 0.000001  \n",
      "Epoch: [10][18/19] Elapsed 0m 2s (remain 0m 0s) Loss: 0.1275(0.1359) Grad: 3.9396  LR: 0.000001  \n",
      "EVAL: [0/3] Elapsed 0m 0s (remain 0m 0s) Loss: 0.2750(0.2750) \n"
     ]
    },
    {
     "name": "stderr",
     "output_type": "stream",
     "text": [
      "Epoch 10 - avg_train_loss: 0.1359  avg_val_loss: 0.2667  time: 3s\n",
      "Epoch 10 - Score: 0.2668\n",
      "Epoch 10 - Save Best Score: 0.2668 Model\n"
     ]
    },
    {
     "name": "stdout",
     "output_type": "stream",
     "text": [
      "EVAL: [2/3] Elapsed 0m 0s (remain 0m 0s) Loss: 0.2567(0.2667) \n",
      "Epoch: [11][0/19] Elapsed 0m 0s (remain 0m 2s) Loss: 0.1641(0.1641) Grad: 3.9159  LR: 0.000050  \n",
      "Epoch: [11][10/19] Elapsed 0m 1s (remain 0m 1s) Loss: 0.1202(0.1373) Grad: 4.8769  LR: 0.000050  \n",
      "Epoch: [11][18/19] Elapsed 0m 2s (remain 0m 0s) Loss: 0.1069(0.1351) Grad: 9.0527  LR: 0.000050  \n",
      "EVAL: [0/3] Elapsed 0m 0s (remain 0m 0s) Loss: 0.3014(0.3014) \n"
     ]
    },
    {
     "name": "stderr",
     "output_type": "stream",
     "text": [
      "Epoch 11 - avg_train_loss: 0.1351  avg_val_loss: 0.2747  time: 4s\n",
      "Epoch 11 - Score: 0.2757\n"
     ]
    },
    {
     "name": "stdout",
     "output_type": "stream",
     "text": [
      "EVAL: [2/3] Elapsed 0m 0s (remain 0m 0s) Loss: 0.2466(0.2747) \n",
      "Epoch: [12][0/19] Elapsed 0m 0s (remain 0m 2s) Loss: 0.1088(0.1088) Grad: 6.4927  LR: 0.000224  \n",
      "Epoch: [12][10/19] Elapsed 0m 1s (remain 0m 1s) Loss: 0.1535(0.1828) Grad: 13.0841  LR: 0.000224  \n",
      "Epoch: [12][18/19] Elapsed 0m 2s (remain 0m 0s) Loss: 0.1497(0.1801) Grad: 3.5562  LR: 0.000224  \n",
      "EVAL: [0/3] Elapsed 0m 0s (remain 0m 0s) Loss: 0.3303(0.3303) \n"
     ]
    },
    {
     "name": "stderr",
     "output_type": "stream",
     "text": [
      "Epoch 12 - avg_train_loss: 0.1801  avg_val_loss: 0.2818  time: 4s\n",
      "Epoch 12 - Score: 0.2847\n"
     ]
    },
    {
     "name": "stdout",
     "output_type": "stream",
     "text": [
      "EVAL: [2/3] Elapsed 0m 0s (remain 0m 0s) Loss: 0.2513(0.2818) \n",
      "Epoch: [13][0/19] Elapsed 0m 0s (remain 0m 2s) Loss: 0.1575(0.1575) Grad: 6.3795  LR: 0.000133  \n",
      "Epoch: [13][10/19] Elapsed 0m 1s (remain 0m 1s) Loss: 0.1897(0.1629) Grad: 3.8557  LR: 0.000133  \n",
      "Epoch: [13][18/19] Elapsed 0m 2s (remain 0m 0s) Loss: 0.1959(0.1702) Grad: 14.7209  LR: 0.000133  \n",
      "EVAL: [0/3] Elapsed 0m 0s (remain 0m 0s) Loss: 0.3168(0.3168) \n"
     ]
    },
    {
     "name": "stderr",
     "output_type": "stream",
     "text": [
      "Epoch 13 - avg_train_loss: 0.1702  avg_val_loss: 0.3056  time: 4s\n",
      "Epoch 13 - Score: 0.3062\n"
     ]
    },
    {
     "name": "stdout",
     "output_type": "stream",
     "text": [
      "EVAL: [2/3] Elapsed 0m 0s (remain 0m 0s) Loss: 0.2638(0.3056) \n",
      "Epoch: [14][0/19] Elapsed 0m 0s (remain 0m 2s) Loss: 0.1605(0.1605) Grad: 16.3728  LR: 0.000057  \n",
      "Epoch: [14][10/19] Elapsed 0m 1s (remain 0m 1s) Loss: 0.1734(0.1638) Grad: 16.5757  LR: 0.000057  \n",
      "Epoch: [14][18/19] Elapsed 0m 2s (remain 0m 0s) Loss: 0.1831(0.1738) Grad: 15.5522  LR: 0.000057  \n",
      "EVAL: [0/3] Elapsed 0m 0s (remain 0m 0s) Loss: 0.3191(0.3191) \n"
     ]
    },
    {
     "name": "stderr",
     "output_type": "stream",
     "text": [
      "Epoch 14 - avg_train_loss: 0.1738  avg_val_loss: 0.2824  time: 4s\n",
      "Epoch 14 - Score: 0.2841\n"
     ]
    },
    {
     "name": "stdout",
     "output_type": "stream",
     "text": [
      "EVAL: [2/3] Elapsed 0m 0s (remain 0m 0s) Loss: 0.2473(0.2824) \n",
      "Epoch: [15][0/19] Elapsed 0m 0s (remain 0m 2s) Loss: 0.1502(0.1502) Grad: 12.1429  LR: 0.000009  \n",
      "Epoch: [15][10/19] Elapsed 0m 1s (remain 0m 1s) Loss: 0.1460(0.1496) Grad: 5.1981  LR: 0.000009  \n",
      "Epoch: [15][18/19] Elapsed 0m 2s (remain 0m 0s) Loss: 0.0894(0.1368) Grad: 5.3508  LR: 0.000009  \n",
      "EVAL: [0/3] Elapsed 0m 0s (remain 0m 0s) Loss: 0.3321(0.3321) \n"
     ]
    },
    {
     "name": "stderr",
     "output_type": "stream",
     "text": [
      "Epoch 15 - avg_train_loss: 0.1368  avg_val_loss: 0.2829  time: 4s\n",
      "Epoch 15 - Score: 0.2859\n"
     ]
    },
    {
     "name": "stdout",
     "output_type": "stream",
     "text": [
      "EVAL: [2/3] Elapsed 0m 0s (remain 0m 0s) Loss: 0.2485(0.2829) \n",
      "Epoch: [16][0/19] Elapsed 0m 0s (remain 0m 2s) Loss: 0.0889(0.0889) Grad: 6.3919  LR: 0.000001  \n",
      "Epoch: [16][10/19] Elapsed 0m 1s (remain 0m 1s) Loss: 0.1040(0.1190) Grad: 3.5429  LR: 0.000001  \n",
      "Epoch: [16][18/19] Elapsed 0m 2s (remain 0m 0s) Loss: 0.1031(0.1135) Grad: 5.4616  LR: 0.000001  \n",
      "EVAL: [0/3] Elapsed 0m 0s (remain 0m 0s) Loss: 0.3034(0.3034) \n"
     ]
    },
    {
     "name": "stderr",
     "output_type": "stream",
     "text": [
      "Epoch 16 - avg_train_loss: 0.1135  avg_val_loss: 0.2580  time: 3s\n",
      "Epoch 16 - Score: 0.2609\n",
      "Epoch 16 - Save Best Score: 0.2609 Model\n"
     ]
    },
    {
     "name": "stdout",
     "output_type": "stream",
     "text": [
      "EVAL: [2/3] Elapsed 0m 0s (remain 0m 0s) Loss: 0.2110(0.2580) \n",
      "Epoch: [17][0/19] Elapsed 0m 0s (remain 0m 2s) Loss: 0.1013(0.1013) Grad: 9.7337  LR: 0.000050  \n",
      "Epoch: [17][10/19] Elapsed 0m 1s (remain 0m 1s) Loss: 0.0954(0.1109) Grad: 5.8712  LR: 0.000050  \n",
      "Epoch: [17][18/19] Elapsed 0m 2s (remain 0m 0s) Loss: 0.1012(0.1095) Grad: 11.4095  LR: 0.000050  \n",
      "EVAL: [0/3] Elapsed 0m 0s (remain 0m 0s) Loss: 0.2841(0.2841) \n"
     ]
    },
    {
     "name": "stderr",
     "output_type": "stream",
     "text": [
      "Epoch 17 - avg_train_loss: 0.1095  avg_val_loss: 0.2541  time: 4s\n",
      "Epoch 17 - Score: 0.2554\n",
      "Epoch 17 - Save Best Score: 0.2554 Model\n"
     ]
    },
    {
     "name": "stdout",
     "output_type": "stream",
     "text": [
      "EVAL: [2/3] Elapsed 0m 0s (remain 0m 0s) Loss: 0.2436(0.2541) \n",
      "Epoch: [18][0/19] Elapsed 0m 0s (remain 0m 2s) Loss: 0.0889(0.0889) Grad: 8.5772  LR: 0.000224  \n",
      "Epoch: [18][10/19] Elapsed 0m 1s (remain 0m 1s) Loss: 0.1392(0.1229) Grad: 7.8894  LR: 0.000224  \n",
      "Epoch: [18][18/19] Elapsed 0m 2s (remain 0m 0s) Loss: 0.1666(0.1337) Grad: 18.3837  LR: 0.000224  \n",
      "EVAL: [0/3] Elapsed 0m 0s (remain 0m 0s) Loss: 0.3212(0.3212) \n"
     ]
    },
    {
     "name": "stderr",
     "output_type": "stream",
     "text": [
      "Epoch 18 - avg_train_loss: 0.1337  avg_val_loss: 0.2833  time: 3s\n",
      "Epoch 18 - Score: 0.2851\n"
     ]
    },
    {
     "name": "stdout",
     "output_type": "stream",
     "text": [
      "EVAL: [2/3] Elapsed 0m 0s (remain 0m 0s) Loss: 0.2608(0.2833) \n",
      "Epoch: [19][0/19] Elapsed 0m 0s (remain 0m 2s) Loss: 0.1520(0.1520) Grad: 13.2561  LR: 0.000133  \n",
      "Epoch: [19][10/19] Elapsed 0m 1s (remain 0m 1s) Loss: 0.1907(0.1594) Grad: 18.7623  LR: 0.000133  \n",
      "Epoch: [19][18/19] Elapsed 0m 2s (remain 0m 0s) Loss: 0.2774(0.1735) Grad: 16.5089  LR: 0.000133  \n",
      "EVAL: [0/3] Elapsed 0m 0s (remain 0m 0s) Loss: 0.3005(0.3005) \n"
     ]
    },
    {
     "name": "stderr",
     "output_type": "stream",
     "text": [
      "Epoch 19 - avg_train_loss: 0.1735  avg_val_loss: 0.2786  time: 4s\n",
      "Epoch 19 - Score: 0.2792\n"
     ]
    },
    {
     "name": "stdout",
     "output_type": "stream",
     "text": [
      "EVAL: [2/3] Elapsed 0m 0s (remain 0m 0s) Loss: 0.2638(0.2786) \n",
      "Epoch: [20][0/19] Elapsed 0m 0s (remain 0m 2s) Loss: 0.1582(0.1582) Grad: 16.9948  LR: 0.000057  \n",
      "Epoch: [20][10/19] Elapsed 0m 1s (remain 0m 1s) Loss: 0.1568(0.1760) Grad: 11.2047  LR: 0.000057  \n",
      "Epoch: [20][18/19] Elapsed 0m 2s (remain 0m 0s) Loss: 0.1191(0.1597) Grad: 5.9641  LR: 0.000057  \n",
      "EVAL: [0/3] Elapsed 0m 0s (remain 0m 0s) Loss: 0.2898(0.2898) \n"
     ]
    },
    {
     "name": "stderr",
     "output_type": "stream",
     "text": [
      "Epoch 20 - avg_train_loss: 0.1597  avg_val_loss: 0.2557  time: 4s\n",
      "Epoch 20 - Score: 0.2578\n"
     ]
    },
    {
     "name": "stdout",
     "output_type": "stream",
     "text": [
      "EVAL: [2/3] Elapsed 0m 0s (remain 0m 0s) Loss: 0.2635(0.2557) \n",
      "Epoch: [21][0/19] Elapsed 0m 0s (remain 0m 2s) Loss: 0.1368(0.1368) Grad: 5.9105  LR: 0.000009  \n",
      "Epoch: [21][10/19] Elapsed 0m 1s (remain 0m 1s) Loss: 0.1012(0.1136) Grad: 2.7828  LR: 0.000009  \n",
      "Epoch: [21][18/19] Elapsed 0m 2s (remain 0m 0s) Loss: 0.0813(0.1193) Grad: 3.2525  LR: 0.000009  \n",
      "EVAL: [0/3] Elapsed 0m 0s (remain 0m 0s) Loss: 0.2644(0.2644) \n"
     ]
    },
    {
     "name": "stderr",
     "output_type": "stream",
     "text": [
      "Epoch 21 - avg_train_loss: 0.1193  avg_val_loss: 0.2519  time: 3s\n",
      "Epoch 21 - Score: 0.2523\n",
      "Epoch 21 - Save Best Score: 0.2523 Model\n"
     ]
    },
    {
     "name": "stdout",
     "output_type": "stream",
     "text": [
      "EVAL: [2/3] Elapsed 0m 0s (remain 0m 0s) Loss: 0.2626(0.2519) \n",
      "Epoch: [22][0/19] Elapsed 0m 0s (remain 0m 2s) Loss: 0.1133(0.1133) Grad: 9.1255  LR: 0.000001  \n",
      "Epoch: [22][10/19] Elapsed 0m 1s (remain 0m 1s) Loss: 0.0871(0.1086) Grad: 5.7800  LR: 0.000001  \n",
      "Epoch: [22][18/19] Elapsed 0m 2s (remain 0m 0s) Loss: 0.0987(0.0977) Grad: 3.9777  LR: 0.000001  \n",
      "EVAL: [0/3] Elapsed 0m 0s (remain 0m 0s) Loss: 0.2885(0.2885) \n"
     ]
    },
    {
     "name": "stderr",
     "output_type": "stream",
     "text": [
      "Epoch 22 - avg_train_loss: 0.0977  avg_val_loss: 0.2520  time: 4s\n",
      "Epoch 22 - Score: 0.2539\n"
     ]
    },
    {
     "name": "stdout",
     "output_type": "stream",
     "text": [
      "EVAL: [2/3] Elapsed 0m 0s (remain 0m 0s) Loss: 0.2385(0.2520) \n",
      "Epoch: [23][0/19] Elapsed 0m 0s (remain 0m 2s) Loss: 0.0817(0.0817) Grad: 3.9694  LR: 0.000050  \n",
      "Epoch: [23][10/19] Elapsed 0m 1s (remain 0m 1s) Loss: 0.0888(0.1069) Grad: 12.6237  LR: 0.000050  \n",
      "Epoch: [23][18/19] Elapsed 0m 2s (remain 0m 0s) Loss: 0.0831(0.0984) Grad: 4.5871  LR: 0.000050  \n",
      "EVAL: [0/3] Elapsed 0m 0s (remain 0m 0s) Loss: 0.2903(0.2903) \n"
     ]
    },
    {
     "name": "stderr",
     "output_type": "stream",
     "text": [
      "Epoch 23 - avg_train_loss: 0.0984  avg_val_loss: 0.2549  time: 3s\n",
      "Epoch 23 - Score: 0.2567\n"
     ]
    },
    {
     "name": "stdout",
     "output_type": "stream",
     "text": [
      "EVAL: [2/3] Elapsed 0m 0s (remain 0m 0s) Loss: 0.2420(0.2549) \n",
      "Epoch: [24][0/19] Elapsed 0m 0s (remain 0m 2s) Loss: 0.0707(0.0707) Grad: 2.9817  LR: 0.000224  \n",
      "Epoch: [24][10/19] Elapsed 0m 1s (remain 0m 1s) Loss: 0.1287(0.1057) Grad: 15.1334  LR: 0.000224  \n",
      "Epoch: [24][18/19] Elapsed 0m 2s (remain 0m 0s) Loss: 0.1839(0.1155) Grad: 14.8470  LR: 0.000224  \n",
      "EVAL: [0/3] Elapsed 0m 0s (remain 0m 0s) Loss: 0.2944(0.2944) \n"
     ]
    },
    {
     "name": "stderr",
     "output_type": "stream",
     "text": [
      "Epoch 24 - avg_train_loss: 0.1155  avg_val_loss: 0.2621  time: 4s\n",
      "Epoch 24 - Score: 0.2636\n"
     ]
    },
    {
     "name": "stdout",
     "output_type": "stream",
     "text": [
      "EVAL: [2/3] Elapsed 0m 0s (remain 0m 0s) Loss: 0.2487(0.2621) \n",
      "Epoch: [25][0/19] Elapsed 0m 0s (remain 0m 2s) Loss: 0.1097(0.1097) Grad: 5.8725  LR: 0.000133  \n",
      "Epoch: [25][10/19] Elapsed 0m 1s (remain 0m 1s) Loss: 0.1413(0.1325) Grad: 7.2260  LR: 0.000133  \n",
      "Epoch: [25][18/19] Elapsed 0m 2s (remain 0m 0s) Loss: 0.1324(0.1380) Grad: 14.3295  LR: 0.000133  \n",
      "EVAL: [0/3] Elapsed 0m 0s (remain 0m 0s) Loss: 0.3316(0.3316) \n"
     ]
    },
    {
     "name": "stderr",
     "output_type": "stream",
     "text": [
      "Epoch 25 - avg_train_loss: 0.1380  avg_val_loss: 0.2778  time: 4s\n",
      "Epoch 25 - Score: 0.2815\n"
     ]
    },
    {
     "name": "stdout",
     "output_type": "stream",
     "text": [
      "EVAL: [2/3] Elapsed 0m 0s (remain 0m 0s) Loss: 0.2422(0.2778) \n",
      "Epoch: [26][0/19] Elapsed 0m 0s (remain 0m 2s) Loss: 0.1528(0.1528) Grad: 8.1902  LR: 0.000057  \n",
      "Epoch: [26][10/19] Elapsed 0m 1s (remain 0m 1s) Loss: 0.1164(0.1478) Grad: 13.4023  LR: 0.000057  \n",
      "Epoch: [26][18/19] Elapsed 0m 2s (remain 0m 0s) Loss: 0.1602(0.1430) Grad: 12.9044  LR: 0.000057  \n",
      "EVAL: [0/3] Elapsed 0m 0s (remain 0m 0s) Loss: 0.3202(0.3202) \n"
     ]
    },
    {
     "name": "stderr",
     "output_type": "stream",
     "text": [
      "Epoch 26 - avg_train_loss: 0.1430  avg_val_loss: 0.2638  time: 4s\n",
      "Epoch 26 - Score: 0.2681\n"
     ]
    },
    {
     "name": "stdout",
     "output_type": "stream",
     "text": [
      "EVAL: [2/3] Elapsed 0m 0s (remain 0m 0s) Loss: 0.2303(0.2638) \n",
      "Epoch: [27][0/19] Elapsed 0m 0s (remain 0m 2s) Loss: 0.1204(0.1204) Grad: 12.7291  LR: 0.000009  \n",
      "Epoch: [27][10/19] Elapsed 0m 1s (remain 0m 1s) Loss: 0.1006(0.1038) Grad: 8.9187  LR: 0.000009  \n",
      "Epoch: [27][18/19] Elapsed 0m 2s (remain 0m 0s) Loss: 0.1230(0.1039) Grad: 8.2654  LR: 0.000009  \n",
      "EVAL: [0/3] Elapsed 0m 0s (remain 0m 0s) Loss: 0.3039(0.3039) \n"
     ]
    },
    {
     "name": "stderr",
     "output_type": "stream",
     "text": [
      "Epoch 27 - avg_train_loss: 0.1039  avg_val_loss: 0.2671  time: 4s\n",
      "Epoch 27 - Score: 0.2689\n"
     ]
    },
    {
     "name": "stdout",
     "output_type": "stream",
     "text": [
      "EVAL: [2/3] Elapsed 0m 0s (remain 0m 0s) Loss: 0.2517(0.2671) \n",
      "Epoch: [28][0/19] Elapsed 0m 0s (remain 0m 2s) Loss: 0.0740(0.0740) Grad: 2.8644  LR: 0.000001  \n",
      "Epoch: [28][10/19] Elapsed 0m 1s (remain 0m 1s) Loss: 0.1079(0.0945) Grad: 5.2781  LR: 0.000001  \n",
      "Epoch: [28][18/19] Elapsed 0m 2s (remain 0m 0s) Loss: 0.1034(0.0907) Grad: 5.6132  LR: 0.000001  \n",
      "EVAL: [0/3] Elapsed 0m 0s (remain 0m 0s) Loss: 0.2956(0.2956) \n"
     ]
    },
    {
     "name": "stderr",
     "output_type": "stream",
     "text": [
      "Epoch 28 - avg_train_loss: 0.0907  avg_val_loss: 0.2576  time: 4s\n",
      "Epoch 28 - Score: 0.2596\n"
     ]
    },
    {
     "name": "stdout",
     "output_type": "stream",
     "text": [
      "EVAL: [2/3] Elapsed 0m 0s (remain 0m 0s) Loss: 0.2284(0.2576) \n",
      "Epoch: [29][0/19] Elapsed 0m 0s (remain 0m 2s) Loss: 0.0939(0.0939) Grad: 2.9138  LR: 0.000050  \n",
      "Epoch: [29][10/19] Elapsed 0m 1s (remain 0m 1s) Loss: 0.0939(0.0808) Grad: 5.6799  LR: 0.000050  \n",
      "Epoch: [29][18/19] Elapsed 0m 2s (remain 0m 0s) Loss: 0.1107(0.0825) Grad: 2.5199  LR: 0.000050  \n",
      "EVAL: [0/3] Elapsed 0m 0s (remain 0m 0s) Loss: 0.2963(0.2963) \n"
     ]
    },
    {
     "name": "stderr",
     "output_type": "stream",
     "text": [
      "Epoch 29 - avg_train_loss: 0.0825  avg_val_loss: 0.2537  time: 4s\n",
      "Epoch 29 - Score: 0.2562\n"
     ]
    },
    {
     "name": "stdout",
     "output_type": "stream",
     "text": [
      "EVAL: [2/3] Elapsed 0m 0s (remain 0m 0s) Loss: 0.2179(0.2537) \n",
      "Epoch: [30][0/19] Elapsed 0m 0s (remain 0m 2s) Loss: 0.0694(0.0694) Grad: 6.0734  LR: 0.000224  \n",
      "Epoch: [30][10/19] Elapsed 0m 1s (remain 0m 1s) Loss: 0.1108(0.0875) Grad: 2.5044  LR: 0.000224  \n",
      "Epoch: [30][18/19] Elapsed 0m 2s (remain 0m 0s) Loss: 0.0949(0.0938) Grad: 12.7123  LR: 0.000224  \n",
      "EVAL: [0/3] Elapsed 0m 0s (remain 0m 0s) Loss: 0.2784(0.2784) \n"
     ]
    },
    {
     "name": "stderr",
     "output_type": "stream",
     "text": [
      "Epoch 30 - avg_train_loss: 0.0938  avg_val_loss: 0.2641  time: 3s\n",
      "Epoch 30 - Score: 0.2644\n"
     ]
    },
    {
     "name": "stdout",
     "output_type": "stream",
     "text": [
      "EVAL: [2/3] Elapsed 0m 0s (remain 0m 0s) Loss: 0.2520(0.2641) \n",
      "Epoch: [31][0/19] Elapsed 0m 0s (remain 0m 2s) Loss: 0.1011(0.1011) Grad: 6.4461  LR: 0.000133  \n",
      "Epoch: [31][10/19] Elapsed 0m 1s (remain 0m 1s) Loss: 0.1081(0.1605) Grad: 4.0482  LR: 0.000133  \n",
      "Epoch: [31][18/19] Elapsed 0m 2s (remain 0m 0s) Loss: 0.1234(0.1570) Grad: 9.6843  LR: 0.000133  \n",
      "EVAL: [0/3] Elapsed 0m 0s (remain 0m 0s) Loss: 0.3519(0.3519) \n"
     ]
    },
    {
     "name": "stderr",
     "output_type": "stream",
     "text": [
      "Epoch 31 - avg_train_loss: 0.1570  avg_val_loss: 0.2967  time: 3s\n",
      "Epoch 31 - Score: 0.3006\n"
     ]
    },
    {
     "name": "stdout",
     "output_type": "stream",
     "text": [
      "EVAL: [2/3] Elapsed 0m 0s (remain 0m 0s) Loss: 0.2839(0.2967) \n",
      "Epoch: [32][0/19] Elapsed 0m 0s (remain 0m 2s) Loss: 0.1795(0.1795) Grad: 14.3376  LR: 0.000057  \n",
      "Epoch: [32][10/19] Elapsed 0m 1s (remain 0m 1s) Loss: 0.0876(0.1377) Grad: 4.1566  LR: 0.000057  \n",
      "Epoch: [32][18/19] Elapsed 0m 2s (remain 0m 0s) Loss: 0.1264(0.1407) Grad: 13.7345  LR: 0.000057  \n",
      "EVAL: [0/3] Elapsed 0m 0s (remain 0m 0s) Loss: 0.2995(0.2995) \n"
     ]
    },
    {
     "name": "stderr",
     "output_type": "stream",
     "text": [
      "Epoch 32 - avg_train_loss: 0.1407  avg_val_loss: 0.2619  time: 3s\n",
      "Epoch 32 - Score: 0.2638\n"
     ]
    },
    {
     "name": "stdout",
     "output_type": "stream",
     "text": [
      "EVAL: [2/3] Elapsed 0m 0s (remain 0m 0s) Loss: 0.2428(0.2619) \n",
      "Epoch: [33][0/19] Elapsed 0m 0s (remain 0m 2s) Loss: 0.0846(0.0846) Grad: 10.4322  LR: 0.000009  \n",
      "Epoch: [33][10/19] Elapsed 0m 1s (remain 0m 1s) Loss: 0.0852(0.0957) Grad: 3.0417  LR: 0.000009  \n",
      "Epoch: [33][18/19] Elapsed 0m 2s (remain 0m 0s) Loss: 0.0877(0.0926) Grad: 2.6970  LR: 0.000009  \n",
      "EVAL: [0/3] Elapsed 0m 0s (remain 0m 0s) Loss: 0.2882(0.2882) \n"
     ]
    },
    {
     "name": "stderr",
     "output_type": "stream",
     "text": [
      "Epoch 33 - avg_train_loss: 0.0926  avg_val_loss: 0.2555  time: 4s\n",
      "Epoch 33 - Score: 0.2570\n"
     ]
    },
    {
     "name": "stdout",
     "output_type": "stream",
     "text": [
      "EVAL: [2/3] Elapsed 0m 0s (remain 0m 0s) Loss: 0.2359(0.2555) \n",
      "Epoch: [34][0/19] Elapsed 0m 0s (remain 0m 2s) Loss: 0.0863(0.0863) Grad: 10.5908  LR: 0.000001  \n",
      "Epoch: [34][10/19] Elapsed 0m 1s (remain 0m 1s) Loss: 0.0708(0.0783) Grad: 3.6164  LR: 0.000001  \n",
      "Epoch: [34][18/19] Elapsed 0m 2s (remain 0m 0s) Loss: 0.1331(0.0805) Grad: 4.7260  LR: 0.000001  \n",
      "EVAL: [0/3] Elapsed 0m 0s (remain 0m 0s) Loss: 0.3071(0.3071) \n"
     ]
    },
    {
     "name": "stderr",
     "output_type": "stream",
     "text": [
      "Epoch 34 - avg_train_loss: 0.0805  avg_val_loss: 0.2522  time: 3s\n",
      "Epoch 34 - Score: 0.2569\n"
     ]
    },
    {
     "name": "stdout",
     "output_type": "stream",
     "text": [
      "EVAL: [2/3] Elapsed 0m 0s (remain 0m 0s) Loss: 0.2482(0.2522) \n",
      "Epoch: [35][0/19] Elapsed 0m 0s (remain 0m 2s) Loss: 0.0842(0.0842) Grad: 5.9654  LR: 0.000050  \n",
      "Epoch: [35][10/19] Elapsed 0m 1s (remain 0m 1s) Loss: 0.0793(0.0753) Grad: 3.8807  LR: 0.000050  \n",
      "Epoch: [35][18/19] Elapsed 0m 2s (remain 0m 0s) Loss: 0.0530(0.0725) Grad: 5.9695  LR: 0.000050  \n",
      "EVAL: [0/3] Elapsed 0m 0s (remain 0m 0s) Loss: 0.2924(0.2924) \n"
     ]
    },
    {
     "name": "stderr",
     "output_type": "stream",
     "text": [
      "Epoch 35 - avg_train_loss: 0.0725  avg_val_loss: 0.2552  time: 3s\n",
      "Epoch 35 - Score: 0.2579\n"
     ]
    },
    {
     "name": "stdout",
     "output_type": "stream",
     "text": [
      "EVAL: [2/3] Elapsed 0m 0s (remain 0m 0s) Loss: 0.2712(0.2552) \n",
      "Epoch: [36][0/19] Elapsed 0m 0s (remain 0m 2s) Loss: 0.0504(0.0504) Grad: 2.8683  LR: 0.000224  \n",
      "Epoch: [36][10/19] Elapsed 0m 1s (remain 0m 1s) Loss: 0.1331(0.0955) Grad: 5.1048  LR: 0.000224  \n",
      "Epoch: [36][18/19] Elapsed 0m 2s (remain 0m 0s) Loss: 0.1486(0.1006) Grad: 9.9071  LR: 0.000224  \n",
      "EVAL: [0/3] Elapsed 0m 0s (remain 0m 0s) Loss: 0.3277(0.3277) \n"
     ]
    },
    {
     "name": "stderr",
     "output_type": "stream",
     "text": [
      "Epoch 36 - avg_train_loss: 0.1006  avg_val_loss: 0.2744  time: 3s\n",
      "Epoch 36 - Score: 0.2783\n"
     ]
    },
    {
     "name": "stdout",
     "output_type": "stream",
     "text": [
      "EVAL: [2/3] Elapsed 0m 0s (remain 0m 0s) Loss: 0.2562(0.2744) \n",
      "Epoch: [37][0/19] Elapsed 0m 0s (remain 0m 2s) Loss: 0.0893(0.0893) Grad: 8.0872  LR: 0.000133  \n",
      "Epoch: [37][10/19] Elapsed 0m 1s (remain 0m 1s) Loss: 0.0921(0.1209) Grad: 9.5098  LR: 0.000133  \n",
      "Epoch: [37][18/19] Elapsed 0m 2s (remain 0m 0s) Loss: 0.0763(0.1309) Grad: 9.6061  LR: 0.000133  \n",
      "EVAL: [0/3] Elapsed 0m 0s (remain 0m 0s) Loss: 0.3099(0.3099) \n"
     ]
    },
    {
     "name": "stderr",
     "output_type": "stream",
     "text": [
      "Epoch 37 - avg_train_loss: 0.1309  avg_val_loss: 0.2615  time: 3s\n",
      "Epoch 37 - Score: 0.2647\n"
     ]
    },
    {
     "name": "stdout",
     "output_type": "stream",
     "text": [
      "EVAL: [2/3] Elapsed 0m 0s (remain 0m 0s) Loss: 0.2328(0.2615) \n",
      "Epoch: [38][0/19] Elapsed 0m 0s (remain 0m 2s) Loss: 0.1097(0.1097) Grad: 3.4484  LR: 0.000057  \n",
      "Epoch: [38][10/19] Elapsed 0m 1s (remain 0m 1s) Loss: 0.1288(0.1148) Grad: 10.6163  LR: 0.000057  \n",
      "Epoch: [38][18/19] Elapsed 0m 2s (remain 0m 0s) Loss: 0.0930(0.1116) Grad: 5.1218  LR: 0.000057  \n",
      "EVAL: [0/3] Elapsed 0m 0s (remain 0m 0s) Loss: 0.3487(0.3487) \n"
     ]
    },
    {
     "name": "stderr",
     "output_type": "stream",
     "text": [
      "Epoch 38 - avg_train_loss: 0.1116  avg_val_loss: 0.2950  time: 4s\n",
      "Epoch 38 - Score: 0.2992\n"
     ]
    },
    {
     "name": "stdout",
     "output_type": "stream",
     "text": [
      "EVAL: [2/3] Elapsed 0m 0s (remain 0m 0s) Loss: 0.2995(0.2950) \n",
      "Epoch: [39][0/19] Elapsed 0m 0s (remain 0m 2s) Loss: 0.1266(0.1266) Grad: 18.6609  LR: 0.000009  \n",
      "Epoch: [39][10/19] Elapsed 0m 1s (remain 0m 1s) Loss: 0.0880(0.1026) Grad: 4.0772  LR: 0.000009  \n",
      "Epoch: [39][18/19] Elapsed 0m 2s (remain 0m 0s) Loss: 0.0610(0.0975) Grad: 2.7707  LR: 0.000009  \n",
      "EVAL: [0/3] Elapsed 0m 0s (remain 0m 0s) Loss: 0.2952(0.2952) \n"
     ]
    },
    {
     "name": "stderr",
     "output_type": "stream",
     "text": [
      "Epoch 39 - avg_train_loss: 0.0975  avg_val_loss: 0.2539  time: 3s\n",
      "Epoch 39 - Score: 0.2573\n"
     ]
    },
    {
     "name": "stdout",
     "output_type": "stream",
     "text": [
      "EVAL: [2/3] Elapsed 0m 0s (remain 0m 0s) Loss: 0.2719(0.2539) \n",
      "Epoch: [40][0/19] Elapsed 0m 0s (remain 0m 2s) Loss: 0.0653(0.0653) Grad: 3.5219  LR: 0.000001  \n",
      "Epoch: [40][10/19] Elapsed 0m 1s (remain 0m 1s) Loss: 0.0697(0.0749) Grad: 6.7198  LR: 0.000001  \n",
      "Epoch: [40][18/19] Elapsed 0m 2s (remain 0m 0s) Loss: 0.0862(0.0754) Grad: 7.2077  LR: 0.000001  \n",
      "EVAL: [0/3] Elapsed 0m 0s (remain 0m 0s) Loss: 0.2959(0.2959) \n"
     ]
    },
    {
     "name": "stderr",
     "output_type": "stream",
     "text": [
      "Epoch 40 - avg_train_loss: 0.0754  avg_val_loss: 0.2578  time: 4s\n",
      "Epoch 40 - Score: 0.2604\n",
      "========== fold: 3 result ==========\n",
      "Score: 0.2523\n",
      "========== fold: 4 training ==========\n"
     ]
    },
    {
     "name": "stdout",
     "output_type": "stream",
     "text": [
      "EVAL: [2/3] Elapsed 0m 0s (remain 0m 0s) Loss: 0.2666(0.2578) \n",
      "Epoch: [1][0/19] Elapsed 0m 0s (remain 0m 2s) Loss: 3.6424(3.6424) Grad: 24.7356  LR: 0.000100  \n",
      "Epoch: [1][10/19] Elapsed 0m 1s (remain 0m 1s) Loss: 1.0309(2.0111) Grad: 25.8455  LR: 0.000100  \n",
      "Epoch: [1][18/19] Elapsed 0m 2s (remain 0m 0s) Loss: 0.5617(1.5094) Grad: 9.6609  LR: 0.000100  \n",
      "EVAL: [0/3] Elapsed 0m 0s (remain 0m 0s) Loss: 0.6033(0.6033) \n"
     ]
    },
    {
     "name": "stderr",
     "output_type": "stream",
     "text": [
      "Epoch 1 - avg_train_loss: 1.5094  avg_val_loss: 0.5816  time: 3s\n",
      "Epoch 1 - Score: 0.5822\n",
      "Epoch 1 - Save Best Score: 0.5822 Model\n"
     ]
    },
    {
     "name": "stdout",
     "output_type": "stream",
     "text": [
      "EVAL: [2/3] Elapsed 0m 0s (remain 0m 0s) Loss: 0.5302(0.5816) \n",
      "Epoch: [2][0/19] Elapsed 0m 0s (remain 0m 2s) Loss: 0.5994(0.5994) Grad: 22.3826  LR: 0.000057  \n",
      "Epoch: [2][10/19] Elapsed 0m 1s (remain 0m 1s) Loss: 0.4241(0.4812) Grad: 17.0956  LR: 0.000057  \n",
      "Epoch: [2][18/19] Elapsed 0m 2s (remain 0m 0s) Loss: 0.3846(0.4513) Grad: 13.2156  LR: 0.000057  \n",
      "EVAL: [0/3] Elapsed 0m 0s (remain 0m 0s) Loss: 0.4510(0.4510) \n"
     ]
    },
    {
     "name": "stderr",
     "output_type": "stream",
     "text": [
      "Epoch 2 - avg_train_loss: 0.4513  avg_val_loss: 0.4093  time: 4s\n",
      "Epoch 2 - Score: 0.4108\n",
      "Epoch 2 - Save Best Score: 0.4108 Model\n"
     ]
    },
    {
     "name": "stdout",
     "output_type": "stream",
     "text": [
      "EVAL: [2/3] Elapsed 0m 0s (remain 0m 0s) Loss: 0.3773(0.4093) \n",
      "Epoch: [3][0/19] Elapsed 0m 0s (remain 0m 2s) Loss: 0.3489(0.3489) Grad: 18.1609  LR: 0.000009  \n",
      "Epoch: [3][10/19] Elapsed 0m 1s (remain 0m 1s) Loss: 0.4133(0.3270) Grad: 14.8368  LR: 0.000009  \n",
      "Epoch: [3][18/19] Elapsed 0m 2s (remain 0m 0s) Loss: 0.3696(0.3228) Grad: 7.5510  LR: 0.000009  \n",
      "EVAL: [0/3] Elapsed 0m 0s (remain 0m 0s) Loss: 0.4428(0.4428) \n"
     ]
    },
    {
     "name": "stderr",
     "output_type": "stream",
     "text": [
      "Epoch 3 - avg_train_loss: 0.3228  avg_val_loss: 0.3833  time: 3s\n",
      "Epoch 3 - Score: 0.3867\n",
      "Epoch 3 - Save Best Score: 0.3867 Model\n"
     ]
    },
    {
     "name": "stdout",
     "output_type": "stream",
     "text": [
      "EVAL: [2/3] Elapsed 0m 0s (remain 0m 0s) Loss: 0.3590(0.3833) \n",
      "Epoch: [4][0/19] Elapsed 0m 0s (remain 0m 2s) Loss: 0.3385(0.3385) Grad: 17.9453  LR: 0.000001  \n",
      "Epoch: [4][10/19] Elapsed 0m 1s (remain 0m 1s) Loss: 0.2799(0.3177) Grad: 4.8053  LR: 0.000001  \n",
      "Epoch: [4][18/19] Elapsed 0m 2s (remain 0m 0s) Loss: 0.2063(0.2928) Grad: 4.8749  LR: 0.000001  \n",
      "EVAL: [0/3] Elapsed 0m 0s (remain 0m 0s) Loss: 0.3949(0.3949) \n"
     ]
    },
    {
     "name": "stderr",
     "output_type": "stream",
     "text": [
      "Epoch 4 - avg_train_loss: 0.2928  avg_val_loss: 0.3306  time: 4s\n",
      "Epoch 4 - Score: 0.3357\n",
      "Epoch 4 - Save Best Score: 0.3357 Model\n"
     ]
    },
    {
     "name": "stdout",
     "output_type": "stream",
     "text": [
      "EVAL: [2/3] Elapsed 0m 0s (remain 0m 0s) Loss: 0.2414(0.3306) \n",
      "Epoch: [5][0/19] Elapsed 0m 0s (remain 0m 2s) Loss: 0.3137(0.3137) Grad: 7.1565  LR: 0.000050  \n",
      "Epoch: [5][10/19] Elapsed 0m 1s (remain 0m 1s) Loss: 0.2647(0.3274) Grad: 7.9937  LR: 0.000050  \n",
      "Epoch: [5][18/19] Elapsed 0m 2s (remain 0m 0s) Loss: 0.2244(0.3058) Grad: 7.0221  LR: 0.000050  \n",
      "EVAL: [0/3] Elapsed 0m 0s (remain 0m 0s) Loss: 0.3440(0.3440) \n"
     ]
    },
    {
     "name": "stderr",
     "output_type": "stream",
     "text": [
      "Epoch 5 - avg_train_loss: 0.3058  avg_val_loss: 0.2958  time: 3s\n",
      "Epoch 5 - Score: 0.2987\n",
      "Epoch 5 - Save Best Score: 0.2987 Model\n"
     ]
    },
    {
     "name": "stdout",
     "output_type": "stream",
     "text": [
      "EVAL: [2/3] Elapsed 0m 0s (remain 0m 0s) Loss: 0.2439(0.2958) \n",
      "Epoch: [6][0/19] Elapsed 0m 0s (remain 0m 2s) Loss: 0.1685(0.1685) Grad: 7.4649  LR: 0.000224  \n",
      "Epoch: [6][10/19] Elapsed 0m 1s (remain 0m 1s) Loss: 0.2601(0.2441) Grad: 18.3634  LR: 0.000224  \n",
      "Epoch: [6][18/19] Elapsed 0m 2s (remain 0m 0s) Loss: 0.3386(0.2554) Grad: 20.6362  LR: 0.000224  \n",
      "EVAL: [0/3] Elapsed 0m 0s (remain 0m 0s) Loss: 0.3688(0.3688) \n"
     ]
    },
    {
     "name": "stderr",
     "output_type": "stream",
     "text": [
      "Epoch 6 - avg_train_loss: 0.2554  avg_val_loss: 0.3066  time: 3s\n",
      "Epoch 6 - Score: 0.3120\n"
     ]
    },
    {
     "name": "stdout",
     "output_type": "stream",
     "text": [
      "EVAL: [2/3] Elapsed 0m 0s (remain 0m 0s) Loss: 0.2126(0.3066) \n",
      "Epoch: [7][0/19] Elapsed 0m 0s (remain 0m 2s) Loss: 0.1994(0.1994) Grad: 4.8091  LR: 0.000133  \n",
      "Epoch: [7][10/19] Elapsed 0m 1s (remain 0m 1s) Loss: 0.3539(0.3642) Grad: 22.2620  LR: 0.000133  \n",
      "Epoch: [7][18/19] Elapsed 0m 2s (remain 0m 0s) Loss: 0.2672(0.3174) Grad: 19.8317  LR: 0.000133  \n",
      "EVAL: [0/3] Elapsed 0m 0s (remain 0m 0s) Loss: 0.4358(0.4358) \n"
     ]
    },
    {
     "name": "stderr",
     "output_type": "stream",
     "text": [
      "Epoch 7 - avg_train_loss: 0.3174  avg_val_loss: 0.3727  time: 4s\n",
      "Epoch 7 - Score: 0.3765\n"
     ]
    },
    {
     "name": "stdout",
     "output_type": "stream",
     "text": [
      "EVAL: [2/3] Elapsed 0m 0s (remain 0m 0s) Loss: 0.3337(0.3727) \n",
      "Epoch: [8][0/19] Elapsed 0m 0s (remain 0m 2s) Loss: 0.2942(0.2942) Grad: 21.3391  LR: 0.000057  \n",
      "Epoch: [8][10/19] Elapsed 0m 1s (remain 0m 1s) Loss: 0.2651(0.2454) Grad: 10.3940  LR: 0.000057  \n",
      "Epoch: [8][18/19] Elapsed 0m 2s (remain 0m 0s) Loss: 0.2172(0.2231) Grad: 9.6703  LR: 0.000057  \n",
      "EVAL: [0/3] Elapsed 0m 0s (remain 0m 0s) Loss: 0.3107(0.3107) \n"
     ]
    },
    {
     "name": "stderr",
     "output_type": "stream",
     "text": [
      "Epoch 8 - avg_train_loss: 0.2231  avg_val_loss: 0.2691  time: 4s\n",
      "Epoch 8 - Score: 0.2713\n",
      "Epoch 8 - Save Best Score: 0.2713 Model\n"
     ]
    },
    {
     "name": "stdout",
     "output_type": "stream",
     "text": [
      "EVAL: [2/3] Elapsed 0m 0s (remain 0m 0s) Loss: 0.2399(0.2691) \n",
      "Epoch: [9][0/19] Elapsed 0m 0s (remain 0m 2s) Loss: 0.1961(0.1961) Grad: 3.8614  LR: 0.000009  \n",
      "Epoch: [9][10/19] Elapsed 0m 1s (remain 0m 1s) Loss: 0.1776(0.1753) Grad: 14.8373  LR: 0.000009  \n",
      "Epoch: [9][18/19] Elapsed 0m 2s (remain 0m 0s) Loss: 0.1558(0.1734) Grad: 8.2228  LR: 0.000009  \n",
      "EVAL: [0/3] Elapsed 0m 0s (remain 0m 0s) Loss: 0.2937(0.2937) \n"
     ]
    },
    {
     "name": "stderr",
     "output_type": "stream",
     "text": [
      "Epoch 9 - avg_train_loss: 0.1734  avg_val_loss: 0.2469  time: 4s\n",
      "Epoch 9 - Score: 0.2510\n",
      "Epoch 9 - Save Best Score: 0.2510 Model\n"
     ]
    },
    {
     "name": "stdout",
     "output_type": "stream",
     "text": [
      "EVAL: [2/3] Elapsed 0m 0s (remain 0m 0s) Loss: 0.1671(0.2469) \n",
      "Epoch: [10][0/19] Elapsed 0m 0s (remain 0m 2s) Loss: 0.1894(0.1894) Grad: 6.2033  LR: 0.000001  \n",
      "Epoch: [10][10/19] Elapsed 0m 1s (remain 0m 1s) Loss: 0.1301(0.1557) Grad: 3.9396  LR: 0.000001  \n",
      "Epoch: [10][18/19] Elapsed 0m 2s (remain 0m 0s) Loss: 0.1502(0.1556) Grad: 4.1238  LR: 0.000001  \n",
      "EVAL: [0/3] Elapsed 0m 0s (remain 0m 0s) Loss: 0.3050(0.3050) \n"
     ]
    },
    {
     "name": "stderr",
     "output_type": "stream",
     "text": [
      "Epoch 10 - avg_train_loss: 0.1556  avg_val_loss: 0.2568  time: 3s\n",
      "Epoch 10 - Score: 0.2601\n"
     ]
    },
    {
     "name": "stdout",
     "output_type": "stream",
     "text": [
      "EVAL: [2/3] Elapsed 0m 0s (remain 0m 0s) Loss: 0.2091(0.2568) \n",
      "Epoch: [11][0/19] Elapsed 0m 0s (remain 0m 2s) Loss: 0.1247(0.1247) Grad: 4.0567  LR: 0.000050  \n",
      "Epoch: [11][10/19] Elapsed 0m 1s (remain 0m 1s) Loss: 0.1124(0.1502) Grad: 4.3987  LR: 0.000050  \n",
      "Epoch: [11][18/19] Elapsed 0m 2s (remain 0m 0s) Loss: 0.1334(0.1496) Grad: 5.6417  LR: 0.000050  \n",
      "EVAL: [0/3] Elapsed 0m 0s (remain 0m 0s) Loss: 0.3038(0.3038) \n"
     ]
    },
    {
     "name": "stderr",
     "output_type": "stream",
     "text": [
      "Epoch 11 - avg_train_loss: 0.1496  avg_val_loss: 0.2561  time: 3s\n",
      "Epoch 11 - Score: 0.2593\n"
     ]
    },
    {
     "name": "stdout",
     "output_type": "stream",
     "text": [
      "EVAL: [2/3] Elapsed 0m 0s (remain 0m 0s) Loss: 0.2084(0.2561) \n",
      "Epoch: [12][0/19] Elapsed 0m 0s (remain 0m 2s) Loss: 0.1364(0.1364) Grad: 11.6419  LR: 0.000224  \n",
      "Epoch: [12][10/19] Elapsed 0m 1s (remain 0m 1s) Loss: 0.1559(0.1457) Grad: 6.5449  LR: 0.000224  \n",
      "Epoch: [12][18/19] Elapsed 0m 2s (remain 0m 0s) Loss: 0.1820(0.1674) Grad: 13.7564  LR: 0.000224  \n",
      "EVAL: [0/3] Elapsed 0m 0s (remain 0m 0s) Loss: 0.3302(0.3302) \n"
     ]
    },
    {
     "name": "stderr",
     "output_type": "stream",
     "text": [
      "Epoch 12 - avg_train_loss: 0.1674  avg_val_loss: 0.2677  time: 3s\n",
      "Epoch 12 - Score: 0.2734\n"
     ]
    },
    {
     "name": "stdout",
     "output_type": "stream",
     "text": [
      "EVAL: [2/3] Elapsed 0m 0s (remain 0m 0s) Loss: 0.1874(0.2677) \n",
      "Epoch: [13][0/19] Elapsed 0m 0s (remain 0m 2s) Loss: 0.1568(0.1568) Grad: 16.9885  LR: 0.000133  \n",
      "Epoch: [13][10/19] Elapsed 0m 1s (remain 0m 1s) Loss: 0.1837(0.2363) Grad: 17.3100  LR: 0.000133  \n",
      "Epoch: [13][18/19] Elapsed 0m 2s (remain 0m 0s) Loss: 0.1794(0.2197) Grad: 12.9829  LR: 0.000133  \n",
      "EVAL: [0/3] Elapsed 0m 0s (remain 0m 0s) Loss: 0.2907(0.2907) \n"
     ]
    },
    {
     "name": "stderr",
     "output_type": "stream",
     "text": [
      "Epoch 13 - avg_train_loss: 0.2197  avg_val_loss: 0.2500  time: 4s\n",
      "Epoch 13 - Score: 0.2527\n"
     ]
    },
    {
     "name": "stdout",
     "output_type": "stream",
     "text": [
      "EVAL: [2/3] Elapsed 0m 0s (remain 0m 0s) Loss: 0.1954(0.2500) \n",
      "Epoch: [14][0/19] Elapsed 0m 0s (remain 0m 2s) Loss: 0.1936(0.1936) Grad: 19.7459  LR: 0.000057  \n",
      "Epoch: [14][10/19] Elapsed 0m 1s (remain 0m 1s) Loss: 0.1835(0.2102) Grad: 15.2927  LR: 0.000057  \n",
      "Epoch: [14][18/19] Elapsed 0m 2s (remain 0m 0s) Loss: 0.1202(0.1904) Grad: 6.8696  LR: 0.000057  \n",
      "EVAL: [0/3] Elapsed 0m 0s (remain 0m 0s) Loss: 0.2779(0.2779) \n"
     ]
    },
    {
     "name": "stderr",
     "output_type": "stream",
     "text": [
      "Epoch 14 - avg_train_loss: 0.1904  avg_val_loss: 0.2309  time: 4s\n",
      "Epoch 14 - Score: 0.2347\n",
      "Epoch 14 - Save Best Score: 0.2347 Model\n"
     ]
    },
    {
     "name": "stdout",
     "output_type": "stream",
     "text": [
      "EVAL: [2/3] Elapsed 0m 0s (remain 0m 0s) Loss: 0.1663(0.2309) \n",
      "Epoch: [15][0/19] Elapsed 0m 0s (remain 0m 2s) Loss: 0.1272(0.1272) Grad: 3.8166  LR: 0.000009  \n",
      "Epoch: [15][10/19] Elapsed 0m 1s (remain 0m 1s) Loss: 0.1106(0.1385) Grad: 4.5715  LR: 0.000009  \n",
      "Epoch: [15][18/19] Elapsed 0m 2s (remain 0m 0s) Loss: 0.1041(0.1271) Grad: 4.1197  LR: 0.000009  \n",
      "EVAL: [0/3] Elapsed 0m 0s (remain 0m 0s) Loss: 0.2673(0.2673) \n"
     ]
    },
    {
     "name": "stderr",
     "output_type": "stream",
     "text": [
      "Epoch 15 - avg_train_loss: 0.1271  avg_val_loss: 0.2212  time: 3s\n",
      "Epoch 15 - Score: 0.2247\n",
      "Epoch 15 - Save Best Score: 0.2247 Model\n"
     ]
    },
    {
     "name": "stdout",
     "output_type": "stream",
     "text": [
      "EVAL: [2/3] Elapsed 0m 0s (remain 0m 0s) Loss: 0.1721(0.2212) \n",
      "Epoch: [16][0/19] Elapsed 0m 0s (remain 0m 2s) Loss: 0.1024(0.1024) Grad: 3.8786  LR: 0.000001  \n",
      "Epoch: [16][10/19] Elapsed 0m 1s (remain 0m 1s) Loss: 0.0911(0.1017) Grad: 3.4194  LR: 0.000001  \n",
      "Epoch: [16][18/19] Elapsed 0m 2s (remain 0m 0s) Loss: 0.1143(0.1040) Grad: 4.6464  LR: 0.000001  \n",
      "EVAL: [0/3] Elapsed 0m 0s (remain 0m 0s) Loss: 0.2905(0.2905) \n"
     ]
    },
    {
     "name": "stderr",
     "output_type": "stream",
     "text": [
      "Epoch 16 - avg_train_loss: 0.1040  avg_val_loss: 0.2346  time: 3s\n",
      "Epoch 16 - Score: 0.2398\n"
     ]
    },
    {
     "name": "stdout",
     "output_type": "stream",
     "text": [
      "EVAL: [2/3] Elapsed 0m 0s (remain 0m 0s) Loss: 0.1646(0.2346) \n",
      "Epoch: [17][0/19] Elapsed 0m 0s (remain 0m 2s) Loss: 0.1003(0.1003) Grad: 3.9868  LR: 0.000050  \n",
      "Epoch: [17][10/19] Elapsed 0m 1s (remain 0m 1s) Loss: 0.0972(0.1152) Grad: 14.8561  LR: 0.000050  \n",
      "Epoch: [17][18/19] Elapsed 0m 2s (remain 0m 0s) Loss: 0.0775(0.1100) Grad: 10.2959  LR: 0.000050  \n",
      "EVAL: [0/3] Elapsed 0m 0s (remain 0m 0s) Loss: 0.2733(0.2733) \n"
     ]
    },
    {
     "name": "stderr",
     "output_type": "stream",
     "text": [
      "Epoch 17 - avg_train_loss: 0.1100  avg_val_loss: 0.2203  time: 3s\n",
      "Epoch 17 - Score: 0.2256\n"
     ]
    },
    {
     "name": "stdout",
     "output_type": "stream",
     "text": [
      "EVAL: [2/3] Elapsed 0m 0s (remain 0m 0s) Loss: 0.1437(0.2203) \n",
      "Epoch: [18][0/19] Elapsed 0m 0s (remain 0m 2s) Loss: 0.0874(0.0874) Grad: 10.3021  LR: 0.000224  \n",
      "Epoch: [18][10/19] Elapsed 0m 1s (remain 0m 1s) Loss: 0.0984(0.1182) Grad: 13.2671  LR: 0.000224  \n",
      "Epoch: [18][18/19] Elapsed 0m 2s (remain 0m 0s) Loss: 0.1465(0.1248) Grad: 10.3892  LR: 0.000224  \n",
      "EVAL: [0/3] Elapsed 0m 0s (remain 0m 0s) Loss: 0.3042(0.3042) \n"
     ]
    },
    {
     "name": "stderr",
     "output_type": "stream",
     "text": [
      "Epoch 18 - avg_train_loss: 0.1248  avg_val_loss: 0.2688  time: 3s\n",
      "Epoch 18 - Score: 0.2712\n"
     ]
    },
    {
     "name": "stdout",
     "output_type": "stream",
     "text": [
      "EVAL: [2/3] Elapsed 0m 0s (remain 0m 0s) Loss: 0.2023(0.2688) \n",
      "Epoch: [19][0/19] Elapsed 0m 0s (remain 0m 2s) Loss: 0.1665(0.1665) Grad: 21.5163  LR: 0.000133  \n",
      "Epoch: [19][10/19] Elapsed 0m 1s (remain 0m 1s) Loss: 0.2366(0.1887) Grad: 12.6445  LR: 0.000133  \n",
      "Epoch: [19][18/19] Elapsed 0m 2s (remain 0m 0s) Loss: 0.2836(0.1782) Grad: 19.8370  LR: 0.000133  \n",
      "EVAL: [0/3] Elapsed 0m 0s (remain 0m 0s) Loss: 0.3821(0.3821) \n"
     ]
    },
    {
     "name": "stderr",
     "output_type": "stream",
     "text": [
      "Epoch 19 - avg_train_loss: 0.1782  avg_val_loss: 0.3215  time: 4s\n",
      "Epoch 19 - Score: 0.3256\n"
     ]
    },
    {
     "name": "stdout",
     "output_type": "stream",
     "text": [
      "EVAL: [2/3] Elapsed 0m 0s (remain 0m 0s) Loss: 0.2655(0.3215) \n",
      "Epoch: [20][0/19] Elapsed 0m 0s (remain 0m 2s) Loss: 0.1954(0.1954) Grad: 19.1627  LR: 0.000057  \n",
      "Epoch: [20][10/19] Elapsed 0m 1s (remain 0m 1s) Loss: 0.1489(0.1586) Grad: 9.2571  LR: 0.000057  \n",
      "Epoch: [20][18/19] Elapsed 0m 2s (remain 0m 0s) Loss: 0.2309(0.1587) Grad: 14.3055  LR: 0.000057  \n",
      "EVAL: [0/3] Elapsed 0m 0s (remain 0m 0s) Loss: 0.3172(0.3172) \n"
     ]
    },
    {
     "name": "stderr",
     "output_type": "stream",
     "text": [
      "Epoch 20 - avg_train_loss: 0.1587  avg_val_loss: 0.2545  time: 3s\n",
      "Epoch 20 - Score: 0.2613\n"
     ]
    },
    {
     "name": "stdout",
     "output_type": "stream",
     "text": [
      "EVAL: [2/3] Elapsed 0m 0s (remain 0m 0s) Loss: 0.1542(0.2545) \n",
      "Epoch: [21][0/19] Elapsed 0m 0s (remain 0m 2s) Loss: 0.1621(0.1621) Grad: 16.6231  LR: 0.000009  \n",
      "Epoch: [21][10/19] Elapsed 0m 1s (remain 0m 1s) Loss: 0.1119(0.1383) Grad: 4.6568  LR: 0.000009  \n",
      "Epoch: [21][18/19] Elapsed 0m 2s (remain 0m 0s) Loss: 0.1035(0.1326) Grad: 10.4196  LR: 0.000009  \n",
      "EVAL: [0/3] Elapsed 0m 0s (remain 0m 0s) Loss: 0.3061(0.3061) \n"
     ]
    },
    {
     "name": "stderr",
     "output_type": "stream",
     "text": [
      "Epoch 21 - avg_train_loss: 0.1326  avg_val_loss: 0.2362  time: 3s\n",
      "Epoch 21 - Score: 0.2442\n"
     ]
    },
    {
     "name": "stdout",
     "output_type": "stream",
     "text": [
      "EVAL: [2/3] Elapsed 0m 0s (remain 0m 0s) Loss: 0.1458(0.2362) \n",
      "Epoch: [22][0/19] Elapsed 0m 0s (remain 0m 2s) Loss: 0.1242(0.1242) Grad: 8.2286  LR: 0.000001  \n",
      "Epoch: [22][10/19] Elapsed 0m 1s (remain 0m 1s) Loss: 0.1026(0.1075) Grad: 6.7421  LR: 0.000001  \n",
      "Epoch: [22][18/19] Elapsed 0m 2s (remain 0m 0s) Loss: 0.1033(0.1007) Grad: 4.8808  LR: 0.000001  \n",
      "EVAL: [0/3] Elapsed 0m 0s (remain 0m 0s) Loss: 0.3083(0.3083) \n"
     ]
    },
    {
     "name": "stderr",
     "output_type": "stream",
     "text": [
      "Epoch 22 - avg_train_loss: 0.1007  avg_val_loss: 0.2442  time: 4s\n",
      "Epoch 22 - Score: 0.2509\n"
     ]
    },
    {
     "name": "stdout",
     "output_type": "stream",
     "text": [
      "EVAL: [2/3] Elapsed 0m 0s (remain 0m 0s) Loss: 0.1574(0.2442) \n",
      "Epoch: [23][0/19] Elapsed 0m 0s (remain 0m 2s) Loss: 0.0951(0.0951) Grad: 3.4578  LR: 0.000050  \n",
      "Epoch: [23][10/19] Elapsed 0m 1s (remain 0m 1s) Loss: 0.0923(0.1032) Grad: 7.6502  LR: 0.000050  \n",
      "Epoch: [23][18/19] Elapsed 0m 2s (remain 0m 0s) Loss: 0.0994(0.1061) Grad: 14.3296  LR: 0.000050  \n",
      "EVAL: [0/3] Elapsed 0m 0s (remain 0m 0s) Loss: 0.2737(0.2737) \n"
     ]
    },
    {
     "name": "stderr",
     "output_type": "stream",
     "text": [
      "Epoch 23 - avg_train_loss: 0.1061  avg_val_loss: 0.2271  time: 3s\n",
      "Epoch 23 - Score: 0.2318\n"
     ]
    },
    {
     "name": "stdout",
     "output_type": "stream",
     "text": [
      "EVAL: [2/3] Elapsed 0m 0s (remain 0m 0s) Loss: 0.1430(0.2271) \n",
      "Epoch: [24][0/19] Elapsed 0m 0s (remain 0m 2s) Loss: 0.1090(0.1090) Grad: 17.7783  LR: 0.000224  \n",
      "Epoch: [24][10/19] Elapsed 0m 1s (remain 0m 1s) Loss: 0.1430(0.1275) Grad: 16.7622  LR: 0.000224  \n",
      "Epoch: [24][18/19] Elapsed 0m 2s (remain 0m 0s) Loss: 0.1040(0.1236) Grad: 14.0809  LR: 0.000224  \n",
      "EVAL: [0/3] Elapsed 0m 0s (remain 0m 0s) Loss: 0.2888(0.2888) \n"
     ]
    },
    {
     "name": "stderr",
     "output_type": "stream",
     "text": [
      "Epoch 24 - avg_train_loss: 0.1236  avg_val_loss: 0.2556  time: 3s\n",
      "Epoch 24 - Score: 0.2582\n"
     ]
    },
    {
     "name": "stdout",
     "output_type": "stream",
     "text": [
      "EVAL: [2/3] Elapsed 0m 0s (remain 0m 0s) Loss: 0.1829(0.2556) \n",
      "Epoch: [25][0/19] Elapsed 0m 0s (remain 0m 2s) Loss: 0.2153(0.2153) Grad: 23.0659  LR: 0.000133  \n",
      "Epoch: [25][10/19] Elapsed 0m 1s (remain 0m 1s) Loss: 0.1977(0.1741) Grad: 16.9831  LR: 0.000133  \n",
      "Epoch: [25][18/19] Elapsed 0m 2s (remain 0m 0s) Loss: 0.2394(0.1729) Grad: 19.3231  LR: 0.000133  \n",
      "EVAL: [0/3] Elapsed 0m 0s (remain 0m 0s) Loss: 0.3457(0.3457) \n"
     ]
    },
    {
     "name": "stderr",
     "output_type": "stream",
     "text": [
      "Epoch 25 - avg_train_loss: 0.1729  avg_val_loss: 0.3283  time: 3s\n",
      "Epoch 25 - Score: 0.3292\n"
     ]
    },
    {
     "name": "stdout",
     "output_type": "stream",
     "text": [
      "EVAL: [2/3] Elapsed 0m 0s (remain 0m 0s) Loss: 0.2748(0.3283) \n",
      "Epoch: [26][0/19] Elapsed 0m 0s (remain 0m 2s) Loss: 0.2129(0.2129) Grad: 20.6579  LR: 0.000057  \n",
      "Epoch: [26][10/19] Elapsed 0m 1s (remain 0m 1s) Loss: 0.1726(0.1793) Grad: 17.6808  LR: 0.000057  \n",
      "Epoch: [26][18/19] Elapsed 0m 2s (remain 0m 0s) Loss: 0.2072(0.1806) Grad: 20.0842  LR: 0.000057  \n",
      "EVAL: [0/3] Elapsed 0m 0s (remain 0m 0s) Loss: 0.3056(0.3056) \n"
     ]
    },
    {
     "name": "stderr",
     "output_type": "stream",
     "text": [
      "Epoch 26 - avg_train_loss: 0.1806  avg_val_loss: 0.2480  time: 4s\n",
      "Epoch 26 - Score: 0.2532\n"
     ]
    },
    {
     "name": "stdout",
     "output_type": "stream",
     "text": [
      "EVAL: [2/3] Elapsed 0m 0s (remain 0m 0s) Loss: 0.1768(0.2480) \n",
      "Epoch: [27][0/19] Elapsed 0m 0s (remain 0m 2s) Loss: 0.1070(0.1070) Grad: 2.7400  LR: 0.000009  \n",
      "Epoch: [27][10/19] Elapsed 0m 1s (remain 0m 1s) Loss: 0.1196(0.1234) Grad: 7.0736  LR: 0.000009  \n",
      "Epoch: [27][18/19] Elapsed 0m 2s (remain 0m 0s) Loss: 0.1215(0.1179) Grad: 9.3001  LR: 0.000009  \n",
      "EVAL: [0/3] Elapsed 0m 0s (remain 0m 0s) Loss: 0.2818(0.2818) \n"
     ]
    },
    {
     "name": "stderr",
     "output_type": "stream",
     "text": [
      "Epoch 27 - avg_train_loss: 0.1179  avg_val_loss: 0.2291  time: 4s\n",
      "Epoch 27 - Score: 0.2349\n"
     ]
    },
    {
     "name": "stdout",
     "output_type": "stream",
     "text": [
      "EVAL: [2/3] Elapsed 0m 0s (remain 0m 0s) Loss: 0.1374(0.2291) \n",
      "Epoch: [28][0/19] Elapsed 0m 0s (remain 0m 2s) Loss: 0.0944(0.0944) Grad: 6.4026  LR: 0.000001  \n",
      "Epoch: [28][10/19] Elapsed 0m 1s (remain 0m 1s) Loss: 0.1227(0.0996) Grad: 4.1527  LR: 0.000001  \n",
      "Epoch: [28][18/19] Elapsed 0m 2s (remain 0m 0s) Loss: 0.0824(0.0968) Grad: 5.4903  LR: 0.000001  \n",
      "EVAL: [0/3] Elapsed 0m 0s (remain 0m 0s) Loss: 0.3274(0.3274) \n"
     ]
    },
    {
     "name": "stderr",
     "output_type": "stream",
     "text": [
      "Epoch 28 - avg_train_loss: 0.0968  avg_val_loss: 0.2459  time: 3s\n",
      "Epoch 28 - Score: 0.2558\n"
     ]
    },
    {
     "name": "stdout",
     "output_type": "stream",
     "text": [
      "EVAL: [2/3] Elapsed 0m 0s (remain 0m 0s) Loss: 0.1561(0.2459) \n",
      "Epoch: [29][0/19] Elapsed 0m 0s (remain 0m 2s) Loss: 0.1249(0.1249) Grad: 3.7447  LR: 0.000050  \n",
      "Epoch: [29][10/19] Elapsed 0m 1s (remain 0m 1s) Loss: 0.0849(0.0924) Grad: 3.0907  LR: 0.000050  \n",
      "Epoch: [29][18/19] Elapsed 0m 2s (remain 0m 0s) Loss: 0.0879(0.0960) Grad: 8.1372  LR: 0.000050  \n",
      "EVAL: [0/3] Elapsed 0m 0s (remain 0m 0s) Loss: 0.2828(0.2828) \n"
     ]
    },
    {
     "name": "stderr",
     "output_type": "stream",
     "text": [
      "Epoch 29 - avg_train_loss: 0.0960  avg_val_loss: 0.2263  time: 4s\n",
      "Epoch 29 - Score: 0.2318\n"
     ]
    },
    {
     "name": "stdout",
     "output_type": "stream",
     "text": [
      "EVAL: [2/3] Elapsed 0m 0s (remain 0m 0s) Loss: 0.1528(0.2263) \n",
      "Epoch: [30][0/19] Elapsed 0m 0s (remain 0m 2s) Loss: 0.0971(0.0971) Grad: 9.6213  LR: 0.000224  \n",
      "Epoch: [30][10/19] Elapsed 0m 1s (remain 0m 1s) Loss: 0.0888(0.1085) Grad: 5.6076  LR: 0.000224  \n",
      "Epoch: [30][18/19] Elapsed 0m 2s (remain 0m 0s) Loss: 0.1332(0.1245) Grad: 19.8349  LR: 0.000224  \n",
      "EVAL: [0/3] Elapsed 0m 0s (remain 0m 0s) Loss: 0.2877(0.2877) \n"
     ]
    },
    {
     "name": "stderr",
     "output_type": "stream",
     "text": [
      "Epoch 30 - avg_train_loss: 0.1245  avg_val_loss: 0.2285  time: 4s\n",
      "Epoch 30 - Score: 0.2346\n"
     ]
    },
    {
     "name": "stdout",
     "output_type": "stream",
     "text": [
      "EVAL: [2/3] Elapsed 0m 0s (remain 0m 0s) Loss: 0.1473(0.2285) \n",
      "Epoch: [31][0/19] Elapsed 0m 0s (remain 0m 2s) Loss: 0.1112(0.1112) Grad: 6.2607  LR: 0.000133  \n",
      "Epoch: [31][10/19] Elapsed 0m 1s (remain 0m 1s) Loss: 0.1418(0.1740) Grad: 18.4473  LR: 0.000133  \n",
      "Epoch: [31][18/19] Elapsed 0m 2s (remain 0m 0s) Loss: 0.0990(0.1630) Grad: 5.7934  LR: 0.000133  \n",
      "EVAL: [0/3] Elapsed 0m 0s (remain 0m 0s) Loss: 0.2775(0.2775) \n"
     ]
    },
    {
     "name": "stderr",
     "output_type": "stream",
     "text": [
      "Epoch 31 - avg_train_loss: 0.1630  avg_val_loss: 0.2321  time: 4s\n",
      "Epoch 31 - Score: 0.2365\n"
     ]
    },
    {
     "name": "stdout",
     "output_type": "stream",
     "text": [
      "EVAL: [2/3] Elapsed 0m 0s (remain 0m 0s) Loss: 0.1500(0.2321) \n",
      "Epoch: [32][0/19] Elapsed 0m 0s (remain 0m 2s) Loss: 0.1522(0.1522) Grad: 14.6022  LR: 0.000057  \n",
      "Epoch: [32][10/19] Elapsed 0m 1s (remain 0m 1s) Loss: 0.1564(0.1258) Grad: 17.7476  LR: 0.000057  \n",
      "Epoch: [32][18/19] Elapsed 0m 2s (remain 0m 0s) Loss: 0.2299(0.1472) Grad: 16.2304  LR: 0.000057  \n",
      "EVAL: [0/3] Elapsed 0m 0s (remain 0m 0s) Loss: 0.3848(0.3848) \n"
     ]
    },
    {
     "name": "stderr",
     "output_type": "stream",
     "text": [
      "Epoch 32 - avg_train_loss: 0.1472  avg_val_loss: 0.3526  time: 4s\n",
      "Epoch 32 - Score: 0.3543\n"
     ]
    },
    {
     "name": "stdout",
     "output_type": "stream",
     "text": [
      "EVAL: [2/3] Elapsed 0m 0s (remain 0m 0s) Loss: 0.2828(0.3526) \n",
      "Epoch: [33][0/19] Elapsed 0m 0s (remain 0m 2s) Loss: 0.2532(0.2532) Grad: 21.2854  LR: 0.000009  \n",
      "Epoch: [33][10/19] Elapsed 0m 1s (remain 0m 1s) Loss: 0.1898(0.1644) Grad: 18.7774  LR: 0.000009  \n",
      "Epoch: [33][18/19] Elapsed 0m 2s (remain 0m 0s) Loss: 0.1017(0.1489) Grad: 10.4514  LR: 0.000009  \n",
      "EVAL: [0/3] Elapsed 0m 0s (remain 0m 0s) Loss: 0.3170(0.3170) \n"
     ]
    },
    {
     "name": "stderr",
     "output_type": "stream",
     "text": [
      "Epoch 33 - avg_train_loss: 0.1489  avg_val_loss: 0.2620  time: 3s\n",
      "Epoch 33 - Score: 0.2672\n"
     ]
    },
    {
     "name": "stdout",
     "output_type": "stream",
     "text": [
      "EVAL: [2/3] Elapsed 0m 0s (remain 0m 0s) Loss: 0.1722(0.2620) \n",
      "Epoch: [34][0/19] Elapsed 0m 0s (remain 0m 2s) Loss: 0.1099(0.1099) Grad: 5.9226  LR: 0.000001  \n",
      "Epoch: [34][10/19] Elapsed 0m 1s (remain 0m 1s) Loss: 0.0896(0.1037) Grad: 5.1091  LR: 0.000001  \n",
      "Epoch: [34][18/19] Elapsed 0m 2s (remain 0m 0s) Loss: 0.0847(0.0950) Grad: 2.6136  LR: 0.000001  \n",
      "EVAL: [0/3] Elapsed 0m 0s (remain 0m 0s) Loss: 0.2966(0.2966) \n"
     ]
    },
    {
     "name": "stderr",
     "output_type": "stream",
     "text": [
      "Epoch 34 - avg_train_loss: 0.0950  avg_val_loss: 0.2336  time: 4s\n",
      "Epoch 34 - Score: 0.2403\n"
     ]
    },
    {
     "name": "stdout",
     "output_type": "stream",
     "text": [
      "EVAL: [2/3] Elapsed 0m 0s (remain 0m 0s) Loss: 0.1490(0.2336) \n",
      "Epoch: [35][0/19] Elapsed 0m 0s (remain 0m 2s) Loss: 0.1000(0.1000) Grad: 6.4499  LR: 0.000050  \n",
      "Epoch: [35][10/19] Elapsed 0m 1s (remain 0m 1s) Loss: 0.0724(0.0901) Grad: 7.8772  LR: 0.000050  \n",
      "Epoch: [35][18/19] Elapsed 0m 2s (remain 0m 0s) Loss: 0.1028(0.0862) Grad: 3.2046  LR: 0.000050  \n",
      "EVAL: [0/3] Elapsed 0m 0s (remain 0m 0s) Loss: 0.3018(0.3018) \n"
     ]
    },
    {
     "name": "stderr",
     "output_type": "stream",
     "text": [
      "Epoch 35 - avg_train_loss: 0.0862  avg_val_loss: 0.2310  time: 3s\n",
      "Epoch 35 - Score: 0.2393\n"
     ]
    },
    {
     "name": "stdout",
     "output_type": "stream",
     "text": [
      "EVAL: [2/3] Elapsed 0m 0s (remain 0m 0s) Loss: 0.1438(0.2310) \n",
      "Epoch: [36][0/19] Elapsed 0m 0s (remain 0m 2s) Loss: 0.0562(0.0562) Grad: 7.2607  LR: 0.000224  \n",
      "Epoch: [36][10/19] Elapsed 0m 1s (remain 0m 1s) Loss: 0.0955(0.0871) Grad: 6.1074  LR: 0.000224  \n",
      "Epoch: [36][18/19] Elapsed 0m 2s (remain 0m 0s) Loss: 0.1291(0.0947) Grad: 16.0609  LR: 0.000224  \n",
      "EVAL: [0/3] Elapsed 0m 0s (remain 0m 0s) Loss: 0.2846(0.2846) \n"
     ]
    },
    {
     "name": "stderr",
     "output_type": "stream",
     "text": [
      "Epoch 36 - avg_train_loss: 0.0947  avg_val_loss: 0.2306  time: 4s\n",
      "Epoch 36 - Score: 0.2353\n"
     ]
    },
    {
     "name": "stdout",
     "output_type": "stream",
     "text": [
      "EVAL: [2/3] Elapsed 0m 0s (remain 0m 0s) Loss: 0.1704(0.2306) \n",
      "Epoch: [37][0/19] Elapsed 0m 0s (remain 0m 2s) Loss: 0.0858(0.0858) Grad: 4.6782  LR: 0.000133  \n",
      "Epoch: [37][10/19] Elapsed 0m 1s (remain 0m 1s) Loss: 0.1191(0.1087) Grad: 6.1264  LR: 0.000133  \n",
      "Epoch: [37][18/19] Elapsed 0m 2s (remain 0m 0s) Loss: 0.2021(0.1267) Grad: 20.2813  LR: 0.000133  \n",
      "EVAL: [0/3] Elapsed 0m 0s (remain 0m 0s) Loss: 0.2997(0.2997) \n"
     ]
    },
    {
     "name": "stderr",
     "output_type": "stream",
     "text": [
      "Epoch 37 - avg_train_loss: 0.1267  avg_val_loss: 0.2300  time: 3s\n",
      "Epoch 37 - Score: 0.2384\n"
     ]
    },
    {
     "name": "stdout",
     "output_type": "stream",
     "text": [
      "EVAL: [2/3] Elapsed 0m 0s (remain 0m 0s) Loss: 0.1347(0.2300) \n",
      "Epoch: [38][0/19] Elapsed 0m 0s (remain 0m 2s) Loss: 0.1225(0.1225) Grad: 2.8647  LR: 0.000057  \n",
      "Epoch: [38][10/19] Elapsed 0m 1s (remain 0m 1s) Loss: 0.1856(0.1897) Grad: 16.3416  LR: 0.000057  \n",
      "Epoch: [38][18/19] Elapsed 0m 2s (remain 0m 0s) Loss: 0.1491(0.1809) Grad: 14.9834  LR: 0.000057  \n",
      "EVAL: [0/3] Elapsed 0m 0s (remain 0m 0s) Loss: 0.2978(0.2978) \n"
     ]
    },
    {
     "name": "stderr",
     "output_type": "stream",
     "text": [
      "Epoch 38 - avg_train_loss: 0.1809  avg_val_loss: 0.2401  time: 3s\n",
      "Epoch 38 - Score: 0.2461\n"
     ]
    },
    {
     "name": "stdout",
     "output_type": "stream",
     "text": [
      "EVAL: [2/3] Elapsed 0m 0s (remain 0m 0s) Loss: 0.1523(0.2401) \n",
      "Epoch: [39][0/19] Elapsed 0m 0s (remain 0m 2s) Loss: 0.1142(0.1142) Grad: 6.6658  LR: 0.000009  \n",
      "Epoch: [39][10/19] Elapsed 0m 1s (remain 0m 1s) Loss: 0.0560(0.1094) Grad: 9.8532  LR: 0.000009  \n",
      "Epoch: [39][18/19] Elapsed 0m 2s (remain 0m 0s) Loss: 0.0827(0.1003) Grad: 5.7278  LR: 0.000009  \n",
      "EVAL: [0/3] Elapsed 0m 0s (remain 0m 0s) Loss: 0.2826(0.2826) \n"
     ]
    },
    {
     "name": "stderr",
     "output_type": "stream",
     "text": [
      "Epoch 39 - avg_train_loss: 0.1003  avg_val_loss: 0.2234  time: 4s\n",
      "Epoch 39 - Score: 0.2303\n"
     ]
    },
    {
     "name": "stdout",
     "output_type": "stream",
     "text": [
      "EVAL: [2/3] Elapsed 0m 0s (remain 0m 0s) Loss: 0.1307(0.2234) \n",
      "Epoch: [40][0/19] Elapsed 0m 0s (remain 0m 2s) Loss: 0.0726(0.0726) Grad: 4.6380  LR: 0.000001  \n",
      "Epoch: [40][10/19] Elapsed 0m 1s (remain 0m 1s) Loss: 0.0799(0.0854) Grad: 2.5885  LR: 0.000001  \n",
      "Epoch: [40][18/19] Elapsed 0m 2s (remain 0m 0s) Loss: 0.0591(0.0805) Grad: 2.6271  LR: 0.000001  \n",
      "EVAL: [0/3] Elapsed 0m 0s (remain 0m 0s) Loss: 0.2970(0.2970) \n"
     ]
    },
    {
     "name": "stderr",
     "output_type": "stream",
     "text": [
      "Epoch 40 - avg_train_loss: 0.0805  avg_val_loss: 0.2313  time: 4s\n",
      "Epoch 40 - Score: 0.2384\n",
      "========== fold: 4 result ==========\n",
      "Score: 0.2247\n",
      "========== CV ==========\n",
      "Score: 0.2199\n"
     ]
    },
    {
     "name": "stdout",
     "output_type": "stream",
     "text": [
      "EVAL: [2/3] Elapsed 0m 0s (remain 0m 0s) Loss: 0.1502(0.2313) \n"
     ]
    }
   ],
   "source": [
    "if __name__ == '__main__':\n",
    "    main()"
   ]
  },
  {
   "cell_type": "code",
   "execution_count": null,
   "metadata": {},
   "outputs": [],
   "source": []
  }
 ],
 "metadata": {
  "kernelspec": {
   "display_name": "Python 3 (ipykernel)",
   "language": "python",
   "name": "python3"
  },
  "language_info": {
   "codemirror_mode": {
    "name": "ipython",
    "version": 3
   },
   "file_extension": ".py",
   "mimetype": "text/x-python",
   "name": "python",
   "nbconvert_exporter": "python",
   "pygments_lexer": "ipython3",
   "version": "3.10.13"
  }
 },
 "nbformat": 4,
 "nbformat_minor": 4
}
