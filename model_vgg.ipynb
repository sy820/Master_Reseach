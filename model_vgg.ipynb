{
 "cells": [
  {
   "cell_type": "code",
   "execution_count": 1,
   "metadata": {
    "execution": {
     "iopub.execute_input": "2021-09-25T01:39:16.614224Z",
     "iopub.status.busy": "2021-09-25T01:39:16.613637Z",
     "iopub.status.idle": "2021-09-25T01:39:23.084012Z",
     "shell.execute_reply": "2021-09-25T01:39:23.083279Z",
     "shell.execute_reply.started": "2021-09-25T01:39:16.614189Z"
    },
    "papermill": {
     "duration": 2.094537,
     "end_time": "2021-08-04T01:25:18.881487",
     "exception": false,
     "start_time": "2021-08-04T01:25:16.78695",
     "status": "completed"
    },
    "tags": []
   },
   "outputs": [
    {
     "name": "stderr",
     "output_type": "stream",
     "text": [
      "/home/yamanaka/.pyenv/versions/anaconda3-2023.03/lib/python3.10/site-packages/torchvision/io/image.py:13: UserWarning: Failed to load image Python extension: /home/yamanaka/.pyenv/versions/anaconda3-2023.03/lib/python3.10/site-packages/torchvision/image.so: undefined symbol: _ZN5torch3jit17parseSchemaOrNameERKSs\n",
      "  warn(f\"Failed to load image Python extension: {e}\")\n"
     ]
    }
   ],
   "source": [
    "# ====================================================\n",
    "# Library\n",
    "# ====================================================\n",
    "import os\n",
    "import gc\n",
    "import sys\n",
    "import math\n",
    "import time\n",
    "import random\n",
    "import shutil\n",
    "from pathlib import Path\n",
    "from contextlib import contextmanager\n",
    "from collections import defaultdict, Counter\n",
    "\n",
    "import scipy as sp\n",
    "import numpy as np\n",
    "import pandas as pd\n",
    "from matplotlib import pyplot as plt\n",
    "import seaborn as sns\n",
    "\n",
    "from sklearn import preprocessing\n",
    "from sklearn.metrics import mean_squared_error\n",
    "from sklearn.model_selection import train_test_split, KFold, StratifiedKFold\n",
    "\n",
    "from tqdm.auto import tqdm\n",
    "from functools import partial\n",
    "\n",
    "import cv2\n",
    "from PIL import Image\n",
    "\n",
    "import torch\n",
    "import torch.nn as nn\n",
    "import torch.nn.functional as F\n",
    "from torch.optim import Adam, SGD\n",
    "import torchvision.models as models\n",
    "from torch.nn.parameter import Parameter\n",
    "from torch.utils.data import DataLoader, Dataset\n",
    "from torch.optim.lr_scheduler import CosineAnnealingWarmRestarts, CosineAnnealingLR, ReduceLROnPlateau\n",
    "\n",
    "import albumentations as A\n",
    "from albumentations.pytorch import ToTensorV2\n",
    "from albumentations import ImageOnlyTransform\n",
    "\n",
    "from pytorch_grad_cam.utils.model_targets import ClassifierOutputTarget\n",
    "from pytorch_grad_cam.utils.image import show_cam_on_image\n",
    "from pytorch_grad_cam import GradCAM, ScoreCAM, GradCAMPlusPlus, AblationCAM, XGradCAM, EigenCAM\n",
    "\n",
    "sys.path.append('../input/pytorch-image-models/pytorch-image-models-master')\n",
    "import timm\n",
    "\n",
    "from torch.cuda.amp import autocast, GradScaler\n",
    "\n",
    "import warnings\n",
    "warnings.filterwarnings('ignore')\n",
    "\n",
    "device = torch.device('cuda:2' if torch.cuda.is_available() else 'cpu')"
   ]
  },
  {
   "cell_type": "code",
   "execution_count": 2,
   "metadata": {
    "execution": {
     "iopub.execute_input": "2021-09-25T01:39:16.60086Z",
     "iopub.status.busy": "2021-09-25T01:39:16.600379Z",
     "iopub.status.idle": "2021-09-25T01:39:16.612052Z",
     "shell.execute_reply": "2021-09-25T01:39:16.611405Z",
     "shell.execute_reply.started": "2021-09-25T01:39:16.600826Z"
    },
    "papermill": {
     "duration": 0.04513,
     "end_time": "2021-08-04T01:25:16.683443",
     "exception": false,
     "start_time": "2021-08-04T01:25:16.638313",
     "status": "completed"
    },
    "tags": []
   },
   "outputs": [],
   "source": [
    "# ====================================================\n",
    "# CFG\n",
    "# ====================================================\n",
    "class CFG:\n",
    "    apex=False\n",
    "    debug=False\n",
    "    print_freq=10\n",
    "    num_workers=0\n",
    "    size=224\n",
    "    model_name='vgg16'\n",
    "    scheduler='CosineAnnealingLR' # ['ReduceLROnPlateau', 'CosineAnnealingLR', 'CosineAnnealingWarmRestarts']\n",
    "    epochs=40\n",
    "    #factor=0.2 # ReduceLROnPlateau\n",
    "    #patience=4 # ReduceLROnPlateau\n",
    "    #eps=1e-6 # ReduceLROnPlateau\n",
    "    T_max=3 # CosineAnnealingLR\n",
    "    #T_0=3 # CosineAnnealingWarmRestarts\n",
    "    lr=1e-4\n",
    "    min_lr=1e-6\n",
    "    batch_size=32\n",
    "    weight_decay=1e-6\n",
    "    gradient_accumulation_steps=1\n",
    "    max_grad_norm=1000\n",
    "    seed= [42, 10, 20, 51, 111]\n",
    "    target_size=1\n",
    "    target_col='KIc'\n",
    "    n_fold=5\n",
    "    trn_fold=[i for i in range(n_fold)]\n",
    "    kfold=\"Kfold\" #or Kfold\n",
    "    train=True\n",
    "    grad_cam=False\n",
    "\n",
    "# ====================================================\n",
    "# Directory settings\n",
    "# ====================================================\n",
    "import os\n",
    "\n",
    "OUTPUT_DIR = './KIc/Model/vgg/'\n",
    "if not os.path.exists(OUTPUT_DIR):\n",
    "    os.makedirs(OUTPUT_DIR)"
   ]
  },
  {
   "cell_type": "code",
   "execution_count": 3,
   "metadata": {
    "execution": {
     "iopub.execute_input": "2021-09-25T01:39:30.703234Z",
     "iopub.status.busy": "2021-09-25T01:39:30.7011Z",
     "iopub.status.idle": "2021-09-25T01:39:30.720295Z",
     "shell.execute_reply": "2021-09-25T01:39:30.719608Z",
     "shell.execute_reply.started": "2021-09-25T01:39:30.703189Z"
    },
    "papermill": {
     "duration": 0.078664,
     "end_time": "2021-08-04T01:25:27.284121",
     "exception": false,
     "start_time": "2021-08-04T01:25:27.205457",
     "status": "completed"
    },
    "tags": []
   },
   "outputs": [],
   "source": [
    "# ====================================================\n",
    "# Utils\n",
    "# ====================================================\n",
    "def get_score(y_true, y_pred):\n",
    "    score = mean_squared_error(y_true, y_pred, squared=False) # RMSE\n",
    "    return score\n",
    "\n",
    "\n",
    "def init_logger(log_file=OUTPUT_DIR+'train.log'):\n",
    "    from logging import getLogger, INFO, FileHandler,  Formatter,  StreamHandler\n",
    "    logger = getLogger(__name__)\n",
    "    logger.setLevel(INFO)\n",
    "    handler1 = StreamHandler()\n",
    "    handler1.setFormatter(Formatter(\"%(message)s\"))\n",
    "    handler2 = FileHandler(filename=log_file)\n",
    "    handler2.setFormatter(Formatter(\"%(message)s\"))\n",
    "    logger.addHandler(handler1)\n",
    "    logger.addHandler(handler2)\n",
    "    return logger\n",
    "\n",
    "LOGGER = init_logger()\n",
    "\n",
    "\n",
    "def seed_torch(seed=42):\n",
    "    random.seed(seed)\n",
    "    os.environ['PYTHONHASHSEED'] = str(seed)\n",
    "    np.random.seed(seed)\n",
    "    torch.manual_seed(seed)\n",
    "    torch.cuda.manual_seed(seed)\n",
    "    torch.backends.cudnn.benchmark = False\n",
    "    torch.backends.cudnn.deterministic = True\n"
   ]
  },
  {
   "cell_type": "code",
   "execution_count": 4,
   "metadata": {
    "execution": {
     "iopub.execute_input": "2021-09-25T01:39:30.793168Z",
     "iopub.status.busy": "2021-09-25T01:39:30.79291Z",
     "iopub.status.idle": "2021-09-25T01:39:30.812349Z",
     "shell.execute_reply": "2021-09-25T01:39:30.81166Z",
     "shell.execute_reply.started": "2021-09-25T01:39:30.793134Z"
    },
    "papermill": {
     "duration": 0.045394,
     "end_time": "2021-08-04T01:25:27.976623",
     "exception": false,
     "start_time": "2021-08-04T01:25:27.931229",
     "status": "completed"
    },
    "tags": []
   },
   "outputs": [],
   "source": [
    "# ====================================================\n",
    "# Dataset\n",
    "# ====================================================\n",
    "class TrainDataset(Dataset):\n",
    "    def __init__(self, df, transform=None):\n",
    "        self.df = df\n",
    "        self.file_names = df['file_path'].values\n",
    "        self.labels = df[CFG.target_col].values\n",
    "        self.transform = transform\n",
    "        \n",
    "    def __len__(self):\n",
    "        return len(self.df)\n",
    "\n",
    "    def __getitem__(self, idx):\n",
    "        file_path = self.file_names[idx]\n",
    "        image = cv2.imread(file_path)\n",
    "        image = cv2.cvtColor(image, cv2.COLOR_BGR2RGB)\n",
    "        if self.transform:\n",
    "            image = self.transform(image=image)['image']\n",
    "        label = torch.tensor(self.labels[idx]).float()\n",
    "        return image, label"
   ]
  },
  {
   "cell_type": "code",
   "execution_count": 5,
   "metadata": {
    "execution": {
     "iopub.execute_input": "2021-09-25T01:39:30.817111Z",
     "iopub.status.busy": "2021-09-25T01:39:30.81621Z",
     "iopub.status.idle": "2021-09-25T01:39:30.826076Z",
     "shell.execute_reply": "2021-09-25T01:39:30.82545Z",
     "shell.execute_reply.started": "2021-09-25T01:39:30.817076Z"
    },
    "papermill": {
     "duration": 0.04224,
     "end_time": "2021-08-04T01:25:28.202021",
     "exception": false,
     "start_time": "2021-08-04T01:25:28.159781",
     "status": "completed"
    },
    "tags": []
   },
   "outputs": [],
   "source": [
    "# ====================================================\n",
    "# Transforms\n",
    "# ====================================================\n",
    "def get_transforms(*, data):\n",
    "    \n",
    "    if data == 'train':\n",
    "        return A.Compose([\n",
    "            # A.Resize(CFG.size, CFG.size),\n",
    "            A.RandomResizedCrop(CFG.size, CFG.size, scale=(0.85, 1.0)),\n",
    "            A.Normalize(\n",
    "                mean=[0.485, 0.456, 0.406],\n",
    "                std=[0.229, 0.224, 0.225],\n",
    "            ),\n",
    "            ToTensorV2(),\n",
    "        ])\n",
    "\n",
    "    elif data == 'valid':\n",
    "        return A.Compose([\n",
    "            A.Resize(CFG.size, CFG.size),\n",
    "            A.Normalize(\n",
    "                mean=[0.485, 0.456, 0.406],\n",
    "                std=[0.229, 0.224, 0.225],\n",
    "            ),\n",
    "            ToTensorV2(),\n",
    "        ])\n"
   ]
  },
  {
   "cell_type": "code",
   "execution_count": 6,
   "metadata": {
    "execution": {
     "iopub.execute_input": "2021-09-25T01:39:31.974121Z",
     "iopub.status.busy": "2021-09-25T01:39:31.973801Z",
     "iopub.status.idle": "2021-09-25T01:39:31.981565Z",
     "shell.execute_reply": "2021-09-25T01:39:31.980845Z",
     "shell.execute_reply.started": "2021-09-25T01:39:31.974083Z"
    },
    "papermill": {
     "duration": 0.072697,
     "end_time": "2021-08-04T01:25:29.305374",
     "exception": false,
     "start_time": "2021-08-04T01:25:29.232677",
     "status": "completed"
    },
    "tags": []
   },
   "outputs": [],
   "source": [
    "# ====================================================\n",
    "# MODEL\n",
    "# ====================================================\n",
    "class CustomModel(nn.Module):\n",
    "    def __init__(self, cfg, pretrained=True):\n",
    "        super().__init__()\n",
    "        self.cfg = cfg\n",
    "        self.model = timm.create_model(self.cfg.model_name, pretrained=pretrained)\n",
    "        self.n_features = self.model.head.in_features\n",
    "        self.model.head.fc = nn.Identity()\n",
    "        self.fc = nn.Linear(self.n_features, self.cfg.target_size)\n",
    "\n",
    "    def feature(self, image):\n",
    "        feature = self.model(image)\n",
    "        return feature\n",
    "        \n",
    "    def forward(self, image):\n",
    "        feature = self.feature(image)\n",
    "        output = self.fc(feature)\n",
    "        return output"
   ]
  },
  {
   "cell_type": "code",
   "execution_count": 7,
   "metadata": {
    "execution": {
     "iopub.execute_input": "2021-09-25T01:39:31.983208Z",
     "iopub.status.busy": "2021-09-25T01:39:31.982737Z",
     "iopub.status.idle": "2021-09-25T01:39:31.992378Z",
     "shell.execute_reply": "2021-09-25T01:39:31.991645Z",
     "shell.execute_reply.started": "2021-09-25T01:39:31.983173Z"
    }
   },
   "outputs": [],
   "source": [
    "# ====================================================\n",
    "# Loss\n",
    "# ====================================================\n",
    "class RMSELoss(nn.Module):\n",
    "    def __init__(self, eps=1e-6):\n",
    "        super().__init__()\n",
    "        self.mse = nn.MSELoss()\n",
    "        self.eps = eps\n",
    "\n",
    "    def forward(self, yhat, y):\n",
    "        loss = torch.sqrt(self.mse(yhat, y) + self.eps)\n",
    "        return loss"
   ]
  },
  {
   "cell_type": "code",
   "execution_count": 8,
   "metadata": {
    "execution": {
     "iopub.execute_input": "2021-09-25T01:39:31.99414Z",
     "iopub.status.busy": "2021-09-25T01:39:31.993855Z",
     "iopub.status.idle": "2021-09-25T01:39:32.01968Z",
     "shell.execute_reply": "2021-09-25T01:39:32.018923Z",
     "shell.execute_reply.started": "2021-09-25T01:39:31.994085Z"
    },
    "papermill": {
     "duration": 0.112331,
     "end_time": "2021-08-04T01:25:29.638305",
     "exception": false,
     "start_time": "2021-08-04T01:25:29.525974",
     "status": "completed"
    },
    "tags": []
   },
   "outputs": [],
   "source": [
    "# ====================================================\n",
    "# Helper functions\n",
    "# ====================================================\n",
    "class AverageMeter(object):\n",
    "    \"\"\"Computes and stores the average and current value\"\"\"\n",
    "    def __init__(self):\n",
    "        self.reset()\n",
    "\n",
    "    def reset(self):\n",
    "        self.val = 0\n",
    "        self.avg = 0\n",
    "        self.sum = 0\n",
    "        self.count = 0\n",
    "\n",
    "    def update(self, val, n=1):\n",
    "        self.val = val\n",
    "        self.sum += val * n\n",
    "        self.count += n\n",
    "        self.avg = self.sum / self.count\n",
    "\n",
    "\n",
    "def asMinutes(s):\n",
    "    m = math.floor(s / 60)\n",
    "    s -= m * 60\n",
    "    return '%dm %ds' % (m, s)\n",
    "\n",
    "\n",
    "def timeSince(since, percent):\n",
    "    now = time.time()\n",
    "    s = now - since\n",
    "    es = s / (percent)\n",
    "    rs = es - s\n",
    "    return '%s (remain %s)' % (asMinutes(s), asMinutes(rs))\n",
    "\n",
    "\n",
    "def train_fn(fold, train_loader, model, criterion, optimizer, epoch, scheduler, device):\n",
    "    model.train()\n",
    "    if CFG.apex:\n",
    "        scaler = GradScaler()\n",
    "    losses = AverageMeter()\n",
    "    start = end = time.time()\n",
    "    global_step = 0\n",
    "    for step, (images, labels) in enumerate(train_loader):\n",
    "        images = images.to(device)\n",
    "        labels = labels.to(device)\n",
    "        batch_size = labels.size(0)\n",
    "        if CFG.apex:\n",
    "            with autocast():\n",
    "                y_preds = model(images)\n",
    "                loss = criterion(y_preds.view(-1), labels)\n",
    "        else:\n",
    "            y_preds = model(images)\n",
    "            loss = criterion(y_preds.view(-1), labels)\n",
    "        # record loss\n",
    "        losses.update(loss.item(), batch_size)\n",
    "        if CFG.gradient_accumulation_steps > 1:\n",
    "            loss = loss / CFG.gradient_accumulation_steps\n",
    "        if CFG.apex:\n",
    "            scaler.scale(loss).backward()\n",
    "        else:\n",
    "            loss.backward()\n",
    "        grad_norm = torch.nn.utils.clip_grad_norm_(model.parameters(), CFG.max_grad_norm)\n",
    "        if (step + 1) % CFG.gradient_accumulation_steps == 0:\n",
    "            if CFG.apex:\n",
    "                scaler.step(optimizer)\n",
    "                scaler.update()\n",
    "            else:\n",
    "                optimizer.step()\n",
    "            optimizer.zero_grad()\n",
    "            global_step += 1\n",
    "        end = time.time()\n",
    "        if step % CFG.print_freq == 0 or step == (len(train_loader)-1):\n",
    "            print('Epoch: [{0}][{1}/{2}] Elapsed {remain:s} Loss: {loss.val:.4f}({loss.avg:.4f}) Grad: {grad_norm:.4f}  LR: {lr:.6f}  '\n",
    "                  .format(epoch+1, step, len(train_loader), remain=timeSince(start, float(step+1)/len(train_loader)), \n",
    "                          loss=losses, grad_norm=grad_norm, lr=scheduler.get_lr()[0]))\n",
    "\n",
    "    return losses.avg\n",
    "\n",
    "\n",
    "def valid_fn(valid_loader, model, criterion, device):\n",
    "    model.eval()\n",
    "    losses = AverageMeter()\n",
    "    preds = []\n",
    "    start = end = time.time()\n",
    "    for step, (images, labels) in enumerate(valid_loader):\n",
    "        images = images.to(device)\n",
    "        labels = labels.to(device)\n",
    "        batch_size = labels.size(0)\n",
    "        # compute loss\n",
    "        with torch.no_grad():\n",
    "            y_preds = model(images)\n",
    "        loss = criterion(y_preds.view(-1), labels)\n",
    "        losses.update(loss.item(), batch_size)\n",
    "        # record accuracy\n",
    "        preds.append(y_preds.to('cpu').numpy())\n",
    "        if CFG.gradient_accumulation_steps > 1:\n",
    "            loss = loss / CFG.gradient_accumulation_steps\n",
    "        end = time.time()\n",
    "        if step % CFG.print_freq == 0 or step == (len(valid_loader)-1):\n",
    "            print('EVAL: [{0}/{1}] '\n",
    "                  'Elapsed {remain:s} '\n",
    "                  'Loss: {loss.val:.4f}({loss.avg:.4f}) '\n",
    "                  .format(step, len(valid_loader),\n",
    "                          loss=losses,\n",
    "                          remain=timeSince(start, float(step+1)/len(valid_loader))))\n",
    "    predictions = np.concatenate(preds)\n",
    "    return losses.avg, predictions"
   ]
  },
  {
   "cell_type": "code",
   "execution_count": 9,
   "metadata": {
    "_cell_guid": "b1076dfc-b9ad-4769-8c92-a6c4dae69d19",
    "_uuid": "8f2839f25d086af736a60e9eeb907d3b93b6e0e5",
    "execution": {
     "iopub.execute_input": "2021-09-25T01:39:32.035336Z",
     "iopub.status.busy": "2021-09-25T01:39:32.035065Z",
     "iopub.status.idle": "2021-09-25T01:39:32.055932Z",
     "shell.execute_reply": "2021-09-25T01:39:32.055078Z",
     "shell.execute_reply.started": "2021-09-25T01:39:32.035295Z"
    },
    "papermill": {
     "duration": 0.075124,
     "end_time": "2021-08-04T01:25:30.031874",
     "exception": false,
     "start_time": "2021-08-04T01:25:29.95675",
     "status": "completed"
    },
    "tags": []
   },
   "outputs": [],
   "source": [
    "# ====================================================\n",
    "# Train loop\n",
    "# ====================================================\n",
    "def train_loop(folds, fold, seed):\n",
    "    \n",
    "    LOGGER.info(f\"========== fold: {fold} training ==========\")\n",
    "\n",
    "    # ====================================================\n",
    "    # loader\n",
    "    # ====================================================\n",
    "    trn_idx = folds[folds['fold'] != fold].index\n",
    "    val_idx = folds[folds['fold'] == fold].index\n",
    "\n",
    "    train_folds = folds.loc[trn_idx].reset_index(drop=True)\n",
    "    valid_folds = folds.loc[val_idx].reset_index(drop=True)\n",
    "    valid_labels = valid_folds[CFG.target_col].values\n",
    "\n",
    "    train_dataset = TrainDataset(train_folds, transform=get_transforms(data='train'))\n",
    "    valid_dataset = TrainDataset(valid_folds, transform=get_transforms(data='train'))\n",
    "\n",
    "    train_loader = DataLoader(train_dataset,\n",
    "                              batch_size=CFG.batch_size, \n",
    "                              shuffle=True, \n",
    "                              num_workers=CFG.num_workers, pin_memory=True, drop_last=True)\n",
    "    valid_loader = DataLoader(valid_dataset, \n",
    "                              batch_size=CFG.batch_size * 2, \n",
    "                              shuffle=False, \n",
    "                              num_workers=CFG.num_workers, pin_memory=True, drop_last=False)\n",
    "    \n",
    "    # ====================================================\n",
    "    # scheduler \n",
    "    # ====================================================\n",
    "    def get_scheduler(optimizer):\n",
    "        if CFG.scheduler=='ReduceLROnPlateau':\n",
    "            scheduler = ReduceLROnPlateau(optimizer, mode='min', factor=CFG.factor, patience=CFG.patience, verbose=True, eps=CFG.eps)\n",
    "        elif CFG.scheduler=='CosineAnnealingLR':\n",
    "            scheduler = CosineAnnealingLR(optimizer, T_max=CFG.T_max, eta_min=CFG.min_lr, last_epoch=-1)\n",
    "        elif CFG.scheduler=='CosineAnnealingWarmRestarts':\n",
    "            scheduler = CosineAnnealingWarmRestarts(optimizer, T_0=CFG.T_0, T_mult=1, eta_min=CFG.min_lr, last_epoch=-1)\n",
    "        return scheduler\n",
    "\n",
    "    # ====================================================\n",
    "    # model & optimizer\n",
    "    # ====================================================\n",
    "    model = CustomModel(CFG, pretrained=True)\n",
    "    model.to(device)\n",
    "\n",
    "    optimizer = Adam(model.parameters(), lr=CFG.lr, weight_decay=CFG.weight_decay, amsgrad=False)\n",
    "    scheduler = get_scheduler(optimizer)\n",
    "\n",
    "    # ====================================================\n",
    "    # loop\n",
    "    # ====================================================\n",
    "    criterion = RMSELoss()\n",
    "\n",
    "    best_score = np.inf\n",
    "    best_loss = np.inf\n",
    "    \n",
    "    for epoch in range(CFG.epochs):\n",
    "        \n",
    "        start_time = time.time()\n",
    "        \n",
    "        # train\n",
    "        avg_loss = train_fn(fold, train_loader, model, criterion, optimizer, epoch, scheduler, device)\n",
    "\n",
    "        # eval\n",
    "        avg_val_loss, preds = valid_fn(valid_loader, model, criterion, device)\n",
    "        \n",
    "        if isinstance(scheduler, ReduceLROnPlateau):\n",
    "            scheduler.step(avg_val_loss)\n",
    "        elif isinstance(scheduler, CosineAnnealingLR):\n",
    "            scheduler.step()\n",
    "        elif isinstance(scheduler, CosineAnnealingWarmRestarts):\n",
    "            scheduler.step()\n",
    "\n",
    "        # scoring\n",
    "        score = get_score(valid_labels, preds)\n",
    "\n",
    "        elapsed = time.time() - start_time\n",
    "\n",
    "        LOGGER.info(f'Epoch {epoch+1} - avg_train_loss: {avg_loss:.4f}  avg_val_loss: {avg_val_loss:.4f}  time: {elapsed:.0f}s')\n",
    "        LOGGER.info(f'Epoch {epoch+1} - Score: {score:.4f}')\n",
    "       \n",
    "        if score < best_score:\n",
    "            best_score = score\n",
    "            LOGGER.info(f'Epoch {epoch+1} - Save Best Score: {best_score:.4f} Model')\n",
    "            torch.save({'model': model.state_dict(), 'preds': preds}, OUTPUT_DIR+f'{CFG.model_name}_{CFG.kfold}_fold{fold}_seed{seed}_best.pth')\n",
    "    \n",
    "    valid_folds['preds'] = torch.load(OUTPUT_DIR+f'{CFG.model_name}_{CFG.kfold}_fold{fold}_seed{seed}_best.pth', \n",
    "                                      map_location=torch.device('cpu'))['preds']\n",
    "\n",
    "    return valid_folds"
   ]
  },
  {
   "cell_type": "code",
   "execution_count": 10,
   "metadata": {
    "execution": {
     "iopub.execute_input": "2021-09-25T01:39:32.057783Z",
     "iopub.status.busy": "2021-09-25T01:39:32.057505Z",
     "iopub.status.idle": "2021-09-25T01:39:32.077182Z",
     "shell.execute_reply": "2021-09-25T01:39:32.076545Z",
     "shell.execute_reply.started": "2021-09-25T01:39:32.057752Z"
    },
    "papermill": {
     "duration": 0.073141,
     "end_time": "2021-08-04T01:25:30.156241",
     "exception": false,
     "start_time": "2021-08-04T01:25:30.0831",
     "status": "completed"
    },
    "tags": []
   },
   "outputs": [],
   "source": [
    "# ====================================================\n",
    "# main\n",
    "# ====================================================\n",
    "def main():\n",
    "\n",
    "    \"\"\"\n",
    "    Prepare: 1.train \n",
    "    \"\"\"\n",
    "\n",
    "    def get_result(result_df):\n",
    "        preds = result_df['preds'].values\n",
    "        labels = result_df[CFG.target_col].values\n",
    "        score = get_score(labels, preds)\n",
    "        LOGGER.info(f'Score: {score:<.4f}')\n",
    "    \n",
    "    for seed in CFG.seed:\n",
    "        LOGGER.info(f\"========== seed{seed} ==========\")\n",
    "        seed_torch()\n",
    "\n",
    "        train = pd.read_csv('/home/yamanaka/Estimate_KIc_with_ViT/Mototake_Analysis/VGG+GP/inout_data.csv', header=None, names=['Id', 'KIc'])\n",
    "        train['file_path'] = ['/home/yamanaka/Estimate_KIc_with_ViT/Mototake_Analysis/VGG+GP/imagedata/' + str(i) + '.jpg' for i in train['Id']]\n",
    "\n",
    "        if CFG.debug:\n",
    "            CFG.epochs = 1\n",
    "            train = train.sample(n=100, random_state=seed).reset_index(drop=True)\n",
    "\n",
    "        if CFG.kfold == 'Kfold':\n",
    "            Fold = KFold(n_splits=CFG.n_fold, shuffle=True, random_state=seed)\n",
    "            for n, (train_index, val_index) in enumerate(Fold.split(train)):\n",
    "                train.loc[val_index, 'fold'] = int(n)\n",
    "            train['fold'] = train['fold'].astype(int)\n",
    "        elif CFG.kfold == \"StratifiedKfold\":\n",
    "            num_bins = int(np.floor(1 + np.log2(len(train))))\n",
    "            train[\"bins\"] = pd.cut(train[CFG.target_col], bins=num_bins, labels=False)\n",
    "            Fold = StratifiedKFold(n_splits=CFG.n_fold, shuffle=True, random_state=seed)\n",
    "            for n, (train_index, val_index) in enumerate(Fold.split(train, train[\"bins\"])):\n",
    "                train.loc[val_index, 'fold'] = int(n)\n",
    "            train['fold'] = train['fold'].astype(int)\n",
    "\n",
    "        # train \n",
    "        oof_df = pd.DataFrame()\n",
    "        for fold in range(CFG.n_fold):\n",
    "            _oof_df = train_loop(train, fold, seed)\n",
    "            oof_df = pd.concat([oof_df, _oof_df])\n",
    "            LOGGER.info(f\"========== fold: {fold} result ==========\")\n",
    "            get_result(_oof_df)\n",
    "\n",
    "        # CV result\n",
    "        LOGGER.info(f\"========== CV ==========\")\n",
    "        get_result(oof_df)\n",
    "\n",
    "        # save result\n",
    "        oof_df.to_csv(OUTPUT_DIR+f'{CFG.model_name}_{CFG.kfold}_seed{seed}_oof_df.csv', index=False)"
   ]
  },
  {
   "cell_type": "code",
   "execution_count": 11,
   "metadata": {
    "_cell_guid": "79c7e3d0-c299-4dcb-8224-4455121ee9b0",
    "_uuid": "d629ff2d2480ee46fbb7e2d37f6b5fab8052498a",
    "execution": {
     "iopub.execute_input": "2021-09-25T01:39:32.080653Z",
     "iopub.status.busy": "2021-09-25T01:39:32.080395Z",
     "iopub.status.idle": "2021-09-25T01:43:14.486097Z",
     "shell.execute_reply": "2021-09-25T01:43:14.484211Z",
     "shell.execute_reply.started": "2021-09-25T01:39:32.080626Z"
    },
    "papermill": {
     "duration": 25805.563027,
     "end_time": "2021-08-04T08:35:35.784865",
     "exception": false,
     "start_time": "2021-08-04T01:25:30.221838",
     "status": "completed"
    },
    "scrolled": false,
    "tags": []
   },
   "outputs": [
    {
     "name": "stderr",
     "output_type": "stream",
     "text": [
      "========== seed42 ==========\n",
      "========== fold: 0 training ==========\n"
     ]
    },
    {
     "name": "stdout",
     "output_type": "stream",
     "text": [
      "Epoch: [1][0/19] Elapsed 0m 1s (remain 0m 26s) Loss: 2.9623(2.9623) Grad: 26.7360  LR: 0.000100  \n",
      "Epoch: [1][10/19] Elapsed 0m 2s (remain 0m 2s) Loss: 0.6838(1.2698) Grad: 22.6091  LR: 0.000100  \n",
      "Epoch: [1][18/19] Elapsed 0m 4s (remain 0m 0s) Loss: 0.5597(0.9438) Grad: 20.3776  LR: 0.000100  \n",
      "EVAL: [0/3] Elapsed 0m 0s (remain 0m 0s) Loss: 0.5104(0.5104) \n"
     ]
    },
    {
     "name": "stderr",
     "output_type": "stream",
     "text": [
      "Epoch 1 - avg_train_loss: 0.9438  avg_val_loss: 0.4478  time: 5s\n",
      "Epoch 1 - Score: 0.4511\n",
      "Epoch 1 - Save Best Score: 0.4511 Model\n"
     ]
    },
    {
     "name": "stdout",
     "output_type": "stream",
     "text": [
      "EVAL: [2/3] Elapsed 0m 0s (remain 0m 0s) Loss: 0.4297(0.4478) \n",
      "Epoch: [2][0/19] Elapsed 0m 0s (remain 0m 2s) Loss: 0.4315(0.4315) Grad: 26.5125  LR: 0.000057  \n",
      "Epoch: [2][10/19] Elapsed 0m 1s (remain 0m 1s) Loss: 0.3711(0.3911) Grad: 7.3567  LR: 0.000057  \n",
      "Epoch: [2][18/19] Elapsed 0m 2s (remain 0m 0s) Loss: 0.5682(0.4099) Grad: 13.2958  LR: 0.000057  \n",
      "EVAL: [0/3] Elapsed 0m 0s (remain 0m 0s) Loss: 0.3927(0.3927) \n"
     ]
    },
    {
     "name": "stderr",
     "output_type": "stream",
     "text": [
      "Epoch 2 - avg_train_loss: 0.4099  avg_val_loss: 0.3990  time: 3s\n",
      "Epoch 2 - Score: 0.3990\n",
      "Epoch 2 - Save Best Score: 0.3990 Model\n"
     ]
    },
    {
     "name": "stdout",
     "output_type": "stream",
     "text": [
      "EVAL: [2/3] Elapsed 0m 0s (remain 0m 0s) Loss: 0.4059(0.3990) \n",
      "Epoch: [3][0/19] Elapsed 0m 0s (remain 0m 2s) Loss: 0.2499(0.2499) Grad: 9.1601  LR: 0.000009  \n",
      "Epoch: [3][10/19] Elapsed 0m 1s (remain 0m 1s) Loss: 0.3123(0.3204) Grad: 15.4035  LR: 0.000009  \n",
      "Epoch: [3][18/19] Elapsed 0m 2s (remain 0m 0s) Loss: 0.3327(0.3160) Grad: 5.8844  LR: 0.000009  \n",
      "EVAL: [0/3] Elapsed 0m 0s (remain 0m 0s) Loss: 0.3045(0.3045) \n"
     ]
    },
    {
     "name": "stderr",
     "output_type": "stream",
     "text": [
      "Epoch 3 - avg_train_loss: 0.3160  avg_val_loss: 0.3363  time: 4s\n",
      "Epoch 3 - Score: 0.3380\n",
      "Epoch 3 - Save Best Score: 0.3380 Model\n"
     ]
    },
    {
     "name": "stdout",
     "output_type": "stream",
     "text": [
      "EVAL: [2/3] Elapsed 0m 0s (remain 0m 0s) Loss: 0.3175(0.3363) \n",
      "Epoch: [4][0/19] Elapsed 0m 0s (remain 0m 2s) Loss: 0.3009(0.3009) Grad: 9.9894  LR: 0.000001  \n",
      "Epoch: [4][10/19] Elapsed 0m 1s (remain 0m 1s) Loss: 0.2256(0.2751) Grad: 11.9325  LR: 0.000001  \n",
      "Epoch: [4][18/19] Elapsed 0m 2s (remain 0m 0s) Loss: 0.3675(0.2765) Grad: 5.4084  LR: 0.000001  \n",
      "EVAL: [0/3] Elapsed 0m 0s (remain 0m 0s) Loss: 0.3481(0.3481) \n"
     ]
    },
    {
     "name": "stderr",
     "output_type": "stream",
     "text": [
      "Epoch 4 - avg_train_loss: 0.2765  avg_val_loss: 0.3459  time: 3s\n",
      "Epoch 4 - Score: 0.3465\n"
     ]
    },
    {
     "name": "stdout",
     "output_type": "stream",
     "text": [
      "EVAL: [2/3] Elapsed 0m 0s (remain 0m 0s) Loss: 0.3007(0.3459) \n",
      "Epoch: [5][0/19] Elapsed 0m 0s (remain 0m 2s) Loss: 0.2361(0.2361) Grad: 6.9503  LR: 0.000050  \n",
      "Epoch: [5][10/19] Elapsed 0m 1s (remain 0m 1s) Loss: 0.3196(0.3099) Grad: 18.3717  LR: 0.000050  \n",
      "Epoch: [5][18/19] Elapsed 0m 2s (remain 0m 0s) Loss: 0.2380(0.2905) Grad: 5.4521  LR: 0.000050  \n",
      "EVAL: [0/3] Elapsed 0m 0s (remain 0m 0s) Loss: 0.3229(0.3229) \n"
     ]
    },
    {
     "name": "stderr",
     "output_type": "stream",
     "text": [
      "Epoch 5 - avg_train_loss: 0.2905  avg_val_loss: 0.3227  time: 4s\n",
      "Epoch 5 - Score: 0.3232\n",
      "Epoch 5 - Save Best Score: 0.3232 Model\n"
     ]
    },
    {
     "name": "stdout",
     "output_type": "stream",
     "text": [
      "EVAL: [2/3] Elapsed 0m 0s (remain 0m 0s) Loss: 0.2871(0.3227) \n",
      "Epoch: [6][0/19] Elapsed 0m 0s (remain 0m 2s) Loss: 0.1875(0.1875) Grad: 6.8127  LR: 0.000224  \n",
      "Epoch: [6][10/19] Elapsed 0m 1s (remain 0m 1s) Loss: 0.2373(0.2841) Grad: 12.9395  LR: 0.000224  \n",
      "Epoch: [6][18/19] Elapsed 0m 2s (remain 0m 0s) Loss: 0.2763(0.2669) Grad: 14.2459  LR: 0.000224  \n",
      "EVAL: [0/3] Elapsed 0m 0s (remain 0m 0s) Loss: 0.3245(0.3245) \n"
     ]
    },
    {
     "name": "stderr",
     "output_type": "stream",
     "text": [
      "Epoch 6 - avg_train_loss: 0.2669  avg_val_loss: 0.3332  time: 3s\n",
      "Epoch 6 - Score: 0.3332\n"
     ]
    },
    {
     "name": "stdout",
     "output_type": "stream",
     "text": [
      "EVAL: [2/3] Elapsed 0m 0s (remain 0m 0s) Loss: 0.3386(0.3332) \n",
      "Epoch: [7][0/19] Elapsed 0m 0s (remain 0m 2s) Loss: 0.2662(0.2662) Grad: 4.9922  LR: 0.000133  \n",
      "Epoch: [7][10/19] Elapsed 0m 1s (remain 0m 1s) Loss: 0.3617(0.2646) Grad: 23.4099  LR: 0.000133  \n",
      "Epoch: [7][18/19] Elapsed 0m 2s (remain 0m 0s) Loss: 0.2096(0.2656) Grad: 6.9473  LR: 0.000133  \n",
      "EVAL: [0/3] Elapsed 0m 0s (remain 0m 0s) Loss: 0.4503(0.4503) \n"
     ]
    },
    {
     "name": "stderr",
     "output_type": "stream",
     "text": [
      "Epoch 7 - avg_train_loss: 0.2656  avg_val_loss: 0.4623  time: 3s\n",
      "Epoch 7 - Score: 0.4644\n"
     ]
    },
    {
     "name": "stdout",
     "output_type": "stream",
     "text": [
      "EVAL: [2/3] Elapsed 0m 0s (remain 0m 0s) Loss: 0.3831(0.4623) \n",
      "Epoch: [8][0/19] Elapsed 0m 0s (remain 0m 2s) Loss: 0.3775(0.3775) Grad: 17.5727  LR: 0.000057  \n",
      "Epoch: [8][10/19] Elapsed 0m 1s (remain 0m 1s) Loss: 0.2000(0.2363) Grad: 9.6695  LR: 0.000057  \n",
      "Epoch: [8][18/19] Elapsed 0m 2s (remain 0m 0s) Loss: 0.3414(0.2518) Grad: 11.2709  LR: 0.000057  \n",
      "EVAL: [0/3] Elapsed 0m 0s (remain 0m 0s) Loss: 0.3541(0.3541) \n"
     ]
    },
    {
     "name": "stderr",
     "output_type": "stream",
     "text": [
      "Epoch 8 - avg_train_loss: 0.2518  avg_val_loss: 0.3676  time: 3s\n",
      "Epoch 8 - Score: 0.3689\n"
     ]
    },
    {
     "name": "stdout",
     "output_type": "stream",
     "text": [
      "EVAL: [2/3] Elapsed 0m 0s (remain 0m 0s) Loss: 0.3170(0.3676) \n",
      "Epoch: [9][0/19] Elapsed 0m 0s (remain 0m 2s) Loss: 0.2156(0.2156) Grad: 7.6785  LR: 0.000009  \n",
      "Epoch: [9][10/19] Elapsed 0m 1s (remain 0m 1s) Loss: 0.1648(0.2045) Grad: 3.9661  LR: 0.000009  \n",
      "Epoch: [9][18/19] Elapsed 0m 2s (remain 0m 0s) Loss: 0.1425(0.2023) Grad: 17.7064  LR: 0.000009  \n",
      "EVAL: [0/3] Elapsed 0m 0s (remain 0m 0s) Loss: 0.3030(0.3030) \n"
     ]
    },
    {
     "name": "stderr",
     "output_type": "stream",
     "text": [
      "Epoch 9 - avg_train_loss: 0.2023  avg_val_loss: 0.2933  time: 3s\n",
      "Epoch 9 - Score: 0.2937\n",
      "Epoch 9 - Save Best Score: 0.2937 Model\n"
     ]
    },
    {
     "name": "stdout",
     "output_type": "stream",
     "text": [
      "EVAL: [2/3] Elapsed 0m 0s (remain 0m 0s) Loss: 0.2604(0.2933) \n",
      "Epoch: [10][0/19] Elapsed 0m 0s (remain 0m 2s) Loss: 0.1953(0.1953) Grad: 13.2258  LR: 0.000001  \n",
      "Epoch: [10][10/19] Elapsed 0m 1s (remain 0m 1s) Loss: 0.1393(0.1745) Grad: 7.6734  LR: 0.000001  \n",
      "Epoch: [10][18/19] Elapsed 0m 2s (remain 0m 0s) Loss: 0.1727(0.1664) Grad: 11.0475  LR: 0.000001  \n",
      "EVAL: [0/3] Elapsed 0m 0s (remain 0m 0s) Loss: 0.3285(0.3285) \n"
     ]
    },
    {
     "name": "stderr",
     "output_type": "stream",
     "text": [
      "Epoch 10 - avg_train_loss: 0.1664  avg_val_loss: 0.3141  time: 3s\n",
      "Epoch 10 - Score: 0.3152\n"
     ]
    },
    {
     "name": "stdout",
     "output_type": "stream",
     "text": [
      "EVAL: [2/3] Elapsed 0m 0s (remain 0m 0s) Loss: 0.2554(0.3141) \n",
      "Epoch: [11][0/19] Elapsed 0m 0s (remain 0m 2s) Loss: 0.1665(0.1665) Grad: 10.9090  LR: 0.000050  \n",
      "Epoch: [11][10/19] Elapsed 0m 1s (remain 0m 1s) Loss: 0.1516(0.1866) Grad: 8.5522  LR: 0.000050  \n",
      "Epoch: [11][18/19] Elapsed 0m 2s (remain 0m 0s) Loss: 0.1299(0.1740) Grad: 9.6843  LR: 0.000050  \n",
      "EVAL: [0/3] Elapsed 0m 0s (remain 0m 0s) Loss: 0.3018(0.3018) \n"
     ]
    },
    {
     "name": "stderr",
     "output_type": "stream",
     "text": [
      "Epoch 11 - avg_train_loss: 0.1740  avg_val_loss: 0.3032  time: 4s\n",
      "Epoch 11 - Score: 0.3032\n"
     ]
    },
    {
     "name": "stdout",
     "output_type": "stream",
     "text": [
      "EVAL: [2/3] Elapsed 0m 0s (remain 0m 0s) Loss: 0.2923(0.3032) \n",
      "Epoch: [12][0/19] Elapsed 0m 0s (remain 0m 2s) Loss: 0.1569(0.1569) Grad: 8.4455  LR: 0.000224  \n",
      "Epoch: [12][10/19] Elapsed 0m 1s (remain 0m 1s) Loss: 0.1570(0.1717) Grad: 15.1332  LR: 0.000224  \n",
      "Epoch: [12][18/19] Elapsed 0m 2s (remain 0m 0s) Loss: 0.1357(0.1844) Grad: 4.9235  LR: 0.000224  \n",
      "EVAL: [0/3] Elapsed 0m 0s (remain 0m 0s) Loss: 0.3377(0.3377) \n"
     ]
    },
    {
     "name": "stderr",
     "output_type": "stream",
     "text": [
      "Epoch 12 - avg_train_loss: 0.1844  avg_val_loss: 0.3221  time: 3s\n",
      "Epoch 12 - Score: 0.3227\n"
     ]
    },
    {
     "name": "stdout",
     "output_type": "stream",
     "text": [
      "EVAL: [2/3] Elapsed 0m 0s (remain 0m 0s) Loss: 0.2823(0.3221) \n",
      "Epoch: [13][0/19] Elapsed 0m 0s (remain 0m 2s) Loss: 0.1705(0.1705) Grad: 10.1799  LR: 0.000133  \n",
      "Epoch: [13][10/19] Elapsed 0m 1s (remain 0m 1s) Loss: 0.2212(0.2184) Grad: 8.5401  LR: 0.000133  \n",
      "Epoch: [13][18/19] Elapsed 0m 2s (remain 0m 0s) Loss: 0.2182(0.2181) Grad: 15.1685  LR: 0.000133  \n",
      "EVAL: [0/3] Elapsed 0m 0s (remain 0m 0s) Loss: 0.3736(0.3736) \n"
     ]
    },
    {
     "name": "stderr",
     "output_type": "stream",
     "text": [
      "Epoch 13 - avg_train_loss: 0.2181  avg_val_loss: 0.3543  time: 3s\n",
      "Epoch 13 - Score: 0.3549\n"
     ]
    },
    {
     "name": "stdout",
     "output_type": "stream",
     "text": [
      "EVAL: [2/3] Elapsed 0m 0s (remain 0m 0s) Loss: 0.3133(0.3543) \n",
      "Epoch: [14][0/19] Elapsed 0m 0s (remain 0m 2s) Loss: 0.2366(0.2366) Grad: 14.3760  LR: 0.000057  \n",
      "Epoch: [14][10/19] Elapsed 0m 1s (remain 0m 1s) Loss: 0.2724(0.2102) Grad: 18.1850  LR: 0.000057  \n",
      "Epoch: [14][18/19] Elapsed 0m 2s (remain 0m 0s) Loss: 0.2300(0.2221) Grad: 15.6762  LR: 0.000057  \n",
      "EVAL: [0/3] Elapsed 0m 0s (remain 0m 0s) Loss: 0.2935(0.2935) \n"
     ]
    },
    {
     "name": "stderr",
     "output_type": "stream",
     "text": [
      "Epoch 14 - avg_train_loss: 0.2221  avg_val_loss: 0.3296  time: 3s\n",
      "Epoch 14 - Score: 0.3315\n"
     ]
    },
    {
     "name": "stdout",
     "output_type": "stream",
     "text": [
      "EVAL: [2/3] Elapsed 0m 0s (remain 0m 0s) Loss: 0.3207(0.3296) \n",
      "Epoch: [15][0/19] Elapsed 0m 0s (remain 0m 2s) Loss: 0.2500(0.2500) Grad: 16.0718  LR: 0.000009  \n",
      "Epoch: [15][10/19] Elapsed 0m 1s (remain 0m 1s) Loss: 0.1426(0.1774) Grad: 7.3245  LR: 0.000009  \n",
      "Epoch: [15][18/19] Elapsed 0m 2s (remain 0m 0s) Loss: 0.1458(0.1699) Grad: 17.4002  LR: 0.000009  \n",
      "EVAL: [0/3] Elapsed 0m 0s (remain 0m 0s) Loss: 0.2901(0.2901) \n"
     ]
    },
    {
     "name": "stderr",
     "output_type": "stream",
     "text": [
      "Epoch 15 - avg_train_loss: 0.1699  avg_val_loss: 0.2804  time: 3s\n",
      "Epoch 15 - Score: 0.2808\n",
      "Epoch 15 - Save Best Score: 0.2808 Model\n"
     ]
    },
    {
     "name": "stdout",
     "output_type": "stream",
     "text": [
      "EVAL: [2/3] Elapsed 0m 0s (remain 0m 0s) Loss: 0.2488(0.2804) \n",
      "Epoch: [16][0/19] Elapsed 0m 0s (remain 0m 2s) Loss: 0.1300(0.1300) Grad: 6.9832  LR: 0.000001  \n",
      "Epoch: [16][10/19] Elapsed 0m 1s (remain 0m 1s) Loss: 0.0908(0.1439) Grad: 8.8804  LR: 0.000001  \n",
      "Epoch: [16][18/19] Elapsed 0m 2s (remain 0m 0s) Loss: 0.1327(0.1388) Grad: 3.8098  LR: 0.000001  \n",
      "EVAL: [0/3] Elapsed 0m 0s (remain 0m 0s) Loss: 0.2825(0.2825) \n"
     ]
    },
    {
     "name": "stderr",
     "output_type": "stream",
     "text": [
      "Epoch 16 - avg_train_loss: 0.1388  avg_val_loss: 0.2721  time: 3s\n",
      "Epoch 16 - Score: 0.2724\n",
      "Epoch 16 - Save Best Score: 0.2724 Model\n"
     ]
    },
    {
     "name": "stdout",
     "output_type": "stream",
     "text": [
      "EVAL: [2/3] Elapsed 0m 0s (remain 0m 0s) Loss: 0.2478(0.2721) \n",
      "Epoch: [17][0/19] Elapsed 0m 0s (remain 0m 2s) Loss: 0.1336(0.1336) Grad: 4.3944  LR: 0.000050  \n",
      "Epoch: [17][10/19] Elapsed 0m 1s (remain 0m 1s) Loss: 0.1322(0.1346) Grad: 14.7561  LR: 0.000050  \n",
      "Epoch: [17][18/19] Elapsed 0m 2s (remain 0m 0s) Loss: 0.1524(0.1336) Grad: 4.3214  LR: 0.000050  \n",
      "EVAL: [0/3] Elapsed 0m 0s (remain 0m 0s) Loss: 0.2895(0.2895) \n"
     ]
    },
    {
     "name": "stderr",
     "output_type": "stream",
     "text": [
      "Epoch 17 - avg_train_loss: 0.1336  avg_val_loss: 0.2815  time: 4s\n",
      "Epoch 17 - Score: 0.2818\n"
     ]
    },
    {
     "name": "stdout",
     "output_type": "stream",
     "text": [
      "EVAL: [2/3] Elapsed 0m 0s (remain 0m 0s) Loss: 0.2527(0.2815) \n",
      "Epoch: [18][0/19] Elapsed 0m 0s (remain 0m 2s) Loss: 0.1044(0.1044) Grad: 5.8412  LR: 0.000224  \n",
      "Epoch: [18][10/19] Elapsed 0m 1s (remain 0m 1s) Loss: 0.1511(0.1413) Grad: 15.4423  LR: 0.000224  \n",
      "Epoch: [18][18/19] Elapsed 0m 2s (remain 0m 0s) Loss: 0.1293(0.1425) Grad: 3.7115  LR: 0.000224  \n",
      "EVAL: [0/3] Elapsed 0m 0s (remain 0m 0s) Loss: 0.2961(0.2961) \n"
     ]
    },
    {
     "name": "stderr",
     "output_type": "stream",
     "text": [
      "Epoch 18 - avg_train_loss: 0.1425  avg_val_loss: 0.2806  time: 4s\n",
      "Epoch 18 - Score: 0.2809\n"
     ]
    },
    {
     "name": "stdout",
     "output_type": "stream",
     "text": [
      "EVAL: [2/3] Elapsed 0m 0s (remain 0m 0s) Loss: 0.2653(0.2806) \n",
      "Epoch: [19][0/19] Elapsed 0m 0s (remain 0m 2s) Loss: 0.1309(0.1309) Grad: 10.2818  LR: 0.000133  \n",
      "Epoch: [19][10/19] Elapsed 0m 1s (remain 0m 1s) Loss: 0.1840(0.1833) Grad: 11.8592  LR: 0.000133  \n",
      "Epoch: [19][18/19] Elapsed 0m 2s (remain 0m 0s) Loss: 0.2343(0.1912) Grad: 14.4432  LR: 0.000133  \n",
      "EVAL: [0/3] Elapsed 0m 0s (remain 0m 0s) Loss: 0.3364(0.3364) \n"
     ]
    },
    {
     "name": "stderr",
     "output_type": "stream",
     "text": [
      "Epoch 19 - avg_train_loss: 0.1912  avg_val_loss: 0.3187  time: 3s\n",
      "Epoch 19 - Score: 0.3194\n"
     ]
    },
    {
     "name": "stdout",
     "output_type": "stream",
     "text": [
      "EVAL: [2/3] Elapsed 0m 0s (remain 0m 0s) Loss: 0.2762(0.3187) \n",
      "Epoch: [20][0/19] Elapsed 0m 0s (remain 0m 2s) Loss: 0.1833(0.1833) Grad: 12.5889  LR: 0.000057  \n",
      "Epoch: [20][10/19] Elapsed 0m 1s (remain 0m 1s) Loss: 0.1681(0.1659) Grad: 9.1399  LR: 0.000057  \n",
      "Epoch: [20][18/19] Elapsed 0m 2s (remain 0m 0s) Loss: 0.2010(0.1674) Grad: 12.0091  LR: 0.000057  \n",
      "EVAL: [0/3] Elapsed 0m 0s (remain 0m 0s) Loss: 0.3508(0.3508) \n"
     ]
    },
    {
     "name": "stderr",
     "output_type": "stream",
     "text": [
      "Epoch 20 - avg_train_loss: 0.1674  avg_val_loss: 0.3488  time: 3s\n",
      "Epoch 20 - Score: 0.3489\n"
     ]
    },
    {
     "name": "stdout",
     "output_type": "stream",
     "text": [
      "EVAL: [2/3] Elapsed 0m 0s (remain 0m 0s) Loss: 0.3393(0.3488) \n",
      "Epoch: [21][0/19] Elapsed 0m 0s (remain 0m 2s) Loss: 0.2460(0.2460) Grad: 19.6918  LR: 0.000009  \n",
      "Epoch: [21][10/19] Elapsed 0m 1s (remain 0m 1s) Loss: 0.1369(0.1809) Grad: 9.1131  LR: 0.000009  \n",
      "Epoch: [21][18/19] Elapsed 0m 2s (remain 0m 0s) Loss: 0.1114(0.1639) Grad: 3.7105  LR: 0.000009  \n",
      "EVAL: [0/3] Elapsed 0m 0s (remain 0m 0s) Loss: 0.2663(0.2663) \n"
     ]
    },
    {
     "name": "stderr",
     "output_type": "stream",
     "text": [
      "Epoch 21 - avg_train_loss: 0.1639  avg_val_loss: 0.2717  time: 3s\n",
      "Epoch 21 - Score: 0.2717\n",
      "Epoch 21 - Save Best Score: 0.2717 Model\n"
     ]
    },
    {
     "name": "stdout",
     "output_type": "stream",
     "text": [
      "EVAL: [2/3] Elapsed 0m 0s (remain 0m 0s) Loss: 0.2779(0.2717) \n",
      "Epoch: [22][0/19] Elapsed 0m 0s (remain 0m 2s) Loss: 0.1130(0.1130) Grad: 4.0173  LR: 0.000001  \n",
      "Epoch: [22][10/19] Elapsed 0m 1s (remain 0m 1s) Loss: 0.1022(0.1156) Grad: 4.7474  LR: 0.000001  \n",
      "Epoch: [22][18/19] Elapsed 0m 2s (remain 0m 0s) Loss: 0.1310(0.1164) Grad: 5.3448  LR: 0.000001  \n",
      "EVAL: [0/3] Elapsed 0m 0s (remain 0m 0s) Loss: 0.2926(0.2926) \n"
     ]
    },
    {
     "name": "stderr",
     "output_type": "stream",
     "text": [
      "Epoch 22 - avg_train_loss: 0.1164  avg_val_loss: 0.2778  time: 4s\n",
      "Epoch 22 - Score: 0.2781\n"
     ]
    },
    {
     "name": "stdout",
     "output_type": "stream",
     "text": [
      "EVAL: [2/3] Elapsed 0m 0s (remain 0m 0s) Loss: 0.2532(0.2778) \n",
      "Epoch: [23][0/19] Elapsed 0m 0s (remain 0m 2s) Loss: 0.1168(0.1168) Grad: 4.8111  LR: 0.000050  \n",
      "Epoch: [23][10/19] Elapsed 0m 1s (remain 0m 1s) Loss: 0.1297(0.1081) Grad: 4.7525  LR: 0.000050  \n",
      "Epoch: [23][18/19] Elapsed 0m 2s (remain 0m 0s) Loss: 0.1312(0.1181) Grad: 16.0844  LR: 0.000050  \n",
      "EVAL: [0/3] Elapsed 0m 0s (remain 0m 0s) Loss: 0.2784(0.2784) \n"
     ]
    },
    {
     "name": "stderr",
     "output_type": "stream",
     "text": [
      "Epoch 23 - avg_train_loss: 0.1181  avg_val_loss: 0.2848  time: 4s\n",
      "Epoch 23 - Score: 0.2851\n"
     ]
    },
    {
     "name": "stdout",
     "output_type": "stream",
     "text": [
      "EVAL: [2/3] Elapsed 0m 0s (remain 0m 0s) Loss: 0.2628(0.2848) \n",
      "Epoch: [24][0/19] Elapsed 0m 0s (remain 0m 2s) Loss: 0.1247(0.1247) Grad: 3.4087  LR: 0.000224  \n",
      "Epoch: [24][10/19] Elapsed 0m 1s (remain 0m 1s) Loss: 0.1495(0.1126) Grad: 14.2192  LR: 0.000224  \n",
      "Epoch: [24][18/19] Elapsed 0m 2s (remain 0m 0s) Loss: 0.0982(0.1155) Grad: 3.6244  LR: 0.000224  \n",
      "EVAL: [0/3] Elapsed 0m 0s (remain 0m 0s) Loss: 0.3134(0.3134) \n"
     ]
    },
    {
     "name": "stderr",
     "output_type": "stream",
     "text": [
      "Epoch 24 - avg_train_loss: 0.1155  avg_val_loss: 0.2880  time: 3s\n",
      "Epoch 24 - Score: 0.2891\n"
     ]
    },
    {
     "name": "stdout",
     "output_type": "stream",
     "text": [
      "EVAL: [2/3] Elapsed 0m 0s (remain 0m 0s) Loss: 0.2437(0.2880) \n",
      "Epoch: [25][0/19] Elapsed 0m 0s (remain 0m 2s) Loss: 0.1496(0.1496) Grad: 16.4536  LR: 0.000133  \n",
      "Epoch: [25][10/19] Elapsed 0m 1s (remain 0m 1s) Loss: 0.1936(0.1670) Grad: 18.3025  LR: 0.000133  \n",
      "Epoch: [25][18/19] Elapsed 0m 2s (remain 0m 0s) Loss: 0.1332(0.1807) Grad: 3.7660  LR: 0.000133  \n",
      "EVAL: [0/3] Elapsed 0m 0s (remain 0m 0s) Loss: 0.2712(0.2712) \n"
     ]
    },
    {
     "name": "stderr",
     "output_type": "stream",
     "text": [
      "Epoch 25 - avg_train_loss: 0.1807  avg_val_loss: 0.2945  time: 3s\n",
      "Epoch 25 - Score: 0.2952\n"
     ]
    },
    {
     "name": "stdout",
     "output_type": "stream",
     "text": [
      "EVAL: [2/3] Elapsed 0m 0s (remain 0m 0s) Loss: 0.3015(0.2945) \n",
      "Epoch: [26][0/19] Elapsed 0m 0s (remain 0m 2s) Loss: 0.1655(0.1655) Grad: 8.3089  LR: 0.000057  \n",
      "Epoch: [26][10/19] Elapsed 0m 1s (remain 0m 1s) Loss: 0.1484(0.1621) Grad: 10.9755  LR: 0.000057  \n",
      "Epoch: [26][18/19] Elapsed 0m 2s (remain 0m 0s) Loss: 0.1691(0.1518) Grad: 11.9341  LR: 0.000057  \n",
      "EVAL: [0/3] Elapsed 0m 0s (remain 0m 0s) Loss: 0.3232(0.3232) \n"
     ]
    },
    {
     "name": "stderr",
     "output_type": "stream",
     "text": [
      "Epoch 26 - avg_train_loss: 0.1518  avg_val_loss: 0.2922  time: 3s\n",
      "Epoch 26 - Score: 0.2940\n"
     ]
    },
    {
     "name": "stdout",
     "output_type": "stream",
     "text": [
      "EVAL: [2/3] Elapsed 0m 0s (remain 0m 0s) Loss: 0.2298(0.2922) \n",
      "Epoch: [27][0/19] Elapsed 0m 0s (remain 0m 2s) Loss: 0.1526(0.1526) Grad: 8.1348  LR: 0.000009  \n",
      "Epoch: [27][10/19] Elapsed 0m 1s (remain 0m 1s) Loss: 0.1044(0.1335) Grad: 9.1307  LR: 0.000009  \n",
      "Epoch: [27][18/19] Elapsed 0m 2s (remain 0m 0s) Loss: 0.1551(0.1265) Grad: 3.8212  LR: 0.000009  \n",
      "EVAL: [0/3] Elapsed 0m 0s (remain 0m 0s) Loss: 0.2943(0.2943) \n"
     ]
    },
    {
     "name": "stderr",
     "output_type": "stream",
     "text": [
      "Epoch 27 - avg_train_loss: 0.1265  avg_val_loss: 0.2892  time: 3s\n",
      "Epoch 27 - Score: 0.2892\n"
     ]
    },
    {
     "name": "stdout",
     "output_type": "stream",
     "text": [
      "EVAL: [2/3] Elapsed 0m 0s (remain 0m 0s) Loss: 0.2778(0.2892) \n",
      "Epoch: [28][0/19] Elapsed 0m 0s (remain 0m 2s) Loss: 0.0959(0.0959) Grad: 2.7330  LR: 0.000001  \n",
      "Epoch: [28][10/19] Elapsed 0m 1s (remain 0m 1s) Loss: 0.1142(0.1040) Grad: 8.5732  LR: 0.000001  \n",
      "Epoch: [28][18/19] Elapsed 0m 2s (remain 0m 0s) Loss: 0.1108(0.1044) Grad: 7.4511  LR: 0.000001  \n",
      "EVAL: [0/3] Elapsed 0m 0s (remain 0m 0s) Loss: 0.2915(0.2915) \n"
     ]
    },
    {
     "name": "stderr",
     "output_type": "stream",
     "text": [
      "Epoch 28 - avg_train_loss: 0.1044  avg_val_loss: 0.2740  time: 4s\n",
      "Epoch 28 - Score: 0.2744\n"
     ]
    },
    {
     "name": "stdout",
     "output_type": "stream",
     "text": [
      "EVAL: [2/3] Elapsed 0m 0s (remain 0m 0s) Loss: 0.2593(0.2740) \n",
      "Epoch: [29][0/19] Elapsed 0m 0s (remain 0m 2s) Loss: 0.0882(0.0882) Grad: 8.6955  LR: 0.000050  \n",
      "Epoch: [29][10/19] Elapsed 0m 1s (remain 0m 1s) Loss: 0.1020(0.1132) Grad: 13.8169  LR: 0.000050  \n",
      "Epoch: [29][18/19] Elapsed 0m 2s (remain 0m 0s) Loss: 0.0911(0.1075) Grad: 6.6886  LR: 0.000050  \n",
      "EVAL: [0/3] Elapsed 0m 0s (remain 0m 0s) Loss: 0.2968(0.2968) \n"
     ]
    },
    {
     "name": "stderr",
     "output_type": "stream",
     "text": [
      "Epoch 29 - avg_train_loss: 0.1075  avg_val_loss: 0.2783  time: 4s\n",
      "Epoch 29 - Score: 0.2788\n"
     ]
    },
    {
     "name": "stdout",
     "output_type": "stream",
     "text": [
      "EVAL: [2/3] Elapsed 0m 0s (remain 0m 0s) Loss: 0.2559(0.2783) \n",
      "Epoch: [30][0/19] Elapsed 0m 0s (remain 0m 2s) Loss: 0.0818(0.0818) Grad: 3.8139  LR: 0.000224  \n",
      "Epoch: [30][10/19] Elapsed 0m 1s (remain 0m 1s) Loss: 0.1812(0.1306) Grad: 20.4407  LR: 0.000224  \n",
      "Epoch: [30][18/19] Elapsed 0m 2s (remain 0m 0s) Loss: 0.0995(0.1446) Grad: 3.8203  LR: 0.000224  \n",
      "EVAL: [0/3] Elapsed 0m 0s (remain 0m 0s) Loss: 0.3396(0.3396) \n"
     ]
    },
    {
     "name": "stderr",
     "output_type": "stream",
     "text": [
      "Epoch 30 - avg_train_loss: 0.1446  avg_val_loss: 0.3084  time: 4s\n",
      "Epoch 30 - Score: 0.3106\n"
     ]
    },
    {
     "name": "stdout",
     "output_type": "stream",
     "text": [
      "EVAL: [2/3] Elapsed 0m 0s (remain 0m 0s) Loss: 0.3412(0.3084) \n",
      "Epoch: [31][0/19] Elapsed 0m 0s (remain 0m 2s) Loss: 0.2145(0.2145) Grad: 18.0435  LR: 0.000133  \n",
      "Epoch: [31][10/19] Elapsed 0m 1s (remain 0m 1s) Loss: 0.2351(0.2271) Grad: 16.3519  LR: 0.000133  \n",
      "Epoch: [31][18/19] Elapsed 0m 2s (remain 0m 0s) Loss: 0.2329(0.2018) Grad: 21.2191  LR: 0.000133  \n",
      "EVAL: [0/3] Elapsed 0m 0s (remain 0m 0s) Loss: 0.3035(0.3035) \n"
     ]
    },
    {
     "name": "stderr",
     "output_type": "stream",
     "text": [
      "Epoch 31 - avg_train_loss: 0.2018  avg_val_loss: 0.2993  time: 4s\n",
      "Epoch 31 - Score: 0.2993\n"
     ]
    },
    {
     "name": "stdout",
     "output_type": "stream",
     "text": [
      "EVAL: [2/3] Elapsed 0m 0s (remain 0m 0s) Loss: 0.2925(0.2993) \n",
      "Epoch: [32][0/19] Elapsed 0m 0s (remain 0m 2s) Loss: 0.1904(0.1904) Grad: 16.0940  LR: 0.000057  \n",
      "Epoch: [32][10/19] Elapsed 0m 1s (remain 0m 1s) Loss: 0.1848(0.1857) Grad: 12.0322  LR: 0.000057  \n",
      "Epoch: [32][18/19] Elapsed 0m 2s (remain 0m 0s) Loss: 0.1383(0.1779) Grad: 6.4187  LR: 0.000057  \n",
      "EVAL: [0/3] Elapsed 0m 0s (remain 0m 0s) Loss: 0.2829(0.2829) \n"
     ]
    },
    {
     "name": "stderr",
     "output_type": "stream",
     "text": [
      "Epoch 32 - avg_train_loss: 0.1779  avg_val_loss: 0.2657  time: 4s\n",
      "Epoch 32 - Score: 0.2661\n",
      "Epoch 32 - Save Best Score: 0.2661 Model\n"
     ]
    },
    {
     "name": "stdout",
     "output_type": "stream",
     "text": [
      "EVAL: [2/3] Elapsed 0m 0s (remain 0m 0s) Loss: 0.2456(0.2657) \n",
      "Epoch: [33][0/19] Elapsed 0m 0s (remain 0m 2s) Loss: 0.1676(0.1676) Grad: 4.7319  LR: 0.000009  \n",
      "Epoch: [33][10/19] Elapsed 0m 1s (remain 0m 1s) Loss: 0.1304(0.1323) Grad: 16.7586  LR: 0.000009  \n",
      "Epoch: [33][18/19] Elapsed 0m 2s (remain 0m 0s) Loss: 0.1378(0.1308) Grad: 11.3045  LR: 0.000009  \n",
      "EVAL: [0/3] Elapsed 0m 0s (remain 0m 0s) Loss: 0.2969(0.2969) \n"
     ]
    },
    {
     "name": "stderr",
     "output_type": "stream",
     "text": [
      "Epoch 33 - avg_train_loss: 0.1308  avg_val_loss: 0.2816  time: 4s\n",
      "Epoch 33 - Score: 0.2823\n"
     ]
    },
    {
     "name": "stdout",
     "output_type": "stream",
     "text": [
      "EVAL: [2/3] Elapsed 0m 0s (remain 0m 0s) Loss: 0.2392(0.2816) \n",
      "Epoch: [34][0/19] Elapsed 0m 0s (remain 0m 2s) Loss: 0.0943(0.0943) Grad: 8.8272  LR: 0.000001  \n",
      "Epoch: [34][10/19] Elapsed 0m 1s (remain 0m 1s) Loss: 0.0973(0.0995) Grad: 2.8903  LR: 0.000001  \n",
      "Epoch: [34][18/19] Elapsed 0m 2s (remain 0m 0s) Loss: 0.1244(0.1025) Grad: 13.2077  LR: 0.000001  \n",
      "EVAL: [0/3] Elapsed 0m 0s (remain 0m 0s) Loss: 0.2943(0.2943) \n"
     ]
    },
    {
     "name": "stderr",
     "output_type": "stream",
     "text": [
      "Epoch 34 - avg_train_loss: 0.1025  avg_val_loss: 0.2864  time: 4s\n",
      "Epoch 34 - Score: 0.2865\n"
     ]
    },
    {
     "name": "stdout",
     "output_type": "stream",
     "text": [
      "EVAL: [2/3] Elapsed 0m 0s (remain 0m 0s) Loss: 0.2697(0.2864) \n",
      "Epoch: [35][0/19] Elapsed 0m 0s (remain 0m 2s) Loss: 0.0832(0.0832) Grad: 3.7108  LR: 0.000050  \n",
      "Epoch: [35][10/19] Elapsed 0m 1s (remain 0m 1s) Loss: 0.1001(0.0989) Grad: 14.3412  LR: 0.000050  \n",
      "Epoch: [35][18/19] Elapsed 0m 2s (remain 0m 0s) Loss: 0.1076(0.0970) Grad: 4.5087  LR: 0.000050  \n",
      "EVAL: [0/3] Elapsed 0m 0s (remain 0m 0s) Loss: 0.2815(0.2815) \n"
     ]
    },
    {
     "name": "stderr",
     "output_type": "stream",
     "text": [
      "Epoch 35 - avg_train_loss: 0.0970  avg_val_loss: 0.2723  time: 3s\n",
      "Epoch 35 - Score: 0.2726\n"
     ]
    },
    {
     "name": "stdout",
     "output_type": "stream",
     "text": [
      "EVAL: [2/3] Elapsed 0m 0s (remain 0m 0s) Loss: 0.2415(0.2723) \n",
      "Epoch: [36][0/19] Elapsed 0m 0s (remain 0m 2s) Loss: 0.0838(0.0838) Grad: 12.5529  LR: 0.000224  \n",
      "Epoch: [36][10/19] Elapsed 0m 1s (remain 0m 1s) Loss: 0.0764(0.0973) Grad: 5.4225  LR: 0.000224  \n",
      "Epoch: [36][18/19] Elapsed 0m 2s (remain 0m 0s) Loss: 0.1671(0.1149) Grad: 13.6633  LR: 0.000224  \n",
      "EVAL: [0/3] Elapsed 0m 0s (remain 0m 0s) Loss: 0.2868(0.2868) \n"
     ]
    },
    {
     "name": "stderr",
     "output_type": "stream",
     "text": [
      "Epoch 36 - avg_train_loss: 0.1149  avg_val_loss: 0.2792  time: 4s\n",
      "Epoch 36 - Score: 0.2800\n"
     ]
    },
    {
     "name": "stdout",
     "output_type": "stream",
     "text": [
      "EVAL: [2/3] Elapsed 0m 0s (remain 0m 0s) Loss: 0.2318(0.2792) \n",
      "Epoch: [37][0/19] Elapsed 0m 0s (remain 0m 2s) Loss: 0.1774(0.1774) Grad: 16.8067  LR: 0.000133  \n",
      "Epoch: [37][10/19] Elapsed 0m 1s (remain 0m 1s) Loss: 0.1261(0.1582) Grad: 3.2124  LR: 0.000133  \n",
      "Epoch: [37][18/19] Elapsed 0m 2s (remain 0m 0s) Loss: 0.1910(0.1689) Grad: 20.2475  LR: 0.000133  \n",
      "EVAL: [0/3] Elapsed 0m 0s (remain 0m 0s) Loss: 0.3024(0.3024) \n"
     ]
    },
    {
     "name": "stderr",
     "output_type": "stream",
     "text": [
      "Epoch 37 - avg_train_loss: 0.1689  avg_val_loss: 0.3154  time: 4s\n",
      "Epoch 37 - Score: 0.3156\n"
     ]
    },
    {
     "name": "stdout",
     "output_type": "stream",
     "text": [
      "EVAL: [2/3] Elapsed 0m 0s (remain 0m 0s) Loss: 0.3297(0.3154) \n",
      "Epoch: [38][0/19] Elapsed 0m 0s (remain 0m 2s) Loss: 0.1520(0.1520) Grad: 17.0097  LR: 0.000057  \n",
      "Epoch: [38][10/19] Elapsed 0m 1s (remain 0m 1s) Loss: 0.1586(0.1530) Grad: 10.2347  LR: 0.000057  \n",
      "Epoch: [38][18/19] Elapsed 0m 2s (remain 0m 0s) Loss: 0.1084(0.1403) Grad: 7.5214  LR: 0.000057  \n",
      "EVAL: [0/3] Elapsed 0m 0s (remain 0m 0s) Loss: 0.2834(0.2834) \n"
     ]
    },
    {
     "name": "stderr",
     "output_type": "stream",
     "text": [
      "Epoch 38 - avg_train_loss: 0.1403  avg_val_loss: 0.2674  time: 3s\n",
      "Epoch 38 - Score: 0.2679\n"
     ]
    },
    {
     "name": "stdout",
     "output_type": "stream",
     "text": [
      "EVAL: [2/3] Elapsed 0m 0s (remain 0m 0s) Loss: 0.2394(0.2674) \n",
      "Epoch: [39][0/19] Elapsed 0m 0s (remain 0m 2s) Loss: 0.1202(0.1202) Grad: 6.4062  LR: 0.000009  \n",
      "Epoch: [39][10/19] Elapsed 0m 1s (remain 0m 1s) Loss: 0.0892(0.1065) Grad: 8.2761  LR: 0.000009  \n",
      "Epoch: [39][18/19] Elapsed 0m 2s (remain 0m 0s) Loss: 0.1321(0.1070) Grad: 6.4012  LR: 0.000009  \n",
      "EVAL: [0/3] Elapsed 0m 0s (remain 0m 0s) Loss: 0.2730(0.2730) \n"
     ]
    },
    {
     "name": "stderr",
     "output_type": "stream",
     "text": [
      "Epoch 39 - avg_train_loss: 0.1070  avg_val_loss: 0.2647  time: 4s\n",
      "Epoch 39 - Score: 0.2651\n",
      "Epoch 39 - Save Best Score: 0.2651 Model\n"
     ]
    },
    {
     "name": "stdout",
     "output_type": "stream",
     "text": [
      "EVAL: [2/3] Elapsed 0m 0s (remain 0m 0s) Loss: 0.2333(0.2647) \n",
      "Epoch: [40][0/19] Elapsed 0m 0s (remain 0m 2s) Loss: 0.1024(0.1024) Grad: 4.7913  LR: 0.000001  \n",
      "Epoch: [40][10/19] Elapsed 0m 1s (remain 0m 1s) Loss: 0.0780(0.0894) Grad: 2.7329  LR: 0.000001  \n",
      "Epoch: [40][18/19] Elapsed 0m 2s (remain 0m 0s) Loss: 0.0859(0.0912) Grad: 4.3335  LR: 0.000001  \n",
      "EVAL: [0/3] Elapsed 0m 0s (remain 0m 0s) Loss: 0.2707(0.2707) \n"
     ]
    },
    {
     "name": "stderr",
     "output_type": "stream",
     "text": [
      "Epoch 40 - avg_train_loss: 0.0912  avg_val_loss: 0.2601  time: 4s\n",
      "Epoch 40 - Score: 0.2604\n",
      "Epoch 40 - Save Best Score: 0.2604 Model\n"
     ]
    },
    {
     "name": "stdout",
     "output_type": "stream",
     "text": [
      "EVAL: [2/3] Elapsed 0m 0s (remain 0m 0s) Loss: 0.2347(0.2601) \n"
     ]
    },
    {
     "name": "stderr",
     "output_type": "stream",
     "text": [
      "========== fold: 0 result ==========\n",
      "Score: 0.2604\n",
      "========== fold: 1 training ==========\n"
     ]
    },
    {
     "name": "stdout",
     "output_type": "stream",
     "text": [
      "Epoch: [1][0/19] Elapsed 0m 0s (remain 0m 2s) Loss: 3.4779(3.4779) Grad: 26.2547  LR: 0.000100  \n",
      "Epoch: [1][10/19] Elapsed 0m 1s (remain 0m 1s) Loss: 0.4388(1.3097) Grad: 14.4666  LR: 0.000100  \n",
      "Epoch: [1][18/19] Elapsed 0m 2s (remain 0m 0s) Loss: 0.3471(0.9694) Grad: 6.4495  LR: 0.000100  \n",
      "EVAL: [0/3] Elapsed 0m 0s (remain 0m 0s) Loss: 0.5447(0.5447) \n"
     ]
    },
    {
     "name": "stderr",
     "output_type": "stream",
     "text": [
      "Epoch 1 - avg_train_loss: 0.9694  avg_val_loss: 0.5276  time: 4s\n",
      "Epoch 1 - Score: 0.5340\n",
      "Epoch 1 - Save Best Score: 0.5340 Model\n"
     ]
    },
    {
     "name": "stdout",
     "output_type": "stream",
     "text": [
      "EVAL: [2/3] Elapsed 0m 0s (remain 0m 0s) Loss: 0.3496(0.5276) \n",
      "Epoch: [2][0/19] Elapsed 0m 0s (remain 0m 2s) Loss: 0.4797(0.4797) Grad: 15.9589  LR: 0.000057  \n",
      "Epoch: [2][10/19] Elapsed 0m 1s (remain 0m 1s) Loss: 0.2769(0.3814) Grad: 8.8058  LR: 0.000057  \n",
      "Epoch: [2][18/19] Elapsed 0m 2s (remain 0m 0s) Loss: 0.3351(0.3703) Grad: 6.7416  LR: 0.000057  \n",
      "EVAL: [0/3] Elapsed 0m 0s (remain 0m 0s) Loss: 0.5210(0.5210) \n"
     ]
    },
    {
     "name": "stderr",
     "output_type": "stream",
     "text": [
      "Epoch 2 - avg_train_loss: 0.3703  avg_val_loss: 0.4761  time: 3s\n",
      "Epoch 2 - Score: 0.4834\n",
      "Epoch 2 - Save Best Score: 0.4834 Model\n"
     ]
    },
    {
     "name": "stdout",
     "output_type": "stream",
     "text": [
      "EVAL: [2/3] Elapsed 0m 0s (remain 0m 0s) Loss: 0.2911(0.4761) \n",
      "Epoch: [3][0/19] Elapsed 0m 0s (remain 0m 2s) Loss: 0.4005(0.4005) Grad: 13.9078  LR: 0.000009  \n",
      "Epoch: [3][10/19] Elapsed 0m 1s (remain 0m 1s) Loss: 0.2550(0.3294) Grad: 11.6859  LR: 0.000009  \n",
      "Epoch: [3][18/19] Elapsed 0m 2s (remain 0m 0s) Loss: 0.3003(0.3210) Grad: 15.6808  LR: 0.000009  \n",
      "EVAL: [0/3] Elapsed 0m 0s (remain 0m 0s) Loss: 0.4388(0.4388) \n"
     ]
    },
    {
     "name": "stderr",
     "output_type": "stream",
     "text": [
      "Epoch 3 - avg_train_loss: 0.3210  avg_val_loss: 0.3918  time: 3s\n",
      "Epoch 3 - Score: 0.4010\n",
      "Epoch 3 - Save Best Score: 0.4010 Model\n"
     ]
    },
    {
     "name": "stdout",
     "output_type": "stream",
     "text": [
      "EVAL: [2/3] Elapsed 0m 0s (remain 0m 0s) Loss: 0.2033(0.3918) \n",
      "Epoch: [4][0/19] Elapsed 0m 0s (remain 0m 2s) Loss: 0.3050(0.3050) Grad: 8.2892  LR: 0.000001  \n",
      "Epoch: [4][10/19] Elapsed 0m 1s (remain 0m 1s) Loss: 0.2275(0.2571) Grad: 15.1713  LR: 0.000001  \n",
      "Epoch: [4][18/19] Elapsed 0m 2s (remain 0m 0s) Loss: 0.2572(0.2575) Grad: 6.5114  LR: 0.000001  \n",
      "EVAL: [0/3] Elapsed 0m 0s (remain 0m 0s) Loss: 0.4213(0.4213) \n"
     ]
    },
    {
     "name": "stderr",
     "output_type": "stream",
     "text": [
      "Epoch 4 - avg_train_loss: 0.2575  avg_val_loss: 0.3969  time: 3s\n",
      "Epoch 4 - Score: 0.4009\n",
      "Epoch 4 - Save Best Score: 0.4009 Model\n"
     ]
    },
    {
     "name": "stdout",
     "output_type": "stream",
     "text": [
      "EVAL: [2/3] Elapsed 0m 0s (remain 0m 0s) Loss: 0.2707(0.3969) \n",
      "Epoch: [5][0/19] Elapsed 0m 0s (remain 0m 2s) Loss: 0.2457(0.2457) Grad: 8.1159  LR: 0.000050  \n",
      "Epoch: [5][10/19] Elapsed 0m 1s (remain 0m 1s) Loss: 0.2219(0.2572) Grad: 17.3915  LR: 0.000050  \n",
      "Epoch: [5][18/19] Elapsed 0m 2s (remain 0m 0s) Loss: 0.2077(0.2465) Grad: 4.8622  LR: 0.000050  \n",
      "EVAL: [0/3] Elapsed 0m 0s (remain 0m 0s) Loss: 0.4238(0.4238) \n"
     ]
    },
    {
     "name": "stderr",
     "output_type": "stream",
     "text": [
      "Epoch 5 - avg_train_loss: 0.2465  avg_val_loss: 0.3720  time: 3s\n",
      "Epoch 5 - Score: 0.3808\n",
      "Epoch 5 - Save Best Score: 0.3808 Model\n"
     ]
    },
    {
     "name": "stdout",
     "output_type": "stream",
     "text": [
      "EVAL: [2/3] Elapsed 0m 0s (remain 0m 0s) Loss: 0.1935(0.3720) \n",
      "Epoch: [6][0/19] Elapsed 0m 0s (remain 0m 2s) Loss: 0.1860(0.1860) Grad: 4.4009  LR: 0.000224  \n",
      "Epoch: [6][10/19] Elapsed 0m 1s (remain 0m 1s) Loss: 0.4214(0.2680) Grad: 23.9277  LR: 0.000224  \n",
      "Epoch: [6][18/19] Elapsed 0m 2s (remain 0m 0s) Loss: 0.2738(0.2913) Grad: 15.0847  LR: 0.000224  \n",
      "EVAL: [0/3] Elapsed 0m 0s (remain 0m 0s) Loss: 0.4528(0.4528) \n"
     ]
    },
    {
     "name": "stderr",
     "output_type": "stream",
     "text": [
      "Epoch 6 - avg_train_loss: 0.2913  avg_val_loss: 0.4022  time: 3s\n",
      "Epoch 6 - Score: 0.4097\n"
     ]
    },
    {
     "name": "stdout",
     "output_type": "stream",
     "text": [
      "EVAL: [2/3] Elapsed 0m 0s (remain 0m 0s) Loss: 0.2333(0.4022) \n",
      "Epoch: [7][0/19] Elapsed 0m 0s (remain 0m 2s) Loss: 0.2926(0.2926) Grad: 13.8574  LR: 0.000133  \n",
      "Epoch: [7][10/19] Elapsed 0m 1s (remain 0m 1s) Loss: 0.2760(0.2711) Grad: 5.6717  LR: 0.000133  \n",
      "Epoch: [7][18/19] Elapsed 0m 2s (remain 0m 0s) Loss: 0.3484(0.2898) Grad: 21.1520  LR: 0.000133  \n",
      "EVAL: [0/3] Elapsed 0m 0s (remain 0m 0s) Loss: 0.4732(0.4732) \n"
     ]
    },
    {
     "name": "stderr",
     "output_type": "stream",
     "text": [
      "Epoch 7 - avg_train_loss: 0.2898  avg_val_loss: 0.4327  time: 3s\n",
      "Epoch 7 - Score: 0.4354\n"
     ]
    },
    {
     "name": "stdout",
     "output_type": "stream",
     "text": [
      "EVAL: [2/3] Elapsed 0m 0s (remain 0m 0s) Loss: 0.3331(0.4327) \n",
      "Epoch: [8][0/19] Elapsed 0m 0s (remain 0m 2s) Loss: 0.1703(0.1703) Grad: 4.1310  LR: 0.000057  \n",
      "Epoch: [8][10/19] Elapsed 0m 1s (remain 0m 1s) Loss: 0.3005(0.2593) Grad: 7.9277  LR: 0.000057  \n",
      "Epoch: [8][18/19] Elapsed 0m 2s (remain 0m 0s) Loss: 0.2601(0.2602) Grad: 15.3956  LR: 0.000057  \n",
      "EVAL: [0/3] Elapsed 0m 0s (remain 0m 0s) Loss: 0.4065(0.4065) \n"
     ]
    },
    {
     "name": "stderr",
     "output_type": "stream",
     "text": [
      "Epoch 8 - avg_train_loss: 0.2602  avg_val_loss: 0.3670  time: 3s\n",
      "Epoch 8 - Score: 0.3725\n",
      "Epoch 8 - Save Best Score: 0.3725 Model\n"
     ]
    },
    {
     "name": "stdout",
     "output_type": "stream",
     "text": [
      "EVAL: [2/3] Elapsed 0m 0s (remain 0m 0s) Loss: 0.2267(0.3670) \n",
      "Epoch: [9][0/19] Elapsed 0m 0s (remain 0m 2s) Loss: 0.1741(0.1741) Grad: 3.6437  LR: 0.000009  \n",
      "Epoch: [9][10/19] Elapsed 0m 1s (remain 0m 1s) Loss: 0.2016(0.1981) Grad: 10.3059  LR: 0.000009  \n",
      "Epoch: [9][18/19] Elapsed 0m 2s (remain 0m 0s) Loss: 0.1796(0.1978) Grad: 12.8334  LR: 0.000009  \n",
      "EVAL: [0/3] Elapsed 0m 0s (remain 0m 0s) Loss: 0.4188(0.4188) \n"
     ]
    },
    {
     "name": "stderr",
     "output_type": "stream",
     "text": [
      "Epoch 9 - avg_train_loss: 0.1978  avg_val_loss: 0.3665  time: 3s\n",
      "Epoch 9 - Score: 0.3756\n"
     ]
    },
    {
     "name": "stdout",
     "output_type": "stream",
     "text": [
      "EVAL: [2/3] Elapsed 0m 0s (remain 0m 0s) Loss: 0.1877(0.3665) \n",
      "Epoch: [10][0/19] Elapsed 0m 0s (remain 0m 2s) Loss: 0.1491(0.1491) Grad: 7.2671  LR: 0.000001  \n",
      "Epoch: [10][10/19] Elapsed 0m 1s (remain 0m 1s) Loss: 0.1751(0.1675) Grad: 10.1553  LR: 0.000001  \n",
      "Epoch: [10][18/19] Elapsed 0m 2s (remain 0m 0s) Loss: 0.1295(0.1652) Grad: 11.6725  LR: 0.000001  \n",
      "EVAL: [0/3] Elapsed 0m 0s (remain 0m 0s) Loss: 0.3756(0.3756) \n"
     ]
    },
    {
     "name": "stderr",
     "output_type": "stream",
     "text": [
      "Epoch 10 - avg_train_loss: 0.1652  avg_val_loss: 0.3721  time: 3s\n",
      "Epoch 10 - Score: 0.3771\n"
     ]
    },
    {
     "name": "stdout",
     "output_type": "stream",
     "text": [
      "EVAL: [2/3] Elapsed 0m 0s (remain 0m 0s) Loss: 0.2437(0.3721) \n",
      "Epoch: [11][0/19] Elapsed 0m 0s (remain 0m 2s) Loss: 0.1731(0.1731) Grad: 9.5741  LR: 0.000050  \n",
      "Epoch: [11][10/19] Elapsed 0m 1s (remain 0m 1s) Loss: 0.1690(0.1729) Grad: 7.7077  LR: 0.000050  \n",
      "Epoch: [11][18/19] Elapsed 0m 2s (remain 0m 0s) Loss: 0.1390(0.1679) Grad: 5.6520  LR: 0.000050  \n",
      "EVAL: [0/3] Elapsed 0m 0s (remain 0m 0s) Loss: 0.4340(0.4340) \n"
     ]
    },
    {
     "name": "stderr",
     "output_type": "stream",
     "text": [
      "Epoch 11 - avg_train_loss: 0.1679  avg_val_loss: 0.3748  time: 3s\n",
      "Epoch 11 - Score: 0.3811\n"
     ]
    },
    {
     "name": "stdout",
     "output_type": "stream",
     "text": [
      "EVAL: [2/3] Elapsed 0m 0s (remain 0m 0s) Loss: 0.2357(0.3748) \n",
      "Epoch: [12][0/19] Elapsed 0m 0s (remain 0m 2s) Loss: 0.1429(0.1429) Grad: 12.6641  LR: 0.000224  \n",
      "Epoch: [12][10/19] Elapsed 0m 1s (remain 0m 1s) Loss: 0.2594(0.1722) Grad: 20.9791  LR: 0.000224  \n",
      "Epoch: [12][18/19] Elapsed 0m 2s (remain 0m 0s) Loss: 0.3359(0.2081) Grad: 18.7257  LR: 0.000224  \n",
      "EVAL: [0/3] Elapsed 0m 0s (remain 0m 0s) Loss: 0.3927(0.3927) \n"
     ]
    },
    {
     "name": "stderr",
     "output_type": "stream",
     "text": [
      "Epoch 12 - avg_train_loss: 0.2081  avg_val_loss: 0.3549  time: 3s\n",
      "Epoch 12 - Score: 0.3588\n",
      "Epoch 12 - Save Best Score: 0.3588 Model\n"
     ]
    },
    {
     "name": "stdout",
     "output_type": "stream",
     "text": [
      "EVAL: [2/3] Elapsed 0m 0s (remain 0m 0s) Loss: 0.2420(0.3549) \n",
      "Epoch: [13][0/19] Elapsed 0m 0s (remain 0m 2s) Loss: 0.1972(0.1972) Grad: 13.0162  LR: 0.000133  \n",
      "Epoch: [13][10/19] Elapsed 0m 1s (remain 0m 1s) Loss: 0.1995(0.2698) Grad: 3.5330  LR: 0.000133  \n",
      "Epoch: [13][18/19] Elapsed 0m 2s (remain 0m 0s) Loss: 0.2231(0.2492) Grad: 7.1448  LR: 0.000133  \n",
      "EVAL: [0/3] Elapsed 0m 0s (remain 0m 0s) Loss: 0.4612(0.4612) \n"
     ]
    },
    {
     "name": "stderr",
     "output_type": "stream",
     "text": [
      "Epoch 13 - avg_train_loss: 0.2492  avg_val_loss: 0.4449  time: 3s\n",
      "Epoch 13 - Score: 0.4453\n"
     ]
    },
    {
     "name": "stdout",
     "output_type": "stream",
     "text": [
      "EVAL: [2/3] Elapsed 0m 0s (remain 0m 0s) Loss: 0.4118(0.4449) \n",
      "Epoch: [14][0/19] Elapsed 0m 0s (remain 0m 2s) Loss: 0.2552(0.2552) Grad: 16.3368  LR: 0.000057  \n",
      "Epoch: [14][10/19] Elapsed 0m 1s (remain 0m 1s) Loss: 0.2482(0.2466) Grad: 16.4887  LR: 0.000057  \n",
      "Epoch: [14][18/19] Elapsed 0m 2s (remain 0m 0s) Loss: 0.1880(0.2233) Grad: 4.9679  LR: 0.000057  \n",
      "EVAL: [0/3] Elapsed 0m 0s (remain 0m 0s) Loss: 0.4153(0.4153) \n"
     ]
    },
    {
     "name": "stderr",
     "output_type": "stream",
     "text": [
      "Epoch 14 - avg_train_loss: 0.2233  avg_val_loss: 0.3660  time: 3s\n",
      "Epoch 14 - Score: 0.3695\n"
     ]
    },
    {
     "name": "stdout",
     "output_type": "stream",
     "text": [
      "EVAL: [2/3] Elapsed 0m 0s (remain 0m 0s) Loss: 0.2705(0.3660) \n",
      "Epoch: [15][0/19] Elapsed 0m 0s (remain 0m 2s) Loss: 0.1571(0.1571) Grad: 8.8596  LR: 0.000009  \n",
      "Epoch: [15][10/19] Elapsed 0m 1s (remain 0m 1s) Loss: 0.1136(0.1650) Grad: 5.1539  LR: 0.000009  \n",
      "Epoch: [15][18/19] Elapsed 0m 2s (remain 0m 0s) Loss: 0.1602(0.1576) Grad: 15.7610  LR: 0.000009  \n",
      "EVAL: [0/3] Elapsed 0m 0s (remain 0m 0s) Loss: 0.4221(0.4221) \n"
     ]
    },
    {
     "name": "stderr",
     "output_type": "stream",
     "text": [
      "Epoch 15 - avg_train_loss: 0.1576  avg_val_loss: 0.3763  time: 3s\n",
      "Epoch 15 - Score: 0.3833\n"
     ]
    },
    {
     "name": "stdout",
     "output_type": "stream",
     "text": [
      "EVAL: [2/3] Elapsed 0m 0s (remain 0m 0s) Loss: 0.2166(0.3763) \n",
      "Epoch: [16][0/19] Elapsed 0m 0s (remain 0m 2s) Loss: 0.1515(0.1515) Grad: 12.5324  LR: 0.000001  \n",
      "Epoch: [16][10/19] Elapsed 0m 1s (remain 0m 1s) Loss: 0.1268(0.1474) Grad: 3.3166  LR: 0.000001  \n",
      "Epoch: [16][18/19] Elapsed 0m 2s (remain 0m 0s) Loss: 0.2152(0.1442) Grad: 4.5726  LR: 0.000001  \n",
      "EVAL: [0/3] Elapsed 0m 0s (remain 0m 0s) Loss: 0.3867(0.3867) \n"
     ]
    },
    {
     "name": "stderr",
     "output_type": "stream",
     "text": [
      "Epoch 16 - avg_train_loss: 0.1442  avg_val_loss: 0.3514  time: 3s\n",
      "Epoch 16 - Score: 0.3560\n",
      "Epoch 16 - Save Best Score: 0.3560 Model\n"
     ]
    },
    {
     "name": "stdout",
     "output_type": "stream",
     "text": [
      "EVAL: [2/3] Elapsed 0m 0s (remain 0m 0s) Loss: 0.2262(0.3514) \n",
      "Epoch: [17][0/19] Elapsed 0m 0s (remain 0m 2s) Loss: 0.1366(0.1366) Grad: 7.4981  LR: 0.000050  \n",
      "Epoch: [17][10/19] Elapsed 0m 1s (remain 0m 1s) Loss: 0.1762(0.1508) Grad: 15.9710  LR: 0.000050  \n",
      "Epoch: [17][18/19] Elapsed 0m 2s (remain 0m 0s) Loss: 0.1356(0.1448) Grad: 4.2466  LR: 0.000050  \n",
      "EVAL: [0/3] Elapsed 0m 0s (remain 0m 0s) Loss: 0.3965(0.3965) \n"
     ]
    },
    {
     "name": "stderr",
     "output_type": "stream",
     "text": [
      "Epoch 17 - avg_train_loss: 0.1448  avg_val_loss: 0.3440  time: 3s\n",
      "Epoch 17 - Score: 0.3526\n",
      "Epoch 17 - Save Best Score: 0.3526 Model\n"
     ]
    },
    {
     "name": "stdout",
     "output_type": "stream",
     "text": [
      "EVAL: [2/3] Elapsed 0m 0s (remain 0m 0s) Loss: 0.1771(0.3440) \n",
      "Epoch: [18][0/19] Elapsed 0m 0s (remain 0m 2s) Loss: 0.1812(0.1812) Grad: 7.6259  LR: 0.000224  \n",
      "Epoch: [18][10/19] Elapsed 0m 1s (remain 0m 1s) Loss: 0.1394(0.1549) Grad: 13.6093  LR: 0.000224  \n",
      "Epoch: [18][18/19] Elapsed 0m 2s (remain 0m 0s) Loss: 0.2173(0.1742) Grad: 20.4359  LR: 0.000224  \n",
      "EVAL: [0/3] Elapsed 0m 0s (remain 0m 0s) Loss: 0.4494(0.4494) \n"
     ]
    },
    {
     "name": "stderr",
     "output_type": "stream",
     "text": [
      "Epoch 18 - avg_train_loss: 0.1742  avg_val_loss: 0.3848  time: 3s\n",
      "Epoch 18 - Score: 0.3913\n"
     ]
    },
    {
     "name": "stdout",
     "output_type": "stream",
     "text": [
      "EVAL: [2/3] Elapsed 0m 0s (remain 0m 0s) Loss: 0.2452(0.3848) \n",
      "Epoch: [19][0/19] Elapsed 0m 0s (remain 0m 2s) Loss: 0.2257(0.2257) Grad: 18.1906  LR: 0.000133  \n",
      "Epoch: [19][10/19] Elapsed 0m 1s (remain 0m 1s) Loss: 0.2552(0.2235) Grad: 17.8601  LR: 0.000133  \n",
      "Epoch: [19][18/19] Elapsed 0m 2s (remain 0m 0s) Loss: 0.1551(0.2018) Grad: 9.9217  LR: 0.000133  \n",
      "EVAL: [0/3] Elapsed 0m 0s (remain 0m 0s) Loss: 0.3861(0.3861) \n"
     ]
    },
    {
     "name": "stderr",
     "output_type": "stream",
     "text": [
      "Epoch 19 - avg_train_loss: 0.2018  avg_val_loss: 0.3460  time: 3s\n",
      "Epoch 19 - Score: 0.3491\n",
      "Epoch 19 - Save Best Score: 0.3491 Model\n"
     ]
    },
    {
     "name": "stdout",
     "output_type": "stream",
     "text": [
      "EVAL: [2/3] Elapsed 0m 0s (remain 0m 0s) Loss: 0.2507(0.3460) \n",
      "Epoch: [20][0/19] Elapsed 0m 0s (remain 0m 2s) Loss: 0.1612(0.1612) Grad: 6.9356  LR: 0.000057  \n",
      "Epoch: [20][10/19] Elapsed 0m 1s (remain 0m 1s) Loss: 0.1543(0.1693) Grad: 2.9276  LR: 0.000057  \n",
      "Epoch: [20][18/19] Elapsed 0m 2s (remain 0m 0s) Loss: 0.1477(0.1739) Grad: 4.4377  LR: 0.000057  \n",
      "EVAL: [0/3] Elapsed 0m 0s (remain 0m 0s) Loss: 0.4336(0.4336) \n"
     ]
    },
    {
     "name": "stderr",
     "output_type": "stream",
     "text": [
      "Epoch 20 - avg_train_loss: 0.1739  avg_val_loss: 0.3504  time: 3s\n",
      "Epoch 20 - Score: 0.3605\n"
     ]
    },
    {
     "name": "stdout",
     "output_type": "stream",
     "text": [
      "EVAL: [2/3] Elapsed 0m 0s (remain 0m 0s) Loss: 0.1936(0.3504) \n",
      "Epoch: [21][0/19] Elapsed 0m 0s (remain 0m 2s) Loss: 0.1410(0.1410) Grad: 5.2720  LR: 0.000009  \n",
      "Epoch: [21][10/19] Elapsed 0m 1s (remain 0m 1s) Loss: 0.1753(0.1462) Grad: 5.8521  LR: 0.000009  \n",
      "Epoch: [21][18/19] Elapsed 0m 2s (remain 0m 0s) Loss: 0.1315(0.1406) Grad: 4.1691  LR: 0.000009  \n",
      "EVAL: [0/3] Elapsed 0m 0s (remain 0m 0s) Loss: 0.3870(0.3870) \n"
     ]
    },
    {
     "name": "stderr",
     "output_type": "stream",
     "text": [
      "Epoch 21 - avg_train_loss: 0.1406  avg_val_loss: 0.3280  time: 3s\n",
      "Epoch 21 - Score: 0.3363\n",
      "Epoch 21 - Save Best Score: 0.3363 Model\n"
     ]
    },
    {
     "name": "stdout",
     "output_type": "stream",
     "text": [
      "EVAL: [2/3] Elapsed 0m 0s (remain 0m 0s) Loss: 0.1739(0.3280) \n",
      "Epoch: [22][0/19] Elapsed 0m 0s (remain 0m 2s) Loss: 0.1455(0.1455) Grad: 9.1608  LR: 0.000001  \n",
      "Epoch: [22][10/19] Elapsed 0m 1s (remain 0m 1s) Loss: 0.1251(0.1243) Grad: 10.4833  LR: 0.000001  \n",
      "Epoch: [22][18/19] Elapsed 0m 2s (remain 0m 0s) Loss: 0.1237(0.1189) Grad: 3.7016  LR: 0.000001  \n",
      "EVAL: [0/3] Elapsed 0m 0s (remain 0m 0s) Loss: 0.3865(0.3865) \n"
     ]
    },
    {
     "name": "stderr",
     "output_type": "stream",
     "text": [
      "Epoch 22 - avg_train_loss: 0.1189  avg_val_loss: 0.3358  time: 3s\n",
      "Epoch 22 - Score: 0.3426\n"
     ]
    },
    {
     "name": "stdout",
     "output_type": "stream",
     "text": [
      "EVAL: [2/3] Elapsed 0m 0s (remain 0m 0s) Loss: 0.1921(0.3358) \n",
      "Epoch: [23][0/19] Elapsed 0m 0s (remain 0m 2s) Loss: 0.1210(0.1210) Grad: 5.6963  LR: 0.000050  \n",
      "Epoch: [23][10/19] Elapsed 0m 1s (remain 0m 1s) Loss: 0.1508(0.1287) Grad: 11.9182  LR: 0.000050  \n",
      "Epoch: [23][18/19] Elapsed 0m 2s (remain 0m 0s) Loss: 0.0961(0.1257) Grad: 5.4011  LR: 0.000050  \n",
      "EVAL: [0/3] Elapsed 0m 0s (remain 0m 0s) Loss: 0.4090(0.4090) \n"
     ]
    },
    {
     "name": "stderr",
     "output_type": "stream",
     "text": [
      "Epoch 23 - avg_train_loss: 0.1257  avg_val_loss: 0.3552  time: 3s\n",
      "Epoch 23 - Score: 0.3609\n"
     ]
    },
    {
     "name": "stdout",
     "output_type": "stream",
     "text": [
      "EVAL: [2/3] Elapsed 0m 0s (remain 0m 0s) Loss: 0.2259(0.3552) \n",
      "Epoch: [24][0/19] Elapsed 0m 0s (remain 0m 2s) Loss: 0.1713(0.1713) Grad: 6.9396  LR: 0.000224  \n",
      "Epoch: [24][10/19] Elapsed 0m 1s (remain 0m 1s) Loss: 0.1092(0.1377) Grad: 3.9980  LR: 0.000224  \n",
      "Epoch: [24][18/19] Elapsed 0m 2s (remain 0m 0s) Loss: 0.1339(0.1372) Grad: 7.2471  LR: 0.000224  \n",
      "EVAL: [0/3] Elapsed 0m 0s (remain 0m 0s) Loss: 0.3984(0.3984) \n"
     ]
    },
    {
     "name": "stderr",
     "output_type": "stream",
     "text": [
      "Epoch 24 - avg_train_loss: 0.1372  avg_val_loss: 0.3610  time: 3s\n",
      "Epoch 24 - Score: 0.3670\n"
     ]
    },
    {
     "name": "stdout",
     "output_type": "stream",
     "text": [
      "EVAL: [2/3] Elapsed 0m 0s (remain 0m 0s) Loss: 0.2156(0.3610) \n",
      "Epoch: [25][0/19] Elapsed 0m 0s (remain 0m 2s) Loss: 0.1824(0.1824) Grad: 16.9876  LR: 0.000133  \n",
      "Epoch: [25][10/19] Elapsed 0m 1s (remain 0m 1s) Loss: 0.2059(0.1827) Grad: 9.0146  LR: 0.000133  \n",
      "Epoch: [25][18/19] Elapsed 0m 2s (remain 0m 0s) Loss: 0.1441(0.1637) Grad: 7.9255  LR: 0.000133  \n",
      "EVAL: [0/3] Elapsed 0m 0s (remain 0m 0s) Loss: 0.4152(0.4152) \n"
     ]
    },
    {
     "name": "stderr",
     "output_type": "stream",
     "text": [
      "Epoch 25 - avg_train_loss: 0.1637  avg_val_loss: 0.3600  time: 3s\n",
      "Epoch 25 - Score: 0.3682\n"
     ]
    },
    {
     "name": "stdout",
     "output_type": "stream",
     "text": [
      "EVAL: [2/3] Elapsed 0m 0s (remain 0m 0s) Loss: 0.1943(0.3600) \n",
      "Epoch: [26][0/19] Elapsed 0m 0s (remain 0m 2s) Loss: 0.1485(0.1485) Grad: 4.9068  LR: 0.000057  \n",
      "Epoch: [26][10/19] Elapsed 0m 1s (remain 0m 1s) Loss: 0.1293(0.1456) Grad: 6.0388  LR: 0.000057  \n",
      "Epoch: [26][18/19] Elapsed 0m 2s (remain 0m 0s) Loss: 0.1538(0.1546) Grad: 11.6085  LR: 0.000057  \n",
      "EVAL: [0/3] Elapsed 0m 0s (remain 0m 0s) Loss: 0.3966(0.3966) \n"
     ]
    },
    {
     "name": "stderr",
     "output_type": "stream",
     "text": [
      "Epoch 26 - avg_train_loss: 0.1546  avg_val_loss: 0.3473  time: 3s\n",
      "Epoch 26 - Score: 0.3555\n"
     ]
    },
    {
     "name": "stdout",
     "output_type": "stream",
     "text": [
      "EVAL: [2/3] Elapsed 0m 0s (remain 0m 0s) Loss: 0.1827(0.3473) \n",
      "Epoch: [27][0/19] Elapsed 0m 0s (remain 0m 2s) Loss: 0.1266(0.1266) Grad: 3.7421  LR: 0.000009  \n",
      "Epoch: [27][10/19] Elapsed 0m 1s (remain 0m 1s) Loss: 0.1879(0.1239) Grad: 6.4975  LR: 0.000009  \n",
      "Epoch: [27][18/19] Elapsed 0m 2s (remain 0m 0s) Loss: 0.1682(0.1231) Grad: 3.9710  LR: 0.000009  \n",
      "EVAL: [0/3] Elapsed 0m 0s (remain 0m 0s) Loss: 0.4048(0.4048) \n"
     ]
    },
    {
     "name": "stderr",
     "output_type": "stream",
     "text": [
      "Epoch 27 - avg_train_loss: 0.1231  avg_val_loss: 0.3639  time: 3s\n",
      "Epoch 27 - Score: 0.3684\n"
     ]
    },
    {
     "name": "stdout",
     "output_type": "stream",
     "text": [
      "EVAL: [2/3] Elapsed 0m 0s (remain 0m 0s) Loss: 0.2407(0.3639) \n",
      "Epoch: [28][0/19] Elapsed 0m 0s (remain 0m 2s) Loss: 0.1495(0.1495) Grad: 16.6052  LR: 0.000001  \n",
      "Epoch: [28][10/19] Elapsed 0m 1s (remain 0m 1s) Loss: 0.1176(0.1351) Grad: 7.8354  LR: 0.000001  \n",
      "Epoch: [28][18/19] Elapsed 0m 2s (remain 0m 0s) Loss: 0.0878(0.1212) Grad: 9.2874  LR: 0.000001  \n",
      "EVAL: [0/3] Elapsed 0m 0s (remain 0m 0s) Loss: 0.4043(0.4043) \n"
     ]
    },
    {
     "name": "stderr",
     "output_type": "stream",
     "text": [
      "Epoch 28 - avg_train_loss: 0.1212  avg_val_loss: 0.3369  time: 3s\n",
      "Epoch 28 - Score: 0.3463\n"
     ]
    },
    {
     "name": "stdout",
     "output_type": "stream",
     "text": [
      "EVAL: [2/3] Elapsed 0m 0s (remain 0m 0s) Loss: 0.1725(0.3369) \n",
      "Epoch: [29][0/19] Elapsed 0m 0s (remain 0m 2s) Loss: 0.1050(0.1050) Grad: 6.7083  LR: 0.000050  \n",
      "Epoch: [29][10/19] Elapsed 0m 1s (remain 0m 1s) Loss: 0.0702(0.1061) Grad: 5.9547  LR: 0.000050  \n",
      "Epoch: [29][18/19] Elapsed 0m 2s (remain 0m 0s) Loss: 0.1177(0.1039) Grad: 16.2004  LR: 0.000050  \n",
      "EVAL: [0/3] Elapsed 0m 0s (remain 0m 0s) Loss: 0.3926(0.3926) \n"
     ]
    },
    {
     "name": "stderr",
     "output_type": "stream",
     "text": [
      "Epoch 29 - avg_train_loss: 0.1039  avg_val_loss: 0.3360  time: 3s\n",
      "Epoch 29 - Score: 0.3421\n"
     ]
    },
    {
     "name": "stdout",
     "output_type": "stream",
     "text": [
      "EVAL: [2/3] Elapsed 0m 0s (remain 0m 0s) Loss: 0.2072(0.3360) \n",
      "Epoch: [30][0/19] Elapsed 0m 0s (remain 0m 2s) Loss: 0.0959(0.0959) Grad: 12.8807  LR: 0.000224  \n",
      "Epoch: [30][10/19] Elapsed 0m 1s (remain 0m 1s) Loss: 0.1482(0.1251) Grad: 14.9274  LR: 0.000224  \n",
      "Epoch: [30][18/19] Elapsed 0m 2s (remain 0m 0s) Loss: 0.1687(0.1492) Grad: 18.1353  LR: 0.000224  \n",
      "EVAL: [0/3] Elapsed 0m 0s (remain 0m 0s) Loss: 0.4672(0.4672) \n"
     ]
    },
    {
     "name": "stderr",
     "output_type": "stream",
     "text": [
      "Epoch 30 - avg_train_loss: 0.1492  avg_val_loss: 0.3863  time: 3s\n",
      "Epoch 30 - Score: 0.3980\n"
     ]
    },
    {
     "name": "stdout",
     "output_type": "stream",
     "text": [
      "EVAL: [2/3] Elapsed 0m 0s (remain 0m 0s) Loss: 0.1897(0.3863) \n",
      "Epoch: [31][0/19] Elapsed 0m 0s (remain 0m 2s) Loss: 0.1879(0.1879) Grad: 20.5586  LR: 0.000133  \n",
      "Epoch: [31][10/19] Elapsed 0m 1s (remain 0m 1s) Loss: 0.1802(0.1812) Grad: 14.9202  LR: 0.000133  \n",
      "Epoch: [31][18/19] Elapsed 0m 2s (remain 0m 0s) Loss: 0.1642(0.1718) Grad: 9.1671  LR: 0.000133  \n",
      "EVAL: [0/3] Elapsed 0m 0s (remain 0m 0s) Loss: 0.3782(0.3782) \n"
     ]
    },
    {
     "name": "stderr",
     "output_type": "stream",
     "text": [
      "Epoch 31 - avg_train_loss: 0.1718  avg_val_loss: 0.3368  time: 3s\n",
      "Epoch 31 - Score: 0.3407\n"
     ]
    },
    {
     "name": "stdout",
     "output_type": "stream",
     "text": [
      "EVAL: [2/3] Elapsed 0m 0s (remain 0m 0s) Loss: 0.2299(0.3368) \n",
      "Epoch: [32][0/19] Elapsed 0m 0s (remain 0m 2s) Loss: 0.1407(0.1407) Grad: 5.1289  LR: 0.000057  \n",
      "Epoch: [32][10/19] Elapsed 0m 1s (remain 0m 1s) Loss: 0.1168(0.1327) Grad: 9.1311  LR: 0.000057  \n",
      "Epoch: [32][18/19] Elapsed 0m 2s (remain 0m 0s) Loss: 0.1381(0.1370) Grad: 14.4101  LR: 0.000057  \n",
      "EVAL: [0/3] Elapsed 0m 0s (remain 0m 0s) Loss: 0.4003(0.4003) \n"
     ]
    },
    {
     "name": "stderr",
     "output_type": "stream",
     "text": [
      "Epoch 32 - avg_train_loss: 0.1370  avg_val_loss: 0.3621  time: 3s\n",
      "Epoch 32 - Score: 0.3670\n"
     ]
    },
    {
     "name": "stdout",
     "output_type": "stream",
     "text": [
      "EVAL: [2/3] Elapsed 0m 0s (remain 0m 0s) Loss: 0.2328(0.3621) \n",
      "Epoch: [33][0/19] Elapsed 0m 0s (remain 0m 2s) Loss: 0.1056(0.1056) Grad: 12.2917  LR: 0.000009  \n",
      "Epoch: [33][10/19] Elapsed 0m 1s (remain 0m 1s) Loss: 0.1232(0.1105) Grad: 10.1229  LR: 0.000009  \n",
      "Epoch: [33][18/19] Elapsed 0m 2s (remain 0m 0s) Loss: 0.1147(0.1119) Grad: 11.6018  LR: 0.000009  \n",
      "EVAL: [0/3] Elapsed 0m 0s (remain 0m 0s) Loss: 0.4173(0.4173) \n"
     ]
    },
    {
     "name": "stderr",
     "output_type": "stream",
     "text": [
      "Epoch 33 - avg_train_loss: 0.1119  avg_val_loss: 0.3381  time: 3s\n",
      "Epoch 33 - Score: 0.3502\n"
     ]
    },
    {
     "name": "stdout",
     "output_type": "stream",
     "text": [
      "EVAL: [2/3] Elapsed 0m 0s (remain 0m 0s) Loss: 0.1542(0.3381) \n",
      "Epoch: [34][0/19] Elapsed 0m 0s (remain 0m 2s) Loss: 0.1314(0.1314) Grad: 15.4867  LR: 0.000001  \n",
      "Epoch: [34][10/19] Elapsed 0m 1s (remain 0m 1s) Loss: 0.0879(0.1056) Grad: 6.4392  LR: 0.000001  \n",
      "Epoch: [34][18/19] Elapsed 0m 2s (remain 0m 0s) Loss: 0.0948(0.1018) Grad: 4.2431  LR: 0.000001  \n",
      "EVAL: [0/3] Elapsed 0m 0s (remain 0m 0s) Loss: 0.4042(0.4042) \n"
     ]
    },
    {
     "name": "stderr",
     "output_type": "stream",
     "text": [
      "Epoch 34 - avg_train_loss: 0.1018  avg_val_loss: 0.3401  time: 3s\n",
      "Epoch 34 - Score: 0.3472\n"
     ]
    },
    {
     "name": "stdout",
     "output_type": "stream",
     "text": [
      "EVAL: [2/3] Elapsed 0m 0s (remain 0m 0s) Loss: 0.2039(0.3401) \n",
      "Epoch: [35][0/19] Elapsed 0m 0s (remain 0m 2s) Loss: 0.0869(0.0869) Grad: 3.1905  LR: 0.000050  \n",
      "Epoch: [35][10/19] Elapsed 0m 1s (remain 0m 1s) Loss: 0.1072(0.1070) Grad: 14.8735  LR: 0.000050  \n",
      "Epoch: [35][18/19] Elapsed 0m 2s (remain 0m 0s) Loss: 0.0762(0.1058) Grad: 4.1458  LR: 0.000050  \n",
      "EVAL: [0/3] Elapsed 0m 0s (remain 0m 0s) Loss: 0.4034(0.4034) \n"
     ]
    },
    {
     "name": "stderr",
     "output_type": "stream",
     "text": [
      "Epoch 35 - avg_train_loss: 0.1058  avg_val_loss: 0.3549  time: 3s\n",
      "Epoch 35 - Score: 0.3612\n"
     ]
    },
    {
     "name": "stdout",
     "output_type": "stream",
     "text": [
      "EVAL: [2/3] Elapsed 0m 0s (remain 0m 0s) Loss: 0.2110(0.3549) \n",
      "Epoch: [36][0/19] Elapsed 0m 0s (remain 0m 2s) Loss: 0.0849(0.0849) Grad: 8.8913  LR: 0.000224  \n",
      "Epoch: [36][10/19] Elapsed 0m 1s (remain 0m 1s) Loss: 0.1506(0.1415) Grad: 3.8881  LR: 0.000224  \n",
      "Epoch: [36][18/19] Elapsed 0m 2s (remain 0m 0s) Loss: 0.1003(0.1311) Grad: 9.4289  LR: 0.000224  \n",
      "EVAL: [0/3] Elapsed 0m 0s (remain 0m 0s) Loss: 0.3989(0.3989) \n"
     ]
    },
    {
     "name": "stderr",
     "output_type": "stream",
     "text": [
      "Epoch 36 - avg_train_loss: 0.1311  avg_val_loss: 0.3354  time: 3s\n",
      "Epoch 36 - Score: 0.3438\n"
     ]
    },
    {
     "name": "stdout",
     "output_type": "stream",
     "text": [
      "EVAL: [2/3] Elapsed 0m 0s (remain 0m 0s) Loss: 0.1814(0.3354) \n",
      "Epoch: [37][0/19] Elapsed 0m 0s (remain 0m 2s) Loss: 0.1416(0.1416) Grad: 11.1646  LR: 0.000133  \n",
      "Epoch: [37][10/19] Elapsed 0m 1s (remain 0m 1s) Loss: 0.1277(0.1192) Grad: 7.4225  LR: 0.000133  \n",
      "Epoch: [37][18/19] Elapsed 0m 2s (remain 0m 0s) Loss: 0.1536(0.1284) Grad: 2.9493  LR: 0.000133  \n",
      "EVAL: [0/3] Elapsed 0m 0s (remain 0m 0s) Loss: 0.4066(0.4066) \n"
     ]
    },
    {
     "name": "stderr",
     "output_type": "stream",
     "text": [
      "Epoch 37 - avg_train_loss: 0.1284  avg_val_loss: 0.3448  time: 3s\n",
      "Epoch 37 - Score: 0.3525\n"
     ]
    },
    {
     "name": "stdout",
     "output_type": "stream",
     "text": [
      "EVAL: [2/3] Elapsed 0m 0s (remain 0m 0s) Loss: 0.1948(0.3448) \n",
      "Epoch: [38][0/19] Elapsed 0m 0s (remain 0m 2s) Loss: 0.1720(0.1720) Grad: 12.4876  LR: 0.000057  \n",
      "Epoch: [38][10/19] Elapsed 0m 1s (remain 0m 1s) Loss: 0.1187(0.1282) Grad: 5.7183  LR: 0.000057  \n",
      "Epoch: [38][18/19] Elapsed 0m 2s (remain 0m 0s) Loss: 0.1089(0.1258) Grad: 11.8082  LR: 0.000057  \n",
      "EVAL: [0/3] Elapsed 0m 0s (remain 0m 0s) Loss: 0.4190(0.4190) \n"
     ]
    },
    {
     "name": "stderr",
     "output_type": "stream",
     "text": [
      "Epoch 38 - avg_train_loss: 0.1258  avg_val_loss: 0.3743  time: 3s\n",
      "Epoch 38 - Score: 0.3852\n"
     ]
    },
    {
     "name": "stdout",
     "output_type": "stream",
     "text": [
      "EVAL: [2/3] Elapsed 0m 0s (remain 0m 0s) Loss: 0.1725(0.3743) \n",
      "Epoch: [39][0/19] Elapsed 0m 0s (remain 0m 2s) Loss: 0.1355(0.1355) Grad: 12.5949  LR: 0.000009  \n",
      "Epoch: [39][10/19] Elapsed 0m 1s (remain 0m 1s) Loss: 0.1215(0.1200) Grad: 3.7988  LR: 0.000009  \n",
      "Epoch: [39][18/19] Elapsed 0m 2s (remain 0m 0s) Loss: 0.1025(0.1186) Grad: 4.7852  LR: 0.000009  \n",
      "EVAL: [0/3] Elapsed 0m 0s (remain 0m 0s) Loss: 0.4149(0.4149) \n"
     ]
    },
    {
     "name": "stderr",
     "output_type": "stream",
     "text": [
      "Epoch 39 - avg_train_loss: 0.1186  avg_val_loss: 0.3477  time: 3s\n",
      "Epoch 39 - Score: 0.3549\n"
     ]
    },
    {
     "name": "stdout",
     "output_type": "stream",
     "text": [
      "EVAL: [2/3] Elapsed 0m 0s (remain 0m 0s) Loss: 0.2111(0.3477) \n",
      "Epoch: [40][0/19] Elapsed 0m 0s (remain 0m 2s) Loss: 0.1266(0.1266) Grad: 12.6003  LR: 0.000001  \n",
      "Epoch: [40][10/19] Elapsed 0m 1s (remain 0m 1s) Loss: 0.0925(0.1049) Grad: 4.8047  LR: 0.000001  \n",
      "Epoch: [40][18/19] Elapsed 0m 2s (remain 0m 0s) Loss: 0.0872(0.0978) Grad: 8.1062  LR: 0.000001  \n",
      "EVAL: [0/3] Elapsed 0m 0s (remain 0m 0s) Loss: 0.3927(0.3927) \n"
     ]
    },
    {
     "name": "stderr",
     "output_type": "stream",
     "text": [
      "Epoch 40 - avg_train_loss: 0.0978  avg_val_loss: 0.3292  time: 3s\n",
      "Epoch 40 - Score: 0.3379\n",
      "========== fold: 1 result ==========\n",
      "Score: 0.3363\n",
      "========== fold: 2 training ==========\n"
     ]
    },
    {
     "name": "stdout",
     "output_type": "stream",
     "text": [
      "EVAL: [2/3] Elapsed 0m 0s (remain 0m 0s) Loss: 0.1728(0.3292) \n",
      "Epoch: [1][0/19] Elapsed 0m 0s (remain 0m 2s) Loss: 3.6050(3.6050) Grad: 26.7594  LR: 0.000100  \n",
      "Epoch: [1][10/19] Elapsed 0m 1s (remain 0m 1s) Loss: 0.5323(1.7050) Grad: 16.4453  LR: 0.000100  \n",
      "Epoch: [1][18/19] Elapsed 0m 2s (remain 0m 0s) Loss: 0.4968(1.2570) Grad: 12.4309  LR: 0.000100  \n",
      "EVAL: [0/3] Elapsed 0m 0s (remain 0m 0s) Loss: 0.6771(0.6771) \n"
     ]
    },
    {
     "name": "stderr",
     "output_type": "stream",
     "text": [
      "Epoch 1 - avg_train_loss: 1.2570  avg_val_loss: 0.6341  time: 3s\n",
      "Epoch 1 - Score: 0.6371\n",
      "Epoch 1 - Save Best Score: 0.6371 Model\n"
     ]
    },
    {
     "name": "stdout",
     "output_type": "stream",
     "text": [
      "EVAL: [2/3] Elapsed 0m 0s (remain 0m 0s) Loss: 0.7056(0.6341) \n",
      "Epoch: [2][0/19] Elapsed 0m 0s (remain 0m 2s) Loss: 0.5225(0.5225) Grad: 20.2151  LR: 0.000057  \n",
      "Epoch: [2][10/19] Elapsed 0m 1s (remain 0m 1s) Loss: 0.3181(0.4826) Grad: 5.6122  LR: 0.000057  \n",
      "Epoch: [2][18/19] Elapsed 0m 2s (remain 0m 0s) Loss: 0.4247(0.4885) Grad: 6.6632  LR: 0.000057  \n",
      "EVAL: [0/3] Elapsed 0m 0s (remain 0m 0s) Loss: 0.5851(0.5851) \n"
     ]
    },
    {
     "name": "stderr",
     "output_type": "stream",
     "text": [
      "Epoch 2 - avg_train_loss: 0.4885  avg_val_loss: 0.4961  time: 3s\n",
      "Epoch 2 - Score: 0.5034\n",
      "Epoch 2 - Save Best Score: 0.5034 Model\n"
     ]
    },
    {
     "name": "stdout",
     "output_type": "stream",
     "text": [
      "EVAL: [2/3] Elapsed 0m 0s (remain 0m 0s) Loss: 0.3483(0.4961) \n",
      "Epoch: [3][0/19] Elapsed 0m 0s (remain 0m 2s) Loss: 0.3844(0.3844) Grad: 11.4874  LR: 0.000009  \n",
      "Epoch: [3][10/19] Elapsed 0m 1s (remain 0m 1s) Loss: 0.4318(0.3499) Grad: 17.7759  LR: 0.000009  \n",
      "Epoch: [3][18/19] Elapsed 0m 2s (remain 0m 0s) Loss: 0.3397(0.3430) Grad: 5.8972  LR: 0.000009  \n",
      "EVAL: [0/3] Elapsed 0m 0s (remain 0m 0s) Loss: 0.4942(0.4942) \n"
     ]
    },
    {
     "name": "stderr",
     "output_type": "stream",
     "text": [
      "Epoch 3 - avg_train_loss: 0.3430  avg_val_loss: 0.4411  time: 4s\n",
      "Epoch 3 - Score: 0.4454\n",
      "Epoch 3 - Save Best Score: 0.4454 Model\n"
     ]
    },
    {
     "name": "stdout",
     "output_type": "stream",
     "text": [
      "EVAL: [2/3] Elapsed 0m 0s (remain 0m 0s) Loss: 0.3152(0.4411) \n",
      "Epoch: [4][0/19] Elapsed 0m 0s (remain 0m 2s) Loss: 0.3976(0.3976) Grad: 9.8086  LR: 0.000001  \n",
      "Epoch: [4][10/19] Elapsed 0m 1s (remain 0m 1s) Loss: 0.3403(0.3068) Grad: 8.2374  LR: 0.000001  \n",
      "Epoch: [4][18/19] Elapsed 0m 2s (remain 0m 0s) Loss: 0.3806(0.3037) Grad: 4.2851  LR: 0.000001  \n",
      "EVAL: [0/3] Elapsed 0m 0s (remain 0m 0s) Loss: 0.4867(0.4867) \n"
     ]
    },
    {
     "name": "stderr",
     "output_type": "stream",
     "text": [
      "Epoch 4 - avg_train_loss: 0.3037  avg_val_loss: 0.4339  time: 3s\n",
      "Epoch 4 - Score: 0.4383\n",
      "Epoch 4 - Save Best Score: 0.4383 Model\n"
     ]
    },
    {
     "name": "stdout",
     "output_type": "stream",
     "text": [
      "EVAL: [2/3] Elapsed 0m 0s (remain 0m 0s) Loss: 0.3085(0.4339) \n",
      "Epoch: [5][0/19] Elapsed 0m 0s (remain 0m 2s) Loss: 0.3511(0.3511) Grad: 4.6762  LR: 0.000050  \n",
      "Epoch: [5][10/19] Elapsed 0m 1s (remain 0m 1s) Loss: 0.2457(0.3017) Grad: 15.8363  LR: 0.000050  \n",
      "Epoch: [5][18/19] Elapsed 0m 2s (remain 0m 0s) Loss: 0.2600(0.3003) Grad: 14.6743  LR: 0.000050  \n",
      "EVAL: [0/3] Elapsed 0m 0s (remain 0m 0s) Loss: 0.4916(0.4916) \n"
     ]
    },
    {
     "name": "stderr",
     "output_type": "stream",
     "text": [
      "Epoch 5 - avg_train_loss: 0.3003  avg_val_loss: 0.4336  time: 4s\n",
      "Epoch 5 - Score: 0.4396\n"
     ]
    },
    {
     "name": "stdout",
     "output_type": "stream",
     "text": [
      "EVAL: [2/3] Elapsed 0m 0s (remain 0m 0s) Loss: 0.2821(0.4336) \n",
      "Epoch: [6][0/19] Elapsed 0m 0s (remain 0m 4s) Loss: 0.2663(0.2663) Grad: 17.3199  LR: 0.000224  \n",
      "Epoch: [6][10/19] Elapsed 0m 1s (remain 0m 1s) Loss: 0.3584(0.2837) Grad: 13.1398  LR: 0.000224  \n",
      "Epoch: [6][18/19] Elapsed 0m 2s (remain 0m 0s) Loss: 0.1978(0.2733) Grad: 4.2572  LR: 0.000224  \n",
      "EVAL: [0/3] Elapsed 0m 0s (remain 0m 0s) Loss: 0.4846(0.4846) \n"
     ]
    },
    {
     "name": "stderr",
     "output_type": "stream",
     "text": [
      "Epoch 6 - avg_train_loss: 0.2733  avg_val_loss: 0.4005  time: 4s\n",
      "Epoch 6 - Score: 0.4081\n",
      "Epoch 6 - Save Best Score: 0.4081 Model\n"
     ]
    },
    {
     "name": "stdout",
     "output_type": "stream",
     "text": [
      "EVAL: [2/3] Elapsed 0m 0s (remain 0m 0s) Loss: 0.2711(0.4005) \n",
      "Epoch: [7][0/19] Elapsed 0m 0s (remain 0m 2s) Loss: 0.1903(0.1903) Grad: 5.6810  LR: 0.000133  \n",
      "Epoch: [7][10/19] Elapsed 0m 1s (remain 0m 1s) Loss: 0.2683(0.2370) Grad: 12.7039  LR: 0.000133  \n",
      "Epoch: [7][18/19] Elapsed 0m 2s (remain 0m 0s) Loss: 0.2959(0.2424) Grad: 5.0818  LR: 0.000133  \n",
      "EVAL: [0/3] Elapsed 0m 0s (remain 0m 0s) Loss: 0.5042(0.5042) \n"
     ]
    },
    {
     "name": "stderr",
     "output_type": "stream",
     "text": [
      "Epoch 7 - avg_train_loss: 0.2424  avg_val_loss: 0.4608  time: 4s\n",
      "Epoch 7 - Score: 0.4639\n"
     ]
    },
    {
     "name": "stdout",
     "output_type": "stream",
     "text": [
      "EVAL: [2/3] Elapsed 0m 0s (remain 0m 0s) Loss: 0.3503(0.4608) \n",
      "Epoch: [8][0/19] Elapsed 0m 0s (remain 0m 2s) Loss: 0.2660(0.2660) Grad: 12.0427  LR: 0.000057  \n",
      "Epoch: [8][10/19] Elapsed 0m 1s (remain 0m 1s) Loss: 0.2634(0.2534) Grad: 10.4986  LR: 0.000057  \n",
      "Epoch: [8][18/19] Elapsed 0m 2s (remain 0m 0s) Loss: 0.2409(0.2574) Grad: 17.2595  LR: 0.000057  \n",
      "EVAL: [0/3] Elapsed 0m 0s (remain 0m 0s) Loss: 0.4572(0.4572) \n"
     ]
    },
    {
     "name": "stderr",
     "output_type": "stream",
     "text": [
      "Epoch 8 - avg_train_loss: 0.2574  avg_val_loss: 0.4080  time: 4s\n",
      "Epoch 8 - Score: 0.4116\n"
     ]
    },
    {
     "name": "stdout",
     "output_type": "stream",
     "text": [
      "EVAL: [2/3] Elapsed 0m 0s (remain 0m 0s) Loss: 0.3004(0.4080) \n",
      "Epoch: [9][0/19] Elapsed 0m 0s (remain 0m 2s) Loss: 0.2539(0.2539) Grad: 6.1268  LR: 0.000009  \n",
      "Epoch: [9][10/19] Elapsed 0m 1s (remain 0m 1s) Loss: 0.1495(0.2047) Grad: 4.2096  LR: 0.000009  \n",
      "Epoch: [9][18/19] Elapsed 0m 2s (remain 0m 0s) Loss: 0.1738(0.2082) Grad: 10.7373  LR: 0.000009  \n",
      "EVAL: [0/3] Elapsed 0m 0s (remain 0m 0s) Loss: 0.4783(0.4783) \n"
     ]
    },
    {
     "name": "stderr",
     "output_type": "stream",
     "text": [
      "Epoch 9 - avg_train_loss: 0.2082  avg_val_loss: 0.4022  time: 3s\n",
      "Epoch 9 - Score: 0.4085\n"
     ]
    },
    {
     "name": "stdout",
     "output_type": "stream",
     "text": [
      "EVAL: [2/3] Elapsed 0m 0s (remain 0m 0s) Loss: 0.2834(0.4022) \n",
      "Epoch: [10][0/19] Elapsed 0m 0s (remain 0m 2s) Loss: 0.1810(0.1810) Grad: 6.9721  LR: 0.000001  \n",
      "Epoch: [10][10/19] Elapsed 0m 1s (remain 0m 1s) Loss: 0.2417(0.1777) Grad: 8.2379  LR: 0.000001  \n",
      "Epoch: [10][18/19] Elapsed 0m 2s (remain 0m 0s) Loss: 0.1401(0.1703) Grad: 9.8357  LR: 0.000001  \n",
      "EVAL: [0/3] Elapsed 0m 0s (remain 0m 0s) Loss: 0.4878(0.4878) \n"
     ]
    },
    {
     "name": "stderr",
     "output_type": "stream",
     "text": [
      "Epoch 10 - avg_train_loss: 0.1703  avg_val_loss: 0.4013  time: 3s\n",
      "Epoch 10 - Score: 0.4086\n"
     ]
    },
    {
     "name": "stdout",
     "output_type": "stream",
     "text": [
      "EVAL: [2/3] Elapsed 0m 0s (remain 0m 0s) Loss: 0.2889(0.4013) \n",
      "Epoch: [11][0/19] Elapsed 0m 0s (remain 0m 2s) Loss: 0.2083(0.2083) Grad: 6.9443  LR: 0.000050  \n",
      "Epoch: [11][10/19] Elapsed 0m 1s (remain 0m 1s) Loss: 0.1618(0.1699) Grad: 3.3809  LR: 0.000050  \n",
      "Epoch: [11][18/19] Elapsed 0m 2s (remain 0m 0s) Loss: 0.1673(0.1666) Grad: 13.3475  LR: 0.000050  \n",
      "EVAL: [0/3] Elapsed 0m 0s (remain 0m 0s) Loss: 0.4868(0.4868) \n"
     ]
    },
    {
     "name": "stderr",
     "output_type": "stream",
     "text": [
      "Epoch 11 - avg_train_loss: 0.1666  avg_val_loss: 0.4020  time: 3s\n",
      "Epoch 11 - Score: 0.4125\n"
     ]
    },
    {
     "name": "stdout",
     "output_type": "stream",
     "text": [
      "EVAL: [2/3] Elapsed 0m 0s (remain 0m 0s) Loss: 0.2204(0.4020) \n",
      "Epoch: [12][0/19] Elapsed 0m 0s (remain 0m 2s) Loss: 0.1227(0.1227) Grad: 8.9359  LR: 0.000224  \n",
      "Epoch: [12][10/19] Elapsed 0m 1s (remain 0m 1s) Loss: 0.2245(0.1689) Grad: 5.6199  LR: 0.000224  \n",
      "Epoch: [12][18/19] Elapsed 0m 2s (remain 0m 0s) Loss: 0.1672(0.1783) Grad: 18.3747  LR: 0.000224  \n",
      "EVAL: [0/3] Elapsed 0m 0s (remain 0m 0s) Loss: 0.4823(0.4823) \n"
     ]
    },
    {
     "name": "stderr",
     "output_type": "stream",
     "text": [
      "Epoch 12 - avg_train_loss: 0.1783  avg_val_loss: 0.4395  time: 3s\n",
      "Epoch 12 - Score: 0.4414\n"
     ]
    },
    {
     "name": "stdout",
     "output_type": "stream",
     "text": [
      "EVAL: [2/3] Elapsed 0m 0s (remain 0m 0s) Loss: 0.3699(0.4395) \n",
      "Epoch: [13][0/19] Elapsed 0m 0s (remain 0m 2s) Loss: 0.2511(0.2511) Grad: 20.6051  LR: 0.000133  \n",
      "Epoch: [13][10/19] Elapsed 0m 1s (remain 0m 1s) Loss: 0.3276(0.2491) Grad: 24.1253  LR: 0.000133  \n",
      "Epoch: [13][18/19] Elapsed 0m 2s (remain 0m 0s) Loss: 0.2869(0.2536) Grad: 8.8035  LR: 0.000133  \n",
      "EVAL: [0/3] Elapsed 0m 0s (remain 0m 0s) Loss: 0.5018(0.5018) \n"
     ]
    },
    {
     "name": "stderr",
     "output_type": "stream",
     "text": [
      "Epoch 13 - avg_train_loss: 0.2536  avg_val_loss: 0.4317  time: 4s\n",
      "Epoch 13 - Score: 0.4390\n"
     ]
    },
    {
     "name": "stdout",
     "output_type": "stream",
     "text": [
      "EVAL: [2/3] Elapsed 0m 0s (remain 0m 0s) Loss: 0.2709(0.4317) \n",
      "Epoch: [14][0/19] Elapsed 0m 0s (remain 0m 2s) Loss: 0.2327(0.2327) Grad: 16.0487  LR: 0.000057  \n",
      "Epoch: [14][10/19] Elapsed 0m 1s (remain 0m 1s) Loss: 0.2340(0.2191) Grad: 10.0308  LR: 0.000057  \n",
      "Epoch: [14][18/19] Elapsed 0m 2s (remain 0m 0s) Loss: 0.2468(0.2172) Grad: 13.2169  LR: 0.000057  \n",
      "EVAL: [0/3] Elapsed 0m 0s (remain 0m 0s) Loss: 0.4991(0.4991) \n"
     ]
    },
    {
     "name": "stderr",
     "output_type": "stream",
     "text": [
      "Epoch 14 - avg_train_loss: 0.2172  avg_val_loss: 0.4189  time: 4s\n",
      "Epoch 14 - Score: 0.4250\n"
     ]
    },
    {
     "name": "stdout",
     "output_type": "stream",
     "text": [
      "EVAL: [2/3] Elapsed 0m 0s (remain 0m 0s) Loss: 0.3126(0.4189) \n",
      "Epoch: [15][0/19] Elapsed 0m 0s (remain 0m 2s) Loss: 0.2374(0.2374) Grad: 16.7657  LR: 0.000009  \n",
      "Epoch: [15][10/19] Elapsed 0m 1s (remain 0m 1s) Loss: 0.1402(0.1688) Grad: 4.8643  LR: 0.000009  \n",
      "Epoch: [15][18/19] Elapsed 0m 2s (remain 0m 0s) Loss: 0.1527(0.1604) Grad: 10.8329  LR: 0.000009  \n",
      "EVAL: [0/3] Elapsed 0m 0s (remain 0m 0s) Loss: 0.4589(0.4589) \n"
     ]
    },
    {
     "name": "stderr",
     "output_type": "stream",
     "text": [
      "Epoch 15 - avg_train_loss: 0.1604  avg_val_loss: 0.3996  time: 4s\n",
      "Epoch 15 - Score: 0.4035\n",
      "Epoch 15 - Save Best Score: 0.4035 Model\n"
     ]
    },
    {
     "name": "stdout",
     "output_type": "stream",
     "text": [
      "EVAL: [2/3] Elapsed 0m 0s (remain 0m 0s) Loss: 0.3035(0.3996) \n",
      "Epoch: [16][0/19] Elapsed 0m 0s (remain 0m 2s) Loss: 0.1329(0.1329) Grad: 12.5488  LR: 0.000001  \n",
      "Epoch: [16][10/19] Elapsed 0m 1s (remain 0m 1s) Loss: 0.1245(0.1377) Grad: 3.9426  LR: 0.000001  \n",
      "Epoch: [16][18/19] Elapsed 0m 2s (remain 0m 0s) Loss: 0.1332(0.1315) Grad: 5.4436  LR: 0.000001  \n",
      "EVAL: [0/3] Elapsed 0m 0s (remain 0m 0s) Loss: 0.4685(0.4685) \n"
     ]
    },
    {
     "name": "stderr",
     "output_type": "stream",
     "text": [
      "Epoch 16 - avg_train_loss: 0.1315  avg_val_loss: 0.3710  time: 4s\n",
      "Epoch 16 - Score: 0.3812\n",
      "Epoch 16 - Save Best Score: 0.3812 Model\n"
     ]
    },
    {
     "name": "stdout",
     "output_type": "stream",
     "text": [
      "EVAL: [2/3] Elapsed 0m 0s (remain 0m 0s) Loss: 0.2381(0.3710) \n",
      "Epoch: [17][0/19] Elapsed 0m 0s (remain 0m 2s) Loss: 0.0755(0.0755) Grad: 3.0593  LR: 0.000050  \n",
      "Epoch: [17][10/19] Elapsed 0m 1s (remain 0m 1s) Loss: 0.1515(0.1537) Grad: 13.6626  LR: 0.000050  \n",
      "Epoch: [17][18/19] Elapsed 0m 2s (remain 0m 0s) Loss: 0.1245(0.1545) Grad: 8.9204  LR: 0.000050  \n",
      "EVAL: [0/3] Elapsed 0m 0s (remain 0m 0s) Loss: 0.4733(0.4733) \n"
     ]
    },
    {
     "name": "stderr",
     "output_type": "stream",
     "text": [
      "Epoch 17 - avg_train_loss: 0.1545  avg_val_loss: 0.4023  time: 4s\n",
      "Epoch 17 - Score: 0.4070\n"
     ]
    },
    {
     "name": "stdout",
     "output_type": "stream",
     "text": [
      "EVAL: [2/3] Elapsed 0m 0s (remain 0m 0s) Loss: 0.3212(0.4023) \n",
      "Epoch: [18][0/19] Elapsed 0m 0s (remain 0m 2s) Loss: 0.1321(0.1321) Grad: 15.0506  LR: 0.000224  \n",
      "Epoch: [18][10/19] Elapsed 0m 1s (remain 0m 1s) Loss: 0.1589(0.1656) Grad: 17.6307  LR: 0.000224  \n",
      "Epoch: [18][18/19] Elapsed 0m 2s (remain 0m 0s) Loss: 0.1279(0.1638) Grad: 6.9484  LR: 0.000224  \n",
      "EVAL: [0/3] Elapsed 0m 0s (remain 0m 0s) Loss: 0.4698(0.4698) \n"
     ]
    },
    {
     "name": "stderr",
     "output_type": "stream",
     "text": [
      "Epoch 18 - avg_train_loss: 0.1638  avg_val_loss: 0.3866  time: 4s\n",
      "Epoch 18 - Score: 0.3955\n"
     ]
    },
    {
     "name": "stdout",
     "output_type": "stream",
     "text": [
      "EVAL: [2/3] Elapsed 0m 0s (remain 0m 0s) Loss: 0.2346(0.3866) \n",
      "Epoch: [19][0/19] Elapsed 0m 0s (remain 0m 2s) Loss: 0.1410(0.1410) Grad: 8.5861  LR: 0.000133  \n",
      "Epoch: [19][10/19] Elapsed 0m 1s (remain 0m 1s) Loss: 0.1621(0.1547) Grad: 8.4974  LR: 0.000133  \n",
      "Epoch: [19][18/19] Elapsed 0m 2s (remain 0m 0s) Loss: 0.2115(0.1742) Grad: 12.6585  LR: 0.000133  \n",
      "EVAL: [0/3] Elapsed 0m 0s (remain 0m 0s) Loss: 0.4756(0.4756) \n"
     ]
    },
    {
     "name": "stderr",
     "output_type": "stream",
     "text": [
      "Epoch 19 - avg_train_loss: 0.1742  avg_val_loss: 0.4021  time: 4s\n",
      "Epoch 19 - Score: 0.4073\n"
     ]
    },
    {
     "name": "stdout",
     "output_type": "stream",
     "text": [
      "EVAL: [2/3] Elapsed 0m 0s (remain 0m 0s) Loss: 0.3104(0.4021) \n",
      "Epoch: [20][0/19] Elapsed 0m 0s (remain 0m 2s) Loss: 0.1754(0.1754) Grad: 12.3757  LR: 0.000057  \n",
      "Epoch: [20][10/19] Elapsed 0m 1s (remain 0m 1s) Loss: 0.1480(0.2334) Grad: 6.3960  LR: 0.000057  \n",
      "Epoch: [20][18/19] Elapsed 0m 2s (remain 0m 0s) Loss: 0.1331(0.2090) Grad: 3.5923  LR: 0.000057  \n",
      "EVAL: [0/3] Elapsed 0m 0s (remain 0m 0s) Loss: 0.4977(0.4977) \n"
     ]
    },
    {
     "name": "stderr",
     "output_type": "stream",
     "text": [
      "Epoch 20 - avg_train_loss: 0.2090  avg_val_loss: 0.4166  time: 4s\n",
      "Epoch 20 - Score: 0.4229\n"
     ]
    },
    {
     "name": "stdout",
     "output_type": "stream",
     "text": [
      "EVAL: [2/3] Elapsed 0m 0s (remain 0m 0s) Loss: 0.3092(0.4166) \n",
      "Epoch: [21][0/19] Elapsed 0m 0s (remain 0m 2s) Loss: 0.1889(0.1889) Grad: 17.7426  LR: 0.000009  \n",
      "Epoch: [21][10/19] Elapsed 0m 1s (remain 0m 1s) Loss: 0.1431(0.1651) Grad: 12.5386  LR: 0.000009  \n",
      "Epoch: [21][18/19] Elapsed 0m 2s (remain 0m 0s) Loss: 0.1632(0.1588) Grad: 4.4838  LR: 0.000009  \n",
      "EVAL: [0/3] Elapsed 0m 0s (remain 0m 0s) Loss: 0.4606(0.4606) \n"
     ]
    },
    {
     "name": "stderr",
     "output_type": "stream",
     "text": [
      "Epoch 21 - avg_train_loss: 0.1588  avg_val_loss: 0.3870  time: 3s\n",
      "Epoch 21 - Score: 0.3925\n"
     ]
    },
    {
     "name": "stdout",
     "output_type": "stream",
     "text": [
      "EVAL: [2/3] Elapsed 0m 0s (remain 0m 0s) Loss: 0.2954(0.3870) \n",
      "Epoch: [22][0/19] Elapsed 0m 0s (remain 0m 2s) Loss: 0.1212(0.1212) Grad: 5.0072  LR: 0.000001  \n",
      "Epoch: [22][10/19] Elapsed 0m 1s (remain 0m 1s) Loss: 0.1392(0.1270) Grad: 8.0951  LR: 0.000001  \n",
      "Epoch: [22][18/19] Elapsed 0m 2s (remain 0m 0s) Loss: 0.1026(0.1239) Grad: 5.3451  LR: 0.000001  \n",
      "EVAL: [0/3] Elapsed 0m 0s (remain 0m 0s) Loss: 0.4378(0.4378) \n"
     ]
    },
    {
     "name": "stderr",
     "output_type": "stream",
     "text": [
      "Epoch 22 - avg_train_loss: 0.1239  avg_val_loss: 0.3701  time: 4s\n",
      "Epoch 22 - Score: 0.3759\n",
      "Epoch 22 - Save Best Score: 0.3759 Model\n"
     ]
    },
    {
     "name": "stdout",
     "output_type": "stream",
     "text": [
      "EVAL: [2/3] Elapsed 0m 0s (remain 0m 0s) Loss: 0.2536(0.3701) \n",
      "Epoch: [23][0/19] Elapsed 0m 0s (remain 0m 2s) Loss: 0.0928(0.0928) Grad: 3.2136  LR: 0.000050  \n",
      "Epoch: [23][10/19] Elapsed 0m 1s (remain 0m 1s) Loss: 0.1195(0.1216) Grad: 6.0616  LR: 0.000050  \n",
      "Epoch: [23][18/19] Elapsed 0m 2s (remain 0m 0s) Loss: 0.1427(0.1185) Grad: 6.9703  LR: 0.000050  \n",
      "EVAL: [0/3] Elapsed 0m 0s (remain 0m 0s) Loss: 0.4719(0.4719) \n"
     ]
    },
    {
     "name": "stderr",
     "output_type": "stream",
     "text": [
      "Epoch 23 - avg_train_loss: 0.1185  avg_val_loss: 0.3843  time: 4s\n",
      "Epoch 23 - Score: 0.3924\n"
     ]
    },
    {
     "name": "stdout",
     "output_type": "stream",
     "text": [
      "EVAL: [2/3] Elapsed 0m 0s (remain 0m 0s) Loss: 0.2640(0.3843) \n",
      "Epoch: [24][0/19] Elapsed 0m 0s (remain 0m 2s) Loss: 0.1251(0.1251) Grad: 4.6188  LR: 0.000224  \n",
      "Epoch: [24][10/19] Elapsed 0m 1s (remain 0m 1s) Loss: 0.1158(0.1223) Grad: 10.0259  LR: 0.000224  \n",
      "Epoch: [24][18/19] Elapsed 0m 2s (remain 0m 0s) Loss: 0.0939(0.1233) Grad: 10.5569  LR: 0.000224  \n",
      "EVAL: [0/3] Elapsed 0m 0s (remain 0m 0s) Loss: 0.4523(0.4523) \n"
     ]
    },
    {
     "name": "stderr",
     "output_type": "stream",
     "text": [
      "Epoch 24 - avg_train_loss: 0.1233  avg_val_loss: 0.3776  time: 4s\n",
      "Epoch 24 - Score: 0.3830\n"
     ]
    },
    {
     "name": "stdout",
     "output_type": "stream",
     "text": [
      "EVAL: [2/3] Elapsed 0m 0s (remain 0m 0s) Loss: 0.2975(0.3776) \n",
      "Epoch: [25][0/19] Elapsed 0m 0s (remain 0m 2s) Loss: 0.1333(0.1333) Grad: 3.5816  LR: 0.000133  \n",
      "Epoch: [25][10/19] Elapsed 0m 1s (remain 0m 1s) Loss: 0.1204(0.1425) Grad: 16.3527  LR: 0.000133  \n",
      "Epoch: [25][18/19] Elapsed 0m 2s (remain 0m 0s) Loss: 0.1979(0.1535) Grad: 8.5189  LR: 0.000133  \n",
      "EVAL: [0/3] Elapsed 0m 0s (remain 0m 0s) Loss: 0.4424(0.4424) \n"
     ]
    },
    {
     "name": "stderr",
     "output_type": "stream",
     "text": [
      "Epoch 25 - avg_train_loss: 0.1535  avg_val_loss: 0.3672  time: 3s\n",
      "Epoch 25 - Score: 0.3744\n",
      "Epoch 25 - Save Best Score: 0.3744 Model\n"
     ]
    },
    {
     "name": "stdout",
     "output_type": "stream",
     "text": [
      "EVAL: [2/3] Elapsed 0m 0s (remain 0m 0s) Loss: 0.2404(0.3672) \n",
      "Epoch: [26][0/19] Elapsed 0m 0s (remain 0m 2s) Loss: 0.1247(0.1247) Grad: 3.8601  LR: 0.000057  \n",
      "Epoch: [26][10/19] Elapsed 0m 1s (remain 0m 1s) Loss: 0.1092(0.1332) Grad: 11.3926  LR: 0.000057  \n",
      "Epoch: [26][18/19] Elapsed 0m 2s (remain 0m 0s) Loss: 0.2369(0.1653) Grad: 18.0745  LR: 0.000057  \n",
      "EVAL: [0/3] Elapsed 0m 0s (remain 0m 0s) Loss: 0.4533(0.4533) \n"
     ]
    },
    {
     "name": "stderr",
     "output_type": "stream",
     "text": [
      "Epoch 26 - avg_train_loss: 0.1653  avg_val_loss: 0.3874  time: 3s\n",
      "Epoch 26 - Score: 0.3924\n"
     ]
    },
    {
     "name": "stdout",
     "output_type": "stream",
     "text": [
      "EVAL: [2/3] Elapsed 0m 0s (remain 0m 0s) Loss: 0.2831(0.3874) \n",
      "Epoch: [27][0/19] Elapsed 0m 0s (remain 0m 2s) Loss: 0.1213(0.1213) Grad: 6.7934  LR: 0.000009  \n",
      "Epoch: [27][10/19] Elapsed 0m 1s (remain 0m 1s) Loss: 0.1072(0.1255) Grad: 3.1930  LR: 0.000009  \n",
      "Epoch: [27][18/19] Elapsed 0m 2s (remain 0m 0s) Loss: 0.1609(0.1205) Grad: 16.4187  LR: 0.000009  \n",
      "EVAL: [0/3] Elapsed 0m 0s (remain 0m 0s) Loss: 0.4592(0.4592) \n"
     ]
    },
    {
     "name": "stderr",
     "output_type": "stream",
     "text": [
      "Epoch 27 - avg_train_loss: 0.1205  avg_val_loss: 0.3793  time: 4s\n",
      "Epoch 27 - Score: 0.3873\n"
     ]
    },
    {
     "name": "stdout",
     "output_type": "stream",
     "text": [
      "EVAL: [2/3] Elapsed 0m 0s (remain 0m 0s) Loss: 0.2407(0.3793) \n",
      "Epoch: [28][0/19] Elapsed 0m 0s (remain 0m 2s) Loss: 0.1520(0.1520) Grad: 11.0439  LR: 0.000001  \n",
      "Epoch: [28][10/19] Elapsed 0m 1s (remain 0m 1s) Loss: 0.1257(0.1239) Grad: 7.0966  LR: 0.000001  \n",
      "Epoch: [28][18/19] Elapsed 0m 2s (remain 0m 0s) Loss: 0.0894(0.1151) Grad: 8.1530  LR: 0.000001  \n",
      "EVAL: [0/3] Elapsed 0m 0s (remain 0m 0s) Loss: 0.4411(0.4411) \n"
     ]
    },
    {
     "name": "stderr",
     "output_type": "stream",
     "text": [
      "Epoch 28 - avg_train_loss: 0.1151  avg_val_loss: 0.3611  time: 3s\n",
      "Epoch 28 - Score: 0.3687\n",
      "Epoch 28 - Save Best Score: 0.3687 Model\n"
     ]
    },
    {
     "name": "stdout",
     "output_type": "stream",
     "text": [
      "EVAL: [2/3] Elapsed 0m 0s (remain 0m 0s) Loss: 0.2392(0.3611) \n",
      "Epoch: [29][0/19] Elapsed 0m 0s (remain 0m 2s) Loss: 0.1111(0.1111) Grad: 7.0072  LR: 0.000050  \n",
      "Epoch: [29][10/19] Elapsed 0m 1s (remain 0m 1s) Loss: 0.1268(0.1084) Grad: 5.4478  LR: 0.000050  \n",
      "Epoch: [29][18/19] Elapsed 0m 2s (remain 0m 0s) Loss: 0.1089(0.1050) Grad: 6.3579  LR: 0.000050  \n",
      "EVAL: [0/3] Elapsed 0m 0s (remain 0m 0s) Loss: 0.4355(0.4355) \n"
     ]
    },
    {
     "name": "stderr",
     "output_type": "stream",
     "text": [
      "Epoch 29 - avg_train_loss: 0.1050  avg_val_loss: 0.3664  time: 4s\n",
      "Epoch 29 - Score: 0.3729\n"
     ]
    },
    {
     "name": "stdout",
     "output_type": "stream",
     "text": [
      "EVAL: [2/3] Elapsed 0m 0s (remain 0m 0s) Loss: 0.2400(0.3664) \n",
      "Epoch: [30][0/19] Elapsed 0m 0s (remain 0m 2s) Loss: 0.1201(0.1201) Grad: 12.1763  LR: 0.000224  \n",
      "Epoch: [30][10/19] Elapsed 0m 1s (remain 0m 1s) Loss: 0.1481(0.1195) Grad: 16.2691  LR: 0.000224  \n",
      "Epoch: [30][18/19] Elapsed 0m 2s (remain 0m 0s) Loss: 0.1604(0.1285) Grad: 20.4939  LR: 0.000224  \n",
      "EVAL: [0/3] Elapsed 0m 0s (remain 0m 0s) Loss: 0.4483(0.4483) \n"
     ]
    },
    {
     "name": "stderr",
     "output_type": "stream",
     "text": [
      "Epoch 30 - avg_train_loss: 0.1285  avg_val_loss: 0.3811  time: 4s\n",
      "Epoch 30 - Score: 0.3857\n"
     ]
    },
    {
     "name": "stdout",
     "output_type": "stream",
     "text": [
      "EVAL: [2/3] Elapsed 0m 0s (remain 0m 0s) Loss: 0.2968(0.3811) \n",
      "Epoch: [31][0/19] Elapsed 0m 0s (remain 0m 2s) Loss: 0.1276(0.1276) Grad: 13.7393  LR: 0.000133  \n",
      "Epoch: [31][10/19] Elapsed 0m 1s (remain 0m 1s) Loss: 0.3516(0.1991) Grad: 20.5921  LR: 0.000133  \n",
      "Epoch: [31][18/19] Elapsed 0m 2s (remain 0m 0s) Loss: 0.1718(0.2014) Grad: 19.0283  LR: 0.000133  \n",
      "EVAL: [0/3] Elapsed 0m 0s (remain 0m 0s) Loss: 0.4304(0.4304) \n"
     ]
    },
    {
     "name": "stderr",
     "output_type": "stream",
     "text": [
      "Epoch 31 - avg_train_loss: 0.2014  avg_val_loss: 0.3796  time: 4s\n",
      "Epoch 31 - Score: 0.3828\n"
     ]
    },
    {
     "name": "stdout",
     "output_type": "stream",
     "text": [
      "EVAL: [2/3] Elapsed 0m 0s (remain 0m 0s) Loss: 0.2934(0.3796) \n",
      "Epoch: [32][0/19] Elapsed 0m 0s (remain 0m 2s) Loss: 0.1770(0.1770) Grad: 11.5898  LR: 0.000057  \n",
      "Epoch: [32][10/19] Elapsed 0m 1s (remain 0m 1s) Loss: 0.1680(0.1829) Grad: 16.3075  LR: 0.000057  \n",
      "Epoch: [32][18/19] Elapsed 0m 2s (remain 0m 0s) Loss: 0.1103(0.1629) Grad: 11.2836  LR: 0.000057  \n",
      "EVAL: [0/3] Elapsed 0m 0s (remain 0m 0s) Loss: 0.4470(0.4470) \n"
     ]
    },
    {
     "name": "stderr",
     "output_type": "stream",
     "text": [
      "Epoch 32 - avg_train_loss: 0.1629  avg_val_loss: 0.3766  time: 4s\n",
      "Epoch 32 - Score: 0.3818\n"
     ]
    },
    {
     "name": "stdout",
     "output_type": "stream",
     "text": [
      "EVAL: [2/3] Elapsed 0m 0s (remain 0m 0s) Loss: 0.2840(0.3766) \n",
      "Epoch: [33][0/19] Elapsed 0m 0s (remain 0m 2s) Loss: 0.1073(0.1073) Grad: 3.0677  LR: 0.000009  \n",
      "Epoch: [33][10/19] Elapsed 0m 1s (remain 0m 1s) Loss: 0.1160(0.1281) Grad: 5.6609  LR: 0.000009  \n",
      "Epoch: [33][18/19] Elapsed 0m 2s (remain 0m 0s) Loss: 0.1373(0.1266) Grad: 16.7741  LR: 0.000009  \n",
      "EVAL: [0/3] Elapsed 0m 0s (remain 0m 0s) Loss: 0.4601(0.4601) \n"
     ]
    },
    {
     "name": "stderr",
     "output_type": "stream",
     "text": [
      "Epoch 33 - avg_train_loss: 0.1266  avg_val_loss: 0.3878  time: 4s\n",
      "Epoch 33 - Score: 0.3938\n"
     ]
    },
    {
     "name": "stdout",
     "output_type": "stream",
     "text": [
      "EVAL: [2/3] Elapsed 0m 0s (remain 0m 0s) Loss: 0.2727(0.3878) \n",
      "Epoch: [34][0/19] Elapsed 0m 0s (remain 0m 2s) Loss: 0.0994(0.0994) Grad: 12.9528  LR: 0.000001  \n",
      "Epoch: [34][10/19] Elapsed 0m 1s (remain 0m 1s) Loss: 0.0837(0.0985) Grad: 2.9739  LR: 0.000001  \n",
      "Epoch: [34][18/19] Elapsed 0m 2s (remain 0m 0s) Loss: 0.0915(0.0982) Grad: 7.6842  LR: 0.000001  \n",
      "EVAL: [0/3] Elapsed 0m 0s (remain 0m 0s) Loss: 0.4535(0.4535) \n"
     ]
    },
    {
     "name": "stderr",
     "output_type": "stream",
     "text": [
      "Epoch 34 - avg_train_loss: 0.0982  avg_val_loss: 0.3760  time: 4s\n",
      "Epoch 34 - Score: 0.3827\n"
     ]
    },
    {
     "name": "stdout",
     "output_type": "stream",
     "text": [
      "EVAL: [2/3] Elapsed 0m 0s (remain 0m 0s) Loss: 0.2622(0.3760) \n",
      "Epoch: [35][0/19] Elapsed 0m 0s (remain 0m 2s) Loss: 0.0685(0.0685) Grad: 6.4544  LR: 0.000050  \n",
      "Epoch: [35][10/19] Elapsed 0m 1s (remain 0m 1s) Loss: 0.1197(0.0968) Grad: 15.2226  LR: 0.000050  \n",
      "Epoch: [35][18/19] Elapsed 0m 2s (remain 0m 0s) Loss: 0.0982(0.0964) Grad: 7.5726  LR: 0.000050  \n",
      "EVAL: [0/3] Elapsed 0m 0s (remain 0m 0s) Loss: 0.4605(0.4605) \n"
     ]
    },
    {
     "name": "stderr",
     "output_type": "stream",
     "text": [
      "Epoch 35 - avg_train_loss: 0.0964  avg_val_loss: 0.3816  time: 4s\n",
      "Epoch 35 - Score: 0.3890\n"
     ]
    },
    {
     "name": "stdout",
     "output_type": "stream",
     "text": [
      "EVAL: [2/3] Elapsed 0m 0s (remain 0m 0s) Loss: 0.2515(0.3816) \n",
      "Epoch: [36][0/19] Elapsed 0m 0s (remain 0m 2s) Loss: 0.0805(0.0805) Grad: 2.8584  LR: 0.000224  \n",
      "Epoch: [36][10/19] Elapsed 0m 1s (remain 0m 1s) Loss: 0.1691(0.1025) Grad: 23.4953  LR: 0.000224  \n",
      "Epoch: [36][18/19] Elapsed 0m 2s (remain 0m 0s) Loss: 0.1271(0.1136) Grad: 13.7598  LR: 0.000224  \n",
      "EVAL: [0/3] Elapsed 0m 0s (remain 0m 0s) Loss: 0.4603(0.4603) \n"
     ]
    },
    {
     "name": "stderr",
     "output_type": "stream",
     "text": [
      "Epoch 36 - avg_train_loss: 0.1136  avg_val_loss: 0.3829  time: 4s\n",
      "Epoch 36 - Score: 0.3898\n"
     ]
    },
    {
     "name": "stdout",
     "output_type": "stream",
     "text": [
      "EVAL: [2/3] Elapsed 0m 0s (remain 0m 0s) Loss: 0.2620(0.3829) \n",
      "Epoch: [37][0/19] Elapsed 0m 0s (remain 0m 2s) Loss: 0.1126(0.1126) Grad: 15.3106  LR: 0.000133  \n",
      "Epoch: [37][10/19] Elapsed 0m 1s (remain 0m 1s) Loss: 0.1317(0.1247) Grad: 14.4553  LR: 0.000133  \n",
      "Epoch: [37][18/19] Elapsed 0m 2s (remain 0m 0s) Loss: 0.1406(0.1257) Grad: 17.2906  LR: 0.000133  \n",
      "EVAL: [0/3] Elapsed 0m 0s (remain 0m 0s) Loss: 0.4537(0.4537) \n"
     ]
    },
    {
     "name": "stderr",
     "output_type": "stream",
     "text": [
      "Epoch 37 - avg_train_loss: 0.1257  avg_val_loss: 0.3955  time: 4s\n",
      "Epoch 37 - Score: 0.4009\n"
     ]
    },
    {
     "name": "stdout",
     "output_type": "stream",
     "text": [
      "EVAL: [2/3] Elapsed 0m 0s (remain 0m 0s) Loss: 0.2643(0.3955) \n",
      "Epoch: [38][0/19] Elapsed 0m 0s (remain 0m 2s) Loss: 0.1134(0.1134) Grad: 6.1587  LR: 0.000057  \n",
      "Epoch: [38][10/19] Elapsed 0m 1s (remain 0m 1s) Loss: 0.1327(0.1234) Grad: 7.2051  LR: 0.000057  \n",
      "Epoch: [38][18/19] Elapsed 0m 2s (remain 0m 0s) Loss: 0.1524(0.1222) Grad: 3.2175  LR: 0.000057  \n",
      "EVAL: [0/3] Elapsed 0m 0s (remain 0m 0s) Loss: 0.4445(0.4445) \n"
     ]
    },
    {
     "name": "stderr",
     "output_type": "stream",
     "text": [
      "Epoch 38 - avg_train_loss: 0.1222  avg_val_loss: 0.3670  time: 4s\n",
      "Epoch 38 - Score: 0.3736\n"
     ]
    },
    {
     "name": "stdout",
     "output_type": "stream",
     "text": [
      "EVAL: [2/3] Elapsed 0m 0s (remain 0m 0s) Loss: 0.2604(0.3670) \n",
      "Epoch: [39][0/19] Elapsed 0m 0s (remain 0m 2s) Loss: 0.1211(0.1211) Grad: 10.7900  LR: 0.000009  \n",
      "Epoch: [39][10/19] Elapsed 0m 1s (remain 0m 1s) Loss: 0.1136(0.0983) Grad: 4.3203  LR: 0.000009  \n",
      "Epoch: [39][18/19] Elapsed 0m 2s (remain 0m 0s) Loss: 0.0932(0.0970) Grad: 3.7055  LR: 0.000009  \n",
      "EVAL: [0/3] Elapsed 0m 0s (remain 0m 0s) Loss: 0.4492(0.4492) \n"
     ]
    },
    {
     "name": "stderr",
     "output_type": "stream",
     "text": [
      "Epoch 39 - avg_train_loss: 0.0970  avg_val_loss: 0.3698  time: 4s\n",
      "Epoch 39 - Score: 0.3763\n"
     ]
    },
    {
     "name": "stdout",
     "output_type": "stream",
     "text": [
      "EVAL: [2/3] Elapsed 0m 0s (remain 0m 0s) Loss: 0.2732(0.3698) \n",
      "Epoch: [40][0/19] Elapsed 0m 0s (remain 0m 2s) Loss: 0.0875(0.0875) Grad: 6.9620  LR: 0.000001  \n",
      "Epoch: [40][10/19] Elapsed 0m 1s (remain 0m 1s) Loss: 0.0807(0.0831) Grad: 5.5905  LR: 0.000001  \n",
      "Epoch: [40][18/19] Elapsed 0m 2s (remain 0m 0s) Loss: 0.0869(0.0849) Grad: 4.9221  LR: 0.000001  \n",
      "EVAL: [0/3] Elapsed 0m 0s (remain 0m 0s) Loss: 0.4498(0.4498) \n"
     ]
    },
    {
     "name": "stderr",
     "output_type": "stream",
     "text": [
      "Epoch 40 - avg_train_loss: 0.0849  avg_val_loss: 0.3619  time: 4s\n",
      "Epoch 40 - Score: 0.3702\n"
     ]
    },
    {
     "name": "stdout",
     "output_type": "stream",
     "text": [
      "EVAL: [2/3] Elapsed 0m 0s (remain 0m 0s) Loss: 0.2507(0.3619) \n"
     ]
    },
    {
     "name": "stderr",
     "output_type": "stream",
     "text": [
      "========== fold: 2 result ==========\n",
      "Score: 0.3687\n",
      "========== fold: 3 training ==========\n"
     ]
    },
    {
     "name": "stdout",
     "output_type": "stream",
     "text": [
      "Epoch: [1][0/19] Elapsed 0m 0s (remain 0m 2s) Loss: 3.3873(3.3873) Grad: 27.1296  LR: 0.000100  \n",
      "Epoch: [1][10/19] Elapsed 0m 1s (remain 0m 1s) Loss: 1.0951(1.6443) Grad: 25.4939  LR: 0.000100  \n",
      "Epoch: [1][18/19] Elapsed 0m 2s (remain 0m 0s) Loss: 0.6385(1.2764) Grad: 26.0520  LR: 0.000100  \n",
      "EVAL: [0/3] Elapsed 0m 0s (remain 0m 0s) Loss: 0.6911(0.6911) \n"
     ]
    },
    {
     "name": "stderr",
     "output_type": "stream",
     "text": [
      "Epoch 1 - avg_train_loss: 1.2764  avg_val_loss: 0.7627  time: 3s\n",
      "Epoch 1 - Score: 0.7682\n",
      "Epoch 1 - Save Best Score: 0.7682 Model\n"
     ]
    },
    {
     "name": "stdout",
     "output_type": "stream",
     "text": [
      "EVAL: [2/3] Elapsed 0m 0s (remain 0m 0s) Loss: 0.6713(0.7627) \n",
      "Epoch: [2][0/19] Elapsed 0m 0s (remain 0m 2s) Loss: 0.7224(0.7224) Grad: 24.1948  LR: 0.000057  \n",
      "Epoch: [2][10/19] Elapsed 0m 1s (remain 0m 1s) Loss: 0.4937(0.5787) Grad: 9.9952  LR: 0.000057  \n",
      "Epoch: [2][18/19] Elapsed 0m 2s (remain 0m 0s) Loss: 0.3874(0.5394) Grad: 5.2968  LR: 0.000057  \n",
      "EVAL: [0/3] Elapsed 0m 0s (remain 0m 0s) Loss: 0.3830(0.3830) \n"
     ]
    },
    {
     "name": "stderr",
     "output_type": "stream",
     "text": [
      "Epoch 2 - avg_train_loss: 0.5394  avg_val_loss: 0.4071  time: 3s\n",
      "Epoch 2 - Score: 0.4119\n",
      "Epoch 2 - Save Best Score: 0.4119 Model\n"
     ]
    },
    {
     "name": "stdout",
     "output_type": "stream",
     "text": [
      "EVAL: [2/3] Elapsed 0m 0s (remain 0m 0s) Loss: 0.3030(0.4071) \n",
      "Epoch: [3][0/19] Elapsed 0m 0s (remain 0m 2s) Loss: 0.4399(0.4399) Grad: 4.7872  LR: 0.000009  \n",
      "Epoch: [3][10/19] Elapsed 0m 1s (remain 0m 1s) Loss: 0.3325(0.3884) Grad: 4.7697  LR: 0.000009  \n",
      "Epoch: [3][18/19] Elapsed 0m 2s (remain 0m 0s) Loss: 0.3737(0.3810) Grad: 6.4814  LR: 0.000009  \n",
      "EVAL: [0/3] Elapsed 0m 0s (remain 0m 0s) Loss: 0.3772(0.3772) \n"
     ]
    },
    {
     "name": "stderr",
     "output_type": "stream",
     "text": [
      "Epoch 3 - avg_train_loss: 0.3810  avg_val_loss: 0.3720  time: 3s\n",
      "Epoch 3 - Score: 0.3775\n",
      "Epoch 3 - Save Best Score: 0.3775 Model\n"
     ]
    },
    {
     "name": "stdout",
     "output_type": "stream",
     "text": [
      "EVAL: [2/3] Elapsed 0m 0s (remain 0m 0s) Loss: 0.2368(0.3720) \n",
      "Epoch: [4][0/19] Elapsed 0m 0s (remain 0m 2s) Loss: 0.3007(0.3007) Grad: 8.6856  LR: 0.000001  \n",
      "Epoch: [4][10/19] Elapsed 0m 1s (remain 0m 1s) Loss: 0.2634(0.3199) Grad: 3.7252  LR: 0.000001  \n",
      "Epoch: [4][18/19] Elapsed 0m 2s (remain 0m 0s) Loss: 0.2450(0.3372) Grad: 3.3673  LR: 0.000001  \n",
      "EVAL: [0/3] Elapsed 0m 0s (remain 0m 0s) Loss: 0.3686(0.3686) \n"
     ]
    },
    {
     "name": "stderr",
     "output_type": "stream",
     "text": [
      "Epoch 4 - avg_train_loss: 0.3372  avg_val_loss: 0.3716  time: 3s\n",
      "Epoch 4 - Score: 0.3788\n"
     ]
    },
    {
     "name": "stdout",
     "output_type": "stream",
     "text": [
      "EVAL: [2/3] Elapsed 0m 0s (remain 0m 0s) Loss: 0.2229(0.3716) \n",
      "Epoch: [5][0/19] Elapsed 0m 0s (remain 0m 2s) Loss: 0.2211(0.2211) Grad: 3.4317  LR: 0.000050  \n",
      "Epoch: [5][10/19] Elapsed 0m 1s (remain 0m 1s) Loss: 0.3287(0.3277) Grad: 5.6285  LR: 0.000050  \n",
      "Epoch: [5][18/19] Elapsed 0m 2s (remain 0m 0s) Loss: 0.2447(0.3179) Grad: 6.3118  LR: 0.000050  \n",
      "EVAL: [0/3] Elapsed 0m 0s (remain 0m 0s) Loss: 0.3538(0.3538) \n"
     ]
    },
    {
     "name": "stderr",
     "output_type": "stream",
     "text": [
      "Epoch 5 - avg_train_loss: 0.3179  avg_val_loss: 0.3457  time: 3s\n",
      "Epoch 5 - Score: 0.3489\n",
      "Epoch 5 - Save Best Score: 0.3489 Model\n"
     ]
    },
    {
     "name": "stdout",
     "output_type": "stream",
     "text": [
      "EVAL: [2/3] Elapsed 0m 0s (remain 0m 0s) Loss: 0.2440(0.3457) \n",
      "Epoch: [6][0/19] Elapsed 0m 0s (remain 0m 2s) Loss: 0.2905(0.2905) Grad: 7.7809  LR: 0.000224  \n",
      "Epoch: [6][10/19] Elapsed 0m 1s (remain 0m 1s) Loss: 0.3069(0.2843) Grad: 6.0056  LR: 0.000224  \n",
      "Epoch: [6][18/19] Elapsed 0m 2s (remain 0m 0s) Loss: 0.3957(0.3028) Grad: 19.1488  LR: 0.000224  \n",
      "EVAL: [0/3] Elapsed 0m 0s (remain 0m 0s) Loss: 0.4008(0.4008) \n"
     ]
    },
    {
     "name": "stderr",
     "output_type": "stream",
     "text": [
      "Epoch 6 - avg_train_loss: 0.3028  avg_val_loss: 0.3790  time: 3s\n",
      "Epoch 6 - Score: 0.3852\n"
     ]
    },
    {
     "name": "stdout",
     "output_type": "stream",
     "text": [
      "EVAL: [2/3] Elapsed 0m 0s (remain 0m 0s) Loss: 0.2274(0.3790) \n",
      "Epoch: [7][0/19] Elapsed 0m 0s (remain 0m 2s) Loss: 0.2868(0.2868) Grad: 5.7319  LR: 0.000133  \n",
      "Epoch: [7][10/19] Elapsed 0m 1s (remain 0m 1s) Loss: 0.5354(0.4116) Grad: 24.6906  LR: 0.000133  \n",
      "Epoch: [7][18/19] Elapsed 0m 2s (remain 0m 0s) Loss: 0.3267(0.3920) Grad: 12.8632  LR: 0.000133  \n",
      "EVAL: [0/3] Elapsed 0m 0s (remain 0m 0s) Loss: 0.3759(0.3759) \n"
     ]
    },
    {
     "name": "stderr",
     "output_type": "stream",
     "text": [
      "Epoch 7 - avg_train_loss: 0.3920  avg_val_loss: 0.3420  time: 3s\n",
      "Epoch 7 - Score: 0.3453\n",
      "Epoch 7 - Save Best Score: 0.3453 Model\n"
     ]
    },
    {
     "name": "stdout",
     "output_type": "stream",
     "text": [
      "EVAL: [2/3] Elapsed 0m 0s (remain 0m 0s) Loss: 0.2388(0.3420) \n",
      "Epoch: [8][0/19] Elapsed 0m 0s (remain 0m 2s) Loss: 0.2117(0.2117) Grad: 5.3278  LR: 0.000057  \n",
      "Epoch: [8][10/19] Elapsed 0m 1s (remain 0m 1s) Loss: 0.2197(0.2297) Grad: 5.4396  LR: 0.000057  \n",
      "Epoch: [8][18/19] Elapsed 0m 2s (remain 0m 0s) Loss: 0.2184(0.2297) Grad: 4.3055  LR: 0.000057  \n",
      "EVAL: [0/3] Elapsed 0m 0s (remain 0m 0s) Loss: 0.3950(0.3950) \n"
     ]
    },
    {
     "name": "stderr",
     "output_type": "stream",
     "text": [
      "Epoch 8 - avg_train_loss: 0.2297  avg_val_loss: 0.3713  time: 3s\n",
      "Epoch 8 - Score: 0.3724\n"
     ]
    },
    {
     "name": "stdout",
     "output_type": "stream",
     "text": [
      "EVAL: [2/3] Elapsed 0m 0s (remain 0m 0s) Loss: 0.3128(0.3713) \n",
      "Epoch: [9][0/19] Elapsed 0m 0s (remain 0m 2s) Loss: 0.2265(0.2265) Grad: 15.8126  LR: 0.000009  \n",
      "Epoch: [9][10/19] Elapsed 0m 1s (remain 0m 1s) Loss: 0.1627(0.1994) Grad: 10.2452  LR: 0.000009  \n",
      "Epoch: [9][18/19] Elapsed 0m 2s (remain 0m 0s) Loss: 0.2075(0.2015) Grad: 10.7279  LR: 0.000009  \n",
      "EVAL: [0/3] Elapsed 0m 0s (remain 0m 0s) Loss: 0.3887(0.3887) \n"
     ]
    },
    {
     "name": "stderr",
     "output_type": "stream",
     "text": [
      "Epoch 9 - avg_train_loss: 0.2015  avg_val_loss: 0.3399  time: 3s\n",
      "Epoch 9 - Score: 0.3439\n",
      "Epoch 9 - Save Best Score: 0.3439 Model\n"
     ]
    },
    {
     "name": "stdout",
     "output_type": "stream",
     "text": [
      "EVAL: [2/3] Elapsed 0m 0s (remain 0m 0s) Loss: 0.2389(0.3399) \n",
      "Epoch: [10][0/19] Elapsed 0m 0s (remain 0m 2s) Loss: 0.2176(0.2176) Grad: 13.5249  LR: 0.000001  \n",
      "Epoch: [10][10/19] Elapsed 0m 1s (remain 0m 1s) Loss: 0.2124(0.1906) Grad: 6.1887  LR: 0.000001  \n",
      "Epoch: [10][18/19] Elapsed 0m 2s (remain 0m 0s) Loss: 0.2300(0.1869) Grad: 8.3077  LR: 0.000001  \n",
      "EVAL: [0/3] Elapsed 0m 0s (remain 0m 0s) Loss: 0.3765(0.3765) \n"
     ]
    },
    {
     "name": "stderr",
     "output_type": "stream",
     "text": [
      "Epoch 10 - avg_train_loss: 0.1869  avg_val_loss: 0.3273  time: 3s\n",
      "Epoch 10 - Score: 0.3326\n",
      "Epoch 10 - Save Best Score: 0.3326 Model\n"
     ]
    },
    {
     "name": "stdout",
     "output_type": "stream",
     "text": [
      "EVAL: [2/3] Elapsed 0m 0s (remain 0m 0s) Loss: 0.2059(0.3273) \n",
      "Epoch: [11][0/19] Elapsed 0m 0s (remain 0m 2s) Loss: 0.1807(0.1807) Grad: 5.2239  LR: 0.000050  \n",
      "Epoch: [11][10/19] Elapsed 0m 1s (remain 0m 1s) Loss: 0.1740(0.1832) Grad: 6.5741  LR: 0.000050  \n",
      "Epoch: [11][18/19] Elapsed 0m 2s (remain 0m 0s) Loss: 0.1355(0.1694) Grad: 9.5756  LR: 0.000050  \n",
      "EVAL: [0/3] Elapsed 0m 0s (remain 0m 0s) Loss: 0.3799(0.3799) \n"
     ]
    },
    {
     "name": "stderr",
     "output_type": "stream",
     "text": [
      "Epoch 11 - avg_train_loss: 0.1694  avg_val_loss: 0.3219  time: 3s\n",
      "Epoch 11 - Score: 0.3282\n",
      "Epoch 11 - Save Best Score: 0.3282 Model\n"
     ]
    },
    {
     "name": "stdout",
     "output_type": "stream",
     "text": [
      "EVAL: [2/3] Elapsed 0m 0s (remain 0m 0s) Loss: 0.1967(0.3219) \n",
      "Epoch: [12][0/19] Elapsed 0m 0s (remain 0m 2s) Loss: 0.1066(0.1066) Grad: 3.9737  LR: 0.000224  \n",
      "Epoch: [12][10/19] Elapsed 0m 1s (remain 0m 1s) Loss: 0.1719(0.1811) Grad: 5.6933  LR: 0.000224  \n",
      "Epoch: [12][18/19] Elapsed 0m 2s (remain 0m 0s) Loss: 0.2410(0.1883) Grad: 5.2665  LR: 0.000224  \n",
      "EVAL: [0/3] Elapsed 0m 0s (remain 0m 0s) Loss: 0.3883(0.3883) \n"
     ]
    },
    {
     "name": "stderr",
     "output_type": "stream",
     "text": [
      "Epoch 12 - avg_train_loss: 0.1883  avg_val_loss: 0.3510  time: 3s\n",
      "Epoch 12 - Score: 0.3544\n"
     ]
    },
    {
     "name": "stdout",
     "output_type": "stream",
     "text": [
      "EVAL: [2/3] Elapsed 0m 0s (remain 0m 0s) Loss: 0.2481(0.3510) \n",
      "Epoch: [13][0/19] Elapsed 0m 0s (remain 0m 2s) Loss: 0.1610(0.1610) Grad: 5.8044  LR: 0.000133  \n",
      "Epoch: [13][10/19] Elapsed 0m 1s (remain 0m 1s) Loss: 0.1801(0.2248) Grad: 9.5878  LR: 0.000133  \n",
      "Epoch: [13][18/19] Elapsed 0m 2s (remain 0m 0s) Loss: 0.1682(0.2308) Grad: 5.0021  LR: 0.000133  \n",
      "EVAL: [0/3] Elapsed 0m 0s (remain 0m 0s) Loss: 0.3807(0.3807) \n"
     ]
    },
    {
     "name": "stderr",
     "output_type": "stream",
     "text": [
      "Epoch 13 - avg_train_loss: 0.2308  avg_val_loss: 0.3377  time: 3s\n",
      "Epoch 13 - Score: 0.3415\n"
     ]
    },
    {
     "name": "stdout",
     "output_type": "stream",
     "text": [
      "EVAL: [2/3] Elapsed 0m 0s (remain 0m 0s) Loss: 0.2340(0.3377) \n",
      "Epoch: [14][0/19] Elapsed 0m 0s (remain 0m 2s) Loss: 0.2217(0.2217) Grad: 14.0049  LR: 0.000057  \n",
      "Epoch: [14][10/19] Elapsed 0m 1s (remain 0m 1s) Loss: 0.2027(0.1896) Grad: 8.6118  LR: 0.000057  \n",
      "Epoch: [14][18/19] Elapsed 0m 2s (remain 0m 0s) Loss: 0.2518(0.1906) Grad: 17.2706  LR: 0.000057  \n",
      "EVAL: [0/3] Elapsed 0m 0s (remain 0m 0s) Loss: 0.4002(0.4002) \n"
     ]
    },
    {
     "name": "stderr",
     "output_type": "stream",
     "text": [
      "Epoch 14 - avg_train_loss: 0.1906  avg_val_loss: 0.3632  time: 4s\n",
      "Epoch 14 - Score: 0.3650\n"
     ]
    },
    {
     "name": "stdout",
     "output_type": "stream",
     "text": [
      "EVAL: [2/3] Elapsed 0m 0s (remain 0m 0s) Loss: 0.3013(0.3632) \n",
      "Epoch: [15][0/19] Elapsed 0m 0s (remain 0m 2s) Loss: 0.1851(0.1851) Grad: 16.6936  LR: 0.000009  \n",
      "Epoch: [15][10/19] Elapsed 0m 1s (remain 0m 1s) Loss: 0.1958(0.1839) Grad: 4.9437  LR: 0.000009  \n",
      "Epoch: [15][18/19] Elapsed 0m 2s (remain 0m 0s) Loss: 0.1926(0.1783) Grad: 5.3770  LR: 0.000009  \n",
      "EVAL: [0/3] Elapsed 0m 0s (remain 0m 0s) Loss: 0.3607(0.3607) \n"
     ]
    },
    {
     "name": "stderr",
     "output_type": "stream",
     "text": [
      "Epoch 15 - avg_train_loss: 0.1783  avg_val_loss: 0.3214  time: 3s\n",
      "Epoch 15 - Score: 0.3250\n",
      "Epoch 15 - Save Best Score: 0.3250 Model\n"
     ]
    },
    {
     "name": "stdout",
     "output_type": "stream",
     "text": [
      "EVAL: [2/3] Elapsed 0m 0s (remain 0m 0s) Loss: 0.2223(0.3214) \n",
      "Epoch: [16][0/19] Elapsed 0m 0s (remain 0m 2s) Loss: 0.1683(0.1683) Grad: 8.0646  LR: 0.000001  \n",
      "Epoch: [16][10/19] Elapsed 0m 1s (remain 0m 1s) Loss: 0.0882(0.1479) Grad: 5.1614  LR: 0.000001  \n",
      "Epoch: [16][18/19] Elapsed 0m 2s (remain 0m 0s) Loss: 0.1239(0.1419) Grad: 4.1634  LR: 0.000001  \n",
      "EVAL: [0/3] Elapsed 0m 0s (remain 0m 0s) Loss: 0.3771(0.3771) \n"
     ]
    },
    {
     "name": "stderr",
     "output_type": "stream",
     "text": [
      "Epoch 16 - avg_train_loss: 0.1419  avg_val_loss: 0.3277  time: 3s\n",
      "Epoch 16 - Score: 0.3320\n"
     ]
    },
    {
     "name": "stdout",
     "output_type": "stream",
     "text": [
      "EVAL: [2/3] Elapsed 0m 0s (remain 0m 0s) Loss: 0.2235(0.3277) \n",
      "Epoch: [17][0/19] Elapsed 0m 0s (remain 0m 2s) Loss: 0.1630(0.1630) Grad: 3.9800  LR: 0.000050  \n",
      "Epoch: [17][10/19] Elapsed 0m 1s (remain 0m 1s) Loss: 0.1121(0.1329) Grad: 8.8293  LR: 0.000050  \n",
      "Epoch: [17][18/19] Elapsed 0m 2s (remain 0m 0s) Loss: 0.1220(0.1347) Grad: 4.6611  LR: 0.000050  \n",
      "EVAL: [0/3] Elapsed 0m 0s (remain 0m 0s) Loss: 0.3798(0.3798) \n"
     ]
    },
    {
     "name": "stderr",
     "output_type": "stream",
     "text": [
      "Epoch 17 - avg_train_loss: 0.1347  avg_val_loss: 0.3244  time: 3s\n",
      "Epoch 17 - Score: 0.3304\n"
     ]
    },
    {
     "name": "stdout",
     "output_type": "stream",
     "text": [
      "EVAL: [2/3] Elapsed 0m 0s (remain 0m 0s) Loss: 0.1990(0.3244) \n",
      "Epoch: [18][0/19] Elapsed 0m 0s (remain 0m 2s) Loss: 0.1396(0.1396) Grad: 6.1735  LR: 0.000224  \n",
      "Epoch: [18][10/19] Elapsed 0m 1s (remain 0m 1s) Loss: 0.1716(0.1408) Grad: 8.4003  LR: 0.000224  \n",
      "Epoch: [18][18/19] Elapsed 0m 2s (remain 0m 0s) Loss: 0.1259(0.1414) Grad: 5.4701  LR: 0.000224  \n",
      "EVAL: [0/3] Elapsed 0m 0s (remain 0m 0s) Loss: 0.3465(0.3465) \n"
     ]
    },
    {
     "name": "stderr",
     "output_type": "stream",
     "text": [
      "Epoch 18 - avg_train_loss: 0.1414  avg_val_loss: 0.3207  time: 3s\n",
      "Epoch 18 - Score: 0.3260\n"
     ]
    },
    {
     "name": "stdout",
     "output_type": "stream",
     "text": [
      "EVAL: [2/3] Elapsed 0m 0s (remain 0m 0s) Loss: 0.1900(0.3207) \n",
      "Epoch: [19][0/19] Elapsed 0m 0s (remain 0m 2s) Loss: 0.1957(0.1957) Grad: 12.9894  LR: 0.000133  \n",
      "Epoch: [19][10/19] Elapsed 0m 1s (remain 0m 1s) Loss: 0.1721(0.1749) Grad: 5.8885  LR: 0.000133  \n",
      "Epoch: [19][18/19] Elapsed 0m 2s (remain 0m 0s) Loss: 0.2177(0.1866) Grad: 13.1429  LR: 0.000133  \n",
      "EVAL: [0/3] Elapsed 0m 0s (remain 0m 0s) Loss: 0.3246(0.3246) \n"
     ]
    },
    {
     "name": "stderr",
     "output_type": "stream",
     "text": [
      "Epoch 19 - avg_train_loss: 0.1866  avg_val_loss: 0.3192  time: 3s\n",
      "Epoch 19 - Score: 0.3259\n"
     ]
    },
    {
     "name": "stdout",
     "output_type": "stream",
     "text": [
      "EVAL: [2/3] Elapsed 0m 0s (remain 0m 0s) Loss: 0.1803(0.3192) \n",
      "Epoch: [20][0/19] Elapsed 0m 0s (remain 0m 2s) Loss: 0.2238(0.2238) Grad: 8.4707  LR: 0.000057  \n",
      "Epoch: [20][10/19] Elapsed 0m 1s (remain 0m 1s) Loss: 0.1963(0.1959) Grad: 13.2636  LR: 0.000057  \n",
      "Epoch: [20][18/19] Elapsed 0m 2s (remain 0m 0s) Loss: 0.1739(0.1884) Grad: 8.1418  LR: 0.000057  \n",
      "EVAL: [0/3] Elapsed 0m 0s (remain 0m 0s) Loss: 0.3947(0.3947) \n"
     ]
    },
    {
     "name": "stderr",
     "output_type": "stream",
     "text": [
      "Epoch 20 - avg_train_loss: 0.1884  avg_val_loss: 0.3379  time: 3s\n",
      "Epoch 20 - Score: 0.3425\n"
     ]
    },
    {
     "name": "stdout",
     "output_type": "stream",
     "text": [
      "EVAL: [2/3] Elapsed 0m 0s (remain 0m 0s) Loss: 0.2377(0.3379) \n",
      "Epoch: [21][0/19] Elapsed 0m 0s (remain 0m 2s) Loss: 0.1401(0.1401) Grad: 12.8811  LR: 0.000009  \n",
      "Epoch: [21][10/19] Elapsed 0m 1s (remain 0m 1s) Loss: 0.1454(0.1487) Grad: 11.7312  LR: 0.000009  \n",
      "Epoch: [21][18/19] Elapsed 0m 2s (remain 0m 0s) Loss: 0.1099(0.1439) Grad: 9.8372  LR: 0.000009  \n",
      "EVAL: [0/3] Elapsed 0m 0s (remain 0m 0s) Loss: 0.3596(0.3596) \n"
     ]
    },
    {
     "name": "stderr",
     "output_type": "stream",
     "text": [
      "Epoch 21 - avg_train_loss: 0.1439  avg_val_loss: 0.3101  time: 3s\n",
      "Epoch 21 - Score: 0.3159\n",
      "Epoch 21 - Save Best Score: 0.3159 Model\n"
     ]
    },
    {
     "name": "stdout",
     "output_type": "stream",
     "text": [
      "EVAL: [2/3] Elapsed 0m 0s (remain 0m 0s) Loss: 0.1861(0.3101) \n",
      "Epoch: [22][0/19] Elapsed 0m 0s (remain 0m 2s) Loss: 0.1252(0.1252) Grad: 4.9409  LR: 0.000001  \n",
      "Epoch: [22][10/19] Elapsed 0m 1s (remain 0m 1s) Loss: 0.1319(0.1171) Grad: 2.6839  LR: 0.000001  \n",
      "Epoch: [22][18/19] Elapsed 0m 2s (remain 0m 0s) Loss: 0.0950(0.1157) Grad: 8.3666  LR: 0.000001  \n",
      "EVAL: [0/3] Elapsed 0m 0s (remain 0m 0s) Loss: 0.3357(0.3357) \n"
     ]
    },
    {
     "name": "stderr",
     "output_type": "stream",
     "text": [
      "Epoch 22 - avg_train_loss: 0.1157  avg_val_loss: 0.2938  time: 3s\n",
      "Epoch 22 - Score: 0.2979\n",
      "Epoch 22 - Save Best Score: 0.2979 Model\n"
     ]
    },
    {
     "name": "stdout",
     "output_type": "stream",
     "text": [
      "EVAL: [2/3] Elapsed 0m 0s (remain 0m 0s) Loss: 0.1927(0.2938) \n",
      "Epoch: [23][0/19] Elapsed 0m 0s (remain 0m 2s) Loss: 0.1056(0.1056) Grad: 3.7412  LR: 0.000050  \n",
      "Epoch: [23][10/19] Elapsed 0m 1s (remain 0m 1s) Loss: 0.0995(0.1169) Grad: 16.1690  LR: 0.000050  \n",
      "Epoch: [23][18/19] Elapsed 0m 2s (remain 0m 0s) Loss: 0.1082(0.1172) Grad: 5.9464  LR: 0.000050  \n",
      "EVAL: [0/3] Elapsed 0m 0s (remain 0m 0s) Loss: 0.3741(0.3741) \n"
     ]
    },
    {
     "name": "stderr",
     "output_type": "stream",
     "text": [
      "Epoch 23 - avg_train_loss: 0.1172  avg_val_loss: 0.3081  time: 3s\n",
      "Epoch 23 - Score: 0.3169\n"
     ]
    },
    {
     "name": "stdout",
     "output_type": "stream",
     "text": [
      "EVAL: [2/3] Elapsed 0m 0s (remain 0m 0s) Loss: 0.1601(0.3081) \n",
      "Epoch: [24][0/19] Elapsed 0m 0s (remain 0m 2s) Loss: 0.1167(0.1167) Grad: 8.0330  LR: 0.000224  \n",
      "Epoch: [24][10/19] Elapsed 0m 1s (remain 0m 1s) Loss: 0.1356(0.1163) Grad: 4.4086  LR: 0.000224  \n",
      "Epoch: [24][18/19] Elapsed 0m 2s (remain 0m 0s) Loss: 0.1724(0.1256) Grad: 10.7444  LR: 0.000224  \n",
      "EVAL: [0/3] Elapsed 0m 0s (remain 0m 0s) Loss: 0.4074(0.4074) \n"
     ]
    },
    {
     "name": "stderr",
     "output_type": "stream",
     "text": [
      "Epoch 24 - avg_train_loss: 0.1256  avg_val_loss: 0.3438  time: 3s\n",
      "Epoch 24 - Score: 0.3508\n"
     ]
    },
    {
     "name": "stdout",
     "output_type": "stream",
     "text": [
      "EVAL: [2/3] Elapsed 0m 0s (remain 0m 0s) Loss: 0.2081(0.3438) \n",
      "Epoch: [25][0/19] Elapsed 0m 0s (remain 0m 2s) Loss: 0.1415(0.1415) Grad: 17.1241  LR: 0.000133  \n",
      "Epoch: [25][10/19] Elapsed 0m 1s (remain 0m 1s) Loss: 0.2098(0.1907) Grad: 11.7853  LR: 0.000133  \n",
      "Epoch: [25][18/19] Elapsed 0m 2s (remain 0m 0s) Loss: 0.1714(0.1920) Grad: 11.9775  LR: 0.000133  \n",
      "EVAL: [0/3] Elapsed 0m 0s (remain 0m 0s) Loss: 0.3697(0.3697) \n"
     ]
    },
    {
     "name": "stderr",
     "output_type": "stream",
     "text": [
      "Epoch 25 - avg_train_loss: 0.1920  avg_val_loss: 0.3320  time: 3s\n",
      "Epoch 25 - Score: 0.3350\n"
     ]
    },
    {
     "name": "stdout",
     "output_type": "stream",
     "text": [
      "EVAL: [2/3] Elapsed 0m 0s (remain 0m 0s) Loss: 0.2403(0.3320) \n",
      "Epoch: [26][0/19] Elapsed 0m 0s (remain 0m 2s) Loss: 0.1071(0.1071) Grad: 5.3656  LR: 0.000057  \n",
      "Epoch: [26][10/19] Elapsed 0m 1s (remain 0m 1s) Loss: 0.1946(0.1657) Grad: 10.9189  LR: 0.000057  \n",
      "Epoch: [26][18/19] Elapsed 0m 2s (remain 0m 0s) Loss: 0.1695(0.1811) Grad: 7.6107  LR: 0.000057  \n",
      "EVAL: [0/3] Elapsed 0m 0s (remain 0m 0s) Loss: 0.4112(0.4112) \n"
     ]
    },
    {
     "name": "stderr",
     "output_type": "stream",
     "text": [
      "Epoch 26 - avg_train_loss: 0.1811  avg_val_loss: 0.3863  time: 3s\n",
      "Epoch 26 - Score: 0.3874\n"
     ]
    },
    {
     "name": "stdout",
     "output_type": "stream",
     "text": [
      "EVAL: [2/3] Elapsed 0m 0s (remain 0m 0s) Loss: 0.3270(0.3863) \n",
      "Epoch: [27][0/19] Elapsed 0m 0s (remain 0m 2s) Loss: 0.2516(0.2516) Grad: 17.2039  LR: 0.000009  \n",
      "Epoch: [27][10/19] Elapsed 0m 1s (remain 0m 1s) Loss: 0.2247(0.1927) Grad: 14.6403  LR: 0.000009  \n",
      "Epoch: [27][18/19] Elapsed 0m 2s (remain 0m 0s) Loss: 0.1311(0.1703) Grad: 9.6176  LR: 0.000009  \n",
      "EVAL: [0/3] Elapsed 0m 0s (remain 0m 0s) Loss: 0.3692(0.3692) \n"
     ]
    },
    {
     "name": "stderr",
     "output_type": "stream",
     "text": [
      "Epoch 27 - avg_train_loss: 0.1703  avg_val_loss: 0.3258  time: 3s\n",
      "Epoch 27 - Score: 0.3305\n"
     ]
    },
    {
     "name": "stdout",
     "output_type": "stream",
     "text": [
      "EVAL: [2/3] Elapsed 0m 0s (remain 0m 0s) Loss: 0.2087(0.3258) \n",
      "Epoch: [28][0/19] Elapsed 0m 0s (remain 0m 2s) Loss: 0.1104(0.1104) Grad: 7.9145  LR: 0.000001  \n",
      "Epoch: [28][10/19] Elapsed 0m 1s (remain 0m 1s) Loss: 0.1152(0.1157) Grad: 3.2026  LR: 0.000001  \n",
      "Epoch: [28][18/19] Elapsed 0m 2s (remain 0m 0s) Loss: 0.0877(0.1142) Grad: 3.1999  LR: 0.000001  \n",
      "EVAL: [0/3] Elapsed 0m 0s (remain 0m 0s) Loss: 0.3439(0.3439) \n"
     ]
    },
    {
     "name": "stderr",
     "output_type": "stream",
     "text": [
      "Epoch 28 - avg_train_loss: 0.1142  avg_val_loss: 0.2975  time: 3s\n",
      "Epoch 28 - Score: 0.3041\n"
     ]
    },
    {
     "name": "stdout",
     "output_type": "stream",
     "text": [
      "EVAL: [2/3] Elapsed 0m 0s (remain 0m 0s) Loss: 0.1638(0.2975) \n",
      "Epoch: [29][0/19] Elapsed 0m 0s (remain 0m 2s) Loss: 0.1176(0.1176) Grad: 4.0235  LR: 0.000050  \n",
      "Epoch: [29][10/19] Elapsed 0m 1s (remain 0m 1s) Loss: 0.1230(0.1226) Grad: 9.6121  LR: 0.000050  \n",
      "Epoch: [29][18/19] Elapsed 0m 2s (remain 0m 0s) Loss: 0.1123(0.1161) Grad: 3.0707  LR: 0.000050  \n",
      "EVAL: [0/3] Elapsed 0m 0s (remain 0m 0s) Loss: 0.3612(0.3612) \n"
     ]
    },
    {
     "name": "stderr",
     "output_type": "stream",
     "text": [
      "Epoch 29 - avg_train_loss: 0.1161  avg_val_loss: 0.3089  time: 3s\n",
      "Epoch 29 - Score: 0.3150\n"
     ]
    },
    {
     "name": "stdout",
     "output_type": "stream",
     "text": [
      "EVAL: [2/3] Elapsed 0m 0s (remain 0m 0s) Loss: 0.1821(0.3089) \n",
      "Epoch: [30][0/19] Elapsed 0m 0s (remain 0m 2s) Loss: 0.0735(0.0735) Grad: 2.9755  LR: 0.000224  \n",
      "Epoch: [30][10/19] Elapsed 0m 1s (remain 0m 1s) Loss: 0.1654(0.1406) Grad: 10.3523  LR: 0.000224  \n",
      "Epoch: [30][18/19] Elapsed 0m 2s (remain 0m 0s) Loss: 0.3242(0.1819) Grad: 18.5030  LR: 0.000224  \n",
      "EVAL: [0/3] Elapsed 0m 0s (remain 0m 0s) Loss: 0.3755(0.3755) \n"
     ]
    },
    {
     "name": "stderr",
     "output_type": "stream",
     "text": [
      "Epoch 30 - avg_train_loss: 0.1819  avg_val_loss: 0.3319  time: 3s\n",
      "Epoch 30 - Score: 0.3360\n"
     ]
    },
    {
     "name": "stdout",
     "output_type": "stream",
     "text": [
      "EVAL: [2/3] Elapsed 0m 0s (remain 0m 0s) Loss: 0.2235(0.3319) \n",
      "Epoch: [31][0/19] Elapsed 0m 0s (remain 0m 2s) Loss: 0.1832(0.1832) Grad: 10.9641  LR: 0.000133  \n",
      "Epoch: [31][10/19] Elapsed 0m 1s (remain 0m 1s) Loss: 0.1558(0.1853) Grad: 10.6532  LR: 0.000133  \n",
      "Epoch: [31][18/19] Elapsed 0m 2s (remain 0m 0s) Loss: 0.1592(0.1735) Grad: 13.8663  LR: 0.000133  \n",
      "EVAL: [0/3] Elapsed 0m 0s (remain 0m 0s) Loss: 0.3446(0.3446) \n"
     ]
    },
    {
     "name": "stderr",
     "output_type": "stream",
     "text": [
      "Epoch 31 - avg_train_loss: 0.1735  avg_val_loss: 0.2971  time: 3s\n",
      "Epoch 31 - Score: 0.3029\n"
     ]
    },
    {
     "name": "stdout",
     "output_type": "stream",
     "text": [
      "EVAL: [2/3] Elapsed 0m 0s (remain 0m 0s) Loss: 0.1747(0.2971) \n",
      "Epoch: [32][0/19] Elapsed 0m 0s (remain 0m 2s) Loss: 0.1140(0.1140) Grad: 7.6030  LR: 0.000057  \n",
      "Epoch: [32][10/19] Elapsed 0m 1s (remain 0m 1s) Loss: 0.1389(0.1523) Grad: 7.8840  LR: 0.000057  \n",
      "Epoch: [32][18/19] Elapsed 0m 2s (remain 0m 0s) Loss: 0.1401(0.1464) Grad: 12.0600  LR: 0.000057  \n",
      "EVAL: [0/3] Elapsed 0m 0s (remain 0m 0s) Loss: 0.3503(0.3503) \n"
     ]
    },
    {
     "name": "stderr",
     "output_type": "stream",
     "text": [
      "Epoch 32 - avg_train_loss: 0.1464  avg_val_loss: 0.3078  time: 3s\n",
      "Epoch 32 - Score: 0.3145\n"
     ]
    },
    {
     "name": "stdout",
     "output_type": "stream",
     "text": [
      "EVAL: [2/3] Elapsed 0m 0s (remain 0m 0s) Loss: 0.1673(0.3078) \n",
      "Epoch: [33][0/19] Elapsed 0m 0s (remain 0m 2s) Loss: 0.1016(0.1016) Grad: 7.7178  LR: 0.000009  \n",
      "Epoch: [33][10/19] Elapsed 0m 1s (remain 0m 1s) Loss: 0.1221(0.1206) Grad: 3.2335  LR: 0.000009  \n",
      "Epoch: [33][18/19] Elapsed 0m 2s (remain 0m 0s) Loss: 0.1134(0.1163) Grad: 7.0878  LR: 0.000009  \n",
      "EVAL: [0/3] Elapsed 0m 0s (remain 0m 0s) Loss: 0.3406(0.3406) \n"
     ]
    },
    {
     "name": "stderr",
     "output_type": "stream",
     "text": [
      "Epoch 33 - avg_train_loss: 0.1163  avg_val_loss: 0.3018  time: 3s\n",
      "Epoch 33 - Score: 0.3063\n"
     ]
    },
    {
     "name": "stdout",
     "output_type": "stream",
     "text": [
      "EVAL: [2/3] Elapsed 0m 0s (remain 0m 0s) Loss: 0.1908(0.3018) \n",
      "Epoch: [34][0/19] Elapsed 0m 0s (remain 0m 2s) Loss: 0.0907(0.0907) Grad: 2.9827  LR: 0.000001  \n",
      "Epoch: [34][10/19] Elapsed 0m 1s (remain 0m 1s) Loss: 0.1133(0.1139) Grad: 7.7765  LR: 0.000001  \n",
      "Epoch: [34][18/19] Elapsed 0m 2s (remain 0m 0s) Loss: 0.0907(0.1059) Grad: 3.4203  LR: 0.000001  \n",
      "EVAL: [0/3] Elapsed 0m 0s (remain 0m 0s) Loss: 0.3391(0.3391) \n"
     ]
    },
    {
     "name": "stderr",
     "output_type": "stream",
     "text": [
      "Epoch 34 - avg_train_loss: 0.1059  avg_val_loss: 0.2920  time: 3s\n",
      "Epoch 34 - Score: 0.2984\n"
     ]
    },
    {
     "name": "stdout",
     "output_type": "stream",
     "text": [
      "EVAL: [2/3] Elapsed 0m 0s (remain 0m 0s) Loss: 0.1623(0.2920) \n",
      "Epoch: [35][0/19] Elapsed 0m 0s (remain 0m 2s) Loss: 0.1003(0.1003) Grad: 5.1379  LR: 0.000050  \n",
      "Epoch: [35][10/19] Elapsed 0m 1s (remain 0m 1s) Loss: 0.1158(0.0958) Grad: 4.3439  LR: 0.000050  \n",
      "Epoch: [35][18/19] Elapsed 0m 2s (remain 0m 0s) Loss: 0.0996(0.0981) Grad: 5.7774  LR: 0.000050  \n",
      "EVAL: [0/3] Elapsed 0m 0s (remain 0m 0s) Loss: 0.3292(0.3292) \n"
     ]
    },
    {
     "name": "stderr",
     "output_type": "stream",
     "text": [
      "Epoch 35 - avg_train_loss: 0.0981  avg_val_loss: 0.2902  time: 3s\n",
      "Epoch 35 - Score: 0.2970\n",
      "Epoch 35 - Save Best Score: 0.2970 Model\n"
     ]
    },
    {
     "name": "stdout",
     "output_type": "stream",
     "text": [
      "EVAL: [2/3] Elapsed 0m 0s (remain 0m 0s) Loss: 0.1521(0.2902) \n",
      "Epoch: [36][0/19] Elapsed 0m 0s (remain 0m 2s) Loss: 0.1102(0.1102) Grad: 6.2329  LR: 0.000224  \n",
      "Epoch: [36][10/19] Elapsed 0m 1s (remain 0m 1s) Loss: 0.1138(0.1133) Grad: 2.8850  LR: 0.000224  \n",
      "Epoch: [36][18/19] Elapsed 0m 2s (remain 0m 0s) Loss: 0.1250(0.1096) Grad: 9.8275  LR: 0.000224  \n",
      "EVAL: [0/3] Elapsed 0m 0s (remain 0m 0s) Loss: 0.3465(0.3465) \n"
     ]
    },
    {
     "name": "stderr",
     "output_type": "stream",
     "text": [
      "Epoch 36 - avg_train_loss: 0.1096  avg_val_loss: 0.3002  time: 3s\n",
      "Epoch 36 - Score: 0.3072\n"
     ]
    },
    {
     "name": "stdout",
     "output_type": "stream",
     "text": [
      "EVAL: [2/3] Elapsed 0m 0s (remain 0m 0s) Loss: 0.1596(0.3002) \n",
      "Epoch: [37][0/19] Elapsed 0m 0s (remain 0m 2s) Loss: 0.1343(0.1343) Grad: 11.1904  LR: 0.000133  \n",
      "Epoch: [37][10/19] Elapsed 0m 1s (remain 0m 1s) Loss: 0.1256(0.1450) Grad: 9.4789  LR: 0.000133  \n",
      "Epoch: [37][18/19] Elapsed 0m 2s (remain 0m 0s) Loss: 0.1756(0.1511) Grad: 6.6987  LR: 0.000133  \n",
      "EVAL: [0/3] Elapsed 0m 0s (remain 0m 0s) Loss: 0.3720(0.3720) \n"
     ]
    },
    {
     "name": "stderr",
     "output_type": "stream",
     "text": [
      "Epoch 37 - avg_train_loss: 0.1511  avg_val_loss: 0.3151  time: 3s\n",
      "Epoch 37 - Score: 0.3217\n"
     ]
    },
    {
     "name": "stdout",
     "output_type": "stream",
     "text": [
      "EVAL: [2/3] Elapsed 0m 0s (remain 0m 0s) Loss: 0.1858(0.3151) \n",
      "Epoch: [38][0/19] Elapsed 0m 0s (remain 0m 2s) Loss: 0.1256(0.1256) Grad: 3.8663  LR: 0.000057  \n",
      "Epoch: [38][10/19] Elapsed 0m 1s (remain 0m 1s) Loss: 0.1202(0.1368) Grad: 3.4520  LR: 0.000057  \n",
      "Epoch: [38][18/19] Elapsed 0m 2s (remain 0m 0s) Loss: 0.1094(0.1410) Grad: 4.2532  LR: 0.000057  \n",
      "EVAL: [0/3] Elapsed 0m 0s (remain 0m 0s) Loss: 0.3593(0.3593) \n"
     ]
    },
    {
     "name": "stderr",
     "output_type": "stream",
     "text": [
      "Epoch 38 - avg_train_loss: 0.1410  avg_val_loss: 0.3193  time: 3s\n",
      "Epoch 38 - Score: 0.3242\n"
     ]
    },
    {
     "name": "stdout",
     "output_type": "stream",
     "text": [
      "EVAL: [2/3] Elapsed 0m 0s (remain 0m 0s) Loss: 0.1982(0.3193) \n",
      "Epoch: [39][0/19] Elapsed 0m 0s (remain 0m 2s) Loss: 0.1309(0.1309) Grad: 12.3164  LR: 0.000009  \n",
      "Epoch: [39][10/19] Elapsed 0m 1s (remain 0m 1s) Loss: 0.1006(0.1116) Grad: 7.9016  LR: 0.000009  \n",
      "Epoch: [39][18/19] Elapsed 0m 2s (remain 0m 0s) Loss: 0.1010(0.1105) Grad: 6.3664  LR: 0.000009  \n",
      "EVAL: [0/3] Elapsed 0m 0s (remain 0m 0s) Loss: 0.3602(0.3602) \n"
     ]
    },
    {
     "name": "stderr",
     "output_type": "stream",
     "text": [
      "Epoch 39 - avg_train_loss: 0.1105  avg_val_loss: 0.2976  time: 3s\n",
      "Epoch 39 - Score: 0.3083\n"
     ]
    },
    {
     "name": "stdout",
     "output_type": "stream",
     "text": [
      "EVAL: [2/3] Elapsed 0m 0s (remain 0m 0s) Loss: 0.1284(0.2976) \n",
      "Epoch: [40][0/19] Elapsed 0m 0s (remain 0m 2s) Loss: 0.1041(0.1041) Grad: 3.4896  LR: 0.000001  \n",
      "Epoch: [40][10/19] Elapsed 0m 1s (remain 0m 1s) Loss: 0.0639(0.0941) Grad: 5.5081  LR: 0.000001  \n",
      "Epoch: [40][18/19] Elapsed 0m 2s (remain 0m 0s) Loss: 0.0777(0.0873) Grad: 3.4171  LR: 0.000001  \n",
      "EVAL: [0/3] Elapsed 0m 0s (remain 0m 0s) Loss: 0.3569(0.3569) \n"
     ]
    },
    {
     "name": "stderr",
     "output_type": "stream",
     "text": [
      "Epoch 40 - avg_train_loss: 0.0873  avg_val_loss: 0.2938  time: 3s\n",
      "Epoch 40 - Score: 0.3040\n"
     ]
    },
    {
     "name": "stdout",
     "output_type": "stream",
     "text": [
      "EVAL: [2/3] Elapsed 0m 0s (remain 0m 0s) Loss: 0.1321(0.2938) \n"
     ]
    },
    {
     "name": "stderr",
     "output_type": "stream",
     "text": [
      "========== fold: 3 result ==========\n",
      "Score: 0.2970\n",
      "========== fold: 4 training ==========\n"
     ]
    },
    {
     "name": "stdout",
     "output_type": "stream",
     "text": [
      "Epoch: [1][0/19] Elapsed 0m 0s (remain 0m 2s) Loss: 3.4191(3.4191) Grad: 25.0817  LR: 0.000100  \n",
      "Epoch: [1][10/19] Elapsed 0m 1s (remain 0m 1s) Loss: 0.3229(1.1252) Grad: 7.5173  LR: 0.000100  \n",
      "Epoch: [1][18/19] Elapsed 0m 2s (remain 0m 0s) Loss: 0.4051(0.9437) Grad: 5.9374  LR: 0.000100  \n",
      "EVAL: [0/3] Elapsed 0m 0s (remain 0m 0s) Loss: 0.6552(0.6552) \n"
     ]
    },
    {
     "name": "stderr",
     "output_type": "stream",
     "text": [
      "Epoch 1 - avg_train_loss: 0.9437  avg_val_loss: 0.5115  time: 4s\n",
      "Epoch 1 - Score: 0.5260\n",
      "Epoch 1 - Save Best Score: 0.5260 Model\n"
     ]
    },
    {
     "name": "stdout",
     "output_type": "stream",
     "text": [
      "EVAL: [2/3] Elapsed 0m 0s (remain 0m 0s) Loss: 0.4480(0.5115) \n",
      "Epoch: [2][0/19] Elapsed 0m 0s (remain 0m 2s) Loss: 0.4840(0.4840) Grad: 17.8704  LR: 0.000057  \n",
      "Epoch: [2][10/19] Elapsed 0m 1s (remain 0m 1s) Loss: 0.6211(0.4758) Grad: 26.6774  LR: 0.000057  \n",
      "Epoch: [2][18/19] Elapsed 0m 2s (remain 0m 0s) Loss: 0.3860(0.4742) Grad: 16.7692  LR: 0.000057  \n",
      "EVAL: [0/3] Elapsed 0m 0s (remain 0m 0s) Loss: 0.4706(0.4706) \n"
     ]
    },
    {
     "name": "stderr",
     "output_type": "stream",
     "text": [
      "Epoch 2 - avg_train_loss: 0.4742  avg_val_loss: 0.3667  time: 4s\n",
      "Epoch 2 - Score: 0.3772\n",
      "Epoch 2 - Save Best Score: 0.3772 Model\n"
     ]
    },
    {
     "name": "stdout",
     "output_type": "stream",
     "text": [
      "EVAL: [2/3] Elapsed 0m 0s (remain 0m 0s) Loss: 0.2682(0.3667) \n",
      "Epoch: [3][0/19] Elapsed 0m 0s (remain 0m 2s) Loss: 0.4623(0.4623) Grad: 4.7408  LR: 0.000009  \n",
      "Epoch: [3][10/19] Elapsed 0m 1s (remain 0m 1s) Loss: 0.3685(0.3661) Grad: 4.0174  LR: 0.000009  \n",
      "Epoch: [3][18/19] Elapsed 0m 2s (remain 0m 0s) Loss: 0.2847(0.3481) Grad: 13.3682  LR: 0.000009  \n",
      "EVAL: [0/3] Elapsed 0m 0s (remain 0m 0s) Loss: 0.3915(0.3915) \n"
     ]
    },
    {
     "name": "stderr",
     "output_type": "stream",
     "text": [
      "Epoch 3 - avg_train_loss: 0.3481  avg_val_loss: 0.3201  time: 4s\n",
      "Epoch 3 - Score: 0.3260\n",
      "Epoch 3 - Save Best Score: 0.3260 Model\n"
     ]
    },
    {
     "name": "stdout",
     "output_type": "stream",
     "text": [
      "EVAL: [2/3] Elapsed 0m 0s (remain 0m 0s) Loss: 0.2411(0.3201) \n",
      "Epoch: [4][0/19] Elapsed 0m 0s (remain 0m 2s) Loss: 0.3885(0.3885) Grad: 9.4374  LR: 0.000001  \n",
      "Epoch: [4][10/19] Elapsed 0m 1s (remain 0m 1s) Loss: 0.3523(0.2923) Grad: 5.4191  LR: 0.000001  \n",
      "Epoch: [4][18/19] Elapsed 0m 2s (remain 0m 0s) Loss: 0.2706(0.2835) Grad: 4.8734  LR: 0.000001  \n",
      "EVAL: [0/3] Elapsed 0m 0s (remain 0m 0s) Loss: 0.4084(0.4084) \n"
     ]
    },
    {
     "name": "stderr",
     "output_type": "stream",
     "text": [
      "Epoch 4 - avg_train_loss: 0.2835  avg_val_loss: 0.3285  time: 4s\n",
      "Epoch 4 - Score: 0.3362\n"
     ]
    },
    {
     "name": "stdout",
     "output_type": "stream",
     "text": [
      "EVAL: [2/3] Elapsed 0m 0s (remain 0m 0s) Loss: 0.2219(0.3285) \n",
      "Epoch: [5][0/19] Elapsed 0m 0s (remain 0m 2s) Loss: 0.4138(0.4138) Grad: 6.4999  LR: 0.000050  \n",
      "Epoch: [5][10/19] Elapsed 0m 1s (remain 0m 1s) Loss: 0.2600(0.2786) Grad: 12.5230  LR: 0.000050  \n",
      "Epoch: [5][18/19] Elapsed 0m 2s (remain 0m 0s) Loss: 0.2731(0.2714) Grad: 4.7077  LR: 0.000050  \n",
      "EVAL: [0/3] Elapsed 0m 0s (remain 0m 0s) Loss: 0.4292(0.4292) \n"
     ]
    },
    {
     "name": "stderr",
     "output_type": "stream",
     "text": [
      "Epoch 5 - avg_train_loss: 0.2714  avg_val_loss: 0.3340  time: 4s\n",
      "Epoch 5 - Score: 0.3439\n"
     ]
    },
    {
     "name": "stdout",
     "output_type": "stream",
     "text": [
      "EVAL: [2/3] Elapsed 0m 0s (remain 0m 0s) Loss: 0.2333(0.3340) \n",
      "Epoch: [6][0/19] Elapsed 0m 0s (remain 0m 2s) Loss: 0.2694(0.2694) Grad: 16.2081  LR: 0.000224  \n",
      "Epoch: [6][10/19] Elapsed 0m 1s (remain 0m 1s) Loss: 0.2811(0.2863) Grad: 15.8099  LR: 0.000224  \n",
      "Epoch: [6][18/19] Elapsed 0m 2s (remain 0m 0s) Loss: 0.2471(0.2982) Grad: 5.1455  LR: 0.000224  \n",
      "EVAL: [0/3] Elapsed 0m 0s (remain 0m 0s) Loss: 0.5158(0.5158) \n"
     ]
    },
    {
     "name": "stderr",
     "output_type": "stream",
     "text": [
      "Epoch 6 - avg_train_loss: 0.2982  avg_val_loss: 0.4053  time: 4s\n",
      "Epoch 6 - Score: 0.4161\n"
     ]
    },
    {
     "name": "stdout",
     "output_type": "stream",
     "text": [
      "EVAL: [2/3] Elapsed 0m 0s (remain 0m 0s) Loss: 0.3026(0.4053) \n",
      "Epoch: [7][0/19] Elapsed 0m 0s (remain 0m 2s) Loss: 0.3308(0.3308) Grad: 20.7426  LR: 0.000133  \n",
      "Epoch: [7][10/19] Elapsed 0m 1s (remain 0m 1s) Loss: 0.2275(0.2426) Grad: 11.8421  LR: 0.000133  \n",
      "Epoch: [7][18/19] Elapsed 0m 2s (remain 0m 0s) Loss: 0.2669(0.2615) Grad: 5.3387  LR: 0.000133  \n",
      "EVAL: [0/3] Elapsed 0m 0s (remain 0m 0s) Loss: 0.4056(0.4056) \n"
     ]
    },
    {
     "name": "stderr",
     "output_type": "stream",
     "text": [
      "Epoch 7 - avg_train_loss: 0.2615  avg_val_loss: 0.3322  time: 4s\n",
      "Epoch 7 - Score: 0.3398\n"
     ]
    },
    {
     "name": "stdout",
     "output_type": "stream",
     "text": [
      "EVAL: [2/3] Elapsed 0m 0s (remain 0m 0s) Loss: 0.2065(0.3322) \n",
      "Epoch: [8][0/19] Elapsed 0m 0s (remain 0m 2s) Loss: 0.2087(0.2087) Grad: 4.5104  LR: 0.000057  \n",
      "Epoch: [8][10/19] Elapsed 0m 1s (remain 0m 1s) Loss: 0.2028(0.2565) Grad: 17.5724  LR: 0.000057  \n",
      "Epoch: [8][18/19] Elapsed 0m 2s (remain 0m 0s) Loss: 0.2116(0.2334) Grad: 4.2686  LR: 0.000057  \n",
      "EVAL: [0/3] Elapsed 0m 0s (remain 0m 0s) Loss: 0.4045(0.4045) \n"
     ]
    },
    {
     "name": "stderr",
     "output_type": "stream",
     "text": [
      "Epoch 8 - avg_train_loss: 0.2334  avg_val_loss: 0.3213  time: 4s\n",
      "Epoch 8 - Score: 0.3292\n"
     ]
    },
    {
     "name": "stdout",
     "output_type": "stream",
     "text": [
      "EVAL: [2/3] Elapsed 0m 0s (remain 0m 0s) Loss: 0.2301(0.3213) \n",
      "Epoch: [9][0/19] Elapsed 0m 0s (remain 0m 2s) Loss: 0.2230(0.2230) Grad: 9.1591  LR: 0.000009  \n",
      "Epoch: [9][10/19] Elapsed 0m 1s (remain 0m 1s) Loss: 0.2042(0.1922) Grad: 10.7813  LR: 0.000009  \n",
      "Epoch: [9][18/19] Elapsed 0m 2s (remain 0m 0s) Loss: 0.2117(0.1903) Grad: 5.8806  LR: 0.000009  \n",
      "EVAL: [0/3] Elapsed 0m 0s (remain 0m 0s) Loss: 0.3977(0.3977) \n"
     ]
    },
    {
     "name": "stderr",
     "output_type": "stream",
     "text": [
      "Epoch 9 - avg_train_loss: 0.1903  avg_val_loss: 0.3207  time: 4s\n",
      "Epoch 9 - Score: 0.3277\n"
     ]
    },
    {
     "name": "stdout",
     "output_type": "stream",
     "text": [
      "EVAL: [2/3] Elapsed 0m 0s (remain 0m 0s) Loss: 0.2287(0.3207) \n",
      "Epoch: [10][0/19] Elapsed 0m 0s (remain 0m 2s) Loss: 0.1903(0.1903) Grad: 21.7404  LR: 0.000001  \n",
      "Epoch: [10][10/19] Elapsed 0m 1s (remain 0m 1s) Loss: 0.1503(0.1590) Grad: 5.6140  LR: 0.000001  \n",
      "Epoch: [10][18/19] Elapsed 0m 2s (remain 0m 0s) Loss: 0.1933(0.1548) Grad: 4.3957  LR: 0.000001  \n",
      "EVAL: [0/3] Elapsed 0m 0s (remain 0m 0s) Loss: 0.4129(0.4129) \n"
     ]
    },
    {
     "name": "stderr",
     "output_type": "stream",
     "text": [
      "Epoch 10 - avg_train_loss: 0.1548  avg_val_loss: 0.3063  time: 4s\n",
      "Epoch 10 - Score: 0.3201\n",
      "Epoch 10 - Save Best Score: 0.3201 Model\n"
     ]
    },
    {
     "name": "stdout",
     "output_type": "stream",
     "text": [
      "EVAL: [2/3] Elapsed 0m 0s (remain 0m 0s) Loss: 0.1815(0.3063) \n",
      "Epoch: [11][0/19] Elapsed 0m 0s (remain 0m 2s) Loss: 0.1923(0.1923) Grad: 5.7447  LR: 0.000050  \n",
      "Epoch: [11][10/19] Elapsed 0m 1s (remain 0m 1s) Loss: 0.1846(0.1672) Grad: 23.9966  LR: 0.000050  \n",
      "Epoch: [11][18/19] Elapsed 0m 2s (remain 0m 0s) Loss: 0.2017(0.1701) Grad: 16.6223  LR: 0.000050  \n",
      "EVAL: [0/3] Elapsed 0m 0s (remain 0m 0s) Loss: 0.3878(0.3878) \n"
     ]
    },
    {
     "name": "stderr",
     "output_type": "stream",
     "text": [
      "Epoch 11 - avg_train_loss: 0.1701  avg_val_loss: 0.2883  time: 4s\n",
      "Epoch 11 - Score: 0.3023\n",
      "Epoch 11 - Save Best Score: 0.3023 Model\n"
     ]
    },
    {
     "name": "stdout",
     "output_type": "stream",
     "text": [
      "EVAL: [2/3] Elapsed 0m 0s (remain 0m 0s) Loss: 0.1451(0.2883) \n",
      "Epoch: [12][0/19] Elapsed 0m 0s (remain 0m 2s) Loss: 0.1545(0.1545) Grad: 9.2004  LR: 0.000224  \n",
      "Epoch: [12][10/19] Elapsed 0m 1s (remain 0m 1s) Loss: 0.1882(0.2534) Grad: 4.3761  LR: 0.000224  \n",
      "Epoch: [12][18/19] Elapsed 0m 2s (remain 0m 0s) Loss: 0.2599(0.2428) Grad: 19.6518  LR: 0.000224  \n",
      "EVAL: [0/3] Elapsed 0m 0s (remain 0m 0s) Loss: 0.4687(0.4687) \n"
     ]
    },
    {
     "name": "stderr",
     "output_type": "stream",
     "text": [
      "Epoch 12 - avg_train_loss: 0.2428  avg_val_loss: 0.3874  time: 4s\n",
      "Epoch 12 - Score: 0.3939\n"
     ]
    },
    {
     "name": "stdout",
     "output_type": "stream",
     "text": [
      "EVAL: [2/3] Elapsed 0m 0s (remain 0m 0s) Loss: 0.3693(0.3874) \n",
      "Epoch: [13][0/19] Elapsed 0m 0s (remain 0m 2s) Loss: 0.3195(0.3195) Grad: 21.9368  LR: 0.000133  \n",
      "Epoch: [13][10/19] Elapsed 0m 1s (remain 0m 1s) Loss: 0.1670(0.2118) Grad: 9.1235  LR: 0.000133  \n",
      "Epoch: [13][18/19] Elapsed 0m 2s (remain 0m 0s) Loss: 0.2816(0.2180) Grad: 23.5664  LR: 0.000133  \n",
      "EVAL: [0/3] Elapsed 0m 0s (remain 0m 0s) Loss: 0.4503(0.4503) \n"
     ]
    },
    {
     "name": "stderr",
     "output_type": "stream",
     "text": [
      "Epoch 13 - avg_train_loss: 0.2180  avg_val_loss: 0.3581  time: 4s\n",
      "Epoch 13 - Score: 0.3665\n"
     ]
    },
    {
     "name": "stdout",
     "output_type": "stream",
     "text": [
      "EVAL: [2/3] Elapsed 0m 0s (remain 0m 0s) Loss: 0.2726(0.3581) \n",
      "Epoch: [14][0/19] Elapsed 0m 0s (remain 0m 2s) Loss: 0.2326(0.2326) Grad: 13.2917  LR: 0.000057  \n",
      "Epoch: [14][10/19] Elapsed 0m 1s (remain 0m 1s) Loss: 0.2387(0.2360) Grad: 6.3363  LR: 0.000057  \n",
      "Epoch: [14][18/19] Elapsed 0m 2s (remain 0m 0s) Loss: 0.2113(0.2241) Grad: 4.5465  LR: 0.000057  \n",
      "EVAL: [0/3] Elapsed 0m 0s (remain 0m 0s) Loss: 0.3839(0.3839) \n"
     ]
    },
    {
     "name": "stderr",
     "output_type": "stream",
     "text": [
      "Epoch 14 - avg_train_loss: 0.2241  avg_val_loss: 0.2965  time: 4s\n",
      "Epoch 14 - Score: 0.3062\n"
     ]
    },
    {
     "name": "stdout",
     "output_type": "stream",
     "text": [
      "EVAL: [2/3] Elapsed 0m 0s (remain 0m 0s) Loss: 0.1925(0.2965) \n",
      "Epoch: [15][0/19] Elapsed 0m 0s (remain 0m 2s) Loss: 0.2042(0.2042) Grad: 9.7032  LR: 0.000009  \n",
      "Epoch: [15][10/19] Elapsed 0m 1s (remain 0m 1s) Loss: 0.1741(0.1743) Grad: 6.6439  LR: 0.000009  \n",
      "Epoch: [15][18/19] Elapsed 0m 2s (remain 0m 0s) Loss: 0.1575(0.1679) Grad: 7.4447  LR: 0.000009  \n",
      "EVAL: [0/3] Elapsed 0m 0s (remain 0m 0s) Loss: 0.4104(0.4104) \n"
     ]
    },
    {
     "name": "stderr",
     "output_type": "stream",
     "text": [
      "Epoch 15 - avg_train_loss: 0.1679  avg_val_loss: 0.3154  time: 4s\n",
      "Epoch 15 - Score: 0.3259\n"
     ]
    },
    {
     "name": "stdout",
     "output_type": "stream",
     "text": [
      "EVAL: [2/3] Elapsed 0m 0s (remain 0m 0s) Loss: 0.2103(0.3154) \n",
      "Epoch: [16][0/19] Elapsed 0m 0s (remain 0m 2s) Loss: 0.1192(0.1192) Grad: 17.6304  LR: 0.000001  \n",
      "Epoch: [16][10/19] Elapsed 0m 1s (remain 0m 1s) Loss: 0.1064(0.1389) Grad: 5.8537  LR: 0.000001  \n",
      "Epoch: [16][18/19] Elapsed 0m 2s (remain 0m 0s) Loss: 0.1582(0.1363) Grad: 10.9393  LR: 0.000001  \n",
      "EVAL: [0/3] Elapsed 0m 0s (remain 0m 0s) Loss: 0.4008(0.4008) \n"
     ]
    },
    {
     "name": "stderr",
     "output_type": "stream",
     "text": [
      "Epoch 16 - avg_train_loss: 0.1363  avg_val_loss: 0.3079  time: 4s\n",
      "Epoch 16 - Score: 0.3182\n"
     ]
    },
    {
     "name": "stdout",
     "output_type": "stream",
     "text": [
      "EVAL: [2/3] Elapsed 0m 0s (remain 0m 0s) Loss: 0.2040(0.3079) \n",
      "Epoch: [17][0/19] Elapsed 0m 0s (remain 0m 2s) Loss: 0.1469(0.1469) Grad: 15.2638  LR: 0.000050  \n",
      "Epoch: [17][10/19] Elapsed 0m 1s (remain 0m 1s) Loss: 0.1638(0.1648) Grad: 17.0502  LR: 0.000050  \n",
      "Epoch: [17][18/19] Elapsed 0m 2s (remain 0m 0s) Loss: 0.1628(0.1582) Grad: 15.8287  LR: 0.000050  \n",
      "EVAL: [0/3] Elapsed 0m 0s (remain 0m 0s) Loss: 0.3817(0.3817) \n"
     ]
    },
    {
     "name": "stderr",
     "output_type": "stream",
     "text": [
      "Epoch 17 - avg_train_loss: 0.1582  avg_val_loss: 0.2803  time: 4s\n",
      "Epoch 17 - Score: 0.2936\n",
      "Epoch 17 - Save Best Score: 0.2936 Model\n"
     ]
    },
    {
     "name": "stdout",
     "output_type": "stream",
     "text": [
      "EVAL: [2/3] Elapsed 0m 0s (remain 0m 0s) Loss: 0.1724(0.2803) \n",
      "Epoch: [18][0/19] Elapsed 0m 0s (remain 0m 2s) Loss: 0.1215(0.1215) Grad: 11.3232  LR: 0.000224  \n",
      "Epoch: [18][10/19] Elapsed 0m 1s (remain 0m 1s) Loss: 0.1240(0.2649) Grad: 14.5054  LR: 0.000224  \n",
      "Epoch: [18][18/19] Elapsed 0m 2s (remain 0m 0s) Loss: 0.2178(0.2240) Grad: 15.6332  LR: 0.000224  \n",
      "EVAL: [0/3] Elapsed 0m 0s (remain 0m 0s) Loss: 0.4115(0.4115) \n"
     ]
    },
    {
     "name": "stderr",
     "output_type": "stream",
     "text": [
      "Epoch 18 - avg_train_loss: 0.2240  avg_val_loss: 0.3140  time: 4s\n",
      "Epoch 18 - Score: 0.3246\n"
     ]
    },
    {
     "name": "stdout",
     "output_type": "stream",
     "text": [
      "EVAL: [2/3] Elapsed 0m 0s (remain 0m 0s) Loss: 0.2390(0.3140) \n",
      "Epoch: [19][0/19] Elapsed 0m 0s (remain 0m 2s) Loss: 0.2043(0.2043) Grad: 17.8184  LR: 0.000133  \n",
      "Epoch: [19][10/19] Elapsed 0m 1s (remain 0m 1s) Loss: 0.1672(0.1892) Grad: 6.8722  LR: 0.000133  \n",
      "Epoch: [19][18/19] Elapsed 0m 2s (remain 0m 0s) Loss: 0.1494(0.1808) Grad: 3.4700  LR: 0.000133  \n",
      "EVAL: [0/3] Elapsed 0m 0s (remain 0m 0s) Loss: 0.3887(0.3887) \n"
     ]
    },
    {
     "name": "stderr",
     "output_type": "stream",
     "text": [
      "Epoch 19 - avg_train_loss: 0.1808  avg_val_loss: 0.3153  time: 4s\n",
      "Epoch 19 - Score: 0.3237\n"
     ]
    },
    {
     "name": "stdout",
     "output_type": "stream",
     "text": [
      "EVAL: [2/3] Elapsed 0m 0s (remain 0m 0s) Loss: 0.1823(0.3153) \n",
      "Epoch: [20][0/19] Elapsed 0m 0s (remain 0m 2s) Loss: 0.1778(0.1778) Grad: 4.9601  LR: 0.000057  \n",
      "Epoch: [20][10/19] Elapsed 0m 1s (remain 0m 1s) Loss: 0.2500(0.2074) Grad: 23.6826  LR: 0.000057  \n",
      "Epoch: [20][18/19] Elapsed 0m 2s (remain 0m 0s) Loss: 0.2358(0.1979) Grad: 21.3790  LR: 0.000057  \n",
      "EVAL: [0/3] Elapsed 0m 0s (remain 0m 0s) Loss: 0.4175(0.4175) \n"
     ]
    },
    {
     "name": "stderr",
     "output_type": "stream",
     "text": [
      "Epoch 20 - avg_train_loss: 0.1979  avg_val_loss: 0.3182  time: 4s\n",
      "Epoch 20 - Score: 0.3291\n"
     ]
    },
    {
     "name": "stdout",
     "output_type": "stream",
     "text": [
      "EVAL: [2/3] Elapsed 0m 0s (remain 0m 0s) Loss: 0.2567(0.3182) \n",
      "Epoch: [21][0/19] Elapsed 0m 0s (remain 0m 2s) Loss: 0.1960(0.1960) Grad: 12.8235  LR: 0.000009  \n",
      "Epoch: [21][10/19] Elapsed 0m 1s (remain 0m 1s) Loss: 0.1202(0.1487) Grad: 9.9839  LR: 0.000009  \n",
      "Epoch: [21][18/19] Elapsed 0m 2s (remain 0m 0s) Loss: 0.1207(0.1387) Grad: 6.1112  LR: 0.000009  \n",
      "EVAL: [0/3] Elapsed 0m 0s (remain 0m 0s) Loss: 0.3738(0.3738) \n"
     ]
    },
    {
     "name": "stderr",
     "output_type": "stream",
     "text": [
      "Epoch 21 - avg_train_loss: 0.1387  avg_val_loss: 0.2891  time: 4s\n",
      "Epoch 21 - Score: 0.2980\n"
     ]
    },
    {
     "name": "stdout",
     "output_type": "stream",
     "text": [
      "EVAL: [2/3] Elapsed 0m 0s (remain 0m 0s) Loss: 0.2040(0.2891) \n",
      "Epoch: [22][0/19] Elapsed 0m 0s (remain 0m 2s) Loss: 0.1677(0.1677) Grad: 6.2787  LR: 0.000001  \n",
      "Epoch: [22][10/19] Elapsed 0m 1s (remain 0m 1s) Loss: 0.1202(0.1220) Grad: 5.4673  LR: 0.000001  \n",
      "Epoch: [22][18/19] Elapsed 0m 2s (remain 0m 0s) Loss: 0.0936(0.1178) Grad: 4.9427  LR: 0.000001  \n",
      "EVAL: [0/3] Elapsed 0m 0s (remain 0m 0s) Loss: 0.3821(0.3821) \n"
     ]
    },
    {
     "name": "stderr",
     "output_type": "stream",
     "text": [
      "Epoch 22 - avg_train_loss: 0.1178  avg_val_loss: 0.2777  time: 4s\n",
      "Epoch 22 - Score: 0.2918\n",
      "Epoch 22 - Save Best Score: 0.2918 Model\n"
     ]
    },
    {
     "name": "stdout",
     "output_type": "stream",
     "text": [
      "EVAL: [2/3] Elapsed 0m 0s (remain 0m 0s) Loss: 0.1722(0.2777) \n",
      "Epoch: [23][0/19] Elapsed 0m 0s (remain 0m 2s) Loss: 0.1090(0.1090) Grad: 4.8053  LR: 0.000050  \n",
      "Epoch: [23][10/19] Elapsed 0m 1s (remain 0m 1s) Loss: 0.1174(0.1168) Grad: 11.7519  LR: 0.000050  \n",
      "Epoch: [23][18/19] Elapsed 0m 2s (remain 0m 0s) Loss: 0.1265(0.1154) Grad: 5.7585  LR: 0.000050  \n",
      "EVAL: [0/3] Elapsed 0m 0s (remain 0m 0s) Loss: 0.3755(0.3755) \n"
     ]
    },
    {
     "name": "stderr",
     "output_type": "stream",
     "text": [
      "Epoch 23 - avg_train_loss: 0.1154  avg_val_loss: 0.2819  time: 3s\n",
      "Epoch 23 - Score: 0.2944\n"
     ]
    },
    {
     "name": "stdout",
     "output_type": "stream",
     "text": [
      "EVAL: [2/3] Elapsed 0m 0s (remain 0m 0s) Loss: 0.1509(0.2819) \n",
      "Epoch: [24][0/19] Elapsed 0m 0s (remain 0m 2s) Loss: 0.0968(0.0968) Grad: 7.4808  LR: 0.000224  \n",
      "Epoch: [24][10/19] Elapsed 0m 1s (remain 0m 1s) Loss: 0.1311(0.1298) Grad: 9.8765  LR: 0.000224  \n",
      "Epoch: [24][18/19] Elapsed 0m 2s (remain 0m 0s) Loss: 0.1774(0.1362) Grad: 8.2430  LR: 0.000224  \n",
      "EVAL: [0/3] Elapsed 0m 0s (remain 0m 0s) Loss: 0.4195(0.4195) \n"
     ]
    },
    {
     "name": "stderr",
     "output_type": "stream",
     "text": [
      "Epoch 24 - avg_train_loss: 0.1362  avg_val_loss: 0.3071  time: 3s\n",
      "Epoch 24 - Score: 0.3222\n"
     ]
    },
    {
     "name": "stdout",
     "output_type": "stream",
     "text": [
      "EVAL: [2/3] Elapsed 0m 0s (remain 0m 0s) Loss: 0.2732(0.3071) \n",
      "Epoch: [25][0/19] Elapsed 0m 0s (remain 0m 2s) Loss: 0.2362(0.2362) Grad: 16.9671  LR: 0.000133  \n",
      "Epoch: [25][10/19] Elapsed 0m 1s (remain 0m 1s) Loss: 0.1800(0.1775) Grad: 19.1426  LR: 0.000133  \n",
      "Epoch: [25][18/19] Elapsed 0m 2s (remain 0m 0s) Loss: 0.2933(0.1878) Grad: 21.3411  LR: 0.000133  \n",
      "EVAL: [0/3] Elapsed 0m 0s (remain 0m 0s) Loss: 0.3878(0.3878) \n"
     ]
    },
    {
     "name": "stderr",
     "output_type": "stream",
     "text": [
      "Epoch 25 - avg_train_loss: 0.1878  avg_val_loss: 0.2874  time: 4s\n",
      "Epoch 25 - Score: 0.3007\n"
     ]
    },
    {
     "name": "stdout",
     "output_type": "stream",
     "text": [
      "EVAL: [2/3] Elapsed 0m 0s (remain 0m 0s) Loss: 0.1627(0.2874) \n",
      "Epoch: [26][0/19] Elapsed 0m 0s (remain 0m 2s) Loss: 0.1278(0.1278) Grad: 8.2580  LR: 0.000057  \n",
      "Epoch: [26][10/19] Elapsed 0m 1s (remain 0m 1s) Loss: 0.1391(0.2288) Grad: 12.2532  LR: 0.000057  \n",
      "Epoch: [26][18/19] Elapsed 0m 2s (remain 0m 0s) Loss: 0.1330(0.2070) Grad: 4.3789  LR: 0.000057  \n",
      "EVAL: [0/3] Elapsed 0m 0s (remain 0m 0s) Loss: 0.3627(0.3627) \n"
     ]
    },
    {
     "name": "stderr",
     "output_type": "stream",
     "text": [
      "Epoch 26 - avg_train_loss: 0.2070  avg_val_loss: 0.3222  time: 4s\n",
      "Epoch 26 - Score: 0.3257\n"
     ]
    },
    {
     "name": "stdout",
     "output_type": "stream",
     "text": [
      "EVAL: [2/3] Elapsed 0m 0s (remain 0m 0s) Loss: 0.2265(0.3222) \n",
      "Epoch: [27][0/19] Elapsed 0m 0s (remain 0m 2s) Loss: 0.1939(0.1939) Grad: 21.2429  LR: 0.000009  \n",
      "Epoch: [27][10/19] Elapsed 0m 1s (remain 0m 1s) Loss: 0.1223(0.1327) Grad: 7.5141  LR: 0.000009  \n",
      "Epoch: [27][18/19] Elapsed 0m 2s (remain 0m 0s) Loss: 0.1274(0.1291) Grad: 10.2242  LR: 0.000009  \n",
      "EVAL: [0/3] Elapsed 0m 0s (remain 0m 0s) Loss: 0.3579(0.3579) \n"
     ]
    },
    {
     "name": "stderr",
     "output_type": "stream",
     "text": [
      "Epoch 27 - avg_train_loss: 0.1291  avg_val_loss: 0.2841  time: 4s\n",
      "Epoch 27 - Score: 0.2916\n",
      "Epoch 27 - Save Best Score: 0.2916 Model\n"
     ]
    },
    {
     "name": "stdout",
     "output_type": "stream",
     "text": [
      "EVAL: [2/3] Elapsed 0m 0s (remain 0m 0s) Loss: 0.1861(0.2841) \n",
      "Epoch: [28][0/19] Elapsed 0m 0s (remain 0m 2s) Loss: 0.1135(0.1135) Grad: 8.2275  LR: 0.000001  \n",
      "Epoch: [28][10/19] Elapsed 0m 1s (remain 0m 1s) Loss: 0.1092(0.1172) Grad: 4.0541  LR: 0.000001  \n",
      "Epoch: [28][18/19] Elapsed 0m 2s (remain 0m 0s) Loss: 0.0820(0.1089) Grad: 2.9123  LR: 0.000001  \n",
      "EVAL: [0/3] Elapsed 0m 0s (remain 0m 0s) Loss: 0.3669(0.3669) \n"
     ]
    },
    {
     "name": "stderr",
     "output_type": "stream",
     "text": [
      "Epoch 28 - avg_train_loss: 0.1089  avg_val_loss: 0.2755  time: 4s\n",
      "Epoch 28 - Score: 0.2874\n",
      "Epoch 28 - Save Best Score: 0.2874 Model\n"
     ]
    },
    {
     "name": "stdout",
     "output_type": "stream",
     "text": [
      "EVAL: [2/3] Elapsed 0m 0s (remain 0m 0s) Loss: 0.1538(0.2755) \n",
      "Epoch: [29][0/19] Elapsed 0m 0s (remain 0m 2s) Loss: 0.1091(0.1091) Grad: 3.8317  LR: 0.000050  \n",
      "Epoch: [29][10/19] Elapsed 0m 1s (remain 0m 1s) Loss: 0.0829(0.1094) Grad: 5.4974  LR: 0.000050  \n",
      "Epoch: [29][18/19] Elapsed 0m 2s (remain 0m 0s) Loss: 0.0789(0.1106) Grad: 2.8525  LR: 0.000050  \n",
      "EVAL: [0/3] Elapsed 0m 0s (remain 0m 0s) Loss: 0.3830(0.3830) \n"
     ]
    },
    {
     "name": "stderr",
     "output_type": "stream",
     "text": [
      "Epoch 29 - avg_train_loss: 0.1106  avg_val_loss: 0.2823  time: 4s\n",
      "Epoch 29 - Score: 0.2958\n"
     ]
    },
    {
     "name": "stdout",
     "output_type": "stream",
     "text": [
      "EVAL: [2/3] Elapsed 0m 0s (remain 0m 0s) Loss: 0.1605(0.2823) \n",
      "Epoch: [30][0/19] Elapsed 0m 0s (remain 0m 2s) Loss: 0.1038(0.1038) Grad: 13.8309  LR: 0.000224  \n",
      "Epoch: [30][10/19] Elapsed 0m 1s (remain 0m 1s) Loss: 0.1062(0.1051) Grad: 4.7123  LR: 0.000224  \n",
      "Epoch: [30][18/19] Elapsed 0m 2s (remain 0m 0s) Loss: 0.1326(0.1122) Grad: 11.7106  LR: 0.000224  \n",
      "EVAL: [0/3] Elapsed 0m 0s (remain 0m 0s) Loss: 0.3919(0.3919) \n"
     ]
    },
    {
     "name": "stderr",
     "output_type": "stream",
     "text": [
      "Epoch 30 - avg_train_loss: 0.1122  avg_val_loss: 0.3006  time: 4s\n",
      "Epoch 30 - Score: 0.3118\n"
     ]
    },
    {
     "name": "stdout",
     "output_type": "stream",
     "text": [
      "EVAL: [2/3] Elapsed 0m 0s (remain 0m 0s) Loss: 0.1715(0.3006) \n",
      "Epoch: [31][0/19] Elapsed 0m 0s (remain 0m 2s) Loss: 0.1065(0.1065) Grad: 9.4255  LR: 0.000133  \n",
      "Epoch: [31][10/19] Elapsed 0m 1s (remain 0m 1s) Loss: 0.1999(0.1681) Grad: 19.6363  LR: 0.000133  \n",
      "Epoch: [31][18/19] Elapsed 0m 2s (remain 0m 0s) Loss: 0.1127(0.1566) Grad: 5.1245  LR: 0.000133  \n",
      "EVAL: [0/3] Elapsed 0m 0s (remain 0m 0s) Loss: 0.3940(0.3940) \n"
     ]
    },
    {
     "name": "stderr",
     "output_type": "stream",
     "text": [
      "Epoch 31 - avg_train_loss: 0.1566  avg_val_loss: 0.2945  time: 4s\n",
      "Epoch 31 - Score: 0.3063\n"
     ]
    },
    {
     "name": "stdout",
     "output_type": "stream",
     "text": [
      "EVAL: [2/3] Elapsed 0m 0s (remain 0m 0s) Loss: 0.2099(0.2945) \n",
      "Epoch: [32][0/19] Elapsed 0m 0s (remain 0m 2s) Loss: 0.1438(0.1438) Grad: 3.6495  LR: 0.000057  \n",
      "Epoch: [32][10/19] Elapsed 0m 1s (remain 0m 1s) Loss: 0.1875(0.1441) Grad: 18.2391  LR: 0.000057  \n",
      "Epoch: [32][18/19] Elapsed 0m 2s (remain 0m 0s) Loss: 0.1409(0.1537) Grad: 13.6772  LR: 0.000057  \n",
      "EVAL: [0/3] Elapsed 0m 0s (remain 0m 0s) Loss: 0.3976(0.3976) \n"
     ]
    },
    {
     "name": "stderr",
     "output_type": "stream",
     "text": [
      "Epoch 32 - avg_train_loss: 0.1537  avg_val_loss: 0.3034  time: 3s\n",
      "Epoch 32 - Score: 0.3140\n"
     ]
    },
    {
     "name": "stdout",
     "output_type": "stream",
     "text": [
      "EVAL: [2/3] Elapsed 0m 0s (remain 0m 0s) Loss: 0.2045(0.3034) \n",
      "Epoch: [33][0/19] Elapsed 0m 0s (remain 0m 2s) Loss: 0.1758(0.1758) Grad: 11.6213  LR: 0.000009  \n",
      "Epoch: [33][10/19] Elapsed 0m 1s (remain 0m 1s) Loss: 0.1123(0.1203) Grad: 11.4272  LR: 0.000009  \n",
      "Epoch: [33][18/19] Elapsed 0m 2s (remain 0m 0s) Loss: 0.1071(0.1158) Grad: 3.7669  LR: 0.000009  \n",
      "EVAL: [0/3] Elapsed 0m 0s (remain 0m 0s) Loss: 0.3705(0.3705) \n"
     ]
    },
    {
     "name": "stderr",
     "output_type": "stream",
     "text": [
      "Epoch 33 - avg_train_loss: 0.1158  avg_val_loss: 0.2780  time: 4s\n",
      "Epoch 33 - Score: 0.2894\n"
     ]
    },
    {
     "name": "stdout",
     "output_type": "stream",
     "text": [
      "EVAL: [2/3] Elapsed 0m 0s (remain 0m 0s) Loss: 0.1725(0.2780) \n",
      "Epoch: [34][0/19] Elapsed 0m 0s (remain 0m 2s) Loss: 0.1077(0.1077) Grad: 4.9423  LR: 0.000001  \n",
      "Epoch: [34][10/19] Elapsed 0m 1s (remain 0m 1s) Loss: 0.1000(0.0898) Grad: 14.1802  LR: 0.000001  \n",
      "Epoch: [34][18/19] Elapsed 0m 2s (remain 0m 0s) Loss: 0.0906(0.0905) Grad: 2.4202  LR: 0.000001  \n",
      "EVAL: [0/3] Elapsed 0m 0s (remain 0m 0s) Loss: 0.3519(0.3519) \n"
     ]
    },
    {
     "name": "stderr",
     "output_type": "stream",
     "text": [
      "Epoch 34 - avg_train_loss: 0.0905  avg_val_loss: 0.2705  time: 4s\n",
      "Epoch 34 - Score: 0.2801\n",
      "Epoch 34 - Save Best Score: 0.2801 Model\n"
     ]
    },
    {
     "name": "stdout",
     "output_type": "stream",
     "text": [
      "EVAL: [2/3] Elapsed 0m 0s (remain 0m 0s) Loss: 0.1635(0.2705) \n",
      "Epoch: [35][0/19] Elapsed 0m 0s (remain 0m 2s) Loss: 0.1041(0.1041) Grad: 9.6316  LR: 0.000050  \n",
      "Epoch: [35][10/19] Elapsed 0m 1s (remain 0m 1s) Loss: 0.0738(0.0851) Grad: 11.2265  LR: 0.000050  \n",
      "Epoch: [35][18/19] Elapsed 0m 2s (remain 0m 0s) Loss: 0.0768(0.0895) Grad: 4.6498  LR: 0.000050  \n",
      "EVAL: [0/3] Elapsed 0m 0s (remain 0m 0s) Loss: 0.3952(0.3952) \n"
     ]
    },
    {
     "name": "stderr",
     "output_type": "stream",
     "text": [
      "Epoch 35 - avg_train_loss: 0.0895  avg_val_loss: 0.2965  time: 4s\n",
      "Epoch 35 - Score: 0.3079\n"
     ]
    },
    {
     "name": "stdout",
     "output_type": "stream",
     "text": [
      "EVAL: [2/3] Elapsed 0m 0s (remain 0m 0s) Loss: 0.2204(0.2965) \n",
      "Epoch: [36][0/19] Elapsed 0m 0s (remain 0m 2s) Loss: 0.1007(0.1007) Grad: 12.6800  LR: 0.000224  \n",
      "Epoch: [36][10/19] Elapsed 0m 1s (remain 0m 1s) Loss: 0.1366(0.1189) Grad: 8.4106  LR: 0.000224  \n",
      "Epoch: [36][18/19] Elapsed 0m 2s (remain 0m 0s) Loss: 0.1165(0.1111) Grad: 13.0617  LR: 0.000224  \n",
      "EVAL: [0/3] Elapsed 0m 0s (remain 0m 0s) Loss: 0.3716(0.3716) \n"
     ]
    },
    {
     "name": "stderr",
     "output_type": "stream",
     "text": [
      "Epoch 36 - avg_train_loss: 0.1111  avg_val_loss: 0.3001  time: 4s\n",
      "Epoch 36 - Score: 0.3064\n"
     ]
    },
    {
     "name": "stdout",
     "output_type": "stream",
     "text": [
      "EVAL: [2/3] Elapsed 0m 0s (remain 0m 0s) Loss: 0.2226(0.3001) \n",
      "Epoch: [37][0/19] Elapsed 0m 0s (remain 0m 2s) Loss: 0.1718(0.1718) Grad: 4.2419  LR: 0.000133  \n",
      "Epoch: [37][10/19] Elapsed 0m 1s (remain 0m 1s) Loss: 0.1398(0.1542) Grad: 5.8973  LR: 0.000133  \n",
      "Epoch: [37][18/19] Elapsed 0m 2s (remain 0m 0s) Loss: 0.1325(0.1380) Grad: 8.3840  LR: 0.000133  \n",
      "EVAL: [0/3] Elapsed 0m 0s (remain 0m 0s) Loss: 0.3673(0.3673) \n"
     ]
    },
    {
     "name": "stderr",
     "output_type": "stream",
     "text": [
      "Epoch 37 - avg_train_loss: 0.1380  avg_val_loss: 0.2948  time: 4s\n",
      "Epoch 37 - Score: 0.3019\n"
     ]
    },
    {
     "name": "stdout",
     "output_type": "stream",
     "text": [
      "EVAL: [2/3] Elapsed 0m 0s (remain 0m 0s) Loss: 0.1971(0.2948) \n",
      "Epoch: [38][0/19] Elapsed 0m 0s (remain 0m 2s) Loss: 0.1100(0.1100) Grad: 5.4563  LR: 0.000057  \n",
      "Epoch: [38][10/19] Elapsed 0m 1s (remain 0m 1s) Loss: 0.1610(0.1284) Grad: 13.8032  LR: 0.000057  \n",
      "Epoch: [38][18/19] Elapsed 0m 2s (remain 0m 0s) Loss: 0.1532(0.1376) Grad: 13.6650  LR: 0.000057  \n",
      "EVAL: [0/3] Elapsed 0m 0s (remain 0m 0s) Loss: 0.4081(0.4081) \n"
     ]
    },
    {
     "name": "stderr",
     "output_type": "stream",
     "text": [
      "Epoch 38 - avg_train_loss: 0.1376  avg_val_loss: 0.3364  time: 4s\n",
      "Epoch 38 - Score: 0.3443\n"
     ]
    },
    {
     "name": "stdout",
     "output_type": "stream",
     "text": [
      "EVAL: [2/3] Elapsed 0m 0s (remain 0m 0s) Loss: 0.1993(0.3364) \n",
      "Epoch: [39][0/19] Elapsed 0m 0s (remain 0m 2s) Loss: 0.1752(0.1752) Grad: 13.6782  LR: 0.000009  \n",
      "Epoch: [39][10/19] Elapsed 0m 1s (remain 0m 1s) Loss: 0.1588(0.1396) Grad: 17.5293  LR: 0.000009  \n",
      "Epoch: [39][18/19] Elapsed 0m 2s (remain 0m 0s) Loss: 0.1098(0.1303) Grad: 12.9510  LR: 0.000009  \n",
      "EVAL: [0/3] Elapsed 0m 0s (remain 0m 0s) Loss: 0.3480(0.3480) \n"
     ]
    },
    {
     "name": "stderr",
     "output_type": "stream",
     "text": [
      "Epoch 39 - avg_train_loss: 0.1303  avg_val_loss: 0.2759  time: 4s\n",
      "Epoch 39 - Score: 0.2854\n"
     ]
    },
    {
     "name": "stdout",
     "output_type": "stream",
     "text": [
      "EVAL: [2/3] Elapsed 0m 0s (remain 0m 0s) Loss: 0.1416(0.2759) \n",
      "Epoch: [40][0/19] Elapsed 0m 0s (remain 0m 2s) Loss: 0.1066(0.1066) Grad: 12.4272  LR: 0.000001  \n",
      "Epoch: [40][10/19] Elapsed 0m 1s (remain 0m 1s) Loss: 0.0810(0.1010) Grad: 10.2233  LR: 0.000001  \n",
      "Epoch: [40][18/19] Elapsed 0m 2s (remain 0m 0s) Loss: 0.0721(0.0973) Grad: 3.2972  LR: 0.000001  \n",
      "EVAL: [0/3] Elapsed 0m 0s (remain 0m 0s) Loss: 0.3603(0.3603) \n"
     ]
    },
    {
     "name": "stderr",
     "output_type": "stream",
     "text": [
      "Epoch 40 - avg_train_loss: 0.0973  avg_val_loss: 0.2799  time: 4s\n",
      "Epoch 40 - Score: 0.2896\n",
      "========== fold: 4 result ==========\n",
      "Score: 0.2801\n",
      "========== CV ==========\n",
      "Score: 0.3110\n",
      "========== seed10 ==========\n",
      "========== fold: 0 training ==========\n"
     ]
    },
    {
     "name": "stdout",
     "output_type": "stream",
     "text": [
      "EVAL: [2/3] Elapsed 0m 0s (remain 0m 0s) Loss: 0.1596(0.2799) \n",
      "Epoch: [1][0/19] Elapsed 0m 0s (remain 0m 2s) Loss: 3.0021(3.0021) Grad: 26.2965  LR: 0.000100  \n",
      "Epoch: [1][10/19] Elapsed 0m 1s (remain 0m 1s) Loss: 0.6841(1.5473) Grad: 15.1241  LR: 0.000100  \n",
      "Epoch: [1][18/19] Elapsed 0m 2s (remain 0m 0s) Loss: 0.5478(1.1558) Grad: 15.6980  LR: 0.000100  \n",
      "EVAL: [0/3] Elapsed 0m 0s (remain 0m 0s) Loss: 0.5145(0.5145) \n"
     ]
    },
    {
     "name": "stderr",
     "output_type": "stream",
     "text": [
      "Epoch 1 - avg_train_loss: 1.1558  avg_val_loss: 0.5132  time: 3s\n",
      "Epoch 1 - Score: 0.5151\n",
      "Epoch 1 - Save Best Score: 0.5151 Model\n"
     ]
    },
    {
     "name": "stdout",
     "output_type": "stream",
     "text": [
      "EVAL: [2/3] Elapsed 0m 0s (remain 0m 0s) Loss: 0.4237(0.5132) \n",
      "Epoch: [2][0/19] Elapsed 0m 0s (remain 0m 2s) Loss: 0.3322(0.3322) Grad: 11.2770  LR: 0.000057  \n",
      "Epoch: [2][10/19] Elapsed 0m 1s (remain 0m 1s) Loss: 0.2842(0.4335) Grad: 11.7770  LR: 0.000057  \n",
      "Epoch: [2][18/19] Elapsed 0m 2s (remain 0m 0s) Loss: 0.4172(0.4239) Grad: 3.8976  LR: 0.000057  \n",
      "EVAL: [0/3] Elapsed 0m 0s (remain 0m 0s) Loss: 0.5339(0.5339) \n"
     ]
    },
    {
     "name": "stderr",
     "output_type": "stream",
     "text": [
      "Epoch 2 - avg_train_loss: 0.4239  avg_val_loss: 0.4988  time: 3s\n",
      "Epoch 2 - Score: 0.5056\n",
      "Epoch 2 - Save Best Score: 0.5056 Model\n"
     ]
    },
    {
     "name": "stdout",
     "output_type": "stream",
     "text": [
      "EVAL: [2/3] Elapsed 0m 0s (remain 0m 0s) Loss: 0.3156(0.4988) \n",
      "Epoch: [3][0/19] Elapsed 0m 0s (remain 0m 2s) Loss: 0.5581(0.5581) Grad: 18.0335  LR: 0.000009  \n",
      "Epoch: [3][10/19] Elapsed 0m 1s (remain 0m 1s) Loss: 0.4135(0.3621) Grad: 18.8744  LR: 0.000009  \n",
      "Epoch: [3][18/19] Elapsed 0m 2s (remain 0m 0s) Loss: 0.2592(0.3368) Grad: 4.4903  LR: 0.000009  \n",
      "EVAL: [0/3] Elapsed 0m 0s (remain 0m 0s) Loss: 0.5171(0.5171) \n"
     ]
    },
    {
     "name": "stderr",
     "output_type": "stream",
     "text": [
      "Epoch 3 - avg_train_loss: 0.3368  avg_val_loss: 0.4717  time: 3s\n",
      "Epoch 3 - Score: 0.4806\n",
      "Epoch 3 - Save Best Score: 0.4806 Model\n"
     ]
    },
    {
     "name": "stdout",
     "output_type": "stream",
     "text": [
      "EVAL: [2/3] Elapsed 0m 0s (remain 0m 0s) Loss: 0.2665(0.4717) \n",
      "Epoch: [4][0/19] Elapsed 0m 0s (remain 0m 2s) Loss: 0.3455(0.3455) Grad: 18.3095  LR: 0.000001  \n",
      "Epoch: [4][10/19] Elapsed 0m 1s (remain 0m 1s) Loss: 0.3145(0.3203) Grad: 12.0739  LR: 0.000001  \n",
      "Epoch: [4][18/19] Elapsed 0m 2s (remain 0m 0s) Loss: 0.2388(0.2928) Grad: 6.4940  LR: 0.000001  \n",
      "EVAL: [0/3] Elapsed 0m 0s (remain 0m 0s) Loss: 0.4334(0.4334) \n"
     ]
    },
    {
     "name": "stderr",
     "output_type": "stream",
     "text": [
      "Epoch 4 - avg_train_loss: 0.2928  avg_val_loss: 0.4437  time: 3s\n",
      "Epoch 4 - Score: 0.4457\n",
      "Epoch 4 - Save Best Score: 0.4457 Model\n"
     ]
    },
    {
     "name": "stdout",
     "output_type": "stream",
     "text": [
      "EVAL: [2/3] Elapsed 0m 0s (remain 0m 0s) Loss: 0.3665(0.4437) \n",
      "Epoch: [5][0/19] Elapsed 0m 0s (remain 0m 2s) Loss: 0.3029(0.3029) Grad: 5.3599  LR: 0.000050  \n",
      "Epoch: [5][10/19] Elapsed 0m 1s (remain 0m 1s) Loss: 0.2901(0.3006) Grad: 12.4047  LR: 0.000050  \n",
      "Epoch: [5][18/19] Elapsed 0m 2s (remain 0m 0s) Loss: 0.1987(0.2934) Grad: 4.3146  LR: 0.000050  \n",
      "EVAL: [0/3] Elapsed 0m 0s (remain 0m 0s) Loss: 0.4038(0.4038) \n"
     ]
    },
    {
     "name": "stderr",
     "output_type": "stream",
     "text": [
      "Epoch 5 - avg_train_loss: 0.2934  avg_val_loss: 0.4078  time: 3s\n",
      "Epoch 5 - Score: 0.4111\n",
      "Epoch 5 - Save Best Score: 0.4111 Model\n"
     ]
    },
    {
     "name": "stdout",
     "output_type": "stream",
     "text": [
      "EVAL: [2/3] Elapsed 0m 0s (remain 0m 0s) Loss: 0.3043(0.4078) \n",
      "Epoch: [6][0/19] Elapsed 0m 0s (remain 0m 2s) Loss: 0.2265(0.2265) Grad: 11.5842  LR: 0.000224  \n",
      "Epoch: [6][10/19] Elapsed 0m 1s (remain 0m 1s) Loss: 0.2488(0.2839) Grad: 4.7710  LR: 0.000224  \n",
      "Epoch: [6][18/19] Elapsed 0m 2s (remain 0m 0s) Loss: 0.2491(0.2961) Grad: 4.1333  LR: 0.000224  \n",
      "EVAL: [0/3] Elapsed 0m 0s (remain 0m 0s) Loss: 0.4613(0.4613) \n"
     ]
    },
    {
     "name": "stderr",
     "output_type": "stream",
     "text": [
      "Epoch 6 - avg_train_loss: 0.2961  avg_val_loss: 0.4660  time: 4s\n",
      "Epoch 6 - Score: 0.4669\n"
     ]
    },
    {
     "name": "stdout",
     "output_type": "stream",
     "text": [
      "EVAL: [2/3] Elapsed 0m 0s (remain 0m 0s) Loss: 0.5273(0.4660) \n",
      "Epoch: [7][0/19] Elapsed 0m 0s (remain 0m 2s) Loss: 0.3995(0.3995) Grad: 19.8075  LR: 0.000133  \n",
      "Epoch: [7][10/19] Elapsed 0m 1s (remain 0m 1s) Loss: 0.2345(0.2977) Grad: 4.9436  LR: 0.000133  \n",
      "Epoch: [7][18/19] Elapsed 0m 2s (remain 0m 0s) Loss: 0.2967(0.2962) Grad: 5.3189  LR: 0.000133  \n",
      "EVAL: [0/3] Elapsed 0m 0s (remain 0m 0s) Loss: 0.4750(0.4750) \n"
     ]
    },
    {
     "name": "stderr",
     "output_type": "stream",
     "text": [
      "Epoch 7 - avg_train_loss: 0.2962  avg_val_loss: 0.4649  time: 3s\n",
      "Epoch 7 - Score: 0.4680\n"
     ]
    },
    {
     "name": "stdout",
     "output_type": "stream",
     "text": [
      "EVAL: [2/3] Elapsed 0m 0s (remain 0m 0s) Loss: 0.3501(0.4649) \n",
      "Epoch: [8][0/19] Elapsed 0m 0s (remain 0m 2s) Loss: 0.2829(0.2829) Grad: 7.0019  LR: 0.000057  \n",
      "Epoch: [8][10/19] Elapsed 0m 1s (remain 0m 1s) Loss: 0.2447(0.2497) Grad: 10.7249  LR: 0.000057  \n",
      "Epoch: [8][18/19] Elapsed 0m 2s (remain 0m 0s) Loss: 0.1923(0.2352) Grad: 13.3815  LR: 0.000057  \n",
      "EVAL: [0/3] Elapsed 0m 0s (remain 0m 0s) Loss: 0.5051(0.5051) \n"
     ]
    },
    {
     "name": "stderr",
     "output_type": "stream",
     "text": [
      "Epoch 8 - avg_train_loss: 0.2352  avg_val_loss: 0.4736  time: 3s\n",
      "Epoch 8 - Score: 0.4831\n"
     ]
    },
    {
     "name": "stdout",
     "output_type": "stream",
     "text": [
      "EVAL: [2/3] Elapsed 0m 0s (remain 0m 0s) Loss: 0.2635(0.4736) \n",
      "Epoch: [9][0/19] Elapsed 0m 0s (remain 0m 2s) Loss: 0.2528(0.2528) Grad: 23.8712  LR: 0.000009  \n",
      "Epoch: [9][10/19] Elapsed 0m 1s (remain 0m 1s) Loss: 0.2188(0.2014) Grad: 8.5839  LR: 0.000009  \n",
      "Epoch: [9][18/19] Elapsed 0m 2s (remain 0m 0s) Loss: 0.2190(0.2000) Grad: 7.5587  LR: 0.000009  \n",
      "EVAL: [0/3] Elapsed 0m 0s (remain 0m 0s) Loss: 0.4052(0.4052) \n"
     ]
    },
    {
     "name": "stderr",
     "output_type": "stream",
     "text": [
      "Epoch 9 - avg_train_loss: 0.2000  avg_val_loss: 0.4014  time: 3s\n",
      "Epoch 9 - Score: 0.4052\n",
      "Epoch 9 - Save Best Score: 0.4052 Model\n"
     ]
    },
    {
     "name": "stdout",
     "output_type": "stream",
     "text": [
      "EVAL: [2/3] Elapsed 0m 0s (remain 0m 0s) Loss: 0.2853(0.4014) \n",
      "Epoch: [10][0/19] Elapsed 0m 0s (remain 0m 2s) Loss: 0.1886(0.1886) Grad: 4.8457  LR: 0.000001  \n",
      "Epoch: [10][10/19] Elapsed 0m 1s (remain 0m 1s) Loss: 0.1476(0.1711) Grad: 8.2275  LR: 0.000001  \n",
      "Epoch: [10][18/19] Elapsed 0m 2s (remain 0m 0s) Loss: 0.1562(0.1629) Grad: 3.6272  LR: 0.000001  \n",
      "EVAL: [0/3] Elapsed 0m 0s (remain 0m 0s) Loss: 0.3966(0.3966) \n"
     ]
    },
    {
     "name": "stderr",
     "output_type": "stream",
     "text": [
      "Epoch 10 - avg_train_loss: 0.1629  avg_val_loss: 0.3925  time: 3s\n",
      "Epoch 10 - Score: 0.3982\n",
      "Epoch 10 - Save Best Score: 0.3982 Model\n"
     ]
    },
    {
     "name": "stdout",
     "output_type": "stream",
     "text": [
      "EVAL: [2/3] Elapsed 0m 0s (remain 0m 0s) Loss: 0.2526(0.3925) \n",
      "Epoch: [11][0/19] Elapsed 0m 0s (remain 0m 2s) Loss: 0.1765(0.1765) Grad: 7.3669  LR: 0.000050  \n",
      "Epoch: [11][10/19] Elapsed 0m 1s (remain 0m 1s) Loss: 0.1332(0.1584) Grad: 6.4603  LR: 0.000050  \n",
      "Epoch: [11][18/19] Elapsed 0m 2s (remain 0m 0s) Loss: 0.1327(0.1587) Grad: 6.2653  LR: 0.000050  \n",
      "EVAL: [0/3] Elapsed 0m 0s (remain 0m 0s) Loss: 0.4052(0.4052) \n"
     ]
    },
    {
     "name": "stderr",
     "output_type": "stream",
     "text": [
      "Epoch 11 - avg_train_loss: 0.1587  avg_val_loss: 0.3926  time: 3s\n",
      "Epoch 11 - Score: 0.3952\n",
      "Epoch 11 - Save Best Score: 0.3952 Model\n"
     ]
    },
    {
     "name": "stdout",
     "output_type": "stream",
     "text": [
      "EVAL: [2/3] Elapsed 0m 0s (remain 0m 0s) Loss: 0.2919(0.3926) \n",
      "Epoch: [12][0/19] Elapsed 0m 0s (remain 0m 2s) Loss: 0.1934(0.1934) Grad: 9.4581  LR: 0.000224  \n",
      "Epoch: [12][10/19] Elapsed 0m 1s (remain 0m 1s) Loss: 0.1241(0.1647) Grad: 10.5065  LR: 0.000224  \n",
      "Epoch: [12][18/19] Elapsed 0m 2s (remain 0m 0s) Loss: 0.2283(0.1668) Grad: 12.9979  LR: 0.000224  \n",
      "EVAL: [0/3] Elapsed 0m 0s (remain 0m 0s) Loss: 0.4311(0.4311) \n"
     ]
    },
    {
     "name": "stderr",
     "output_type": "stream",
     "text": [
      "Epoch 12 - avg_train_loss: 0.1668  avg_val_loss: 0.4144  time: 3s\n",
      "Epoch 12 - Score: 0.4194\n"
     ]
    },
    {
     "name": "stdout",
     "output_type": "stream",
     "text": [
      "EVAL: [2/3] Elapsed 0m 0s (remain 0m 0s) Loss: 0.2726(0.4144) \n",
      "Epoch: [13][0/19] Elapsed 0m 0s (remain 0m 2s) Loss: 0.1563(0.1563) Grad: 7.6176  LR: 0.000133  \n",
      "Epoch: [13][10/19] Elapsed 0m 1s (remain 0m 1s) Loss: 0.2484(0.2066) Grad: 5.5947  LR: 0.000133  \n",
      "Epoch: [13][18/19] Elapsed 0m 2s (remain 0m 0s) Loss: 0.2062(0.2063) Grad: 17.1875  LR: 0.000133  \n",
      "EVAL: [0/3] Elapsed 0m 0s (remain 0m 0s) Loss: 0.4442(0.4442) \n"
     ]
    },
    {
     "name": "stderr",
     "output_type": "stream",
     "text": [
      "Epoch 13 - avg_train_loss: 0.2063  avg_val_loss: 0.4414  time: 3s\n",
      "Epoch 13 - Score: 0.4446\n"
     ]
    },
    {
     "name": "stdout",
     "output_type": "stream",
     "text": [
      "EVAL: [2/3] Elapsed 0m 0s (remain 0m 0s) Loss: 0.3289(0.4414) \n",
      "Epoch: [14][0/19] Elapsed 0m 0s (remain 0m 2s) Loss: 0.2109(0.2109) Grad: 16.7625  LR: 0.000057  \n",
      "Epoch: [14][10/19] Elapsed 0m 1s (remain 0m 1s) Loss: 0.1685(0.1956) Grad: 7.4155  LR: 0.000057  \n",
      "Epoch: [14][18/19] Elapsed 0m 2s (remain 0m 0s) Loss: 0.2279(0.1971) Grad: 13.5241  LR: 0.000057  \n",
      "EVAL: [0/3] Elapsed 0m 0s (remain 0m 0s) Loss: 0.4612(0.4612) \n"
     ]
    },
    {
     "name": "stderr",
     "output_type": "stream",
     "text": [
      "Epoch 14 - avg_train_loss: 0.1971  avg_val_loss: 0.4228  time: 3s\n",
      "Epoch 14 - Score: 0.4283\n"
     ]
    },
    {
     "name": "stdout",
     "output_type": "stream",
     "text": [
      "EVAL: [2/3] Elapsed 0m 0s (remain 0m 0s) Loss: 0.2722(0.4228) \n",
      "Epoch: [15][0/19] Elapsed 0m 0s (remain 0m 2s) Loss: 0.2266(0.2266) Grad: 13.4161  LR: 0.000009  \n",
      "Epoch: [15][10/19] Elapsed 0m 1s (remain 0m 1s) Loss: 0.2099(0.1597) Grad: 10.4245  LR: 0.000009  \n",
      "Epoch: [15][18/19] Elapsed 0m 2s (remain 0m 0s) Loss: 0.1588(0.1538) Grad: 10.3904  LR: 0.000009  \n",
      "EVAL: [0/3] Elapsed 0m 0s (remain 0m 0s) Loss: 0.4233(0.4233) \n"
     ]
    },
    {
     "name": "stderr",
     "output_type": "stream",
     "text": [
      "Epoch 15 - avg_train_loss: 0.1538  avg_val_loss: 0.3974  time: 3s\n",
      "Epoch 15 - Score: 0.4014\n"
     ]
    },
    {
     "name": "stdout",
     "output_type": "stream",
     "text": [
      "EVAL: [2/3] Elapsed 0m 0s (remain 0m 0s) Loss: 0.2705(0.3974) \n",
      "Epoch: [16][0/19] Elapsed 0m 0s (remain 0m 2s) Loss: 0.1005(0.1005) Grad: 6.1023  LR: 0.000001  \n",
      "Epoch: [16][10/19] Elapsed 0m 1s (remain 0m 1s) Loss: 0.1411(0.1317) Grad: 3.9745  LR: 0.000001  \n",
      "Epoch: [16][18/19] Elapsed 0m 2s (remain 0m 0s) Loss: 0.1353(0.1220) Grad: 4.0657  LR: 0.000001  \n",
      "EVAL: [0/3] Elapsed 0m 0s (remain 0m 0s) Loss: 0.4195(0.4195) \n"
     ]
    },
    {
     "name": "stderr",
     "output_type": "stream",
     "text": [
      "Epoch 16 - avg_train_loss: 0.1220  avg_val_loss: 0.4001  time: 3s\n",
      "Epoch 16 - Score: 0.4046\n"
     ]
    },
    {
     "name": "stdout",
     "output_type": "stream",
     "text": [
      "EVAL: [2/3] Elapsed 0m 0s (remain 0m 0s) Loss: 0.2670(0.4001) \n",
      "Epoch: [17][0/19] Elapsed 0m 0s (remain 0m 2s) Loss: 0.0882(0.0882) Grad: 5.6951  LR: 0.000050  \n",
      "Epoch: [17][10/19] Elapsed 0m 1s (remain 0m 1s) Loss: 0.1547(0.1276) Grad: 12.0298  LR: 0.000050  \n",
      "Epoch: [17][18/19] Elapsed 0m 2s (remain 0m 0s) Loss: 0.1286(0.1380) Grad: 9.8855  LR: 0.000050  \n",
      "EVAL: [0/3] Elapsed 0m 0s (remain 0m 0s) Loss: 0.4293(0.4293) \n"
     ]
    },
    {
     "name": "stderr",
     "output_type": "stream",
     "text": [
      "Epoch 17 - avg_train_loss: 0.1380  avg_val_loss: 0.4106  time: 3s\n",
      "Epoch 17 - Score: 0.4144\n"
     ]
    },
    {
     "name": "stdout",
     "output_type": "stream",
     "text": [
      "EVAL: [2/3] Elapsed 0m 0s (remain 0m 0s) Loss: 0.2867(0.4106) \n",
      "Epoch: [18][0/19] Elapsed 0m 0s (remain 0m 2s) Loss: 0.0927(0.0927) Grad: 4.1963  LR: 0.000224  \n",
      "Epoch: [18][10/19] Elapsed 0m 1s (remain 0m 1s) Loss: 0.1993(0.2204) Grad: 15.9257  LR: 0.000224  \n",
      "Epoch: [18][18/19] Elapsed 0m 2s (remain 0m 0s) Loss: 0.1139(0.1991) Grad: 10.5426  LR: 0.000224  \n",
      "EVAL: [0/3] Elapsed 0m 0s (remain 0m 0s) Loss: 0.4103(0.4103) \n"
     ]
    },
    {
     "name": "stderr",
     "output_type": "stream",
     "text": [
      "Epoch 18 - avg_train_loss: 0.1991  avg_val_loss: 0.3899  time: 3s\n",
      "Epoch 18 - Score: 0.3925\n",
      "Epoch 18 - Save Best Score: 0.3925 Model\n"
     ]
    },
    {
     "name": "stdout",
     "output_type": "stream",
     "text": [
      "EVAL: [2/3] Elapsed 0m 0s (remain 0m 0s) Loss: 0.2902(0.3899) \n",
      "Epoch: [19][0/19] Elapsed 0m 0s (remain 0m 2s) Loss: 0.1388(0.1388) Grad: 10.3261  LR: 0.000133  \n",
      "Epoch: [19][10/19] Elapsed 0m 1s (remain 0m 1s) Loss: 0.2483(0.1880) Grad: 5.9918  LR: 0.000133  \n",
      "Epoch: [19][18/19] Elapsed 0m 2s (remain 0m 0s) Loss: 0.1606(0.2038) Grad: 18.0156  LR: 0.000133  \n",
      "EVAL: [0/3] Elapsed 0m 0s (remain 0m 0s) Loss: 0.4084(0.4084) \n"
     ]
    },
    {
     "name": "stderr",
     "output_type": "stream",
     "text": [
      "Epoch 19 - avg_train_loss: 0.2038  avg_val_loss: 0.4082  time: 3s\n",
      "Epoch 19 - Score: 0.4132\n"
     ]
    },
    {
     "name": "stdout",
     "output_type": "stream",
     "text": [
      "EVAL: [2/3] Elapsed 0m 0s (remain 0m 0s) Loss: 0.2777(0.4082) \n",
      "Epoch: [20][0/19] Elapsed 0m 0s (remain 0m 2s) Loss: 0.1743(0.1743) Grad: 7.4688  LR: 0.000057  \n",
      "Epoch: [20][10/19] Elapsed 0m 1s (remain 0m 1s) Loss: 0.1554(0.1752) Grad: 11.4937  LR: 0.000057  \n",
      "Epoch: [20][18/19] Elapsed 0m 2s (remain 0m 0s) Loss: 0.1609(0.1805) Grad: 13.7855  LR: 0.000057  \n",
      "EVAL: [0/3] Elapsed 0m 0s (remain 0m 0s) Loss: 0.4775(0.4775) \n"
     ]
    },
    {
     "name": "stderr",
     "output_type": "stream",
     "text": [
      "Epoch 20 - avg_train_loss: 0.1805  avg_val_loss: 0.4577  time: 3s\n",
      "Epoch 20 - Score: 0.4617\n"
     ]
    },
    {
     "name": "stdout",
     "output_type": "stream",
     "text": [
      "EVAL: [2/3] Elapsed 0m 0s (remain 0m 0s) Loss: 0.3239(0.4577) \n",
      "Epoch: [21][0/19] Elapsed 0m 0s (remain 0m 2s) Loss: 0.1928(0.1928) Grad: 16.9905  LR: 0.000009  \n",
      "Epoch: [21][10/19] Elapsed 0m 1s (remain 0m 1s) Loss: 0.1537(0.1629) Grad: 6.2281  LR: 0.000009  \n",
      "Epoch: [21][18/19] Elapsed 0m 2s (remain 0m 0s) Loss: 0.1268(0.1519) Grad: 6.2058  LR: 0.000009  \n",
      "EVAL: [0/3] Elapsed 0m 0s (remain 0m 0s) Loss: 0.4122(0.4122) \n"
     ]
    },
    {
     "name": "stderr",
     "output_type": "stream",
     "text": [
      "Epoch 21 - avg_train_loss: 0.1519  avg_val_loss: 0.4004  time: 3s\n",
      "Epoch 21 - Score: 0.4059\n"
     ]
    },
    {
     "name": "stdout",
     "output_type": "stream",
     "text": [
      "EVAL: [2/3] Elapsed 0m 0s (remain 0m 0s) Loss: 0.2562(0.4004) \n",
      "Epoch: [22][0/19] Elapsed 0m 0s (remain 0m 2s) Loss: 0.1175(0.1175) Grad: 4.7414  LR: 0.000001  \n",
      "Epoch: [22][10/19] Elapsed 0m 1s (remain 0m 1s) Loss: 0.1288(0.1235) Grad: 3.6954  LR: 0.000001  \n",
      "Epoch: [22][18/19] Elapsed 0m 2s (remain 0m 0s) Loss: 0.1224(0.1247) Grad: 9.8471  LR: 0.000001  \n",
      "EVAL: [0/3] Elapsed 0m 0s (remain 0m 0s) Loss: 0.4117(0.4117) \n"
     ]
    },
    {
     "name": "stderr",
     "output_type": "stream",
     "text": [
      "Epoch 22 - avg_train_loss: 0.1247  avg_val_loss: 0.3940  time: 3s\n",
      "Epoch 22 - Score: 0.4001\n"
     ]
    },
    {
     "name": "stdout",
     "output_type": "stream",
     "text": [
      "EVAL: [2/3] Elapsed 0m 0s (remain 0m 0s) Loss: 0.2415(0.3940) \n",
      "Epoch: [23][0/19] Elapsed 0m 0s (remain 0m 2s) Loss: 0.1141(0.1141) Grad: 5.5921  LR: 0.000050  \n",
      "Epoch: [23][10/19] Elapsed 0m 1s (remain 0m 1s) Loss: 0.1143(0.1212) Grad: 15.1179  LR: 0.000050  \n",
      "Epoch: [23][18/19] Elapsed 0m 2s (remain 0m 0s) Loss: 0.0922(0.1159) Grad: 5.9206  LR: 0.000050  \n",
      "EVAL: [0/3] Elapsed 0m 0s (remain 0m 0s) Loss: 0.3864(0.3864) \n"
     ]
    },
    {
     "name": "stderr",
     "output_type": "stream",
     "text": [
      "Epoch 23 - avg_train_loss: 0.1159  avg_val_loss: 0.3799  time: 3s\n",
      "Epoch 23 - Score: 0.3849\n",
      "Epoch 23 - Save Best Score: 0.3849 Model\n"
     ]
    },
    {
     "name": "stdout",
     "output_type": "stream",
     "text": [
      "EVAL: [2/3] Elapsed 0m 0s (remain 0m 0s) Loss: 0.2482(0.3799) \n",
      "Epoch: [24][0/19] Elapsed 0m 0s (remain 0m 2s) Loss: 0.1097(0.1097) Grad: 6.6344  LR: 0.000224  \n",
      "Epoch: [24][10/19] Elapsed 0m 1s (remain 0m 1s) Loss: 0.1500(0.1414) Grad: 10.1568  LR: 0.000224  \n",
      "Epoch: [24][18/19] Elapsed 0m 2s (remain 0m 0s) Loss: 0.1116(0.1316) Grad: 14.3159  LR: 0.000224  \n",
      "EVAL: [0/3] Elapsed 0m 0s (remain 0m 0s) Loss: 0.4123(0.4123) \n"
     ]
    },
    {
     "name": "stderr",
     "output_type": "stream",
     "text": [
      "Epoch 24 - avg_train_loss: 0.1316  avg_val_loss: 0.4080  time: 3s\n",
      "Epoch 24 - Score: 0.4135\n"
     ]
    },
    {
     "name": "stdout",
     "output_type": "stream",
     "text": [
      "EVAL: [2/3] Elapsed 0m 0s (remain 0m 0s) Loss: 0.2673(0.4080) \n",
      "Epoch: [25][0/19] Elapsed 0m 0s (remain 0m 2s) Loss: 0.1117(0.1117) Grad: 11.2512  LR: 0.000133  \n",
      "Epoch: [25][10/19] Elapsed 0m 1s (remain 0m 1s) Loss: 0.1711(0.1412) Grad: 5.1122  LR: 0.000133  \n",
      "Epoch: [25][18/19] Elapsed 0m 2s (remain 0m 0s) Loss: 0.1296(0.1453) Grad: 12.7540  LR: 0.000133  \n",
      "EVAL: [0/3] Elapsed 0m 0s (remain 0m 0s) Loss: 0.4163(0.4163) \n"
     ]
    },
    {
     "name": "stderr",
     "output_type": "stream",
     "text": [
      "Epoch 25 - avg_train_loss: 0.1453  avg_val_loss: 0.4159  time: 3s\n",
      "Epoch 25 - Score: 0.4186\n"
     ]
    },
    {
     "name": "stdout",
     "output_type": "stream",
     "text": [
      "EVAL: [2/3] Elapsed 0m 0s (remain 0m 0s) Loss: 0.3176(0.4159) \n",
      "Epoch: [26][0/19] Elapsed 0m 0s (remain 0m 2s) Loss: 0.1886(0.1886) Grad: 19.6037  LR: 0.000057  \n",
      "Epoch: [26][10/19] Elapsed 0m 1s (remain 0m 1s) Loss: 0.2939(0.1929) Grad: 20.2853  LR: 0.000057  \n",
      "Epoch: [26][18/19] Elapsed 0m 2s (remain 0m 0s) Loss: 0.1584(0.2039) Grad: 12.3005  LR: 0.000057  \n",
      "EVAL: [0/3] Elapsed 0m 0s (remain 0m 0s) Loss: 0.3942(0.3942) \n"
     ]
    },
    {
     "name": "stderr",
     "output_type": "stream",
     "text": [
      "Epoch 26 - avg_train_loss: 0.2039  avg_val_loss: 0.3827  time: 3s\n",
      "Epoch 26 - Score: 0.3862\n"
     ]
    },
    {
     "name": "stdout",
     "output_type": "stream",
     "text": [
      "EVAL: [2/3] Elapsed 0m 0s (remain 0m 0s) Loss: 0.2697(0.3827) \n",
      "Epoch: [27][0/19] Elapsed 0m 0s (remain 0m 2s) Loss: 0.1409(0.1409) Grad: 4.1549  LR: 0.000009  \n",
      "Epoch: [27][10/19] Elapsed 0m 1s (remain 0m 1s) Loss: 0.1758(0.1426) Grad: 14.3832  LR: 0.000009  \n",
      "Epoch: [27][18/19] Elapsed 0m 2s (remain 0m 0s) Loss: 0.1014(0.1331) Grad: 3.8989  LR: 0.000009  \n",
      "EVAL: [0/3] Elapsed 0m 0s (remain 0m 0s) Loss: 0.3771(0.3771) \n"
     ]
    },
    {
     "name": "stderr",
     "output_type": "stream",
     "text": [
      "Epoch 27 - avg_train_loss: 0.1331  avg_val_loss: 0.3741  time: 3s\n",
      "Epoch 27 - Score: 0.3787\n",
      "Epoch 27 - Save Best Score: 0.3787 Model\n"
     ]
    },
    {
     "name": "stdout",
     "output_type": "stream",
     "text": [
      "EVAL: [2/3] Elapsed 0m 0s (remain 0m 0s) Loss: 0.2511(0.3741) \n",
      "Epoch: [28][0/19] Elapsed 0m 0s (remain 0m 2s) Loss: 0.0854(0.0854) Grad: 7.1588  LR: 0.000001  \n",
      "Epoch: [28][10/19] Elapsed 0m 1s (remain 0m 1s) Loss: 0.1105(0.1049) Grad: 5.6288  LR: 0.000001  \n",
      "Epoch: [28][18/19] Elapsed 0m 2s (remain 0m 0s) Loss: 0.1043(0.1033) Grad: 11.1259  LR: 0.000001  \n",
      "EVAL: [0/3] Elapsed 0m 0s (remain 0m 0s) Loss: 0.3769(0.3769) \n"
     ]
    },
    {
     "name": "stderr",
     "output_type": "stream",
     "text": [
      "Epoch 28 - avg_train_loss: 0.1033  avg_val_loss: 0.3700  time: 3s\n",
      "Epoch 28 - Score: 0.3753\n",
      "Epoch 28 - Save Best Score: 0.3753 Model\n"
     ]
    },
    {
     "name": "stdout",
     "output_type": "stream",
     "text": [
      "EVAL: [2/3] Elapsed 0m 0s (remain 0m 0s) Loss: 0.2362(0.3700) \n",
      "Epoch: [29][0/19] Elapsed 0m 0s (remain 0m 2s) Loss: 0.0970(0.0970) Grad: 7.1750  LR: 0.000050  \n",
      "Epoch: [29][10/19] Elapsed 0m 1s (remain 0m 1s) Loss: 0.1477(0.1246) Grad: 16.0552  LR: 0.000050  \n",
      "Epoch: [29][18/19] Elapsed 0m 2s (remain 0m 0s) Loss: 0.0998(0.1146) Grad: 3.8309  LR: 0.000050  \n",
      "EVAL: [0/3] Elapsed 0m 0s (remain 0m 0s) Loss: 0.3906(0.3906) \n"
     ]
    },
    {
     "name": "stderr",
     "output_type": "stream",
     "text": [
      "Epoch 29 - avg_train_loss: 0.1146  avg_val_loss: 0.3810  time: 3s\n",
      "Epoch 29 - Score: 0.3885\n"
     ]
    },
    {
     "name": "stdout",
     "output_type": "stream",
     "text": [
      "EVAL: [2/3] Elapsed 0m 0s (remain 0m 0s) Loss: 0.2200(0.3810) \n",
      "Epoch: [30][0/19] Elapsed 0m 0s (remain 0m 2s) Loss: 0.0995(0.0995) Grad: 8.4169  LR: 0.000224  \n",
      "Epoch: [30][10/19] Elapsed 0m 1s (remain 0m 1s) Loss: 0.1562(0.1218) Grad: 18.3516  LR: 0.000224  \n",
      "Epoch: [30][18/19] Elapsed 0m 2s (remain 0m 0s) Loss: 0.0981(0.1299) Grad: 5.6422  LR: 0.000224  \n",
      "EVAL: [0/3] Elapsed 0m 0s (remain 0m 0s) Loss: 0.3863(0.3863) \n"
     ]
    },
    {
     "name": "stderr",
     "output_type": "stream",
     "text": [
      "Epoch 30 - avg_train_loss: 0.1299  avg_val_loss: 0.3872  time: 3s\n",
      "Epoch 30 - Score: 0.3893\n"
     ]
    },
    {
     "name": "stdout",
     "output_type": "stream",
     "text": [
      "EVAL: [2/3] Elapsed 0m 0s (remain 0m 0s) Loss: 0.3046(0.3872) \n",
      "Epoch: [31][0/19] Elapsed 0m 0s (remain 0m 2s) Loss: 0.1596(0.1596) Grad: 15.1200  LR: 0.000133  \n",
      "Epoch: [31][10/19] Elapsed 0m 1s (remain 0m 1s) Loss: 0.1713(0.1306) Grad: 16.3505  LR: 0.000133  \n",
      "Epoch: [31][18/19] Elapsed 0m 2s (remain 0m 0s) Loss: 0.1398(0.1391) Grad: 4.4811  LR: 0.000133  \n",
      "EVAL: [0/3] Elapsed 0m 0s (remain 0m 0s) Loss: 0.3863(0.3863) \n"
     ]
    },
    {
     "name": "stderr",
     "output_type": "stream",
     "text": [
      "Epoch 31 - avg_train_loss: 0.1391  avg_val_loss: 0.3886  time: 3s\n",
      "Epoch 31 - Score: 0.3921\n"
     ]
    },
    {
     "name": "stdout",
     "output_type": "stream",
     "text": [
      "EVAL: [2/3] Elapsed 0m 0s (remain 0m 0s) Loss: 0.2824(0.3886) \n",
      "Epoch: [32][0/19] Elapsed 0m 0s (remain 0m 2s) Loss: 0.1611(0.1611) Grad: 10.3383  LR: 0.000057  \n",
      "Epoch: [32][10/19] Elapsed 0m 1s (remain 0m 1s) Loss: 0.1508(0.1588) Grad: 7.8446  LR: 0.000057  \n",
      "Epoch: [32][18/19] Elapsed 0m 2s (remain 0m 0s) Loss: 0.1270(0.1513) Grad: 18.5110  LR: 0.000057  \n",
      "EVAL: [0/3] Elapsed 0m 0s (remain 0m 0s) Loss: 0.4259(0.4259) \n"
     ]
    },
    {
     "name": "stderr",
     "output_type": "stream",
     "text": [
      "Epoch 32 - avg_train_loss: 0.1513  avg_val_loss: 0.3929  time: 3s\n",
      "Epoch 32 - Score: 0.3996\n"
     ]
    },
    {
     "name": "stdout",
     "output_type": "stream",
     "text": [
      "EVAL: [2/3] Elapsed 0m 0s (remain 0m 0s) Loss: 0.2316(0.3929) \n",
      "Epoch: [33][0/19] Elapsed 0m 0s (remain 0m 2s) Loss: 0.1168(0.1168) Grad: 6.4881  LR: 0.000009  \n",
      "Epoch: [33][10/19] Elapsed 0m 1s (remain 0m 1s) Loss: 0.0981(0.1227) Grad: 8.5152  LR: 0.000009  \n",
      "Epoch: [33][18/19] Elapsed 0m 2s (remain 0m 0s) Loss: 0.0869(0.1128) Grad: 5.8755  LR: 0.000009  \n",
      "EVAL: [0/3] Elapsed 0m 0s (remain 0m 0s) Loss: 0.4060(0.4060) \n"
     ]
    },
    {
     "name": "stderr",
     "output_type": "stream",
     "text": [
      "Epoch 33 - avg_train_loss: 0.1128  avg_val_loss: 0.3909  time: 3s\n",
      "Epoch 33 - Score: 0.3951\n"
     ]
    },
    {
     "name": "stdout",
     "output_type": "stream",
     "text": [
      "EVAL: [2/3] Elapsed 0m 0s (remain 0m 0s) Loss: 0.2649(0.3909) \n",
      "Epoch: [34][0/19] Elapsed 0m 0s (remain 0m 2s) Loss: 0.1089(0.1089) Grad: 5.2084  LR: 0.000001  \n",
      "Epoch: [34][10/19] Elapsed 0m 1s (remain 0m 1s) Loss: 0.0911(0.0975) Grad: 8.5798  LR: 0.000001  \n",
      "Epoch: [34][18/19] Elapsed 0m 2s (remain 0m 0s) Loss: 0.0871(0.0934) Grad: 5.0589  LR: 0.000001  \n",
      "EVAL: [0/3] Elapsed 0m 0s (remain 0m 0s) Loss: 0.3946(0.3946) \n"
     ]
    },
    {
     "name": "stderr",
     "output_type": "stream",
     "text": [
      "Epoch 34 - avg_train_loss: 0.0934  avg_val_loss: 0.3886  time: 3s\n",
      "Epoch 34 - Score: 0.3948\n"
     ]
    },
    {
     "name": "stdout",
     "output_type": "stream",
     "text": [
      "EVAL: [2/3] Elapsed 0m 0s (remain 0m 0s) Loss: 0.2422(0.3886) \n",
      "Epoch: [35][0/19] Elapsed 0m 0s (remain 0m 2s) Loss: 0.0676(0.0676) Grad: 3.9995  LR: 0.000050  \n",
      "Epoch: [35][10/19] Elapsed 0m 1s (remain 0m 1s) Loss: 0.0822(0.0940) Grad: 10.3958  LR: 0.000050  \n",
      "Epoch: [35][18/19] Elapsed 0m 2s (remain 0m 0s) Loss: 0.0901(0.0946) Grad: 16.0908  LR: 0.000050  \n",
      "EVAL: [0/3] Elapsed 0m 0s (remain 0m 0s) Loss: 0.4064(0.4064) \n"
     ]
    },
    {
     "name": "stderr",
     "output_type": "stream",
     "text": [
      "Epoch 35 - avg_train_loss: 0.0946  avg_val_loss: 0.3840  time: 3s\n",
      "Epoch 35 - Score: 0.3923\n"
     ]
    },
    {
     "name": "stdout",
     "output_type": "stream",
     "text": [
      "EVAL: [2/3] Elapsed 0m 0s (remain 0m 0s) Loss: 0.2077(0.3840) \n",
      "Epoch: [36][0/19] Elapsed 0m 0s (remain 0m 2s) Loss: 0.1050(0.1050) Grad: 2.8543  LR: 0.000224  \n",
      "Epoch: [36][10/19] Elapsed 0m 1s (remain 0m 1s) Loss: 0.0938(0.1188) Grad: 3.1770  LR: 0.000224  \n",
      "Epoch: [36][18/19] Elapsed 0m 2s (remain 0m 0s) Loss: 0.0808(0.1208) Grad: 6.5008  LR: 0.000224  \n",
      "EVAL: [0/3] Elapsed 0m 0s (remain 0m 0s) Loss: 0.3919(0.3919) \n"
     ]
    },
    {
     "name": "stderr",
     "output_type": "stream",
     "text": [
      "Epoch 36 - avg_train_loss: 0.1208  avg_val_loss: 0.3939  time: 3s\n",
      "Epoch 36 - Score: 0.3972\n"
     ]
    },
    {
     "name": "stdout",
     "output_type": "stream",
     "text": [
      "EVAL: [2/3] Elapsed 0m 0s (remain 0m 0s) Loss: 0.2915(0.3939) \n",
      "Epoch: [37][0/19] Elapsed 0m 0s (remain 0m 2s) Loss: 0.1058(0.1058) Grad: 4.5840  LR: 0.000133  \n",
      "Epoch: [37][10/19] Elapsed 0m 1s (remain 0m 1s) Loss: 0.0894(0.1347) Grad: 6.9882  LR: 0.000133  \n",
      "Epoch: [37][18/19] Elapsed 0m 2s (remain 0m 0s) Loss: 0.1038(0.1340) Grad: 7.2948  LR: 0.000133  \n",
      "EVAL: [0/3] Elapsed 0m 0s (remain 0m 0s) Loss: 0.4030(0.4030) \n"
     ]
    },
    {
     "name": "stderr",
     "output_type": "stream",
     "text": [
      "Epoch 37 - avg_train_loss: 0.1340  avg_val_loss: 0.3890  time: 3s\n",
      "Epoch 37 - Score: 0.3939\n"
     ]
    },
    {
     "name": "stdout",
     "output_type": "stream",
     "text": [
      "EVAL: [2/3] Elapsed 0m 0s (remain 0m 0s) Loss: 0.2547(0.3890) \n",
      "Epoch: [38][0/19] Elapsed 0m 0s (remain 0m 2s) Loss: 0.1119(0.1119) Grad: 3.3756  LR: 0.000057  \n",
      "Epoch: [38][10/19] Elapsed 0m 1s (remain 0m 1s) Loss: 0.1144(0.1249) Grad: 6.7273  LR: 0.000057  \n",
      "Epoch: [38][18/19] Elapsed 0m 2s (remain 0m 0s) Loss: 0.0998(0.1243) Grad: 11.9675  LR: 0.000057  \n",
      "EVAL: [0/3] Elapsed 0m 0s (remain 0m 0s) Loss: 0.3876(0.3876) \n"
     ]
    },
    {
     "name": "stderr",
     "output_type": "stream",
     "text": [
      "Epoch 38 - avg_train_loss: 0.1243  avg_val_loss: 0.3735  time: 3s\n",
      "Epoch 38 - Score: 0.3759\n"
     ]
    },
    {
     "name": "stdout",
     "output_type": "stream",
     "text": [
      "EVAL: [2/3] Elapsed 0m 0s (remain 0m 0s) Loss: 0.2803(0.3735) \n",
      "Epoch: [39][0/19] Elapsed 0m 0s (remain 0m 2s) Loss: 0.0914(0.0914) Grad: 12.6544  LR: 0.000009  \n",
      "Epoch: [39][10/19] Elapsed 0m 1s (remain 0m 1s) Loss: 0.1017(0.1124) Grad: 7.1483  LR: 0.000009  \n",
      "Epoch: [39][18/19] Elapsed 0m 2s (remain 0m 0s) Loss: 0.0994(0.1056) Grad: 14.8612  LR: 0.000009  \n",
      "EVAL: [0/3] Elapsed 0m 0s (remain 0m 0s) Loss: 0.3982(0.3982) \n"
     ]
    },
    {
     "name": "stderr",
     "output_type": "stream",
     "text": [
      "Epoch 39 - avg_train_loss: 0.1056  avg_val_loss: 0.3843  time: 3s\n",
      "Epoch 39 - Score: 0.3905\n"
     ]
    },
    {
     "name": "stdout",
     "output_type": "stream",
     "text": [
      "EVAL: [2/3] Elapsed 0m 0s (remain 0m 0s) Loss: 0.2339(0.3843) \n",
      "Epoch: [40][0/19] Elapsed 0m 0s (remain 0m 2s) Loss: 0.0927(0.0927) Grad: 9.9452  LR: 0.000001  \n",
      "Epoch: [40][10/19] Elapsed 0m 1s (remain 0m 1s) Loss: 0.0698(0.0804) Grad: 3.4560  LR: 0.000001  \n",
      "Epoch: [40][18/19] Elapsed 0m 2s (remain 0m 0s) Loss: 0.1056(0.0829) Grad: 9.4859  LR: 0.000001  \n",
      "EVAL: [0/3] Elapsed 0m 0s (remain 0m 0s) Loss: 0.3802(0.3802) \n"
     ]
    },
    {
     "name": "stderr",
     "output_type": "stream",
     "text": [
      "Epoch 40 - avg_train_loss: 0.0829  avg_val_loss: 0.3727  time: 3s\n",
      "Epoch 40 - Score: 0.3765\n",
      "========== fold: 0 result ==========\n",
      "Score: 0.3753\n",
      "========== fold: 1 training ==========\n"
     ]
    },
    {
     "name": "stdout",
     "output_type": "stream",
     "text": [
      "EVAL: [2/3] Elapsed 0m 0s (remain 0m 0s) Loss: 0.2581(0.3727) \n",
      "Epoch: [1][0/19] Elapsed 0m 0s (remain 0m 2s) Loss: 3.5038(3.5038) Grad: 24.8413  LR: 0.000100  \n",
      "Epoch: [1][10/19] Elapsed 0m 1s (remain 0m 1s) Loss: 0.5036(1.3282) Grad: 17.0217  LR: 0.000100  \n",
      "Epoch: [1][18/19] Elapsed 0m 2s (remain 0m 0s) Loss: 0.3935(1.0022) Grad: 4.3704  LR: 0.000100  \n",
      "EVAL: [0/3] Elapsed 0m 0s (remain 0m 0s) Loss: 0.5646(0.5646) \n"
     ]
    },
    {
     "name": "stderr",
     "output_type": "stream",
     "text": [
      "Epoch 1 - avg_train_loss: 1.0022  avg_val_loss: 0.5303  time: 3s\n",
      "Epoch 1 - Score: 0.5314\n",
      "Epoch 1 - Save Best Score: 0.5314 Model\n"
     ]
    },
    {
     "name": "stdout",
     "output_type": "stream",
     "text": [
      "EVAL: [2/3] Elapsed 0m 0s (remain 0m 0s) Loss: 0.4661(0.5303) \n",
      "Epoch: [2][0/19] Elapsed 0m 0s (remain 0m 2s) Loss: 0.5162(0.5162) Grad: 16.0958  LR: 0.000057  \n",
      "Epoch: [2][10/19] Elapsed 0m 1s (remain 0m 1s) Loss: 0.4138(0.4477) Grad: 8.2920  LR: 0.000057  \n",
      "Epoch: [2][18/19] Elapsed 0m 2s (remain 0m 0s) Loss: 0.3287(0.4095) Grad: 5.0211  LR: 0.000057  \n",
      "EVAL: [0/3] Elapsed 0m 0s (remain 0m 0s) Loss: 0.4480(0.4480) \n"
     ]
    },
    {
     "name": "stderr",
     "output_type": "stream",
     "text": [
      "Epoch 2 - avg_train_loss: 0.4095  avg_val_loss: 0.4329  time: 3s\n",
      "Epoch 2 - Score: 0.4333\n",
      "Epoch 2 - Save Best Score: 0.4333 Model\n"
     ]
    },
    {
     "name": "stdout",
     "output_type": "stream",
     "text": [
      "EVAL: [2/3] Elapsed 0m 0s (remain 0m 0s) Loss: 0.3941(0.4329) \n",
      "Epoch: [3][0/19] Elapsed 0m 0s (remain 0m 2s) Loss: 0.3746(0.3746) Grad: 8.0851  LR: 0.000009  \n",
      "Epoch: [3][10/19] Elapsed 0m 1s (remain 0m 1s) Loss: 0.3143(0.3112) Grad: 4.0636  LR: 0.000009  \n",
      "Epoch: [3][18/19] Elapsed 0m 2s (remain 0m 0s) Loss: 0.3639(0.3102) Grad: 16.6887  LR: 0.000009  \n",
      "EVAL: [0/3] Elapsed 0m 0s (remain 0m 0s) Loss: 0.4142(0.4142) \n"
     ]
    },
    {
     "name": "stderr",
     "output_type": "stream",
     "text": [
      "Epoch 3 - avg_train_loss: 0.3102  avg_val_loss: 0.3834  time: 3s\n",
      "Epoch 3 - Score: 0.3843\n",
      "Epoch 3 - Save Best Score: 0.3843 Model\n"
     ]
    },
    {
     "name": "stdout",
     "output_type": "stream",
     "text": [
      "EVAL: [2/3] Elapsed 0m 0s (remain 0m 0s) Loss: 0.3554(0.3834) \n",
      "Epoch: [4][0/19] Elapsed 0m 0s (remain 0m 2s) Loss: 0.2424(0.2424) Grad: 12.3619  LR: 0.000001  \n",
      "Epoch: [4][10/19] Elapsed 0m 1s (remain 0m 1s) Loss: 0.3041(0.2827) Grad: 10.4002  LR: 0.000001  \n",
      "Epoch: [4][18/19] Elapsed 0m 2s (remain 0m 0s) Loss: 0.2009(0.2733) Grad: 8.6379  LR: 0.000001  \n",
      "EVAL: [0/3] Elapsed 0m 0s (remain 0m 0s) Loss: 0.3834(0.3834) \n"
     ]
    },
    {
     "name": "stderr",
     "output_type": "stream",
     "text": [
      "Epoch 4 - avg_train_loss: 0.2733  avg_val_loss: 0.3586  time: 3s\n",
      "Epoch 4 - Score: 0.3592\n",
      "Epoch 4 - Save Best Score: 0.3592 Model\n"
     ]
    },
    {
     "name": "stdout",
     "output_type": "stream",
     "text": [
      "EVAL: [2/3] Elapsed 0m 0s (remain 0m 0s) Loss: 0.3356(0.3586) \n",
      "Epoch: [5][0/19] Elapsed 0m 0s (remain 0m 2s) Loss: 0.2705(0.2705) Grad: 8.0462  LR: 0.000050  \n",
      "Epoch: [5][10/19] Elapsed 0m 1s (remain 0m 1s) Loss: 0.3683(0.2637) Grad: 4.5506  LR: 0.000050  \n",
      "Epoch: [5][18/19] Elapsed 0m 2s (remain 0m 0s) Loss: 0.2697(0.2737) Grad: 9.7610  LR: 0.000050  \n",
      "EVAL: [0/3] Elapsed 0m 0s (remain 0m 0s) Loss: 0.3802(0.3802) \n"
     ]
    },
    {
     "name": "stderr",
     "output_type": "stream",
     "text": [
      "Epoch 5 - avg_train_loss: 0.2737  avg_val_loss: 0.3531  time: 3s\n",
      "Epoch 5 - Score: 0.3541\n",
      "Epoch 5 - Save Best Score: 0.3541 Model\n"
     ]
    },
    {
     "name": "stdout",
     "output_type": "stream",
     "text": [
      "EVAL: [2/3] Elapsed 0m 0s (remain 0m 0s) Loss: 0.3615(0.3531) \n",
      "Epoch: [6][0/19] Elapsed 0m 0s (remain 0m 2s) Loss: 0.2518(0.2518) Grad: 12.8110  LR: 0.000224  \n",
      "Epoch: [6][10/19] Elapsed 0m 1s (remain 0m 1s) Loss: 0.3165(0.2867) Grad: 18.6518  LR: 0.000224  \n",
      "Epoch: [6][18/19] Elapsed 0m 2s (remain 0m 0s) Loss: 0.3084(0.3078) Grad: 20.4164  LR: 0.000224  \n",
      "EVAL: [0/3] Elapsed 0m 0s (remain 0m 0s) Loss: 0.4488(0.4488) \n"
     ]
    },
    {
     "name": "stderr",
     "output_type": "stream",
     "text": [
      "Epoch 6 - avg_train_loss: 0.3078  avg_val_loss: 0.4083  time: 3s\n",
      "Epoch 6 - Score: 0.4101\n"
     ]
    },
    {
     "name": "stdout",
     "output_type": "stream",
     "text": [
      "EVAL: [2/3] Elapsed 0m 0s (remain 0m 0s) Loss: 0.4156(0.4083) \n",
      "Epoch: [7][0/19] Elapsed 0m 0s (remain 0m 2s) Loss: 0.2810(0.2810) Grad: 17.6091  LR: 0.000133  \n",
      "Epoch: [7][10/19] Elapsed 0m 1s (remain 0m 1s) Loss: 0.2510(0.2913) Grad: 9.9305  LR: 0.000133  \n",
      "Epoch: [7][18/19] Elapsed 0m 2s (remain 0m 0s) Loss: 0.2627(0.2872) Grad: 16.3773  LR: 0.000133  \n",
      "EVAL: [0/3] Elapsed 0m 0s (remain 0m 0s) Loss: 0.6564(0.6564) \n"
     ]
    },
    {
     "name": "stderr",
     "output_type": "stream",
     "text": [
      "Epoch 7 - avg_train_loss: 0.2872  avg_val_loss: 0.6202  time: 3s\n",
      "Epoch 7 - Score: 0.6218\n"
     ]
    },
    {
     "name": "stdout",
     "output_type": "stream",
     "text": [
      "EVAL: [2/3] Elapsed 0m 0s (remain 0m 0s) Loss: 0.5264(0.6202) \n",
      "Epoch: [8][0/19] Elapsed 0m 0s (remain 0m 2s) Loss: 0.4554(0.4554) Grad: 25.7533  LR: 0.000057  \n",
      "Epoch: [8][10/19] Elapsed 0m 1s (remain 0m 1s) Loss: 0.2955(0.3432) Grad: 11.4598  LR: 0.000057  \n",
      "Epoch: [8][18/19] Elapsed 0m 2s (remain 0m 0s) Loss: 0.2843(0.3191) Grad: 23.3282  LR: 0.000057  \n",
      "EVAL: [0/3] Elapsed 0m 0s (remain 0m 0s) Loss: 0.4031(0.4031) \n"
     ]
    },
    {
     "name": "stderr",
     "output_type": "stream",
     "text": [
      "Epoch 8 - avg_train_loss: 0.3191  avg_val_loss: 0.3687  time: 3s\n",
      "Epoch 8 - Score: 0.3702\n"
     ]
    },
    {
     "name": "stdout",
     "output_type": "stream",
     "text": [
      "EVAL: [2/3] Elapsed 0m 0s (remain 0m 0s) Loss: 0.3793(0.3687) \n",
      "Epoch: [9][0/19] Elapsed 0m 0s (remain 0m 2s) Loss: 0.3000(0.3000) Grad: 13.2725  LR: 0.000009  \n",
      "Epoch: [9][10/19] Elapsed 0m 1s (remain 0m 1s) Loss: 0.2299(0.2033) Grad: 13.7849  LR: 0.000009  \n",
      "Epoch: [9][18/19] Elapsed 0m 2s (remain 0m 0s) Loss: 0.1765(0.2025) Grad: 13.4505  LR: 0.000009  \n",
      "EVAL: [0/3] Elapsed 0m 0s (remain 0m 0s) Loss: 0.3850(0.3850) \n"
     ]
    },
    {
     "name": "stderr",
     "output_type": "stream",
     "text": [
      "Epoch 9 - avg_train_loss: 0.2025  avg_val_loss: 0.3515  time: 3s\n",
      "Epoch 9 - Score: 0.3526\n",
      "Epoch 9 - Save Best Score: 0.3526 Model\n"
     ]
    },
    {
     "name": "stdout",
     "output_type": "stream",
     "text": [
      "EVAL: [2/3] Elapsed 0m 0s (remain 0m 0s) Loss: 0.3307(0.3515) \n",
      "Epoch: [10][0/19] Elapsed 0m 0s (remain 0m 2s) Loss: 0.1573(0.1573) Grad: 11.0590  LR: 0.000001  \n",
      "Epoch: [10][10/19] Elapsed 0m 1s (remain 0m 1s) Loss: 0.1762(0.1775) Grad: 12.1985  LR: 0.000001  \n",
      "Epoch: [10][18/19] Elapsed 0m 2s (remain 0m 0s) Loss: 0.2056(0.1718) Grad: 6.0405  LR: 0.000001  \n",
      "EVAL: [0/3] Elapsed 0m 0s (remain 0m 0s) Loss: 0.3638(0.3638) \n"
     ]
    },
    {
     "name": "stderr",
     "output_type": "stream",
     "text": [
      "Epoch 10 - avg_train_loss: 0.1718  avg_val_loss: 0.3356  time: 3s\n",
      "Epoch 10 - Score: 0.3365\n",
      "Epoch 10 - Save Best Score: 0.3365 Model\n"
     ]
    },
    {
     "name": "stdout",
     "output_type": "stream",
     "text": [
      "EVAL: [2/3] Elapsed 0m 0s (remain 0m 0s) Loss: 0.3057(0.3356) \n",
      "Epoch: [11][0/19] Elapsed 0m 0s (remain 0m 2s) Loss: 0.1361(0.1361) Grad: 8.3771  LR: 0.000050  \n",
      "Epoch: [11][10/19] Elapsed 0m 1s (remain 0m 1s) Loss: 0.1371(0.1781) Grad: 4.0459  LR: 0.000050  \n",
      "Epoch: [11][18/19] Elapsed 0m 2s (remain 0m 0s) Loss: 0.1733(0.1809) Grad: 13.4789  LR: 0.000050  \n",
      "EVAL: [0/3] Elapsed 0m 0s (remain 0m 0s) Loss: 0.3836(0.3836) \n"
     ]
    },
    {
     "name": "stderr",
     "output_type": "stream",
     "text": [
      "Epoch 11 - avg_train_loss: 0.1809  avg_val_loss: 0.3705  time: 3s\n",
      "Epoch 11 - Score: 0.3709\n"
     ]
    },
    {
     "name": "stdout",
     "output_type": "stream",
     "text": [
      "EVAL: [2/3] Elapsed 0m 0s (remain 0m 0s) Loss: 0.3371(0.3705) \n",
      "Epoch: [12][0/19] Elapsed 0m 0s (remain 0m 2s) Loss: 0.2008(0.2008) Grad: 20.4043  LR: 0.000224  \n",
      "Epoch: [12][10/19] Elapsed 0m 1s (remain 0m 1s) Loss: 0.1805(0.2012) Grad: 23.0560  LR: 0.000224  \n",
      "Epoch: [12][18/19] Elapsed 0m 2s (remain 0m 0s) Loss: 0.2625(0.2063) Grad: 18.1350  LR: 0.000224  \n",
      "EVAL: [0/3] Elapsed 0m 0s (remain 0m 0s) Loss: 0.3853(0.3853) \n"
     ]
    },
    {
     "name": "stderr",
     "output_type": "stream",
     "text": [
      "Epoch 12 - avg_train_loss: 0.2063  avg_val_loss: 0.3680  time: 3s\n",
      "Epoch 12 - Score: 0.3696\n"
     ]
    },
    {
     "name": "stdout",
     "output_type": "stream",
     "text": [
      "EVAL: [2/3] Elapsed 0m 0s (remain 0m 0s) Loss: 0.4192(0.3680) \n",
      "Epoch: [13][0/19] Elapsed 0m 0s (remain 0m 2s) Loss: 0.2408(0.2408) Grad: 20.9901  LR: 0.000133  \n",
      "Epoch: [13][10/19] Elapsed 0m 1s (remain 0m 1s) Loss: 0.1527(0.2597) Grad: 9.5582  LR: 0.000133  \n",
      "Epoch: [13][18/19] Elapsed 0m 2s (remain 0m 0s) Loss: 0.2254(0.2406) Grad: 16.6625  LR: 0.000133  \n",
      "EVAL: [0/3] Elapsed 0m 0s (remain 0m 0s) Loss: 0.3840(0.3840) \n"
     ]
    },
    {
     "name": "stderr",
     "output_type": "stream",
     "text": [
      "Epoch 13 - avg_train_loss: 0.2406  avg_val_loss: 0.3353  time: 3s\n",
      "Epoch 13 - Score: 0.3381\n"
     ]
    },
    {
     "name": "stdout",
     "output_type": "stream",
     "text": [
      "EVAL: [2/3] Elapsed 0m 0s (remain 0m 0s) Loss: 0.2748(0.3353) \n",
      "Epoch: [14][0/19] Elapsed 0m 0s (remain 0m 2s) Loss: 0.1821(0.1821) Grad: 5.4657  LR: 0.000057  \n",
      "Epoch: [14][10/19] Elapsed 0m 1s (remain 0m 1s) Loss: 0.1768(0.2157) Grad: 4.3914  LR: 0.000057  \n",
      "Epoch: [14][18/19] Elapsed 0m 2s (remain 0m 0s) Loss: 0.1652(0.2141) Grad: 4.6545  LR: 0.000057  \n",
      "EVAL: [0/3] Elapsed 0m 0s (remain 0m 0s) Loss: 0.4265(0.4265) \n"
     ]
    },
    {
     "name": "stderr",
     "output_type": "stream",
     "text": [
      "Epoch 14 - avg_train_loss: 0.2141  avg_val_loss: 0.4037  time: 4s\n",
      "Epoch 14 - Score: 0.4052\n"
     ]
    },
    {
     "name": "stdout",
     "output_type": "stream",
     "text": [
      "EVAL: [2/3] Elapsed 0m 0s (remain 0m 0s) Loss: 0.4486(0.4037) \n",
      "Epoch: [15][0/19] Elapsed 0m 0s (remain 0m 2s) Loss: 0.2588(0.2588) Grad: 17.7589  LR: 0.000009  \n",
      "Epoch: [15][10/19] Elapsed 0m 1s (remain 0m 1s) Loss: 0.2415(0.2428) Grad: 12.8001  LR: 0.000009  \n",
      "Epoch: [15][18/19] Elapsed 0m 2s (remain 0m 0s) Loss: 0.1477(0.2206) Grad: 4.1984  LR: 0.000009  \n",
      "EVAL: [0/3] Elapsed 0m 0s (remain 0m 0s) Loss: 0.3749(0.3749) \n"
     ]
    },
    {
     "name": "stderr",
     "output_type": "stream",
     "text": [
      "Epoch 15 - avg_train_loss: 0.2206  avg_val_loss: 0.3445  time: 3s\n",
      "Epoch 15 - Score: 0.3455\n"
     ]
    },
    {
     "name": "stdout",
     "output_type": "stream",
     "text": [
      "EVAL: [2/3] Elapsed 0m 0s (remain 0m 0s) Loss: 0.3182(0.3445) \n",
      "Epoch: [16][0/19] Elapsed 0m 0s (remain 0m 2s) Loss: 0.1217(0.1217) Grad: 5.3485  LR: 0.000001  \n",
      "Epoch: [16][10/19] Elapsed 0m 1s (remain 0m 1s) Loss: 0.1016(0.1366) Grad: 3.4157  LR: 0.000001  \n",
      "Epoch: [16][18/19] Elapsed 0m 2s (remain 0m 0s) Loss: 0.1278(0.1303) Grad: 8.9905  LR: 0.000001  \n",
      "EVAL: [0/3] Elapsed 0m 0s (remain 0m 0s) Loss: 0.3677(0.3677) \n"
     ]
    },
    {
     "name": "stderr",
     "output_type": "stream",
     "text": [
      "Epoch 16 - avg_train_loss: 0.1303  avg_val_loss: 0.3317  time: 3s\n",
      "Epoch 16 - Score: 0.3331\n",
      "Epoch 16 - Save Best Score: 0.3331 Model\n"
     ]
    },
    {
     "name": "stdout",
     "output_type": "stream",
     "text": [
      "EVAL: [2/3] Elapsed 0m 0s (remain 0m 0s) Loss: 0.3125(0.3317) \n",
      "Epoch: [17][0/19] Elapsed 0m 0s (remain 0m 2s) Loss: 0.1533(0.1533) Grad: 2.9839  LR: 0.000050  \n",
      "Epoch: [17][10/19] Elapsed 0m 1s (remain 0m 1s) Loss: 0.1246(0.1353) Grad: 3.3504  LR: 0.000050  \n",
      "Epoch: [17][18/19] Elapsed 0m 2s (remain 0m 0s) Loss: 0.1379(0.1339) Grad: 4.1202  LR: 0.000050  \n",
      "EVAL: [0/3] Elapsed 0m 0s (remain 0m 0s) Loss: 0.3806(0.3806) \n"
     ]
    },
    {
     "name": "stderr",
     "output_type": "stream",
     "text": [
      "Epoch 17 - avg_train_loss: 0.1339  avg_val_loss: 0.3367  time: 3s\n",
      "Epoch 17 - Score: 0.3387\n"
     ]
    },
    {
     "name": "stdout",
     "output_type": "stream",
     "text": [
      "EVAL: [2/3] Elapsed 0m 0s (remain 0m 0s) Loss: 0.3037(0.3367) \n",
      "Epoch: [18][0/19] Elapsed 0m 0s (remain 0m 2s) Loss: 0.1008(0.1008) Grad: 12.9123  LR: 0.000224  \n",
      "Epoch: [18][10/19] Elapsed 0m 1s (remain 0m 1s) Loss: 0.1445(0.1390) Grad: 7.1972  LR: 0.000224  \n",
      "Epoch: [18][18/19] Elapsed 0m 2s (remain 0m 0s) Loss: 0.1508(0.1397) Grad: 5.7088  LR: 0.000224  \n",
      "EVAL: [0/3] Elapsed 0m 0s (remain 0m 0s) Loss: 0.3394(0.3394) \n"
     ]
    },
    {
     "name": "stderr",
     "output_type": "stream",
     "text": [
      "Epoch 18 - avg_train_loss: 0.1397  avg_val_loss: 0.3272  time: 3s\n",
      "Epoch 18 - Score: 0.3275\n",
      "Epoch 18 - Save Best Score: 0.3275 Model\n"
     ]
    },
    {
     "name": "stdout",
     "output_type": "stream",
     "text": [
      "EVAL: [2/3] Elapsed 0m 0s (remain 0m 0s) Loss: 0.3385(0.3272) \n",
      "Epoch: [19][0/19] Elapsed 0m 0s (remain 0m 2s) Loss: 0.1775(0.1775) Grad: 18.0279  LR: 0.000133  \n",
      "Epoch: [19][10/19] Elapsed 0m 1s (remain 0m 1s) Loss: 0.1680(0.1814) Grad: 7.1246  LR: 0.000133  \n",
      "Epoch: [19][18/19] Elapsed 0m 2s (remain 0m 0s) Loss: 0.2445(0.1897) Grad: 19.3439  LR: 0.000133  \n",
      "EVAL: [0/3] Elapsed 0m 0s (remain 0m 0s) Loss: 0.3789(0.3789) \n"
     ]
    },
    {
     "name": "stderr",
     "output_type": "stream",
     "text": [
      "Epoch 19 - avg_train_loss: 0.1897  avg_val_loss: 0.3443  time: 3s\n",
      "Epoch 19 - Score: 0.3457\n"
     ]
    },
    {
     "name": "stdout",
     "output_type": "stream",
     "text": [
      "EVAL: [2/3] Elapsed 0m 0s (remain 0m 0s) Loss: 0.3404(0.3443) \n",
      "Epoch: [20][0/19] Elapsed 0m 0s (remain 0m 2s) Loss: 0.1798(0.1798) Grad: 9.6733  LR: 0.000057  \n",
      "Epoch: [20][10/19] Elapsed 0m 1s (remain 0m 1s) Loss: 0.1210(0.1624) Grad: 6.6200  LR: 0.000057  \n",
      "Epoch: [20][18/19] Elapsed 0m 2s (remain 0m 0s) Loss: 0.1729(0.1624) Grad: 17.1279  LR: 0.000057  \n",
      "EVAL: [0/3] Elapsed 0m 0s (remain 0m 0s) Loss: 0.3638(0.3638) \n"
     ]
    },
    {
     "name": "stderr",
     "output_type": "stream",
     "text": [
      "Epoch 20 - avg_train_loss: 0.1624  avg_val_loss: 0.3231  time: 3s\n",
      "Epoch 20 - Score: 0.3252\n",
      "Epoch 20 - Save Best Score: 0.3252 Model\n"
     ]
    },
    {
     "name": "stdout",
     "output_type": "stream",
     "text": [
      "EVAL: [2/3] Elapsed 0m 0s (remain 0m 0s) Loss: 0.2650(0.3231) \n",
      "Epoch: [21][0/19] Elapsed 0m 0s (remain 0m 2s) Loss: 0.1249(0.1249) Grad: 6.9848  LR: 0.000009  \n",
      "Epoch: [21][10/19] Elapsed 0m 1s (remain 0m 1s) Loss: 0.1501(0.1382) Grad: 3.6458  LR: 0.000009  \n",
      "Epoch: [21][18/19] Elapsed 0m 2s (remain 0m 0s) Loss: 0.1112(0.1303) Grad: 5.9331  LR: 0.000009  \n",
      "EVAL: [0/3] Elapsed 0m 0s (remain 0m 0s) Loss: 0.3724(0.3724) \n"
     ]
    },
    {
     "name": "stderr",
     "output_type": "stream",
     "text": [
      "Epoch 21 - avg_train_loss: 0.1303  avg_val_loss: 0.3274  time: 3s\n",
      "Epoch 21 - Score: 0.3296\n"
     ]
    },
    {
     "name": "stdout",
     "output_type": "stream",
     "text": [
      "EVAL: [2/3] Elapsed 0m 0s (remain 0m 0s) Loss: 0.2921(0.3274) \n",
      "Epoch: [22][0/19] Elapsed 0m 0s (remain 0m 2s) Loss: 0.1090(0.1090) Grad: 3.6759  LR: 0.000001  \n",
      "Epoch: [22][10/19] Elapsed 0m 1s (remain 0m 1s) Loss: 0.1032(0.1059) Grad: 9.8096  LR: 0.000001  \n",
      "Epoch: [22][18/19] Elapsed 0m 2s (remain 0m 0s) Loss: 0.0715(0.1111) Grad: 2.9164  LR: 0.000001  \n",
      "EVAL: [0/3] Elapsed 0m 0s (remain 0m 0s) Loss: 0.3776(0.3776) \n"
     ]
    },
    {
     "name": "stderr",
     "output_type": "stream",
     "text": [
      "Epoch 22 - avg_train_loss: 0.1111  avg_val_loss: 0.3360  time: 3s\n",
      "Epoch 22 - Score: 0.3378\n"
     ]
    },
    {
     "name": "stdout",
     "output_type": "stream",
     "text": [
      "EVAL: [2/3] Elapsed 0m 0s (remain 0m 0s) Loss: 0.3074(0.3360) \n",
      "Epoch: [23][0/19] Elapsed 0m 0s (remain 0m 2s) Loss: 0.0794(0.0794) Grad: 3.4212  LR: 0.000050  \n",
      "Epoch: [23][10/19] Elapsed 0m 1s (remain 0m 1s) Loss: 0.1260(0.1023) Grad: 3.2734  LR: 0.000050  \n",
      "Epoch: [23][18/19] Elapsed 0m 2s (remain 0m 0s) Loss: 0.1122(0.1063) Grad: 6.6568  LR: 0.000050  \n",
      "EVAL: [0/3] Elapsed 0m 0s (remain 0m 0s) Loss: 0.3524(0.3524) \n"
     ]
    },
    {
     "name": "stderr",
     "output_type": "stream",
     "text": [
      "Epoch 23 - avg_train_loss: 0.1063  avg_val_loss: 0.3205  time: 3s\n",
      "Epoch 23 - Score: 0.3216\n",
      "Epoch 23 - Save Best Score: 0.3216 Model\n"
     ]
    },
    {
     "name": "stdout",
     "output_type": "stream",
     "text": [
      "EVAL: [2/3] Elapsed 0m 0s (remain 0m 0s) Loss: 0.2923(0.3205) \n",
      "Epoch: [24][0/19] Elapsed 0m 0s (remain 0m 2s) Loss: 0.1122(0.1122) Grad: 4.8240  LR: 0.000224  \n",
      "Epoch: [24][10/19] Elapsed 0m 1s (remain 0m 1s) Loss: 0.1103(0.1436) Grad: 8.2320  LR: 0.000224  \n",
      "Epoch: [24][18/19] Elapsed 0m 2s (remain 0m 0s) Loss: 0.1580(0.1416) Grad: 11.6556  LR: 0.000224  \n",
      "EVAL: [0/3] Elapsed 0m 0s (remain 0m 0s) Loss: 0.3617(0.3617) \n"
     ]
    },
    {
     "name": "stderr",
     "output_type": "stream",
     "text": [
      "Epoch 24 - avg_train_loss: 0.1416  avg_val_loss: 0.3282  time: 3s\n",
      "Epoch 24 - Score: 0.3297\n"
     ]
    },
    {
     "name": "stdout",
     "output_type": "stream",
     "text": [
      "EVAL: [2/3] Elapsed 0m 0s (remain 0m 0s) Loss: 0.2766(0.3282) \n",
      "Epoch: [25][0/19] Elapsed 0m 0s (remain 0m 2s) Loss: 0.1395(0.1395) Grad: 5.8384  LR: 0.000133  \n",
      "Epoch: [25][10/19] Elapsed 0m 1s (remain 0m 1s) Loss: 0.1628(0.1405) Grad: 8.9497  LR: 0.000133  \n",
      "Epoch: [25][18/19] Elapsed 0m 2s (remain 0m 0s) Loss: 0.1633(0.1435) Grad: 7.9784  LR: 0.000133  \n",
      "EVAL: [0/3] Elapsed 0m 0s (remain 0m 0s) Loss: 0.3874(0.3874) \n"
     ]
    },
    {
     "name": "stderr",
     "output_type": "stream",
     "text": [
      "Epoch 25 - avg_train_loss: 0.1435  avg_val_loss: 0.3561  time: 3s\n",
      "Epoch 25 - Score: 0.3591\n"
     ]
    },
    {
     "name": "stdout",
     "output_type": "stream",
     "text": [
      "EVAL: [2/3] Elapsed 0m 0s (remain 0m 0s) Loss: 0.4106(0.3561) \n",
      "Epoch: [26][0/19] Elapsed 0m 0s (remain 0m 2s) Loss: 0.2250(0.2250) Grad: 14.2886  LR: 0.000057  \n",
      "Epoch: [26][10/19] Elapsed 0m 1s (remain 0m 1s) Loss: 0.2066(0.2157) Grad: 15.8026  LR: 0.000057  \n",
      "Epoch: [26][18/19] Elapsed 0m 2s (remain 0m 0s) Loss: 0.1371(0.1851) Grad: 7.6947  LR: 0.000057  \n",
      "EVAL: [0/3] Elapsed 0m 0s (remain 0m 0s) Loss: 0.3570(0.3570) \n"
     ]
    },
    {
     "name": "stderr",
     "output_type": "stream",
     "text": [
      "Epoch 26 - avg_train_loss: 0.1851  avg_val_loss: 0.3351  time: 3s\n",
      "Epoch 26 - Score: 0.3357\n"
     ]
    },
    {
     "name": "stdout",
     "output_type": "stream",
     "text": [
      "EVAL: [2/3] Elapsed 0m 0s (remain 0m 0s) Loss: 0.3247(0.3351) \n",
      "Epoch: [27][0/19] Elapsed 0m 0s (remain 0m 2s) Loss: 0.1728(0.1728) Grad: 15.8918  LR: 0.000009  \n",
      "Epoch: [27][10/19] Elapsed 0m 1s (remain 0m 1s) Loss: 0.1212(0.1258) Grad: 3.6934  LR: 0.000009  \n",
      "Epoch: [27][18/19] Elapsed 0m 2s (remain 0m 0s) Loss: 0.1050(0.1253) Grad: 10.3385  LR: 0.000009  \n",
      "EVAL: [0/3] Elapsed 0m 0s (remain 0m 0s) Loss: 0.3716(0.3716) \n"
     ]
    },
    {
     "name": "stderr",
     "output_type": "stream",
     "text": [
      "Epoch 27 - avg_train_loss: 0.1253  avg_val_loss: 0.3136  time: 4s\n",
      "Epoch 27 - Score: 0.3175\n",
      "Epoch 27 - Save Best Score: 0.3175 Model\n"
     ]
    },
    {
     "name": "stdout",
     "output_type": "stream",
     "text": [
      "EVAL: [2/3] Elapsed 0m 0s (remain 0m 0s) Loss: 0.2576(0.3136) \n",
      "Epoch: [28][0/19] Elapsed 0m 0s (remain 0m 2s) Loss: 0.1272(0.1272) Grad: 5.9462  LR: 0.000001  \n",
      "Epoch: [28][10/19] Elapsed 0m 1s (remain 0m 1s) Loss: 0.1262(0.1084) Grad: 3.8681  LR: 0.000001  \n",
      "Epoch: [28][18/19] Elapsed 0m 2s (remain 0m 0s) Loss: 0.1573(0.1073) Grad: 4.2554  LR: 0.000001  \n",
      "EVAL: [0/3] Elapsed 0m 0s (remain 0m 0s) Loss: 0.3560(0.3560) \n"
     ]
    },
    {
     "name": "stderr",
     "output_type": "stream",
     "text": [
      "Epoch 28 - avg_train_loss: 0.1073  avg_val_loss: 0.3118  time: 3s\n",
      "Epoch 28 - Score: 0.3141\n",
      "Epoch 28 - Save Best Score: 0.3141 Model\n"
     ]
    },
    {
     "name": "stdout",
     "output_type": "stream",
     "text": [
      "EVAL: [2/3] Elapsed 0m 0s (remain 0m 0s) Loss: 0.2825(0.3118) \n",
      "Epoch: [29][0/19] Elapsed 0m 0s (remain 0m 2s) Loss: 0.0982(0.0982) Grad: 7.9621  LR: 0.000050  \n",
      "Epoch: [29][10/19] Elapsed 0m 1s (remain 0m 1s) Loss: 0.0799(0.1050) Grad: 3.6197  LR: 0.000050  \n",
      "Epoch: [29][18/19] Elapsed 0m 2s (remain 0m 0s) Loss: 0.1046(0.0996) Grad: 9.7746  LR: 0.000050  \n",
      "EVAL: [0/3] Elapsed 0m 0s (remain 0m 0s) Loss: 0.3518(0.3518) \n"
     ]
    },
    {
     "name": "stderr",
     "output_type": "stream",
     "text": [
      "Epoch 29 - avg_train_loss: 0.0996  avg_val_loss: 0.3124  time: 3s\n",
      "Epoch 29 - Score: 0.3141\n"
     ]
    },
    {
     "name": "stdout",
     "output_type": "stream",
     "text": [
      "EVAL: [2/3] Elapsed 0m 0s (remain 0m 0s) Loss: 0.2836(0.3124) \n",
      "Epoch: [30][0/19] Elapsed 0m 0s (remain 0m 2s) Loss: 0.0789(0.0789) Grad: 3.4395  LR: 0.000224  \n",
      "Epoch: [30][10/19] Elapsed 0m 1s (remain 0m 1s) Loss: 0.1021(0.1220) Grad: 10.3093  LR: 0.000224  \n",
      "Epoch: [30][18/19] Elapsed 0m 2s (remain 0m 0s) Loss: 0.1147(0.1259) Grad: 11.5826  LR: 0.000224  \n",
      "EVAL: [0/3] Elapsed 0m 0s (remain 0m 0s) Loss: 0.3746(0.3746) \n"
     ]
    },
    {
     "name": "stderr",
     "output_type": "stream",
     "text": [
      "Epoch 30 - avg_train_loss: 0.1259  avg_val_loss: 0.3324  time: 3s\n",
      "Epoch 30 - Score: 0.3345\n"
     ]
    },
    {
     "name": "stdout",
     "output_type": "stream",
     "text": [
      "EVAL: [2/3] Elapsed 0m 0s (remain 0m 0s) Loss: 0.2784(0.3324) \n",
      "Epoch: [31][0/19] Elapsed 0m 0s (remain 0m 2s) Loss: 0.1269(0.1269) Grad: 16.7849  LR: 0.000133  \n",
      "Epoch: [31][10/19] Elapsed 0m 1s (remain 0m 1s) Loss: 0.1449(0.1592) Grad: 9.6796  LR: 0.000133  \n",
      "Epoch: [31][18/19] Elapsed 0m 2s (remain 0m 0s) Loss: 0.1712(0.1692) Grad: 12.5330  LR: 0.000133  \n",
      "EVAL: [0/3] Elapsed 0m 0s (remain 0m 0s) Loss: 0.3893(0.3893) \n"
     ]
    },
    {
     "name": "stderr",
     "output_type": "stream",
     "text": [
      "Epoch 31 - avg_train_loss: 0.1692  avg_val_loss: 0.3413  time: 3s\n",
      "Epoch 31 - Score: 0.3448\n"
     ]
    },
    {
     "name": "stdout",
     "output_type": "stream",
     "text": [
      "EVAL: [2/3] Elapsed 0m 0s (remain 0m 0s) Loss: 0.3633(0.3413) \n",
      "Epoch: [32][0/19] Elapsed 0m 0s (remain 0m 2s) Loss: 0.1903(0.1903) Grad: 16.0653  LR: 0.000057  \n",
      "Epoch: [32][10/19] Elapsed 0m 1s (remain 0m 1s) Loss: 0.1517(0.1749) Grad: 5.1479  LR: 0.000057  \n",
      "Epoch: [32][18/19] Elapsed 0m 2s (remain 0m 0s) Loss: 0.1284(0.1753) Grad: 13.3826  LR: 0.000057  \n",
      "EVAL: [0/3] Elapsed 0m 0s (remain 0m 0s) Loss: 0.3803(0.3803) \n"
     ]
    },
    {
     "name": "stderr",
     "output_type": "stream",
     "text": [
      "Epoch 32 - avg_train_loss: 0.1753  avg_val_loss: 0.3516  time: 3s\n",
      "Epoch 32 - Score: 0.3525\n"
     ]
    },
    {
     "name": "stdout",
     "output_type": "stream",
     "text": [
      "EVAL: [2/3] Elapsed 0m 0s (remain 0m 0s) Loss: 0.3187(0.3516) \n",
      "Epoch: [33][0/19] Elapsed 0m 0s (remain 0m 2s) Loss: 0.1633(0.1633) Grad: 16.5259  LR: 0.000009  \n",
      "Epoch: [33][10/19] Elapsed 0m 1s (remain 0m 1s) Loss: 0.1098(0.1376) Grad: 5.0753  LR: 0.000009  \n",
      "Epoch: [33][18/19] Elapsed 0m 2s (remain 0m 0s) Loss: 0.1012(0.1248) Grad: 13.2708  LR: 0.000009  \n",
      "EVAL: [0/3] Elapsed 0m 0s (remain 0m 0s) Loss: 0.3625(0.3625) \n"
     ]
    },
    {
     "name": "stderr",
     "output_type": "stream",
     "text": [
      "Epoch 33 - avg_train_loss: 0.1248  avg_val_loss: 0.3180  time: 3s\n",
      "Epoch 33 - Score: 0.3202\n"
     ]
    },
    {
     "name": "stdout",
     "output_type": "stream",
     "text": [
      "EVAL: [2/3] Elapsed 0m 0s (remain 0m 0s) Loss: 0.2929(0.3180) \n",
      "Epoch: [34][0/19] Elapsed 0m 0s (remain 0m 2s) Loss: 0.0880(0.0880) Grad: 7.0608  LR: 0.000001  \n",
      "Epoch: [34][10/19] Elapsed 0m 1s (remain 0m 1s) Loss: 0.0938(0.0936) Grad: 3.7669  LR: 0.000001  \n",
      "Epoch: [34][18/19] Elapsed 0m 2s (remain 0m 0s) Loss: 0.0765(0.0882) Grad: 4.4060  LR: 0.000001  \n",
      "EVAL: [0/3] Elapsed 0m 0s (remain 0m 0s) Loss: 0.3586(0.3586) \n"
     ]
    },
    {
     "name": "stderr",
     "output_type": "stream",
     "text": [
      "Epoch 34 - avg_train_loss: 0.0882  avg_val_loss: 0.3150  time: 3s\n",
      "Epoch 34 - Score: 0.3172\n"
     ]
    },
    {
     "name": "stdout",
     "output_type": "stream",
     "text": [
      "EVAL: [2/3] Elapsed 0m 0s (remain 0m 0s) Loss: 0.2974(0.3150) \n",
      "Epoch: [35][0/19] Elapsed 0m 0s (remain 0m 2s) Loss: 0.0898(0.0898) Grad: 3.2675  LR: 0.000050  \n",
      "Epoch: [35][10/19] Elapsed 0m 1s (remain 0m 1s) Loss: 0.0914(0.0892) Grad: 3.6721  LR: 0.000050  \n",
      "Epoch: [35][18/19] Elapsed 0m 2s (remain 0m 0s) Loss: 0.0825(0.0906) Grad: 2.4990  LR: 0.000050  \n",
      "EVAL: [0/3] Elapsed 0m 0s (remain 0m 0s) Loss: 0.3450(0.3450) \n"
     ]
    },
    {
     "name": "stderr",
     "output_type": "stream",
     "text": [
      "Epoch 35 - avg_train_loss: 0.0906  avg_val_loss: 0.3096  time: 3s\n",
      "Epoch 35 - Score: 0.3113\n",
      "Epoch 35 - Save Best Score: 0.3113 Model\n"
     ]
    },
    {
     "name": "stdout",
     "output_type": "stream",
     "text": [
      "EVAL: [2/3] Elapsed 0m 0s (remain 0m 0s) Loss: 0.2606(0.3096) \n",
      "Epoch: [36][0/19] Elapsed 0m 0s (remain 0m 2s) Loss: 0.0857(0.0857) Grad: 5.2787  LR: 0.000224  \n",
      "Epoch: [36][10/19] Elapsed 0m 1s (remain 0m 1s) Loss: 0.0952(0.1053) Grad: 8.1515  LR: 0.000224  \n",
      "Epoch: [36][18/19] Elapsed 0m 2s (remain 0m 0s) Loss: 0.1300(0.1044) Grad: 12.3512  LR: 0.000224  \n",
      "EVAL: [0/3] Elapsed 0m 0s (remain 0m 0s) Loss: 0.3693(0.3693) \n"
     ]
    },
    {
     "name": "stderr",
     "output_type": "stream",
     "text": [
      "Epoch 36 - avg_train_loss: 0.1044  avg_val_loss: 0.3264  time: 3s\n",
      "Epoch 36 - Score: 0.3286\n"
     ]
    },
    {
     "name": "stdout",
     "output_type": "stream",
     "text": [
      "EVAL: [2/3] Elapsed 0m 0s (remain 0m 0s) Loss: 0.2714(0.3264) \n",
      "Epoch: [37][0/19] Elapsed 0m 0s (remain 0m 2s) Loss: 0.1052(0.1052) Grad: 13.5645  LR: 0.000133  \n",
      "Epoch: [37][10/19] Elapsed 0m 1s (remain 0m 1s) Loss: 0.2099(0.1519) Grad: 18.3320  LR: 0.000133  \n",
      "Epoch: [37][18/19] Elapsed 0m 2s (remain 0m 0s) Loss: 0.1711(0.1409) Grad: 4.5137  LR: 0.000133  \n",
      "EVAL: [0/3] Elapsed 0m 0s (remain 0m 0s) Loss: 0.3507(0.3507) \n"
     ]
    },
    {
     "name": "stderr",
     "output_type": "stream",
     "text": [
      "Epoch 37 - avg_train_loss: 0.1409  avg_val_loss: 0.3214  time: 3s\n",
      "Epoch 37 - Score: 0.3225\n"
     ]
    },
    {
     "name": "stdout",
     "output_type": "stream",
     "text": [
      "EVAL: [2/3] Elapsed 0m 0s (remain 0m 0s) Loss: 0.3182(0.3214) \n",
      "Epoch: [38][0/19] Elapsed 0m 0s (remain 0m 2s) Loss: 0.1599(0.1599) Grad: 11.7591  LR: 0.000057  \n",
      "Epoch: [38][10/19] Elapsed 0m 1s (remain 0m 1s) Loss: 0.2335(0.1484) Grad: 17.2158  LR: 0.000057  \n",
      "Epoch: [38][18/19] Elapsed 0m 2s (remain 0m 0s) Loss: 0.1438(0.1748) Grad: 14.9681  LR: 0.000057  \n",
      "EVAL: [0/3] Elapsed 0m 0s (remain 0m 0s) Loss: 0.3744(0.3744) \n"
     ]
    },
    {
     "name": "stderr",
     "output_type": "stream",
     "text": [
      "Epoch 38 - avg_train_loss: 0.1748  avg_val_loss: 0.3323  time: 4s\n",
      "Epoch 38 - Score: 0.3344\n"
     ]
    },
    {
     "name": "stdout",
     "output_type": "stream",
     "text": [
      "EVAL: [2/3] Elapsed 0m 0s (remain 0m 0s) Loss: 0.2783(0.3323) \n",
      "Epoch: [39][0/19] Elapsed 0m 0s (remain 0m 2s) Loss: 0.1035(0.1035) Grad: 16.3292  LR: 0.000009  \n",
      "Epoch: [39][10/19] Elapsed 0m 1s (remain 0m 1s) Loss: 0.1098(0.1264) Grad: 15.2808  LR: 0.000009  \n",
      "Epoch: [39][18/19] Elapsed 0m 2s (remain 0m 0s) Loss: 0.1520(0.1208) Grad: 7.3391  LR: 0.000009  \n",
      "EVAL: [0/3] Elapsed 0m 0s (remain 0m 0s) Loss: 0.3758(0.3758) \n"
     ]
    },
    {
     "name": "stderr",
     "output_type": "stream",
     "text": [
      "Epoch 39 - avg_train_loss: 0.1208  avg_val_loss: 0.3283  time: 3s\n",
      "Epoch 39 - Score: 0.3313\n"
     ]
    },
    {
     "name": "stdout",
     "output_type": "stream",
     "text": [
      "EVAL: [2/3] Elapsed 0m 0s (remain 0m 0s) Loss: 0.2545(0.3283) \n",
      "Epoch: [40][0/19] Elapsed 0m 0s (remain 0m 2s) Loss: 0.1077(0.1077) Grad: 14.3527  LR: 0.000001  \n",
      "Epoch: [40][10/19] Elapsed 0m 1s (remain 0m 1s) Loss: 0.1010(0.1040) Grad: 5.7357  LR: 0.000001  \n",
      "Epoch: [40][18/19] Elapsed 0m 2s (remain 0m 0s) Loss: 0.0976(0.0975) Grad: 7.4297  LR: 0.000001  \n",
      "EVAL: [0/3] Elapsed 0m 0s (remain 0m 0s) Loss: 0.3443(0.3443) \n"
     ]
    },
    {
     "name": "stderr",
     "output_type": "stream",
     "text": [
      "Epoch 40 - avg_train_loss: 0.0975  avg_val_loss: 0.2995  time: 3s\n",
      "Epoch 40 - Score: 0.3020\n",
      "Epoch 40 - Save Best Score: 0.3020 Model\n"
     ]
    },
    {
     "name": "stdout",
     "output_type": "stream",
     "text": [
      "EVAL: [2/3] Elapsed 0m 0s (remain 0m 0s) Loss: 0.2849(0.2995) \n"
     ]
    },
    {
     "name": "stderr",
     "output_type": "stream",
     "text": [
      "========== fold: 1 result ==========\n",
      "Score: 0.3020\n",
      "========== fold: 2 training ==========\n"
     ]
    },
    {
     "name": "stdout",
     "output_type": "stream",
     "text": [
      "Epoch: [1][0/19] Elapsed 0m 0s (remain 0m 2s) Loss: 3.4389(3.4389) Grad: 28.1570  LR: 0.000100  \n",
      "Epoch: [1][10/19] Elapsed 0m 1s (remain 0m 1s) Loss: 1.3252(1.7894) Grad: 60.5297  LR: 0.000100  \n",
      "Epoch: [1][18/19] Elapsed 0m 2s (remain 0m 0s) Loss: 0.7033(1.4916) Grad: 30.4445  LR: 0.000100  \n",
      "EVAL: [0/3] Elapsed 0m 0s (remain 0m 0s) Loss: 0.6439(0.6439) \n"
     ]
    },
    {
     "name": "stderr",
     "output_type": "stream",
     "text": [
      "Epoch 1 - avg_train_loss: 1.4916  avg_val_loss: 0.5883  time: 3s\n",
      "Epoch 1 - Score: 0.5968\n",
      "Epoch 1 - Save Best Score: 0.5968 Model\n"
     ]
    },
    {
     "name": "stdout",
     "output_type": "stream",
     "text": [
      "EVAL: [2/3] Elapsed 0m 0s (remain 0m 0s) Loss: 0.3676(0.5883) \n",
      "Epoch: [2][0/19] Elapsed 0m 0s (remain 0m 2s) Loss: 0.5548(0.5548) Grad: 18.6473  LR: 0.000057  \n",
      "Epoch: [2][10/19] Elapsed 0m 1s (remain 0m 1s) Loss: 0.6692(0.6147) Grad: 27.1921  LR: 0.000057  \n",
      "Epoch: [2][18/19] Elapsed 0m 2s (remain 0m 0s) Loss: 0.4279(0.5574) Grad: 19.8482  LR: 0.000057  \n",
      "EVAL: [0/3] Elapsed 0m 0s (remain 0m 0s) Loss: 0.4362(0.4362) \n"
     ]
    },
    {
     "name": "stderr",
     "output_type": "stream",
     "text": [
      "Epoch 2 - avg_train_loss: 0.5574  avg_val_loss: 0.4222  time: 4s\n",
      "Epoch 2 - Score: 0.4279\n",
      "Epoch 2 - Save Best Score: 0.4279 Model\n"
     ]
    },
    {
     "name": "stdout",
     "output_type": "stream",
     "text": [
      "EVAL: [2/3] Elapsed 0m 0s (remain 0m 0s) Loss: 0.2710(0.4222) \n",
      "Epoch: [3][0/19] Elapsed 0m 0s (remain 0m 2s) Loss: 0.4680(0.4680) Grad: 10.6372  LR: 0.000009  \n",
      "Epoch: [3][10/19] Elapsed 0m 1s (remain 0m 1s) Loss: 0.5406(0.4580) Grad: 14.9652  LR: 0.000009  \n",
      "Epoch: [3][18/19] Elapsed 0m 2s (remain 0m 0s) Loss: 0.3416(0.4284) Grad: 2.7935  LR: 0.000009  \n",
      "EVAL: [0/3] Elapsed 0m 0s (remain 0m 0s) Loss: 0.3764(0.3764) \n"
     ]
    },
    {
     "name": "stderr",
     "output_type": "stream",
     "text": [
      "Epoch 3 - avg_train_loss: 0.4284  avg_val_loss: 0.3869  time: 4s\n",
      "Epoch 3 - Score: 0.3896\n",
      "Epoch 3 - Save Best Score: 0.3896 Model\n"
     ]
    },
    {
     "name": "stdout",
     "output_type": "stream",
     "text": [
      "EVAL: [2/3] Elapsed 0m 0s (remain 0m 0s) Loss: 0.3023(0.3869) \n",
      "Epoch: [4][0/19] Elapsed 0m 0s (remain 0m 2s) Loss: 0.4304(0.4304) Grad: 18.6206  LR: 0.000001  \n",
      "Epoch: [4][10/19] Elapsed 0m 1s (remain 0m 1s) Loss: 0.3817(0.4080) Grad: 16.3363  LR: 0.000001  \n",
      "Epoch: [4][18/19] Elapsed 0m 2s (remain 0m 0s) Loss: 0.4190(0.4063) Grad: 4.8993  LR: 0.000001  \n",
      "EVAL: [0/3] Elapsed 0m 0s (remain 0m 0s) Loss: 0.3856(0.3856) \n"
     ]
    },
    {
     "name": "stderr",
     "output_type": "stream",
     "text": [
      "Epoch 4 - avg_train_loss: 0.4063  avg_val_loss: 0.3896  time: 4s\n",
      "Epoch 4 - Score: 0.3942\n"
     ]
    },
    {
     "name": "stdout",
     "output_type": "stream",
     "text": [
      "EVAL: [2/3] Elapsed 0m 0s (remain 0m 0s) Loss: 0.2694(0.3896) \n",
      "Epoch: [5][0/19] Elapsed 0m 0s (remain 0m 2s) Loss: 0.3682(0.3682) Grad: 3.0625  LR: 0.000050  \n",
      "Epoch: [5][10/19] Elapsed 0m 1s (remain 0m 1s) Loss: 0.3012(0.4307) Grad: 7.7656  LR: 0.000050  \n",
      "Epoch: [5][18/19] Elapsed 0m 2s (remain 0m 0s) Loss: 0.4007(0.4238) Grad: 20.8218  LR: 0.000050  \n",
      "EVAL: [0/3] Elapsed 0m 0s (remain 0m 0s) Loss: 0.3723(0.3723) \n"
     ]
    },
    {
     "name": "stderr",
     "output_type": "stream",
     "text": [
      "Epoch 5 - avg_train_loss: 0.4238  avg_val_loss: 0.3655  time: 4s\n",
      "Epoch 5 - Score: 0.3721\n",
      "Epoch 5 - Save Best Score: 0.3721 Model\n"
     ]
    },
    {
     "name": "stdout",
     "output_type": "stream",
     "text": [
      "EVAL: [2/3] Elapsed 0m 0s (remain 0m 0s) Loss: 0.2181(0.3655) \n",
      "Epoch: [6][0/19] Elapsed 0m 0s (remain 0m 2s) Loss: 0.3851(0.3851) Grad: 8.4510  LR: 0.000224  \n",
      "Epoch: [6][10/19] Elapsed 0m 1s (remain 0m 1s) Loss: 0.3564(0.3804) Grad: 3.5784  LR: 0.000224  \n",
      "Epoch: [6][18/19] Elapsed 0m 2s (remain 0m 0s) Loss: 0.4928(0.3887) Grad: 4.0100  LR: 0.000224  \n",
      "EVAL: [0/3] Elapsed 0m 0s (remain 0m 0s) Loss: 0.4548(0.4548) \n"
     ]
    },
    {
     "name": "stderr",
     "output_type": "stream",
     "text": [
      "Epoch 6 - avg_train_loss: 0.3887  avg_val_loss: 0.4131  time: 4s\n",
      "Epoch 6 - Score: 0.4150\n"
     ]
    },
    {
     "name": "stdout",
     "output_type": "stream",
     "text": [
      "EVAL: [2/3] Elapsed 0m 0s (remain 0m 0s) Loss: 0.3474(0.4131) \n",
      "Epoch: [7][0/19] Elapsed 0m 0s (remain 0m 2s) Loss: 0.4631(0.4631) Grad: 4.6942  LR: 0.000133  \n",
      "Epoch: [7][10/19] Elapsed 0m 1s (remain 0m 1s) Loss: 0.3667(0.3507) Grad: 21.0027  LR: 0.000133  \n",
      "Epoch: [7][18/19] Elapsed 0m 2s (remain 0m 0s) Loss: 0.5151(0.3607) Grad: 20.7255  LR: 0.000133  \n",
      "EVAL: [0/3] Elapsed 0m 0s (remain 0m 0s) Loss: 0.4716(0.4716) \n"
     ]
    },
    {
     "name": "stderr",
     "output_type": "stream",
     "text": [
      "Epoch 7 - avg_train_loss: 0.3607  avg_val_loss: 0.4886  time: 4s\n",
      "Epoch 7 - Score: 0.4888\n"
     ]
    },
    {
     "name": "stdout",
     "output_type": "stream",
     "text": [
      "EVAL: [2/3] Elapsed 0m 0s (remain 0m 0s) Loss: 0.4963(0.4886) \n",
      "Epoch: [8][0/19] Elapsed 0m 0s (remain 0m 2s) Loss: 0.4348(0.4348) Grad: 28.3436  LR: 0.000057  \n",
      "Epoch: [8][10/19] Elapsed 0m 1s (remain 0m 1s) Loss: 0.3629(0.3576) Grad: 21.5676  LR: 0.000057  \n",
      "Epoch: [8][18/19] Elapsed 0m 2s (remain 0m 0s) Loss: 0.2766(0.3360) Grad: 4.6694  LR: 0.000057  \n",
      "EVAL: [0/3] Elapsed 0m 0s (remain 0m 0s) Loss: 0.4279(0.4279) \n"
     ]
    },
    {
     "name": "stderr",
     "output_type": "stream",
     "text": [
      "Epoch 8 - avg_train_loss: 0.3360  avg_val_loss: 0.4156  time: 4s\n",
      "Epoch 8 - Score: 0.4159\n"
     ]
    },
    {
     "name": "stdout",
     "output_type": "stream",
     "text": [
      "EVAL: [2/3] Elapsed 0m 0s (remain 0m 0s) Loss: 0.3880(0.4156) \n",
      "Epoch: [9][0/19] Elapsed 0m 0s (remain 0m 2s) Loss: 0.4091(0.4091) Grad: 26.1123  LR: 0.000009  \n",
      "Epoch: [9][10/19] Elapsed 0m 1s (remain 0m 1s) Loss: 0.2355(0.2739) Grad: 6.1265  LR: 0.000009  \n",
      "Epoch: [9][18/19] Elapsed 0m 2s (remain 0m 0s) Loss: 0.2326(0.2750) Grad: 4.9536  LR: 0.000009  \n",
      "EVAL: [0/3] Elapsed 0m 0s (remain 0m 0s) Loss: 0.3054(0.3054) \n"
     ]
    },
    {
     "name": "stderr",
     "output_type": "stream",
     "text": [
      "Epoch 9 - avg_train_loss: 0.2750  avg_val_loss: 0.3313  time: 3s\n",
      "Epoch 9 - Score: 0.3332\n",
      "Epoch 9 - Save Best Score: 0.3332 Model\n"
     ]
    },
    {
     "name": "stdout",
     "output_type": "stream",
     "text": [
      "EVAL: [2/3] Elapsed 0m 0s (remain 0m 0s) Loss: 0.2899(0.3313) \n",
      "Epoch: [10][0/19] Elapsed 0m 0s (remain 0m 2s) Loss: 0.3112(0.3112) Grad: 19.8433  LR: 0.000001  \n",
      "Epoch: [10][10/19] Elapsed 0m 1s (remain 0m 1s) Loss: 0.2491(0.2555) Grad: 3.7717  LR: 0.000001  \n",
      "Epoch: [10][18/19] Elapsed 0m 2s (remain 0m 0s) Loss: 0.2130(0.2409) Grad: 6.7778  LR: 0.000001  \n",
      "EVAL: [0/3] Elapsed 0m 0s (remain 0m 0s) Loss: 0.3238(0.3238) \n"
     ]
    },
    {
     "name": "stderr",
     "output_type": "stream",
     "text": [
      "Epoch 10 - avg_train_loss: 0.2409  avg_val_loss: 0.3188  time: 3s\n",
      "Epoch 10 - Score: 0.3240\n",
      "Epoch 10 - Save Best Score: 0.3240 Model\n"
     ]
    },
    {
     "name": "stdout",
     "output_type": "stream",
     "text": [
      "EVAL: [2/3] Elapsed 0m 0s (remain 0m 0s) Loss: 0.1966(0.3188) \n",
      "Epoch: [11][0/19] Elapsed 0m 0s (remain 0m 2s) Loss: 0.2845(0.2845) Grad: 5.9265  LR: 0.000050  \n",
      "Epoch: [11][10/19] Elapsed 0m 1s (remain 0m 1s) Loss: 0.2722(0.2697) Grad: 22.5048  LR: 0.000050  \n",
      "Epoch: [11][18/19] Elapsed 0m 2s (remain 0m 0s) Loss: 0.2474(0.2500) Grad: 17.6633  LR: 0.000050  \n",
      "EVAL: [0/3] Elapsed 0m 0s (remain 0m 0s) Loss: 0.3061(0.3061) \n"
     ]
    },
    {
     "name": "stderr",
     "output_type": "stream",
     "text": [
      "Epoch 11 - avg_train_loss: 0.2500  avg_val_loss: 0.3017  time: 3s\n",
      "Epoch 11 - Score: 0.3060\n",
      "Epoch 11 - Save Best Score: 0.3060 Model\n"
     ]
    },
    {
     "name": "stdout",
     "output_type": "stream",
     "text": [
      "EVAL: [2/3] Elapsed 0m 0s (remain 0m 0s) Loss: 0.1935(0.3017) \n",
      "Epoch: [12][0/19] Elapsed 0m 0s (remain 0m 2s) Loss: 0.1828(0.1828) Grad: 19.8987  LR: 0.000224  \n",
      "Epoch: [12][10/19] Elapsed 0m 1s (remain 0m 1s) Loss: 0.3913(0.3030) Grad: 16.0390  LR: 0.000224  \n",
      "Epoch: [12][18/19] Elapsed 0m 2s (remain 0m 0s) Loss: 0.2377(0.2892) Grad: 5.6169  LR: 0.000224  \n",
      "EVAL: [0/3] Elapsed 0m 0s (remain 0m 0s) Loss: 0.3381(0.3381) \n"
     ]
    },
    {
     "name": "stderr",
     "output_type": "stream",
     "text": [
      "Epoch 12 - avg_train_loss: 0.2892  avg_val_loss: 0.3241  time: 3s\n",
      "Epoch 12 - Score: 0.3288\n"
     ]
    },
    {
     "name": "stdout",
     "output_type": "stream",
     "text": [
      "EVAL: [2/3] Elapsed 0m 0s (remain 0m 0s) Loss: 0.2030(0.3241) \n",
      "Epoch: [13][0/19] Elapsed 0m 0s (remain 0m 2s) Loss: 0.2296(0.2296) Grad: 9.6909  LR: 0.000133  \n",
      "Epoch: [13][10/19] Elapsed 0m 1s (remain 0m 1s) Loss: 0.2360(0.2407) Grad: 3.9365  LR: 0.000133  \n",
      "Epoch: [13][18/19] Elapsed 0m 2s (remain 0m 0s) Loss: 0.4028(0.2673) Grad: 32.8890  LR: 0.000133  \n",
      "EVAL: [0/3] Elapsed 0m 0s (remain 0m 0s) Loss: 0.3470(0.3470) \n"
     ]
    },
    {
     "name": "stderr",
     "output_type": "stream",
     "text": [
      "Epoch 13 - avg_train_loss: 0.2673  avg_val_loss: 0.3463  time: 4s\n",
      "Epoch 13 - Score: 0.3479\n"
     ]
    },
    {
     "name": "stdout",
     "output_type": "stream",
     "text": [
      "EVAL: [2/3] Elapsed 0m 0s (remain 0m 0s) Loss: 0.2769(0.3463) \n",
      "Epoch: [14][0/19] Elapsed 0m 0s (remain 0m 2s) Loss: 0.3365(0.3365) Grad: 26.8292  LR: 0.000057  \n",
      "Epoch: [14][10/19] Elapsed 0m 1s (remain 0m 1s) Loss: 0.3888(0.3158) Grad: 28.9119  LR: 0.000057  \n",
      "Epoch: [14][18/19] Elapsed 0m 2s (remain 0m 0s) Loss: 0.2720(0.2977) Grad: 21.6815  LR: 0.000057  \n",
      "EVAL: [0/3] Elapsed 0m 0s (remain 0m 0s) Loss: 0.3886(0.3886) \n"
     ]
    },
    {
     "name": "stderr",
     "output_type": "stream",
     "text": [
      "Epoch 14 - avg_train_loss: 0.2977  avg_val_loss: 0.3549  time: 4s\n",
      "Epoch 14 - Score: 0.3573\n"
     ]
    },
    {
     "name": "stdout",
     "output_type": "stream",
     "text": [
      "EVAL: [2/3] Elapsed 0m 0s (remain 0m 0s) Loss: 0.2674(0.3549) \n",
      "Epoch: [15][0/19] Elapsed 0m 0s (remain 0m 2s) Loss: 0.3191(0.3191) Grad: 25.8137  LR: 0.000009  \n",
      "Epoch: [15][10/19] Elapsed 0m 1s (remain 0m 1s) Loss: 0.1487(0.2120) Grad: 6.1325  LR: 0.000009  \n",
      "Epoch: [15][18/19] Elapsed 0m 2s (remain 0m 0s) Loss: 0.2004(0.2007) Grad: 13.2057  LR: 0.000009  \n",
      "EVAL: [0/3] Elapsed 0m 0s (remain 0m 0s) Loss: 0.3141(0.3141) \n"
     ]
    },
    {
     "name": "stderr",
     "output_type": "stream",
     "text": [
      "Epoch 15 - avg_train_loss: 0.2007  avg_val_loss: 0.3065  time: 3s\n",
      "Epoch 15 - Score: 0.3097\n"
     ]
    },
    {
     "name": "stdout",
     "output_type": "stream",
     "text": [
      "EVAL: [2/3] Elapsed 0m 0s (remain 0m 0s) Loss: 0.2106(0.3065) \n",
      "Epoch: [16][0/19] Elapsed 0m 0s (remain 0m 2s) Loss: 0.1763(0.1763) Grad: 15.6169  LR: 0.000001  \n",
      "Epoch: [16][10/19] Elapsed 0m 1s (remain 0m 1s) Loss: 0.1412(0.1696) Grad: 4.4802  LR: 0.000001  \n",
      "Epoch: [16][18/19] Elapsed 0m 2s (remain 0m 0s) Loss: 0.1432(0.1690) Grad: 4.4628  LR: 0.000001  \n",
      "EVAL: [0/3] Elapsed 0m 0s (remain 0m 0s) Loss: 0.3037(0.3037) \n"
     ]
    },
    {
     "name": "stderr",
     "output_type": "stream",
     "text": [
      "Epoch 16 - avg_train_loss: 0.1690  avg_val_loss: 0.2971  time: 3s\n",
      "Epoch 16 - Score: 0.3018\n",
      "Epoch 16 - Save Best Score: 0.3018 Model\n"
     ]
    },
    {
     "name": "stdout",
     "output_type": "stream",
     "text": [
      "EVAL: [2/3] Elapsed 0m 0s (remain 0m 0s) Loss: 0.1842(0.2971) \n",
      "Epoch: [17][0/19] Elapsed 0m 0s (remain 0m 2s) Loss: 0.1318(0.1318) Grad: 9.0990  LR: 0.000050  \n",
      "Epoch: [17][10/19] Elapsed 0m 1s (remain 0m 1s) Loss: 0.1955(0.1614) Grad: 3.1100  LR: 0.000050  \n",
      "Epoch: [17][18/19] Elapsed 0m 2s (remain 0m 0s) Loss: 0.1304(0.1577) Grad: 5.8644  LR: 0.000050  \n",
      "EVAL: [0/3] Elapsed 0m 0s (remain 0m 0s) Loss: 0.3083(0.3083) \n"
     ]
    },
    {
     "name": "stderr",
     "output_type": "stream",
     "text": [
      "Epoch 17 - avg_train_loss: 0.1577  avg_val_loss: 0.3026  time: 3s\n",
      "Epoch 17 - Score: 0.3070\n"
     ]
    },
    {
     "name": "stdout",
     "output_type": "stream",
     "text": [
      "EVAL: [2/3] Elapsed 0m 0s (remain 0m 0s) Loss: 0.1929(0.3026) \n",
      "Epoch: [18][0/19] Elapsed 0m 0s (remain 0m 2s) Loss: 0.1319(0.1319) Grad: 5.1799  LR: 0.000224  \n",
      "Epoch: [18][10/19] Elapsed 0m 1s (remain 0m 1s) Loss: 0.2031(0.1586) Grad: 26.1773  LR: 0.000224  \n",
      "Epoch: [18][18/19] Elapsed 0m 2s (remain 0m 0s) Loss: 0.1925(0.1629) Grad: 9.4739  LR: 0.000224  \n",
      "EVAL: [0/3] Elapsed 0m 0s (remain 0m 0s) Loss: 0.3030(0.3030) \n"
     ]
    },
    {
     "name": "stderr",
     "output_type": "stream",
     "text": [
      "Epoch 18 - avg_train_loss: 0.1629  avg_val_loss: 0.3087  time: 3s\n",
      "Epoch 18 - Score: 0.3098\n"
     ]
    },
    {
     "name": "stdout",
     "output_type": "stream",
     "text": [
      "EVAL: [2/3] Elapsed 0m 0s (remain 0m 0s) Loss: 0.2593(0.3087) \n",
      "Epoch: [19][0/19] Elapsed 0m 0s (remain 0m 2s) Loss: 0.1108(0.1108) Grad: 9.8758  LR: 0.000133  \n",
      "Epoch: [19][10/19] Elapsed 0m 1s (remain 0m 1s) Loss: 0.2824(0.1810) Grad: 23.3487  LR: 0.000133  \n",
      "Epoch: [19][18/19] Elapsed 0m 2s (remain 0m 0s) Loss: 0.2191(0.2068) Grad: 6.5831  LR: 0.000133  \n",
      "EVAL: [0/3] Elapsed 0m 0s (remain 0m 0s) Loss: 0.3755(0.3755) \n"
     ]
    },
    {
     "name": "stderr",
     "output_type": "stream",
     "text": [
      "Epoch 19 - avg_train_loss: 0.2068  avg_val_loss: 0.3623  time: 4s\n",
      "Epoch 19 - Score: 0.3641\n"
     ]
    },
    {
     "name": "stdout",
     "output_type": "stream",
     "text": [
      "EVAL: [2/3] Elapsed 0m 0s (remain 0m 0s) Loss: 0.2823(0.3623) \n",
      "Epoch: [20][0/19] Elapsed 0m 0s (remain 0m 2s) Loss: 0.3030(0.3030) Grad: 29.7306  LR: 0.000057  \n",
      "Epoch: [20][10/19] Elapsed 0m 1s (remain 0m 1s) Loss: 0.2687(0.2443) Grad: 30.0447  LR: 0.000057  \n",
      "Epoch: [20][18/19] Elapsed 0m 2s (remain 0m 0s) Loss: 0.1832(0.2305) Grad: 3.9557  LR: 0.000057  \n",
      "EVAL: [0/3] Elapsed 0m 0s (remain 0m 0s) Loss: 0.3101(0.3101) \n"
     ]
    },
    {
     "name": "stderr",
     "output_type": "stream",
     "text": [
      "Epoch 20 - avg_train_loss: 0.2305  avg_val_loss: 0.2985  time: 4s\n",
      "Epoch 20 - Score: 0.3049\n"
     ]
    },
    {
     "name": "stdout",
     "output_type": "stream",
     "text": [
      "EVAL: [2/3] Elapsed 0m 0s (remain 0m 0s) Loss: 0.1645(0.2985) \n",
      "Epoch: [21][0/19] Elapsed 0m 0s (remain 0m 2s) Loss: 0.1563(0.1563) Grad: 22.1167  LR: 0.000009  \n",
      "Epoch: [21][10/19] Elapsed 0m 1s (remain 0m 1s) Loss: 0.1313(0.1532) Grad: 11.4513  LR: 0.000009  \n",
      "Epoch: [21][18/19] Elapsed 0m 2s (remain 0m 0s) Loss: 0.1581(0.1460) Grad: 7.8653  LR: 0.000009  \n",
      "EVAL: [0/3] Elapsed 0m 0s (remain 0m 0s) Loss: 0.3225(0.3225) \n"
     ]
    },
    {
     "name": "stderr",
     "output_type": "stream",
     "text": [
      "Epoch 21 - avg_train_loss: 0.1460  avg_val_loss: 0.3077  time: 4s\n",
      "Epoch 21 - Score: 0.3123\n"
     ]
    },
    {
     "name": "stdout",
     "output_type": "stream",
     "text": [
      "EVAL: [2/3] Elapsed 0m 0s (remain 0m 0s) Loss: 0.1910(0.3077) \n",
      "Epoch: [22][0/19] Elapsed 0m 0s (remain 0m 2s) Loss: 0.1508(0.1508) Grad: 6.1956  LR: 0.000001  \n",
      "Epoch: [22][10/19] Elapsed 0m 1s (remain 0m 1s) Loss: 0.1335(0.1397) Grad: 9.5656  LR: 0.000001  \n",
      "Epoch: [22][18/19] Elapsed 0m 2s (remain 0m 0s) Loss: 0.1005(0.1303) Grad: 11.6902  LR: 0.000001  \n",
      "EVAL: [0/3] Elapsed 0m 0s (remain 0m 0s) Loss: 0.2926(0.2926) \n"
     ]
    },
    {
     "name": "stderr",
     "output_type": "stream",
     "text": [
      "Epoch 22 - avg_train_loss: 0.1303  avg_val_loss: 0.2791  time: 4s\n",
      "Epoch 22 - Score: 0.2835\n",
      "Epoch 22 - Save Best Score: 0.2835 Model\n"
     ]
    },
    {
     "name": "stdout",
     "output_type": "stream",
     "text": [
      "EVAL: [2/3] Elapsed 0m 0s (remain 0m 0s) Loss: 0.1711(0.2791) \n",
      "Epoch: [23][0/19] Elapsed 0m 0s (remain 0m 2s) Loss: 0.1575(0.1575) Grad: 5.0125  LR: 0.000050  \n",
      "Epoch: [23][10/19] Elapsed 0m 1s (remain 0m 1s) Loss: 0.1280(0.1321) Grad: 18.9942  LR: 0.000050  \n",
      "Epoch: [23][18/19] Elapsed 0m 2s (remain 0m 0s) Loss: 0.1278(0.1401) Grad: 4.4606  LR: 0.000050  \n",
      "EVAL: [0/3] Elapsed 0m 0s (remain 0m 0s) Loss: 0.2891(0.2891) \n"
     ]
    },
    {
     "name": "stderr",
     "output_type": "stream",
     "text": [
      "Epoch 23 - avg_train_loss: 0.1401  avg_val_loss: 0.2867  time: 3s\n",
      "Epoch 23 - Score: 0.2927\n"
     ]
    },
    {
     "name": "stdout",
     "output_type": "stream",
     "text": [
      "EVAL: [2/3] Elapsed 0m 0s (remain 0m 0s) Loss: 0.1641(0.2867) \n",
      "Epoch: [24][0/19] Elapsed 0m 0s (remain 0m 2s) Loss: 0.1330(0.1330) Grad: 6.8055  LR: 0.000224  \n",
      "Epoch: [24][10/19] Elapsed 0m 1s (remain 0m 1s) Loss: 0.1436(0.1446) Grad: 24.2093  LR: 0.000224  \n",
      "Epoch: [24][18/19] Elapsed 0m 2s (remain 0m 0s) Loss: 0.1943(0.1632) Grad: 17.6299  LR: 0.000224  \n",
      "EVAL: [0/3] Elapsed 0m 0s (remain 0m 0s) Loss: 0.3340(0.3340) \n"
     ]
    },
    {
     "name": "stderr",
     "output_type": "stream",
     "text": [
      "Epoch 24 - avg_train_loss: 0.1632  avg_val_loss: 0.3147  time: 3s\n",
      "Epoch 24 - Score: 0.3170\n"
     ]
    },
    {
     "name": "stdout",
     "output_type": "stream",
     "text": [
      "EVAL: [2/3] Elapsed 0m 0s (remain 0m 0s) Loss: 0.2311(0.3147) \n",
      "Epoch: [25][0/19] Elapsed 0m 0s (remain 0m 2s) Loss: 0.1942(0.1942) Grad: 16.4064  LR: 0.000133  \n",
      "Epoch: [25][10/19] Elapsed 0m 1s (remain 0m 1s) Loss: 0.2338(0.2259) Grad: 25.1771  LR: 0.000133  \n",
      "Epoch: [25][18/19] Elapsed 0m 2s (remain 0m 0s) Loss: 0.1909(0.2177) Grad: 14.2647  LR: 0.000133  \n",
      "EVAL: [0/3] Elapsed 0m 0s (remain 0m 0s) Loss: 0.2892(0.2892) \n"
     ]
    },
    {
     "name": "stderr",
     "output_type": "stream",
     "text": [
      "Epoch 25 - avg_train_loss: 0.2177  avg_val_loss: 0.2930  time: 4s\n",
      "Epoch 25 - Score: 0.2982\n"
     ]
    },
    {
     "name": "stdout",
     "output_type": "stream",
     "text": [
      "EVAL: [2/3] Elapsed 0m 0s (remain 0m 0s) Loss: 0.1829(0.2930) \n",
      "Epoch: [26][0/19] Elapsed 0m 0s (remain 0m 2s) Loss: 0.1743(0.1743) Grad: 10.8378  LR: 0.000057  \n",
      "Epoch: [26][10/19] Elapsed 0m 1s (remain 0m 1s) Loss: 0.1848(0.1856) Grad: 19.4873  LR: 0.000057  \n",
      "Epoch: [26][18/19] Elapsed 0m 2s (remain 0m 0s) Loss: 0.1651(0.1795) Grad: 14.5941  LR: 0.000057  \n",
      "EVAL: [0/3] Elapsed 0m 0s (remain 0m 0s) Loss: 0.3226(0.3226) \n"
     ]
    },
    {
     "name": "stderr",
     "output_type": "stream",
     "text": [
      "Epoch 26 - avg_train_loss: 0.1795  avg_val_loss: 0.3162  time: 3s\n",
      "Epoch 26 - Score: 0.3221\n"
     ]
    },
    {
     "name": "stdout",
     "output_type": "stream",
     "text": [
      "EVAL: [2/3] Elapsed 0m 0s (remain 0m 0s) Loss: 0.1867(0.3162) \n",
      "Epoch: [27][0/19] Elapsed 0m 0s (remain 0m 2s) Loss: 0.1806(0.1806) Grad: 21.5903  LR: 0.000009  \n",
      "Epoch: [27][10/19] Elapsed 0m 1s (remain 0m 1s) Loss: 0.1321(0.1541) Grad: 16.6846  LR: 0.000009  \n",
      "Epoch: [27][18/19] Elapsed 0m 2s (remain 0m 0s) Loss: 0.1661(0.1530) Grad: 13.7828  LR: 0.000009  \n",
      "EVAL: [0/3] Elapsed 0m 0s (remain 0m 0s) Loss: 0.2815(0.2815) \n"
     ]
    },
    {
     "name": "stderr",
     "output_type": "stream",
     "text": [
      "Epoch 27 - avg_train_loss: 0.1530  avg_val_loss: 0.2832  time: 3s\n",
      "Epoch 27 - Score: 0.2874\n"
     ]
    },
    {
     "name": "stdout",
     "output_type": "stream",
     "text": [
      "EVAL: [2/3] Elapsed 0m 0s (remain 0m 0s) Loss: 0.1840(0.2832) \n",
      "Epoch: [28][0/19] Elapsed 0m 0s (remain 0m 2s) Loss: 0.1304(0.1304) Grad: 8.0060  LR: 0.000001  \n",
      "Epoch: [28][10/19] Elapsed 0m 1s (remain 0m 1s) Loss: 0.1123(0.1187) Grad: 4.3115  LR: 0.000001  \n",
      "Epoch: [28][18/19] Elapsed 0m 2s (remain 0m 0s) Loss: 0.0948(0.1178) Grad: 7.6388  LR: 0.000001  \n",
      "EVAL: [0/3] Elapsed 0m 0s (remain 0m 0s) Loss: 0.2733(0.2733) \n"
     ]
    },
    {
     "name": "stderr",
     "output_type": "stream",
     "text": [
      "Epoch 28 - avg_train_loss: 0.1178  avg_val_loss: 0.2754  time: 4s\n",
      "Epoch 28 - Score: 0.2818\n",
      "Epoch 28 - Save Best Score: 0.2818 Model\n"
     ]
    },
    {
     "name": "stdout",
     "output_type": "stream",
     "text": [
      "EVAL: [2/3] Elapsed 0m 0s (remain 0m 0s) Loss: 0.1550(0.2754) \n",
      "Epoch: [29][0/19] Elapsed 0m 0s (remain 0m 2s) Loss: 0.1283(0.1283) Grad: 3.2956  LR: 0.000050  \n",
      "Epoch: [29][10/19] Elapsed 0m 1s (remain 0m 1s) Loss: 0.1032(0.1338) Grad: 16.3278  LR: 0.000050  \n",
      "Epoch: [29][18/19] Elapsed 0m 2s (remain 0m 0s) Loss: 0.1039(0.1312) Grad: 23.0820  LR: 0.000050  \n",
      "EVAL: [0/3] Elapsed 0m 0s (remain 0m 0s) Loss: 0.2874(0.2874) \n"
     ]
    },
    {
     "name": "stderr",
     "output_type": "stream",
     "text": [
      "Epoch 29 - avg_train_loss: 0.1312  avg_val_loss: 0.2842  time: 3s\n",
      "Epoch 29 - Score: 0.2863\n"
     ]
    },
    {
     "name": "stdout",
     "output_type": "stream",
     "text": [
      "EVAL: [2/3] Elapsed 0m 0s (remain 0m 0s) Loss: 0.2097(0.2842) \n",
      "Epoch: [30][0/19] Elapsed 0m 0s (remain 0m 2s) Loss: 0.1076(0.1076) Grad: 9.2353  LR: 0.000224  \n",
      "Epoch: [30][10/19] Elapsed 0m 1s (remain 0m 1s) Loss: 0.1261(0.1363) Grad: 18.1233  LR: 0.000224  \n",
      "Epoch: [30][18/19] Elapsed 0m 2s (remain 0m 0s) Loss: 0.1259(0.1363) Grad: 3.6906  LR: 0.000224  \n",
      "EVAL: [0/3] Elapsed 0m 0s (remain 0m 0s) Loss: 0.2978(0.2978) \n"
     ]
    },
    {
     "name": "stderr",
     "output_type": "stream",
     "text": [
      "Epoch 30 - avg_train_loss: 0.1363  avg_val_loss: 0.2842  time: 4s\n",
      "Epoch 30 - Score: 0.2896\n"
     ]
    },
    {
     "name": "stdout",
     "output_type": "stream",
     "text": [
      "EVAL: [2/3] Elapsed 0m 0s (remain 0m 0s) Loss: 0.1634(0.2842) \n",
      "Epoch: [31][0/19] Elapsed 0m 0s (remain 0m 2s) Loss: 0.1536(0.1536) Grad: 6.8200  LR: 0.000133  \n",
      "Epoch: [31][10/19] Elapsed 0m 1s (remain 0m 1s) Loss: 0.4539(0.2448) Grad: 27.4681  LR: 0.000133  \n",
      "Epoch: [31][18/19] Elapsed 0m 2s (remain 0m 0s) Loss: 0.2050(0.2741) Grad: 24.0418  LR: 0.000133  \n",
      "EVAL: [0/3] Elapsed 0m 0s (remain 0m 0s) Loss: 0.3943(0.3943) \n"
     ]
    },
    {
     "name": "stderr",
     "output_type": "stream",
     "text": [
      "Epoch 31 - avg_train_loss: 0.2741  avg_val_loss: 0.3913  time: 3s\n",
      "Epoch 31 - Score: 0.3914\n"
     ]
    },
    {
     "name": "stdout",
     "output_type": "stream",
     "text": [
      "EVAL: [2/3] Elapsed 0m 0s (remain 0m 0s) Loss: 0.3796(0.3913) \n",
      "Epoch: [32][0/19] Elapsed 0m 0s (remain 0m 2s) Loss: 0.3146(0.3146) Grad: 29.6448  LR: 0.000057  \n",
      "Epoch: [32][10/19] Elapsed 0m 1s (remain 0m 1s) Loss: 0.1378(0.2014) Grad: 10.4336  LR: 0.000057  \n",
      "Epoch: [32][18/19] Elapsed 0m 2s (remain 0m 0s) Loss: 0.1782(0.1871) Grad: 17.3517  LR: 0.000057  \n",
      "EVAL: [0/3] Elapsed 0m 0s (remain 0m 0s) Loss: 0.3034(0.3034) \n"
     ]
    },
    {
     "name": "stderr",
     "output_type": "stream",
     "text": [
      "Epoch 32 - avg_train_loss: 0.1871  avg_val_loss: 0.3004  time: 4s\n",
      "Epoch 32 - Score: 0.3022\n"
     ]
    },
    {
     "name": "stdout",
     "output_type": "stream",
     "text": [
      "EVAL: [2/3] Elapsed 0m 0s (remain 0m 0s) Loss: 0.2306(0.3004) \n",
      "Epoch: [33][0/19] Elapsed 0m 0s (remain 0m 2s) Loss: 0.1417(0.1417) Grad: 4.1177  LR: 0.000009  \n",
      "Epoch: [33][10/19] Elapsed 0m 1s (remain 0m 1s) Loss: 0.1772(0.1418) Grad: 11.4896  LR: 0.000009  \n",
      "Epoch: [33][18/19] Elapsed 0m 2s (remain 0m 0s) Loss: 0.1820(0.1335) Grad: 12.1449  LR: 0.000009  \n",
      "EVAL: [0/3] Elapsed 0m 0s (remain 0m 0s) Loss: 0.3002(0.3002) \n"
     ]
    },
    {
     "name": "stderr",
     "output_type": "stream",
     "text": [
      "Epoch 33 - avg_train_loss: 0.1335  avg_val_loss: 0.3029  time: 4s\n",
      "Epoch 33 - Score: 0.3094\n"
     ]
    },
    {
     "name": "stdout",
     "output_type": "stream",
     "text": [
      "EVAL: [2/3] Elapsed 0m 0s (remain 0m 0s) Loss: 0.1760(0.3029) \n",
      "Epoch: [34][0/19] Elapsed 0m 0s (remain 0m 2s) Loss: 0.1714(0.1714) Grad: 21.3588  LR: 0.000001  \n",
      "Epoch: [34][10/19] Elapsed 0m 1s (remain 0m 1s) Loss: 0.0933(0.1118) Grad: 6.6480  LR: 0.000001  \n",
      "Epoch: [34][18/19] Elapsed 0m 2s (remain 0m 0s) Loss: 0.0897(0.1102) Grad: 3.8676  LR: 0.000001  \n",
      "EVAL: [0/3] Elapsed 0m 0s (remain 0m 0s) Loss: 0.2938(0.2938) \n"
     ]
    },
    {
     "name": "stderr",
     "output_type": "stream",
     "text": [
      "Epoch 34 - avg_train_loss: 0.1102  avg_val_loss: 0.2876  time: 4s\n",
      "Epoch 34 - Score: 0.2920\n"
     ]
    },
    {
     "name": "stdout",
     "output_type": "stream",
     "text": [
      "EVAL: [2/3] Elapsed 0m 0s (remain 0m 0s) Loss: 0.1796(0.2876) \n",
      "Epoch: [35][0/19] Elapsed 0m 0s (remain 0m 2s) Loss: 0.1345(0.1345) Grad: 5.1892  LR: 0.000050  \n",
      "Epoch: [35][10/19] Elapsed 0m 1s (remain 0m 1s) Loss: 0.0871(0.1057) Grad: 4.8369  LR: 0.000050  \n",
      "Epoch: [35][18/19] Elapsed 0m 2s (remain 0m 0s) Loss: 0.1019(0.1080) Grad: 3.9437  LR: 0.000050  \n",
      "EVAL: [0/3] Elapsed 0m 0s (remain 0m 0s) Loss: 0.2993(0.2993) \n"
     ]
    },
    {
     "name": "stderr",
     "output_type": "stream",
     "text": [
      "Epoch 35 - avg_train_loss: 0.1080  avg_val_loss: 0.2843  time: 3s\n",
      "Epoch 35 - Score: 0.2923\n"
     ]
    },
    {
     "name": "stdout",
     "output_type": "stream",
     "text": [
      "EVAL: [2/3] Elapsed 0m 0s (remain 0m 0s) Loss: 0.1369(0.2843) \n",
      "Epoch: [36][0/19] Elapsed 0m 0s (remain 0m 2s) Loss: 0.0808(0.0808) Grad: 4.2778  LR: 0.000224  \n",
      "Epoch: [36][10/19] Elapsed 0m 1s (remain 0m 1s) Loss: 0.1553(0.1250) Grad: 23.9620  LR: 0.000224  \n",
      "Epoch: [36][18/19] Elapsed 0m 2s (remain 0m 0s) Loss: 0.1169(0.1174) Grad: 7.8529  LR: 0.000224  \n",
      "EVAL: [0/3] Elapsed 0m 0s (remain 0m 0s) Loss: 0.2582(0.2582) \n"
     ]
    },
    {
     "name": "stderr",
     "output_type": "stream",
     "text": [
      "Epoch 36 - avg_train_loss: 0.1174  avg_val_loss: 0.2815  time: 4s\n",
      "Epoch 36 - Score: 0.2890\n"
     ]
    },
    {
     "name": "stdout",
     "output_type": "stream",
     "text": [
      "EVAL: [2/3] Elapsed 0m 0s (remain 0m 0s) Loss: 0.1708(0.2815) \n",
      "Epoch: [37][0/19] Elapsed 0m 0s (remain 0m 2s) Loss: 0.1235(0.1235) Grad: 6.5238  LR: 0.000133  \n",
      "Epoch: [37][10/19] Elapsed 0m 1s (remain 0m 1s) Loss: 0.1335(0.1324) Grad: 5.6359  LR: 0.000133  \n",
      "Epoch: [37][18/19] Elapsed 0m 2s (remain 0m 0s) Loss: 0.1200(0.1265) Grad: 8.6039  LR: 0.000133  \n",
      "EVAL: [0/3] Elapsed 0m 0s (remain 0m 0s) Loss: 0.2815(0.2815) \n"
     ]
    },
    {
     "name": "stderr",
     "output_type": "stream",
     "text": [
      "Epoch 37 - avg_train_loss: 0.1265  avg_val_loss: 0.2943  time: 3s\n",
      "Epoch 37 - Score: 0.3022\n"
     ]
    },
    {
     "name": "stdout",
     "output_type": "stream",
     "text": [
      "EVAL: [2/3] Elapsed 0m 0s (remain 0m 0s) Loss: 0.1642(0.2943) \n",
      "Epoch: [38][0/19] Elapsed 0m 0s (remain 0m 2s) Loss: 0.1446(0.1446) Grad: 4.5152  LR: 0.000057  \n",
      "Epoch: [38][10/19] Elapsed 0m 1s (remain 0m 1s) Loss: 0.1642(0.1367) Grad: 15.9843  LR: 0.000057  \n",
      "Epoch: [38][18/19] Elapsed 0m 2s (remain 0m 0s) Loss: 0.1256(0.1375) Grad: 15.3657  LR: 0.000057  \n",
      "EVAL: [0/3] Elapsed 0m 0s (remain 0m 0s) Loss: 0.2968(0.2968) \n"
     ]
    },
    {
     "name": "stderr",
     "output_type": "stream",
     "text": [
      "Epoch 38 - avg_train_loss: 0.1375  avg_val_loss: 0.2872  time: 3s\n",
      "Epoch 38 - Score: 0.2937\n"
     ]
    },
    {
     "name": "stdout",
     "output_type": "stream",
     "text": [
      "EVAL: [2/3] Elapsed 0m 0s (remain 0m 0s) Loss: 0.1552(0.2872) \n",
      "Epoch: [39][0/19] Elapsed 0m 0s (remain 0m 2s) Loss: 0.1151(0.1151) Grad: 14.6739  LR: 0.000009  \n",
      "Epoch: [39][10/19] Elapsed 0m 1s (remain 0m 1s) Loss: 0.1223(0.1043) Grad: 10.1385  LR: 0.000009  \n",
      "Epoch: [39][18/19] Elapsed 0m 2s (remain 0m 0s) Loss: 0.1124(0.1059) Grad: 10.6180  LR: 0.000009  \n",
      "EVAL: [0/3] Elapsed 0m 0s (remain 0m 0s) Loss: 0.2756(0.2756) \n"
     ]
    },
    {
     "name": "stderr",
     "output_type": "stream",
     "text": [
      "Epoch 39 - avg_train_loss: 0.1059  avg_val_loss: 0.2682  time: 3s\n",
      "Epoch 39 - Score: 0.2749\n",
      "Epoch 39 - Save Best Score: 0.2749 Model\n"
     ]
    },
    {
     "name": "stdout",
     "output_type": "stream",
     "text": [
      "EVAL: [2/3] Elapsed 0m 0s (remain 0m 0s) Loss: 0.1394(0.2682) \n",
      "Epoch: [40][0/19] Elapsed 0m 0s (remain 0m 2s) Loss: 0.1210(0.1210) Grad: 16.1412  LR: 0.000001  \n",
      "Epoch: [40][10/19] Elapsed 0m 1s (remain 0m 1s) Loss: 0.0972(0.0908) Grad: 5.0442  LR: 0.000001  \n",
      "Epoch: [40][18/19] Elapsed 0m 2s (remain 0m 0s) Loss: 0.0868(0.0885) Grad: 3.3998  LR: 0.000001  \n",
      "EVAL: [0/3] Elapsed 0m 0s (remain 0m 0s) Loss: 0.2630(0.2630) \n"
     ]
    },
    {
     "name": "stderr",
     "output_type": "stream",
     "text": [
      "Epoch 40 - avg_train_loss: 0.0885  avg_val_loss: 0.2598  time: 3s\n",
      "Epoch 40 - Score: 0.2665\n",
      "Epoch 40 - Save Best Score: 0.2665 Model\n"
     ]
    },
    {
     "name": "stdout",
     "output_type": "stream",
     "text": [
      "EVAL: [2/3] Elapsed 0m 0s (remain 0m 0s) Loss: 0.1362(0.2598) \n"
     ]
    },
    {
     "name": "stderr",
     "output_type": "stream",
     "text": [
      "========== fold: 2 result ==========\n",
      "Score: 0.2665\n",
      "========== fold: 3 training ==========\n"
     ]
    },
    {
     "name": "stdout",
     "output_type": "stream",
     "text": [
      "Epoch: [1][0/19] Elapsed 0m 0s (remain 0m 2s) Loss: 3.5022(3.5022) Grad: 26.3037  LR: 0.000100  \n",
      "Epoch: [1][10/19] Elapsed 0m 1s (remain 0m 1s) Loss: 0.8251(1.5521) Grad: 20.7885  LR: 0.000100  \n",
      "Epoch: [1][18/19] Elapsed 0m 2s (remain 0m 0s) Loss: 0.5661(1.1375) Grad: 13.3407  LR: 0.000100  \n",
      "EVAL: [0/3] Elapsed 0m 0s (remain 0m 0s) Loss: 0.6752(0.6752) \n"
     ]
    },
    {
     "name": "stderr",
     "output_type": "stream",
     "text": [
      "Epoch 1 - avg_train_loss: 1.1375  avg_val_loss: 0.5725  time: 3s\n",
      "Epoch 1 - Score: 0.5791\n",
      "Epoch 1 - Save Best Score: 0.5791 Model\n"
     ]
    },
    {
     "name": "stdout",
     "output_type": "stream",
     "text": [
      "EVAL: [2/3] Elapsed 0m 0s (remain 0m 0s) Loss: 0.5207(0.5725) \n",
      "Epoch: [2][0/19] Elapsed 0m 0s (remain 0m 2s) Loss: 0.4562(0.4562) Grad: 18.5123  LR: 0.000057  \n",
      "Epoch: [2][10/19] Elapsed 0m 1s (remain 0m 1s) Loss: 0.3971(0.4558) Grad: 4.0334  LR: 0.000057  \n",
      "Epoch: [2][18/19] Elapsed 0m 2s (remain 0m 0s) Loss: 0.4622(0.4735) Grad: 12.0717  LR: 0.000057  \n",
      "EVAL: [0/3] Elapsed 0m 0s (remain 0m 0s) Loss: 0.3778(0.3778) \n"
     ]
    },
    {
     "name": "stderr",
     "output_type": "stream",
     "text": [
      "Epoch 2 - avg_train_loss: 0.4735  avg_val_loss: 0.3537  time: 3s\n",
      "Epoch 2 - Score: 0.3543\n",
      "Epoch 2 - Save Best Score: 0.3543 Model\n"
     ]
    },
    {
     "name": "stdout",
     "output_type": "stream",
     "text": [
      "EVAL: [2/3] Elapsed 0m 0s (remain 0m 0s) Loss: 0.3246(0.3537) \n",
      "Epoch: [3][0/19] Elapsed 0m 0s (remain 0m 2s) Loss: 0.2851(0.2851) Grad: 6.5800  LR: 0.000009  \n",
      "Epoch: [3][10/19] Elapsed 0m 1s (remain 0m 1s) Loss: 0.2520(0.3319) Grad: 5.1304  LR: 0.000009  \n",
      "Epoch: [3][18/19] Elapsed 0m 2s (remain 0m 0s) Loss: 0.4796(0.3418) Grad: 8.5822  LR: 0.000009  \n",
      "EVAL: [0/3] Elapsed 0m 0s (remain 0m 0s) Loss: 0.3859(0.3859) \n"
     ]
    },
    {
     "name": "stderr",
     "output_type": "stream",
     "text": [
      "Epoch 3 - avg_train_loss: 0.3418  avg_val_loss: 0.3220  time: 3s\n",
      "Epoch 3 - Score: 0.3285\n",
      "Epoch 3 - Save Best Score: 0.3285 Model\n"
     ]
    },
    {
     "name": "stdout",
     "output_type": "stream",
     "text": [
      "EVAL: [2/3] Elapsed 0m 0s (remain 0m 0s) Loss: 0.2004(0.3220) \n",
      "Epoch: [4][0/19] Elapsed 0m 0s (remain 0m 2s) Loss: 0.2622(0.2622) Grad: 8.6280  LR: 0.000001  \n",
      "Epoch: [4][10/19] Elapsed 0m 1s (remain 0m 1s) Loss: 0.3094(0.2798) Grad: 4.6127  LR: 0.000001  \n",
      "Epoch: [4][18/19] Elapsed 0m 2s (remain 0m 0s) Loss: 0.2430(0.2900) Grad: 4.3372  LR: 0.000001  \n",
      "EVAL: [0/3] Elapsed 0m 0s (remain 0m 0s) Loss: 0.3825(0.3825) \n"
     ]
    },
    {
     "name": "stderr",
     "output_type": "stream",
     "text": [
      "Epoch 4 - avg_train_loss: 0.2900  avg_val_loss: 0.3193  time: 3s\n",
      "Epoch 4 - Score: 0.3253\n",
      "Epoch 4 - Save Best Score: 0.3253 Model\n"
     ]
    },
    {
     "name": "stdout",
     "output_type": "stream",
     "text": [
      "EVAL: [2/3] Elapsed 0m 0s (remain 0m 0s) Loss: 0.2095(0.3193) \n",
      "Epoch: [5][0/19] Elapsed 0m 0s (remain 0m 2s) Loss: 0.2823(0.2823) Grad: 3.4341  LR: 0.000050  \n",
      "Epoch: [5][10/19] Elapsed 0m 1s (remain 0m 1s) Loss: 0.2446(0.2839) Grad: 11.6723  LR: 0.000050  \n",
      "Epoch: [5][18/19] Elapsed 0m 2s (remain 0m 0s) Loss: 0.2781(0.2880) Grad: 7.6940  LR: 0.000050  \n",
      "EVAL: [0/3] Elapsed 0m 0s (remain 0m 0s) Loss: 0.3526(0.3526) \n"
     ]
    },
    {
     "name": "stderr",
     "output_type": "stream",
     "text": [
      "Epoch 5 - avg_train_loss: 0.2880  avg_val_loss: 0.3052  time: 3s\n",
      "Epoch 5 - Score: 0.3089\n",
      "Epoch 5 - Save Best Score: 0.3089 Model\n"
     ]
    },
    {
     "name": "stdout",
     "output_type": "stream",
     "text": [
      "EVAL: [2/3] Elapsed 0m 0s (remain 0m 0s) Loss: 0.2183(0.3052) \n",
      "Epoch: [6][0/19] Elapsed 0m 0s (remain 0m 2s) Loss: 0.2571(0.2571) Grad: 3.6284  LR: 0.000224  \n",
      "Epoch: [6][10/19] Elapsed 0m 1s (remain 0m 1s) Loss: 0.3005(0.2804) Grad: 5.2854  LR: 0.000224  \n",
      "Epoch: [6][18/19] Elapsed 0m 2s (remain 0m 0s) Loss: 0.3078(0.2706) Grad: 13.2182  LR: 0.000224  \n",
      "EVAL: [0/3] Elapsed 0m 0s (remain 0m 0s) Loss: 0.3524(0.3524) \n"
     ]
    },
    {
     "name": "stderr",
     "output_type": "stream",
     "text": [
      "Epoch 6 - avg_train_loss: 0.2706  avg_val_loss: 0.3118  time: 3s\n",
      "Epoch 6 - Score: 0.3141\n"
     ]
    },
    {
     "name": "stdout",
     "output_type": "stream",
     "text": [
      "EVAL: [2/3] Elapsed 0m 0s (remain 0m 0s) Loss: 0.2484(0.3118) \n",
      "Epoch: [7][0/19] Elapsed 0m 0s (remain 0m 2s) Loss: 0.2264(0.2264) Grad: 9.7489  LR: 0.000133  \n",
      "Epoch: [7][10/19] Elapsed 0m 1s (remain 0m 1s) Loss: 0.3107(0.3091) Grad: 19.2777  LR: 0.000133  \n",
      "Epoch: [7][18/19] Elapsed 0m 2s (remain 0m 0s) Loss: 0.2469(0.3293) Grad: 6.7074  LR: 0.000133  \n",
      "EVAL: [0/3] Elapsed 0m 0s (remain 0m 0s) Loss: 0.3867(0.3867) \n"
     ]
    },
    {
     "name": "stderr",
     "output_type": "stream",
     "text": [
      "Epoch 7 - avg_train_loss: 0.3293  avg_val_loss: 0.4017  time: 3s\n",
      "Epoch 7 - Score: 0.4020\n"
     ]
    },
    {
     "name": "stdout",
     "output_type": "stream",
     "text": [
      "EVAL: [2/3] Elapsed 0m 0s (remain 0m 0s) Loss: 0.3984(0.4017) \n",
      "Epoch: [8][0/19] Elapsed 0m 0s (remain 0m 2s) Loss: 0.3620(0.3620) Grad: 20.0078  LR: 0.000057  \n",
      "Epoch: [8][10/19] Elapsed 0m 1s (remain 0m 1s) Loss: 0.2670(0.2856) Grad: 10.6966  LR: 0.000057  \n",
      "Epoch: [8][18/19] Elapsed 0m 2s (remain 0m 0s) Loss: 0.2611(0.2754) Grad: 5.1962  LR: 0.000057  \n",
      "EVAL: [0/3] Elapsed 0m 0s (remain 0m 0s) Loss: 0.3587(0.3587) \n"
     ]
    },
    {
     "name": "stderr",
     "output_type": "stream",
     "text": [
      "Epoch 8 - avg_train_loss: 0.2754  avg_val_loss: 0.3161  time: 4s\n",
      "Epoch 8 - Score: 0.3181\n"
     ]
    },
    {
     "name": "stdout",
     "output_type": "stream",
     "text": [
      "EVAL: [2/3] Elapsed 0m 0s (remain 0m 0s) Loss: 0.2873(0.3161) \n",
      "Epoch: [9][0/19] Elapsed 0m 0s (remain 0m 2s) Loss: 0.2049(0.2049) Grad: 6.7303  LR: 0.000009  \n",
      "Epoch: [9][10/19] Elapsed 0m 1s (remain 0m 1s) Loss: 0.1814(0.2120) Grad: 9.7881  LR: 0.000009  \n",
      "Epoch: [9][18/19] Elapsed 0m 2s (remain 0m 0s) Loss: 0.2358(0.2083) Grad: 7.4244  LR: 0.000009  \n",
      "EVAL: [0/3] Elapsed 0m 0s (remain 0m 0s) Loss: 0.3636(0.3636) \n"
     ]
    },
    {
     "name": "stderr",
     "output_type": "stream",
     "text": [
      "Epoch 9 - avg_train_loss: 0.2083  avg_val_loss: 0.3156  time: 3s\n",
      "Epoch 9 - Score: 0.3183\n"
     ]
    },
    {
     "name": "stdout",
     "output_type": "stream",
     "text": [
      "EVAL: [2/3] Elapsed 0m 0s (remain 0m 0s) Loss: 0.2609(0.3156) \n",
      "Epoch: [10][0/19] Elapsed 0m 0s (remain 0m 2s) Loss: 0.1941(0.1941) Grad: 8.6252  LR: 0.000001  \n",
      "Epoch: [10][10/19] Elapsed 0m 1s (remain 0m 1s) Loss: 0.1891(0.1847) Grad: 10.2423  LR: 0.000001  \n",
      "Epoch: [10][18/19] Elapsed 0m 2s (remain 0m 0s) Loss: 0.2124(0.1807) Grad: 4.6902  LR: 0.000001  \n",
      "EVAL: [0/3] Elapsed 0m 0s (remain 0m 0s) Loss: 0.3575(0.3575) \n"
     ]
    },
    {
     "name": "stderr",
     "output_type": "stream",
     "text": [
      "Epoch 10 - avg_train_loss: 0.1807  avg_val_loss: 0.3044  time: 3s\n",
      "Epoch 10 - Score: 0.3089\n"
     ]
    },
    {
     "name": "stdout",
     "output_type": "stream",
     "text": [
      "EVAL: [2/3] Elapsed 0m 0s (remain 0m 0s) Loss: 0.2106(0.3044) \n",
      "Epoch: [11][0/19] Elapsed 0m 0s (remain 0m 2s) Loss: 0.1782(0.1782) Grad: 7.2838  LR: 0.000050  \n",
      "Epoch: [11][10/19] Elapsed 0m 1s (remain 0m 1s) Loss: 0.1328(0.1690) Grad: 8.4130  LR: 0.000050  \n",
      "Epoch: [11][18/19] Elapsed 0m 2s (remain 0m 0s) Loss: 0.1827(0.1719) Grad: 4.4069  LR: 0.000050  \n",
      "EVAL: [0/3] Elapsed 0m 0s (remain 0m 0s) Loss: 0.3338(0.3338) \n"
     ]
    },
    {
     "name": "stderr",
     "output_type": "stream",
     "text": [
      "Epoch 11 - avg_train_loss: 0.1719  avg_val_loss: 0.2932  time: 3s\n",
      "Epoch 11 - Score: 0.2963\n",
      "Epoch 11 - Save Best Score: 0.2963 Model\n"
     ]
    },
    {
     "name": "stdout",
     "output_type": "stream",
     "text": [
      "EVAL: [2/3] Elapsed 0m 0s (remain 0m 0s) Loss: 0.2129(0.2932) \n",
      "Epoch: [12][0/19] Elapsed 0m 0s (remain 0m 2s) Loss: 0.1975(0.1975) Grad: 7.8892  LR: 0.000224  \n",
      "Epoch: [12][10/19] Elapsed 0m 1s (remain 0m 1s) Loss: 0.2655(0.2115) Grad: 16.7808  LR: 0.000224  \n",
      "Epoch: [12][18/19] Elapsed 0m 2s (remain 0m 0s) Loss: 0.2223(0.2192) Grad: 17.2001  LR: 0.000224  \n",
      "EVAL: [0/3] Elapsed 0m 0s (remain 0m 0s) Loss: 0.3571(0.3571) \n"
     ]
    },
    {
     "name": "stderr",
     "output_type": "stream",
     "text": [
      "Epoch 12 - avg_train_loss: 0.2192  avg_val_loss: 0.3232  time: 4s\n",
      "Epoch 12 - Score: 0.3251\n"
     ]
    },
    {
     "name": "stdout",
     "output_type": "stream",
     "text": [
      "EVAL: [2/3] Elapsed 0m 0s (remain 0m 0s) Loss: 0.2595(0.3232) \n",
      "Epoch: [13][0/19] Elapsed 0m 0s (remain 0m 2s) Loss: 0.2296(0.2296) Grad: 6.4329  LR: 0.000133  \n",
      "Epoch: [13][10/19] Elapsed 0m 1s (remain 0m 1s) Loss: 0.2067(0.2192) Grad: 10.9528  LR: 0.000133  \n",
      "Epoch: [13][18/19] Elapsed 0m 2s (remain 0m 0s) Loss: 0.2407(0.2289) Grad: 17.9762  LR: 0.000133  \n",
      "EVAL: [0/3] Elapsed 0m 0s (remain 0m 0s) Loss: 0.3851(0.3851) \n"
     ]
    },
    {
     "name": "stderr",
     "output_type": "stream",
     "text": [
      "Epoch 13 - avg_train_loss: 0.2289  avg_val_loss: 0.3524  time: 3s\n",
      "Epoch 13 - Score: 0.3536\n"
     ]
    },
    {
     "name": "stdout",
     "output_type": "stream",
     "text": [
      "EVAL: [2/3] Elapsed 0m 0s (remain 0m 0s) Loss: 0.3101(0.3524) \n",
      "Epoch: [14][0/19] Elapsed 0m 0s (remain 0m 2s) Loss: 0.2687(0.2687) Grad: 17.0946  LR: 0.000057  \n",
      "Epoch: [14][10/19] Elapsed 0m 1s (remain 0m 1s) Loss: 0.1603(0.2436) Grad: 3.5841  LR: 0.000057  \n",
      "Epoch: [14][18/19] Elapsed 0m 2s (remain 0m 0s) Loss: 0.1584(0.2325) Grad: 8.1265  LR: 0.000057  \n",
      "EVAL: [0/3] Elapsed 0m 0s (remain 0m 0s) Loss: 0.4126(0.4126) \n"
     ]
    },
    {
     "name": "stderr",
     "output_type": "stream",
     "text": [
      "Epoch 14 - avg_train_loss: 0.2325  avg_val_loss: 0.3547  time: 4s\n",
      "Epoch 14 - Score: 0.3584\n"
     ]
    },
    {
     "name": "stdout",
     "output_type": "stream",
     "text": [
      "EVAL: [2/3] Elapsed 0m 0s (remain 0m 0s) Loss: 0.2809(0.3547) \n",
      "Epoch: [15][0/19] Elapsed 0m 0s (remain 0m 2s) Loss: 0.2236(0.2236) Grad: 18.8962  LR: 0.000009  \n",
      "Epoch: [15][10/19] Elapsed 0m 1s (remain 0m 1s) Loss: 0.2128(0.2049) Grad: 16.5159  LR: 0.000009  \n",
      "Epoch: [15][18/19] Elapsed 0m 2s (remain 0m 0s) Loss: 0.1914(0.1912) Grad: 6.0309  LR: 0.000009  \n",
      "EVAL: [0/3] Elapsed 0m 0s (remain 0m 0s) Loss: 0.3339(0.3339) \n"
     ]
    },
    {
     "name": "stderr",
     "output_type": "stream",
     "text": [
      "Epoch 15 - avg_train_loss: 0.1912  avg_val_loss: 0.3027  time: 3s\n",
      "Epoch 15 - Score: 0.3042\n"
     ]
    },
    {
     "name": "stdout",
     "output_type": "stream",
     "text": [
      "EVAL: [2/3] Elapsed 0m 0s (remain 0m 0s) Loss: 0.2525(0.3027) \n",
      "Epoch: [16][0/19] Elapsed 0m 0s (remain 0m 2s) Loss: 0.1370(0.1370) Grad: 10.0068  LR: 0.000001  \n",
      "Epoch: [16][10/19] Elapsed 0m 1s (remain 0m 1s) Loss: 0.1368(0.1583) Grad: 5.3550  LR: 0.000001  \n",
      "Epoch: [16][18/19] Elapsed 0m 2s (remain 0m 0s) Loss: 0.1688(0.1505) Grad: 8.4913  LR: 0.000001  \n",
      "EVAL: [0/3] Elapsed 0m 0s (remain 0m 0s) Loss: 0.3353(0.3353) \n"
     ]
    },
    {
     "name": "stderr",
     "output_type": "stream",
     "text": [
      "Epoch 16 - avg_train_loss: 0.1505  avg_val_loss: 0.3075  time: 3s\n",
      "Epoch 16 - Score: 0.3086\n"
     ]
    },
    {
     "name": "stdout",
     "output_type": "stream",
     "text": [
      "EVAL: [2/3] Elapsed 0m 0s (remain 0m 0s) Loss: 0.2634(0.3075) \n",
      "Epoch: [17][0/19] Elapsed 0m 0s (remain 0m 2s) Loss: 0.0943(0.0943) Grad: 3.3857  LR: 0.000050  \n",
      "Epoch: [17][10/19] Elapsed 0m 1s (remain 0m 1s) Loss: 0.1271(0.1352) Grad: 8.2162  LR: 0.000050  \n",
      "Epoch: [17][18/19] Elapsed 0m 2s (remain 0m 0s) Loss: 0.1302(0.1360) Grad: 4.5421  LR: 0.000050  \n",
      "EVAL: [0/3] Elapsed 0m 0s (remain 0m 0s) Loss: 0.3377(0.3377) \n"
     ]
    },
    {
     "name": "stderr",
     "output_type": "stream",
     "text": [
      "Epoch 17 - avg_train_loss: 0.1360  avg_val_loss: 0.3012  time: 4s\n",
      "Epoch 17 - Score: 0.3032\n"
     ]
    },
    {
     "name": "stdout",
     "output_type": "stream",
     "text": [
      "EVAL: [2/3] Elapsed 0m 0s (remain 0m 0s) Loss: 0.2433(0.3012) \n",
      "Epoch: [18][0/19] Elapsed 0m 0s (remain 0m 2s) Loss: 0.0972(0.0972) Grad: 5.6480  LR: 0.000224  \n",
      "Epoch: [18][10/19] Elapsed 0m 1s (remain 0m 1s) Loss: 0.1757(0.1479) Grad: 17.5879  LR: 0.000224  \n",
      "Epoch: [18][18/19] Elapsed 0m 2s (remain 0m 0s) Loss: 0.1913(0.1530) Grad: 8.1063  LR: 0.000224  \n",
      "EVAL: [0/3] Elapsed 0m 0s (remain 0m 0s) Loss: 0.3218(0.3218) \n"
     ]
    },
    {
     "name": "stderr",
     "output_type": "stream",
     "text": [
      "Epoch 18 - avg_train_loss: 0.1530  avg_val_loss: 0.2854  time: 3s\n",
      "Epoch 18 - Score: 0.2879\n",
      "Epoch 18 - Save Best Score: 0.2879 Model\n"
     ]
    },
    {
     "name": "stdout",
     "output_type": "stream",
     "text": [
      "EVAL: [2/3] Elapsed 0m 0s (remain 0m 0s) Loss: 0.2136(0.2854) \n",
      "Epoch: [19][0/19] Elapsed 0m 0s (remain 0m 2s) Loss: 0.1327(0.1327) Grad: 9.1738  LR: 0.000133  \n",
      "Epoch: [19][10/19] Elapsed 0m 1s (remain 0m 1s) Loss: 0.2121(0.1653) Grad: 5.1258  LR: 0.000133  \n",
      "Epoch: [19][18/19] Elapsed 0m 2s (remain 0m 0s) Loss: 0.3234(0.2171) Grad: 17.4296  LR: 0.000133  \n",
      "EVAL: [0/3] Elapsed 0m 0s (remain 0m 0s) Loss: 0.3568(0.3568) \n"
     ]
    },
    {
     "name": "stderr",
     "output_type": "stream",
     "text": [
      "Epoch 19 - avg_train_loss: 0.2171  avg_val_loss: 0.3225  time: 3s\n",
      "Epoch 19 - Score: 0.3268\n"
     ]
    },
    {
     "name": "stdout",
     "output_type": "stream",
     "text": [
      "EVAL: [2/3] Elapsed 0m 0s (remain 0m 0s) Loss: 0.2068(0.3225) \n",
      "Epoch: [20][0/19] Elapsed 0m 0s (remain 0m 2s) Loss: 0.1681(0.1681) Grad: 9.0187  LR: 0.000057  \n",
      "Epoch: [20][10/19] Elapsed 0m 1s (remain 0m 1s) Loss: 0.2308(0.2249) Grad: 14.0466  LR: 0.000057  \n",
      "Epoch: [20][18/19] Elapsed 0m 2s (remain 0m 0s) Loss: 0.2443(0.2271) Grad: 17.1208  LR: 0.000057  \n",
      "EVAL: [0/3] Elapsed 0m 0s (remain 0m 0s) Loss: 0.3374(0.3374) \n"
     ]
    },
    {
     "name": "stderr",
     "output_type": "stream",
     "text": [
      "Epoch 20 - avg_train_loss: 0.2271  avg_val_loss: 0.3071  time: 3s\n",
      "Epoch 20 - Score: 0.3083\n"
     ]
    },
    {
     "name": "stdout",
     "output_type": "stream",
     "text": [
      "EVAL: [2/3] Elapsed 0m 0s (remain 0m 0s) Loss: 0.2674(0.3071) \n",
      "Epoch: [21][0/19] Elapsed 0m 0s (remain 0m 2s) Loss: 0.2236(0.2236) Grad: 5.9295  LR: 0.000009  \n",
      "Epoch: [21][10/19] Elapsed 0m 1s (remain 0m 1s) Loss: 0.1288(0.1517) Grad: 8.2423  LR: 0.000009  \n",
      "Epoch: [21][18/19] Elapsed 0m 2s (remain 0m 0s) Loss: 0.1289(0.1508) Grad: 9.7795  LR: 0.000009  \n",
      "EVAL: [0/3] Elapsed 0m 0s (remain 0m 0s) Loss: 0.3134(0.3134) \n"
     ]
    },
    {
     "name": "stderr",
     "output_type": "stream",
     "text": [
      "Epoch 21 - avg_train_loss: 0.1508  avg_val_loss: 0.2681  time: 3s\n",
      "Epoch 21 - Score: 0.2713\n",
      "Epoch 21 - Save Best Score: 0.2713 Model\n"
     ]
    },
    {
     "name": "stdout",
     "output_type": "stream",
     "text": [
      "EVAL: [2/3] Elapsed 0m 0s (remain 0m 0s) Loss: 0.2038(0.2681) \n",
      "Epoch: [22][0/19] Elapsed 0m 0s (remain 0m 2s) Loss: 0.1317(0.1317) Grad: 6.6982  LR: 0.000001  \n",
      "Epoch: [22][10/19] Elapsed 0m 1s (remain 0m 1s) Loss: 0.0853(0.1162) Grad: 6.2445  LR: 0.000001  \n",
      "Epoch: [22][18/19] Elapsed 0m 2s (remain 0m 0s) Loss: 0.0835(0.1116) Grad: 7.8233  LR: 0.000001  \n",
      "EVAL: [0/3] Elapsed 0m 0s (remain 0m 0s) Loss: 0.3087(0.3087) \n"
     ]
    },
    {
     "name": "stderr",
     "output_type": "stream",
     "text": [
      "Epoch 22 - avg_train_loss: 0.1116  avg_val_loss: 0.2793  time: 3s\n",
      "Epoch 22 - Score: 0.2808\n"
     ]
    },
    {
     "name": "stdout",
     "output_type": "stream",
     "text": [
      "EVAL: [2/3] Elapsed 0m 0s (remain 0m 0s) Loss: 0.2297(0.2793) \n",
      "Epoch: [23][0/19] Elapsed 0m 0s (remain 0m 2s) Loss: 0.0963(0.0963) Grad: 3.7484  LR: 0.000050  \n",
      "Epoch: [23][10/19] Elapsed 0m 1s (remain 0m 1s) Loss: 0.1052(0.1235) Grad: 7.2827  LR: 0.000050  \n",
      "Epoch: [23][18/19] Elapsed 0m 2s (remain 0m 0s) Loss: 0.1252(0.1229) Grad: 8.2797  LR: 0.000050  \n",
      "EVAL: [0/3] Elapsed 0m 0s (remain 0m 0s) Loss: 0.3287(0.3287) \n"
     ]
    },
    {
     "name": "stderr",
     "output_type": "stream",
     "text": [
      "Epoch 23 - avg_train_loss: 0.1229  avg_val_loss: 0.2821  time: 3s\n",
      "Epoch 23 - Score: 0.2858\n"
     ]
    },
    {
     "name": "stdout",
     "output_type": "stream",
     "text": [
      "EVAL: [2/3] Elapsed 0m 0s (remain 0m 0s) Loss: 0.2018(0.2821) \n",
      "Epoch: [24][0/19] Elapsed 0m 0s (remain 0m 2s) Loss: 0.0911(0.0911) Grad: 5.1938  LR: 0.000224  \n",
      "Epoch: [24][10/19] Elapsed 0m 1s (remain 0m 1s) Loss: 0.1519(0.1313) Grad: 11.3142  LR: 0.000224  \n",
      "Epoch: [24][18/19] Elapsed 0m 2s (remain 0m 0s) Loss: 0.1408(0.1298) Grad: 13.7597  LR: 0.000224  \n",
      "EVAL: [0/3] Elapsed 0m 0s (remain 0m 0s) Loss: 0.3413(0.3413) \n"
     ]
    },
    {
     "name": "stderr",
     "output_type": "stream",
     "text": [
      "Epoch 24 - avg_train_loss: 0.1298  avg_val_loss: 0.3026  time: 3s\n",
      "Epoch 24 - Score: 0.3048\n"
     ]
    },
    {
     "name": "stdout",
     "output_type": "stream",
     "text": [
      "EVAL: [2/3] Elapsed 0m 0s (remain 0m 0s) Loss: 0.2409(0.3026) \n",
      "Epoch: [25][0/19] Elapsed 0m 0s (remain 0m 2s) Loss: 0.1171(0.1171) Grad: 10.3676  LR: 0.000133  \n",
      "Epoch: [25][10/19] Elapsed 0m 1s (remain 0m 1s) Loss: 0.1345(0.1456) Grad: 9.1713  LR: 0.000133  \n",
      "Epoch: [25][18/19] Elapsed 0m 2s (remain 0m 0s) Loss: 0.1316(0.1469) Grad: 7.1790  LR: 0.000133  \n",
      "EVAL: [0/3] Elapsed 0m 0s (remain 0m 0s) Loss: 0.3552(0.3552) \n"
     ]
    },
    {
     "name": "stderr",
     "output_type": "stream",
     "text": [
      "Epoch 25 - avg_train_loss: 0.1469  avg_val_loss: 0.3186  time: 3s\n",
      "Epoch 25 - Score: 0.3208\n"
     ]
    },
    {
     "name": "stdout",
     "output_type": "stream",
     "text": [
      "EVAL: [2/3] Elapsed 0m 0s (remain 0m 0s) Loss: 0.2497(0.3186) \n",
      "Epoch: [26][0/19] Elapsed 0m 0s (remain 0m 2s) Loss: 0.1835(0.1835) Grad: 12.0534  LR: 0.000057  \n",
      "Epoch: [26][10/19] Elapsed 0m 1s (remain 0m 1s) Loss: 0.1359(0.1540) Grad: 11.5396  LR: 0.000057  \n",
      "Epoch: [26][18/19] Elapsed 0m 2s (remain 0m 0s) Loss: 0.1290(0.1643) Grad: 2.9791  LR: 0.000057  \n",
      "EVAL: [0/3] Elapsed 0m 0s (remain 0m 0s) Loss: 0.3153(0.3153) \n"
     ]
    },
    {
     "name": "stderr",
     "output_type": "stream",
     "text": [
      "Epoch 26 - avg_train_loss: 0.1643  avg_val_loss: 0.3007  time: 3s\n",
      "Epoch 26 - Score: 0.3023\n"
     ]
    },
    {
     "name": "stdout",
     "output_type": "stream",
     "text": [
      "EVAL: [2/3] Elapsed 0m 0s (remain 0m 0s) Loss: 0.2320(0.3007) \n",
      "Epoch: [27][0/19] Elapsed 0m 0s (remain 0m 2s) Loss: 0.1376(0.1376) Grad: 9.4105  LR: 0.000009  \n",
      "Epoch: [27][10/19] Elapsed 0m 1s (remain 0m 1s) Loss: 0.1047(0.1328) Grad: 4.5688  LR: 0.000009  \n",
      "Epoch: [27][18/19] Elapsed 0m 2s (remain 0m 0s) Loss: 0.1120(0.1255) Grad: 5.5002  LR: 0.000009  \n",
      "EVAL: [0/3] Elapsed 0m 0s (remain 0m 0s) Loss: 0.3388(0.3388) \n"
     ]
    },
    {
     "name": "stderr",
     "output_type": "stream",
     "text": [
      "Epoch 27 - avg_train_loss: 0.1255  avg_val_loss: 0.2863  time: 3s\n",
      "Epoch 27 - Score: 0.2907\n"
     ]
    },
    {
     "name": "stdout",
     "output_type": "stream",
     "text": [
      "EVAL: [2/3] Elapsed 0m 0s (remain 0m 0s) Loss: 0.1983(0.2863) \n",
      "Epoch: [28][0/19] Elapsed 0m 0s (remain 0m 2s) Loss: 0.1222(0.1222) Grad: 12.2511  LR: 0.000001  \n",
      "Epoch: [28][10/19] Elapsed 0m 1s (remain 0m 1s) Loss: 0.0953(0.1114) Grad: 6.2894  LR: 0.000001  \n",
      "Epoch: [28][18/19] Elapsed 0m 2s (remain 0m 0s) Loss: 0.1031(0.1062) Grad: 2.8470  LR: 0.000001  \n",
      "EVAL: [0/3] Elapsed 0m 0s (remain 0m 0s) Loss: 0.3356(0.3356) \n"
     ]
    },
    {
     "name": "stderr",
     "output_type": "stream",
     "text": [
      "Epoch 28 - avg_train_loss: 0.1062  avg_val_loss: 0.2828  time: 3s\n",
      "Epoch 28 - Score: 0.2872\n"
     ]
    },
    {
     "name": "stdout",
     "output_type": "stream",
     "text": [
      "EVAL: [2/3] Elapsed 0m 0s (remain 0m 0s) Loss: 0.1981(0.2828) \n",
      "Epoch: [29][0/19] Elapsed 0m 0s (remain 0m 2s) Loss: 0.1079(0.1079) Grad: 5.1193  LR: 0.000050  \n",
      "Epoch: [29][10/19] Elapsed 0m 1s (remain 0m 1s) Loss: 0.1150(0.1119) Grad: 6.1323  LR: 0.000050  \n",
      "Epoch: [29][18/19] Elapsed 0m 2s (remain 0m 0s) Loss: 0.1236(0.1068) Grad: 8.1171  LR: 0.000050  \n",
      "EVAL: [0/3] Elapsed 0m 0s (remain 0m 0s) Loss: 0.3475(0.3475) \n"
     ]
    },
    {
     "name": "stderr",
     "output_type": "stream",
     "text": [
      "Epoch 29 - avg_train_loss: 0.1068  avg_val_loss: 0.2980  time: 4s\n",
      "Epoch 29 - Score: 0.3022\n"
     ]
    },
    {
     "name": "stdout",
     "output_type": "stream",
     "text": [
      "EVAL: [2/3] Elapsed 0m 0s (remain 0m 0s) Loss: 0.2062(0.2980) \n",
      "Epoch: [30][0/19] Elapsed 0m 0s (remain 0m 2s) Loss: 0.1078(0.1078) Grad: 11.4677  LR: 0.000224  \n",
      "Epoch: [30][10/19] Elapsed 0m 1s (remain 0m 1s) Loss: 0.1998(0.1280) Grad: 18.8112  LR: 0.000224  \n",
      "Epoch: [30][18/19] Elapsed 0m 2s (remain 0m 0s) Loss: 0.1892(0.1503) Grad: 18.8640  LR: 0.000224  \n",
      "EVAL: [0/3] Elapsed 0m 0s (remain 0m 0s) Loss: 0.3486(0.3486) \n"
     ]
    },
    {
     "name": "stderr",
     "output_type": "stream",
     "text": [
      "Epoch 30 - avg_train_loss: 0.1503  avg_val_loss: 0.3216  time: 4s\n",
      "Epoch 30 - Score: 0.3238\n"
     ]
    },
    {
     "name": "stdout",
     "output_type": "stream",
     "text": [
      "EVAL: [2/3] Elapsed 0m 0s (remain 0m 0s) Loss: 0.2407(0.3216) \n",
      "Epoch: [31][0/19] Elapsed 0m 0s (remain 0m 2s) Loss: 0.2047(0.2047) Grad: 19.2377  LR: 0.000133  \n",
      "Epoch: [31][10/19] Elapsed 0m 1s (remain 0m 1s) Loss: 0.1690(0.2017) Grad: 9.6815  LR: 0.000133  \n",
      "Epoch: [31][18/19] Elapsed 0m 2s (remain 0m 0s) Loss: 0.2488(0.2177) Grad: 16.0917  LR: 0.000133  \n",
      "EVAL: [0/3] Elapsed 0m 0s (remain 0m 0s) Loss: 0.3584(0.3584) \n"
     ]
    },
    {
     "name": "stderr",
     "output_type": "stream",
     "text": [
      "Epoch 31 - avg_train_loss: 0.2177  avg_val_loss: 0.3048  time: 4s\n",
      "Epoch 31 - Score: 0.3089\n"
     ]
    },
    {
     "name": "stdout",
     "output_type": "stream",
     "text": [
      "EVAL: [2/3] Elapsed 0m 0s (remain 0m 0s) Loss: 0.2210(0.3048) \n",
      "Epoch: [32][0/19] Elapsed 0m 0s (remain 0m 2s) Loss: 0.1485(0.1485) Grad: 8.7805  LR: 0.000057  \n",
      "Epoch: [32][10/19] Elapsed 0m 1s (remain 0m 1s) Loss: 0.1939(0.1932) Grad: 16.0361  LR: 0.000057  \n",
      "Epoch: [32][18/19] Elapsed 0m 2s (remain 0m 0s) Loss: 0.1202(0.1785) Grad: 4.1456  LR: 0.000057  \n",
      "EVAL: [0/3] Elapsed 0m 0s (remain 0m 0s) Loss: 0.3490(0.3490) \n"
     ]
    },
    {
     "name": "stderr",
     "output_type": "stream",
     "text": [
      "Epoch 32 - avg_train_loss: 0.1785  avg_val_loss: 0.3171  time: 4s\n",
      "Epoch 32 - Score: 0.3186\n"
     ]
    },
    {
     "name": "stdout",
     "output_type": "stream",
     "text": [
      "EVAL: [2/3] Elapsed 0m 0s (remain 0m 0s) Loss: 0.2640(0.3171) \n",
      "Epoch: [33][0/19] Elapsed 0m 0s (remain 0m 2s) Loss: 0.1824(0.1824) Grad: 12.9889  LR: 0.000009  \n",
      "Epoch: [33][10/19] Elapsed 0m 1s (remain 0m 1s) Loss: 0.1374(0.1483) Grad: 15.0623  LR: 0.000009  \n",
      "Epoch: [33][18/19] Elapsed 0m 2s (remain 0m 0s) Loss: 0.1160(0.1375) Grad: 5.7044  LR: 0.000009  \n",
      "EVAL: [0/3] Elapsed 0m 0s (remain 0m 0s) Loss: 0.3295(0.3295) \n"
     ]
    },
    {
     "name": "stderr",
     "output_type": "stream",
     "text": [
      "Epoch 33 - avg_train_loss: 0.1375  avg_val_loss: 0.3048  time: 4s\n",
      "Epoch 33 - Score: 0.3065\n"
     ]
    },
    {
     "name": "stdout",
     "output_type": "stream",
     "text": [
      "EVAL: [2/3] Elapsed 0m 0s (remain 0m 0s) Loss: 0.2361(0.3048) \n",
      "Epoch: [34][0/19] Elapsed 0m 0s (remain 0m 2s) Loss: 0.0841(0.0841) Grad: 12.6711  LR: 0.000001  \n",
      "Epoch: [34][10/19] Elapsed 0m 1s (remain 0m 1s) Loss: 0.0954(0.1023) Grad: 4.8721  LR: 0.000001  \n",
      "Epoch: [34][18/19] Elapsed 0m 2s (remain 0m 0s) Loss: 0.0938(0.0972) Grad: 3.1716  LR: 0.000001  \n",
      "EVAL: [0/3] Elapsed 0m 0s (remain 0m 0s) Loss: 0.3260(0.3260) \n"
     ]
    },
    {
     "name": "stderr",
     "output_type": "stream",
     "text": [
      "Epoch 34 - avg_train_loss: 0.0972  avg_val_loss: 0.2995  time: 4s\n",
      "Epoch 34 - Score: 0.3023\n"
     ]
    },
    {
     "name": "stdout",
     "output_type": "stream",
     "text": [
      "EVAL: [2/3] Elapsed 0m 0s (remain 0m 0s) Loss: 0.2101(0.2995) \n",
      "Epoch: [35][0/19] Elapsed 0m 0s (remain 0m 2s) Loss: 0.1056(0.1056) Grad: 3.5487  LR: 0.000050  \n",
      "Epoch: [35][10/19] Elapsed 0m 1s (remain 0m 1s) Loss: 0.0772(0.0927) Grad: 3.0765  LR: 0.000050  \n",
      "Epoch: [35][18/19] Elapsed 0m 2s (remain 0m 0s) Loss: 0.0865(0.0954) Grad: 3.1078  LR: 0.000050  \n",
      "EVAL: [0/3] Elapsed 0m 0s (remain 0m 0s) Loss: 0.3207(0.3207) \n"
     ]
    },
    {
     "name": "stderr",
     "output_type": "stream",
     "text": [
      "Epoch 35 - avg_train_loss: 0.0954  avg_val_loss: 0.2855  time: 3s\n",
      "Epoch 35 - Score: 0.2877\n"
     ]
    },
    {
     "name": "stdout",
     "output_type": "stream",
     "text": [
      "EVAL: [2/3] Elapsed 0m 0s (remain 0m 0s) Loss: 0.2194(0.2855) \n",
      "Epoch: [36][0/19] Elapsed 0m 0s (remain 0m 2s) Loss: 0.0657(0.0657) Grad: 3.5117  LR: 0.000224  \n",
      "Epoch: [36][10/19] Elapsed 0m 1s (remain 0m 1s) Loss: 0.0838(0.0946) Grad: 4.5349  LR: 0.000224  \n",
      "Epoch: [36][18/19] Elapsed 0m 2s (remain 0m 0s) Loss: 0.1259(0.1014) Grad: 7.9954  LR: 0.000224  \n",
      "EVAL: [0/3] Elapsed 0m 0s (remain 0m 0s) Loss: 0.3415(0.3415) \n"
     ]
    },
    {
     "name": "stderr",
     "output_type": "stream",
     "text": [
      "Epoch 36 - avg_train_loss: 0.1014  avg_val_loss: 0.2925  time: 4s\n",
      "Epoch 36 - Score: 0.2955\n"
     ]
    },
    {
     "name": "stdout",
     "output_type": "stream",
     "text": [
      "EVAL: [2/3] Elapsed 0m 0s (remain 0m 0s) Loss: 0.2449(0.2925) \n",
      "Epoch: [37][0/19] Elapsed 0m 0s (remain 0m 2s) Loss: 0.1278(0.1278) Grad: 8.2255  LR: 0.000133  \n",
      "Epoch: [37][10/19] Elapsed 0m 1s (remain 0m 1s) Loss: 0.1020(0.1193) Grad: 4.0586  LR: 0.000133  \n",
      "Epoch: [37][18/19] Elapsed 0m 2s (remain 0m 0s) Loss: 0.1950(0.1337) Grad: 10.0186  LR: 0.000133  \n",
      "EVAL: [0/3] Elapsed 0m 0s (remain 0m 0s) Loss: 0.3278(0.3278) \n"
     ]
    },
    {
     "name": "stderr",
     "output_type": "stream",
     "text": [
      "Epoch 37 - avg_train_loss: 0.1337  avg_val_loss: 0.2789  time: 4s\n",
      "Epoch 37 - Score: 0.2832\n"
     ]
    },
    {
     "name": "stdout",
     "output_type": "stream",
     "text": [
      "EVAL: [2/3] Elapsed 0m 0s (remain 0m 0s) Loss: 0.1887(0.2789) \n",
      "Epoch: [38][0/19] Elapsed 0m 0s (remain 0m 2s) Loss: 0.1171(0.1171) Grad: 6.6304  LR: 0.000057  \n",
      "Epoch: [38][10/19] Elapsed 0m 1s (remain 0m 1s) Loss: 0.1179(0.1319) Grad: 6.9281  LR: 0.000057  \n",
      "Epoch: [38][18/19] Elapsed 0m 2s (remain 0m 0s) Loss: 0.1374(0.1443) Grad: 10.4341  LR: 0.000057  \n",
      "EVAL: [0/3] Elapsed 0m 0s (remain 0m 0s) Loss: 0.3619(0.3619) \n"
     ]
    },
    {
     "name": "stderr",
     "output_type": "stream",
     "text": [
      "Epoch 38 - avg_train_loss: 0.1443  avg_val_loss: 0.3100  time: 4s\n",
      "Epoch 38 - Score: 0.3138\n"
     ]
    },
    {
     "name": "stdout",
     "output_type": "stream",
     "text": [
      "EVAL: [2/3] Elapsed 0m 0s (remain 0m 0s) Loss: 0.2297(0.3100) \n",
      "Epoch: [39][0/19] Elapsed 0m 0s (remain 0m 2s) Loss: 0.1472(0.1472) Grad: 11.3956  LR: 0.000009  \n",
      "Epoch: [39][10/19] Elapsed 0m 1s (remain 0m 1s) Loss: 0.1118(0.1171) Grad: 6.4038  LR: 0.000009  \n",
      "Epoch: [39][18/19] Elapsed 0m 2s (remain 0m 0s) Loss: 0.1200(0.1145) Grad: 9.3606  LR: 0.000009  \n",
      "EVAL: [0/3] Elapsed 0m 0s (remain 0m 0s) Loss: 0.3535(0.3535) \n"
     ]
    },
    {
     "name": "stderr",
     "output_type": "stream",
     "text": [
      "Epoch 39 - avg_train_loss: 0.1145  avg_val_loss: 0.2999  time: 3s\n",
      "Epoch 39 - Score: 0.3038\n"
     ]
    },
    {
     "name": "stdout",
     "output_type": "stream",
     "text": [
      "EVAL: [2/3] Elapsed 0m 0s (remain 0m 0s) Loss: 0.2257(0.2999) \n",
      "Epoch: [40][0/19] Elapsed 0m 0s (remain 0m 2s) Loss: 0.1241(0.1241) Grad: 13.0204  LR: 0.000001  \n",
      "Epoch: [40][10/19] Elapsed 0m 1s (remain 0m 1s) Loss: 0.0828(0.0974) Grad: 5.8821  LR: 0.000001  \n",
      "Epoch: [40][18/19] Elapsed 0m 2s (remain 0m 0s) Loss: 0.0826(0.0935) Grad: 6.0679  LR: 0.000001  \n",
      "EVAL: [0/3] Elapsed 0m 0s (remain 0m 0s) Loss: 0.3289(0.3289) \n"
     ]
    },
    {
     "name": "stderr",
     "output_type": "stream",
     "text": [
      "Epoch 40 - avg_train_loss: 0.0935  avg_val_loss: 0.2847  time: 3s\n",
      "Epoch 40 - Score: 0.2874\n",
      "========== fold: 3 result ==========\n",
      "Score: 0.2713\n",
      "========== fold: 4 training ==========\n"
     ]
    },
    {
     "name": "stdout",
     "output_type": "stream",
     "text": [
      "EVAL: [2/3] Elapsed 0m 0s (remain 0m 0s) Loss: 0.2297(0.2847) \n",
      "Epoch: [1][0/19] Elapsed 0m 0s (remain 0m 2s) Loss: 3.3402(3.3402) Grad: 26.0906  LR: 0.000100  \n",
      "Epoch: [1][10/19] Elapsed 0m 1s (remain 0m 1s) Loss: 0.5320(1.2655) Grad: 17.0950  LR: 0.000100  \n",
      "Epoch: [1][18/19] Elapsed 0m 2s (remain 0m 0s) Loss: 0.4888(1.0206) Grad: 7.5876  LR: 0.000100  \n",
      "EVAL: [0/3] Elapsed 0m 0s (remain 0m 0s) Loss: 0.6917(0.6917) \n"
     ]
    },
    {
     "name": "stderr",
     "output_type": "stream",
     "text": [
      "Epoch 1 - avg_train_loss: 1.0206  avg_val_loss: 0.6183  time: 4s\n",
      "Epoch 1 - Score: 0.6220\n",
      "Epoch 1 - Save Best Score: 0.6220 Model\n"
     ]
    },
    {
     "name": "stdout",
     "output_type": "stream",
     "text": [
      "EVAL: [2/3] Elapsed 0m 0s (remain 0m 0s) Loss: 0.5095(0.6183) \n",
      "Epoch: [2][0/19] Elapsed 0m 0s (remain 0m 2s) Loss: 0.5232(0.5232) Grad: 16.7181  LR: 0.000057  \n",
      "Epoch: [2][10/19] Elapsed 0m 1s (remain 0m 1s) Loss: 0.5340(0.5140) Grad: 11.8229  LR: 0.000057  \n",
      "Epoch: [2][18/19] Elapsed 0m 2s (remain 0m 0s) Loss: 0.3723(0.4733) Grad: 5.5824  LR: 0.000057  \n",
      "EVAL: [0/3] Elapsed 0m 0s (remain 0m 0s) Loss: 0.4468(0.4468) \n"
     ]
    },
    {
     "name": "stderr",
     "output_type": "stream",
     "text": [
      "Epoch 2 - avg_train_loss: 0.4733  avg_val_loss: 0.4046  time: 4s\n",
      "Epoch 2 - Score: 0.4093\n",
      "Epoch 2 - Save Best Score: 0.4093 Model\n"
     ]
    },
    {
     "name": "stdout",
     "output_type": "stream",
     "text": [
      "EVAL: [2/3] Elapsed 0m 0s (remain 0m 0s) Loss: 0.2706(0.4046) \n",
      "Epoch: [3][0/19] Elapsed 0m 0s (remain 0m 2s) Loss: 0.3834(0.3834) Grad: 5.0245  LR: 0.000009  \n",
      "Epoch: [3][10/19] Elapsed 0m 1s (remain 0m 1s) Loss: 0.3152(0.3543) Grad: 7.6214  LR: 0.000009  \n",
      "Epoch: [3][18/19] Elapsed 0m 2s (remain 0m 0s) Loss: 0.2938(0.3376) Grad: 14.0221  LR: 0.000009  \n",
      "EVAL: [0/3] Elapsed 0m 0s (remain 0m 0s) Loss: 0.4568(0.4568) \n"
     ]
    },
    {
     "name": "stderr",
     "output_type": "stream",
     "text": [
      "Epoch 3 - avg_train_loss: 0.3376  avg_val_loss: 0.3897  time: 4s\n",
      "Epoch 3 - Score: 0.3943\n",
      "Epoch 3 - Save Best Score: 0.3943 Model\n"
     ]
    },
    {
     "name": "stdout",
     "output_type": "stream",
     "text": [
      "EVAL: [2/3] Elapsed 0m 0s (remain 0m 0s) Loss: 0.3015(0.3897) \n",
      "Epoch: [4][0/19] Elapsed 0m 0s (remain 0m 2s) Loss: 0.3619(0.3619) Grad: 3.8594  LR: 0.000001  \n",
      "Epoch: [4][10/19] Elapsed 0m 1s (remain 0m 1s) Loss: 0.3171(0.3108) Grad: 4.0560  LR: 0.000001  \n",
      "Epoch: [4][18/19] Elapsed 0m 2s (remain 0m 0s) Loss: 0.2756(0.2937) Grad: 3.8213  LR: 0.000001  \n",
      "EVAL: [0/3] Elapsed 0m 0s (remain 0m 0s) Loss: 0.4453(0.4453) \n"
     ]
    },
    {
     "name": "stderr",
     "output_type": "stream",
     "text": [
      "Epoch 4 - avg_train_loss: 0.2937  avg_val_loss: 0.3943  time: 4s\n",
      "Epoch 4 - Score: 0.3975\n"
     ]
    },
    {
     "name": "stdout",
     "output_type": "stream",
     "text": [
      "EVAL: [2/3] Elapsed 0m 0s (remain 0m 0s) Loss: 0.3038(0.3943) \n",
      "Epoch: [5][0/19] Elapsed 0m 0s (remain 0m 2s) Loss: 0.3080(0.3080) Grad: 7.4241  LR: 0.000050  \n",
      "Epoch: [5][10/19] Elapsed 0m 1s (remain 0m 1s) Loss: 0.3066(0.2965) Grad: 15.5784  LR: 0.000050  \n",
      "Epoch: [5][18/19] Elapsed 0m 2s (remain 0m 0s) Loss: 0.4023(0.3004) Grad: 14.4058  LR: 0.000050  \n",
      "EVAL: [0/3] Elapsed 0m 0s (remain 0m 0s) Loss: 0.3836(0.3836) \n"
     ]
    },
    {
     "name": "stderr",
     "output_type": "stream",
     "text": [
      "Epoch 5 - avg_train_loss: 0.3004  avg_val_loss: 0.3685  time: 4s\n",
      "Epoch 5 - Score: 0.3698\n",
      "Epoch 5 - Save Best Score: 0.3698 Model\n"
     ]
    },
    {
     "name": "stdout",
     "output_type": "stream",
     "text": [
      "EVAL: [2/3] Elapsed 0m 0s (remain 0m 0s) Loss: 0.3003(0.3685) \n",
      "Epoch: [6][0/19] Elapsed 0m 0s (remain 0m 2s) Loss: 0.2208(0.2208) Grad: 9.7018  LR: 0.000224  \n",
      "Epoch: [6][10/19] Elapsed 0m 1s (remain 0m 1s) Loss: 0.3010(0.2991) Grad: 4.8009  LR: 0.000224  \n",
      "Epoch: [6][18/19] Elapsed 0m 2s (remain 0m 0s) Loss: 0.3621(0.3057) Grad: 20.6768  LR: 0.000224  \n",
      "EVAL: [0/3] Elapsed 0m 0s (remain 0m 0s) Loss: 0.4385(0.4385) \n"
     ]
    },
    {
     "name": "stderr",
     "output_type": "stream",
     "text": [
      "Epoch 6 - avg_train_loss: 0.3057  avg_val_loss: 0.4087  time: 4s\n",
      "Epoch 6 - Score: 0.4106\n"
     ]
    },
    {
     "name": "stdout",
     "output_type": "stream",
     "text": [
      "EVAL: [2/3] Elapsed 0m 0s (remain 0m 0s) Loss: 0.3259(0.4087) \n",
      "Epoch: [7][0/19] Elapsed 0m 0s (remain 0m 2s) Loss: 0.2617(0.2617) Grad: 6.2658  LR: 0.000133  \n",
      "Epoch: [7][10/19] Elapsed 0m 1s (remain 0m 1s) Loss: 0.2176(0.3364) Grad: 10.5470  LR: 0.000133  \n",
      "Epoch: [7][18/19] Elapsed 0m 2s (remain 0m 0s) Loss: 0.3489(0.3426) Grad: 15.2997  LR: 0.000133  \n",
      "EVAL: [0/3] Elapsed 0m 0s (remain 0m 0s) Loss: 0.4757(0.4757) \n"
     ]
    },
    {
     "name": "stderr",
     "output_type": "stream",
     "text": [
      "Epoch 7 - avg_train_loss: 0.3426  avg_val_loss: 0.4359  time: 4s\n",
      "Epoch 7 - Score: 0.4374\n"
     ]
    },
    {
     "name": "stdout",
     "output_type": "stream",
     "text": [
      "EVAL: [2/3] Elapsed 0m 0s (remain 0m 0s) Loss: 0.3773(0.4359) \n",
      "Epoch: [8][0/19] Elapsed 0m 0s (remain 0m 2s) Loss: 0.3871(0.3871) Grad: 15.7554  LR: 0.000057  \n",
      "Epoch: [8][10/19] Elapsed 0m 1s (remain 0m 1s) Loss: 0.2280(0.2810) Grad: 6.2063  LR: 0.000057  \n",
      "Epoch: [8][18/19] Elapsed 0m 2s (remain 0m 0s) Loss: 0.2019(0.2672) Grad: 6.5902  LR: 0.000057  \n",
      "EVAL: [0/3] Elapsed 0m 0s (remain 0m 0s) Loss: 0.3805(0.3805) \n"
     ]
    },
    {
     "name": "stderr",
     "output_type": "stream",
     "text": [
      "Epoch 8 - avg_train_loss: 0.2672  avg_val_loss: 0.3809  time: 4s\n",
      "Epoch 8 - Score: 0.3829\n"
     ]
    },
    {
     "name": "stdout",
     "output_type": "stream",
     "text": [
      "EVAL: [2/3] Elapsed 0m 0s (remain 0m 0s) Loss: 0.3023(0.3809) \n",
      "Epoch: [9][0/19] Elapsed 0m 0s (remain 0m 2s) Loss: 0.2345(0.2345) Grad: 11.0506  LR: 0.000009  \n",
      "Epoch: [9][10/19] Elapsed 0m 1s (remain 0m 1s) Loss: 0.2428(0.2334) Grad: 6.7767  LR: 0.000009  \n",
      "Epoch: [9][18/19] Elapsed 0m 2s (remain 0m 0s) Loss: 0.1751(0.2096) Grad: 4.6606  LR: 0.000009  \n",
      "EVAL: [0/3] Elapsed 0m 0s (remain 0m 0s) Loss: 0.3622(0.3622) \n"
     ]
    },
    {
     "name": "stderr",
     "output_type": "stream",
     "text": [
      "Epoch 9 - avg_train_loss: 0.2096  avg_val_loss: 0.3382  time: 4s\n",
      "Epoch 9 - Score: 0.3404\n",
      "Epoch 9 - Save Best Score: 0.3404 Model\n"
     ]
    },
    {
     "name": "stdout",
     "output_type": "stream",
     "text": [
      "EVAL: [2/3] Elapsed 0m 0s (remain 0m 0s) Loss: 0.2522(0.3382) \n",
      "Epoch: [10][0/19] Elapsed 0m 0s (remain 0m 2s) Loss: 0.2179(0.2179) Grad: 14.1548  LR: 0.000001  \n",
      "Epoch: [10][10/19] Elapsed 0m 1s (remain 0m 1s) Loss: 0.1633(0.1747) Grad: 5.0730  LR: 0.000001  \n",
      "Epoch: [10][18/19] Elapsed 0m 2s (remain 0m 0s) Loss: 0.1350(0.1720) Grad: 8.7818  LR: 0.000001  \n",
      "EVAL: [0/3] Elapsed 0m 0s (remain 0m 0s) Loss: 0.3845(0.3845) \n"
     ]
    },
    {
     "name": "stderr",
     "output_type": "stream",
     "text": [
      "Epoch 10 - avg_train_loss: 0.1720  avg_val_loss: 0.3455  time: 4s\n",
      "Epoch 10 - Score: 0.3487\n"
     ]
    },
    {
     "name": "stdout",
     "output_type": "stream",
     "text": [
      "EVAL: [2/3] Elapsed 0m 0s (remain 0m 0s) Loss: 0.2484(0.3455) \n",
      "Epoch: [11][0/19] Elapsed 0m 0s (remain 0m 2s) Loss: 0.1458(0.1458) Grad: 6.8829  LR: 0.000050  \n",
      "Epoch: [11][10/19] Elapsed 0m 1s (remain 0m 1s) Loss: 0.1542(0.1606) Grad: 3.5300  LR: 0.000050  \n",
      "Epoch: [11][18/19] Elapsed 0m 2s (remain 0m 0s) Loss: 0.2010(0.1667) Grad: 8.6924  LR: 0.000050  \n",
      "EVAL: [0/3] Elapsed 0m 0s (remain 0m 0s) Loss: 0.3638(0.3638) \n"
     ]
    },
    {
     "name": "stderr",
     "output_type": "stream",
     "text": [
      "Epoch 11 - avg_train_loss: 0.1667  avg_val_loss: 0.3226  time: 3s\n",
      "Epoch 11 - Score: 0.3266\n",
      "Epoch 11 - Save Best Score: 0.3266 Model\n"
     ]
    },
    {
     "name": "stdout",
     "output_type": "stream",
     "text": [
      "EVAL: [2/3] Elapsed 0m 0s (remain 0m 0s) Loss: 0.2167(0.3226) \n",
      "Epoch: [12][0/19] Elapsed 0m 0s (remain 0m 2s) Loss: 0.1438(0.1438) Grad: 11.5288  LR: 0.000224  \n",
      "Epoch: [12][10/19] Elapsed 0m 1s (remain 0m 1s) Loss: 0.1728(0.1961) Grad: 15.2757  LR: 0.000224  \n",
      "Epoch: [12][18/19] Elapsed 0m 2s (remain 0m 0s) Loss: 0.2258(0.1932) Grad: 11.4562  LR: 0.000224  \n",
      "EVAL: [0/3] Elapsed 0m 0s (remain 0m 0s) Loss: 0.3823(0.3823) \n"
     ]
    },
    {
     "name": "stderr",
     "output_type": "stream",
     "text": [
      "Epoch 12 - avg_train_loss: 0.1932  avg_val_loss: 0.3602  time: 4s\n",
      "Epoch 12 - Score: 0.3618\n"
     ]
    },
    {
     "name": "stdout",
     "output_type": "stream",
     "text": [
      "EVAL: [2/3] Elapsed 0m 0s (remain 0m 0s) Loss: 0.2861(0.3602) \n",
      "Epoch: [13][0/19] Elapsed 0m 0s (remain 0m 2s) Loss: 0.1643(0.1643) Grad: 4.4599  LR: 0.000133  \n",
      "Epoch: [13][10/19] Elapsed 0m 1s (remain 0m 1s) Loss: 0.2190(0.1939) Grad: 18.1812  LR: 0.000133  \n",
      "Epoch: [13][18/19] Elapsed 0m 2s (remain 0m 0s) Loss: 0.2342(0.2262) Grad: 10.1864  LR: 0.000133  \n",
      "EVAL: [0/3] Elapsed 0m 0s (remain 0m 0s) Loss: 0.3813(0.3813) \n"
     ]
    },
    {
     "name": "stderr",
     "output_type": "stream",
     "text": [
      "Epoch 13 - avg_train_loss: 0.2262  avg_val_loss: 0.3702  time: 4s\n",
      "Epoch 13 - Score: 0.3718\n"
     ]
    },
    {
     "name": "stdout",
     "output_type": "stream",
     "text": [
      "EVAL: [2/3] Elapsed 0m 0s (remain 0m 0s) Loss: 0.2960(0.3702) \n",
      "Epoch: [14][0/19] Elapsed 0m 0s (remain 0m 2s) Loss: 0.2128(0.2128) Grad: 8.4642  LR: 0.000057  \n",
      "Epoch: [14][10/19] Elapsed 0m 1s (remain 0m 1s) Loss: 0.1873(0.2051) Grad: 3.9990  LR: 0.000057  \n",
      "Epoch: [14][18/19] Elapsed 0m 2s (remain 0m 0s) Loss: 0.2328(0.1983) Grad: 9.0342  LR: 0.000057  \n",
      "EVAL: [0/3] Elapsed 0m 0s (remain 0m 0s) Loss: 0.3842(0.3842) \n"
     ]
    },
    {
     "name": "stderr",
     "output_type": "stream",
     "text": [
      "Epoch 14 - avg_train_loss: 0.1983  avg_val_loss: 0.3371  time: 4s\n",
      "Epoch 14 - Score: 0.3411\n"
     ]
    },
    {
     "name": "stdout",
     "output_type": "stream",
     "text": [
      "EVAL: [2/3] Elapsed 0m 0s (remain 0m 0s) Loss: 0.2337(0.3371) \n",
      "Epoch: [15][0/19] Elapsed 0m 0s (remain 0m 2s) Loss: 0.1355(0.1355) Grad: 6.3240  LR: 0.000009  \n",
      "Epoch: [15][10/19] Elapsed 0m 1s (remain 0m 1s) Loss: 0.1478(0.1484) Grad: 5.8029  LR: 0.000009  \n",
      "Epoch: [15][18/19] Elapsed 0m 2s (remain 0m 0s) Loss: 0.1424(0.1455) Grad: 3.3588  LR: 0.000009  \n",
      "EVAL: [0/3] Elapsed 0m 0s (remain 0m 0s) Loss: 0.3641(0.3641) \n"
     ]
    },
    {
     "name": "stderr",
     "output_type": "stream",
     "text": [
      "Epoch 15 - avg_train_loss: 0.1455  avg_val_loss: 0.3181  time: 4s\n",
      "Epoch 15 - Score: 0.3209\n",
      "Epoch 15 - Save Best Score: 0.3209 Model\n"
     ]
    },
    {
     "name": "stdout",
     "output_type": "stream",
     "text": [
      "EVAL: [2/3] Elapsed 0m 0s (remain 0m 0s) Loss: 0.2504(0.3181) \n",
      "Epoch: [16][0/19] Elapsed 0m 0s (remain 0m 2s) Loss: 0.1372(0.1372) Grad: 12.0529  LR: 0.000001  \n",
      "Epoch: [16][10/19] Elapsed 0m 1s (remain 0m 1s) Loss: 0.1010(0.1226) Grad: 5.9978  LR: 0.000001  \n",
      "Epoch: [16][18/19] Elapsed 0m 2s (remain 0m 0s) Loss: 0.1260(0.1251) Grad: 7.9971  LR: 0.000001  \n",
      "EVAL: [0/3] Elapsed 0m 0s (remain 0m 0s) Loss: 0.3654(0.3654) \n"
     ]
    },
    {
     "name": "stderr",
     "output_type": "stream",
     "text": [
      "Epoch 16 - avg_train_loss: 0.1251  avg_val_loss: 0.3127  time: 4s\n",
      "Epoch 16 - Score: 0.3167\n",
      "Epoch 16 - Save Best Score: 0.3167 Model\n"
     ]
    },
    {
     "name": "stdout",
     "output_type": "stream",
     "text": [
      "EVAL: [2/3] Elapsed 0m 0s (remain 0m 0s) Loss: 0.2257(0.3127) \n",
      "Epoch: [17][0/19] Elapsed 0m 0s (remain 0m 2s) Loss: 0.1319(0.1319) Grad: 3.7228  LR: 0.000050  \n",
      "Epoch: [17][10/19] Elapsed 0m 1s (remain 0m 1s) Loss: 0.1311(0.1256) Grad: 7.7174  LR: 0.000050  \n",
      "Epoch: [17][18/19] Elapsed 0m 2s (remain 0m 0s) Loss: 0.1348(0.1246) Grad: 5.8111  LR: 0.000050  \n",
      "EVAL: [0/3] Elapsed 0m 0s (remain 0m 0s) Loss: 0.3776(0.3776) \n"
     ]
    },
    {
     "name": "stderr",
     "output_type": "stream",
     "text": [
      "Epoch 17 - avg_train_loss: 0.1246  avg_val_loss: 0.3323  time: 4s\n",
      "Epoch 17 - Score: 0.3347\n"
     ]
    },
    {
     "name": "stdout",
     "output_type": "stream",
     "text": [
      "EVAL: [2/3] Elapsed 0m 0s (remain 0m 0s) Loss: 0.2787(0.3323) \n",
      "Epoch: [18][0/19] Elapsed 0m 0s (remain 0m 2s) Loss: 0.0930(0.0930) Grad: 11.6905  LR: 0.000224  \n",
      "Epoch: [18][10/19] Elapsed 0m 1s (remain 0m 1s) Loss: 0.1955(0.1363) Grad: 21.2562  LR: 0.000224  \n",
      "Epoch: [18][18/19] Elapsed 0m 2s (remain 0m 0s) Loss: 0.1405(0.1469) Grad: 4.1075  LR: 0.000224  \n",
      "EVAL: [0/3] Elapsed 0m 0s (remain 0m 0s) Loss: 0.3790(0.3790) \n"
     ]
    },
    {
     "name": "stderr",
     "output_type": "stream",
     "text": [
      "Epoch 18 - avg_train_loss: 0.1469  avg_val_loss: 0.3665  time: 4s\n",
      "Epoch 18 - Score: 0.3668\n"
     ]
    },
    {
     "name": "stdout",
     "output_type": "stream",
     "text": [
      "EVAL: [2/3] Elapsed 0m 0s (remain 0m 0s) Loss: 0.3379(0.3665) \n",
      "Epoch: [19][0/19] Elapsed 0m 0s (remain 0m 2s) Loss: 0.2114(0.2114) Grad: 8.9552  LR: 0.000133  \n",
      "Epoch: [19][10/19] Elapsed 0m 1s (remain 0m 1s) Loss: 0.2186(0.2024) Grad: 12.2604  LR: 0.000133  \n",
      "Epoch: [19][18/19] Elapsed 0m 2s (remain 0m 0s) Loss: 0.1883(0.1978) Grad: 12.8008  LR: 0.000133  \n",
      "EVAL: [0/3] Elapsed 0m 0s (remain 0m 0s) Loss: 0.3830(0.3830) \n"
     ]
    },
    {
     "name": "stderr",
     "output_type": "stream",
     "text": [
      "Epoch 19 - avg_train_loss: 0.1978  avg_val_loss: 0.3327  time: 4s\n",
      "Epoch 19 - Score: 0.3365\n"
     ]
    },
    {
     "name": "stdout",
     "output_type": "stream",
     "text": [
      "EVAL: [2/3] Elapsed 0m 0s (remain 0m 0s) Loss: 0.2413(0.3327) \n",
      "Epoch: [20][0/19] Elapsed 0m 0s (remain 0m 2s) Loss: 0.1076(0.1076) Grad: 4.7044  LR: 0.000057  \n",
      "Epoch: [20][10/19] Elapsed 0m 1s (remain 0m 1s) Loss: 0.1510(0.1559) Grad: 7.3584  LR: 0.000057  \n",
      "Epoch: [20][18/19] Elapsed 0m 2s (remain 0m 0s) Loss: 0.1442(0.1644) Grad: 3.5564  LR: 0.000057  \n",
      "EVAL: [0/3] Elapsed 0m 0s (remain 0m 0s) Loss: 0.3598(0.3598) \n"
     ]
    },
    {
     "name": "stderr",
     "output_type": "stream",
     "text": [
      "Epoch 20 - avg_train_loss: 0.1644  avg_val_loss: 0.3518  time: 4s\n",
      "Epoch 20 - Score: 0.3520\n"
     ]
    },
    {
     "name": "stdout",
     "output_type": "stream",
     "text": [
      "EVAL: [2/3] Elapsed 0m 0s (remain 0m 0s) Loss: 0.3605(0.3518) \n",
      "Epoch: [21][0/19] Elapsed 0m 0s (remain 0m 2s) Loss: 0.1822(0.1822) Grad: 18.4871  LR: 0.000009  \n",
      "Epoch: [21][10/19] Elapsed 0m 1s (remain 0m 1s) Loss: 0.1330(0.1586) Grad: 5.9865  LR: 0.000009  \n",
      "Epoch: [21][18/19] Elapsed 0m 2s (remain 0m 0s) Loss: 0.1689(0.1495) Grad: 5.3563  LR: 0.000009  \n",
      "EVAL: [0/3] Elapsed 0m 0s (remain 0m 0s) Loss: 0.4055(0.4055) \n"
     ]
    },
    {
     "name": "stderr",
     "output_type": "stream",
     "text": [
      "Epoch 21 - avg_train_loss: 0.1495  avg_val_loss: 0.3465  time: 4s\n",
      "Epoch 21 - Score: 0.3503\n"
     ]
    },
    {
     "name": "stdout",
     "output_type": "stream",
     "text": [
      "EVAL: [2/3] Elapsed 0m 0s (remain 0m 0s) Loss: 0.2780(0.3465) \n",
      "Epoch: [22][0/19] Elapsed 0m 0s (remain 0m 2s) Loss: 0.1564(0.1564) Grad: 13.8788  LR: 0.000001  \n",
      "Epoch: [22][10/19] Elapsed 0m 1s (remain 0m 1s) Loss: 0.1397(0.1370) Grad: 7.3136  LR: 0.000001  \n",
      "Epoch: [22][18/19] Elapsed 0m 2s (remain 0m 0s) Loss: 0.1016(0.1275) Grad: 10.9552  LR: 0.000001  \n",
      "EVAL: [0/3] Elapsed 0m 0s (remain 0m 0s) Loss: 0.3452(0.3452) \n"
     ]
    },
    {
     "name": "stderr",
     "output_type": "stream",
     "text": [
      "Epoch 22 - avg_train_loss: 0.1275  avg_val_loss: 0.3244  time: 4s\n",
      "Epoch 22 - Score: 0.3258\n"
     ]
    },
    {
     "name": "stdout",
     "output_type": "stream",
     "text": [
      "EVAL: [2/3] Elapsed 0m 0s (remain 0m 0s) Loss: 0.2592(0.3244) \n",
      "Epoch: [23][0/19] Elapsed 0m 0s (remain 0m 2s) Loss: 0.1525(0.1525) Grad: 10.8756  LR: 0.000050  \n",
      "Epoch: [23][10/19] Elapsed 0m 1s (remain 0m 1s) Loss: 0.0898(0.1119) Grad: 10.4173  LR: 0.000050  \n",
      "Epoch: [23][18/19] Elapsed 0m 2s (remain 0m 0s) Loss: 0.1104(0.1200) Grad: 5.9079  LR: 0.000050  \n",
      "EVAL: [0/3] Elapsed 0m 0s (remain 0m 0s) Loss: 0.3846(0.3846) \n"
     ]
    },
    {
     "name": "stderr",
     "output_type": "stream",
     "text": [
      "Epoch 23 - avg_train_loss: 0.1200  avg_val_loss: 0.3332  time: 4s\n",
      "Epoch 23 - Score: 0.3366\n"
     ]
    },
    {
     "name": "stdout",
     "output_type": "stream",
     "text": [
      "EVAL: [2/3] Elapsed 0m 0s (remain 0m 0s) Loss: 0.2552(0.3332) \n",
      "Epoch: [24][0/19] Elapsed 0m 0s (remain 0m 2s) Loss: 0.0923(0.0923) Grad: 9.6068  LR: 0.000224  \n",
      "Epoch: [24][10/19] Elapsed 0m 1s (remain 0m 1s) Loss: 0.0999(0.1629) Grad: 5.7825  LR: 0.000224  \n",
      "Epoch: [24][18/19] Elapsed 0m 2s (remain 0m 0s) Loss: 0.1192(0.1579) Grad: 11.2447  LR: 0.000224  \n",
      "EVAL: [0/3] Elapsed 0m 0s (remain 0m 0s) Loss: 0.3883(0.3883) \n"
     ]
    },
    {
     "name": "stderr",
     "output_type": "stream",
     "text": [
      "Epoch 24 - avg_train_loss: 0.1579  avg_val_loss: 0.3434  time: 4s\n",
      "Epoch 24 - Score: 0.3477\n"
     ]
    },
    {
     "name": "stdout",
     "output_type": "stream",
     "text": [
      "EVAL: [2/3] Elapsed 0m 0s (remain 0m 0s) Loss: 0.2308(0.3434) \n",
      "Epoch: [25][0/19] Elapsed 0m 0s (remain 0m 2s) Loss: 0.1347(0.1347) Grad: 6.4102  LR: 0.000133  \n",
      "Epoch: [25][10/19] Elapsed 0m 1s (remain 0m 1s) Loss: 0.2487(0.1595) Grad: 14.9964  LR: 0.000133  \n",
      "Epoch: [25][18/19] Elapsed 0m 2s (remain 0m 0s) Loss: 0.3374(0.1937) Grad: 22.6194  LR: 0.000133  \n",
      "EVAL: [0/3] Elapsed 0m 0s (remain 0m 0s) Loss: 0.3553(0.3553) \n"
     ]
    },
    {
     "name": "stderr",
     "output_type": "stream",
     "text": [
      "Epoch 25 - avg_train_loss: 0.1937  avg_val_loss: 0.3442  time: 4s\n",
      "Epoch 25 - Score: 0.3465\n"
     ]
    },
    {
     "name": "stdout",
     "output_type": "stream",
     "text": [
      "EVAL: [2/3] Elapsed 0m 0s (remain 0m 0s) Loss: 0.2562(0.3442) \n",
      "Epoch: [26][0/19] Elapsed 0m 0s (remain 0m 2s) Loss: 0.1379(0.1379) Grad: 3.8986  LR: 0.000057  \n",
      "Epoch: [26][10/19] Elapsed 0m 1s (remain 0m 1s) Loss: 0.2283(0.1852) Grad: 14.6311  LR: 0.000057  \n",
      "Epoch: [26][18/19] Elapsed 0m 2s (remain 0m 0s) Loss: 0.1391(0.1781) Grad: 3.5625  LR: 0.000057  \n",
      "EVAL: [0/3] Elapsed 0m 0s (remain 0m 0s) Loss: 0.3648(0.3648) \n"
     ]
    },
    {
     "name": "stderr",
     "output_type": "stream",
     "text": [
      "Epoch 26 - avg_train_loss: 0.1781  avg_val_loss: 0.3292  time: 4s\n",
      "Epoch 26 - Score: 0.3308\n"
     ]
    },
    {
     "name": "stdout",
     "output_type": "stream",
     "text": [
      "EVAL: [2/3] Elapsed 0m 0s (remain 0m 0s) Loss: 0.2800(0.3292) \n",
      "Epoch: [27][0/19] Elapsed 0m 0s (remain 0m 2s) Loss: 0.1119(0.1119) Grad: 2.9663  LR: 0.000009  \n",
      "Epoch: [27][10/19] Elapsed 0m 1s (remain 0m 1s) Loss: 0.1256(0.1327) Grad: 7.9340  LR: 0.000009  \n",
      "Epoch: [27][18/19] Elapsed 0m 2s (remain 0m 0s) Loss: 0.1212(0.1330) Grad: 5.9492  LR: 0.000009  \n",
      "EVAL: [0/3] Elapsed 0m 0s (remain 0m 0s) Loss: 0.3704(0.3704) \n"
     ]
    },
    {
     "name": "stderr",
     "output_type": "stream",
     "text": [
      "Epoch 27 - avg_train_loss: 0.1330  avg_val_loss: 0.3224  time: 4s\n",
      "Epoch 27 - Score: 0.3256\n"
     ]
    },
    {
     "name": "stdout",
     "output_type": "stream",
     "text": [
      "EVAL: [2/3] Elapsed 0m 0s (remain 0m 0s) Loss: 0.2457(0.3224) \n",
      "Epoch: [28][0/19] Elapsed 0m 0s (remain 0m 2s) Loss: 0.1069(0.1069) Grad: 3.4244  LR: 0.000001  \n",
      "Epoch: [28][10/19] Elapsed 0m 1s (remain 0m 1s) Loss: 0.1175(0.1091) Grad: 5.5189  LR: 0.000001  \n",
      "Epoch: [28][18/19] Elapsed 0m 2s (remain 0m 0s) Loss: 0.1560(0.1101) Grad: 2.5945  LR: 0.000001  \n",
      "EVAL: [0/3] Elapsed 0m 0s (remain 0m 0s) Loss: 0.3775(0.3775) \n"
     ]
    },
    {
     "name": "stderr",
     "output_type": "stream",
     "text": [
      "Epoch 28 - avg_train_loss: 0.1101  avg_val_loss: 0.3298  time: 4s\n",
      "Epoch 28 - Score: 0.3335\n"
     ]
    },
    {
     "name": "stdout",
     "output_type": "stream",
     "text": [
      "EVAL: [2/3] Elapsed 0m 0s (remain 0m 0s) Loss: 0.2352(0.3298) \n",
      "Epoch: [29][0/19] Elapsed 0m 0s (remain 0m 2s) Loss: 0.1375(0.1375) Grad: 6.2173  LR: 0.000050  \n",
      "Epoch: [29][10/19] Elapsed 0m 1s (remain 0m 1s) Loss: 0.0769(0.0995) Grad: 2.8930  LR: 0.000050  \n",
      "Epoch: [29][18/19] Elapsed 0m 2s (remain 0m 0s) Loss: 0.1089(0.1028) Grad: 10.5513  LR: 0.000050  \n",
      "EVAL: [0/3] Elapsed 0m 0s (remain 0m 0s) Loss: 0.3768(0.3768) \n"
     ]
    },
    {
     "name": "stderr",
     "output_type": "stream",
     "text": [
      "Epoch 29 - avg_train_loss: 0.1028  avg_val_loss: 0.3235  time: 4s\n",
      "Epoch 29 - Score: 0.3290\n"
     ]
    },
    {
     "name": "stdout",
     "output_type": "stream",
     "text": [
      "EVAL: [2/3] Elapsed 0m 0s (remain 0m 0s) Loss: 0.2036(0.3235) \n",
      "Epoch: [30][0/19] Elapsed 0m 0s (remain 0m 2s) Loss: 0.0918(0.0918) Grad: 9.9007  LR: 0.000224  \n",
      "Epoch: [30][10/19] Elapsed 0m 1s (remain 0m 1s) Loss: 0.0888(0.1093) Grad: 6.2992  LR: 0.000224  \n",
      "Epoch: [30][18/19] Elapsed 0m 2s (remain 0m 0s) Loss: 0.1728(0.1179) Grad: 12.2150  LR: 0.000224  \n",
      "EVAL: [0/3] Elapsed 0m 0s (remain 0m 0s) Loss: 0.3756(0.3756) \n"
     ]
    },
    {
     "name": "stderr",
     "output_type": "stream",
     "text": [
      "Epoch 30 - avg_train_loss: 0.1179  avg_val_loss: 0.3423  time: 4s\n",
      "Epoch 30 - Score: 0.3451\n"
     ]
    },
    {
     "name": "stdout",
     "output_type": "stream",
     "text": [
      "EVAL: [2/3] Elapsed 0m 0s (remain 0m 0s) Loss: 0.2496(0.3423) \n",
      "Epoch: [31][0/19] Elapsed 0m 0s (remain 0m 2s) Loss: 0.1351(0.1351) Grad: 4.3264  LR: 0.000133  \n",
      "Epoch: [31][10/19] Elapsed 0m 1s (remain 0m 1s) Loss: 0.1770(0.1636) Grad: 14.4070  LR: 0.000133  \n",
      "Epoch: [31][18/19] Elapsed 0m 2s (remain 0m 0s) Loss: 0.1579(0.1597) Grad: 10.4151  LR: 0.000133  \n",
      "EVAL: [0/3] Elapsed 0m 0s (remain 0m 0s) Loss: 0.3688(0.3688) \n"
     ]
    },
    {
     "name": "stderr",
     "output_type": "stream",
     "text": [
      "Epoch 31 - avg_train_loss: 0.1597  avg_val_loss: 0.3179  time: 4s\n",
      "Epoch 31 - Score: 0.3224\n"
     ]
    },
    {
     "name": "stdout",
     "output_type": "stream",
     "text": [
      "EVAL: [2/3] Elapsed 0m 0s (remain 0m 0s) Loss: 0.2155(0.3179) \n",
      "Epoch: [32][0/19] Elapsed 0m 0s (remain 0m 2s) Loss: 0.1134(0.1134) Grad: 8.7316  LR: 0.000057  \n",
      "Epoch: [32][10/19] Elapsed 0m 1s (remain 0m 1s) Loss: 0.1378(0.1384) Grad: 5.2994  LR: 0.000057  \n",
      "Epoch: [32][18/19] Elapsed 0m 2s (remain 0m 0s) Loss: 0.1110(0.1389) Grad: 8.9653  LR: 0.000057  \n",
      "EVAL: [0/3] Elapsed 0m 0s (remain 0m 0s) Loss: 0.3833(0.3833) \n"
     ]
    },
    {
     "name": "stderr",
     "output_type": "stream",
     "text": [
      "Epoch 32 - avg_train_loss: 0.1389  avg_val_loss: 0.3445  time: 4s\n",
      "Epoch 32 - Score: 0.3475\n"
     ]
    },
    {
     "name": "stdout",
     "output_type": "stream",
     "text": [
      "EVAL: [2/3] Elapsed 0m 0s (remain 0m 0s) Loss: 0.2507(0.3445) \n",
      "Epoch: [33][0/19] Elapsed 0m 0s (remain 0m 2s) Loss: 0.1186(0.1186) Grad: 9.1983  LR: 0.000009  \n",
      "Epoch: [33][10/19] Elapsed 0m 1s (remain 0m 1s) Loss: 0.1258(0.1189) Grad: 9.7521  LR: 0.000009  \n",
      "Epoch: [33][18/19] Elapsed 0m 2s (remain 0m 0s) Loss: 0.0861(0.1154) Grad: 6.6505  LR: 0.000009  \n",
      "EVAL: [0/3] Elapsed 0m 0s (remain 0m 0s) Loss: 0.3967(0.3967) \n"
     ]
    },
    {
     "name": "stderr",
     "output_type": "stream",
     "text": [
      "Epoch 33 - avg_train_loss: 0.1154  avg_val_loss: 0.3374  time: 4s\n",
      "Epoch 33 - Score: 0.3419\n"
     ]
    },
    {
     "name": "stdout",
     "output_type": "stream",
     "text": [
      "EVAL: [2/3] Elapsed 0m 0s (remain 0m 0s) Loss: 0.2447(0.3374) \n",
      "Epoch: [34][0/19] Elapsed 0m 0s (remain 0m 2s) Loss: 0.0847(0.0847) Grad: 3.0398  LR: 0.000001  \n",
      "Epoch: [34][10/19] Elapsed 0m 1s (remain 0m 1s) Loss: 0.1220(0.0907) Grad: 4.4413  LR: 0.000001  \n",
      "Epoch: [34][18/19] Elapsed 0m 2s (remain 0m 0s) Loss: 0.1165(0.0965) Grad: 3.1344  LR: 0.000001  \n",
      "EVAL: [0/3] Elapsed 0m 0s (remain 0m 0s) Loss: 0.3605(0.3605) \n"
     ]
    },
    {
     "name": "stderr",
     "output_type": "stream",
     "text": [
      "Epoch 34 - avg_train_loss: 0.0965  avg_val_loss: 0.3206  time: 4s\n",
      "Epoch 34 - Score: 0.3228\n"
     ]
    },
    {
     "name": "stdout",
     "output_type": "stream",
     "text": [
      "EVAL: [2/3] Elapsed 0m 0s (remain 0m 0s) Loss: 0.2575(0.3206) \n",
      "Epoch: [35][0/19] Elapsed 0m 0s (remain 0m 2s) Loss: 0.0993(0.0993) Grad: 2.7136  LR: 0.000050  \n",
      "Epoch: [35][10/19] Elapsed 0m 1s (remain 0m 1s) Loss: 0.0977(0.0905) Grad: 10.4337  LR: 0.000050  \n",
      "Epoch: [35][18/19] Elapsed 0m 2s (remain 0m 0s) Loss: 0.1087(0.0979) Grad: 7.0583  LR: 0.000050  \n",
      "EVAL: [0/3] Elapsed 0m 0s (remain 0m 0s) Loss: 0.3668(0.3668) \n"
     ]
    },
    {
     "name": "stderr",
     "output_type": "stream",
     "text": [
      "Epoch 35 - avg_train_loss: 0.0979  avg_val_loss: 0.3177  time: 4s\n",
      "Epoch 35 - Score: 0.3212\n"
     ]
    },
    {
     "name": "stdout",
     "output_type": "stream",
     "text": [
      "EVAL: [2/3] Elapsed 0m 0s (remain 0m 0s) Loss: 0.2363(0.3177) \n",
      "Epoch: [36][0/19] Elapsed 0m 0s (remain 0m 2s) Loss: 0.0790(0.0790) Grad: 3.2691  LR: 0.000224  \n",
      "Epoch: [36][10/19] Elapsed 0m 1s (remain 0m 1s) Loss: 0.1248(0.0898) Grad: 3.0297  LR: 0.000224  \n",
      "Epoch: [36][18/19] Elapsed 0m 2s (remain 0m 0s) Loss: 0.0870(0.1021) Grad: 8.8431  LR: 0.000224  \n",
      "EVAL: [0/3] Elapsed 0m 0s (remain 0m 0s) Loss: 0.3445(0.3445) \n"
     ]
    },
    {
     "name": "stderr",
     "output_type": "stream",
     "text": [
      "Epoch 36 - avg_train_loss: 0.1021  avg_val_loss: 0.3220  time: 3s\n",
      "Epoch 36 - Score: 0.3227\n"
     ]
    },
    {
     "name": "stdout",
     "output_type": "stream",
     "text": [
      "EVAL: [2/3] Elapsed 0m 0s (remain 0m 0s) Loss: 0.2841(0.3220) \n",
      "Epoch: [37][0/19] Elapsed 0m 0s (remain 0m 2s) Loss: 0.1209(0.1209) Grad: 8.6627  LR: 0.000133  \n",
      "Epoch: [37][10/19] Elapsed 0m 1s (remain 0m 1s) Loss: 0.1382(0.1306) Grad: 8.6169  LR: 0.000133  \n",
      "Epoch: [37][18/19] Elapsed 0m 2s (remain 0m 0s) Loss: 0.1394(0.1319) Grad: 10.4464  LR: 0.000133  \n",
      "EVAL: [0/3] Elapsed 0m 0s (remain 0m 0s) Loss: 0.3667(0.3667) \n"
     ]
    },
    {
     "name": "stderr",
     "output_type": "stream",
     "text": [
      "Epoch 37 - avg_train_loss: 0.1319  avg_val_loss: 0.3245  time: 3s\n",
      "Epoch 37 - Score: 0.3285\n"
     ]
    },
    {
     "name": "stdout",
     "output_type": "stream",
     "text": [
      "EVAL: [2/3] Elapsed 0m 0s (remain 0m 0s) Loss: 0.2186(0.3245) \n",
      "Epoch: [38][0/19] Elapsed 0m 0s (remain 0m 2s) Loss: 0.1337(0.1337) Grad: 4.1702  LR: 0.000057  \n",
      "Epoch: [38][10/19] Elapsed 0m 1s (remain 0m 1s) Loss: 0.1204(0.1322) Grad: 9.5601  LR: 0.000057  \n",
      "Epoch: [38][18/19] Elapsed 0m 2s (remain 0m 0s) Loss: 0.1617(0.1324) Grad: 11.0464  LR: 0.000057  \n",
      "EVAL: [0/3] Elapsed 0m 0s (remain 0m 0s) Loss: 0.3421(0.3421) \n"
     ]
    },
    {
     "name": "stderr",
     "output_type": "stream",
     "text": [
      "Epoch 38 - avg_train_loss: 0.1324  avg_val_loss: 0.3165  time: 4s\n",
      "Epoch 38 - Score: 0.3182\n"
     ]
    },
    {
     "name": "stdout",
     "output_type": "stream",
     "text": [
      "EVAL: [2/3] Elapsed 0m 0s (remain 0m 0s) Loss: 0.2468(0.3165) \n",
      "Epoch: [39][0/19] Elapsed 0m 0s (remain 0m 2s) Loss: 0.1143(0.1143) Grad: 4.7188  LR: 0.000009  \n",
      "Epoch: [39][10/19] Elapsed 0m 1s (remain 0m 1s) Loss: 0.1098(0.1023) Grad: 4.4610  LR: 0.000009  \n",
      "Epoch: [39][18/19] Elapsed 0m 2s (remain 0m 0s) Loss: 0.1055(0.0993) Grad: 3.1023  LR: 0.000009  \n",
      "EVAL: [0/3] Elapsed 0m 0s (remain 0m 0s) Loss: 0.3510(0.3510) \n"
     ]
    },
    {
     "name": "stderr",
     "output_type": "stream",
     "text": [
      "Epoch 39 - avg_train_loss: 0.0993  avg_val_loss: 0.3112  time: 4s\n",
      "Epoch 39 - Score: 0.3135\n",
      "Epoch 39 - Save Best Score: 0.3135 Model\n"
     ]
    },
    {
     "name": "stdout",
     "output_type": "stream",
     "text": [
      "EVAL: [2/3] Elapsed 0m 0s (remain 0m 0s) Loss: 0.2445(0.3112) \n",
      "Epoch: [40][0/19] Elapsed 0m 0s (remain 0m 2s) Loss: 0.0823(0.0823) Grad: 2.9155  LR: 0.000001  \n",
      "Epoch: [40][10/19] Elapsed 0m 1s (remain 0m 1s) Loss: 0.0660(0.0841) Grad: 4.8576  LR: 0.000001  \n",
      "Epoch: [40][18/19] Elapsed 0m 2s (remain 0m 0s) Loss: 0.1061(0.0855) Grad: 4.1554  LR: 0.000001  \n",
      "EVAL: [0/3] Elapsed 0m 0s (remain 0m 0s) Loss: 0.3548(0.3548) \n"
     ]
    },
    {
     "name": "stderr",
     "output_type": "stream",
     "text": [
      "Epoch 40 - avg_train_loss: 0.0855  avg_val_loss: 0.3127  time: 4s\n",
      "Epoch 40 - Score: 0.3154\n",
      "========== fold: 4 result ==========\n",
      "Score: 0.3135\n",
      "========== CV ==========\n",
      "Score: 0.3082\n",
      "========== seed20 ==========\n",
      "========== fold: 0 training ==========\n"
     ]
    },
    {
     "name": "stdout",
     "output_type": "stream",
     "text": [
      "EVAL: [2/3] Elapsed 0m 0s (remain 0m 0s) Loss: 0.2407(0.3127) \n",
      "Epoch: [1][0/19] Elapsed 0m 0s (remain 0m 2s) Loss: 3.0725(3.0725) Grad: 26.7101  LR: 0.000100  \n",
      "Epoch: [1][10/19] Elapsed 0m 1s (remain 0m 1s) Loss: 0.6415(1.5602) Grad: 12.3836  LR: 0.000100  \n",
      "Epoch: [1][18/19] Elapsed 0m 2s (remain 0m 0s) Loss: 0.5082(1.2067) Grad: 12.7449  LR: 0.000100  \n",
      "EVAL: [0/3] Elapsed 0m 0s (remain 0m 0s) Loss: 0.4745(0.4745) \n"
     ]
    },
    {
     "name": "stderr",
     "output_type": "stream",
     "text": [
      "Epoch 1 - avg_train_loss: 1.2067  avg_val_loss: 0.4731  time: 3s\n",
      "Epoch 1 - Score: 0.4751\n",
      "Epoch 1 - Save Best Score: 0.4751 Model\n"
     ]
    },
    {
     "name": "stdout",
     "output_type": "stream",
     "text": [
      "EVAL: [2/3] Elapsed 0m 0s (remain 0m 0s) Loss: 0.3834(0.4731) \n",
      "Epoch: [2][0/19] Elapsed 0m 0s (remain 0m 2s) Loss: 0.4745(0.4745) Grad: 13.3848  LR: 0.000057  \n",
      "Epoch: [2][10/19] Elapsed 0m 1s (remain 0m 1s) Loss: 0.3508(0.4764) Grad: 4.2792  LR: 0.000057  \n",
      "Epoch: [2][18/19] Elapsed 0m 2s (remain 0m 0s) Loss: 0.5007(0.4513) Grad: 13.5314  LR: 0.000057  \n",
      "EVAL: [0/3] Elapsed 0m 0s (remain 0m 0s) Loss: 0.4034(0.4034) \n"
     ]
    },
    {
     "name": "stderr",
     "output_type": "stream",
     "text": [
      "Epoch 2 - avg_train_loss: 0.4513  avg_val_loss: 0.3939  time: 3s\n",
      "Epoch 2 - Score: 0.3946\n",
      "Epoch 2 - Save Best Score: 0.3946 Model\n"
     ]
    },
    {
     "name": "stdout",
     "output_type": "stream",
     "text": [
      "EVAL: [2/3] Elapsed 0m 0s (remain 0m 0s) Loss: 0.3404(0.3939) \n",
      "Epoch: [3][0/19] Elapsed 0m 0s (remain 0m 2s) Loss: 0.4366(0.4366) Grad: 12.6701  LR: 0.000009  \n",
      "Epoch: [3][10/19] Elapsed 0m 1s (remain 0m 1s) Loss: 0.4677(0.4059) Grad: 23.8879  LR: 0.000009  \n",
      "Epoch: [3][18/19] Elapsed 0m 2s (remain 0m 0s) Loss: 0.4566(0.3827) Grad: 10.7552  LR: 0.000009  \n",
      "EVAL: [0/3] Elapsed 0m 0s (remain 0m 0s) Loss: 0.3631(0.3631) \n"
     ]
    },
    {
     "name": "stderr",
     "output_type": "stream",
     "text": [
      "Epoch 3 - avg_train_loss: 0.3827  avg_val_loss: 0.3700  time: 3s\n",
      "Epoch 3 - Score: 0.3709\n",
      "Epoch 3 - Save Best Score: 0.3709 Model\n"
     ]
    },
    {
     "name": "stdout",
     "output_type": "stream",
     "text": [
      "EVAL: [2/3] Elapsed 0m 0s (remain 0m 0s) Loss: 0.3235(0.3700) \n",
      "Epoch: [4][0/19] Elapsed 0m 0s (remain 0m 2s) Loss: 0.3303(0.3303) Grad: 16.0055  LR: 0.000001  \n",
      "Epoch: [4][10/19] Elapsed 0m 1s (remain 0m 1s) Loss: 0.2759(0.3418) Grad: 5.2953  LR: 0.000001  \n",
      "Epoch: [4][18/19] Elapsed 0m 2s (remain 0m 0s) Loss: 0.3526(0.3297) Grad: 10.3787  LR: 0.000001  \n",
      "EVAL: [0/3] Elapsed 0m 0s (remain 0m 0s) Loss: 0.3126(0.3126) \n"
     ]
    },
    {
     "name": "stderr",
     "output_type": "stream",
     "text": [
      "Epoch 4 - avg_train_loss: 0.3297  avg_val_loss: 0.3283  time: 4s\n",
      "Epoch 4 - Score: 0.3301\n",
      "Epoch 4 - Save Best Score: 0.3301 Model\n"
     ]
    },
    {
     "name": "stdout",
     "output_type": "stream",
     "text": [
      "EVAL: [2/3] Elapsed 0m 0s (remain 0m 0s) Loss: 0.2744(0.3283) \n",
      "Epoch: [5][0/19] Elapsed 0m 0s (remain 0m 2s) Loss: 0.3806(0.3806) Grad: 4.1241  LR: 0.000050  \n",
      "Epoch: [5][10/19] Elapsed 0m 1s (remain 0m 1s) Loss: 0.2798(0.3497) Grad: 4.3695  LR: 0.000050  \n",
      "Epoch: [5][18/19] Elapsed 0m 2s (remain 0m 0s) Loss: 0.2761(0.3257) Grad: 6.2282  LR: 0.000050  \n",
      "EVAL: [0/3] Elapsed 0m 0s (remain 0m 0s) Loss: 0.3120(0.3120) \n"
     ]
    },
    {
     "name": "stderr",
     "output_type": "stream",
     "text": [
      "Epoch 5 - avg_train_loss: 0.3257  avg_val_loss: 0.3210  time: 3s\n",
      "Epoch 5 - Score: 0.3212\n",
      "Epoch 5 - Save Best Score: 0.3212 Model\n"
     ]
    },
    {
     "name": "stdout",
     "output_type": "stream",
     "text": [
      "EVAL: [2/3] Elapsed 0m 0s (remain 0m 0s) Loss: 0.3077(0.3210) \n",
      "Epoch: [6][0/19] Elapsed 0m 0s (remain 0m 2s) Loss: 0.3075(0.3075) Grad: 6.4000  LR: 0.000224  \n",
      "Epoch: [6][10/19] Elapsed 0m 1s (remain 0m 1s) Loss: 0.2806(0.3537) Grad: 7.6966  LR: 0.000224  \n",
      "Epoch: [6][18/19] Elapsed 0m 2s (remain 0m 0s) Loss: 0.2575(0.3452) Grad: 6.1569  LR: 0.000224  \n",
      "EVAL: [0/3] Elapsed 0m 0s (remain 0m 0s) Loss: 0.4426(0.4426) \n"
     ]
    },
    {
     "name": "stderr",
     "output_type": "stream",
     "text": [
      "Epoch 6 - avg_train_loss: 0.3452  avg_val_loss: 0.4237  time: 3s\n",
      "Epoch 6 - Score: 0.4243\n"
     ]
    },
    {
     "name": "stdout",
     "output_type": "stream",
     "text": [
      "EVAL: [2/3] Elapsed 0m 0s (remain 0m 0s) Loss: 0.4446(0.4237) \n",
      "Epoch: [7][0/19] Elapsed 0m 0s (remain 0m 2s) Loss: 0.3391(0.3391) Grad: 25.2870  LR: 0.000133  \n",
      "Epoch: [7][10/19] Elapsed 0m 1s (remain 0m 1s) Loss: 0.4083(0.2815) Grad: 13.3285  LR: 0.000133  \n",
      "Epoch: [7][18/19] Elapsed 0m 2s (remain 0m 0s) Loss: 0.2602(0.2886) Grad: 5.8153  LR: 0.000133  \n",
      "EVAL: [0/3] Elapsed 0m 0s (remain 0m 0s) Loss: 0.3104(0.3104) \n"
     ]
    },
    {
     "name": "stderr",
     "output_type": "stream",
     "text": [
      "Epoch 7 - avg_train_loss: 0.2886  avg_val_loss: 0.3123  time: 4s\n",
      "Epoch 7 - Score: 0.3131\n",
      "Epoch 7 - Save Best Score: 0.3131 Model\n"
     ]
    },
    {
     "name": "stdout",
     "output_type": "stream",
     "text": [
      "EVAL: [2/3] Elapsed 0m 0s (remain 0m 0s) Loss: 0.2676(0.3123) \n",
      "Epoch: [8][0/19] Elapsed 0m 0s (remain 0m 2s) Loss: 0.2698(0.2698) Grad: 6.4201  LR: 0.000057  \n",
      "Epoch: [8][10/19] Elapsed 0m 1s (remain 0m 1s) Loss: 0.2912(0.2614) Grad: 22.1588  LR: 0.000057  \n",
      "Epoch: [8][18/19] Elapsed 0m 2s (remain 0m 0s) Loss: 0.2034(0.2600) Grad: 10.2426  LR: 0.000057  \n",
      "EVAL: [0/3] Elapsed 0m 0s (remain 0m 0s) Loss: 0.3264(0.3264) \n"
     ]
    },
    {
     "name": "stderr",
     "output_type": "stream",
     "text": [
      "Epoch 8 - avg_train_loss: 0.2600  avg_val_loss: 0.3128  time: 3s\n",
      "Epoch 8 - Score: 0.3169\n"
     ]
    },
    {
     "name": "stdout",
     "output_type": "stream",
     "text": [
      "EVAL: [2/3] Elapsed 0m 0s (remain 0m 0s) Loss: 0.2011(0.3128) \n",
      "Epoch: [9][0/19] Elapsed 0m 0s (remain 0m 2s) Loss: 0.2421(0.2421) Grad: 4.9433  LR: 0.000009  \n",
      "Epoch: [9][10/19] Elapsed 0m 1s (remain 0m 1s) Loss: 0.2129(0.2067) Grad: 7.0688  LR: 0.000009  \n",
      "Epoch: [9][18/19] Elapsed 0m 2s (remain 0m 0s) Loss: 0.2117(0.2103) Grad: 10.6564  LR: 0.000009  \n",
      "EVAL: [0/3] Elapsed 0m 0s (remain 0m 0s) Loss: 0.3459(0.3459) \n"
     ]
    },
    {
     "name": "stderr",
     "output_type": "stream",
     "text": [
      "Epoch 9 - avg_train_loss: 0.2103  avg_val_loss: 0.3191  time: 3s\n",
      "Epoch 9 - Score: 0.3202\n"
     ]
    },
    {
     "name": "stdout",
     "output_type": "stream",
     "text": [
      "EVAL: [2/3] Elapsed 0m 0s (remain 0m 0s) Loss: 0.2763(0.3191) \n",
      "Epoch: [10][0/19] Elapsed 0m 0s (remain 0m 2s) Loss: 0.2153(0.2153) Grad: 19.7158  LR: 0.000001  \n",
      "Epoch: [10][10/19] Elapsed 0m 1s (remain 0m 1s) Loss: 0.1523(0.2228) Grad: 9.7882  LR: 0.000001  \n",
      "Epoch: [10][18/19] Elapsed 0m 2s (remain 0m 0s) Loss: 0.1520(0.1928) Grad: 6.2830  LR: 0.000001  \n",
      "EVAL: [0/3] Elapsed 0m 0s (remain 0m 0s) Loss: 0.2864(0.2864) \n"
     ]
    },
    {
     "name": "stderr",
     "output_type": "stream",
     "text": [
      "Epoch 10 - avg_train_loss: 0.1928  avg_val_loss: 0.2715  time: 3s\n",
      "Epoch 10 - Score: 0.2725\n",
      "Epoch 10 - Save Best Score: 0.2725 Model\n"
     ]
    },
    {
     "name": "stdout",
     "output_type": "stream",
     "text": [
      "EVAL: [2/3] Elapsed 0m 0s (remain 0m 0s) Loss: 0.2229(0.2715) \n",
      "Epoch: [11][0/19] Elapsed 0m 0s (remain 0m 2s) Loss: 0.1613(0.1613) Grad: 5.5747  LR: 0.000050  \n",
      "Epoch: [11][10/19] Elapsed 0m 1s (remain 0m 1s) Loss: 0.1546(0.1902) Grad: 13.5150  LR: 0.000050  \n",
      "Epoch: [11][18/19] Elapsed 0m 2s (remain 0m 0s) Loss: 0.1341(0.1795) Grad: 4.1176  LR: 0.000050  \n",
      "EVAL: [0/3] Elapsed 0m 0s (remain 0m 0s) Loss: 0.3035(0.3035) \n"
     ]
    },
    {
     "name": "stderr",
     "output_type": "stream",
     "text": [
      "Epoch 11 - avg_train_loss: 0.1795  avg_val_loss: 0.2820  time: 3s\n",
      "Epoch 11 - Score: 0.2828\n"
     ]
    },
    {
     "name": "stdout",
     "output_type": "stream",
     "text": [
      "EVAL: [2/3] Elapsed 0m 0s (remain 0m 0s) Loss: 0.2418(0.2820) \n",
      "Epoch: [12][0/19] Elapsed 0m 0s (remain 0m 2s) Loss: 0.1835(0.1835) Grad: 7.3474  LR: 0.000224  \n",
      "Epoch: [12][10/19] Elapsed 0m 1s (remain 0m 1s) Loss: 0.2022(0.1780) Grad: 19.3052  LR: 0.000224  \n",
      "Epoch: [12][18/19] Elapsed 0m 2s (remain 0m 0s) Loss: 0.2768(0.1948) Grad: 18.0616  LR: 0.000224  \n",
      "EVAL: [0/3] Elapsed 0m 0s (remain 0m 0s) Loss: 0.2993(0.2993) \n"
     ]
    },
    {
     "name": "stderr",
     "output_type": "stream",
     "text": [
      "Epoch 12 - avg_train_loss: 0.1948  avg_val_loss: 0.2944  time: 3s\n",
      "Epoch 12 - Score: 0.2952\n"
     ]
    },
    {
     "name": "stdout",
     "output_type": "stream",
     "text": [
      "EVAL: [2/3] Elapsed 0m 0s (remain 0m 0s) Loss: 0.2477(0.2944) \n",
      "Epoch: [13][0/19] Elapsed 0m 0s (remain 0m 2s) Loss: 0.1835(0.1835) Grad: 12.2175  LR: 0.000133  \n",
      "Epoch: [13][10/19] Elapsed 0m 1s (remain 0m 1s) Loss: 0.2386(0.2177) Grad: 16.4245  LR: 0.000133  \n",
      "Epoch: [13][18/19] Elapsed 0m 2s (remain 0m 0s) Loss: 0.3384(0.2673) Grad: 16.0672  LR: 0.000133  \n",
      "EVAL: [0/3] Elapsed 0m 0s (remain 0m 0s) Loss: 0.3428(0.3428) \n"
     ]
    },
    {
     "name": "stderr",
     "output_type": "stream",
     "text": [
      "Epoch 13 - avg_train_loss: 0.2673  avg_val_loss: 0.3321  time: 3s\n",
      "Epoch 13 - Score: 0.3323\n"
     ]
    },
    {
     "name": "stdout",
     "output_type": "stream",
     "text": [
      "EVAL: [2/3] Elapsed 0m 0s (remain 0m 0s) Loss: 0.3318(0.3321) \n",
      "Epoch: [14][0/19] Elapsed 0m 0s (remain 0m 2s) Loss: 0.2482(0.2482) Grad: 15.7089  LR: 0.000057  \n",
      "Epoch: [14][10/19] Elapsed 0m 1s (remain 0m 1s) Loss: 0.2362(0.2248) Grad: 16.0940  LR: 0.000057  \n",
      "Epoch: [14][18/19] Elapsed 0m 2s (remain 0m 0s) Loss: 0.2031(0.2379) Grad: 11.0752  LR: 0.000057  \n",
      "EVAL: [0/3] Elapsed 0m 0s (remain 0m 0s) Loss: 0.3409(0.3409) \n"
     ]
    },
    {
     "name": "stderr",
     "output_type": "stream",
     "text": [
      "Epoch 14 - avg_train_loss: 0.2379  avg_val_loss: 0.3396  time: 3s\n",
      "Epoch 14 - Score: 0.3407\n"
     ]
    },
    {
     "name": "stdout",
     "output_type": "stream",
     "text": [
      "EVAL: [2/3] Elapsed 0m 0s (remain 0m 0s) Loss: 0.2840(0.3396) \n",
      "Epoch: [15][0/19] Elapsed 0m 0s (remain 0m 2s) Loss: 0.2543(0.2543) Grad: 16.7325  LR: 0.000009  \n",
      "Epoch: [15][10/19] Elapsed 0m 1s (remain 0m 1s) Loss: 0.1496(0.1976) Grad: 11.0306  LR: 0.000009  \n",
      "Epoch: [15][18/19] Elapsed 0m 2s (remain 0m 0s) Loss: 0.1547(0.1847) Grad: 7.7853  LR: 0.000009  \n",
      "EVAL: [0/3] Elapsed 0m 0s (remain 0m 0s) Loss: 0.3023(0.3023) \n"
     ]
    },
    {
     "name": "stderr",
     "output_type": "stream",
     "text": [
      "Epoch 15 - avg_train_loss: 0.1847  avg_val_loss: 0.2781  time: 3s\n",
      "Epoch 15 - Score: 0.2790\n"
     ]
    },
    {
     "name": "stdout",
     "output_type": "stream",
     "text": [
      "EVAL: [2/3] Elapsed 0m 0s (remain 0m 0s) Loss: 0.2420(0.2781) \n",
      "Epoch: [16][0/19] Elapsed 0m 0s (remain 0m 2s) Loss: 0.1445(0.1445) Grad: 3.9259  LR: 0.000001  \n",
      "Epoch: [16][10/19] Elapsed 0m 1s (remain 0m 1s) Loss: 0.1061(0.1395) Grad: 7.3425  LR: 0.000001  \n",
      "Epoch: [16][18/19] Elapsed 0m 2s (remain 0m 0s) Loss: 0.1251(0.1401) Grad: 9.6859  LR: 0.000001  \n",
      "EVAL: [0/3] Elapsed 0m 0s (remain 0m 0s) Loss: 0.2960(0.2960) \n"
     ]
    },
    {
     "name": "stderr",
     "output_type": "stream",
     "text": [
      "Epoch 16 - avg_train_loss: 0.1401  avg_val_loss: 0.2778  time: 3s\n",
      "Epoch 16 - Score: 0.2786\n"
     ]
    },
    {
     "name": "stdout",
     "output_type": "stream",
     "text": [
      "EVAL: [2/3] Elapsed 0m 0s (remain 0m 0s) Loss: 0.2369(0.2778) \n",
      "Epoch: [17][0/19] Elapsed 0m 0s (remain 0m 2s) Loss: 0.0974(0.0974) Grad: 3.9866  LR: 0.000050  \n",
      "Epoch: [17][10/19] Elapsed 0m 1s (remain 0m 1s) Loss: 0.1587(0.1387) Grad: 4.0663  LR: 0.000050  \n",
      "Epoch: [17][18/19] Elapsed 0m 2s (remain 0m 0s) Loss: 0.1579(0.1392) Grad: 4.2918  LR: 0.000050  \n",
      "EVAL: [0/3] Elapsed 0m 0s (remain 0m 0s) Loss: 0.2804(0.2804) \n"
     ]
    },
    {
     "name": "stderr",
     "output_type": "stream",
     "text": [
      "Epoch 17 - avg_train_loss: 0.1392  avg_val_loss: 0.2657  time: 4s\n",
      "Epoch 17 - Score: 0.2662\n",
      "Epoch 17 - Save Best Score: 0.2662 Model\n"
     ]
    },
    {
     "name": "stdout",
     "output_type": "stream",
     "text": [
      "EVAL: [2/3] Elapsed 0m 0s (remain 0m 0s) Loss: 0.2373(0.2657) \n",
      "Epoch: [18][0/19] Elapsed 0m 0s (remain 0m 2s) Loss: 0.1055(0.1055) Grad: 7.4663  LR: 0.000224  \n",
      "Epoch: [18][10/19] Elapsed 0m 1s (remain 0m 1s) Loss: 0.1614(0.1408) Grad: 4.2701  LR: 0.000224  \n",
      "Epoch: [18][18/19] Elapsed 0m 2s (remain 0m 0s) Loss: 0.1431(0.1428) Grad: 10.7021  LR: 0.000224  \n",
      "EVAL: [0/3] Elapsed 0m 0s (remain 0m 0s) Loss: 0.3200(0.3200) \n"
     ]
    },
    {
     "name": "stderr",
     "output_type": "stream",
     "text": [
      "Epoch 18 - avg_train_loss: 0.1428  avg_val_loss: 0.3039  time: 3s\n",
      "Epoch 18 - Score: 0.3048\n"
     ]
    },
    {
     "name": "stdout",
     "output_type": "stream",
     "text": [
      "EVAL: [2/3] Elapsed 0m 0s (remain 0m 0s) Loss: 0.2529(0.3039) \n",
      "Epoch: [19][0/19] Elapsed 0m 0s (remain 0m 2s) Loss: 0.1527(0.1527) Grad: 11.1861  LR: 0.000133  \n",
      "Epoch: [19][10/19] Elapsed 0m 1s (remain 0m 1s) Loss: 0.2364(0.1739) Grad: 21.3111  LR: 0.000133  \n",
      "Epoch: [19][18/19] Elapsed 0m 2s (remain 0m 0s) Loss: 0.2000(0.1912) Grad: 16.2920  LR: 0.000133  \n",
      "EVAL: [0/3] Elapsed 0m 0s (remain 0m 0s) Loss: 0.3770(0.3770) \n"
     ]
    },
    {
     "name": "stderr",
     "output_type": "stream",
     "text": [
      "Epoch 19 - avg_train_loss: 0.1912  avg_val_loss: 0.3452  time: 3s\n",
      "Epoch 19 - Score: 0.3470\n"
     ]
    },
    {
     "name": "stdout",
     "output_type": "stream",
     "text": [
      "EVAL: [2/3] Elapsed 0m 0s (remain 0m 0s) Loss: 0.2751(0.3452) \n",
      "Epoch: [20][0/19] Elapsed 0m 0s (remain 0m 2s) Loss: 0.2482(0.2482) Grad: 13.9984  LR: 0.000057  \n",
      "Epoch: [20][10/19] Elapsed 0m 1s (remain 0m 1s) Loss: 0.1843(0.2098) Grad: 13.7477  LR: 0.000057  \n",
      "Epoch: [20][18/19] Elapsed 0m 2s (remain 0m 0s) Loss: 0.1718(0.2058) Grad: 17.8067  LR: 0.000057  \n",
      "EVAL: [0/3] Elapsed 0m 0s (remain 0m 0s) Loss: 0.3384(0.3384) \n"
     ]
    },
    {
     "name": "stderr",
     "output_type": "stream",
     "text": [
      "Epoch 20 - avg_train_loss: 0.2058  avg_val_loss: 0.3115  time: 3s\n",
      "Epoch 20 - Score: 0.3126\n"
     ]
    },
    {
     "name": "stdout",
     "output_type": "stream",
     "text": [
      "EVAL: [2/3] Elapsed 0m 0s (remain 0m 0s) Loss: 0.2642(0.3115) \n",
      "Epoch: [21][0/19] Elapsed 0m 0s (remain 0m 2s) Loss: 0.2158(0.2158) Grad: 18.3866  LR: 0.000009  \n",
      "Epoch: [21][10/19] Elapsed 0m 1s (remain 0m 1s) Loss: 0.1431(0.1544) Grad: 5.6213  LR: 0.000009  \n",
      "Epoch: [21][18/19] Elapsed 0m 2s (remain 0m 0s) Loss: 0.1239(0.1435) Grad: 3.5173  LR: 0.000009  \n",
      "EVAL: [0/3] Elapsed 0m 0s (remain 0m 0s) Loss: 0.3031(0.3031) \n"
     ]
    },
    {
     "name": "stderr",
     "output_type": "stream",
     "text": [
      "Epoch 21 - avg_train_loss: 0.1435  avg_val_loss: 0.2825  time: 4s\n",
      "Epoch 21 - Score: 0.2851\n"
     ]
    },
    {
     "name": "stdout",
     "output_type": "stream",
     "text": [
      "EVAL: [2/3] Elapsed 0m 0s (remain 0m 0s) Loss: 0.1976(0.2825) \n",
      "Epoch: [22][0/19] Elapsed 0m 0s (remain 0m 2s) Loss: 0.1914(0.1914) Grad: 14.3103  LR: 0.000001  \n",
      "Epoch: [22][10/19] Elapsed 0m 1s (remain 0m 1s) Loss: 0.1372(0.1390) Grad: 10.7182  LR: 0.000001  \n",
      "Epoch: [22][18/19] Elapsed 0m 2s (remain 0m 0s) Loss: 0.1380(0.1300) Grad: 6.0125  LR: 0.000001  \n",
      "EVAL: [0/3] Elapsed 0m 0s (remain 0m 0s) Loss: 0.2995(0.2995) \n"
     ]
    },
    {
     "name": "stderr",
     "output_type": "stream",
     "text": [
      "Epoch 22 - avg_train_loss: 0.1300  avg_val_loss: 0.2730  time: 4s\n",
      "Epoch 22 - Score: 0.2741\n"
     ]
    },
    {
     "name": "stdout",
     "output_type": "stream",
     "text": [
      "EVAL: [2/3] Elapsed 0m 0s (remain 0m 0s) Loss: 0.2369(0.2730) \n",
      "Epoch: [23][0/19] Elapsed 0m 0s (remain 0m 2s) Loss: 0.1427(0.1427) Grad: 4.1072  LR: 0.000050  \n",
      "Epoch: [23][10/19] Elapsed 0m 1s (remain 0m 1s) Loss: 0.1343(0.1364) Grad: 5.3232  LR: 0.000050  \n",
      "Epoch: [23][18/19] Elapsed 0m 2s (remain 0m 0s) Loss: 0.1360(0.1350) Grad: 4.5328  LR: 0.000050  \n",
      "EVAL: [0/3] Elapsed 0m 0s (remain 0m 0s) Loss: 0.2900(0.2900) \n"
     ]
    },
    {
     "name": "stderr",
     "output_type": "stream",
     "text": [
      "Epoch 23 - avg_train_loss: 0.1350  avg_val_loss: 0.2650  time: 3s\n",
      "Epoch 23 - Score: 0.2668\n"
     ]
    },
    {
     "name": "stdout",
     "output_type": "stream",
     "text": [
      "EVAL: [2/3] Elapsed 0m 0s (remain 0m 0s) Loss: 0.2008(0.2650) \n",
      "Epoch: [24][0/19] Elapsed 0m 0s (remain 0m 2s) Loss: 0.1190(0.1190) Grad: 10.9296  LR: 0.000224  \n",
      "Epoch: [24][10/19] Elapsed 0m 1s (remain 0m 1s) Loss: 0.0970(0.1596) Grad: 4.1810  LR: 0.000224  \n",
      "Epoch: [24][18/19] Elapsed 0m 2s (remain 0m 0s) Loss: 0.1585(0.1643) Grad: 9.5464  LR: 0.000224  \n",
      "EVAL: [0/3] Elapsed 0m 0s (remain 0m 0s) Loss: 0.3107(0.3107) \n"
     ]
    },
    {
     "name": "stderr",
     "output_type": "stream",
     "text": [
      "Epoch 24 - avg_train_loss: 0.1643  avg_val_loss: 0.2759  time: 3s\n",
      "Epoch 24 - Score: 0.2778\n"
     ]
    },
    {
     "name": "stdout",
     "output_type": "stream",
     "text": [
      "EVAL: [2/3] Elapsed 0m 0s (remain 0m 0s) Loss: 0.2234(0.2759) \n",
      "Epoch: [25][0/19] Elapsed 0m 0s (remain 0m 2s) Loss: 0.1266(0.1266) Grad: 12.7154  LR: 0.000133  \n",
      "Epoch: [25][10/19] Elapsed 0m 1s (remain 0m 1s) Loss: 0.1266(0.1426) Grad: 11.0553  LR: 0.000133  \n",
      "Epoch: [25][18/19] Elapsed 0m 2s (remain 0m 0s) Loss: 0.1826(0.1575) Grad: 18.9412  LR: 0.000133  \n",
      "EVAL: [0/3] Elapsed 0m 0s (remain 0m 0s) Loss: 0.3100(0.3100) \n"
     ]
    },
    {
     "name": "stderr",
     "output_type": "stream",
     "text": [
      "Epoch 25 - avg_train_loss: 0.1575  avg_val_loss: 0.2861  time: 3s\n",
      "Epoch 25 - Score: 0.2880\n"
     ]
    },
    {
     "name": "stdout",
     "output_type": "stream",
     "text": [
      "EVAL: [2/3] Elapsed 0m 0s (remain 0m 0s) Loss: 0.2155(0.2861) \n",
      "Epoch: [26][0/19] Elapsed 0m 0s (remain 0m 2s) Loss: 0.1374(0.1374) Grad: 12.8483  LR: 0.000057  \n",
      "Epoch: [26][10/19] Elapsed 0m 1s (remain 0m 1s) Loss: 0.1607(0.1734) Grad: 9.4919  LR: 0.000057  \n",
      "Epoch: [26][18/19] Elapsed 0m 2s (remain 0m 0s) Loss: 0.1642(0.1685) Grad: 14.9768  LR: 0.000057  \n",
      "EVAL: [0/3] Elapsed 0m 0s (remain 0m 0s) Loss: 0.2741(0.2741) \n"
     ]
    },
    {
     "name": "stderr",
     "output_type": "stream",
     "text": [
      "Epoch 26 - avg_train_loss: 0.1685  avg_val_loss: 0.2726  time: 4s\n",
      "Epoch 26 - Score: 0.2728\n"
     ]
    },
    {
     "name": "stdout",
     "output_type": "stream",
     "text": [
      "EVAL: [2/3] Elapsed 0m 0s (remain 0m 0s) Loss: 0.2507(0.2726) \n",
      "Epoch: [27][0/19] Elapsed 0m 0s (remain 0m 2s) Loss: 0.1377(0.1377) Grad: 4.5947  LR: 0.000009  \n",
      "Epoch: [27][10/19] Elapsed 0m 1s (remain 0m 1s) Loss: 0.1077(0.1303) Grad: 10.6950  LR: 0.000009  \n",
      "Epoch: [27][18/19] Elapsed 0m 2s (remain 0m 0s) Loss: 0.1003(0.1204) Grad: 3.2439  LR: 0.000009  \n",
      "EVAL: [0/3] Elapsed 0m 0s (remain 0m 0s) Loss: 0.2847(0.2847) \n"
     ]
    },
    {
     "name": "stderr",
     "output_type": "stream",
     "text": [
      "Epoch 27 - avg_train_loss: 0.1204  avg_val_loss: 0.2681  time: 4s\n",
      "Epoch 27 - Score: 0.2685\n"
     ]
    },
    {
     "name": "stdout",
     "output_type": "stream",
     "text": [
      "EVAL: [2/3] Elapsed 0m 0s (remain 0m 0s) Loss: 0.2542(0.2681) \n",
      "Epoch: [28][0/19] Elapsed 0m 0s (remain 0m 2s) Loss: 0.1393(0.1393) Grad: 13.4073  LR: 0.000001  \n",
      "Epoch: [28][10/19] Elapsed 0m 1s (remain 0m 1s) Loss: 0.0885(0.1116) Grad: 8.9603  LR: 0.000001  \n",
      "Epoch: [28][18/19] Elapsed 0m 2s (remain 0m 0s) Loss: 0.1118(0.1039) Grad: 5.0398  LR: 0.000001  \n",
      "EVAL: [0/3] Elapsed 0m 0s (remain 0m 0s) Loss: 0.2600(0.2600) \n"
     ]
    },
    {
     "name": "stderr",
     "output_type": "stream",
     "text": [
      "Epoch 28 - avg_train_loss: 0.1039  avg_val_loss: 0.2590  time: 3s\n",
      "Epoch 28 - Score: 0.2596\n",
      "Epoch 28 - Save Best Score: 0.2596 Model\n"
     ]
    },
    {
     "name": "stdout",
     "output_type": "stream",
     "text": [
      "EVAL: [2/3] Elapsed 0m 0s (remain 0m 0s) Loss: 0.2229(0.2590) \n",
      "Epoch: [29][0/19] Elapsed 0m 0s (remain 0m 2s) Loss: 0.1038(0.1038) Grad: 5.5394  LR: 0.000050  \n",
      "Epoch: [29][10/19] Elapsed 0m 1s (remain 0m 1s) Loss: 0.1074(0.0995) Grad: 2.9078  LR: 0.000050  \n",
      "Epoch: [29][18/19] Elapsed 0m 2s (remain 0m 0s) Loss: 0.0958(0.1000) Grad: 5.8719  LR: 0.000050  \n",
      "EVAL: [0/3] Elapsed 0m 0s (remain 0m 0s) Loss: 0.2622(0.2622) \n"
     ]
    },
    {
     "name": "stderr",
     "output_type": "stream",
     "text": [
      "Epoch 29 - avg_train_loss: 0.1000  avg_val_loss: 0.2489  time: 3s\n",
      "Epoch 29 - Score: 0.2492\n",
      "Epoch 29 - Save Best Score: 0.2492 Model\n"
     ]
    },
    {
     "name": "stdout",
     "output_type": "stream",
     "text": [
      "EVAL: [2/3] Elapsed 0m 0s (remain 0m 0s) Loss: 0.2344(0.2489) \n",
      "Epoch: [30][0/19] Elapsed 0m 0s (remain 0m 2s) Loss: 0.0660(0.0660) Grad: 4.7801  LR: 0.000224  \n",
      "Epoch: [30][10/19] Elapsed 0m 1s (remain 0m 1s) Loss: 0.0903(0.0978) Grad: 6.9858  LR: 0.000224  \n",
      "Epoch: [30][18/19] Elapsed 0m 2s (remain 0m 0s) Loss: 0.1234(0.1077) Grad: 11.9230  LR: 0.000224  \n",
      "EVAL: [0/3] Elapsed 0m 0s (remain 0m 0s) Loss: 0.2934(0.2934) \n"
     ]
    },
    {
     "name": "stderr",
     "output_type": "stream",
     "text": [
      "Epoch 30 - avg_train_loss: 0.1077  avg_val_loss: 0.2854  time: 3s\n",
      "Epoch 30 - Score: 0.2856\n"
     ]
    },
    {
     "name": "stdout",
     "output_type": "stream",
     "text": [
      "EVAL: [2/3] Elapsed 0m 0s (remain 0m 0s) Loss: 0.2908(0.2854) \n",
      "Epoch: [31][0/19] Elapsed 0m 0s (remain 0m 2s) Loss: 0.1242(0.1242) Grad: 14.7177  LR: 0.000133  \n",
      "Epoch: [31][10/19] Elapsed 0m 1s (remain 0m 1s) Loss: 0.1650(0.1562) Grad: 14.7001  LR: 0.000133  \n",
      "Epoch: [31][18/19] Elapsed 0m 2s (remain 0m 0s) Loss: 0.1806(0.1606) Grad: 16.7700  LR: 0.000133  \n",
      "EVAL: [0/3] Elapsed 0m 0s (remain 0m 0s) Loss: 0.2756(0.2756) \n"
     ]
    },
    {
     "name": "stderr",
     "output_type": "stream",
     "text": [
      "Epoch 31 - avg_train_loss: 0.1606  avg_val_loss: 0.2610  time: 3s\n",
      "Epoch 31 - Score: 0.2631\n"
     ]
    },
    {
     "name": "stdout",
     "output_type": "stream",
     "text": [
      "EVAL: [2/3] Elapsed 0m 0s (remain 0m 0s) Loss: 0.1874(0.2610) \n",
      "Epoch: [32][0/19] Elapsed 0m 0s (remain 0m 2s) Loss: 0.1304(0.1304) Grad: 6.7429  LR: 0.000057  \n",
      "Epoch: [32][10/19] Elapsed 0m 1s (remain 0m 1s) Loss: 0.1439(0.1382) Grad: 9.0474  LR: 0.000057  \n",
      "Epoch: [32][18/19] Elapsed 0m 2s (remain 0m 0s) Loss: 0.1066(0.1362) Grad: 9.7576  LR: 0.000057  \n",
      "EVAL: [0/3] Elapsed 0m 0s (remain 0m 0s) Loss: 0.2935(0.2935) \n"
     ]
    },
    {
     "name": "stderr",
     "output_type": "stream",
     "text": [
      "Epoch 32 - avg_train_loss: 0.1362  avg_val_loss: 0.2723  time: 4s\n",
      "Epoch 32 - Score: 0.2736\n"
     ]
    },
    {
     "name": "stdout",
     "output_type": "stream",
     "text": [
      "EVAL: [2/3] Elapsed 0m 0s (remain 0m 0s) Loss: 0.2164(0.2723) \n",
      "Epoch: [33][0/19] Elapsed 0m 0s (remain 0m 2s) Loss: 0.1342(0.1342) Grad: 9.3774  LR: 0.000009  \n",
      "Epoch: [33][10/19] Elapsed 0m 1s (remain 0m 1s) Loss: 0.1161(0.1123) Grad: 3.5712  LR: 0.000009  \n",
      "Epoch: [33][18/19] Elapsed 0m 2s (remain 0m 0s) Loss: 0.1062(0.1107) Grad: 3.9944  LR: 0.000009  \n",
      "EVAL: [0/3] Elapsed 0m 0s (remain 0m 0s) Loss: 0.2861(0.2861) \n"
     ]
    },
    {
     "name": "stderr",
     "output_type": "stream",
     "text": [
      "Epoch 33 - avg_train_loss: 0.1107  avg_val_loss: 0.2613  time: 3s\n",
      "Epoch 33 - Score: 0.2638\n"
     ]
    },
    {
     "name": "stdout",
     "output_type": "stream",
     "text": [
      "EVAL: [2/3] Elapsed 0m 0s (remain 0m 0s) Loss: 0.1839(0.2613) \n",
      "Epoch: [34][0/19] Elapsed 0m 0s (remain 0m 2s) Loss: 0.0858(0.0858) Grad: 5.2150  LR: 0.000001  \n",
      "Epoch: [34][10/19] Elapsed 0m 1s (remain 0m 1s) Loss: 0.1099(0.0933) Grad: 3.9176  LR: 0.000001  \n",
      "Epoch: [34][18/19] Elapsed 0m 2s (remain 0m 0s) Loss: 0.0697(0.0923) Grad: 8.1437  LR: 0.000001  \n",
      "EVAL: [0/3] Elapsed 0m 0s (remain 0m 0s) Loss: 0.2775(0.2775) \n"
     ]
    },
    {
     "name": "stderr",
     "output_type": "stream",
     "text": [
      "Epoch 34 - avg_train_loss: 0.0923  avg_val_loss: 0.2500  time: 3s\n",
      "Epoch 34 - Score: 0.2516\n"
     ]
    },
    {
     "name": "stdout",
     "output_type": "stream",
     "text": [
      "EVAL: [2/3] Elapsed 0m 0s (remain 0m 0s) Loss: 0.1951(0.2500) \n",
      "Epoch: [35][0/19] Elapsed 0m 0s (remain 0m 2s) Loss: 0.0685(0.0685) Grad: 8.4729  LR: 0.000050  \n",
      "Epoch: [35][10/19] Elapsed 0m 1s (remain 0m 1s) Loss: 0.1107(0.1013) Grad: 4.7038  LR: 0.000050  \n",
      "Epoch: [35][18/19] Elapsed 0m 2s (remain 0m 0s) Loss: 0.1274(0.0993) Grad: 14.9274  LR: 0.000050  \n",
      "EVAL: [0/3] Elapsed 0m 0s (remain 0m 0s) Loss: 0.3129(0.3129) \n"
     ]
    },
    {
     "name": "stderr",
     "output_type": "stream",
     "text": [
      "Epoch 35 - avg_train_loss: 0.0993  avg_val_loss: 0.2804  time: 3s\n",
      "Epoch 35 - Score: 0.2822\n"
     ]
    },
    {
     "name": "stdout",
     "output_type": "stream",
     "text": [
      "EVAL: [2/3] Elapsed 0m 0s (remain 0m 0s) Loss: 0.2242(0.2804) \n",
      "Epoch: [36][0/19] Elapsed 0m 0s (remain 0m 2s) Loss: 0.1139(0.1139) Grad: 18.9752  LR: 0.000224  \n",
      "Epoch: [36][10/19] Elapsed 0m 1s (remain 0m 1s) Loss: 0.0972(0.1122) Grad: 5.8258  LR: 0.000224  \n",
      "Epoch: [36][18/19] Elapsed 0m 2s (remain 0m 0s) Loss: 0.1466(0.1154) Grad: 19.8807  LR: 0.000224  \n",
      "EVAL: [0/3] Elapsed 0m 0s (remain 0m 0s) Loss: 0.2836(0.2836) \n"
     ]
    },
    {
     "name": "stderr",
     "output_type": "stream",
     "text": [
      "Epoch 36 - avg_train_loss: 0.1154  avg_val_loss: 0.2567  time: 3s\n",
      "Epoch 36 - Score: 0.2582\n"
     ]
    },
    {
     "name": "stdout",
     "output_type": "stream",
     "text": [
      "EVAL: [2/3] Elapsed 0m 0s (remain 0m 0s) Loss: 0.2071(0.2567) \n",
      "Epoch: [37][0/19] Elapsed 0m 0s (remain 0m 2s) Loss: 0.1202(0.1202) Grad: 6.6611  LR: 0.000133  \n",
      "Epoch: [37][10/19] Elapsed 0m 1s (remain 0m 1s) Loss: 0.1620(0.1711) Grad: 16.9885  LR: 0.000133  \n",
      "Epoch: [37][18/19] Elapsed 0m 2s (remain 0m 0s) Loss: 0.1188(0.1604) Grad: 9.6797  LR: 0.000133  \n",
      "EVAL: [0/3] Elapsed 0m 0s (remain 0m 0s) Loss: 0.2828(0.2828) \n"
     ]
    },
    {
     "name": "stderr",
     "output_type": "stream",
     "text": [
      "Epoch 37 - avg_train_loss: 0.1604  avg_val_loss: 0.2694  time: 3s\n",
      "Epoch 37 - Score: 0.2698\n"
     ]
    },
    {
     "name": "stdout",
     "output_type": "stream",
     "text": [
      "EVAL: [2/3] Elapsed 0m 0s (remain 0m 0s) Loss: 0.2395(0.2694) \n",
      "Epoch: [38][0/19] Elapsed 0m 0s (remain 0m 2s) Loss: 0.1171(0.1171) Grad: 5.8811  LR: 0.000057  \n",
      "Epoch: [38][10/19] Elapsed 0m 1s (remain 0m 1s) Loss: 0.1753(0.1451) Grad: 17.0698  LR: 0.000057  \n",
      "Epoch: [38][18/19] Elapsed 0m 2s (remain 0m 0s) Loss: 0.1114(0.1377) Grad: 12.6417  LR: 0.000057  \n",
      "EVAL: [0/3] Elapsed 0m 0s (remain 0m 0s) Loss: 0.2749(0.2749) \n"
     ]
    },
    {
     "name": "stderr",
     "output_type": "stream",
     "text": [
      "Epoch 38 - avg_train_loss: 0.1377  avg_val_loss: 0.2567  time: 3s\n",
      "Epoch 38 - Score: 0.2572\n"
     ]
    },
    {
     "name": "stdout",
     "output_type": "stream",
     "text": [
      "EVAL: [2/3] Elapsed 0m 0s (remain 0m 0s) Loss: 0.2529(0.2567) \n",
      "Epoch: [39][0/19] Elapsed 0m 0s (remain 0m 2s) Loss: 0.1119(0.1119) Grad: 4.5807  LR: 0.000009  \n",
      "Epoch: [39][10/19] Elapsed 0m 1s (remain 0m 1s) Loss: 0.1105(0.1082) Grad: 19.1272  LR: 0.000009  \n",
      "Epoch: [39][18/19] Elapsed 0m 2s (remain 0m 0s) Loss: 0.1058(0.1078) Grad: 4.2328  LR: 0.000009  \n",
      "EVAL: [0/3] Elapsed 0m 0s (remain 0m 0s) Loss: 0.2838(0.2838) \n"
     ]
    },
    {
     "name": "stderr",
     "output_type": "stream",
     "text": [
      "Epoch 39 - avg_train_loss: 0.1078  avg_val_loss: 0.2543  time: 4s\n",
      "Epoch 39 - Score: 0.2559\n"
     ]
    },
    {
     "name": "stdout",
     "output_type": "stream",
     "text": [
      "EVAL: [2/3] Elapsed 0m 0s (remain 0m 0s) Loss: 0.2026(0.2543) \n",
      "Epoch: [40][0/19] Elapsed 0m 0s (remain 0m 2s) Loss: 0.0896(0.0896) Grad: 9.1054  LR: 0.000001  \n",
      "Epoch: [40][10/19] Elapsed 0m 1s (remain 0m 1s) Loss: 0.0771(0.0911) Grad: 7.5553  LR: 0.000001  \n",
      "Epoch: [40][18/19] Elapsed 0m 2s (remain 0m 0s) Loss: 0.0951(0.0881) Grad: 13.0559  LR: 0.000001  \n",
      "EVAL: [0/3] Elapsed 0m 0s (remain 0m 0s) Loss: 0.2642(0.2642) \n"
     ]
    },
    {
     "name": "stderr",
     "output_type": "stream",
     "text": [
      "Epoch 40 - avg_train_loss: 0.0881  avg_val_loss: 0.2552  time: 3s\n",
      "Epoch 40 - Score: 0.2559\n",
      "========== fold: 0 result ==========\n",
      "Score: 0.2492\n",
      "========== fold: 1 training ==========\n"
     ]
    },
    {
     "name": "stdout",
     "output_type": "stream",
     "text": [
      "EVAL: [2/3] Elapsed 0m 0s (remain 0m 0s) Loss: 0.2132(0.2552) \n",
      "Epoch: [1][0/19] Elapsed 0m 0s (remain 0m 2s) Loss: 3.4830(3.4830) Grad: 25.5475  LR: 0.000100  \n",
      "Epoch: [1][10/19] Elapsed 0m 1s (remain 0m 1s) Loss: 1.1164(1.5994) Grad: 27.1584  LR: 0.000100  \n",
      "Epoch: [1][18/19] Elapsed 0m 2s (remain 0m 0s) Loss: 0.4067(1.1942) Grad: 3.7858  LR: 0.000100  \n",
      "EVAL: [0/3] Elapsed 0m 0s (remain 0m 0s) Loss: 0.6785(0.6785) \n"
     ]
    },
    {
     "name": "stderr",
     "output_type": "stream",
     "text": [
      "Epoch 1 - avg_train_loss: 1.1942  avg_val_loss: 0.6981  time: 3s\n",
      "Epoch 1 - Score: 0.7000\n",
      "Epoch 1 - Save Best Score: 0.7000 Model\n"
     ]
    },
    {
     "name": "stdout",
     "output_type": "stream",
     "text": [
      "EVAL: [2/3] Elapsed 0m 0s (remain 0m 0s) Loss: 0.6119(0.6981) \n",
      "Epoch: [2][0/19] Elapsed 0m 0s (remain 0m 2s) Loss: 0.5968(0.5968) Grad: 22.4700  LR: 0.000057  \n",
      "Epoch: [2][10/19] Elapsed 0m 1s (remain 0m 1s) Loss: 0.3595(0.4691) Grad: 11.7908  LR: 0.000057  \n",
      "Epoch: [2][18/19] Elapsed 0m 2s (remain 0m 0s) Loss: 0.4622(0.4586) Grad: 21.6103  LR: 0.000057  \n",
      "EVAL: [0/3] Elapsed 0m 0s (remain 0m 0s) Loss: 0.4867(0.4867) \n"
     ]
    },
    {
     "name": "stderr",
     "output_type": "stream",
     "text": [
      "Epoch 2 - avg_train_loss: 0.4586  avg_val_loss: 0.4426  time: 3s\n",
      "Epoch 2 - Score: 0.4442\n",
      "Epoch 2 - Save Best Score: 0.4442 Model\n"
     ]
    },
    {
     "name": "stdout",
     "output_type": "stream",
     "text": [
      "EVAL: [2/3] Elapsed 0m 0s (remain 0m 0s) Loss: 0.4001(0.4426) \n",
      "Epoch: [3][0/19] Elapsed 0m 0s (remain 0m 2s) Loss: 0.3581(0.3581) Grad: 12.6620  LR: 0.000009  \n",
      "Epoch: [3][10/19] Elapsed 0m 1s (remain 0m 1s) Loss: 0.3861(0.3661) Grad: 10.1068  LR: 0.000009  \n",
      "Epoch: [3][18/19] Elapsed 0m 2s (remain 0m 0s) Loss: 0.4372(0.3571) Grad: 22.7786  LR: 0.000009  \n",
      "EVAL: [0/3] Elapsed 0m 0s (remain 0m 0s) Loss: 0.5211(0.5211) \n"
     ]
    },
    {
     "name": "stderr",
     "output_type": "stream",
     "text": [
      "Epoch 3 - avg_train_loss: 0.3571  avg_val_loss: 0.4402  time: 4s\n",
      "Epoch 3 - Score: 0.4458\n"
     ]
    },
    {
     "name": "stdout",
     "output_type": "stream",
     "text": [
      "EVAL: [2/3] Elapsed 0m 0s (remain 0m 0s) Loss: 0.3469(0.4402) \n",
      "Epoch: [4][0/19] Elapsed 0m 0s (remain 0m 2s) Loss: 0.3782(0.3782) Grad: 5.3334  LR: 0.000001  \n",
      "Epoch: [4][10/19] Elapsed 0m 1s (remain 0m 1s) Loss: 0.2909(0.3132) Grad: 6.1212  LR: 0.000001  \n",
      "Epoch: [4][18/19] Elapsed 0m 2s (remain 0m 0s) Loss: 0.2104(0.3058) Grad: 6.8309  LR: 0.000001  \n",
      "EVAL: [0/3] Elapsed 0m 0s (remain 0m 0s) Loss: 0.5040(0.5040) \n"
     ]
    },
    {
     "name": "stderr",
     "output_type": "stream",
     "text": [
      "Epoch 4 - avg_train_loss: 0.3058  avg_val_loss: 0.4393  time: 3s\n",
      "Epoch 4 - Score: 0.4428\n",
      "Epoch 4 - Save Best Score: 0.4428 Model\n"
     ]
    },
    {
     "name": "stdout",
     "output_type": "stream",
     "text": [
      "EVAL: [2/3] Elapsed 0m 0s (remain 0m 0s) Loss: 0.3697(0.4393) \n",
      "Epoch: [5][0/19] Elapsed 0m 0s (remain 0m 2s) Loss: 0.3517(0.3517) Grad: 9.3007  LR: 0.000050  \n",
      "Epoch: [5][10/19] Elapsed 0m 1s (remain 0m 1s) Loss: 0.3698(0.3101) Grad: 21.0872  LR: 0.000050  \n",
      "Epoch: [5][18/19] Elapsed 0m 2s (remain 0m 0s) Loss: 0.2938(0.2994) Grad: 13.4131  LR: 0.000050  \n",
      "EVAL: [0/3] Elapsed 0m 0s (remain 0m 0s) Loss: 0.5051(0.5051) \n"
     ]
    },
    {
     "name": "stderr",
     "output_type": "stream",
     "text": [
      "Epoch 5 - avg_train_loss: 0.2994  avg_val_loss: 0.4234  time: 4s\n",
      "Epoch 5 - Score: 0.4301\n",
      "Epoch 5 - Save Best Score: 0.4301 Model\n"
     ]
    },
    {
     "name": "stdout",
     "output_type": "stream",
     "text": [
      "EVAL: [2/3] Elapsed 0m 0s (remain 0m 0s) Loss: 0.2996(0.4234) \n",
      "Epoch: [6][0/19] Elapsed 0m 0s (remain 0m 2s) Loss: 0.2081(0.2081) Grad: 6.7777  LR: 0.000224  \n",
      "Epoch: [6][10/19] Elapsed 0m 1s (remain 0m 1s) Loss: 0.3458(0.2974) Grad: 25.3218  LR: 0.000224  \n",
      "Epoch: [6][18/19] Elapsed 0m 2s (remain 0m 0s) Loss: 0.3017(0.3145) Grad: 5.5934  LR: 0.000224  \n",
      "EVAL: [0/3] Elapsed 0m 0s (remain 0m 0s) Loss: 0.5069(0.5069) \n"
     ]
    },
    {
     "name": "stderr",
     "output_type": "stream",
     "text": [
      "Epoch 6 - avg_train_loss: 0.3145  avg_val_loss: 0.4162  time: 4s\n",
      "Epoch 6 - Score: 0.4231\n",
      "Epoch 6 - Save Best Score: 0.4231 Model\n"
     ]
    },
    {
     "name": "stdout",
     "output_type": "stream",
     "text": [
      "EVAL: [2/3] Elapsed 0m 0s (remain 0m 0s) Loss: 0.3483(0.4162) \n",
      "Epoch: [7][0/19] Elapsed 0m 0s (remain 0m 2s) Loss: 0.2375(0.2375) Grad: 4.4624  LR: 0.000133  \n",
      "Epoch: [7][10/19] Elapsed 0m 1s (remain 0m 1s) Loss: 0.3856(0.3172) Grad: 19.9331  LR: 0.000133  \n",
      "Epoch: [7][18/19] Elapsed 0m 2s (remain 0m 0s) Loss: 0.2765(0.3358) Grad: 7.9506  LR: 0.000133  \n",
      "EVAL: [0/3] Elapsed 0m 0s (remain 0m 0s) Loss: 0.5166(0.5166) \n"
     ]
    },
    {
     "name": "stderr",
     "output_type": "stream",
     "text": [
      "Epoch 7 - avg_train_loss: 0.3358  avg_val_loss: 0.4025  time: 3s\n",
      "Epoch 7 - Score: 0.4142\n",
      "Epoch 7 - Save Best Score: 0.4142 Model\n"
     ]
    },
    {
     "name": "stdout",
     "output_type": "stream",
     "text": [
      "EVAL: [2/3] Elapsed 0m 0s (remain 0m 0s) Loss: 0.3587(0.4025) \n",
      "Epoch: [8][0/19] Elapsed 0m 0s (remain 0m 2s) Loss: 0.3373(0.3373) Grad: 11.1243  LR: 0.000057  \n",
      "Epoch: [8][10/19] Elapsed 0m 1s (remain 0m 1s) Loss: 0.1999(0.2665) Grad: 8.2163  LR: 0.000057  \n",
      "Epoch: [8][18/19] Elapsed 0m 2s (remain 0m 0s) Loss: 0.2581(0.2691) Grad: 14.6041  LR: 0.000057  \n",
      "EVAL: [0/3] Elapsed 0m 0s (remain 0m 0s) Loss: 0.4962(0.4962) \n"
     ]
    },
    {
     "name": "stderr",
     "output_type": "stream",
     "text": [
      "Epoch 8 - avg_train_loss: 0.2691  avg_val_loss: 0.3796  time: 3s\n",
      "Epoch 8 - Score: 0.3921\n",
      "Epoch 8 - Save Best Score: 0.3921 Model\n"
     ]
    },
    {
     "name": "stdout",
     "output_type": "stream",
     "text": [
      "EVAL: [2/3] Elapsed 0m 0s (remain 0m 0s) Loss: 0.2991(0.3796) \n",
      "Epoch: [9][0/19] Elapsed 0m 0s (remain 0m 2s) Loss: 0.2254(0.2254) Grad: 14.0192  LR: 0.000009  \n",
      "Epoch: [9][10/19] Elapsed 0m 1s (remain 0m 1s) Loss: 0.1866(0.2084) Grad: 13.4921  LR: 0.000009  \n",
      "Epoch: [9][18/19] Elapsed 0m 2s (remain 0m 0s) Loss: 0.2148(0.2150) Grad: 6.5546  LR: 0.000009  \n",
      "EVAL: [0/3] Elapsed 0m 0s (remain 0m 0s) Loss: 0.4844(0.4844) \n"
     ]
    },
    {
     "name": "stderr",
     "output_type": "stream",
     "text": [
      "Epoch 9 - avg_train_loss: 0.2150  avg_val_loss: 0.3824  time: 3s\n",
      "Epoch 9 - Score: 0.3921\n"
     ]
    },
    {
     "name": "stdout",
     "output_type": "stream",
     "text": [
      "EVAL: [2/3] Elapsed 0m 0s (remain 0m 0s) Loss: 0.2877(0.3824) \n",
      "Epoch: [10][0/19] Elapsed 0m 0s (remain 0m 2s) Loss: 0.1569(0.1569) Grad: 4.7132  LR: 0.000001  \n",
      "Epoch: [10][10/19] Elapsed 0m 1s (remain 0m 1s) Loss: 0.1531(0.1695) Grad: 4.7473  LR: 0.000001  \n",
      "Epoch: [10][18/19] Elapsed 0m 2s (remain 0m 0s) Loss: 0.1997(0.1833) Grad: 5.7352  LR: 0.000001  \n",
      "EVAL: [0/3] Elapsed 0m 0s (remain 0m 0s) Loss: 0.4373(0.4373) \n"
     ]
    },
    {
     "name": "stderr",
     "output_type": "stream",
     "text": [
      "Epoch 10 - avg_train_loss: 0.1833  avg_val_loss: 0.3547  time: 4s\n",
      "Epoch 10 - Score: 0.3615\n",
      "Epoch 10 - Save Best Score: 0.3615 Model\n"
     ]
    },
    {
     "name": "stdout",
     "output_type": "stream",
     "text": [
      "EVAL: [2/3] Elapsed 0m 0s (remain 0m 0s) Loss: 0.2865(0.3547) \n",
      "Epoch: [11][0/19] Elapsed 0m 0s (remain 0m 2s) Loss: 0.1877(0.1877) Grad: 4.5426  LR: 0.000050  \n",
      "Epoch: [11][10/19] Elapsed 0m 1s (remain 0m 1s) Loss: 0.1487(0.1785) Grad: 8.0839  LR: 0.000050  \n",
      "Epoch: [11][18/19] Elapsed 0m 2s (remain 0m 0s) Loss: 0.1789(0.1747) Grad: 12.0804  LR: 0.000050  \n",
      "EVAL: [0/3] Elapsed 0m 0s (remain 0m 0s) Loss: 0.4953(0.4953) \n"
     ]
    },
    {
     "name": "stderr",
     "output_type": "stream",
     "text": [
      "Epoch 11 - avg_train_loss: 0.1747  avg_val_loss: 0.3874  time: 3s\n",
      "Epoch 11 - Score: 0.3979\n"
     ]
    },
    {
     "name": "stdout",
     "output_type": "stream",
     "text": [
      "EVAL: [2/3] Elapsed 0m 0s (remain 0m 0s) Loss: 0.3087(0.3874) \n",
      "Epoch: [12][0/19] Elapsed 0m 0s (remain 0m 2s) Loss: 0.1774(0.1774) Grad: 19.4300  LR: 0.000224  \n",
      "Epoch: [12][10/19] Elapsed 0m 1s (remain 0m 1s) Loss: 0.1702(0.1945) Grad: 15.4763  LR: 0.000224  \n",
      "Epoch: [12][18/19] Elapsed 0m 2s (remain 0m 0s) Loss: 0.1845(0.1999) Grad: 6.9427  LR: 0.000224  \n",
      "EVAL: [0/3] Elapsed 0m 0s (remain 0m 0s) Loss: 0.5246(0.5246) \n"
     ]
    },
    {
     "name": "stderr",
     "output_type": "stream",
     "text": [
      "Epoch 12 - avg_train_loss: 0.1999  avg_val_loss: 0.3893  time: 3s\n",
      "Epoch 12 - Score: 0.4057\n"
     ]
    },
    {
     "name": "stdout",
     "output_type": "stream",
     "text": [
      "EVAL: [2/3] Elapsed 0m 0s (remain 0m 0s) Loss: 0.2852(0.3893) \n",
      "Epoch: [13][0/19] Elapsed 0m 0s (remain 0m 2s) Loss: 0.2451(0.2451) Grad: 25.6355  LR: 0.000133  \n",
      "Epoch: [13][10/19] Elapsed 0m 1s (remain 0m 1s) Loss: 0.2383(0.2424) Grad: 21.8835  LR: 0.000133  \n",
      "Epoch: [13][18/19] Elapsed 0m 2s (remain 0m 0s) Loss: 0.2290(0.2435) Grad: 15.3774  LR: 0.000133  \n",
      "EVAL: [0/3] Elapsed 0m 0s (remain 0m 0s) Loss: 0.5925(0.5925) \n"
     ]
    },
    {
     "name": "stderr",
     "output_type": "stream",
     "text": [
      "Epoch 13 - avg_train_loss: 0.2435  avg_val_loss: 0.4470  time: 4s\n",
      "Epoch 13 - Score: 0.4645\n"
     ]
    },
    {
     "name": "stdout",
     "output_type": "stream",
     "text": [
      "EVAL: [2/3] Elapsed 0m 0s (remain 0m 0s) Loss: 0.2796(0.4470) \n",
      "Epoch: [14][0/19] Elapsed 0m 0s (remain 0m 2s) Loss: 0.2654(0.2654) Grad: 22.5384  LR: 0.000057  \n",
      "Epoch: [14][10/19] Elapsed 0m 1s (remain 0m 1s) Loss: 0.4032(0.2533) Grad: 24.3249  LR: 0.000057  \n",
      "Epoch: [14][18/19] Elapsed 0m 2s (remain 0m 0s) Loss: 0.1902(0.2429) Grad: 9.0019  LR: 0.000057  \n",
      "EVAL: [0/3] Elapsed 0m 0s (remain 0m 0s) Loss: 0.4536(0.4536) \n"
     ]
    },
    {
     "name": "stderr",
     "output_type": "stream",
     "text": [
      "Epoch 14 - avg_train_loss: 0.2429  avg_val_loss: 0.3500  time: 4s\n",
      "Epoch 14 - Score: 0.3611\n",
      "Epoch 14 - Save Best Score: 0.3611 Model\n"
     ]
    },
    {
     "name": "stdout",
     "output_type": "stream",
     "text": [
      "EVAL: [2/3] Elapsed 0m 0s (remain 0m 0s) Loss: 0.3112(0.3500) \n",
      "Epoch: [15][0/19] Elapsed 0m 0s (remain 0m 2s) Loss: 0.1557(0.1557) Grad: 9.1087  LR: 0.000009  \n",
      "Epoch: [15][10/19] Elapsed 0m 1s (remain 0m 1s) Loss: 0.1544(0.1631) Grad: 12.6344  LR: 0.000009  \n",
      "Epoch: [15][18/19] Elapsed 0m 2s (remain 0m 0s) Loss: 0.1288(0.1504) Grad: 4.4506  LR: 0.000009  \n",
      "EVAL: [0/3] Elapsed 0m 0s (remain 0m 0s) Loss: 0.4810(0.4810) \n"
     ]
    },
    {
     "name": "stderr",
     "output_type": "stream",
     "text": [
      "Epoch 15 - avg_train_loss: 0.1504  avg_val_loss: 0.3694  time: 3s\n",
      "Epoch 15 - Score: 0.3812\n"
     ]
    },
    {
     "name": "stdout",
     "output_type": "stream",
     "text": [
      "EVAL: [2/3] Elapsed 0m 0s (remain 0m 0s) Loss: 0.2797(0.3694) \n",
      "Epoch: [16][0/19] Elapsed 0m 0s (remain 0m 2s) Loss: 0.1987(0.1987) Grad: 8.5829  LR: 0.000001  \n",
      "Epoch: [16][10/19] Elapsed 0m 1s (remain 0m 1s) Loss: 0.1161(0.1438) Grad: 8.3179  LR: 0.000001  \n",
      "Epoch: [16][18/19] Elapsed 0m 2s (remain 0m 0s) Loss: 0.1007(0.1373) Grad: 3.9872  LR: 0.000001  \n",
      "EVAL: [0/3] Elapsed 0m 0s (remain 0m 0s) Loss: 0.4306(0.4306) \n"
     ]
    },
    {
     "name": "stderr",
     "output_type": "stream",
     "text": [
      "Epoch 16 - avg_train_loss: 0.1373  avg_val_loss: 0.3487  time: 4s\n",
      "Epoch 16 - Score: 0.3556\n",
      "Epoch 16 - Save Best Score: 0.3556 Model\n"
     ]
    },
    {
     "name": "stdout",
     "output_type": "stream",
     "text": [
      "EVAL: [2/3] Elapsed 0m 0s (remain 0m 0s) Loss: 0.3032(0.3487) \n",
      "Epoch: [17][0/19] Elapsed 0m 0s (remain 0m 2s) Loss: 0.1304(0.1304) Grad: 4.6607  LR: 0.000050  \n",
      "Epoch: [17][10/19] Elapsed 0m 1s (remain 0m 1s) Loss: 0.1504(0.1375) Grad: 8.9030  LR: 0.000050  \n",
      "Epoch: [17][18/19] Elapsed 0m 2s (remain 0m 0s) Loss: 0.0966(0.1419) Grad: 10.0052  LR: 0.000050  \n",
      "EVAL: [0/3] Elapsed 0m 0s (remain 0m 0s) Loss: 0.4860(0.4860) \n"
     ]
    },
    {
     "name": "stderr",
     "output_type": "stream",
     "text": [
      "Epoch 17 - avg_train_loss: 0.1419  avg_val_loss: 0.3661  time: 4s\n",
      "Epoch 17 - Score: 0.3798\n"
     ]
    },
    {
     "name": "stdout",
     "output_type": "stream",
     "text": [
      "EVAL: [2/3] Elapsed 0m 0s (remain 0m 0s) Loss: 0.2761(0.3661) \n",
      "Epoch: [18][0/19] Elapsed 0m 0s (remain 0m 2s) Loss: 0.1574(0.1574) Grad: 12.8699  LR: 0.000224  \n",
      "Epoch: [18][10/19] Elapsed 0m 1s (remain 0m 1s) Loss: 0.1551(0.1819) Grad: 5.0547  LR: 0.000224  \n",
      "Epoch: [18][18/19] Elapsed 0m 2s (remain 0m 0s) Loss: 0.1068(0.1647) Grad: 8.3968  LR: 0.000224  \n",
      "EVAL: [0/3] Elapsed 0m 0s (remain 0m 0s) Loss: 0.4288(0.4288) \n"
     ]
    },
    {
     "name": "stderr",
     "output_type": "stream",
     "text": [
      "Epoch 18 - avg_train_loss: 0.1647  avg_val_loss: 0.3509  time: 3s\n",
      "Epoch 18 - Score: 0.3570\n"
     ]
    },
    {
     "name": "stdout",
     "output_type": "stream",
     "text": [
      "EVAL: [2/3] Elapsed 0m 0s (remain 0m 0s) Loss: 0.3067(0.3509) \n",
      "Epoch: [19][0/19] Elapsed 0m 0s (remain 0m 2s) Loss: 0.1653(0.1653) Grad: 14.9698  LR: 0.000133  \n",
      "Epoch: [19][10/19] Elapsed 0m 1s (remain 0m 1s) Loss: 0.1411(0.1728) Grad: 10.4592  LR: 0.000133  \n",
      "Epoch: [19][18/19] Elapsed 0m 2s (remain 0m 0s) Loss: 0.1345(0.1770) Grad: 11.3645  LR: 0.000133  \n",
      "EVAL: [0/3] Elapsed 0m 0s (remain 0m 0s) Loss: 0.4800(0.4800) \n"
     ]
    },
    {
     "name": "stderr",
     "output_type": "stream",
     "text": [
      "Epoch 19 - avg_train_loss: 0.1770  avg_val_loss: 0.3629  time: 4s\n",
      "Epoch 19 - Score: 0.3762\n"
     ]
    },
    {
     "name": "stdout",
     "output_type": "stream",
     "text": [
      "EVAL: [2/3] Elapsed 0m 0s (remain 0m 0s) Loss: 0.2612(0.3629) \n",
      "Epoch: [20][0/19] Elapsed 0m 0s (remain 0m 2s) Loss: 0.1112(0.1112) Grad: 5.2972  LR: 0.000057  \n",
      "Epoch: [20][10/19] Elapsed 0m 1s (remain 0m 1s) Loss: 0.2651(0.1761) Grad: 21.4572  LR: 0.000057  \n",
      "Epoch: [20][18/19] Elapsed 0m 2s (remain 0m 0s) Loss: 0.1760(0.1826) Grad: 16.3031  LR: 0.000057  \n",
      "EVAL: [0/3] Elapsed 0m 0s (remain 0m 0s) Loss: 0.4732(0.4732) \n"
     ]
    },
    {
     "name": "stderr",
     "output_type": "stream",
     "text": [
      "Epoch 20 - avg_train_loss: 0.1826  avg_val_loss: 0.3670  time: 4s\n",
      "Epoch 20 - Score: 0.3778\n"
     ]
    },
    {
     "name": "stdout",
     "output_type": "stream",
     "text": [
      "EVAL: [2/3] Elapsed 0m 0s (remain 0m 0s) Loss: 0.2874(0.3670) \n",
      "Epoch: [21][0/19] Elapsed 0m 0s (remain 0m 2s) Loss: 0.2058(0.2058) Grad: 9.9885  LR: 0.000009  \n",
      "Epoch: [21][10/19] Elapsed 0m 1s (remain 0m 1s) Loss: 0.1300(0.1475) Grad: 11.2145  LR: 0.000009  \n",
      "Epoch: [21][18/19] Elapsed 0m 2s (remain 0m 0s) Loss: 0.1347(0.1421) Grad: 10.6763  LR: 0.000009  \n",
      "EVAL: [0/3] Elapsed 0m 0s (remain 0m 0s) Loss: 0.4736(0.4736) \n"
     ]
    },
    {
     "name": "stderr",
     "output_type": "stream",
     "text": [
      "Epoch 21 - avg_train_loss: 0.1421  avg_val_loss: 0.3578  time: 3s\n",
      "Epoch 21 - Score: 0.3713\n"
     ]
    },
    {
     "name": "stdout",
     "output_type": "stream",
     "text": [
      "EVAL: [2/3] Elapsed 0m 0s (remain 0m 0s) Loss: 0.2426(0.3578) \n",
      "Epoch: [22][0/19] Elapsed 0m 0s (remain 0m 2s) Loss: 0.1120(0.1120) Grad: 15.8503  LR: 0.000001  \n",
      "Epoch: [22][10/19] Elapsed 0m 1s (remain 0m 1s) Loss: 0.0842(0.1123) Grad: 4.2421  LR: 0.000001  \n",
      "Epoch: [22][18/19] Elapsed 0m 2s (remain 0m 0s) Loss: 0.1165(0.1146) Grad: 7.0562  LR: 0.000001  \n",
      "EVAL: [0/3] Elapsed 0m 0s (remain 0m 0s) Loss: 0.4726(0.4726) \n"
     ]
    },
    {
     "name": "stderr",
     "output_type": "stream",
     "text": [
      "Epoch 22 - avg_train_loss: 0.1146  avg_val_loss: 0.3536  time: 3s\n",
      "Epoch 22 - Score: 0.3676\n"
     ]
    },
    {
     "name": "stdout",
     "output_type": "stream",
     "text": [
      "EVAL: [2/3] Elapsed 0m 0s (remain 0m 0s) Loss: 0.2648(0.3536) \n",
      "Epoch: [23][0/19] Elapsed 0m 0s (remain 0m 2s) Loss: 0.0934(0.0934) Grad: 3.3197  LR: 0.000050  \n",
      "Epoch: [23][10/19] Elapsed 0m 1s (remain 0m 1s) Loss: 0.1086(0.1149) Grad: 14.1243  LR: 0.000050  \n",
      "Epoch: [23][18/19] Elapsed 0m 2s (remain 0m 0s) Loss: 0.1161(0.1103) Grad: 11.3158  LR: 0.000050  \n",
      "EVAL: [0/3] Elapsed 0m 0s (remain 0m 0s) Loss: 0.4678(0.4678) \n"
     ]
    },
    {
     "name": "stderr",
     "output_type": "stream",
     "text": [
      "Epoch 23 - avg_train_loss: 0.1103  avg_val_loss: 0.3622  time: 3s\n",
      "Epoch 23 - Score: 0.3736\n"
     ]
    },
    {
     "name": "stdout",
     "output_type": "stream",
     "text": [
      "EVAL: [2/3] Elapsed 0m 0s (remain 0m 0s) Loss: 0.2432(0.3622) \n",
      "Epoch: [24][0/19] Elapsed 0m 0s (remain 0m 2s) Loss: 0.0917(0.0917) Grad: 11.7389  LR: 0.000224  \n",
      "Epoch: [24][10/19] Elapsed 0m 1s (remain 0m 1s) Loss: 0.1260(0.1145) Grad: 18.7636  LR: 0.000224  \n",
      "Epoch: [24][18/19] Elapsed 0m 2s (remain 0m 0s) Loss: 0.1602(0.1228) Grad: 9.0428  LR: 0.000224  \n",
      "EVAL: [0/3] Elapsed 0m 0s (remain 0m 0s) Loss: 0.4245(0.4245) \n"
     ]
    },
    {
     "name": "stderr",
     "output_type": "stream",
     "text": [
      "Epoch 24 - avg_train_loss: 0.1228  avg_val_loss: 0.3401  time: 3s\n",
      "Epoch 24 - Score: 0.3478\n",
      "Epoch 24 - Save Best Score: 0.3478 Model\n"
     ]
    },
    {
     "name": "stdout",
     "output_type": "stream",
     "text": [
      "EVAL: [2/3] Elapsed 0m 0s (remain 0m 0s) Loss: 0.3094(0.3401) \n",
      "Epoch: [25][0/19] Elapsed 0m 0s (remain 0m 2s) Loss: 0.1361(0.1361) Grad: 3.5550  LR: 0.000133  \n",
      "Epoch: [25][10/19] Elapsed 0m 1s (remain 0m 1s) Loss: 0.1597(0.1457) Grad: 16.5725  LR: 0.000133  \n",
      "Epoch: [25][18/19] Elapsed 0m 2s (remain 0m 0s) Loss: 0.1457(0.1460) Grad: 5.8138  LR: 0.000133  \n",
      "EVAL: [0/3] Elapsed 0m 0s (remain 0m 0s) Loss: 0.4451(0.4451) \n"
     ]
    },
    {
     "name": "stderr",
     "output_type": "stream",
     "text": [
      "Epoch 25 - avg_train_loss: 0.1460  avg_val_loss: 0.3628  time: 3s\n",
      "Epoch 25 - Score: 0.3694\n"
     ]
    },
    {
     "name": "stdout",
     "output_type": "stream",
     "text": [
      "EVAL: [2/3] Elapsed 0m 0s (remain 0m 0s) Loss: 0.3146(0.3628) \n",
      "Epoch: [26][0/19] Elapsed 0m 0s (remain 0m 2s) Loss: 0.1563(0.1563) Grad: 11.7704  LR: 0.000057  \n",
      "Epoch: [26][10/19] Elapsed 0m 1s (remain 0m 1s) Loss: 0.1695(0.1519) Grad: 12.2280  LR: 0.000057  \n",
      "Epoch: [26][18/19] Elapsed 0m 2s (remain 0m 0s) Loss: 0.1306(0.1512) Grad: 14.9872  LR: 0.000057  \n",
      "EVAL: [0/3] Elapsed 0m 0s (remain 0m 0s) Loss: 0.4484(0.4484) \n"
     ]
    },
    {
     "name": "stderr",
     "output_type": "stream",
     "text": [
      "Epoch 26 - avg_train_loss: 0.1512  avg_val_loss: 0.3564  time: 3s\n",
      "Epoch 26 - Score: 0.3653\n"
     ]
    },
    {
     "name": "stdout",
     "output_type": "stream",
     "text": [
      "EVAL: [2/3] Elapsed 0m 0s (remain 0m 0s) Loss: 0.2500(0.3564) \n",
      "Epoch: [27][0/19] Elapsed 0m 0s (remain 0m 2s) Loss: 0.1311(0.1311) Grad: 4.3244  LR: 0.000009  \n",
      "Epoch: [27][10/19] Elapsed 0m 1s (remain 0m 1s) Loss: 0.1242(0.1198) Grad: 16.2756  LR: 0.000009  \n",
      "Epoch: [27][18/19] Elapsed 0m 2s (remain 0m 0s) Loss: 0.0984(0.1233) Grad: 11.2586  LR: 0.000009  \n",
      "EVAL: [0/3] Elapsed 0m 0s (remain 0m 0s) Loss: 0.4644(0.4644) \n"
     ]
    },
    {
     "name": "stderr",
     "output_type": "stream",
     "text": [
      "Epoch 27 - avg_train_loss: 0.1233  avg_val_loss: 0.3503  time: 3s\n",
      "Epoch 27 - Score: 0.3633\n"
     ]
    },
    {
     "name": "stdout",
     "output_type": "stream",
     "text": [
      "EVAL: [2/3] Elapsed 0m 0s (remain 0m 0s) Loss: 0.2567(0.3503) \n",
      "Epoch: [28][0/19] Elapsed 0m 0s (remain 0m 2s) Loss: 0.0933(0.0933) Grad: 5.9677  LR: 0.000001  \n",
      "Epoch: [28][10/19] Elapsed 0m 1s (remain 0m 1s) Loss: 0.0852(0.0968) Grad: 4.4270  LR: 0.000001  \n",
      "Epoch: [28][18/19] Elapsed 0m 2s (remain 0m 0s) Loss: 0.0962(0.0971) Grad: 9.0090  LR: 0.000001  \n",
      "EVAL: [0/3] Elapsed 0m 0s (remain 0m 0s) Loss: 0.4608(0.4608) \n"
     ]
    },
    {
     "name": "stderr",
     "output_type": "stream",
     "text": [
      "Epoch 28 - avg_train_loss: 0.0971  avg_val_loss: 0.3555  time: 3s\n",
      "Epoch 28 - Score: 0.3665\n"
     ]
    },
    {
     "name": "stdout",
     "output_type": "stream",
     "text": [
      "EVAL: [2/3] Elapsed 0m 0s (remain 0m 0s) Loss: 0.2683(0.3555) \n",
      "Epoch: [29][0/19] Elapsed 0m 0s (remain 0m 2s) Loss: 0.0955(0.0955) Grad: 3.2477  LR: 0.000050  \n",
      "Epoch: [29][10/19] Elapsed 0m 1s (remain 0m 1s) Loss: 0.1273(0.1275) Grad: 3.4235  LR: 0.000050  \n",
      "Epoch: [29][18/19] Elapsed 0m 2s (remain 0m 0s) Loss: 0.1180(0.1228) Grad: 13.7802  LR: 0.000050  \n",
      "EVAL: [0/3] Elapsed 0m 0s (remain 0m 0s) Loss: 0.4697(0.4697) \n"
     ]
    },
    {
     "name": "stderr",
     "output_type": "stream",
     "text": [
      "Epoch 29 - avg_train_loss: 0.1228  avg_val_loss: 0.3556  time: 3s\n",
      "Epoch 29 - Score: 0.3684\n"
     ]
    },
    {
     "name": "stdout",
     "output_type": "stream",
     "text": [
      "EVAL: [2/3] Elapsed 0m 0s (remain 0m 0s) Loss: 0.2708(0.3556) \n",
      "Epoch: [30][0/19] Elapsed 0m 0s (remain 0m 2s) Loss: 0.0920(0.0920) Grad: 3.7356  LR: 0.000224  \n",
      "Epoch: [30][10/19] Elapsed 0m 1s (remain 0m 1s) Loss: 0.1778(0.1893) Grad: 21.2998  LR: 0.000224  \n",
      "Epoch: [30][18/19] Elapsed 0m 2s (remain 0m 0s) Loss: 0.1202(0.1810) Grad: 9.4813  LR: 0.000224  \n",
      "EVAL: [0/3] Elapsed 0m 0s (remain 0m 0s) Loss: 0.4649(0.4649) \n"
     ]
    },
    {
     "name": "stderr",
     "output_type": "stream",
     "text": [
      "Epoch 30 - avg_train_loss: 0.1810  avg_val_loss: 0.3698  time: 4s\n",
      "Epoch 30 - Score: 0.3792\n"
     ]
    },
    {
     "name": "stdout",
     "output_type": "stream",
     "text": [
      "EVAL: [2/3] Elapsed 0m 0s (remain 0m 0s) Loss: 0.2489(0.3698) \n",
      "Epoch: [31][0/19] Elapsed 0m 0s (remain 0m 2s) Loss: 0.1165(0.1165) Grad: 7.9798  LR: 0.000133  \n",
      "Epoch: [31][10/19] Elapsed 0m 1s (remain 0m 1s) Loss: 0.1745(0.1382) Grad: 14.8465  LR: 0.000133  \n",
      "Epoch: [31][18/19] Elapsed 0m 2s (remain 0m 0s) Loss: 0.2112(0.1536) Grad: 18.4631  LR: 0.000133  \n",
      "EVAL: [0/3] Elapsed 0m 0s (remain 0m 0s) Loss: 0.4506(0.4506) \n"
     ]
    },
    {
     "name": "stderr",
     "output_type": "stream",
     "text": [
      "Epoch 31 - avg_train_loss: 0.1536  avg_val_loss: 0.3761  time: 3s\n",
      "Epoch 31 - Score: 0.3835\n"
     ]
    },
    {
     "name": "stdout",
     "output_type": "stream",
     "text": [
      "EVAL: [2/3] Elapsed 0m 0s (remain 0m 0s) Loss: 0.4078(0.3761) \n",
      "Epoch: [32][0/19] Elapsed 0m 0s (remain 0m 2s) Loss: 0.1741(0.1741) Grad: 15.1444  LR: 0.000057  \n",
      "Epoch: [32][10/19] Elapsed 0m 1s (remain 0m 1s) Loss: 0.1475(0.1559) Grad: 9.7756  LR: 0.000057  \n",
      "Epoch: [32][18/19] Elapsed 0m 2s (remain 0m 0s) Loss: 0.1656(0.1577) Grad: 12.4194  LR: 0.000057  \n",
      "EVAL: [0/3] Elapsed 0m 0s (remain 0m 0s) Loss: 0.5073(0.5073) \n"
     ]
    },
    {
     "name": "stderr",
     "output_type": "stream",
     "text": [
      "Epoch 32 - avg_train_loss: 0.1577  avg_val_loss: 0.4125  time: 3s\n",
      "Epoch 32 - Score: 0.4202\n"
     ]
    },
    {
     "name": "stdout",
     "output_type": "stream",
     "text": [
      "EVAL: [2/3] Elapsed 0m 0s (remain 0m 0s) Loss: 0.3327(0.4125) \n",
      "Epoch: [33][0/19] Elapsed 0m 0s (remain 0m 2s) Loss: 0.1745(0.1745) Grad: 17.0915  LR: 0.000009  \n",
      "Epoch: [33][10/19] Elapsed 0m 1s (remain 0m 1s) Loss: 0.1111(0.1429) Grad: 12.7575  LR: 0.000009  \n",
      "Epoch: [33][18/19] Elapsed 0m 2s (remain 0m 0s) Loss: 0.1388(0.1325) Grad: 16.3200  LR: 0.000009  \n",
      "EVAL: [0/3] Elapsed 0m 0s (remain 0m 0s) Loss: 0.4921(0.4921) \n"
     ]
    },
    {
     "name": "stderr",
     "output_type": "stream",
     "text": [
      "Epoch 33 - avg_train_loss: 0.1325  avg_val_loss: 0.3768  time: 3s\n",
      "Epoch 33 - Score: 0.3892\n"
     ]
    },
    {
     "name": "stdout",
     "output_type": "stream",
     "text": [
      "EVAL: [2/3] Elapsed 0m 0s (remain 0m 0s) Loss: 0.2796(0.3768) \n",
      "Epoch: [34][0/19] Elapsed 0m 0s (remain 0m 2s) Loss: 0.1345(0.1345) Grad: 19.0634  LR: 0.000001  \n",
      "Epoch: [34][10/19] Elapsed 0m 1s (remain 0m 1s) Loss: 0.1158(0.1198) Grad: 9.5849  LR: 0.000001  \n",
      "Epoch: [34][18/19] Elapsed 0m 2s (remain 0m 0s) Loss: 0.1221(0.1123) Grad: 11.6355  LR: 0.000001  \n",
      "EVAL: [0/3] Elapsed 0m 0s (remain 0m 0s) Loss: 0.4602(0.4602) \n"
     ]
    },
    {
     "name": "stderr",
     "output_type": "stream",
     "text": [
      "Epoch 34 - avg_train_loss: 0.1123  avg_val_loss: 0.3505  time: 4s\n",
      "Epoch 34 - Score: 0.3625\n"
     ]
    },
    {
     "name": "stdout",
     "output_type": "stream",
     "text": [
      "EVAL: [2/3] Elapsed 0m 0s (remain 0m 0s) Loss: 0.2783(0.3505) \n",
      "Epoch: [35][0/19] Elapsed 0m 0s (remain 0m 2s) Loss: 0.1110(0.1110) Grad: 10.5142  LR: 0.000050  \n",
      "Epoch: [35][10/19] Elapsed 0m 1s (remain 0m 1s) Loss: 0.1139(0.1024) Grad: 14.6618  LR: 0.000050  \n",
      "Epoch: [35][18/19] Elapsed 0m 2s (remain 0m 0s) Loss: 0.0903(0.0975) Grad: 9.2892  LR: 0.000050  \n",
      "EVAL: [0/3] Elapsed 0m 0s (remain 0m 0s) Loss: 0.4667(0.4667) \n"
     ]
    },
    {
     "name": "stderr",
     "output_type": "stream",
     "text": [
      "Epoch 35 - avg_train_loss: 0.0975  avg_val_loss: 0.3586  time: 3s\n",
      "Epoch 35 - Score: 0.3701\n"
     ]
    },
    {
     "name": "stdout",
     "output_type": "stream",
     "text": [
      "EVAL: [2/3] Elapsed 0m 0s (remain 0m 0s) Loss: 0.2673(0.3586) \n",
      "Epoch: [36][0/19] Elapsed 0m 0s (remain 0m 2s) Loss: 0.0781(0.0781) Grad: 3.4715  LR: 0.000224  \n",
      "Epoch: [36][10/19] Elapsed 0m 1s (remain 0m 1s) Loss: 0.1371(0.1006) Grad: 11.9770  LR: 0.000224  \n",
      "Epoch: [36][18/19] Elapsed 0m 2s (remain 0m 0s) Loss: 0.1043(0.1067) Grad: 5.3988  LR: 0.000224  \n",
      "EVAL: [0/3] Elapsed 0m 0s (remain 0m 0s) Loss: 0.4751(0.4751) \n"
     ]
    },
    {
     "name": "stderr",
     "output_type": "stream",
     "text": [
      "Epoch 36 - avg_train_loss: 0.1067  avg_val_loss: 0.3794  time: 3s\n",
      "Epoch 36 - Score: 0.3879\n"
     ]
    },
    {
     "name": "stdout",
     "output_type": "stream",
     "text": [
      "EVAL: [2/3] Elapsed 0m 0s (remain 0m 0s) Loss: 0.3166(0.3794) \n",
      "Epoch: [37][0/19] Elapsed 0m 0s (remain 0m 2s) Loss: 0.1420(0.1420) Grad: 18.0697  LR: 0.000133  \n",
      "Epoch: [37][10/19] Elapsed 0m 1s (remain 0m 1s) Loss: 0.0969(0.1104) Grad: 14.1369  LR: 0.000133  \n",
      "Epoch: [37][18/19] Elapsed 0m 2s (remain 0m 0s) Loss: 0.0842(0.1254) Grad: 6.0167  LR: 0.000133  \n",
      "EVAL: [0/3] Elapsed 0m 0s (remain 0m 0s) Loss: 0.4551(0.4551) \n"
     ]
    },
    {
     "name": "stderr",
     "output_type": "stream",
     "text": [
      "Epoch 37 - avg_train_loss: 0.1254  avg_val_loss: 0.3636  time: 3s\n",
      "Epoch 37 - Score: 0.3719\n"
     ]
    },
    {
     "name": "stdout",
     "output_type": "stream",
     "text": [
      "EVAL: [2/3] Elapsed 0m 0s (remain 0m 0s) Loss: 0.3254(0.3636) \n",
      "Epoch: [38][0/19] Elapsed 0m 0s (remain 0m 2s) Loss: 0.1354(0.1354) Grad: 4.1738  LR: 0.000057  \n",
      "Epoch: [38][10/19] Elapsed 0m 1s (remain 0m 1s) Loss: 0.1040(0.1199) Grad: 4.5618  LR: 0.000057  \n",
      "Epoch: [38][18/19] Elapsed 0m 2s (remain 0m 0s) Loss: 0.1140(0.1260) Grad: 9.3629  LR: 0.000057  \n",
      "EVAL: [0/3] Elapsed 0m 0s (remain 0m 0s) Loss: 0.4442(0.4442) \n"
     ]
    },
    {
     "name": "stderr",
     "output_type": "stream",
     "text": [
      "Epoch 38 - avg_train_loss: 0.1260  avg_val_loss: 0.3381  time: 3s\n",
      "Epoch 38 - Score: 0.3498\n"
     ]
    },
    {
     "name": "stdout",
     "output_type": "stream",
     "text": [
      "EVAL: [2/3] Elapsed 0m 0s (remain 0m 0s) Loss: 0.2723(0.3381) \n",
      "Epoch: [39][0/19] Elapsed 0m 0s (remain 0m 2s) Loss: 0.1228(0.1228) Grad: 7.9100  LR: 0.000009  \n",
      "Epoch: [39][10/19] Elapsed 0m 1s (remain 0m 1s) Loss: 0.1380(0.1141) Grad: 11.9664  LR: 0.000009  \n",
      "Epoch: [39][18/19] Elapsed 0m 2s (remain 0m 0s) Loss: 0.1111(0.1067) Grad: 3.2149  LR: 0.000009  \n",
      "EVAL: [0/3] Elapsed 0m 0s (remain 0m 0s) Loss: 0.4570(0.4570) \n"
     ]
    },
    {
     "name": "stderr",
     "output_type": "stream",
     "text": [
      "Epoch 39 - avg_train_loss: 0.1067  avg_val_loss: 0.3526  time: 4s\n",
      "Epoch 39 - Score: 0.3634\n"
     ]
    },
    {
     "name": "stdout",
     "output_type": "stream",
     "text": [
      "EVAL: [2/3] Elapsed 0m 0s (remain 0m 0s) Loss: 0.2752(0.3526) \n",
      "Epoch: [40][0/19] Elapsed 0m 0s (remain 0m 2s) Loss: 0.1296(0.1296) Grad: 8.7762  LR: 0.000001  \n",
      "Epoch: [40][10/19] Elapsed 0m 1s (remain 0m 1s) Loss: 0.0757(0.0901) Grad: 3.2868  LR: 0.000001  \n",
      "Epoch: [40][18/19] Elapsed 0m 2s (remain 0m 0s) Loss: 0.1032(0.0908) Grad: 3.9106  LR: 0.000001  \n",
      "EVAL: [0/3] Elapsed 0m 0s (remain 0m 0s) Loss: 0.4518(0.4518) \n"
     ]
    },
    {
     "name": "stderr",
     "output_type": "stream",
     "text": [
      "Epoch 40 - avg_train_loss: 0.0908  avg_val_loss: 0.3465  time: 3s\n",
      "Epoch 40 - Score: 0.3578\n",
      "========== fold: 1 result ==========\n"
     ]
    },
    {
     "name": "stdout",
     "output_type": "stream",
     "text": [
      "EVAL: [2/3] Elapsed 0m 0s (remain 0m 0s) Loss: 0.2820(0.3465) \n"
     ]
    },
    {
     "name": "stderr",
     "output_type": "stream",
     "text": [
      "Score: 0.3478\n",
      "========== fold: 2 training ==========\n"
     ]
    },
    {
     "name": "stdout",
     "output_type": "stream",
     "text": [
      "Epoch: [1][0/19] Elapsed 0m 0s (remain 0m 2s) Loss: 3.6679(3.6679) Grad: 27.8106  LR: 0.000100  \n",
      "Epoch: [1][10/19] Elapsed 0m 1s (remain 0m 1s) Loss: 0.9016(1.9019) Grad: 22.9403  LR: 0.000100  \n",
      "Epoch: [1][18/19] Elapsed 0m 2s (remain 0m 0s) Loss: 0.3811(1.3800) Grad: 3.9241  LR: 0.000100  \n",
      "EVAL: [0/3] Elapsed 0m 0s (remain 0m 0s) Loss: 0.4415(0.4415) \n"
     ]
    },
    {
     "name": "stderr",
     "output_type": "stream",
     "text": [
      "Epoch 1 - avg_train_loss: 1.3800  avg_val_loss: 0.4611  time: 3s\n",
      "Epoch 1 - Score: 0.4661\n",
      "Epoch 1 - Save Best Score: 0.4661 Model\n"
     ]
    },
    {
     "name": "stdout",
     "output_type": "stream",
     "text": [
      "EVAL: [2/3] Elapsed 0m 0s (remain 0m 0s) Loss: 0.3391(0.4611) \n",
      "Epoch: [2][0/19] Elapsed 0m 0s (remain 0m 2s) Loss: 0.4878(0.4878) Grad: 14.0124  LR: 0.000057  \n",
      "Epoch: [2][10/19] Elapsed 0m 1s (remain 0m 1s) Loss: 0.5120(0.4726) Grad: 10.9604  LR: 0.000057  \n",
      "Epoch: [2][18/19] Elapsed 0m 2s (remain 0m 0s) Loss: 0.4617(0.4673) Grad: 3.7445  LR: 0.000057  \n",
      "EVAL: [0/3] Elapsed 0m 0s (remain 0m 0s) Loss: 0.3778(0.3778) \n"
     ]
    },
    {
     "name": "stderr",
     "output_type": "stream",
     "text": [
      "Epoch 2 - avg_train_loss: 0.4673  avg_val_loss: 0.4027  time: 3s\n",
      "Epoch 2 - Score: 0.4136\n",
      "Epoch 2 - Save Best Score: 0.4136 Model\n"
     ]
    },
    {
     "name": "stdout",
     "output_type": "stream",
     "text": [
      "EVAL: [2/3] Elapsed 0m 0s (remain 0m 0s) Loss: 0.2325(0.4027) \n",
      "Epoch: [3][0/19] Elapsed 0m 0s (remain 0m 2s) Loss: 0.4016(0.4016) Grad: 8.4733  LR: 0.000009  \n",
      "Epoch: [3][10/19] Elapsed 0m 1s (remain 0m 1s) Loss: 0.4391(0.3950) Grad: 12.6051  LR: 0.000009  \n",
      "Epoch: [3][18/19] Elapsed 0m 2s (remain 0m 0s) Loss: 0.3398(0.3925) Grad: 10.8668  LR: 0.000009  \n",
      "EVAL: [0/3] Elapsed 0m 0s (remain 0m 0s) Loss: 0.3206(0.3206) \n"
     ]
    },
    {
     "name": "stderr",
     "output_type": "stream",
     "text": [
      "Epoch 3 - avg_train_loss: 0.3925  avg_val_loss: 0.3581  time: 3s\n",
      "Epoch 3 - Score: 0.3642\n",
      "Epoch 3 - Save Best Score: 0.3642 Model\n"
     ]
    },
    {
     "name": "stdout",
     "output_type": "stream",
     "text": [
      "EVAL: [2/3] Elapsed 0m 0s (remain 0m 0s) Loss: 0.2658(0.3581) \n",
      "Epoch: [4][0/19] Elapsed 0m 0s (remain 0m 2s) Loss: 0.2944(0.2944) Grad: 9.9229  LR: 0.000001  \n",
      "Epoch: [4][10/19] Elapsed 0m 1s (remain 0m 1s) Loss: 0.2774(0.3533) Grad: 7.8986  LR: 0.000001  \n",
      "Epoch: [4][18/19] Elapsed 0m 2s (remain 0m 0s) Loss: 0.2603(0.3329) Grad: 5.6727  LR: 0.000001  \n",
      "EVAL: [0/3] Elapsed 0m 0s (remain 0m 0s) Loss: 0.3126(0.3126) \n"
     ]
    },
    {
     "name": "stderr",
     "output_type": "stream",
     "text": [
      "Epoch 4 - avg_train_loss: 0.3329  avg_val_loss: 0.3452  time: 3s\n",
      "Epoch 4 - Score: 0.3493\n",
      "Epoch 4 - Save Best Score: 0.3493 Model\n"
     ]
    },
    {
     "name": "stdout",
     "output_type": "stream",
     "text": [
      "EVAL: [2/3] Elapsed 0m 0s (remain 0m 0s) Loss: 0.2750(0.3452) \n",
      "Epoch: [5][0/19] Elapsed 0m 0s (remain 0m 2s) Loss: 0.3915(0.3915) Grad: 6.6939  LR: 0.000050  \n",
      "Epoch: [5][10/19] Elapsed 0m 1s (remain 0m 1s) Loss: 0.2424(0.3333) Grad: 4.5823  LR: 0.000050  \n",
      "Epoch: [5][18/19] Elapsed 0m 2s (remain 0m 0s) Loss: 0.4714(0.3479) Grad: 4.6934  LR: 0.000050  \n",
      "EVAL: [0/3] Elapsed 0m 0s (remain 0m 0s) Loss: 0.3805(0.3805) \n"
     ]
    },
    {
     "name": "stderr",
     "output_type": "stream",
     "text": [
      "Epoch 5 - avg_train_loss: 0.3479  avg_val_loss: 0.3782  time: 3s\n",
      "Epoch 5 - Score: 0.3785\n"
     ]
    },
    {
     "name": "stdout",
     "output_type": "stream",
     "text": [
      "EVAL: [2/3] Elapsed 0m 0s (remain 0m 0s) Loss: 0.4043(0.3782) \n",
      "Epoch: [6][0/19] Elapsed 0m 0s (remain 0m 2s) Loss: 0.3160(0.3160) Grad: 11.9156  LR: 0.000224  \n",
      "Epoch: [6][10/19] Elapsed 0m 1s (remain 0m 1s) Loss: 0.4000(0.4002) Grad: 13.9731  LR: 0.000224  \n",
      "Epoch: [6][18/19] Elapsed 0m 2s (remain 0m 0s) Loss: 0.2576(0.3475) Grad: 11.2017  LR: 0.000224  \n",
      "EVAL: [0/3] Elapsed 0m 0s (remain 0m 0s) Loss: 0.3029(0.3029) \n"
     ]
    },
    {
     "name": "stderr",
     "output_type": "stream",
     "text": [
      "Epoch 6 - avg_train_loss: 0.3475  avg_val_loss: 0.3342  time: 3s\n",
      "Epoch 6 - Score: 0.3379\n",
      "Epoch 6 - Save Best Score: 0.3379 Model\n"
     ]
    },
    {
     "name": "stdout",
     "output_type": "stream",
     "text": [
      "EVAL: [2/3] Elapsed 0m 0s (remain 0m 0s) Loss: 0.2691(0.3342) \n",
      "Epoch: [7][0/19] Elapsed 0m 0s (remain 0m 2s) Loss: 0.3437(0.3437) Grad: 10.6648  LR: 0.000133  \n",
      "Epoch: [7][10/19] Elapsed 0m 1s (remain 0m 1s) Loss: 0.3367(0.2963) Grad: 6.0753  LR: 0.000133  \n",
      "Epoch: [7][18/19] Elapsed 0m 2s (remain 0m 0s) Loss: 0.3747(0.3239) Grad: 18.0131  LR: 0.000133  \n",
      "EVAL: [0/3] Elapsed 0m 0s (remain 0m 0s) Loss: 0.4417(0.4417) \n"
     ]
    },
    {
     "name": "stderr",
     "output_type": "stream",
     "text": [
      "Epoch 7 - avg_train_loss: 0.3239  avg_val_loss: 0.4418  time: 3s\n",
      "Epoch 7 - Score: 0.4418\n"
     ]
    },
    {
     "name": "stdout",
     "output_type": "stream",
     "text": [
      "EVAL: [2/3] Elapsed 0m 0s (remain 0m 0s) Loss: 0.4505(0.4418) \n",
      "Epoch: [8][0/19] Elapsed 0m 0s (remain 0m 2s) Loss: 0.3842(0.3842) Grad: 23.1965  LR: 0.000057  \n",
      "Epoch: [8][10/19] Elapsed 0m 1s (remain 0m 1s) Loss: 0.3034(0.3241) Grad: 8.1416  LR: 0.000057  \n",
      "Epoch: [8][18/19] Elapsed 0m 2s (remain 0m 0s) Loss: 0.2727(0.2930) Grad: 18.5844  LR: 0.000057  \n",
      "EVAL: [0/3] Elapsed 0m 0s (remain 0m 0s) Loss: 0.2838(0.2838) \n"
     ]
    },
    {
     "name": "stderr",
     "output_type": "stream",
     "text": [
      "Epoch 8 - avg_train_loss: 0.2930  avg_val_loss: 0.2931  time: 3s\n",
      "Epoch 8 - Score: 0.2962\n",
      "Epoch 8 - Save Best Score: 0.2962 Model\n"
     ]
    },
    {
     "name": "stdout",
     "output_type": "stream",
     "text": [
      "EVAL: [2/3] Elapsed 0m 0s (remain 0m 0s) Loss: 0.2128(0.2931) \n",
      "Epoch: [9][0/19] Elapsed 0m 0s (remain 0m 2s) Loss: 0.2085(0.2085) Grad: 9.5978  LR: 0.000009  \n",
      "Epoch: [9][10/19] Elapsed 0m 1s (remain 0m 1s) Loss: 0.1814(0.1935) Grad: 4.0016  LR: 0.000009  \n",
      "Epoch: [9][18/19] Elapsed 0m 2s (remain 0m 0s) Loss: 0.2159(0.2117) Grad: 7.7968  LR: 0.000009  \n",
      "EVAL: [0/3] Elapsed 0m 0s (remain 0m 0s) Loss: 0.2725(0.2725) \n"
     ]
    },
    {
     "name": "stderr",
     "output_type": "stream",
     "text": [
      "Epoch 9 - avg_train_loss: 0.2117  avg_val_loss: 0.2802  time: 4s\n",
      "Epoch 9 - Score: 0.2806\n",
      "Epoch 9 - Save Best Score: 0.2806 Model\n"
     ]
    },
    {
     "name": "stdout",
     "output_type": "stream",
     "text": [
      "EVAL: [2/3] Elapsed 0m 0s (remain 0m 0s) Loss: 0.2584(0.2802) \n",
      "Epoch: [10][0/19] Elapsed 0m 0s (remain 0m 2s) Loss: 0.1751(0.1751) Grad: 4.7510  LR: 0.000001  \n",
      "Epoch: [10][10/19] Elapsed 0m 1s (remain 0m 1s) Loss: 0.2128(0.1799) Grad: 7.8032  LR: 0.000001  \n",
      "Epoch: [10][18/19] Elapsed 0m 2s (remain 0m 0s) Loss: 0.1499(0.1753) Grad: 3.7132  LR: 0.000001  \n",
      "EVAL: [0/3] Elapsed 0m 0s (remain 0m 0s) Loss: 0.2950(0.2950) \n"
     ]
    },
    {
     "name": "stderr",
     "output_type": "stream",
     "text": [
      "Epoch 10 - avg_train_loss: 0.1753  avg_val_loss: 0.2918  time: 4s\n",
      "Epoch 10 - Score: 0.2933\n"
     ]
    },
    {
     "name": "stdout",
     "output_type": "stream",
     "text": [
      "EVAL: [2/3] Elapsed 0m 0s (remain 0m 0s) Loss: 0.2299(0.2918) \n",
      "Epoch: [11][0/19] Elapsed 0m 0s (remain 0m 2s) Loss: 0.1610(0.1610) Grad: 6.9061  LR: 0.000050  \n",
      "Epoch: [11][10/19] Elapsed 0m 1s (remain 0m 1s) Loss: 0.2667(0.2220) Grad: 20.6339  LR: 0.000050  \n",
      "Epoch: [11][18/19] Elapsed 0m 2s (remain 0m 0s) Loss: 0.1983(0.2239) Grad: 20.1309  LR: 0.000050  \n",
      "EVAL: [0/3] Elapsed 0m 0s (remain 0m 0s) Loss: 0.2993(0.2993) \n"
     ]
    },
    {
     "name": "stderr",
     "output_type": "stream",
     "text": [
      "Epoch 11 - avg_train_loss: 0.2239  avg_val_loss: 0.3030  time: 4s\n",
      "Epoch 11 - Score: 0.3052\n"
     ]
    },
    {
     "name": "stdout",
     "output_type": "stream",
     "text": [
      "EVAL: [2/3] Elapsed 0m 0s (remain 0m 0s) Loss: 0.2311(0.3030) \n",
      "Epoch: [12][0/19] Elapsed 0m 0s (remain 0m 2s) Loss: 0.1836(0.1836) Grad: 17.3850  LR: 0.000224  \n",
      "Epoch: [12][10/19] Elapsed 0m 1s (remain 0m 1s) Loss: 0.1741(0.1823) Grad: 5.7328  LR: 0.000224  \n",
      "Epoch: [12][18/19] Elapsed 0m 2s (remain 0m 0s) Loss: 0.2615(0.1849) Grad: 23.8317  LR: 0.000224  \n",
      "EVAL: [0/3] Elapsed 0m 0s (remain 0m 0s) Loss: 0.3287(0.3287) \n"
     ]
    },
    {
     "name": "stderr",
     "output_type": "stream",
     "text": [
      "Epoch 12 - avg_train_loss: 0.1849  avg_val_loss: 0.3351  time: 3s\n",
      "Epoch 12 - Score: 0.3379\n"
     ]
    },
    {
     "name": "stdout",
     "output_type": "stream",
     "text": [
      "EVAL: [2/3] Elapsed 0m 0s (remain 0m 0s) Loss: 0.2512(0.3351) \n",
      "Epoch: [13][0/19] Elapsed 0m 0s (remain 0m 2s) Loss: 0.2076(0.2076) Grad: 18.9613  LR: 0.000133  \n",
      "Epoch: [13][10/19] Elapsed 0m 1s (remain 0m 1s) Loss: 0.2128(0.2246) Grad: 6.3045  LR: 0.000133  \n",
      "Epoch: [13][18/19] Elapsed 0m 2s (remain 0m 0s) Loss: 0.2297(0.2474) Grad: 19.5013  LR: 0.000133  \n",
      "EVAL: [0/3] Elapsed 0m 0s (remain 0m 0s) Loss: 0.3045(0.3045) \n"
     ]
    },
    {
     "name": "stderr",
     "output_type": "stream",
     "text": [
      "Epoch 13 - avg_train_loss: 0.2474  avg_val_loss: 0.3084  time: 4s\n",
      "Epoch 13 - Score: 0.3105\n"
     ]
    },
    {
     "name": "stdout",
     "output_type": "stream",
     "text": [
      "EVAL: [2/3] Elapsed 0m 0s (remain 0m 0s) Loss: 0.2389(0.3084) \n",
      "Epoch: [14][0/19] Elapsed 0m 0s (remain 0m 2s) Loss: 0.1875(0.1875) Grad: 3.5337  LR: 0.000057  \n",
      "Epoch: [14][10/19] Elapsed 0m 1s (remain 0m 1s) Loss: 0.1566(0.1934) Grad: 3.5714  LR: 0.000057  \n",
      "Epoch: [14][18/19] Elapsed 0m 2s (remain 0m 0s) Loss: 0.1901(0.1967) Grad: 6.4518  LR: 0.000057  \n",
      "EVAL: [0/3] Elapsed 0m 0s (remain 0m 0s) Loss: 0.2877(0.2877) \n"
     ]
    },
    {
     "name": "stderr",
     "output_type": "stream",
     "text": [
      "Epoch 14 - avg_train_loss: 0.1967  avg_val_loss: 0.2968  time: 4s\n",
      "Epoch 14 - Score: 0.2973\n"
     ]
    },
    {
     "name": "stdout",
     "output_type": "stream",
     "text": [
      "EVAL: [2/3] Elapsed 0m 0s (remain 0m 0s) Loss: 0.2733(0.2968) \n",
      "Epoch: [15][0/19] Elapsed 0m 0s (remain 0m 2s) Loss: 0.1511(0.1511) Grad: 5.0554  LR: 0.000009  \n",
      "Epoch: [15][10/19] Elapsed 0m 1s (remain 0m 1s) Loss: 0.1105(0.1528) Grad: 7.8386  LR: 0.000009  \n",
      "Epoch: [15][18/19] Elapsed 0m 2s (remain 0m 0s) Loss: 0.1934(0.1507) Grad: 14.3832  LR: 0.000009  \n",
      "EVAL: [0/3] Elapsed 0m 0s (remain 0m 0s) Loss: 0.2821(0.2821) \n"
     ]
    },
    {
     "name": "stderr",
     "output_type": "stream",
     "text": [
      "Epoch 15 - avg_train_loss: 0.1507  avg_val_loss: 0.2952  time: 3s\n",
      "Epoch 15 - Score: 0.2961\n"
     ]
    },
    {
     "name": "stdout",
     "output_type": "stream",
     "text": [
      "EVAL: [2/3] Elapsed 0m 0s (remain 0m 0s) Loss: 0.2625(0.2952) \n",
      "Epoch: [16][0/19] Elapsed 0m 0s (remain 0m 2s) Loss: 0.1387(0.1387) Grad: 5.4077  LR: 0.000001  \n",
      "Epoch: [16][10/19] Elapsed 0m 1s (remain 0m 1s) Loss: 0.1428(0.1359) Grad: 8.0053  LR: 0.000001  \n",
      "Epoch: [16][18/19] Elapsed 0m 2s (remain 0m 0s) Loss: 0.0932(0.1307) Grad: 11.0395  LR: 0.000001  \n",
      "EVAL: [0/3] Elapsed 0m 0s (remain 0m 0s) Loss: 0.2962(0.2962) \n"
     ]
    },
    {
     "name": "stderr",
     "output_type": "stream",
     "text": [
      "Epoch 16 - avg_train_loss: 0.1307  avg_val_loss: 0.2961  time: 4s\n",
      "Epoch 16 - Score: 0.2982\n"
     ]
    },
    {
     "name": "stdout",
     "output_type": "stream",
     "text": [
      "EVAL: [2/3] Elapsed 0m 0s (remain 0m 0s) Loss: 0.2231(0.2961) \n",
      "Epoch: [17][0/19] Elapsed 0m 0s (remain 0m 2s) Loss: 0.1287(0.1287) Grad: 15.2709  LR: 0.000050  \n",
      "Epoch: [17][10/19] Elapsed 0m 1s (remain 0m 1s) Loss: 0.1295(0.1373) Grad: 5.6127  LR: 0.000050  \n",
      "Epoch: [17][18/19] Elapsed 0m 2s (remain 0m 0s) Loss: 0.1570(0.1417) Grad: 5.1270  LR: 0.000050  \n",
      "EVAL: [0/3] Elapsed 0m 0s (remain 0m 0s) Loss: 0.2759(0.2759) \n"
     ]
    },
    {
     "name": "stderr",
     "output_type": "stream",
     "text": [
      "Epoch 17 - avg_train_loss: 0.1417  avg_val_loss: 0.2828  time: 4s\n",
      "Epoch 17 - Score: 0.2852\n"
     ]
    },
    {
     "name": "stdout",
     "output_type": "stream",
     "text": [
      "EVAL: [2/3] Elapsed 0m 0s (remain 0m 0s) Loss: 0.2135(0.2828) \n",
      "Epoch: [18][0/19] Elapsed 0m 0s (remain 0m 2s) Loss: 0.1220(0.1220) Grad: 9.2872  LR: 0.000224  \n",
      "Epoch: [18][10/19] Elapsed 0m 1s (remain 0m 1s) Loss: 0.1782(0.1464) Grad: 13.0302  LR: 0.000224  \n",
      "Epoch: [18][18/19] Elapsed 0m 2s (remain 0m 0s) Loss: 0.2100(0.1663) Grad: 18.1851  LR: 0.000224  \n",
      "EVAL: [0/3] Elapsed 0m 0s (remain 0m 0s) Loss: 0.3295(0.3295) \n"
     ]
    },
    {
     "name": "stderr",
     "output_type": "stream",
     "text": [
      "Epoch 18 - avg_train_loss: 0.1663  avg_val_loss: 0.3245  time: 3s\n",
      "Epoch 18 - Score: 0.3262\n"
     ]
    },
    {
     "name": "stdout",
     "output_type": "stream",
     "text": [
      "EVAL: [2/3] Elapsed 0m 0s (remain 0m 0s) Loss: 0.2544(0.3245) \n",
      "Epoch: [19][0/19] Elapsed 0m 0s (remain 0m 2s) Loss: 0.1771(0.1771) Grad: 13.1879  LR: 0.000133  \n",
      "Epoch: [19][10/19] Elapsed 0m 1s (remain 0m 1s) Loss: 0.1657(0.1838) Grad: 10.6763  LR: 0.000133  \n",
      "Epoch: [19][18/19] Elapsed 0m 2s (remain 0m 0s) Loss: 0.1494(0.1905) Grad: 10.2745  LR: 0.000133  \n",
      "EVAL: [0/3] Elapsed 0m 0s (remain 0m 0s) Loss: 0.3246(0.3246) \n"
     ]
    },
    {
     "name": "stderr",
     "output_type": "stream",
     "text": [
      "Epoch 19 - avg_train_loss: 0.1905  avg_val_loss: 0.3045  time: 3s\n",
      "Epoch 19 - Score: 0.3059\n"
     ]
    },
    {
     "name": "stdout",
     "output_type": "stream",
     "text": [
      "EVAL: [2/3] Elapsed 0m 0s (remain 0m 0s) Loss: 0.2424(0.3045) \n",
      "Epoch: [20][0/19] Elapsed 0m 0s (remain 0m 2s) Loss: 0.2076(0.2076) Grad: 15.2741  LR: 0.000057  \n",
      "Epoch: [20][10/19] Elapsed 0m 1s (remain 0m 1s) Loss: 0.1463(0.1790) Grad: 15.6166  LR: 0.000057  \n",
      "Epoch: [20][18/19] Elapsed 0m 2s (remain 0m 0s) Loss: 0.1156(0.1867) Grad: 5.6998  LR: 0.000057  \n",
      "EVAL: [0/3] Elapsed 0m 0s (remain 0m 0s) Loss: 0.3240(0.3240) \n"
     ]
    },
    {
     "name": "stderr",
     "output_type": "stream",
     "text": [
      "Epoch 20 - avg_train_loss: 0.1867  avg_val_loss: 0.3181  time: 4s\n",
      "Epoch 20 - Score: 0.3193\n"
     ]
    },
    {
     "name": "stdout",
     "output_type": "stream",
     "text": [
      "EVAL: [2/3] Elapsed 0m 0s (remain 0m 0s) Loss: 0.2597(0.3181) \n",
      "Epoch: [21][0/19] Elapsed 0m 0s (remain 0m 2s) Loss: 0.1713(0.1713) Grad: 17.7037  LR: 0.000009  \n",
      "Epoch: [21][10/19] Elapsed 0m 1s (remain 0m 1s) Loss: 0.1598(0.1746) Grad: 19.8118  LR: 0.000009  \n",
      "Epoch: [21][18/19] Elapsed 0m 2s (remain 0m 0s) Loss: 0.1935(0.1657) Grad: 17.3042  LR: 0.000009  \n",
      "EVAL: [0/3] Elapsed 0m 0s (remain 0m 0s) Loss: 0.2893(0.2893) \n"
     ]
    },
    {
     "name": "stderr",
     "output_type": "stream",
     "text": [
      "Epoch 21 - avg_train_loss: 0.1657  avg_val_loss: 0.2812  time: 4s\n",
      "Epoch 21 - Score: 0.2838\n"
     ]
    },
    {
     "name": "stdout",
     "output_type": "stream",
     "text": [
      "EVAL: [2/3] Elapsed 0m 0s (remain 0m 0s) Loss: 0.1974(0.2812) \n",
      "Epoch: [22][0/19] Elapsed 0m 0s (remain 0m 2s) Loss: 0.1231(0.1231) Grad: 3.2511  LR: 0.000001  \n",
      "Epoch: [22][10/19] Elapsed 0m 1s (remain 0m 1s) Loss: 0.1094(0.1184) Grad: 3.9655  LR: 0.000001  \n",
      "Epoch: [22][18/19] Elapsed 0m 2s (remain 0m 0s) Loss: 0.0990(0.1222) Grad: 5.4020  LR: 0.000001  \n",
      "EVAL: [0/3] Elapsed 0m 0s (remain 0m 0s) Loss: 0.2776(0.2776) \n"
     ]
    },
    {
     "name": "stderr",
     "output_type": "stream",
     "text": [
      "Epoch 22 - avg_train_loss: 0.1222  avg_val_loss: 0.2769  time: 4s\n",
      "Epoch 22 - Score: 0.2781\n",
      "Epoch 22 - Save Best Score: 0.2781 Model\n"
     ]
    },
    {
     "name": "stdout",
     "output_type": "stream",
     "text": [
      "EVAL: [2/3] Elapsed 0m 0s (remain 0m 0s) Loss: 0.2234(0.2769) \n",
      "Epoch: [23][0/19] Elapsed 0m 0s (remain 0m 2s) Loss: 0.0886(0.0886) Grad: 8.1531  LR: 0.000050  \n",
      "Epoch: [23][10/19] Elapsed 0m 1s (remain 0m 1s) Loss: 0.1631(0.1226) Grad: 12.2235  LR: 0.000050  \n",
      "Epoch: [23][18/19] Elapsed 0m 2s (remain 0m 0s) Loss: 0.1883(0.1320) Grad: 19.8311  LR: 0.000050  \n",
      "EVAL: [0/3] Elapsed 0m 0s (remain 0m 0s) Loss: 0.3246(0.3246) \n"
     ]
    },
    {
     "name": "stderr",
     "output_type": "stream",
     "text": [
      "Epoch 23 - avg_train_loss: 0.1320  avg_val_loss: 0.2947  time: 4s\n",
      "Epoch 23 - Score: 0.2984\n"
     ]
    },
    {
     "name": "stdout",
     "output_type": "stream",
     "text": [
      "EVAL: [2/3] Elapsed 0m 0s (remain 0m 0s) Loss: 0.1922(0.2947) \n",
      "Epoch: [24][0/19] Elapsed 0m 0s (remain 0m 2s) Loss: 0.1620(0.1620) Grad: 22.1846  LR: 0.000224  \n",
      "Epoch: [24][10/19] Elapsed 0m 1s (remain 0m 1s) Loss: 0.1019(0.1219) Grad: 7.6405  LR: 0.000224  \n",
      "Epoch: [24][18/19] Elapsed 0m 2s (remain 0m 0s) Loss: 0.1350(0.1280) Grad: 16.4745  LR: 0.000224  \n",
      "EVAL: [0/3] Elapsed 0m 0s (remain 0m 0s) Loss: 0.2765(0.2765) \n"
     ]
    },
    {
     "name": "stderr",
     "output_type": "stream",
     "text": [
      "Epoch 24 - avg_train_loss: 0.1280  avg_val_loss: 0.2811  time: 3s\n",
      "Epoch 24 - Score: 0.2816\n"
     ]
    },
    {
     "name": "stdout",
     "output_type": "stream",
     "text": [
      "EVAL: [2/3] Elapsed 0m 0s (remain 0m 0s) Loss: 0.2509(0.2811) \n",
      "Epoch: [25][0/19] Elapsed 0m 0s (remain 0m 2s) Loss: 0.1536(0.1536) Grad: 5.7507  LR: 0.000133  \n",
      "Epoch: [25][10/19] Elapsed 0m 1s (remain 0m 1s) Loss: 0.1469(0.1509) Grad: 10.1413  LR: 0.000133  \n",
      "Epoch: [25][18/19] Elapsed 0m 2s (remain 0m 0s) Loss: 0.2515(0.1694) Grad: 12.3251  LR: 0.000133  \n",
      "EVAL: [0/3] Elapsed 0m 0s (remain 0m 0s) Loss: 0.2996(0.2996) \n"
     ]
    },
    {
     "name": "stderr",
     "output_type": "stream",
     "text": [
      "Epoch 25 - avg_train_loss: 0.1694  avg_val_loss: 0.3197  time: 3s\n",
      "Epoch 25 - Score: 0.3204\n"
     ]
    },
    {
     "name": "stdout",
     "output_type": "stream",
     "text": [
      "EVAL: [2/3] Elapsed 0m 0s (remain 0m 0s) Loss: 0.3596(0.3197) \n",
      "Epoch: [26][0/19] Elapsed 0m 0s (remain 0m 2s) Loss: 0.1828(0.1828) Grad: 11.8006  LR: 0.000057  \n",
      "Epoch: [26][10/19] Elapsed 0m 1s (remain 0m 1s) Loss: 0.1222(0.1963) Grad: 7.2486  LR: 0.000057  \n",
      "Epoch: [26][18/19] Elapsed 0m 2s (remain 0m 0s) Loss: 0.1636(0.1893) Grad: 5.4043  LR: 0.000057  \n",
      "EVAL: [0/3] Elapsed 0m 0s (remain 0m 0s) Loss: 0.2918(0.2918) \n"
     ]
    },
    {
     "name": "stderr",
     "output_type": "stream",
     "text": [
      "Epoch 26 - avg_train_loss: 0.1893  avg_val_loss: 0.2934  time: 3s\n",
      "Epoch 26 - Score: 0.2958\n"
     ]
    },
    {
     "name": "stdout",
     "output_type": "stream",
     "text": [
      "EVAL: [2/3] Elapsed 0m 0s (remain 0m 0s) Loss: 0.2185(0.2934) \n",
      "Epoch: [27][0/19] Elapsed 0m 0s (remain 0m 2s) Loss: 0.1358(0.1358) Grad: 15.2894  LR: 0.000009  \n",
      "Epoch: [27][10/19] Elapsed 0m 1s (remain 0m 1s) Loss: 0.1096(0.1255) Grad: 3.3011  LR: 0.000009  \n",
      "Epoch: [27][18/19] Elapsed 0m 2s (remain 0m 0s) Loss: 0.1140(0.1285) Grad: 3.0103  LR: 0.000009  \n",
      "EVAL: [0/3] Elapsed 0m 0s (remain 0m 0s) Loss: 0.2738(0.2738) \n"
     ]
    },
    {
     "name": "stderr",
     "output_type": "stream",
     "text": [
      "Epoch 27 - avg_train_loss: 0.1285  avg_val_loss: 0.2830  time: 3s\n",
      "Epoch 27 - Score: 0.2844\n"
     ]
    },
    {
     "name": "stdout",
     "output_type": "stream",
     "text": [
      "EVAL: [2/3] Elapsed 0m 0s (remain 0m 0s) Loss: 0.2338(0.2830) \n",
      "Epoch: [28][0/19] Elapsed 0m 0s (remain 0m 2s) Loss: 0.1042(0.1042) Grad: 19.2546  LR: 0.000001  \n",
      "Epoch: [28][10/19] Elapsed 0m 1s (remain 0m 1s) Loss: 0.1010(0.1079) Grad: 3.9525  LR: 0.000001  \n",
      "Epoch: [28][18/19] Elapsed 0m 2s (remain 0m 0s) Loss: 0.0999(0.1052) Grad: 7.8846  LR: 0.000001  \n",
      "EVAL: [0/3] Elapsed 0m 0s (remain 0m 0s) Loss: 0.2703(0.2703) \n"
     ]
    },
    {
     "name": "stderr",
     "output_type": "stream",
     "text": [
      "Epoch 28 - avg_train_loss: 0.1052  avg_val_loss: 0.2774  time: 3s\n",
      "Epoch 28 - Score: 0.2809\n"
     ]
    },
    {
     "name": "stdout",
     "output_type": "stream",
     "text": [
      "EVAL: [2/3] Elapsed 0m 0s (remain 0m 0s) Loss: 0.1924(0.2774) \n",
      "Epoch: [29][0/19] Elapsed 0m 0s (remain 0m 2s) Loss: 0.0948(0.0948) Grad: 11.2175  LR: 0.000050  \n",
      "Epoch: [29][10/19] Elapsed 0m 1s (remain 0m 1s) Loss: 0.1202(0.1068) Grad: 7.4661  LR: 0.000050  \n",
      "Epoch: [29][18/19] Elapsed 0m 2s (remain 0m 0s) Loss: 0.0689(0.1028) Grad: 10.3578  LR: 0.000050  \n",
      "EVAL: [0/3] Elapsed 0m 0s (remain 0m 0s) Loss: 0.2747(0.2747) \n"
     ]
    },
    {
     "name": "stderr",
     "output_type": "stream",
     "text": [
      "Epoch 29 - avg_train_loss: 0.1028  avg_val_loss: 0.2721  time: 4s\n",
      "Epoch 29 - Score: 0.2733\n",
      "Epoch 29 - Save Best Score: 0.2733 Model\n"
     ]
    },
    {
     "name": "stdout",
     "output_type": "stream",
     "text": [
      "EVAL: [2/3] Elapsed 0m 0s (remain 0m 0s) Loss: 0.2178(0.2721) \n",
      "Epoch: [30][0/19] Elapsed 0m 0s (remain 0m 2s) Loss: 0.0908(0.0908) Grad: 3.2338  LR: 0.000224  \n",
      "Epoch: [30][10/19] Elapsed 0m 1s (remain 0m 1s) Loss: 0.2143(0.1257) Grad: 17.4278  LR: 0.000224  \n",
      "Epoch: [30][18/19] Elapsed 0m 2s (remain 0m 0s) Loss: 0.1606(0.1291) Grad: 16.5083  LR: 0.000224  \n",
      "EVAL: [0/3] Elapsed 0m 0s (remain 0m 0s) Loss: 0.3040(0.3040) \n"
     ]
    },
    {
     "name": "stderr",
     "output_type": "stream",
     "text": [
      "Epoch 30 - avg_train_loss: 0.1291  avg_val_loss: 0.3112  time: 4s\n",
      "Epoch 30 - Score: 0.3124\n"
     ]
    },
    {
     "name": "stdout",
     "output_type": "stream",
     "text": [
      "EVAL: [2/3] Elapsed 0m 0s (remain 0m 0s) Loss: 0.2631(0.3112) \n",
      "Epoch: [31][0/19] Elapsed 0m 0s (remain 0m 2s) Loss: 0.0941(0.0941) Grad: 12.9383  LR: 0.000133  \n",
      "Epoch: [31][10/19] Elapsed 0m 1s (remain 0m 1s) Loss: 0.1255(0.1388) Grad: 13.9059  LR: 0.000133  \n",
      "Epoch: [31][18/19] Elapsed 0m 2s (remain 0m 0s) Loss: 0.1895(0.1389) Grad: 7.6426  LR: 0.000133  \n",
      "EVAL: [0/3] Elapsed 0m 0s (remain 0m 0s) Loss: 0.2821(0.2821) \n"
     ]
    },
    {
     "name": "stderr",
     "output_type": "stream",
     "text": [
      "Epoch 31 - avg_train_loss: 0.1389  avg_val_loss: 0.3049  time: 3s\n",
      "Epoch 31 - Score: 0.3101\n"
     ]
    },
    {
     "name": "stdout",
     "output_type": "stream",
     "text": [
      "EVAL: [2/3] Elapsed 0m 0s (remain 0m 0s) Loss: 0.2127(0.3049) \n",
      "Epoch: [32][0/19] Elapsed 0m 0s (remain 0m 2s) Loss: 0.1203(0.1203) Grad: 5.4556  LR: 0.000057  \n",
      "Epoch: [32][10/19] Elapsed 0m 1s (remain 0m 1s) Loss: 0.1362(0.1508) Grad: 6.2900  LR: 0.000057  \n",
      "Epoch: [32][18/19] Elapsed 0m 2s (remain 0m 0s) Loss: 0.1390(0.1519) Grad: 12.7429  LR: 0.000057  \n",
      "EVAL: [0/3] Elapsed 0m 0s (remain 0m 0s) Loss: 0.2802(0.2802) \n"
     ]
    },
    {
     "name": "stderr",
     "output_type": "stream",
     "text": [
      "Epoch 32 - avg_train_loss: 0.1519  avg_val_loss: 0.2871  time: 4s\n",
      "Epoch 32 - Score: 0.2896\n"
     ]
    },
    {
     "name": "stdout",
     "output_type": "stream",
     "text": [
      "EVAL: [2/3] Elapsed 0m 0s (remain 0m 0s) Loss: 0.2141(0.2871) \n",
      "Epoch: [33][0/19] Elapsed 0m 0s (remain 0m 2s) Loss: 0.1615(0.1615) Grad: 5.7070  LR: 0.000009  \n",
      "Epoch: [33][10/19] Elapsed 0m 1s (remain 0m 1s) Loss: 0.1321(0.1310) Grad: 5.6628  LR: 0.000009  \n",
      "Epoch: [33][18/19] Elapsed 0m 2s (remain 0m 0s) Loss: 0.0795(0.1203) Grad: 3.4969  LR: 0.000009  \n",
      "EVAL: [0/3] Elapsed 0m 0s (remain 0m 0s) Loss: 0.2851(0.2851) \n"
     ]
    },
    {
     "name": "stderr",
     "output_type": "stream",
     "text": [
      "Epoch 33 - avg_train_loss: 0.1203  avg_val_loss: 0.2895  time: 4s\n",
      "Epoch 33 - Score: 0.2908\n"
     ]
    },
    {
     "name": "stdout",
     "output_type": "stream",
     "text": [
      "EVAL: [2/3] Elapsed 0m 0s (remain 0m 0s) Loss: 0.2364(0.2895) \n",
      "Epoch: [34][0/19] Elapsed 0m 0s (remain 0m 2s) Loss: 0.0781(0.0781) Grad: 7.8533  LR: 0.000001  \n",
      "Epoch: [34][10/19] Elapsed 0m 1s (remain 0m 1s) Loss: 0.0860(0.0939) Grad: 4.5347  LR: 0.000001  \n",
      "Epoch: [34][18/19] Elapsed 0m 2s (remain 0m 0s) Loss: 0.0870(0.0932) Grad: 9.1563  LR: 0.000001  \n",
      "EVAL: [0/3] Elapsed 0m 0s (remain 0m 0s) Loss: 0.2766(0.2766) \n"
     ]
    },
    {
     "name": "stderr",
     "output_type": "stream",
     "text": [
      "Epoch 34 - avg_train_loss: 0.0932  avg_val_loss: 0.2841  time: 3s\n",
      "Epoch 34 - Score: 0.2854\n"
     ]
    },
    {
     "name": "stdout",
     "output_type": "stream",
     "text": [
      "EVAL: [2/3] Elapsed 0m 0s (remain 0m 0s) Loss: 0.2364(0.2841) \n",
      "Epoch: [35][0/19] Elapsed 0m 0s (remain 0m 2s) Loss: 0.0980(0.0980) Grad: 6.3128  LR: 0.000050  \n",
      "Epoch: [35][10/19] Elapsed 0m 1s (remain 0m 1s) Loss: 0.0914(0.1085) Grad: 8.6433  LR: 0.000050  \n",
      "Epoch: [35][18/19] Elapsed 0m 2s (remain 0m 0s) Loss: 0.0833(0.1076) Grad: 3.4039  LR: 0.000050  \n",
      "EVAL: [0/3] Elapsed 0m 0s (remain 0m 0s) Loss: 0.2927(0.2927) \n"
     ]
    },
    {
     "name": "stderr",
     "output_type": "stream",
     "text": [
      "Epoch 35 - avg_train_loss: 0.1076  avg_val_loss: 0.2860  time: 3s\n",
      "Epoch 35 - Score: 0.2878\n"
     ]
    },
    {
     "name": "stdout",
     "output_type": "stream",
     "text": [
      "EVAL: [2/3] Elapsed 0m 0s (remain 0m 0s) Loss: 0.2152(0.2860) \n",
      "Epoch: [36][0/19] Elapsed 0m 0s (remain 0m 2s) Loss: 0.1062(0.1062) Grad: 12.5016  LR: 0.000224  \n",
      "Epoch: [36][10/19] Elapsed 0m 1s (remain 0m 1s) Loss: 0.1213(0.1085) Grad: 13.2863  LR: 0.000224  \n",
      "Epoch: [36][18/19] Elapsed 0m 2s (remain 0m 0s) Loss: 0.1005(0.1122) Grad: 3.0712  LR: 0.000224  \n",
      "EVAL: [0/3] Elapsed 0m 0s (remain 0m 0s) Loss: 0.2819(0.2819) \n"
     ]
    },
    {
     "name": "stderr",
     "output_type": "stream",
     "text": [
      "Epoch 36 - avg_train_loss: 0.1122  avg_val_loss: 0.2799  time: 4s\n",
      "Epoch 36 - Score: 0.2817\n"
     ]
    },
    {
     "name": "stdout",
     "output_type": "stream",
     "text": [
      "EVAL: [2/3] Elapsed 0m 0s (remain 0m 0s) Loss: 0.2138(0.2799) \n",
      "Epoch: [37][0/19] Elapsed 0m 0s (remain 0m 2s) Loss: 0.0809(0.0809) Grad: 5.6065  LR: 0.000133  \n",
      "Epoch: [37][10/19] Elapsed 0m 1s (remain 0m 1s) Loss: 0.1043(0.1176) Grad: 3.4188  LR: 0.000133  \n",
      "Epoch: [37][18/19] Elapsed 0m 2s (remain 0m 0s) Loss: 0.1575(0.1362) Grad: 16.0329  LR: 0.000133  \n",
      "EVAL: [0/3] Elapsed 0m 0s (remain 0m 0s) Loss: 0.3203(0.3203) \n"
     ]
    },
    {
     "name": "stderr",
     "output_type": "stream",
     "text": [
      "Epoch 37 - avg_train_loss: 0.1362  avg_val_loss: 0.3199  time: 4s\n",
      "Epoch 37 - Score: 0.3215\n"
     ]
    },
    {
     "name": "stdout",
     "output_type": "stream",
     "text": [
      "EVAL: [2/3] Elapsed 0m 0s (remain 0m 0s) Loss: 0.2540(0.3199) \n",
      "Epoch: [38][0/19] Elapsed 0m 0s (remain 0m 2s) Loss: 0.2193(0.2193) Grad: 14.2329  LR: 0.000057  \n",
      "Epoch: [38][10/19] Elapsed 0m 1s (remain 0m 1s) Loss: 0.0906(0.1852) Grad: 3.9524  LR: 0.000057  \n",
      "Epoch: [38][18/19] Elapsed 0m 2s (remain 0m 0s) Loss: 0.1140(0.1740) Grad: 2.9190  LR: 0.000057  \n",
      "EVAL: [0/3] Elapsed 0m 0s (remain 0m 0s) Loss: 0.3631(0.3631) \n"
     ]
    },
    {
     "name": "stderr",
     "output_type": "stream",
     "text": [
      "Epoch 38 - avg_train_loss: 0.1740  avg_val_loss: 0.3639  time: 4s\n",
      "Epoch 38 - Score: 0.3639\n"
     ]
    },
    {
     "name": "stdout",
     "output_type": "stream",
     "text": [
      "EVAL: [2/3] Elapsed 0m 0s (remain 0m 0s) Loss: 0.3790(0.3639) \n",
      "Epoch: [39][0/19] Elapsed 0m 0s (remain 0m 2s) Loss: 0.2022(0.2022) Grad: 19.2471  LR: 0.000009  \n",
      "Epoch: [39][10/19] Elapsed 0m 1s (remain 0m 1s) Loss: 0.1547(0.1660) Grad: 18.3873  LR: 0.000009  \n",
      "Epoch: [39][18/19] Elapsed 0m 2s (remain 0m 0s) Loss: 0.1230(0.1518) Grad: 4.1956  LR: 0.000009  \n",
      "EVAL: [0/3] Elapsed 0m 0s (remain 0m 0s) Loss: 0.3010(0.3010) \n"
     ]
    },
    {
     "name": "stderr",
     "output_type": "stream",
     "text": [
      "Epoch 39 - avg_train_loss: 0.1518  avg_val_loss: 0.3025  time: 3s\n",
      "Epoch 39 - Score: 0.3037\n"
     ]
    },
    {
     "name": "stdout",
     "output_type": "stream",
     "text": [
      "EVAL: [2/3] Elapsed 0m 0s (remain 0m 0s) Loss: 0.2490(0.3025) \n",
      "Epoch: [40][0/19] Elapsed 0m 0s (remain 0m 2s) Loss: 0.1217(0.1217) Grad: 13.4514  LR: 0.000001  \n",
      "Epoch: [40][10/19] Elapsed 0m 1s (remain 0m 1s) Loss: 0.0935(0.1133) Grad: 6.5318  LR: 0.000001  \n",
      "Epoch: [40][18/19] Elapsed 0m 2s (remain 0m 0s) Loss: 0.0953(0.1087) Grad: 2.8720  LR: 0.000001  \n",
      "EVAL: [0/3] Elapsed 0m 0s (remain 0m 0s) Loss: 0.2954(0.2954) \n"
     ]
    },
    {
     "name": "stderr",
     "output_type": "stream",
     "text": [
      "Epoch 40 - avg_train_loss: 0.1087  avg_val_loss: 0.2816  time: 3s\n",
      "Epoch 40 - Score: 0.2842\n",
      "========== fold: 2 result ==========\n",
      "Score: 0.2733\n",
      "========== fold: 3 training ==========\n"
     ]
    },
    {
     "name": "stdout",
     "output_type": "stream",
     "text": [
      "EVAL: [2/3] Elapsed 0m 0s (remain 0m 0s) Loss: 0.1979(0.2816) \n",
      "Epoch: [1][0/19] Elapsed 0m 0s (remain 0m 2s) Loss: 3.6763(3.6763) Grad: 27.2155  LR: 0.000100  \n",
      "Epoch: [1][10/19] Elapsed 0m 1s (remain 0m 1s) Loss: 0.4845(1.3252) Grad: 16.7695  LR: 0.000100  \n",
      "Epoch: [1][18/19] Elapsed 0m 2s (remain 0m 0s) Loss: 0.4366(0.9815) Grad: 4.3156  LR: 0.000100  \n",
      "EVAL: [0/3] Elapsed 0m 0s (remain 0m 0s) Loss: 0.5204(0.5204) \n"
     ]
    },
    {
     "name": "stderr",
     "output_type": "stream",
     "text": [
      "Epoch 1 - avg_train_loss: 0.9815  avg_val_loss: 0.4293  time: 4s\n",
      "Epoch 1 - Score: 0.4370\n",
      "Epoch 1 - Save Best Score: 0.4370 Model\n"
     ]
    },
    {
     "name": "stdout",
     "output_type": "stream",
     "text": [
      "EVAL: [2/3] Elapsed 0m 0s (remain 0m 0s) Loss: 0.3070(0.4293) \n",
      "Epoch: [2][0/19] Elapsed 0m 0s (remain 0m 2s) Loss: 0.5563(0.5563) Grad: 4.6835  LR: 0.000057  \n",
      "Epoch: [2][10/19] Elapsed 0m 1s (remain 0m 1s) Loss: 0.3767(0.4147) Grad: 8.3278  LR: 0.000057  \n",
      "Epoch: [2][18/19] Elapsed 0m 2s (remain 0m 0s) Loss: 0.3702(0.4031) Grad: 12.6666  LR: 0.000057  \n",
      "EVAL: [0/3] Elapsed 0m 0s (remain 0m 0s) Loss: 0.4391(0.4391) \n"
     ]
    },
    {
     "name": "stderr",
     "output_type": "stream",
     "text": [
      "Epoch 2 - avg_train_loss: 0.4031  avg_val_loss: 0.3815  time: 4s\n",
      "Epoch 2 - Score: 0.3853\n",
      "Epoch 2 - Save Best Score: 0.3853 Model\n"
     ]
    },
    {
     "name": "stdout",
     "output_type": "stream",
     "text": [
      "EVAL: [2/3] Elapsed 0m 0s (remain 0m 0s) Loss: 0.2930(0.3815) \n",
      "Epoch: [3][0/19] Elapsed 0m 0s (remain 0m 2s) Loss: 0.3669(0.3669) Grad: 4.6584  LR: 0.000009  \n",
      "Epoch: [3][10/19] Elapsed 0m 1s (remain 0m 1s) Loss: 0.3278(0.3094) Grad: 14.7329  LR: 0.000009  \n",
      "Epoch: [3][18/19] Elapsed 0m 2s (remain 0m 0s) Loss: 0.3446(0.2971) Grad: 13.3009  LR: 0.000009  \n",
      "EVAL: [0/3] Elapsed 0m 0s (remain 0m 0s) Loss: 0.4219(0.4219) \n"
     ]
    },
    {
     "name": "stderr",
     "output_type": "stream",
     "text": [
      "Epoch 3 - avg_train_loss: 0.2971  avg_val_loss: 0.3538  time: 4s\n",
      "Epoch 3 - Score: 0.3594\n",
      "Epoch 3 - Save Best Score: 0.3594 Model\n"
     ]
    },
    {
     "name": "stdout",
     "output_type": "stream",
     "text": [
      "EVAL: [2/3] Elapsed 0m 0s (remain 0m 0s) Loss: 0.2509(0.3538) \n",
      "Epoch: [4][0/19] Elapsed 0m 0s (remain 0m 2s) Loss: 0.2185(0.2185) Grad: 7.3098  LR: 0.000001  \n",
      "Epoch: [4][10/19] Elapsed 0m 1s (remain 0m 1s) Loss: 0.2589(0.2424) Grad: 6.1365  LR: 0.000001  \n",
      "Epoch: [4][18/19] Elapsed 0m 2s (remain 0m 0s) Loss: 0.2361(0.2439) Grad: 5.8378  LR: 0.000001  \n",
      "EVAL: [0/3] Elapsed 0m 0s (remain 0m 0s) Loss: 0.4089(0.4089) \n"
     ]
    },
    {
     "name": "stderr",
     "output_type": "stream",
     "text": [
      "Epoch 4 - avg_train_loss: 0.2439  avg_val_loss: 0.3460  time: 4s\n",
      "Epoch 4 - Score: 0.3513\n",
      "Epoch 4 - Save Best Score: 0.3513 Model\n"
     ]
    },
    {
     "name": "stdout",
     "output_type": "stream",
     "text": [
      "EVAL: [2/3] Elapsed 0m 0s (remain 0m 0s) Loss: 0.2402(0.3460) \n",
      "Epoch: [5][0/19] Elapsed 0m 0s (remain 0m 2s) Loss: 0.2136(0.2136) Grad: 9.5788  LR: 0.000050  \n",
      "Epoch: [5][10/19] Elapsed 0m 1s (remain 0m 1s) Loss: 0.1733(0.2348) Grad: 8.8993  LR: 0.000050  \n",
      "Epoch: [5][18/19] Elapsed 0m 2s (remain 0m 0s) Loss: 0.2802(0.2297) Grad: 10.5655  LR: 0.000050  \n",
      "EVAL: [0/3] Elapsed 0m 0s (remain 0m 0s) Loss: 0.4411(0.4411) \n"
     ]
    },
    {
     "name": "stderr",
     "output_type": "stream",
     "text": [
      "Epoch 5 - avg_train_loss: 0.2297  avg_val_loss: 0.3510  time: 4s\n",
      "Epoch 5 - Score: 0.3592\n"
     ]
    },
    {
     "name": "stdout",
     "output_type": "stream",
     "text": [
      "EVAL: [2/3] Elapsed 0m 0s (remain 0m 0s) Loss: 0.2702(0.3510) \n",
      "Epoch: [6][0/19] Elapsed 0m 0s (remain 0m 2s) Loss: 0.2256(0.2256) Grad: 14.1103  LR: 0.000224  \n",
      "Epoch: [6][10/19] Elapsed 0m 1s (remain 0m 1s) Loss: 0.3052(0.2711) Grad: 10.9564  LR: 0.000224  \n",
      "Epoch: [6][18/19] Elapsed 0m 2s (remain 0m 0s) Loss: 0.2589(0.2682) Grad: 17.2336  LR: 0.000224  \n",
      "EVAL: [0/3] Elapsed 0m 0s (remain 0m 0s) Loss: 0.5119(0.5119) \n"
     ]
    },
    {
     "name": "stderr",
     "output_type": "stream",
     "text": [
      "Epoch 6 - avg_train_loss: 0.2682  avg_val_loss: 0.4539  time: 4s\n",
      "Epoch 6 - Score: 0.4570\n"
     ]
    },
    {
     "name": "stdout",
     "output_type": "stream",
     "text": [
      "EVAL: [2/3] Elapsed 0m 0s (remain 0m 0s) Loss: 0.3685(0.4539) \n",
      "Epoch: [7][0/19] Elapsed 0m 0s (remain 0m 2s) Loss: 0.2591(0.2591) Grad: 12.3008  LR: 0.000133  \n",
      "Epoch: [7][10/19] Elapsed 0m 1s (remain 0m 1s) Loss: 0.2565(0.2624) Grad: 14.6439  LR: 0.000133  \n",
      "Epoch: [7][18/19] Elapsed 0m 2s (remain 0m 0s) Loss: 0.2554(0.2672) Grad: 13.6291  LR: 0.000133  \n",
      "EVAL: [0/3] Elapsed 0m 0s (remain 0m 0s) Loss: 0.4454(0.4454) \n"
     ]
    },
    {
     "name": "stderr",
     "output_type": "stream",
     "text": [
      "Epoch 7 - avg_train_loss: 0.2672  avg_val_loss: 0.3631  time: 4s\n",
      "Epoch 7 - Score: 0.3713\n"
     ]
    },
    {
     "name": "stdout",
     "output_type": "stream",
     "text": [
      "EVAL: [2/3] Elapsed 0m 0s (remain 0m 0s) Loss: 0.2324(0.3631) \n",
      "Epoch: [8][0/19] Elapsed 0m 0s (remain 0m 2s) Loss: 0.1641(0.1641) Grad: 5.2810  LR: 0.000057  \n",
      "Epoch: [8][10/19] Elapsed 0m 1s (remain 0m 1s) Loss: 0.2866(0.2466) Grad: 4.2800  LR: 0.000057  \n",
      "Epoch: [8][18/19] Elapsed 0m 2s (remain 0m 0s) Loss: 0.1460(0.2513) Grad: 6.8660  LR: 0.000057  \n",
      "EVAL: [0/3] Elapsed 0m 0s (remain 0m 0s) Loss: 0.3997(0.3997) \n"
     ]
    },
    {
     "name": "stderr",
     "output_type": "stream",
     "text": [
      "Epoch 8 - avg_train_loss: 0.2513  avg_val_loss: 0.3502  time: 4s\n",
      "Epoch 8 - Score: 0.3526\n"
     ]
    },
    {
     "name": "stdout",
     "output_type": "stream",
     "text": [
      "EVAL: [2/3] Elapsed 0m 0s (remain 0m 0s) Loss: 0.3194(0.3502) \n",
      "Epoch: [9][0/19] Elapsed 0m 0s (remain 0m 2s) Loss: 0.1709(0.1709) Grad: 13.0403  LR: 0.000009  \n",
      "Epoch: [9][10/19] Elapsed 0m 1s (remain 0m 1s) Loss: 0.1941(0.1900) Grad: 6.5384  LR: 0.000009  \n",
      "Epoch: [9][18/19] Elapsed 0m 2s (remain 0m 0s) Loss: 0.2381(0.1922) Grad: 10.4239  LR: 0.000009  \n",
      "EVAL: [0/3] Elapsed 0m 0s (remain 0m 0s) Loss: 0.4213(0.4213) \n"
     ]
    },
    {
     "name": "stderr",
     "output_type": "stream",
     "text": [
      "Epoch 9 - avg_train_loss: 0.1922  avg_val_loss: 0.3492  time: 4s\n",
      "Epoch 9 - Score: 0.3545\n"
     ]
    },
    {
     "name": "stdout",
     "output_type": "stream",
     "text": [
      "EVAL: [2/3] Elapsed 0m 0s (remain 0m 0s) Loss: 0.2922(0.3492) \n",
      "Epoch: [10][0/19] Elapsed 0m 0s (remain 0m 2s) Loss: 0.1902(0.1902) Grad: 9.1356  LR: 0.000001  \n",
      "Epoch: [10][10/19] Elapsed 0m 1s (remain 0m 1s) Loss: 0.1183(0.1772) Grad: 4.3661  LR: 0.000001  \n",
      "Epoch: [10][18/19] Elapsed 0m 2s (remain 0m 0s) Loss: 0.2260(0.1731) Grad: 9.8489  LR: 0.000001  \n",
      "EVAL: [0/3] Elapsed 0m 0s (remain 0m 0s) Loss: 0.3967(0.3967) \n"
     ]
    },
    {
     "name": "stderr",
     "output_type": "stream",
     "text": [
      "Epoch 10 - avg_train_loss: 0.1731  avg_val_loss: 0.3413  time: 4s\n",
      "Epoch 10 - Score: 0.3446\n",
      "Epoch 10 - Save Best Score: 0.3446 Model\n"
     ]
    },
    {
     "name": "stdout",
     "output_type": "stream",
     "text": [
      "EVAL: [2/3] Elapsed 0m 0s (remain 0m 0s) Loss: 0.2823(0.3413) \n",
      "Epoch: [11][0/19] Elapsed 0m 0s (remain 0m 2s) Loss: 0.1550(0.1550) Grad: 3.6277  LR: 0.000050  \n",
      "Epoch: [11][10/19] Elapsed 0m 1s (remain 0m 1s) Loss: 0.1661(0.1947) Grad: 11.2840  LR: 0.000050  \n",
      "Epoch: [11][18/19] Elapsed 0m 2s (remain 0m 0s) Loss: 0.2216(0.1869) Grad: 6.7520  LR: 0.000050  \n",
      "EVAL: [0/3] Elapsed 0m 0s (remain 0m 0s) Loss: 0.4092(0.4092) \n"
     ]
    },
    {
     "name": "stderr",
     "output_type": "stream",
     "text": [
      "Epoch 11 - avg_train_loss: 0.1869  avg_val_loss: 0.3504  time: 4s\n",
      "Epoch 11 - Score: 0.3539\n"
     ]
    },
    {
     "name": "stdout",
     "output_type": "stream",
     "text": [
      "EVAL: [2/3] Elapsed 0m 0s (remain 0m 0s) Loss: 0.3127(0.3504) \n",
      "Epoch: [12][0/19] Elapsed 0m 0s (remain 0m 2s) Loss: 0.1154(0.1154) Grad: 18.4412  LR: 0.000224  \n",
      "Epoch: [12][10/19] Elapsed 0m 1s (remain 0m 1s) Loss: 0.1993(0.2085) Grad: 15.8489  LR: 0.000224  \n",
      "Epoch: [12][18/19] Elapsed 0m 2s (remain 0m 0s) Loss: 0.2788(0.2116) Grad: 20.4008  LR: 0.000224  \n",
      "EVAL: [0/3] Elapsed 0m 0s (remain 0m 0s) Loss: 0.4201(0.4201) \n"
     ]
    },
    {
     "name": "stderr",
     "output_type": "stream",
     "text": [
      "Epoch 12 - avg_train_loss: 0.2116  avg_val_loss: 0.3989  time: 4s\n",
      "Epoch 12 - Score: 0.4004\n"
     ]
    },
    {
     "name": "stdout",
     "output_type": "stream",
     "text": [
      "EVAL: [2/3] Elapsed 0m 0s (remain 0m 0s) Loss: 0.4456(0.3989) \n",
      "Epoch: [13][0/19] Elapsed 0m 0s (remain 0m 2s) Loss: 0.1913(0.1913) Grad: 15.1791  LR: 0.000133  \n",
      "Epoch: [13][10/19] Elapsed 0m 1s (remain 0m 1s) Loss: 0.1780(0.2514) Grad: 10.1809  LR: 0.000133  \n",
      "Epoch: [13][18/19] Elapsed 0m 2s (remain 0m 0s) Loss: 0.2898(0.2437) Grad: 14.2054  LR: 0.000133  \n",
      "EVAL: [0/3] Elapsed 0m 0s (remain 0m 0s) Loss: 0.4358(0.4358) \n"
     ]
    },
    {
     "name": "stderr",
     "output_type": "stream",
     "text": [
      "Epoch 13 - avg_train_loss: 0.2437  avg_val_loss: 0.3527  time: 4s\n",
      "Epoch 13 - Score: 0.3596\n"
     ]
    },
    {
     "name": "stdout",
     "output_type": "stream",
     "text": [
      "EVAL: [2/3] Elapsed 0m 0s (remain 0m 0s) Loss: 0.2883(0.3527) \n",
      "Epoch: [14][0/19] Elapsed 0m 0s (remain 0m 2s) Loss: 0.1576(0.1576) Grad: 9.5542  LR: 0.000057  \n",
      "Epoch: [14][10/19] Elapsed 0m 1s (remain 0m 1s) Loss: 0.1536(0.2205) Grad: 12.0451  LR: 0.000057  \n",
      "Epoch: [14][18/19] Elapsed 0m 2s (remain 0m 0s) Loss: 0.1625(0.2252) Grad: 8.3878  LR: 0.000057  \n",
      "EVAL: [0/3] Elapsed 0m 0s (remain 0m 0s) Loss: 0.4234(0.4234) \n"
     ]
    },
    {
     "name": "stderr",
     "output_type": "stream",
     "text": [
      "Epoch 14 - avg_train_loss: 0.2252  avg_val_loss: 0.3576  time: 4s\n",
      "Epoch 14 - Score: 0.3619\n"
     ]
    },
    {
     "name": "stdout",
     "output_type": "stream",
     "text": [
      "EVAL: [2/3] Elapsed 0m 0s (remain 0m 0s) Loss: 0.3243(0.3576) \n",
      "Epoch: [15][0/19] Elapsed 0m 0s (remain 0m 2s) Loss: 0.1455(0.1455) Grad: 8.8781  LR: 0.000009  \n",
      "Epoch: [15][10/19] Elapsed 0m 1s (remain 0m 1s) Loss: 0.2160(0.1738) Grad: 13.7387  LR: 0.000009  \n",
      "Epoch: [15][18/19] Elapsed 0m 2s (remain 0m 0s) Loss: 0.1980(0.1719) Grad: 3.8368  LR: 0.000009  \n",
      "EVAL: [0/3] Elapsed 0m 0s (remain 0m 0s) Loss: 0.3957(0.3957) \n"
     ]
    },
    {
     "name": "stderr",
     "output_type": "stream",
     "text": [
      "Epoch 15 - avg_train_loss: 0.1719  avg_val_loss: 0.3432  time: 4s\n",
      "Epoch 15 - Score: 0.3461\n"
     ]
    },
    {
     "name": "stdout",
     "output_type": "stream",
     "text": [
      "EVAL: [2/3] Elapsed 0m 0s (remain 0m 0s) Loss: 0.2951(0.3432) \n",
      "Epoch: [16][0/19] Elapsed 0m 0s (remain 0m 2s) Loss: 0.1640(0.1640) Grad: 10.5561  LR: 0.000001  \n",
      "Epoch: [16][10/19] Elapsed 0m 1s (remain 0m 1s) Loss: 0.1590(0.1560) Grad: 4.7457  LR: 0.000001  \n",
      "Epoch: [16][18/19] Elapsed 0m 2s (remain 0m 0s) Loss: 0.1383(0.1462) Grad: 4.7550  LR: 0.000001  \n",
      "EVAL: [0/3] Elapsed 0m 0s (remain 0m 0s) Loss: 0.4098(0.4098) \n"
     ]
    },
    {
     "name": "stderr",
     "output_type": "stream",
     "text": [
      "Epoch 16 - avg_train_loss: 0.1462  avg_val_loss: 0.3463  time: 4s\n",
      "Epoch 16 - Score: 0.3511\n"
     ]
    },
    {
     "name": "stdout",
     "output_type": "stream",
     "text": [
      "EVAL: [2/3] Elapsed 0m 0s (remain 0m 0s) Loss: 0.2568(0.3463) \n",
      "Epoch: [17][0/19] Elapsed 0m 0s (remain 0m 2s) Loss: 0.1758(0.1758) Grad: 4.4931  LR: 0.000050  \n",
      "Epoch: [17][10/19] Elapsed 0m 1s (remain 0m 1s) Loss: 0.1397(0.1576) Grad: 5.2065  LR: 0.000050  \n",
      "Epoch: [17][18/19] Elapsed 0m 2s (remain 0m 0s) Loss: 0.1260(0.1503) Grad: 3.5222  LR: 0.000050  \n",
      "EVAL: [0/3] Elapsed 0m 0s (remain 0m 0s) Loss: 0.4213(0.4213) \n"
     ]
    },
    {
     "name": "stderr",
     "output_type": "stream",
     "text": [
      "Epoch 17 - avg_train_loss: 0.1503  avg_val_loss: 0.3335  time: 4s\n",
      "Epoch 17 - Score: 0.3417\n",
      "Epoch 17 - Save Best Score: 0.3417 Model\n"
     ]
    },
    {
     "name": "stdout",
     "output_type": "stream",
     "text": [
      "EVAL: [2/3] Elapsed 0m 0s (remain 0m 0s) Loss: 0.2607(0.3335) \n",
      "Epoch: [18][0/19] Elapsed 0m 0s (remain 0m 2s) Loss: 0.1326(0.1326) Grad: 12.8616  LR: 0.000224  \n",
      "Epoch: [18][10/19] Elapsed 0m 1s (remain 0m 1s) Loss: 0.1697(0.1501) Grad: 11.8216  LR: 0.000224  \n",
      "Epoch: [18][18/19] Elapsed 0m 2s (remain 0m 0s) Loss: 0.1686(0.1566) Grad: 10.9414  LR: 0.000224  \n",
      "EVAL: [0/3] Elapsed 0m 0s (remain 0m 0s) Loss: 0.4039(0.4039) \n"
     ]
    },
    {
     "name": "stderr",
     "output_type": "stream",
     "text": [
      "Epoch 18 - avg_train_loss: 0.1566  avg_val_loss: 0.3308  time: 4s\n",
      "Epoch 18 - Score: 0.3366\n",
      "Epoch 18 - Save Best Score: 0.3366 Model\n"
     ]
    },
    {
     "name": "stdout",
     "output_type": "stream",
     "text": [
      "EVAL: [2/3] Elapsed 0m 0s (remain 0m 0s) Loss: 0.2640(0.3308) \n",
      "Epoch: [19][0/19] Elapsed 0m 0s (remain 0m 2s) Loss: 0.1536(0.1536) Grad: 12.4746  LR: 0.000133  \n",
      "Epoch: [19][10/19] Elapsed 0m 1s (remain 0m 1s) Loss: 0.1833(0.1681) Grad: 12.0032  LR: 0.000133  \n",
      "Epoch: [19][18/19] Elapsed 0m 2s (remain 0m 0s) Loss: 0.1541(0.1776) Grad: 12.2300  LR: 0.000133  \n",
      "EVAL: [0/3] Elapsed 0m 0s (remain 0m 0s) Loss: 0.4107(0.4107) \n"
     ]
    },
    {
     "name": "stderr",
     "output_type": "stream",
     "text": [
      "Epoch 19 - avg_train_loss: 0.1776  avg_val_loss: 0.3694  time: 4s\n",
      "Epoch 19 - Score: 0.3716\n"
     ]
    },
    {
     "name": "stdout",
     "output_type": "stream",
     "text": [
      "EVAL: [2/3] Elapsed 0m 0s (remain 0m 0s) Loss: 0.3003(0.3694) \n",
      "Epoch: [20][0/19] Elapsed 0m 0s (remain 0m 2s) Loss: 0.1425(0.1425) Grad: 6.2076  LR: 0.000057  \n",
      "Epoch: [20][10/19] Elapsed 0m 1s (remain 0m 1s) Loss: 0.1916(0.1867) Grad: 10.1323  LR: 0.000057  \n",
      "Epoch: [20][18/19] Elapsed 0m 2s (remain 0m 0s) Loss: 0.2537(0.1870) Grad: 13.8331  LR: 0.000057  \n",
      "EVAL: [0/3] Elapsed 0m 0s (remain 0m 0s) Loss: 0.4412(0.4412) \n"
     ]
    },
    {
     "name": "stderr",
     "output_type": "stream",
     "text": [
      "Epoch 20 - avg_train_loss: 0.1870  avg_val_loss: 0.3676  time: 4s\n",
      "Epoch 20 - Score: 0.3729\n"
     ]
    },
    {
     "name": "stdout",
     "output_type": "stream",
     "text": [
      "EVAL: [2/3] Elapsed 0m 0s (remain 0m 0s) Loss: 0.3091(0.3676) \n",
      "Epoch: [21][0/19] Elapsed 0m 0s (remain 0m 2s) Loss: 0.1653(0.1653) Grad: 16.8739  LR: 0.000009  \n",
      "Epoch: [21][10/19] Elapsed 0m 1s (remain 0m 1s) Loss: 0.1198(0.1411) Grad: 4.3887  LR: 0.000009  \n",
      "Epoch: [21][18/19] Elapsed 0m 2s (remain 0m 0s) Loss: 0.1491(0.1367) Grad: 6.5571  LR: 0.000009  \n",
      "EVAL: [0/3] Elapsed 0m 0s (remain 0m 0s) Loss: 0.4207(0.4207) \n"
     ]
    },
    {
     "name": "stderr",
     "output_type": "stream",
     "text": [
      "Epoch 21 - avg_train_loss: 0.1367  avg_val_loss: 0.3372  time: 4s\n",
      "Epoch 21 - Score: 0.3447\n"
     ]
    },
    {
     "name": "stdout",
     "output_type": "stream",
     "text": [
      "EVAL: [2/3] Elapsed 0m 0s (remain 0m 0s) Loss: 0.2514(0.3372) \n",
      "Epoch: [22][0/19] Elapsed 0m 0s (remain 0m 2s) Loss: 0.1181(0.1181) Grad: 5.1293  LR: 0.000001  \n",
      "Epoch: [22][10/19] Elapsed 0m 1s (remain 0m 1s) Loss: 0.0674(0.1068) Grad: 3.2068  LR: 0.000001  \n",
      "Epoch: [22][18/19] Elapsed 0m 2s (remain 0m 0s) Loss: 0.1168(0.1094) Grad: 3.6510  LR: 0.000001  \n",
      "EVAL: [0/3] Elapsed 0m 0s (remain 0m 0s) Loss: 0.4122(0.4122) \n"
     ]
    },
    {
     "name": "stderr",
     "output_type": "stream",
     "text": [
      "Epoch 22 - avg_train_loss: 0.1094  avg_val_loss: 0.3264  time: 4s\n",
      "Epoch 22 - Score: 0.3343\n",
      "Epoch 22 - Save Best Score: 0.3343 Model\n"
     ]
    },
    {
     "name": "stdout",
     "output_type": "stream",
     "text": [
      "EVAL: [2/3] Elapsed 0m 0s (remain 0m 0s) Loss: 0.2712(0.3264) \n",
      "Epoch: [23][0/19] Elapsed 0m 0s (remain 0m 2s) Loss: 0.1374(0.1374) Grad: 3.7386  LR: 0.000050  \n",
      "Epoch: [23][10/19] Elapsed 0m 1s (remain 0m 1s) Loss: 0.0841(0.1080) Grad: 5.3575  LR: 0.000050  \n",
      "Epoch: [23][18/19] Elapsed 0m 2s (remain 0m 0s) Loss: 0.1251(0.1085) Grad: 13.7692  LR: 0.000050  \n",
      "EVAL: [0/3] Elapsed 0m 0s (remain 0m 0s) Loss: 0.4186(0.4186) \n"
     ]
    },
    {
     "name": "stderr",
     "output_type": "stream",
     "text": [
      "Epoch 23 - avg_train_loss: 0.1085  avg_val_loss: 0.3384  time: 4s\n",
      "Epoch 23 - Score: 0.3454\n"
     ]
    },
    {
     "name": "stdout",
     "output_type": "stream",
     "text": [
      "EVAL: [2/3] Elapsed 0m 0s (remain 0m 0s) Loss: 0.2527(0.3384) \n",
      "Epoch: [24][0/19] Elapsed 0m 0s (remain 0m 2s) Loss: 0.1112(0.1112) Grad: 17.7906  LR: 0.000224  \n",
      "Epoch: [24][10/19] Elapsed 0m 1s (remain 0m 1s) Loss: 0.1344(0.1377) Grad: 13.9564  LR: 0.000224  \n",
      "Epoch: [24][18/19] Elapsed 0m 2s (remain 0m 0s) Loss: 0.1833(0.1593) Grad: 6.9253  LR: 0.000224  \n",
      "EVAL: [0/3] Elapsed 0m 0s (remain 0m 0s) Loss: 0.4649(0.4649) \n"
     ]
    },
    {
     "name": "stderr",
     "output_type": "stream",
     "text": [
      "Epoch 24 - avg_train_loss: 0.1593  avg_val_loss: 0.3695  time: 4s\n",
      "Epoch 24 - Score: 0.3782\n"
     ]
    },
    {
     "name": "stdout",
     "output_type": "stream",
     "text": [
      "EVAL: [2/3] Elapsed 0m 0s (remain 0m 0s) Loss: 0.2887(0.3695) \n",
      "Epoch: [25][0/19] Elapsed 0m 0s (remain 0m 2s) Loss: 0.1670(0.1670) Grad: 12.1182  LR: 0.000133  \n",
      "Epoch: [25][10/19] Elapsed 0m 1s (remain 0m 1s) Loss: 0.2418(0.2051) Grad: 19.5836  LR: 0.000133  \n",
      "Epoch: [25][18/19] Elapsed 0m 2s (remain 0m 0s) Loss: 0.1701(0.2012) Grad: 7.3452  LR: 0.000133  \n",
      "EVAL: [0/3] Elapsed 0m 0s (remain 0m 0s) Loss: 0.4442(0.4442) \n"
     ]
    },
    {
     "name": "stderr",
     "output_type": "stream",
     "text": [
      "Epoch 25 - avg_train_loss: 0.2012  avg_val_loss: 0.3650  time: 4s\n",
      "Epoch 25 - Score: 0.3713\n"
     ]
    },
    {
     "name": "stdout",
     "output_type": "stream",
     "text": [
      "EVAL: [2/3] Elapsed 0m 0s (remain 0m 0s) Loss: 0.3368(0.3650) \n",
      "Epoch: [26][0/19] Elapsed 0m 0s (remain 0m 2s) Loss: 0.1653(0.1653) Grad: 12.4446  LR: 0.000057  \n",
      "Epoch: [26][10/19] Elapsed 0m 1s (remain 0m 1s) Loss: 0.1675(0.1527) Grad: 6.7799  LR: 0.000057  \n",
      "Epoch: [26][18/19] Elapsed 0m 2s (remain 0m 0s) Loss: 0.1310(0.1576) Grad: 8.0575  LR: 0.000057  \n",
      "EVAL: [0/3] Elapsed 0m 0s (remain 0m 0s) Loss: 0.3857(0.3857) \n"
     ]
    },
    {
     "name": "stderr",
     "output_type": "stream",
     "text": [
      "Epoch 26 - avg_train_loss: 0.1576  avg_val_loss: 0.3250  time: 4s\n",
      "Epoch 26 - Score: 0.3291\n",
      "Epoch 26 - Save Best Score: 0.3291 Model\n"
     ]
    },
    {
     "name": "stdout",
     "output_type": "stream",
     "text": [
      "EVAL: [2/3] Elapsed 0m 0s (remain 0m 0s) Loss: 0.2668(0.3250) \n",
      "Epoch: [27][0/19] Elapsed 0m 0s (remain 0m 2s) Loss: 0.0946(0.0946) Grad: 7.7566  LR: 0.000009  \n",
      "Epoch: [27][10/19] Elapsed 0m 1s (remain 0m 1s) Loss: 0.1051(0.1162) Grad: 6.9308  LR: 0.000009  \n",
      "Epoch: [27][18/19] Elapsed 0m 2s (remain 0m 0s) Loss: 0.1058(0.1119) Grad: 9.1759  LR: 0.000009  \n",
      "EVAL: [0/3] Elapsed 0m 0s (remain 0m 0s) Loss: 0.4115(0.4115) \n"
     ]
    },
    {
     "name": "stderr",
     "output_type": "stream",
     "text": [
      "Epoch 27 - avg_train_loss: 0.1119  avg_val_loss: 0.3289  time: 4s\n",
      "Epoch 27 - Score: 0.3366\n"
     ]
    },
    {
     "name": "stdout",
     "output_type": "stream",
     "text": [
      "EVAL: [2/3] Elapsed 0m 0s (remain 0m 0s) Loss: 0.2367(0.3289) \n",
      "Epoch: [28][0/19] Elapsed 0m 0s (remain 0m 2s) Loss: 0.1262(0.1262) Grad: 3.9224  LR: 0.000001  \n",
      "Epoch: [28][10/19] Elapsed 0m 1s (remain 0m 1s) Loss: 0.0823(0.1038) Grad: 5.0115  LR: 0.000001  \n",
      "Epoch: [28][18/19] Elapsed 0m 2s (remain 0m 0s) Loss: 0.0923(0.1014) Grad: 4.3132  LR: 0.000001  \n",
      "EVAL: [0/3] Elapsed 0m 0s (remain 0m 0s) Loss: 0.4226(0.4226) \n"
     ]
    },
    {
     "name": "stderr",
     "output_type": "stream",
     "text": [
      "Epoch 28 - avg_train_loss: 0.1014  avg_val_loss: 0.3323  time: 4s\n",
      "Epoch 28 - Score: 0.3414\n"
     ]
    },
    {
     "name": "stdout",
     "output_type": "stream",
     "text": [
      "EVAL: [2/3] Elapsed 0m 0s (remain 0m 0s) Loss: 0.2322(0.3323) \n",
      "Epoch: [29][0/19] Elapsed 0m 0s (remain 0m 2s) Loss: 0.0846(0.0846) Grad: 2.5515  LR: 0.000050  \n",
      "Epoch: [29][10/19] Elapsed 0m 1s (remain 0m 1s) Loss: 0.1090(0.0970) Grad: 12.1495  LR: 0.000050  \n",
      "Epoch: [29][18/19] Elapsed 0m 2s (remain 0m 0s) Loss: 0.0866(0.1015) Grad: 6.1434  LR: 0.000050  \n",
      "EVAL: [0/3] Elapsed 0m 0s (remain 0m 0s) Loss: 0.4091(0.4091) \n"
     ]
    },
    {
     "name": "stderr",
     "output_type": "stream",
     "text": [
      "Epoch 29 - avg_train_loss: 0.1015  avg_val_loss: 0.3349  time: 4s\n",
      "Epoch 29 - Score: 0.3409\n"
     ]
    },
    {
     "name": "stdout",
     "output_type": "stream",
     "text": [
      "EVAL: [2/3] Elapsed 0m 0s (remain 0m 0s) Loss: 0.2553(0.3349) \n",
      "Epoch: [30][0/19] Elapsed 0m 0s (remain 0m 2s) Loss: 0.1018(0.1018) Grad: 2.4409  LR: 0.000224  \n",
      "Epoch: [30][10/19] Elapsed 0m 1s (remain 0m 1s) Loss: 0.1216(0.1126) Grad: 15.6876  LR: 0.000224  \n",
      "Epoch: [30][18/19] Elapsed 0m 2s (remain 0m 0s) Loss: 0.1106(0.1190) Grad: 11.4231  LR: 0.000224  \n",
      "EVAL: [0/3] Elapsed 0m 0s (remain 0m 0s) Loss: 0.4492(0.4492) \n"
     ]
    },
    {
     "name": "stderr",
     "output_type": "stream",
     "text": [
      "Epoch 30 - avg_train_loss: 0.1190  avg_val_loss: 0.3895  time: 4s\n",
      "Epoch 30 - Score: 0.3928\n"
     ]
    },
    {
     "name": "stdout",
     "output_type": "stream",
     "text": [
      "EVAL: [2/3] Elapsed 0m 0s (remain 0m 0s) Loss: 0.3635(0.3895) \n",
      "Epoch: [31][0/19] Elapsed 0m 0s (remain 0m 2s) Loss: 0.2047(0.2047) Grad: 20.5101  LR: 0.000133  \n",
      "Epoch: [31][10/19] Elapsed 0m 1s (remain 0m 1s) Loss: 0.1509(0.1836) Grad: 15.2838  LR: 0.000133  \n",
      "Epoch: [31][18/19] Elapsed 0m 2s (remain 0m 0s) Loss: 0.2025(0.1683) Grad: 12.8598  LR: 0.000133  \n",
      "EVAL: [0/3] Elapsed 0m 0s (remain 0m 0s) Loss: 0.4291(0.4291) \n"
     ]
    },
    {
     "name": "stderr",
     "output_type": "stream",
     "text": [
      "Epoch 31 - avg_train_loss: 0.1683  avg_val_loss: 0.3444  time: 4s\n",
      "Epoch 31 - Score: 0.3519\n"
     ]
    },
    {
     "name": "stdout",
     "output_type": "stream",
     "text": [
      "EVAL: [2/3] Elapsed 0m 0s (remain 0m 0s) Loss: 0.3057(0.3444) \n",
      "Epoch: [32][0/19] Elapsed 0m 0s (remain 0m 2s) Loss: 0.1616(0.1616) Grad: 15.3039  LR: 0.000057  \n",
      "Epoch: [32][10/19] Elapsed 0m 1s (remain 0m 1s) Loss: 0.1496(0.1393) Grad: 7.1972  LR: 0.000057  \n",
      "Epoch: [32][18/19] Elapsed 0m 2s (remain 0m 0s) Loss: 0.2387(0.1441) Grad: 7.9520  LR: 0.000057  \n",
      "EVAL: [0/3] Elapsed 0m 0s (remain 0m 0s) Loss: 0.3829(0.3829) \n"
     ]
    },
    {
     "name": "stderr",
     "output_type": "stream",
     "text": [
      "Epoch 32 - avg_train_loss: 0.1441  avg_val_loss: 0.3433  time: 4s\n",
      "Epoch 32 - Score: 0.3460\n"
     ]
    },
    {
     "name": "stdout",
     "output_type": "stream",
     "text": [
      "EVAL: [2/3] Elapsed 0m 0s (remain 0m 0s) Loss: 0.2591(0.3433) \n",
      "Epoch: [33][0/19] Elapsed 0m 0s (remain 0m 2s) Loss: 0.1389(0.1389) Grad: 7.8855  LR: 0.000009  \n",
      "Epoch: [33][10/19] Elapsed 0m 1s (remain 0m 1s) Loss: 0.1035(0.1202) Grad: 4.5356  LR: 0.000009  \n",
      "Epoch: [33][18/19] Elapsed 0m 2s (remain 0m 0s) Loss: 0.1199(0.1212) Grad: 3.6127  LR: 0.000009  \n",
      "EVAL: [0/3] Elapsed 0m 0s (remain 0m 0s) Loss: 0.4098(0.4098) \n"
     ]
    },
    {
     "name": "stderr",
     "output_type": "stream",
     "text": [
      "Epoch 33 - avg_train_loss: 0.1212  avg_val_loss: 0.3383  time: 4s\n",
      "Epoch 33 - Score: 0.3437\n"
     ]
    },
    {
     "name": "stdout",
     "output_type": "stream",
     "text": [
      "EVAL: [2/3] Elapsed 0m 0s (remain 0m 0s) Loss: 0.2704(0.3383) \n",
      "Epoch: [34][0/19] Elapsed 0m 0s (remain 0m 2s) Loss: 0.0683(0.0683) Grad: 3.7022  LR: 0.000001  \n",
      "Epoch: [34][10/19] Elapsed 0m 1s (remain 0m 1s) Loss: 0.1146(0.0960) Grad: 5.0143  LR: 0.000001  \n",
      "Epoch: [34][18/19] Elapsed 0m 2s (remain 0m 0s) Loss: 0.1020(0.0958) Grad: 2.8310  LR: 0.000001  \n",
      "EVAL: [0/3] Elapsed 0m 0s (remain 0m 0s) Loss: 0.4083(0.4083) \n"
     ]
    },
    {
     "name": "stderr",
     "output_type": "stream",
     "text": [
      "Epoch 34 - avg_train_loss: 0.0958  avg_val_loss: 0.3299  time: 4s\n",
      "Epoch 34 - Score: 0.3365\n"
     ]
    },
    {
     "name": "stdout",
     "output_type": "stream",
     "text": [
      "EVAL: [2/3] Elapsed 0m 0s (remain 0m 0s) Loss: 0.2623(0.3299) \n",
      "Epoch: [35][0/19] Elapsed 0m 0s (remain 0m 2s) Loss: 0.1046(0.1046) Grad: 2.5884  LR: 0.000050  \n",
      "Epoch: [35][10/19] Elapsed 0m 1s (remain 0m 1s) Loss: 0.0724(0.0874) Grad: 8.9669  LR: 0.000050  \n",
      "Epoch: [35][18/19] Elapsed 0m 2s (remain 0m 0s) Loss: 0.0849(0.0918) Grad: 4.6589  LR: 0.000050  \n",
      "EVAL: [0/3] Elapsed 0m 0s (remain 0m 0s) Loss: 0.4078(0.4078) \n"
     ]
    },
    {
     "name": "stderr",
     "output_type": "stream",
     "text": [
      "Epoch 35 - avg_train_loss: 0.0918  avg_val_loss: 0.3448  time: 4s\n",
      "Epoch 35 - Score: 0.3492\n"
     ]
    },
    {
     "name": "stdout",
     "output_type": "stream",
     "text": [
      "EVAL: [2/3] Elapsed 0m 0s (remain 0m 0s) Loss: 0.2680(0.3448) \n",
      "Epoch: [36][0/19] Elapsed 0m 0s (remain 0m 2s) Loss: 0.0649(0.0649) Grad: 5.7639  LR: 0.000224  \n",
      "Epoch: [36][10/19] Elapsed 0m 1s (remain 0m 1s) Loss: 0.1202(0.1038) Grad: 11.9350  LR: 0.000224  \n",
      "Epoch: [36][18/19] Elapsed 0m 2s (remain 0m 0s) Loss: 0.1286(0.1055) Grad: 14.4374  LR: 0.000224  \n",
      "EVAL: [0/3] Elapsed 0m 0s (remain 0m 0s) Loss: 0.3799(0.3799) \n"
     ]
    },
    {
     "name": "stderr",
     "output_type": "stream",
     "text": [
      "Epoch 36 - avg_train_loss: 0.1055  avg_val_loss: 0.3125  time: 4s\n",
      "Epoch 36 - Score: 0.3176\n",
      "Epoch 36 - Save Best Score: 0.3176 Model\n"
     ]
    },
    {
     "name": "stdout",
     "output_type": "stream",
     "text": [
      "EVAL: [2/3] Elapsed 0m 0s (remain 0m 0s) Loss: 0.2710(0.3125) \n",
      "Epoch: [37][0/19] Elapsed 0m 0s (remain 0m 2s) Loss: 0.1198(0.1198) Grad: 10.4929  LR: 0.000133  \n",
      "Epoch: [37][10/19] Elapsed 0m 1s (remain 0m 1s) Loss: 0.1410(0.1286) Grad: 13.7258  LR: 0.000133  \n",
      "Epoch: [37][18/19] Elapsed 0m 2s (remain 0m 0s) Loss: 0.1684(0.1322) Grad: 17.0983  LR: 0.000133  \n",
      "EVAL: [0/3] Elapsed 0m 0s (remain 0m 0s) Loss: 0.4297(0.4297) \n"
     ]
    },
    {
     "name": "stderr",
     "output_type": "stream",
     "text": [
      "Epoch 37 - avg_train_loss: 0.1322  avg_val_loss: 0.3546  time: 4s\n",
      "Epoch 37 - Score: 0.3604\n"
     ]
    },
    {
     "name": "stdout",
     "output_type": "stream",
     "text": [
      "EVAL: [2/3] Elapsed 0m 0s (remain 0m 0s) Loss: 0.2771(0.3546) \n",
      "Epoch: [38][0/19] Elapsed 0m 0s (remain 0m 2s) Loss: 0.1461(0.1461) Grad: 13.0833  LR: 0.000057  \n",
      "Epoch: [38][10/19] Elapsed 0m 1s (remain 0m 1s) Loss: 0.1510(0.1518) Grad: 16.9972  LR: 0.000057  \n",
      "Epoch: [38][18/19] Elapsed 0m 2s (remain 0m 0s) Loss: 0.1724(0.1524) Grad: 17.9008  LR: 0.000057  \n",
      "EVAL: [0/3] Elapsed 0m 0s (remain 0m 0s) Loss: 0.4180(0.4180) \n"
     ]
    },
    {
     "name": "stderr",
     "output_type": "stream",
     "text": [
      "Epoch 38 - avg_train_loss: 0.1524  avg_val_loss: 0.3501  time: 4s\n",
      "Epoch 38 - Score: 0.3549\n"
     ]
    },
    {
     "name": "stdout",
     "output_type": "stream",
     "text": [
      "EVAL: [2/3] Elapsed 0m 0s (remain 0m 0s) Loss: 0.2817(0.3501) \n",
      "Epoch: [39][0/19] Elapsed 0m 0s (remain 0m 2s) Loss: 0.1933(0.1933) Grad: 16.3160  LR: 0.000009  \n",
      "Epoch: [39][10/19] Elapsed 0m 1s (remain 0m 1s) Loss: 0.1697(0.1442) Grad: 15.9156  LR: 0.000009  \n",
      "Epoch: [39][18/19] Elapsed 0m 2s (remain 0m 0s) Loss: 0.1710(0.1401) Grad: 14.6951  LR: 0.000009  \n",
      "EVAL: [0/3] Elapsed 0m 0s (remain 0m 0s) Loss: 0.4183(0.4183) \n"
     ]
    },
    {
     "name": "stderr",
     "output_type": "stream",
     "text": [
      "Epoch 39 - avg_train_loss: 0.1401  avg_val_loss: 0.3397  time: 4s\n",
      "Epoch 39 - Score: 0.3466\n"
     ]
    },
    {
     "name": "stdout",
     "output_type": "stream",
     "text": [
      "EVAL: [2/3] Elapsed 0m 0s (remain 0m 0s) Loss: 0.2454(0.3397) \n",
      "Epoch: [40][0/19] Elapsed 0m 0s (remain 0m 2s) Loss: 0.1060(0.1060) Grad: 13.8943  LR: 0.000001  \n",
      "Epoch: [40][10/19] Elapsed 0m 1s (remain 0m 1s) Loss: 0.1211(0.1194) Grad: 2.7989  LR: 0.000001  \n",
      "Epoch: [40][18/19] Elapsed 0m 2s (remain 0m 0s) Loss: 0.1012(0.1082) Grad: 2.6996  LR: 0.000001  \n",
      "EVAL: [0/3] Elapsed 0m 0s (remain 0m 0s) Loss: 0.4191(0.4191) \n"
     ]
    },
    {
     "name": "stderr",
     "output_type": "stream",
     "text": [
      "Epoch 40 - avg_train_loss: 0.1082  avg_val_loss: 0.3468  time: 4s\n",
      "Epoch 40 - Score: 0.3521\n",
      "========== fold: 3 result ==========\n",
      "Score: 0.3176\n",
      "========== fold: 4 training ==========\n"
     ]
    },
    {
     "name": "stdout",
     "output_type": "stream",
     "text": [
      "EVAL: [2/3] Elapsed 0m 0s (remain 0m 0s) Loss: 0.2913(0.3468) \n",
      "Epoch: [1][0/19] Elapsed 0m 0s (remain 0m 2s) Loss: 3.4444(3.4444) Grad: 25.4534  LR: 0.000100  \n",
      "Epoch: [1][10/19] Elapsed 0m 1s (remain 0m 1s) Loss: 0.8103(1.5073) Grad: 50.5617  LR: 0.000100  \n",
      "Epoch: [1][18/19] Elapsed 0m 2s (remain 0m 0s) Loss: 0.4668(1.1125) Grad: 5.1797  LR: 0.000100  \n",
      "EVAL: [0/3] Elapsed 0m 0s (remain 0m 0s) Loss: 0.5780(0.5780) \n"
     ]
    },
    {
     "name": "stderr",
     "output_type": "stream",
     "text": [
      "Epoch 1 - avg_train_loss: 1.1125  avg_val_loss: 0.5617  time: 3s\n",
      "Epoch 1 - Score: 0.5636\n",
      "Epoch 1 - Save Best Score: 0.5636 Model\n"
     ]
    },
    {
     "name": "stdout",
     "output_type": "stream",
     "text": [
      "EVAL: [2/3] Elapsed 0m 0s (remain 0m 0s) Loss: 0.4605(0.5617) \n",
      "Epoch: [2][0/19] Elapsed 0m 0s (remain 0m 2s) Loss: 0.4362(0.4362) Grad: 14.7826  LR: 0.000057  \n",
      "Epoch: [2][10/19] Elapsed 0m 1s (remain 0m 1s) Loss: 0.5167(0.4368) Grad: 17.1861  LR: 0.000057  \n",
      "Epoch: [2][18/19] Elapsed 0m 2s (remain 0m 0s) Loss: 0.3976(0.4364) Grad: 28.4291  LR: 0.000057  \n",
      "EVAL: [0/3] Elapsed 0m 0s (remain 0m 0s) Loss: 0.4851(0.4851) \n"
     ]
    },
    {
     "name": "stderr",
     "output_type": "stream",
     "text": [
      "Epoch 2 - avg_train_loss: 0.4364  avg_val_loss: 0.4364  time: 4s\n",
      "Epoch 2 - Score: 0.4405\n",
      "Epoch 2 - Save Best Score: 0.4405 Model\n"
     ]
    },
    {
     "name": "stdout",
     "output_type": "stream",
     "text": [
      "EVAL: [2/3] Elapsed 0m 0s (remain 0m 0s) Loss: 0.3138(0.4364) \n",
      "Epoch: [3][0/19] Elapsed 0m 0s (remain 0m 2s) Loss: 0.3186(0.3186) Grad: 4.3466  LR: 0.000009  \n",
      "Epoch: [3][10/19] Elapsed 0m 1s (remain 0m 1s) Loss: 0.4810(0.3678) Grad: 7.0299  LR: 0.000009  \n",
      "Epoch: [3][18/19] Elapsed 0m 2s (remain 0m 0s) Loss: 0.2362(0.3457) Grad: 8.8880  LR: 0.000009  \n",
      "EVAL: [0/3] Elapsed 0m 0s (remain 0m 0s) Loss: 0.4220(0.4220) \n"
     ]
    },
    {
     "name": "stderr",
     "output_type": "stream",
     "text": [
      "Epoch 3 - avg_train_loss: 0.3457  avg_val_loss: 0.4025  time: 3s\n",
      "Epoch 3 - Score: 0.4063\n",
      "Epoch 3 - Save Best Score: 0.4063 Model\n"
     ]
    },
    {
     "name": "stdout",
     "output_type": "stream",
     "text": [
      "EVAL: [2/3] Elapsed 0m 0s (remain 0m 0s) Loss: 0.2796(0.4025) \n",
      "Epoch: [4][0/19] Elapsed 0m 0s (remain 0m 2s) Loss: 0.2939(0.2939) Grad: 12.1314  LR: 0.000001  \n",
      "Epoch: [4][10/19] Elapsed 0m 1s (remain 0m 1s) Loss: 0.2604(0.3155) Grad: 3.8876  LR: 0.000001  \n",
      "Epoch: [4][18/19] Elapsed 0m 2s (remain 0m 0s) Loss: 0.2169(0.2944) Grad: 5.0305  LR: 0.000001  \n",
      "EVAL: [0/3] Elapsed 0m 0s (remain 0m 0s) Loss: 0.4295(0.4295) \n"
     ]
    },
    {
     "name": "stderr",
     "output_type": "stream",
     "text": [
      "Epoch 4 - avg_train_loss: 0.2944  avg_val_loss: 0.3920  time: 3s\n",
      "Epoch 4 - Score: 0.3982\n",
      "Epoch 4 - Save Best Score: 0.3982 Model\n"
     ]
    },
    {
     "name": "stdout",
     "output_type": "stream",
     "text": [
      "EVAL: [2/3] Elapsed 0m 0s (remain 0m 0s) Loss: 0.2376(0.3920) \n",
      "Epoch: [5][0/19] Elapsed 0m 0s (remain 0m 2s) Loss: 0.1841(0.1841) Grad: 12.7019  LR: 0.000050  \n",
      "Epoch: [5][10/19] Elapsed 0m 1s (remain 0m 1s) Loss: 0.3025(0.3319) Grad: 35.8216  LR: 0.000050  \n",
      "Epoch: [5][18/19] Elapsed 0m 2s (remain 0m 0s) Loss: 0.2327(0.3359) Grad: 17.4696  LR: 0.000050  \n",
      "EVAL: [0/3] Elapsed 0m 0s (remain 0m 0s) Loss: 0.4217(0.4217) \n"
     ]
    },
    {
     "name": "stderr",
     "output_type": "stream",
     "text": [
      "Epoch 5 - avg_train_loss: 0.3359  avg_val_loss: 0.3817  time: 3s\n",
      "Epoch 5 - Score: 0.3860\n",
      "Epoch 5 - Save Best Score: 0.3860 Model\n"
     ]
    },
    {
     "name": "stdout",
     "output_type": "stream",
     "text": [
      "EVAL: [2/3] Elapsed 0m 0s (remain 0m 0s) Loss: 0.2565(0.3817) \n",
      "Epoch: [6][0/19] Elapsed 0m 0s (remain 0m 2s) Loss: 0.2514(0.2514) Grad: 5.7111  LR: 0.000224  \n",
      "Epoch: [6][10/19] Elapsed 0m 1s (remain 0m 1s) Loss: 0.3304(0.3572) Grad: 21.0824  LR: 0.000224  \n",
      "Epoch: [6][18/19] Elapsed 0m 2s (remain 0m 0s) Loss: 0.4505(0.3631) Grad: 38.2670  LR: 0.000224  \n",
      "EVAL: [0/3] Elapsed 0m 0s (remain 0m 0s) Loss: 0.5654(0.5654) \n"
     ]
    },
    {
     "name": "stderr",
     "output_type": "stream",
     "text": [
      "Epoch 6 - avg_train_loss: 0.3631  avg_val_loss: 0.5136  time: 3s\n",
      "Epoch 6 - Score: 0.5155\n"
     ]
    },
    {
     "name": "stdout",
     "output_type": "stream",
     "text": [
      "EVAL: [2/3] Elapsed 0m 0s (remain 0m 0s) Loss: 0.4604(0.5136) \n",
      "Epoch: [7][0/19] Elapsed 0m 0s (remain 0m 2s) Loss: 0.4570(0.4570) Grad: 41.6845  LR: 0.000133  \n",
      "Epoch: [7][10/19] Elapsed 0m 1s (remain 0m 1s) Loss: 0.3032(0.4029) Grad: 19.6634  LR: 0.000133  \n",
      "Epoch: [7][18/19] Elapsed 0m 2s (remain 0m 0s) Loss: 0.2666(0.3625) Grad: 5.8430  LR: 0.000133  \n",
      "EVAL: [0/3] Elapsed 0m 0s (remain 0m 0s) Loss: 0.4152(0.4152) \n"
     ]
    },
    {
     "name": "stderr",
     "output_type": "stream",
     "text": [
      "Epoch 7 - avg_train_loss: 0.3625  avg_val_loss: 0.3853  time: 4s\n",
      "Epoch 7 - Score: 0.3879\n"
     ]
    },
    {
     "name": "stdout",
     "output_type": "stream",
     "text": [
      "EVAL: [2/3] Elapsed 0m 0s (remain 0m 0s) Loss: 0.2864(0.3853) \n",
      "Epoch: [8][0/19] Elapsed 0m 0s (remain 0m 2s) Loss: 0.2773(0.2773) Grad: 8.8375  LR: 0.000057  \n",
      "Epoch: [8][10/19] Elapsed 0m 1s (remain 0m 1s) Loss: 0.3046(0.2489) Grad: 6.5176  LR: 0.000057  \n",
      "Epoch: [8][18/19] Elapsed 0m 2s (remain 0m 0s) Loss: 0.2214(0.2597) Grad: 13.5633  LR: 0.000057  \n",
      "EVAL: [0/3] Elapsed 0m 0s (remain 0m 0s) Loss: 0.4038(0.4038) \n"
     ]
    },
    {
     "name": "stderr",
     "output_type": "stream",
     "text": [
      "Epoch 8 - avg_train_loss: 0.2597  avg_val_loss: 0.3697  time: 3s\n",
      "Epoch 8 - Score: 0.3722\n",
      "Epoch 8 - Save Best Score: 0.3722 Model\n"
     ]
    },
    {
     "name": "stdout",
     "output_type": "stream",
     "text": [
      "EVAL: [2/3] Elapsed 0m 0s (remain 0m 0s) Loss: 0.2797(0.3697) \n",
      "Epoch: [9][0/19] Elapsed 0m 0s (remain 0m 2s) Loss: 0.2481(0.2481) Grad: 5.5244  LR: 0.000009  \n",
      "Epoch: [9][10/19] Elapsed 0m 1s (remain 0m 1s) Loss: 0.2337(0.2233) Grad: 20.8489  LR: 0.000009  \n",
      "Epoch: [9][18/19] Elapsed 0m 2s (remain 0m 0s) Loss: 0.1750(0.2165) Grad: 15.3534  LR: 0.000009  \n",
      "EVAL: [0/3] Elapsed 0m 0s (remain 0m 0s) Loss: 0.3928(0.3928) \n"
     ]
    },
    {
     "name": "stderr",
     "output_type": "stream",
     "text": [
      "Epoch 9 - avg_train_loss: 0.2165  avg_val_loss: 0.3596  time: 3s\n",
      "Epoch 9 - Score: 0.3619\n",
      "Epoch 9 - Save Best Score: 0.3619 Model\n"
     ]
    },
    {
     "name": "stdout",
     "output_type": "stream",
     "text": [
      "EVAL: [2/3] Elapsed 0m 0s (remain 0m 0s) Loss: 0.2751(0.3596) \n",
      "Epoch: [10][0/19] Elapsed 0m 0s (remain 0m 2s) Loss: 0.1404(0.1404) Grad: 3.5829  LR: 0.000001  \n",
      "Epoch: [10][10/19] Elapsed 0m 1s (remain 0m 1s) Loss: 0.1290(0.1644) Grad: 4.8580  LR: 0.000001  \n",
      "Epoch: [10][18/19] Elapsed 0m 2s (remain 0m 0s) Loss: 0.1642(0.1651) Grad: 6.2098  LR: 0.000001  \n",
      "EVAL: [0/3] Elapsed 0m 0s (remain 0m 0s) Loss: 0.3966(0.3966) \n"
     ]
    },
    {
     "name": "stderr",
     "output_type": "stream",
     "text": [
      "Epoch 10 - avg_train_loss: 0.1651  avg_val_loss: 0.3572  time: 3s\n",
      "Epoch 10 - Score: 0.3593\n",
      "Epoch 10 - Save Best Score: 0.3593 Model\n"
     ]
    },
    {
     "name": "stdout",
     "output_type": "stream",
     "text": [
      "EVAL: [2/3] Elapsed 0m 0s (remain 0m 0s) Loss: 0.2872(0.3572) \n",
      "Epoch: [11][0/19] Elapsed 0m 0s (remain 0m 2s) Loss: 0.2493(0.2493) Grad: 6.4587  LR: 0.000050  \n",
      "Epoch: [11][10/19] Elapsed 0m 1s (remain 0m 1s) Loss: 0.1664(0.1873) Grad: 12.2618  LR: 0.000050  \n",
      "Epoch: [11][18/19] Elapsed 0m 2s (remain 0m 0s) Loss: 0.1652(0.1811) Grad: 7.7985  LR: 0.000050  \n",
      "EVAL: [0/3] Elapsed 0m 0s (remain 0m 0s) Loss: 0.3634(0.3634) \n"
     ]
    },
    {
     "name": "stderr",
     "output_type": "stream",
     "text": [
      "Epoch 11 - avg_train_loss: 0.1811  avg_val_loss: 0.3398  time: 4s\n",
      "Epoch 11 - Score: 0.3407\n",
      "Epoch 11 - Save Best Score: 0.3407 Model\n"
     ]
    },
    {
     "name": "stdout",
     "output_type": "stream",
     "text": [
      "EVAL: [2/3] Elapsed 0m 0s (remain 0m 0s) Loss: 0.2907(0.3398) \n",
      "Epoch: [12][0/19] Elapsed 0m 0s (remain 0m 2s) Loss: 0.1413(0.1413) Grad: 6.8838  LR: 0.000224  \n",
      "Epoch: [12][10/19] Elapsed 0m 1s (remain 0m 1s) Loss: 0.2118(0.1812) Grad: 29.5295  LR: 0.000224  \n",
      "Epoch: [12][18/19] Elapsed 0m 2s (remain 0m 0s) Loss: 0.2085(0.2019) Grad: 22.2513  LR: 0.000224  \n",
      "EVAL: [0/3] Elapsed 0m 0s (remain 0m 0s) Loss: 0.3992(0.3992) \n"
     ]
    },
    {
     "name": "stderr",
     "output_type": "stream",
     "text": [
      "Epoch 12 - avg_train_loss: 0.2019  avg_val_loss: 0.3704  time: 3s\n",
      "Epoch 12 - Score: 0.3722\n"
     ]
    },
    {
     "name": "stdout",
     "output_type": "stream",
     "text": [
      "EVAL: [2/3] Elapsed 0m 0s (remain 0m 0s) Loss: 0.2949(0.3704) \n",
      "Epoch: [13][0/19] Elapsed 0m 0s (remain 0m 2s) Loss: 0.2236(0.2236) Grad: 30.4422  LR: 0.000133  \n",
      "Epoch: [13][10/19] Elapsed 0m 1s (remain 0m 1s) Loss: 0.1780(0.2054) Grad: 20.3017  LR: 0.000133  \n",
      "Epoch: [13][18/19] Elapsed 0m 2s (remain 0m 0s) Loss: 0.2340(0.2544) Grad: 17.8469  LR: 0.000133  \n",
      "EVAL: [0/3] Elapsed 0m 0s (remain 0m 0s) Loss: 0.4360(0.4360) \n"
     ]
    },
    {
     "name": "stderr",
     "output_type": "stream",
     "text": [
      "Epoch 13 - avg_train_loss: 0.2544  avg_val_loss: 0.4024  time: 3s\n",
      "Epoch 13 - Score: 0.4045\n"
     ]
    },
    {
     "name": "stdout",
     "output_type": "stream",
     "text": [
      "EVAL: [2/3] Elapsed 0m 0s (remain 0m 0s) Loss: 0.3172(0.4024) \n",
      "Epoch: [14][0/19] Elapsed 0m 0s (remain 0m 2s) Loss: 0.1881(0.1881) Grad: 16.2889  LR: 0.000057  \n",
      "Epoch: [14][10/19] Elapsed 0m 1s (remain 0m 1s) Loss: 0.2295(0.2400) Grad: 11.3165  LR: 0.000057  \n",
      "Epoch: [14][18/19] Elapsed 0m 2s (remain 0m 0s) Loss: 0.2131(0.2501) Grad: 15.5727  LR: 0.000057  \n",
      "EVAL: [0/3] Elapsed 0m 0s (remain 0m 0s) Loss: 0.4025(0.4025) \n"
     ]
    },
    {
     "name": "stderr",
     "output_type": "stream",
     "text": [
      "Epoch 14 - avg_train_loss: 0.2501  avg_val_loss: 0.3662  time: 3s\n",
      "Epoch 14 - Score: 0.3702\n"
     ]
    },
    {
     "name": "stdout",
     "output_type": "stream",
     "text": [
      "EVAL: [2/3] Elapsed 0m 0s (remain 0m 0s) Loss: 0.2472(0.3662) \n",
      "Epoch: [15][0/19] Elapsed 0m 0s (remain 0m 2s) Loss: 0.2282(0.2282) Grad: 15.5630  LR: 0.000009  \n",
      "Epoch: [15][10/19] Elapsed 0m 1s (remain 0m 1s) Loss: 0.1889(0.1999) Grad: 8.0049  LR: 0.000009  \n",
      "Epoch: [15][18/19] Elapsed 0m 2s (remain 0m 0s) Loss: 0.1947(0.1839) Grad: 22.1806  LR: 0.000009  \n",
      "EVAL: [0/3] Elapsed 0m 0s (remain 0m 0s) Loss: 0.4102(0.4102) \n"
     ]
    },
    {
     "name": "stderr",
     "output_type": "stream",
     "text": [
      "Epoch 15 - avg_train_loss: 0.1839  avg_val_loss: 0.3608  time: 3s\n",
      "Epoch 15 - Score: 0.3638\n"
     ]
    },
    {
     "name": "stdout",
     "output_type": "stream",
     "text": [
      "EVAL: [2/3] Elapsed 0m 0s (remain 0m 0s) Loss: 0.2819(0.3608) \n",
      "Epoch: [16][0/19] Elapsed 0m 0s (remain 0m 2s) Loss: 0.1745(0.1745) Grad: 27.3360  LR: 0.000001  \n",
      "Epoch: [16][10/19] Elapsed 0m 1s (remain 0m 1s) Loss: 0.1218(0.1608) Grad: 3.9641  LR: 0.000001  \n",
      "Epoch: [16][18/19] Elapsed 0m 2s (remain 0m 0s) Loss: 0.1347(0.1548) Grad: 6.0417  LR: 0.000001  \n",
      "EVAL: [0/3] Elapsed 0m 0s (remain 0m 0s) Loss: 0.4021(0.4021) \n"
     ]
    },
    {
     "name": "stderr",
     "output_type": "stream",
     "text": [
      "Epoch 16 - avg_train_loss: 0.1548  avg_val_loss: 0.3690  time: 4s\n",
      "Epoch 16 - Score: 0.3711\n"
     ]
    },
    {
     "name": "stdout",
     "output_type": "stream",
     "text": [
      "EVAL: [2/3] Elapsed 0m 0s (remain 0m 0s) Loss: 0.2874(0.3690) \n",
      "Epoch: [17][0/19] Elapsed 0m 0s (remain 0m 2s) Loss: 0.1540(0.1540) Grad: 8.9587  LR: 0.000050  \n",
      "Epoch: [17][10/19] Elapsed 0m 1s (remain 0m 1s) Loss: 0.1172(0.1360) Grad: 15.2180  LR: 0.000050  \n",
      "Epoch: [17][18/19] Elapsed 0m 2s (remain 0m 0s) Loss: 0.1351(0.1377) Grad: 10.0364  LR: 0.000050  \n",
      "EVAL: [0/3] Elapsed 0m 0s (remain 0m 0s) Loss: 0.3915(0.3915) \n"
     ]
    },
    {
     "name": "stderr",
     "output_type": "stream",
     "text": [
      "Epoch 17 - avg_train_loss: 0.1377  avg_val_loss: 0.3530  time: 3s\n",
      "Epoch 17 - Score: 0.3554\n"
     ]
    },
    {
     "name": "stdout",
     "output_type": "stream",
     "text": [
      "EVAL: [2/3] Elapsed 0m 0s (remain 0m 0s) Loss: 0.2750(0.3530) \n",
      "Epoch: [18][0/19] Elapsed 0m 0s (remain 0m 2s) Loss: 0.1318(0.1318) Grad: 7.3207  LR: 0.000224  \n",
      "Epoch: [18][10/19] Elapsed 0m 1s (remain 0m 1s) Loss: 0.1622(0.1594) Grad: 22.3852  LR: 0.000224  \n",
      "Epoch: [18][18/19] Elapsed 0m 2s (remain 0m 0s) Loss: 0.1669(0.1846) Grad: 4.6227  LR: 0.000224  \n",
      "EVAL: [0/3] Elapsed 0m 0s (remain 0m 0s) Loss: 0.4272(0.4272) \n"
     ]
    },
    {
     "name": "stderr",
     "output_type": "stream",
     "text": [
      "Epoch 18 - avg_train_loss: 0.1846  avg_val_loss: 0.3750  time: 3s\n",
      "Epoch 18 - Score: 0.3776\n"
     ]
    },
    {
     "name": "stdout",
     "output_type": "stream",
     "text": [
      "EVAL: [2/3] Elapsed 0m 0s (remain 0m 0s) Loss: 0.3391(0.3750) \n",
      "Epoch: [19][0/19] Elapsed 0m 0s (remain 0m 2s) Loss: 0.2542(0.2542) Grad: 27.6667  LR: 0.000133  \n",
      "Epoch: [19][10/19] Elapsed 0m 1s (remain 0m 1s) Loss: 0.1862(0.2455) Grad: 18.6758  LR: 0.000133  \n",
      "Epoch: [19][18/19] Elapsed 0m 2s (remain 0m 0s) Loss: 0.2267(0.2662) Grad: 21.1067  LR: 0.000133  \n",
      "EVAL: [0/3] Elapsed 0m 0s (remain 0m 0s) Loss: 0.4780(0.4780) \n"
     ]
    },
    {
     "name": "stderr",
     "output_type": "stream",
     "text": [
      "Epoch 19 - avg_train_loss: 0.2662  avg_val_loss: 0.4559  time: 3s\n",
      "Epoch 19 - Score: 0.4567\n"
     ]
    },
    {
     "name": "stdout",
     "output_type": "stream",
     "text": [
      "EVAL: [2/3] Elapsed 0m 0s (remain 0m 0s) Loss: 0.3989(0.4559) \n",
      "Epoch: [20][0/19] Elapsed 0m 0s (remain 0m 3s) Loss: 0.3787(0.3787) Grad: 31.5769  LR: 0.000057  \n",
      "Epoch: [20][10/19] Elapsed 0m 1s (remain 0m 1s) Loss: 0.2028(0.2436) Grad: 12.5253  LR: 0.000057  \n",
      "Epoch: [20][18/19] Elapsed 0m 2s (remain 0m 0s) Loss: 0.1733(0.2146) Grad: 9.3151  LR: 0.000057  \n",
      "EVAL: [0/3] Elapsed 0m 0s (remain 0m 0s) Loss: 0.4060(0.4060) \n"
     ]
    },
    {
     "name": "stderr",
     "output_type": "stream",
     "text": [
      "Epoch 20 - avg_train_loss: 0.2146  avg_val_loss: 0.3831  time: 4s\n",
      "Epoch 20 - Score: 0.3836\n"
     ]
    },
    {
     "name": "stdout",
     "output_type": "stream",
     "text": [
      "EVAL: [2/3] Elapsed 0m 0s (remain 0m 0s) Loss: 0.3501(0.3831) \n",
      "Epoch: [21][0/19] Elapsed 0m 0s (remain 0m 2s) Loss: 0.1462(0.1462) Grad: 4.8299  LR: 0.000009  \n",
      "Epoch: [21][10/19] Elapsed 0m 1s (remain 0m 1s) Loss: 0.1929(0.1654) Grad: 20.6568  LR: 0.000009  \n",
      "Epoch: [21][18/19] Elapsed 0m 2s (remain 0m 0s) Loss: 0.1703(0.1628) Grad: 7.0637  LR: 0.000009  \n",
      "EVAL: [0/3] Elapsed 0m 0s (remain 0m 0s) Loss: 0.3802(0.3802) \n"
     ]
    },
    {
     "name": "stderr",
     "output_type": "stream",
     "text": [
      "Epoch 21 - avg_train_loss: 0.1628  avg_val_loss: 0.3426  time: 3s\n",
      "Epoch 21 - Score: 0.3452\n"
     ]
    },
    {
     "name": "stdout",
     "output_type": "stream",
     "text": [
      "EVAL: [2/3] Elapsed 0m 0s (remain 0m 0s) Loss: 0.2573(0.3426) \n",
      "Epoch: [22][0/19] Elapsed 0m 0s (remain 0m 2s) Loss: 0.1023(0.1023) Grad: 4.0572  LR: 0.000001  \n",
      "Epoch: [22][10/19] Elapsed 0m 1s (remain 0m 1s) Loss: 0.1080(0.1177) Grad: 9.2586  LR: 0.000001  \n",
      "Epoch: [22][18/19] Elapsed 0m 2s (remain 0m 0s) Loss: 0.1481(0.1209) Grad: 6.7139  LR: 0.000001  \n",
      "EVAL: [0/3] Elapsed 0m 0s (remain 0m 0s) Loss: 0.4164(0.4164) \n"
     ]
    },
    {
     "name": "stderr",
     "output_type": "stream",
     "text": [
      "Epoch 22 - avg_train_loss: 0.1209  avg_val_loss: 0.3661  time: 3s\n",
      "Epoch 22 - Score: 0.3690\n"
     ]
    },
    {
     "name": "stdout",
     "output_type": "stream",
     "text": [
      "EVAL: [2/3] Elapsed 0m 0s (remain 0m 0s) Loss: 0.2956(0.3661) \n",
      "Epoch: [23][0/19] Elapsed 0m 0s (remain 0m 2s) Loss: 0.1291(0.1291) Grad: 9.3696  LR: 0.000050  \n",
      "Epoch: [23][10/19] Elapsed 0m 1s (remain 0m 1s) Loss: 0.1256(0.1261) Grad: 9.3905  LR: 0.000050  \n",
      "Epoch: [23][18/19] Elapsed 0m 2s (remain 0m 0s) Loss: 0.1328(0.1265) Grad: 15.6882  LR: 0.000050  \n",
      "EVAL: [0/3] Elapsed 0m 0s (remain 0m 0s) Loss: 0.4039(0.4039) \n"
     ]
    },
    {
     "name": "stderr",
     "output_type": "stream",
     "text": [
      "Epoch 23 - avg_train_loss: 0.1265  avg_val_loss: 0.3648  time: 3s\n",
      "Epoch 23 - Score: 0.3689\n"
     ]
    },
    {
     "name": "stdout",
     "output_type": "stream",
     "text": [
      "EVAL: [2/3] Elapsed 0m 0s (remain 0m 0s) Loss: 0.2482(0.3648) \n",
      "Epoch: [24][0/19] Elapsed 0m 0s (remain 0m 2s) Loss: 0.1151(0.1151) Grad: 6.8130  LR: 0.000224  \n",
      "Epoch: [24][10/19] Elapsed 0m 1s (remain 0m 1s) Loss: 0.2081(0.1531) Grad: 16.2157  LR: 0.000224  \n",
      "Epoch: [24][18/19] Elapsed 0m 2s (remain 0m 0s) Loss: 0.1524(0.1500) Grad: 5.1878  LR: 0.000224  \n",
      "EVAL: [0/3] Elapsed 0m 0s (remain 0m 0s) Loss: 0.3887(0.3887) \n"
     ]
    },
    {
     "name": "stderr",
     "output_type": "stream",
     "text": [
      "Epoch 24 - avg_train_loss: 0.1500  avg_val_loss: 0.3666  time: 3s\n",
      "Epoch 24 - Score: 0.3675\n"
     ]
    },
    {
     "name": "stdout",
     "output_type": "stream",
     "text": [
      "EVAL: [2/3] Elapsed 0m 0s (remain 0m 0s) Loss: 0.3126(0.3666) \n",
      "Epoch: [25][0/19] Elapsed 0m 0s (remain 0m 2s) Loss: 0.1437(0.1437) Grad: 6.6012  LR: 0.000133  \n",
      "Epoch: [25][10/19] Elapsed 0m 1s (remain 0m 1s) Loss: 0.1600(0.1610) Grad: 14.8524  LR: 0.000133  \n",
      "Epoch: [25][18/19] Elapsed 0m 2s (remain 0m 0s) Loss: 0.2708(0.1869) Grad: 23.3091  LR: 0.000133  \n",
      "EVAL: [0/3] Elapsed 0m 0s (remain 0m 0s) Loss: 0.3814(0.3814) \n"
     ]
    },
    {
     "name": "stderr",
     "output_type": "stream",
     "text": [
      "Epoch 25 - avg_train_loss: 0.1869  avg_val_loss: 0.3464  time: 4s\n",
      "Epoch 25 - Score: 0.3477\n"
     ]
    },
    {
     "name": "stdout",
     "output_type": "stream",
     "text": [
      "EVAL: [2/3] Elapsed 0m 0s (remain 0m 0s) Loss: 0.3097(0.3464) \n",
      "Epoch: [26][0/19] Elapsed 0m 0s (remain 0m 2s) Loss: 0.1836(0.1836) Grad: 5.9446  LR: 0.000057  \n",
      "Epoch: [26][10/19] Elapsed 0m 1s (remain 0m 1s) Loss: 0.1413(0.1646) Grad: 4.2448  LR: 0.000057  \n",
      "Epoch: [26][18/19] Elapsed 0m 2s (remain 0m 0s) Loss: 0.1832(0.1671) Grad: 10.2882  LR: 0.000057  \n",
      "EVAL: [0/3] Elapsed 0m 0s (remain 0m 0s) Loss: 0.3711(0.3711) \n"
     ]
    },
    {
     "name": "stderr",
     "output_type": "stream",
     "text": [
      "Epoch 26 - avg_train_loss: 0.1671  avg_val_loss: 0.3565  time: 4s\n",
      "Epoch 26 - Score: 0.3578\n"
     ]
    },
    {
     "name": "stdout",
     "output_type": "stream",
     "text": [
      "EVAL: [2/3] Elapsed 0m 0s (remain 0m 0s) Loss: 0.2881(0.3565) \n",
      "Epoch: [27][0/19] Elapsed 0m 0s (remain 0m 2s) Loss: 0.1042(0.1042) Grad: 4.7833  LR: 0.000009  \n",
      "Epoch: [27][10/19] Elapsed 0m 1s (remain 0m 1s) Loss: 0.1215(0.1231) Grad: 6.1415  LR: 0.000009  \n",
      "Epoch: [27][18/19] Elapsed 0m 2s (remain 0m 0s) Loss: 0.1354(0.1286) Grad: 27.0170  LR: 0.000009  \n",
      "EVAL: [0/3] Elapsed 0m 0s (remain 0m 0s) Loss: 0.3874(0.3874) \n"
     ]
    },
    {
     "name": "stderr",
     "output_type": "stream",
     "text": [
      "Epoch 27 - avg_train_loss: 0.1286  avg_val_loss: 0.3333  time: 4s\n",
      "Epoch 27 - Score: 0.3371\n",
      "Epoch 27 - Save Best Score: 0.3371 Model\n"
     ]
    },
    {
     "name": "stdout",
     "output_type": "stream",
     "text": [
      "EVAL: [2/3] Elapsed 0m 0s (remain 0m 0s) Loss: 0.2513(0.3333) \n",
      "Epoch: [28][0/19] Elapsed 0m 0s (remain 0m 2s) Loss: 0.1306(0.1306) Grad: 15.4515  LR: 0.000001  \n",
      "Epoch: [28][10/19] Elapsed 0m 1s (remain 0m 1s) Loss: 0.1170(0.1211) Grad: 4.9998  LR: 0.000001  \n",
      "Epoch: [28][18/19] Elapsed 0m 2s (remain 0m 0s) Loss: 0.0617(0.1107) Grad: 3.6430  LR: 0.000001  \n",
      "EVAL: [0/3] Elapsed 0m 0s (remain 0m 0s) Loss: 0.3817(0.3817) \n"
     ]
    },
    {
     "name": "stderr",
     "output_type": "stream",
     "text": [
      "Epoch 28 - avg_train_loss: 0.1107  avg_val_loss: 0.3407  time: 3s\n",
      "Epoch 28 - Score: 0.3433\n"
     ]
    },
    {
     "name": "stdout",
     "output_type": "stream",
     "text": [
      "EVAL: [2/3] Elapsed 0m 0s (remain 0m 0s) Loss: 0.2620(0.3407) \n",
      "Epoch: [29][0/19] Elapsed 0m 0s (remain 0m 2s) Loss: 0.1048(0.1048) Grad: 5.2627  LR: 0.000050  \n",
      "Epoch: [29][10/19] Elapsed 0m 1s (remain 0m 1s) Loss: 0.1059(0.1060) Grad: 14.8412  LR: 0.000050  \n",
      "Epoch: [29][18/19] Elapsed 0m 2s (remain 0m 0s) Loss: 0.0898(0.1044) Grad: 11.7347  LR: 0.000050  \n",
      "EVAL: [0/3] Elapsed 0m 0s (remain 0m 0s) Loss: 0.3891(0.3891) \n"
     ]
    },
    {
     "name": "stderr",
     "output_type": "stream",
     "text": [
      "Epoch 29 - avg_train_loss: 0.1044  avg_val_loss: 0.3329  time: 4s\n",
      "Epoch 29 - Score: 0.3365\n",
      "Epoch 29 - Save Best Score: 0.3365 Model\n"
     ]
    },
    {
     "name": "stdout",
     "output_type": "stream",
     "text": [
      "EVAL: [2/3] Elapsed 0m 0s (remain 0m 0s) Loss: 0.2632(0.3329) \n",
      "Epoch: [30][0/19] Elapsed 0m 0s (remain 0m 2s) Loss: 0.1574(0.1574) Grad: 14.0596  LR: 0.000224  \n",
      "Epoch: [30][10/19] Elapsed 0m 1s (remain 0m 1s) Loss: 0.0883(0.1074) Grad: 4.5661  LR: 0.000224  \n",
      "Epoch: [30][18/19] Elapsed 0m 2s (remain 0m 0s) Loss: 0.1000(0.1100) Grad: 7.2894  LR: 0.000224  \n",
      "EVAL: [0/3] Elapsed 0m 0s (remain 0m 0s) Loss: 0.3916(0.3916) \n"
     ]
    },
    {
     "name": "stderr",
     "output_type": "stream",
     "text": [
      "Epoch 30 - avg_train_loss: 0.1100  avg_val_loss: 0.3580  time: 4s\n",
      "Epoch 30 - Score: 0.3600\n"
     ]
    },
    {
     "name": "stdout",
     "output_type": "stream",
     "text": [
      "EVAL: [2/3] Elapsed 0m 0s (remain 0m 0s) Loss: 0.2813(0.3580) \n",
      "Epoch: [31][0/19] Elapsed 0m 0s (remain 0m 2s) Loss: 0.1772(0.1772) Grad: 21.6379  LR: 0.000133  \n",
      "Epoch: [31][10/19] Elapsed 0m 1s (remain 0m 1s) Loss: 0.2010(0.1418) Grad: 25.9112  LR: 0.000133  \n",
      "Epoch: [31][18/19] Elapsed 0m 2s (remain 0m 0s) Loss: 0.1739(0.1477) Grad: 27.0800  LR: 0.000133  \n",
      "EVAL: [0/3] Elapsed 0m 0s (remain 0m 0s) Loss: 0.3841(0.3841) \n"
     ]
    },
    {
     "name": "stderr",
     "output_type": "stream",
     "text": [
      "Epoch 31 - avg_train_loss: 0.1477  avg_val_loss: 0.3682  time: 4s\n",
      "Epoch 31 - Score: 0.3692\n"
     ]
    },
    {
     "name": "stdout",
     "output_type": "stream",
     "text": [
      "EVAL: [2/3] Elapsed 0m 0s (remain 0m 0s) Loss: 0.3088(0.3682) \n",
      "Epoch: [32][0/19] Elapsed 0m 0s (remain 0m 2s) Loss: 0.1414(0.1414) Grad: 19.3634  LR: 0.000057  \n",
      "Epoch: [32][10/19] Elapsed 0m 1s (remain 0m 1s) Loss: 0.1512(0.1558) Grad: 11.8548  LR: 0.000057  \n",
      "Epoch: [32][18/19] Elapsed 0m 2s (remain 0m 0s) Loss: 0.1796(0.1630) Grad: 17.6375  LR: 0.000057  \n",
      "EVAL: [0/3] Elapsed 0m 0s (remain 0m 0s) Loss: 0.4375(0.4375) \n"
     ]
    },
    {
     "name": "stderr",
     "output_type": "stream",
     "text": [
      "Epoch 32 - avg_train_loss: 0.1630  avg_val_loss: 0.4143  time: 4s\n",
      "Epoch 32 - Score: 0.4152\n"
     ]
    },
    {
     "name": "stdout",
     "output_type": "stream",
     "text": [
      "EVAL: [2/3] Elapsed 0m 0s (remain 0m 0s) Loss: 0.3614(0.4143) \n",
      "Epoch: [33][0/19] Elapsed 0m 0s (remain 0m 2s) Loss: 0.2216(0.2216) Grad: 24.8834  LR: 0.000009  \n",
      "Epoch: [33][10/19] Elapsed 0m 1s (remain 0m 1s) Loss: 0.0963(0.1357) Grad: 9.5236  LR: 0.000009  \n",
      "Epoch: [33][18/19] Elapsed 0m 2s (remain 0m 0s) Loss: 0.0987(0.1234) Grad: 14.9930  LR: 0.000009  \n",
      "EVAL: [0/3] Elapsed 0m 0s (remain 0m 0s) Loss: 0.3662(0.3662) \n"
     ]
    },
    {
     "name": "stderr",
     "output_type": "stream",
     "text": [
      "Epoch 33 - avg_train_loss: 0.1234  avg_val_loss: 0.3374  time: 3s\n",
      "Epoch 33 - Score: 0.3393\n"
     ]
    },
    {
     "name": "stdout",
     "output_type": "stream",
     "text": [
      "EVAL: [2/3] Elapsed 0m 0s (remain 0m 0s) Loss: 0.2614(0.3374) \n",
      "Epoch: [34][0/19] Elapsed 0m 0s (remain 0m 2s) Loss: 0.0827(0.0827) Grad: 3.7852  LR: 0.000001  \n",
      "Epoch: [34][10/19] Elapsed 0m 1s (remain 0m 1s) Loss: 0.0998(0.0936) Grad: 4.9835  LR: 0.000001  \n",
      "Epoch: [34][18/19] Elapsed 0m 2s (remain 0m 0s) Loss: 0.1015(0.0988) Grad: 6.8722  LR: 0.000001  \n",
      "EVAL: [0/3] Elapsed 0m 0s (remain 0m 0s) Loss: 0.3659(0.3659) \n"
     ]
    },
    {
     "name": "stderr",
     "output_type": "stream",
     "text": [
      "Epoch 34 - avg_train_loss: 0.0988  avg_val_loss: 0.3261  time: 3s\n",
      "Epoch 34 - Score: 0.3282\n",
      "Epoch 34 - Save Best Score: 0.3282 Model\n"
     ]
    },
    {
     "name": "stdout",
     "output_type": "stream",
     "text": [
      "EVAL: [2/3] Elapsed 0m 0s (remain 0m 0s) Loss: 0.2670(0.3261) \n",
      "Epoch: [35][0/19] Elapsed 0m 0s (remain 0m 2s) Loss: 0.1041(0.1041) Grad: 5.3894  LR: 0.000050  \n",
      "Epoch: [35][10/19] Elapsed 0m 1s (remain 0m 1s) Loss: 0.1332(0.0962) Grad: 12.0665  LR: 0.000050  \n",
      "Epoch: [35][18/19] Elapsed 0m 2s (remain 0m 0s) Loss: 0.0951(0.0937) Grad: 3.4937  LR: 0.000050  \n",
      "EVAL: [0/3] Elapsed 0m 0s (remain 0m 0s) Loss: 0.3655(0.3655) \n"
     ]
    },
    {
     "name": "stderr",
     "output_type": "stream",
     "text": [
      "Epoch 35 - avg_train_loss: 0.0937  avg_val_loss: 0.3334  time: 3s\n",
      "Epoch 35 - Score: 0.3377\n"
     ]
    },
    {
     "name": "stdout",
     "output_type": "stream",
     "text": [
      "EVAL: [2/3] Elapsed 0m 0s (remain 0m 0s) Loss: 0.2147(0.3334) \n",
      "Epoch: [36][0/19] Elapsed 0m 0s (remain 0m 2s) Loss: 0.1171(0.1171) Grad: 5.1218  LR: 0.000224  \n",
      "Epoch: [36][10/19] Elapsed 0m 1s (remain 0m 1s) Loss: 0.1301(0.1087) Grad: 19.9211  LR: 0.000224  \n",
      "Epoch: [36][18/19] Elapsed 0m 2s (remain 0m 0s) Loss: 0.2417(0.1236) Grad: 25.2323  LR: 0.000224  \n",
      "EVAL: [0/3] Elapsed 0m 0s (remain 0m 0s) Loss: 0.4009(0.4009) \n"
     ]
    },
    {
     "name": "stderr",
     "output_type": "stream",
     "text": [
      "Epoch 36 - avg_train_loss: 0.1236  avg_val_loss: 0.3785  time: 3s\n",
      "Epoch 36 - Score: 0.3802\n"
     ]
    },
    {
     "name": "stdout",
     "output_type": "stream",
     "text": [
      "EVAL: [2/3] Elapsed 0m 0s (remain 0m 0s) Loss: 0.3007(0.3785) \n",
      "Epoch: [37][0/19] Elapsed 0m 0s (remain 0m 2s) Loss: 0.1701(0.1701) Grad: 19.1913  LR: 0.000133  \n",
      "Epoch: [37][10/19] Elapsed 0m 1s (remain 0m 1s) Loss: 0.1222(0.1990) Grad: 8.8150  LR: 0.000133  \n",
      "Epoch: [37][18/19] Elapsed 0m 2s (remain 0m 0s) Loss: 0.1924(0.2088) Grad: 23.3932  LR: 0.000133  \n",
      "EVAL: [0/3] Elapsed 0m 0s (remain 0m 0s) Loss: 0.4291(0.4291) \n"
     ]
    },
    {
     "name": "stderr",
     "output_type": "stream",
     "text": [
      "Epoch 37 - avg_train_loss: 0.2088  avg_val_loss: 0.4242  time: 3s\n",
      "Epoch 37 - Score: 0.4244\n"
     ]
    },
    {
     "name": "stdout",
     "output_type": "stream",
     "text": [
      "EVAL: [2/3] Elapsed 0m 0s (remain 0m 0s) Loss: 0.3961(0.4242) \n",
      "Epoch: [38][0/19] Elapsed 0m 0s (remain 0m 2s) Loss: 0.2202(0.2202) Grad: 23.8578  LR: 0.000057  \n",
      "Epoch: [38][10/19] Elapsed 0m 1s (remain 0m 1s) Loss: 0.1297(0.1728) Grad: 15.5239  LR: 0.000057  \n",
      "Epoch: [38][18/19] Elapsed 0m 2s (remain 0m 0s) Loss: 0.0851(0.1566) Grad: 14.5135  LR: 0.000057  \n",
      "EVAL: [0/3] Elapsed 0m 0s (remain 0m 0s) Loss: 0.3819(0.3819) \n"
     ]
    },
    {
     "name": "stderr",
     "output_type": "stream",
     "text": [
      "Epoch 38 - avg_train_loss: 0.1566  avg_val_loss: 0.3372  time: 3s\n",
      "Epoch 38 - Score: 0.3414\n"
     ]
    },
    {
     "name": "stdout",
     "output_type": "stream",
     "text": [
      "EVAL: [2/3] Elapsed 0m 0s (remain 0m 0s) Loss: 0.2267(0.3372) \n",
      "Epoch: [39][0/19] Elapsed 0m 0s (remain 0m 2s) Loss: 0.1244(0.1244) Grad: 14.0557  LR: 0.000009  \n",
      "Epoch: [39][10/19] Elapsed 0m 1s (remain 0m 1s) Loss: 0.1028(0.1119) Grad: 9.5420  LR: 0.000009  \n",
      "Epoch: [39][18/19] Elapsed 0m 2s (remain 0m 0s) Loss: 0.0669(0.1067) Grad: 5.5492  LR: 0.000009  \n",
      "EVAL: [0/3] Elapsed 0m 0s (remain 0m 0s) Loss: 0.3714(0.3714) \n"
     ]
    },
    {
     "name": "stderr",
     "output_type": "stream",
     "text": [
      "Epoch 39 - avg_train_loss: 0.1067  avg_val_loss: 0.3300  time: 3s\n",
      "Epoch 39 - Score: 0.3344\n"
     ]
    },
    {
     "name": "stdout",
     "output_type": "stream",
     "text": [
      "EVAL: [2/3] Elapsed 0m 0s (remain 0m 0s) Loss: 0.2148(0.3300) \n",
      "Epoch: [40][0/19] Elapsed 0m 0s (remain 0m 2s) Loss: 0.0698(0.0698) Grad: 4.5037  LR: 0.000001  \n",
      "Epoch: [40][10/19] Elapsed 0m 1s (remain 0m 1s) Loss: 0.1111(0.0885) Grad: 5.8147  LR: 0.000001  \n",
      "Epoch: [40][18/19] Elapsed 0m 2s (remain 0m 0s) Loss: 0.0859(0.0852) Grad: 2.8073  LR: 0.000001  \n",
      "EVAL: [0/3] Elapsed 0m 0s (remain 0m 0s) Loss: 0.3693(0.3693) \n"
     ]
    },
    {
     "name": "stderr",
     "output_type": "stream",
     "text": [
      "Epoch 40 - avg_train_loss: 0.0852  avg_val_loss: 0.3237  time: 4s\n",
      "Epoch 40 - Score: 0.3280\n",
      "Epoch 40 - Save Best Score: 0.3280 Model\n"
     ]
    },
    {
     "name": "stdout",
     "output_type": "stream",
     "text": [
      "EVAL: [2/3] Elapsed 0m 0s (remain 0m 0s) Loss: 0.2168(0.3237) \n"
     ]
    },
    {
     "name": "stderr",
     "output_type": "stream",
     "text": [
      "========== fold: 4 result ==========\n",
      "Score: 0.3280\n",
      "========== CV ==========\n",
      "Score: 0.3054\n",
      "========== seed51 ==========\n",
      "========== fold: 0 training ==========\n"
     ]
    },
    {
     "name": "stdout",
     "output_type": "stream",
     "text": [
      "Epoch: [1][0/19] Elapsed 0m 0s (remain 0m 2s) Loss: 3.1242(3.1242) Grad: 27.3958  LR: 0.000100  \n",
      "Epoch: [1][10/19] Elapsed 0m 1s (remain 0m 1s) Loss: 1.2613(1.5077) Grad: 52.9328  LR: 0.000100  \n",
      "Epoch: [1][18/19] Elapsed 0m 2s (remain 0m 0s) Loss: 0.5881(1.1542) Grad: 18.7727  LR: 0.000100  \n",
      "EVAL: [0/3] Elapsed 0m 0s (remain 0m 0s) Loss: 0.5960(0.5960) \n"
     ]
    },
    {
     "name": "stderr",
     "output_type": "stream",
     "text": [
      "Epoch 1 - avg_train_loss: 1.1542  avg_val_loss: 0.5279  time: 3s\n",
      "Epoch 1 - Score: 0.5312\n",
      "Epoch 1 - Save Best Score: 0.5312 Model\n"
     ]
    },
    {
     "name": "stdout",
     "output_type": "stream",
     "text": [
      "EVAL: [2/3] Elapsed 0m 0s (remain 0m 0s) Loss: 0.4491(0.5279) \n",
      "Epoch: [2][0/19] Elapsed 0m 0s (remain 0m 2s) Loss: 0.3062(0.3062) Grad: 5.3806  LR: 0.000057  \n",
      "Epoch: [2][10/19] Elapsed 0m 1s (remain 0m 1s) Loss: 0.3683(0.4390) Grad: 3.7043  LR: 0.000057  \n",
      "Epoch: [2][18/19] Elapsed 0m 2s (remain 0m 0s) Loss: 0.5111(0.4438) Grad: 19.7606  LR: 0.000057  \n",
      "EVAL: [0/3] Elapsed 0m 0s (remain 0m 0s) Loss: 0.5162(0.5162) \n"
     ]
    },
    {
     "name": "stderr",
     "output_type": "stream",
     "text": [
      "Epoch 2 - avg_train_loss: 0.4438  avg_val_loss: 0.4220  time: 3s\n",
      "Epoch 2 - Score: 0.4329\n",
      "Epoch 2 - Save Best Score: 0.4329 Model\n"
     ]
    },
    {
     "name": "stdout",
     "output_type": "stream",
     "text": [
      "EVAL: [2/3] Elapsed 0m 0s (remain 0m 0s) Loss: 0.2433(0.4220) \n",
      "Epoch: [3][0/19] Elapsed 0m 0s (remain 0m 2s) Loss: 0.3322(0.3322) Grad: 8.1210  LR: 0.000009  \n",
      "Epoch: [3][10/19] Elapsed 0m 1s (remain 0m 1s) Loss: 0.3359(0.3451) Grad: 7.2582  LR: 0.000009  \n",
      "Epoch: [3][18/19] Elapsed 0m 2s (remain 0m 0s) Loss: 0.3314(0.3422) Grad: 14.9881  LR: 0.000009  \n",
      "EVAL: [0/3] Elapsed 0m 0s (remain 0m 0s) Loss: 0.5214(0.5214) \n"
     ]
    },
    {
     "name": "stderr",
     "output_type": "stream",
     "text": [
      "Epoch 3 - avg_train_loss: 0.3422  avg_val_loss: 0.4245  time: 3s\n",
      "Epoch 3 - Score: 0.4359\n"
     ]
    },
    {
     "name": "stdout",
     "output_type": "stream",
     "text": [
      "EVAL: [2/3] Elapsed 0m 0s (remain 0m 0s) Loss: 0.2399(0.4245) \n",
      "Epoch: [4][0/19] Elapsed 0m 0s (remain 0m 2s) Loss: 0.3158(0.3158) Grad: 12.4996  LR: 0.000001  \n",
      "Epoch: [4][10/19] Elapsed 0m 1s (remain 0m 1s) Loss: 0.3382(0.3104) Grad: 6.8423  LR: 0.000001  \n",
      "Epoch: [4][18/19] Elapsed 0m 2s (remain 0m 0s) Loss: 0.4024(0.3115) Grad: 8.1415  LR: 0.000001  \n",
      "EVAL: [0/3] Elapsed 0m 0s (remain 0m 0s) Loss: 0.5137(0.5137) \n"
     ]
    },
    {
     "name": "stderr",
     "output_type": "stream",
     "text": [
      "Epoch 4 - avg_train_loss: 0.3115  avg_val_loss: 0.4093  time: 3s\n",
      "Epoch 4 - Score: 0.4219\n",
      "Epoch 4 - Save Best Score: 0.4219 Model\n"
     ]
    },
    {
     "name": "stdout",
     "output_type": "stream",
     "text": [
      "EVAL: [2/3] Elapsed 0m 0s (remain 0m 0s) Loss: 0.2289(0.4093) \n",
      "Epoch: [5][0/19] Elapsed 0m 0s (remain 0m 2s) Loss: 0.2207(0.2207) Grad: 6.1016  LR: 0.000050  \n",
      "Epoch: [5][10/19] Elapsed 0m 1s (remain 0m 1s) Loss: 0.2514(0.3005) Grad: 12.3776  LR: 0.000050  \n",
      "Epoch: [5][18/19] Elapsed 0m 2s (remain 0m 0s) Loss: 0.2388(0.2949) Grad: 4.2142  LR: 0.000050  \n",
      "EVAL: [0/3] Elapsed 0m 0s (remain 0m 0s) Loss: 0.4888(0.4888) \n"
     ]
    },
    {
     "name": "stderr",
     "output_type": "stream",
     "text": [
      "Epoch 5 - avg_train_loss: 0.2949  avg_val_loss: 0.3905  time: 3s\n",
      "Epoch 5 - Score: 0.4010\n",
      "Epoch 5 - Save Best Score: 0.4010 Model\n"
     ]
    },
    {
     "name": "stdout",
     "output_type": "stream",
     "text": [
      "EVAL: [2/3] Elapsed 0m 0s (remain 0m 0s) Loss: 0.2431(0.3905) \n",
      "Epoch: [6][0/19] Elapsed 0m 0s (remain 0m 2s) Loss: 0.2091(0.2091) Grad: 6.2157  LR: 0.000224  \n",
      "Epoch: [6][10/19] Elapsed 0m 1s (remain 0m 1s) Loss: 0.4207(0.3011) Grad: 18.4029  LR: 0.000224  \n",
      "Epoch: [6][18/19] Elapsed 0m 2s (remain 0m 0s) Loss: 0.3585(0.3138) Grad: 23.7086  LR: 0.000224  \n",
      "EVAL: [0/3] Elapsed 0m 0s (remain 0m 0s) Loss: 0.6266(0.6266) \n"
     ]
    },
    {
     "name": "stderr",
     "output_type": "stream",
     "text": [
      "Epoch 6 - avg_train_loss: 0.3138  avg_val_loss: 0.5309  time: 4s\n",
      "Epoch 6 - Score: 0.5382\n"
     ]
    },
    {
     "name": "stdout",
     "output_type": "stream",
     "text": [
      "EVAL: [2/3] Elapsed 0m 0s (remain 0m 0s) Loss: 0.3908(0.5309) \n",
      "Epoch: [7][0/19] Elapsed 0m 0s (remain 0m 2s) Loss: 0.3628(0.3628) Grad: 25.6172  LR: 0.000133  \n",
      "Epoch: [7][10/19] Elapsed 0m 1s (remain 0m 1s) Loss: 0.3049(0.3035) Grad: 22.4934  LR: 0.000133  \n",
      "Epoch: [7][18/19] Elapsed 0m 2s (remain 0m 0s) Loss: 0.5166(0.3167) Grad: 23.6906  LR: 0.000133  \n",
      "EVAL: [0/3] Elapsed 0m 0s (remain 0m 0s) Loss: 0.5965(0.5965) \n"
     ]
    },
    {
     "name": "stderr",
     "output_type": "stream",
     "text": [
      "Epoch 7 - avg_train_loss: 0.3167  avg_val_loss: 0.4823  time: 3s\n",
      "Epoch 7 - Score: 0.4918\n"
     ]
    },
    {
     "name": "stdout",
     "output_type": "stream",
     "text": [
      "EVAL: [2/3] Elapsed 0m 0s (remain 0m 0s) Loss: 0.4083(0.4823) \n",
      "Epoch: [8][0/19] Elapsed 0m 0s (remain 0m 2s) Loss: 0.3208(0.3208) Grad: 19.0057  LR: 0.000057  \n",
      "Epoch: [8][10/19] Elapsed 0m 1s (remain 0m 1s) Loss: 0.2995(0.2655) Grad: 10.6067  LR: 0.000057  \n",
      "Epoch: [8][18/19] Elapsed 0m 2s (remain 0m 0s) Loss: 0.2242(0.2534) Grad: 5.3104  LR: 0.000057  \n",
      "EVAL: [0/3] Elapsed 0m 0s (remain 0m 0s) Loss: 0.5323(0.5323) \n"
     ]
    },
    {
     "name": "stderr",
     "output_type": "stream",
     "text": [
      "Epoch 8 - avg_train_loss: 0.2534  avg_val_loss: 0.4106  time: 3s\n",
      "Epoch 8 - Score: 0.4250\n"
     ]
    },
    {
     "name": "stdout",
     "output_type": "stream",
     "text": [
      "EVAL: [2/3] Elapsed 0m 0s (remain 0m 0s) Loss: 0.2455(0.4106) \n",
      "Epoch: [9][0/19] Elapsed 0m 0s (remain 0m 2s) Loss: 0.1951(0.1951) Grad: 7.5720  LR: 0.000009  \n",
      "Epoch: [9][10/19] Elapsed 0m 1s (remain 0m 1s) Loss: 0.1923(0.1936) Grad: 4.5443  LR: 0.000009  \n",
      "Epoch: [9][18/19] Elapsed 0m 2s (remain 0m 0s) Loss: 0.2096(0.1936) Grad: 8.5387  LR: 0.000009  \n",
      "EVAL: [0/3] Elapsed 0m 0s (remain 0m 0s) Loss: 0.5100(0.5100) \n"
     ]
    },
    {
     "name": "stderr",
     "output_type": "stream",
     "text": [
      "Epoch 9 - avg_train_loss: 0.1936  avg_val_loss: 0.3740  time: 4s\n",
      "Epoch 9 - Score: 0.3925\n",
      "Epoch 9 - Save Best Score: 0.3925 Model\n"
     ]
    },
    {
     "name": "stdout",
     "output_type": "stream",
     "text": [
      "EVAL: [2/3] Elapsed 0m 0s (remain 0m 0s) Loss: 0.2122(0.3740) \n",
      "Epoch: [10][0/19] Elapsed 0m 0s (remain 0m 2s) Loss: 0.1365(0.1365) Grad: 6.8234  LR: 0.000001  \n",
      "Epoch: [10][10/19] Elapsed 0m 1s (remain 0m 1s) Loss: 0.1578(0.1833) Grad: 5.8364  LR: 0.000001  \n",
      "Epoch: [10][18/19] Elapsed 0m 2s (remain 0m 0s) Loss: 0.1409(0.1754) Grad: 13.4183  LR: 0.000001  \n",
      "EVAL: [0/3] Elapsed 0m 0s (remain 0m 0s) Loss: 0.5382(0.5382) \n"
     ]
    },
    {
     "name": "stderr",
     "output_type": "stream",
     "text": [
      "Epoch 10 - avg_train_loss: 0.1754  avg_val_loss: 0.3891  time: 3s\n",
      "Epoch 10 - Score: 0.4102\n"
     ]
    },
    {
     "name": "stdout",
     "output_type": "stream",
     "text": [
      "EVAL: [2/3] Elapsed 0m 0s (remain 0m 0s) Loss: 0.2164(0.3891) \n",
      "Epoch: [11][0/19] Elapsed 0m 0s (remain 0m 2s) Loss: 0.1936(0.1936) Grad: 4.0426  LR: 0.000050  \n",
      "Epoch: [11][10/19] Elapsed 0m 1s (remain 0m 1s) Loss: 0.1301(0.1590) Grad: 6.0218  LR: 0.000050  \n",
      "Epoch: [11][18/19] Elapsed 0m 2s (remain 0m 0s) Loss: 0.1614(0.1628) Grad: 4.2267  LR: 0.000050  \n",
      "EVAL: [0/3] Elapsed 0m 0s (remain 0m 0s) Loss: 0.4873(0.4873) \n"
     ]
    },
    {
     "name": "stderr",
     "output_type": "stream",
     "text": [
      "Epoch 11 - avg_train_loss: 0.1628  avg_val_loss: 0.3813  time: 3s\n",
      "Epoch 11 - Score: 0.3931\n"
     ]
    },
    {
     "name": "stdout",
     "output_type": "stream",
     "text": [
      "EVAL: [2/3] Elapsed 0m 0s (remain 0m 0s) Loss: 0.2372(0.3813) \n",
      "Epoch: [12][0/19] Elapsed 0m 0s (remain 0m 2s) Loss: 0.1097(0.1097) Grad: 5.6810  LR: 0.000224  \n",
      "Epoch: [12][10/19] Elapsed 0m 1s (remain 0m 1s) Loss: 0.2135(0.1579) Grad: 20.0660  LR: 0.000224  \n",
      "Epoch: [12][18/19] Elapsed 0m 2s (remain 0m 0s) Loss: 0.1672(0.1675) Grad: 5.2270  LR: 0.000224  \n",
      "EVAL: [0/3] Elapsed 0m 0s (remain 0m 0s) Loss: 0.4918(0.4918) \n"
     ]
    },
    {
     "name": "stderr",
     "output_type": "stream",
     "text": [
      "Epoch 12 - avg_train_loss: 0.1675  avg_val_loss: 0.3773  time: 3s\n",
      "Epoch 12 - Score: 0.3896\n",
      "Epoch 12 - Save Best Score: 0.3896 Model\n"
     ]
    },
    {
     "name": "stdout",
     "output_type": "stream",
     "text": [
      "EVAL: [2/3] Elapsed 0m 0s (remain 0m 0s) Loss: 0.2748(0.3773) \n",
      "Epoch: [13][0/19] Elapsed 0m 0s (remain 0m 2s) Loss: 0.2072(0.2072) Grad: 18.4591  LR: 0.000133  \n",
      "Epoch: [13][10/19] Elapsed 0m 1s (remain 0m 1s) Loss: 0.2167(0.2040) Grad: 16.6657  LR: 0.000133  \n",
      "Epoch: [13][18/19] Elapsed 0m 2s (remain 0m 0s) Loss: 0.1644(0.2134) Grad: 6.8593  LR: 0.000133  \n",
      "EVAL: [0/3] Elapsed 0m 0s (remain 0m 0s) Loss: 0.5292(0.5292) \n"
     ]
    },
    {
     "name": "stderr",
     "output_type": "stream",
     "text": [
      "Epoch 13 - avg_train_loss: 0.2134  avg_val_loss: 0.4063  time: 3s\n",
      "Epoch 13 - Score: 0.4238\n"
     ]
    },
    {
     "name": "stdout",
     "output_type": "stream",
     "text": [
      "EVAL: [2/3] Elapsed 0m 0s (remain 0m 0s) Loss: 0.1920(0.4063) \n",
      "Epoch: [14][0/19] Elapsed 0m 0s (remain 0m 2s) Loss: 0.1703(0.1703) Grad: 10.0547  LR: 0.000057  \n",
      "Epoch: [14][10/19] Elapsed 0m 1s (remain 0m 1s) Loss: 0.2140(0.1911) Grad: 9.6572  LR: 0.000057  \n",
      "Epoch: [14][18/19] Elapsed 0m 2s (remain 0m 0s) Loss: 0.1783(0.2114) Grad: 6.3020  LR: 0.000057  \n",
      "EVAL: [0/3] Elapsed 0m 0s (remain 0m 0s) Loss: 0.5353(0.5353) \n"
     ]
    },
    {
     "name": "stderr",
     "output_type": "stream",
     "text": [
      "Epoch 14 - avg_train_loss: 0.2114  avg_val_loss: 0.4038  time: 4s\n",
      "Epoch 14 - Score: 0.4188\n"
     ]
    },
    {
     "name": "stdout",
     "output_type": "stream",
     "text": [
      "EVAL: [2/3] Elapsed 0m 0s (remain 0m 0s) Loss: 0.3186(0.4038) \n",
      "Epoch: [15][0/19] Elapsed 0m 0s (remain 0m 2s) Loss: 0.2391(0.2391) Grad: 19.5651  LR: 0.000009  \n",
      "Epoch: [15][10/19] Elapsed 0m 1s (remain 0m 1s) Loss: 0.1723(0.1811) Grad: 4.8866  LR: 0.000009  \n",
      "Epoch: [15][18/19] Elapsed 0m 2s (remain 0m 0s) Loss: 0.1556(0.1715) Grad: 3.4108  LR: 0.000009  \n",
      "EVAL: [0/3] Elapsed 0m 0s (remain 0m 0s) Loss: 0.5049(0.5049) \n"
     ]
    },
    {
     "name": "stderr",
     "output_type": "stream",
     "text": [
      "Epoch 15 - avg_train_loss: 0.1715  avg_val_loss: 0.3693  time: 3s\n",
      "Epoch 15 - Score: 0.3872\n",
      "Epoch 15 - Save Best Score: 0.3872 Model\n"
     ]
    },
    {
     "name": "stdout",
     "output_type": "stream",
     "text": [
      "EVAL: [2/3] Elapsed 0m 0s (remain 0m 0s) Loss: 0.2265(0.3693) \n",
      "Epoch: [16][0/19] Elapsed 0m 0s (remain 0m 2s) Loss: 0.1504(0.1504) Grad: 9.8468  LR: 0.000001  \n",
      "Epoch: [16][10/19] Elapsed 0m 1s (remain 0m 1s) Loss: 0.1599(0.1415) Grad: 10.5875  LR: 0.000001  \n",
      "Epoch: [16][18/19] Elapsed 0m 2s (remain 0m 0s) Loss: 0.1047(0.1395) Grad: 10.5290  LR: 0.000001  \n",
      "EVAL: [0/3] Elapsed 0m 0s (remain 0m 0s) Loss: 0.5032(0.5032) \n"
     ]
    },
    {
     "name": "stderr",
     "output_type": "stream",
     "text": [
      "Epoch 16 - avg_train_loss: 0.1395  avg_val_loss: 0.3590  time: 3s\n",
      "Epoch 16 - Score: 0.3815\n",
      "Epoch 16 - Save Best Score: 0.3815 Model\n"
     ]
    },
    {
     "name": "stdout",
     "output_type": "stream",
     "text": [
      "EVAL: [2/3] Elapsed 0m 0s (remain 0m 0s) Loss: 0.1673(0.3590) \n",
      "Epoch: [17][0/19] Elapsed 0m 0s (remain 0m 2s) Loss: 0.1051(0.1051) Grad: 3.6916  LR: 0.000050  \n",
      "Epoch: [17][10/19] Elapsed 0m 1s (remain 0m 1s) Loss: 0.1606(0.1413) Grad: 13.2521  LR: 0.000050  \n",
      "Epoch: [17][18/19] Elapsed 0m 2s (remain 0m 0s) Loss: 0.1166(0.1348) Grad: 7.0916  LR: 0.000050  \n",
      "EVAL: [0/3] Elapsed 0m 0s (remain 0m 0s) Loss: 0.4809(0.4809) \n"
     ]
    },
    {
     "name": "stderr",
     "output_type": "stream",
     "text": [
      "Epoch 17 - avg_train_loss: 0.1348  avg_val_loss: 0.3604  time: 3s\n",
      "Epoch 17 - Score: 0.3763\n",
      "Epoch 17 - Save Best Score: 0.3763 Model\n"
     ]
    },
    {
     "name": "stdout",
     "output_type": "stream",
     "text": [
      "EVAL: [2/3] Elapsed 0m 0s (remain 0m 0s) Loss: 0.1979(0.3604) \n",
      "Epoch: [18][0/19] Elapsed 0m 0s (remain 0m 2s) Loss: 0.1237(0.1237) Grad: 3.9808  LR: 0.000224  \n",
      "Epoch: [18][10/19] Elapsed 0m 1s (remain 0m 1s) Loss: 0.1587(0.1421) Grad: 4.7925  LR: 0.000224  \n",
      "Epoch: [18][18/19] Elapsed 0m 2s (remain 0m 0s) Loss: 0.1756(0.1532) Grad: 14.5362  LR: 0.000224  \n",
      "EVAL: [0/3] Elapsed 0m 0s (remain 0m 0s) Loss: 0.5040(0.5040) \n"
     ]
    },
    {
     "name": "stderr",
     "output_type": "stream",
     "text": [
      "Epoch 18 - avg_train_loss: 0.1532  avg_val_loss: 0.3618  time: 3s\n",
      "Epoch 18 - Score: 0.3817\n"
     ]
    },
    {
     "name": "stdout",
     "output_type": "stream",
     "text": [
      "EVAL: [2/3] Elapsed 0m 0s (remain 0m 0s) Loss: 0.2180(0.3618) \n",
      "Epoch: [19][0/19] Elapsed 0m 0s (remain 0m 2s) Loss: 0.1241(0.1241) Grad: 10.9164  LR: 0.000133  \n",
      "Epoch: [19][10/19] Elapsed 0m 1s (remain 0m 1s) Loss: 0.2689(0.2125) Grad: 19.9425  LR: 0.000133  \n",
      "Epoch: [19][18/19] Elapsed 0m 2s (remain 0m 0s) Loss: 0.2565(0.2183) Grad: 17.3760  LR: 0.000133  \n",
      "EVAL: [0/3] Elapsed 0m 0s (remain 0m 0s) Loss: 0.4787(0.4787) \n"
     ]
    },
    {
     "name": "stderr",
     "output_type": "stream",
     "text": [
      "Epoch 19 - avg_train_loss: 0.2183  avg_val_loss: 0.3540  time: 3s\n",
      "Epoch 19 - Score: 0.3694\n",
      "Epoch 19 - Save Best Score: 0.3694 Model\n"
     ]
    },
    {
     "name": "stdout",
     "output_type": "stream",
     "text": [
      "EVAL: [2/3] Elapsed 0m 0s (remain 0m 0s) Loss: 0.2474(0.3540) \n",
      "Epoch: [20][0/19] Elapsed 0m 0s (remain 0m 2s) Loss: 0.1745(0.1745) Grad: 3.7447  LR: 0.000057  \n",
      "Epoch: [20][10/19] Elapsed 0m 1s (remain 0m 1s) Loss: 0.2624(0.2250) Grad: 20.9138  LR: 0.000057  \n",
      "Epoch: [20][18/19] Elapsed 0m 2s (remain 0m 0s) Loss: 0.1611(0.2135) Grad: 10.1925  LR: 0.000057  \n",
      "EVAL: [0/3] Elapsed 0m 0s (remain 0m 0s) Loss: 0.5089(0.5089) \n"
     ]
    },
    {
     "name": "stderr",
     "output_type": "stream",
     "text": [
      "Epoch 20 - avg_train_loss: 0.2135  avg_val_loss: 0.3765  time: 3s\n",
      "Epoch 20 - Score: 0.3931\n"
     ]
    },
    {
     "name": "stdout",
     "output_type": "stream",
     "text": [
      "EVAL: [2/3] Elapsed 0m 0s (remain 0m 0s) Loss: 0.2475(0.3765) \n",
      "Epoch: [21][0/19] Elapsed 0m 0s (remain 0m 2s) Loss: 0.1973(0.1973) Grad: 17.4403  LR: 0.000009  \n",
      "Epoch: [21][10/19] Elapsed 0m 1s (remain 0m 1s) Loss: 0.1441(0.1566) Grad: 7.7978  LR: 0.000009  \n",
      "Epoch: [21][18/19] Elapsed 0m 2s (remain 0m 0s) Loss: 0.1416(0.1508) Grad: 7.1630  LR: 0.000009  \n",
      "EVAL: [0/3] Elapsed 0m 0s (remain 0m 0s) Loss: 0.4807(0.4807) \n"
     ]
    },
    {
     "name": "stderr",
     "output_type": "stream",
     "text": [
      "Epoch 21 - avg_train_loss: 0.1508  avg_val_loss: 0.3574  time: 3s\n",
      "Epoch 21 - Score: 0.3724\n"
     ]
    },
    {
     "name": "stdout",
     "output_type": "stream",
     "text": [
      "EVAL: [2/3] Elapsed 0m 0s (remain 0m 0s) Loss: 0.2445(0.3574) \n",
      "Epoch: [22][0/19] Elapsed 0m 0s (remain 0m 2s) Loss: 0.1207(0.1207) Grad: 3.2955  LR: 0.000001  \n",
      "Epoch: [22][10/19] Elapsed 0m 1s (remain 0m 1s) Loss: 0.1088(0.1138) Grad: 6.1762  LR: 0.000001  \n",
      "Epoch: [22][18/19] Elapsed 0m 2s (remain 0m 0s) Loss: 0.1102(0.1144) Grad: 3.1976  LR: 0.000001  \n",
      "EVAL: [0/3] Elapsed 0m 0s (remain 0m 0s) Loss: 0.4770(0.4770) \n"
     ]
    },
    {
     "name": "stderr",
     "output_type": "stream",
     "text": [
      "Epoch 22 - avg_train_loss: 0.1144  avg_val_loss: 0.3441  time: 3s\n",
      "Epoch 22 - Score: 0.3625\n",
      "Epoch 22 - Save Best Score: 0.3625 Model\n"
     ]
    },
    {
     "name": "stdout",
     "output_type": "stream",
     "text": [
      "EVAL: [2/3] Elapsed 0m 0s (remain 0m 0s) Loss: 0.2067(0.3441) \n",
      "Epoch: [23][0/19] Elapsed 0m 0s (remain 0m 2s) Loss: 0.0864(0.0864) Grad: 5.6491  LR: 0.000050  \n",
      "Epoch: [23][10/19] Elapsed 0m 1s (remain 0m 1s) Loss: 0.1566(0.1263) Grad: 18.0241  LR: 0.000050  \n",
      "Epoch: [23][18/19] Elapsed 0m 2s (remain 0m 0s) Loss: 0.1900(0.1295) Grad: 12.0421  LR: 0.000050  \n",
      "EVAL: [0/3] Elapsed 0m 0s (remain 0m 0s) Loss: 0.4938(0.4938) \n"
     ]
    },
    {
     "name": "stderr",
     "output_type": "stream",
     "text": [
      "Epoch 23 - avg_train_loss: 0.1295  avg_val_loss: 0.3496  time: 3s\n",
      "Epoch 23 - Score: 0.3708\n"
     ]
    },
    {
     "name": "stdout",
     "output_type": "stream",
     "text": [
      "EVAL: [2/3] Elapsed 0m 0s (remain 0m 0s) Loss: 0.2029(0.3496) \n",
      "Epoch: [24][0/19] Elapsed 0m 0s (remain 0m 2s) Loss: 0.1036(0.1036) Grad: 4.9020  LR: 0.000224  \n",
      "Epoch: [24][10/19] Elapsed 0m 1s (remain 0m 1s) Loss: 0.1190(0.1217) Grad: 7.8279  LR: 0.000224  \n",
      "Epoch: [24][18/19] Elapsed 0m 2s (remain 0m 0s) Loss: 0.1962(0.1406) Grad: 16.4887  LR: 0.000224  \n",
      "EVAL: [0/3] Elapsed 0m 0s (remain 0m 0s) Loss: 0.4873(0.4873) \n"
     ]
    },
    {
     "name": "stderr",
     "output_type": "stream",
     "text": [
      "Epoch 24 - avg_train_loss: 0.1406  avg_val_loss: 0.3582  time: 3s\n",
      "Epoch 24 - Score: 0.3751\n"
     ]
    },
    {
     "name": "stdout",
     "output_type": "stream",
     "text": [
      "EVAL: [2/3] Elapsed 0m 0s (remain 0m 0s) Loss: 0.2199(0.3582) \n",
      "Epoch: [25][0/19] Elapsed 0m 0s (remain 0m 2s) Loss: 0.1630(0.1630) Grad: 18.1331  LR: 0.000133  \n",
      "Epoch: [25][10/19] Elapsed 0m 1s (remain 0m 1s) Loss: 0.2094(0.1943) Grad: 21.1457  LR: 0.000133  \n",
      "Epoch: [25][18/19] Elapsed 0m 2s (remain 0m 0s) Loss: 0.1660(0.1804) Grad: 16.0860  LR: 0.000133  \n",
      "EVAL: [0/3] Elapsed 0m 0s (remain 0m 0s) Loss: 0.4848(0.4848) \n"
     ]
    },
    {
     "name": "stderr",
     "output_type": "stream",
     "text": [
      "Epoch 25 - avg_train_loss: 0.1804  avg_val_loss: 0.3665  time: 3s\n",
      "Epoch 25 - Score: 0.3802\n"
     ]
    },
    {
     "name": "stdout",
     "output_type": "stream",
     "text": [
      "EVAL: [2/3] Elapsed 0m 0s (remain 0m 0s) Loss: 0.2486(0.3665) \n",
      "Epoch: [26][0/19] Elapsed 0m 0s (remain 0m 2s) Loss: 0.1117(0.1117) Grad: 4.7453  LR: 0.000057  \n",
      "Epoch: [26][10/19] Elapsed 0m 1s (remain 0m 1s) Loss: 0.1501(0.1346) Grad: 3.3483  LR: 0.000057  \n",
      "Epoch: [26][18/19] Elapsed 0m 2s (remain 0m 0s) Loss: 0.1535(0.1398) Grad: 9.1354  LR: 0.000057  \n",
      "EVAL: [0/3] Elapsed 0m 0s (remain 0m 0s) Loss: 0.4611(0.4611) \n"
     ]
    },
    {
     "name": "stderr",
     "output_type": "stream",
     "text": [
      "Epoch 26 - avg_train_loss: 0.1398  avg_val_loss: 0.3429  time: 3s\n",
      "Epoch 26 - Score: 0.3588\n",
      "Epoch 26 - Save Best Score: 0.3588 Model\n"
     ]
    },
    {
     "name": "stdout",
     "output_type": "stream",
     "text": [
      "EVAL: [2/3] Elapsed 0m 0s (remain 0m 0s) Loss: 0.1881(0.3429) \n",
      "Epoch: [27][0/19] Elapsed 0m 0s (remain 0m 2s) Loss: 0.1512(0.1512) Grad: 6.3846  LR: 0.000009  \n",
      "Epoch: [27][10/19] Elapsed 0m 1s (remain 0m 1s) Loss: 0.1417(0.1324) Grad: 12.2628  LR: 0.000009  \n",
      "Epoch: [27][18/19] Elapsed 0m 2s (remain 0m 0s) Loss: 0.1073(0.1227) Grad: 3.9841  LR: 0.000009  \n",
      "EVAL: [0/3] Elapsed 0m 0s (remain 0m 0s) Loss: 0.4764(0.4764) \n"
     ]
    },
    {
     "name": "stderr",
     "output_type": "stream",
     "text": [
      "Epoch 27 - avg_train_loss: 0.1227  avg_val_loss: 0.3480  time: 3s\n",
      "Epoch 27 - Score: 0.3672\n"
     ]
    },
    {
     "name": "stdout",
     "output_type": "stream",
     "text": [
      "EVAL: [2/3] Elapsed 0m 0s (remain 0m 0s) Loss: 0.1653(0.3480) \n",
      "Epoch: [28][0/19] Elapsed 0m 0s (remain 0m 2s) Loss: 0.0907(0.0907) Grad: 6.4293  LR: 0.000001  \n",
      "Epoch: [28][10/19] Elapsed 0m 1s (remain 0m 1s) Loss: 0.1073(0.1065) Grad: 2.8878  LR: 0.000001  \n",
      "Epoch: [28][18/19] Elapsed 0m 2s (remain 0m 0s) Loss: 0.0821(0.1024) Grad: 7.4638  LR: 0.000001  \n",
      "EVAL: [0/3] Elapsed 0m 0s (remain 0m 0s) Loss: 0.4495(0.4495) \n"
     ]
    },
    {
     "name": "stderr",
     "output_type": "stream",
     "text": [
      "Epoch 28 - avg_train_loss: 0.1024  avg_val_loss: 0.3365  time: 3s\n",
      "Epoch 28 - Score: 0.3520\n",
      "Epoch 28 - Save Best Score: 0.3520 Model\n"
     ]
    },
    {
     "name": "stdout",
     "output_type": "stream",
     "text": [
      "EVAL: [2/3] Elapsed 0m 0s (remain 0m 0s) Loss: 0.1730(0.3365) \n",
      "Epoch: [29][0/19] Elapsed 0m 0s (remain 0m 2s) Loss: 0.0810(0.0810) Grad: 3.1759  LR: 0.000050  \n",
      "Epoch: [29][10/19] Elapsed 0m 1s (remain 0m 1s) Loss: 0.0856(0.0966) Grad: 5.5084  LR: 0.000050  \n",
      "Epoch: [29][18/19] Elapsed 0m 2s (remain 0m 0s) Loss: 0.1221(0.0971) Grad: 5.8926  LR: 0.000050  \n",
      "EVAL: [0/3] Elapsed 0m 0s (remain 0m 0s) Loss: 0.4557(0.4557) \n"
     ]
    },
    {
     "name": "stderr",
     "output_type": "stream",
     "text": [
      "Epoch 29 - avg_train_loss: 0.0971  avg_val_loss: 0.3449  time: 4s\n",
      "Epoch 29 - Score: 0.3589\n"
     ]
    },
    {
     "name": "stdout",
     "output_type": "stream",
     "text": [
      "EVAL: [2/3] Elapsed 0m 0s (remain 0m 0s) Loss: 0.1974(0.3449) \n",
      "Epoch: [30][0/19] Elapsed 0m 0s (remain 0m 2s) Loss: 0.0937(0.0937) Grad: 7.9289  LR: 0.000224  \n",
      "Epoch: [30][10/19] Elapsed 0m 1s (remain 0m 1s) Loss: 0.0865(0.1051) Grad: 9.3969  LR: 0.000224  \n",
      "Epoch: [30][18/19] Elapsed 0m 2s (remain 0m 0s) Loss: 0.1201(0.1087) Grad: 6.3297  LR: 0.000224  \n",
      "EVAL: [0/3] Elapsed 0m 0s (remain 0m 0s) Loss: 0.5029(0.5029) \n"
     ]
    },
    {
     "name": "stderr",
     "output_type": "stream",
     "text": [
      "Epoch 30 - avg_train_loss: 0.1087  avg_val_loss: 0.3637  time: 3s\n",
      "Epoch 30 - Score: 0.3844\n"
     ]
    },
    {
     "name": "stdout",
     "output_type": "stream",
     "text": [
      "EVAL: [2/3] Elapsed 0m 0s (remain 0m 0s) Loss: 0.1807(0.3637) \n",
      "Epoch: [31][0/19] Elapsed 0m 0s (remain 0m 2s) Loss: 0.1296(0.1296) Grad: 5.9176  LR: 0.000133  \n",
      "Epoch: [31][10/19] Elapsed 0m 1s (remain 0m 1s) Loss: 0.1488(0.1389) Grad: 6.9762  LR: 0.000133  \n",
      "Epoch: [31][18/19] Elapsed 0m 2s (remain 0m 0s) Loss: 0.1273(0.1365) Grad: 11.6876  LR: 0.000133  \n",
      "EVAL: [0/3] Elapsed 0m 0s (remain 0m 0s) Loss: 0.4855(0.4855) \n"
     ]
    },
    {
     "name": "stderr",
     "output_type": "stream",
     "text": [
      "Epoch 31 - avg_train_loss: 0.1365  avg_val_loss: 0.3441  time: 3s\n",
      "Epoch 31 - Score: 0.3664\n"
     ]
    },
    {
     "name": "stdout",
     "output_type": "stream",
     "text": [
      "EVAL: [2/3] Elapsed 0m 0s (remain 0m 0s) Loss: 0.1607(0.3441) \n",
      "Epoch: [32][0/19] Elapsed 0m 0s (remain 0m 2s) Loss: 0.0864(0.0864) Grad: 7.2149  LR: 0.000057  \n",
      "Epoch: [32][10/19] Elapsed 0m 1s (remain 0m 1s) Loss: 0.2399(0.1504) Grad: 18.7624  LR: 0.000057  \n",
      "Epoch: [32][18/19] Elapsed 0m 2s (remain 0m 0s) Loss: 0.1982(0.1544) Grad: 15.4450  LR: 0.000057  \n",
      "EVAL: [0/3] Elapsed 0m 0s (remain 0m 0s) Loss: 0.4813(0.4813) \n"
     ]
    },
    {
     "name": "stderr",
     "output_type": "stream",
     "text": [
      "Epoch 32 - avg_train_loss: 0.1544  avg_val_loss: 0.3375  time: 3s\n",
      "Epoch 32 - Score: 0.3590\n"
     ]
    },
    {
     "name": "stdout",
     "output_type": "stream",
     "text": [
      "EVAL: [2/3] Elapsed 0m 0s (remain 0m 0s) Loss: 0.2017(0.3375) \n",
      "Epoch: [33][0/19] Elapsed 0m 0s (remain 0m 2s) Loss: 0.1226(0.1226) Grad: 6.4463  LR: 0.000009  \n",
      "Epoch: [33][10/19] Elapsed 0m 1s (remain 0m 1s) Loss: 0.0922(0.1147) Grad: 7.6143  LR: 0.000009  \n",
      "Epoch: [33][18/19] Elapsed 0m 2s (remain 0m 0s) Loss: 0.1136(0.1140) Grad: 3.4882  LR: 0.000009  \n",
      "EVAL: [0/3] Elapsed 0m 0s (remain 0m 0s) Loss: 0.4764(0.4764) \n"
     ]
    },
    {
     "name": "stderr",
     "output_type": "stream",
     "text": [
      "Epoch 33 - avg_train_loss: 0.1140  avg_val_loss: 0.3549  time: 3s\n",
      "Epoch 33 - Score: 0.3699\n"
     ]
    },
    {
     "name": "stdout",
     "output_type": "stream",
     "text": [
      "EVAL: [2/3] Elapsed 0m 0s (remain 0m 0s) Loss: 0.2276(0.3549) \n",
      "Epoch: [34][0/19] Elapsed 0m 0s (remain 0m 2s) Loss: 0.0908(0.0908) Grad: 9.2327  LR: 0.000001  \n",
      "Epoch: [34][10/19] Elapsed 0m 1s (remain 0m 1s) Loss: 0.0820(0.1036) Grad: 3.3268  LR: 0.000001  \n",
      "Epoch: [34][18/19] Elapsed 0m 2s (remain 0m 0s) Loss: 0.0645(0.0975) Grad: 3.9605  LR: 0.000001  \n",
      "EVAL: [0/3] Elapsed 0m 0s (remain 0m 0s) Loss: 0.4757(0.4757) \n"
     ]
    },
    {
     "name": "stderr",
     "output_type": "stream",
     "text": [
      "Epoch 34 - avg_train_loss: 0.0975  avg_val_loss: 0.3444  time: 3s\n",
      "Epoch 34 - Score: 0.3622\n"
     ]
    },
    {
     "name": "stdout",
     "output_type": "stream",
     "text": [
      "EVAL: [2/3] Elapsed 0m 0s (remain 0m 0s) Loss: 0.2136(0.3444) \n",
      "Epoch: [35][0/19] Elapsed 0m 0s (remain 0m 2s) Loss: 0.0836(0.0836) Grad: 5.9104  LR: 0.000050  \n",
      "Epoch: [35][10/19] Elapsed 0m 1s (remain 0m 1s) Loss: 0.1090(0.1001) Grad: 5.5656  LR: 0.000050  \n",
      "Epoch: [35][18/19] Elapsed 0m 2s (remain 0m 0s) Loss: 0.0933(0.0951) Grad: 6.3729  LR: 0.000050  \n",
      "EVAL: [0/3] Elapsed 0m 0s (remain 0m 0s) Loss: 0.4756(0.4756) \n"
     ]
    },
    {
     "name": "stderr",
     "output_type": "stream",
     "text": [
      "Epoch 35 - avg_train_loss: 0.0951  avg_val_loss: 0.3457  time: 3s\n",
      "Epoch 35 - Score: 0.3637\n"
     ]
    },
    {
     "name": "stdout",
     "output_type": "stream",
     "text": [
      "EVAL: [2/3] Elapsed 0m 0s (remain 0m 0s) Loss: 0.1967(0.3457) \n",
      "Epoch: [36][0/19] Elapsed 0m 0s (remain 0m 2s) Loss: 0.0800(0.0800) Grad: 4.2331  LR: 0.000224  \n",
      "Epoch: [36][10/19] Elapsed 0m 1s (remain 0m 1s) Loss: 0.0934(0.1126) Grad: 7.8990  LR: 0.000224  \n",
      "Epoch: [36][18/19] Elapsed 0m 2s (remain 0m 0s) Loss: 0.1518(0.1180) Grad: 22.7086  LR: 0.000224  \n",
      "EVAL: [0/3] Elapsed 0m 0s (remain 0m 0s) Loss: 0.4609(0.4609) \n"
     ]
    },
    {
     "name": "stderr",
     "output_type": "stream",
     "text": [
      "Epoch 36 - avg_train_loss: 0.1180  avg_val_loss: 0.3613  time: 3s\n",
      "Epoch 36 - Score: 0.3738\n"
     ]
    },
    {
     "name": "stdout",
     "output_type": "stream",
     "text": [
      "EVAL: [2/3] Elapsed 0m 0s (remain 0m 0s) Loss: 0.1960(0.3613) \n",
      "Epoch: [37][0/19] Elapsed 0m 0s (remain 0m 2s) Loss: 0.1055(0.1055) Grad: 3.3296  LR: 0.000133  \n",
      "Epoch: [37][10/19] Elapsed 0m 1s (remain 0m 1s) Loss: 0.1710(0.1510) Grad: 14.9593  LR: 0.000133  \n",
      "Epoch: [37][18/19] Elapsed 0m 2s (remain 0m 0s) Loss: 0.1589(0.1502) Grad: 19.7076  LR: 0.000133  \n",
      "EVAL: [0/3] Elapsed 0m 0s (remain 0m 0s) Loss: 0.4976(0.4976) \n"
     ]
    },
    {
     "name": "stderr",
     "output_type": "stream",
     "text": [
      "Epoch 37 - avg_train_loss: 0.1502  avg_val_loss: 0.3604  time: 3s\n",
      "Epoch 37 - Score: 0.3793\n"
     ]
    },
    {
     "name": "stdout",
     "output_type": "stream",
     "text": [
      "EVAL: [2/3] Elapsed 0m 0s (remain 0m 0s) Loss: 0.2133(0.3604) \n",
      "Epoch: [38][0/19] Elapsed 0m 0s (remain 0m 2s) Loss: 0.1447(0.1447) Grad: 4.6437  LR: 0.000057  \n",
      "Epoch: [38][10/19] Elapsed 0m 1s (remain 0m 1s) Loss: 0.1845(0.1353) Grad: 18.1152  LR: 0.000057  \n",
      "Epoch: [38][18/19] Elapsed 0m 2s (remain 0m 0s) Loss: 0.1481(0.1489) Grad: 3.9316  LR: 0.000057  \n",
      "EVAL: [0/3] Elapsed 0m 0s (remain 0m 0s) Loss: 0.4837(0.4837) \n"
     ]
    },
    {
     "name": "stderr",
     "output_type": "stream",
     "text": [
      "Epoch 38 - avg_train_loss: 0.1489  avg_val_loss: 0.3729  time: 3s\n",
      "Epoch 38 - Score: 0.3859\n"
     ]
    },
    {
     "name": "stdout",
     "output_type": "stream",
     "text": [
      "EVAL: [2/3] Elapsed 0m 0s (remain 0m 0s) Loss: 0.2237(0.3729) \n",
      "Epoch: [39][0/19] Elapsed 0m 0s (remain 0m 2s) Loss: 0.1686(0.1686) Grad: 8.7165  LR: 0.000009  \n",
      "Epoch: [39][10/19] Elapsed 0m 1s (remain 0m 1s) Loss: 0.0829(0.1087) Grad: 9.5538  LR: 0.000009  \n",
      "Epoch: [39][18/19] Elapsed 0m 2s (remain 0m 0s) Loss: 0.1038(0.1055) Grad: 6.0642  LR: 0.000009  \n",
      "EVAL: [0/3] Elapsed 0m 0s (remain 0m 0s) Loss: 0.4455(0.4455) \n"
     ]
    },
    {
     "name": "stderr",
     "output_type": "stream",
     "text": [
      "Epoch 39 - avg_train_loss: 0.1055  avg_val_loss: 0.3306  time: 3s\n",
      "Epoch 39 - Score: 0.3461\n",
      "Epoch 39 - Save Best Score: 0.3461 Model\n"
     ]
    },
    {
     "name": "stdout",
     "output_type": "stream",
     "text": [
      "EVAL: [2/3] Elapsed 0m 0s (remain 0m 0s) Loss: 0.1814(0.3306) \n",
      "Epoch: [40][0/19] Elapsed 0m 0s (remain 0m 2s) Loss: 0.0849(0.0849) Grad: 14.0593  LR: 0.000001  \n",
      "Epoch: [40][10/19] Elapsed 0m 1s (remain 0m 1s) Loss: 0.0893(0.0933) Grad: 5.8278  LR: 0.000001  \n",
      "Epoch: [40][18/19] Elapsed 0m 2s (remain 0m 0s) Loss: 0.0952(0.0919) Grad: 2.3840  LR: 0.000001  \n",
      "EVAL: [0/3] Elapsed 0m 0s (remain 0m 0s) Loss: 0.4716(0.4716) \n"
     ]
    },
    {
     "name": "stderr",
     "output_type": "stream",
     "text": [
      "Epoch 40 - avg_train_loss: 0.0919  avg_val_loss: 0.3486  time: 3s\n",
      "Epoch 40 - Score: 0.3649\n",
      "========== fold: 0 result ==========\n",
      "Score: 0.3461\n",
      "========== fold: 1 training ==========\n"
     ]
    },
    {
     "name": "stdout",
     "output_type": "stream",
     "text": [
      "EVAL: [2/3] Elapsed 0m 0s (remain 0m 0s) Loss: 0.2009(0.3486) \n",
      "Epoch: [1][0/19] Elapsed 0m 0s (remain 0m 2s) Loss: 3.4232(3.4232) Grad: 24.9806  LR: 0.000100  \n",
      "Epoch: [1][10/19] Elapsed 0m 1s (remain 0m 1s) Loss: 0.7689(1.5669) Grad: 25.3159  LR: 0.000100  \n",
      "Epoch: [1][18/19] Elapsed 0m 2s (remain 0m 0s) Loss: 0.6355(1.2021) Grad: 29.2301  LR: 0.000100  \n",
      "EVAL: [0/3] Elapsed 0m 0s (remain 0m 0s) Loss: 0.6066(0.6066) \n"
     ]
    },
    {
     "name": "stderr",
     "output_type": "stream",
     "text": [
      "Epoch 1 - avg_train_loss: 1.2021  avg_val_loss: 0.5529  time: 4s\n",
      "Epoch 1 - Score: 0.5581\n",
      "Epoch 1 - Save Best Score: 0.5581 Model\n"
     ]
    },
    {
     "name": "stdout",
     "output_type": "stream",
     "text": [
      "EVAL: [2/3] Elapsed 0m 0s (remain 0m 0s) Loss: 0.3899(0.5529) \n",
      "Epoch: [2][0/19] Elapsed 0m 0s (remain 0m 2s) Loss: 0.3644(0.3644) Grad: 3.7453  LR: 0.000057  \n",
      "Epoch: [2][10/19] Elapsed 0m 1s (remain 0m 1s) Loss: 0.5139(0.4740) Grad: 8.1280  LR: 0.000057  \n",
      "Epoch: [2][18/19] Elapsed 0m 2s (remain 0m 0s) Loss: 0.5140(0.4631) Grad: 16.3926  LR: 0.000057  \n",
      "EVAL: [0/3] Elapsed 0m 0s (remain 0m 0s) Loss: 0.5633(0.5633) \n"
     ]
    },
    {
     "name": "stderr",
     "output_type": "stream",
     "text": [
      "Epoch 2 - avg_train_loss: 0.4631  avg_val_loss: 0.5156  time: 4s\n",
      "Epoch 2 - Score: 0.5192\n",
      "Epoch 2 - Save Best Score: 0.5192 Model\n"
     ]
    },
    {
     "name": "stdout",
     "output_type": "stream",
     "text": [
      "EVAL: [2/3] Elapsed 0m 0s (remain 0m 0s) Loss: 0.3877(0.5156) \n",
      "Epoch: [3][0/19] Elapsed 0m 0s (remain 0m 2s) Loss: 0.4451(0.4451) Grad: 23.9298  LR: 0.000009  \n",
      "Epoch: [3][10/19] Elapsed 0m 1s (remain 0m 1s) Loss: 0.3522(0.3948) Grad: 4.8733  LR: 0.000009  \n",
      "Epoch: [3][18/19] Elapsed 0m 2s (remain 0m 0s) Loss: 0.2895(0.3719) Grad: 7.2982  LR: 0.000009  \n",
      "EVAL: [0/3] Elapsed 0m 0s (remain 0m 0s) Loss: 0.4337(0.4337) \n"
     ]
    },
    {
     "name": "stderr",
     "output_type": "stream",
     "text": [
      "Epoch 3 - avg_train_loss: 0.3719  avg_val_loss: 0.3812  time: 4s\n",
      "Epoch 3 - Score: 0.3874\n",
      "Epoch 3 - Save Best Score: 0.3874 Model\n"
     ]
    },
    {
     "name": "stdout",
     "output_type": "stream",
     "text": [
      "EVAL: [2/3] Elapsed 0m 0s (remain 0m 0s) Loss: 0.2347(0.3812) \n",
      "Epoch: [4][0/19] Elapsed 0m 0s (remain 0m 2s) Loss: 0.3162(0.3162) Grad: 16.6259  LR: 0.000001  \n",
      "Epoch: [4][10/19] Elapsed 0m 1s (remain 0m 1s) Loss: 0.3499(0.3216) Grad: 5.7846  LR: 0.000001  \n",
      "Epoch: [4][18/19] Elapsed 0m 2s (remain 0m 0s) Loss: 0.2853(0.3328) Grad: 8.0260  LR: 0.000001  \n",
      "EVAL: [0/3] Elapsed 0m 0s (remain 0m 0s) Loss: 0.4144(0.4144) \n"
     ]
    },
    {
     "name": "stderr",
     "output_type": "stream",
     "text": [
      "Epoch 4 - avg_train_loss: 0.3328  avg_val_loss: 0.3785  time: 4s\n",
      "Epoch 4 - Score: 0.3852\n",
      "Epoch 4 - Save Best Score: 0.3852 Model\n"
     ]
    },
    {
     "name": "stdout",
     "output_type": "stream",
     "text": [
      "EVAL: [2/3] Elapsed 0m 0s (remain 0m 0s) Loss: 0.2201(0.3785) \n",
      "Epoch: [5][0/19] Elapsed 0m 0s (remain 0m 2s) Loss: 0.3120(0.3120) Grad: 5.9733  LR: 0.000050  \n",
      "Epoch: [5][10/19] Elapsed 0m 1s (remain 0m 1s) Loss: 0.3888(0.3333) Grad: 23.3125  LR: 0.000050  \n",
      "Epoch: [5][18/19] Elapsed 0m 2s (remain 0m 0s) Loss: 0.3507(0.3344) Grad: 7.1423  LR: 0.000050  \n",
      "EVAL: [0/3] Elapsed 0m 0s (remain 0m 0s) Loss: 0.3977(0.3977) \n"
     ]
    },
    {
     "name": "stderr",
     "output_type": "stream",
     "text": [
      "Epoch 5 - avg_train_loss: 0.3344  avg_val_loss: 0.3735  time: 4s\n",
      "Epoch 5 - Score: 0.3778\n",
      "Epoch 5 - Save Best Score: 0.3778 Model\n"
     ]
    },
    {
     "name": "stdout",
     "output_type": "stream",
     "text": [
      "EVAL: [2/3] Elapsed 0m 0s (remain 0m 0s) Loss: 0.2473(0.3735) \n",
      "Epoch: [6][0/19] Elapsed 0m 0s (remain 0m 2s) Loss: 0.2922(0.2922) Grad: 17.4422  LR: 0.000224  \n",
      "Epoch: [6][10/19] Elapsed 0m 1s (remain 0m 1s) Loss: 0.4343(0.3830) Grad: 16.7834  LR: 0.000224  \n",
      "Epoch: [6][18/19] Elapsed 0m 2s (remain 0m 0s) Loss: 0.3102(0.3750) Grad: 11.8410  LR: 0.000224  \n",
      "EVAL: [0/3] Elapsed 0m 0s (remain 0m 0s) Loss: 0.4213(0.4213) \n"
     ]
    },
    {
     "name": "stderr",
     "output_type": "stream",
     "text": [
      "Epoch 6 - avg_train_loss: 0.3750  avg_val_loss: 0.4071  time: 4s\n",
      "Epoch 6 - Score: 0.4086\n"
     ]
    },
    {
     "name": "stdout",
     "output_type": "stream",
     "text": [
      "EVAL: [2/3] Elapsed 0m 0s (remain 0m 0s) Loss: 0.3286(0.4071) \n",
      "Epoch: [7][0/19] Elapsed 0m 0s (remain 0m 2s) Loss: 0.2407(0.2407) Grad: 10.5855  LR: 0.000133  \n",
      "Epoch: [7][10/19] Elapsed 0m 1s (remain 0m 1s) Loss: 0.3534(0.2922) Grad: 8.7115  LR: 0.000133  \n",
      "Epoch: [7][18/19] Elapsed 0m 2s (remain 0m 0s) Loss: 0.2593(0.2966) Grad: 4.3581  LR: 0.000133  \n",
      "EVAL: [0/3] Elapsed 0m 0s (remain 0m 0s) Loss: 0.4515(0.4515) \n"
     ]
    },
    {
     "name": "stderr",
     "output_type": "stream",
     "text": [
      "Epoch 7 - avg_train_loss: 0.2966  avg_val_loss: 0.3970  time: 4s\n",
      "Epoch 7 - Score: 0.4004\n"
     ]
    },
    {
     "name": "stdout",
     "output_type": "stream",
     "text": [
      "EVAL: [2/3] Elapsed 0m 0s (remain 0m 0s) Loss: 0.3076(0.3970) \n",
      "Epoch: [8][0/19] Elapsed 0m 0s (remain 0m 2s) Loss: 0.2433(0.2433) Grad: 17.1854  LR: 0.000057  \n",
      "Epoch: [8][10/19] Elapsed 0m 1s (remain 0m 1s) Loss: 0.4754(0.3174) Grad: 27.8804  LR: 0.000057  \n",
      "Epoch: [8][18/19] Elapsed 0m 2s (remain 0m 0s) Loss: 0.3533(0.3329) Grad: 18.8301  LR: 0.000057  \n",
      "EVAL: [0/3] Elapsed 0m 0s (remain 0m 0s) Loss: 0.4243(0.4243) \n"
     ]
    },
    {
     "name": "stderr",
     "output_type": "stream",
     "text": [
      "Epoch 8 - avg_train_loss: 0.3329  avg_val_loss: 0.3727  time: 4s\n",
      "Epoch 8 - Score: 0.3785\n"
     ]
    },
    {
     "name": "stdout",
     "output_type": "stream",
     "text": [
      "EVAL: [2/3] Elapsed 0m 0s (remain 0m 0s) Loss: 0.2336(0.3727) \n",
      "Epoch: [9][0/19] Elapsed 0m 0s (remain 0m 2s) Loss: 0.1850(0.1850) Grad: 12.7089  LR: 0.000009  \n",
      "Epoch: [9][10/19] Elapsed 0m 1s (remain 0m 1s) Loss: 0.2655(0.2293) Grad: 6.1154  LR: 0.000009  \n",
      "Epoch: [9][18/19] Elapsed 0m 2s (remain 0m 0s) Loss: 0.2054(0.2202) Grad: 8.9589  LR: 0.000009  \n",
      "EVAL: [0/3] Elapsed 0m 0s (remain 0m 0s) Loss: 0.4048(0.4048) \n"
     ]
    },
    {
     "name": "stderr",
     "output_type": "stream",
     "text": [
      "Epoch 9 - avg_train_loss: 0.2202  avg_val_loss: 0.3520  time: 3s\n",
      "Epoch 9 - Score: 0.3582\n",
      "Epoch 9 - Save Best Score: 0.3582 Model\n"
     ]
    },
    {
     "name": "stdout",
     "output_type": "stream",
     "text": [
      "EVAL: [2/3] Elapsed 0m 0s (remain 0m 0s) Loss: 0.2141(0.3520) \n",
      "Epoch: [10][0/19] Elapsed 0m 0s (remain 0m 2s) Loss: 0.2283(0.2283) Grad: 5.6984  LR: 0.000001  \n",
      "Epoch: [10][10/19] Elapsed 0m 1s (remain 0m 1s) Loss: 0.2194(0.2107) Grad: 3.0693  LR: 0.000001  \n",
      "Epoch: [10][18/19] Elapsed 0m 2s (remain 0m 0s) Loss: 0.1705(0.1978) Grad: 4.2036  LR: 0.000001  \n",
      "EVAL: [0/3] Elapsed 0m 0s (remain 0m 0s) Loss: 0.3800(0.3800) \n"
     ]
    },
    {
     "name": "stderr",
     "output_type": "stream",
     "text": [
      "Epoch 10 - avg_train_loss: 0.1978  avg_val_loss: 0.3259  time: 4s\n",
      "Epoch 10 - Score: 0.3327\n",
      "Epoch 10 - Save Best Score: 0.3327 Model\n"
     ]
    },
    {
     "name": "stdout",
     "output_type": "stream",
     "text": [
      "EVAL: [2/3] Elapsed 0m 0s (remain 0m 0s) Loss: 0.1863(0.3259) \n",
      "Epoch: [11][0/19] Elapsed 0m 0s (remain 0m 2s) Loss: 0.1863(0.1863) Grad: 4.6794  LR: 0.000050  \n",
      "Epoch: [11][10/19] Elapsed 0m 1s (remain 0m 1s) Loss: 0.1667(0.1898) Grad: 9.1528  LR: 0.000050  \n",
      "Epoch: [11][18/19] Elapsed 0m 2s (remain 0m 0s) Loss: 0.1494(0.1822) Grad: 6.9361  LR: 0.000050  \n",
      "EVAL: [0/3] Elapsed 0m 0s (remain 0m 0s) Loss: 0.3735(0.3735) \n"
     ]
    },
    {
     "name": "stderr",
     "output_type": "stream",
     "text": [
      "Epoch 11 - avg_train_loss: 0.1822  avg_val_loss: 0.3186  time: 4s\n",
      "Epoch 11 - Score: 0.3286\n",
      "Epoch 11 - Save Best Score: 0.3286 Model\n"
     ]
    },
    {
     "name": "stdout",
     "output_type": "stream",
     "text": [
      "EVAL: [2/3] Elapsed 0m 0s (remain 0m 0s) Loss: 0.1449(0.3186) \n",
      "Epoch: [12][0/19] Elapsed 0m 0s (remain 0m 2s) Loss: 0.1633(0.1633) Grad: 6.9564  LR: 0.000224  \n",
      "Epoch: [12][10/19] Elapsed 0m 1s (remain 0m 1s) Loss: 0.3109(0.2004) Grad: 21.0310  LR: 0.000224  \n",
      "Epoch: [12][18/19] Elapsed 0m 2s (remain 0m 0s) Loss: 0.1596(0.2059) Grad: 11.1113  LR: 0.000224  \n",
      "EVAL: [0/3] Elapsed 0m 0s (remain 0m 0s) Loss: 0.3694(0.3694) \n"
     ]
    },
    {
     "name": "stderr",
     "output_type": "stream",
     "text": [
      "Epoch 12 - avg_train_loss: 0.2059  avg_val_loss: 0.3209  time: 4s\n",
      "Epoch 12 - Score: 0.3245\n",
      "Epoch 12 - Save Best Score: 0.3245 Model\n"
     ]
    },
    {
     "name": "stdout",
     "output_type": "stream",
     "text": [
      "EVAL: [2/3] Elapsed 0m 0s (remain 0m 0s) Loss: 0.2353(0.3209) \n",
      "Epoch: [13][0/19] Elapsed 0m 0s (remain 0m 2s) Loss: 0.1646(0.1646) Grad: 13.3201  LR: 0.000133  \n",
      "Epoch: [13][10/19] Elapsed 0m 1s (remain 0m 1s) Loss: 0.2995(0.2207) Grad: 20.8920  LR: 0.000133  \n",
      "Epoch: [13][18/19] Elapsed 0m 2s (remain 0m 0s) Loss: 0.1886(0.2330) Grad: 5.3764  LR: 0.000133  \n",
      "EVAL: [0/3] Elapsed 0m 0s (remain 0m 0s) Loss: 0.4510(0.4510) \n"
     ]
    },
    {
     "name": "stderr",
     "output_type": "stream",
     "text": [
      "Epoch 13 - avg_train_loss: 0.2330  avg_val_loss: 0.4707  time: 3s\n",
      "Epoch 13 - Score: 0.4729\n"
     ]
    },
    {
     "name": "stdout",
     "output_type": "stream",
     "text": [
      "EVAL: [2/3] Elapsed 0m 0s (remain 0m 0s) Loss: 0.3981(0.4707) \n",
      "Epoch: [14][0/19] Elapsed 0m 0s (remain 0m 2s) Loss: 0.3804(0.3804) Grad: 24.1868  LR: 0.000057  \n",
      "Epoch: [14][10/19] Elapsed 0m 1s (remain 0m 1s) Loss: 0.3287(0.3222) Grad: 21.1498  LR: 0.000057  \n",
      "Epoch: [14][18/19] Elapsed 0m 2s (remain 0m 0s) Loss: 0.3113(0.2915) Grad: 20.4925  LR: 0.000057  \n",
      "EVAL: [0/3] Elapsed 0m 0s (remain 0m 0s) Loss: 0.4902(0.4902) \n"
     ]
    },
    {
     "name": "stderr",
     "output_type": "stream",
     "text": [
      "Epoch 14 - avg_train_loss: 0.2915  avg_val_loss: 0.4273  time: 3s\n",
      "Epoch 14 - Score: 0.4318\n"
     ]
    },
    {
     "name": "stdout",
     "output_type": "stream",
     "text": [
      "EVAL: [2/3] Elapsed 0m 0s (remain 0m 0s) Loss: 0.3157(0.4273) \n",
      "Epoch: [15][0/19] Elapsed 0m 0s (remain 0m 2s) Loss: 0.3107(0.3107) Grad: 20.3953  LR: 0.000009  \n",
      "Epoch: [15][10/19] Elapsed 0m 1s (remain 0m 1s) Loss: 0.1918(0.2202) Grad: 16.3677  LR: 0.000009  \n",
      "Epoch: [15][18/19] Elapsed 0m 2s (remain 0m 0s) Loss: 0.1585(0.1959) Grad: 11.1915  LR: 0.000009  \n",
      "EVAL: [0/3] Elapsed 0m 0s (remain 0m 0s) Loss: 0.4207(0.4207) \n"
     ]
    },
    {
     "name": "stderr",
     "output_type": "stream",
     "text": [
      "Epoch 15 - avg_train_loss: 0.1959  avg_val_loss: 0.3492  time: 3s\n",
      "Epoch 15 - Score: 0.3564\n"
     ]
    },
    {
     "name": "stdout",
     "output_type": "stream",
     "text": [
      "EVAL: [2/3] Elapsed 0m 0s (remain 0m 0s) Loss: 0.2207(0.3492) \n",
      "Epoch: [16][0/19] Elapsed 0m 0s (remain 0m 2s) Loss: 0.1694(0.1694) Grad: 10.6004  LR: 0.000001  \n",
      "Epoch: [16][10/19] Elapsed 0m 1s (remain 0m 1s) Loss: 0.1409(0.1485) Grad: 3.8454  LR: 0.000001  \n",
      "Epoch: [16][18/19] Elapsed 0m 2s (remain 0m 0s) Loss: 0.1430(0.1475) Grad: 3.4662  LR: 0.000001  \n",
      "EVAL: [0/3] Elapsed 0m 0s (remain 0m 0s) Loss: 0.4111(0.4111) \n"
     ]
    },
    {
     "name": "stderr",
     "output_type": "stream",
     "text": [
      "Epoch 16 - avg_train_loss: 0.1475  avg_val_loss: 0.3432  time: 4s\n",
      "Epoch 16 - Score: 0.3521\n"
     ]
    },
    {
     "name": "stdout",
     "output_type": "stream",
     "text": [
      "EVAL: [2/3] Elapsed 0m 0s (remain 0m 0s) Loss: 0.1839(0.3432) \n",
      "Epoch: [17][0/19] Elapsed 0m 0s (remain 0m 2s) Loss: 0.1883(0.1883) Grad: 6.7462  LR: 0.000050  \n",
      "Epoch: [17][10/19] Elapsed 0m 1s (remain 0m 1s) Loss: 0.1305(0.1464) Grad: 12.4458  LR: 0.000050  \n",
      "Epoch: [17][18/19] Elapsed 0m 2s (remain 0m 0s) Loss: 0.0937(0.1407) Grad: 4.6111  LR: 0.000050  \n",
      "EVAL: [0/3] Elapsed 0m 0s (remain 0m 0s) Loss: 0.3832(0.3832) \n"
     ]
    },
    {
     "name": "stderr",
     "output_type": "stream",
     "text": [
      "Epoch 17 - avg_train_loss: 0.1407  avg_val_loss: 0.3336  time: 4s\n",
      "Epoch 17 - Score: 0.3407\n"
     ]
    },
    {
     "name": "stdout",
     "output_type": "stream",
     "text": [
      "EVAL: [2/3] Elapsed 0m 0s (remain 0m 0s) Loss: 0.1859(0.3336) \n",
      "Epoch: [18][0/19] Elapsed 0m 0s (remain 0m 2s) Loss: 0.1078(0.1078) Grad: 8.6305  LR: 0.000224  \n",
      "Epoch: [18][10/19] Elapsed 0m 1s (remain 0m 1s) Loss: 0.1449(0.1415) Grad: 9.9637  LR: 0.000224  \n",
      "Epoch: [18][18/19] Elapsed 0m 2s (remain 0m 0s) Loss: 0.2258(0.1540) Grad: 12.1104  LR: 0.000224  \n",
      "EVAL: [0/3] Elapsed 0m 0s (remain 0m 0s) Loss: 0.3807(0.3807) \n"
     ]
    },
    {
     "name": "stderr",
     "output_type": "stream",
     "text": [
      "Epoch 18 - avg_train_loss: 0.1540  avg_val_loss: 0.3236  time: 4s\n",
      "Epoch 18 - Score: 0.3328\n"
     ]
    },
    {
     "name": "stdout",
     "output_type": "stream",
     "text": [
      "EVAL: [2/3] Elapsed 0m 0s (remain 0m 0s) Loss: 0.1577(0.3236) \n",
      "Epoch: [19][0/19] Elapsed 0m 0s (remain 0m 2s) Loss: 0.1962(0.1962) Grad: 8.5955  LR: 0.000133  \n",
      "Epoch: [19][10/19] Elapsed 0m 1s (remain 0m 1s) Loss: 0.1522(0.1781) Grad: 5.3384  LR: 0.000133  \n",
      "Epoch: [19][18/19] Elapsed 0m 2s (remain 0m 0s) Loss: 0.2027(0.1808) Grad: 7.5292  LR: 0.000133  \n",
      "EVAL: [0/3] Elapsed 0m 0s (remain 0m 0s) Loss: 0.4106(0.4106) \n"
     ]
    },
    {
     "name": "stderr",
     "output_type": "stream",
     "text": [
      "Epoch 19 - avg_train_loss: 0.1808  avg_val_loss: 0.3411  time: 4s\n",
      "Epoch 19 - Score: 0.3462\n"
     ]
    },
    {
     "name": "stdout",
     "output_type": "stream",
     "text": [
      "EVAL: [2/3] Elapsed 0m 0s (remain 0m 0s) Loss: 0.2801(0.3411) \n",
      "Epoch: [20][0/19] Elapsed 0m 0s (remain 0m 2s) Loss: 0.1989(0.1989) Grad: 16.9746  LR: 0.000057  \n",
      "Epoch: [20][10/19] Elapsed 0m 1s (remain 0m 1s) Loss: 0.1497(0.1925) Grad: 16.6109  LR: 0.000057  \n",
      "Epoch: [20][18/19] Elapsed 0m 2s (remain 0m 0s) Loss: 0.1680(0.1893) Grad: 12.2237  LR: 0.000057  \n",
      "EVAL: [0/3] Elapsed 0m 0s (remain 0m 0s) Loss: 0.4082(0.4082) \n"
     ]
    },
    {
     "name": "stderr",
     "output_type": "stream",
     "text": [
      "Epoch 20 - avg_train_loss: 0.1893  avg_val_loss: 0.3523  time: 3s\n",
      "Epoch 20 - Score: 0.3584\n"
     ]
    },
    {
     "name": "stdout",
     "output_type": "stream",
     "text": [
      "EVAL: [2/3] Elapsed 0m 0s (remain 0m 0s) Loss: 0.2178(0.3523) \n",
      "Epoch: [21][0/19] Elapsed 0m 0s (remain 0m 2s) Loss: 0.1783(0.1783) Grad: 11.2368  LR: 0.000009  \n",
      "Epoch: [21][10/19] Elapsed 0m 1s (remain 0m 1s) Loss: 0.1276(0.1387) Grad: 5.4537  LR: 0.000009  \n",
      "Epoch: [21][18/19] Elapsed 0m 2s (remain 0m 0s) Loss: 0.1646(0.1426) Grad: 7.0938  LR: 0.000009  \n",
      "EVAL: [0/3] Elapsed 0m 0s (remain 0m 0s) Loss: 0.3612(0.3612) \n"
     ]
    },
    {
     "name": "stderr",
     "output_type": "stream",
     "text": [
      "Epoch 21 - avg_train_loss: 0.1426  avg_val_loss: 0.3185  time: 4s\n",
      "Epoch 21 - Score: 0.3259\n"
     ]
    },
    {
     "name": "stdout",
     "output_type": "stream",
     "text": [
      "EVAL: [2/3] Elapsed 0m 0s (remain 0m 0s) Loss: 0.1673(0.3185) \n",
      "Epoch: [22][0/19] Elapsed 0m 0s (remain 0m 2s) Loss: 0.1516(0.1516) Grad: 18.9467  LR: 0.000001  \n",
      "Epoch: [22][10/19] Elapsed 0m 1s (remain 0m 1s) Loss: 0.1248(0.1231) Grad: 5.2654  LR: 0.000001  \n",
      "Epoch: [22][18/19] Elapsed 0m 2s (remain 0m 0s) Loss: 0.1200(0.1178) Grad: 3.9853  LR: 0.000001  \n",
      "EVAL: [0/3] Elapsed 0m 0s (remain 0m 0s) Loss: 0.3520(0.3520) \n"
     ]
    },
    {
     "name": "stderr",
     "output_type": "stream",
     "text": [
      "Epoch 22 - avg_train_loss: 0.1178  avg_val_loss: 0.3001  time: 4s\n",
      "Epoch 22 - Score: 0.3075\n",
      "Epoch 22 - Save Best Score: 0.3075 Model\n"
     ]
    },
    {
     "name": "stdout",
     "output_type": "stream",
     "text": [
      "EVAL: [2/3] Elapsed 0m 0s (remain 0m 0s) Loss: 0.1585(0.3001) \n",
      "Epoch: [23][0/19] Elapsed 0m 0s (remain 0m 2s) Loss: 0.1124(0.1124) Grad: 11.5767  LR: 0.000050  \n",
      "Epoch: [23][10/19] Elapsed 0m 1s (remain 0m 1s) Loss: 0.1397(0.1169) Grad: 18.9703  LR: 0.000050  \n",
      "Epoch: [23][18/19] Elapsed 0m 2s (remain 0m 0s) Loss: 0.1214(0.1159) Grad: 13.1053  LR: 0.000050  \n",
      "EVAL: [0/3] Elapsed 0m 0s (remain 0m 0s) Loss: 0.3636(0.3636) \n"
     ]
    },
    {
     "name": "stderr",
     "output_type": "stream",
     "text": [
      "Epoch 23 - avg_train_loss: 0.1159  avg_val_loss: 0.3216  time: 4s\n",
      "Epoch 23 - Score: 0.3285\n"
     ]
    },
    {
     "name": "stdout",
     "output_type": "stream",
     "text": [
      "EVAL: [2/3] Elapsed 0m 0s (remain 0m 0s) Loss: 0.1744(0.3216) \n",
      "Epoch: [24][0/19] Elapsed 0m 0s (remain 0m 2s) Loss: 0.1037(0.1037) Grad: 6.8369  LR: 0.000224  \n",
      "Epoch: [24][10/19] Elapsed 0m 1s (remain 0m 1s) Loss: 0.1258(0.1271) Grad: 13.4137  LR: 0.000224  \n",
      "Epoch: [24][18/19] Elapsed 0m 2s (remain 0m 0s) Loss: 0.1192(0.1338) Grad: 4.0586  LR: 0.000224  \n",
      "EVAL: [0/3] Elapsed 0m 0s (remain 0m 0s) Loss: 0.3752(0.3752) \n"
     ]
    },
    {
     "name": "stderr",
     "output_type": "stream",
     "text": [
      "Epoch 24 - avg_train_loss: 0.1338  avg_val_loss: 0.3318  time: 4s\n",
      "Epoch 24 - Score: 0.3339\n"
     ]
    },
    {
     "name": "stdout",
     "output_type": "stream",
     "text": [
      "EVAL: [2/3] Elapsed 0m 0s (remain 0m 0s) Loss: 0.2844(0.3318) \n",
      "Epoch: [25][0/19] Elapsed 0m 0s (remain 0m 2s) Loss: 0.1766(0.1766) Grad: 14.7663  LR: 0.000133  \n",
      "Epoch: [25][10/19] Elapsed 0m 1s (remain 0m 1s) Loss: 0.2130(0.1783) Grad: 19.7387  LR: 0.000133  \n",
      "Epoch: [25][18/19] Elapsed 0m 2s (remain 0m 0s) Loss: 0.2187(0.1867) Grad: 22.3590  LR: 0.000133  \n",
      "EVAL: [0/3] Elapsed 0m 0s (remain 0m 0s) Loss: 0.4061(0.4061) \n"
     ]
    },
    {
     "name": "stderr",
     "output_type": "stream",
     "text": [
      "Epoch 25 - avg_train_loss: 0.1867  avg_val_loss: 0.3218  time: 4s\n",
      "Epoch 25 - Score: 0.3347\n"
     ]
    },
    {
     "name": "stdout",
     "output_type": "stream",
     "text": [
      "EVAL: [2/3] Elapsed 0m 0s (remain 0m 0s) Loss: 0.1419(0.3218) \n",
      "Epoch: [26][0/19] Elapsed 0m 0s (remain 0m 2s) Loss: 0.1675(0.1675) Grad: 3.6383  LR: 0.000057  \n",
      "Epoch: [26][10/19] Elapsed 0m 1s (remain 0m 1s) Loss: 0.1347(0.1788) Grad: 10.3116  LR: 0.000057  \n",
      "Epoch: [26][18/19] Elapsed 0m 2s (remain 0m 0s) Loss: 0.2424(0.2003) Grad: 19.6769  LR: 0.000057  \n",
      "EVAL: [0/3] Elapsed 0m 0s (remain 0m 0s) Loss: 0.4013(0.4013) \n"
     ]
    },
    {
     "name": "stderr",
     "output_type": "stream",
     "text": [
      "Epoch 26 - avg_train_loss: 0.2003  avg_val_loss: 0.3279  time: 4s\n",
      "Epoch 26 - Score: 0.3368\n"
     ]
    },
    {
     "name": "stdout",
     "output_type": "stream",
     "text": [
      "EVAL: [2/3] Elapsed 0m 0s (remain 0m 0s) Loss: 0.1820(0.3279) \n",
      "Epoch: [27][0/19] Elapsed 0m 0s (remain 0m 2s) Loss: 0.2116(0.2116) Grad: 10.2048  LR: 0.000009  \n",
      "Epoch: [27][10/19] Elapsed 0m 1s (remain 0m 1s) Loss: 0.0895(0.1462) Grad: 3.7741  LR: 0.000009  \n",
      "Epoch: [27][18/19] Elapsed 0m 2s (remain 0m 0s) Loss: 0.1187(0.1478) Grad: 11.7294  LR: 0.000009  \n",
      "EVAL: [0/3] Elapsed 0m 0s (remain 0m 0s) Loss: 0.3992(0.3992) \n"
     ]
    },
    {
     "name": "stderr",
     "output_type": "stream",
     "text": [
      "Epoch 27 - avg_train_loss: 0.1478  avg_val_loss: 0.3288  time: 4s\n",
      "Epoch 27 - Score: 0.3379\n"
     ]
    },
    {
     "name": "stdout",
     "output_type": "stream",
     "text": [
      "EVAL: [2/3] Elapsed 0m 0s (remain 0m 0s) Loss: 0.1762(0.3288) \n",
      "Epoch: [28][0/19] Elapsed 0m 0s (remain 0m 2s) Loss: 0.1046(0.1046) Grad: 3.9441  LR: 0.000001  \n",
      "Epoch: [28][10/19] Elapsed 0m 1s (remain 0m 1s) Loss: 0.1425(0.1122) Grad: 5.1901  LR: 0.000001  \n",
      "Epoch: [28][18/19] Elapsed 0m 2s (remain 0m 0s) Loss: 0.0989(0.1106) Grad: 5.2389  LR: 0.000001  \n",
      "EVAL: [0/3] Elapsed 0m 0s (remain 0m 0s) Loss: 0.4024(0.4024) \n"
     ]
    },
    {
     "name": "stderr",
     "output_type": "stream",
     "text": [
      "Epoch 28 - avg_train_loss: 0.1106  avg_val_loss: 0.3278  time: 4s\n",
      "Epoch 28 - Score: 0.3395\n"
     ]
    },
    {
     "name": "stdout",
     "output_type": "stream",
     "text": [
      "EVAL: [2/3] Elapsed 0m 0s (remain 0m 0s) Loss: 0.1480(0.3278) \n",
      "Epoch: [29][0/19] Elapsed 0m 0s (remain 0m 2s) Loss: 0.0940(0.0940) Grad: 3.4848  LR: 0.000050  \n",
      "Epoch: [29][10/19] Elapsed 0m 1s (remain 0m 1s) Loss: 0.1071(0.1131) Grad: 7.1953  LR: 0.000050  \n",
      "Epoch: [29][18/19] Elapsed 0m 2s (remain 0m 0s) Loss: 0.0797(0.1034) Grad: 7.7903  LR: 0.000050  \n",
      "EVAL: [0/3] Elapsed 0m 0s (remain 0m 0s) Loss: 0.3701(0.3701) \n"
     ]
    },
    {
     "name": "stderr",
     "output_type": "stream",
     "text": [
      "Epoch 29 - avg_train_loss: 0.1034  avg_val_loss: 0.3139  time: 4s\n",
      "Epoch 29 - Score: 0.3236\n"
     ]
    },
    {
     "name": "stdout",
     "output_type": "stream",
     "text": [
      "EVAL: [2/3] Elapsed 0m 0s (remain 0m 0s) Loss: 0.1456(0.3139) \n",
      "Epoch: [30][0/19] Elapsed 0m 0s (remain 0m 2s) Loss: 0.0777(0.0777) Grad: 4.0948  LR: 0.000224  \n",
      "Epoch: [30][10/19] Elapsed 0m 1s (remain 0m 1s) Loss: 0.0885(0.1033) Grad: 3.4153  LR: 0.000224  \n",
      "Epoch: [30][18/19] Elapsed 0m 2s (remain 0m 0s) Loss: 0.1368(0.1073) Grad: 9.0952  LR: 0.000224  \n",
      "EVAL: [0/3] Elapsed 0m 0s (remain 0m 0s) Loss: 0.3860(0.3860) \n"
     ]
    },
    {
     "name": "stderr",
     "output_type": "stream",
     "text": [
      "Epoch 30 - avg_train_loss: 0.1073  avg_val_loss: 0.3260  time: 4s\n",
      "Epoch 30 - Score: 0.3340\n"
     ]
    },
    {
     "name": "stdout",
     "output_type": "stream",
     "text": [
      "EVAL: [2/3] Elapsed 0m 0s (remain 0m 0s) Loss: 0.1767(0.3260) \n",
      "Epoch: [31][0/19] Elapsed 0m 0s (remain 0m 2s) Loss: 0.1060(0.1060) Grad: 13.6442  LR: 0.000133  \n",
      "Epoch: [31][10/19] Elapsed 0m 1s (remain 0m 1s) Loss: 0.2374(0.1763) Grad: 19.0985  LR: 0.000133  \n",
      "Epoch: [31][18/19] Elapsed 0m 2s (remain 0m 0s) Loss: 0.1692(0.1665) Grad: 13.7668  LR: 0.000133  \n",
      "EVAL: [0/3] Elapsed 0m 0s (remain 0m 0s) Loss: 0.3898(0.3898) \n"
     ]
    },
    {
     "name": "stderr",
     "output_type": "stream",
     "text": [
      "Epoch 31 - avg_train_loss: 0.1665  avg_val_loss: 0.3170  time: 4s\n",
      "Epoch 31 - Score: 0.3259\n"
     ]
    },
    {
     "name": "stdout",
     "output_type": "stream",
     "text": [
      "EVAL: [2/3] Elapsed 0m 0s (remain 0m 0s) Loss: 0.1743(0.3170) \n",
      "Epoch: [32][0/19] Elapsed 0m 0s (remain 0m 2s) Loss: 0.1008(0.1008) Grad: 6.9764  LR: 0.000057  \n",
      "Epoch: [32][10/19] Elapsed 0m 1s (remain 0m 1s) Loss: 0.0829(0.1531) Grad: 4.4540  LR: 0.000057  \n",
      "Epoch: [32][18/19] Elapsed 0m 2s (remain 0m 0s) Loss: 0.1614(0.1600) Grad: 9.6814  LR: 0.000057  \n",
      "EVAL: [0/3] Elapsed 0m 0s (remain 0m 0s) Loss: 0.3892(0.3892) \n"
     ]
    },
    {
     "name": "stderr",
     "output_type": "stream",
     "text": [
      "Epoch 32 - avg_train_loss: 0.1600  avg_val_loss: 0.3217  time: 4s\n",
      "Epoch 32 - Score: 0.3294\n"
     ]
    },
    {
     "name": "stdout",
     "output_type": "stream",
     "text": [
      "EVAL: [2/3] Elapsed 0m 0s (remain 0m 0s) Loss: 0.1885(0.3217) \n",
      "Epoch: [33][0/19] Elapsed 0m 0s (remain 0m 2s) Loss: 0.1406(0.1406) Grad: 12.6562  LR: 0.000009  \n",
      "Epoch: [33][10/19] Elapsed 0m 1s (remain 0m 1s) Loss: 0.0917(0.1220) Grad: 2.9079  LR: 0.000009  \n",
      "Epoch: [33][18/19] Elapsed 0m 2s (remain 0m 0s) Loss: 0.1113(0.1186) Grad: 5.9190  LR: 0.000009  \n",
      "EVAL: [0/3] Elapsed 0m 0s (remain 0m 0s) Loss: 0.3969(0.3969) \n"
     ]
    },
    {
     "name": "stderr",
     "output_type": "stream",
     "text": [
      "Epoch 33 - avg_train_loss: 0.1186  avg_val_loss: 0.3212  time: 4s\n",
      "Epoch 33 - Score: 0.3325\n"
     ]
    },
    {
     "name": "stdout",
     "output_type": "stream",
     "text": [
      "EVAL: [2/3] Elapsed 0m 0s (remain 0m 0s) Loss: 0.1489(0.3212) \n",
      "Epoch: [34][0/19] Elapsed 0m 0s (remain 0m 2s) Loss: 0.0995(0.0995) Grad: 2.7398  LR: 0.000001  \n",
      "Epoch: [34][10/19] Elapsed 0m 1s (remain 0m 1s) Loss: 0.1400(0.1028) Grad: 4.0205  LR: 0.000001  \n",
      "Epoch: [34][18/19] Elapsed 0m 2s (remain 0m 0s) Loss: 0.0767(0.1005) Grad: 7.9355  LR: 0.000001  \n",
      "EVAL: [0/3] Elapsed 0m 0s (remain 0m 0s) Loss: 0.3881(0.3881) \n"
     ]
    },
    {
     "name": "stderr",
     "output_type": "stream",
     "text": [
      "Epoch 34 - avg_train_loss: 0.1005  avg_val_loss: 0.3141  time: 4s\n",
      "Epoch 34 - Score: 0.3263\n"
     ]
    },
    {
     "name": "stdout",
     "output_type": "stream",
     "text": [
      "EVAL: [2/3] Elapsed 0m 0s (remain 0m 0s) Loss: 0.1331(0.3141) \n",
      "Epoch: [35][0/19] Elapsed 0m 0s (remain 0m 2s) Loss: 0.1008(0.1008) Grad: 2.5399  LR: 0.000050  \n",
      "Epoch: [35][10/19] Elapsed 0m 1s (remain 0m 1s) Loss: 0.0981(0.0971) Grad: 2.6727  LR: 0.000050  \n",
      "Epoch: [35][18/19] Elapsed 0m 2s (remain 0m 0s) Loss: 0.0912(0.0983) Grad: 14.1995  LR: 0.000050  \n",
      "EVAL: [0/3] Elapsed 0m 0s (remain 0m 0s) Loss: 0.3933(0.3933) \n"
     ]
    },
    {
     "name": "stderr",
     "output_type": "stream",
     "text": [
      "Epoch 35 - avg_train_loss: 0.0983  avg_val_loss: 0.3207  time: 4s\n",
      "Epoch 35 - Score: 0.3313\n"
     ]
    },
    {
     "name": "stdout",
     "output_type": "stream",
     "text": [
      "EVAL: [2/3] Elapsed 0m 0s (remain 0m 0s) Loss: 0.1534(0.3207) \n",
      "Epoch: [36][0/19] Elapsed 0m 0s (remain 0m 2s) Loss: 0.1051(0.1051) Grad: 12.9242  LR: 0.000224  \n",
      "Epoch: [36][10/19] Elapsed 0m 1s (remain 0m 1s) Loss: 0.1292(0.1046) Grad: 13.0180  LR: 0.000224  \n",
      "Epoch: [36][18/19] Elapsed 0m 2s (remain 0m 0s) Loss: 0.1106(0.1052) Grad: 15.0670  LR: 0.000224  \n",
      "EVAL: [0/3] Elapsed 0m 0s (remain 0m 0s) Loss: 0.3763(0.3763) \n"
     ]
    },
    {
     "name": "stderr",
     "output_type": "stream",
     "text": [
      "Epoch 36 - avg_train_loss: 0.1052  avg_val_loss: 0.3058  time: 4s\n",
      "Epoch 36 - Score: 0.3171\n"
     ]
    },
    {
     "name": "stdout",
     "output_type": "stream",
     "text": [
      "EVAL: [2/3] Elapsed 0m 0s (remain 0m 0s) Loss: 0.1347(0.3058) \n",
      "Epoch: [37][0/19] Elapsed 0m 0s (remain 0m 2s) Loss: 0.1208(0.1208) Grad: 6.8381  LR: 0.000133  \n",
      "Epoch: [37][10/19] Elapsed 0m 1s (remain 0m 1s) Loss: 0.1845(0.1516) Grad: 17.6312  LR: 0.000133  \n",
      "Epoch: [37][18/19] Elapsed 0m 2s (remain 0m 0s) Loss: 0.1927(0.1614) Grad: 16.7877  LR: 0.000133  \n",
      "EVAL: [0/3] Elapsed 0m 0s (remain 0m 0s) Loss: 0.4397(0.4397) \n"
     ]
    },
    {
     "name": "stderr",
     "output_type": "stream",
     "text": [
      "Epoch 37 - avg_train_loss: 0.1614  avg_val_loss: 0.3536  time: 4s\n",
      "Epoch 37 - Score: 0.3677\n"
     ]
    },
    {
     "name": "stdout",
     "output_type": "stream",
     "text": [
      "EVAL: [2/3] Elapsed 0m 0s (remain 0m 0s) Loss: 0.1493(0.3536) \n",
      "Epoch: [38][0/19] Elapsed 0m 0s (remain 0m 2s) Loss: 0.1501(0.1501) Grad: 13.5772  LR: 0.000057  \n",
      "Epoch: [38][10/19] Elapsed 0m 1s (remain 0m 1s) Loss: 0.1437(0.1410) Grad: 14.3718  LR: 0.000057  \n",
      "Epoch: [38][18/19] Elapsed 0m 2s (remain 0m 0s) Loss: 0.0962(0.1407) Grad: 9.2176  LR: 0.000057  \n",
      "EVAL: [0/3] Elapsed 0m 0s (remain 0m 0s) Loss: 0.3844(0.3844) \n"
     ]
    },
    {
     "name": "stderr",
     "output_type": "stream",
     "text": [
      "Epoch 38 - avg_train_loss: 0.1407  avg_val_loss: 0.3096  time: 4s\n",
      "Epoch 38 - Score: 0.3225\n"
     ]
    },
    {
     "name": "stdout",
     "output_type": "stream",
     "text": [
      "EVAL: [2/3] Elapsed 0m 0s (remain 0m 0s) Loss: 0.1244(0.3096) \n",
      "Epoch: [39][0/19] Elapsed 0m 0s (remain 0m 2s) Loss: 0.1086(0.1086) Grad: 6.0229  LR: 0.000009  \n",
      "Epoch: [39][10/19] Elapsed 0m 1s (remain 0m 1s) Loss: 0.0984(0.1164) Grad: 4.4567  LR: 0.000009  \n",
      "Epoch: [39][18/19] Elapsed 0m 2s (remain 0m 0s) Loss: 0.1164(0.1094) Grad: 12.6402  LR: 0.000009  \n",
      "EVAL: [0/3] Elapsed 0m 0s (remain 0m 0s) Loss: 0.3608(0.3608) \n"
     ]
    },
    {
     "name": "stderr",
     "output_type": "stream",
     "text": [
      "Epoch 39 - avg_train_loss: 0.1094  avg_val_loss: 0.3048  time: 4s\n",
      "Epoch 39 - Score: 0.3144\n"
     ]
    },
    {
     "name": "stdout",
     "output_type": "stream",
     "text": [
      "EVAL: [2/3] Elapsed 0m 0s (remain 0m 0s) Loss: 0.1397(0.3048) \n",
      "Epoch: [40][0/19] Elapsed 0m 0s (remain 0m 2s) Loss: 0.1221(0.1221) Grad: 5.9271  LR: 0.000001  \n",
      "Epoch: [40][10/19] Elapsed 0m 1s (remain 0m 1s) Loss: 0.0843(0.0894) Grad: 3.4363  LR: 0.000001  \n",
      "Epoch: [40][18/19] Elapsed 0m 2s (remain 0m 0s) Loss: 0.1072(0.0924) Grad: 10.3125  LR: 0.000001  \n",
      "EVAL: [0/3] Elapsed 0m 0s (remain 0m 0s) Loss: 0.3947(0.3947) \n"
     ]
    },
    {
     "name": "stderr",
     "output_type": "stream",
     "text": [
      "Epoch 40 - avg_train_loss: 0.0924  avg_val_loss: 0.3047  time: 4s\n",
      "Epoch 40 - Score: 0.3192\n",
      "========== fold: 1 result ==========\n",
      "Score: 0.3075\n",
      "========== fold: 2 training ==========\n"
     ]
    },
    {
     "name": "stdout",
     "output_type": "stream",
     "text": [
      "EVAL: [2/3] Elapsed 0m 0s (remain 0m 0s) Loss: 0.1229(0.3047) \n",
      "Epoch: [1][0/19] Elapsed 0m 0s (remain 0m 2s) Loss: 3.4189(3.4189) Grad: 27.9474  LR: 0.000100  \n",
      "Epoch: [1][10/19] Elapsed 0m 1s (remain 0m 1s) Loss: 0.6855(1.4149) Grad: 19.3272  LR: 0.000100  \n",
      "Epoch: [1][18/19] Elapsed 0m 2s (remain 0m 0s) Loss: 0.6206(1.1240) Grad: 16.9682  LR: 0.000100  \n",
      "EVAL: [0/3] Elapsed 0m 0s (remain 0m 0s) Loss: 0.5915(0.5915) \n"
     ]
    },
    {
     "name": "stderr",
     "output_type": "stream",
     "text": [
      "Epoch 1 - avg_train_loss: 1.1240  avg_val_loss: 0.6257  time: 4s\n",
      "Epoch 1 - Score: 0.6264\n",
      "Epoch 1 - Save Best Score: 0.6264 Model\n"
     ]
    },
    {
     "name": "stdout",
     "output_type": "stream",
     "text": [
      "EVAL: [2/3] Elapsed 0m 0s (remain 0m 0s) Loss: 0.6286(0.6257) \n",
      "Epoch: [2][0/19] Elapsed 0m 0s (remain 0m 2s) Loss: 0.5723(0.5723) Grad: 15.9062  LR: 0.000057  \n",
      "Epoch: [2][10/19] Elapsed 0m 1s (remain 0m 1s) Loss: 0.6235(0.6169) Grad: 20.0264  LR: 0.000057  \n",
      "Epoch: [2][18/19] Elapsed 0m 2s (remain 0m 0s) Loss: 0.5750(0.5710) Grad: 17.7544  LR: 0.000057  \n",
      "EVAL: [0/3] Elapsed 0m 0s (remain 0m 0s) Loss: 0.5193(0.5193) \n"
     ]
    },
    {
     "name": "stderr",
     "output_type": "stream",
     "text": [
      "Epoch 2 - avg_train_loss: 0.5710  avg_val_loss: 0.5647  time: 3s\n",
      "Epoch 2 - Score: 0.5667\n",
      "Epoch 2 - Save Best Score: 0.5667 Model\n"
     ]
    },
    {
     "name": "stdout",
     "output_type": "stream",
     "text": [
      "EVAL: [2/3] Elapsed 0m 0s (remain 0m 0s) Loss: 0.5401(0.5647) \n",
      "Epoch: [3][0/19] Elapsed 0m 0s (remain 0m 2s) Loss: 0.5469(0.5469) Grad: 18.1163  LR: 0.000009  \n",
      "Epoch: [3][10/19] Elapsed 0m 1s (remain 0m 1s) Loss: 0.4546(0.4256) Grad: 4.3107  LR: 0.000009  \n",
      "Epoch: [3][18/19] Elapsed 0m 2s (remain 0m 0s) Loss: 0.4706(0.4103) Grad: 9.6890  LR: 0.000009  \n",
      "EVAL: [0/3] Elapsed 0m 0s (remain 0m 0s) Loss: 0.3808(0.3808) \n"
     ]
    },
    {
     "name": "stderr",
     "output_type": "stream",
     "text": [
      "Epoch 3 - avg_train_loss: 0.4103  avg_val_loss: 0.3860  time: 4s\n",
      "Epoch 3 - Score: 0.3864\n",
      "Epoch 3 - Save Best Score: 0.3864 Model\n"
     ]
    },
    {
     "name": "stdout",
     "output_type": "stream",
     "text": [
      "EVAL: [2/3] Elapsed 0m 0s (remain 0m 0s) Loss: 0.3523(0.3860) \n",
      "Epoch: [4][0/19] Elapsed 0m 0s (remain 0m 2s) Loss: 0.5187(0.5187) Grad: 19.8082  LR: 0.000001  \n",
      "Epoch: [4][10/19] Elapsed 0m 1s (remain 0m 1s) Loss: 0.3525(0.3896) Grad: 12.8453  LR: 0.000001  \n",
      "Epoch: [4][18/19] Elapsed 0m 2s (remain 0m 0s) Loss: 0.2943(0.3615) Grad: 3.8101  LR: 0.000001  \n",
      "EVAL: [0/3] Elapsed 0m 0s (remain 0m 0s) Loss: 0.3241(0.3241) \n"
     ]
    },
    {
     "name": "stderr",
     "output_type": "stream",
     "text": [
      "Epoch 4 - avg_train_loss: 0.3615  avg_val_loss: 0.3537  time: 3s\n",
      "Epoch 4 - Score: 0.3594\n",
      "Epoch 4 - Save Best Score: 0.3594 Model\n"
     ]
    },
    {
     "name": "stdout",
     "output_type": "stream",
     "text": [
      "EVAL: [2/3] Elapsed 0m 0s (remain 0m 0s) Loss: 0.2532(0.3537) \n",
      "Epoch: [5][0/19] Elapsed 0m 0s (remain 0m 2s) Loss: 0.3854(0.3854) Grad: 5.3812  LR: 0.000050  \n",
      "Epoch: [5][10/19] Elapsed 0m 1s (remain 0m 1s) Loss: 0.4238(0.4054) Grad: 20.3700  LR: 0.000050  \n",
      "Epoch: [5][18/19] Elapsed 0m 2s (remain 0m 0s) Loss: 0.4096(0.3923) Grad: 12.3495  LR: 0.000050  \n",
      "EVAL: [0/3] Elapsed 0m 0s (remain 0m 0s) Loss: 0.2754(0.2754) \n"
     ]
    },
    {
     "name": "stderr",
     "output_type": "stream",
     "text": [
      "Epoch 5 - avg_train_loss: 0.3923  avg_val_loss: 0.3232  time: 3s\n",
      "Epoch 5 - Score: 0.3291\n",
      "Epoch 5 - Save Best Score: 0.3291 Model\n"
     ]
    },
    {
     "name": "stdout",
     "output_type": "stream",
     "text": [
      "EVAL: [2/3] Elapsed 0m 0s (remain 0m 0s) Loss: 0.2607(0.3232) \n",
      "Epoch: [6][0/19] Elapsed 0m 0s (remain 0m 2s) Loss: 0.2360(0.2360) Grad: 9.9776  LR: 0.000224  \n",
      "Epoch: [6][10/19] Elapsed 0m 1s (remain 0m 1s) Loss: 0.3188(0.4053) Grad: 13.8140  LR: 0.000224  \n",
      "Epoch: [6][18/19] Elapsed 0m 2s (remain 0m 0s) Loss: 0.5072(0.3917) Grad: 15.5056  LR: 0.000224  \n",
      "EVAL: [0/3] Elapsed 0m 0s (remain 0m 0s) Loss: 0.5428(0.5428) \n"
     ]
    },
    {
     "name": "stderr",
     "output_type": "stream",
     "text": [
      "Epoch 6 - avg_train_loss: 0.3917  avg_val_loss: 0.5490  time: 3s\n",
      "Epoch 6 - Score: 0.5499\n"
     ]
    },
    {
     "name": "stdout",
     "output_type": "stream",
     "text": [
      "EVAL: [2/3] Elapsed 0m 0s (remain 0m 0s) Loss: 0.4900(0.5490) \n",
      "Epoch: [7][0/19] Elapsed 0m 0s (remain 0m 2s) Loss: 0.4792(0.4792) Grad: 20.1539  LR: 0.000133  \n",
      "Epoch: [7][10/19] Elapsed 0m 1s (remain 0m 1s) Loss: 0.4799(0.3440) Grad: 4.1540  LR: 0.000133  \n",
      "Epoch: [7][18/19] Elapsed 0m 2s (remain 0m 0s) Loss: 0.3849(0.3280) Grad: 6.2133  LR: 0.000133  \n",
      "EVAL: [0/3] Elapsed 0m 0s (remain 0m 0s) Loss: 0.3220(0.3220) \n"
     ]
    },
    {
     "name": "stderr",
     "output_type": "stream",
     "text": [
      "Epoch 7 - avg_train_loss: 0.3280  avg_val_loss: 0.3556  time: 3s\n",
      "Epoch 7 - Score: 0.3586\n"
     ]
    },
    {
     "name": "stdout",
     "output_type": "stream",
     "text": [
      "EVAL: [2/3] Elapsed 0m 0s (remain 0m 0s) Loss: 0.3051(0.3556) \n",
      "Epoch: [8][0/19] Elapsed 0m 0s (remain 0m 2s) Loss: 0.2756(0.2756) Grad: 20.7837  LR: 0.000057  \n",
      "Epoch: [8][10/19] Elapsed 0m 1s (remain 0m 1s) Loss: 0.2976(0.2817) Grad: 19.9291  LR: 0.000057  \n",
      "Epoch: [8][18/19] Elapsed 0m 2s (remain 0m 0s) Loss: 0.2958(0.2877) Grad: 15.9046  LR: 0.000057  \n",
      "EVAL: [0/3] Elapsed 0m 0s (remain 0m 0s) Loss: 0.2796(0.2796) \n"
     ]
    },
    {
     "name": "stderr",
     "output_type": "stream",
     "text": [
      "Epoch 8 - avg_train_loss: 0.2877  avg_val_loss: 0.2907  time: 3s\n",
      "Epoch 8 - Score: 0.2977\n",
      "Epoch 8 - Save Best Score: 0.2977 Model\n"
     ]
    },
    {
     "name": "stdout",
     "output_type": "stream",
     "text": [
      "EVAL: [2/3] Elapsed 0m 0s (remain 0m 0s) Loss: 0.1688(0.2907) \n",
      "Epoch: [9][0/19] Elapsed 0m 0s (remain 0m 2s) Loss: 0.1874(0.1874) Grad: 5.9416  LR: 0.000009  \n",
      "Epoch: [9][10/19] Elapsed 0m 1s (remain 0m 1s) Loss: 0.1769(0.2073) Grad: 5.8189  LR: 0.000009  \n",
      "Epoch: [9][18/19] Elapsed 0m 2s (remain 0m 0s) Loss: 0.2098(0.2071) Grad: 4.3269  LR: 0.000009  \n",
      "EVAL: [0/3] Elapsed 0m 0s (remain 0m 0s) Loss: 0.2738(0.2738) \n"
     ]
    },
    {
     "name": "stderr",
     "output_type": "stream",
     "text": [
      "Epoch 9 - avg_train_loss: 0.2071  avg_val_loss: 0.2914  time: 3s\n",
      "Epoch 9 - Score: 0.2923\n",
      "Epoch 9 - Save Best Score: 0.2923 Model\n"
     ]
    },
    {
     "name": "stdout",
     "output_type": "stream",
     "text": [
      "EVAL: [2/3] Elapsed 0m 0s (remain 0m 0s) Loss: 0.2650(0.2914) \n",
      "Epoch: [10][0/19] Elapsed 0m 0s (remain 0m 2s) Loss: 0.1885(0.1885) Grad: 5.4874  LR: 0.000001  \n",
      "Epoch: [10][10/19] Elapsed 0m 1s (remain 0m 1s) Loss: 0.1888(0.1617) Grad: 5.8868  LR: 0.000001  \n",
      "Epoch: [10][18/19] Elapsed 0m 2s (remain 0m 0s) Loss: 0.1607(0.1732) Grad: 4.7050  LR: 0.000001  \n",
      "EVAL: [0/3] Elapsed 0m 0s (remain 0m 0s) Loss: 0.2575(0.2575) \n"
     ]
    },
    {
     "name": "stderr",
     "output_type": "stream",
     "text": [
      "Epoch 10 - avg_train_loss: 0.1732  avg_val_loss: 0.2834  time: 3s\n",
      "Epoch 10 - Score: 0.2858\n",
      "Epoch 10 - Save Best Score: 0.2858 Model\n"
     ]
    },
    {
     "name": "stdout",
     "output_type": "stream",
     "text": [
      "EVAL: [2/3] Elapsed 0m 0s (remain 0m 0s) Loss: 0.2418(0.2834) \n",
      "Epoch: [11][0/19] Elapsed 0m 0s (remain 0m 2s) Loss: 0.1542(0.1542) Grad: 10.5244  LR: 0.000050  \n",
      "Epoch: [11][10/19] Elapsed 0m 1s (remain 0m 1s) Loss: 0.1778(0.1848) Grad: 13.8803  LR: 0.000050  \n",
      "Epoch: [11][18/19] Elapsed 0m 2s (remain 0m 0s) Loss: 0.1557(0.1741) Grad: 16.9404  LR: 0.000050  \n",
      "EVAL: [0/3] Elapsed 0m 0s (remain 0m 0s) Loss: 0.2805(0.2805) \n"
     ]
    },
    {
     "name": "stderr",
     "output_type": "stream",
     "text": [
      "Epoch 11 - avg_train_loss: 0.1741  avg_val_loss: 0.2744  time: 4s\n",
      "Epoch 11 - Score: 0.2779\n",
      "Epoch 11 - Save Best Score: 0.2779 Model\n"
     ]
    },
    {
     "name": "stdout",
     "output_type": "stream",
     "text": [
      "EVAL: [2/3] Elapsed 0m 0s (remain 0m 0s) Loss: 0.1800(0.2744) \n",
      "Epoch: [12][0/19] Elapsed 0m 0s (remain 0m 2s) Loss: 0.1680(0.1680) Grad: 5.7757  LR: 0.000224  \n",
      "Epoch: [12][10/19] Elapsed 0m 1s (remain 0m 1s) Loss: 0.2478(0.2039) Grad: 4.5106  LR: 0.000224  \n",
      "Epoch: [12][18/19] Elapsed 0m 2s (remain 0m 0s) Loss: 0.2139(0.2142) Grad: 10.7886  LR: 0.000224  \n",
      "EVAL: [0/3] Elapsed 0m 0s (remain 0m 0s) Loss: 0.2827(0.2827) \n"
     ]
    },
    {
     "name": "stderr",
     "output_type": "stream",
     "text": [
      "Epoch 12 - avg_train_loss: 0.2142  avg_val_loss: 0.2857  time: 3s\n",
      "Epoch 12 - Score: 0.2857\n"
     ]
    },
    {
     "name": "stdout",
     "output_type": "stream",
     "text": [
      "EVAL: [2/3] Elapsed 0m 0s (remain 0m 0s) Loss: 0.2879(0.2857) \n",
      "Epoch: [13][0/19] Elapsed 0m 0s (remain 0m 2s) Loss: 0.2556(0.2556) Grad: 12.6113  LR: 0.000133  \n",
      "Epoch: [13][10/19] Elapsed 0m 1s (remain 0m 1s) Loss: 0.2820(0.2347) Grad: 9.9771  LR: 0.000133  \n",
      "Epoch: [13][18/19] Elapsed 0m 2s (remain 0m 0s) Loss: 0.2999(0.2522) Grad: 10.5284  LR: 0.000133  \n",
      "EVAL: [0/3] Elapsed 0m 0s (remain 0m 0s) Loss: 0.3314(0.3314) \n"
     ]
    },
    {
     "name": "stderr",
     "output_type": "stream",
     "text": [
      "Epoch 13 - avg_train_loss: 0.2522  avg_val_loss: 0.3200  time: 4s\n",
      "Epoch 13 - Score: 0.3208\n"
     ]
    },
    {
     "name": "stdout",
     "output_type": "stream",
     "text": [
      "EVAL: [2/3] Elapsed 0m 0s (remain 0m 0s) Loss: 0.2693(0.3200) \n",
      "Epoch: [14][0/19] Elapsed 0m 0s (remain 0m 2s) Loss: 0.2761(0.2761) Grad: 19.9889  LR: 0.000057  \n",
      "Epoch: [14][10/19] Elapsed 0m 1s (remain 0m 1s) Loss: 0.2235(0.2486) Grad: 18.6506  LR: 0.000057  \n",
      "Epoch: [14][18/19] Elapsed 0m 2s (remain 0m 0s) Loss: 0.1978(0.2374) Grad: 3.4437  LR: 0.000057  \n",
      "EVAL: [0/3] Elapsed 0m 0s (remain 0m 0s) Loss: 0.2972(0.2972) \n"
     ]
    },
    {
     "name": "stderr",
     "output_type": "stream",
     "text": [
      "Epoch 14 - avg_train_loss: 0.2374  avg_val_loss: 0.3358  time: 3s\n",
      "Epoch 14 - Score: 0.3385\n"
     ]
    },
    {
     "name": "stdout",
     "output_type": "stream",
     "text": [
      "EVAL: [2/3] Elapsed 0m 0s (remain 0m 0s) Loss: 0.3078(0.3358) \n",
      "Epoch: [15][0/19] Elapsed 0m 0s (remain 0m 2s) Loss: 0.2379(0.2379) Grad: 12.9706  LR: 0.000009  \n",
      "Epoch: [15][10/19] Elapsed 0m 1s (remain 0m 1s) Loss: 0.2066(0.2191) Grad: 16.4419  LR: 0.000009  \n",
      "Epoch: [15][18/19] Elapsed 0m 2s (remain 0m 0s) Loss: 0.2203(0.2050) Grad: 15.2748  LR: 0.000009  \n",
      "EVAL: [0/3] Elapsed 0m 0s (remain 0m 0s) Loss: 0.2866(0.2866) \n"
     ]
    },
    {
     "name": "stderr",
     "output_type": "stream",
     "text": [
      "Epoch 15 - avg_train_loss: 0.2050  avg_val_loss: 0.3151  time: 4s\n",
      "Epoch 15 - Score: 0.3173\n"
     ]
    },
    {
     "name": "stdout",
     "output_type": "stream",
     "text": [
      "EVAL: [2/3] Elapsed 0m 0s (remain 0m 0s) Loss: 0.2765(0.3151) \n",
      "Epoch: [16][0/19] Elapsed 0m 0s (remain 0m 2s) Loss: 0.2413(0.2413) Grad: 12.7962  LR: 0.000001  \n",
      "Epoch: [16][10/19] Elapsed 0m 1s (remain 0m 1s) Loss: 0.1675(0.1997) Grad: 18.0194  LR: 0.000001  \n",
      "Epoch: [16][18/19] Elapsed 0m 2s (remain 0m 0s) Loss: 0.1251(0.1784) Grad: 9.9496  LR: 0.000001  \n",
      "EVAL: [0/3] Elapsed 0m 0s (remain 0m 0s) Loss: 0.2476(0.2476) \n"
     ]
    },
    {
     "name": "stderr",
     "output_type": "stream",
     "text": [
      "Epoch 16 - avg_train_loss: 0.1784  avg_val_loss: 0.2484  time: 3s\n",
      "Epoch 16 - Score: 0.2509\n",
      "Epoch 16 - Save Best Score: 0.2509 Model\n"
     ]
    },
    {
     "name": "stdout",
     "output_type": "stream",
     "text": [
      "EVAL: [2/3] Elapsed 0m 0s (remain 0m 0s) Loss: 0.1752(0.2484) \n",
      "Epoch: [17][0/19] Elapsed 0m 0s (remain 0m 2s) Loss: 0.1344(0.1344) Grad: 6.8211  LR: 0.000050  \n",
      "Epoch: [17][10/19] Elapsed 0m 1s (remain 0m 1s) Loss: 0.1568(0.1899) Grad: 6.8244  LR: 0.000050  \n",
      "Epoch: [17][18/19] Elapsed 0m 2s (remain 0m 0s) Loss: 0.1079(0.1737) Grad: 3.6149  LR: 0.000050  \n",
      "EVAL: [0/3] Elapsed 0m 0s (remain 0m 0s) Loss: 0.2330(0.2330) \n"
     ]
    },
    {
     "name": "stderr",
     "output_type": "stream",
     "text": [
      "Epoch 17 - avg_train_loss: 0.1737  avg_val_loss: 0.2599  time: 3s\n",
      "Epoch 17 - Score: 0.2626\n"
     ]
    },
    {
     "name": "stdout",
     "output_type": "stream",
     "text": [
      "EVAL: [2/3] Elapsed 0m 0s (remain 0m 0s) Loss: 0.2176(0.2599) \n",
      "Epoch: [18][0/19] Elapsed 0m 0s (remain 0m 2s) Loss: 0.1254(0.1254) Grad: 5.0548  LR: 0.000224  \n",
      "Epoch: [18][10/19] Elapsed 0m 1s (remain 0m 1s) Loss: 0.2053(0.1629) Grad: 14.7071  LR: 0.000224  \n",
      "Epoch: [18][18/19] Elapsed 0m 2s (remain 0m 0s) Loss: 0.1656(0.1663) Grad: 6.7063  LR: 0.000224  \n",
      "EVAL: [0/3] Elapsed 0m 0s (remain 0m 0s) Loss: 0.2471(0.2471) \n"
     ]
    },
    {
     "name": "stderr",
     "output_type": "stream",
     "text": [
      "Epoch 18 - avg_train_loss: 0.1663  avg_val_loss: 0.2639  time: 3s\n",
      "Epoch 18 - Score: 0.2661\n"
     ]
    },
    {
     "name": "stdout",
     "output_type": "stream",
     "text": [
      "EVAL: [2/3] Elapsed 0m 0s (remain 0m 0s) Loss: 0.2112(0.2639) \n",
      "Epoch: [19][0/19] Elapsed 0m 0s (remain 0m 2s) Loss: 0.1594(0.1594) Grad: 17.0515  LR: 0.000133  \n",
      "Epoch: [19][10/19] Elapsed 0m 1s (remain 0m 1s) Loss: 0.1635(0.1623) Grad: 11.7823  LR: 0.000133  \n",
      "Epoch: [19][18/19] Elapsed 0m 2s (remain 0m 0s) Loss: 0.2456(0.1748) Grad: 19.5531  LR: 0.000133  \n",
      "EVAL: [0/3] Elapsed 0m 0s (remain 0m 0s) Loss: 0.2789(0.2789) \n"
     ]
    },
    {
     "name": "stderr",
     "output_type": "stream",
     "text": [
      "Epoch 19 - avg_train_loss: 0.1748  avg_val_loss: 0.2945  time: 3s\n",
      "Epoch 19 - Score: 0.2959\n"
     ]
    },
    {
     "name": "stdout",
     "output_type": "stream",
     "text": [
      "EVAL: [2/3] Elapsed 0m 0s (remain 0m 0s) Loss: 0.2524(0.2945) \n",
      "Epoch: [20][0/19] Elapsed 0m 0s (remain 0m 2s) Loss: 0.1966(0.1966) Grad: 20.7890  LR: 0.000057  \n",
      "Epoch: [20][10/19] Elapsed 0m 1s (remain 0m 1s) Loss: 0.2342(0.2144) Grad: 19.7514  LR: 0.000057  \n",
      "Epoch: [20][18/19] Elapsed 0m 2s (remain 0m 0s) Loss: 0.2289(0.2019) Grad: 19.0173  LR: 0.000057  \n",
      "EVAL: [0/3] Elapsed 0m 0s (remain 0m 0s) Loss: 0.2900(0.2900) \n"
     ]
    },
    {
     "name": "stderr",
     "output_type": "stream",
     "text": [
      "Epoch 20 - avg_train_loss: 0.2019  avg_val_loss: 0.3236  time: 3s\n",
      "Epoch 20 - Score: 0.3250\n"
     ]
    },
    {
     "name": "stdout",
     "output_type": "stream",
     "text": [
      "EVAL: [2/3] Elapsed 0m 0s (remain 0m 0s) Loss: 0.3283(0.3236) \n",
      "Epoch: [21][0/19] Elapsed 0m 0s (remain 0m 2s) Loss: 0.1868(0.1868) Grad: 19.2725  LR: 0.000009  \n",
      "Epoch: [21][10/19] Elapsed 0m 1s (remain 0m 1s) Loss: 0.1478(0.1603) Grad: 9.8428  LR: 0.000009  \n",
      "Epoch: [21][18/19] Elapsed 0m 2s (remain 0m 0s) Loss: 0.1758(0.1519) Grad: 9.2856  LR: 0.000009  \n",
      "EVAL: [0/3] Elapsed 0m 0s (remain 0m 0s) Loss: 0.2178(0.2178) \n"
     ]
    },
    {
     "name": "stderr",
     "output_type": "stream",
     "text": [
      "Epoch 21 - avg_train_loss: 0.1519  avg_val_loss: 0.2537  time: 4s\n",
      "Epoch 21 - Score: 0.2561\n"
     ]
    },
    {
     "name": "stdout",
     "output_type": "stream",
     "text": [
      "EVAL: [2/3] Elapsed 0m 0s (remain 0m 0s) Loss: 0.2425(0.2537) \n",
      "Epoch: [22][0/19] Elapsed 0m 0s (remain 0m 2s) Loss: 0.1129(0.1129) Grad: 4.8225  LR: 0.000001  \n",
      "Epoch: [22][10/19] Elapsed 0m 1s (remain 0m 1s) Loss: 0.1146(0.1206) Grad: 5.6088  LR: 0.000001  \n",
      "Epoch: [22][18/19] Elapsed 0m 2s (remain 0m 0s) Loss: 0.1022(0.1180) Grad: 6.8557  LR: 0.000001  \n",
      "EVAL: [0/3] Elapsed 0m 0s (remain 0m 0s) Loss: 0.2140(0.2140) \n"
     ]
    },
    {
     "name": "stderr",
     "output_type": "stream",
     "text": [
      "Epoch 22 - avg_train_loss: 0.1180  avg_val_loss: 0.2526  time: 3s\n",
      "Epoch 22 - Score: 0.2561\n"
     ]
    },
    {
     "name": "stdout",
     "output_type": "stream",
     "text": [
      "EVAL: [2/3] Elapsed 0m 0s (remain 0m 0s) Loss: 0.2247(0.2526) \n",
      "Epoch: [23][0/19] Elapsed 0m 0s (remain 0m 2s) Loss: 0.0842(0.0842) Grad: 4.1985  LR: 0.000050  \n",
      "Epoch: [23][10/19] Elapsed 0m 1s (remain 0m 1s) Loss: 0.1066(0.1117) Grad: 12.2861  LR: 0.000050  \n",
      "Epoch: [23][18/19] Elapsed 0m 2s (remain 0m 0s) Loss: 0.1342(0.1164) Grad: 9.5540  LR: 0.000050  \n",
      "EVAL: [0/3] Elapsed 0m 0s (remain 0m 0s) Loss: 0.2138(0.2138) \n"
     ]
    },
    {
     "name": "stderr",
     "output_type": "stream",
     "text": [
      "Epoch 23 - avg_train_loss: 0.1164  avg_val_loss: 0.2761  time: 3s\n",
      "Epoch 23 - Score: 0.2821\n"
     ]
    },
    {
     "name": "stdout",
     "output_type": "stream",
     "text": [
      "EVAL: [2/3] Elapsed 0m 0s (remain 0m 0s) Loss: 0.2699(0.2761) \n",
      "Epoch: [24][0/19] Elapsed 0m 0s (remain 0m 2s) Loss: 0.1285(0.1285) Grad: 6.8192  LR: 0.000224  \n",
      "Epoch: [24][10/19] Elapsed 0m 1s (remain 0m 1s) Loss: 0.1388(0.1434) Grad: 17.8862  LR: 0.000224  \n",
      "Epoch: [24][18/19] Elapsed 0m 2s (remain 0m 0s) Loss: 0.0938(0.1339) Grad: 9.6714  LR: 0.000224  \n",
      "EVAL: [0/3] Elapsed 0m 0s (remain 0m 0s) Loss: 0.2322(0.2322) \n"
     ]
    },
    {
     "name": "stderr",
     "output_type": "stream",
     "text": [
      "Epoch 24 - avg_train_loss: 0.1339  avg_val_loss: 0.2924  time: 4s\n",
      "Epoch 24 - Score: 0.2977\n"
     ]
    },
    {
     "name": "stdout",
     "output_type": "stream",
     "text": [
      "EVAL: [2/3] Elapsed 0m 0s (remain 0m 0s) Loss: 0.2879(0.2924) \n",
      "Epoch: [25][0/19] Elapsed 0m 0s (remain 0m 2s) Loss: 0.1374(0.1374) Grad: 15.0132  LR: 0.000133  \n",
      "Epoch: [25][10/19] Elapsed 0m 1s (remain 0m 1s) Loss: 0.1365(0.1618) Grad: 17.6529  LR: 0.000133  \n",
      "Epoch: [25][18/19] Elapsed 0m 2s (remain 0m 0s) Loss: 0.1302(0.1623) Grad: 15.7580  LR: 0.000133  \n",
      "EVAL: [0/3] Elapsed 0m 0s (remain 0m 0s) Loss: 0.2571(0.2571) \n"
     ]
    },
    {
     "name": "stderr",
     "output_type": "stream",
     "text": [
      "Epoch 25 - avg_train_loss: 0.1623  avg_val_loss: 0.2646  time: 3s\n",
      "Epoch 25 - Score: 0.2655\n"
     ]
    },
    {
     "name": "stdout",
     "output_type": "stream",
     "text": [
      "EVAL: [2/3] Elapsed 0m 0s (remain 0m 0s) Loss: 0.2275(0.2646) \n",
      "Epoch: [26][0/19] Elapsed 0m 0s (remain 0m 2s) Loss: 0.1402(0.1402) Grad: 6.7236  LR: 0.000057  \n",
      "Epoch: [26][10/19] Elapsed 0m 1s (remain 0m 1s) Loss: 0.1716(0.1541) Grad: 17.1061  LR: 0.000057  \n",
      "Epoch: [26][18/19] Elapsed 0m 2s (remain 0m 0s) Loss: 0.1351(0.1712) Grad: 5.5824  LR: 0.000057  \n",
      "EVAL: [0/3] Elapsed 0m 0s (remain 0m 0s) Loss: 0.2487(0.2487) \n"
     ]
    },
    {
     "name": "stderr",
     "output_type": "stream",
     "text": [
      "Epoch 26 - avg_train_loss: 0.1712  avg_val_loss: 0.2764  time: 4s\n",
      "Epoch 26 - Score: 0.2781\n"
     ]
    },
    {
     "name": "stdout",
     "output_type": "stream",
     "text": [
      "EVAL: [2/3] Elapsed 0m 0s (remain 0m 0s) Loss: 0.2551(0.2764) \n",
      "Epoch: [27][0/19] Elapsed 0m 0s (remain 0m 2s) Loss: 0.1624(0.1624) Grad: 21.2584  LR: 0.000009  \n",
      "Epoch: [27][10/19] Elapsed 0m 1s (remain 0m 1s) Loss: 0.1595(0.1568) Grad: 14.8596  LR: 0.000009  \n",
      "Epoch: [27][18/19] Elapsed 0m 2s (remain 0m 0s) Loss: 0.1623(0.1507) Grad: 15.1660  LR: 0.000009  \n",
      "EVAL: [0/3] Elapsed 0m 0s (remain 0m 0s) Loss: 0.2351(0.2351) \n"
     ]
    },
    {
     "name": "stderr",
     "output_type": "stream",
     "text": [
      "Epoch 27 - avg_train_loss: 0.1507  avg_val_loss: 0.2499  time: 3s\n",
      "Epoch 27 - Score: 0.2504\n",
      "Epoch 27 - Save Best Score: 0.2504 Model\n"
     ]
    },
    {
     "name": "stdout",
     "output_type": "stream",
     "text": [
      "EVAL: [2/3] Elapsed 0m 0s (remain 0m 0s) Loss: 0.2399(0.2499) \n",
      "Epoch: [28][0/19] Elapsed 0m 0s (remain 0m 2s) Loss: 0.1432(0.1432) Grad: 12.8667  LR: 0.000001  \n",
      "Epoch: [28][10/19] Elapsed 0m 1s (remain 0m 1s) Loss: 0.1116(0.1098) Grad: 2.7051  LR: 0.000001  \n",
      "Epoch: [28][18/19] Elapsed 0m 2s (remain 0m 0s) Loss: 0.0957(0.1086) Grad: 3.7810  LR: 0.000001  \n",
      "EVAL: [0/3] Elapsed 0m 0s (remain 0m 0s) Loss: 0.2287(0.2287) \n"
     ]
    },
    {
     "name": "stderr",
     "output_type": "stream",
     "text": [
      "Epoch 28 - avg_train_loss: 0.1086  avg_val_loss: 0.2626  time: 4s\n",
      "Epoch 28 - Score: 0.2646\n"
     ]
    },
    {
     "name": "stdout",
     "output_type": "stream",
     "text": [
      "EVAL: [2/3] Elapsed 0m 0s (remain 0m 0s) Loss: 0.2569(0.2626) \n",
      "Epoch: [29][0/19] Elapsed 0m 0s (remain 0m 2s) Loss: 0.0848(0.0848) Grad: 2.9631  LR: 0.000050  \n",
      "Epoch: [29][10/19] Elapsed 0m 1s (remain 0m 1s) Loss: 0.1165(0.1071) Grad: 5.2844  LR: 0.000050  \n",
      "Epoch: [29][18/19] Elapsed 0m 2s (remain 0m 0s) Loss: 0.0902(0.1047) Grad: 6.6116  LR: 0.000050  \n",
      "EVAL: [0/3] Elapsed 0m 0s (remain 0m 0s) Loss: 0.2214(0.2214) \n"
     ]
    },
    {
     "name": "stderr",
     "output_type": "stream",
     "text": [
      "Epoch 29 - avg_train_loss: 0.1047  avg_val_loss: 0.2537  time: 4s\n",
      "Epoch 29 - Score: 0.2562\n"
     ]
    },
    {
     "name": "stdout",
     "output_type": "stream",
     "text": [
      "EVAL: [2/3] Elapsed 0m 0s (remain 0m 0s) Loss: 0.2310(0.2537) \n",
      "Epoch: [30][0/19] Elapsed 0m 0s (remain 0m 2s) Loss: 0.1153(0.1153) Grad: 4.2783  LR: 0.000224  \n",
      "Epoch: [30][10/19] Elapsed 0m 1s (remain 0m 1s) Loss: 0.0814(0.1044) Grad: 10.6234  LR: 0.000224  \n",
      "Epoch: [30][18/19] Elapsed 0m 2s (remain 0m 0s) Loss: 0.1181(0.1125) Grad: 7.7773  LR: 0.000224  \n",
      "EVAL: [0/3] Elapsed 0m 0s (remain 0m 0s) Loss: 0.2651(0.2651) \n"
     ]
    },
    {
     "name": "stderr",
     "output_type": "stream",
     "text": [
      "Epoch 30 - avg_train_loss: 0.1125  avg_val_loss: 0.2695  time: 4s\n",
      "Epoch 30 - Score: 0.2702\n"
     ]
    },
    {
     "name": "stdout",
     "output_type": "stream",
     "text": [
      "EVAL: [2/3] Elapsed 0m 0s (remain 0m 0s) Loss: 0.2325(0.2695) \n",
      "Epoch: [31][0/19] Elapsed 0m 0s (remain 0m 2s) Loss: 0.1406(0.1406) Grad: 21.1122  LR: 0.000133  \n",
      "Epoch: [31][10/19] Elapsed 0m 1s (remain 0m 1s) Loss: 0.1170(0.1522) Grad: 2.8496  LR: 0.000133  \n",
      "Epoch: [31][18/19] Elapsed 0m 2s (remain 0m 0s) Loss: 0.1747(0.1747) Grad: 15.2436  LR: 0.000133  \n",
      "EVAL: [0/3] Elapsed 0m 0s (remain 0m 0s) Loss: 0.2306(0.2306) \n"
     ]
    },
    {
     "name": "stderr",
     "output_type": "stream",
     "text": [
      "Epoch 31 - avg_train_loss: 0.1747  avg_val_loss: 0.2662  time: 4s\n",
      "Epoch 31 - Score: 0.2687\n"
     ]
    },
    {
     "name": "stdout",
     "output_type": "stream",
     "text": [
      "EVAL: [2/3] Elapsed 0m 0s (remain 0m 0s) Loss: 0.2497(0.2662) \n",
      "Epoch: [32][0/19] Elapsed 0m 0s (remain 0m 2s) Loss: 0.1625(0.1625) Grad: 5.4715  LR: 0.000057  \n",
      "Epoch: [32][10/19] Elapsed 0m 1s (remain 0m 1s) Loss: 0.1449(0.1532) Grad: 3.0296  LR: 0.000057  \n",
      "Epoch: [32][18/19] Elapsed 0m 2s (remain 0m 0s) Loss: 0.1103(0.1423) Grad: 11.6088  LR: 0.000057  \n",
      "EVAL: [0/3] Elapsed 0m 0s (remain 0m 0s) Loss: 0.2248(0.2248) \n"
     ]
    },
    {
     "name": "stderr",
     "output_type": "stream",
     "text": [
      "Epoch 32 - avg_train_loss: 0.1423  avg_val_loss: 0.2568  time: 3s\n",
      "Epoch 32 - Score: 0.2584\n"
     ]
    },
    {
     "name": "stdout",
     "output_type": "stream",
     "text": [
      "EVAL: [2/3] Elapsed 0m 0s (remain 0m 0s) Loss: 0.2617(0.2568) \n",
      "Epoch: [33][0/19] Elapsed 0m 0s (remain 0m 2s) Loss: 0.1025(0.1025) Grad: 5.9757  LR: 0.000009  \n",
      "Epoch: [33][10/19] Elapsed 0m 1s (remain 0m 1s) Loss: 0.1351(0.1080) Grad: 11.6098  LR: 0.000009  \n",
      "Epoch: [33][18/19] Elapsed 0m 2s (remain 0m 0s) Loss: 0.1285(0.1086) Grad: 11.0391  LR: 0.000009  \n",
      "EVAL: [0/3] Elapsed 0m 0s (remain 0m 0s) Loss: 0.2199(0.2199) \n"
     ]
    },
    {
     "name": "stderr",
     "output_type": "stream",
     "text": [
      "Epoch 33 - avg_train_loss: 0.1086  avg_val_loss: 0.2366  time: 3s\n",
      "Epoch 33 - Score: 0.2372\n",
      "Epoch 33 - Save Best Score: 0.2372 Model\n"
     ]
    },
    {
     "name": "stdout",
     "output_type": "stream",
     "text": [
      "EVAL: [2/3] Elapsed 0m 0s (remain 0m 0s) Loss: 0.2281(0.2366) \n",
      "Epoch: [34][0/19] Elapsed 0m 0s (remain 0m 2s) Loss: 0.0964(0.0964) Grad: 4.1883  LR: 0.000001  \n",
      "Epoch: [34][10/19] Elapsed 0m 1s (remain 0m 1s) Loss: 0.1001(0.0889) Grad: 4.8997  LR: 0.000001  \n",
      "Epoch: [34][18/19] Elapsed 0m 2s (remain 0m 0s) Loss: 0.0871(0.0898) Grad: 5.4642  LR: 0.000001  \n",
      "EVAL: [0/3] Elapsed 0m 0s (remain 0m 0s) Loss: 0.2236(0.2236) \n"
     ]
    },
    {
     "name": "stderr",
     "output_type": "stream",
     "text": [
      "Epoch 34 - avg_train_loss: 0.0898  avg_val_loss: 0.2518  time: 4s\n",
      "Epoch 34 - Score: 0.2537\n"
     ]
    },
    {
     "name": "stdout",
     "output_type": "stream",
     "text": [
      "EVAL: [2/3] Elapsed 0m 0s (remain 0m 0s) Loss: 0.2304(0.2518) \n",
      "Epoch: [35][0/19] Elapsed 0m 0s (remain 0m 2s) Loss: 0.0699(0.0699) Grad: 2.3710  LR: 0.000050  \n",
      "Epoch: [35][10/19] Elapsed 0m 1s (remain 0m 1s) Loss: 0.0944(0.0916) Grad: 5.3695  LR: 0.000050  \n",
      "Epoch: [35][18/19] Elapsed 0m 2s (remain 0m 0s) Loss: 0.0854(0.0912) Grad: 2.7387  LR: 0.000050  \n",
      "EVAL: [0/3] Elapsed 0m 0s (remain 0m 0s) Loss: 0.2054(0.2054) \n"
     ]
    },
    {
     "name": "stderr",
     "output_type": "stream",
     "text": [
      "Epoch 35 - avg_train_loss: 0.0912  avg_val_loss: 0.2388  time: 4s\n",
      "Epoch 35 - Score: 0.2419\n"
     ]
    },
    {
     "name": "stdout",
     "output_type": "stream",
     "text": [
      "EVAL: [2/3] Elapsed 0m 0s (remain 0m 0s) Loss: 0.2085(0.2388) \n",
      "Epoch: [36][0/19] Elapsed 0m 0s (remain 0m 2s) Loss: 0.0889(0.0889) Grad: 4.7166  LR: 0.000224  \n",
      "Epoch: [36][10/19] Elapsed 0m 1s (remain 0m 1s) Loss: 0.1122(0.0897) Grad: 18.3062  LR: 0.000224  \n",
      "Epoch: [36][18/19] Elapsed 0m 2s (remain 0m 0s) Loss: 0.1138(0.0966) Grad: 14.9027  LR: 0.000224  \n",
      "EVAL: [0/3] Elapsed 0m 0s (remain 0m 0s) Loss: 0.2541(0.2541) \n"
     ]
    },
    {
     "name": "stderr",
     "output_type": "stream",
     "text": [
      "Epoch 36 - avg_train_loss: 0.0966  avg_val_loss: 0.2511  time: 4s\n",
      "Epoch 36 - Score: 0.2520\n"
     ]
    },
    {
     "name": "stdout",
     "output_type": "stream",
     "text": [
      "EVAL: [2/3] Elapsed 0m 0s (remain 0m 0s) Loss: 0.2060(0.2511) \n",
      "Epoch: [37][0/19] Elapsed 0m 0s (remain 0m 2s) Loss: 0.1136(0.1136) Grad: 5.1402  LR: 0.000133  \n",
      "Epoch: [37][10/19] Elapsed 0m 1s (remain 0m 1s) Loss: 0.2558(0.1522) Grad: 20.0112  LR: 0.000133  \n",
      "Epoch: [37][18/19] Elapsed 0m 2s (remain 0m 0s) Loss: 0.1584(0.1577) Grad: 12.5551  LR: 0.000133  \n",
      "EVAL: [0/3] Elapsed 0m 0s (remain 0m 0s) Loss: 0.2600(0.2600) \n"
     ]
    },
    {
     "name": "stderr",
     "output_type": "stream",
     "text": [
      "Epoch 37 - avg_train_loss: 0.1577  avg_val_loss: 0.2770  time: 3s\n",
      "Epoch 37 - Score: 0.2775\n"
     ]
    },
    {
     "name": "stdout",
     "output_type": "stream",
     "text": [
      "EVAL: [2/3] Elapsed 0m 0s (remain 0m 0s) Loss: 0.2702(0.2770) \n",
      "Epoch: [38][0/19] Elapsed 0m 0s (remain 0m 2s) Loss: 0.1484(0.1484) Grad: 19.2536  LR: 0.000057  \n",
      "Epoch: [38][10/19] Elapsed 0m 1s (remain 0m 1s) Loss: 0.1401(0.1554) Grad: 9.2281  LR: 0.000057  \n",
      "Epoch: [38][18/19] Elapsed 0m 2s (remain 0m 0s) Loss: 0.2075(0.1619) Grad: 19.0211  LR: 0.000057  \n",
      "EVAL: [0/3] Elapsed 0m 0s (remain 0m 0s) Loss: 0.2322(0.2322) \n"
     ]
    },
    {
     "name": "stderr",
     "output_type": "stream",
     "text": [
      "Epoch 38 - avg_train_loss: 0.1619  avg_val_loss: 0.2579  time: 4s\n",
      "Epoch 38 - Score: 0.2593\n"
     ]
    },
    {
     "name": "stdout",
     "output_type": "stream",
     "text": [
      "EVAL: [2/3] Elapsed 0m 0s (remain 0m 0s) Loss: 0.2442(0.2579) \n",
      "Epoch: [39][0/19] Elapsed 0m 0s (remain 0m 2s) Loss: 0.1198(0.1198) Grad: 2.8689  LR: 0.000009  \n",
      "Epoch: [39][10/19] Elapsed 0m 1s (remain 0m 1s) Loss: 0.1120(0.1231) Grad: 12.1287  LR: 0.000009  \n",
      "Epoch: [39][18/19] Elapsed 0m 2s (remain 0m 0s) Loss: 0.1496(0.1245) Grad: 10.3951  LR: 0.000009  \n",
      "EVAL: [0/3] Elapsed 0m 0s (remain 0m 0s) Loss: 0.2520(0.2520) \n"
     ]
    },
    {
     "name": "stderr",
     "output_type": "stream",
     "text": [
      "Epoch 39 - avg_train_loss: 0.1245  avg_val_loss: 0.2514  time: 4s\n",
      "Epoch 39 - Score: 0.2522\n"
     ]
    },
    {
     "name": "stdout",
     "output_type": "stream",
     "text": [
      "EVAL: [2/3] Elapsed 0m 0s (remain 0m 0s) Loss: 0.2098(0.2514) \n",
      "Epoch: [40][0/19] Elapsed 0m 0s (remain 0m 2s) Loss: 0.1315(0.1315) Grad: 17.3356  LR: 0.000001  \n",
      "Epoch: [40][10/19] Elapsed 0m 1s (remain 0m 1s) Loss: 0.1024(0.1221) Grad: 9.6421  LR: 0.000001  \n",
      "Epoch: [40][18/19] Elapsed 0m 2s (remain 0m 0s) Loss: 0.1089(0.1106) Grad: 7.7939  LR: 0.000001  \n",
      "EVAL: [0/3] Elapsed 0m 0s (remain 0m 0s) Loss: 0.2127(0.2127) \n"
     ]
    },
    {
     "name": "stderr",
     "output_type": "stream",
     "text": [
      "Epoch 40 - avg_train_loss: 0.1106  avg_val_loss: 0.2504  time: 4s\n",
      "Epoch 40 - Score: 0.2544\n",
      "========== fold: 2 result ==========\n",
      "Score: 0.2372\n",
      "========== fold: 3 training ==========\n"
     ]
    },
    {
     "name": "stdout",
     "output_type": "stream",
     "text": [
      "EVAL: [2/3] Elapsed 0m 0s (remain 0m 0s) Loss: 0.2121(0.2504) \n",
      "Epoch: [1][0/19] Elapsed 0m 0s (remain 0m 2s) Loss: 3.5129(3.5129) Grad: 26.5063  LR: 0.000100  \n",
      "Epoch: [1][10/19] Elapsed 0m 1s (remain 0m 1s) Loss: 0.7851(1.6750) Grad: 24.0688  LR: 0.000100  \n",
      "Epoch: [1][18/19] Elapsed 0m 2s (remain 0m 0s) Loss: 0.7422(1.3093) Grad: 19.7517  LR: 0.000100  \n",
      "EVAL: [0/3] Elapsed 0m 0s (remain 0m 0s) Loss: 0.6084(0.6084) \n"
     ]
    },
    {
     "name": "stderr",
     "output_type": "stream",
     "text": [
      "Epoch 1 - avg_train_loss: 1.3093  avg_val_loss: 0.5821  time: 3s\n",
      "Epoch 1 - Score: 0.5887\n",
      "Epoch 1 - Save Best Score: 0.5887 Model\n"
     ]
    },
    {
     "name": "stdout",
     "output_type": "stream",
     "text": [
      "EVAL: [2/3] Elapsed 0m 0s (remain 0m 0s) Loss: 0.7383(0.5821) \n",
      "Epoch: [2][0/19] Elapsed 0m 0s (remain 0m 2s) Loss: 0.5979(0.5979) Grad: 18.7609  LR: 0.000057  \n",
      "Epoch: [2][10/19] Elapsed 0m 1s (remain 0m 1s) Loss: 0.4844(0.4880) Grad: 11.6335  LR: 0.000057  \n",
      "Epoch: [2][18/19] Elapsed 0m 2s (remain 0m 0s) Loss: 0.5280(0.4859) Grad: 19.7967  LR: 0.000057  \n",
      "EVAL: [0/3] Elapsed 0m 0s (remain 0m 0s) Loss: 0.4565(0.4565) \n"
     ]
    },
    {
     "name": "stderr",
     "output_type": "stream",
     "text": [
      "Epoch 2 - avg_train_loss: 0.4859  avg_val_loss: 0.4322  time: 3s\n",
      "Epoch 2 - Score: 0.4338\n",
      "Epoch 2 - Save Best Score: 0.4338 Model\n"
     ]
    },
    {
     "name": "stdout",
     "output_type": "stream",
     "text": [
      "EVAL: [2/3] Elapsed 0m 0s (remain 0m 0s) Loss: 0.3517(0.4322) \n",
      "Epoch: [3][0/19] Elapsed 0m 0s (remain 0m 2s) Loss: 0.4492(0.4492) Grad: 8.9089  LR: 0.000009  \n",
      "Epoch: [3][10/19] Elapsed 0m 1s (remain 0m 1s) Loss: 0.2977(0.3901) Grad: 7.1933  LR: 0.000009  \n",
      "Epoch: [3][18/19] Elapsed 0m 2s (remain 0m 0s) Loss: 0.3682(0.3757) Grad: 9.5111  LR: 0.000009  \n",
      "EVAL: [0/3] Elapsed 0m 0s (remain 0m 0s) Loss: 0.4387(0.4387) \n"
     ]
    },
    {
     "name": "stderr",
     "output_type": "stream",
     "text": [
      "Epoch 3 - avg_train_loss: 0.3757  avg_val_loss: 0.4242  time: 3s\n",
      "Epoch 3 - Score: 0.4257\n",
      "Epoch 3 - Save Best Score: 0.4257 Model\n"
     ]
    },
    {
     "name": "stdout",
     "output_type": "stream",
     "text": [
      "EVAL: [2/3] Elapsed 0m 0s (remain 0m 0s) Loss: 0.4830(0.4242) \n",
      "Epoch: [4][0/19] Elapsed 0m 0s (remain 0m 2s) Loss: 0.3982(0.3982) Grad: 13.0846  LR: 0.000001  \n",
      "Epoch: [4][10/19] Elapsed 0m 1s (remain 0m 1s) Loss: 0.3154(0.3805) Grad: 9.4791  LR: 0.000001  \n",
      "Epoch: [4][18/19] Elapsed 0m 2s (remain 0m 0s) Loss: 0.2763(0.3505) Grad: 4.4450  LR: 0.000001  \n",
      "EVAL: [0/3] Elapsed 0m 0s (remain 0m 0s) Loss: 0.3627(0.3627) \n"
     ]
    },
    {
     "name": "stderr",
     "output_type": "stream",
     "text": [
      "Epoch 4 - avg_train_loss: 0.3505  avg_val_loss: 0.3616  time: 3s\n",
      "Epoch 4 - Score: 0.3616\n",
      "Epoch 4 - Save Best Score: 0.3616 Model\n"
     ]
    },
    {
     "name": "stdout",
     "output_type": "stream",
     "text": [
      "EVAL: [2/3] Elapsed 0m 0s (remain 0m 0s) Loss: 0.3720(0.3616) \n",
      "Epoch: [5][0/19] Elapsed 0m 0s (remain 0m 2s) Loss: 0.2380(0.2380) Grad: 9.2623  LR: 0.000050  \n",
      "Epoch: [5][10/19] Elapsed 0m 1s (remain 0m 1s) Loss: 0.3860(0.3842) Grad: 13.7617  LR: 0.000050  \n",
      "Epoch: [5][18/19] Elapsed 0m 2s (remain 0m 0s) Loss: 0.3653(0.3612) Grad: 3.7929  LR: 0.000050  \n",
      "EVAL: [0/3] Elapsed 0m 0s (remain 0m 0s) Loss: 0.4123(0.4123) \n"
     ]
    },
    {
     "name": "stderr",
     "output_type": "stream",
     "text": [
      "Epoch 5 - avg_train_loss: 0.3612  avg_val_loss: 0.3919  time: 3s\n",
      "Epoch 5 - Score: 0.3943\n"
     ]
    },
    {
     "name": "stdout",
     "output_type": "stream",
     "text": [
      "EVAL: [2/3] Elapsed 0m 0s (remain 0m 0s) Loss: 0.4596(0.3919) \n",
      "Epoch: [6][0/19] Elapsed 0m 0s (remain 0m 2s) Loss: 0.3637(0.3637) Grad: 17.8955  LR: 0.000224  \n",
      "Epoch: [6][10/19] Elapsed 0m 1s (remain 0m 1s) Loss: 0.3806(0.3425) Grad: 19.8995  LR: 0.000224  \n",
      "Epoch: [6][18/19] Elapsed 0m 2s (remain 0m 0s) Loss: 0.3523(0.3488) Grad: 12.1683  LR: 0.000224  \n",
      "EVAL: [0/3] Elapsed 0m 0s (remain 0m 0s) Loss: 0.3833(0.3833) \n"
     ]
    },
    {
     "name": "stderr",
     "output_type": "stream",
     "text": [
      "Epoch 6 - avg_train_loss: 0.3488  avg_val_loss: 0.4040  time: 3s\n",
      "Epoch 6 - Score: 0.4045\n"
     ]
    },
    {
     "name": "stdout",
     "output_type": "stream",
     "text": [
      "EVAL: [2/3] Elapsed 0m 0s (remain 0m 0s) Loss: 0.3995(0.4040) \n",
      "Epoch: [7][0/19] Elapsed 0m 0s (remain 0m 2s) Loss: 0.3683(0.3683) Grad: 15.7702  LR: 0.000133  \n",
      "Epoch: [7][10/19] Elapsed 0m 1s (remain 0m 1s) Loss: 0.2434(0.2821) Grad: 4.2600  LR: 0.000133  \n",
      "Epoch: [7][18/19] Elapsed 0m 2s (remain 0m 0s) Loss: 0.2758(0.2921) Grad: 8.8472  LR: 0.000133  \n",
      "EVAL: [0/3] Elapsed 0m 0s (remain 0m 0s) Loss: 0.3777(0.3777) \n"
     ]
    },
    {
     "name": "stderr",
     "output_type": "stream",
     "text": [
      "Epoch 7 - avg_train_loss: 0.2921  avg_val_loss: 0.3556  time: 4s\n",
      "Epoch 7 - Score: 0.3586\n",
      "Epoch 7 - Save Best Score: 0.3586 Model\n"
     ]
    },
    {
     "name": "stdout",
     "output_type": "stream",
     "text": [
      "EVAL: [2/3] Elapsed 0m 0s (remain 0m 0s) Loss: 0.2523(0.3556) \n",
      "Epoch: [8][0/19] Elapsed 0m 0s (remain 0m 2s) Loss: 0.2550(0.2550) Grad: 4.7962  LR: 0.000057  \n",
      "Epoch: [8][10/19] Elapsed 0m 1s (remain 0m 1s) Loss: 0.3035(0.2579) Grad: 14.6257  LR: 0.000057  \n",
      "Epoch: [8][18/19] Elapsed 0m 2s (remain 0m 0s) Loss: 0.2791(0.2548) Grad: 14.1592  LR: 0.000057  \n",
      "EVAL: [0/3] Elapsed 0m 0s (remain 0m 0s) Loss: 0.3526(0.3526) \n"
     ]
    },
    {
     "name": "stderr",
     "output_type": "stream",
     "text": [
      "Epoch 8 - avg_train_loss: 0.2548  avg_val_loss: 0.3330  time: 3s\n",
      "Epoch 8 - Score: 0.3335\n",
      "Epoch 8 - Save Best Score: 0.3335 Model\n"
     ]
    },
    {
     "name": "stdout",
     "output_type": "stream",
     "text": [
      "EVAL: [2/3] Elapsed 0m 0s (remain 0m 0s) Loss: 0.3039(0.3330) \n",
      "Epoch: [9][0/19] Elapsed 0m 0s (remain 0m 2s) Loss: 0.1780(0.1780) Grad: 4.1685  LR: 0.000009  \n",
      "Epoch: [9][10/19] Elapsed 0m 1s (remain 0m 1s) Loss: 0.2081(0.2199) Grad: 3.5943  LR: 0.000009  \n",
      "Epoch: [9][18/19] Elapsed 0m 2s (remain 0m 0s) Loss: 0.1909(0.2052) Grad: 14.1919  LR: 0.000009  \n",
      "EVAL: [0/3] Elapsed 0m 0s (remain 0m 0s) Loss: 0.3639(0.3639) \n"
     ]
    },
    {
     "name": "stderr",
     "output_type": "stream",
     "text": [
      "Epoch 9 - avg_train_loss: 0.2052  avg_val_loss: 0.3328  time: 3s\n",
      "Epoch 9 - Score: 0.3352\n"
     ]
    },
    {
     "name": "stdout",
     "output_type": "stream",
     "text": [
      "EVAL: [2/3] Elapsed 0m 0s (remain 0m 0s) Loss: 0.3738(0.3328) \n",
      "Epoch: [10][0/19] Elapsed 0m 0s (remain 0m 2s) Loss: 0.2047(0.2047) Grad: 8.6127  LR: 0.000001  \n",
      "Epoch: [10][10/19] Elapsed 0m 1s (remain 0m 1s) Loss: 0.1843(0.1830) Grad: 4.4691  LR: 0.000001  \n",
      "Epoch: [10][18/19] Elapsed 0m 2s (remain 0m 0s) Loss: 0.1957(0.1815) Grad: 7.9233  LR: 0.000001  \n",
      "EVAL: [0/3] Elapsed 0m 0s (remain 0m 0s) Loss: 0.3646(0.3646) \n"
     ]
    },
    {
     "name": "stderr",
     "output_type": "stream",
     "text": [
      "Epoch 10 - avg_train_loss: 0.1815  avg_val_loss: 0.3298  time: 3s\n",
      "Epoch 10 - Score: 0.3311\n",
      "Epoch 10 - Save Best Score: 0.3311 Model\n"
     ]
    },
    {
     "name": "stdout",
     "output_type": "stream",
     "text": [
      "EVAL: [2/3] Elapsed 0m 0s (remain 0m 0s) Loss: 0.3144(0.3298) \n",
      "Epoch: [11][0/19] Elapsed 0m 0s (remain 0m 2s) Loss: 0.2031(0.2031) Grad: 8.9325  LR: 0.000050  \n",
      "Epoch: [11][10/19] Elapsed 0m 1s (remain 0m 1s) Loss: 0.1340(0.1702) Grad: 3.3111  LR: 0.000050  \n",
      "Epoch: [11][18/19] Elapsed 0m 2s (remain 0m 0s) Loss: 0.1266(0.1689) Grad: 6.4544  LR: 0.000050  \n",
      "EVAL: [0/3] Elapsed 0m 0s (remain 0m 0s) Loss: 0.3432(0.3432) \n"
     ]
    },
    {
     "name": "stderr",
     "output_type": "stream",
     "text": [
      "Epoch 11 - avg_train_loss: 0.1689  avg_val_loss: 0.3230  time: 3s\n",
      "Epoch 11 - Score: 0.3235\n",
      "Epoch 11 - Save Best Score: 0.3235 Model\n"
     ]
    },
    {
     "name": "stdout",
     "output_type": "stream",
     "text": [
      "EVAL: [2/3] Elapsed 0m 0s (remain 0m 0s) Loss: 0.3085(0.3230) \n",
      "Epoch: [12][0/19] Elapsed 0m 0s (remain 0m 2s) Loss: 0.1635(0.1635) Grad: 3.9383  LR: 0.000224  \n",
      "Epoch: [12][10/19] Elapsed 0m 1s (remain 0m 1s) Loss: 0.1617(0.2012) Grad: 6.6136  LR: 0.000224  \n",
      "Epoch: [12][18/19] Elapsed 0m 2s (remain 0m 0s) Loss: 0.2120(0.2057) Grad: 14.9965  LR: 0.000224  \n",
      "EVAL: [0/3] Elapsed 0m 0s (remain 0m 0s) Loss: 0.3334(0.3334) \n"
     ]
    },
    {
     "name": "stderr",
     "output_type": "stream",
     "text": [
      "Epoch 12 - avg_train_loss: 0.2057  avg_val_loss: 0.3123  time: 3s\n",
      "Epoch 12 - Score: 0.3128\n",
      "Epoch 12 - Save Best Score: 0.3128 Model\n"
     ]
    },
    {
     "name": "stdout",
     "output_type": "stream",
     "text": [
      "EVAL: [2/3] Elapsed 0m 0s (remain 0m 0s) Loss: 0.2949(0.3123) \n",
      "Epoch: [13][0/19] Elapsed 0m 0s (remain 0m 2s) Loss: 0.1457(0.1457) Grad: 7.0444  LR: 0.000133  \n",
      "Epoch: [13][10/19] Elapsed 0m 1s (remain 0m 1s) Loss: 0.1340(0.1781) Grad: 3.9441  LR: 0.000133  \n",
      "Epoch: [13][18/19] Elapsed 0m 2s (remain 0m 0s) Loss: 0.2593(0.1885) Grad: 17.6379  LR: 0.000133  \n",
      "EVAL: [0/3] Elapsed 0m 0s (remain 0m 0s) Loss: 0.3650(0.3650) \n"
     ]
    },
    {
     "name": "stderr",
     "output_type": "stream",
     "text": [
      "Epoch 13 - avg_train_loss: 0.1885  avg_val_loss: 0.3315  time: 3s\n",
      "Epoch 13 - Score: 0.3327\n"
     ]
    },
    {
     "name": "stdout",
     "output_type": "stream",
     "text": [
      "EVAL: [2/3] Elapsed 0m 0s (remain 0m 0s) Loss: 0.2979(0.3315) \n",
      "Epoch: [14][0/19] Elapsed 0m 0s (remain 0m 2s) Loss: 0.1927(0.1927) Grad: 3.9309  LR: 0.000057  \n",
      "Epoch: [14][10/19] Elapsed 0m 1s (remain 0m 1s) Loss: 0.2043(0.1996) Grad: 4.1902  LR: 0.000057  \n",
      "Epoch: [14][18/19] Elapsed 0m 2s (remain 0m 0s) Loss: 0.2548(0.2165) Grad: 17.7339  LR: 0.000057  \n",
      "EVAL: [0/3] Elapsed 0m 0s (remain 0m 0s) Loss: 0.3425(0.3425) \n"
     ]
    },
    {
     "name": "stderr",
     "output_type": "stream",
     "text": [
      "Epoch 14 - avg_train_loss: 0.2165  avg_val_loss: 0.3296  time: 3s\n",
      "Epoch 14 - Score: 0.3302\n"
     ]
    },
    {
     "name": "stdout",
     "output_type": "stream",
     "text": [
      "EVAL: [2/3] Elapsed 0m 0s (remain 0m 0s) Loss: 0.2856(0.3296) \n",
      "Epoch: [15][0/19] Elapsed 0m 0s (remain 0m 2s) Loss: 0.1726(0.1726) Grad: 6.7374  LR: 0.000009  \n",
      "Epoch: [15][10/19] Elapsed 0m 1s (remain 0m 1s) Loss: 0.1396(0.1745) Grad: 5.2293  LR: 0.000009  \n",
      "Epoch: [15][18/19] Elapsed 0m 2s (remain 0m 0s) Loss: 0.1470(0.1672) Grad: 4.4732  LR: 0.000009  \n",
      "EVAL: [0/3] Elapsed 0m 0s (remain 0m 0s) Loss: 0.3478(0.3478) \n"
     ]
    },
    {
     "name": "stderr",
     "output_type": "stream",
     "text": [
      "Epoch 15 - avg_train_loss: 0.1672  avg_val_loss: 0.3113  time: 3s\n",
      "Epoch 15 - Score: 0.3130\n"
     ]
    },
    {
     "name": "stdout",
     "output_type": "stream",
     "text": [
      "EVAL: [2/3] Elapsed 0m 0s (remain 0m 0s) Loss: 0.3054(0.3113) \n",
      "Epoch: [16][0/19] Elapsed 0m 0s (remain 0m 2s) Loss: 0.1345(0.1345) Grad: 5.3523  LR: 0.000001  \n",
      "Epoch: [16][10/19] Elapsed 0m 1s (remain 0m 1s) Loss: 0.1202(0.1274) Grad: 3.9617  LR: 0.000001  \n",
      "Epoch: [16][18/19] Elapsed 0m 2s (remain 0m 0s) Loss: 0.1039(0.1303) Grad: 6.9585  LR: 0.000001  \n",
      "EVAL: [0/3] Elapsed 0m 0s (remain 0m 0s) Loss: 0.3454(0.3454) \n"
     ]
    },
    {
     "name": "stderr",
     "output_type": "stream",
     "text": [
      "Epoch 16 - avg_train_loss: 0.1303  avg_val_loss: 0.3054  time: 3s\n",
      "Epoch 16 - Score: 0.3073\n",
      "Epoch 16 - Save Best Score: 0.3073 Model\n"
     ]
    },
    {
     "name": "stdout",
     "output_type": "stream",
     "text": [
      "EVAL: [2/3] Elapsed 0m 0s (remain 0m 0s) Loss: 0.2746(0.3054) \n",
      "Epoch: [17][0/19] Elapsed 0m 0s (remain 0m 2s) Loss: 0.1349(0.1349) Grad: 4.6152  LR: 0.000050  \n",
      "Epoch: [17][10/19] Elapsed 0m 1s (remain 0m 1s) Loss: 0.1304(0.1392) Grad: 7.6103  LR: 0.000050  \n",
      "Epoch: [17][18/19] Elapsed 0m 2s (remain 0m 0s) Loss: 0.1401(0.1349) Grad: 6.4480  LR: 0.000050  \n",
      "EVAL: [0/3] Elapsed 0m 0s (remain 0m 0s) Loss: 0.3204(0.3204) \n"
     ]
    },
    {
     "name": "stderr",
     "output_type": "stream",
     "text": [
      "Epoch 17 - avg_train_loss: 0.1349  avg_val_loss: 0.2961  time: 3s\n",
      "Epoch 17 - Score: 0.2972\n",
      "Epoch 17 - Save Best Score: 0.2972 Model\n"
     ]
    },
    {
     "name": "stdout",
     "output_type": "stream",
     "text": [
      "EVAL: [2/3] Elapsed 0m 0s (remain 0m 0s) Loss: 0.2501(0.2961) \n",
      "Epoch: [18][0/19] Elapsed 0m 0s (remain 0m 2s) Loss: 0.1420(0.1420) Grad: 13.3443  LR: 0.000224  \n",
      "Epoch: [18][10/19] Elapsed 0m 1s (remain 0m 1s) Loss: 0.2833(0.1747) Grad: 21.1793  LR: 0.000224  \n",
      "Epoch: [18][18/19] Elapsed 0m 2s (remain 0m 0s) Loss: 0.1515(0.1718) Grad: 3.6270  LR: 0.000224  \n",
      "EVAL: [0/3] Elapsed 0m 0s (remain 0m 0s) Loss: 0.3513(0.3513) \n"
     ]
    },
    {
     "name": "stderr",
     "output_type": "stream",
     "text": [
      "Epoch 18 - avg_train_loss: 0.1718  avg_val_loss: 0.3319  time: 3s\n",
      "Epoch 18 - Score: 0.3336\n"
     ]
    },
    {
     "name": "stdout",
     "output_type": "stream",
     "text": [
      "EVAL: [2/3] Elapsed 0m 0s (remain 0m 0s) Loss: 0.2563(0.3319) \n",
      "Epoch: [19][0/19] Elapsed 0m 0s (remain 0m 2s) Loss: 0.1774(0.1774) Grad: 17.6365  LR: 0.000133  \n",
      "Epoch: [19][10/19] Elapsed 0m 1s (remain 0m 1s) Loss: 0.1908(0.1953) Grad: 4.2477  LR: 0.000133  \n",
      "Epoch: [19][18/19] Elapsed 0m 2s (remain 0m 0s) Loss: 0.2110(0.2024) Grad: 10.4193  LR: 0.000133  \n",
      "EVAL: [0/3] Elapsed 0m 0s (remain 0m 0s) Loss: 0.3859(0.3859) \n"
     ]
    },
    {
     "name": "stderr",
     "output_type": "stream",
     "text": [
      "Epoch 19 - avg_train_loss: 0.2024  avg_val_loss: 0.3480  time: 3s\n",
      "Epoch 19 - Score: 0.3510\n"
     ]
    },
    {
     "name": "stdout",
     "output_type": "stream",
     "text": [
      "EVAL: [2/3] Elapsed 0m 0s (remain 0m 0s) Loss: 0.2547(0.3480) \n",
      "Epoch: [20][0/19] Elapsed 0m 0s (remain 0m 2s) Loss: 0.2939(0.2939) Grad: 18.1356  LR: 0.000057  \n",
      "Epoch: [20][10/19] Elapsed 0m 1s (remain 0m 1s) Loss: 0.1616(0.2093) Grad: 15.5128  LR: 0.000057  \n",
      "Epoch: [20][18/19] Elapsed 0m 2s (remain 0m 0s) Loss: 0.2330(0.2049) Grad: 7.7238  LR: 0.000057  \n",
      "EVAL: [0/3] Elapsed 0m 0s (remain 0m 0s) Loss: 0.3671(0.3671) \n"
     ]
    },
    {
     "name": "stderr",
     "output_type": "stream",
     "text": [
      "Epoch 20 - avg_train_loss: 0.2049  avg_val_loss: 0.3246  time: 3s\n",
      "Epoch 20 - Score: 0.3268\n"
     ]
    },
    {
     "name": "stdout",
     "output_type": "stream",
     "text": [
      "EVAL: [2/3] Elapsed 0m 0s (remain 0m 0s) Loss: 0.2685(0.3246) \n",
      "Epoch: [21][0/19] Elapsed 0m 0s (remain 0m 2s) Loss: 0.1846(0.1846) Grad: 6.9356  LR: 0.000009  \n",
      "Epoch: [21][10/19] Elapsed 0m 1s (remain 0m 1s) Loss: 0.1784(0.1429) Grad: 3.9243  LR: 0.000009  \n",
      "Epoch: [21][18/19] Elapsed 0m 2s (remain 0m 0s) Loss: 0.1238(0.1391) Grad: 8.7669  LR: 0.000009  \n",
      "EVAL: [0/3] Elapsed 0m 0s (remain 0m 0s) Loss: 0.3379(0.3379) \n"
     ]
    },
    {
     "name": "stderr",
     "output_type": "stream",
     "text": [
      "Epoch 21 - avg_train_loss: 0.1391  avg_val_loss: 0.2968  time: 3s\n",
      "Epoch 21 - Score: 0.2989\n"
     ]
    },
    {
     "name": "stdout",
     "output_type": "stream",
     "text": [
      "EVAL: [2/3] Elapsed 0m 0s (remain 0m 0s) Loss: 0.2544(0.2968) \n",
      "Epoch: [22][0/19] Elapsed 0m 0s (remain 0m 2s) Loss: 0.1439(0.1439) Grad: 7.7721  LR: 0.000001  \n",
      "Epoch: [22][10/19] Elapsed 0m 1s (remain 0m 1s) Loss: 0.0937(0.1244) Grad: 3.2727  LR: 0.000001  \n",
      "Epoch: [22][18/19] Elapsed 0m 2s (remain 0m 0s) Loss: 0.1001(0.1162) Grad: 6.3358  LR: 0.000001  \n",
      "EVAL: [0/3] Elapsed 0m 0s (remain 0m 0s) Loss: 0.3575(0.3575) \n"
     ]
    },
    {
     "name": "stderr",
     "output_type": "stream",
     "text": [
      "Epoch 22 - avg_train_loss: 0.1162  avg_val_loss: 0.3025  time: 3s\n",
      "Epoch 22 - Score: 0.3061\n"
     ]
    },
    {
     "name": "stdout",
     "output_type": "stream",
     "text": [
      "EVAL: [2/3] Elapsed 0m 0s (remain 0m 0s) Loss: 0.2531(0.3025) \n",
      "Epoch: [23][0/19] Elapsed 0m 0s (remain 0m 2s) Loss: 0.1219(0.1219) Grad: 3.2634  LR: 0.000050  \n",
      "Epoch: [23][10/19] Elapsed 0m 1s (remain 0m 1s) Loss: 0.1140(0.1174) Grad: 9.8966  LR: 0.000050  \n",
      "Epoch: [23][18/19] Elapsed 0m 2s (remain 0m 0s) Loss: 0.1161(0.1177) Grad: 3.4456  LR: 0.000050  \n",
      "EVAL: [0/3] Elapsed 0m 0s (remain 0m 0s) Loss: 0.3334(0.3334) \n"
     ]
    },
    {
     "name": "stderr",
     "output_type": "stream",
     "text": [
      "Epoch 23 - avg_train_loss: 0.1177  avg_val_loss: 0.3028  time: 3s\n",
      "Epoch 23 - Score: 0.3039\n"
     ]
    },
    {
     "name": "stdout",
     "output_type": "stream",
     "text": [
      "EVAL: [2/3] Elapsed 0m 0s (remain 0m 0s) Loss: 0.2670(0.3028) \n",
      "Epoch: [24][0/19] Elapsed 0m 0s (remain 0m 2s) Loss: 0.1217(0.1217) Grad: 14.9117  LR: 0.000224  \n",
      "Epoch: [24][10/19] Elapsed 0m 1s (remain 0m 1s) Loss: 0.1250(0.1238) Grad: 4.2307  LR: 0.000224  \n",
      "Epoch: [24][18/19] Elapsed 0m 2s (remain 0m 0s) Loss: 0.1337(0.1254) Grad: 5.3259  LR: 0.000224  \n",
      "EVAL: [0/3] Elapsed 0m 0s (remain 0m 0s) Loss: 0.3372(0.3372) \n"
     ]
    },
    {
     "name": "stderr",
     "output_type": "stream",
     "text": [
      "Epoch 24 - avg_train_loss: 0.1254  avg_val_loss: 0.3285  time: 3s\n",
      "Epoch 24 - Score: 0.3295\n"
     ]
    },
    {
     "name": "stdout",
     "output_type": "stream",
     "text": [
      "EVAL: [2/3] Elapsed 0m 0s (remain 0m 0s) Loss: 0.2708(0.3285) \n",
      "Epoch: [25][0/19] Elapsed 0m 0s (remain 0m 2s) Loss: 0.1441(0.1441) Grad: 4.6160  LR: 0.000133  \n",
      "Epoch: [25][10/19] Elapsed 0m 1s (remain 0m 1s) Loss: 0.1254(0.1334) Grad: 5.1719  LR: 0.000133  \n",
      "Epoch: [25][18/19] Elapsed 0m 2s (remain 0m 0s) Loss: 0.1342(0.1389) Grad: 3.9506  LR: 0.000133  \n",
      "EVAL: [0/3] Elapsed 0m 0s (remain 0m 0s) Loss: 0.3583(0.3583) \n"
     ]
    },
    {
     "name": "stderr",
     "output_type": "stream",
     "text": [
      "Epoch 25 - avg_train_loss: 0.1389  avg_val_loss: 0.3329  time: 3s\n",
      "Epoch 25 - Score: 0.3336\n"
     ]
    },
    {
     "name": "stdout",
     "output_type": "stream",
     "text": [
      "EVAL: [2/3] Elapsed 0m 0s (remain 0m 0s) Loss: 0.3265(0.3329) \n",
      "Epoch: [26][0/19] Elapsed 0m 0s (remain 0m 2s) Loss: 0.1876(0.1876) Grad: 11.2140  LR: 0.000057  \n",
      "Epoch: [26][10/19] Elapsed 0m 1s (remain 0m 1s) Loss: 0.2171(0.1812) Grad: 16.9757  LR: 0.000057  \n",
      "Epoch: [26][18/19] Elapsed 0m 2s (remain 0m 0s) Loss: 0.2576(0.1960) Grad: 20.0238  LR: 0.000057  \n",
      "EVAL: [0/3] Elapsed 0m 0s (remain 0m 0s) Loss: 0.3597(0.3597) \n"
     ]
    },
    {
     "name": "stderr",
     "output_type": "stream",
     "text": [
      "Epoch 26 - avg_train_loss: 0.1960  avg_val_loss: 0.3090  time: 3s\n",
      "Epoch 26 - Score: 0.3125\n"
     ]
    },
    {
     "name": "stdout",
     "output_type": "stream",
     "text": [
      "EVAL: [2/3] Elapsed 0m 0s (remain 0m 0s) Loss: 0.2353(0.3090) \n",
      "Epoch: [27][0/19] Elapsed 0m 0s (remain 0m 2s) Loss: 0.1506(0.1506) Grad: 17.0393  LR: 0.000009  \n",
      "Epoch: [27][10/19] Elapsed 0m 1s (remain 0m 1s) Loss: 0.1253(0.1414) Grad: 3.9634  LR: 0.000009  \n",
      "Epoch: [27][18/19] Elapsed 0m 2s (remain 0m 0s) Loss: 0.1654(0.1408) Grad: 4.8987  LR: 0.000009  \n",
      "EVAL: [0/3] Elapsed 0m 0s (remain 0m 0s) Loss: 0.3460(0.3460) \n"
     ]
    },
    {
     "name": "stderr",
     "output_type": "stream",
     "text": [
      "Epoch 27 - avg_train_loss: 0.1408  avg_val_loss: 0.3147  time: 3s\n",
      "Epoch 27 - Score: 0.3159\n"
     ]
    },
    {
     "name": "stdout",
     "output_type": "stream",
     "text": [
      "EVAL: [2/3] Elapsed 0m 0s (remain 0m 0s) Loss: 0.2863(0.3147) \n",
      "Epoch: [28][0/19] Elapsed 0m 0s (remain 0m 2s) Loss: 0.1260(0.1260) Grad: 10.1743  LR: 0.000001  \n",
      "Epoch: [28][10/19] Elapsed 0m 1s (remain 0m 1s) Loss: 0.1559(0.1190) Grad: 4.7203  LR: 0.000001  \n",
      "Epoch: [28][18/19] Elapsed 0m 2s (remain 0m 0s) Loss: 0.1191(0.1132) Grad: 3.3829  LR: 0.000001  \n",
      "EVAL: [0/3] Elapsed 0m 0s (remain 0m 0s) Loss: 0.3338(0.3338) \n"
     ]
    },
    {
     "name": "stderr",
     "output_type": "stream",
     "text": [
      "Epoch 28 - avg_train_loss: 0.1132  avg_val_loss: 0.3066  time: 3s\n",
      "Epoch 28 - Score: 0.3075\n"
     ]
    },
    {
     "name": "stdout",
     "output_type": "stream",
     "text": [
      "EVAL: [2/3] Elapsed 0m 0s (remain 0m 0s) Loss: 0.2753(0.3066) \n",
      "Epoch: [29][0/19] Elapsed 0m 0s (remain 0m 2s) Loss: 0.1008(0.1008) Grad: 7.5436  LR: 0.000050  \n",
      "Epoch: [29][10/19] Elapsed 0m 1s (remain 0m 1s) Loss: 0.1203(0.1098) Grad: 12.7661  LR: 0.000050  \n",
      "Epoch: [29][18/19] Elapsed 0m 2s (remain 0m 0s) Loss: 0.1167(0.1114) Grad: 10.4002  LR: 0.000050  \n",
      "EVAL: [0/3] Elapsed 0m 0s (remain 0m 0s) Loss: 0.3259(0.3259) \n"
     ]
    },
    {
     "name": "stderr",
     "output_type": "stream",
     "text": [
      "Epoch 29 - avg_train_loss: 0.1114  avg_val_loss: 0.3007  time: 3s\n",
      "Epoch 29 - Score: 0.3015\n"
     ]
    },
    {
     "name": "stdout",
     "output_type": "stream",
     "text": [
      "EVAL: [2/3] Elapsed 0m 0s (remain 0m 0s) Loss: 0.2710(0.3007) \n",
      "Epoch: [30][0/19] Elapsed 0m 0s (remain 0m 2s) Loss: 0.0726(0.0726) Grad: 2.7896  LR: 0.000224  \n",
      "Epoch: [30][10/19] Elapsed 0m 1s (remain 0m 1s) Loss: 0.1259(0.1569) Grad: 6.5690  LR: 0.000224  \n",
      "Epoch: [30][18/19] Elapsed 0m 2s (remain 0m 0s) Loss: 0.1275(0.1451) Grad: 7.2882  LR: 0.000224  \n",
      "EVAL: [0/3] Elapsed 0m 0s (remain 0m 0s) Loss: 0.3188(0.3188) \n"
     ]
    },
    {
     "name": "stderr",
     "output_type": "stream",
     "text": [
      "Epoch 30 - avg_train_loss: 0.1451  avg_val_loss: 0.3150  time: 3s\n",
      "Epoch 30 - Score: 0.3153\n"
     ]
    },
    {
     "name": "stdout",
     "output_type": "stream",
     "text": [
      "EVAL: [2/3] Elapsed 0m 0s (remain 0m 0s) Loss: 0.3356(0.3150) \n",
      "Epoch: [31][0/19] Elapsed 0m 0s (remain 0m 2s) Loss: 0.1471(0.1471) Grad: 3.6723  LR: 0.000133  \n",
      "Epoch: [31][10/19] Elapsed 0m 1s (remain 0m 1s) Loss: 0.1316(0.1315) Grad: 14.7879  LR: 0.000133  \n",
      "Epoch: [31][18/19] Elapsed 0m 2s (remain 0m 0s) Loss: 0.1571(0.1314) Grad: 9.3351  LR: 0.000133  \n",
      "EVAL: [0/3] Elapsed 0m 0s (remain 0m 0s) Loss: 0.3853(0.3853) \n"
     ]
    },
    {
     "name": "stderr",
     "output_type": "stream",
     "text": [
      "Epoch 31 - avg_train_loss: 0.1314  avg_val_loss: 0.3236  time: 3s\n",
      "Epoch 31 - Score: 0.3278\n"
     ]
    },
    {
     "name": "stdout",
     "output_type": "stream",
     "text": [
      "EVAL: [2/3] Elapsed 0m 0s (remain 0m 0s) Loss: 0.2718(0.3236) \n",
      "Epoch: [32][0/19] Elapsed 0m 0s (remain 0m 2s) Loss: 0.1214(0.1214) Grad: 3.7827  LR: 0.000057  \n",
      "Epoch: [32][10/19] Elapsed 0m 1s (remain 0m 1s) Loss: 0.2006(0.1465) Grad: 15.7848  LR: 0.000057  \n",
      "Epoch: [32][18/19] Elapsed 0m 2s (remain 0m 0s) Loss: 0.1328(0.1543) Grad: 11.5911  LR: 0.000057  \n",
      "EVAL: [0/3] Elapsed 0m 0s (remain 0m 0s) Loss: 0.3862(0.3862) \n"
     ]
    },
    {
     "name": "stderr",
     "output_type": "stream",
     "text": [
      "Epoch 32 - avg_train_loss: 0.1543  avg_val_loss: 0.3546  time: 3s\n",
      "Epoch 32 - Score: 0.3566\n"
     ]
    },
    {
     "name": "stdout",
     "output_type": "stream",
     "text": [
      "EVAL: [2/3] Elapsed 0m 0s (remain 0m 0s) Loss: 0.2764(0.3546) \n",
      "Epoch: [33][0/19] Elapsed 0m 0s (remain 0m 2s) Loss: 0.2271(0.2271) Grad: 19.9865  LR: 0.000009  \n",
      "Epoch: [33][10/19] Elapsed 0m 1s (remain 0m 1s) Loss: 0.1086(0.1524) Grad: 9.1999  LR: 0.000009  \n",
      "Epoch: [33][18/19] Elapsed 0m 2s (remain 0m 0s) Loss: 0.1359(0.1431) Grad: 14.1627  LR: 0.000009  \n",
      "EVAL: [0/3] Elapsed 0m 0s (remain 0m 0s) Loss: 0.3377(0.3377) \n"
     ]
    },
    {
     "name": "stderr",
     "output_type": "stream",
     "text": [
      "Epoch 33 - avg_train_loss: 0.1431  avg_val_loss: 0.3037  time: 3s\n",
      "Epoch 33 - Score: 0.3050\n"
     ]
    },
    {
     "name": "stdout",
     "output_type": "stream",
     "text": [
      "EVAL: [2/3] Elapsed 0m 0s (remain 0m 0s) Loss: 0.2780(0.3037) \n",
      "Epoch: [34][0/19] Elapsed 0m 0s (remain 0m 2s) Loss: 0.0964(0.0964) Grad: 5.4517  LR: 0.000001  \n",
      "Epoch: [34][10/19] Elapsed 0m 1s (remain 0m 1s) Loss: 0.0632(0.0897) Grad: 5.9847  LR: 0.000001  \n",
      "Epoch: [34][18/19] Elapsed 0m 2s (remain 0m 0s) Loss: 0.0948(0.0952) Grad: 3.0501  LR: 0.000001  \n",
      "EVAL: [0/3] Elapsed 0m 0s (remain 0m 0s) Loss: 0.3252(0.3252) \n"
     ]
    },
    {
     "name": "stderr",
     "output_type": "stream",
     "text": [
      "Epoch 34 - avg_train_loss: 0.0952  avg_val_loss: 0.3010  time: 3s\n",
      "Epoch 34 - Score: 0.3018\n"
     ]
    },
    {
     "name": "stdout",
     "output_type": "stream",
     "text": [
      "EVAL: [2/3] Elapsed 0m 0s (remain 0m 0s) Loss: 0.2988(0.3010) \n",
      "Epoch: [35][0/19] Elapsed 0m 0s (remain 0m 2s) Loss: 0.1020(0.1020) Grad: 4.3831  LR: 0.000050  \n",
      "Epoch: [35][10/19] Elapsed 0m 1s (remain 0m 1s) Loss: 0.0781(0.0993) Grad: 3.0906  LR: 0.000050  \n",
      "Epoch: [35][18/19] Elapsed 0m 2s (remain 0m 0s) Loss: 0.0928(0.0988) Grad: 2.9833  LR: 0.000050  \n",
      "EVAL: [0/3] Elapsed 0m 0s (remain 0m 0s) Loss: 0.3466(0.3466) \n"
     ]
    },
    {
     "name": "stderr",
     "output_type": "stream",
     "text": [
      "Epoch 35 - avg_train_loss: 0.0988  avg_val_loss: 0.3067  time: 3s\n",
      "Epoch 35 - Score: 0.3086\n"
     ]
    },
    {
     "name": "stdout",
     "output_type": "stream",
     "text": [
      "EVAL: [2/3] Elapsed 0m 0s (remain 0m 0s) Loss: 0.2956(0.3067) \n",
      "Epoch: [36][0/19] Elapsed 0m 0s (remain 0m 2s) Loss: 0.0970(0.0970) Grad: 8.8414  LR: 0.000224  \n",
      "Epoch: [36][10/19] Elapsed 0m 1s (remain 0m 1s) Loss: 0.1115(0.1108) Grad: 3.6798  LR: 0.000224  \n",
      "Epoch: [36][18/19] Elapsed 0m 2s (remain 0m 0s) Loss: 0.1065(0.1301) Grad: 7.4047  LR: 0.000224  \n",
      "EVAL: [0/3] Elapsed 0m 0s (remain 0m 0s) Loss: 0.3593(0.3593) \n"
     ]
    },
    {
     "name": "stderr",
     "output_type": "stream",
     "text": [
      "Epoch 36 - avg_train_loss: 0.1301  avg_val_loss: 0.3201  time: 3s\n",
      "Epoch 36 - Score: 0.3218\n"
     ]
    },
    {
     "name": "stdout",
     "output_type": "stream",
     "text": [
      "EVAL: [2/3] Elapsed 0m 0s (remain 0m 0s) Loss: 0.3022(0.3201) \n",
      "Epoch: [37][0/19] Elapsed 0m 0s (remain 0m 2s) Loss: 0.1366(0.1366) Grad: 15.5529  LR: 0.000133  \n",
      "Epoch: [37][10/19] Elapsed 0m 1s (remain 0m 1s) Loss: 0.2021(0.1662) Grad: 14.3169  LR: 0.000133  \n",
      "Epoch: [37][18/19] Elapsed 0m 2s (remain 0m 0s) Loss: 0.1719(0.1651) Grad: 15.4621  LR: 0.000133  \n",
      "EVAL: [0/3] Elapsed 0m 0s (remain 0m 0s) Loss: 0.3448(0.3448) \n"
     ]
    },
    {
     "name": "stderr",
     "output_type": "stream",
     "text": [
      "Epoch 37 - avg_train_loss: 0.1651  avg_val_loss: 0.3106  time: 3s\n",
      "Epoch 37 - Score: 0.3120\n"
     ]
    },
    {
     "name": "stdout",
     "output_type": "stream",
     "text": [
      "EVAL: [2/3] Elapsed 0m 0s (remain 0m 0s) Loss: 0.2977(0.3106) \n",
      "Epoch: [38][0/19] Elapsed 0m 0s (remain 0m 2s) Loss: 0.1402(0.1402) Grad: 9.9055  LR: 0.000057  \n",
      "Epoch: [38][10/19] Elapsed 0m 1s (remain 0m 1s) Loss: 0.1211(0.1533) Grad: 5.4038  LR: 0.000057  \n",
      "Epoch: [38][18/19] Elapsed 0m 2s (remain 0m 0s) Loss: 0.1244(0.1394) Grad: 6.3291  LR: 0.000057  \n",
      "EVAL: [0/3] Elapsed 0m 0s (remain 0m 0s) Loss: 0.3395(0.3395) \n"
     ]
    },
    {
     "name": "stderr",
     "output_type": "stream",
     "text": [
      "Epoch 38 - avg_train_loss: 0.1394  avg_val_loss: 0.3179  time: 3s\n",
      "Epoch 38 - Score: 0.3185\n"
     ]
    },
    {
     "name": "stdout",
     "output_type": "stream",
     "text": [
      "EVAL: [2/3] Elapsed 0m 0s (remain 0m 0s) Loss: 0.3181(0.3179) \n",
      "Epoch: [39][0/19] Elapsed 0m 0s (remain 0m 2s) Loss: 0.1398(0.1398) Grad: 6.6888  LR: 0.000009  \n",
      "Epoch: [39][10/19] Elapsed 0m 1s (remain 0m 1s) Loss: 0.1156(0.1127) Grad: 10.5686  LR: 0.000009  \n",
      "Epoch: [39][18/19] Elapsed 0m 2s (remain 0m 0s) Loss: 0.0971(0.1051) Grad: 8.4427  LR: 0.000009  \n",
      "EVAL: [0/3] Elapsed 0m 0s (remain 0m 0s) Loss: 0.3263(0.3263) \n"
     ]
    },
    {
     "name": "stderr",
     "output_type": "stream",
     "text": [
      "Epoch 39 - avg_train_loss: 0.1051  avg_val_loss: 0.3056  time: 3s\n",
      "Epoch 39 - Score: 0.3061\n"
     ]
    },
    {
     "name": "stdout",
     "output_type": "stream",
     "text": [
      "EVAL: [2/3] Elapsed 0m 0s (remain 0m 0s) Loss: 0.2989(0.3056) \n",
      "Epoch: [40][0/19] Elapsed 0m 0s (remain 0m 2s) Loss: 0.0826(0.0826) Grad: 8.3291  LR: 0.000001  \n",
      "Epoch: [40][10/19] Elapsed 0m 1s (remain 0m 1s) Loss: 0.0882(0.0850) Grad: 5.9468  LR: 0.000001  \n",
      "Epoch: [40][18/19] Elapsed 0m 2s (remain 0m 0s) Loss: 0.0885(0.0881) Grad: 5.1487  LR: 0.000001  \n",
      "EVAL: [0/3] Elapsed 0m 0s (remain 0m 0s) Loss: 0.3511(0.3511) \n"
     ]
    },
    {
     "name": "stderr",
     "output_type": "stream",
     "text": [
      "Epoch 40 - avg_train_loss: 0.0881  avg_val_loss: 0.3083  time: 3s\n",
      "Epoch 40 - Score: 0.3107\n",
      "========== fold: 3 result ==========\n",
      "Score: 0.2972\n",
      "========== fold: 4 training ==========\n"
     ]
    },
    {
     "name": "stdout",
     "output_type": "stream",
     "text": [
      "EVAL: [2/3] Elapsed 0m 0s (remain 0m 0s) Loss: 0.3062(0.3083) \n",
      "Epoch: [1][0/19] Elapsed 0m 0s (remain 0m 2s) Loss: 3.2359(3.2359) Grad: 24.9130  LR: 0.000100  \n",
      "Epoch: [1][10/19] Elapsed 0m 1s (remain 0m 1s) Loss: 0.7988(1.4254) Grad: 25.6757  LR: 0.000100  \n",
      "Epoch: [1][18/19] Elapsed 0m 2s (remain 0m 0s) Loss: 0.4876(1.1035) Grad: 16.0313  LR: 0.000100  \n",
      "EVAL: [0/3] Elapsed 0m 0s (remain 0m 0s) Loss: 0.4645(0.4645) \n"
     ]
    },
    {
     "name": "stderr",
     "output_type": "stream",
     "text": [
      "Epoch 1 - avg_train_loss: 1.1035  avg_val_loss: 0.5114  time: 3s\n",
      "Epoch 1 - Score: 0.5134\n",
      "Epoch 1 - Save Best Score: 0.5134 Model\n"
     ]
    },
    {
     "name": "stdout",
     "output_type": "stream",
     "text": [
      "EVAL: [2/3] Elapsed 0m 0s (remain 0m 0s) Loss: 0.5887(0.5114) \n",
      "Epoch: [2][0/19] Elapsed 0m 0s (remain 0m 2s) Loss: 0.4937(0.4937) Grad: 7.8492  LR: 0.000057  \n",
      "Epoch: [2][10/19] Elapsed 0m 1s (remain 0m 1s) Loss: 0.4473(0.4615) Grad: 4.7497  LR: 0.000057  \n",
      "Epoch: [2][18/19] Elapsed 0m 2s (remain 0m 0s) Loss: 0.2765(0.4401) Grad: 11.1160  LR: 0.000057  \n",
      "EVAL: [0/3] Elapsed 0m 0s (remain 0m 0s) Loss: 0.5224(0.5224) \n"
     ]
    },
    {
     "name": "stderr",
     "output_type": "stream",
     "text": [
      "Epoch 2 - avg_train_loss: 0.4401  avg_val_loss: 0.4469  time: 4s\n",
      "Epoch 2 - Score: 0.4526\n",
      "Epoch 2 - Save Best Score: 0.4526 Model\n"
     ]
    },
    {
     "name": "stdout",
     "output_type": "stream",
     "text": [
      "EVAL: [2/3] Elapsed 0m 0s (remain 0m 0s) Loss: 0.3242(0.4469) \n",
      "Epoch: [3][0/19] Elapsed 0m 0s (remain 0m 2s) Loss: 0.3753(0.3753) Grad: 10.5166  LR: 0.000009  \n",
      "Epoch: [3][10/19] Elapsed 0m 1s (remain 0m 1s) Loss: 0.3164(0.3408) Grad: 4.4318  LR: 0.000009  \n",
      "Epoch: [3][18/19] Elapsed 0m 2s (remain 0m 0s) Loss: 0.2697(0.3345) Grad: 8.6172  LR: 0.000009  \n",
      "EVAL: [0/3] Elapsed 0m 0s (remain 0m 0s) Loss: 0.3885(0.3885) \n"
     ]
    },
    {
     "name": "stderr",
     "output_type": "stream",
     "text": [
      "Epoch 3 - avg_train_loss: 0.3345  avg_val_loss: 0.3847  time: 3s\n",
      "Epoch 3 - Score: 0.3848\n",
      "Epoch 3 - Save Best Score: 0.3848 Model\n"
     ]
    },
    {
     "name": "stdout",
     "output_type": "stream",
     "text": [
      "EVAL: [2/3] Elapsed 0m 0s (remain 0m 0s) Loss: 0.3686(0.3847) \n",
      "Epoch: [4][0/19] Elapsed 0m 0s (remain 0m 2s) Loss: 0.3605(0.3605) Grad: 13.1572  LR: 0.000001  \n",
      "Epoch: [4][10/19] Elapsed 0m 1s (remain 0m 1s) Loss: 0.3912(0.2946) Grad: 6.3932  LR: 0.000001  \n",
      "Epoch: [4][18/19] Elapsed 0m 2s (remain 0m 0s) Loss: 0.2049(0.2907) Grad: 4.7135  LR: 0.000001  \n",
      "EVAL: [0/3] Elapsed 0m 0s (remain 0m 0s) Loss: 0.3799(0.3799) \n"
     ]
    },
    {
     "name": "stderr",
     "output_type": "stream",
     "text": [
      "Epoch 4 - avg_train_loss: 0.2907  avg_val_loss: 0.3632  time: 3s\n",
      "Epoch 4 - Score: 0.3650\n",
      "Epoch 4 - Save Best Score: 0.3650 Model\n"
     ]
    },
    {
     "name": "stdout",
     "output_type": "stream",
     "text": [
      "EVAL: [2/3] Elapsed 0m 0s (remain 0m 0s) Loss: 0.2822(0.3632) \n",
      "Epoch: [5][0/19] Elapsed 0m 0s (remain 0m 2s) Loss: 0.2785(0.2785) Grad: 9.0764  LR: 0.000050  \n",
      "Epoch: [5][10/19] Elapsed 0m 1s (remain 0m 1s) Loss: 0.2191(0.3057) Grad: 4.0785  LR: 0.000050  \n",
      "Epoch: [5][18/19] Elapsed 0m 2s (remain 0m 0s) Loss: 0.3133(0.3170) Grad: 10.4519  LR: 0.000050  \n",
      "EVAL: [0/3] Elapsed 0m 0s (remain 0m 0s) Loss: 0.3548(0.3548) \n"
     ]
    },
    {
     "name": "stderr",
     "output_type": "stream",
     "text": [
      "Epoch 5 - avg_train_loss: 0.3170  avg_val_loss: 0.3704  time: 4s\n",
      "Epoch 5 - Score: 0.3706\n"
     ]
    },
    {
     "name": "stdout",
     "output_type": "stream",
     "text": [
      "EVAL: [2/3] Elapsed 0m 0s (remain 0m 0s) Loss: 0.3820(0.3704) \n",
      "Epoch: [6][0/19] Elapsed 0m 0s (remain 0m 2s) Loss: 0.2612(0.2612) Grad: 11.8158  LR: 0.000224  \n",
      "Epoch: [6][10/19] Elapsed 0m 1s (remain 0m 1s) Loss: 0.3143(0.3004) Grad: 16.6990  LR: 0.000224  \n",
      "Epoch: [6][18/19] Elapsed 0m 2s (remain 0m 0s) Loss: 0.2725(0.2887) Grad: 10.1735  LR: 0.000224  \n",
      "EVAL: [0/3] Elapsed 0m 0s (remain 0m 0s) Loss: 0.4147(0.4147) \n"
     ]
    },
    {
     "name": "stderr",
     "output_type": "stream",
     "text": [
      "Epoch 6 - avg_train_loss: 0.2887  avg_val_loss: 0.3648  time: 4s\n",
      "Epoch 6 - Score: 0.3684\n"
     ]
    },
    {
     "name": "stdout",
     "output_type": "stream",
     "text": [
      "EVAL: [2/3] Elapsed 0m 0s (remain 0m 0s) Loss: 0.2684(0.3648) \n",
      "Epoch: [7][0/19] Elapsed 0m 0s (remain 0m 2s) Loss: 0.2350(0.2350) Grad: 7.2157  LR: 0.000133  \n",
      "Epoch: [7][10/19] Elapsed 0m 1s (remain 0m 1s) Loss: 0.4296(0.2888) Grad: 23.6619  LR: 0.000133  \n",
      "Epoch: [7][18/19] Elapsed 0m 2s (remain 0m 0s) Loss: 0.3496(0.3039) Grad: 19.1678  LR: 0.000133  \n",
      "EVAL: [0/3] Elapsed 0m 0s (remain 0m 0s) Loss: 0.5664(0.5664) \n"
     ]
    },
    {
     "name": "stderr",
     "output_type": "stream",
     "text": [
      "Epoch 7 - avg_train_loss: 0.3039  avg_val_loss: 0.4760  time: 4s\n",
      "Epoch 7 - Score: 0.4836\n"
     ]
    },
    {
     "name": "stdout",
     "output_type": "stream",
     "text": [
      "EVAL: [2/3] Elapsed 0m 0s (remain 0m 0s) Loss: 0.3326(0.4760) \n",
      "Epoch: [8][0/19] Elapsed 0m 0s (remain 0m 2s) Loss: 0.3750(0.3750) Grad: 17.4781  LR: 0.000057  \n",
      "Epoch: [8][10/19] Elapsed 0m 1s (remain 0m 1s) Loss: 0.4293(0.3716) Grad: 20.0881  LR: 0.000057  \n",
      "Epoch: [8][18/19] Elapsed 0m 2s (remain 0m 0s) Loss: 0.3560(0.3502) Grad: 18.2575  LR: 0.000057  \n",
      "EVAL: [0/3] Elapsed 0m 0s (remain 0m 0s) Loss: 0.6286(0.6286) \n"
     ]
    },
    {
     "name": "stderr",
     "output_type": "stream",
     "text": [
      "Epoch 8 - avg_train_loss: 0.3502  avg_val_loss: 0.5459  time: 4s\n",
      "Epoch 8 - Score: 0.5507\n"
     ]
    },
    {
     "name": "stdout",
     "output_type": "stream",
     "text": [
      "EVAL: [2/3] Elapsed 0m 0s (remain 0m 0s) Loss: 0.4482(0.5459) \n",
      "Epoch: [9][0/19] Elapsed 0m 0s (remain 0m 2s) Loss: 0.4027(0.4027) Grad: 20.6625  LR: 0.000009  \n",
      "Epoch: [9][10/19] Elapsed 0m 1s (remain 0m 1s) Loss: 0.2231(0.2970) Grad: 13.4498  LR: 0.000009  \n",
      "Epoch: [9][18/19] Elapsed 0m 2s (remain 0m 0s) Loss: 0.1248(0.2603) Grad: 9.5479  LR: 0.000009  \n",
      "EVAL: [0/3] Elapsed 0m 0s (remain 0m 0s) Loss: 0.4049(0.4049) \n"
     ]
    },
    {
     "name": "stderr",
     "output_type": "stream",
     "text": [
      "Epoch 9 - avg_train_loss: 0.2603  avg_val_loss: 0.3475  time: 4s\n",
      "Epoch 9 - Score: 0.3513\n",
      "Epoch 9 - Save Best Score: 0.3513 Model\n"
     ]
    },
    {
     "name": "stdout",
     "output_type": "stream",
     "text": [
      "EVAL: [2/3] Elapsed 0m 0s (remain 0m 0s) Loss: 0.2727(0.3475) \n",
      "Epoch: [10][0/19] Elapsed 0m 0s (remain 0m 2s) Loss: 0.1505(0.1505) Grad: 11.8414  LR: 0.000001  \n",
      "Epoch: [10][10/19] Elapsed 0m 1s (remain 0m 1s) Loss: 0.1696(0.1802) Grad: 6.6035  LR: 0.000001  \n",
      "Epoch: [10][18/19] Elapsed 0m 2s (remain 0m 0s) Loss: 0.1854(0.1788) Grad: 6.1289  LR: 0.000001  \n",
      "EVAL: [0/3] Elapsed 0m 0s (remain 0m 0s) Loss: 0.3715(0.3715) \n"
     ]
    },
    {
     "name": "stderr",
     "output_type": "stream",
     "text": [
      "Epoch 10 - avg_train_loss: 0.1788  avg_val_loss: 0.3353  time: 4s\n",
      "Epoch 10 - Score: 0.3372\n",
      "Epoch 10 - Save Best Score: 0.3372 Model\n"
     ]
    },
    {
     "name": "stdout",
     "output_type": "stream",
     "text": [
      "EVAL: [2/3] Elapsed 0m 0s (remain 0m 0s) Loss: 0.2705(0.3353) \n",
      "Epoch: [11][0/19] Elapsed 0m 0s (remain 0m 2s) Loss: 0.2000(0.2000) Grad: 6.3979  LR: 0.000050  \n",
      "Epoch: [11][10/19] Elapsed 0m 1s (remain 0m 1s) Loss: 0.1094(0.1949) Grad: 3.1516  LR: 0.000050  \n",
      "Epoch: [11][18/19] Elapsed 0m 2s (remain 0m 0s) Loss: 0.1221(0.1923) Grad: 12.1159  LR: 0.000050  \n",
      "EVAL: [0/3] Elapsed 0m 0s (remain 0m 0s) Loss: 0.3725(0.3725) \n"
     ]
    },
    {
     "name": "stderr",
     "output_type": "stream",
     "text": [
      "Epoch 11 - avg_train_loss: 0.1923  avg_val_loss: 0.3352  time: 4s\n",
      "Epoch 11 - Score: 0.3375\n"
     ]
    },
    {
     "name": "stdout",
     "output_type": "stream",
     "text": [
      "EVAL: [2/3] Elapsed 0m 0s (remain 0m 0s) Loss: 0.2621(0.3352) \n",
      "Epoch: [12][0/19] Elapsed 0m 0s (remain 0m 2s) Loss: 0.1418(0.1418) Grad: 11.8183  LR: 0.000224  \n",
      "Epoch: [12][10/19] Elapsed 0m 1s (remain 0m 1s) Loss: 0.3250(0.2202) Grad: 15.2717  LR: 0.000224  \n",
      "Epoch: [12][18/19] Elapsed 0m 2s (remain 0m 0s) Loss: 0.2220(0.2259) Grad: 3.9949  LR: 0.000224  \n",
      "EVAL: [0/3] Elapsed 0m 0s (remain 0m 0s) Loss: 0.3213(0.3213) \n"
     ]
    },
    {
     "name": "stderr",
     "output_type": "stream",
     "text": [
      "Epoch 12 - avg_train_loss: 0.2259  avg_val_loss: 0.3778  time: 4s\n",
      "Epoch 12 - Score: 0.3821\n"
     ]
    },
    {
     "name": "stdout",
     "output_type": "stream",
     "text": [
      "EVAL: [2/3] Elapsed 0m 0s (remain 0m 0s) Loss: 0.4832(0.3778) \n",
      "Epoch: [13][0/19] Elapsed 0m 0s (remain 0m 2s) Loss: 0.2935(0.2935) Grad: 22.0938  LR: 0.000133  \n",
      "Epoch: [13][10/19] Elapsed 0m 1s (remain 0m 1s) Loss: 0.1649(0.2005) Grad: 11.6611  LR: 0.000133  \n",
      "Epoch: [13][18/19] Elapsed 0m 2s (remain 0m 0s) Loss: 0.2346(0.2140) Grad: 16.5304  LR: 0.000133  \n",
      "EVAL: [0/3] Elapsed 0m 0s (remain 0m 0s) Loss: 0.4065(0.4065) \n"
     ]
    },
    {
     "name": "stderr",
     "output_type": "stream",
     "text": [
      "Epoch 13 - avg_train_loss: 0.2140  avg_val_loss: 0.3884  time: 3s\n",
      "Epoch 13 - Score: 0.3889\n"
     ]
    },
    {
     "name": "stdout",
     "output_type": "stream",
     "text": [
      "EVAL: [2/3] Elapsed 0m 0s (remain 0m 0s) Loss: 0.3523(0.3884) \n",
      "Epoch: [14][0/19] Elapsed 0m 0s (remain 0m 2s) Loss: 0.2015(0.2015) Grad: 16.3971  LR: 0.000057  \n",
      "Epoch: [14][10/19] Elapsed 0m 1s (remain 0m 1s) Loss: 0.2351(0.2145) Grad: 18.8083  LR: 0.000057  \n",
      "Epoch: [14][18/19] Elapsed 0m 2s (remain 0m 0s) Loss: 0.2315(0.2093) Grad: 15.9345  LR: 0.000057  \n",
      "EVAL: [0/3] Elapsed 0m 0s (remain 0m 0s) Loss: 0.4147(0.4147) \n"
     ]
    },
    {
     "name": "stderr",
     "output_type": "stream",
     "text": [
      "Epoch 14 - avg_train_loss: 0.2093  avg_val_loss: 0.3764  time: 4s\n",
      "Epoch 14 - Score: 0.3794\n"
     ]
    },
    {
     "name": "stdout",
     "output_type": "stream",
     "text": [
      "EVAL: [2/3] Elapsed 0m 0s (remain 0m 0s) Loss: 0.2780(0.3764) \n",
      "Epoch: [15][0/19] Elapsed 0m 0s (remain 0m 2s) Loss: 0.2158(0.2158) Grad: 18.8369  LR: 0.000009  \n",
      "Epoch: [15][10/19] Elapsed 0m 1s (remain 0m 1s) Loss: 0.1565(0.1785) Grad: 10.7934  LR: 0.000009  \n",
      "Epoch: [15][18/19] Elapsed 0m 2s (remain 0m 0s) Loss: 0.1504(0.1648) Grad: 9.7241  LR: 0.000009  \n",
      "EVAL: [0/3] Elapsed 0m 0s (remain 0m 0s) Loss: 0.3389(0.3389) \n"
     ]
    },
    {
     "name": "stderr",
     "output_type": "stream",
     "text": [
      "Epoch 15 - avg_train_loss: 0.1648  avg_val_loss: 0.3282  time: 4s\n",
      "Epoch 15 - Score: 0.3304\n",
      "Epoch 15 - Save Best Score: 0.3304 Model\n"
     ]
    },
    {
     "name": "stdout",
     "output_type": "stream",
     "text": [
      "EVAL: [2/3] Elapsed 0m 0s (remain 0m 0s) Loss: 0.2450(0.3282) \n",
      "Epoch: [16][0/19] Elapsed 0m 0s (remain 0m 2s) Loss: 0.1233(0.1233) Grad: 6.4938  LR: 0.000001  \n",
      "Epoch: [16][10/19] Elapsed 0m 1s (remain 0m 1s) Loss: 0.1474(0.1259) Grad: 5.4371  LR: 0.000001  \n",
      "Epoch: [16][18/19] Elapsed 0m 2s (remain 0m 0s) Loss: 0.1367(0.1250) Grad: 4.0904  LR: 0.000001  \n",
      "EVAL: [0/3] Elapsed 0m 0s (remain 0m 0s) Loss: 0.3287(0.3287) \n"
     ]
    },
    {
     "name": "stderr",
     "output_type": "stream",
     "text": [
      "Epoch 16 - avg_train_loss: 0.1250  avg_val_loss: 0.3277  time: 4s\n",
      "Epoch 16 - Score: 0.3287\n",
      "Epoch 16 - Save Best Score: 0.3287 Model\n"
     ]
    },
    {
     "name": "stdout",
     "output_type": "stream",
     "text": [
      "EVAL: [2/3] Elapsed 0m 0s (remain 0m 0s) Loss: 0.2746(0.3277) \n",
      "Epoch: [17][0/19] Elapsed 0m 0s (remain 0m 2s) Loss: 0.1696(0.1696) Grad: 2.9809  LR: 0.000050  \n",
      "Epoch: [17][10/19] Elapsed 0m 1s (remain 0m 1s) Loss: 0.1025(0.1205) Grad: 5.9248  LR: 0.000050  \n",
      "Epoch: [17][18/19] Elapsed 0m 2s (remain 0m 0s) Loss: 0.1270(0.1219) Grad: 6.8608  LR: 0.000050  \n",
      "EVAL: [0/3] Elapsed 0m 0s (remain 0m 0s) Loss: 0.3501(0.3501) \n"
     ]
    },
    {
     "name": "stderr",
     "output_type": "stream",
     "text": [
      "Epoch 17 - avg_train_loss: 0.1219  avg_val_loss: 0.3239  time: 3s\n",
      "Epoch 17 - Score: 0.3264\n",
      "Epoch 17 - Save Best Score: 0.3264 Model\n"
     ]
    },
    {
     "name": "stdout",
     "output_type": "stream",
     "text": [
      "EVAL: [2/3] Elapsed 0m 0s (remain 0m 0s) Loss: 0.2361(0.3239) \n",
      "Epoch: [18][0/19] Elapsed 0m 0s (remain 0m 2s) Loss: 0.1121(0.1121) Grad: 7.9822  LR: 0.000224  \n",
      "Epoch: [18][10/19] Elapsed 0m 1s (remain 0m 1s) Loss: 0.1956(0.1434) Grad: 17.6770  LR: 0.000224  \n",
      "Epoch: [18][18/19] Elapsed 0m 2s (remain 0m 0s) Loss: 0.1184(0.1478) Grad: 5.2409  LR: 0.000224  \n",
      "EVAL: [0/3] Elapsed 0m 0s (remain 0m 0s) Loss: 0.4111(0.4111) \n"
     ]
    },
    {
     "name": "stderr",
     "output_type": "stream",
     "text": [
      "Epoch 18 - avg_train_loss: 0.1478  avg_val_loss: 0.3720  time: 3s\n",
      "Epoch 18 - Score: 0.3738\n"
     ]
    },
    {
     "name": "stdout",
     "output_type": "stream",
     "text": [
      "EVAL: [2/3] Elapsed 0m 0s (remain 0m 0s) Loss: 0.3116(0.3720) \n",
      "Epoch: [19][0/19] Elapsed 0m 0s (remain 0m 2s) Loss: 0.1878(0.1878) Grad: 17.8923  LR: 0.000133  \n",
      "Epoch: [19][10/19] Elapsed 0m 1s (remain 0m 1s) Loss: 0.1721(0.1682) Grad: 2.9424  LR: 0.000133  \n",
      "Epoch: [19][18/19] Elapsed 0m 2s (remain 0m 0s) Loss: 0.1696(0.1637) Grad: 5.7692  LR: 0.000133  \n",
      "EVAL: [0/3] Elapsed 0m 0s (remain 0m 0s) Loss: 0.3354(0.3354) \n"
     ]
    },
    {
     "name": "stderr",
     "output_type": "stream",
     "text": [
      "Epoch 19 - avg_train_loss: 0.1637  avg_val_loss: 0.3525  time: 4s\n",
      "Epoch 19 - Score: 0.3539\n"
     ]
    },
    {
     "name": "stdout",
     "output_type": "stream",
     "text": [
      "EVAL: [2/3] Elapsed 0m 0s (remain 0m 0s) Loss: 0.3051(0.3525) \n",
      "Epoch: [20][0/19] Elapsed 0m 0s (remain 0m 2s) Loss: 0.1455(0.1455) Grad: 7.6657  LR: 0.000057  \n",
      "Epoch: [20][10/19] Elapsed 0m 1s (remain 0m 1s) Loss: 0.1968(0.1481) Grad: 14.2090  LR: 0.000057  \n",
      "Epoch: [20][18/19] Elapsed 0m 2s (remain 0m 0s) Loss: 0.0948(0.1470) Grad: 5.8759  LR: 0.000057  \n",
      "EVAL: [0/3] Elapsed 0m 0s (remain 0m 0s) Loss: 0.3050(0.3050) \n"
     ]
    },
    {
     "name": "stderr",
     "output_type": "stream",
     "text": [
      "Epoch 20 - avg_train_loss: 0.1470  avg_val_loss: 0.3085  time: 4s\n",
      "Epoch 20 - Score: 0.3110\n",
      "Epoch 20 - Save Best Score: 0.3110 Model\n"
     ]
    },
    {
     "name": "stdout",
     "output_type": "stream",
     "text": [
      "EVAL: [2/3] Elapsed 0m 0s (remain 0m 0s) Loss: 0.2300(0.3085) \n",
      "Epoch: [21][0/19] Elapsed 0m 0s (remain 0m 2s) Loss: 0.1466(0.1466) Grad: 4.2531  LR: 0.000009  \n",
      "Epoch: [21][10/19] Elapsed 0m 1s (remain 0m 1s) Loss: 0.1376(0.1399) Grad: 12.1331  LR: 0.000009  \n",
      "Epoch: [21][18/19] Elapsed 0m 2s (remain 0m 0s) Loss: 0.1488(0.1438) Grad: 17.4819  LR: 0.000009  \n",
      "EVAL: [0/3] Elapsed 0m 0s (remain 0m 0s) Loss: 0.3517(0.3517) \n"
     ]
    },
    {
     "name": "stderr",
     "output_type": "stream",
     "text": [
      "Epoch 21 - avg_train_loss: 0.1438  avg_val_loss: 0.3273  time: 3s\n",
      "Epoch 21 - Score: 0.3302\n"
     ]
    },
    {
     "name": "stdout",
     "output_type": "stream",
     "text": [
      "EVAL: [2/3] Elapsed 0m 0s (remain 0m 0s) Loss: 0.2315(0.3273) \n",
      "Epoch: [22][0/19] Elapsed 0m 0s (remain 0m 2s) Loss: 0.1320(0.1320) Grad: 15.7327  LR: 0.000001  \n",
      "Epoch: [22][10/19] Elapsed 0m 1s (remain 0m 1s) Loss: 0.1361(0.1270) Grad: 3.7645  LR: 0.000001  \n",
      "Epoch: [22][18/19] Elapsed 0m 2s (remain 0m 0s) Loss: 0.1024(0.1165) Grad: 5.3778  LR: 0.000001  \n",
      "EVAL: [0/3] Elapsed 0m 0s (remain 0m 0s) Loss: 0.3201(0.3201) \n"
     ]
    },
    {
     "name": "stderr",
     "output_type": "stream",
     "text": [
      "Epoch 22 - avg_train_loss: 0.1165  avg_val_loss: 0.3139  time: 4s\n",
      "Epoch 22 - Score: 0.3150\n"
     ]
    },
    {
     "name": "stdout",
     "output_type": "stream",
     "text": [
      "EVAL: [2/3] Elapsed 0m 0s (remain 0m 0s) Loss: 0.2552(0.3139) \n",
      "Epoch: [23][0/19] Elapsed 0m 0s (remain 0m 2s) Loss: 0.1103(0.1103) Grad: 9.6610  LR: 0.000050  \n",
      "Epoch: [23][10/19] Elapsed 0m 1s (remain 0m 1s) Loss: 0.1384(0.1076) Grad: 12.3209  LR: 0.000050  \n",
      "Epoch: [23][18/19] Elapsed 0m 2s (remain 0m 0s) Loss: 0.0907(0.1052) Grad: 9.6488  LR: 0.000050  \n",
      "EVAL: [0/3] Elapsed 0m 0s (remain 0m 0s) Loss: 0.3212(0.3212) \n"
     ]
    },
    {
     "name": "stderr",
     "output_type": "stream",
     "text": [
      "Epoch 23 - avg_train_loss: 0.1052  avg_val_loss: 0.3183  time: 4s\n",
      "Epoch 23 - Score: 0.3197\n"
     ]
    },
    {
     "name": "stdout",
     "output_type": "stream",
     "text": [
      "EVAL: [2/3] Elapsed 0m 0s (remain 0m 0s) Loss: 0.2548(0.3183) \n",
      "Epoch: [24][0/19] Elapsed 0m 0s (remain 0m 2s) Loss: 0.0845(0.0845) Grad: 10.9454  LR: 0.000224  \n",
      "Epoch: [24][10/19] Elapsed 0m 1s (remain 0m 1s) Loss: 0.0976(0.1316) Grad: 3.1237  LR: 0.000224  \n",
      "Epoch: [24][18/19] Elapsed 0m 2s (remain 0m 0s) Loss: 0.1186(0.1342) Grad: 8.1142  LR: 0.000224  \n",
      "EVAL: [0/3] Elapsed 0m 0s (remain 0m 0s) Loss: 0.3303(0.3303) \n"
     ]
    },
    {
     "name": "stderr",
     "output_type": "stream",
     "text": [
      "Epoch 24 - avg_train_loss: 0.1342  avg_val_loss: 0.3173  time: 4s\n",
      "Epoch 24 - Score: 0.3200\n"
     ]
    },
    {
     "name": "stdout",
     "output_type": "stream",
     "text": [
      "EVAL: [2/3] Elapsed 0m 0s (remain 0m 0s) Loss: 0.2258(0.3173) \n",
      "Epoch: [25][0/19] Elapsed 0m 0s (remain 0m 2s) Loss: 0.1148(0.1148) Grad: 3.5460  LR: 0.000133  \n",
      "Epoch: [25][10/19] Elapsed 0m 1s (remain 0m 1s) Loss: 0.1682(0.1475) Grad: 10.4951  LR: 0.000133  \n",
      "Epoch: [25][18/19] Elapsed 0m 2s (remain 0m 0s) Loss: 0.2619(0.1695) Grad: 20.5793  LR: 0.000133  \n",
      "EVAL: [0/3] Elapsed 0m 0s (remain 0m 0s) Loss: 0.3600(0.3600) \n"
     ]
    },
    {
     "name": "stderr",
     "output_type": "stream",
     "text": [
      "Epoch 25 - avg_train_loss: 0.1695  avg_val_loss: 0.3443  time: 4s\n",
      "Epoch 25 - Score: 0.3458\n"
     ]
    },
    {
     "name": "stdout",
     "output_type": "stream",
     "text": [
      "EVAL: [2/3] Elapsed 0m 0s (remain 0m 0s) Loss: 0.2720(0.3443) \n",
      "Epoch: [26][0/19] Elapsed 0m 0s (remain 0m 2s) Loss: 0.1357(0.1357) Grad: 3.5068  LR: 0.000057  \n",
      "Epoch: [26][10/19] Elapsed 0m 1s (remain 0m 1s) Loss: 0.1948(0.1773) Grad: 19.7116  LR: 0.000057  \n",
      "Epoch: [26][18/19] Elapsed 0m 2s (remain 0m 0s) Loss: 0.1578(0.1748) Grad: 13.0259  LR: 0.000057  \n",
      "EVAL: [0/3] Elapsed 0m 0s (remain 0m 0s) Loss: 0.4013(0.4013) \n"
     ]
    },
    {
     "name": "stderr",
     "output_type": "stream",
     "text": [
      "Epoch 26 - avg_train_loss: 0.1748  avg_val_loss: 0.3588  time: 4s\n",
      "Epoch 26 - Score: 0.3619\n"
     ]
    },
    {
     "name": "stdout",
     "output_type": "stream",
     "text": [
      "EVAL: [2/3] Elapsed 0m 0s (remain 0m 0s) Loss: 0.2656(0.3588) \n",
      "Epoch: [27][0/19] Elapsed 0m 0s (remain 0m 2s) Loss: 0.1590(0.1590) Grad: 14.2597  LR: 0.000009  \n",
      "Epoch: [27][10/19] Elapsed 0m 1s (remain 0m 1s) Loss: 0.1298(0.1318) Grad: 3.4060  LR: 0.000009  \n",
      "Epoch: [27][18/19] Elapsed 0m 2s (remain 0m 0s) Loss: 0.1138(0.1237) Grad: 5.7334  LR: 0.000009  \n",
      "EVAL: [0/3] Elapsed 0m 0s (remain 0m 0s) Loss: 0.3236(0.3236) \n"
     ]
    },
    {
     "name": "stderr",
     "output_type": "stream",
     "text": [
      "Epoch 27 - avg_train_loss: 0.1237  avg_val_loss: 0.3120  time: 3s\n",
      "Epoch 27 - Score: 0.3131\n"
     ]
    },
    {
     "name": "stdout",
     "output_type": "stream",
     "text": [
      "EVAL: [2/3] Elapsed 0m 0s (remain 0m 0s) Loss: 0.2525(0.3120) \n",
      "Epoch: [28][0/19] Elapsed 0m 0s (remain 0m 2s) Loss: 0.0891(0.0891) Grad: 3.6274  LR: 0.000001  \n",
      "Epoch: [28][10/19] Elapsed 0m 1s (remain 0m 1s) Loss: 0.1042(0.0983) Grad: 2.9928  LR: 0.000001  \n",
      "Epoch: [28][18/19] Elapsed 0m 2s (remain 0m 0s) Loss: 0.0825(0.0974) Grad: 2.7474  LR: 0.000001  \n",
      "EVAL: [0/3] Elapsed 0m 0s (remain 0m 0s) Loss: 0.3386(0.3386) \n"
     ]
    },
    {
     "name": "stderr",
     "output_type": "stream",
     "text": [
      "Epoch 28 - avg_train_loss: 0.0974  avg_val_loss: 0.3231  time: 3s\n",
      "Epoch 28 - Score: 0.3243\n"
     ]
    },
    {
     "name": "stdout",
     "output_type": "stream",
     "text": [
      "EVAL: [2/3] Elapsed 0m 0s (remain 0m 0s) Loss: 0.2597(0.3231) \n",
      "Epoch: [29][0/19] Elapsed 0m 0s (remain 0m 2s) Loss: 0.0808(0.0808) Grad: 4.1521  LR: 0.000050  \n",
      "Epoch: [29][10/19] Elapsed 0m 1s (remain 0m 1s) Loss: 0.0714(0.0923) Grad: 6.9948  LR: 0.000050  \n",
      "Epoch: [29][18/19] Elapsed 0m 2s (remain 0m 0s) Loss: 0.0988(0.0952) Grad: 11.0668  LR: 0.000050  \n",
      "EVAL: [0/3] Elapsed 0m 0s (remain 0m 0s) Loss: 0.3448(0.3448) \n"
     ]
    },
    {
     "name": "stderr",
     "output_type": "stream",
     "text": [
      "Epoch 29 - avg_train_loss: 0.0952  avg_val_loss: 0.3209  time: 4s\n",
      "Epoch 29 - Score: 0.3228\n"
     ]
    },
    {
     "name": "stdout",
     "output_type": "stream",
     "text": [
      "EVAL: [2/3] Elapsed 0m 0s (remain 0m 0s) Loss: 0.2473(0.3209) \n",
      "Epoch: [30][0/19] Elapsed 0m 0s (remain 0m 2s) Loss: 0.0778(0.0778) Grad: 7.5558  LR: 0.000224  \n",
      "Epoch: [30][10/19] Elapsed 0m 1s (remain 0m 1s) Loss: 0.2115(0.1682) Grad: 21.3651  LR: 0.000224  \n",
      "Epoch: [30][18/19] Elapsed 0m 2s (remain 0m 0s) Loss: 0.1370(0.1631) Grad: 14.6079  LR: 0.000224  \n",
      "EVAL: [0/3] Elapsed 0m 0s (remain 0m 0s) Loss: 0.3960(0.3960) \n"
     ]
    },
    {
     "name": "stderr",
     "output_type": "stream",
     "text": [
      "Epoch 30 - avg_train_loss: 0.1631  avg_val_loss: 0.3370  time: 4s\n",
      "Epoch 30 - Score: 0.3413\n"
     ]
    },
    {
     "name": "stdout",
     "output_type": "stream",
     "text": [
      "EVAL: [2/3] Elapsed 0m 0s (remain 0m 0s) Loss: 0.2523(0.3370) \n",
      "Epoch: [31][0/19] Elapsed 0m 0s (remain 0m 2s) Loss: 0.1818(0.1818) Grad: 9.7498  LR: 0.000133  \n",
      "Epoch: [31][10/19] Elapsed 0m 1s (remain 0m 1s) Loss: 0.2531(0.1782) Grad: 19.9100  LR: 0.000133  \n",
      "Epoch: [31][18/19] Elapsed 0m 2s (remain 0m 0s) Loss: 0.1951(0.1902) Grad: 15.8455  LR: 0.000133  \n",
      "EVAL: [0/3] Elapsed 0m 0s (remain 0m 0s) Loss: 0.3691(0.3691) \n"
     ]
    },
    {
     "name": "stderr",
     "output_type": "stream",
     "text": [
      "Epoch 31 - avg_train_loss: 0.1902  avg_val_loss: 0.3967  time: 4s\n",
      "Epoch 31 - Score: 0.3993\n"
     ]
    },
    {
     "name": "stdout",
     "output_type": "stream",
     "text": [
      "EVAL: [2/3] Elapsed 0m 0s (remain 0m 0s) Loss: 0.3364(0.3967) \n",
      "Epoch: [32][0/19] Elapsed 0m 0s (remain 0m 2s) Loss: 0.1984(0.1984) Grad: 17.4321  LR: 0.000057  \n",
      "Epoch: [32][10/19] Elapsed 0m 1s (remain 0m 1s) Loss: 0.1193(0.1705) Grad: 4.2846  LR: 0.000057  \n",
      "Epoch: [32][18/19] Elapsed 0m 2s (remain 0m 0s) Loss: 0.2125(0.1674) Grad: 16.1662  LR: 0.000057  \n",
      "EVAL: [0/3] Elapsed 0m 0s (remain 0m 0s) Loss: 0.4014(0.4014) \n"
     ]
    },
    {
     "name": "stderr",
     "output_type": "stream",
     "text": [
      "Epoch 32 - avg_train_loss: 0.1674  avg_val_loss: 0.3442  time: 4s\n",
      "Epoch 32 - Score: 0.3484\n"
     ]
    },
    {
     "name": "stdout",
     "output_type": "stream",
     "text": [
      "EVAL: [2/3] Elapsed 0m 0s (remain 0m 0s) Loss: 0.2538(0.3442) \n",
      "Epoch: [33][0/19] Elapsed 0m 0s (remain 0m 2s) Loss: 0.2034(0.2034) Grad: 17.9920  LR: 0.000009  \n",
      "Epoch: [33][10/19] Elapsed 0m 1s (remain 0m 1s) Loss: 0.1331(0.1427) Grad: 6.7990  LR: 0.000009  \n",
      "Epoch: [33][18/19] Elapsed 0m 2s (remain 0m 0s) Loss: 0.1134(0.1342) Grad: 12.9698  LR: 0.000009  \n",
      "EVAL: [0/3] Elapsed 0m 0s (remain 0m 0s) Loss: 0.3624(0.3624) \n"
     ]
    },
    {
     "name": "stderr",
     "output_type": "stream",
     "text": [
      "Epoch 33 - avg_train_loss: 0.1342  avg_val_loss: 0.3216  time: 4s\n",
      "Epoch 33 - Score: 0.3249\n"
     ]
    },
    {
     "name": "stdout",
     "output_type": "stream",
     "text": [
      "EVAL: [2/3] Elapsed 0m 0s (remain 0m 0s) Loss: 0.2311(0.3216) \n",
      "Epoch: [34][0/19] Elapsed 0m 0s (remain 0m 2s) Loss: 0.0967(0.0967) Grad: 2.5014  LR: 0.000001  \n",
      "Epoch: [34][10/19] Elapsed 0m 1s (remain 0m 1s) Loss: 0.0746(0.0993) Grad: 5.9979  LR: 0.000001  \n",
      "Epoch: [34][18/19] Elapsed 0m 2s (remain 0m 0s) Loss: 0.0738(0.0960) Grad: 8.8658  LR: 0.000001  \n",
      "EVAL: [0/3] Elapsed 0m 0s (remain 0m 0s) Loss: 0.3539(0.3539) \n"
     ]
    },
    {
     "name": "stderr",
     "output_type": "stream",
     "text": [
      "Epoch 34 - avg_train_loss: 0.0960  avg_val_loss: 0.3221  time: 4s\n",
      "Epoch 34 - Score: 0.3244\n"
     ]
    },
    {
     "name": "stdout",
     "output_type": "stream",
     "text": [
      "EVAL: [2/3] Elapsed 0m 0s (remain 0m 0s) Loss: 0.2410(0.3221) \n",
      "Epoch: [35][0/19] Elapsed 0m 0s (remain 0m 2s) Loss: 0.0738(0.0738) Grad: 5.0218  LR: 0.000050  \n",
      "Epoch: [35][10/19] Elapsed 0m 1s (remain 0m 1s) Loss: 0.0835(0.0854) Grad: 5.5729  LR: 0.000050  \n",
      "Epoch: [35][18/19] Elapsed 0m 2s (remain 0m 0s) Loss: 0.0669(0.0866) Grad: 9.0417  LR: 0.000050  \n",
      "EVAL: [0/3] Elapsed 0m 0s (remain 0m 0s) Loss: 0.3448(0.3448) \n"
     ]
    },
    {
     "name": "stderr",
     "output_type": "stream",
     "text": [
      "Epoch 35 - avg_train_loss: 0.0866  avg_val_loss: 0.3120  time: 4s\n",
      "Epoch 35 - Score: 0.3152\n"
     ]
    },
    {
     "name": "stdout",
     "output_type": "stream",
     "text": [
      "EVAL: [2/3] Elapsed 0m 0s (remain 0m 0s) Loss: 0.2172(0.3120) \n",
      "Epoch: [36][0/19] Elapsed 0m 0s (remain 0m 2s) Loss: 0.0991(0.0991) Grad: 9.4567  LR: 0.000224  \n",
      "Epoch: [36][10/19] Elapsed 0m 1s (remain 0m 1s) Loss: 0.0789(0.0972) Grad: 4.7404  LR: 0.000224  \n",
      "Epoch: [36][18/19] Elapsed 0m 2s (remain 0m 0s) Loss: 0.2150(0.1144) Grad: 18.1858  LR: 0.000224  \n",
      "EVAL: [0/3] Elapsed 0m 0s (remain 0m 0s) Loss: 0.3277(0.3277) \n"
     ]
    },
    {
     "name": "stderr",
     "output_type": "stream",
     "text": [
      "Epoch 36 - avg_train_loss: 0.1144  avg_val_loss: 0.3265  time: 4s\n",
      "Epoch 36 - Score: 0.3267\n"
     ]
    },
    {
     "name": "stdout",
     "output_type": "stream",
     "text": [
      "EVAL: [2/3] Elapsed 0m 0s (remain 0m 0s) Loss: 0.3028(0.3265) \n",
      "Epoch: [37][0/19] Elapsed 0m 0s (remain 0m 2s) Loss: 0.1617(0.1617) Grad: 17.8199  LR: 0.000133  \n",
      "Epoch: [37][10/19] Elapsed 0m 1s (remain 0m 1s) Loss: 0.1199(0.1450) Grad: 4.2894  LR: 0.000133  \n",
      "Epoch: [37][18/19] Elapsed 0m 2s (remain 0m 0s) Loss: 0.1673(0.1428) Grad: 7.1263  LR: 0.000133  \n",
      "EVAL: [0/3] Elapsed 0m 0s (remain 0m 0s) Loss: 0.3072(0.3072) \n"
     ]
    },
    {
     "name": "stderr",
     "output_type": "stream",
     "text": [
      "Epoch 37 - avg_train_loss: 0.1428  avg_val_loss: 0.3078  time: 4s\n",
      "Epoch 37 - Score: 0.3099\n",
      "Epoch 37 - Save Best Score: 0.3099 Model\n"
     ]
    },
    {
     "name": "stdout",
     "output_type": "stream",
     "text": [
      "EVAL: [2/3] Elapsed 0m 0s (remain 0m 0s) Loss: 0.2334(0.3078) \n",
      "Epoch: [38][0/19] Elapsed 0m 0s (remain 0m 2s) Loss: 0.1440(0.1440) Grad: 3.3959  LR: 0.000057  \n",
      "Epoch: [38][10/19] Elapsed 0m 1s (remain 0m 1s) Loss: 0.1228(0.1390) Grad: 7.2362  LR: 0.000057  \n",
      "Epoch: [38][18/19] Elapsed 0m 2s (remain 0m 0s) Loss: 0.1504(0.1317) Grad: 12.8232  LR: 0.000057  \n",
      "EVAL: [0/3] Elapsed 0m 0s (remain 0m 0s) Loss: 0.3330(0.3330) \n"
     ]
    },
    {
     "name": "stderr",
     "output_type": "stream",
     "text": [
      "Epoch 38 - avg_train_loss: 0.1317  avg_val_loss: 0.2978  time: 4s\n",
      "Epoch 38 - Score: 0.2998\n",
      "Epoch 38 - Save Best Score: 0.2998 Model\n"
     ]
    },
    {
     "name": "stdout",
     "output_type": "stream",
     "text": [
      "EVAL: [2/3] Elapsed 0m 0s (remain 0m 0s) Loss: 0.2356(0.2978) \n",
      "Epoch: [39][0/19] Elapsed 0m 0s (remain 0m 2s) Loss: 0.1091(0.1091) Grad: 4.5012  LR: 0.000009  \n",
      "Epoch: [39][10/19] Elapsed 0m 1s (remain 0m 1s) Loss: 0.0995(0.1146) Grad: 4.2599  LR: 0.000009  \n",
      "Epoch: [39][18/19] Elapsed 0m 2s (remain 0m 0s) Loss: 0.0832(0.1095) Grad: 5.4982  LR: 0.000009  \n",
      "EVAL: [0/3] Elapsed 0m 0s (remain 0m 0s) Loss: 0.3427(0.3427) \n"
     ]
    },
    {
     "name": "stderr",
     "output_type": "stream",
     "text": [
      "Epoch 39 - avg_train_loss: 0.1095  avg_val_loss: 0.3206  time: 4s\n",
      "Epoch 39 - Score: 0.3221\n"
     ]
    },
    {
     "name": "stdout",
     "output_type": "stream",
     "text": [
      "EVAL: [2/3] Elapsed 0m 0s (remain 0m 0s) Loss: 0.2550(0.3206) \n",
      "Epoch: [40][0/19] Elapsed 0m 0s (remain 0m 2s) Loss: 0.1147(0.1147) Grad: 11.2065  LR: 0.000001  \n",
      "Epoch: [40][10/19] Elapsed 0m 1s (remain 0m 1s) Loss: 0.0670(0.0997) Grad: 7.5933  LR: 0.000001  \n",
      "Epoch: [40][18/19] Elapsed 0m 2s (remain 0m 0s) Loss: 0.0730(0.0940) Grad: 4.0572  LR: 0.000001  \n",
      "EVAL: [0/3] Elapsed 0m 0s (remain 0m 0s) Loss: 0.3431(0.3431) \n"
     ]
    },
    {
     "name": "stderr",
     "output_type": "stream",
     "text": [
      "Epoch 40 - avg_train_loss: 0.0940  avg_val_loss: 0.3145  time: 4s\n",
      "Epoch 40 - Score: 0.3171\n",
      "========== fold: 4 result ==========\n",
      "Score: 0.2998\n",
      "========== CV ==========\n",
      "Score: 0.2996\n",
      "========== seed111 ==========\n",
      "========== fold: 0 training ==========\n"
     ]
    },
    {
     "name": "stdout",
     "output_type": "stream",
     "text": [
      "EVAL: [2/3] Elapsed 0m 0s (remain 0m 0s) Loss: 0.2271(0.3145) \n",
      "Epoch: [1][0/19] Elapsed 0m 0s (remain 0m 2s) Loss: 2.9483(2.9483) Grad: 27.0780  LR: 0.000100  \n",
      "Epoch: [1][10/19] Elapsed 0m 1s (remain 0m 1s) Loss: 0.6568(1.2161) Grad: 17.5153  LR: 0.000100  \n",
      "Epoch: [1][18/19] Elapsed 0m 2s (remain 0m 0s) Loss: 0.5246(0.9214) Grad: 17.1536  LR: 0.000100  \n",
      "EVAL: [0/3] Elapsed 0m 0s (remain 0m 0s) Loss: 0.4746(0.4746) \n"
     ]
    },
    {
     "name": "stderr",
     "output_type": "stream",
     "text": [
      "Epoch 1 - avg_train_loss: 0.9214  avg_val_loss: 0.4518  time: 3s\n",
      "Epoch 1 - Score: 0.4526\n",
      "Epoch 1 - Save Best Score: 0.4526 Model\n"
     ]
    },
    {
     "name": "stdout",
     "output_type": "stream",
     "text": [
      "EVAL: [2/3] Elapsed 0m 0s (remain 0m 0s) Loss: 0.3967(0.4518) \n",
      "Epoch: [2][0/19] Elapsed 0m 0s (remain 0m 2s) Loss: 0.3366(0.3366) Grad: 10.1575  LR: 0.000057  \n",
      "Epoch: [2][10/19] Elapsed 0m 1s (remain 0m 1s) Loss: 0.4316(0.4263) Grad: 25.8195  LR: 0.000057  \n",
      "Epoch: [2][18/19] Elapsed 0m 2s (remain 0m 0s) Loss: 0.3851(0.4140) Grad: 14.9456  LR: 0.000057  \n",
      "EVAL: [0/3] Elapsed 0m 0s (remain 0m 0s) Loss: 0.4910(0.4910) \n"
     ]
    },
    {
     "name": "stderr",
     "output_type": "stream",
     "text": [
      "Epoch 2 - avg_train_loss: 0.4140  avg_val_loss: 0.4368  time: 3s\n",
      "Epoch 2 - Score: 0.4398\n",
      "Epoch 2 - Save Best Score: 0.4398 Model\n"
     ]
    },
    {
     "name": "stdout",
     "output_type": "stream",
     "text": [
      "EVAL: [2/3] Elapsed 0m 0s (remain 0m 0s) Loss: 0.3493(0.4368) \n",
      "Epoch: [3][0/19] Elapsed 0m 0s (remain 0m 2s) Loss: 0.3263(0.3263) Grad: 21.2244  LR: 0.000009  \n",
      "Epoch: [3][10/19] Elapsed 0m 1s (remain 0m 1s) Loss: 0.2682(0.3300) Grad: 17.0480  LR: 0.000009  \n",
      "Epoch: [3][18/19] Elapsed 0m 2s (remain 0m 0s) Loss: 0.3376(0.3256) Grad: 12.0954  LR: 0.000009  \n",
      "EVAL: [0/3] Elapsed 0m 0s (remain 0m 0s) Loss: 0.4282(0.4282) \n"
     ]
    },
    {
     "name": "stderr",
     "output_type": "stream",
     "text": [
      "Epoch 3 - avg_train_loss: 0.3256  avg_val_loss: 0.3543  time: 3s\n",
      "Epoch 3 - Score: 0.3613\n",
      "Epoch 3 - Save Best Score: 0.3613 Model\n"
     ]
    },
    {
     "name": "stdout",
     "output_type": "stream",
     "text": [
      "EVAL: [2/3] Elapsed 0m 0s (remain 0m 0s) Loss: 0.2339(0.3543) \n",
      "Epoch: [4][0/19] Elapsed 0m 0s (remain 0m 2s) Loss: 0.3128(0.3128) Grad: 9.5533  LR: 0.000001  \n",
      "Epoch: [4][10/19] Elapsed 0m 1s (remain 0m 1s) Loss: 0.2913(0.2802) Grad: 10.2400  LR: 0.000001  \n",
      "Epoch: [4][18/19] Elapsed 0m 2s (remain 0m 0s) Loss: 0.3496(0.2831) Grad: 6.9586  LR: 0.000001  \n",
      "EVAL: [0/3] Elapsed 0m 0s (remain 0m 0s) Loss: 0.3976(0.3976) \n"
     ]
    },
    {
     "name": "stderr",
     "output_type": "stream",
     "text": [
      "Epoch 4 - avg_train_loss: 0.2831  avg_val_loss: 0.3451  time: 3s\n",
      "Epoch 4 - Score: 0.3494\n",
      "Epoch 4 - Save Best Score: 0.3494 Model\n"
     ]
    },
    {
     "name": "stdout",
     "output_type": "stream",
     "text": [
      "EVAL: [2/3] Elapsed 0m 0s (remain 0m 0s) Loss: 0.2436(0.3451) \n",
      "Epoch: [5][0/19] Elapsed 0m 0s (remain 0m 2s) Loss: 0.2572(0.2572) Grad: 4.4766  LR: 0.000050  \n",
      "Epoch: [5][10/19] Elapsed 0m 1s (remain 0m 1s) Loss: 0.2588(0.2730) Grad: 8.1940  LR: 0.000050  \n",
      "Epoch: [5][18/19] Elapsed 0m 2s (remain 0m 0s) Loss: 0.1634(0.2680) Grad: 12.5385  LR: 0.000050  \n",
      "EVAL: [0/3] Elapsed 0m 0s (remain 0m 0s) Loss: 0.4212(0.4212) \n"
     ]
    },
    {
     "name": "stderr",
     "output_type": "stream",
     "text": [
      "Epoch 5 - avg_train_loss: 0.2680  avg_val_loss: 0.3701  time: 4s\n",
      "Epoch 5 - Score: 0.3731\n"
     ]
    },
    {
     "name": "stdout",
     "output_type": "stream",
     "text": [
      "EVAL: [2/3] Elapsed 0m 0s (remain 0m 0s) Loss: 0.2933(0.3701) \n",
      "Epoch: [6][0/19] Elapsed 0m 0s (remain 0m 2s) Loss: 0.2333(0.2333) Grad: 4.7494  LR: 0.000224  \n",
      "Epoch: [6][10/19] Elapsed 0m 1s (remain 0m 1s) Loss: 0.3406(0.3125) Grad: 23.9543  LR: 0.000224  \n",
      "Epoch: [6][18/19] Elapsed 0m 2s (remain 0m 0s) Loss: 0.3672(0.3447) Grad: 22.0414  LR: 0.000224  \n",
      "EVAL: [0/3] Elapsed 0m 0s (remain 0m 0s) Loss: 0.4963(0.4963) \n"
     ]
    },
    {
     "name": "stderr",
     "output_type": "stream",
     "text": [
      "Epoch 6 - avg_train_loss: 0.3447  avg_val_loss: 0.4249  time: 3s\n",
      "Epoch 6 - Score: 0.4293\n"
     ]
    },
    {
     "name": "stdout",
     "output_type": "stream",
     "text": [
      "EVAL: [2/3] Elapsed 0m 0s (remain 0m 0s) Loss: 0.3532(0.4249) \n",
      "Epoch: [7][0/19] Elapsed 0m 0s (remain 0m 2s) Loss: 0.3577(0.3577) Grad: 20.9936  LR: 0.000133  \n",
      "Epoch: [7][10/19] Elapsed 0m 1s (remain 0m 1s) Loss: 0.2932(0.3096) Grad: 10.2239  LR: 0.000133  \n",
      "Epoch: [7][18/19] Elapsed 0m 2s (remain 0m 0s) Loss: 0.3818(0.3366) Grad: 22.0163  LR: 0.000133  \n",
      "EVAL: [0/3] Elapsed 0m 0s (remain 0m 0s) Loss: 0.4715(0.4715) \n"
     ]
    },
    {
     "name": "stderr",
     "output_type": "stream",
     "text": [
      "Epoch 7 - avg_train_loss: 0.3366  avg_val_loss: 0.3940  time: 4s\n",
      "Epoch 7 - Score: 0.4001\n"
     ]
    },
    {
     "name": "stdout",
     "output_type": "stream",
     "text": [
      "EVAL: [2/3] Elapsed 0m 0s (remain 0m 0s) Loss: 0.2909(0.3940) \n",
      "Epoch: [8][0/19] Elapsed 0m 0s (remain 0m 2s) Loss: 0.2065(0.2065) Grad: 4.0612  LR: 0.000057  \n",
      "Epoch: [8][10/19] Elapsed 0m 1s (remain 0m 1s) Loss: 0.3238(0.2891) Grad: 18.1900  LR: 0.000057  \n",
      "Epoch: [8][18/19] Elapsed 0m 2s (remain 0m 0s) Loss: 0.1941(0.2929) Grad: 23.7995  LR: 0.000057  \n",
      "EVAL: [0/3] Elapsed 0m 0s (remain 0m 0s) Loss: 0.4038(0.4038) \n"
     ]
    },
    {
     "name": "stderr",
     "output_type": "stream",
     "text": [
      "Epoch 8 - avg_train_loss: 0.2929  avg_val_loss: 0.3657  time: 3s\n",
      "Epoch 8 - Score: 0.3685\n"
     ]
    },
    {
     "name": "stdout",
     "output_type": "stream",
     "text": [
      "EVAL: [2/3] Elapsed 0m 0s (remain 0m 0s) Loss: 0.2713(0.3657) \n",
      "Epoch: [9][0/19] Elapsed 0m 0s (remain 0m 2s) Loss: 0.2606(0.2606) Grad: 13.6140  LR: 0.000009  \n",
      "Epoch: [9][10/19] Elapsed 0m 1s (remain 0m 1s) Loss: 0.1790(0.2121) Grad: 4.0264  LR: 0.000009  \n",
      "Epoch: [9][18/19] Elapsed 0m 2s (remain 0m 0s) Loss: 0.1840(0.2102) Grad: 16.1531  LR: 0.000009  \n",
      "EVAL: [0/3] Elapsed 0m 0s (remain 0m 0s) Loss: 0.4275(0.4275) \n"
     ]
    },
    {
     "name": "stderr",
     "output_type": "stream",
     "text": [
      "Epoch 9 - avg_train_loss: 0.2102  avg_val_loss: 0.3598  time: 4s\n",
      "Epoch 9 - Score: 0.3656\n"
     ]
    },
    {
     "name": "stdout",
     "output_type": "stream",
     "text": [
      "EVAL: [2/3] Elapsed 0m 0s (remain 0m 0s) Loss: 0.2473(0.3598) \n",
      "Epoch: [10][0/19] Elapsed 0m 0s (remain 0m 2s) Loss: 0.1494(0.1494) Grad: 4.5278  LR: 0.000001  \n",
      "Epoch: [10][10/19] Elapsed 0m 1s (remain 0m 1s) Loss: 0.1822(0.1781) Grad: 5.1447  LR: 0.000001  \n",
      "Epoch: [10][18/19] Elapsed 0m 2s (remain 0m 0s) Loss: 0.1567(0.1719) Grad: 11.2195  LR: 0.000001  \n",
      "EVAL: [0/3] Elapsed 0m 0s (remain 0m 0s) Loss: 0.4132(0.4132) \n"
     ]
    },
    {
     "name": "stderr",
     "output_type": "stream",
     "text": [
      "Epoch 10 - avg_train_loss: 0.1719  avg_val_loss: 0.3343  time: 4s\n",
      "Epoch 10 - Score: 0.3439\n",
      "Epoch 10 - Save Best Score: 0.3439 Model\n"
     ]
    },
    {
     "name": "stdout",
     "output_type": "stream",
     "text": [
      "EVAL: [2/3] Elapsed 0m 0s (remain 0m 0s) Loss: 0.1841(0.3343) \n",
      "Epoch: [11][0/19] Elapsed 0m 0s (remain 0m 2s) Loss: 0.2030(0.2030) Grad: 9.3019  LR: 0.000050  \n",
      "Epoch: [11][10/19] Elapsed 0m 1s (remain 0m 1s) Loss: 0.2076(0.1804) Grad: 3.6048  LR: 0.000050  \n",
      "Epoch: [11][18/19] Elapsed 0m 2s (remain 0m 0s) Loss: 0.1423(0.1705) Grad: 6.8220  LR: 0.000050  \n",
      "EVAL: [0/3] Elapsed 0m 0s (remain 0m 0s) Loss: 0.4139(0.4139) \n"
     ]
    },
    {
     "name": "stderr",
     "output_type": "stream",
     "text": [
      "Epoch 11 - avg_train_loss: 0.1705  avg_val_loss: 0.3513  time: 3s\n",
      "Epoch 11 - Score: 0.3571\n"
     ]
    },
    {
     "name": "stdout",
     "output_type": "stream",
     "text": [
      "EVAL: [2/3] Elapsed 0m 0s (remain 0m 0s) Loss: 0.2316(0.3513) \n",
      "Epoch: [12][0/19] Elapsed 0m 0s (remain 0m 2s) Loss: 0.1459(0.1459) Grad: 10.1428  LR: 0.000224  \n",
      "Epoch: [12][10/19] Elapsed 0m 1s (remain 0m 1s) Loss: 0.2033(0.1575) Grad: 5.1417  LR: 0.000224  \n",
      "Epoch: [12][18/19] Elapsed 0m 2s (remain 0m 0s) Loss: 0.1856(0.1671) Grad: 12.3516  LR: 0.000224  \n",
      "EVAL: [0/3] Elapsed 0m 0s (remain 0m 0s) Loss: 0.4188(0.4188) \n"
     ]
    },
    {
     "name": "stderr",
     "output_type": "stream",
     "text": [
      "Epoch 12 - avg_train_loss: 0.1671  avg_val_loss: 0.3509  time: 3s\n",
      "Epoch 12 - Score: 0.3579\n"
     ]
    },
    {
     "name": "stdout",
     "output_type": "stream",
     "text": [
      "EVAL: [2/3] Elapsed 0m 0s (remain 0m 0s) Loss: 0.2177(0.3509) \n",
      "Epoch: [13][0/19] Elapsed 0m 0s (remain 0m 2s) Loss: 0.1175(0.1175) Grad: 9.5315  LR: 0.000133  \n",
      "Epoch: [13][10/19] Elapsed 0m 1s (remain 0m 1s) Loss: 0.3292(0.2422) Grad: 28.0769  LR: 0.000133  \n",
      "Epoch: [13][18/19] Elapsed 0m 2s (remain 0m 0s) Loss: 0.2772(0.2553) Grad: 17.4196  LR: 0.000133  \n",
      "EVAL: [0/3] Elapsed 0m 0s (remain 0m 0s) Loss: 0.4990(0.4990) \n"
     ]
    },
    {
     "name": "stderr",
     "output_type": "stream",
     "text": [
      "Epoch 13 - avg_train_loss: 0.2553  avg_val_loss: 0.4667  time: 3s\n",
      "Epoch 13 - Score: 0.4679\n"
     ]
    },
    {
     "name": "stdout",
     "output_type": "stream",
     "text": [
      "EVAL: [2/3] Elapsed 0m 0s (remain 0m 0s) Loss: 0.4011(0.4667) \n",
      "Epoch: [14][0/19] Elapsed 0m 0s (remain 0m 2s) Loss: 0.3940(0.3940) Grad: 24.1421  LR: 0.000057  \n",
      "Epoch: [14][10/19] Elapsed 0m 1s (remain 0m 1s) Loss: 0.2155(0.2466) Grad: 16.2534  LR: 0.000057  \n",
      "Epoch: [14][18/19] Elapsed 0m 2s (remain 0m 0s) Loss: 0.2713(0.2421) Grad: 22.3213  LR: 0.000057  \n",
      "EVAL: [0/3] Elapsed 0m 0s (remain 0m 0s) Loss: 0.4230(0.4230) \n"
     ]
    },
    {
     "name": "stderr",
     "output_type": "stream",
     "text": [
      "Epoch 14 - avg_train_loss: 0.2421  avg_val_loss: 0.3469  time: 3s\n",
      "Epoch 14 - Score: 0.3543\n"
     ]
    },
    {
     "name": "stdout",
     "output_type": "stream",
     "text": [
      "EVAL: [2/3] Elapsed 0m 0s (remain 0m 0s) Loss: 0.2261(0.3469) \n",
      "Epoch: [15][0/19] Elapsed 0m 0s (remain 0m 2s) Loss: 0.2547(0.2547) Grad: 14.7431  LR: 0.000009  \n",
      "Epoch: [15][10/19] Elapsed 0m 1s (remain 0m 1s) Loss: 0.1506(0.1817) Grad: 14.5411  LR: 0.000009  \n",
      "Epoch: [15][18/19] Elapsed 0m 2s (remain 0m 0s) Loss: 0.1610(0.1717) Grad: 6.4686  LR: 0.000009  \n",
      "EVAL: [0/3] Elapsed 0m 0s (remain 0m 0s) Loss: 0.4002(0.4002) \n"
     ]
    },
    {
     "name": "stderr",
     "output_type": "stream",
     "text": [
      "Epoch 15 - avg_train_loss: 0.1717  avg_val_loss: 0.3410  time: 3s\n",
      "Epoch 15 - Score: 0.3458\n"
     ]
    },
    {
     "name": "stdout",
     "output_type": "stream",
     "text": [
      "EVAL: [2/3] Elapsed 0m 0s (remain 0m 0s) Loss: 0.2405(0.3410) \n",
      "Epoch: [16][0/19] Elapsed 0m 0s (remain 0m 2s) Loss: 0.1516(0.1516) Grad: 16.2452  LR: 0.000001  \n",
      "Epoch: [16][10/19] Elapsed 0m 1s (remain 0m 1s) Loss: 0.1230(0.1497) Grad: 7.8827  LR: 0.000001  \n",
      "Epoch: [16][18/19] Elapsed 0m 2s (remain 0m 0s) Loss: 0.0953(0.1424) Grad: 17.9777  LR: 0.000001  \n",
      "EVAL: [0/3] Elapsed 0m 0s (remain 0m 0s) Loss: 0.3933(0.3933) \n"
     ]
    },
    {
     "name": "stderr",
     "output_type": "stream",
     "text": [
      "Epoch 16 - avg_train_loss: 0.1424  avg_val_loss: 0.3333  time: 3s\n",
      "Epoch 16 - Score: 0.3382\n",
      "Epoch 16 - Save Best Score: 0.3382 Model\n"
     ]
    },
    {
     "name": "stdout",
     "output_type": "stream",
     "text": [
      "EVAL: [2/3] Elapsed 0m 0s (remain 0m 0s) Loss: 0.2358(0.3333) \n",
      "Epoch: [17][0/19] Elapsed 0m 0s (remain 0m 2s) Loss: 0.1320(0.1320) Grad: 8.1282  LR: 0.000050  \n",
      "Epoch: [17][10/19] Elapsed 0m 1s (remain 0m 1s) Loss: 0.1247(0.1387) Grad: 6.8316  LR: 0.000050  \n",
      "Epoch: [17][18/19] Elapsed 0m 2s (remain 0m 0s) Loss: 0.1428(0.1336) Grad: 4.6293  LR: 0.000050  \n",
      "EVAL: [0/3] Elapsed 0m 0s (remain 0m 0s) Loss: 0.3990(0.3990) \n"
     ]
    },
    {
     "name": "stderr",
     "output_type": "stream",
     "text": [
      "Epoch 17 - avg_train_loss: 0.1336  avg_val_loss: 0.3415  time: 3s\n",
      "Epoch 17 - Score: 0.3454\n"
     ]
    },
    {
     "name": "stdout",
     "output_type": "stream",
     "text": [
      "EVAL: [2/3] Elapsed 0m 0s (remain 0m 0s) Loss: 0.2631(0.3415) \n",
      "Epoch: [18][0/19] Elapsed 0m 0s (remain 0m 2s) Loss: 0.1362(0.1362) Grad: 13.8525  LR: 0.000224  \n",
      "Epoch: [18][10/19] Elapsed 0m 1s (remain 0m 1s) Loss: 0.1693(0.1534) Grad: 14.3902  LR: 0.000224  \n",
      "Epoch: [18][18/19] Elapsed 0m 2s (remain 0m 0s) Loss: 0.1619(0.1597) Grad: 16.0678  LR: 0.000224  \n",
      "EVAL: [0/3] Elapsed 0m 0s (remain 0m 0s) Loss: 0.4150(0.4150) \n"
     ]
    },
    {
     "name": "stderr",
     "output_type": "stream",
     "text": [
      "Epoch 18 - avg_train_loss: 0.1597  avg_val_loss: 0.3401  time: 3s\n",
      "Epoch 18 - Score: 0.3473\n"
     ]
    },
    {
     "name": "stdout",
     "output_type": "stream",
     "text": [
      "EVAL: [2/3] Elapsed 0m 0s (remain 0m 0s) Loss: 0.2214(0.3401) \n",
      "Epoch: [19][0/19] Elapsed 0m 0s (remain 0m 2s) Loss: 0.1668(0.1668) Grad: 10.6966  LR: 0.000133  \n",
      "Epoch: [19][10/19] Elapsed 0m 1s (remain 0m 1s) Loss: 0.1564(0.1758) Grad: 15.7170  LR: 0.000133  \n",
      "Epoch: [19][18/19] Elapsed 0m 2s (remain 0m 0s) Loss: 0.1744(0.1809) Grad: 8.6485  LR: 0.000133  \n",
      "EVAL: [0/3] Elapsed 0m 0s (remain 0m 0s) Loss: 0.4237(0.4237) \n"
     ]
    },
    {
     "name": "stderr",
     "output_type": "stream",
     "text": [
      "Epoch 19 - avg_train_loss: 0.1809  avg_val_loss: 0.3402  time: 4s\n",
      "Epoch 19 - Score: 0.3486\n"
     ]
    },
    {
     "name": "stdout",
     "output_type": "stream",
     "text": [
      "EVAL: [2/3] Elapsed 0m 0s (remain 0m 0s) Loss: 0.2236(0.3402) \n",
      "Epoch: [20][0/19] Elapsed 0m 0s (remain 0m 2s) Loss: 0.1659(0.1659) Grad: 11.4472  LR: 0.000057  \n",
      "Epoch: [20][10/19] Elapsed 0m 1s (remain 0m 1s) Loss: 0.2336(0.1960) Grad: 22.2646  LR: 0.000057  \n",
      "Epoch: [20][18/19] Elapsed 0m 2s (remain 0m 0s) Loss: 0.1577(0.1940) Grad: 16.7663  LR: 0.000057  \n",
      "EVAL: [0/3] Elapsed 0m 0s (remain 0m 0s) Loss: 0.4500(0.4500) \n"
     ]
    },
    {
     "name": "stderr",
     "output_type": "stream",
     "text": [
      "Epoch 20 - avg_train_loss: 0.1940  avg_val_loss: 0.3780  time: 4s\n",
      "Epoch 20 - Score: 0.3841\n"
     ]
    },
    {
     "name": "stdout",
     "output_type": "stream",
     "text": [
      "EVAL: [2/3] Elapsed 0m 0s (remain 0m 0s) Loss: 0.2628(0.3780) \n",
      "Epoch: [21][0/19] Elapsed 0m 0s (remain 0m 2s) Loss: 0.1955(0.1955) Grad: 22.6329  LR: 0.000009  \n",
      "Epoch: [21][10/19] Elapsed 0m 1s (remain 0m 1s) Loss: 0.1537(0.1515) Grad: 15.9916  LR: 0.000009  \n",
      "Epoch: [21][18/19] Elapsed 0m 2s (remain 0m 0s) Loss: 0.1484(0.1475) Grad: 16.2101  LR: 0.000009  \n",
      "EVAL: [0/3] Elapsed 0m 0s (remain 0m 0s) Loss: 0.4157(0.4157) \n"
     ]
    },
    {
     "name": "stderr",
     "output_type": "stream",
     "text": [
      "Epoch 21 - avg_train_loss: 0.1475  avg_val_loss: 0.3298  time: 4s\n",
      "Epoch 21 - Score: 0.3397\n"
     ]
    },
    {
     "name": "stdout",
     "output_type": "stream",
     "text": [
      "EVAL: [2/3] Elapsed 0m 0s (remain 0m 0s) Loss: 0.1919(0.3298) \n",
      "Epoch: [22][0/19] Elapsed 0m 0s (remain 0m 2s) Loss: 0.1099(0.1099) Grad: 6.8192  LR: 0.000001  \n",
      "Epoch: [22][10/19] Elapsed 0m 1s (remain 0m 1s) Loss: 0.1271(0.1211) Grad: 4.5771  LR: 0.000001  \n",
      "Epoch: [22][18/19] Elapsed 0m 2s (remain 0m 0s) Loss: 0.1316(0.1194) Grad: 3.2750  LR: 0.000001  \n",
      "EVAL: [0/3] Elapsed 0m 0s (remain 0m 0s) Loss: 0.3921(0.3921) \n"
     ]
    },
    {
     "name": "stderr",
     "output_type": "stream",
     "text": [
      "Epoch 22 - avg_train_loss: 0.1194  avg_val_loss: 0.3214  time: 3s\n",
      "Epoch 22 - Score: 0.3278\n",
      "Epoch 22 - Save Best Score: 0.3278 Model\n"
     ]
    },
    {
     "name": "stdout",
     "output_type": "stream",
     "text": [
      "EVAL: [2/3] Elapsed 0m 0s (remain 0m 0s) Loss: 0.2201(0.3214) \n",
      "Epoch: [23][0/19] Elapsed 0m 0s (remain 0m 2s) Loss: 0.1515(0.1515) Grad: 3.7080  LR: 0.000050  \n",
      "Epoch: [23][10/19] Elapsed 0m 1s (remain 0m 1s) Loss: 0.1161(0.1142) Grad: 11.0950  LR: 0.000050  \n",
      "Epoch: [23][18/19] Elapsed 0m 2s (remain 0m 0s) Loss: 0.1282(0.1136) Grad: 13.0294  LR: 0.000050  \n",
      "EVAL: [0/3] Elapsed 0m 0s (remain 0m 0s) Loss: 0.4074(0.4074) \n"
     ]
    },
    {
     "name": "stderr",
     "output_type": "stream",
     "text": [
      "Epoch 23 - avg_train_loss: 0.1136  avg_val_loss: 0.3230  time: 3s\n",
      "Epoch 23 - Score: 0.3321\n"
     ]
    },
    {
     "name": "stdout",
     "output_type": "stream",
     "text": [
      "EVAL: [2/3] Elapsed 0m 0s (remain 0m 0s) Loss: 0.2001(0.3230) \n",
      "Epoch: [24][0/19] Elapsed 0m 0s (remain 0m 2s) Loss: 0.0851(0.0851) Grad: 3.1865  LR: 0.000224  \n",
      "Epoch: [24][10/19] Elapsed 0m 1s (remain 0m 1s) Loss: 0.1309(0.1402) Grad: 8.5577  LR: 0.000224  \n",
      "Epoch: [24][18/19] Elapsed 0m 2s (remain 0m 0s) Loss: 0.1665(0.1417) Grad: 6.0150  LR: 0.000224  \n",
      "EVAL: [0/3] Elapsed 0m 0s (remain 0m 0s) Loss: 0.4069(0.4069) \n"
     ]
    },
    {
     "name": "stderr",
     "output_type": "stream",
     "text": [
      "Epoch 24 - avg_train_loss: 0.1417  avg_val_loss: 0.3667  time: 3s\n",
      "Epoch 24 - Score: 0.3710\n"
     ]
    },
    {
     "name": "stdout",
     "output_type": "stream",
     "text": [
      "EVAL: [2/3] Elapsed 0m 0s (remain 0m 0s) Loss: 0.2456(0.3667) \n",
      "Epoch: [25][0/19] Elapsed 0m 0s (remain 0m 2s) Loss: 0.1437(0.1437) Grad: 12.6562  LR: 0.000133  \n",
      "Epoch: [25][10/19] Elapsed 0m 1s (remain 0m 1s) Loss: 0.2121(0.1814) Grad: 21.1834  LR: 0.000133  \n",
      "Epoch: [25][18/19] Elapsed 0m 2s (remain 0m 0s) Loss: 0.1899(0.2072) Grad: 21.4767  LR: 0.000133  \n",
      "EVAL: [0/3] Elapsed 0m 0s (remain 0m 0s) Loss: 0.4403(0.4403) \n"
     ]
    },
    {
     "name": "stderr",
     "output_type": "stream",
     "text": [
      "Epoch 25 - avg_train_loss: 0.2072  avg_val_loss: 0.3615  time: 3s\n",
      "Epoch 25 - Score: 0.3680\n"
     ]
    },
    {
     "name": "stdout",
     "output_type": "stream",
     "text": [
      "EVAL: [2/3] Elapsed 0m 0s (remain 0m 0s) Loss: 0.2673(0.3615) \n",
      "Epoch: [26][0/19] Elapsed 0m 0s (remain 0m 2s) Loss: 0.2186(0.2186) Grad: 17.1554  LR: 0.000057  \n",
      "Epoch: [26][10/19] Elapsed 0m 1s (remain 0m 1s) Loss: 0.1242(0.1709) Grad: 8.4884  LR: 0.000057  \n",
      "Epoch: [26][18/19] Elapsed 0m 2s (remain 0m 0s) Loss: 0.1665(0.1799) Grad: 10.9652  LR: 0.000057  \n",
      "EVAL: [0/3] Elapsed 0m 0s (remain 0m 0s) Loss: 0.4180(0.4180) \n"
     ]
    },
    {
     "name": "stderr",
     "output_type": "stream",
     "text": [
      "Epoch 26 - avg_train_loss: 0.1799  avg_val_loss: 0.3583  time: 3s\n",
      "Epoch 26 - Score: 0.3621\n"
     ]
    },
    {
     "name": "stdout",
     "output_type": "stream",
     "text": [
      "EVAL: [2/3] Elapsed 0m 0s (remain 0m 0s) Loss: 0.2859(0.3583) \n",
      "Epoch: [27][0/19] Elapsed 0m 0s (remain 0m 2s) Loss: 0.2019(0.2019) Grad: 19.3063  LR: 0.000009  \n",
      "Epoch: [27][10/19] Elapsed 0m 1s (remain 0m 1s) Loss: 0.1047(0.1558) Grad: 10.3525  LR: 0.000009  \n",
      "Epoch: [27][18/19] Elapsed 0m 2s (remain 0m 0s) Loss: 0.1255(0.1455) Grad: 10.4826  LR: 0.000009  \n",
      "EVAL: [0/3] Elapsed 0m 0s (remain 0m 0s) Loss: 0.3987(0.3987) \n"
     ]
    },
    {
     "name": "stderr",
     "output_type": "stream",
     "text": [
      "Epoch 27 - avg_train_loss: 0.1455  avg_val_loss: 0.3169  time: 4s\n",
      "Epoch 27 - Score: 0.3252\n",
      "Epoch 27 - Save Best Score: 0.3252 Model\n"
     ]
    },
    {
     "name": "stdout",
     "output_type": "stream",
     "text": [
      "EVAL: [2/3] Elapsed 0m 0s (remain 0m 0s) Loss: 0.2090(0.3169) \n",
      "Epoch: [28][0/19] Elapsed 0m 0s (remain 0m 2s) Loss: 0.1137(0.1137) Grad: 3.1308  LR: 0.000001  \n",
      "Epoch: [28][10/19] Elapsed 0m 1s (remain 0m 1s) Loss: 0.0855(0.0875) Grad: 5.1091  LR: 0.000001  \n",
      "Epoch: [28][18/19] Elapsed 0m 2s (remain 0m 0s) Loss: 0.1056(0.0969) Grad: 6.6656  LR: 0.000001  \n",
      "EVAL: [0/3] Elapsed 0m 0s (remain 0m 0s) Loss: 0.4015(0.4015) \n"
     ]
    },
    {
     "name": "stderr",
     "output_type": "stream",
     "text": [
      "Epoch 28 - avg_train_loss: 0.0969  avg_val_loss: 0.3265  time: 4s\n",
      "Epoch 28 - Score: 0.3345\n"
     ]
    },
    {
     "name": "stdout",
     "output_type": "stream",
     "text": [
      "EVAL: [2/3] Elapsed 0m 0s (remain 0m 0s) Loss: 0.2000(0.3265) \n",
      "Epoch: [29][0/19] Elapsed 0m 0s (remain 0m 2s) Loss: 0.1136(0.1136) Grad: 3.0683  LR: 0.000050  \n",
      "Epoch: [29][10/19] Elapsed 0m 1s (remain 0m 1s) Loss: 0.1013(0.0979) Grad: 3.5744  LR: 0.000050  \n",
      "Epoch: [29][18/19] Elapsed 0m 2s (remain 0m 0s) Loss: 0.0970(0.0958) Grad: 3.1812  LR: 0.000050  \n",
      "EVAL: [0/3] Elapsed 0m 0s (remain 0m 0s) Loss: 0.3890(0.3890) \n"
     ]
    },
    {
     "name": "stderr",
     "output_type": "stream",
     "text": [
      "Epoch 29 - avg_train_loss: 0.0958  avg_val_loss: 0.3108  time: 3s\n",
      "Epoch 29 - Score: 0.3188\n",
      "Epoch 29 - Save Best Score: 0.3188 Model\n"
     ]
    },
    {
     "name": "stdout",
     "output_type": "stream",
     "text": [
      "EVAL: [2/3] Elapsed 0m 0s (remain 0m 0s) Loss: 0.2028(0.3108) \n",
      "Epoch: [30][0/19] Elapsed 0m 0s (remain 0m 2s) Loss: 0.0773(0.0773) Grad: 13.6046  LR: 0.000224  \n",
      "Epoch: [30][10/19] Elapsed 0m 1s (remain 0m 1s) Loss: 0.1066(0.1088) Grad: 12.5294  LR: 0.000224  \n",
      "Epoch: [30][18/19] Elapsed 0m 2s (remain 0m 0s) Loss: 0.1058(0.1072) Grad: 7.0080  LR: 0.000224  \n",
      "EVAL: [0/3] Elapsed 0m 0s (remain 0m 0s) Loss: 0.4024(0.4024) \n"
     ]
    },
    {
     "name": "stderr",
     "output_type": "stream",
     "text": [
      "Epoch 30 - avg_train_loss: 0.1072  avg_val_loss: 0.3343  time: 4s\n",
      "Epoch 30 - Score: 0.3402\n"
     ]
    },
    {
     "name": "stdout",
     "output_type": "stream",
     "text": [
      "EVAL: [2/3] Elapsed 0m 0s (remain 0m 0s) Loss: 0.2334(0.3343) \n",
      "Epoch: [31][0/19] Elapsed 0m 0s (remain 0m 2s) Loss: 0.1294(0.1294) Grad: 12.5848  LR: 0.000133  \n",
      "Epoch: [31][10/19] Elapsed 0m 1s (remain 0m 1s) Loss: 0.1810(0.1600) Grad: 20.2141  LR: 0.000133  \n",
      "Epoch: [31][18/19] Elapsed 0m 2s (remain 0m 0s) Loss: 0.2461(0.1588) Grad: 20.0669  LR: 0.000133  \n",
      "EVAL: [0/3] Elapsed 0m 0s (remain 0m 0s) Loss: 0.4163(0.4163) \n"
     ]
    },
    {
     "name": "stderr",
     "output_type": "stream",
     "text": [
      "Epoch 31 - avg_train_loss: 0.1588  avg_val_loss: 0.3310  time: 3s\n",
      "Epoch 31 - Score: 0.3398\n"
     ]
    },
    {
     "name": "stdout",
     "output_type": "stream",
     "text": [
      "EVAL: [2/3] Elapsed 0m 0s (remain 0m 0s) Loss: 0.2144(0.3310) \n",
      "Epoch: [32][0/19] Elapsed 0m 0s (remain 0m 2s) Loss: 0.1757(0.1757) Grad: 16.5515  LR: 0.000057  \n",
      "Epoch: [32][10/19] Elapsed 0m 1s (remain 0m 1s) Loss: 0.1625(0.1658) Grad: 18.8981  LR: 0.000057  \n",
      "Epoch: [32][18/19] Elapsed 0m 2s (remain 0m 0s) Loss: 0.1244(0.1560) Grad: 3.4403  LR: 0.000057  \n",
      "EVAL: [0/3] Elapsed 0m 0s (remain 0m 0s) Loss: 0.3906(0.3906) \n"
     ]
    },
    {
     "name": "stderr",
     "output_type": "stream",
     "text": [
      "Epoch 32 - avg_train_loss: 0.1560  avg_val_loss: 0.3202  time: 3s\n",
      "Epoch 32 - Score: 0.3263\n"
     ]
    },
    {
     "name": "stdout",
     "output_type": "stream",
     "text": [
      "EVAL: [2/3] Elapsed 0m 0s (remain 0m 0s) Loss: 0.2302(0.3202) \n",
      "Epoch: [33][0/19] Elapsed 0m 0s (remain 0m 2s) Loss: 0.1231(0.1231) Grad: 18.0835  LR: 0.000009  \n",
      "Epoch: [33][10/19] Elapsed 0m 1s (remain 0m 1s) Loss: 0.1053(0.1154) Grad: 12.7473  LR: 0.000009  \n",
      "Epoch: [33][18/19] Elapsed 0m 2s (remain 0m 0s) Loss: 0.1066(0.1108) Grad: 5.6013  LR: 0.000009  \n",
      "EVAL: [0/3] Elapsed 0m 0s (remain 0m 0s) Loss: 0.4183(0.4183) \n"
     ]
    },
    {
     "name": "stderr",
     "output_type": "stream",
     "text": [
      "Epoch 33 - avg_train_loss: 0.1108  avg_val_loss: 0.3263  time: 3s\n",
      "Epoch 33 - Score: 0.3362\n"
     ]
    },
    {
     "name": "stdout",
     "output_type": "stream",
     "text": [
      "EVAL: [2/3] Elapsed 0m 0s (remain 0m 0s) Loss: 0.2128(0.3263) \n",
      "Epoch: [34][0/19] Elapsed 0m 0s (remain 0m 2s) Loss: 0.0894(0.0894) Grad: 12.8912  LR: 0.000001  \n",
      "Epoch: [34][10/19] Elapsed 0m 1s (remain 0m 1s) Loss: 0.0974(0.1001) Grad: 3.5208  LR: 0.000001  \n",
      "Epoch: [34][18/19] Elapsed 0m 2s (remain 0m 0s) Loss: 0.0761(0.0949) Grad: 9.0735  LR: 0.000001  \n",
      "EVAL: [0/3] Elapsed 0m 0s (remain 0m 0s) Loss: 0.3956(0.3956) \n"
     ]
    },
    {
     "name": "stderr",
     "output_type": "stream",
     "text": [
      "Epoch 34 - avg_train_loss: 0.0949  avg_val_loss: 0.3177  time: 3s\n",
      "Epoch 34 - Score: 0.3261\n"
     ]
    },
    {
     "name": "stdout",
     "output_type": "stream",
     "text": [
      "EVAL: [2/3] Elapsed 0m 0s (remain 0m 0s) Loss: 0.1939(0.3177) \n",
      "Epoch: [35][0/19] Elapsed 0m 0s (remain 0m 2s) Loss: 0.1026(0.1026) Grad: 3.1773  LR: 0.000050  \n",
      "Epoch: [35][10/19] Elapsed 0m 1s (remain 0m 1s) Loss: 0.1098(0.0918) Grad: 9.3539  LR: 0.000050  \n",
      "Epoch: [35][18/19] Elapsed 0m 2s (remain 0m 0s) Loss: 0.0752(0.0890) Grad: 15.8441  LR: 0.000050  \n",
      "EVAL: [0/3] Elapsed 0m 0s (remain 0m 0s) Loss: 0.4062(0.4062) \n"
     ]
    },
    {
     "name": "stderr",
     "output_type": "stream",
     "text": [
      "Epoch 35 - avg_train_loss: 0.0890  avg_val_loss: 0.3254  time: 4s\n",
      "Epoch 35 - Score: 0.3338\n"
     ]
    },
    {
     "name": "stdout",
     "output_type": "stream",
     "text": [
      "EVAL: [2/3] Elapsed 0m 0s (remain 0m 0s) Loss: 0.2063(0.3254) \n",
      "Epoch: [36][0/19] Elapsed 0m 0s (remain 0m 2s) Loss: 0.0887(0.0887) Grad: 19.4820  LR: 0.000224  \n",
      "Epoch: [36][10/19] Elapsed 0m 1s (remain 0m 1s) Loss: 0.0724(0.1349) Grad: 12.0965  LR: 0.000224  \n",
      "Epoch: [36][18/19] Elapsed 0m 2s (remain 0m 0s) Loss: 0.1256(0.1433) Grad: 8.5729  LR: 0.000224  \n",
      "EVAL: [0/3] Elapsed 0m 0s (remain 0m 0s) Loss: 0.4504(0.4504) \n"
     ]
    },
    {
     "name": "stderr",
     "output_type": "stream",
     "text": [
      "Epoch 36 - avg_train_loss: 0.1433  avg_val_loss: 0.3682  time: 4s\n",
      "Epoch 36 - Score: 0.3751\n"
     ]
    },
    {
     "name": "stdout",
     "output_type": "stream",
     "text": [
      "EVAL: [2/3] Elapsed 0m 0s (remain 0m 0s) Loss: 0.2732(0.3682) \n",
      "Epoch: [37][0/19] Elapsed 0m 0s (remain 0m 2s) Loss: 0.2181(0.2181) Grad: 20.2040  LR: 0.000133  \n",
      "Epoch: [37][10/19] Elapsed 0m 1s (remain 0m 1s) Loss: 0.1733(0.1752) Grad: 18.8064  LR: 0.000133  \n",
      "Epoch: [37][18/19] Elapsed 0m 2s (remain 0m 0s) Loss: 0.1641(0.1671) Grad: 15.1609  LR: 0.000133  \n",
      "EVAL: [0/3] Elapsed 0m 0s (remain 0m 0s) Loss: 0.4138(0.4138) \n"
     ]
    },
    {
     "name": "stderr",
     "output_type": "stream",
     "text": [
      "Epoch 37 - avg_train_loss: 0.1671  avg_val_loss: 0.3301  time: 4s\n",
      "Epoch 37 - Score: 0.3386\n"
     ]
    },
    {
     "name": "stdout",
     "output_type": "stream",
     "text": [
      "EVAL: [2/3] Elapsed 0m 0s (remain 0m 0s) Loss: 0.2160(0.3301) \n",
      "Epoch: [38][0/19] Elapsed 0m 0s (remain 0m 2s) Loss: 0.1001(0.1001) Grad: 4.8484  LR: 0.000057  \n",
      "Epoch: [38][10/19] Elapsed 0m 1s (remain 0m 1s) Loss: 0.1477(0.1229) Grad: 7.9815  LR: 0.000057  \n",
      "Epoch: [38][18/19] Elapsed 0m 2s (remain 0m 0s) Loss: 0.1514(0.1270) Grad: 20.8325  LR: 0.000057  \n",
      "EVAL: [0/3] Elapsed 0m 0s (remain 0m 0s) Loss: 0.4163(0.4163) \n"
     ]
    },
    {
     "name": "stderr",
     "output_type": "stream",
     "text": [
      "Epoch 38 - avg_train_loss: 0.1270  avg_val_loss: 0.3518  time: 3s\n",
      "Epoch 38 - Score: 0.3585\n"
     ]
    },
    {
     "name": "stdout",
     "output_type": "stream",
     "text": [
      "EVAL: [2/3] Elapsed 0m 0s (remain 0m 0s) Loss: 0.2186(0.3518) \n",
      "Epoch: [39][0/19] Elapsed 0m 0s (remain 0m 2s) Loss: 0.1040(0.1040) Grad: 10.6276  LR: 0.000009  \n",
      "Epoch: [39][10/19] Elapsed 0m 1s (remain 0m 1s) Loss: 0.0891(0.1027) Grad: 2.9820  LR: 0.000009  \n",
      "Epoch: [39][18/19] Elapsed 0m 2s (remain 0m 0s) Loss: 0.0973(0.1026) Grad: 10.4042  LR: 0.000009  \n",
      "EVAL: [0/3] Elapsed 0m 0s (remain 0m 0s) Loss: 0.3974(0.3974) \n"
     ]
    },
    {
     "name": "stderr",
     "output_type": "stream",
     "text": [
      "Epoch 39 - avg_train_loss: 0.1026  avg_val_loss: 0.3233  time: 3s\n",
      "Epoch 39 - Score: 0.3310\n"
     ]
    },
    {
     "name": "stdout",
     "output_type": "stream",
     "text": [
      "EVAL: [2/3] Elapsed 0m 0s (remain 0m 0s) Loss: 0.2009(0.3233) \n",
      "Epoch: [40][0/19] Elapsed 0m 0s (remain 0m 2s) Loss: 0.0821(0.0821) Grad: 6.3262  LR: 0.000001  \n",
      "Epoch: [40][10/19] Elapsed 0m 1s (remain 0m 1s) Loss: 0.0989(0.0911) Grad: 8.8086  LR: 0.000001  \n",
      "Epoch: [40][18/19] Elapsed 0m 2s (remain 0m 0s) Loss: 0.0853(0.0890) Grad: 5.9889  LR: 0.000001  \n",
      "EVAL: [0/3] Elapsed 0m 0s (remain 0m 0s) Loss: 0.4019(0.4019) \n"
     ]
    },
    {
     "name": "stderr",
     "output_type": "stream",
     "text": [
      "Epoch 40 - avg_train_loss: 0.0890  avg_val_loss: 0.3255  time: 3s\n",
      "Epoch 40 - Score: 0.3331\n",
      "========== fold: 0 result ==========\n",
      "Score: 0.3188\n",
      "========== fold: 1 training ==========\n"
     ]
    },
    {
     "name": "stdout",
     "output_type": "stream",
     "text": [
      "EVAL: [2/3] Elapsed 0m 0s (remain 0m 0s) Loss: 0.2112(0.3255) \n",
      "Epoch: [1][0/19] Elapsed 0m 0s (remain 0m 2s) Loss: 3.3689(3.3689) Grad: 25.3532  LR: 0.000100  \n",
      "Epoch: [1][10/19] Elapsed 0m 1s (remain 0m 1s) Loss: 0.5106(1.3496) Grad: 16.5851  LR: 0.000100  \n",
      "Epoch: [1][18/19] Elapsed 0m 2s (remain 0m 0s) Loss: 0.5216(1.0044) Grad: 13.2993  LR: 0.000100  \n",
      "EVAL: [0/3] Elapsed 0m 0s (remain 0m 0s) Loss: 0.4386(0.4386) \n"
     ]
    },
    {
     "name": "stderr",
     "output_type": "stream",
     "text": [
      "Epoch 1 - avg_train_loss: 1.0044  avg_val_loss: 0.4517  time: 3s\n",
      "Epoch 1 - Score: 0.4567\n",
      "Epoch 1 - Save Best Score: 0.4567 Model\n"
     ]
    },
    {
     "name": "stdout",
     "output_type": "stream",
     "text": [
      "EVAL: [2/3] Elapsed 0m 0s (remain 0m 0s) Loss: 0.3246(0.4517) \n",
      "Epoch: [2][0/19] Elapsed 0m 0s (remain 0m 2s) Loss: 0.4568(0.4568) Grad: 15.4472  LR: 0.000057  \n",
      "Epoch: [2][10/19] Elapsed 0m 1s (remain 0m 1s) Loss: 0.2800(0.4114) Grad: 4.0046  LR: 0.000057  \n",
      "Epoch: [2][18/19] Elapsed 0m 2s (remain 0m 0s) Loss: 0.3312(0.4087) Grad: 6.2027  LR: 0.000057  \n",
      "EVAL: [0/3] Elapsed 0m 0s (remain 0m 0s) Loss: 0.4321(0.4321) \n"
     ]
    },
    {
     "name": "stderr",
     "output_type": "stream",
     "text": [
      "Epoch 2 - avg_train_loss: 0.4087  avg_val_loss: 0.4037  time: 3s\n",
      "Epoch 2 - Score: 0.4067\n",
      "Epoch 2 - Save Best Score: 0.4067 Model\n"
     ]
    },
    {
     "name": "stdout",
     "output_type": "stream",
     "text": [
      "EVAL: [2/3] Elapsed 0m 0s (remain 0m 0s) Loss: 0.2943(0.4037) \n",
      "Epoch: [3][0/19] Elapsed 0m 0s (remain 0m 2s) Loss: 0.3148(0.3148) Grad: 16.0894  LR: 0.000009  \n",
      "Epoch: [3][10/19] Elapsed 0m 1s (remain 0m 1s) Loss: 0.3172(0.3317) Grad: 23.8048  LR: 0.000009  \n",
      "Epoch: [3][18/19] Elapsed 0m 2s (remain 0m 0s) Loss: 0.2658(0.3262) Grad: 7.7653  LR: 0.000009  \n",
      "EVAL: [0/3] Elapsed 0m 0s (remain 0m 0s) Loss: 0.3266(0.3266) \n"
     ]
    },
    {
     "name": "stderr",
     "output_type": "stream",
     "text": [
      "Epoch 3 - avg_train_loss: 0.3262  avg_val_loss: 0.3344  time: 3s\n",
      "Epoch 3 - Score: 0.3400\n",
      "Epoch 3 - Save Best Score: 0.3400 Model\n"
     ]
    },
    {
     "name": "stdout",
     "output_type": "stream",
     "text": [
      "EVAL: [2/3] Elapsed 0m 0s (remain 0m 0s) Loss: 0.2147(0.3344) \n",
      "Epoch: [4][0/19] Elapsed 0m 0s (remain 0m 2s) Loss: 0.2849(0.2849) Grad: 8.0371  LR: 0.000001  \n",
      "Epoch: [4][10/19] Elapsed 0m 1s (remain 0m 1s) Loss: 0.2406(0.2772) Grad: 5.4677  LR: 0.000001  \n",
      "Epoch: [4][18/19] Elapsed 0m 2s (remain 0m 0s) Loss: 0.2495(0.2763) Grad: 3.8363  LR: 0.000001  \n",
      "EVAL: [0/3] Elapsed 0m 0s (remain 0m 0s) Loss: 0.3412(0.3412) \n"
     ]
    },
    {
     "name": "stderr",
     "output_type": "stream",
     "text": [
      "Epoch 4 - avg_train_loss: 0.2763  avg_val_loss: 0.3366  time: 3s\n",
      "Epoch 4 - Score: 0.3396\n",
      "Epoch 4 - Save Best Score: 0.3396 Model\n"
     ]
    },
    {
     "name": "stdout",
     "output_type": "stream",
     "text": [
      "EVAL: [2/3] Elapsed 0m 0s (remain 0m 0s) Loss: 0.2413(0.3366) \n",
      "Epoch: [5][0/19] Elapsed 0m 0s (remain 0m 2s) Loss: 0.2953(0.2953) Grad: 4.5925  LR: 0.000050  \n",
      "Epoch: [5][10/19] Elapsed 0m 1s (remain 0m 1s) Loss: 0.3298(0.2934) Grad: 21.5385  LR: 0.000050  \n",
      "Epoch: [5][18/19] Elapsed 0m 2s (remain 0m 0s) Loss: 0.2836(0.2835) Grad: 8.2734  LR: 0.000050  \n",
      "EVAL: [0/3] Elapsed 0m 0s (remain 0m 0s) Loss: 0.3246(0.3246) \n"
     ]
    },
    {
     "name": "stderr",
     "output_type": "stream",
     "text": [
      "Epoch 5 - avg_train_loss: 0.2835  avg_val_loss: 0.3124  time: 3s\n",
      "Epoch 5 - Score: 0.3186\n",
      "Epoch 5 - Save Best Score: 0.3186 Model\n"
     ]
    },
    {
     "name": "stdout",
     "output_type": "stream",
     "text": [
      "EVAL: [2/3] Elapsed 0m 0s (remain 0m 0s) Loss: 0.1774(0.3124) \n",
      "Epoch: [6][0/19] Elapsed 0m 0s (remain 0m 2s) Loss: 0.2117(0.2117) Grad: 12.3254  LR: 0.000224  \n",
      "Epoch: [6][10/19] Elapsed 0m 1s (remain 0m 1s) Loss: 0.2191(0.2968) Grad: 5.5363  LR: 0.000224  \n",
      "Epoch: [6][18/19] Elapsed 0m 2s (remain 0m 0s) Loss: 0.2034(0.2872) Grad: 5.7969  LR: 0.000224  \n",
      "EVAL: [0/3] Elapsed 0m 0s (remain 0m 0s) Loss: 0.4144(0.4144) \n"
     ]
    },
    {
     "name": "stderr",
     "output_type": "stream",
     "text": [
      "Epoch 6 - avg_train_loss: 0.2872  avg_val_loss: 0.3608  time: 3s\n",
      "Epoch 6 - Score: 0.3660\n"
     ]
    },
    {
     "name": "stdout",
     "output_type": "stream",
     "text": [
      "EVAL: [2/3] Elapsed 0m 0s (remain 0m 0s) Loss: 0.2382(0.3608) \n",
      "Epoch: [7][0/19] Elapsed 0m 0s (remain 0m 2s) Loss: 0.2344(0.2344) Grad: 15.3914  LR: 0.000133  \n",
      "Epoch: [7][10/19] Elapsed 0m 1s (remain 0m 1s) Loss: 0.3531(0.3431) Grad: 19.5823  LR: 0.000133  \n",
      "Epoch: [7][18/19] Elapsed 0m 2s (remain 0m 0s) Loss: 0.2353(0.3272) Grad: 15.4584  LR: 0.000133  \n",
      "EVAL: [0/3] Elapsed 0m 0s (remain 0m 0s) Loss: 0.3853(0.3853) \n"
     ]
    },
    {
     "name": "stderr",
     "output_type": "stream",
     "text": [
      "Epoch 7 - avg_train_loss: 0.3272  avg_val_loss: 0.3485  time: 3s\n",
      "Epoch 7 - Score: 0.3508\n"
     ]
    },
    {
     "name": "stdout",
     "output_type": "stream",
     "text": [
      "EVAL: [2/3] Elapsed 0m 0s (remain 0m 0s) Loss: 0.2719(0.3485) \n",
      "Epoch: [8][0/19] Elapsed 0m 0s (remain 0m 2s) Loss: 0.2571(0.2571) Grad: 4.6688  LR: 0.000057  \n",
      "Epoch: [8][10/19] Elapsed 0m 1s (remain 0m 1s) Loss: 0.3613(0.2762) Grad: 13.7672  LR: 0.000057  \n",
      "Epoch: [8][18/19] Elapsed 0m 2s (remain 0m 0s) Loss: 0.2954(0.2774) Grad: 16.2431  LR: 0.000057  \n",
      "EVAL: [0/3] Elapsed 0m 0s (remain 0m 0s) Loss: 0.4319(0.4319) \n"
     ]
    },
    {
     "name": "stderr",
     "output_type": "stream",
     "text": [
      "Epoch 8 - avg_train_loss: 0.2774  avg_val_loss: 0.3810  time: 3s\n",
      "Epoch 8 - Score: 0.3840\n"
     ]
    },
    {
     "name": "stdout",
     "output_type": "stream",
     "text": [
      "EVAL: [2/3] Elapsed 0m 0s (remain 0m 0s) Loss: 0.3010(0.3810) \n",
      "Epoch: [9][0/19] Elapsed 0m 0s (remain 0m 2s) Loss: 0.2665(0.2665) Grad: 15.1375  LR: 0.000009  \n",
      "Epoch: [9][10/19] Elapsed 0m 1s (remain 0m 1s) Loss: 0.1676(0.2057) Grad: 11.6648  LR: 0.000009  \n",
      "Epoch: [9][18/19] Elapsed 0m 2s (remain 0m 0s) Loss: 0.2287(0.2145) Grad: 10.0793  LR: 0.000009  \n",
      "EVAL: [0/3] Elapsed 0m 0s (remain 0m 0s) Loss: 0.3794(0.3794) \n"
     ]
    },
    {
     "name": "stderr",
     "output_type": "stream",
     "text": [
      "Epoch 9 - avg_train_loss: 0.2145  avg_val_loss: 0.3216  time: 3s\n",
      "Epoch 9 - Score: 0.3276\n"
     ]
    },
    {
     "name": "stdout",
     "output_type": "stream",
     "text": [
      "EVAL: [2/3] Elapsed 0m 0s (remain 0m 0s) Loss: 0.1998(0.3216) \n",
      "Epoch: [10][0/19] Elapsed 0m 0s (remain 0m 2s) Loss: 0.2041(0.2041) Grad: 7.9272  LR: 0.000001  \n",
      "Epoch: [10][10/19] Elapsed 0m 1s (remain 0m 1s) Loss: 0.2270(0.1802) Grad: 3.8690  LR: 0.000001  \n",
      "Epoch: [10][18/19] Elapsed 0m 2s (remain 0m 0s) Loss: 0.1840(0.1754) Grad: 4.6334  LR: 0.000001  \n",
      "EVAL: [0/3] Elapsed 0m 0s (remain 0m 0s) Loss: 0.3604(0.3604) \n"
     ]
    },
    {
     "name": "stderr",
     "output_type": "stream",
     "text": [
      "Epoch 10 - avg_train_loss: 0.1754  avg_val_loss: 0.3099  time: 3s\n",
      "Epoch 10 - Score: 0.3174\n",
      "Epoch 10 - Save Best Score: 0.3174 Model\n"
     ]
    },
    {
     "name": "stdout",
     "output_type": "stream",
     "text": [
      "EVAL: [2/3] Elapsed 0m 0s (remain 0m 0s) Loss: 0.1640(0.3099) \n",
      "Epoch: [11][0/19] Elapsed 0m 0s (remain 0m 2s) Loss: 0.1785(0.1785) Grad: 4.2255  LR: 0.000050  \n",
      "Epoch: [11][10/19] Elapsed 0m 1s (remain 0m 1s) Loss: 0.1705(0.1703) Grad: 12.1867  LR: 0.000050  \n",
      "Epoch: [11][18/19] Elapsed 0m 2s (remain 0m 0s) Loss: 0.1152(0.1620) Grad: 13.0520  LR: 0.000050  \n",
      "EVAL: [0/3] Elapsed 0m 0s (remain 0m 0s) Loss: 0.3350(0.3350) \n"
     ]
    },
    {
     "name": "stderr",
     "output_type": "stream",
     "text": [
      "Epoch 11 - avg_train_loss: 0.1620  avg_val_loss: 0.3060  time: 3s\n",
      "Epoch 11 - Score: 0.3126\n",
      "Epoch 11 - Save Best Score: 0.3126 Model\n"
     ]
    },
    {
     "name": "stdout",
     "output_type": "stream",
     "text": [
      "EVAL: [2/3] Elapsed 0m 0s (remain 0m 0s) Loss: 0.1646(0.3060) \n",
      "Epoch: [12][0/19] Elapsed 0m 0s (remain 0m 2s) Loss: 0.1428(0.1428) Grad: 7.3135  LR: 0.000224  \n",
      "Epoch: [12][10/19] Elapsed 0m 1s (remain 0m 1s) Loss: 0.1858(0.2354) Grad: 13.3607  LR: 0.000224  \n",
      "Epoch: [12][18/19] Elapsed 0m 2s (remain 0m 0s) Loss: 0.2316(0.2289) Grad: 14.9382  LR: 0.000224  \n",
      "EVAL: [0/3] Elapsed 0m 0s (remain 0m 0s) Loss: 0.3550(0.3550) \n"
     ]
    },
    {
     "name": "stderr",
     "output_type": "stream",
     "text": [
      "Epoch 12 - avg_train_loss: 0.2289  avg_val_loss: 0.3142  time: 3s\n",
      "Epoch 12 - Score: 0.3222\n"
     ]
    },
    {
     "name": "stdout",
     "output_type": "stream",
     "text": [
      "EVAL: [2/3] Elapsed 0m 0s (remain 0m 0s) Loss: 0.1570(0.3142) \n",
      "Epoch: [13][0/19] Elapsed 0m 0s (remain 0m 2s) Loss: 0.1750(0.1750) Grad: 5.0835  LR: 0.000133  \n",
      "Epoch: [13][10/19] Elapsed 0m 1s (remain 0m 1s) Loss: 0.2601(0.2134) Grad: 18.4004  LR: 0.000133  \n",
      "Epoch: [13][18/19] Elapsed 0m 2s (remain 0m 0s) Loss: 0.2906(0.2451) Grad: 21.0988  LR: 0.000133  \n",
      "EVAL: [0/3] Elapsed 0m 0s (remain 0m 0s) Loss: 0.4101(0.4101) \n"
     ]
    },
    {
     "name": "stderr",
     "output_type": "stream",
     "text": [
      "Epoch 13 - avg_train_loss: 0.2451  avg_val_loss: 0.3823  time: 3s\n",
      "Epoch 13 - Score: 0.3843\n"
     ]
    },
    {
     "name": "stdout",
     "output_type": "stream",
     "text": [
      "EVAL: [2/3] Elapsed 0m 0s (remain 0m 0s) Loss: 0.2999(0.3823) \n",
      "Epoch: [14][0/19] Elapsed 0m 0s (remain 0m 2s) Loss: 0.2608(0.2608) Grad: 16.9295  LR: 0.000057  \n",
      "Epoch: [14][10/19] Elapsed 0m 1s (remain 0m 1s) Loss: 0.1701(0.2430) Grad: 5.7036  LR: 0.000057  \n",
      "Epoch: [14][18/19] Elapsed 0m 2s (remain 0m 0s) Loss: 0.1824(0.2321) Grad: 8.4336  LR: 0.000057  \n",
      "EVAL: [0/3] Elapsed 0m 0s (remain 0m 0s) Loss: 0.3533(0.3533) \n"
     ]
    },
    {
     "name": "stderr",
     "output_type": "stream",
     "text": [
      "Epoch 14 - avg_train_loss: 0.2321  avg_val_loss: 0.3553  time: 3s\n",
      "Epoch 14 - Score: 0.3615\n"
     ]
    },
    {
     "name": "stdout",
     "output_type": "stream",
     "text": [
      "EVAL: [2/3] Elapsed 0m 0s (remain 0m 0s) Loss: 0.2198(0.3553) \n",
      "Epoch: [15][0/19] Elapsed 0m 0s (remain 0m 2s) Loss: 0.2248(0.2248) Grad: 20.2096  LR: 0.000009  \n",
      "Epoch: [15][10/19] Elapsed 0m 1s (remain 0m 1s) Loss: 0.1821(0.2007) Grad: 15.9003  LR: 0.000009  \n",
      "Epoch: [15][18/19] Elapsed 0m 2s (remain 0m 0s) Loss: 0.1578(0.1833) Grad: 10.6678  LR: 0.000009  \n",
      "EVAL: [0/3] Elapsed 0m 0s (remain 0m 0s) Loss: 0.3445(0.3445) \n"
     ]
    },
    {
     "name": "stderr",
     "output_type": "stream",
     "text": [
      "Epoch 15 - avg_train_loss: 0.1833  avg_val_loss: 0.2933  time: 4s\n",
      "Epoch 15 - Score: 0.3020\n",
      "Epoch 15 - Save Best Score: 0.3020 Model\n"
     ]
    },
    {
     "name": "stdout",
     "output_type": "stream",
     "text": [
      "EVAL: [2/3] Elapsed 0m 0s (remain 0m 0s) Loss: 0.1390(0.2933) \n",
      "Epoch: [16][0/19] Elapsed 0m 0s (remain 0m 2s) Loss: 0.1645(0.1645) Grad: 8.6533  LR: 0.000001  \n",
      "Epoch: [16][10/19] Elapsed 0m 1s (remain 0m 1s) Loss: 0.1290(0.1509) Grad: 4.2181  LR: 0.000001  \n",
      "Epoch: [16][18/19] Elapsed 0m 2s (remain 0m 0s) Loss: 0.1491(0.1470) Grad: 4.0999  LR: 0.000001  \n",
      "EVAL: [0/3] Elapsed 0m 0s (remain 0m 0s) Loss: 0.3439(0.3439) \n"
     ]
    },
    {
     "name": "stderr",
     "output_type": "stream",
     "text": [
      "Epoch 16 - avg_train_loss: 0.1470  avg_val_loss: 0.2890  time: 3s\n",
      "Epoch 16 - Score: 0.2955\n",
      "Epoch 16 - Save Best Score: 0.2955 Model\n"
     ]
    },
    {
     "name": "stdout",
     "output_type": "stream",
     "text": [
      "EVAL: [2/3] Elapsed 0m 0s (remain 0m 0s) Loss: 0.1666(0.2890) \n",
      "Epoch: [17][0/19] Elapsed 0m 0s (remain 0m 2s) Loss: 0.1810(0.1810) Grad: 3.8530  LR: 0.000050  \n",
      "Epoch: [17][10/19] Elapsed 0m 1s (remain 0m 1s) Loss: 0.1245(0.1528) Grad: 12.6366  LR: 0.000050  \n",
      "Epoch: [17][18/19] Elapsed 0m 2s (remain 0m 0s) Loss: 0.0897(0.1450) Grad: 8.4610  LR: 0.000050  \n",
      "EVAL: [0/3] Elapsed 0m 0s (remain 0m 0s) Loss: 0.3418(0.3418) \n"
     ]
    },
    {
     "name": "stderr",
     "output_type": "stream",
     "text": [
      "Epoch 17 - avg_train_loss: 0.1450  avg_val_loss: 0.2881  time: 3s\n",
      "Epoch 17 - Score: 0.2949\n",
      "Epoch 17 - Save Best Score: 0.2949 Model\n"
     ]
    },
    {
     "name": "stdout",
     "output_type": "stream",
     "text": [
      "EVAL: [2/3] Elapsed 0m 0s (remain 0m 0s) Loss: 0.1603(0.2881) \n",
      "Epoch: [18][0/19] Elapsed 0m 0s (remain 0m 2s) Loss: 0.1197(0.1197) Grad: 4.9636  LR: 0.000224  \n",
      "Epoch: [18][10/19] Elapsed 0m 1s (remain 0m 1s) Loss: 0.2019(0.1453) Grad: 11.6291  LR: 0.000224  \n",
      "Epoch: [18][18/19] Elapsed 0m 2s (remain 0m 0s) Loss: 0.1505(0.1544) Grad: 10.8093  LR: 0.000224  \n",
      "EVAL: [0/3] Elapsed 0m 0s (remain 0m 0s) Loss: 0.3983(0.3983) \n"
     ]
    },
    {
     "name": "stderr",
     "output_type": "stream",
     "text": [
      "Epoch 18 - avg_train_loss: 0.1544  avg_val_loss: 0.3611  time: 3s\n",
      "Epoch 18 - Score: 0.3651\n"
     ]
    },
    {
     "name": "stdout",
     "output_type": "stream",
     "text": [
      "EVAL: [2/3] Elapsed 0m 0s (remain 0m 0s) Loss: 0.2444(0.3611) \n",
      "Epoch: [19][0/19] Elapsed 0m 0s (remain 0m 2s) Loss: 0.2196(0.2196) Grad: 21.6577  LR: 0.000133  \n",
      "Epoch: [19][10/19] Elapsed 0m 1s (remain 0m 1s) Loss: 0.2260(0.2171) Grad: 19.1893  LR: 0.000133  \n",
      "Epoch: [19][18/19] Elapsed 0m 2s (remain 0m 0s) Loss: 0.2563(0.2298) Grad: 8.8575  LR: 0.000133  \n",
      "EVAL: [0/3] Elapsed 0m 0s (remain 0m 0s) Loss: 0.3475(0.3475) \n"
     ]
    },
    {
     "name": "stderr",
     "output_type": "stream",
     "text": [
      "Epoch 19 - avg_train_loss: 0.2298  avg_val_loss: 0.3164  time: 3s\n",
      "Epoch 19 - Score: 0.3241\n"
     ]
    },
    {
     "name": "stdout",
     "output_type": "stream",
     "text": [
      "EVAL: [2/3] Elapsed 0m 0s (remain 0m 0s) Loss: 0.1610(0.3164) \n",
      "Epoch: [20][0/19] Elapsed 0m 0s (remain 0m 2s) Loss: 0.1903(0.1903) Grad: 18.0897  LR: 0.000057  \n",
      "Epoch: [20][10/19] Elapsed 0m 1s (remain 0m 1s) Loss: 0.1431(0.1689) Grad: 3.3916  LR: 0.000057  \n",
      "Epoch: [20][18/19] Elapsed 0m 2s (remain 0m 0s) Loss: 0.1395(0.1774) Grad: 6.4366  LR: 0.000057  \n",
      "EVAL: [0/3] Elapsed 0m 0s (remain 0m 0s) Loss: 0.3505(0.3505) \n"
     ]
    },
    {
     "name": "stderr",
     "output_type": "stream",
     "text": [
      "Epoch 20 - avg_train_loss: 0.1774  avg_val_loss: 0.2978  time: 3s\n",
      "Epoch 20 - Score: 0.3041\n"
     ]
    },
    {
     "name": "stdout",
     "output_type": "stream",
     "text": [
      "EVAL: [2/3] Elapsed 0m 0s (remain 0m 0s) Loss: 0.1728(0.2978) \n",
      "Epoch: [21][0/19] Elapsed 0m 0s (remain 0m 2s) Loss: 0.1276(0.1276) Grad: 4.0331  LR: 0.000009  \n",
      "Epoch: [21][10/19] Elapsed 0m 1s (remain 0m 1s) Loss: 0.1015(0.1333) Grad: 5.2755  LR: 0.000009  \n",
      "Epoch: [21][18/19] Elapsed 0m 2s (remain 0m 0s) Loss: 0.1339(0.1365) Grad: 10.3002  LR: 0.000009  \n",
      "EVAL: [0/3] Elapsed 0m 0s (remain 0m 0s) Loss: 0.3397(0.3397) \n"
     ]
    },
    {
     "name": "stderr",
     "output_type": "stream",
     "text": [
      "Epoch 21 - avg_train_loss: 0.1365  avg_val_loss: 0.2964  time: 3s\n",
      "Epoch 21 - Score: 0.3044\n"
     ]
    },
    {
     "name": "stdout",
     "output_type": "stream",
     "text": [
      "EVAL: [2/3] Elapsed 0m 0s (remain 0m 0s) Loss: 0.1452(0.2964) \n",
      "Epoch: [22][0/19] Elapsed 0m 0s (remain 0m 2s) Loss: 0.1034(0.1034) Grad: 3.5143  LR: 0.000001  \n",
      "Epoch: [22][10/19] Elapsed 0m 1s (remain 0m 1s) Loss: 0.1064(0.1101) Grad: 6.0042  LR: 0.000001  \n",
      "Epoch: [22][18/19] Elapsed 0m 2s (remain 0m 0s) Loss: 0.1258(0.1103) Grad: 6.3072  LR: 0.000001  \n",
      "EVAL: [0/3] Elapsed 0m 0s (remain 0m 0s) Loss: 0.3344(0.3344) \n"
     ]
    },
    {
     "name": "stderr",
     "output_type": "stream",
     "text": [
      "Epoch 22 - avg_train_loss: 0.1103  avg_val_loss: 0.2944  time: 3s\n",
      "Epoch 22 - Score: 0.3006\n"
     ]
    },
    {
     "name": "stdout",
     "output_type": "stream",
     "text": [
      "EVAL: [2/3] Elapsed 0m 0s (remain 0m 0s) Loss: 0.1625(0.2944) \n",
      "Epoch: [23][0/19] Elapsed 0m 0s (remain 0m 2s) Loss: 0.1072(0.1072) Grad: 3.3780  LR: 0.000050  \n",
      "Epoch: [23][10/19] Elapsed 0m 1s (remain 0m 1s) Loss: 0.0820(0.1194) Grad: 4.1775  LR: 0.000050  \n",
      "Epoch: [23][18/19] Elapsed 0m 2s (remain 0m 0s) Loss: 0.1153(0.1147) Grad: 6.4410  LR: 0.000050  \n",
      "EVAL: [0/3] Elapsed 0m 0s (remain 0m 0s) Loss: 0.3385(0.3385) \n"
     ]
    },
    {
     "name": "stderr",
     "output_type": "stream",
     "text": [
      "Epoch 23 - avg_train_loss: 0.1147  avg_val_loss: 0.3026  time: 3s\n",
      "Epoch 23 - Score: 0.3084\n"
     ]
    },
    {
     "name": "stdout",
     "output_type": "stream",
     "text": [
      "EVAL: [2/3] Elapsed 0m 0s (remain 0m 0s) Loss: 0.1714(0.3026) \n",
      "Epoch: [24][0/19] Elapsed 0m 0s (remain 0m 2s) Loss: 0.1082(0.1082) Grad: 5.2108  LR: 0.000224  \n",
      "Epoch: [24][10/19] Elapsed 0m 1s (remain 0m 1s) Loss: 0.1873(0.1255) Grad: 21.0009  LR: 0.000224  \n",
      "Epoch: [24][18/19] Elapsed 0m 2s (remain 0m 0s) Loss: 0.1047(0.1350) Grad: 5.2654  LR: 0.000224  \n",
      "EVAL: [0/3] Elapsed 0m 0s (remain 0m 0s) Loss: 0.3621(0.3621) \n"
     ]
    },
    {
     "name": "stderr",
     "output_type": "stream",
     "text": [
      "Epoch 24 - avg_train_loss: 0.1350  avg_val_loss: 0.3214  time: 3s\n",
      "Epoch 24 - Score: 0.3279\n"
     ]
    },
    {
     "name": "stdout",
     "output_type": "stream",
     "text": [
      "EVAL: [2/3] Elapsed 0m 0s (remain 0m 0s) Loss: 0.1798(0.3214) \n",
      "Epoch: [25][0/19] Elapsed 0m 0s (remain 0m 2s) Loss: 0.1145(0.1145) Grad: 9.3768  LR: 0.000133  \n",
      "Epoch: [25][10/19] Elapsed 0m 1s (remain 0m 1s) Loss: 0.1558(0.1543) Grad: 9.9362  LR: 0.000133  \n",
      "Epoch: [25][18/19] Elapsed 0m 2s (remain 0m 0s) Loss: 0.1738(0.1699) Grad: 14.2070  LR: 0.000133  \n",
      "EVAL: [0/3] Elapsed 0m 0s (remain 0m 0s) Loss: 0.3614(0.3614) \n"
     ]
    },
    {
     "name": "stderr",
     "output_type": "stream",
     "text": [
      "Epoch 25 - avg_train_loss: 0.1699  avg_val_loss: 0.3350  time: 3s\n",
      "Epoch 25 - Score: 0.3379\n"
     ]
    },
    {
     "name": "stdout",
     "output_type": "stream",
     "text": [
      "EVAL: [2/3] Elapsed 0m 0s (remain 0m 0s) Loss: 0.2380(0.3350) \n",
      "Epoch: [26][0/19] Elapsed 0m 0s (remain 0m 2s) Loss: 0.2145(0.2145) Grad: 11.7327  LR: 0.000057  \n",
      "Epoch: [26][10/19] Elapsed 0m 1s (remain 0m 1s) Loss: 0.1355(0.1836) Grad: 6.5560  LR: 0.000057  \n",
      "Epoch: [26][18/19] Elapsed 0m 2s (remain 0m 0s) Loss: 0.1702(0.1799) Grad: 10.5067  LR: 0.000057  \n",
      "EVAL: [0/3] Elapsed 0m 0s (remain 0m 0s) Loss: 0.3731(0.3731) \n"
     ]
    },
    {
     "name": "stderr",
     "output_type": "stream",
     "text": [
      "Epoch 26 - avg_train_loss: 0.1799  avg_val_loss: 0.3346  time: 3s\n",
      "Epoch 26 - Score: 0.3364\n"
     ]
    },
    {
     "name": "stdout",
     "output_type": "stream",
     "text": [
      "EVAL: [2/3] Elapsed 0m 0s (remain 0m 0s) Loss: 0.2809(0.3346) \n",
      "Epoch: [27][0/19] Elapsed 0m 0s (remain 0m 2s) Loss: 0.1429(0.1429) Grad: 10.6703  LR: 0.000009  \n",
      "Epoch: [27][10/19] Elapsed 0m 1s (remain 0m 1s) Loss: 0.2006(0.1472) Grad: 12.3268  LR: 0.000009  \n",
      "Epoch: [27][18/19] Elapsed 0m 2s (remain 0m 0s) Loss: 0.1786(0.1480) Grad: 12.2455  LR: 0.000009  \n",
      "EVAL: [0/3] Elapsed 0m 0s (remain 0m 0s) Loss: 0.3595(0.3595) \n"
     ]
    },
    {
     "name": "stderr",
     "output_type": "stream",
     "text": [
      "Epoch 27 - avg_train_loss: 0.1480  avg_val_loss: 0.3297  time: 3s\n",
      "Epoch 27 - Score: 0.3323\n"
     ]
    },
    {
     "name": "stdout",
     "output_type": "stream",
     "text": [
      "EVAL: [2/3] Elapsed 0m 0s (remain 0m 0s) Loss: 0.2401(0.3297) \n",
      "Epoch: [28][0/19] Elapsed 0m 0s (remain 0m 2s) Loss: 0.1764(0.1764) Grad: 17.2504  LR: 0.000001  \n",
      "Epoch: [28][10/19] Elapsed 0m 1s (remain 0m 1s) Loss: 0.1203(0.1395) Grad: 12.6204  LR: 0.000001  \n",
      "Epoch: [28][18/19] Elapsed 0m 2s (remain 0m 0s) Loss: 0.0913(0.1236) Grad: 8.2596  LR: 0.000001  \n",
      "EVAL: [0/3] Elapsed 0m 0s (remain 0m 0s) Loss: 0.3235(0.3235) \n"
     ]
    },
    {
     "name": "stderr",
     "output_type": "stream",
     "text": [
      "Epoch 28 - avg_train_loss: 0.1236  avg_val_loss: 0.2996  time: 3s\n",
      "Epoch 28 - Score: 0.3062\n"
     ]
    },
    {
     "name": "stdout",
     "output_type": "stream",
     "text": [
      "EVAL: [2/3] Elapsed 0m 0s (remain 0m 0s) Loss: 0.1591(0.2996) \n",
      "Epoch: [29][0/19] Elapsed 0m 0s (remain 0m 2s) Loss: 0.1351(0.1351) Grad: 10.6608  LR: 0.000050  \n",
      "Epoch: [29][10/19] Elapsed 0m 1s (remain 0m 1s) Loss: 0.1157(0.1190) Grad: 12.7156  LR: 0.000050  \n",
      "Epoch: [29][18/19] Elapsed 0m 2s (remain 0m 0s) Loss: 0.0832(0.1166) Grad: 9.0005  LR: 0.000050  \n",
      "EVAL: [0/3] Elapsed 0m 0s (remain 0m 0s) Loss: 0.3465(0.3465) \n"
     ]
    },
    {
     "name": "stderr",
     "output_type": "stream",
     "text": [
      "Epoch 29 - avg_train_loss: 0.1166  avg_val_loss: 0.3086  time: 3s\n",
      "Epoch 29 - Score: 0.3151\n"
     ]
    },
    {
     "name": "stdout",
     "output_type": "stream",
     "text": [
      "EVAL: [2/3] Elapsed 0m 0s (remain 0m 0s) Loss: 0.1683(0.3086) \n",
      "Epoch: [30][0/19] Elapsed 0m 0s (remain 0m 2s) Loss: 0.0882(0.0882) Grad: 3.5436  LR: 0.000224  \n",
      "Epoch: [30][10/19] Elapsed 0m 1s (remain 0m 1s) Loss: 0.1256(0.1089) Grad: 9.4476  LR: 0.000224  \n",
      "Epoch: [30][18/19] Elapsed 0m 2s (remain 0m 0s) Loss: 0.1131(0.1193) Grad: 3.9353  LR: 0.000224  \n",
      "EVAL: [0/3] Elapsed 0m 0s (remain 0m 0s) Loss: 0.3644(0.3644) \n"
     ]
    },
    {
     "name": "stderr",
     "output_type": "stream",
     "text": [
      "Epoch 30 - avg_train_loss: 0.1193  avg_val_loss: 0.3091  time: 3s\n",
      "Epoch 30 - Score: 0.3143\n"
     ]
    },
    {
     "name": "stdout",
     "output_type": "stream",
     "text": [
      "EVAL: [2/3] Elapsed 0m 0s (remain 0m 0s) Loss: 0.2027(0.3091) \n",
      "Epoch: [31][0/19] Elapsed 0m 0s (remain 0m 2s) Loss: 0.0885(0.0885) Grad: 12.2714  LR: 0.000133  \n",
      "Epoch: [31][10/19] Elapsed 0m 1s (remain 0m 1s) Loss: 0.1204(0.1107) Grad: 14.8873  LR: 0.000133  \n",
      "Epoch: [31][18/19] Elapsed 0m 2s (remain 0m 0s) Loss: 0.1412(0.1195) Grad: 7.4235  LR: 0.000133  \n",
      "EVAL: [0/3] Elapsed 0m 0s (remain 0m 0s) Loss: 0.3593(0.3593) \n"
     ]
    },
    {
     "name": "stderr",
     "output_type": "stream",
     "text": [
      "Epoch 31 - avg_train_loss: 0.1195  avg_val_loss: 0.3154  time: 3s\n",
      "Epoch 31 - Score: 0.3212\n"
     ]
    },
    {
     "name": "stdout",
     "output_type": "stream",
     "text": [
      "EVAL: [2/3] Elapsed 0m 0s (remain 0m 0s) Loss: 0.1857(0.3154) \n",
      "Epoch: [32][0/19] Elapsed 0m 0s (remain 0m 2s) Loss: 0.1710(0.1710) Grad: 9.7874  LR: 0.000057  \n",
      "Epoch: [32][10/19] Elapsed 0m 1s (remain 0m 1s) Loss: 0.1287(0.1694) Grad: 11.3330  LR: 0.000057  \n",
      "Epoch: [32][18/19] Elapsed 0m 2s (remain 0m 0s) Loss: 0.1390(0.1678) Grad: 17.1063  LR: 0.000057  \n",
      "EVAL: [0/3] Elapsed 0m 0s (remain 0m 0s) Loss: 0.3228(0.3228) \n"
     ]
    },
    {
     "name": "stderr",
     "output_type": "stream",
     "text": [
      "Epoch 32 - avg_train_loss: 0.1678  avg_val_loss: 0.2926  time: 3s\n",
      "Epoch 32 - Score: 0.3015\n"
     ]
    },
    {
     "name": "stdout",
     "output_type": "stream",
     "text": [
      "EVAL: [2/3] Elapsed 0m 0s (remain 0m 0s) Loss: 0.1312(0.2926) \n",
      "Epoch: [33][0/19] Elapsed 0m 0s (remain 0m 2s) Loss: 0.1492(0.1492) Grad: 6.4833  LR: 0.000009  \n",
      "Epoch: [33][10/19] Elapsed 0m 1s (remain 0m 1s) Loss: 0.0947(0.1203) Grad: 4.9096  LR: 0.000009  \n",
      "Epoch: [33][18/19] Elapsed 0m 2s (remain 0m 0s) Loss: 0.1041(0.1173) Grad: 3.1212  LR: 0.000009  \n",
      "EVAL: [0/3] Elapsed 0m 0s (remain 0m 0s) Loss: 0.3712(0.3712) \n"
     ]
    },
    {
     "name": "stderr",
     "output_type": "stream",
     "text": [
      "Epoch 33 - avg_train_loss: 0.1173  avg_val_loss: 0.3119  time: 3s\n",
      "Epoch 33 - Score: 0.3201\n"
     ]
    },
    {
     "name": "stdout",
     "output_type": "stream",
     "text": [
      "EVAL: [2/3] Elapsed 0m 0s (remain 0m 0s) Loss: 0.1644(0.3119) \n",
      "Epoch: [34][0/19] Elapsed 0m 0s (remain 0m 2s) Loss: 0.1313(0.1313) Grad: 16.6943  LR: 0.000001  \n",
      "Epoch: [34][10/19] Elapsed 0m 1s (remain 0m 1s) Loss: 0.1106(0.1134) Grad: 4.5809  LR: 0.000001  \n",
      "Epoch: [34][18/19] Elapsed 0m 2s (remain 0m 0s) Loss: 0.1134(0.1073) Grad: 11.6098  LR: 0.000001  \n",
      "EVAL: [0/3] Elapsed 0m 0s (remain 0m 0s) Loss: 0.3274(0.3274) \n"
     ]
    },
    {
     "name": "stderr",
     "output_type": "stream",
     "text": [
      "Epoch 34 - avg_train_loss: 0.1073  avg_val_loss: 0.2903  time: 3s\n",
      "Epoch 34 - Score: 0.2995\n"
     ]
    },
    {
     "name": "stdout",
     "output_type": "stream",
     "text": [
      "EVAL: [2/3] Elapsed 0m 0s (remain 0m 0s) Loss: 0.1270(0.2903) \n",
      "Epoch: [35][0/19] Elapsed 0m 0s (remain 0m 2s) Loss: 0.1046(0.1046) Grad: 3.2920  LR: 0.000050  \n",
      "Epoch: [35][10/19] Elapsed 0m 1s (remain 0m 1s) Loss: 0.0887(0.0930) Grad: 2.9574  LR: 0.000050  \n",
      "Epoch: [35][18/19] Elapsed 0m 2s (remain 0m 0s) Loss: 0.0784(0.0957) Grad: 10.5587  LR: 0.000050  \n",
      "EVAL: [0/3] Elapsed 0m 0s (remain 0m 0s) Loss: 0.3405(0.3405) \n"
     ]
    },
    {
     "name": "stderr",
     "output_type": "stream",
     "text": [
      "Epoch 35 - avg_train_loss: 0.0957  avg_val_loss: 0.2987  time: 3s\n",
      "Epoch 35 - Score: 0.3060\n"
     ]
    },
    {
     "name": "stdout",
     "output_type": "stream",
     "text": [
      "EVAL: [2/3] Elapsed 0m 0s (remain 0m 0s) Loss: 0.1536(0.2987) \n",
      "Epoch: [36][0/19] Elapsed 0m 0s (remain 0m 2s) Loss: 0.0738(0.0738) Grad: 7.6909  LR: 0.000224  \n",
      "Epoch: [36][10/19] Elapsed 0m 1s (remain 0m 1s) Loss: 0.1085(0.1166) Grad: 6.8449  LR: 0.000224  \n",
      "Epoch: [36][18/19] Elapsed 0m 2s (remain 0m 0s) Loss: 0.1288(0.1126) Grad: 6.4597  LR: 0.000224  \n",
      "EVAL: [0/3] Elapsed 0m 0s (remain 0m 0s) Loss: 0.3457(0.3457) \n"
     ]
    },
    {
     "name": "stderr",
     "output_type": "stream",
     "text": [
      "Epoch 36 - avg_train_loss: 0.1126  avg_val_loss: 0.2878  time: 4s\n",
      "Epoch 36 - Score: 0.2979\n"
     ]
    },
    {
     "name": "stdout",
     "output_type": "stream",
     "text": [
      "EVAL: [2/3] Elapsed 0m 0s (remain 0m 0s) Loss: 0.1254(0.2878) \n",
      "Epoch: [37][0/19] Elapsed 0m 0s (remain 0m 2s) Loss: 0.0984(0.0984) Grad: 9.6398  LR: 0.000133  \n",
      "Epoch: [37][10/19] Elapsed 0m 1s (remain 0m 1s) Loss: 0.1144(0.1129) Grad: 2.9998  LR: 0.000133  \n",
      "Epoch: [37][18/19] Elapsed 0m 2s (remain 0m 0s) Loss: 0.1075(0.1205) Grad: 2.9432  LR: 0.000133  \n",
      "EVAL: [0/3] Elapsed 0m 0s (remain 0m 0s) Loss: 0.3842(0.3842) \n"
     ]
    },
    {
     "name": "stderr",
     "output_type": "stream",
     "text": [
      "Epoch 37 - avg_train_loss: 0.1205  avg_val_loss: 0.3358  time: 3s\n",
      "Epoch 37 - Score: 0.3438\n"
     ]
    },
    {
     "name": "stdout",
     "output_type": "stream",
     "text": [
      "EVAL: [2/3] Elapsed 0m 0s (remain 0m 0s) Loss: 0.1755(0.3358) \n",
      "Epoch: [38][0/19] Elapsed 0m 0s (remain 0m 2s) Loss: 0.1759(0.1759) Grad: 15.2798  LR: 0.000057  \n",
      "Epoch: [38][10/19] Elapsed 0m 1s (remain 0m 1s) Loss: 0.1114(0.1499) Grad: 10.6718  LR: 0.000057  \n",
      "Epoch: [38][18/19] Elapsed 0m 2s (remain 0m 0s) Loss: 0.1174(0.1422) Grad: 10.5013  LR: 0.000057  \n",
      "EVAL: [0/3] Elapsed 0m 0s (remain 0m 0s) Loss: 0.3572(0.3572) \n"
     ]
    },
    {
     "name": "stderr",
     "output_type": "stream",
     "text": [
      "Epoch 38 - avg_train_loss: 0.1422  avg_val_loss: 0.3035  time: 3s\n",
      "Epoch 38 - Score: 0.3131\n"
     ]
    },
    {
     "name": "stdout",
     "output_type": "stream",
     "text": [
      "EVAL: [2/3] Elapsed 0m 0s (remain 0m 0s) Loss: 0.1372(0.3035) \n",
      "Epoch: [39][0/19] Elapsed 0m 0s (remain 0m 2s) Loss: 0.1153(0.1153) Grad: 8.8864  LR: 0.000009  \n",
      "Epoch: [39][10/19] Elapsed 0m 1s (remain 0m 1s) Loss: 0.1055(0.1060) Grad: 9.8273  LR: 0.000009  \n",
      "Epoch: [39][18/19] Elapsed 0m 2s (remain 0m 0s) Loss: 0.1353(0.1033) Grad: 5.6638  LR: 0.000009  \n",
      "EVAL: [0/3] Elapsed 0m 0s (remain 0m 0s) Loss: 0.3367(0.3367) \n"
     ]
    },
    {
     "name": "stderr",
     "output_type": "stream",
     "text": [
      "Epoch 39 - avg_train_loss: 0.1033  avg_val_loss: 0.2901  time: 3s\n",
      "Epoch 39 - Score: 0.3003\n"
     ]
    },
    {
     "name": "stdout",
     "output_type": "stream",
     "text": [
      "EVAL: [2/3] Elapsed 0m 0s (remain 0m 0s) Loss: 0.1194(0.2901) \n",
      "Epoch: [40][0/19] Elapsed 0m 0s (remain 0m 2s) Loss: 0.0982(0.0982) Grad: 7.8881  LR: 0.000001  \n",
      "Epoch: [40][10/19] Elapsed 0m 1s (remain 0m 1s) Loss: 0.0759(0.0832) Grad: 6.8221  LR: 0.000001  \n",
      "Epoch: [40][18/19] Elapsed 0m 2s (remain 0m 0s) Loss: 0.0631(0.0837) Grad: 4.8475  LR: 0.000001  \n",
      "EVAL: [0/3] Elapsed 0m 0s (remain 0m 0s) Loss: 0.3453(0.3453) \n"
     ]
    },
    {
     "name": "stderr",
     "output_type": "stream",
     "text": [
      "Epoch 40 - avg_train_loss: 0.0837  avg_val_loss: 0.2970  time: 3s\n",
      "Epoch 40 - Score: 0.3047\n",
      "========== fold: 1 result ==========\n",
      "Score: 0.2949\n",
      "========== fold: 2 training ==========\n"
     ]
    },
    {
     "name": "stdout",
     "output_type": "stream",
     "text": [
      "EVAL: [2/3] Elapsed 0m 0s (remain 0m 0s) Loss: 0.1501(0.2970) \n",
      "Epoch: [1][0/19] Elapsed 0m 0s (remain 0m 2s) Loss: 3.5728(3.5728) Grad: 27.5150  LR: 0.000100  \n",
      "Epoch: [1][10/19] Elapsed 0m 1s (remain 0m 1s) Loss: 0.5137(1.5017) Grad: 8.2918  LR: 0.000100  \n",
      "Epoch: [1][18/19] Elapsed 0m 2s (remain 0m 0s) Loss: 0.7163(1.1994) Grad: 34.4755  LR: 0.000100  \n",
      "EVAL: [0/3] Elapsed 0m 0s (remain 0m 0s) Loss: 0.5301(0.5301) \n"
     ]
    },
    {
     "name": "stderr",
     "output_type": "stream",
     "text": [
      "Epoch 1 - avg_train_loss: 1.1994  avg_val_loss: 0.5049  time: 3s\n",
      "Epoch 1 - Score: 0.5100\n",
      "Epoch 1 - Save Best Score: 0.5100 Model\n"
     ]
    },
    {
     "name": "stdout",
     "output_type": "stream",
     "text": [
      "EVAL: [2/3] Elapsed 0m 0s (remain 0m 0s) Loss: 0.3459(0.5049) \n",
      "Epoch: [2][0/19] Elapsed 0m 0s (remain 0m 2s) Loss: 0.5343(0.5343) Grad: 7.8917  LR: 0.000057  \n",
      "Epoch: [2][10/19] Elapsed 0m 1s (remain 0m 1s) Loss: 0.5379(0.5444) Grad: 19.3244  LR: 0.000057  \n",
      "Epoch: [2][18/19] Elapsed 0m 2s (remain 0m 0s) Loss: 0.4120(0.4950) Grad: 20.1792  LR: 0.000057  \n",
      "EVAL: [0/3] Elapsed 0m 0s (remain 0m 0s) Loss: 0.4867(0.4867) \n"
     ]
    },
    {
     "name": "stderr",
     "output_type": "stream",
     "text": [
      "Epoch 2 - avg_train_loss: 0.4950  avg_val_loss: 0.4411  time: 4s\n",
      "Epoch 2 - Score: 0.4458\n",
      "Epoch 2 - Save Best Score: 0.4458 Model\n"
     ]
    },
    {
     "name": "stdout",
     "output_type": "stream",
     "text": [
      "EVAL: [2/3] Elapsed 0m 0s (remain 0m 0s) Loss: 0.3030(0.4411) \n",
      "Epoch: [3][0/19] Elapsed 0m 0s (remain 0m 2s) Loss: 0.4206(0.4206) Grad: 8.0230  LR: 0.000009  \n",
      "Epoch: [3][10/19] Elapsed 0m 1s (remain 0m 1s) Loss: 0.4279(0.3609) Grad: 13.0532  LR: 0.000009  \n",
      "Epoch: [3][18/19] Elapsed 0m 2s (remain 0m 0s) Loss: 0.3221(0.3506) Grad: 12.2355  LR: 0.000009  \n",
      "EVAL: [0/3] Elapsed 0m 0s (remain 0m 0s) Loss: 0.4176(0.4176) \n"
     ]
    },
    {
     "name": "stderr",
     "output_type": "stream",
     "text": [
      "Epoch 3 - avg_train_loss: 0.3506  avg_val_loss: 0.3699  time: 3s\n",
      "Epoch 3 - Score: 0.3735\n",
      "Epoch 3 - Save Best Score: 0.3735 Model\n"
     ]
    },
    {
     "name": "stdout",
     "output_type": "stream",
     "text": [
      "EVAL: [2/3] Elapsed 0m 0s (remain 0m 0s) Loss: 0.2671(0.3699) \n",
      "Epoch: [4][0/19] Elapsed 0m 0s (remain 0m 2s) Loss: 0.3459(0.3459) Grad: 5.8316  LR: 0.000001  \n",
      "Epoch: [4][10/19] Elapsed 0m 1s (remain 0m 1s) Loss: 0.2367(0.2888) Grad: 7.2708  LR: 0.000001  \n",
      "Epoch: [4][18/19] Elapsed 0m 2s (remain 0m 0s) Loss: 0.3058(0.2869) Grad: 5.0664  LR: 0.000001  \n",
      "EVAL: [0/3] Elapsed 0m 0s (remain 0m 0s) Loss: 0.4276(0.4276) \n"
     ]
    },
    {
     "name": "stderr",
     "output_type": "stream",
     "text": [
      "Epoch 4 - avg_train_loss: 0.2869  avg_val_loss: 0.3829  time: 3s\n",
      "Epoch 4 - Score: 0.3878\n"
     ]
    },
    {
     "name": "stdout",
     "output_type": "stream",
     "text": [
      "EVAL: [2/3] Elapsed 0m 0s (remain 0m 0s) Loss: 0.2526(0.3829) \n",
      "Epoch: [5][0/19] Elapsed 0m 0s (remain 0m 2s) Loss: 0.3851(0.3851) Grad: 4.6392  LR: 0.000050  \n",
      "Epoch: [5][10/19] Elapsed 0m 1s (remain 0m 1s) Loss: 0.2171(0.2785) Grad: 13.4510  LR: 0.000050  \n",
      "Epoch: [5][18/19] Elapsed 0m 2s (remain 0m 0s) Loss: 0.2604(0.2926) Grad: 4.3602  LR: 0.000050  \n",
      "EVAL: [0/3] Elapsed 0m 0s (remain 0m 0s) Loss: 0.4321(0.4321) \n"
     ]
    },
    {
     "name": "stderr",
     "output_type": "stream",
     "text": [
      "Epoch 5 - avg_train_loss: 0.2926  avg_val_loss: 0.3854  time: 3s\n",
      "Epoch 5 - Score: 0.3897\n"
     ]
    },
    {
     "name": "stdout",
     "output_type": "stream",
     "text": [
      "EVAL: [2/3] Elapsed 0m 0s (remain 0m 0s) Loss: 0.2653(0.3854) \n",
      "Epoch: [6][0/19] Elapsed 0m 0s (remain 0m 2s) Loss: 0.2471(0.2471) Grad: 9.3504  LR: 0.000224  \n",
      "Epoch: [6][10/19] Elapsed 0m 1s (remain 0m 1s) Loss: 0.2558(0.2688) Grad: 12.5359  LR: 0.000224  \n",
      "Epoch: [6][18/19] Elapsed 0m 2s (remain 0m 0s) Loss: 0.3352(0.3102) Grad: 18.9085  LR: 0.000224  \n",
      "EVAL: [0/3] Elapsed 0m 0s (remain 0m 0s) Loss: 0.5018(0.5018) \n"
     ]
    },
    {
     "name": "stderr",
     "output_type": "stream",
     "text": [
      "Epoch 6 - avg_train_loss: 0.3102  avg_val_loss: 0.4308  time: 3s\n",
      "Epoch 6 - Score: 0.4385\n"
     ]
    },
    {
     "name": "stdout",
     "output_type": "stream",
     "text": [
      "EVAL: [2/3] Elapsed 0m 0s (remain 0m 0s) Loss: 0.2662(0.4308) \n",
      "Epoch: [7][0/19] Elapsed 0m 0s (remain 0m 2s) Loss: 0.3536(0.3536) Grad: 27.4549  LR: 0.000133  \n",
      "Epoch: [7][10/19] Elapsed 0m 1s (remain 0m 1s) Loss: 0.3332(0.3339) Grad: 7.9376  LR: 0.000133  \n",
      "Epoch: [7][18/19] Elapsed 0m 2s (remain 0m 0s) Loss: 0.3381(0.3188) Grad: 16.4901  LR: 0.000133  \n",
      "EVAL: [0/3] Elapsed 0m 0s (remain 0m 0s) Loss: 0.4470(0.4470) \n"
     ]
    },
    {
     "name": "stderr",
     "output_type": "stream",
     "text": [
      "Epoch 7 - avg_train_loss: 0.3188  avg_val_loss: 0.3878  time: 3s\n",
      "Epoch 7 - Score: 0.3930\n"
     ]
    },
    {
     "name": "stdout",
     "output_type": "stream",
     "text": [
      "EVAL: [2/3] Elapsed 0m 0s (remain 0m 0s) Loss: 0.2639(0.3878) \n",
      "Epoch: [8][0/19] Elapsed 0m 0s (remain 0m 2s) Loss: 0.2604(0.2604) Grad: 10.7619  LR: 0.000057  \n",
      "Epoch: [8][10/19] Elapsed 0m 1s (remain 0m 1s) Loss: 0.1841(0.2327) Grad: 6.4935  LR: 0.000057  \n",
      "Epoch: [8][18/19] Elapsed 0m 2s (remain 0m 0s) Loss: 0.2101(0.2303) Grad: 16.5041  LR: 0.000057  \n",
      "EVAL: [0/3] Elapsed 0m 0s (remain 0m 0s) Loss: 0.4047(0.4047) \n"
     ]
    },
    {
     "name": "stderr",
     "output_type": "stream",
     "text": [
      "Epoch 8 - avg_train_loss: 0.2303  avg_val_loss: 0.3777  time: 4s\n",
      "Epoch 8 - Score: 0.3794\n"
     ]
    },
    {
     "name": "stdout",
     "output_type": "stream",
     "text": [
      "EVAL: [2/3] Elapsed 0m 0s (remain 0m 0s) Loss: 0.3022(0.3777) \n",
      "Epoch: [9][0/19] Elapsed 0m 0s (remain 0m 2s) Loss: 0.1872(0.1872) Grad: 8.9613  LR: 0.000009  \n",
      "Epoch: [9][10/19] Elapsed 0m 1s (remain 0m 1s) Loss: 0.1444(0.1867) Grad: 7.8650  LR: 0.000009  \n",
      "Epoch: [9][18/19] Elapsed 0m 2s (remain 0m 0s) Loss: 0.1788(0.1846) Grad: 7.6730  LR: 0.000009  \n",
      "EVAL: [0/3] Elapsed 0m 0s (remain 0m 0s) Loss: 0.3751(0.3751) \n"
     ]
    },
    {
     "name": "stderr",
     "output_type": "stream",
     "text": [
      "Epoch 9 - avg_train_loss: 0.1846  avg_val_loss: 0.3206  time: 3s\n",
      "Epoch 9 - Score: 0.3249\n",
      "Epoch 9 - Save Best Score: 0.3249 Model\n"
     ]
    },
    {
     "name": "stdout",
     "output_type": "stream",
     "text": [
      "EVAL: [2/3] Elapsed 0m 0s (remain 0m 0s) Loss: 0.2284(0.3206) \n",
      "Epoch: [10][0/19] Elapsed 0m 0s (remain 0m 2s) Loss: 0.1277(0.1277) Grad: 5.4191  LR: 0.000001  \n",
      "Epoch: [10][10/19] Elapsed 0m 1s (remain 0m 1s) Loss: 0.2064(0.1524) Grad: 11.1910  LR: 0.000001  \n",
      "Epoch: [10][18/19] Elapsed 0m 2s (remain 0m 0s) Loss: 0.1445(0.1539) Grad: 3.7878  LR: 0.000001  \n",
      "EVAL: [0/3] Elapsed 0m 0s (remain 0m 0s) Loss: 0.3573(0.3573) \n"
     ]
    },
    {
     "name": "stderr",
     "output_type": "stream",
     "text": [
      "Epoch 10 - avg_train_loss: 0.1539  avg_val_loss: 0.3168  time: 3s\n",
      "Epoch 10 - Score: 0.3216\n",
      "Epoch 10 - Save Best Score: 0.3216 Model\n"
     ]
    },
    {
     "name": "stdout",
     "output_type": "stream",
     "text": [
      "EVAL: [2/3] Elapsed 0m 0s (remain 0m 0s) Loss: 0.1977(0.3168) \n",
      "Epoch: [11][0/19] Elapsed 0m 0s (remain 0m 2s) Loss: 0.1216(0.1216) Grad: 10.8134  LR: 0.000050  \n",
      "Epoch: [11][10/19] Elapsed 0m 1s (remain 0m 1s) Loss: 0.2334(0.1724) Grad: 9.0419  LR: 0.000050  \n",
      "Epoch: [11][18/19] Elapsed 0m 2s (remain 0m 0s) Loss: 0.1837(0.1650) Grad: 6.9077  LR: 0.000050  \n",
      "EVAL: [0/3] Elapsed 0m 0s (remain 0m 0s) Loss: 0.3743(0.3743) \n"
     ]
    },
    {
     "name": "stderr",
     "output_type": "stream",
     "text": [
      "Epoch 11 - avg_train_loss: 0.1650  avg_val_loss: 0.3410  time: 3s\n",
      "Epoch 11 - Score: 0.3449\n"
     ]
    },
    {
     "name": "stdout",
     "output_type": "stream",
     "text": [
      "EVAL: [2/3] Elapsed 0m 0s (remain 0m 0s) Loss: 0.2284(0.3410) \n",
      "Epoch: [12][0/19] Elapsed 0m 0s (remain 0m 2s) Loss: 0.1189(0.1189) Grad: 7.2847  LR: 0.000224  \n",
      "Epoch: [12][10/19] Elapsed 0m 1s (remain 0m 1s) Loss: 0.2240(0.1821) Grad: 9.6940  LR: 0.000224  \n",
      "Epoch: [12][18/19] Elapsed 0m 2s (remain 0m 0s) Loss: 0.1623(0.1801) Grad: 4.3103  LR: 0.000224  \n",
      "EVAL: [0/3] Elapsed 0m 0s (remain 0m 0s) Loss: 0.3861(0.3861) \n"
     ]
    },
    {
     "name": "stderr",
     "output_type": "stream",
     "text": [
      "Epoch 12 - avg_train_loss: 0.1801  avg_val_loss: 0.3472  time: 3s\n",
      "Epoch 12 - Score: 0.3505\n"
     ]
    },
    {
     "name": "stdout",
     "output_type": "stream",
     "text": [
      "EVAL: [2/3] Elapsed 0m 0s (remain 0m 0s) Loss: 0.2488(0.3472) \n",
      "Epoch: [13][0/19] Elapsed 0m 0s (remain 0m 2s) Loss: 0.1511(0.1511) Grad: 12.7283  LR: 0.000133  \n",
      "Epoch: [13][10/19] Elapsed 0m 1s (remain 0m 1s) Loss: 0.2517(0.2098) Grad: 5.4419  LR: 0.000133  \n",
      "Epoch: [13][18/19] Elapsed 0m 2s (remain 0m 0s) Loss: 0.3504(0.2391) Grad: 21.5365  LR: 0.000133  \n",
      "EVAL: [0/3] Elapsed 0m 0s (remain 0m 0s) Loss: 0.3894(0.3894) \n"
     ]
    },
    {
     "name": "stderr",
     "output_type": "stream",
     "text": [
      "Epoch 13 - avg_train_loss: 0.2391  avg_val_loss: 0.3681  time: 3s\n",
      "Epoch 13 - Score: 0.3717\n"
     ]
    },
    {
     "name": "stdout",
     "output_type": "stream",
     "text": [
      "EVAL: [2/3] Elapsed 0m 0s (remain 0m 0s) Loss: 0.2535(0.3681) \n",
      "Epoch: [14][0/19] Elapsed 0m 0s (remain 0m 2s) Loss: 0.1756(0.1756) Grad: 9.8669  LR: 0.000057  \n",
      "Epoch: [14][10/19] Elapsed 0m 1s (remain 0m 1s) Loss: 0.1420(0.2030) Grad: 12.7417  LR: 0.000057  \n",
      "Epoch: [14][18/19] Elapsed 0m 2s (remain 0m 0s) Loss: 0.2306(0.2015) Grad: 8.7351  LR: 0.000057  \n",
      "EVAL: [0/3] Elapsed 0m 0s (remain 0m 0s) Loss: 0.3838(0.3838) \n"
     ]
    },
    {
     "name": "stderr",
     "output_type": "stream",
     "text": [
      "Epoch 14 - avg_train_loss: 0.2015  avg_val_loss: 0.3472  time: 3s\n",
      "Epoch 14 - Score: 0.3530\n"
     ]
    },
    {
     "name": "stdout",
     "output_type": "stream",
     "text": [
      "EVAL: [2/3] Elapsed 0m 0s (remain 0m 0s) Loss: 0.2066(0.3472) \n",
      "Epoch: [15][0/19] Elapsed 0m 0s (remain 0m 2s) Loss: 0.1473(0.1473) Grad: 3.7442  LR: 0.000009  \n",
      "Epoch: [15][10/19] Elapsed 0m 1s (remain 0m 1s) Loss: 0.1529(0.1609) Grad: 5.5595  LR: 0.000009  \n",
      "Epoch: [15][18/19] Elapsed 0m 2s (remain 0m 0s) Loss: 0.1912(0.1620) Grad: 4.3659  LR: 0.000009  \n",
      "EVAL: [0/3] Elapsed 0m 0s (remain 0m 0s) Loss: 0.3675(0.3675) \n"
     ]
    },
    {
     "name": "stderr",
     "output_type": "stream",
     "text": [
      "Epoch 15 - avg_train_loss: 0.1620  avg_val_loss: 0.3200  time: 3s\n",
      "Epoch 15 - Score: 0.3245\n"
     ]
    },
    {
     "name": "stdout",
     "output_type": "stream",
     "text": [
      "EVAL: [2/3] Elapsed 0m 0s (remain 0m 0s) Loss: 0.2119(0.3200) \n",
      "Epoch: [16][0/19] Elapsed 0m 0s (remain 0m 2s) Loss: 0.1476(0.1476) Grad: 5.7415  LR: 0.000001  \n",
      "Epoch: [16][10/19] Elapsed 0m 1s (remain 0m 1s) Loss: 0.1414(0.1378) Grad: 10.2298  LR: 0.000001  \n",
      "Epoch: [16][18/19] Elapsed 0m 2s (remain 0m 0s) Loss: 0.1385(0.1357) Grad: 11.1393  LR: 0.000001  \n",
      "EVAL: [0/3] Elapsed 0m 0s (remain 0m 0s) Loss: 0.3640(0.3640) \n"
     ]
    },
    {
     "name": "stderr",
     "output_type": "stream",
     "text": [
      "Epoch 16 - avg_train_loss: 0.1357  avg_val_loss: 0.3305  time: 3s\n",
      "Epoch 16 - Score: 0.3347\n"
     ]
    },
    {
     "name": "stdout",
     "output_type": "stream",
     "text": [
      "EVAL: [2/3] Elapsed 0m 0s (remain 0m 0s) Loss: 0.2155(0.3305) \n",
      "Epoch: [17][0/19] Elapsed 0m 0s (remain 0m 2s) Loss: 0.1354(0.1354) Grad: 11.4476  LR: 0.000050  \n",
      "Epoch: [17][10/19] Elapsed 0m 1s (remain 0m 1s) Loss: 0.1406(0.1307) Grad: 10.8532  LR: 0.000050  \n",
      "Epoch: [17][18/19] Elapsed 0m 2s (remain 0m 0s) Loss: 0.1428(0.1241) Grad: 13.9478  LR: 0.000050  \n",
      "EVAL: [0/3] Elapsed 0m 0s (remain 0m 0s) Loss: 0.3660(0.3660) \n"
     ]
    },
    {
     "name": "stderr",
     "output_type": "stream",
     "text": [
      "Epoch 17 - avg_train_loss: 0.1241  avg_val_loss: 0.3172  time: 4s\n",
      "Epoch 17 - Score: 0.3220\n"
     ]
    },
    {
     "name": "stdout",
     "output_type": "stream",
     "text": [
      "EVAL: [2/3] Elapsed 0m 0s (remain 0m 0s) Loss: 0.2068(0.3172) \n",
      "Epoch: [18][0/19] Elapsed 0m 0s (remain 0m 2s) Loss: 0.0925(0.0925) Grad: 4.2067  LR: 0.000224  \n",
      "Epoch: [18][10/19] Elapsed 0m 1s (remain 0m 1s) Loss: 0.1888(0.1426) Grad: 22.7781  LR: 0.000224  \n",
      "Epoch: [18][18/19] Elapsed 0m 2s (remain 0m 0s) Loss: 0.0875(0.1404) Grad: 4.0480  LR: 0.000224  \n",
      "EVAL: [0/3] Elapsed 0m 0s (remain 0m 0s) Loss: 0.3460(0.3460) \n"
     ]
    },
    {
     "name": "stderr",
     "output_type": "stream",
     "text": [
      "Epoch 18 - avg_train_loss: 0.1404  avg_val_loss: 0.3234  time: 3s\n",
      "Epoch 18 - Score: 0.3248\n"
     ]
    },
    {
     "name": "stdout",
     "output_type": "stream",
     "text": [
      "EVAL: [2/3] Elapsed 0m 0s (remain 0m 0s) Loss: 0.2606(0.3234) \n",
      "Epoch: [19][0/19] Elapsed 0m 0s (remain 0m 2s) Loss: 0.1262(0.1262) Grad: 11.8166  LR: 0.000133  \n",
      "Epoch: [19][10/19] Elapsed 0m 1s (remain 0m 1s) Loss: 0.1704(0.1709) Grad: 12.8876  LR: 0.000133  \n",
      "Epoch: [19][18/19] Elapsed 0m 2s (remain 0m 0s) Loss: 0.2919(0.1891) Grad: 21.5406  LR: 0.000133  \n",
      "EVAL: [0/3] Elapsed 0m 0s (remain 0m 0s) Loss: 0.3896(0.3896) \n"
     ]
    },
    {
     "name": "stderr",
     "output_type": "stream",
     "text": [
      "Epoch 19 - avg_train_loss: 0.1891  avg_val_loss: 0.3510  time: 4s\n",
      "Epoch 19 - Score: 0.3557\n"
     ]
    },
    {
     "name": "stdout",
     "output_type": "stream",
     "text": [
      "EVAL: [2/3] Elapsed 0m 0s (remain 0m 0s) Loss: 0.2262(0.3510) \n",
      "Epoch: [20][0/19] Elapsed 0m 0s (remain 0m 2s) Loss: 0.1747(0.1747) Grad: 16.5342  LR: 0.000057  \n",
      "Epoch: [20][10/19] Elapsed 0m 1s (remain 0m 1s) Loss: 0.2262(0.2096) Grad: 4.2942  LR: 0.000057  \n",
      "Epoch: [20][18/19] Elapsed 0m 2s (remain 0m 0s) Loss: 0.1239(0.1766) Grad: 8.9743  LR: 0.000057  \n",
      "EVAL: [0/3] Elapsed 0m 0s (remain 0m 0s) Loss: 0.3716(0.3716) \n"
     ]
    },
    {
     "name": "stderr",
     "output_type": "stream",
     "text": [
      "Epoch 20 - avg_train_loss: 0.1766  avg_val_loss: 0.3095  time: 3s\n",
      "Epoch 20 - Score: 0.3143\n",
      "Epoch 20 - Save Best Score: 0.3143 Model\n"
     ]
    },
    {
     "name": "stdout",
     "output_type": "stream",
     "text": [
      "EVAL: [2/3] Elapsed 0m 0s (remain 0m 0s) Loss: 0.2305(0.3095) \n",
      "Epoch: [21][0/19] Elapsed 0m 0s (remain 0m 2s) Loss: 0.1407(0.1407) Grad: 6.7021  LR: 0.000009  \n",
      "Epoch: [21][10/19] Elapsed 0m 1s (remain 0m 1s) Loss: 0.1148(0.1233) Grad: 5.7555  LR: 0.000009  \n",
      "Epoch: [21][18/19] Elapsed 0m 2s (remain 0m 0s) Loss: 0.1422(0.1275) Grad: 5.5150  LR: 0.000009  \n",
      "EVAL: [0/3] Elapsed 0m 0s (remain 0m 0s) Loss: 0.3687(0.3687) \n"
     ]
    },
    {
     "name": "stderr",
     "output_type": "stream",
     "text": [
      "Epoch 21 - avg_train_loss: 0.1275  avg_val_loss: 0.3161  time: 3s\n",
      "Epoch 21 - Score: 0.3212\n"
     ]
    },
    {
     "name": "stdout",
     "output_type": "stream",
     "text": [
      "EVAL: [2/3] Elapsed 0m 0s (remain 0m 0s) Loss: 0.2051(0.3161) \n",
      "Epoch: [22][0/19] Elapsed 0m 0s (remain 0m 2s) Loss: 0.1304(0.1304) Grad: 8.6337  LR: 0.000001  \n",
      "Epoch: [22][10/19] Elapsed 0m 1s (remain 0m 1s) Loss: 0.0978(0.1194) Grad: 11.3246  LR: 0.000001  \n",
      "Epoch: [22][18/19] Elapsed 0m 2s (remain 0m 0s) Loss: 0.1045(0.1156) Grad: 6.4452  LR: 0.000001  \n",
      "EVAL: [0/3] Elapsed 0m 0s (remain 0m 0s) Loss: 0.3727(0.3727) \n"
     ]
    },
    {
     "name": "stderr",
     "output_type": "stream",
     "text": [
      "Epoch 22 - avg_train_loss: 0.1156  avg_val_loss: 0.3190  time: 3s\n",
      "Epoch 22 - Score: 0.3244\n"
     ]
    },
    {
     "name": "stdout",
     "output_type": "stream",
     "text": [
      "EVAL: [2/3] Elapsed 0m 0s (remain 0m 0s) Loss: 0.2019(0.3190) \n",
      "Epoch: [23][0/19] Elapsed 0m 0s (remain 0m 2s) Loss: 0.1013(0.1013) Grad: 3.4234  LR: 0.000050  \n",
      "Epoch: [23][10/19] Elapsed 0m 1s (remain 0m 1s) Loss: 0.1565(0.1338) Grad: 21.3822  LR: 0.000050  \n",
      "Epoch: [23][18/19] Elapsed 0m 2s (remain 0m 0s) Loss: 0.1434(0.1337) Grad: 18.4251  LR: 0.000050  \n",
      "EVAL: [0/3] Elapsed 0m 0s (remain 0m 0s) Loss: 0.3529(0.3529) \n"
     ]
    },
    {
     "name": "stderr",
     "output_type": "stream",
     "text": [
      "Epoch 23 - avg_train_loss: 0.1337  avg_val_loss: 0.3157  time: 3s\n",
      "Epoch 23 - Score: 0.3192\n"
     ]
    },
    {
     "name": "stdout",
     "output_type": "stream",
     "text": [
      "EVAL: [2/3] Elapsed 0m 0s (remain 0m 0s) Loss: 0.2166(0.3157) \n",
      "Epoch: [24][0/19] Elapsed 0m 0s (remain 0m 2s) Loss: 0.1116(0.1116) Grad: 8.3109  LR: 0.000224  \n",
      "Epoch: [24][10/19] Elapsed 0m 1s (remain 0m 1s) Loss: 0.1911(0.1631) Grad: 23.3373  LR: 0.000224  \n",
      "Epoch: [24][18/19] Elapsed 0m 2s (remain 0m 0s) Loss: 0.1842(0.1695) Grad: 22.2104  LR: 0.000224  \n",
      "EVAL: [0/3] Elapsed 0m 0s (remain 0m 0s) Loss: 0.3644(0.3644) \n"
     ]
    },
    {
     "name": "stderr",
     "output_type": "stream",
     "text": [
      "Epoch 24 - avg_train_loss: 0.1695  avg_val_loss: 0.3254  time: 3s\n",
      "Epoch 24 - Score: 0.3280\n"
     ]
    },
    {
     "name": "stdout",
     "output_type": "stream",
     "text": [
      "EVAL: [2/3] Elapsed 0m 0s (remain 0m 0s) Loss: 0.2449(0.3254) \n",
      "Epoch: [25][0/19] Elapsed 0m 0s (remain 0m 2s) Loss: 0.1053(0.1053) Grad: 6.6827  LR: 0.000133  \n",
      "Epoch: [25][10/19] Elapsed 0m 1s (remain 0m 1s) Loss: 0.1658(0.1580) Grad: 19.2770  LR: 0.000133  \n",
      "Epoch: [25][18/19] Elapsed 0m 2s (remain 0m 0s) Loss: 0.2265(0.1625) Grad: 10.3513  LR: 0.000133  \n",
      "EVAL: [0/3] Elapsed 0m 0s (remain 0m 0s) Loss: 0.3484(0.3484) \n"
     ]
    },
    {
     "name": "stderr",
     "output_type": "stream",
     "text": [
      "Epoch 25 - avg_train_loss: 0.1625  avg_val_loss: 0.3259  time: 3s\n",
      "Epoch 25 - Score: 0.3289\n"
     ]
    },
    {
     "name": "stdout",
     "output_type": "stream",
     "text": [
      "EVAL: [2/3] Elapsed 0m 0s (remain 0m 0s) Loss: 0.2263(0.3259) \n",
      "Epoch: [26][0/19] Elapsed 0m 0s (remain 0m 2s) Loss: 0.1236(0.1236) Grad: 7.0063  LR: 0.000057  \n",
      "Epoch: [26][10/19] Elapsed 0m 1s (remain 0m 1s) Loss: 0.1843(0.1541) Grad: 12.5981  LR: 0.000057  \n",
      "Epoch: [26][18/19] Elapsed 0m 2s (remain 0m 0s) Loss: 0.1589(0.1599) Grad: 3.5179  LR: 0.000057  \n",
      "EVAL: [0/3] Elapsed 0m 0s (remain 0m 0s) Loss: 0.3420(0.3420) \n"
     ]
    },
    {
     "name": "stderr",
     "output_type": "stream",
     "text": [
      "Epoch 26 - avg_train_loss: 0.1599  avg_val_loss: 0.3135  time: 3s\n",
      "Epoch 26 - Score: 0.3177\n"
     ]
    },
    {
     "name": "stdout",
     "output_type": "stream",
     "text": [
      "EVAL: [2/3] Elapsed 0m 0s (remain 0m 0s) Loss: 0.1997(0.3135) \n",
      "Epoch: [27][0/19] Elapsed 0m 0s (remain 0m 2s) Loss: 0.1218(0.1218) Grad: 5.6658  LR: 0.000009  \n",
      "Epoch: [27][10/19] Elapsed 0m 1s (remain 0m 1s) Loss: 0.1415(0.1211) Grad: 4.7592  LR: 0.000009  \n",
      "Epoch: [27][18/19] Elapsed 0m 2s (remain 0m 0s) Loss: 0.0954(0.1238) Grad: 6.9031  LR: 0.000009  \n",
      "EVAL: [0/3] Elapsed 0m 0s (remain 0m 0s) Loss: 0.3535(0.3535) \n"
     ]
    },
    {
     "name": "stderr",
     "output_type": "stream",
     "text": [
      "Epoch 27 - avg_train_loss: 0.1238  avg_val_loss: 0.3149  time: 3s\n",
      "Epoch 27 - Score: 0.3186\n"
     ]
    },
    {
     "name": "stdout",
     "output_type": "stream",
     "text": [
      "EVAL: [2/3] Elapsed 0m 0s (remain 0m 0s) Loss: 0.2145(0.3149) \n",
      "Epoch: [28][0/19] Elapsed 0m 0s (remain 0m 2s) Loss: 0.1017(0.1017) Grad: 3.0458  LR: 0.000001  \n",
      "Epoch: [28][10/19] Elapsed 0m 1s (remain 0m 1s) Loss: 0.0925(0.1003) Grad: 9.2753  LR: 0.000001  \n",
      "Epoch: [28][18/19] Elapsed 0m 2s (remain 0m 0s) Loss: 0.1017(0.1011) Grad: 4.9643  LR: 0.000001  \n",
      "EVAL: [0/3] Elapsed 0m 0s (remain 0m 0s) Loss: 0.3503(0.3503) \n"
     ]
    },
    {
     "name": "stderr",
     "output_type": "stream",
     "text": [
      "Epoch 28 - avg_train_loss: 0.1011  avg_val_loss: 0.3127  time: 3s\n",
      "Epoch 28 - Score: 0.3167\n"
     ]
    },
    {
     "name": "stdout",
     "output_type": "stream",
     "text": [
      "EVAL: [2/3] Elapsed 0m 0s (remain 0m 0s) Loss: 0.2065(0.3127) \n",
      "Epoch: [29][0/19] Elapsed 0m 0s (remain 0m 2s) Loss: 0.1021(0.1021) Grad: 9.3510  LR: 0.000050  \n",
      "Epoch: [29][10/19] Elapsed 0m 1s (remain 0m 1s) Loss: 0.1084(0.0986) Grad: 2.6174  LR: 0.000050  \n",
      "Epoch: [29][18/19] Elapsed 0m 2s (remain 0m 0s) Loss: 0.1038(0.0997) Grad: 2.7010  LR: 0.000050  \n",
      "EVAL: [0/3] Elapsed 0m 0s (remain 0m 0s) Loss: 0.3629(0.3629) \n"
     ]
    },
    {
     "name": "stderr",
     "output_type": "stream",
     "text": [
      "Epoch 29 - avg_train_loss: 0.0997  avg_val_loss: 0.3060  time: 4s\n",
      "Epoch 29 - Score: 0.3112\n",
      "Epoch 29 - Save Best Score: 0.3112 Model\n"
     ]
    },
    {
     "name": "stdout",
     "output_type": "stream",
     "text": [
      "EVAL: [2/3] Elapsed 0m 0s (remain 0m 0s) Loss: 0.2042(0.3060) \n",
      "Epoch: [30][0/19] Elapsed 0m 0s (remain 0m 2s) Loss: 0.0827(0.0827) Grad: 8.0224  LR: 0.000224  \n",
      "Epoch: [30][10/19] Elapsed 0m 1s (remain 0m 1s) Loss: 0.1199(0.1002) Grad: 6.6294  LR: 0.000224  \n",
      "Epoch: [30][18/19] Elapsed 0m 2s (remain 0m 0s) Loss: 0.1489(0.1112) Grad: 16.4619  LR: 0.000224  \n",
      "EVAL: [0/3] Elapsed 0m 0s (remain 0m 0s) Loss: 0.3540(0.3540) \n"
     ]
    },
    {
     "name": "stderr",
     "output_type": "stream",
     "text": [
      "Epoch 30 - avg_train_loss: 0.1112  avg_val_loss: 0.3192  time: 3s\n",
      "Epoch 30 - Score: 0.3235\n"
     ]
    },
    {
     "name": "stdout",
     "output_type": "stream",
     "text": [
      "EVAL: [2/3] Elapsed 0m 0s (remain 0m 0s) Loss: 0.2039(0.3192) \n",
      "Epoch: [31][0/19] Elapsed 0m 0s (remain 0m 2s) Loss: 0.0990(0.0990) Grad: 12.1279  LR: 0.000133  \n",
      "Epoch: [31][10/19] Elapsed 0m 1s (remain 0m 1s) Loss: 0.1635(0.1680) Grad: 23.1574  LR: 0.000133  \n",
      "Epoch: [31][18/19] Elapsed 0m 2s (remain 0m 0s) Loss: 0.1371(0.1913) Grad: 9.5557  LR: 0.000133  \n",
      "EVAL: [0/3] Elapsed 0m 0s (remain 0m 0s) Loss: 0.3871(0.3871) \n"
     ]
    },
    {
     "name": "stderr",
     "output_type": "stream",
     "text": [
      "Epoch 31 - avg_train_loss: 0.1913  avg_val_loss: 0.3626  time: 4s\n",
      "Epoch 31 - Score: 0.3637\n"
     ]
    },
    {
     "name": "stdout",
     "output_type": "stream",
     "text": [
      "EVAL: [2/3] Elapsed 0m 0s (remain 0m 0s) Loss: 0.3080(0.3626) \n",
      "Epoch: [32][0/19] Elapsed 0m 0s (remain 0m 2s) Loss: 0.2666(0.2666) Grad: 23.8832  LR: 0.000057  \n",
      "Epoch: [32][10/19] Elapsed 0m 1s (remain 0m 1s) Loss: 0.1009(0.1669) Grad: 2.7695  LR: 0.000057  \n",
      "Epoch: [32][18/19] Elapsed 0m 2s (remain 0m 0s) Loss: 0.0999(0.1535) Grad: 9.9854  LR: 0.000057  \n",
      "EVAL: [0/3] Elapsed 0m 0s (remain 0m 0s) Loss: 0.3490(0.3490) \n"
     ]
    },
    {
     "name": "stderr",
     "output_type": "stream",
     "text": [
      "Epoch 32 - avg_train_loss: 0.1535  avg_val_loss: 0.3196  time: 3s\n",
      "Epoch 32 - Score: 0.3224\n"
     ]
    },
    {
     "name": "stdout",
     "output_type": "stream",
     "text": [
      "EVAL: [2/3] Elapsed 0m 0s (remain 0m 0s) Loss: 0.2269(0.3196) \n",
      "Epoch: [33][0/19] Elapsed 0m 0s (remain 0m 2s) Loss: 0.1086(0.1086) Grad: 10.3769  LR: 0.000009  \n",
      "Epoch: [33][10/19] Elapsed 0m 1s (remain 0m 1s) Loss: 0.0938(0.1100) Grad: 4.7768  LR: 0.000009  \n",
      "Epoch: [33][18/19] Elapsed 0m 2s (remain 0m 0s) Loss: 0.1197(0.1082) Grad: 2.9006  LR: 0.000009  \n",
      "EVAL: [0/3] Elapsed 0m 0s (remain 0m 0s) Loss: 0.3572(0.3572) \n"
     ]
    },
    {
     "name": "stderr",
     "output_type": "stream",
     "text": [
      "Epoch 33 - avg_train_loss: 0.1082  avg_val_loss: 0.3174  time: 3s\n",
      "Epoch 33 - Score: 0.3207\n"
     ]
    },
    {
     "name": "stdout",
     "output_type": "stream",
     "text": [
      "EVAL: [2/3] Elapsed 0m 0s (remain 0m 0s) Loss: 0.2259(0.3174) \n",
      "Epoch: [34][0/19] Elapsed 0m 0s (remain 0m 2s) Loss: 0.0785(0.0785) Grad: 12.3967  LR: 0.000001  \n",
      "Epoch: [34][10/19] Elapsed 0m 1s (remain 0m 1s) Loss: 0.0961(0.0993) Grad: 9.3632  LR: 0.000001  \n",
      "Epoch: [34][18/19] Elapsed 0m 2s (remain 0m 0s) Loss: 0.1057(0.0996) Grad: 3.1473  LR: 0.000001  \n",
      "EVAL: [0/3] Elapsed 0m 0s (remain 0m 0s) Loss: 0.3663(0.3663) \n"
     ]
    },
    {
     "name": "stderr",
     "output_type": "stream",
     "text": [
      "Epoch 34 - avg_train_loss: 0.0996  avg_val_loss: 0.3121  time: 3s\n",
      "Epoch 34 - Score: 0.3171\n"
     ]
    },
    {
     "name": "stdout",
     "output_type": "stream",
     "text": [
      "EVAL: [2/3] Elapsed 0m 0s (remain 0m 0s) Loss: 0.2077(0.3121) \n",
      "Epoch: [35][0/19] Elapsed 0m 0s (remain 0m 2s) Loss: 0.0660(0.0660) Grad: 14.3312  LR: 0.000050  \n",
      "Epoch: [35][10/19] Elapsed 0m 1s (remain 0m 1s) Loss: 0.0984(0.0893) Grad: 6.0524  LR: 0.000050  \n",
      "Epoch: [35][18/19] Elapsed 0m 2s (remain 0m 0s) Loss: 0.1296(0.0946) Grad: 12.4117  LR: 0.000050  \n",
      "EVAL: [0/3] Elapsed 0m 0s (remain 0m 0s) Loss: 0.3435(0.3435) \n"
     ]
    },
    {
     "name": "stderr",
     "output_type": "stream",
     "text": [
      "Epoch 35 - avg_train_loss: 0.0946  avg_val_loss: 0.3068  time: 3s\n",
      "Epoch 35 - Score: 0.3098\n",
      "Epoch 35 - Save Best Score: 0.3098 Model\n"
     ]
    },
    {
     "name": "stdout",
     "output_type": "stream",
     "text": [
      "EVAL: [2/3] Elapsed 0m 0s (remain 0m 0s) Loss: 0.2175(0.3068) \n",
      "Epoch: [36][0/19] Elapsed 0m 0s (remain 0m 2s) Loss: 0.0829(0.0829) Grad: 3.5447  LR: 0.000224  \n",
      "Epoch: [36][10/19] Elapsed 0m 1s (remain 0m 1s) Loss: 0.1284(0.1211) Grad: 16.0754  LR: 0.000224  \n",
      "Epoch: [36][18/19] Elapsed 0m 2s (remain 0m 0s) Loss: 0.1164(0.1281) Grad: 14.8113  LR: 0.000224  \n",
      "EVAL: [0/3] Elapsed 0m 0s (remain 0m 0s) Loss: 0.3390(0.3390) \n"
     ]
    },
    {
     "name": "stderr",
     "output_type": "stream",
     "text": [
      "Epoch 36 - avg_train_loss: 0.1281  avg_val_loss: 0.2940  time: 3s\n",
      "Epoch 36 - Score: 0.2983\n",
      "Epoch 36 - Save Best Score: 0.2983 Model\n"
     ]
    },
    {
     "name": "stdout",
     "output_type": "stream",
     "text": [
      "EVAL: [2/3] Elapsed 0m 0s (remain 0m 0s) Loss: 0.1936(0.2940) \n",
      "Epoch: [37][0/19] Elapsed 0m 0s (remain 0m 2s) Loss: 0.1523(0.1523) Grad: 18.9812  LR: 0.000133  \n",
      "Epoch: [37][10/19] Elapsed 0m 1s (remain 0m 1s) Loss: 0.1214(0.1941) Grad: 6.5575  LR: 0.000133  \n",
      "Epoch: [37][18/19] Elapsed 0m 2s (remain 0m 0s) Loss: 0.1219(0.2019) Grad: 4.2069  LR: 0.000133  \n",
      "EVAL: [0/3] Elapsed 0m 0s (remain 0m 0s) Loss: 0.3656(0.3656) \n"
     ]
    },
    {
     "name": "stderr",
     "output_type": "stream",
     "text": [
      "Epoch 37 - avg_train_loss: 0.2019  avg_val_loss: 0.3506  time: 3s\n",
      "Epoch 37 - Score: 0.3511\n"
     ]
    },
    {
     "name": "stdout",
     "output_type": "stream",
     "text": [
      "EVAL: [2/3] Elapsed 0m 0s (remain 0m 0s) Loss: 0.3114(0.3506) \n",
      "Epoch: [38][0/19] Elapsed 0m 0s (remain 0m 2s) Loss: 0.2169(0.2169) Grad: 22.1255  LR: 0.000057  \n",
      "Epoch: [38][10/19] Elapsed 0m 1s (remain 0m 1s) Loss: 0.1317(0.1550) Grad: 3.8416  LR: 0.000057  \n",
      "Epoch: [38][18/19] Elapsed 0m 2s (remain 0m 0s) Loss: 0.1979(0.1535) Grad: 16.7235  LR: 0.000057  \n",
      "EVAL: [0/3] Elapsed 0m 0s (remain 0m 0s) Loss: 0.3841(0.3841) \n"
     ]
    },
    {
     "name": "stderr",
     "output_type": "stream",
     "text": [
      "Epoch 38 - avg_train_loss: 0.1535  avg_val_loss: 0.3309  time: 4s\n",
      "Epoch 38 - Score: 0.3368\n"
     ]
    },
    {
     "name": "stdout",
     "output_type": "stream",
     "text": [
      "EVAL: [2/3] Elapsed 0m 0s (remain 0m 0s) Loss: 0.2032(0.3309) \n",
      "Epoch: [39][0/19] Elapsed 0m 0s (remain 0m 2s) Loss: 0.1192(0.1192) Grad: 9.5802  LR: 0.000009  \n",
      "Epoch: [39][10/19] Elapsed 0m 1s (remain 0m 1s) Loss: 0.1194(0.1143) Grad: 6.2829  LR: 0.000009  \n",
      "Epoch: [39][18/19] Elapsed 0m 2s (remain 0m 0s) Loss: 0.0842(0.1098) Grad: 3.4692  LR: 0.000009  \n",
      "EVAL: [0/3] Elapsed 0m 0s (remain 0m 0s) Loss: 0.3462(0.3462) \n"
     ]
    },
    {
     "name": "stderr",
     "output_type": "stream",
     "text": [
      "Epoch 39 - avg_train_loss: 0.1098  avg_val_loss: 0.3012  time: 3s\n",
      "Epoch 39 - Score: 0.3054\n"
     ]
    },
    {
     "name": "stdout",
     "output_type": "stream",
     "text": [
      "EVAL: [2/3] Elapsed 0m 0s (remain 0m 0s) Loss: 0.2003(0.3012) \n",
      "Epoch: [40][0/19] Elapsed 0m 0s (remain 0m 2s) Loss: 0.0860(0.0860) Grad: 14.6467  LR: 0.000001  \n",
      "Epoch: [40][10/19] Elapsed 0m 1s (remain 0m 1s) Loss: 0.0798(0.0926) Grad: 2.7605  LR: 0.000001  \n",
      "Epoch: [40][18/19] Elapsed 0m 2s (remain 0m 0s) Loss: 0.0936(0.0879) Grad: 4.6941  LR: 0.000001  \n",
      "EVAL: [0/3] Elapsed 0m 0s (remain 0m 0s) Loss: 0.3628(0.3628) \n"
     ]
    },
    {
     "name": "stderr",
     "output_type": "stream",
     "text": [
      "Epoch 40 - avg_train_loss: 0.0879  avg_val_loss: 0.3103  time: 3s\n",
      "Epoch 40 - Score: 0.3154\n",
      "========== fold: 2 result ==========\n",
      "Score: 0.2983\n",
      "========== fold: 3 training ==========\n"
     ]
    },
    {
     "name": "stdout",
     "output_type": "stream",
     "text": [
      "EVAL: [2/3] Elapsed 0m 0s (remain 0m 0s) Loss: 0.2001(0.3103) \n",
      "Epoch: [1][0/19] Elapsed 0m 0s (remain 0m 2s) Loss: 3.5874(3.5874) Grad: 26.7576  LR: 0.000100  \n",
      "Epoch: [1][10/19] Elapsed 0m 1s (remain 0m 1s) Loss: 0.9247(1.3934) Grad: 20.8477  LR: 0.000100  \n",
      "Epoch: [1][18/19] Elapsed 0m 2s (remain 0m 0s) Loss: 0.3472(1.0485) Grad: 7.5100  LR: 0.000100  \n",
      "EVAL: [0/3] Elapsed 0m 0s (remain 0m 0s) Loss: 0.5623(0.5623) \n"
     ]
    },
    {
     "name": "stderr",
     "output_type": "stream",
     "text": [
      "Epoch 1 - avg_train_loss: 1.0485  avg_val_loss: 0.6089  time: 3s\n",
      "Epoch 1 - Score: 0.6167\n",
      "Epoch 1 - Save Best Score: 0.6167 Model\n"
     ]
    },
    {
     "name": "stdout",
     "output_type": "stream",
     "text": [
      "EVAL: [2/3] Elapsed 0m 0s (remain 0m 0s) Loss: 0.4579(0.6089) \n",
      "Epoch: [2][0/19] Elapsed 0m 0s (remain 0m 2s) Loss: 0.5977(0.5977) Grad: 19.7041  LR: 0.000057  \n",
      "Epoch: [2][10/19] Elapsed 0m 1s (remain 0m 1s) Loss: 0.4318(0.4802) Grad: 9.3618  LR: 0.000057  \n",
      "Epoch: [2][18/19] Elapsed 0m 2s (remain 0m 0s) Loss: 0.3340(0.4559) Grad: 13.6029  LR: 0.000057  \n",
      "EVAL: [0/3] Elapsed 0m 0s (remain 0m 0s) Loss: 0.4494(0.4494) \n"
     ]
    },
    {
     "name": "stderr",
     "output_type": "stream",
     "text": [
      "Epoch 2 - avg_train_loss: 0.4559  avg_val_loss: 0.4980  time: 3s\n",
      "Epoch 2 - Score: 0.5002\n",
      "Epoch 2 - Save Best Score: 0.5002 Model\n"
     ]
    },
    {
     "name": "stdout",
     "output_type": "stream",
     "text": [
      "EVAL: [2/3] Elapsed 0m 0s (remain 0m 0s) Loss: 0.4880(0.4980) \n",
      "Epoch: [3][0/19] Elapsed 0m 0s (remain 0m 2s) Loss: 0.5811(0.5811) Grad: 14.3938  LR: 0.000009  \n",
      "Epoch: [3][10/19] Elapsed 0m 1s (remain 0m 1s) Loss: 0.3860(0.4027) Grad: 11.1774  LR: 0.000009  \n",
      "Epoch: [3][18/19] Elapsed 0m 2s (remain 0m 0s) Loss: 0.3528(0.3841) Grad: 7.7446  LR: 0.000009  \n",
      "EVAL: [0/3] Elapsed 0m 0s (remain 0m 0s) Loss: 0.3744(0.3744) \n"
     ]
    },
    {
     "name": "stderr",
     "output_type": "stream",
     "text": [
      "Epoch 3 - avg_train_loss: 0.3841  avg_val_loss: 0.4327  time: 3s\n",
      "Epoch 3 - Score: 0.4385\n",
      "Epoch 3 - Save Best Score: 0.4385 Model\n"
     ]
    },
    {
     "name": "stdout",
     "output_type": "stream",
     "text": [
      "EVAL: [2/3] Elapsed 0m 0s (remain 0m 0s) Loss: 0.3678(0.4327) \n",
      "Epoch: [4][0/19] Elapsed 0m 0s (remain 0m 2s) Loss: 0.2137(0.2137) Grad: 4.5658  LR: 0.000001  \n",
      "Epoch: [4][10/19] Elapsed 0m 1s (remain 0m 1s) Loss: 0.3666(0.2829) Grad: 4.6259  LR: 0.000001  \n",
      "Epoch: [4][18/19] Elapsed 0m 2s (remain 0m 0s) Loss: 0.3674(0.2900) Grad: 4.5482  LR: 0.000001  \n",
      "EVAL: [0/3] Elapsed 0m 0s (remain 0m 0s) Loss: 0.4100(0.4100) \n"
     ]
    },
    {
     "name": "stderr",
     "output_type": "stream",
     "text": [
      "Epoch 4 - avg_train_loss: 0.2900  avg_val_loss: 0.4353  time: 3s\n",
      "Epoch 4 - Score: 0.4403\n"
     ]
    },
    {
     "name": "stdout",
     "output_type": "stream",
     "text": [
      "EVAL: [2/3] Elapsed 0m 0s (remain 0m 0s) Loss: 0.3257(0.4353) \n",
      "Epoch: [5][0/19] Elapsed 0m 0s (remain 0m 2s) Loss: 0.2351(0.2351) Grad: 4.0311  LR: 0.000050  \n",
      "Epoch: [5][10/19] Elapsed 0m 1s (remain 0m 1s) Loss: 0.2199(0.2895) Grad: 12.0226  LR: 0.000050  \n",
      "Epoch: [5][18/19] Elapsed 0m 2s (remain 0m 0s) Loss: 0.2825(0.2775) Grad: 9.5918  LR: 0.000050  \n",
      "EVAL: [0/3] Elapsed 0m 0s (remain 0m 0s) Loss: 0.3357(0.3357) \n"
     ]
    },
    {
     "name": "stderr",
     "output_type": "stream",
     "text": [
      "Epoch 5 - avg_train_loss: 0.2775  avg_val_loss: 0.3924  time: 3s\n",
      "Epoch 5 - Score: 0.3962\n",
      "Epoch 5 - Save Best Score: 0.3962 Model\n"
     ]
    },
    {
     "name": "stdout",
     "output_type": "stream",
     "text": [
      "EVAL: [2/3] Elapsed 0m 0s (remain 0m 0s) Loss: 0.3781(0.3924) \n",
      "Epoch: [6][0/19] Elapsed 0m 0s (remain 0m 2s) Loss: 0.2701(0.2701) Grad: 6.9251  LR: 0.000224  \n",
      "Epoch: [6][10/19] Elapsed 0m 1s (remain 0m 1s) Loss: 0.2993(0.2598) Grad: 5.4716  LR: 0.000224  \n",
      "Epoch: [6][18/19] Elapsed 0m 2s (remain 0m 0s) Loss: 0.2317(0.2656) Grad: 7.6143  LR: 0.000224  \n",
      "EVAL: [0/3] Elapsed 0m 0s (remain 0m 0s) Loss: 0.4094(0.4094) \n"
     ]
    },
    {
     "name": "stderr",
     "output_type": "stream",
     "text": [
      "Epoch 6 - avg_train_loss: 0.2656  avg_val_loss: 0.4210  time: 3s\n",
      "Epoch 6 - Score: 0.4242\n"
     ]
    },
    {
     "name": "stdout",
     "output_type": "stream",
     "text": [
      "EVAL: [2/3] Elapsed 0m 0s (remain 0m 0s) Loss: 0.3246(0.4210) \n",
      "Epoch: [7][0/19] Elapsed 0m 0s (remain 0m 2s) Loss: 0.2234(0.2234) Grad: 8.2596  LR: 0.000133  \n",
      "Epoch: [7][10/19] Elapsed 0m 1s (remain 0m 1s) Loss: 0.1953(0.2352) Grad: 8.1065  LR: 0.000133  \n",
      "Epoch: [7][18/19] Elapsed 0m 2s (remain 0m 0s) Loss: 0.3520(0.2524) Grad: 5.5348  LR: 0.000133  \n",
      "EVAL: [0/3] Elapsed 0m 0s (remain 0m 0s) Loss: 0.4144(0.4144) \n"
     ]
    },
    {
     "name": "stderr",
     "output_type": "stream",
     "text": [
      "Epoch 7 - avg_train_loss: 0.2524  avg_val_loss: 0.4499  time: 3s\n",
      "Epoch 7 - Score: 0.4515\n"
     ]
    },
    {
     "name": "stdout",
     "output_type": "stream",
     "text": [
      "EVAL: [2/3] Elapsed 0m 0s (remain 0m 0s) Loss: 0.4281(0.4499) \n",
      "Epoch: [8][0/19] Elapsed 0m 0s (remain 0m 2s) Loss: 0.2985(0.2985) Grad: 19.4163  LR: 0.000057  \n",
      "Epoch: [8][10/19] Elapsed 0m 1s (remain 0m 1s) Loss: 0.3396(0.2637) Grad: 13.9830  LR: 0.000057  \n",
      "Epoch: [8][18/19] Elapsed 0m 2s (remain 0m 0s) Loss: 0.2582(0.2638) Grad: 15.3770  LR: 0.000057  \n",
      "EVAL: [0/3] Elapsed 0m 0s (remain 0m 0s) Loss: 0.4531(0.4531) \n"
     ]
    },
    {
     "name": "stderr",
     "output_type": "stream",
     "text": [
      "Epoch 8 - avg_train_loss: 0.2638  avg_val_loss: 0.4565  time: 3s\n",
      "Epoch 8 - Score: 0.4565\n"
     ]
    },
    {
     "name": "stdout",
     "output_type": "stream",
     "text": [
      "EVAL: [2/3] Elapsed 0m 0s (remain 0m 0s) Loss: 0.4651(0.4565) \n",
      "Epoch: [9][0/19] Elapsed 0m 0s (remain 0m 2s) Loss: 0.2906(0.2906) Grad: 17.1555  LR: 0.000009  \n",
      "Epoch: [9][10/19] Elapsed 0m 1s (remain 0m 1s) Loss: 0.2165(0.2449) Grad: 3.7048  LR: 0.000009  \n",
      "Epoch: [9][18/19] Elapsed 0m 2s (remain 0m 0s) Loss: 0.1393(0.2243) Grad: 4.2937  LR: 0.000009  \n",
      "EVAL: [0/3] Elapsed 0m 0s (remain 0m 0s) Loss: 0.3639(0.3639) \n"
     ]
    },
    {
     "name": "stderr",
     "output_type": "stream",
     "text": [
      "Epoch 9 - avg_train_loss: 0.2243  avg_val_loss: 0.3751  time: 4s\n",
      "Epoch 9 - Score: 0.3779\n",
      "Epoch 9 - Save Best Score: 0.3779 Model\n"
     ]
    },
    {
     "name": "stdout",
     "output_type": "stream",
     "text": [
      "EVAL: [2/3] Elapsed 0m 0s (remain 0m 0s) Loss: 0.2919(0.3751) \n",
      "Epoch: [10][0/19] Elapsed 0m 0s (remain 0m 2s) Loss: 0.1886(0.1886) Grad: 16.6657  LR: 0.000001  \n",
      "Epoch: [10][10/19] Elapsed 0m 1s (remain 0m 1s) Loss: 0.1549(0.1846) Grad: 5.4909  LR: 0.000001  \n",
      "Epoch: [10][18/19] Elapsed 0m 2s (remain 0m 0s) Loss: 0.1950(0.1797) Grad: 3.6872  LR: 0.000001  \n",
      "EVAL: [0/3] Elapsed 0m 0s (remain 0m 0s) Loss: 0.3547(0.3547) \n"
     ]
    },
    {
     "name": "stderr",
     "output_type": "stream",
     "text": [
      "Epoch 10 - avg_train_loss: 0.1797  avg_val_loss: 0.3694  time: 3s\n",
      "Epoch 10 - Score: 0.3710\n",
      "Epoch 10 - Save Best Score: 0.3710 Model\n"
     ]
    },
    {
     "name": "stdout",
     "output_type": "stream",
     "text": [
      "EVAL: [2/3] Elapsed 0m 0s (remain 0m 0s) Loss: 0.3138(0.3694) \n",
      "Epoch: [11][0/19] Elapsed 0m 0s (remain 0m 2s) Loss: 0.1669(0.1669) Grad: 11.4211  LR: 0.000050  \n",
      "Epoch: [11][10/19] Elapsed 0m 1s (remain 0m 1s) Loss: 0.1717(0.1812) Grad: 14.4782  LR: 0.000050  \n",
      "Epoch: [11][18/19] Elapsed 0m 2s (remain 0m 0s) Loss: 0.1595(0.1776) Grad: 4.9321  LR: 0.000050  \n",
      "EVAL: [0/3] Elapsed 0m 0s (remain 0m 0s) Loss: 0.3539(0.3539) \n"
     ]
    },
    {
     "name": "stderr",
     "output_type": "stream",
     "text": [
      "Epoch 11 - avg_train_loss: 0.1776  avg_val_loss: 0.3625  time: 3s\n",
      "Epoch 11 - Score: 0.3639\n",
      "Epoch 11 - Save Best Score: 0.3639 Model\n"
     ]
    },
    {
     "name": "stdout",
     "output_type": "stream",
     "text": [
      "EVAL: [2/3] Elapsed 0m 0s (remain 0m 0s) Loss: 0.3050(0.3625) \n",
      "Epoch: [12][0/19] Elapsed 0m 0s (remain 0m 2s) Loss: 0.1953(0.1953) Grad: 4.8080  LR: 0.000224  \n",
      "Epoch: [12][10/19] Elapsed 0m 1s (remain 0m 1s) Loss: 0.1816(0.1824) Grad: 6.3998  LR: 0.000224  \n",
      "Epoch: [12][18/19] Elapsed 0m 2s (remain 0m 0s) Loss: 0.1680(0.1790) Grad: 3.5052  LR: 0.000224  \n",
      "EVAL: [0/3] Elapsed 0m 0s (remain 0m 0s) Loss: 0.4019(0.4019) \n"
     ]
    },
    {
     "name": "stderr",
     "output_type": "stream",
     "text": [
      "Epoch 12 - avg_train_loss: 0.1790  avg_val_loss: 0.4377  time: 4s\n",
      "Epoch 12 - Score: 0.4395\n"
     ]
    },
    {
     "name": "stdout",
     "output_type": "stream",
     "text": [
      "EVAL: [2/3] Elapsed 0m 0s (remain 0m 0s) Loss: 0.4098(0.4377) \n",
      "Epoch: [13][0/19] Elapsed 0m 0s (remain 0m 2s) Loss: 0.2706(0.2706) Grad: 21.4240  LR: 0.000133  \n",
      "Epoch: [13][10/19] Elapsed 0m 1s (remain 0m 1s) Loss: 0.1911(0.2594) Grad: 4.1678  LR: 0.000133  \n",
      "Epoch: [13][18/19] Elapsed 0m 2s (remain 0m 0s) Loss: 0.2688(0.2366) Grad: 4.5620  LR: 0.000133  \n",
      "EVAL: [0/3] Elapsed 0m 0s (remain 0m 0s) Loss: 0.3507(0.3507) \n"
     ]
    },
    {
     "name": "stderr",
     "output_type": "stream",
     "text": [
      "Epoch 13 - avg_train_loss: 0.2366  avg_val_loss: 0.3809  time: 3s\n",
      "Epoch 13 - Score: 0.3833\n"
     ]
    },
    {
     "name": "stdout",
     "output_type": "stream",
     "text": [
      "EVAL: [2/3] Elapsed 0m 0s (remain 0m 0s) Loss: 0.3328(0.3809) \n",
      "Epoch: [14][0/19] Elapsed 0m 0s (remain 0m 2s) Loss: 0.1919(0.1919) Grad: 4.6630  LR: 0.000057  \n",
      "Epoch: [14][10/19] Elapsed 0m 1s (remain 0m 1s) Loss: 0.1823(0.1914) Grad: 11.9145  LR: 0.000057  \n",
      "Epoch: [14][18/19] Elapsed 0m 2s (remain 0m 0s) Loss: 0.2030(0.2073) Grad: 15.8808  LR: 0.000057  \n",
      "EVAL: [0/3] Elapsed 0m 0s (remain 0m 0s) Loss: 0.3991(0.3991) \n"
     ]
    },
    {
     "name": "stderr",
     "output_type": "stream",
     "text": [
      "Epoch 14 - avg_train_loss: 0.2073  avg_val_loss: 0.3946  time: 4s\n",
      "Epoch 14 - Score: 0.3969\n"
     ]
    },
    {
     "name": "stdout",
     "output_type": "stream",
     "text": [
      "EVAL: [2/3] Elapsed 0m 0s (remain 0m 0s) Loss: 0.3049(0.3946) \n",
      "Epoch: [15][0/19] Elapsed 0m 0s (remain 0m 2s) Loss: 0.2442(0.2442) Grad: 18.6797  LR: 0.000009  \n",
      "Epoch: [15][10/19] Elapsed 0m 1s (remain 0m 1s) Loss: 0.1091(0.1713) Grad: 4.3814  LR: 0.000009  \n",
      "Epoch: [15][18/19] Elapsed 0m 2s (remain 0m 0s) Loss: 0.1451(0.1674) Grad: 4.1600  LR: 0.000009  \n",
      "EVAL: [0/3] Elapsed 0m 0s (remain 0m 0s) Loss: 0.3459(0.3459) \n"
     ]
    },
    {
     "name": "stderr",
     "output_type": "stream",
     "text": [
      "Epoch 15 - avg_train_loss: 0.1674  avg_val_loss: 0.3463  time: 3s\n",
      "Epoch 15 - Score: 0.3471\n",
      "Epoch 15 - Save Best Score: 0.3471 Model\n"
     ]
    },
    {
     "name": "stdout",
     "output_type": "stream",
     "text": [
      "EVAL: [2/3] Elapsed 0m 0s (remain 0m 0s) Loss: 0.2992(0.3463) \n",
      "Epoch: [16][0/19] Elapsed 0m 0s (remain 0m 2s) Loss: 0.1334(0.1334) Grad: 4.4155  LR: 0.000001  \n",
      "Epoch: [16][10/19] Elapsed 0m 1s (remain 0m 1s) Loss: 0.1232(0.1409) Grad: 4.9925  LR: 0.000001  \n",
      "Epoch: [16][18/19] Elapsed 0m 2s (remain 0m 0s) Loss: 0.1245(0.1334) Grad: 3.9349  LR: 0.000001  \n",
      "EVAL: [0/3] Elapsed 0m 0s (remain 0m 0s) Loss: 0.3465(0.3465) \n"
     ]
    },
    {
     "name": "stderr",
     "output_type": "stream",
     "text": [
      "Epoch 16 - avg_train_loss: 0.1334  avg_val_loss: 0.3521  time: 3s\n",
      "Epoch 16 - Score: 0.3532\n"
     ]
    },
    {
     "name": "stdout",
     "output_type": "stream",
     "text": [
      "EVAL: [2/3] Elapsed 0m 0s (remain 0m 0s) Loss: 0.3014(0.3521) \n",
      "Epoch: [17][0/19] Elapsed 0m 0s (remain 0m 2s) Loss: 0.1471(0.1471) Grad: 4.8217  LR: 0.000050  \n",
      "Epoch: [17][10/19] Elapsed 0m 1s (remain 0m 1s) Loss: 0.1569(0.1312) Grad: 7.3347  LR: 0.000050  \n",
      "Epoch: [17][18/19] Elapsed 0m 2s (remain 0m 0s) Loss: 0.1349(0.1269) Grad: 3.7303  LR: 0.000050  \n",
      "EVAL: [0/3] Elapsed 0m 0s (remain 0m 0s) Loss: 0.3492(0.3492) \n"
     ]
    },
    {
     "name": "stderr",
     "output_type": "stream",
     "text": [
      "Epoch 17 - avg_train_loss: 0.1269  avg_val_loss: 0.3542  time: 3s\n",
      "Epoch 17 - Score: 0.3569\n"
     ]
    },
    {
     "name": "stdout",
     "output_type": "stream",
     "text": [
      "EVAL: [2/3] Elapsed 0m 0s (remain 0m 0s) Loss: 0.2684(0.3542) \n",
      "Epoch: [18][0/19] Elapsed 0m 0s (remain 0m 2s) Loss: 0.1326(0.1326) Grad: 17.9834  LR: 0.000224  \n",
      "Epoch: [18][10/19] Elapsed 0m 1s (remain 0m 1s) Loss: 0.1639(0.1541) Grad: 13.4704  LR: 0.000224  \n",
      "Epoch: [18][18/19] Elapsed 0m 2s (remain 0m 0s) Loss: 0.1514(0.1612) Grad: 8.9807  LR: 0.000224  \n",
      "EVAL: [0/3] Elapsed 0m 0s (remain 0m 0s) Loss: 0.3579(0.3579) \n"
     ]
    },
    {
     "name": "stderr",
     "output_type": "stream",
     "text": [
      "Epoch 18 - avg_train_loss: 0.1612  avg_val_loss: 0.3773  time: 4s\n",
      "Epoch 18 - Score: 0.3803\n"
     ]
    },
    {
     "name": "stdout",
     "output_type": "stream",
     "text": [
      "EVAL: [2/3] Elapsed 0m 0s (remain 0m 0s) Loss: 0.3008(0.3773) \n",
      "Epoch: [19][0/19] Elapsed 0m 0s (remain 0m 2s) Loss: 0.1630(0.1630) Grad: 5.5489  LR: 0.000133  \n",
      "Epoch: [19][10/19] Elapsed 0m 1s (remain 0m 1s) Loss: 0.1713(0.1972) Grad: 8.3799  LR: 0.000133  \n",
      "Epoch: [19][18/19] Elapsed 0m 2s (remain 0m 0s) Loss: 0.1736(0.1953) Grad: 5.3306  LR: 0.000133  \n",
      "EVAL: [0/3] Elapsed 0m 0s (remain 0m 0s) Loss: 0.3528(0.3528) \n"
     ]
    },
    {
     "name": "stderr",
     "output_type": "stream",
     "text": [
      "Epoch 19 - avg_train_loss: 0.1953  avg_val_loss: 0.3646  time: 4s\n",
      "Epoch 19 - Score: 0.3671\n"
     ]
    },
    {
     "name": "stdout",
     "output_type": "stream",
     "text": [
      "EVAL: [2/3] Elapsed 0m 0s (remain 0m 0s) Loss: 0.2878(0.3646) \n",
      "Epoch: [20][0/19] Elapsed 0m 0s (remain 0m 2s) Loss: 0.1297(0.1297) Grad: 6.6422  LR: 0.000057  \n",
      "Epoch: [20][10/19] Elapsed 0m 1s (remain 0m 1s) Loss: 0.1354(0.1702) Grad: 14.9763  LR: 0.000057  \n",
      "Epoch: [20][18/19] Elapsed 0m 2s (remain 0m 0s) Loss: 0.1147(0.1671) Grad: 3.2957  LR: 0.000057  \n",
      "EVAL: [0/3] Elapsed 0m 0s (remain 0m 0s) Loss: 0.3805(0.3805) \n"
     ]
    },
    {
     "name": "stderr",
     "output_type": "stream",
     "text": [
      "Epoch 20 - avg_train_loss: 0.1671  avg_val_loss: 0.3850  time: 3s\n",
      "Epoch 20 - Score: 0.3865\n"
     ]
    },
    {
     "name": "stdout",
     "output_type": "stream",
     "text": [
      "EVAL: [2/3] Elapsed 0m 0s (remain 0m 0s) Loss: 0.3204(0.3850) \n",
      "Epoch: [21][0/19] Elapsed 0m 0s (remain 0m 2s) Loss: 0.1679(0.1679) Grad: 6.8702  LR: 0.000009  \n",
      "Epoch: [21][10/19] Elapsed 0m 1s (remain 0m 1s) Loss: 0.1214(0.1484) Grad: 7.4009  LR: 0.000009  \n",
      "Epoch: [21][18/19] Elapsed 0m 2s (remain 0m 0s) Loss: 0.1582(0.1419) Grad: 9.7655  LR: 0.000009  \n",
      "EVAL: [0/3] Elapsed 0m 0s (remain 0m 0s) Loss: 0.3508(0.3508) \n"
     ]
    },
    {
     "name": "stderr",
     "output_type": "stream",
     "text": [
      "Epoch 21 - avg_train_loss: 0.1419  avg_val_loss: 0.3573  time: 3s\n",
      "Epoch 21 - Score: 0.3578\n"
     ]
    },
    {
     "name": "stdout",
     "output_type": "stream",
     "text": [
      "EVAL: [2/3] Elapsed 0m 0s (remain 0m 0s) Loss: 0.3222(0.3573) \n",
      "Epoch: [22][0/19] Elapsed 0m 0s (remain 0m 2s) Loss: 0.1561(0.1561) Grad: 18.0370  LR: 0.000001  \n",
      "Epoch: [22][10/19] Elapsed 0m 1s (remain 0m 1s) Loss: 0.0969(0.1389) Grad: 7.5254  LR: 0.000001  \n",
      "Epoch: [22][18/19] Elapsed 0m 2s (remain 0m 0s) Loss: 0.1266(0.1286) Grad: 7.9878  LR: 0.000001  \n",
      "EVAL: [0/3] Elapsed 0m 0s (remain 0m 0s) Loss: 0.3253(0.3253) \n"
     ]
    },
    {
     "name": "stderr",
     "output_type": "stream",
     "text": [
      "Epoch 22 - avg_train_loss: 0.1286  avg_val_loss: 0.3417  time: 4s\n",
      "Epoch 22 - Score: 0.3421\n",
      "Epoch 22 - Save Best Score: 0.3421 Model\n"
     ]
    },
    {
     "name": "stdout",
     "output_type": "stream",
     "text": [
      "EVAL: [2/3] Elapsed 0m 0s (remain 0m 0s) Loss: 0.3344(0.3417) \n",
      "Epoch: [23][0/19] Elapsed 0m 0s (remain 0m 2s) Loss: 0.1130(0.1130) Grad: 4.6915  LR: 0.000050  \n",
      "Epoch: [23][10/19] Elapsed 0m 1s (remain 0m 1s) Loss: 0.1376(0.1268) Grad: 9.0316  LR: 0.000050  \n",
      "Epoch: [23][18/19] Elapsed 0m 2s (remain 0m 0s) Loss: 0.1217(0.1229) Grad: 4.3715  LR: 0.000050  \n",
      "EVAL: [0/3] Elapsed 0m 0s (remain 0m 0s) Loss: 0.3304(0.3304) \n"
     ]
    },
    {
     "name": "stderr",
     "output_type": "stream",
     "text": [
      "Epoch 23 - avg_train_loss: 0.1229  avg_val_loss: 0.3470  time: 3s\n",
      "Epoch 23 - Score: 0.3484\n"
     ]
    },
    {
     "name": "stdout",
     "output_type": "stream",
     "text": [
      "EVAL: [2/3] Elapsed 0m 0s (remain 0m 0s) Loss: 0.3013(0.3470) \n",
      "Epoch: [24][0/19] Elapsed 0m 0s (remain 0m 2s) Loss: 0.1423(0.1423) Grad: 14.6569  LR: 0.000224  \n",
      "Epoch: [24][10/19] Elapsed 0m 1s (remain 0m 1s) Loss: 0.1162(0.1524) Grad: 12.8574  LR: 0.000224  \n",
      "Epoch: [24][18/19] Elapsed 0m 2s (remain 0m 0s) Loss: 0.1426(0.1478) Grad: 10.9594  LR: 0.000224  \n",
      "EVAL: [0/3] Elapsed 0m 0s (remain 0m 0s) Loss: 0.3308(0.3308) \n"
     ]
    },
    {
     "name": "stderr",
     "output_type": "stream",
     "text": [
      "Epoch 24 - avg_train_loss: 0.1478  avg_val_loss: 0.3472  time: 4s\n",
      "Epoch 24 - Score: 0.3478\n"
     ]
    },
    {
     "name": "stdout",
     "output_type": "stream",
     "text": [
      "EVAL: [2/3] Elapsed 0m 0s (remain 0m 0s) Loss: 0.3298(0.3472) \n",
      "Epoch: [25][0/19] Elapsed 0m 0s (remain 0m 2s) Loss: 0.1579(0.1579) Grad: 14.3812  LR: 0.000133  \n",
      "Epoch: [25][10/19] Elapsed 0m 1s (remain 0m 1s) Loss: 0.1730(0.1972) Grad: 13.9583  LR: 0.000133  \n",
      "Epoch: [25][18/19] Elapsed 0m 2s (remain 0m 0s) Loss: 0.2621(0.2028) Grad: 19.0282  LR: 0.000133  \n",
      "EVAL: [0/3] Elapsed 0m 0s (remain 0m 0s) Loss: 0.3470(0.3470) \n"
     ]
    },
    {
     "name": "stderr",
     "output_type": "stream",
     "text": [
      "Epoch 25 - avg_train_loss: 0.2028  avg_val_loss: 0.3622  time: 4s\n",
      "Epoch 25 - Score: 0.3633\n"
     ]
    },
    {
     "name": "stdout",
     "output_type": "stream",
     "text": [
      "EVAL: [2/3] Elapsed 0m 0s (remain 0m 0s) Loss: 0.3198(0.3622) \n",
      "Epoch: [26][0/19] Elapsed 0m 0s (remain 0m 2s) Loss: 0.1404(0.1404) Grad: 7.4172  LR: 0.000057  \n",
      "Epoch: [26][10/19] Elapsed 0m 1s (remain 0m 1s) Loss: 0.1378(0.1650) Grad: 3.8923  LR: 0.000057  \n",
      "Epoch: [26][18/19] Elapsed 0m 2s (remain 0m 0s) Loss: 0.2071(0.1807) Grad: 10.5104  LR: 0.000057  \n",
      "EVAL: [0/3] Elapsed 0m 0s (remain 0m 0s) Loss: 0.3398(0.3398) \n"
     ]
    },
    {
     "name": "stderr",
     "output_type": "stream",
     "text": [
      "Epoch 26 - avg_train_loss: 0.1807  avg_val_loss: 0.3602  time: 4s\n",
      "Epoch 26 - Score: 0.3629\n"
     ]
    },
    {
     "name": "stdout",
     "output_type": "stream",
     "text": [
      "EVAL: [2/3] Elapsed 0m 0s (remain 0m 0s) Loss: 0.2916(0.3602) \n",
      "Epoch: [27][0/19] Elapsed 0m 0s (remain 0m 2s) Loss: 0.1442(0.1442) Grad: 14.0269  LR: 0.000009  \n",
      "Epoch: [27][10/19] Elapsed 0m 1s (remain 0m 1s) Loss: 0.1175(0.1525) Grad: 10.5050  LR: 0.000009  \n",
      "Epoch: [27][18/19] Elapsed 0m 2s (remain 0m 0s) Loss: 0.1418(0.1418) Grad: 6.7103  LR: 0.000009  \n",
      "EVAL: [0/3] Elapsed 0m 0s (remain 0m 0s) Loss: 0.3193(0.3193) \n"
     ]
    },
    {
     "name": "stderr",
     "output_type": "stream",
     "text": [
      "Epoch 27 - avg_train_loss: 0.1418  avg_val_loss: 0.3383  time: 4s\n",
      "Epoch 27 - Score: 0.3410\n",
      "Epoch 27 - Save Best Score: 0.3410 Model\n"
     ]
    },
    {
     "name": "stdout",
     "output_type": "stream",
     "text": [
      "EVAL: [2/3] Elapsed 0m 0s (remain 0m 0s) Loss: 0.2707(0.3383) \n",
      "Epoch: [28][0/19] Elapsed 0m 0s (remain 0m 2s) Loss: 0.0985(0.0985) Grad: 2.8391  LR: 0.000001  \n",
      "Epoch: [28][10/19] Elapsed 0m 1s (remain 0m 1s) Loss: 0.1539(0.1110) Grad: 8.3343  LR: 0.000001  \n",
      "Epoch: [28][18/19] Elapsed 0m 2s (remain 0m 0s) Loss: 0.1025(0.1074) Grad: 6.5589  LR: 0.000001  \n",
      "EVAL: [0/3] Elapsed 0m 0s (remain 0m 0s) Loss: 0.3170(0.3170) \n"
     ]
    },
    {
     "name": "stderr",
     "output_type": "stream",
     "text": [
      "Epoch 28 - avg_train_loss: 0.1074  avg_val_loss: 0.3406  time: 3s\n",
      "Epoch 28 - Score: 0.3432\n"
     ]
    },
    {
     "name": "stdout",
     "output_type": "stream",
     "text": [
      "EVAL: [2/3] Elapsed 0m 0s (remain 0m 0s) Loss: 0.2821(0.3406) \n",
      "Epoch: [29][0/19] Elapsed 0m 0s (remain 0m 2s) Loss: 0.0889(0.0889) Grad: 2.7218  LR: 0.000050  \n",
      "Epoch: [29][10/19] Elapsed 0m 1s (remain 0m 1s) Loss: 0.1085(0.0987) Grad: 6.7960  LR: 0.000050  \n",
      "Epoch: [29][18/19] Elapsed 0m 2s (remain 0m 0s) Loss: 0.1358(0.1043) Grad: 8.5562  LR: 0.000050  \n",
      "EVAL: [0/3] Elapsed 0m 0s (remain 0m 0s) Loss: 0.3351(0.3351) \n"
     ]
    },
    {
     "name": "stderr",
     "output_type": "stream",
     "text": [
      "Epoch 29 - avg_train_loss: 0.1043  avg_val_loss: 0.3534  time: 4s\n",
      "Epoch 29 - Score: 0.3579\n"
     ]
    },
    {
     "name": "stdout",
     "output_type": "stream",
     "text": [
      "EVAL: [2/3] Elapsed 0m 0s (remain 0m 0s) Loss: 0.2543(0.3534) \n",
      "Epoch: [30][0/19] Elapsed 0m 0s (remain 0m 2s) Loss: 0.1016(0.1016) Grad: 13.7651  LR: 0.000224  \n",
      "Epoch: [30][10/19] Elapsed 0m 1s (remain 0m 1s) Loss: 0.1527(0.1312) Grad: 3.6924  LR: 0.000224  \n",
      "Epoch: [30][18/19] Elapsed 0m 2s (remain 0m 0s) Loss: 0.1553(0.1284) Grad: 17.4100  LR: 0.000224  \n",
      "EVAL: [0/3] Elapsed 0m 0s (remain 0m 0s) Loss: 0.3147(0.3147) \n"
     ]
    },
    {
     "name": "stderr",
     "output_type": "stream",
     "text": [
      "Epoch 30 - avg_train_loss: 0.1284  avg_val_loss: 0.3320  time: 3s\n",
      "Epoch 30 - Score: 0.3339\n",
      "Epoch 30 - Save Best Score: 0.3339 Model\n"
     ]
    },
    {
     "name": "stdout",
     "output_type": "stream",
     "text": [
      "EVAL: [2/3] Elapsed 0m 0s (remain 0m 0s) Loss: 0.2784(0.3320) \n",
      "Epoch: [31][0/19] Elapsed 0m 0s (remain 0m 2s) Loss: 0.1199(0.1199) Grad: 3.6715  LR: 0.000133  \n",
      "Epoch: [31][10/19] Elapsed 0m 1s (remain 0m 1s) Loss: 0.1378(0.1665) Grad: 3.2603  LR: 0.000133  \n",
      "Epoch: [31][18/19] Elapsed 0m 2s (remain 0m 0s) Loss: 0.1286(0.1600) Grad: 7.3798  LR: 0.000133  \n",
      "EVAL: [0/3] Elapsed 0m 0s (remain 0m 0s) Loss: 0.3469(0.3469) \n"
     ]
    },
    {
     "name": "stderr",
     "output_type": "stream",
     "text": [
      "Epoch 31 - avg_train_loss: 0.1600  avg_val_loss: 0.3644  time: 3s\n",
      "Epoch 31 - Score: 0.3666\n"
     ]
    },
    {
     "name": "stdout",
     "output_type": "stream",
     "text": [
      "EVAL: [2/3] Elapsed 0m 0s (remain 0m 0s) Loss: 0.3008(0.3644) \n",
      "Epoch: [32][0/19] Elapsed 0m 0s (remain 0m 2s) Loss: 0.1730(0.1730) Grad: 14.3331  LR: 0.000057  \n",
      "Epoch: [32][10/19] Elapsed 0m 1s (remain 0m 1s) Loss: 0.1823(0.1556) Grad: 11.0630  LR: 0.000057  \n",
      "Epoch: [32][18/19] Elapsed 0m 2s (remain 0m 0s) Loss: 0.1808(0.1635) Grad: 11.0513  LR: 0.000057  \n",
      "EVAL: [0/3] Elapsed 0m 0s (remain 0m 0s) Loss: 0.4031(0.4031) \n"
     ]
    },
    {
     "name": "stderr",
     "output_type": "stream",
     "text": [
      "Epoch 32 - avg_train_loss: 0.1635  avg_val_loss: 0.3690  time: 3s\n",
      "Epoch 32 - Score: 0.3713\n"
     ]
    },
    {
     "name": "stdout",
     "output_type": "stream",
     "text": [
      "EVAL: [2/3] Elapsed 0m 0s (remain 0m 0s) Loss: 0.2846(0.3690) \n",
      "Epoch: [33][0/19] Elapsed 0m 0s (remain 0m 2s) Loss: 0.1256(0.1256) Grad: 4.5563  LR: 0.000009  \n",
      "Epoch: [33][10/19] Elapsed 0m 1s (remain 0m 1s) Loss: 0.1137(0.1216) Grad: 10.0719  LR: 0.000009  \n",
      "Epoch: [33][18/19] Elapsed 0m 2s (remain 0m 0s) Loss: 0.0959(0.1141) Grad: 13.5567  LR: 0.000009  \n",
      "EVAL: [0/3] Elapsed 0m 0s (remain 0m 0s) Loss: 0.3678(0.3678) \n"
     ]
    },
    {
     "name": "stderr",
     "output_type": "stream",
     "text": [
      "Epoch 33 - avg_train_loss: 0.1141  avg_val_loss: 0.3436  time: 4s\n",
      "Epoch 33 - Score: 0.3454\n"
     ]
    },
    {
     "name": "stdout",
     "output_type": "stream",
     "text": [
      "EVAL: [2/3] Elapsed 0m 0s (remain 0m 0s) Loss: 0.2667(0.3436) \n",
      "Epoch: [34][0/19] Elapsed 0m 0s (remain 0m 2s) Loss: 0.0893(0.0893) Grad: 5.2011  LR: 0.000001  \n",
      "Epoch: [34][10/19] Elapsed 0m 1s (remain 0m 1s) Loss: 0.0790(0.0876) Grad: 3.6339  LR: 0.000001  \n",
      "Epoch: [34][18/19] Elapsed 0m 2s (remain 0m 0s) Loss: 0.0754(0.0902) Grad: 4.7107  LR: 0.000001  \n",
      "EVAL: [0/3] Elapsed 0m 0s (remain 0m 0s) Loss: 0.3592(0.3592) \n"
     ]
    },
    {
     "name": "stderr",
     "output_type": "stream",
     "text": [
      "Epoch 34 - avg_train_loss: 0.0902  avg_val_loss: 0.3508  time: 3s\n",
      "Epoch 34 - Score: 0.3520\n"
     ]
    },
    {
     "name": "stdout",
     "output_type": "stream",
     "text": [
      "EVAL: [2/3] Elapsed 0m 0s (remain 0m 0s) Loss: 0.2851(0.3508) \n",
      "Epoch: [35][0/19] Elapsed 0m 0s (remain 0m 2s) Loss: 0.1127(0.1127) Grad: 3.7258  LR: 0.000050  \n",
      "Epoch: [35][10/19] Elapsed 0m 1s (remain 0m 1s) Loss: 0.0978(0.0943) Grad: 2.9830  LR: 0.000050  \n",
      "Epoch: [35][18/19] Elapsed 0m 2s (remain 0m 0s) Loss: 0.1007(0.0943) Grad: 4.2398  LR: 0.000050  \n",
      "EVAL: [0/3] Elapsed 0m 0s (remain 0m 0s) Loss: 0.3479(0.3479) \n"
     ]
    },
    {
     "name": "stderr",
     "output_type": "stream",
     "text": [
      "Epoch 35 - avg_train_loss: 0.0943  avg_val_loss: 0.3466  time: 3s\n",
      "Epoch 35 - Score: 0.3480\n"
     ]
    },
    {
     "name": "stdout",
     "output_type": "stream",
     "text": [
      "EVAL: [2/3] Elapsed 0m 0s (remain 0m 0s) Loss: 0.2811(0.3466) \n",
      "Epoch: [36][0/19] Elapsed 0m 0s (remain 0m 2s) Loss: 0.0915(0.0915) Grad: 4.4414  LR: 0.000224  \n",
      "Epoch: [36][10/19] Elapsed 0m 1s (remain 0m 1s) Loss: 0.1330(0.1053) Grad: 15.0184  LR: 0.000224  \n",
      "Epoch: [36][18/19] Elapsed 0m 2s (remain 0m 0s) Loss: 0.1162(0.1053) Grad: 4.2003  LR: 0.000224  \n",
      "EVAL: [0/3] Elapsed 0m 0s (remain 0m 0s) Loss: 0.3471(0.3471) \n"
     ]
    },
    {
     "name": "stderr",
     "output_type": "stream",
     "text": [
      "Epoch 36 - avg_train_loss: 0.1053  avg_val_loss: 0.3476  time: 4s\n",
      "Epoch 36 - Score: 0.3505\n"
     ]
    },
    {
     "name": "stdout",
     "output_type": "stream",
     "text": [
      "EVAL: [2/3] Elapsed 0m 0s (remain 0m 0s) Loss: 0.2565(0.3476) \n",
      "Epoch: [37][0/19] Elapsed 0m 0s (remain 0m 2s) Loss: 0.1284(0.1284) Grad: 10.5276  LR: 0.000133  \n",
      "Epoch: [37][10/19] Elapsed 0m 1s (remain 0m 1s) Loss: 0.2089(0.1659) Grad: 16.0179  LR: 0.000133  \n",
      "Epoch: [37][18/19] Elapsed 0m 2s (remain 0m 0s) Loss: 0.1455(0.1771) Grad: 7.5919  LR: 0.000133  \n",
      "EVAL: [0/3] Elapsed 0m 0s (remain 0m 0s) Loss: 0.4514(0.4514) \n"
     ]
    },
    {
     "name": "stderr",
     "output_type": "stream",
     "text": [
      "Epoch 37 - avg_train_loss: 0.1771  avg_val_loss: 0.4158  time: 4s\n",
      "Epoch 37 - Score: 0.4189\n"
     ]
    },
    {
     "name": "stdout",
     "output_type": "stream",
     "text": [
      "EVAL: [2/3] Elapsed 0m 0s (remain 0m 0s) Loss: 0.3059(0.4158) \n",
      "Epoch: [38][0/19] Elapsed 0m 0s (remain 0m 2s) Loss: 0.2200(0.2200) Grad: 18.6231  LR: 0.000057  \n",
      "Epoch: [38][10/19] Elapsed 0m 1s (remain 0m 1s) Loss: 0.1007(0.1683) Grad: 7.3440  LR: 0.000057  \n",
      "Epoch: [38][18/19] Elapsed 0m 2s (remain 0m 0s) Loss: 0.1345(0.1463) Grad: 7.8428  LR: 0.000057  \n",
      "EVAL: [0/3] Elapsed 0m 0s (remain 0m 0s) Loss: 0.3856(0.3856) \n"
     ]
    },
    {
     "name": "stderr",
     "output_type": "stream",
     "text": [
      "Epoch 38 - avg_train_loss: 0.1463  avg_val_loss: 0.3585  time: 3s\n",
      "Epoch 38 - Score: 0.3610\n"
     ]
    },
    {
     "name": "stdout",
     "output_type": "stream",
     "text": [
      "EVAL: [2/3] Elapsed 0m 0s (remain 0m 0s) Loss: 0.2656(0.3585) \n",
      "Epoch: [39][0/19] Elapsed 0m 0s (remain 0m 2s) Loss: 0.1309(0.1309) Grad: 12.5774  LR: 0.000009  \n",
      "Epoch: [39][10/19] Elapsed 0m 1s (remain 0m 1s) Loss: 0.0999(0.1156) Grad: 9.6407  LR: 0.000009  \n",
      "Epoch: [39][18/19] Elapsed 0m 2s (remain 0m 0s) Loss: 0.1110(0.1125) Grad: 8.0278  LR: 0.000009  \n",
      "EVAL: [0/3] Elapsed 0m 0s (remain 0m 0s) Loss: 0.3559(0.3559) \n"
     ]
    },
    {
     "name": "stderr",
     "output_type": "stream",
     "text": [
      "Epoch 39 - avg_train_loss: 0.1125  avg_val_loss: 0.3570  time: 4s\n",
      "Epoch 39 - Score: 0.3589\n"
     ]
    },
    {
     "name": "stdout",
     "output_type": "stream",
     "text": [
      "EVAL: [2/3] Elapsed 0m 0s (remain 0m 0s) Loss: 0.2821(0.3570) \n",
      "Epoch: [40][0/19] Elapsed 0m 0s (remain 0m 2s) Loss: 0.0919(0.0919) Grad: 7.1478  LR: 0.000001  \n",
      "Epoch: [40][10/19] Elapsed 0m 1s (remain 0m 1s) Loss: 0.1033(0.0948) Grad: 4.3167  LR: 0.000001  \n",
      "Epoch: [40][18/19] Elapsed 0m 2s (remain 0m 0s) Loss: 0.0849(0.0917) Grad: 4.4846  LR: 0.000001  \n",
      "EVAL: [0/3] Elapsed 0m 0s (remain 0m 0s) Loss: 0.3600(0.3600) \n"
     ]
    },
    {
     "name": "stderr",
     "output_type": "stream",
     "text": [
      "Epoch 40 - avg_train_loss: 0.0917  avg_val_loss: 0.3579  time: 4s\n",
      "Epoch 40 - Score: 0.3610\n",
      "========== fold: 3 result ==========\n",
      "Score: 0.3339\n",
      "========== fold: 4 training ==========\n"
     ]
    },
    {
     "name": "stdout",
     "output_type": "stream",
     "text": [
      "EVAL: [2/3] Elapsed 0m 0s (remain 0m 0s) Loss: 0.2596(0.3579) \n",
      "Epoch: [1][0/19] Elapsed 0m 0s (remain 0m 2s) Loss: 3.4228(3.4228) Grad: 25.8406  LR: 0.000100  \n",
      "Epoch: [1][10/19] Elapsed 0m 1s (remain 0m 1s) Loss: 0.9180(1.3305) Grad: 27.8553  LR: 0.000100  \n",
      "Epoch: [1][18/19] Elapsed 0m 2s (remain 0m 0s) Loss: 0.5479(1.0129) Grad: 22.6708  LR: 0.000100  \n",
      "EVAL: [0/3] Elapsed 0m 0s (remain 0m 0s) Loss: 0.5101(0.5101) \n"
     ]
    },
    {
     "name": "stderr",
     "output_type": "stream",
     "text": [
      "Epoch 1 - avg_train_loss: 1.0129  avg_val_loss: 0.4973  time: 4s\n",
      "Epoch 1 - Score: 0.4979\n",
      "Epoch 1 - Save Best Score: 0.4979 Model\n"
     ]
    },
    {
     "name": "stdout",
     "output_type": "stream",
     "text": [
      "EVAL: [2/3] Elapsed 0m 0s (remain 0m 0s) Loss: 0.4457(0.4973) \n",
      "Epoch: [2][0/19] Elapsed 0m 0s (remain 0m 2s) Loss: 0.4418(0.4418) Grad: 10.1462  LR: 0.000057  \n",
      "Epoch: [2][10/19] Elapsed 0m 1s (remain 0m 1s) Loss: 0.3933(0.4379) Grad: 7.8010  LR: 0.000057  \n",
      "Epoch: [2][18/19] Elapsed 0m 2s (remain 0m 0s) Loss: 0.3498(0.4172) Grad: 15.5598  LR: 0.000057  \n",
      "EVAL: [0/3] Elapsed 0m 0s (remain 0m 0s) Loss: 0.5514(0.5514) \n"
     ]
    },
    {
     "name": "stderr",
     "output_type": "stream",
     "text": [
      "Epoch 2 - avg_train_loss: 0.4172  avg_val_loss: 0.5321  time: 4s\n",
      "Epoch 2 - Score: 0.5325\n"
     ]
    },
    {
     "name": "stdout",
     "output_type": "stream",
     "text": [
      "EVAL: [2/3] Elapsed 0m 0s (remain 0m 0s) Loss: 0.4912(0.5321) \n",
      "Epoch: [3][0/19] Elapsed 0m 0s (remain 0m 2s) Loss: 0.3829(0.3829) Grad: 23.0619  LR: 0.000009  \n",
      "Epoch: [3][10/19] Elapsed 0m 1s (remain 0m 1s) Loss: 0.4619(0.3589) Grad: 19.0983  LR: 0.000009  \n",
      "Epoch: [3][18/19] Elapsed 0m 2s (remain 0m 0s) Loss: 0.2489(0.3458) Grad: 12.4047  LR: 0.000009  \n",
      "EVAL: [0/3] Elapsed 0m 0s (remain 0m 0s) Loss: 0.3775(0.3775) \n"
     ]
    },
    {
     "name": "stderr",
     "output_type": "stream",
     "text": [
      "Epoch 3 - avg_train_loss: 0.3458  avg_val_loss: 0.3947  time: 4s\n",
      "Epoch 3 - Score: 0.3982\n",
      "Epoch 3 - Save Best Score: 0.3982 Model\n"
     ]
    },
    {
     "name": "stdout",
     "output_type": "stream",
     "text": [
      "EVAL: [2/3] Elapsed 0m 0s (remain 0m 0s) Loss: 0.3037(0.3947) \n",
      "Epoch: [4][0/19] Elapsed 0m 0s (remain 0m 2s) Loss: 0.2816(0.2816) Grad: 4.3796  LR: 0.000001  \n",
      "Epoch: [4][10/19] Elapsed 0m 1s (remain 0m 1s) Loss: 0.2043(0.2686) Grad: 6.3063  LR: 0.000001  \n",
      "Epoch: [4][18/19] Elapsed 0m 2s (remain 0m 0s) Loss: 0.2535(0.2729) Grad: 12.3187  LR: 0.000001  \n",
      "EVAL: [0/3] Elapsed 0m 0s (remain 0m 0s) Loss: 0.3549(0.3549) \n"
     ]
    },
    {
     "name": "stderr",
     "output_type": "stream",
     "text": [
      "Epoch 4 - avg_train_loss: 0.2729  avg_val_loss: 0.3834  time: 4s\n",
      "Epoch 4 - Score: 0.3857\n",
      "Epoch 4 - Save Best Score: 0.3857 Model\n"
     ]
    },
    {
     "name": "stdout",
     "output_type": "stream",
     "text": [
      "EVAL: [2/3] Elapsed 0m 0s (remain 0m 0s) Loss: 0.3348(0.3834) \n",
      "Epoch: [5][0/19] Elapsed 0m 0s (remain 0m 2s) Loss: 0.2438(0.2438) Grad: 5.9291  LR: 0.000050  \n",
      "Epoch: [5][10/19] Elapsed 0m 1s (remain 0m 1s) Loss: 0.2176(0.2510) Grad: 10.4784  LR: 0.000050  \n",
      "Epoch: [5][18/19] Elapsed 0m 2s (remain 0m 0s) Loss: 0.2347(0.2648) Grad: 17.1116  LR: 0.000050  \n",
      "EVAL: [0/3] Elapsed 0m 0s (remain 0m 0s) Loss: 0.3280(0.3280) \n"
     ]
    },
    {
     "name": "stderr",
     "output_type": "stream",
     "text": [
      "Epoch 5 - avg_train_loss: 0.2648  avg_val_loss: 0.3609  time: 4s\n",
      "Epoch 5 - Score: 0.3636\n",
      "Epoch 5 - Save Best Score: 0.3636 Model\n"
     ]
    },
    {
     "name": "stdout",
     "output_type": "stream",
     "text": [
      "EVAL: [2/3] Elapsed 0m 0s (remain 0m 0s) Loss: 0.3147(0.3609) \n",
      "Epoch: [6][0/19] Elapsed 0m 0s (remain 0m 2s) Loss: 0.3386(0.3386) Grad: 7.7599  LR: 0.000224  \n",
      "Epoch: [6][10/19] Elapsed 0m 1s (remain 0m 1s) Loss: 0.2541(0.2518) Grad: 11.1619  LR: 0.000224  \n",
      "Epoch: [6][18/19] Elapsed 0m 2s (remain 0m 0s) Loss: 0.3377(0.2632) Grad: 20.9988  LR: 0.000224  \n",
      "EVAL: [0/3] Elapsed 0m 0s (remain 0m 0s) Loss: 0.4064(0.4064) \n"
     ]
    },
    {
     "name": "stderr",
     "output_type": "stream",
     "text": [
      "Epoch 6 - avg_train_loss: 0.2632  avg_val_loss: 0.4564  time: 4s\n",
      "Epoch 6 - Score: 0.4584\n"
     ]
    },
    {
     "name": "stdout",
     "output_type": "stream",
     "text": [
      "EVAL: [2/3] Elapsed 0m 0s (remain 0m 0s) Loss: 0.4986(0.4564) \n",
      "Epoch: [7][0/19] Elapsed 0m 0s (remain 0m 2s) Loss: 0.3178(0.3178) Grad: 19.1604  LR: 0.000133  \n",
      "Epoch: [7][10/19] Elapsed 0m 1s (remain 0m 1s) Loss: 0.4457(0.3318) Grad: 31.5225  LR: 0.000133  \n",
      "Epoch: [7][18/19] Elapsed 0m 2s (remain 0m 0s) Loss: 0.2745(0.3349) Grad: 10.4083  LR: 0.000133  \n",
      "EVAL: [0/3] Elapsed 0m 0s (remain 0m 0s) Loss: 0.5642(0.5642) \n"
     ]
    },
    {
     "name": "stderr",
     "output_type": "stream",
     "text": [
      "Epoch 7 - avg_train_loss: 0.3349  avg_val_loss: 0.5434  time: 4s\n",
      "Epoch 7 - Score: 0.5445\n"
     ]
    },
    {
     "name": "stdout",
     "output_type": "stream",
     "text": [
      "EVAL: [2/3] Elapsed 0m 0s (remain 0m 0s) Loss: 0.4668(0.5434) \n",
      "Epoch: [8][0/19] Elapsed 0m 0s (remain 0m 2s) Loss: 0.4714(0.4714) Grad: 27.3878  LR: 0.000057  \n",
      "Epoch: [8][10/19] Elapsed 0m 1s (remain 0m 1s) Loss: 0.3860(0.3285) Grad: 15.9478  LR: 0.000057  \n",
      "Epoch: [8][18/19] Elapsed 0m 2s (remain 0m 0s) Loss: 0.3440(0.3111) Grad: 19.0089  LR: 0.000057  \n",
      "EVAL: [0/3] Elapsed 0m 0s (remain 0m 0s) Loss: 0.4096(0.4096) \n"
     ]
    },
    {
     "name": "stderr",
     "output_type": "stream",
     "text": [
      "Epoch 8 - avg_train_loss: 0.3111  avg_val_loss: 0.4152  time: 4s\n",
      "Epoch 8 - Score: 0.4185\n"
     ]
    },
    {
     "name": "stdout",
     "output_type": "stream",
     "text": [
      "EVAL: [2/3] Elapsed 0m 0s (remain 0m 0s) Loss: 0.3120(0.4152) \n",
      "Epoch: [9][0/19] Elapsed 0m 0s (remain 0m 2s) Loss: 0.3029(0.3029) Grad: 7.5390  LR: 0.000009  \n",
      "Epoch: [9][10/19] Elapsed 0m 1s (remain 0m 1s) Loss: 0.1755(0.2356) Grad: 7.0044  LR: 0.000009  \n",
      "Epoch: [9][18/19] Elapsed 0m 2s (remain 0m 0s) Loss: 0.2209(0.2203) Grad: 14.5497  LR: 0.000009  \n",
      "EVAL: [0/3] Elapsed 0m 0s (remain 0m 0s) Loss: 0.3563(0.3563) \n"
     ]
    },
    {
     "name": "stderr",
     "output_type": "stream",
     "text": [
      "Epoch 9 - avg_train_loss: 0.2203  avg_val_loss: 0.3768  time: 4s\n",
      "Epoch 9 - Score: 0.3794\n"
     ]
    },
    {
     "name": "stdout",
     "output_type": "stream",
     "text": [
      "EVAL: [2/3] Elapsed 0m 0s (remain 0m 0s) Loss: 0.3093(0.3768) \n",
      "Epoch: [10][0/19] Elapsed 0m 0s (remain 0m 2s) Loss: 0.1682(0.1682) Grad: 14.2835  LR: 0.000001  \n",
      "Epoch: [10][10/19] Elapsed 0m 1s (remain 0m 1s) Loss: 0.1512(0.1784) Grad: 4.9011  LR: 0.000001  \n",
      "Epoch: [10][18/19] Elapsed 0m 2s (remain 0m 0s) Loss: 0.1682(0.1786) Grad: 10.1398  LR: 0.000001  \n",
      "EVAL: [0/3] Elapsed 0m 0s (remain 0m 0s) Loss: 0.3577(0.3577) \n"
     ]
    },
    {
     "name": "stderr",
     "output_type": "stream",
     "text": [
      "Epoch 10 - avg_train_loss: 0.1786  avg_val_loss: 0.3693  time: 4s\n",
      "Epoch 10 - Score: 0.3724\n"
     ]
    },
    {
     "name": "stdout",
     "output_type": "stream",
     "text": [
      "EVAL: [2/3] Elapsed 0m 0s (remain 0m 0s) Loss: 0.2808(0.3693) \n",
      "Epoch: [11][0/19] Elapsed 0m 0s (remain 0m 2s) Loss: 0.2206(0.2206) Grad: 9.5307  LR: 0.000050  \n",
      "Epoch: [11][10/19] Elapsed 0m 1s (remain 0m 1s) Loss: 0.1829(0.1781) Grad: 6.1809  LR: 0.000050  \n",
      "Epoch: [11][18/19] Elapsed 0m 2s (remain 0m 0s) Loss: 0.1646(0.1767) Grad: 5.1047  LR: 0.000050  \n",
      "EVAL: [0/3] Elapsed 0m 0s (remain 0m 0s) Loss: 0.3633(0.3633) \n"
     ]
    },
    {
     "name": "stderr",
     "output_type": "stream",
     "text": [
      "Epoch 11 - avg_train_loss: 0.1767  avg_val_loss: 0.3919  time: 4s\n",
      "Epoch 11 - Score: 0.3930\n"
     ]
    },
    {
     "name": "stdout",
     "output_type": "stream",
     "text": [
      "EVAL: [2/3] Elapsed 0m 0s (remain 0m 0s) Loss: 0.3775(0.3919) \n",
      "Epoch: [12][0/19] Elapsed 0m 0s (remain 0m 2s) Loss: 0.1765(0.1765) Grad: 23.6079  LR: 0.000224  \n",
      "Epoch: [12][10/19] Elapsed 0m 1s (remain 0m 1s) Loss: 0.1671(0.1935) Grad: 13.8697  LR: 0.000224  \n",
      "Epoch: [12][18/19] Elapsed 0m 2s (remain 0m 0s) Loss: 0.2123(0.1987) Grad: 17.1474  LR: 0.000224  \n",
      "EVAL: [0/3] Elapsed 0m 0s (remain 0m 0s) Loss: 0.3532(0.3532) \n"
     ]
    },
    {
     "name": "stderr",
     "output_type": "stream",
     "text": [
      "Epoch 12 - avg_train_loss: 0.1987  avg_val_loss: 0.4063  time: 4s\n",
      "Epoch 12 - Score: 0.4089\n"
     ]
    },
    {
     "name": "stdout",
     "output_type": "stream",
     "text": [
      "EVAL: [2/3] Elapsed 0m 0s (remain 0m 0s) Loss: 0.4671(0.4063) \n",
      "Epoch: [13][0/19] Elapsed 0m 0s (remain 0m 2s) Loss: 0.2618(0.2618) Grad: 19.1181  LR: 0.000133  \n",
      "Epoch: [13][10/19] Elapsed 0m 1s (remain 0m 1s) Loss: 0.3261(0.3165) Grad: 27.4109  LR: 0.000133  \n",
      "Epoch: [13][18/19] Elapsed 0m 2s (remain 0m 0s) Loss: 0.4231(0.3328) Grad: 21.0668  LR: 0.000133  \n",
      "EVAL: [0/3] Elapsed 0m 0s (remain 0m 0s) Loss: 0.3553(0.3553) \n"
     ]
    },
    {
     "name": "stderr",
     "output_type": "stream",
     "text": [
      "Epoch 13 - avg_train_loss: 0.3328  avg_val_loss: 0.3767  time: 4s\n",
      "Epoch 13 - Score: 0.3788\n"
     ]
    },
    {
     "name": "stdout",
     "output_type": "stream",
     "text": [
      "EVAL: [2/3] Elapsed 0m 0s (remain 0m 0s) Loss: 0.3194(0.3767) \n",
      "Epoch: [14][0/19] Elapsed 0m 0s (remain 0m 2s) Loss: 0.1874(0.1874) Grad: 5.1187  LR: 0.000057  \n",
      "Epoch: [14][10/19] Elapsed 0m 1s (remain 0m 1s) Loss: 0.3585(0.2623) Grad: 20.7673  LR: 0.000057  \n",
      "Epoch: [14][18/19] Elapsed 0m 2s (remain 0m 0s) Loss: 0.2826(0.2563) Grad: 17.4257  LR: 0.000057  \n",
      "EVAL: [0/3] Elapsed 0m 0s (remain 0m 0s) Loss: 0.4312(0.4312) \n"
     ]
    },
    {
     "name": "stderr",
     "output_type": "stream",
     "text": [
      "Epoch 14 - avg_train_loss: 0.2563  avg_val_loss: 0.4156  time: 4s\n",
      "Epoch 14 - Score: 0.4169\n"
     ]
    },
    {
     "name": "stdout",
     "output_type": "stream",
     "text": [
      "EVAL: [2/3] Elapsed 0m 0s (remain 0m 0s) Loss: 0.3434(0.4156) \n",
      "Epoch: [15][0/19] Elapsed 0m 0s (remain 0m 2s) Loss: 0.2392(0.2392) Grad: 20.7647  LR: 0.000009  \n",
      "Epoch: [15][10/19] Elapsed 0m 1s (remain 0m 1s) Loss: 0.1501(0.1919) Grad: 4.5879  LR: 0.000009  \n",
      "Epoch: [15][18/19] Elapsed 0m 2s (remain 0m 0s) Loss: 0.1903(0.1892) Grad: 18.2914  LR: 0.000009  \n",
      "EVAL: [0/3] Elapsed 0m 0s (remain 0m 0s) Loss: 0.3641(0.3641) \n"
     ]
    },
    {
     "name": "stderr",
     "output_type": "stream",
     "text": [
      "Epoch 15 - avg_train_loss: 0.1892  avg_val_loss: 0.3646  time: 4s\n",
      "Epoch 15 - Score: 0.3677\n"
     ]
    },
    {
     "name": "stdout",
     "output_type": "stream",
     "text": [
      "EVAL: [2/3] Elapsed 0m 0s (remain 0m 0s) Loss: 0.2677(0.3646) \n",
      "Epoch: [16][0/19] Elapsed 0m 0s (remain 0m 2s) Loss: 0.1747(0.1747) Grad: 20.0190  LR: 0.000001  \n",
      "Epoch: [16][10/19] Elapsed 0m 1s (remain 0m 1s) Loss: 0.1295(0.1415) Grad: 4.1731  LR: 0.000001  \n",
      "Epoch: [16][18/19] Elapsed 0m 2s (remain 0m 0s) Loss: 0.1513(0.1437) Grad: 5.3597  LR: 0.000001  \n",
      "EVAL: [0/3] Elapsed 0m 0s (remain 0m 0s) Loss: 0.3558(0.3558) \n"
     ]
    },
    {
     "name": "stderr",
     "output_type": "stream",
     "text": [
      "Epoch 16 - avg_train_loss: 0.1437  avg_val_loss: 0.3461  time: 4s\n",
      "Epoch 16 - Score: 0.3511\n",
      "Epoch 16 - Save Best Score: 0.3511 Model\n"
     ]
    },
    {
     "name": "stdout",
     "output_type": "stream",
     "text": [
      "EVAL: [2/3] Elapsed 0m 0s (remain 0m 0s) Loss: 0.2185(0.3461) \n",
      "Epoch: [17][0/19] Elapsed 0m 0s (remain 0m 2s) Loss: 0.1469(0.1469) Grad: 3.3721  LR: 0.000050  \n",
      "Epoch: [17][10/19] Elapsed 0m 1s (remain 0m 1s) Loss: 0.1360(0.1402) Grad: 3.8183  LR: 0.000050  \n",
      "Epoch: [17][18/19] Elapsed 0m 2s (remain 0m 0s) Loss: 0.1281(0.1407) Grad: 13.1686  LR: 0.000050  \n",
      "EVAL: [0/3] Elapsed 0m 0s (remain 0m 0s) Loss: 0.3711(0.3711) \n"
     ]
    },
    {
     "name": "stderr",
     "output_type": "stream",
     "text": [
      "Epoch 17 - avg_train_loss: 0.1407  avg_val_loss: 0.3812  time: 4s\n",
      "Epoch 17 - Score: 0.3843\n"
     ]
    },
    {
     "name": "stdout",
     "output_type": "stream",
     "text": [
      "EVAL: [2/3] Elapsed 0m 0s (remain 0m 0s) Loss: 0.2903(0.3812) \n",
      "Epoch: [18][0/19] Elapsed 0m 0s (remain 0m 2s) Loss: 0.1254(0.1254) Grad: 11.9563  LR: 0.000224  \n",
      "Epoch: [18][10/19] Elapsed 0m 1s (remain 0m 1s) Loss: 0.1449(0.1225) Grad: 11.3735  LR: 0.000224  \n",
      "Epoch: [18][18/19] Elapsed 0m 2s (remain 0m 0s) Loss: 0.1694(0.1405) Grad: 17.2640  LR: 0.000224  \n",
      "EVAL: [0/3] Elapsed 0m 0s (remain 0m 0s) Loss: 0.3465(0.3465) \n"
     ]
    },
    {
     "name": "stderr",
     "output_type": "stream",
     "text": [
      "Epoch 18 - avg_train_loss: 0.1405  avg_val_loss: 0.3839  time: 3s\n",
      "Epoch 18 - Score: 0.3877\n"
     ]
    },
    {
     "name": "stdout",
     "output_type": "stream",
     "text": [
      "EVAL: [2/3] Elapsed 0m 0s (remain 0m 0s) Loss: 0.3205(0.3839) \n",
      "Epoch: [19][0/19] Elapsed 0m 0s (remain 0m 2s) Loss: 0.1229(0.1229) Grad: 8.7065  LR: 0.000133  \n",
      "Epoch: [19][10/19] Elapsed 0m 1s (remain 0m 1s) Loss: 0.2045(0.1685) Grad: 6.2261  LR: 0.000133  \n",
      "Epoch: [19][18/19] Elapsed 0m 2s (remain 0m 0s) Loss: 0.1980(0.1704) Grad: 14.7683  LR: 0.000133  \n",
      "EVAL: [0/3] Elapsed 0m 0s (remain 0m 0s) Loss: 0.4246(0.4246) \n"
     ]
    },
    {
     "name": "stderr",
     "output_type": "stream",
     "text": [
      "Epoch 19 - avg_train_loss: 0.1704  avg_val_loss: 0.3905  time: 4s\n",
      "Epoch 19 - Score: 0.3944\n"
     ]
    },
    {
     "name": "stdout",
     "output_type": "stream",
     "text": [
      "EVAL: [2/3] Elapsed 0m 0s (remain 0m 0s) Loss: 0.2697(0.3905) \n",
      "Epoch: [20][0/19] Elapsed 0m 0s (remain 0m 2s) Loss: 0.1861(0.1861) Grad: 19.1523  LR: 0.000057  \n",
      "Epoch: [20][10/19] Elapsed 0m 1s (remain 0m 1s) Loss: 0.1553(0.1602) Grad: 8.5491  LR: 0.000057  \n",
      "Epoch: [20][18/19] Elapsed 0m 2s (remain 0m 0s) Loss: 0.1598(0.1624) Grad: 8.2375  LR: 0.000057  \n",
      "EVAL: [0/3] Elapsed 0m 0s (remain 0m 0s) Loss: 0.3067(0.3067) \n"
     ]
    },
    {
     "name": "stderr",
     "output_type": "stream",
     "text": [
      "Epoch 20 - avg_train_loss: 0.1624  avg_val_loss: 0.3626  time: 4s\n",
      "Epoch 20 - Score: 0.3753\n"
     ]
    },
    {
     "name": "stdout",
     "output_type": "stream",
     "text": [
      "EVAL: [2/3] Elapsed 0m 0s (remain 0m 0s) Loss: 0.2288(0.3626) \n",
      "Epoch: [21][0/19] Elapsed 0m 0s (remain 0m 2s) Loss: 0.2232(0.2232) Grad: 15.5500  LR: 0.000009  \n",
      "Epoch: [21][10/19] Elapsed 0m 1s (remain 0m 1s) Loss: 0.1951(0.1566) Grad: 3.7928  LR: 0.000009  \n",
      "Epoch: [21][18/19] Elapsed 0m 2s (remain 0m 0s) Loss: 0.1426(0.1555) Grad: 11.7951  LR: 0.000009  \n",
      "EVAL: [0/3] Elapsed 0m 0s (remain 0m 0s) Loss: 0.3428(0.3428) \n"
     ]
    },
    {
     "name": "stderr",
     "output_type": "stream",
     "text": [
      "Epoch 21 - avg_train_loss: 0.1555  avg_val_loss: 0.3644  time: 4s\n",
      "Epoch 21 - Score: 0.3667\n"
     ]
    },
    {
     "name": "stdout",
     "output_type": "stream",
     "text": [
      "EVAL: [2/3] Elapsed 0m 0s (remain 0m 0s) Loss: 0.3050(0.3644) \n",
      "Epoch: [22][0/19] Elapsed 0m 0s (remain 0m 2s) Loss: 0.1679(0.1679) Grad: 18.0448  LR: 0.000001  \n",
      "Epoch: [22][10/19] Elapsed 0m 1s (remain 0m 1s) Loss: 0.1338(0.1335) Grad: 7.3076  LR: 0.000001  \n",
      "Epoch: [22][18/19] Elapsed 0m 2s (remain 0m 0s) Loss: 0.1709(0.1305) Grad: 9.9201  LR: 0.000001  \n",
      "EVAL: [0/3] Elapsed 0m 0s (remain 0m 0s) Loss: 0.3427(0.3427) \n"
     ]
    },
    {
     "name": "stderr",
     "output_type": "stream",
     "text": [
      "Epoch 22 - avg_train_loss: 0.1305  avg_val_loss: 0.3567  time: 4s\n",
      "Epoch 22 - Score: 0.3610\n"
     ]
    },
    {
     "name": "stdout",
     "output_type": "stream",
     "text": [
      "EVAL: [2/3] Elapsed 0m 0s (remain 0m 0s) Loss: 0.2549(0.3567) \n",
      "Epoch: [23][0/19] Elapsed 0m 0s (remain 0m 2s) Loss: 0.1030(0.1030) Grad: 4.6616  LR: 0.000050  \n",
      "Epoch: [23][10/19] Elapsed 0m 1s (remain 0m 1s) Loss: 0.1423(0.1263) Grad: 12.9491  LR: 0.000050  \n",
      "Epoch: [23][18/19] Elapsed 0m 2s (remain 0m 0s) Loss: 0.1021(0.1251) Grad: 9.6091  LR: 0.000050  \n",
      "EVAL: [0/3] Elapsed 0m 0s (remain 0m 0s) Loss: 0.3424(0.3424) \n"
     ]
    },
    {
     "name": "stderr",
     "output_type": "stream",
     "text": [
      "Epoch 23 - avg_train_loss: 0.1251  avg_val_loss: 0.3453  time: 4s\n",
      "Epoch 23 - Score: 0.3483\n",
      "Epoch 23 - Save Best Score: 0.3483 Model\n"
     ]
    },
    {
     "name": "stdout",
     "output_type": "stream",
     "text": [
      "EVAL: [2/3] Elapsed 0m 0s (remain 0m 0s) Loss: 0.2535(0.3453) \n",
      "Epoch: [24][0/19] Elapsed 0m 0s (remain 0m 2s) Loss: 0.1035(0.1035) Grad: 3.2344  LR: 0.000224  \n",
      "Epoch: [24][10/19] Elapsed 0m 1s (remain 0m 1s) Loss: 0.1534(0.1773) Grad: 15.7633  LR: 0.000224  \n",
      "Epoch: [24][18/19] Elapsed 0m 2s (remain 0m 0s) Loss: 0.1817(0.1827) Grad: 17.4566  LR: 0.000224  \n",
      "EVAL: [0/3] Elapsed 0m 0s (remain 0m 0s) Loss: 0.3602(0.3602) \n"
     ]
    },
    {
     "name": "stderr",
     "output_type": "stream",
     "text": [
      "Epoch 24 - avg_train_loss: 0.1827  avg_val_loss: 0.3594  time: 4s\n",
      "Epoch 24 - Score: 0.3627\n"
     ]
    },
    {
     "name": "stdout",
     "output_type": "stream",
     "text": [
      "EVAL: [2/3] Elapsed 0m 0s (remain 0m 0s) Loss: 0.2591(0.3594) \n",
      "Epoch: [25][0/19] Elapsed 0m 0s (remain 0m 2s) Loss: 0.1781(0.1781) Grad: 10.7345  LR: 0.000133  \n",
      "Epoch: [25][10/19] Elapsed 0m 1s (remain 0m 1s) Loss: 0.2375(0.1673) Grad: 24.1873  LR: 0.000133  \n",
      "Epoch: [25][18/19] Elapsed 0m 2s (remain 0m 0s) Loss: 0.2898(0.2038) Grad: 16.9932  LR: 0.000133  \n",
      "EVAL: [0/3] Elapsed 0m 0s (remain 0m 0s) Loss: 0.3813(0.3813) \n"
     ]
    },
    {
     "name": "stderr",
     "output_type": "stream",
     "text": [
      "Epoch 25 - avg_train_loss: 0.2038  avg_val_loss: 0.3883  time: 4s\n",
      "Epoch 25 - Score: 0.3939\n"
     ]
    },
    {
     "name": "stdout",
     "output_type": "stream",
     "text": [
      "EVAL: [2/3] Elapsed 0m 0s (remain 0m 0s) Loss: 0.2577(0.3883) \n",
      "Epoch: [26][0/19] Elapsed 0m 0s (remain 0m 2s) Loss: 0.1780(0.1780) Grad: 7.9180  LR: 0.000057  \n",
      "Epoch: [26][10/19] Elapsed 0m 1s (remain 0m 1s) Loss: 0.1217(0.1902) Grad: 14.6189  LR: 0.000057  \n",
      "Epoch: [26][18/19] Elapsed 0m 2s (remain 0m 0s) Loss: 0.1260(0.1682) Grad: 10.8552  LR: 0.000057  \n",
      "EVAL: [0/3] Elapsed 0m 0s (remain 0m 0s) Loss: 0.3110(0.3110) \n"
     ]
    },
    {
     "name": "stderr",
     "output_type": "stream",
     "text": [
      "Epoch 26 - avg_train_loss: 0.1682  avg_val_loss: 0.3447  time: 4s\n",
      "Epoch 26 - Score: 0.3497\n"
     ]
    },
    {
     "name": "stdout",
     "output_type": "stream",
     "text": [
      "EVAL: [2/3] Elapsed 0m 0s (remain 0m 0s) Loss: 0.2630(0.3447) \n",
      "Epoch: [27][0/19] Elapsed 0m 0s (remain 0m 2s) Loss: 0.1487(0.1487) Grad: 2.9411  LR: 0.000009  \n",
      "Epoch: [27][10/19] Elapsed 0m 1s (remain 0m 1s) Loss: 0.1113(0.1234) Grad: 9.1345  LR: 0.000009  \n",
      "Epoch: [27][18/19] Elapsed 0m 2s (remain 0m 0s) Loss: 0.1043(0.1260) Grad: 9.8193  LR: 0.000009  \n",
      "EVAL: [0/3] Elapsed 0m 0s (remain 0m 0s) Loss: 0.3500(0.3500) \n"
     ]
    },
    {
     "name": "stderr",
     "output_type": "stream",
     "text": [
      "Epoch 27 - avg_train_loss: 0.1260  avg_val_loss: 0.3613  time: 4s\n",
      "Epoch 27 - Score: 0.3665\n"
     ]
    },
    {
     "name": "stdout",
     "output_type": "stream",
     "text": [
      "EVAL: [2/3] Elapsed 0m 0s (remain 0m 0s) Loss: 0.2447(0.3613) \n",
      "Epoch: [28][0/19] Elapsed 0m 0s (remain 0m 2s) Loss: 0.1255(0.1255) Grad: 19.9736  LR: 0.000001  \n",
      "Epoch: [28][10/19] Elapsed 0m 1s (remain 0m 1s) Loss: 0.1212(0.1215) Grad: 7.4478  LR: 0.000001  \n",
      "Epoch: [28][18/19] Elapsed 0m 2s (remain 0m 0s) Loss: 0.1246(0.1107) Grad: 5.1065  LR: 0.000001  \n",
      "EVAL: [0/3] Elapsed 0m 0s (remain 0m 0s) Loss: 0.3271(0.3271) \n"
     ]
    },
    {
     "name": "stderr",
     "output_type": "stream",
     "text": [
      "Epoch 28 - avg_train_loss: 0.1107  avg_val_loss: 0.3403  time: 4s\n",
      "Epoch 28 - Score: 0.3438\n",
      "Epoch 28 - Save Best Score: 0.3438 Model\n"
     ]
    },
    {
     "name": "stdout",
     "output_type": "stream",
     "text": [
      "EVAL: [2/3] Elapsed 0m 0s (remain 0m 0s) Loss: 0.2519(0.3403) \n",
      "Epoch: [29][0/19] Elapsed 0m 0s (remain 0m 2s) Loss: 0.1263(0.1263) Grad: 12.6356  LR: 0.000050  \n",
      "Epoch: [29][10/19] Elapsed 0m 1s (remain 0m 1s) Loss: 0.0860(0.1017) Grad: 5.3860  LR: 0.000050  \n",
      "Epoch: [29][18/19] Elapsed 0m 2s (remain 0m 0s) Loss: 0.1291(0.1025) Grad: 17.5114  LR: 0.000050  \n",
      "EVAL: [0/3] Elapsed 0m 0s (remain 0m 0s) Loss: 0.3098(0.3098) \n"
     ]
    },
    {
     "name": "stderr",
     "output_type": "stream",
     "text": [
      "Epoch 29 - avg_train_loss: 0.1025  avg_val_loss: 0.3402  time: 4s\n",
      "Epoch 29 - Score: 0.3468\n"
     ]
    },
    {
     "name": "stdout",
     "output_type": "stream",
     "text": [
      "EVAL: [2/3] Elapsed 0m 0s (remain 0m 0s) Loss: 0.2342(0.3402) \n",
      "Epoch: [30][0/19] Elapsed 0m 0s (remain 0m 2s) Loss: 0.0828(0.0828) Grad: 14.5934  LR: 0.000224  \n",
      "Epoch: [30][10/19] Elapsed 0m 1s (remain 0m 1s) Loss: 0.2029(0.1805) Grad: 24.0396  LR: 0.000224  \n",
      "Epoch: [30][18/19] Elapsed 0m 2s (remain 0m 0s) Loss: 0.2467(0.1855) Grad: 21.8908  LR: 0.000224  \n",
      "EVAL: [0/3] Elapsed 0m 0s (remain 0m 0s) Loss: 0.3938(0.3938) \n"
     ]
    },
    {
     "name": "stderr",
     "output_type": "stream",
     "text": [
      "Epoch 30 - avg_train_loss: 0.1855  avg_val_loss: 0.4191  time: 4s\n",
      "Epoch 30 - Score: 0.4222\n"
     ]
    },
    {
     "name": "stdout",
     "output_type": "stream",
     "text": [
      "EVAL: [2/3] Elapsed 0m 0s (remain 0m 0s) Loss: 0.3422(0.4191) \n",
      "Epoch: [31][0/19] Elapsed 0m 0s (remain 0m 2s) Loss: 0.2364(0.2364) Grad: 20.3180  LR: 0.000133  \n",
      "Epoch: [31][10/19] Elapsed 0m 1s (remain 0m 1s) Loss: 0.2476(0.2003) Grad: 16.8206  LR: 0.000133  \n",
      "Epoch: [31][18/19] Elapsed 0m 2s (remain 0m 0s) Loss: 0.1061(0.1845) Grad: 9.8982  LR: 0.000133  \n",
      "EVAL: [0/3] Elapsed 0m 0s (remain 0m 0s) Loss: 0.3012(0.3012) \n"
     ]
    },
    {
     "name": "stderr",
     "output_type": "stream",
     "text": [
      "Epoch 31 - avg_train_loss: 0.1845  avg_val_loss: 0.3333  time: 4s\n",
      "Epoch 31 - Score: 0.3380\n",
      "Epoch 31 - Save Best Score: 0.3380 Model\n"
     ]
    },
    {
     "name": "stdout",
     "output_type": "stream",
     "text": [
      "EVAL: [2/3] Elapsed 0m 0s (remain 0m 0s) Loss: 0.2555(0.3333) \n",
      "Epoch: [32][0/19] Elapsed 0m 0s (remain 0m 2s) Loss: 0.1356(0.1356) Grad: 8.1111  LR: 0.000057  \n",
      "Epoch: [32][10/19] Elapsed 0m 1s (remain 0m 1s) Loss: 0.1429(0.1300) Grad: 15.6742  LR: 0.000057  \n",
      "Epoch: [32][18/19] Elapsed 0m 2s (remain 0m 0s) Loss: 0.1648(0.1349) Grad: 17.9038  LR: 0.000057  \n",
      "EVAL: [0/3] Elapsed 0m 0s (remain 0m 0s) Loss: 0.3187(0.3187) \n"
     ]
    },
    {
     "name": "stderr",
     "output_type": "stream",
     "text": [
      "Epoch 32 - avg_train_loss: 0.1349  avg_val_loss: 0.3348  time: 3s\n",
      "Epoch 32 - Score: 0.3410\n"
     ]
    },
    {
     "name": "stdout",
     "output_type": "stream",
     "text": [
      "EVAL: [2/3] Elapsed 0m 0s (remain 0m 0s) Loss: 0.2164(0.3348) \n",
      "Epoch: [33][0/19] Elapsed 0m 0s (remain 0m 2s) Loss: 0.1502(0.1502) Grad: 19.7818  LR: 0.000009  \n",
      "Epoch: [33][10/19] Elapsed 0m 1s (remain 0m 1s) Loss: 0.1676(0.1308) Grad: 10.5737  LR: 0.000009  \n",
      "Epoch: [33][18/19] Elapsed 0m 2s (remain 0m 0s) Loss: 0.0853(0.1178) Grad: 4.1838  LR: 0.000009  \n",
      "EVAL: [0/3] Elapsed 0m 0s (remain 0m 0s) Loss: 0.3256(0.3256) \n"
     ]
    },
    {
     "name": "stderr",
     "output_type": "stream",
     "text": [
      "Epoch 33 - avg_train_loss: 0.1178  avg_val_loss: 0.3343  time: 3s\n",
      "Epoch 33 - Score: 0.3382\n"
     ]
    },
    {
     "name": "stdout",
     "output_type": "stream",
     "text": [
      "EVAL: [2/3] Elapsed 0m 0s (remain 0m 0s) Loss: 0.2355(0.3343) \n",
      "Epoch: [34][0/19] Elapsed 0m 0s (remain 0m 2s) Loss: 0.1072(0.1072) Grad: 8.1671  LR: 0.000001  \n",
      "Epoch: [34][10/19] Elapsed 0m 1s (remain 0m 1s) Loss: 0.0898(0.0956) Grad: 7.1007  LR: 0.000001  \n",
      "Epoch: [34][18/19] Elapsed 0m 2s (remain 0m 0s) Loss: 0.0673(0.0937) Grad: 2.5032  LR: 0.000001  \n",
      "EVAL: [0/3] Elapsed 0m 0s (remain 0m 0s) Loss: 0.3178(0.3178) \n"
     ]
    },
    {
     "name": "stderr",
     "output_type": "stream",
     "text": [
      "Epoch 34 - avg_train_loss: 0.0937  avg_val_loss: 0.3304  time: 3s\n",
      "Epoch 34 - Score: 0.3346\n",
      "Epoch 34 - Save Best Score: 0.3346 Model\n"
     ]
    },
    {
     "name": "stdout",
     "output_type": "stream",
     "text": [
      "EVAL: [2/3] Elapsed 0m 0s (remain 0m 0s) Loss: 0.2333(0.3304) \n",
      "Epoch: [35][0/19] Elapsed 0m 0s (remain 0m 2s) Loss: 0.0751(0.0751) Grad: 3.2995  LR: 0.000050  \n",
      "Epoch: [35][10/19] Elapsed 0m 1s (remain 0m 1s) Loss: 0.1191(0.0955) Grad: 14.0155  LR: 0.000050  \n",
      "Epoch: [35][18/19] Elapsed 0m 2s (remain 0m 0s) Loss: 0.1024(0.0989) Grad: 15.5580  LR: 0.000050  \n",
      "EVAL: [0/3] Elapsed 0m 0s (remain 0m 0s) Loss: 0.3263(0.3263) \n"
     ]
    },
    {
     "name": "stderr",
     "output_type": "stream",
     "text": [
      "Epoch 35 - avg_train_loss: 0.0989  avg_val_loss: 0.3375  time: 3s\n",
      "Epoch 35 - Score: 0.3428\n"
     ]
    },
    {
     "name": "stdout",
     "output_type": "stream",
     "text": [
      "EVAL: [2/3] Elapsed 0m 0s (remain 0m 0s) Loss: 0.2234(0.3375) \n",
      "Epoch: [36][0/19] Elapsed 0m 0s (remain 0m 2s) Loss: 0.0727(0.0727) Grad: 3.8141  LR: 0.000224  \n",
      "Epoch: [36][10/19] Elapsed 0m 1s (remain 0m 1s) Loss: 0.1785(0.1552) Grad: 22.4566  LR: 0.000224  \n",
      "Epoch: [36][18/19] Elapsed 0m 2s (remain 0m 0s) Loss: 0.1918(0.1721) Grad: 19.3026  LR: 0.000224  \n",
      "EVAL: [0/3] Elapsed 0m 0s (remain 0m 0s) Loss: 0.3883(0.3883) \n"
     ]
    },
    {
     "name": "stderr",
     "output_type": "stream",
     "text": [
      "Epoch 36 - avg_train_loss: 0.1721  avg_val_loss: 0.4167  time: 4s\n",
      "Epoch 36 - Score: 0.4218\n"
     ]
    },
    {
     "name": "stdout",
     "output_type": "stream",
     "text": [
      "EVAL: [2/3] Elapsed 0m 0s (remain 0m 0s) Loss: 0.3116(0.4167) \n",
      "Epoch: [37][0/19] Elapsed 0m 0s (remain 0m 2s) Loss: 0.2379(0.2379) Grad: 18.9937  LR: 0.000133  \n",
      "Epoch: [37][10/19] Elapsed 0m 1s (remain 0m 1s) Loss: 0.1511(0.1767) Grad: 15.7351  LR: 0.000133  \n",
      "Epoch: [37][18/19] Elapsed 0m 2s (remain 0m 0s) Loss: 0.1253(0.1629) Grad: 13.8711  LR: 0.000133  \n",
      "EVAL: [0/3] Elapsed 0m 0s (remain 0m 0s) Loss: 0.3159(0.3159) \n"
     ]
    },
    {
     "name": "stderr",
     "output_type": "stream",
     "text": [
      "Epoch 37 - avg_train_loss: 0.1629  avg_val_loss: 0.3362  time: 3s\n",
      "Epoch 37 - Score: 0.3431\n"
     ]
    },
    {
     "name": "stdout",
     "output_type": "stream",
     "text": [
      "EVAL: [2/3] Elapsed 0m 0s (remain 0m 0s) Loss: 0.2147(0.3362) \n",
      "Epoch: [38][0/19] Elapsed 0m 0s (remain 0m 2s) Loss: 0.1347(0.1347) Grad: 5.8645  LR: 0.000057  \n",
      "Epoch: [38][10/19] Elapsed 0m 1s (remain 0m 1s) Loss: 0.1094(0.1196) Grad: 3.1375  LR: 0.000057  \n",
      "Epoch: [38][18/19] Elapsed 0m 2s (remain 0m 0s) Loss: 0.0854(0.1189) Grad: 7.4274  LR: 0.000057  \n",
      "EVAL: [0/3] Elapsed 0m 0s (remain 0m 0s) Loss: 0.3249(0.3249) \n"
     ]
    },
    {
     "name": "stderr",
     "output_type": "stream",
     "text": [
      "Epoch 38 - avg_train_loss: 0.1189  avg_val_loss: 0.3447  time: 3s\n",
      "Epoch 38 - Score: 0.3485\n"
     ]
    },
    {
     "name": "stdout",
     "output_type": "stream",
     "text": [
      "EVAL: [2/3] Elapsed 0m 0s (remain 0m 0s) Loss: 0.2584(0.3447) \n",
      "Epoch: [39][0/19] Elapsed 0m 0s (remain 0m 2s) Loss: 0.1095(0.1095) Grad: 9.1914  LR: 0.000009  \n",
      "Epoch: [39][10/19] Elapsed 0m 1s (remain 0m 1s) Loss: 0.1293(0.1026) Grad: 4.4400  LR: 0.000009  \n",
      "Epoch: [39][18/19] Elapsed 0m 2s (remain 0m 0s) Loss: 0.1374(0.1045) Grad: 17.0656  LR: 0.000009  \n",
      "EVAL: [0/3] Elapsed 0m 0s (remain 0m 0s) Loss: 0.3160(0.3160) \n"
     ]
    },
    {
     "name": "stderr",
     "output_type": "stream",
     "text": [
      "Epoch 39 - avg_train_loss: 0.1045  avg_val_loss: 0.3315  time: 3s\n",
      "Epoch 39 - Score: 0.3372\n"
     ]
    },
    {
     "name": "stdout",
     "output_type": "stream",
     "text": [
      "EVAL: [2/3] Elapsed 0m 0s (remain 0m 0s) Loss: 0.2190(0.3315) \n",
      "Epoch: [40][0/19] Elapsed 0m 0s (remain 0m 2s) Loss: 0.0843(0.0843) Grad: 9.1023  LR: 0.000001  \n",
      "Epoch: [40][10/19] Elapsed 0m 1s (remain 0m 1s) Loss: 0.0949(0.0883) Grad: 5.0543  LR: 0.000001  \n",
      "Epoch: [40][18/19] Elapsed 0m 2s (remain 0m 0s) Loss: 0.0979(0.0888) Grad: 7.8641  LR: 0.000001  \n",
      "EVAL: [0/3] Elapsed 0m 0s (remain 0m 0s) Loss: 0.3197(0.3197) \n"
     ]
    },
    {
     "name": "stderr",
     "output_type": "stream",
     "text": [
      "Epoch 40 - avg_train_loss: 0.0888  avg_val_loss: 0.3338  time: 3s\n",
      "Epoch 40 - Score: 0.3382\n",
      "========== fold: 4 result ==========\n",
      "Score: 0.3346\n",
      "========== CV ==========\n",
      "Score: 0.3165\n"
     ]
    },
    {
     "name": "stdout",
     "output_type": "stream",
     "text": [
      "EVAL: [2/3] Elapsed 0m 0s (remain 0m 0s) Loss: 0.2350(0.3338) \n"
     ]
    }
   ],
   "source": [
    "if __name__ == '__main__':\n",
    "    main()"
   ]
  },
  {
   "cell_type": "code",
   "execution_count": null,
   "metadata": {},
   "outputs": [],
   "source": []
  }
 ],
 "metadata": {
  "kernelspec": {
   "display_name": "Python 3 (ipykernel)",
   "language": "python",
   "name": "python3"
  },
  "language_info": {
   "codemirror_mode": {
    "name": "ipython",
    "version": 3
   },
   "file_extension": ".py",
   "mimetype": "text/x-python",
   "name": "python",
   "nbconvert_exporter": "python",
   "pygments_lexer": "ipython3",
   "version": "3.10.13"
  }
 },
 "nbformat": 4,
 "nbformat_minor": 4
}
