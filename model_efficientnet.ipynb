{
 "cells": [
  {
   "cell_type": "markdown",
   "metadata": {
    "papermill": {
     "duration": 0.027105,
     "end_time": "2021-08-04T01:24:31.563055",
     "exception": false,
     "start_time": "2021-08-04T01:24:31.53595",
     "status": "completed"
    },
    "tags": []
   },
   "source": [
    "# About this notebook\n",
    "- PyTorch efficientnet_b0 with W&B starter code\n",
    "- Pytorch W&B Usage Examples from https://docs.wandb.ai/guides/integrations/pytorch\n",
    "\n",
    "If this notebook is helpful, feel free to upvote :)"
   ]
  },
  {
   "cell_type": "code",
   "execution_count": 1,
   "metadata": {
    "execution": {
     "iopub.execute_input": "2021-09-25T01:39:16.614224Z",
     "iopub.status.busy": "2021-09-25T01:39:16.613637Z",
     "iopub.status.idle": "2021-09-25T01:39:23.084012Z",
     "shell.execute_reply": "2021-09-25T01:39:23.083279Z",
     "shell.execute_reply.started": "2021-09-25T01:39:16.614189Z"
    },
    "papermill": {
     "duration": 2.094537,
     "end_time": "2021-08-04T01:25:18.881487",
     "exception": false,
     "start_time": "2021-08-04T01:25:16.78695",
     "status": "completed"
    },
    "tags": []
   },
   "outputs": [],
   "source": [
    "# ====================================================\n",
    "# Library\n",
    "# ====================================================\n",
    "import os\n",
    "import gc\n",
    "import sys\n",
    "import math\n",
    "import time\n",
    "import random\n",
    "import shutil\n",
    "from pathlib import Path\n",
    "from contextlib import contextmanager\n",
    "from collections import defaultdict, Counter\n",
    "\n",
    "import scipy as sp\n",
    "import numpy as np\n",
    "import pandas as pd\n",
    "\n",
    "from sklearn import preprocessing\n",
    "from sklearn.metrics import mean_squared_error\n",
    "\n",
    "from tqdm.auto import tqdm\n",
    "from functools import partial\n",
    "\n",
    "import cv2\n",
    "from PIL import Image\n",
    "\n",
    "import torch\n",
    "import torch.nn as nn\n",
    "import torch.nn.functional as F\n",
    "from torch.optim import Adam, SGD\n",
    "import torchvision.models as models\n",
    "from torch.nn.parameter import Parameter\n",
    "from torch.utils.data import DataLoader, Dataset\n",
    "from torch.optim.lr_scheduler import CosineAnnealingWarmRestarts, CosineAnnealingLR, ReduceLROnPlateau\n",
    "\n",
    "import albumentations as A\n",
    "from albumentations.pytorch import ToTensorV2\n",
    "from albumentations import ImageOnlyTransform\n",
    "\n",
    "from pytorch_grad_cam.utils.model_targets import ClassifierOutputTarget\n",
    "from pytorch_grad_cam.utils.image import show_cam_on_image\n",
    "from pytorch_grad_cam import GradCAM, ScoreCAM, GradCAMPlusPlus, AblationCAM, XGradCAM, EigenCAM\n",
    "\n",
    "sys.path.append('../input/pytorch-image-models/pytorch-image-models-master')\n",
    "import timm\n",
    "\n",
    "from torch.cuda.amp import autocast, GradScaler\n",
    "\n",
    "import warnings\n",
    "warnings.filterwarnings('ignore')\n",
    "\n",
    "device = torch.device('cuda' if torch.cuda.is_available() else 'cpu')"
   ]
  },
  {
   "cell_type": "markdown",
   "metadata": {
    "papermill": {
     "duration": 0.023362,
     "end_time": "2021-08-04T01:25:11.97904",
     "exception": false,
     "start_time": "2021-08-04T01:25:11.955678",
     "status": "completed"
    },
    "tags": []
   },
   "source": [
    "# Data Loading"
   ]
  },
  {
   "cell_type": "code",
   "execution_count": 2,
   "metadata": {
    "execution": {
     "iopub.execute_input": "2021-09-25T01:39:09.903171Z",
     "iopub.status.busy": "2021-09-25T01:39:09.90295Z",
     "iopub.status.idle": "2021-09-25T01:39:10.732481Z",
     "shell.execute_reply": "2021-09-25T01:39:10.731769Z",
     "shell.execute_reply.started": "2021-09-25T01:39:09.903144Z"
    },
    "papermill": {
     "duration": 0.740547,
     "end_time": "2021-08-04T01:25:12.74294",
     "exception": false,
     "start_time": "2021-08-04T01:25:12.002393",
     "status": "completed"
    },
    "tags": []
   },
   "outputs": [],
   "source": [
    "import os\n",
    "import cv2\n",
    "import numpy as np\n",
    "import pandas as pd\n",
    "from PIL import Image\n",
    "from matplotlib import pyplot as plt\n",
    "import seaborn as sns\n",
    "from sklearn.model_selection import train_test_split, KFold, StratifiedKFold"
   ]
  },
  {
   "cell_type": "code",
   "execution_count": 3,
   "metadata": {},
   "outputs": [
    {
     "data": {
      "text/plain": [
       "['efficientformer_l1',\n",
       " 'efficientformer_l3',\n",
       " 'efficientformer_l7',\n",
       " 'efficientformerv2_l',\n",
       " 'efficientformerv2_s0',\n",
       " 'efficientformerv2_s1',\n",
       " 'efficientformerv2_s2',\n",
       " 'efficientnet_b0',\n",
       " 'efficientnet_b0_g8_gn',\n",
       " 'efficientnet_b0_g16_evos',\n",
       " 'efficientnet_b0_gn',\n",
       " 'efficientnet_b1',\n",
       " 'efficientnet_b1_pruned',\n",
       " 'efficientnet_b2',\n",
       " 'efficientnet_b2_pruned',\n",
       " 'efficientnet_b2a',\n",
       " 'efficientnet_b3',\n",
       " 'efficientnet_b3_g8_gn',\n",
       " 'efficientnet_b3_gn',\n",
       " 'efficientnet_b3_pruned',\n",
       " 'efficientnet_b3a',\n",
       " 'efficientnet_b4',\n",
       " 'efficientnet_b5',\n",
       " 'efficientnet_b6',\n",
       " 'efficientnet_b7',\n",
       " 'efficientnet_b8',\n",
       " 'efficientnet_cc_b0_4e',\n",
       " 'efficientnet_cc_b0_8e',\n",
       " 'efficientnet_cc_b1_8e',\n",
       " 'efficientnet_el',\n",
       " 'efficientnet_el_pruned',\n",
       " 'efficientnet_em',\n",
       " 'efficientnet_es',\n",
       " 'efficientnet_es_pruned',\n",
       " 'efficientnet_l2',\n",
       " 'efficientnet_lite0',\n",
       " 'efficientnet_lite1',\n",
       " 'efficientnet_lite2',\n",
       " 'efficientnet_lite3',\n",
       " 'efficientnet_lite4',\n",
       " 'efficientnetv2_l',\n",
       " 'efficientnetv2_m',\n",
       " 'efficientnetv2_rw_m',\n",
       " 'efficientnetv2_rw_s',\n",
       " 'efficientnetv2_rw_t',\n",
       " 'efficientnetv2_s',\n",
       " 'efficientnetv2_xl',\n",
       " 'gc_efficientnetv2_rw_t',\n",
       " 'tf_efficientnet_b0',\n",
       " 'tf_efficientnet_b1',\n",
       " 'tf_efficientnet_b2',\n",
       " 'tf_efficientnet_b3',\n",
       " 'tf_efficientnet_b4',\n",
       " 'tf_efficientnet_b5',\n",
       " 'tf_efficientnet_b6',\n",
       " 'tf_efficientnet_b7',\n",
       " 'tf_efficientnet_b8',\n",
       " 'tf_efficientnet_cc_b0_4e',\n",
       " 'tf_efficientnet_cc_b0_8e',\n",
       " 'tf_efficientnet_cc_b1_8e',\n",
       " 'tf_efficientnet_el',\n",
       " 'tf_efficientnet_em',\n",
       " 'tf_efficientnet_es',\n",
       " 'tf_efficientnet_l2',\n",
       " 'tf_efficientnet_lite0',\n",
       " 'tf_efficientnet_lite1',\n",
       " 'tf_efficientnet_lite2',\n",
       " 'tf_efficientnet_lite3',\n",
       " 'tf_efficientnet_lite4',\n",
       " 'tf_efficientnetv2_b0',\n",
       " 'tf_efficientnetv2_b1',\n",
       " 'tf_efficientnetv2_b2',\n",
       " 'tf_efficientnetv2_b3',\n",
       " 'tf_efficientnetv2_l',\n",
       " 'tf_efficientnetv2_m',\n",
       " 'tf_efficientnetv2_s',\n",
       " 'tf_efficientnetv2_xl']"
      ]
     },
     "execution_count": 3,
     "metadata": {},
     "output_type": "execute_result"
    }
   ],
   "source": [
    "timm.list_models('*eff*')"
   ]
  },
  {
   "cell_type": "code",
   "execution_count": 4,
   "metadata": {
    "execution": {
     "iopub.execute_input": "2021-09-25T01:39:16.60086Z",
     "iopub.status.busy": "2021-09-25T01:39:16.600379Z",
     "iopub.status.idle": "2021-09-25T01:39:16.612052Z",
     "shell.execute_reply": "2021-09-25T01:39:16.611405Z",
     "shell.execute_reply.started": "2021-09-25T01:39:16.600826Z"
    },
    "papermill": {
     "duration": 0.04513,
     "end_time": "2021-08-04T01:25:16.683443",
     "exception": false,
     "start_time": "2021-08-04T01:25:16.638313",
     "status": "completed"
    },
    "tags": []
   },
   "outputs": [],
   "source": [
    "# ====================================================\n",
    "# CFG\n",
    "# ====================================================\n",
    "class CFG:\n",
    "    apex=False\n",
    "    debug=False\n",
    "    print_freq=10\n",
    "    num_workers=4\n",
    "    size=224\n",
    "    model_name='tf_efficientnet_b4_ns'\n",
    "    scheduler='CosineAnnealingLR' # ['ReduceLROnPlateau', 'CosineAnnealingLR', 'CosineAnnealingWarmRestarts']\n",
    "    epochs=40\n",
    "    #factor=0.2 # ReduceLROnPlateau\n",
    "    #patience=4 # ReduceLROnPlateau\n",
    "    #eps=1e-6 # ReduceLROnPlateau\n",
    "    T_max=3 # CosineAnnealingLR\n",
    "    #T_0=3 # CosineAnnealingWarmRestarts\n",
    "    lr=1e-4\n",
    "    min_lr=1e-6\n",
    "    batch_size=32\n",
    "    weight_decay=1e-6\n",
    "    gradient_accumulation_steps=1\n",
    "    max_grad_norm=1000\n",
    "    seed=42\n",
    "    target_size=1\n",
    "    target_col='KIc'\n",
    "    n_fold=5\n",
    "    trn_fold=[0, 1, 2, 3, 4]\n",
    "    train=True\n",
    "    grad_cam=True\n",
    "    "
   ]
  },
  {
   "cell_type": "code",
   "execution_count": 5,
   "metadata": {
    "execution": {
     "iopub.execute_input": "2021-09-25T01:39:10.733829Z",
     "iopub.status.busy": "2021-09-25T01:39:10.733583Z",
     "iopub.status.idle": "2021-09-25T01:39:10.823646Z",
     "shell.execute_reply": "2021-09-25T01:39:10.823012Z",
     "shell.execute_reply.started": "2021-09-25T01:39:10.733798Z"
    },
    "papermill": {
     "duration": 1.174264,
     "end_time": "2021-08-04T01:25:13.941421",
     "exception": false,
     "start_time": "2021-08-04T01:25:12.767157",
     "status": "completed"
    },
    "tags": []
   },
   "outputs": [
    {
     "data": {
      "text/html": [
       "<div>\n",
       "<style scoped>\n",
       "    .dataframe tbody tr th:only-of-type {\n",
       "        vertical-align: middle;\n",
       "    }\n",
       "\n",
       "    .dataframe tbody tr th {\n",
       "        vertical-align: top;\n",
       "    }\n",
       "\n",
       "    .dataframe thead th {\n",
       "        text-align: right;\n",
       "    }\n",
       "</style>\n",
       "<table border=\"1\" class=\"dataframe\">\n",
       "  <thead>\n",
       "    <tr style=\"text-align: right;\">\n",
       "      <th></th>\n",
       "      <th>Id</th>\n",
       "      <th>KIc</th>\n",
       "      <th>file_path</th>\n",
       "    </tr>\n",
       "  </thead>\n",
       "  <tbody>\n",
       "    <tr>\n",
       "      <th>0</th>\n",
       "      <td>95</td>\n",
       "      <td>3.55</td>\n",
       "      <td>./KIc/imagedata/100095.jpg</td>\n",
       "    </tr>\n",
       "    <tr>\n",
       "      <th>1</th>\n",
       "      <td>96</td>\n",
       "      <td>3.74</td>\n",
       "      <td>./KIc/imagedata/100096.jpg</td>\n",
       "    </tr>\n",
       "    <tr>\n",
       "      <th>2</th>\n",
       "      <td>97</td>\n",
       "      <td>3.68</td>\n",
       "      <td>./KIc/imagedata/100097.jpg</td>\n",
       "    </tr>\n",
       "    <tr>\n",
       "      <th>3</th>\n",
       "      <td>98</td>\n",
       "      <td>3.72</td>\n",
       "      <td>./KIc/imagedata/100098.jpg</td>\n",
       "    </tr>\n",
       "    <tr>\n",
       "      <th>4</th>\n",
       "      <td>99</td>\n",
       "      <td>3.61</td>\n",
       "      <td>./KIc/imagedata/100099.jpg</td>\n",
       "    </tr>\n",
       "  </tbody>\n",
       "</table>\n",
       "</div>"
      ],
      "text/plain": [
       "   Id   KIc                   file_path\n",
       "0  95  3.55  ./KIc/imagedata/100095.jpg\n",
       "1  96  3.74  ./KIc/imagedata/100096.jpg\n",
       "2  97  3.68  ./KIc/imagedata/100097.jpg\n",
       "3  98  3.72  ./KIc/imagedata/100098.jpg\n",
       "4  99  3.61  ./KIc/imagedata/100099.jpg"
      ]
     },
     "metadata": {},
     "output_type": "display_data"
    }
   ],
   "source": [
    "df = pd.read_csv('~/KIc/vgg16_KIC/inout_data.csv', header=None, names=['Id', 'KIc'])\n",
    "df['file_path'] = ['./KIc/imagedata/1' + str(i).zfill(5) + '.jpg' for i in df['Id']]\n",
    "train = df\n",
    "\n",
    "# train, test = train_test_split(df, test_size=0.1, random_state=CFG.seed)\n",
    "# train.reset_index(inplace=True, drop=True)\n",
    "# test.reset_index(inplace=True, drop=True)\n",
    "\n",
    "display(train.head())\n",
    "# display(test.head())\n",
    "\n",
    "if CFG.debug:\n",
    "    CFG.epochs = 1\n",
    "    train = train.sample(n=100, random_state=CFG.seed).reset_index(drop=True)"
   ]
  },
  {
   "cell_type": "markdown",
   "metadata": {
    "papermill": {
     "duration": 0.024207,
     "end_time": "2021-08-04T01:25:13.990436",
     "exception": false,
     "start_time": "2021-08-04T01:25:13.966229",
     "status": "completed"
    },
    "tags": []
   },
   "source": [
    "# Quick EDA"
   ]
  },
  {
   "cell_type": "code",
   "execution_count": 6,
   "metadata": {
    "execution": {
     "iopub.execute_input": "2021-09-25T01:39:10.825915Z",
     "iopub.status.busy": "2021-09-25T01:39:10.825494Z",
     "iopub.status.idle": "2021-09-25T01:39:11.065815Z",
     "shell.execute_reply": "2021-09-25T01:39:11.065117Z",
     "shell.execute_reply.started": "2021-09-25T01:39:10.825882Z"
    }
   },
   "outputs": [
    {
     "data": {
      "text/plain": [
       "<Axes: >"
      ]
     },
     "execution_count": 6,
     "metadata": {},
     "output_type": "execute_result"
    },
    {
     "data": {
      "image/png": "[encoded data removed]",
      "text/plain": [
       "<Figure size 640x480 with 1 Axes>"
      ]
     },
     "metadata": {},
     "output_type": "display_data"
    }
   ],
   "source": [
    "train['KIc'].hist()"
   ]
  },
  {
   "cell_type": "code",
   "execution_count": 7,
   "metadata": {
    "execution": {
     "iopub.execute_input": "2021-09-25T01:39:11.067492Z",
     "iopub.status.busy": "2021-09-25T01:39:11.067174Z",
     "iopub.status.idle": "2021-09-25T01:39:16.59147Z",
     "shell.execute_reply": "2021-09-25T01:39:16.587696Z",
     "shell.execute_reply.started": "2021-09-25T01:39:11.067456Z"
    },
    "papermill": {
     "duration": 2.14168,
     "end_time": "2021-08-04T01:25:16.156515",
     "exception": false,
     "start_time": "2021-08-04T01:25:14.014835",
     "status": "completed"
    },
    "tags": []
   },
   "outputs": [],
   "source": [
    "# plt.figure(figsize=(20, 20))\n",
    "# row, col = 5, 5\n",
    "# for i in range(row * col):\n",
    "#     plt.subplot(col, row, i+1)\n",
    "#     image = cv2.imread(train.loc[i, 'file_path'])\n",
    "#     image = cv2.cvtColor(image, cv2.COLOR_BGR2RGB)\n",
    "#     target = train.loc[i, 'KIc']\n",
    "#     plt.imshow(image)\n",
    "#     plt.title(f\"target: {target}\")\n",
    "# plt.show()"
   ]
  },
  {
   "cell_type": "markdown",
   "metadata": {
    "papermill": {
     "duration": 0.034462,
     "end_time": "2021-08-04T01:25:16.45181",
     "exception": false,
     "start_time": "2021-08-04T01:25:16.417348",
     "status": "completed"
    },
    "tags": []
   },
   "source": [
    "# Directory settings"
   ]
  },
  {
   "cell_type": "code",
   "execution_count": 8,
   "metadata": {
    "execution": {
     "iopub.execute_input": "2021-09-25T01:39:16.592631Z",
     "iopub.status.busy": "2021-09-25T01:39:16.5924Z",
     "iopub.status.idle": "2021-09-25T01:39:16.59879Z",
     "shell.execute_reply": "2021-09-25T01:39:16.59797Z",
     "shell.execute_reply.started": "2021-09-25T01:39:16.592603Z"
    },
    "papermill": {
     "duration": 0.044382,
     "end_time": "2021-08-04T01:25:16.530141",
     "exception": false,
     "start_time": "2021-08-04T01:25:16.485759",
     "status": "completed"
    },
    "tags": []
   },
   "outputs": [],
   "source": [
    "# ====================================================\n",
    "# Directory settings\n",
    "# ====================================================\n",
    "import os\n",
    "\n",
    "OUTPUT_DIR = './KIc/cnn'\n",
    "if not os.path.exists(OUTPUT_DIR):\n",
    "    os.makedirs(OUTPUT_DIR)"
   ]
  },
  {
   "cell_type": "markdown",
   "metadata": {
    "papermill": {
     "duration": 0.035693,
     "end_time": "2021-08-04T01:25:16.603286",
     "exception": false,
     "start_time": "2021-08-04T01:25:16.567593",
     "status": "completed"
    },
    "tags": []
   },
   "source": [
    "# CFG"
   ]
  },
  {
   "cell_type": "markdown",
   "metadata": {
    "papermill": {
     "duration": 0.034417,
     "end_time": "2021-08-04T01:25:16.751155",
     "exception": false,
     "start_time": "2021-08-04T01:25:16.716738",
     "status": "completed"
    },
    "tags": []
   },
   "source": [
    "# Library"
   ]
  },
  {
   "cell_type": "code",
   "execution_count": null,
   "metadata": {
    "execution": {
     "iopub.execute_input": "2021-09-25T01:39:23.086195Z",
     "iopub.status.busy": "2021-09-25T01:39:23.085994Z",
     "iopub.status.idle": "2021-09-25T01:39:30.694716Z",
     "shell.execute_reply": "2021-09-25T01:39:30.693894Z",
     "shell.execute_reply.started": "2021-09-25T01:39:23.086171Z"
    },
    "papermill": {
     "duration": 7.786072,
     "end_time": "2021-08-04T01:25:27.042453",
     "exception": false,
     "start_time": "2021-08-04T01:25:19.256381",
     "status": "completed"
    },
    "tags": []
   },
   "outputs": [],
   "source": []
  },
  {
   "cell_type": "markdown",
   "metadata": {
    "papermill": {
     "duration": 0.051924,
     "end_time": "2021-08-04T01:25:27.152541",
     "exception": false,
     "start_time": "2021-08-04T01:25:27.100617",
     "status": "completed"
    },
    "tags": []
   },
   "source": [
    "# Utils"
   ]
  },
  {
   "cell_type": "code",
   "execution_count": 9,
   "metadata": {
    "execution": {
     "iopub.execute_input": "2021-09-25T01:39:30.703234Z",
     "iopub.status.busy": "2021-09-25T01:39:30.7011Z",
     "iopub.status.idle": "2021-09-25T01:39:30.720295Z",
     "shell.execute_reply": "2021-09-25T01:39:30.719608Z",
     "shell.execute_reply.started": "2021-09-25T01:39:30.703189Z"
    },
    "papermill": {
     "duration": 0.078664,
     "end_time": "2021-08-04T01:25:27.284121",
     "exception": false,
     "start_time": "2021-08-04T01:25:27.205457",
     "status": "completed"
    },
    "tags": []
   },
   "outputs": [],
   "source": [
    "# ====================================================\n",
    "# Utils\n",
    "# ====================================================\n",
    "def get_score(y_true, y_pred):\n",
    "    score = mean_squared_error(y_true, y_pred, squared=False) # RMSE\n",
    "    return score\n",
    "\n",
    "\n",
    "def init_logger(log_file=OUTPUT_DIR+'train.log'):\n",
    "    from logging import getLogger, INFO, FileHandler,  Formatter,  StreamHandler\n",
    "    logger = getLogger(__name__)\n",
    "    logger.setLevel(INFO)\n",
    "    handler1 = StreamHandler()\n",
    "    handler1.setFormatter(Formatter(\"%(message)s\"))\n",
    "    handler2 = FileHandler(filename=log_file)\n",
    "    handler2.setFormatter(Formatter(\"%(message)s\"))\n",
    "    logger.addHandler(handler1)\n",
    "    logger.addHandler(handler2)\n",
    "    return logger\n",
    "\n",
    "LOGGER = init_logger()\n",
    "\n",
    "\n",
    "def seed_torch(seed=42):\n",
    "    random.seed(seed)\n",
    "    os.environ['PYTHONHASHSEED'] = str(seed)\n",
    "    np.random.seed(seed)\n",
    "    torch.manual_seed(seed)\n",
    "    torch.cuda.manual_seed(seed)\n",
    "    torch.backends.cudnn.benchmark = False\n",
    "    torch.backends.cudnn.deterministic = True\n",
    "\n",
    "seed_torch(seed=CFG.seed)"
   ]
  },
  {
   "cell_type": "markdown",
   "metadata": {
    "papermill": {
     "duration": 0.055844,
     "end_time": "2021-08-04T01:25:27.390591",
     "exception": false,
     "start_time": "2021-08-04T01:25:27.334747",
     "status": "completed"
    },
    "tags": []
   },
   "source": [
    "# CV split"
   ]
  },
  {
   "cell_type": "code",
   "execution_count": 10,
   "metadata": {
    "execution": {
     "iopub.execute_input": "2021-09-25T01:39:30.726742Z",
     "iopub.status.busy": "2021-09-25T01:39:30.72472Z",
     "iopub.status.idle": "2021-09-25T01:39:30.769101Z",
     "shell.execute_reply": "2021-09-25T01:39:30.768437Z",
     "shell.execute_reply.started": "2021-09-25T01:39:30.726705Z"
    },
    "papermill": {
     "duration": 0.382316,
     "end_time": "2021-08-04T01:25:27.823267",
     "exception": false,
     "start_time": "2021-08-04T01:25:27.440951",
     "status": "completed"
    },
    "tags": []
   },
   "outputs": [
    {
     "data": {
      "text/plain": [
       "fold  bins\n",
       "0     0        2\n",
       "      1        5\n",
       "      2        6\n",
       "      3       11\n",
       "      4       17\n",
       "      5       36\n",
       "      6       39\n",
       "      7       26\n",
       "      8        9\n",
       "      9        3\n",
       "1     0        2\n",
       "      1        4\n",
       "      2        7\n",
       "      3       11\n",
       "      4       17\n",
       "      5       36\n",
       "      6       39\n",
       "      7       26\n",
       "      8        9\n",
       "      9        3\n",
       "2     0        2\n",
       "      1        4\n",
       "      2        7\n",
       "      3       11\n",
       "      4       18\n",
       "      5       36\n",
       "      6       39\n",
       "      7       26\n",
       "      8        8\n",
       "      9        3\n",
       "3     0        2\n",
       "      1        4\n",
       "      2        7\n",
       "      3       11\n",
       "      4       18\n",
       "      5       36\n",
       "      6       39\n",
       "      7       25\n",
       "      8        8\n",
       "      9        4\n",
       "4     0        3\n",
       "      1        4\n",
       "      2        7\n",
       "      3       11\n",
       "      4       18\n",
       "      5       35\n",
       "      6       39\n",
       "      7       25\n",
       "      8        8\n",
       "      9        4\n",
       "dtype: int64"
      ]
     },
     "metadata": {},
     "output_type": "display_data"
    }
   ],
   "source": [
    "num_bins = int(np.floor(1 + np.log2(len(train))))\n",
    "train[\"bins\"] = pd.cut(train[CFG.target_col], bins=num_bins, labels=False)\n",
    "\n",
    "Fold = StratifiedKFold(n_splits=CFG.n_fold, shuffle=True, random_state=CFG.seed)\n",
    "for n, (train_index, val_index) in enumerate(Fold.split(train, train[\"bins\"])):\n",
    "    train.loc[val_index, 'fold'] = int(n)\n",
    "train['fold'] = train['fold'].astype(int)\n",
    "display(train.groupby(['fold', \"bins\"]).size())"
   ]
  },
  {
   "cell_type": "code",
   "execution_count": 11,
   "metadata": {
    "execution": {
     "iopub.execute_input": "2021-09-25T01:39:30.774834Z",
     "iopub.status.busy": "2021-09-25T01:39:30.772908Z",
     "iopub.status.idle": "2021-09-25T01:39:30.791597Z",
     "shell.execute_reply": "2021-09-25T01:39:30.790791Z",
     "shell.execute_reply.started": "2021-09-25T01:39:30.774798Z"
    }
   },
   "outputs": [],
   "source": [
    "train.to_pickle(OUTPUT_DIR+'train.pkl')"
   ]
  },
  {
   "cell_type": "markdown",
   "metadata": {
    "papermill": {
     "duration": 0.033889,
     "end_time": "2021-08-04T01:25:27.897251",
     "exception": false,
     "start_time": "2021-08-04T01:25:27.863362",
     "status": "completed"
    },
    "tags": []
   },
   "source": [
    "# Dataset"
   ]
  },
  {
   "cell_type": "code",
   "execution_count": 12,
   "metadata": {
    "execution": {
     "iopub.execute_input": "2021-09-25T01:39:30.793168Z",
     "iopub.status.busy": "2021-09-25T01:39:30.79291Z",
     "iopub.status.idle": "2021-09-25T01:39:30.812349Z",
     "shell.execute_reply": "2021-09-25T01:39:30.81166Z",
     "shell.execute_reply.started": "2021-09-25T01:39:30.793134Z"
    },
    "papermill": {
     "duration": 0.045394,
     "end_time": "2021-08-04T01:25:27.976623",
     "exception": false,
     "start_time": "2021-08-04T01:25:27.931229",
     "status": "completed"
    },
    "tags": []
   },
   "outputs": [],
   "source": [
    "# ====================================================\n",
    "# Dataset\n",
    "# ====================================================\n",
    "class TrainDataset(Dataset):\n",
    "    def __init__(self, df, transform=None):\n",
    "        self.df = df\n",
    "        self.file_names = df['file_path'].values\n",
    "        self.labels = df[CFG.target_col].values\n",
    "        self.transform = transform\n",
    "        \n",
    "    def __len__(self):\n",
    "        return len(self.df)\n",
    "\n",
    "    def __getitem__(self, idx):\n",
    "        file_path = self.file_names[idx]\n",
    "        image = cv2.imread(file_path)\n",
    "        image = cv2.cvtColor(image, cv2.COLOR_BGR2RGB)\n",
    "        if self.transform:\n",
    "            image = self.transform(image=image)['image']\n",
    "        label = torch.tensor(self.labels[idx]).float()\n",
    "        return image, label\n",
    "\n",
    "    \n",
    "class GradCAMDataset(Dataset):\n",
    "    def __init__(self, df):\n",
    "        self.df = df\n",
    "        self.image_ids = df['Id'].values\n",
    "        self.file_names = df['file_path'].values\n",
    "        self.labels = df[CFG.target_col].values\n",
    "        self.transform = get_transforms(data='valid')\n",
    "        \n",
    "    def __len__(self):\n",
    "        return len(self.df)\n",
    "\n",
    "    def __getitem__(self, idx):\n",
    "        image_id = self.image_ids[idx]\n",
    "        file_path = self.file_names[idx]\n",
    "        image = cv2.imread(file_path)\n",
    "        image = cv2.cvtColor(image, cv2.COLOR_BGR2RGB)\n",
    "        vis_image = cv2.resize(image, (CFG.size, CFG.size)).copy()\n",
    "        if self.transform:\n",
    "            image = self.transform(image=image)['image']\n",
    "        label = torch.tensor(self.labels[idx]).float()\n",
    "        return image_id, image, vis_image, label"
   ]
  },
  {
   "cell_type": "markdown",
   "metadata": {
    "papermill": {
     "duration": 0.034446,
     "end_time": "2021-08-04T01:25:28.12532",
     "exception": false,
     "start_time": "2021-08-04T01:25:28.090874",
     "status": "completed"
    },
    "tags": []
   },
   "source": [
    "# Transforms"
   ]
  },
  {
   "cell_type": "code",
   "execution_count": 13,
   "metadata": {
    "execution": {
     "iopub.execute_input": "2021-09-25T01:39:30.817111Z",
     "iopub.status.busy": "2021-09-25T01:39:30.81621Z",
     "iopub.status.idle": "2021-09-25T01:39:30.826076Z",
     "shell.execute_reply": "2021-09-25T01:39:30.82545Z",
     "shell.execute_reply.started": "2021-09-25T01:39:30.817076Z"
    },
    "papermill": {
     "duration": 0.04224,
     "end_time": "2021-08-04T01:25:28.202021",
     "exception": false,
     "start_time": "2021-08-04T01:25:28.159781",
     "status": "completed"
    },
    "tags": []
   },
   "outputs": [],
   "source": [
    "# ====================================================\n",
    "# Transforms\n",
    "# ====================================================\n",
    "def get_transforms(*, data):\n",
    "    \n",
    "    if data == 'train':\n",
    "        return A.Compose([\n",
    "            A.RandomResizedCrop(CFG.size, CFG.size, scale=(0.85, 1.0)),\n",
    "            A.Normalize(\n",
    "                mean=[0.485, 0.456, 0.406],\n",
    "                std=[0.229, 0.224, 0.225],\n",
    "            ),\n",
    "            ToTensorV2(),\n",
    "        ])\n",
    "\n",
    "    elif data == 'valid':\n",
    "        return A.Compose([\n",
    "            A.Resize(CFG.size, CFG.size),\n",
    "            A.Normalize(\n",
    "                mean=[0.485, 0.456, 0.406],\n",
    "                std=[0.229, 0.224, 0.225],\n",
    "            ),\n",
    "            ToTensorV2(),\n",
    "        ])"
   ]
  },
  {
   "cell_type": "code",
   "execution_count": null,
   "metadata": {
    "execution": {
     "iopub.execute_input": "2021-09-25T01:39:30.827973Z",
     "iopub.status.busy": "2021-09-25T01:39:30.827391Z",
     "iopub.status.idle": "2021-09-25T01:39:31.972603Z",
     "shell.execute_reply": "2021-09-25T01:39:31.971909Z",
     "shell.execute_reply.started": "2021-09-25T01:39:30.827939Z"
    },
    "papermill": {
     "duration": 0.86067,
     "end_time": "2021-08-04T01:25:29.096515",
     "exception": false,
     "start_time": "2021-08-04T01:25:28.235845",
     "status": "completed"
    },
    "tags": []
   },
   "outputs": [],
   "source": []
  },
  {
   "cell_type": "markdown",
   "metadata": {
    "papermill": {
     "duration": 0.045247,
     "end_time": "2021-08-04T01:25:29.187985",
     "exception": false,
     "start_time": "2021-08-04T01:25:29.142738",
     "status": "completed"
    },
    "tags": []
   },
   "source": [
    "# MODEL"
   ]
  },
  {
   "cell_type": "code",
   "execution_count": 14,
   "metadata": {
    "execution": {
     "iopub.execute_input": "2021-09-25T01:39:31.974121Z",
     "iopub.status.busy": "2021-09-25T01:39:31.973801Z",
     "iopub.status.idle": "2021-09-25T01:39:31.981565Z",
     "shell.execute_reply": "2021-09-25T01:39:31.980845Z",
     "shell.execute_reply.started": "2021-09-25T01:39:31.974083Z"
    },
    "papermill": {
     "duration": 0.072697,
     "end_time": "2021-08-04T01:25:29.305374",
     "exception": false,
     "start_time": "2021-08-04T01:25:29.232677",
     "status": "completed"
    },
    "tags": []
   },
   "outputs": [],
   "source": [
    "# ====================================================\n",
    "# MODEL\n",
    "# ====================================================\n",
    "class CustomModel(nn.Module):\n",
    "    def __init__(self, cfg, pretrained=True):\n",
    "        super().__init__()\n",
    "        self.cfg = cfg\n",
    "        self.model = timm.create_model(self.cfg.model_name, pretrained=pretrained)\n",
    "        self.n_features = self.model.classifier.in_features\n",
    "        self.model.classifier = nn.Identity()\n",
    "        self.fc = nn.Linear(self.n_features, self.cfg.target_size)\n",
    "\n",
    "    def feature(self, image):\n",
    "        feature = self.model(image)\n",
    "        return feature\n",
    "        \n",
    "    def forward(self, image):\n",
    "        feature = self.feature(image)\n",
    "        output = self.fc(feature)\n",
    "        return output"
   ]
  },
  {
   "cell_type": "markdown",
   "metadata": {},
   "source": [
    "# Loss"
   ]
  },
  {
   "cell_type": "code",
   "execution_count": 15,
   "metadata": {
    "execution": {
     "iopub.execute_input": "2021-09-25T01:39:31.983208Z",
     "iopub.status.busy": "2021-09-25T01:39:31.982737Z",
     "iopub.status.idle": "2021-09-25T01:39:31.992378Z",
     "shell.execute_reply": "2021-09-25T01:39:31.991645Z",
     "shell.execute_reply.started": "2021-09-25T01:39:31.983173Z"
    }
   },
   "outputs": [],
   "source": [
    "# ====================================================\n",
    "# Loss\n",
    "# ====================================================\n",
    "class RMSELoss(nn.Module):\n",
    "    def __init__(self, eps=1e-6):\n",
    "        super().__init__()\n",
    "        self.mse = nn.MSELoss()\n",
    "        self.eps = eps\n",
    "\n",
    "    def forward(self, yhat, y):\n",
    "        loss = torch.sqrt(self.mse(yhat, y) + self.eps)\n",
    "        return loss"
   ]
  },
  {
   "cell_type": "markdown",
   "metadata": {
    "papermill": {
     "duration": 0.071264,
     "end_time": "2021-08-04T01:25:29.451162",
     "exception": false,
     "start_time": "2021-08-04T01:25:29.379898",
     "status": "completed"
    },
    "tags": []
   },
   "source": [
    "# Helper functions"
   ]
  },
  {
   "cell_type": "code",
   "execution_count": 16,
   "metadata": {
    "execution": {
     "iopub.execute_input": "2021-09-25T01:39:31.99414Z",
     "iopub.status.busy": "2021-09-25T01:39:31.993855Z",
     "iopub.status.idle": "2021-09-25T01:39:32.01968Z",
     "shell.execute_reply": "2021-09-25T01:39:32.018923Z",
     "shell.execute_reply.started": "2021-09-25T01:39:31.994085Z"
    },
    "papermill": {
     "duration": 0.112331,
     "end_time": "2021-08-04T01:25:29.638305",
     "exception": false,
     "start_time": "2021-08-04T01:25:29.525974",
     "status": "completed"
    },
    "tags": []
   },
   "outputs": [],
   "source": [
    "# ====================================================\n",
    "# Helper functions\n",
    "# ====================================================\n",
    "class AverageMeter(object):\n",
    "    \"\"\"Computes and stores the average and current value\"\"\"\n",
    "    def __init__(self):\n",
    "        self.reset()\n",
    "\n",
    "    def reset(self):\n",
    "        self.val = 0\n",
    "        self.avg = 0\n",
    "        self.sum = 0\n",
    "        self.count = 0\n",
    "\n",
    "    def update(self, val, n=1):\n",
    "        self.val = val\n",
    "        self.sum += val * n\n",
    "        self.count += n\n",
    "        self.avg = self.sum / self.count\n",
    "\n",
    "\n",
    "def asMinutes(s):\n",
    "    m = math.floor(s / 60)\n",
    "    s -= m * 60\n",
    "    return '%dm %ds' % (m, s)\n",
    "\n",
    "\n",
    "def timeSince(since, percent):\n",
    "    now = time.time()\n",
    "    s = now - since\n",
    "    es = s / (percent)\n",
    "    rs = es - s\n",
    "    return '%s (remain %s)' % (asMinutes(s), asMinutes(rs))\n",
    "\n",
    "\n",
    "def train_fn(fold, train_loader, model, criterion, optimizer, epoch, scheduler, device):\n",
    "    model.train()\n",
    "    if CFG.apex:\n",
    "        scaler = GradScaler()\n",
    "    losses = AverageMeter()\n",
    "    start = end = time.time()\n",
    "    global_step = 0\n",
    "    for step, (images, labels) in enumerate(train_loader):\n",
    "        images = images.to(device)\n",
    "        labels = labels.to(device)\n",
    "        batch_size = labels.size(0)\n",
    "        if CFG.apex:\n",
    "            with autocast():\n",
    "                y_preds = model(images)\n",
    "                loss = criterion(y_preds.view(-1), labels)\n",
    "        else:\n",
    "            y_preds = model(images)\n",
    "            loss = criterion(y_preds.view(-1), labels)\n",
    "        # record loss\n",
    "        losses.update(loss.item(), batch_size)\n",
    "        if CFG.gradient_accumulation_steps > 1:\n",
    "            loss = loss / CFG.gradient_accumulation_steps\n",
    "        if CFG.apex:\n",
    "            scaler.scale(loss).backward()\n",
    "        else:\n",
    "            loss.backward()\n",
    "        grad_norm = torch.nn.utils.clip_grad_norm_(model.parameters(), CFG.max_grad_norm)\n",
    "        if (step + 1) % CFG.gradient_accumulation_steps == 0:\n",
    "            if CFG.apex:\n",
    "                scaler.step(optimizer)\n",
    "                scaler.update()\n",
    "            else:\n",
    "                optimizer.step()\n",
    "            optimizer.zero_grad()\n",
    "            global_step += 1\n",
    "        end = time.time()\n",
    "        if step % CFG.print_freq == 0 or step == (len(train_loader)-1):\n",
    "            print('Epoch: [{0}][{1}/{2}] '\n",
    "                  'Elapsed {remain:s} '\n",
    "                  'Loss: {loss.val:.4f}({loss.avg:.4f}) '\n",
    "                  'Grad: {grad_norm:.4f}  '\n",
    "                  'LR: {lr:.6f}  '\n",
    "                  .format(epoch+1, step, len(train_loader), \n",
    "                          remain=timeSince(start, float(step+1)/len(train_loader)),\n",
    "                          loss=losses,\n",
    "                          grad_norm=grad_norm,\n",
    "                          lr=scheduler.get_lr()[0]))\n",
    "\n",
    "    return losses.avg\n",
    "\n",
    "\n",
    "def valid_fn(valid_loader, model, criterion, device):\n",
    "    model.eval()\n",
    "    losses = AverageMeter()\n",
    "    preds = []\n",
    "    start = end = time.time()\n",
    "    for step, (images, labels) in enumerate(valid_loader):\n",
    "        images = images.to(device)\n",
    "        labels = labels.to(device)\n",
    "        batch_size = labels.size(0)\n",
    "        # compute loss\n",
    "        with torch.no_grad():\n",
    "            y_preds = model(images)\n",
    "        loss = criterion(y_preds.view(-1), labels)\n",
    "        losses.update(loss.item(), batch_size)\n",
    "        # record accuracy\n",
    "        preds.append(y_preds.to('cpu').numpy())\n",
    "        if CFG.gradient_accumulation_steps > 1:\n",
    "            loss = loss / CFG.gradient_accumulation_steps\n",
    "        end = time.time()\n",
    "        if step % CFG.print_freq == 0 or step == (len(valid_loader)-1):\n",
    "            print('EVAL: [{0}/{1}] '\n",
    "                  'Elapsed {remain:s} '\n",
    "                  'Loss: {loss.val:.4f}({loss.avg:.4f}) '\n",
    "                  .format(step, len(valid_loader),\n",
    "                          loss=losses,\n",
    "                          remain=timeSince(start, float(step+1)/len(valid_loader))))\n",
    "    predictions = np.concatenate(preds)\n",
    "    return losses.avg, predictions"
   ]
  },
  {
   "cell_type": "code",
   "execution_count": 17,
   "metadata": {
    "execution": {
     "iopub.execute_input": "2021-09-25T01:39:32.021251Z",
     "iopub.status.busy": "2021-09-25T01:39:32.020993Z",
     "iopub.status.idle": "2021-09-25T01:39:32.033613Z",
     "shell.execute_reply": "2021-09-25T01:39:32.032934Z",
     "shell.execute_reply.started": "2021-09-25T01:39:32.021218Z"
    }
   },
   "outputs": [],
   "source": [
    "def get_grad_cam(model, device, x_tensor, img, label, plot=False):\n",
    "    result = {\"vis\": None, \"img\": None, \"pred\": None, \"label\": None}\n",
    "    print(\"x_tensor\", x_tensor.shape)\n",
    "    print(\"x_tensor\", x_tensor.unsqueeze(0).shape)\n",
    "    with torch.no_grad():\n",
    "        pred = model(x_tensor.unsqueeze(0).to(device))\n",
    "#         pred = model(x_tensor.to(device))\n",
    "    pred = np.concatenate(pred.to('cpu').numpy())[0]\n",
    "    target_layer = [model.model.blocks[-1].norm1]\n",
    "    cam = GradCAM(model=model, target_layers=target_layer, use_cuda=torch.cuda.is_available())\n",
    "    from pytorch_grad_cam.utils.model_targets import RawScoresOutputTarget\n",
    "#     targets = [RawScoresOutputTarget()]\n",
    "    targets = None\n",
    "    output = cam(input_tensor=x_tensor.unsqueeze(0).to(device), targets=targets)\n",
    "#     output = cam(input_tensor=x_tensor.to(device))\n",
    "    try:\n",
    "        vis = show_cam_on_image(img / 255., output[0])\n",
    "    except:\n",
    "        return result\n",
    "    if plot:\n",
    "        fig, axes = plt.subplots(figsize=(8, 8), ncols=2)\n",
    "        axes[0].imshow(vis)\n",
    "        axes[0].set_title(f\"pred={pred:.4f}\")\n",
    "        axes[1].imshow(img)\n",
    "        axes[1].set_title(f\"target={label}\")\n",
    "        plt.show()\n",
    "    result = {\"vis\": vis, \"img\": img, \"pred\": pred, \"label\": label}\n",
    "    torch.cuda.empty_cache()\n",
    "    return result"
   ]
  },
  {
   "cell_type": "markdown",
   "metadata": {
    "papermill": {
     "duration": 0.052219,
     "end_time": "2021-08-04T01:25:29.904968",
     "exception": false,
     "start_time": "2021-08-04T01:25:29.852749",
     "status": "completed"
    },
    "tags": []
   },
   "source": [
    "# Train loop"
   ]
  },
  {
   "cell_type": "code",
   "execution_count": 18,
   "metadata": {
    "_cell_guid": "b1076dfc-b9ad-4769-8c92-a6c4dae69d19",
    "_uuid": "8f2839f25d086af736a60e9eeb907d3b93b6e0e5",
    "execution": {
     "iopub.execute_input": "2021-09-25T01:39:32.035336Z",
     "iopub.status.busy": "2021-09-25T01:39:32.035065Z",
     "iopub.status.idle": "2021-09-25T01:39:32.055932Z",
     "shell.execute_reply": "2021-09-25T01:39:32.055078Z",
     "shell.execute_reply.started": "2021-09-25T01:39:32.035295Z"
    },
    "papermill": {
     "duration": 0.075124,
     "end_time": "2021-08-04T01:25:30.031874",
     "exception": false,
     "start_time": "2021-08-04T01:25:29.95675",
     "status": "completed"
    },
    "tags": []
   },
   "outputs": [],
   "source": [
    "# ====================================================\n",
    "# Train loop\n",
    "# ====================================================\n",
    "def train_loop(folds, fold):\n",
    "    \n",
    "    LOGGER.info(f\"========== fold: {fold} training ==========\")\n",
    "\n",
    "    # ====================================================\n",
    "    # loader\n",
    "    # ====================================================\n",
    "    trn_idx = folds[folds['fold'] != fold].index\n",
    "    val_idx = folds[folds['fold'] == fold].index\n",
    "\n",
    "    train_folds = folds.loc[trn_idx].reset_index(drop=True)\n",
    "    valid_folds = folds.loc[val_idx].reset_index(drop=True)\n",
    "    valid_labels = valid_folds[CFG.target_col].values\n",
    "\n",
    "    train_dataset = TrainDataset(train_folds, transform=get_transforms(data='train'))\n",
    "    valid_dataset = TrainDataset(valid_folds, transform=get_transforms(data='train'))\n",
    "\n",
    "    train_loader = DataLoader(train_dataset,\n",
    "                              batch_size=CFG.batch_size, \n",
    "                              shuffle=True, \n",
    "                              num_workers=CFG.num_workers, pin_memory=True, drop_last=True)\n",
    "    valid_loader = DataLoader(valid_dataset, \n",
    "                              batch_size=CFG.batch_size * 2, \n",
    "                              shuffle=False, \n",
    "                              num_workers=CFG.num_workers, pin_memory=True, drop_last=False)\n",
    "    \n",
    "    # ====================================================\n",
    "    # scheduler \n",
    "    # ====================================================\n",
    "    def get_scheduler(optimizer):\n",
    "        if CFG.scheduler=='ReduceLROnPlateau':\n",
    "            scheduler = ReduceLROnPlateau(optimizer, mode='min', factor=CFG.factor, patience=CFG.patience, verbose=True, eps=CFG.eps)\n",
    "        elif CFG.scheduler=='CosineAnnealingLR':\n",
    "            scheduler = CosineAnnealingLR(optimizer, T_max=CFG.T_max, eta_min=CFG.min_lr, last_epoch=-1)\n",
    "        elif CFG.scheduler=='CosineAnnealingWarmRestarts':\n",
    "            scheduler = CosineAnnealingWarmRestarts(optimizer, T_0=CFG.T_0, T_mult=1, eta_min=CFG.min_lr, last_epoch=-1)\n",
    "        return scheduler\n",
    "\n",
    "    # ====================================================\n",
    "    # model & optimizer\n",
    "    # ====================================================\n",
    "    model = CustomModel(CFG, pretrained=True)\n",
    "    model.to(device)\n",
    "\n",
    "    optimizer = Adam(model.parameters(), lr=CFG.lr, weight_decay=CFG.weight_decay, amsgrad=False)\n",
    "    scheduler = get_scheduler(optimizer)\n",
    "\n",
    "    # ====================================================\n",
    "    # loop\n",
    "    # ====================================================\n",
    "    criterion = RMSELoss()\n",
    "\n",
    "    best_score = np.inf\n",
    "    best_loss = np.inf\n",
    "    \n",
    "    for epoch in range(CFG.epochs):\n",
    "        \n",
    "        start_time = time.time()\n",
    "        \n",
    "        # train\n",
    "        avg_loss = train_fn(fold, train_loader, model, criterion, optimizer, epoch, scheduler, device)\n",
    "\n",
    "        # eval\n",
    "        avg_val_loss, preds = valid_fn(valid_loader, model, criterion, device)\n",
    "        \n",
    "        if isinstance(scheduler, ReduceLROnPlateau):\n",
    "            scheduler.step(avg_val_loss)\n",
    "        elif isinstance(scheduler, CosineAnnealingLR):\n",
    "            scheduler.step()\n",
    "        elif isinstance(scheduler, CosineAnnealingWarmRestarts):\n",
    "            scheduler.step()\n",
    "\n",
    "        # scoring\n",
    "        score = get_score(valid_labels, preds)\n",
    "\n",
    "        elapsed = time.time() - start_time\n",
    "\n",
    "        LOGGER.info(f'Epoch {epoch+1} - avg_train_loss: {avg_loss:.4f}  avg_val_loss: {avg_val_loss:.4f}  time: {elapsed:.0f}s')\n",
    "        LOGGER.info(f'Epoch {epoch+1} - Score: {score:.4f}')\n",
    "       \n",
    "        if score < best_score:\n",
    "            best_score = score\n",
    "            LOGGER.info(f'Epoch {epoch+1} - Save Best Score: {best_score:.4f} Model')\n",
    "            torch.save({'model': model.state_dict(), \n",
    "                        'preds': preds},\n",
    "                        OUTPUT_DIR+f'{CFG.model_name}_fold{fold}_best.pth')\n",
    "    \n",
    "    valid_folds['preds'] = torch.load(OUTPUT_DIR+f'{CFG.model_name}_fold{fold}_best.pth', \n",
    "                                      map_location=torch.device('cpu'))['preds']\n",
    "\n",
    "    return valid_folds"
   ]
  },
  {
   "cell_type": "code",
   "execution_count": 19,
   "metadata": {
    "scrolled": true
   },
   "outputs": [],
   "source": [
    "# !pip install torchinfo\n",
    "# from torchinfo import summary\n",
    "# model = CustomModel(CFG, pretrained=True)\n",
    "# summary(model)"
   ]
  },
  {
   "cell_type": "code",
   "execution_count": 20,
   "metadata": {
    "execution": {
     "iopub.execute_input": "2021-09-25T01:39:32.057783Z",
     "iopub.status.busy": "2021-09-25T01:39:32.057505Z",
     "iopub.status.idle": "2021-09-25T01:39:32.077182Z",
     "shell.execute_reply": "2021-09-25T01:39:32.076545Z",
     "shell.execute_reply.started": "2021-09-25T01:39:32.057752Z"
    },
    "papermill": {
     "duration": 0.073141,
     "end_time": "2021-08-04T01:25:30.156241",
     "exception": false,
     "start_time": "2021-08-04T01:25:30.0831",
     "status": "completed"
    },
    "tags": []
   },
   "outputs": [],
   "source": [
    "# ====================================================\n",
    "# main\n",
    "# ====================================================\n",
    "def main():\n",
    "\n",
    "    \"\"\"\n",
    "    Prepare: 1.train \n",
    "    \"\"\"\n",
    "\n",
    "    def get_result(result_df):\n",
    "        preds = result_df['preds'].values\n",
    "        labels = result_df[CFG.target_col].values\n",
    "        score = get_score(labels, preds)\n",
    "        LOGGER.info(f'Score: {score:<.4f}')\n",
    "    \n",
    "    if CFG.train:\n",
    "        # train \n",
    "        oof_df = pd.DataFrame()\n",
    "        for fold in range(CFG.n_fold):\n",
    "            if fold in CFG.trn_fold:\n",
    "                _oof_df = train_loop(train, fold)\n",
    "                oof_df = pd.concat([oof_df, _oof_df])\n",
    "                LOGGER.info(f\"========== fold: {fold} result ==========\")\n",
    "                get_result(_oof_df)\n",
    "        # CV result\n",
    "        LOGGER.info(f\"========== CV ==========\")\n",
    "        get_result(oof_df)\n",
    "        # save result\n",
    "        oof_df.to_csv(OUTPUT_DIR+f'{CFG.model_name}oof_df.csv', index=False)"
   ]
  },
  {
   "cell_type": "code",
   "execution_count": null,
   "metadata": {},
   "outputs": [],
   "source": []
  },
  {
   "cell_type": "code",
   "execution_count": null,
   "metadata": {
    "_cell_guid": "79c7e3d0-c299-4dcb-8224-4455121ee9b0",
    "_uuid": "d629ff2d2480ee46fbb7e2d37f6b5fab8052498a",
    "execution": {
     "iopub.execute_input": "2021-09-25T01:39:32.080653Z",
     "iopub.status.busy": "2021-09-25T01:39:32.080395Z",
     "iopub.status.idle": "2021-09-25T01:43:14.486097Z",
     "shell.execute_reply": "2021-09-25T01:43:14.484211Z",
     "shell.execute_reply.started": "2021-09-25T01:39:32.080626Z"
    },
    "papermill": {
     "duration": 25805.563027,
     "end_time": "2021-08-04T08:35:35.784865",
     "exception": false,
     "start_time": "2021-08-04T01:25:30.221838",
     "status": "completed"
    },
    "scrolled": false,
    "tags": []
   },
   "outputs": [
    {
     "name": "stderr",
     "output_type": "stream",
     "text": [
      "========== fold: 0 training ==========\n"
     ]
    },
    {
     "name": "stdout",
     "output_type": "stream",
     "text": [
      "Epoch: [1][0/19] Elapsed 0m 2s (remain 0m 38s) Loss: 3.4967(3.4967) Grad: 3.7027  LR: 0.000100  \n",
      "Epoch: [1][10/19] Elapsed 0m 3s (remain 0m 2s) Loss: 2.7324(3.1661) Grad: 2.9129  LR: 0.000100  \n",
      "Epoch: [1][18/19] Elapsed 0m 4s (remain 0m 0s) Loss: 2.0551(2.8807) Grad: 3.7762  LR: 0.000100  \n",
      "EVAL: [0/3] Elapsed 0m 0s (remain 0m 1s) Loss: 2.2144(2.2144) \n",
      "EVAL: [2/3] Elapsed 0m 0s (remain 0m 0s) Loss: 2.2027(2.1218) \n"
     ]
    },
    {
     "name": "stderr",
     "output_type": "stream",
     "text": [
      "Epoch 1 - avg_train_loss: 2.8807  avg_val_loss: 2.1218  time: 5s\n",
      "Epoch 1 - Score: 2.1244\n",
      "Epoch 1 - Save Best Score: 2.1244 Model\n"
     ]
    },
    {
     "name": "stdout",
     "output_type": "stream",
     "text": [
      "Epoch: [2][0/19] Elapsed 0m 0s (remain 0m 9s) Loss: 2.2073(2.2073) Grad: 3.8923  LR: 0.000057  \n",
      "Epoch: [2][10/19] Elapsed 0m 1s (remain 0m 1s) Loss: 1.2114(1.6511) Grad: 4.9458  LR: 0.000057  \n",
      "Epoch: [2][18/19] Elapsed 0m 2s (remain 0m 0s) Loss: 0.5851(1.2915) Grad: 6.1929  LR: 0.000057  \n"
     ]
    },
    {
     "name": "stderr",
     "output_type": "stream",
     "text": [
      "Epoch 2 - avg_train_loss: 1.2915  avg_val_loss: 0.8348  time: 4s\n",
      "Epoch 2 - Score: 0.8374\n",
      "Epoch 2 - Save Best Score: 0.8374 Model\n"
     ]
    },
    {
     "name": "stdout",
     "output_type": "stream",
     "text": [
      "EVAL: [0/3] Elapsed 0m 0s (remain 0m 1s) Loss: 0.8540(0.8540) \n",
      "EVAL: [2/3] Elapsed 0m 0s (remain 0m 0s) Loss: 0.6895(0.8348) \n",
      "Epoch: [3][0/19] Elapsed 0m 0s (remain 0m 10s) Loss: 0.4477(0.4477) Grad: 4.4183  LR: 0.000009  \n",
      "Epoch: [3][10/19] Elapsed 0m 1s (remain 0m 1s) Loss: 0.5067(0.5232) Grad: 4.5539  LR: 0.000009  \n",
      "Epoch: [3][18/19] Elapsed 0m 2s (remain 0m 0s) Loss: 0.3750(0.4789) Grad: 4.3941  LR: 0.000009  \n",
      "EVAL: [0/3] Elapsed 0m 0s (remain 0m 1s) Loss: 0.5349(0.5349) \n",
      "EVAL: [2/3] Elapsed 0m 0s (remain 0m 0s) Loss: 0.3253(0.5252) \n"
     ]
    },
    {
     "name": "stderr",
     "output_type": "stream",
     "text": [
      "Epoch 3 - avg_train_loss: 0.4789  avg_val_loss: 0.5252  time: 4s\n",
      "Epoch 3 - Score: 0.5336\n",
      "Epoch 3 - Save Best Score: 0.5336 Model\n"
     ]
    },
    {
     "name": "stdout",
     "output_type": "stream",
     "text": [
      "Epoch: [4][0/19] Elapsed 0m 0s (remain 0m 10s) Loss: 0.4875(0.4875) Grad: 5.2954  LR: 0.000001  \n",
      "Epoch: [4][10/19] Elapsed 0m 1s (remain 0m 1s) Loss: 0.3105(0.4092) Grad: 4.4889  LR: 0.000001  \n",
      "Epoch: [4][18/19] Elapsed 0m 2s (remain 0m 0s) Loss: 0.3230(0.4224) Grad: 3.7989  LR: 0.000001  \n",
      "EVAL: [0/3] Elapsed 0m 0s (remain 0m 1s) Loss: 0.5257(0.5257) \n",
      "EVAL: [2/3] Elapsed 0m 0s (remain 0m 0s) Loss: 0.2897(0.4918) \n"
     ]
    },
    {
     "name": "stderr",
     "output_type": "stream",
     "text": [
      "Epoch 4 - avg_train_loss: 0.4224  avg_val_loss: 0.4918  time: 4s\n",
      "Epoch 4 - Score: 0.5002\n",
      "Epoch 4 - Save Best Score: 0.5002 Model\n"
     ]
    },
    {
     "name": "stdout",
     "output_type": "stream",
     "text": [
      "Epoch: [5][0/19] Elapsed 0m 0s (remain 0m 10s) Loss: 0.4366(0.4366) Grad: 4.8454  LR: 0.000050  \n",
      "Epoch: [5][10/19] Elapsed 0m 1s (remain 0m 1s) Loss: 0.4152(0.3982) Grad: 4.3351  LR: 0.000050  \n",
      "Epoch: [5][18/19] Elapsed 0m 2s (remain 0m 0s) Loss: 0.4214(0.3995) Grad: 3.9157  LR: 0.000050  \n"
     ]
    },
    {
     "name": "stderr",
     "output_type": "stream",
     "text": [
      "Epoch 5 - avg_train_loss: 0.3995  avg_val_loss: 0.5003  time: 4s\n",
      "Epoch 5 - Score: 0.5042\n"
     ]
    },
    {
     "name": "stdout",
     "output_type": "stream",
     "text": [
      "EVAL: [0/3] Elapsed 0m 0s (remain 0m 1s) Loss: 0.5064(0.5064) \n",
      "EVAL: [2/3] Elapsed 0m 0s (remain 0m 0s) Loss: 0.3683(0.5003) \n",
      "Epoch: [6][0/19] Elapsed 0m 0s (remain 0m 10s) Loss: 0.4111(0.4111) Grad: 4.3777  LR: 0.000224  \n",
      "Epoch: [6][10/19] Elapsed 0m 1s (remain 0m 1s) Loss: 0.3087(0.3642) Grad: 3.8605  LR: 0.000224  \n",
      "Epoch: [6][18/19] Elapsed 0m 2s (remain 0m 0s) Loss: 0.5117(0.3728) Grad: 3.9176  LR: 0.000224  \n"
     ]
    },
    {
     "name": "stderr",
     "output_type": "stream",
     "text": [
      "Epoch 6 - avg_train_loss: 0.3728  avg_val_loss: 0.4861  time: 4s\n",
      "Epoch 6 - Score: 0.4938\n",
      "Epoch 6 - Save Best Score: 0.4938 Model\n"
     ]
    },
    {
     "name": "stdout",
     "output_type": "stream",
     "text": [
      "EVAL: [0/3] Elapsed 0m 0s (remain 0m 1s) Loss: 0.5406(0.5406) \n",
      "EVAL: [2/3] Elapsed 0m 0s (remain 0m 0s) Loss: 0.2964(0.4861) \n",
      "Epoch: [7][0/19] Elapsed 0m 0s (remain 0m 10s) Loss: 0.3476(0.3476) Grad: 4.2155  LR: 0.000133  \n",
      "Epoch: [7][10/19] Elapsed 0m 1s (remain 0m 1s) Loss: 0.2907(0.3031) Grad: 3.1579  LR: 0.000133  \n",
      "Epoch: [7][18/19] Elapsed 0m 3s (remain 0m 0s) Loss: 0.3158(0.3150) Grad: 4.0731  LR: 0.000133  \n"
     ]
    },
    {
     "name": "stderr",
     "output_type": "stream",
     "text": [
      "Epoch 7 - avg_train_loss: 0.3150  avg_val_loss: 0.4968  time: 4s\n",
      "Epoch 7 - Score: 0.4980\n"
     ]
    },
    {
     "name": "stdout",
     "output_type": "stream",
     "text": [
      "EVAL: [0/3] Elapsed 0m 0s (remain 0m 1s) Loss: 0.4995(0.4995) \n",
      "EVAL: [2/3] Elapsed 0m 0s (remain 0m 0s) Loss: 0.4237(0.4968) \n",
      "Epoch: [8][0/19] Elapsed 0m 0s (remain 0m 10s) Loss: 0.2913(0.2913) Grad: 3.5964  LR: 0.000057  \n",
      "Epoch: [8][10/19] Elapsed 0m 2s (remain 0m 1s) Loss: 0.2954(0.3010) Grad: 3.8196  LR: 0.000057  \n",
      "Epoch: [8][18/19] Elapsed 0m 3s (remain 0m 0s) Loss: 0.2828(0.3024) Grad: 3.4271  LR: 0.000057  \n"
     ]
    },
    {
     "name": "stderr",
     "output_type": "stream",
     "text": [
      "Epoch 8 - avg_train_loss: 0.3024  avg_val_loss: 0.4216  time: 4s\n",
      "Epoch 8 - Score: 0.4284\n",
      "Epoch 8 - Save Best Score: 0.4284 Model\n"
     ]
    },
    {
     "name": "stdout",
     "output_type": "stream",
     "text": [
      "EVAL: [0/3] Elapsed 0m 0s (remain 0m 1s) Loss: 0.4643(0.4643) \n",
      "EVAL: [2/3] Elapsed 0m 0s (remain 0m 0s) Loss: 0.2537(0.4216) \n",
      "Epoch: [9][0/19] Elapsed 0m 0s (remain 0m 9s) Loss: 0.2556(0.2556) Grad: 3.8118  LR: 0.000009  \n",
      "Epoch: [9][10/19] Elapsed 0m 1s (remain 0m 1s) Loss: 0.2888(0.2609) Grad: 3.5356  LR: 0.000009  \n",
      "Epoch: [9][18/19] Elapsed 0m 2s (remain 0m 0s) Loss: 0.1889(0.2646) Grad: 3.1819  LR: 0.000009  \n",
      "EVAL: [0/3] Elapsed 0m 0s (remain 0m 1s) Loss: 0.4807(0.4807) \n",
      "EVAL: [2/3] Elapsed 0m 0s (remain 0m 0s) Loss: 0.2312(0.4541) \n"
     ]
    },
    {
     "name": "stderr",
     "output_type": "stream",
     "text": [
      "Epoch 9 - avg_train_loss: 0.2646  avg_val_loss: 0.4541  time: 4s\n",
      "Epoch 9 - Score: 0.4654\n"
     ]
    },
    {
     "name": "stdout",
     "output_type": "stream",
     "text": [
      "Epoch: [10][0/19] Elapsed 0m 0s (remain 0m 9s) Loss: 0.1758(0.1758) Grad: 3.0614  LR: 0.000001  \n",
      "Epoch: [10][10/19] Elapsed 0m 1s (remain 0m 1s) Loss: 0.2642(0.2386) Grad: 4.6944  LR: 0.000001  \n",
      "Epoch: [10][18/19] Elapsed 0m 2s (remain 0m 0s) Loss: 0.2860(0.2439) Grad: 4.6238  LR: 0.000001  \n",
      "EVAL: [0/3] Elapsed 0m 0s (remain 0m 1s) Loss: 0.4867(0.4867) \n",
      "EVAL: [2/3] Elapsed 0m 0s (remain 0m 0s) Loss: 0.2319(0.4318) \n"
     ]
    },
    {
     "name": "stderr",
     "output_type": "stream",
     "text": [
      "Epoch 10 - avg_train_loss: 0.2439  avg_val_loss: 0.4318  time: 4s\n",
      "Epoch 10 - Score: 0.4413\n"
     ]
    },
    {
     "name": "stdout",
     "output_type": "stream",
     "text": [
      "Epoch: [11][0/19] Elapsed 0m 0s (remain 0m 10s) Loss: 0.2412(0.2412) Grad: 4.0071  LR: 0.000050  \n",
      "Epoch: [11][10/19] Elapsed 0m 1s (remain 0m 1s) Loss: 0.2204(0.2366) Grad: 5.0108  LR: 0.000050  \n",
      "Epoch: [11][18/19] Elapsed 0m 2s (remain 0m 0s) Loss: 0.2376(0.2391) Grad: 4.1605  LR: 0.000050  \n"
     ]
    },
    {
     "name": "stderr",
     "output_type": "stream",
     "text": [
      "Epoch 11 - avg_train_loss: 0.2391  avg_val_loss: 0.4293  time: 4s\n",
      "Epoch 11 - Score: 0.4384\n"
     ]
    },
    {
     "name": "stdout",
     "output_type": "stream",
     "text": [
      "EVAL: [0/3] Elapsed 0m 0s (remain 0m 1s) Loss: 0.4695(0.4695) \n",
      "EVAL: [2/3] Elapsed 0m 0s (remain 0m 0s) Loss: 0.2325(0.4293) \n",
      "Epoch: [12][0/19] Elapsed 0m 0s (remain 0m 10s) Loss: 0.2372(0.2372) Grad: 3.1912  LR: 0.000224  \n",
      "Epoch: [12][10/19] Elapsed 0m 1s (remain 0m 1s) Loss: 0.4420(0.2711) Grad: 6.0628  LR: 0.000224  \n",
      "Epoch: [12][18/19] Elapsed 0m 2s (remain 0m 0s) Loss: 0.2305(0.2708) Grad: 4.1081  LR: 0.000224  \n"
     ]
    },
    {
     "name": "stderr",
     "output_type": "stream",
     "text": [
      "Epoch 12 - avg_train_loss: 0.2708  avg_val_loss: 0.4503  time: 4s\n",
      "Epoch 12 - Score: 0.4591\n"
     ]
    },
    {
     "name": "stdout",
     "output_type": "stream",
     "text": [
      "EVAL: [0/3] Elapsed 0m 0s (remain 0m 1s) Loss: 0.4803(0.4803) \n",
      "EVAL: [2/3] Elapsed 0m 0s (remain 0m 0s) Loss: 0.2531(0.4503) \n",
      "Epoch: [13][0/19] Elapsed 0m 0s (remain 0m 10s) Loss: 0.2217(0.2217) Grad: 2.9936  LR: 0.000133  \n",
      "Epoch: [13][10/19] Elapsed 0m 1s (remain 0m 1s) Loss: 0.3136(0.2577) Grad: 4.4106  LR: 0.000133  \n",
      "Epoch: [13][18/19] Elapsed 0m 2s (remain 0m 0s) Loss: 0.2164(0.2529) Grad: 3.8673  LR: 0.000133  \n"
     ]
    },
    {
     "name": "stderr",
     "output_type": "stream",
     "text": [
      "Epoch 13 - avg_train_loss: 0.2529  avg_val_loss: 0.4519  time: 4s\n",
      "Epoch 13 - Score: 0.4617\n"
     ]
    },
    {
     "name": "stdout",
     "output_type": "stream",
     "text": [
      "EVAL: [0/3] Elapsed 0m 0s (remain 0m 1s) Loss: 0.5281(0.5281) \n",
      "EVAL: [2/3] Elapsed 0m 0s (remain 0m 0s) Loss: 0.2558(0.4519) \n",
      "Epoch: [14][0/19] Elapsed 0m 0s (remain 0m 10s) Loss: 0.2622(0.2622) Grad: 4.2054  LR: 0.000057  \n",
      "Epoch: [14][10/19] Elapsed 0m 1s (remain 0m 1s) Loss: 0.2225(0.2442) Grad: 4.4120  LR: 0.000057  \n",
      "Epoch: [14][18/19] Elapsed 0m 2s (remain 0m 0s) Loss: 0.1814(0.2334) Grad: 3.6250  LR: 0.000057  \n",
      "EVAL: [0/3] Elapsed 0m 0s (remain 0m 1s) Loss: 0.5117(0.5117) \n",
      "EVAL: [2/3] Elapsed 0m 0s (remain 0m 0s) Loss: 0.2758(0.4458) \n"
     ]
    },
    {
     "name": "stderr",
     "output_type": "stream",
     "text": [
      "Epoch 14 - avg_train_loss: 0.2334  avg_val_loss: 0.4458  time: 4s\n",
      "Epoch 14 - Score: 0.4533\n"
     ]
    },
    {
     "name": "stdout",
     "output_type": "stream",
     "text": [
      "Epoch: [15][0/19] Elapsed 0m 0s (remain 0m 9s) Loss: 0.2434(0.2434) Grad: 3.1824  LR: 0.000009  \n",
      "Epoch: [15][10/19] Elapsed 0m 1s (remain 0m 1s) Loss: 0.1557(0.1915) Grad: 3.0479  LR: 0.000009  \n",
      "Epoch: [15][18/19] Elapsed 0m 2s (remain 0m 0s) Loss: 0.2473(0.2007) Grad: 4.3947  LR: 0.000009  \n"
     ]
    },
    {
     "name": "stderr",
     "output_type": "stream",
     "text": [
      "Epoch 15 - avg_train_loss: 0.2007  avg_val_loss: 0.4107  time: 4s\n",
      "Epoch 15 - Score: 0.4194\n",
      "Epoch 15 - Save Best Score: 0.4194 Model\n"
     ]
    },
    {
     "name": "stdout",
     "output_type": "stream",
     "text": [
      "EVAL: [0/3] Elapsed 0m 0s (remain 0m 1s) Loss: 0.4401(0.4401) \n",
      "EVAL: [2/3] Elapsed 0m 0s (remain 0m 0s) Loss: 0.2224(0.4107) \n",
      "Epoch: [16][0/19] Elapsed 0m 0s (remain 0m 10s) Loss: 0.1704(0.1704) Grad: 3.3410  LR: 0.000001  \n",
      "Epoch: [16][10/19] Elapsed 0m 1s (remain 0m 1s) Loss: 0.2705(0.2036) Grad: 5.4185  LR: 0.000001  \n",
      "Epoch: [16][18/19] Elapsed 0m 2s (remain 0m 0s) Loss: 0.3203(0.2128) Grad: 5.8615  LR: 0.000001  \n",
      "EVAL: [0/3] Elapsed 0m 0s (remain 0m 1s) Loss: 0.4517(0.4517) \n",
      "EVAL: [2/3] Elapsed 0m 0s (remain 0m 0s) Loss: 0.1880(0.4123) \n"
     ]
    },
    {
     "name": "stderr",
     "output_type": "stream",
     "text": [
      "Epoch 16 - avg_train_loss: 0.2128  avg_val_loss: 0.4123  time: 4s\n",
      "Epoch 16 - Score: 0.4245\n"
     ]
    },
    {
     "name": "stdout",
     "output_type": "stream",
     "text": [
      "Epoch: [17][0/19] Elapsed 0m 0s (remain 0m 10s) Loss: 0.1829(0.1829) Grad: 2.8606  LR: 0.000050  \n",
      "Epoch: [17][10/19] Elapsed 0m 1s (remain 0m 1s) Loss: 0.1599(0.2130) Grad: 4.5715  LR: 0.000050  \n",
      "Epoch: [17][18/19] Elapsed 0m 2s (remain 0m 0s) Loss: 0.1516(0.2085) Grad: 3.1952  LR: 0.000050  \n"
     ]
    },
    {
     "name": "stderr",
     "output_type": "stream",
     "text": [
      "Epoch 17 - avg_train_loss: 0.2085  avg_val_loss: 0.4151  time: 4s\n",
      "Epoch 17 - Score: 0.4236\n"
     ]
    },
    {
     "name": "stdout",
     "output_type": "stream",
     "text": [
      "EVAL: [0/3] Elapsed 0m 0s (remain 0m 1s) Loss: 0.4742(0.4742) \n",
      "EVAL: [2/3] Elapsed 0m 0s (remain 0m 0s) Loss: 0.2331(0.4151) \n",
      "Epoch: [18][0/19] Elapsed 0m 0s (remain 0m 10s) Loss: 0.2759(0.2759) Grad: 5.0049  LR: 0.000224  \n",
      "Epoch: [18][10/19] Elapsed 0m 1s (remain 0m 1s) Loss: 0.1934(0.2084) Grad: 4.0320  LR: 0.000224  \n",
      "Epoch: [18][18/19] Elapsed 0m 3s (remain 0m 0s) Loss: 0.3273(0.2093) Grad: 5.5178  LR: 0.000224  \n"
     ]
    },
    {
     "name": "stderr",
     "output_type": "stream",
     "text": [
      "Epoch 18 - avg_train_loss: 0.2093  avg_val_loss: 0.4126  time: 4s\n",
      "Epoch 18 - Score: 0.4225\n"
     ]
    },
    {
     "name": "stdout",
     "output_type": "stream",
     "text": [
      "EVAL: [0/3] Elapsed 0m 0s (remain 0m 1s) Loss: 0.4618(0.4618) \n",
      "EVAL: [2/3] Elapsed 0m 0s (remain 0m 0s) Loss: 0.2107(0.4126) \n",
      "Epoch: [19][0/19] Elapsed 0m 0s (remain 0m 10s) Loss: 0.1974(0.1974) Grad: 3.8229  LR: 0.000133  \n",
      "Epoch: [19][10/19] Elapsed 0m 1s (remain 0m 1s) Loss: 0.2358(0.2314) Grad: 5.2894  LR: 0.000133  \n",
      "Epoch: [19][18/19] Elapsed 0m 2s (remain 0m 0s) Loss: 0.2863(0.2151) Grad: 5.6364  LR: 0.000133  \n",
      "EVAL: [0/3] Elapsed 0m 0s (remain 0m 1s) Loss: 0.4691(0.4691) \n",
      "EVAL: [2/3] Elapsed 0m 0s (remain 0m 0s) Loss: 0.2178(0.4228) \n"
     ]
    },
    {
     "name": "stderr",
     "output_type": "stream",
     "text": [
      "Epoch 19 - avg_train_loss: 0.2151  avg_val_loss: 0.4228  time: 4s\n",
      "Epoch 19 - Score: 0.4328\n"
     ]
    },
    {
     "name": "stdout",
     "output_type": "stream",
     "text": [
      "Epoch: [20][0/19] Elapsed 0m 0s (remain 0m 10s) Loss: 0.3060(0.3060) Grad: 5.5987  LR: 0.000057  \n",
      "Epoch: [20][10/19] Elapsed 0m 1s (remain 0m 1s) Loss: 0.1937(0.2061) Grad: 3.8345  LR: 0.000057  \n",
      "Epoch: [20][18/19] Elapsed 0m 2s (remain 0m 0s) Loss: 0.1674(0.2047) Grad: 2.7696  LR: 0.000057  \n",
      "EVAL: [0/3] Elapsed 0m 0s (remain 0m 1s) Loss: 0.5037(0.5037) \n",
      "EVAL: [2/3] Elapsed 0m 0s (remain 0m 0s) Loss: 0.2838(0.4478) \n"
     ]
    },
    {
     "name": "stderr",
     "output_type": "stream",
     "text": [
      "Epoch 20 - avg_train_loss: 0.2047  avg_val_loss: 0.4478  time: 4s\n",
      "Epoch 20 - Score: 0.4543\n"
     ]
    },
    {
     "name": "stdout",
     "output_type": "stream",
     "text": [
      "Epoch: [21][0/19] Elapsed 0m 0s (remain 0m 10s) Loss: 0.2746(0.2746) Grad: 5.5336  LR: 0.000009  \n",
      "Epoch: [21][10/19] Elapsed 0m 1s (remain 0m 1s) Loss: 0.1590(0.1736) Grad: 2.9849  LR: 0.000009  \n",
      "Epoch: [21][18/19] Elapsed 0m 2s (remain 0m 0s) Loss: 0.1332(0.1786) Grad: 3.5997  LR: 0.000009  \n"
     ]
    },
    {
     "name": "stderr",
     "output_type": "stream",
     "text": [
      "Epoch 21 - avg_train_loss: 0.1786  avg_val_loss: 0.4097  time: 4s\n",
      "Epoch 21 - Score: 0.4171\n",
      "Epoch 21 - Save Best Score: 0.4171 Model\n"
     ]
    },
    {
     "name": "stdout",
     "output_type": "stream",
     "text": [
      "EVAL: [0/3] Elapsed 0m 0s (remain 0m 1s) Loss: 0.4727(0.4727) \n",
      "EVAL: [2/3] Elapsed 0m 0s (remain 0m 0s) Loss: 0.2466(0.4097) \n",
      "Epoch: [22][0/19] Elapsed 0m 0s (remain 0m 10s) Loss: 0.1929(0.1929) Grad: 3.7267  LR: 0.000001  \n",
      "Epoch: [22][10/19] Elapsed 0m 1s (remain 0m 1s) Loss: 0.1828(0.1952) Grad: 3.3829  LR: 0.000001  \n",
      "Epoch: [22][18/19] Elapsed 0m 2s (remain 0m 0s) Loss: 0.2282(0.1937) Grad: 4.1602  LR: 0.000001  \n",
      "EVAL: [0/3] Elapsed 0m 0s (remain 0m 1s) Loss: 0.4502(0.4502) \n",
      "EVAL: [2/3] Elapsed 0m 0s (remain 0m 0s) Loss: 0.2670(0.4114) \n"
     ]
    },
    {
     "name": "stderr",
     "output_type": "stream",
     "text": [
      "Epoch 22 - avg_train_loss: 0.1937  avg_val_loss: 0.4114  time: 4s\n",
      "Epoch 22 - Score: 0.4166\n",
      "Epoch 22 - Save Best Score: 0.4166 Model\n"
     ]
    },
    {
     "name": "stdout",
     "output_type": "stream",
     "text": [
      "Epoch: [23][0/19] Elapsed 0m 0s (remain 0m 10s) Loss: 0.2352(0.2352) Grad: 4.5511  LR: 0.000050  \n",
      "Epoch: [23][10/19] Elapsed 0m 1s (remain 0m 1s) Loss: 0.1145(0.1699) Grad: 3.1869  LR: 0.000050  \n",
      "Epoch: [23][18/19] Elapsed 0m 2s (remain 0m 0s) Loss: 0.1741(0.1749) Grad: 3.5728  LR: 0.000050  \n"
     ]
    },
    {
     "name": "stderr",
     "output_type": "stream",
     "text": [
      "Epoch 23 - avg_train_loss: 0.1749  avg_val_loss: 0.3988  time: 4s\n",
      "Epoch 23 - Score: 0.4095\n",
      "Epoch 23 - Save Best Score: 0.4095 Model\n"
     ]
    },
    {
     "name": "stdout",
     "output_type": "stream",
     "text": [
      "EVAL: [0/3] Elapsed 0m 0s (remain 0m 1s) Loss: 0.4534(0.4534) \n",
      "EVAL: [2/3] Elapsed 0m 0s (remain 0m 0s) Loss: 0.1941(0.3988) \n",
      "Epoch: [24][0/19] Elapsed 0m 0s (remain 0m 9s) Loss: 0.2014(0.2014) Grad: 5.2178  LR: 0.000224  \n",
      "Epoch: [24][10/19] Elapsed 0m 1s (remain 0m 1s) Loss: 0.2202(0.1966) Grad: 4.7817  LR: 0.000224  \n",
      "Epoch: [24][18/19] Elapsed 0m 2s (remain 0m 0s) Loss: 0.2192(0.1960) Grad: 3.6249  LR: 0.000224  \n",
      "EVAL: [0/3] Elapsed 0m 0s (remain 0m 1s) Loss: 0.4593(0.4593) \n",
      "EVAL: [2/3] Elapsed 0m 0s (remain 0m 0s) Loss: 0.2097(0.4234) \n"
     ]
    },
    {
     "name": "stderr",
     "output_type": "stream",
     "text": [
      "Epoch 24 - avg_train_loss: 0.1960  avg_val_loss: 0.4234  time: 4s\n",
      "Epoch 24 - Score: 0.4343\n"
     ]
    },
    {
     "name": "stdout",
     "output_type": "stream",
     "text": [
      "Epoch: [25][0/19] Elapsed 0m 0s (remain 0m 10s) Loss: 0.1727(0.1727) Grad: 4.7028  LR: 0.000133  \n",
      "Epoch: [25][10/19] Elapsed 0m 1s (remain 0m 1s) Loss: 0.1810(0.1781) Grad: 2.4004  LR: 0.000133  \n",
      "Epoch: [25][18/19] Elapsed 0m 3s (remain 0m 0s) Loss: 0.1491(0.1828) Grad: 3.3891  LR: 0.000133  \n"
     ]
    },
    {
     "name": "stderr",
     "output_type": "stream",
     "text": [
      "Epoch 25 - avg_train_loss: 0.1828  avg_val_loss: 0.4009  time: 4s\n",
      "Epoch 25 - Score: 0.4069\n",
      "Epoch 25 - Save Best Score: 0.4069 Model\n"
     ]
    },
    {
     "name": "stdout",
     "output_type": "stream",
     "text": [
      "EVAL: [0/3] Elapsed 0m 0s (remain 0m 1s) Loss: 0.4468(0.4468) \n",
      "EVAL: [2/3] Elapsed 0m 0s (remain 0m 0s) Loss: 0.2498(0.4009) \n",
      "Epoch: [26][0/19] Elapsed 0m 0s (remain 0m 10s) Loss: 0.1598(0.1598) Grad: 3.0238  LR: 0.000057  \n",
      "Epoch: [26][10/19] Elapsed 0m 1s (remain 0m 1s) Loss: 0.1510(0.2241) Grad: 3.3127  LR: 0.000057  \n",
      "Epoch: [26][18/19] Elapsed 0m 2s (remain 0m 0s) Loss: 0.3068(0.2179) Grad: 5.9583  LR: 0.000057  \n"
     ]
    },
    {
     "name": "stderr",
     "output_type": "stream",
     "text": [
      "Epoch 26 - avg_train_loss: 0.2179  avg_val_loss: 0.4110  time: 4s\n",
      "Epoch 26 - Score: 0.4191\n"
     ]
    },
    {
     "name": "stdout",
     "output_type": "stream",
     "text": [
      "EVAL: [0/3] Elapsed 0m 0s (remain 0m 1s) Loss: 0.4543(0.4543) \n",
      "EVAL: [2/3] Elapsed 0m 0s (remain 0m 0s) Loss: 0.2293(0.4110) \n",
      "Epoch: [27][0/19] Elapsed 0m 0s (remain 0m 10s) Loss: 0.2020(0.2020) Grad: 4.9296  LR: 0.000009  \n",
      "Epoch: [27][10/19] Elapsed 0m 1s (remain 0m 1s) Loss: 0.1389(0.1895) Grad: 4.3766  LR: 0.000009  \n",
      "Epoch: [27][18/19] Elapsed 0m 2s (remain 0m 0s) Loss: 0.1508(0.1742) Grad: 2.4378  LR: 0.000009  \n"
     ]
    },
    {
     "name": "stderr",
     "output_type": "stream",
     "text": [
      "Epoch 27 - avg_train_loss: 0.1742  avg_val_loss: 0.3964  time: 4s\n",
      "Epoch 27 - Score: 0.4019\n",
      "Epoch 27 - Save Best Score: 0.4019 Model\n"
     ]
    },
    {
     "name": "stdout",
     "output_type": "stream",
     "text": [
      "EVAL: [0/3] Elapsed 0m 0s (remain 0m 1s) Loss: 0.4427(0.4427) \n",
      "EVAL: [2/3] Elapsed 0m 0s (remain 0m 0s) Loss: 0.2537(0.3964) \n",
      "Epoch: [28][0/19] Elapsed 0m 0s (remain 0m 11s) Loss: 0.2564(0.2564) Grad: 5.9442  LR: 0.000001  \n",
      "Epoch: [28][10/19] Elapsed 0m 1s (remain 0m 1s) Loss: 0.1757(0.1643) Grad: 4.8234  LR: 0.000001  \n",
      "Epoch: [28][18/19] Elapsed 0m 3s (remain 0m 0s) Loss: 0.1434(0.1582) Grad: 3.5404  LR: 0.000001  \n"
     ]
    },
    {
     "name": "stderr",
     "output_type": "stream",
     "text": [
      "Epoch 28 - avg_train_loss: 0.1582  avg_val_loss: 0.3981  time: 4s\n",
      "Epoch 28 - Score: 0.4111\n"
     ]
    },
    {
     "name": "stdout",
     "output_type": "stream",
     "text": [
      "EVAL: [0/3] Elapsed 0m 0s (remain 0m 1s) Loss: 0.4558(0.4558) \n",
      "EVAL: [2/3] Elapsed 0m 0s (remain 0m 0s) Loss: 0.1721(0.3981) \n",
      "Epoch: [29][0/19] Elapsed 0m 0s (remain 0m 11s) Loss: 0.2128(0.2128) Grad: 5.3715  LR: 0.000050  \n",
      "Epoch: [29][10/19] Elapsed 0m 1s (remain 0m 1s) Loss: 0.0859(0.1678) Grad: 2.3084  LR: 0.000050  \n",
      "Epoch: [29][18/19] Elapsed 0m 3s (remain 0m 0s) Loss: 0.1232(0.1674) Grad: 4.2432  LR: 0.000050  \n"
     ]
    },
    {
     "name": "stderr",
     "output_type": "stream",
     "text": [
      "Epoch 29 - avg_train_loss: 0.1674  avg_val_loss: 0.3984  time: 4s\n",
      "Epoch 29 - Score: 0.4093\n"
     ]
    },
    {
     "name": "stdout",
     "output_type": "stream",
     "text": [
      "EVAL: [0/3] Elapsed 0m 0s (remain 0m 1s) Loss: 0.4575(0.4575) \n",
      "EVAL: [2/3] Elapsed 0m 0s (remain 0m 0s) Loss: 0.1932(0.3984) \n",
      "Epoch: [30][0/19] Elapsed 0m 0s (remain 0m 10s) Loss: 0.1132(0.1132) Grad: 3.1903  LR: 0.000224  \n",
      "Epoch: [30][10/19] Elapsed 0m 1s (remain 0m 1s) Loss: 0.1194(0.1540) Grad: 2.4975  LR: 0.000224  \n",
      "Epoch: [30][18/19] Elapsed 0m 3s (remain 0m 0s) Loss: 0.2275(0.1620) Grad: 5.2736  LR: 0.000224  \n"
     ]
    },
    {
     "name": "stderr",
     "output_type": "stream",
     "text": [
      "Epoch 30 - avg_train_loss: 0.1620  avg_val_loss: 0.3847  time: 4s\n",
      "Epoch 30 - Score: 0.3944\n",
      "Epoch 30 - Save Best Score: 0.3944 Model\n"
     ]
    },
    {
     "name": "stdout",
     "output_type": "stream",
     "text": [
      "EVAL: [0/3] Elapsed 0m 0s (remain 0m 0s) Loss: 0.4225(0.4225) \n",
      "EVAL: [2/3] Elapsed 0m 0s (remain 0m 0s) Loss: 0.1917(0.3847) \n",
      "Epoch: [31][0/19] Elapsed 0m 0s (remain 0m 9s) Loss: 0.1355(0.1355) Grad: 2.4819  LR: 0.000133  \n",
      "Epoch: [31][10/19] Elapsed 0m 1s (remain 0m 1s) Loss: 0.2996(0.1684) Grad: 5.8855  LR: 0.000133  \n",
      "Epoch: [31][18/19] Elapsed 0m 2s (remain 0m 0s) Loss: 0.1429(0.1696) Grad: 3.3295  LR: 0.000133  \n"
     ]
    },
    {
     "name": "stderr",
     "output_type": "stream",
     "text": [
      "Epoch 31 - avg_train_loss: 0.1696  avg_val_loss: 0.4019  time: 4s\n",
      "Epoch 31 - Score: 0.4115\n"
     ]
    },
    {
     "name": "stdout",
     "output_type": "stream",
     "text": [
      "EVAL: [0/3] Elapsed 0m 0s (remain 0m 1s) Loss: 0.4510(0.4510) \n",
      "EVAL: [2/3] Elapsed 0m 0s (remain 0m 0s) Loss: 0.2073(0.4019) \n",
      "Epoch: [32][0/19] Elapsed 0m 0s (remain 0m 9s) Loss: 0.2250(0.2250) Grad: 5.6432  LR: 0.000057  \n",
      "Epoch: [32][10/19] Elapsed 0m 1s (remain 0m 1s) Loss: 0.1715(0.1908) Grad: 2.6652  LR: 0.000057  \n",
      "Epoch: [32][18/19] Elapsed 0m 2s (remain 0m 0s) Loss: 0.1640(0.1793) Grad: 2.3493  LR: 0.000057  \n"
     ]
    },
    {
     "name": "stderr",
     "output_type": "stream",
     "text": [
      "Epoch 32 - avg_train_loss: 0.1793  avg_val_loss: 0.3969  time: 4s\n",
      "Epoch 32 - Score: 0.4079\n"
     ]
    },
    {
     "name": "stdout",
     "output_type": "stream",
     "text": [
      "EVAL: [0/3] Elapsed 0m 0s (remain 0m 1s) Loss: 0.4406(0.4406) \n",
      "EVAL: [2/3] Elapsed 0m 0s (remain 0m 0s) Loss: 0.1881(0.3969) \n",
      "Epoch: [33][0/19] Elapsed 0m 0s (remain 0m 10s) Loss: 0.1747(0.1747) Grad: 4.3467  LR: 0.000009  \n",
      "Epoch: [33][10/19] Elapsed 0m 1s (remain 0m 1s) Loss: 0.1210(0.1545) Grad: 2.6906  LR: 0.000009  \n",
      "Epoch: [33][18/19] Elapsed 0m 2s (remain 0m 0s) Loss: 0.1879(0.1596) Grad: 5.3645  LR: 0.000009  \n"
     ]
    },
    {
     "name": "stderr",
     "output_type": "stream",
     "text": [
      "Epoch 33 - avg_train_loss: 0.1596  avg_val_loss: 0.4014  time: 4s\n",
      "Epoch 33 - Score: 0.4168\n"
     ]
    },
    {
     "name": "stdout",
     "output_type": "stream",
     "text": [
      "EVAL: [0/3] Elapsed 0m 0s (remain 0m 1s) Loss: 0.4575(0.4575) \n",
      "EVAL: [2/3] Elapsed 0m 0s (remain 0m 0s) Loss: 0.1525(0.4014) \n",
      "Epoch: [34][0/19] Elapsed 0m 0s (remain 0m 11s) Loss: 0.1182(0.1182) Grad: 2.8098  LR: 0.000001  \n",
      "Epoch: [34][10/19] Elapsed 0m 1s (remain 0m 1s) Loss: 0.1215(0.1324) Grad: 2.6338  LR: 0.000001  \n",
      "Epoch: [34][18/19] Elapsed 0m 3s (remain 0m 0s) Loss: 0.1172(0.1520) Grad: 2.0436  LR: 0.000001  \n",
      "EVAL: [0/3] Elapsed 0m 0s (remain 0m 1s) Loss: 0.4478(0.4478) \n",
      "EVAL: [2/3] Elapsed 0m 0s (remain 0m 0s) Loss: 0.1526(0.3879) \n"
     ]
    },
    {
     "name": "stderr",
     "output_type": "stream",
     "text": [
      "Epoch 34 - avg_train_loss: 0.1520  avg_val_loss: 0.3879  time: 4s\n",
      "Epoch 34 - Score: 0.4023\n"
     ]
    },
    {
     "name": "stdout",
     "output_type": "stream",
     "text": [
      "Epoch: [35][0/19] Elapsed 0m 0s (remain 0m 10s) Loss: 0.1490(0.1490) Grad: 4.4382  LR: 0.000050  \n",
      "Epoch: [35][10/19] Elapsed 0m 1s (remain 0m 1s) Loss: 0.1315(0.1425) Grad: 2.9258  LR: 0.000050  \n",
      "Epoch: [35][18/19] Elapsed 0m 2s (remain 0m 0s) Loss: 0.1664(0.1498) Grad: 4.9765  LR: 0.000050  \n"
     ]
    },
    {
     "name": "stderr",
     "output_type": "stream",
     "text": [
      "Epoch 35 - avg_train_loss: 0.1498  avg_val_loss: 0.3984  time: 4s\n",
      "Epoch 35 - Score: 0.4106\n"
     ]
    },
    {
     "name": "stdout",
     "output_type": "stream",
     "text": [
      "EVAL: [0/3] Elapsed 0m 0s (remain 0m 1s) Loss: 0.4411(0.4411) \n",
      "EVAL: [2/3] Elapsed 0m 0s (remain 0m 0s) Loss: 0.1782(0.3984) \n",
      "Epoch: [36][0/19] Elapsed 0m 0s (remain 0m 10s) Loss: 0.1642(0.1642) Grad: 3.6609  LR: 0.000224  \n",
      "Epoch: [36][10/19] Elapsed 0m 1s (remain 0m 1s) Loss: 0.2052(0.1639) Grad: 5.4721  LR: 0.000224  \n",
      "Epoch: [36][18/19] Elapsed 0m 2s (remain 0m 0s) Loss: 0.1440(0.1671) Grad: 4.7901  LR: 0.000224  \n",
      "EVAL: [0/3] Elapsed 0m 0s (remain 0m 1s) Loss: 0.4239(0.4239) \n",
      "EVAL: [2/3] Elapsed 0m 0s (remain 0m 0s) Loss: 0.2290(0.3927) \n"
     ]
    },
    {
     "name": "stderr",
     "output_type": "stream",
     "text": [
      "Epoch 36 - avg_train_loss: 0.1671  avg_val_loss: 0.3927  time: 4s\n",
      "Epoch 36 - Score: 0.3996\n"
     ]
    },
    {
     "name": "stdout",
     "output_type": "stream",
     "text": [
      "Epoch: [37][0/19] Elapsed 0m 0s (remain 0m 9s) Loss: 0.2673(0.2673) Grad: 6.1336  LR: 0.000133  \n",
      "Epoch: [37][10/19] Elapsed 0m 2s (remain 0m 1s) Loss: 0.2034(0.1740) Grad: 5.0493  LR: 0.000133  \n",
      "Epoch: [37][18/19] Elapsed 0m 3s (remain 0m 0s) Loss: 0.1710(0.1650) Grad: 5.4797  LR: 0.000133  \n"
     ]
    },
    {
     "name": "stderr",
     "output_type": "stream",
     "text": [
      "Epoch 37 - avg_train_loss: 0.1650  avg_val_loss: 0.3936  time: 4s\n",
      "Epoch 37 - Score: 0.3993\n"
     ]
    },
    {
     "name": "stdout",
     "output_type": "stream",
     "text": [
      "EVAL: [0/3] Elapsed 0m 0s (remain 0m 1s) Loss: 0.4200(0.4200) \n",
      "EVAL: [2/3] Elapsed 0m 0s (remain 0m 0s) Loss: 0.2446(0.3936) \n",
      "Epoch: [38][0/19] Elapsed 0m 0s (remain 0m 9s) Loss: 0.1942(0.1942) Grad: 5.3585  LR: 0.000057  \n",
      "Epoch: [38][10/19] Elapsed 0m 1s (remain 0m 1s) Loss: 0.1273(0.1500) Grad: 2.4138  LR: 0.000057  \n",
      "Epoch: [38][18/19] Elapsed 0m 2s (remain 0m 0s) Loss: 0.1715(0.1559) Grad: 3.8477  LR: 0.000057  \n"
     ]
    },
    {
     "name": "stderr",
     "output_type": "stream",
     "text": [
      "Epoch 38 - avg_train_loss: 0.1559  avg_val_loss: 0.3734  time: 4s\n",
      "Epoch 38 - Score: 0.3829\n",
      "Epoch 38 - Save Best Score: 0.3829 Model\n"
     ]
    },
    {
     "name": "stdout",
     "output_type": "stream",
     "text": [
      "EVAL: [0/3] Elapsed 0m 0s (remain 0m 1s) Loss: 0.4155(0.4155) \n",
      "EVAL: [2/3] Elapsed 0m 0s (remain 0m 0s) Loss: 0.1848(0.3734) \n",
      "Epoch: [39][0/19] Elapsed 0m 0s (remain 0m 11s) Loss: 0.1295(0.1295) Grad: 4.5923  LR: 0.000009  \n",
      "Epoch: [39][10/19] Elapsed 0m 1s (remain 0m 1s) Loss: 0.1543(0.1706) Grad: 2.8227  LR: 0.000009  \n",
      "Epoch: [39][18/19] Elapsed 0m 3s (remain 0m 0s) Loss: 0.0834(0.1626) Grad: 1.9753  LR: 0.000009  \n"
     ]
    },
    {
     "name": "stderr",
     "output_type": "stream",
     "text": [
      "Epoch 39 - avg_train_loss: 0.1626  avg_val_loss: 0.3988  time: 4s\n"
     ]
    },
    {
     "name": "stdout",
     "output_type": "stream",
     "text": [
      "EVAL: [0/3] Elapsed 0m 0s (remain 0m 1s) Loss: 0.4517(0.4517) \n",
      "EVAL: [2/3] Elapsed 0m 0s (remain 0m 0s) Loss: 0.1785(0.3988) \n"
     ]
    },
    {
     "name": "stderr",
     "output_type": "stream",
     "text": [
      "Epoch 39 - Score: 0.4111\n"
     ]
    },
    {
     "name": "stdout",
     "output_type": "stream",
     "text": [
      "Epoch: [40][0/19] Elapsed 0m 0s (remain 0m 9s) Loss: 0.1427(0.1427) Grad: 5.3994  LR: 0.000001  \n",
      "Epoch: [40][10/19] Elapsed 0m 1s (remain 0m 1s) Loss: 0.1175(0.1582) Grad: 2.7212  LR: 0.000001  \n",
      "Epoch: [40][18/19] Elapsed 0m 2s (remain 0m 0s) Loss: 0.1393(0.1489) Grad: 4.3970  LR: 0.000001  \n"
     ]
    },
    {
     "name": "stderr",
     "output_type": "stream",
     "text": [
      "Epoch 40 - avg_train_loss: 0.1489  avg_val_loss: 0.4038  time: 4s\n",
      "Epoch 40 - Score: 0.4155\n"
     ]
    },
    {
     "name": "stdout",
     "output_type": "stream",
     "text": [
      "EVAL: [0/3] Elapsed 0m 0s (remain 0m 1s) Loss: 0.4573(0.4573) \n",
      "EVAL: [2/3] Elapsed 0m 0s (remain 0m 0s) Loss: 0.1870(0.4038) \n"
     ]
    },
    {
     "name": "stderr",
     "output_type": "stream",
     "text": [
      "========== fold: 0 result ==========\n",
      "Score: 0.3829\n",
      "========== fold: 1 training ==========\n"
     ]
    },
    {
     "name": "stdout",
     "output_type": "stream",
     "text": [
      "Epoch: [1][0/19] Elapsed 0m 0s (remain 0m 10s) Loss: 3.2097(3.2097) Grad: 3.7123  LR: 0.000100  \n"
     ]
    }
   ],
   "source": [
    "if __name__ == '__main__':\n",
    "    main()"
   ]
  },
  {
   "cell_type": "code",
   "execution_count": null,
   "metadata": {},
   "outputs": [],
   "source": [
    "df.info()"
   ]
  },
  {
   "cell_type": "code",
   "execution_count": null,
   "metadata": {},
   "outputs": [],
   "source": [
    "import matplotlib.pyplot as plt\n",
    "import pandas as pd\n",
    "import numpy as np\n",
    "\n",
    "oof = pd.read_csv('./oof_df.csv')\n",
    "\n",
    "plt.scatter(oof['KIc'], oof['preds'])\n",
    "x = np.linspace(0,4,100)\n",
    "plt.plot(x, x,color='black')\n",
    "plt.xlabel(\"KIc\", fontsize=10)\n",
    "plt.ylabel(\"prediction\", fontsize=10, rotation=0)\n",
    "plt.show()"
   ]
  },
  {
   "cell_type": "code",
   "execution_count": null,
   "metadata": {},
   "outputs": [],
   "source": [
    "# plt.scatter(test['KIc'], test_predictions)\n",
    "# x = np.linspace(0,4,100)\n",
    "# plt.plot(x, x,color='black')\n",
    "# plt.xlabel(\"KIc\", fontsize=10)\n",
    "# plt.ylabel(\"prediction\", fontsize=10, rotation=0)\n",
    "# plt.show()"
   ]
  },
  {
   "cell_type": "code",
   "execution_count": null,
   "metadata": {},
   "outputs": [],
   "source": [
    "# from sklearn.metrics import mean_squared_error\n",
    "# loss = np.sqrt(mean_squared_error(test['KIc'], predictions))\n",
    "# loss"
   ]
  },
  {
   "cell_type": "code",
   "execution_count": null,
   "metadata": {},
   "outputs": [],
   "source": []
  },
  {
   "cell_type": "code",
   "execution_count": null,
   "metadata": {},
   "outputs": [],
   "source": []
  },
  {
   "cell_type": "code",
   "execution_count": null,
   "metadata": {},
   "outputs": [],
   "source": []
  },
  {
   "cell_type": "code",
   "execution_count": null,
   "metadata": {},
   "outputs": [],
   "source": []
  },
  {
   "cell_type": "code",
   "execution_count": null,
   "metadata": {},
   "outputs": [],
   "source": []
  },
  {
   "cell_type": "code",
   "execution_count": null,
   "metadata": {},
   "outputs": [],
   "source": []
  },
  {
   "cell_type": "code",
   "execution_count": null,
   "metadata": {},
   "outputs": [],
   "source": []
  },
  {
   "cell_type": "code",
   "execution_count": null,
   "metadata": {},
   "outputs": [],
   "source": []
  },
  {
   "cell_type": "code",
   "execution_count": null,
   "metadata": {},
   "outputs": [],
   "source": []
  },
  {
   "cell_type": "code",
   "execution_count": null,
   "metadata": {},
   "outputs": [],
   "source": []
  },
  {
   "cell_type": "code",
   "execution_count": null,
   "metadata": {},
   "outputs": [],
   "source": []
  },
  {
   "cell_type": "code",
   "execution_count": null,
   "metadata": {},
   "outputs": [],
   "source": []
  },
  {
   "cell_type": "code",
   "execution_count": null,
   "metadata": {},
   "outputs": [],
   "source": []
  },
  {
   "cell_type": "code",
   "execution_count": null,
   "metadata": {},
   "outputs": [],
   "source": []
  },
  {
   "cell_type": "code",
   "execution_count": null,
   "metadata": {},
   "outputs": [],
   "source": []
  },
  {
   "cell_type": "code",
   "execution_count": null,
   "metadata": {},
   "outputs": [],
   "source": []
  },
  {
   "cell_type": "code",
   "execution_count": null,
   "metadata": {},
   "outputs": [],
   "source": []
  },
  {
   "cell_type": "code",
   "execution_count": null,
   "metadata": {},
   "outputs": [],
   "source": []
  },
  {
   "cell_type": "code",
   "execution_count": null,
   "metadata": {},
   "outputs": [],
   "source": []
  },
  {
   "cell_type": "code",
   "execution_count": null,
   "metadata": {},
   "outputs": [],
   "source": []
  }
 ],
 "metadata": {
  "kernelspec": {
   "display_name": "Python 3 (ipykernel)",
   "language": "python",
   "name": "python3"
  },
  "language_info": {
   "codemirror_mode": {
    "name": "ipython",
    "version": 3
   },
   "file_extension": ".py",
   "mimetype": "text/x-python",
   "name": "python",
   "nbconvert_exporter": "python",
   "pygments_lexer": "ipython3",
   "version": "3.10.9"
  }
 },
 "nbformat": 4,
 "nbformat_minor": 4
}
